{
 "cells": [
  {
   "cell_type": "code",
   "execution_count": 10,
   "metadata": {},
   "outputs": [],
   "source": [
    "import pandas as pd\n",
    "import chardet\n",
    "import seaborn as sns\n",
    "import plotly.express as px\n",
    "\n",
    "import matplotlib.pyplot as plt"
   ]
  },
  {
   "cell_type": "code",
   "execution_count": 11,
   "metadata": {},
   "outputs": [
    {
     "data": {
      "text/plain": [
       "{'encoding': 'utf-8', 'confidence': 0.99, 'language': ''}"
      ]
     },
     "execution_count": 11,
     "metadata": {},
     "output_type": "execute_result"
    }
   ],
   "source": [
    "file_path = r\"Data\\Maritime data\\US_PortCalls_S_ST202209220924_v1.csv\"\n",
    "with open(file_path, 'rb') as rawdata:\n",
    "    result = chardet.detect(rawdata.read(100000))\n",
    "result"
   ]
  },
  {
   "cell_type": "code",
   "execution_count": 40,
   "metadata": {},
   "outputs": [
    {
     "data": {
      "text/html": [
       "<div>\n",
       "<style scoped>\n",
       "    .dataframe tbody tr th:only-of-type {\n",
       "        vertical-align: middle;\n",
       "    }\n",
       "\n",
       "    .dataframe tbody tr th {\n",
       "        vertical-align: top;\n",
       "    }\n",
       "\n",
       "    .dataframe thead th {\n",
       "        text-align: right;\n",
       "    }\n",
       "</style>\n",
       "<table border=\"1\" class=\"dataframe\">\n",
       "  <thead>\n",
       "    <tr style=\"text-align: right;\">\n",
       "      <th></th>\n",
       "      <th>Period Label</th>\n",
       "      <th>Year</th>\n",
       "      <th>Location</th>\n",
       "      <th>Vessel_Type</th>\n",
       "      <th>Median time in port (days)</th>\n",
       "      <th>Average age of vessels</th>\n",
       "      <th>Average size (GT) of vessels</th>\n",
       "      <th>Maximum size (GT) of vessels</th>\n",
       "      <th>Average cargo carrying capacity (dwt) per vessel</th>\n",
       "      <th>Maximum cargo carrying capacity (dwt) of vessels</th>\n",
       "      <th>Average container carrying capacity (TEU) per container ship</th>\n",
       "      <th>Maximum container carrying capacity (TEU) of container ships</th>\n",
       "    </tr>\n",
       "  </thead>\n",
       "  <tbody>\n",
       "    <tr>\n",
       "      <th>0</th>\n",
       "      <td>S1-2018</td>\n",
       "      <td>2018</td>\n",
       "      <td>World</td>\n",
       "      <td>All ships</td>\n",
       "      <td>0.9700</td>\n",
       "      <td>18</td>\n",
       "      <td>15222</td>\n",
       "      <td>234006</td>\n",
       "      <td>24074.0</td>\n",
       "      <td>441561.0</td>\n",
       "      <td>3526.0</td>\n",
       "      <td>21413.0</td>\n",
       "    </tr>\n",
       "    <tr>\n",
       "      <th>1</th>\n",
       "      <td>S1-2018</td>\n",
       "      <td>2018</td>\n",
       "      <td>World</td>\n",
       "      <td>Passenger ships</td>\n",
       "      <td>NaN</td>\n",
       "      <td>21</td>\n",
       "      <td>8978</td>\n",
       "      <td>228081</td>\n",
       "      <td>NaN</td>\n",
       "      <td>NaN</td>\n",
       "      <td>NaN</td>\n",
       "      <td>NaN</td>\n",
       "    </tr>\n",
       "    <tr>\n",
       "      <th>2</th>\n",
       "      <td>S1-2018</td>\n",
       "      <td>2018</td>\n",
       "      <td>World</td>\n",
       "      <td>Liquid bulk carriers</td>\n",
       "      <td>0.9400</td>\n",
       "      <td>13</td>\n",
       "      <td>15470</td>\n",
       "      <td>234006</td>\n",
       "      <td>26871.0</td>\n",
       "      <td>441561.0</td>\n",
       "      <td>NaN</td>\n",
       "      <td>NaN</td>\n",
       "    </tr>\n",
       "    <tr>\n",
       "      <th>3</th>\n",
       "      <td>S1-2018</td>\n",
       "      <td>2018</td>\n",
       "      <td>World</td>\n",
       "      <td>Container ships</td>\n",
       "      <td>0.6900</td>\n",
       "      <td>13</td>\n",
       "      <td>38405</td>\n",
       "      <td>217673</td>\n",
       "      <td>NaN</td>\n",
       "      <td>NaN</td>\n",
       "      <td>3526.0</td>\n",
       "      <td>21413.0</td>\n",
       "    </tr>\n",
       "    <tr>\n",
       "      <th>4</th>\n",
       "      <td>S1-2018</td>\n",
       "      <td>2018</td>\n",
       "      <td>World</td>\n",
       "      <td>Dry breakbulk carriers</td>\n",
       "      <td>1.1200</td>\n",
       "      <td>19</td>\n",
       "      <td>5455</td>\n",
       "      <td>91784</td>\n",
       "      <td>7413.0</td>\n",
       "      <td>138743.0</td>\n",
       "      <td>NaN</td>\n",
       "      <td>NaN</td>\n",
       "    </tr>\n",
       "    <tr>\n",
       "      <th>...</th>\n",
       "      <td>...</td>\n",
       "      <td>...</td>\n",
       "      <td>...</td>\n",
       "      <td>...</td>\n",
       "      <td>...</td>\n",
       "      <td>...</td>\n",
       "      <td>...</td>\n",
       "      <td>...</td>\n",
       "      <td>...</td>\n",
       "      <td>...</td>\n",
       "      <td>...</td>\n",
       "      <td>...</td>\n",
       "    </tr>\n",
       "    <tr>\n",
       "      <th>1628</th>\n",
       "      <td>S1-2022</td>\n",
       "      <td>2022</td>\n",
       "      <td>United Kingdom</td>\n",
       "      <td>Dry breakbulk carriers</td>\n",
       "      <td>1.5444</td>\n",
       "      <td>20</td>\n",
       "      <td>3566</td>\n",
       "      <td>48292</td>\n",
       "      <td>4962.0</td>\n",
       "      <td>72927.0</td>\n",
       "      <td>NaN</td>\n",
       "      <td>NaN</td>\n",
       "    </tr>\n",
       "    <tr>\n",
       "      <th>1629</th>\n",
       "      <td>S1-2022</td>\n",
       "      <td>2022</td>\n",
       "      <td>United Kingdom</td>\n",
       "      <td>Dry bulk carriers</td>\n",
       "      <td>2.8750</td>\n",
       "      <td>14</td>\n",
       "      <td>25873</td>\n",
       "      <td>107879</td>\n",
       "      <td>44257.0</td>\n",
       "      <td>208445.0</td>\n",
       "      <td>NaN</td>\n",
       "      <td>NaN</td>\n",
       "    </tr>\n",
       "    <tr>\n",
       "      <th>1630</th>\n",
       "      <td>S1-2022</td>\n",
       "      <td>2022</td>\n",
       "      <td>United Kingdom</td>\n",
       "      <td>Roll-on/ roll-off ships</td>\n",
       "      <td>NaN</td>\n",
       "      <td>15</td>\n",
       "      <td>24187</td>\n",
       "      <td>100430</td>\n",
       "      <td>9698.0</td>\n",
       "      <td>55828.0</td>\n",
       "      <td>NaN</td>\n",
       "      <td>NaN</td>\n",
       "    </tr>\n",
       "    <tr>\n",
       "      <th>1631</th>\n",
       "      <td>S1-2022</td>\n",
       "      <td>2022</td>\n",
       "      <td>United Kingdom</td>\n",
       "      <td>Liquefied petroleum gas carriers</td>\n",
       "      <td>1.1049</td>\n",
       "      <td>12</td>\n",
       "      <td>7012</td>\n",
       "      <td>47922</td>\n",
       "      <td>7626.0</td>\n",
       "      <td>53999.0</td>\n",
       "      <td>NaN</td>\n",
       "      <td>NaN</td>\n",
       "    </tr>\n",
       "    <tr>\n",
       "      <th>1632</th>\n",
       "      <td>S1-2022</td>\n",
       "      <td>2022</td>\n",
       "      <td>United Kingdom</td>\n",
       "      <td>Liquefied natural gas carriers</td>\n",
       "      <td>1.2215</td>\n",
       "      <td>8</td>\n",
       "      <td>94300</td>\n",
       "      <td>168189</td>\n",
       "      <td>76612.0</td>\n",
       "      <td>154940.0</td>\n",
       "      <td>NaN</td>\n",
       "      <td>NaN</td>\n",
       "    </tr>\n",
       "  </tbody>\n",
       "</table>\n",
       "<p>1633 rows × 12 columns</p>\n",
       "</div>"
      ],
      "text/plain": [
       "     Period Label  Year        Location                       Vessel_Type  \\\n",
       "0         S1-2018  2018           World                         All ships   \n",
       "1         S1-2018  2018           World                   Passenger ships   \n",
       "2         S1-2018  2018           World              Liquid bulk carriers   \n",
       "3         S1-2018  2018           World                   Container ships   \n",
       "4         S1-2018  2018           World            Dry breakbulk carriers   \n",
       "...           ...   ...             ...                               ...   \n",
       "1628      S1-2022  2022  United Kingdom            Dry breakbulk carriers   \n",
       "1629      S1-2022  2022  United Kingdom                 Dry bulk carriers   \n",
       "1630      S1-2022  2022  United Kingdom           Roll-on/ roll-off ships   \n",
       "1631      S1-2022  2022  United Kingdom  Liquefied petroleum gas carriers   \n",
       "1632      S1-2022  2022  United Kingdom    Liquefied natural gas carriers   \n",
       "\n",
       "      Median time in port (days)  Average age of vessels  \\\n",
       "0                         0.9700                      18   \n",
       "1                            NaN                      21   \n",
       "2                         0.9400                      13   \n",
       "3                         0.6900                      13   \n",
       "4                         1.1200                      19   \n",
       "...                          ...                     ...   \n",
       "1628                      1.5444                      20   \n",
       "1629                      2.8750                      14   \n",
       "1630                         NaN                      15   \n",
       "1631                      1.1049                      12   \n",
       "1632                      1.2215                       8   \n",
       "\n",
       "      Average size (GT) of vessels  Maximum size (GT) of vessels  \\\n",
       "0                            15222                        234006   \n",
       "1                             8978                        228081   \n",
       "2                            15470                        234006   \n",
       "3                            38405                        217673   \n",
       "4                             5455                         91784   \n",
       "...                            ...                           ...   \n",
       "1628                          3566                         48292   \n",
       "1629                         25873                        107879   \n",
       "1630                         24187                        100430   \n",
       "1631                          7012                         47922   \n",
       "1632                         94300                        168189   \n",
       "\n",
       "      Average cargo carrying capacity (dwt) per vessel  \\\n",
       "0                                              24074.0   \n",
       "1                                                  NaN   \n",
       "2                                              26871.0   \n",
       "3                                                  NaN   \n",
       "4                                               7413.0   \n",
       "...                                                ...   \n",
       "1628                                            4962.0   \n",
       "1629                                           44257.0   \n",
       "1630                                            9698.0   \n",
       "1631                                            7626.0   \n",
       "1632                                           76612.0   \n",
       "\n",
       "      Maximum cargo carrying capacity (dwt) of vessels  \\\n",
       "0                                             441561.0   \n",
       "1                                                  NaN   \n",
       "2                                             441561.0   \n",
       "3                                                  NaN   \n",
       "4                                             138743.0   \n",
       "...                                                ...   \n",
       "1628                                           72927.0   \n",
       "1629                                          208445.0   \n",
       "1630                                           55828.0   \n",
       "1631                                           53999.0   \n",
       "1632                                          154940.0   \n",
       "\n",
       "      Average container carrying capacity (TEU) per container ship  \\\n",
       "0                                                3526.0              \n",
       "1                                                   NaN              \n",
       "2                                                   NaN              \n",
       "3                                                3526.0              \n",
       "4                                                   NaN              \n",
       "...                                                 ...              \n",
       "1628                                                NaN              \n",
       "1629                                                NaN              \n",
       "1630                                                NaN              \n",
       "1631                                                NaN              \n",
       "1632                                                NaN              \n",
       "\n",
       "      Maximum container carrying capacity (TEU) of container ships  \n",
       "0                                               21413.0             \n",
       "1                                                   NaN             \n",
       "2                                                   NaN             \n",
       "3                                               21413.0             \n",
       "4                                                   NaN             \n",
       "...                                                 ...             \n",
       "1628                                                NaN             \n",
       "1629                                                NaN             \n",
       "1630                                                NaN             \n",
       "1631                                                NaN             \n",
       "1632                                                NaN             \n",
       "\n",
       "[1633 rows x 12 columns]"
      ]
     },
     "execution_count": 40,
     "metadata": {},
     "output_type": "execute_result"
    }
   ],
   "source": [
    "# Importing and Touching-up the Data\n",
    "\n",
    "df_ports = pd.read_csv(file_path,encoding='utf-8')\n",
    "df_ports['Period Label'] = df_ports['Period Label'].str.replace('   ','-')\n",
    "df_ports = df_ports.drop(columns=['Period', 'Frequency', 'Frequency Label', 'Economy', \n",
    "                                      'CommercialMarket', 'Median time in port (days) Footnote',\n",
    "                                      'Average age of vessels Footnote', 'Average size (GT) of vessels Footnote',\n",
    "                                      'Maximum size (GT) of vessels Footnote', 'Average cargo carrying capacity (dwt) per vessel Footnote',\n",
    "                                      'Maximum cargo carrying capacity (dwt) of vessels Footnote','Average container carrying capacity (TEU) per container ship Footnote',\n",
    "                                      'Maximum container carrying capacity (TEU) of container ships Footnote'])\n",
    "df_ports.rename(columns = {'Economy Label': 'Location', 'CommercialMarket Label': 'Vessel_Type', }, inplace=True)\n",
    "df_ports"
   ]
  },
  {
   "cell_type": "code",
   "execution_count": 41,
   "metadata": {},
   "outputs": [
    {
     "data": {
      "text/html": [
       "<div>\n",
       "<style scoped>\n",
       "    .dataframe tbody tr th:only-of-type {\n",
       "        vertical-align: middle;\n",
       "    }\n",
       "\n",
       "    .dataframe tbody tr th {\n",
       "        vertical-align: top;\n",
       "    }\n",
       "\n",
       "    .dataframe thead th {\n",
       "        text-align: right;\n",
       "    }\n",
       "</style>\n",
       "<table border=\"1\" class=\"dataframe\">\n",
       "  <thead>\n",
       "    <tr style=\"text-align: right;\">\n",
       "      <th></th>\n",
       "      <th>Period Label</th>\n",
       "      <th>Year</th>\n",
       "      <th>Location</th>\n",
       "      <th>Vessel_Type</th>\n",
       "      <th>Median time in port (days)</th>\n",
       "      <th>Average age of vessels</th>\n",
       "      <th>Average size (GT) of vessels</th>\n",
       "      <th>Maximum size (GT) of vessels</th>\n",
       "      <th>Average cargo carrying capacity (dwt) per vessel</th>\n",
       "      <th>Maximum cargo carrying capacity (dwt) of vessels</th>\n",
       "      <th>Average container carrying capacity (TEU) per container ship</th>\n",
       "      <th>Maximum container carrying capacity (TEU) of container ships</th>\n",
       "    </tr>\n",
       "  </thead>\n",
       "  <tbody>\n",
       "    <tr>\n",
       "      <th>0</th>\n",
       "      <td>S1-2018</td>\n",
       "      <td>2018</td>\n",
       "      <td>World</td>\n",
       "      <td>All ships</td>\n",
       "      <td>0.9700</td>\n",
       "      <td>18</td>\n",
       "      <td>15222</td>\n",
       "      <td>234006</td>\n",
       "      <td>24074.0</td>\n",
       "      <td>441561.0</td>\n",
       "      <td>3526.0</td>\n",
       "      <td>21413.0</td>\n",
       "    </tr>\n",
       "    <tr>\n",
       "      <th>1</th>\n",
       "      <td>S1-2018</td>\n",
       "      <td>2018</td>\n",
       "      <td>World</td>\n",
       "      <td>Passenger ships</td>\n",
       "      <td>NaN</td>\n",
       "      <td>21</td>\n",
       "      <td>8978</td>\n",
       "      <td>228081</td>\n",
       "      <td>NaN</td>\n",
       "      <td>NaN</td>\n",
       "      <td>NaN</td>\n",
       "      <td>NaN</td>\n",
       "    </tr>\n",
       "    <tr>\n",
       "      <th>2</th>\n",
       "      <td>S1-2018</td>\n",
       "      <td>2018</td>\n",
       "      <td>World</td>\n",
       "      <td>Liquid bulk carriers</td>\n",
       "      <td>0.9400</td>\n",
       "      <td>13</td>\n",
       "      <td>15470</td>\n",
       "      <td>234006</td>\n",
       "      <td>26871.0</td>\n",
       "      <td>441561.0</td>\n",
       "      <td>NaN</td>\n",
       "      <td>NaN</td>\n",
       "    </tr>\n",
       "    <tr>\n",
       "      <th>3</th>\n",
       "      <td>S1-2018</td>\n",
       "      <td>2018</td>\n",
       "      <td>World</td>\n",
       "      <td>Container ships</td>\n",
       "      <td>0.6900</td>\n",
       "      <td>13</td>\n",
       "      <td>38405</td>\n",
       "      <td>217673</td>\n",
       "      <td>NaN</td>\n",
       "      <td>NaN</td>\n",
       "      <td>3526.0</td>\n",
       "      <td>21413.0</td>\n",
       "    </tr>\n",
       "    <tr>\n",
       "      <th>4</th>\n",
       "      <td>S1-2018</td>\n",
       "      <td>2018</td>\n",
       "      <td>World</td>\n",
       "      <td>Dry breakbulk carriers</td>\n",
       "      <td>1.1200</td>\n",
       "      <td>19</td>\n",
       "      <td>5455</td>\n",
       "      <td>91784</td>\n",
       "      <td>7413.0</td>\n",
       "      <td>138743.0</td>\n",
       "      <td>NaN</td>\n",
       "      <td>NaN</td>\n",
       "    </tr>\n",
       "    <tr>\n",
       "      <th>...</th>\n",
       "      <td>...</td>\n",
       "      <td>...</td>\n",
       "      <td>...</td>\n",
       "      <td>...</td>\n",
       "      <td>...</td>\n",
       "      <td>...</td>\n",
       "      <td>...</td>\n",
       "      <td>...</td>\n",
       "      <td>...</td>\n",
       "      <td>...</td>\n",
       "      <td>...</td>\n",
       "      <td>...</td>\n",
       "    </tr>\n",
       "    <tr>\n",
       "      <th>1628</th>\n",
       "      <td>S1-2022</td>\n",
       "      <td>2022</td>\n",
       "      <td>United Kingdom</td>\n",
       "      <td>Dry breakbulk carriers</td>\n",
       "      <td>1.5444</td>\n",
       "      <td>20</td>\n",
       "      <td>3566</td>\n",
       "      <td>48292</td>\n",
       "      <td>4962.0</td>\n",
       "      <td>72927.0</td>\n",
       "      <td>NaN</td>\n",
       "      <td>NaN</td>\n",
       "    </tr>\n",
       "    <tr>\n",
       "      <th>1629</th>\n",
       "      <td>S1-2022</td>\n",
       "      <td>2022</td>\n",
       "      <td>United Kingdom</td>\n",
       "      <td>Dry bulk carriers</td>\n",
       "      <td>2.8750</td>\n",
       "      <td>14</td>\n",
       "      <td>25873</td>\n",
       "      <td>107879</td>\n",
       "      <td>44257.0</td>\n",
       "      <td>208445.0</td>\n",
       "      <td>NaN</td>\n",
       "      <td>NaN</td>\n",
       "    </tr>\n",
       "    <tr>\n",
       "      <th>1630</th>\n",
       "      <td>S1-2022</td>\n",
       "      <td>2022</td>\n",
       "      <td>United Kingdom</td>\n",
       "      <td>Roll-on/ roll-off ships</td>\n",
       "      <td>NaN</td>\n",
       "      <td>15</td>\n",
       "      <td>24187</td>\n",
       "      <td>100430</td>\n",
       "      <td>9698.0</td>\n",
       "      <td>55828.0</td>\n",
       "      <td>NaN</td>\n",
       "      <td>NaN</td>\n",
       "    </tr>\n",
       "    <tr>\n",
       "      <th>1631</th>\n",
       "      <td>S1-2022</td>\n",
       "      <td>2022</td>\n",
       "      <td>United Kingdom</td>\n",
       "      <td>Liquefied petroleum gas carriers</td>\n",
       "      <td>1.1049</td>\n",
       "      <td>12</td>\n",
       "      <td>7012</td>\n",
       "      <td>47922</td>\n",
       "      <td>7626.0</td>\n",
       "      <td>53999.0</td>\n",
       "      <td>NaN</td>\n",
       "      <td>NaN</td>\n",
       "    </tr>\n",
       "    <tr>\n",
       "      <th>1632</th>\n",
       "      <td>S1-2022</td>\n",
       "      <td>2022</td>\n",
       "      <td>United Kingdom</td>\n",
       "      <td>Liquefied natural gas carriers</td>\n",
       "      <td>1.2215</td>\n",
       "      <td>8</td>\n",
       "      <td>94300</td>\n",
       "      <td>168189</td>\n",
       "      <td>76612.0</td>\n",
       "      <td>154940.0</td>\n",
       "      <td>NaN</td>\n",
       "      <td>NaN</td>\n",
       "    </tr>\n",
       "  </tbody>\n",
       "</table>\n",
       "<p>1633 rows × 12 columns</p>\n",
       "</div>"
      ],
      "text/plain": [
       "     Period Label  Year        Location                       Vessel_Type  \\\n",
       "0         S1-2018  2018           World                         All ships   \n",
       "1         S1-2018  2018           World                   Passenger ships   \n",
       "2         S1-2018  2018           World              Liquid bulk carriers   \n",
       "3         S1-2018  2018           World                   Container ships   \n",
       "4         S1-2018  2018           World            Dry breakbulk carriers   \n",
       "...           ...   ...             ...                               ...   \n",
       "1628      S1-2022  2022  United Kingdom            Dry breakbulk carriers   \n",
       "1629      S1-2022  2022  United Kingdom                 Dry bulk carriers   \n",
       "1630      S1-2022  2022  United Kingdom           Roll-on/ roll-off ships   \n",
       "1631      S1-2022  2022  United Kingdom  Liquefied petroleum gas carriers   \n",
       "1632      S1-2022  2022  United Kingdom    Liquefied natural gas carriers   \n",
       "\n",
       "      Median time in port (days)  Average age of vessels  \\\n",
       "0                         0.9700                      18   \n",
       "1                            NaN                      21   \n",
       "2                         0.9400                      13   \n",
       "3                         0.6900                      13   \n",
       "4                         1.1200                      19   \n",
       "...                          ...                     ...   \n",
       "1628                      1.5444                      20   \n",
       "1629                      2.8750                      14   \n",
       "1630                         NaN                      15   \n",
       "1631                      1.1049                      12   \n",
       "1632                      1.2215                       8   \n",
       "\n",
       "      Average size (GT) of vessels  Maximum size (GT) of vessels  \\\n",
       "0                            15222                        234006   \n",
       "1                             8978                        228081   \n",
       "2                            15470                        234006   \n",
       "3                            38405                        217673   \n",
       "4                             5455                         91784   \n",
       "...                            ...                           ...   \n",
       "1628                          3566                         48292   \n",
       "1629                         25873                        107879   \n",
       "1630                         24187                        100430   \n",
       "1631                          7012                         47922   \n",
       "1632                         94300                        168189   \n",
       "\n",
       "      Average cargo carrying capacity (dwt) per vessel  \\\n",
       "0                                              24074.0   \n",
       "1                                                  NaN   \n",
       "2                                              26871.0   \n",
       "3                                                  NaN   \n",
       "4                                               7413.0   \n",
       "...                                                ...   \n",
       "1628                                            4962.0   \n",
       "1629                                           44257.0   \n",
       "1630                                            9698.0   \n",
       "1631                                            7626.0   \n",
       "1632                                           76612.0   \n",
       "\n",
       "      Maximum cargo carrying capacity (dwt) of vessels  \\\n",
       "0                                             441561.0   \n",
       "1                                                  NaN   \n",
       "2                                             441561.0   \n",
       "3                                                  NaN   \n",
       "4                                             138743.0   \n",
       "...                                                ...   \n",
       "1628                                           72927.0   \n",
       "1629                                          208445.0   \n",
       "1630                                           55828.0   \n",
       "1631                                           53999.0   \n",
       "1632                                          154940.0   \n",
       "\n",
       "      Average container carrying capacity (TEU) per container ship  \\\n",
       "0                                                3526.0              \n",
       "1                                                   NaN              \n",
       "2                                                   NaN              \n",
       "3                                                3526.0              \n",
       "4                                                   NaN              \n",
       "...                                                 ...              \n",
       "1628                                                NaN              \n",
       "1629                                                NaN              \n",
       "1630                                                NaN              \n",
       "1631                                                NaN              \n",
       "1632                                                NaN              \n",
       "\n",
       "      Maximum container carrying capacity (TEU) of container ships  \n",
       "0                                               21413.0             \n",
       "1                                                   NaN             \n",
       "2                                                   NaN             \n",
       "3                                               21413.0             \n",
       "4                                                   NaN             \n",
       "...                                                 ...             \n",
       "1628                                                NaN             \n",
       "1629                                                NaN             \n",
       "1630                                                NaN             \n",
       "1631                                                NaN             \n",
       "1632                                                NaN             \n",
       "\n",
       "[1633 rows x 12 columns]"
      ]
     },
     "execution_count": 41,
     "metadata": {},
     "output_type": "execute_result"
    }
   ],
   "source": [
    "df_ports\n"
   ]
  },
  {
   "cell_type": "code",
   "execution_count": 42,
   "metadata": {},
   "outputs": [
    {
     "data": {
      "text/plain": [
       "dict_keys(['Australia', 'Canada', 'China', 'Croatia', 'Denmark', 'France', 'Germany', 'Greece', 'Indonesia', 'Italy', 'Japan', 'Korea, Republic of', 'Netherlands', 'Norway', 'Russian Federation', 'Spain', 'Sweden', 'Türkiye', 'United Kingdom', 'United States of America', 'World'])"
      ]
     },
     "execution_count": 42,
     "metadata": {},
     "output_type": "execute_result"
    }
   ],
   "source": [
    "df_port_world = df_ports.groupby('Location')\n",
    "df_port_world.groups.keys()\n",
    "\n"
   ]
  },
  {
   "cell_type": "code",
   "execution_count": 45,
   "metadata": {},
   "outputs": [
    {
     "data": {
      "application/vnd.plotly.v1+json": {
       "config": {
        "plotlyServerURL": "https://plot.ly"
       },
       "data": [
        {
         "hovertemplate": "Period Label=%{x}<br>Median time in port (days)=%{y}<extra></extra>",
         "legendgroup": "",
         "line": {
          "color": "#636efa",
          "dash": "solid"
         },
         "marker": {
          "symbol": "circle"
         },
         "mode": "lines+markers",
         "name": "",
         "orientation": "v",
         "showlegend": false,
         "type": "scatter",
         "x": [
          "S1-2018",
          "S2-2018",
          "S1-2019",
          "S2-2019",
          "S1-2020",
          "S2-2020",
          "S1-2021",
          "S2-2021",
          "S1-2022"
         ],
         "xaxis": "x",
         "y": [
          0.56,
          0.57,
          0.566,
          0.5799,
          0.5889,
          0.5701,
          0.6104,
          0.6257,
          0.641
         ],
         "yaxis": "y"
        }
       ],
       "layout": {
        "legend": {
         "tracegroupgap": 0
        },
        "margin": {
         "t": 60
        },
        "template": {
         "data": {
          "bar": [
           {
            "error_x": {
             "color": "#2a3f5f"
            },
            "error_y": {
             "color": "#2a3f5f"
            },
            "marker": {
             "line": {
              "color": "#E5ECF6",
              "width": 0.5
             },
             "pattern": {
              "fillmode": "overlay",
              "size": 10,
              "solidity": 0.2
             }
            },
            "type": "bar"
           }
          ],
          "barpolar": [
           {
            "marker": {
             "line": {
              "color": "#E5ECF6",
              "width": 0.5
             },
             "pattern": {
              "fillmode": "overlay",
              "size": 10,
              "solidity": 0.2
             }
            },
            "type": "barpolar"
           }
          ],
          "carpet": [
           {
            "aaxis": {
             "endlinecolor": "#2a3f5f",
             "gridcolor": "white",
             "linecolor": "white",
             "minorgridcolor": "white",
             "startlinecolor": "#2a3f5f"
            },
            "baxis": {
             "endlinecolor": "#2a3f5f",
             "gridcolor": "white",
             "linecolor": "white",
             "minorgridcolor": "white",
             "startlinecolor": "#2a3f5f"
            },
            "type": "carpet"
           }
          ],
          "choropleth": [
           {
            "colorbar": {
             "outlinewidth": 0,
             "ticks": ""
            },
            "type": "choropleth"
           }
          ],
          "contour": [
           {
            "colorbar": {
             "outlinewidth": 0,
             "ticks": ""
            },
            "colorscale": [
             [
              0,
              "#0d0887"
             ],
             [
              0.1111111111111111,
              "#46039f"
             ],
             [
              0.2222222222222222,
              "#7201a8"
             ],
             [
              0.3333333333333333,
              "#9c179e"
             ],
             [
              0.4444444444444444,
              "#bd3786"
             ],
             [
              0.5555555555555556,
              "#d8576b"
             ],
             [
              0.6666666666666666,
              "#ed7953"
             ],
             [
              0.7777777777777778,
              "#fb9f3a"
             ],
             [
              0.8888888888888888,
              "#fdca26"
             ],
             [
              1,
              "#f0f921"
             ]
            ],
            "type": "contour"
           }
          ],
          "contourcarpet": [
           {
            "colorbar": {
             "outlinewidth": 0,
             "ticks": ""
            },
            "type": "contourcarpet"
           }
          ],
          "heatmap": [
           {
            "colorbar": {
             "outlinewidth": 0,
             "ticks": ""
            },
            "colorscale": [
             [
              0,
              "#0d0887"
             ],
             [
              0.1111111111111111,
              "#46039f"
             ],
             [
              0.2222222222222222,
              "#7201a8"
             ],
             [
              0.3333333333333333,
              "#9c179e"
             ],
             [
              0.4444444444444444,
              "#bd3786"
             ],
             [
              0.5555555555555556,
              "#d8576b"
             ],
             [
              0.6666666666666666,
              "#ed7953"
             ],
             [
              0.7777777777777778,
              "#fb9f3a"
             ],
             [
              0.8888888888888888,
              "#fdca26"
             ],
             [
              1,
              "#f0f921"
             ]
            ],
            "type": "heatmap"
           }
          ],
          "heatmapgl": [
           {
            "colorbar": {
             "outlinewidth": 0,
             "ticks": ""
            },
            "colorscale": [
             [
              0,
              "#0d0887"
             ],
             [
              0.1111111111111111,
              "#46039f"
             ],
             [
              0.2222222222222222,
              "#7201a8"
             ],
             [
              0.3333333333333333,
              "#9c179e"
             ],
             [
              0.4444444444444444,
              "#bd3786"
             ],
             [
              0.5555555555555556,
              "#d8576b"
             ],
             [
              0.6666666666666666,
              "#ed7953"
             ],
             [
              0.7777777777777778,
              "#fb9f3a"
             ],
             [
              0.8888888888888888,
              "#fdca26"
             ],
             [
              1,
              "#f0f921"
             ]
            ],
            "type": "heatmapgl"
           }
          ],
          "histogram": [
           {
            "marker": {
             "pattern": {
              "fillmode": "overlay",
              "size": 10,
              "solidity": 0.2
             }
            },
            "type": "histogram"
           }
          ],
          "histogram2d": [
           {
            "colorbar": {
             "outlinewidth": 0,
             "ticks": ""
            },
            "colorscale": [
             [
              0,
              "#0d0887"
             ],
             [
              0.1111111111111111,
              "#46039f"
             ],
             [
              0.2222222222222222,
              "#7201a8"
             ],
             [
              0.3333333333333333,
              "#9c179e"
             ],
             [
              0.4444444444444444,
              "#bd3786"
             ],
             [
              0.5555555555555556,
              "#d8576b"
             ],
             [
              0.6666666666666666,
              "#ed7953"
             ],
             [
              0.7777777777777778,
              "#fb9f3a"
             ],
             [
              0.8888888888888888,
              "#fdca26"
             ],
             [
              1,
              "#f0f921"
             ]
            ],
            "type": "histogram2d"
           }
          ],
          "histogram2dcontour": [
           {
            "colorbar": {
             "outlinewidth": 0,
             "ticks": ""
            },
            "colorscale": [
             [
              0,
              "#0d0887"
             ],
             [
              0.1111111111111111,
              "#46039f"
             ],
             [
              0.2222222222222222,
              "#7201a8"
             ],
             [
              0.3333333333333333,
              "#9c179e"
             ],
             [
              0.4444444444444444,
              "#bd3786"
             ],
             [
              0.5555555555555556,
              "#d8576b"
             ],
             [
              0.6666666666666666,
              "#ed7953"
             ],
             [
              0.7777777777777778,
              "#fb9f3a"
             ],
             [
              0.8888888888888888,
              "#fdca26"
             ],
             [
              1,
              "#f0f921"
             ]
            ],
            "type": "histogram2dcontour"
           }
          ],
          "mesh3d": [
           {
            "colorbar": {
             "outlinewidth": 0,
             "ticks": ""
            },
            "type": "mesh3d"
           }
          ],
          "parcoords": [
           {
            "line": {
             "colorbar": {
              "outlinewidth": 0,
              "ticks": ""
             }
            },
            "type": "parcoords"
           }
          ],
          "pie": [
           {
            "automargin": true,
            "type": "pie"
           }
          ],
          "scatter": [
           {
            "fillpattern": {
             "fillmode": "overlay",
             "size": 10,
             "solidity": 0.2
            },
            "type": "scatter"
           }
          ],
          "scatter3d": [
           {
            "line": {
             "colorbar": {
              "outlinewidth": 0,
              "ticks": ""
             }
            },
            "marker": {
             "colorbar": {
              "outlinewidth": 0,
              "ticks": ""
             }
            },
            "type": "scatter3d"
           }
          ],
          "scattercarpet": [
           {
            "marker": {
             "colorbar": {
              "outlinewidth": 0,
              "ticks": ""
             }
            },
            "type": "scattercarpet"
           }
          ],
          "scattergeo": [
           {
            "marker": {
             "colorbar": {
              "outlinewidth": 0,
              "ticks": ""
             }
            },
            "type": "scattergeo"
           }
          ],
          "scattergl": [
           {
            "marker": {
             "colorbar": {
              "outlinewidth": 0,
              "ticks": ""
             }
            },
            "type": "scattergl"
           }
          ],
          "scattermapbox": [
           {
            "marker": {
             "colorbar": {
              "outlinewidth": 0,
              "ticks": ""
             }
            },
            "type": "scattermapbox"
           }
          ],
          "scatterpolar": [
           {
            "marker": {
             "colorbar": {
              "outlinewidth": 0,
              "ticks": ""
             }
            },
            "type": "scatterpolar"
           }
          ],
          "scatterpolargl": [
           {
            "marker": {
             "colorbar": {
              "outlinewidth": 0,
              "ticks": ""
             }
            },
            "type": "scatterpolargl"
           }
          ],
          "scatterternary": [
           {
            "marker": {
             "colorbar": {
              "outlinewidth": 0,
              "ticks": ""
             }
            },
            "type": "scatterternary"
           }
          ],
          "surface": [
           {
            "colorbar": {
             "outlinewidth": 0,
             "ticks": ""
            },
            "colorscale": [
             [
              0,
              "#0d0887"
             ],
             [
              0.1111111111111111,
              "#46039f"
             ],
             [
              0.2222222222222222,
              "#7201a8"
             ],
             [
              0.3333333333333333,
              "#9c179e"
             ],
             [
              0.4444444444444444,
              "#bd3786"
             ],
             [
              0.5555555555555556,
              "#d8576b"
             ],
             [
              0.6666666666666666,
              "#ed7953"
             ],
             [
              0.7777777777777778,
              "#fb9f3a"
             ],
             [
              0.8888888888888888,
              "#fdca26"
             ],
             [
              1,
              "#f0f921"
             ]
            ],
            "type": "surface"
           }
          ],
          "table": [
           {
            "cells": {
             "fill": {
              "color": "#EBF0F8"
             },
             "line": {
              "color": "white"
             }
            },
            "header": {
             "fill": {
              "color": "#C8D4E3"
             },
             "line": {
              "color": "white"
             }
            },
            "type": "table"
           }
          ]
         },
         "layout": {
          "annotationdefaults": {
           "arrowcolor": "#2a3f5f",
           "arrowhead": 0,
           "arrowwidth": 1
          },
          "autotypenumbers": "strict",
          "coloraxis": {
           "colorbar": {
            "outlinewidth": 0,
            "ticks": ""
           }
          },
          "colorscale": {
           "diverging": [
            [
             0,
             "#8e0152"
            ],
            [
             0.1,
             "#c51b7d"
            ],
            [
             0.2,
             "#de77ae"
            ],
            [
             0.3,
             "#f1b6da"
            ],
            [
             0.4,
             "#fde0ef"
            ],
            [
             0.5,
             "#f7f7f7"
            ],
            [
             0.6,
             "#e6f5d0"
            ],
            [
             0.7,
             "#b8e186"
            ],
            [
             0.8,
             "#7fbc41"
            ],
            [
             0.9,
             "#4d9221"
            ],
            [
             1,
             "#276419"
            ]
           ],
           "sequential": [
            [
             0,
             "#0d0887"
            ],
            [
             0.1111111111111111,
             "#46039f"
            ],
            [
             0.2222222222222222,
             "#7201a8"
            ],
            [
             0.3333333333333333,
             "#9c179e"
            ],
            [
             0.4444444444444444,
             "#bd3786"
            ],
            [
             0.5555555555555556,
             "#d8576b"
            ],
            [
             0.6666666666666666,
             "#ed7953"
            ],
            [
             0.7777777777777778,
             "#fb9f3a"
            ],
            [
             0.8888888888888888,
             "#fdca26"
            ],
            [
             1,
             "#f0f921"
            ]
           ],
           "sequentialminus": [
            [
             0,
             "#0d0887"
            ],
            [
             0.1111111111111111,
             "#46039f"
            ],
            [
             0.2222222222222222,
             "#7201a8"
            ],
            [
             0.3333333333333333,
             "#9c179e"
            ],
            [
             0.4444444444444444,
             "#bd3786"
            ],
            [
             0.5555555555555556,
             "#d8576b"
            ],
            [
             0.6666666666666666,
             "#ed7953"
            ],
            [
             0.7777777777777778,
             "#fb9f3a"
            ],
            [
             0.8888888888888888,
             "#fdca26"
            ],
            [
             1,
             "#f0f921"
            ]
           ]
          },
          "colorway": [
           "#636efa",
           "#EF553B",
           "#00cc96",
           "#ab63fa",
           "#FFA15A",
           "#19d3f3",
           "#FF6692",
           "#B6E880",
           "#FF97FF",
           "#FECB52"
          ],
          "font": {
           "color": "#2a3f5f"
          },
          "geo": {
           "bgcolor": "white",
           "lakecolor": "white",
           "landcolor": "#E5ECF6",
           "showlakes": true,
           "showland": true,
           "subunitcolor": "white"
          },
          "hoverlabel": {
           "align": "left"
          },
          "hovermode": "closest",
          "mapbox": {
           "style": "light"
          },
          "paper_bgcolor": "white",
          "plot_bgcolor": "#E5ECF6",
          "polar": {
           "angularaxis": {
            "gridcolor": "white",
            "linecolor": "white",
            "ticks": ""
           },
           "bgcolor": "#E5ECF6",
           "radialaxis": {
            "gridcolor": "white",
            "linecolor": "white",
            "ticks": ""
           }
          },
          "scene": {
           "xaxis": {
            "backgroundcolor": "#E5ECF6",
            "gridcolor": "white",
            "gridwidth": 2,
            "linecolor": "white",
            "showbackground": true,
            "ticks": "",
            "zerolinecolor": "white"
           },
           "yaxis": {
            "backgroundcolor": "#E5ECF6",
            "gridcolor": "white",
            "gridwidth": 2,
            "linecolor": "white",
            "showbackground": true,
            "ticks": "",
            "zerolinecolor": "white"
           },
           "zaxis": {
            "backgroundcolor": "#E5ECF6",
            "gridcolor": "white",
            "gridwidth": 2,
            "linecolor": "white",
            "showbackground": true,
            "ticks": "",
            "zerolinecolor": "white"
           }
          },
          "shapedefaults": {
           "line": {
            "color": "#2a3f5f"
           }
          },
          "ternary": {
           "aaxis": {
            "gridcolor": "white",
            "linecolor": "white",
            "ticks": ""
           },
           "baxis": {
            "gridcolor": "white",
            "linecolor": "white",
            "ticks": ""
           },
           "bgcolor": "#E5ECF6",
           "caxis": {
            "gridcolor": "white",
            "linecolor": "white",
            "ticks": ""
           }
          },
          "title": {
           "x": 0.05
          },
          "xaxis": {
           "automargin": true,
           "gridcolor": "white",
           "linecolor": "white",
           "ticks": "",
           "title": {
            "standoff": 15
           },
           "zerolinecolor": "white",
           "zerolinewidth": 2
          },
          "yaxis": {
           "automargin": true,
           "gridcolor": "white",
           "linecolor": "white",
           "ticks": "",
           "title": {
            "standoff": 15
           },
           "zerolinecolor": "white",
           "zerolinewidth": 2
          }
         }
        },
        "xaxis": {
         "anchor": "y",
         "domain": [
          0,
          1
         ],
         "title": {
          "text": "Period Label"
         }
        },
        "yaxis": {
         "anchor": "x",
         "domain": [
          0,
          1
         ],
         "title": {
          "text": "Median time in port (days)"
         }
        }
       }
      }
     },
     "metadata": {},
     "output_type": "display_data"
    }
   ],
   "source": [
    "df_ports_new=df_ports[\n",
    "    (df_ports.Location == 'Netherlands') & (df_ports.Vessel_Type =='All ships')\n",
    "]\n",
    "fig = px.line(df_ports_new, y='Median time in port (days)', x='Period Label',markers=True)\n",
    "              \n",
    "fig.show()\n"
   ]
  },
  {
   "cell_type": "code",
   "execution_count": null,
   "metadata": {},
   "outputs": [],
   "source": []
  },
  {
   "cell_type": "code",
   "execution_count": 15,
   "metadata": {},
   "outputs": [
    {
     "data": {
      "application/vnd.plotly.v1+json": {
       "config": {
        "plotlyServerURL": "https://plot.ly"
       },
       "data": [
        {
         "hovertemplate": "Location=World<br>Period Label=%{x}<br>Median time in port (days)=%{y}<extra></extra>",
         "legendgroup": "World",
         "line": {
          "color": "#636efa",
          "dash": "solid"
         },
         "marker": {
          "symbol": "circle"
         },
         "mode": "lines+markers",
         "name": "World",
         "showlegend": true,
         "type": "scattergl",
         "x": [
          "S1-2018",
          "S1-2018",
          "S1-2018",
          "S1-2018",
          "S1-2018",
          "S1-2018",
          "S1-2018",
          "S1-2018",
          "S1-2018",
          "S2-2018",
          "S2-2018",
          "S2-2018",
          "S2-2018",
          "S2-2018",
          "S2-2018",
          "S2-2018",
          "S2-2018",
          "S2-2018",
          "S1-2019",
          "S1-2019",
          "S1-2019",
          "S1-2019",
          "S1-2019",
          "S1-2019",
          "S1-2019",
          "S1-2019",
          "S1-2019",
          "S2-2019",
          "S2-2019",
          "S2-2019",
          "S2-2019",
          "S2-2019",
          "S2-2019",
          "S2-2019",
          "S2-2019",
          "S2-2019",
          "S1-2020",
          "S1-2020",
          "S1-2020",
          "S1-2020",
          "S1-2020",
          "S1-2020",
          "S1-2020",
          "S1-2020",
          "S1-2020",
          "S2-2020",
          "S2-2020",
          "S2-2020",
          "S2-2020",
          "S2-2020",
          "S2-2020",
          "S2-2020",
          "S2-2020",
          "S2-2020",
          "S1-2021",
          "S1-2021",
          "S1-2021",
          "S1-2021",
          "S1-2021",
          "S1-2021",
          "S1-2021",
          "S1-2021",
          "S1-2021",
          "S2-2021",
          "S2-2021",
          "S2-2021",
          "S2-2021",
          "S2-2021",
          "S2-2021",
          "S2-2021",
          "S2-2021",
          "S2-2021",
          "S1-2022",
          "S1-2022",
          "S1-2022",
          "S1-2022",
          "S1-2022",
          "S1-2022",
          "S1-2022",
          "S1-2022",
          "S1-2022"
         ],
         "xaxis": "x",
         "y": [
          0.97,
          null,
          0.94,
          0.69,
          1.12,
          2.1,
          null,
          1,
          1.11,
          0.97,
          null,
          0.94,
          0.71,
          1.1,
          2,
          null,
          1.03,
          1.12,
          0.9646,
          null,
          0.9306,
          0.6931,
          1.1028,
          2.0104,
          null,
          1.0229,
          1.1069,
          0.9667,
          null,
          0.9389,
          0.691,
          1.1014,
          2.0014,
          null,
          1.0063,
          1.109,
          0.9944,
          null,
          0.9701,
          0.6861,
          1.1757,
          2.0868,
          null,
          1.0389,
          1.1111,
          1.0021,
          null,
          0.966,
          0.7257,
          1.1278,
          2.0465,
          null,
          1.0444,
          1.1281,
          1.041,
          null,
          0.984,
          0.775,
          1.1896,
          2.1299,
          null,
          1.0306,
          1.1285,
          1.0507,
          null,
          0.9771,
          0.8306,
          1.1583,
          2.0826,
          null,
          1.0229,
          1.1313,
          1.0694,
          null,
          0.9958,
          0.8382,
          1.1938,
          2.2306,
          null,
          1.0292,
          1.1174
         ],
         "yaxis": "y"
        },
        {
         "hovertemplate": "Location=Australia<br>Period Label=%{x}<br>Median time in port (days)=%{y}<extra></extra>",
         "legendgroup": "Australia",
         "line": {
          "color": "#EF553B",
          "dash": "solid"
         },
         "marker": {
          "symbol": "circle"
         },
         "mode": "lines+markers",
         "name": "Australia",
         "showlegend": true,
         "type": "scattergl",
         "x": [
          "S1-2018",
          "S1-2018",
          "S1-2018",
          "S1-2018",
          "S1-2018",
          "S1-2018",
          "S1-2018",
          "S1-2018",
          "S1-2018",
          "S2-2018",
          "S2-2018",
          "S2-2018",
          "S2-2018",
          "S2-2018",
          "S2-2018",
          "S2-2018",
          "S2-2018",
          "S2-2018",
          "S1-2019",
          "S1-2019",
          "S1-2019",
          "S1-2019",
          "S1-2019",
          "S1-2019",
          "S1-2019",
          "S1-2019",
          "S1-2019",
          "S2-2019",
          "S2-2019",
          "S2-2019",
          "S2-2019",
          "S2-2019",
          "S2-2019",
          "S2-2019",
          "S2-2019",
          "S2-2019",
          "S1-2020",
          "S1-2020",
          "S1-2020",
          "S1-2020",
          "S1-2020",
          "S1-2020",
          "S1-2020",
          "S1-2020",
          "S1-2020",
          "S2-2020",
          "S2-2020",
          "S2-2020",
          "S2-2020",
          "S2-2020",
          "S2-2020",
          "S2-2020",
          "S2-2020",
          "S2-2020",
          "S1-2021",
          "S1-2021",
          "S1-2021",
          "S1-2021",
          "S1-2021",
          "S1-2021",
          "S1-2021",
          "S1-2021",
          "S1-2021",
          "S2-2021",
          "S2-2021",
          "S2-2021",
          "S2-2021",
          "S2-2021",
          "S2-2021",
          "S2-2021",
          "S2-2021",
          "S2-2021",
          "S1-2022",
          "S1-2022",
          "S1-2022",
          "S1-2022",
          "S1-2022",
          "S1-2022",
          "S1-2022",
          "S1-2022",
          "S1-2022"
         ],
         "xaxis": "x",
         "y": [
          1.49,
          null,
          1.34,
          1.19,
          1.69,
          1.68,
          null,
          0.87,
          1.23,
          1.46,
          null,
          1.35,
          1.2,
          1.9,
          1.62,
          null,
          0.92,
          1.19,
          1.4014,
          null,
          1.249,
          1.1222,
          1.7181,
          1.5569,
          null,
          0.9104,
          1.2205,
          1.4583,
          null,
          1.3465,
          1.2389,
          1.65,
          1.6021,
          null,
          0.9344,
          1.2337,
          1.4889,
          null,
          1.2563,
          1.3083,
          2.226,
          1.6215,
          null,
          0.9323,
          1.1851,
          1.5229,
          null,
          1.2965,
          1.5545,
          1.8535,
          1.6028,
          null,
          0.8938,
          1.2038,
          1.5736,
          null,
          1.2628,
          1.4583,
          1.9486,
          1.7198,
          null,
          0.9479,
          1.2465,
          1.5646,
          null,
          1.3135,
          1.6972,
          1.9854,
          1.6417,
          null,
          0.8778,
          1.2674,
          1.6104,
          null,
          1.3184,
          1.7191,
          2.2292,
          1.6868,
          null,
          0.908,
          1.2465
         ],
         "yaxis": "y"
        },
        {
         "hovertemplate": "Location=Canada<br>Period Label=%{x}<br>Median time in port (days)=%{y}<extra></extra>",
         "legendgroup": "Canada",
         "line": {
          "color": "#00cc96",
          "dash": "solid"
         },
         "marker": {
          "symbol": "circle"
         },
         "mode": "lines+markers",
         "name": "Canada",
         "showlegend": true,
         "type": "scattergl",
         "x": [
          "S1-2018",
          "S1-2018",
          "S1-2018",
          "S1-2018",
          "S1-2018",
          "S1-2018",
          "S1-2018",
          "S2-2018",
          "S2-2018",
          "S2-2018",
          "S2-2018",
          "S2-2018",
          "S2-2018",
          "S2-2018",
          "S1-2019",
          "S1-2019",
          "S1-2019",
          "S1-2019",
          "S1-2019",
          "S1-2019",
          "S1-2019",
          "S2-2019",
          "S2-2019",
          "S2-2019",
          "S2-2019",
          "S2-2019",
          "S2-2019",
          "S2-2019",
          "S2-2019",
          "S1-2020",
          "S1-2020",
          "S1-2020",
          "S1-2020",
          "S1-2020",
          "S1-2020",
          "S1-2020",
          "S1-2020",
          "S2-2020",
          "S2-2020",
          "S2-2020",
          "S2-2020",
          "S2-2020",
          "S2-2020",
          "S2-2020",
          "S2-2020",
          "S1-2021",
          "S1-2021",
          "S1-2021",
          "S1-2021",
          "S1-2021",
          "S1-2021",
          "S1-2021",
          "S1-2021",
          "S2-2021",
          "S2-2021",
          "S2-2021",
          "S2-2021",
          "S2-2021",
          "S2-2021",
          "S2-2021",
          "S2-2021",
          "S1-2022",
          "S1-2022",
          "S1-2022",
          "S1-2022",
          "S1-2022",
          "S1-2022",
          "S1-2022",
          "S1-2022"
         ],
         "xaxis": "x",
         "y": [
          0.84,
          null,
          1.18,
          1.48,
          0.28,
          0.55,
          null,
          0.54,
          null,
          1.09,
          1.51,
          0.28,
          0.2,
          null,
          0.9125,
          null,
          1.2264,
          1.5965,
          0.2833,
          0.5431,
          null,
          0.6528,
          null,
          1.0434,
          1.467,
          0.7288,
          0.2201,
          null,
          1.5903,
          0.9944,
          null,
          1.0917,
          1.6229,
          1.0125,
          0.5833,
          null,
          1.4882,
          0.625,
          null,
          1.0806,
          1.8628,
          0.4313,
          0.2792,
          null,
          1.5288,
          0.9726,
          null,
          1.1007,
          1.8233,
          0.8663,
          0.5514,
          null,
          1.5292,
          0.5889,
          null,
          1.0264,
          1.7677,
          0.6667,
          0.1885,
          null,
          1.4889,
          0.9667,
          null,
          1.0906,
          1.9771,
          0.7035,
          0.5597,
          null,
          1.4694
         ],
         "yaxis": "y"
        },
        {
         "hovertemplate": "Location=China<br>Period Label=%{x}<br>Median time in port (days)=%{y}<extra></extra>",
         "legendgroup": "China",
         "line": {
          "color": "#ab63fa",
          "dash": "solid"
         },
         "marker": {
          "symbol": "circle"
         },
         "mode": "lines+markers",
         "name": "China",
         "showlegend": true,
         "type": "scattergl",
         "x": [
          "S1-2018",
          "S1-2018",
          "S1-2018",
          "S1-2018",
          "S1-2018",
          "S1-2018",
          "S1-2018",
          "S1-2018",
          "S1-2018",
          "S2-2018",
          "S2-2018",
          "S2-2018",
          "S2-2018",
          "S2-2018",
          "S2-2018",
          "S2-2018",
          "S2-2018",
          "S2-2018",
          "S1-2019",
          "S1-2019",
          "S1-2019",
          "S1-2019",
          "S1-2019",
          "S1-2019",
          "S1-2019",
          "S1-2019",
          "S1-2019",
          "S2-2019",
          "S2-2019",
          "S2-2019",
          "S2-2019",
          "S2-2019",
          "S2-2019",
          "S2-2019",
          "S2-2019",
          "S2-2019",
          "S1-2020",
          "S1-2020",
          "S1-2020",
          "S1-2020",
          "S1-2020",
          "S1-2020",
          "S1-2020",
          "S1-2020",
          "S1-2020",
          "S2-2020",
          "S2-2020",
          "S2-2020",
          "S2-2020",
          "S2-2020",
          "S2-2020",
          "S2-2020",
          "S2-2020",
          "S2-2020",
          "S1-2021",
          "S1-2021",
          "S1-2021",
          "S1-2021",
          "S1-2021",
          "S1-2021",
          "S1-2021",
          "S1-2021",
          "S1-2021",
          "S2-2021",
          "S2-2021",
          "S2-2021",
          "S2-2021",
          "S2-2021",
          "S2-2021",
          "S2-2021",
          "S2-2021",
          "S2-2021",
          "S1-2022",
          "S1-2022",
          "S1-2022",
          "S1-2022",
          "S1-2022",
          "S1-2022",
          "S1-2022",
          "S1-2022",
          "S1-2022"
         ],
         "xaxis": "x",
         "y": [
          1.01,
          null,
          1.09,
          0.6,
          1.15,
          1.99,
          null,
          0.98,
          1.26,
          1.04,
          null,
          1.11,
          0.63,
          1.19,
          2,
          null,
          1.01,
          1.19,
          1.0458,
          null,
          1.1069,
          0.6062,
          1.2014,
          1.9813,
          null,
          1.0021,
          1.2083,
          1.0313,
          null,
          1.0646,
          0.5958,
          1.1667,
          2.0319,
          null,
          0.975,
          1.1844,
          1.0556,
          null,
          1.1132,
          0.5951,
          1.2507,
          2.0215,
          null,
          1.0083,
          1.1778,
          1.0958,
          null,
          1.1646,
          0.6479,
          1.2924,
          2.0146,
          null,
          1.0368,
          1.2007,
          1.134,
          null,
          1.1684,
          0.6806,
          1.4358,
          2.0292,
          null,
          1.0382,
          1.1854,
          1.1681,
          null,
          1.1257,
          0.7799,
          1.5639,
          2.066,
          null,
          1.0472,
          1.1965,
          1.1563,
          null,
          1.1451,
          0.7743,
          1.6292,
          2.066,
          null,
          1.0392,
          1.2313
         ],
         "yaxis": "y"
        },
        {
         "hovertemplate": "Location=Croatia<br>Period Label=%{x}<br>Median time in port (days)=%{y}<extra></extra>",
         "legendgroup": "Croatia",
         "line": {
          "color": "#FFA15A",
          "dash": "solid"
         },
         "marker": {
          "symbol": "circle"
         },
         "mode": "lines+markers",
         "name": "Croatia",
         "showlegend": true,
         "type": "scattergl",
         "x": [
          "S1-2018",
          "S1-2018",
          "S1-2018",
          "S1-2018",
          "S1-2018",
          "S1-2018",
          "S2-2018",
          "S2-2018",
          "S2-2018",
          "S2-2018",
          "S2-2018",
          "S2-2018",
          "S1-2019",
          "S1-2019",
          "S1-2019",
          "S1-2019",
          "S1-2019",
          "S1-2019",
          "S2-2019",
          "S2-2019",
          "S2-2019",
          "S2-2019",
          "S2-2019",
          "S2-2019",
          "S1-2020",
          "S1-2020",
          "S1-2020",
          "S1-2020",
          "S1-2020",
          "S1-2020",
          "S2-2020",
          "S2-2020",
          "S2-2020",
          "S2-2020",
          "S2-2020",
          "S2-2020",
          "S1-2021",
          "S1-2021",
          "S1-2021",
          "S1-2021",
          "S1-2021",
          "S1-2021",
          "S2-2021",
          "S2-2021",
          "S2-2021",
          "S2-2021",
          "S2-2021",
          "S2-2021",
          "S2-2021",
          "S1-2022",
          "S1-2022",
          "S1-2022",
          "S1-2022",
          "S1-2022",
          "S1-2022",
          "S1-2022"
         ],
         "xaxis": "x",
         "y": [
          1.18,
          null,
          1.02,
          0.55,
          2.87,
          2.09,
          1.21,
          null,
          1.05,
          0.62,
          2.49,
          1.67,
          1.275,
          null,
          1.0444,
          0.7135,
          2.6493,
          2.5187,
          1.2347,
          null,
          1.0708,
          0.6313,
          2.8438,
          2.3465,
          1.1111,
          null,
          0.9476,
          0.6507,
          2.1979,
          1.7819,
          1.1118,
          null,
          0.8951,
          0.5719,
          2.3253,
          2.5951,
          1.1587,
          null,
          0.8729,
          0.575,
          2.6444,
          2.3125,
          1.1986,
          null,
          0.9427,
          0.6361,
          2.2302,
          2.5451,
          1.5611,
          1.3281,
          null,
          0.9795,
          0.7684,
          2.2104,
          3.0299,
          2.2035
         ],
         "yaxis": "y"
        },
        {
         "hovertemplate": "Location=Denmark<br>Period Label=%{x}<br>Median time in port (days)=%{y}<extra></extra>",
         "legendgroup": "Denmark",
         "line": {
          "color": "#19d3f3",
          "dash": "solid"
         },
         "marker": {
          "symbol": "circle"
         },
         "mode": "lines+markers",
         "name": "Denmark",
         "showlegend": true,
         "type": "scattergl",
         "x": [
          "S1-2018",
          "S1-2018",
          "S1-2018",
          "S1-2018",
          "S1-2018",
          "S1-2018",
          "S1-2018",
          "S1-2018",
          "S2-2018",
          "S2-2018",
          "S2-2018",
          "S2-2018",
          "S2-2018",
          "S2-2018",
          "S2-2018",
          "S2-2018",
          "S1-2019",
          "S1-2019",
          "S1-2019",
          "S1-2019",
          "S1-2019",
          "S1-2019",
          "S1-2019",
          "S1-2019",
          "S2-2019",
          "S2-2019",
          "S2-2019",
          "S2-2019",
          "S2-2019",
          "S2-2019",
          "S2-2019",
          "S2-2019",
          "S1-2020",
          "S1-2020",
          "S1-2020",
          "S1-2020",
          "S1-2020",
          "S1-2020",
          "S1-2020",
          "S1-2020",
          "S2-2020",
          "S2-2020",
          "S2-2020",
          "S2-2020",
          "S2-2020",
          "S2-2020",
          "S2-2020",
          "S2-2020",
          "S1-2021",
          "S1-2021",
          "S1-2021",
          "S1-2021",
          "S1-2021",
          "S1-2021",
          "S1-2021",
          "S1-2021",
          "S2-2021",
          "S2-2021",
          "S2-2021",
          "S2-2021",
          "S2-2021",
          "S2-2021",
          "S2-2021",
          "S2-2021",
          "S1-2022",
          "S1-2022",
          "S1-2022",
          "S1-2022",
          "S1-2022",
          "S1-2022",
          "S1-2022",
          "S1-2022"
         ],
         "xaxis": "x",
         "y": [
          0.74,
          null,
          0.64,
          0.48,
          0.85,
          0.84,
          null,
          1.08,
          0.74,
          null,
          0.66,
          0.5,
          0.84,
          0.9,
          null,
          1.01,
          0.7583,
          null,
          0.6847,
          0.4403,
          0.9233,
          0.8167,
          null,
          1.0347,
          0.7434,
          null,
          0.6896,
          0.491,
          0.8688,
          0.8604,
          null,
          1.0653,
          0.7868,
          null,
          0.7076,
          0.4458,
          0.9441,
          0.858,
          null,
          1.0302,
          0.7601,
          null,
          0.6837,
          0.4483,
          0.9118,
          0.8618,
          null,
          1.059,
          0.7653,
          null,
          0.7076,
          0.4576,
          0.8785,
          0.8618,
          null,
          1.0368,
          0.7354,
          null,
          0.684,
          0.5358,
          0.8142,
          0.7601,
          null,
          1.1243,
          0.7469,
          null,
          0.6646,
          0.559,
          0.8319,
          0.8313,
          null,
          1.158
         ],
         "yaxis": "y"
        },
        {
         "hovertemplate": "Location=France<br>Period Label=%{x}<br>Median time in port (days)=%{y}<extra></extra>",
         "legendgroup": "France",
         "line": {
          "color": "#FF6692",
          "dash": "solid"
         },
         "marker": {
          "symbol": "circle"
         },
         "mode": "lines+markers",
         "name": "France",
         "showlegend": true,
         "type": "scattergl",
         "x": [
          "S1-2018",
          "S1-2018",
          "S1-2018",
          "S1-2018",
          "S1-2018",
          "S1-2018",
          "S1-2018",
          "S1-2018",
          "S1-2018",
          "S2-2018",
          "S2-2018",
          "S2-2018",
          "S2-2018",
          "S2-2018",
          "S2-2018",
          "S2-2018",
          "S2-2018",
          "S2-2018",
          "S1-2019",
          "S1-2019",
          "S1-2019",
          "S1-2019",
          "S1-2019",
          "S1-2019",
          "S1-2019",
          "S1-2019",
          "S1-2019",
          "S2-2019",
          "S2-2019",
          "S2-2019",
          "S2-2019",
          "S2-2019",
          "S2-2019",
          "S2-2019",
          "S2-2019",
          "S2-2019",
          "S1-2020",
          "S1-2020",
          "S1-2020",
          "S1-2020",
          "S1-2020",
          "S1-2020",
          "S1-2020",
          "S1-2020",
          "S1-2020",
          "S2-2020",
          "S2-2020",
          "S2-2020",
          "S2-2020",
          "S2-2020",
          "S2-2020",
          "S2-2020",
          "S2-2020",
          "S2-2020",
          "S1-2021",
          "S1-2021",
          "S1-2021",
          "S1-2021",
          "S1-2021",
          "S1-2021",
          "S1-2021",
          "S1-2021",
          "S1-2021",
          "S2-2021",
          "S2-2021",
          "S2-2021",
          "S2-2021",
          "S2-2021",
          "S2-2021",
          "S2-2021",
          "S2-2021",
          "S2-2021",
          "S1-2022",
          "S1-2022",
          "S1-2022",
          "S1-2022",
          "S1-2022",
          "S1-2022",
          "S1-2022",
          "S1-2022",
          "S1-2022"
         ],
         "xaxis": "x",
         "y": [
          1.11,
          null,
          1.06,
          0.76,
          1.44,
          3.22,
          null,
          1.08,
          1.21,
          1.12,
          null,
          1.06,
          0.73,
          1.54,
          3.02,
          null,
          1.06,
          1.18,
          1.1031,
          null,
          1.0181,
          0.7549,
          1.5701,
          2.8486,
          null,
          1.1118,
          1.1354,
          1.1243,
          null,
          1.0403,
          0.7347,
          1.5962,
          3.2503,
          null,
          1.1288,
          1.1736,
          1.2042,
          null,
          1.0958,
          0.8062,
          1.7167,
          3.1076,
          null,
          1.1017,
          1.1625,
          1.1035,
          null,
          1.0194,
          0.7615,
          1.5778,
          2.7743,
          null,
          1.1583,
          1.167,
          1.1799,
          null,
          1.0399,
          0.9333,
          1.6437,
          2.8882,
          null,
          1.0774,
          1.1083,
          1.1521,
          null,
          1.0111,
          0.9913,
          1.5056,
          3.0708,
          null,
          1.0868,
          1.1413,
          1.2125,
          null,
          1.0278,
          1.1208,
          1.5729,
          3.1,
          null,
          1.1142,
          1.1187
         ],
         "yaxis": "y"
        },
        {
         "hovertemplate": "Location=Germany<br>Period Label=%{x}<br>Median time in port (days)=%{y}<extra></extra>",
         "legendgroup": "Germany",
         "line": {
          "color": "#B6E880",
          "dash": "solid"
         },
         "marker": {
          "symbol": "circle"
         },
         "mode": "lines+markers",
         "name": "Germany",
         "showlegend": true,
         "type": "scattergl",
         "x": [
          "S1-2018",
          "S1-2018",
          "S1-2018",
          "S1-2018",
          "S1-2018",
          "S1-2018",
          "S1-2018",
          "S1-2018",
          "S2-2018",
          "S2-2018",
          "S2-2018",
          "S2-2018",
          "S2-2018",
          "S2-2018",
          "S2-2018",
          "S2-2018",
          "S1-2019",
          "S1-2019",
          "S1-2019",
          "S1-2019",
          "S1-2019",
          "S1-2019",
          "S1-2019",
          "S1-2019",
          "S2-2019",
          "S2-2019",
          "S2-2019",
          "S2-2019",
          "S2-2019",
          "S2-2019",
          "S2-2019",
          "S2-2019",
          "S1-2020",
          "S1-2020",
          "S1-2020",
          "S1-2020",
          "S1-2020",
          "S1-2020",
          "S1-2020",
          "S1-2020",
          "S2-2020",
          "S2-2020",
          "S2-2020",
          "S2-2020",
          "S2-2020",
          "S2-2020",
          "S2-2020",
          "S2-2020",
          "S1-2021",
          "S1-2021",
          "S1-2021",
          "S1-2021",
          "S1-2021",
          "S1-2021",
          "S1-2021",
          "S1-2021",
          "S2-2021",
          "S2-2021",
          "S2-2021",
          "S2-2021",
          "S2-2021",
          "S2-2021",
          "S2-2021",
          "S2-2021",
          "S1-2022",
          "S1-2022",
          "S1-2022",
          "S1-2022",
          "S1-2022",
          "S1-2022",
          "S1-2022",
          "S1-2022"
         ],
         "xaxis": "x",
         "y": [
          0.58,
          null,
          0.36,
          0.79,
          0.54,
          2.43,
          null,
          0.73,
          0.54,
          null,
          0.36,
          0.78,
          0.46,
          2.49,
          null,
          0.76,
          0.5007,
          null,
          0.3424,
          0.759,
          0.3792,
          2.6309,
          null,
          0.7437,
          0.475,
          null,
          0.3625,
          0.7285,
          0.3271,
          2.0396,
          null,
          0.6528,
          0.8205,
          null,
          0.5208,
          0.9667,
          1.0104,
          2.6139,
          null,
          0.8333,
          0.7958,
          null,
          0.5049,
          1,
          0.9069,
          2.2295,
          null,
          0.8528,
          0.8444,
          null,
          0.5632,
          1.0833,
          0.8663,
          2.7833,
          null,
          0.8677,
          0.833,
          null,
          0.5462,
          1.1785,
          0.8354,
          2.2729,
          null,
          0.8875,
          0.834,
          null,
          0.534,
          1.2715,
          0.7951,
          2.8139,
          null,
          0.8389
         ],
         "yaxis": "y"
        },
        {
         "hovertemplate": "Location=Greece<br>Period Label=%{x}<br>Median time in port (days)=%{y}<extra></extra>",
         "legendgroup": "Greece",
         "line": {
          "color": "#FF97FF",
          "dash": "solid"
         },
         "marker": {
          "symbol": "circle"
         },
         "mode": "lines+markers",
         "name": "Greece",
         "showlegend": true,
         "type": "scattergl",
         "x": [
          "S1-2018",
          "S1-2018",
          "S1-2018",
          "S1-2018",
          "S1-2018",
          "S1-2018",
          "S1-2018",
          "S1-2018",
          "S2-2018",
          "S2-2018",
          "S2-2018",
          "S2-2018",
          "S2-2018",
          "S2-2018",
          "S2-2018",
          "S2-2018",
          "S2-2018",
          "S1-2019",
          "S1-2019",
          "S1-2019",
          "S1-2019",
          "S1-2019",
          "S1-2019",
          "S1-2019",
          "S1-2019",
          "S1-2019",
          "S2-2019",
          "S2-2019",
          "S2-2019",
          "S2-2019",
          "S2-2019",
          "S2-2019",
          "S2-2019",
          "S2-2019",
          "S2-2019",
          "S1-2020",
          "S1-2020",
          "S1-2020",
          "S1-2020",
          "S1-2020",
          "S1-2020",
          "S1-2020",
          "S1-2020",
          "S1-2020",
          "S2-2020",
          "S2-2020",
          "S2-2020",
          "S2-2020",
          "S2-2020",
          "S2-2020",
          "S2-2020",
          "S2-2020",
          "S2-2020",
          "S1-2021",
          "S1-2021",
          "S1-2021",
          "S1-2021",
          "S1-2021",
          "S1-2021",
          "S1-2021",
          "S1-2021",
          "S1-2021",
          "S2-2021",
          "S2-2021",
          "S2-2021",
          "S2-2021",
          "S2-2021",
          "S2-2021",
          "S2-2021",
          "S2-2021",
          "S2-2021",
          "S1-2022",
          "S1-2022",
          "S1-2022",
          "S1-2022",
          "S1-2022",
          "S1-2022",
          "S1-2022",
          "S1-2022",
          "S1-2022"
         ],
         "xaxis": "x",
         "y": [
          0.72,
          null,
          0.55,
          0.92,
          1.07,
          0.36,
          null,
          0.92,
          0.69,
          null,
          0.53,
          0.99,
          1.07,
          0.35,
          null,
          0.84,
          0.99,
          0.7566,
          null,
          0.5424,
          1.0882,
          1.1146,
          0.3708,
          null,
          0.9035,
          1.0993,
          0.7288,
          null,
          0.5201,
          1.0229,
          1.1365,
          0.2771,
          null,
          0.9361,
          1.0875,
          0.849,
          null,
          0.6354,
          0.9861,
          1.2424,
          0.4056,
          null,
          0.9722,
          1.2007,
          0.7997,
          null,
          0.6007,
          0.9729,
          1.0951,
          0.4455,
          null,
          1.0007,
          1.2955,
          0.8576,
          null,
          0.6194,
          1.0184,
          1.1469,
          0.6378,
          null,
          1,
          1.1715,
          0.8368,
          null,
          0.6125,
          1.0719,
          1.1465,
          0.6417,
          null,
          0.9847,
          1.2674,
          0.8656,
          null,
          0.5979,
          1.1865,
          1.1944,
          0.7625,
          null,
          0.8656,
          1.0097
         ],
         "yaxis": "y"
        },
        {
         "hovertemplate": "Location=Indonesia<br>Period Label=%{x}<br>Median time in port (days)=%{y}<extra></extra>",
         "legendgroup": "Indonesia",
         "line": {
          "color": "#FECB52",
          "dash": "solid"
         },
         "marker": {
          "symbol": "circle"
         },
         "mode": "lines+markers",
         "name": "Indonesia",
         "showlegend": true,
         "type": "scattergl",
         "x": [
          "S1-2018",
          "S1-2018",
          "S1-2018",
          "S1-2018",
          "S1-2018",
          "S1-2018",
          "S1-2018",
          "S1-2018",
          "S1-2018",
          "S2-2018",
          "S2-2018",
          "S2-2018",
          "S2-2018",
          "S2-2018",
          "S2-2018",
          "S2-2018",
          "S2-2018",
          "S2-2018",
          "S1-2019",
          "S1-2019",
          "S1-2019",
          "S1-2019",
          "S1-2019",
          "S1-2019",
          "S1-2019",
          "S1-2019",
          "S1-2019",
          "S2-2019",
          "S2-2019",
          "S2-2019",
          "S2-2019",
          "S2-2019",
          "S2-2019",
          "S2-2019",
          "S2-2019",
          "S2-2019",
          "S1-2020",
          "S1-2020",
          "S1-2020",
          "S1-2020",
          "S1-2020",
          "S1-2020",
          "S1-2020",
          "S1-2020",
          "S1-2020",
          "S2-2020",
          "S2-2020",
          "S2-2020",
          "S2-2020",
          "S2-2020",
          "S2-2020",
          "S2-2020",
          "S2-2020",
          "S2-2020",
          "S1-2021",
          "S1-2021",
          "S1-2021",
          "S1-2021",
          "S1-2021",
          "S1-2021",
          "S1-2021",
          "S1-2021",
          "S1-2021",
          "S2-2021",
          "S2-2021",
          "S2-2021",
          "S2-2021",
          "S2-2021",
          "S2-2021",
          "S2-2021",
          "S2-2021",
          "S2-2021",
          "S1-2022",
          "S1-2022",
          "S1-2022",
          "S1-2022",
          "S1-2022",
          "S1-2022",
          "S1-2022",
          "S1-2022",
          "S1-2022"
         ],
         "xaxis": "x",
         "y": [
          1.33,
          null,
          1.32,
          1.06,
          1.21,
          3.67,
          null,
          1.12,
          1.24,
          1.35,
          null,
          1.23,
          1.11,
          1.31,
          3.46,
          null,
          1.15,
          1.41,
          1.3056,
          null,
          1.1493,
          1.0597,
          1.3472,
          3.9201,
          null,
          1.151,
          1.3778,
          1.2653,
          null,
          1.1993,
          1.0368,
          1.2844,
          2.849,
          null,
          1.1278,
          1.3785,
          1.2271,
          null,
          1.1972,
          0.9799,
          1.2073,
          3.2125,
          null,
          1.0788,
          1.4003,
          1.2174,
          null,
          1.241,
          0.9958,
          1.0896,
          2.9785,
          null,
          1.1049,
          1.4076,
          1.2931,
          null,
          1.3056,
          1.0451,
          1.2118,
          3.0396,
          null,
          1.0719,
          1.4285,
          1.2854,
          null,
          1.3021,
          1.0819,
          1.1538,
          2.5524,
          null,
          1.0833,
          1.4222,
          1.2813,
          null,
          1.3049,
          1.0375,
          1.2313,
          2.9497,
          null,
          1.0875,
          1.4208
         ],
         "yaxis": "y"
        },
        {
         "hovertemplate": "Location=Italy<br>Period Label=%{x}<br>Median time in port (days)=%{y}<extra></extra>",
         "legendgroup": "Italy",
         "line": {
          "color": "#636efa",
          "dash": "solid"
         },
         "marker": {
          "symbol": "circle"
         },
         "mode": "lines+markers",
         "name": "Italy",
         "showlegend": true,
         "type": "scattergl",
         "x": [
          "S1-2018",
          "S1-2018",
          "S1-2018",
          "S1-2018",
          "S1-2018",
          "S1-2018",
          "S1-2018",
          "S1-2018",
          "S2-2018",
          "S2-2018",
          "S2-2018",
          "S2-2018",
          "S2-2018",
          "S2-2018",
          "S2-2018",
          "S2-2018",
          "S1-2019",
          "S1-2019",
          "S1-2019",
          "S1-2019",
          "S1-2019",
          "S1-2019",
          "S1-2019",
          "S1-2019",
          "S2-2019",
          "S2-2019",
          "S2-2019",
          "S2-2019",
          "S2-2019",
          "S2-2019",
          "S2-2019",
          "S2-2019",
          "S1-2020",
          "S1-2020",
          "S1-2020",
          "S1-2020",
          "S1-2020",
          "S1-2020",
          "S1-2020",
          "S1-2020",
          "S2-2020",
          "S2-2020",
          "S2-2020",
          "S2-2020",
          "S2-2020",
          "S2-2020",
          "S2-2020",
          "S2-2020",
          "S1-2021",
          "S1-2021",
          "S1-2021",
          "S1-2021",
          "S1-2021",
          "S1-2021",
          "S1-2021",
          "S1-2021",
          "S2-2021",
          "S2-2021",
          "S2-2021",
          "S2-2021",
          "S2-2021",
          "S2-2021",
          "S2-2021",
          "S2-2021",
          "S1-2022",
          "S1-2022",
          "S1-2022",
          "S1-2022",
          "S1-2022",
          "S1-2022",
          "S1-2022",
          "S1-2022",
          "S1-2022"
         ],
         "xaxis": "x",
         "y": [
          1.25,
          null,
          1.31,
          0.82,
          1.96,
          3.49,
          null,
          1.39,
          1.25,
          null,
          1.28,
          0.83,
          1.88,
          3.66,
          null,
          1.57,
          1.2667,
          null,
          1.2646,
          0.8847,
          1.8844,
          3.4535,
          null,
          1.3729,
          1.2875,
          null,
          1.2389,
          0.924,
          2.0882,
          3.5903,
          null,
          1.5319,
          1.3111,
          null,
          1.2986,
          0.916,
          2.0542,
          3.6125,
          null,
          1.5465,
          1.3101,
          null,
          1.2729,
          0.9264,
          2.0264,
          3.4809,
          null,
          1.7056,
          1.3326,
          null,
          1.3257,
          0.9319,
          1.9222,
          3.325,
          null,
          1.549,
          1.3576,
          null,
          1.2493,
          0.9965,
          2.0097,
          3.666,
          null,
          1.7306,
          1.3819,
          null,
          1.2799,
          1.0417,
          1.8854,
          4.0778,
          null,
          1.5167,
          2.4014
         ],
         "yaxis": "y"
        },
        {
         "hovertemplate": "Location=Japan<br>Period Label=%{x}<br>Median time in port (days)=%{y}<extra></extra>",
         "legendgroup": "Japan",
         "line": {
          "color": "#EF553B",
          "dash": "solid"
         },
         "marker": {
          "symbol": "circle"
         },
         "mode": "lines+markers",
         "name": "Japan",
         "showlegend": true,
         "type": "scattergl",
         "x": [
          "S1-2018",
          "S1-2018",
          "S1-2018",
          "S1-2018",
          "S1-2018",
          "S1-2018",
          "S1-2018",
          "S1-2018",
          "S1-2018",
          "S2-2018",
          "S2-2018",
          "S2-2018",
          "S2-2018",
          "S2-2018",
          "S2-2018",
          "S2-2018",
          "S2-2018",
          "S2-2018",
          "S1-2019",
          "S1-2019",
          "S1-2019",
          "S1-2019",
          "S1-2019",
          "S1-2019",
          "S1-2019",
          "S1-2019",
          "S1-2019",
          "S2-2019",
          "S2-2019",
          "S2-2019",
          "S2-2019",
          "S2-2019",
          "S2-2019",
          "S2-2019",
          "S2-2019",
          "S2-2019",
          "S1-2020",
          "S1-2020",
          "S1-2020",
          "S1-2020",
          "S1-2020",
          "S1-2020",
          "S1-2020",
          "S1-2020",
          "S1-2020",
          "S2-2020",
          "S2-2020",
          "S2-2020",
          "S2-2020",
          "S2-2020",
          "S2-2020",
          "S2-2020",
          "S2-2020",
          "S2-2020",
          "S1-2021",
          "S1-2021",
          "S1-2021",
          "S1-2021",
          "S1-2021",
          "S1-2021",
          "S1-2021",
          "S1-2021",
          "S1-2021",
          "S2-2021",
          "S2-2021",
          "S2-2021",
          "S2-2021",
          "S2-2021",
          "S2-2021",
          "S2-2021",
          "S2-2021",
          "S2-2021",
          "S1-2022",
          "S1-2022",
          "S1-2022",
          "S1-2022",
          "S1-2022",
          "S1-2022",
          "S1-2022",
          "S1-2022",
          "S1-2022"
         ],
         "xaxis": "x",
         "y": [
          0.41,
          null,
          0.31,
          0.35,
          1.15,
          0.93,
          null,
          0.31,
          0.99,
          0.41,
          null,
          0.31,
          0.35,
          1.1,
          0.86,
          null,
          0.32,
          1,
          0.4125,
          null,
          0.3083,
          0.35,
          1.1819,
          0.9111,
          null,
          0.3424,
          0.9854,
          0.4049,
          null,
          0.3083,
          0.3444,
          1.1229,
          0.7931,
          null,
          0.3333,
          0.9986,
          0.3993,
          null,
          0.3063,
          0.3354,
          1.1708,
          0.8396,
          null,
          0.3403,
          0.9958,
          0.3951,
          null,
          0.3118,
          0.3389,
          1.0986,
          0.8194,
          null,
          0.3319,
          1.0354,
          0.4146,
          null,
          0.3111,
          0.3562,
          1.1951,
          0.9035,
          null,
          0.3153,
          1.0222,
          0.4174,
          null,
          0.3104,
          0.3708,
          1.1913,
          0.7552,
          null,
          0.3222,
          1.0347,
          0.4201,
          null,
          0.3076,
          0.3792,
          1.216,
          0.7993,
          null,
          0.3354,
          1.0125
         ],
         "yaxis": "y"
        },
        {
         "hovertemplate": "Location=Korea, Republic of<br>Period Label=%{x}<br>Median time in port (days)=%{y}<extra></extra>",
         "legendgroup": "Korea, Republic of",
         "line": {
          "color": "#00cc96",
          "dash": "solid"
         },
         "marker": {
          "symbol": "circle"
         },
         "mode": "lines+markers",
         "name": "Korea, Republic of",
         "showlegend": true,
         "type": "scattergl",
         "x": [
          "S1-2018",
          "S1-2018",
          "S1-2018",
          "S1-2018",
          "S1-2018",
          "S1-2018",
          "S1-2018",
          "S1-2018",
          "S1-2018",
          "S2-2018",
          "S2-2018",
          "S2-2018",
          "S2-2018",
          "S2-2018",
          "S2-2018",
          "S2-2018",
          "S2-2018",
          "S2-2018",
          "S1-2019",
          "S1-2019",
          "S1-2019",
          "S1-2019",
          "S1-2019",
          "S1-2019",
          "S1-2019",
          "S1-2019",
          "S1-2019",
          "S2-2019",
          "S2-2019",
          "S2-2019",
          "S2-2019",
          "S2-2019",
          "S2-2019",
          "S2-2019",
          "S2-2019",
          "S2-2019",
          "S1-2020",
          "S1-2020",
          "S1-2020",
          "S1-2020",
          "S1-2020",
          "S1-2020",
          "S1-2020",
          "S1-2020",
          "S1-2020",
          "S2-2020",
          "S2-2020",
          "S2-2020",
          "S2-2020",
          "S2-2020",
          "S2-2020",
          "S2-2020",
          "S2-2020",
          "S2-2020",
          "S1-2021",
          "S1-2021",
          "S1-2021",
          "S1-2021",
          "S1-2021",
          "S1-2021",
          "S1-2021",
          "S1-2021",
          "S1-2021",
          "S2-2021",
          "S2-2021",
          "S2-2021",
          "S2-2021",
          "S2-2021",
          "S2-2021",
          "S2-2021",
          "S2-2021",
          "S2-2021",
          "S1-2022",
          "S1-2022",
          "S1-2022",
          "S1-2022",
          "S1-2022",
          "S1-2022",
          "S1-2022",
          "S1-2022",
          "S1-2022"
         ],
         "xaxis": "x",
         "y": [
          0.77,
          null,
          0.78,
          0.57,
          1.27,
          2.23,
          null,
          0.71,
          1.03,
          0.81,
          null,
          0.8,
          0.62,
          1.3,
          2.42,
          null,
          0.74,
          1.04,
          0.7813,
          null,
          0.7465,
          0.5722,
          1.1812,
          1.9823,
          null,
          0.7632,
          1.0319,
          0.8042,
          null,
          0.7528,
          0.5903,
          1.159,
          2.1132,
          null,
          0.7708,
          1.0333,
          0.8431,
          null,
          0.8056,
          0.6153,
          1.2375,
          2.0333,
          null,
          0.8674,
          1.025,
          0.8722,
          null,
          0.7792,
          0.6667,
          1.1958,
          2.0135,
          null,
          0.841,
          1.0344,
          0.9,
          null,
          0.7667,
          0.6951,
          1.2167,
          2.0924,
          null,
          0.8424,
          1.0389,
          0.8889,
          null,
          0.7382,
          0.7354,
          1.1583,
          2.184,
          null,
          0.8,
          1.05,
          0.8833,
          null,
          0.7361,
          0.7312,
          1.1688,
          2.5,
          null,
          0.7972,
          1.0479
         ],
         "yaxis": "y"
        },
        {
         "hovertemplate": "Location=Netherlands<br>Period Label=%{x}<br>Median time in port (days)=%{y}<extra></extra>",
         "legendgroup": "Netherlands",
         "line": {
          "color": "#ab63fa",
          "dash": "solid"
         },
         "marker": {
          "symbol": "circle"
         },
         "mode": "lines+markers",
         "name": "Netherlands",
         "showlegend": true,
         "type": "scattergl",
         "x": [
          "S1-2018",
          "S1-2018",
          "S1-2018",
          "S1-2018",
          "S1-2018",
          "S1-2018",
          "S1-2018",
          "S1-2018",
          "S1-2018",
          "S2-2018",
          "S2-2018",
          "S2-2018",
          "S2-2018",
          "S2-2018",
          "S2-2018",
          "S2-2018",
          "S2-2018",
          "S2-2018",
          "S1-2019",
          "S1-2019",
          "S1-2019",
          "S1-2019",
          "S1-2019",
          "S1-2019",
          "S1-2019",
          "S1-2019",
          "S1-2019",
          "S2-2019",
          "S2-2019",
          "S2-2019",
          "S2-2019",
          "S2-2019",
          "S2-2019",
          "S2-2019",
          "S2-2019",
          "S2-2019",
          "S1-2020",
          "S1-2020",
          "S1-2020",
          "S1-2020",
          "S1-2020",
          "S1-2020",
          "S1-2020",
          "S1-2020",
          "S1-2020",
          "S2-2020",
          "S2-2020",
          "S2-2020",
          "S2-2020",
          "S2-2020",
          "S2-2020",
          "S2-2020",
          "S2-2020",
          "S2-2020",
          "S1-2021",
          "S1-2021",
          "S1-2021",
          "S1-2021",
          "S1-2021",
          "S1-2021",
          "S1-2021",
          "S1-2021",
          "S1-2021",
          "S2-2021",
          "S2-2021",
          "S2-2021",
          "S2-2021",
          "S2-2021",
          "S2-2021",
          "S2-2021",
          "S2-2021",
          "S2-2021",
          "S1-2022",
          "S1-2022",
          "S1-2022",
          "S1-2022",
          "S1-2022",
          "S1-2022",
          "S1-2022",
          "S1-2022",
          "S1-2022"
         ],
         "xaxis": "x",
         "y": [
          0.56,
          null,
          0.51,
          0.8,
          0.35,
          0.66,
          null,
          0.93,
          1.4,
          0.57,
          null,
          0.48,
          0.76,
          0.45,
          0.93,
          null,
          0.96,
          1.19,
          0.566,
          null,
          0.4972,
          0.7882,
          0.3979,
          0.6694,
          null,
          0.9747,
          1.0868,
          0.5799,
          null,
          0.5188,
          0.8118,
          0.4271,
          0.6205,
          null,
          0.9063,
          1.0667,
          0.5889,
          null,
          0.5472,
          0.7917,
          0.4,
          0.2111,
          null,
          0.9757,
          1.0326,
          0.5701,
          null,
          0.5042,
          0.8153,
          0.4097,
          1.0993,
          null,
          1.0347,
          1.0608,
          0.6104,
          null,
          0.5326,
          0.8806,
          0.4812,
          1.0354,
          null,
          0.9132,
          1.0118,
          0.6257,
          null,
          0.6083,
          0.8944,
          0.3896,
          1.3604,
          null,
          0.9896,
          1.0299,
          0.641,
          null,
          0.6146,
          0.891,
          0.4326,
          1.1507,
          null,
          0.9753,
          1.0431
         ],
         "yaxis": "y"
        },
        {
         "hovertemplate": "Location=Norway<br>Period Label=%{x}<br>Median time in port (days)=%{y}<extra></extra>",
         "legendgroup": "Norway",
         "line": {
          "color": "#FFA15A",
          "dash": "solid"
         },
         "marker": {
          "symbol": "circle"
         },
         "mode": "lines+markers",
         "name": "Norway",
         "showlegend": true,
         "type": "scattergl",
         "x": [
          "S1-2018",
          "S1-2018",
          "S1-2018",
          "S1-2018",
          "S1-2018",
          "S1-2018",
          "S1-2018",
          "S1-2018",
          "S1-2018",
          "S2-2018",
          "S2-2018",
          "S2-2018",
          "S2-2018",
          "S2-2018",
          "S2-2018",
          "S2-2018",
          "S2-2018",
          "S2-2018",
          "S1-2019",
          "S1-2019",
          "S1-2019",
          "S1-2019",
          "S1-2019",
          "S1-2019",
          "S1-2019",
          "S1-2019",
          "S1-2019",
          "S2-2019",
          "S2-2019",
          "S2-2019",
          "S2-2019",
          "S2-2019",
          "S2-2019",
          "S2-2019",
          "S2-2019",
          "S2-2019",
          "S1-2020",
          "S1-2020",
          "S1-2020",
          "S1-2020",
          "S1-2020",
          "S1-2020",
          "S1-2020",
          "S1-2020",
          "S1-2020",
          "S2-2020",
          "S2-2020",
          "S2-2020",
          "S2-2020",
          "S2-2020",
          "S2-2020",
          "S2-2020",
          "S2-2020",
          "S2-2020",
          "S1-2021",
          "S1-2021",
          "S1-2021",
          "S1-2021",
          "S1-2021",
          "S1-2021",
          "S1-2021",
          "S1-2021",
          "S1-2021",
          "S2-2021",
          "S2-2021",
          "S2-2021",
          "S2-2021",
          "S2-2021",
          "S2-2021",
          "S2-2021",
          "S2-2021",
          "S2-2021",
          "S1-2022",
          "S1-2022",
          "S1-2022",
          "S1-2022",
          "S1-2022",
          "S1-2022",
          "S1-2022",
          "S1-2022",
          "S1-2022"
         ],
         "xaxis": "x",
         "y": [
          0.43,
          null,
          0.61,
          0.32,
          0.34,
          0.89,
          null,
          0.75,
          0.31,
          0.43,
          null,
          0.6,
          0.34,
          0.34,
          0.86,
          null,
          0.75,
          0.37,
          0.4063,
          null,
          0.6049,
          0.3042,
          0.3146,
          0.8528,
          null,
          0.7646,
          0.4479,
          0.4285,
          null,
          0.6014,
          0.3441,
          0.3389,
          0.7979,
          null,
          0.7358,
          0.3014,
          0.4028,
          null,
          0.6035,
          0.3295,
          0.3042,
          0.8472,
          null,
          0.7705,
          0.2576,
          0.4028,
          null,
          0.6083,
          0.3319,
          0.3167,
          0.8017,
          null,
          0.7528,
          0.2892,
          0.4111,
          null,
          0.6125,
          0.3493,
          0.3125,
          0.8847,
          null,
          0.8101,
          0.2931,
          0.4215,
          null,
          0.5833,
          0.3521,
          0.3368,
          0.7549,
          null,
          0.8951,
          0.2889,
          0.4153,
          null,
          0.6111,
          0.3462,
          0.3295,
          0.8108,
          null,
          0.7882,
          0.3146
         ],
         "yaxis": "y"
        },
        {
         "hovertemplate": "Location=Russian Federation<br>Period Label=%{x}<br>Median time in port (days)=%{y}<extra></extra>",
         "legendgroup": "Russian Federation",
         "line": {
          "color": "#19d3f3",
          "dash": "solid"
         },
         "marker": {
          "symbol": "circle"
         },
         "mode": "lines+markers",
         "name": "Russian Federation",
         "showlegend": true,
         "type": "scattergl",
         "x": [
          "S1-2018",
          "S1-2018",
          "S1-2018",
          "S1-2018",
          "S1-2018",
          "S1-2018",
          "S1-2018",
          "S1-2018",
          "S1-2018",
          "S2-2018",
          "S2-2018",
          "S2-2018",
          "S2-2018",
          "S2-2018",
          "S2-2018",
          "S2-2018",
          "S2-2018",
          "S2-2018",
          "S1-2019",
          "S1-2019",
          "S1-2019",
          "S1-2019",
          "S1-2019",
          "S1-2019",
          "S1-2019",
          "S1-2019",
          "S1-2019",
          "S2-2019",
          "S2-2019",
          "S2-2019",
          "S2-2019",
          "S2-2019",
          "S2-2019",
          "S2-2019",
          "S2-2019",
          "S2-2019",
          "S1-2020",
          "S1-2020",
          "S1-2020",
          "S1-2020",
          "S1-2020",
          "S1-2020",
          "S1-2020",
          "S1-2020",
          "S1-2020",
          "S2-2020",
          "S2-2020",
          "S2-2020",
          "S2-2020",
          "S2-2020",
          "S2-2020",
          "S2-2020",
          "S2-2020",
          "S2-2020",
          "S1-2021",
          "S1-2021",
          "S1-2021",
          "S1-2021",
          "S1-2021",
          "S1-2021",
          "S1-2021",
          "S1-2021",
          "S1-2021",
          "S2-2021",
          "S2-2021",
          "S2-2021",
          "S2-2021",
          "S2-2021",
          "S2-2021",
          "S2-2021",
          "S2-2021",
          "S2-2021",
          "S1-2022",
          "S1-2022",
          "S1-2022",
          "S1-2022",
          "S1-2022",
          "S1-2022",
          "S1-2022",
          "S1-2022",
          "S1-2022"
         ],
         "xaxis": "x",
         "y": [
          1.42,
          null,
          1.09,
          1.37,
          1.75,
          2.49,
          null,
          1.39,
          1.15,
          1.26,
          null,
          0.98,
          1.45,
          1.39,
          2.5,
          null,
          1.32,
          1.07,
          1.3271,
          null,
          1.0701,
          1.3132,
          1.7222,
          1.9764,
          null,
          1.2375,
          1.1139,
          1.2667,
          null,
          0.9861,
          1.2927,
          1.5243,
          2.4194,
          null,
          1.2292,
          1.0431,
          1.4424,
          null,
          1.1437,
          1.3253,
          1.7493,
          2.4722,
          null,
          1.3903,
          1.0688,
          1.2806,
          null,
          0.9681,
          1.2924,
          1.4264,
          2.3566,
          null,
          1.3125,
          1.1437,
          1.509,
          null,
          1.1493,
          1.4118,
          1.8573,
          2.5472,
          null,
          1.6014,
          1.1187,
          1.4285,
          null,
          1.0597,
          1.7104,
          1.7194,
          2.4868,
          null,
          1.4708,
          1.15,
          1.6819,
          null,
          1.2375,
          1.701,
          2.1653,
          2.6174,
          null,
          2.0167,
          1.0747
         ],
         "yaxis": "y"
        },
        {
         "hovertemplate": "Location=Spain<br>Period Label=%{x}<br>Median time in port (days)=%{y}<extra></extra>",
         "legendgroup": "Spain",
         "line": {
          "color": "#FF6692",
          "dash": "solid"
         },
         "marker": {
          "symbol": "circle"
         },
         "mode": "lines+markers",
         "name": "Spain",
         "showlegend": true,
         "type": "scattergl",
         "x": [
          "S1-2018",
          "S1-2018",
          "S1-2018",
          "S1-2018",
          "S1-2018",
          "S1-2018",
          "S1-2018",
          "S1-2018",
          "S1-2018",
          "S2-2018",
          "S2-2018",
          "S2-2018",
          "S2-2018",
          "S2-2018",
          "S2-2018",
          "S2-2018",
          "S2-2018",
          "S2-2018",
          "S1-2019",
          "S1-2019",
          "S1-2019",
          "S1-2019",
          "S1-2019",
          "S1-2019",
          "S1-2019",
          "S1-2019",
          "S1-2019",
          "S2-2019",
          "S2-2019",
          "S2-2019",
          "S2-2019",
          "S2-2019",
          "S2-2019",
          "S2-2019",
          "S2-2019",
          "S2-2019",
          "S1-2020",
          "S1-2020",
          "S1-2020",
          "S1-2020",
          "S1-2020",
          "S1-2020",
          "S1-2020",
          "S1-2020",
          "S1-2020",
          "S2-2020",
          "S2-2020",
          "S2-2020",
          "S2-2020",
          "S2-2020",
          "S2-2020",
          "S2-2020",
          "S2-2020",
          "S2-2020",
          "S1-2021",
          "S1-2021",
          "S1-2021",
          "S1-2021",
          "S1-2021",
          "S1-2021",
          "S1-2021",
          "S1-2021",
          "S1-2021",
          "S2-2021",
          "S2-2021",
          "S2-2021",
          "S2-2021",
          "S2-2021",
          "S2-2021",
          "S2-2021",
          "S2-2021",
          "S2-2021",
          "S1-2022",
          "S1-2022",
          "S1-2022",
          "S1-2022",
          "S1-2022",
          "S1-2022",
          "S1-2022",
          "S1-2022",
          "S1-2022"
         ],
         "xaxis": "x",
         "y": [
          0.85,
          null,
          0.84,
          0.66,
          1.14,
          2.25,
          null,
          0.95,
          1.04,
          0.87,
          null,
          0.84,
          0.67,
          1.14,
          2.28,
          null,
          0.97,
          1.06,
          0.8701,
          null,
          0.9,
          0.6552,
          1.1292,
          1.8226,
          null,
          0.9281,
          1.0215,
          0.8875,
          null,
          0.8944,
          0.6493,
          1.2111,
          2.0184,
          null,
          0.9792,
          1.0458,
          0.9021,
          null,
          0.9007,
          0.6632,
          1.2389,
          1.8323,
          null,
          1.0097,
          1.0375,
          0.9021,
          null,
          0.9118,
          0.6622,
          1.184,
          1.7528,
          null,
          1.0625,
          1.0604,
          0.9021,
          null,
          0.9174,
          0.6451,
          1.1653,
          1.7694,
          null,
          1.0361,
          1.0184,
          0.9007,
          null,
          0.8868,
          0.6563,
          1.2007,
          1.7875,
          null,
          1.0035,
          1.0812,
          0.9264,
          null,
          0.8924,
          0.699,
          1.1882,
          1.8729,
          null,
          1.0146,
          1.0562
         ],
         "yaxis": "y"
        },
        {
         "hovertemplate": "Location=Sweden<br>Period Label=%{x}<br>Median time in port (days)=%{y}<extra></extra>",
         "legendgroup": "Sweden",
         "line": {
          "color": "#B6E880",
          "dash": "solid"
         },
         "marker": {
          "symbol": "circle"
         },
         "mode": "lines+markers",
         "name": "Sweden",
         "showlegend": true,
         "type": "scattergl",
         "x": [
          "S1-2018",
          "S1-2018",
          "S1-2018",
          "S1-2018",
          "S1-2018",
          "S1-2018",
          "S1-2018",
          "S1-2018",
          "S1-2018",
          "S2-2018",
          "S2-2018",
          "S2-2018",
          "S2-2018",
          "S2-2018",
          "S2-2018",
          "S2-2018",
          "S2-2018",
          "S2-2018",
          "S1-2019",
          "S1-2019",
          "S1-2019",
          "S1-2019",
          "S1-2019",
          "S1-2019",
          "S1-2019",
          "S1-2019",
          "S2-2019",
          "S2-2019",
          "S2-2019",
          "S2-2019",
          "S2-2019",
          "S2-2019",
          "S2-2019",
          "S2-2019",
          "S1-2020",
          "S1-2020",
          "S1-2020",
          "S1-2020",
          "S1-2020",
          "S1-2020",
          "S1-2020",
          "S1-2020",
          "S2-2020",
          "S2-2020",
          "S2-2020",
          "S2-2020",
          "S2-2020",
          "S2-2020",
          "S2-2020",
          "S2-2020",
          "S2-2020",
          "S1-2021",
          "S1-2021",
          "S1-2021",
          "S1-2021",
          "S1-2021",
          "S1-2021",
          "S1-2021",
          "S1-2021",
          "S2-2021",
          "S2-2021",
          "S2-2021",
          "S2-2021",
          "S2-2021",
          "S2-2021",
          "S2-2021",
          "S2-2021",
          "S2-2021",
          "S1-2022",
          "S1-2022",
          "S1-2022",
          "S1-2022",
          "S1-2022",
          "S1-2022",
          "S1-2022",
          "S1-2022",
          "S1-2022"
         ],
         "xaxis": "x",
         "y": [
          0.79,
          null,
          0.67,
          0.67,
          1.04,
          0.53,
          null,
          0.81,
          0.58,
          0.8,
          null,
          0.69,
          0.61,
          1.05,
          0.49,
          null,
          0.84,
          0.62,
          0.7958,
          null,
          0.6799,
          0.6181,
          1.0681,
          0.3465,
          null,
          0.8531,
          0.8035,
          null,
          0.6844,
          0.6465,
          1.0524,
          0.4885,
          null,
          0.8549,
          0.8087,
          null,
          0.6983,
          0.6361,
          1.0552,
          0.4979,
          null,
          0.849,
          0.7837,
          null,
          0.658,
          0.6056,
          1.0458,
          0.4743,
          null,
          0.8167,
          0.8219,
          0.7736,
          null,
          0.6528,
          0.6149,
          1.0222,
          0.4437,
          null,
          0.8076,
          0.7694,
          null,
          0.6667,
          0.7024,
          0.9854,
          0.467,
          null,
          0.8069,
          0.7069,
          0.816,
          null,
          0.6764,
          0.7764,
          1.0226,
          0.5066,
          null,
          0.9583,
          0.7875
         ],
         "yaxis": "y"
        },
        {
         "hovertemplate": "Location=Türkiye<br>Period Label=%{x}<br>Median time in port (days)=%{y}<extra></extra>",
         "legendgroup": "Türkiye",
         "line": {
          "color": "#FF97FF",
          "dash": "solid"
         },
         "marker": {
          "symbol": "circle"
         },
         "mode": "lines+markers",
         "name": "Türkiye",
         "showlegend": true,
         "type": "scattergl",
         "x": [
          "S1-2018",
          "S1-2018",
          "S1-2018",
          "S1-2018",
          "S1-2018",
          "S1-2018",
          "S1-2018",
          "S1-2018",
          "S1-2018",
          "S2-2018",
          "S2-2018",
          "S2-2018",
          "S2-2018",
          "S2-2018",
          "S2-2018",
          "S2-2018",
          "S2-2018",
          "S2-2018",
          "S1-2019",
          "S1-2019",
          "S1-2019",
          "S1-2019",
          "S1-2019",
          "S1-2019",
          "S1-2019",
          "S1-2019",
          "S1-2019",
          "S2-2019",
          "S2-2019",
          "S2-2019",
          "S2-2019",
          "S2-2019",
          "S2-2019",
          "S2-2019",
          "S2-2019",
          "S2-2019",
          "S1-2020",
          "S1-2020",
          "S1-2020",
          "S1-2020",
          "S1-2020",
          "S1-2020",
          "S1-2020",
          "S1-2020",
          "S1-2020",
          "S2-2020",
          "S2-2020",
          "S2-2020",
          "S2-2020",
          "S2-2020",
          "S2-2020",
          "S2-2020",
          "S2-2020",
          "S2-2020",
          "S1-2021",
          "S1-2021",
          "S1-2021",
          "S1-2021",
          "S1-2021",
          "S1-2021",
          "S1-2021",
          "S1-2021",
          "S1-2021",
          "S2-2021",
          "S2-2021",
          "S2-2021",
          "S2-2021",
          "S2-2021",
          "S2-2021",
          "S2-2021",
          "S2-2021",
          "S2-2021",
          "S1-2022",
          "S1-2022",
          "S1-2022",
          "S1-2022",
          "S1-2022",
          "S1-2022",
          "S1-2022",
          "S1-2022",
          "S1-2022"
         ],
         "xaxis": "x",
         "y": [
          1.23,
          null,
          1.1,
          0.63,
          1.55,
          4.13,
          null,
          1.38,
          1.3,
          1.15,
          null,
          1.12,
          0.63,
          1.48,
          3.82,
          null,
          1.35,
          1.34,
          1.1681,
          null,
          1.1299,
          0.6382,
          1.475,
          3.7306,
          null,
          1.2736,
          1.2792,
          1.1882,
          null,
          1.1854,
          0.6271,
          1.475,
          3.4215,
          null,
          1.3267,
          1.2451,
          1.1858,
          null,
          1.1976,
          0.6056,
          1.5215,
          3.8139,
          null,
          1.2319,
          1.2951,
          1.1965,
          null,
          1.2111,
          0.6215,
          1.5431,
          3.9743,
          null,
          1.4278,
          1.2729,
          1.1958,
          null,
          1.192,
          0.6236,
          1.4931,
          3.7319,
          null,
          1.234,
          1.2569,
          1.2347,
          null,
          1.1521,
          0.6382,
          1.5764,
          4.0833,
          null,
          1.1903,
          1.1563,
          1.2806,
          null,
          1.2003,
          0.7306,
          1.4861,
          4.0531,
          null,
          1.167,
          1.2076
         ],
         "yaxis": "y"
        },
        {
         "hovertemplate": "Location=United States of America<br>Period Label=%{x}<br>Median time in port (days)=%{y}<extra></extra>",
         "legendgroup": "United States of America",
         "line": {
          "color": "#FECB52",
          "dash": "solid"
         },
         "marker": {
          "symbol": "circle"
         },
         "mode": "lines+markers",
         "name": "United States of America",
         "showlegend": true,
         "type": "scattergl",
         "x": [
          "S1-2018",
          "S1-2018",
          "S1-2018",
          "S1-2018",
          "S1-2018",
          "S1-2018",
          "S1-2018",
          "S1-2018",
          "S1-2018",
          "S2-2018",
          "S2-2018",
          "S2-2018",
          "S2-2018",
          "S2-2018",
          "S2-2018",
          "S2-2018",
          "S2-2018",
          "S2-2018",
          "S1-2019",
          "S1-2019",
          "S1-2019",
          "S1-2019",
          "S1-2019",
          "S1-2019",
          "S1-2019",
          "S1-2019",
          "S1-2019",
          "S2-2019",
          "S2-2019",
          "S2-2019",
          "S2-2019",
          "S2-2019",
          "S2-2019",
          "S2-2019",
          "S2-2019",
          "S2-2019",
          "S1-2020",
          "S1-2020",
          "S1-2020",
          "S1-2020",
          "S1-2020",
          "S1-2020",
          "S1-2020",
          "S1-2020",
          "S1-2020",
          "S2-2020",
          "S2-2020",
          "S2-2020",
          "S2-2020",
          "S2-2020",
          "S2-2020",
          "S2-2020",
          "S2-2020",
          "S2-2020",
          "S1-2021",
          "S1-2021",
          "S1-2021",
          "S1-2021",
          "S1-2021",
          "S1-2021",
          "S1-2021",
          "S1-2021",
          "S1-2021",
          "S2-2021",
          "S2-2021",
          "S2-2021",
          "S2-2021",
          "S2-2021",
          "S2-2021",
          "S2-2021",
          "S2-2021",
          "S2-2021",
          "S1-2022",
          "S1-2022",
          "S1-2022",
          "S1-2022",
          "S1-2022",
          "S1-2022",
          "S1-2022",
          "S1-2022",
          "S1-2022"
         ],
         "xaxis": "x",
         "y": [
          1.45,
          null,
          1.64,
          0.98,
          1.77,
          2.3,
          null,
          2,
          1.37,
          1.37,
          null,
          1.64,
          1.01,
          1.81,
          1.41,
          null,
          2.05,
          1.25,
          1.4826,
          null,
          1.6799,
          1.0358,
          1.7927,
          2.1833,
          null,
          1.9358,
          1.3208,
          1.3882,
          null,
          1.6222,
          1.0125,
          1.8753,
          1.5382,
          null,
          1.9799,
          1.2698,
          1.4625,
          null,
          1.6444,
          1.0132,
          1.9313,
          2.1361,
          null,
          1.9736,
          1.2222,
          1.4438,
          null,
          1.5872,
          1.0566,
          1.8792,
          1.8399,
          null,
          1.9694,
          1.2757,
          1.5639,
          null,
          1.5684,
          1.2069,
          2.0076,
          2.3632,
          null,
          1.8507,
          1.2844,
          1.5861,
          null,
          1.6201,
          1.2958,
          2.0563,
          2.0778,
          null,
          1.8135,
          1.2521,
          1.7007,
          null,
          1.634,
          1.4326,
          2.0444,
          2.7035,
          null,
          1.8056,
          1.3271
         ],
         "yaxis": "y"
        },
        {
         "hovertemplate": "Location=United Kingdom<br>Period Label=%{x}<br>Median time in port (days)=%{y}<extra></extra>",
         "legendgroup": "United Kingdom",
         "line": {
          "color": "#636efa",
          "dash": "solid"
         },
         "marker": {
          "symbol": "circle"
         },
         "mode": "lines+markers",
         "name": "United Kingdom",
         "showlegend": true,
         "type": "scattergl",
         "x": [
          "S1-2018",
          "S1-2018",
          "S1-2018",
          "S1-2018",
          "S1-2018",
          "S1-2018",
          "S1-2018",
          "S1-2018",
          "S1-2018",
          "S2-2018",
          "S2-2018",
          "S2-2018",
          "S2-2018",
          "S2-2018",
          "S2-2018",
          "S2-2018",
          "S2-2018",
          "S2-2018",
          "S1-2019",
          "S1-2019",
          "S1-2019",
          "S1-2019",
          "S1-2019",
          "S1-2019",
          "S1-2019",
          "S1-2019",
          "S1-2019",
          "S2-2019",
          "S2-2019",
          "S2-2019",
          "S2-2019",
          "S2-2019",
          "S2-2019",
          "S2-2019",
          "S2-2019",
          "S2-2019",
          "S1-2020",
          "S1-2020",
          "S1-2020",
          "S1-2020",
          "S1-2020",
          "S1-2020",
          "S1-2020",
          "S1-2020",
          "S1-2020",
          "S2-2020",
          "S2-2020",
          "S2-2020",
          "S2-2020",
          "S2-2020",
          "S2-2020",
          "S2-2020",
          "S2-2020",
          "S2-2020",
          "S1-2021",
          "S1-2021",
          "S1-2021",
          "S1-2021",
          "S1-2021",
          "S1-2021",
          "S1-2021",
          "S1-2021",
          "S1-2021",
          "S2-2021",
          "S2-2021",
          "S2-2021",
          "S2-2021",
          "S2-2021",
          "S2-2021",
          "S2-2021",
          "S2-2021",
          "S2-2021",
          "S1-2022",
          "S1-2022",
          "S1-2022",
          "S1-2022",
          "S1-2022",
          "S1-2022",
          "S1-2022",
          "S1-2022",
          "S1-2022"
         ],
         "xaxis": "x",
         "y": [
          1.09,
          null,
          1.05,
          0.73,
          1.45,
          2.59,
          null,
          1.07,
          1.44,
          1.1,
          null,
          1.06,
          0.73,
          1.46,
          2.97,
          null,
          1.08,
          1.39,
          1.0799,
          null,
          1.0476,
          0.7396,
          1.4858,
          1.9139,
          null,
          1.0951,
          1.3556,
          1.0764,
          null,
          1.0354,
          0.7142,
          1.4889,
          2.367,
          null,
          1.15,
          1.2198,
          1.1014,
          null,
          1.0521,
          0.7083,
          1.5222,
          2.5,
          null,
          1.0698,
          1.3566,
          1.1125,
          null,
          1.034,
          0.7535,
          1.5378,
          3.0299,
          null,
          1.0535,
          1.2507,
          1.1625,
          null,
          1.0514,
          0.8035,
          1.525,
          2.9014,
          null,
          1.0556,
          1.2271,
          1.1639,
          null,
          1.0438,
          0.8503,
          1.5236,
          3.049,
          null,
          1.0486,
          1.234,
          1.2132,
          null,
          1.0674,
          0.8938,
          1.5444,
          2.875,
          null,
          1.1049,
          1.2215
         ],
         "yaxis": "y"
        }
       ],
       "layout": {
        "legend": {
         "title": {
          "text": "Location"
         },
         "tracegroupgap": 0
        },
        "margin": {
         "t": 60
        },
        "template": {
         "data": {
          "bar": [
           {
            "error_x": {
             "color": "#2a3f5f"
            },
            "error_y": {
             "color": "#2a3f5f"
            },
            "marker": {
             "line": {
              "color": "#E5ECF6",
              "width": 0.5
             },
             "pattern": {
              "fillmode": "overlay",
              "size": 10,
              "solidity": 0.2
             }
            },
            "type": "bar"
           }
          ],
          "barpolar": [
           {
            "marker": {
             "line": {
              "color": "#E5ECF6",
              "width": 0.5
             },
             "pattern": {
              "fillmode": "overlay",
              "size": 10,
              "solidity": 0.2
             }
            },
            "type": "barpolar"
           }
          ],
          "carpet": [
           {
            "aaxis": {
             "endlinecolor": "#2a3f5f",
             "gridcolor": "white",
             "linecolor": "white",
             "minorgridcolor": "white",
             "startlinecolor": "#2a3f5f"
            },
            "baxis": {
             "endlinecolor": "#2a3f5f",
             "gridcolor": "white",
             "linecolor": "white",
             "minorgridcolor": "white",
             "startlinecolor": "#2a3f5f"
            },
            "type": "carpet"
           }
          ],
          "choropleth": [
           {
            "colorbar": {
             "outlinewidth": 0,
             "ticks": ""
            },
            "type": "choropleth"
           }
          ],
          "contour": [
           {
            "colorbar": {
             "outlinewidth": 0,
             "ticks": ""
            },
            "colorscale": [
             [
              0,
              "#0d0887"
             ],
             [
              0.1111111111111111,
              "#46039f"
             ],
             [
              0.2222222222222222,
              "#7201a8"
             ],
             [
              0.3333333333333333,
              "#9c179e"
             ],
             [
              0.4444444444444444,
              "#bd3786"
             ],
             [
              0.5555555555555556,
              "#d8576b"
             ],
             [
              0.6666666666666666,
              "#ed7953"
             ],
             [
              0.7777777777777778,
              "#fb9f3a"
             ],
             [
              0.8888888888888888,
              "#fdca26"
             ],
             [
              1,
              "#f0f921"
             ]
            ],
            "type": "contour"
           }
          ],
          "contourcarpet": [
           {
            "colorbar": {
             "outlinewidth": 0,
             "ticks": ""
            },
            "type": "contourcarpet"
           }
          ],
          "heatmap": [
           {
            "colorbar": {
             "outlinewidth": 0,
             "ticks": ""
            },
            "colorscale": [
             [
              0,
              "#0d0887"
             ],
             [
              0.1111111111111111,
              "#46039f"
             ],
             [
              0.2222222222222222,
              "#7201a8"
             ],
             [
              0.3333333333333333,
              "#9c179e"
             ],
             [
              0.4444444444444444,
              "#bd3786"
             ],
             [
              0.5555555555555556,
              "#d8576b"
             ],
             [
              0.6666666666666666,
              "#ed7953"
             ],
             [
              0.7777777777777778,
              "#fb9f3a"
             ],
             [
              0.8888888888888888,
              "#fdca26"
             ],
             [
              1,
              "#f0f921"
             ]
            ],
            "type": "heatmap"
           }
          ],
          "heatmapgl": [
           {
            "colorbar": {
             "outlinewidth": 0,
             "ticks": ""
            },
            "colorscale": [
             [
              0,
              "#0d0887"
             ],
             [
              0.1111111111111111,
              "#46039f"
             ],
             [
              0.2222222222222222,
              "#7201a8"
             ],
             [
              0.3333333333333333,
              "#9c179e"
             ],
             [
              0.4444444444444444,
              "#bd3786"
             ],
             [
              0.5555555555555556,
              "#d8576b"
             ],
             [
              0.6666666666666666,
              "#ed7953"
             ],
             [
              0.7777777777777778,
              "#fb9f3a"
             ],
             [
              0.8888888888888888,
              "#fdca26"
             ],
             [
              1,
              "#f0f921"
             ]
            ],
            "type": "heatmapgl"
           }
          ],
          "histogram": [
           {
            "marker": {
             "pattern": {
              "fillmode": "overlay",
              "size": 10,
              "solidity": 0.2
             }
            },
            "type": "histogram"
           }
          ],
          "histogram2d": [
           {
            "colorbar": {
             "outlinewidth": 0,
             "ticks": ""
            },
            "colorscale": [
             [
              0,
              "#0d0887"
             ],
             [
              0.1111111111111111,
              "#46039f"
             ],
             [
              0.2222222222222222,
              "#7201a8"
             ],
             [
              0.3333333333333333,
              "#9c179e"
             ],
             [
              0.4444444444444444,
              "#bd3786"
             ],
             [
              0.5555555555555556,
              "#d8576b"
             ],
             [
              0.6666666666666666,
              "#ed7953"
             ],
             [
              0.7777777777777778,
              "#fb9f3a"
             ],
             [
              0.8888888888888888,
              "#fdca26"
             ],
             [
              1,
              "#f0f921"
             ]
            ],
            "type": "histogram2d"
           }
          ],
          "histogram2dcontour": [
           {
            "colorbar": {
             "outlinewidth": 0,
             "ticks": ""
            },
            "colorscale": [
             [
              0,
              "#0d0887"
             ],
             [
              0.1111111111111111,
              "#46039f"
             ],
             [
              0.2222222222222222,
              "#7201a8"
             ],
             [
              0.3333333333333333,
              "#9c179e"
             ],
             [
              0.4444444444444444,
              "#bd3786"
             ],
             [
              0.5555555555555556,
              "#d8576b"
             ],
             [
              0.6666666666666666,
              "#ed7953"
             ],
             [
              0.7777777777777778,
              "#fb9f3a"
             ],
             [
              0.8888888888888888,
              "#fdca26"
             ],
             [
              1,
              "#f0f921"
             ]
            ],
            "type": "histogram2dcontour"
           }
          ],
          "mesh3d": [
           {
            "colorbar": {
             "outlinewidth": 0,
             "ticks": ""
            },
            "type": "mesh3d"
           }
          ],
          "parcoords": [
           {
            "line": {
             "colorbar": {
              "outlinewidth": 0,
              "ticks": ""
             }
            },
            "type": "parcoords"
           }
          ],
          "pie": [
           {
            "automargin": true,
            "type": "pie"
           }
          ],
          "scatter": [
           {
            "fillpattern": {
             "fillmode": "overlay",
             "size": 10,
             "solidity": 0.2
            },
            "type": "scatter"
           }
          ],
          "scatter3d": [
           {
            "line": {
             "colorbar": {
              "outlinewidth": 0,
              "ticks": ""
             }
            },
            "marker": {
             "colorbar": {
              "outlinewidth": 0,
              "ticks": ""
             }
            },
            "type": "scatter3d"
           }
          ],
          "scattercarpet": [
           {
            "marker": {
             "colorbar": {
              "outlinewidth": 0,
              "ticks": ""
             }
            },
            "type": "scattercarpet"
           }
          ],
          "scattergeo": [
           {
            "marker": {
             "colorbar": {
              "outlinewidth": 0,
              "ticks": ""
             }
            },
            "type": "scattergeo"
           }
          ],
          "scattergl": [
           {
            "marker": {
             "colorbar": {
              "outlinewidth": 0,
              "ticks": ""
             }
            },
            "type": "scattergl"
           }
          ],
          "scattermapbox": [
           {
            "marker": {
             "colorbar": {
              "outlinewidth": 0,
              "ticks": ""
             }
            },
            "type": "scattermapbox"
           }
          ],
          "scatterpolar": [
           {
            "marker": {
             "colorbar": {
              "outlinewidth": 0,
              "ticks": ""
             }
            },
            "type": "scatterpolar"
           }
          ],
          "scatterpolargl": [
           {
            "marker": {
             "colorbar": {
              "outlinewidth": 0,
              "ticks": ""
             }
            },
            "type": "scatterpolargl"
           }
          ],
          "scatterternary": [
           {
            "marker": {
             "colorbar": {
              "outlinewidth": 0,
              "ticks": ""
             }
            },
            "type": "scatterternary"
           }
          ],
          "surface": [
           {
            "colorbar": {
             "outlinewidth": 0,
             "ticks": ""
            },
            "colorscale": [
             [
              0,
              "#0d0887"
             ],
             [
              0.1111111111111111,
              "#46039f"
             ],
             [
              0.2222222222222222,
              "#7201a8"
             ],
             [
              0.3333333333333333,
              "#9c179e"
             ],
             [
              0.4444444444444444,
              "#bd3786"
             ],
             [
              0.5555555555555556,
              "#d8576b"
             ],
             [
              0.6666666666666666,
              "#ed7953"
             ],
             [
              0.7777777777777778,
              "#fb9f3a"
             ],
             [
              0.8888888888888888,
              "#fdca26"
             ],
             [
              1,
              "#f0f921"
             ]
            ],
            "type": "surface"
           }
          ],
          "table": [
           {
            "cells": {
             "fill": {
              "color": "#EBF0F8"
             },
             "line": {
              "color": "white"
             }
            },
            "header": {
             "fill": {
              "color": "#C8D4E3"
             },
             "line": {
              "color": "white"
             }
            },
            "type": "table"
           }
          ]
         },
         "layout": {
          "annotationdefaults": {
           "arrowcolor": "#2a3f5f",
           "arrowhead": 0,
           "arrowwidth": 1
          },
          "autotypenumbers": "strict",
          "coloraxis": {
           "colorbar": {
            "outlinewidth": 0,
            "ticks": ""
           }
          },
          "colorscale": {
           "diverging": [
            [
             0,
             "#8e0152"
            ],
            [
             0.1,
             "#c51b7d"
            ],
            [
             0.2,
             "#de77ae"
            ],
            [
             0.3,
             "#f1b6da"
            ],
            [
             0.4,
             "#fde0ef"
            ],
            [
             0.5,
             "#f7f7f7"
            ],
            [
             0.6,
             "#e6f5d0"
            ],
            [
             0.7,
             "#b8e186"
            ],
            [
             0.8,
             "#7fbc41"
            ],
            [
             0.9,
             "#4d9221"
            ],
            [
             1,
             "#276419"
            ]
           ],
           "sequential": [
            [
             0,
             "#0d0887"
            ],
            [
             0.1111111111111111,
             "#46039f"
            ],
            [
             0.2222222222222222,
             "#7201a8"
            ],
            [
             0.3333333333333333,
             "#9c179e"
            ],
            [
             0.4444444444444444,
             "#bd3786"
            ],
            [
             0.5555555555555556,
             "#d8576b"
            ],
            [
             0.6666666666666666,
             "#ed7953"
            ],
            [
             0.7777777777777778,
             "#fb9f3a"
            ],
            [
             0.8888888888888888,
             "#fdca26"
            ],
            [
             1,
             "#f0f921"
            ]
           ],
           "sequentialminus": [
            [
             0,
             "#0d0887"
            ],
            [
             0.1111111111111111,
             "#46039f"
            ],
            [
             0.2222222222222222,
             "#7201a8"
            ],
            [
             0.3333333333333333,
             "#9c179e"
            ],
            [
             0.4444444444444444,
             "#bd3786"
            ],
            [
             0.5555555555555556,
             "#d8576b"
            ],
            [
             0.6666666666666666,
             "#ed7953"
            ],
            [
             0.7777777777777778,
             "#fb9f3a"
            ],
            [
             0.8888888888888888,
             "#fdca26"
            ],
            [
             1,
             "#f0f921"
            ]
           ]
          },
          "colorway": [
           "#636efa",
           "#EF553B",
           "#00cc96",
           "#ab63fa",
           "#FFA15A",
           "#19d3f3",
           "#FF6692",
           "#B6E880",
           "#FF97FF",
           "#FECB52"
          ],
          "font": {
           "color": "#2a3f5f"
          },
          "geo": {
           "bgcolor": "white",
           "lakecolor": "white",
           "landcolor": "#E5ECF6",
           "showlakes": true,
           "showland": true,
           "subunitcolor": "white"
          },
          "hoverlabel": {
           "align": "left"
          },
          "hovermode": "closest",
          "mapbox": {
           "style": "light"
          },
          "paper_bgcolor": "white",
          "plot_bgcolor": "#E5ECF6",
          "polar": {
           "angularaxis": {
            "gridcolor": "white",
            "linecolor": "white",
            "ticks": ""
           },
           "bgcolor": "#E5ECF6",
           "radialaxis": {
            "gridcolor": "white",
            "linecolor": "white",
            "ticks": ""
           }
          },
          "scene": {
           "xaxis": {
            "backgroundcolor": "#E5ECF6",
            "gridcolor": "white",
            "gridwidth": 2,
            "linecolor": "white",
            "showbackground": true,
            "ticks": "",
            "zerolinecolor": "white"
           },
           "yaxis": {
            "backgroundcolor": "#E5ECF6",
            "gridcolor": "white",
            "gridwidth": 2,
            "linecolor": "white",
            "showbackground": true,
            "ticks": "",
            "zerolinecolor": "white"
           },
           "zaxis": {
            "backgroundcolor": "#E5ECF6",
            "gridcolor": "white",
            "gridwidth": 2,
            "linecolor": "white",
            "showbackground": true,
            "ticks": "",
            "zerolinecolor": "white"
           }
          },
          "shapedefaults": {
           "line": {
            "color": "#2a3f5f"
           }
          },
          "ternary": {
           "aaxis": {
            "gridcolor": "white",
            "linecolor": "white",
            "ticks": ""
           },
           "baxis": {
            "gridcolor": "white",
            "linecolor": "white",
            "ticks": ""
           },
           "bgcolor": "#E5ECF6",
           "caxis": {
            "gridcolor": "white",
            "linecolor": "white",
            "ticks": ""
           }
          },
          "title": {
           "x": 0.05
          },
          "xaxis": {
           "automargin": true,
           "gridcolor": "white",
           "linecolor": "white",
           "ticks": "",
           "title": {
            "standoff": 15
           },
           "zerolinecolor": "white",
           "zerolinewidth": 2
          },
          "yaxis": {
           "automargin": true,
           "gridcolor": "white",
           "linecolor": "white",
           "ticks": "",
           "title": {
            "standoff": 15
           },
           "zerolinecolor": "white",
           "zerolinewidth": 2
          }
         }
        },
        "xaxis": {
         "anchor": "y",
         "domain": [
          0,
          1
         ],
         "title": {
          "text": "Period Label"
         }
        },
        "yaxis": {
         "anchor": "x",
         "domain": [
          0,
          1
         ],
         "title": {
          "text": "Median time in port (days)"
         }
        }
       }
      }
     },
     "metadata": {},
     "output_type": "display_data"
    }
   ],
   "source": [
    "\n",
    "fig.show()\n",
    "\n"
   ]
  },
  {
   "cell_type": "code",
   "execution_count": 5,
   "metadata": {},
   "outputs": [
    {
     "data": {
      "text/plain": [
       "\"\\n\\nnew = df_ports['Period Label'].str.split('  ', n = 1, expand = True)\\ndf_ports['Semester']= new[0]\\ndf_ports['Year']= new[1]\\ndf_ports.drop(columns =['Period Label'], inplace = True)\\ndf_ports = df_ports[['Period', 'Year', 'Semester', 'Frequency', 'Frequency Label', 'Economy',\\n       'Economy Label', 'CommercialMarket', 'CommercialMarket Label',\\n       'Median time in port (days)', 'Median time in port (days) Footnote',\\n       'Average age of vessels', 'Average age of vessels Footnote',\\n       'Average size (GT) of vessels', 'Average size (GT) of vessels Footnote',\\n       'Maximum size (GT) of vessels', 'Maximum size (GT) of vessels Footnote',\\n       'Average cargo carrying capacity (dwt) per vessel',\\n       'Average cargo carrying capacity (dwt) per vessel Footnote',\\n       'Maximum cargo carrying capacity (dwt) of vessels',\\n       'Maximum cargo carrying capacity (dwt) of vessels Footnote',\\n       'Average container carrying capacity (TEU) per container ship',\\n       'Average container carrying capacity (TEU) per container ship Footnote',\\n       'Maximum container carrying capacity (TEU) of container ships',\\n       'Maximum container carrying capacity (TEU) of container ships Footnote',\\n       ]]\\ndf_ports\\n\\n\""
      ]
     },
     "execution_count": 5,
     "metadata": {},
     "output_type": "execute_result"
    }
   ],
   "source": [
    "\n",
    "\n",
    "'''\n",
    "\n",
    "new = df_ports['Period Label'].str.split('  ', n = 1, expand = True)\n",
    "df_ports['Semester']= new[0]\n",
    "df_ports['Year']= new[1]\n",
    "df_ports.drop(columns =['Period Label'], inplace = True)\n",
    "df_ports = df_ports[['Period', 'Year', 'Semester', 'Frequency', 'Frequency Label', 'Economy',\n",
    "       'Economy Label', 'CommercialMarket', 'CommercialMarket Label',\n",
    "       'Median time in port (days)', 'Median time in port (days) Footnote',\n",
    "       'Average age of vessels', 'Average age of vessels Footnote',\n",
    "       'Average size (GT) of vessels', 'Average size (GT) of vessels Footnote',\n",
    "       'Maximum size (GT) of vessels', 'Maximum size (GT) of vessels Footnote',\n",
    "       'Average cargo carrying capacity (dwt) per vessel',\n",
    "       'Average cargo carrying capacity (dwt) per vessel Footnote',\n",
    "       'Maximum cargo carrying capacity (dwt) of vessels',\n",
    "       'Maximum cargo carrying capacity (dwt) of vessels Footnote',\n",
    "       'Average container carrying capacity (TEU) per container ship',\n",
    "       'Average container carrying capacity (TEU) per container ship Footnote',\n",
    "       'Maximum container carrying capacity (TEU) of container ships',\n",
    "       'Maximum container carrying capacity (TEU) of container ships Footnote',\n",
    "       ]]\n",
    "df_ports\n",
    "\n",
    "'''"
   ]
  }
 ],
 "metadata": {
  "kernelspec": {
   "display_name": "Python 3.9.13 ('TIL6020')",
   "language": "python",
   "name": "python3"
  },
  "language_info": {
   "codemirror_mode": {
    "name": "ipython",
    "version": 3
   },
   "file_extension": ".py",
   "mimetype": "text/x-python",
   "name": "python",
   "nbconvert_exporter": "python",
   "pygments_lexer": "ipython3",
   "version": "3.9.13"
  },
  "vscode": {
   "interpreter": {
    "hash": "21301bda9abd111d88ec9fdd6a322815fce6104e4d4846877c4e00bcd10d98ea"
   }
  }
 },
 "nbformat": 4,
 "nbformat_minor": 2
}
