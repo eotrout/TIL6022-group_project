{
 "cells": [
  {
   "cell_type": "markdown",
   "metadata": {},
   "source": [
    "# Project Group - 25\n",
    "\n",
    "Members: Yun-An LIN (Jackie), Rohan Menezes, John Kuttikat, Muhammad Rizki Ziarieputra (Kiki), Ian Trout \n",
    "\n",
    "Student numbers: 5841682, 5850908, 5765382, 5848113, 5851483"
   ]
  },
  {
   "cell_type": "markdown",
   "metadata": {},
   "source": [
    "# Research Objective\n",
    "\n",
    "*Requires data modeling and quantitative research in Transport, Infrastructure & Logistics*"
   ]
  },
  {
   "cell_type": "markdown",
   "metadata": {},
   "source": [
    "Vessel time spent in ports by country before and during COVID--an analysis by ship category showing the impacts of COVID"
   ]
  },
  {
   "cell_type": "markdown",
   "metadata": {},
   "source": [
    "# Contribution Statement\n",
    "\n",
    "*Be specific. Some of the tasks can be coding (expect everyone to do this), background research, conceptualisation, visualisation, data analysis, data modelling*"
   ]
  },
  {
   "cell_type": "markdown",
   "metadata": {},
   "source": [
    "**Author 1**: coding, background research, conceptualisation\n",
    "\n",
    "**Author 2**:coding, visualisation\n",
    "\n",
    "**Author 3**: coding, data analysis\n",
    "    \n",
    "**Author 4**:coding, data modelling\n",
    "\n",
    "**Author 5**: coding, visualisation"
   ]
  },
  {
   "cell_type": "markdown",
   "metadata": {},
   "source": [
    "# Data Used"
   ]
  },
  {
   "cell_type": "markdown",
   "metadata": {},
   "source": [
    "----Covid data (https://data.humdata.org/dataset/coronavirus-covid-19-cases-and-deaths) \n",
    "\n",
    "----Port data (https://unctadstat.unctad.org/wds/TableViewer/tableView.aspx?ReportId=170027)\n",
    "\n",
    "----total cargo loaded/unloaded by region from 1970 to 2020 (https://www.kaggle.com/datasets/illiaparfeniuk/maritime-trading-volumes)\n",
    "\n",
    "----Total amount of goods imported and exported by ship per EU country(https://ec.europa.eu/eurostat/databrowser/view/ttr00009/default/map?lang=en)"
   ]
  },
  {
   "cell_type": "markdown",
   "metadata": {},
   "source": [
    "# Data Pipeline"
   ]
  },
  {
   "cell_type": "markdown",
   "metadata": {},
   "source": [
    "take only the last 6 months of each year (limitation of the maritime data): \n",
    "    \n",
    "convert the maritime data:\n",
    "    \n",
    "    1) to a common volume \n",
    "    \n",
    "    2) calculate the average volume for all cargo types \n",
    "    \n",
    "    3) consolidate the data into regions of the world. \n",
    "\n",
    "convert COVID cases: \n",
    "    1) calculate the average vaccination cases per country that has reported it \n",
    "    2) calculate the average COVID cases per country for the last 6 months of every year (July to December) \n",
    "    \n",
    "Analyze port call times for 2018, 2019, compared to 2020 to see the difference with COVID.\n",
    "\n",
    "---calculate the differences \n",
    "\n",
    "Compare the 2020 and 2021 port call times to see if improvements have been made or if port calls are still slow. \n",
    "\n",
    "Visually show the change in port call times by region of the world by year. \n",
    "\n"
   ]
  },
  {
   "cell_type": "markdown",
   "metadata": {},
   "source": [
    "# Part I"
   ]
  },
  {
   "cell_type": "code",
   "execution_count": 1,
   "metadata": {},
   "outputs": [
    {
     "data": {
      "text/html": [
       "        <script type=\"text/javascript\">\n",
       "        window.PlotlyConfig = {MathJaxConfig: 'local'};\n",
       "        if (window.MathJax && window.MathJax.Hub && window.MathJax.Hub.Config) {window.MathJax.Hub.Config({SVG: {font: \"STIX-Web\"}});}\n",
       "        if (typeof require !== 'undefined') {\n",
       "        require.undef(\"plotly\");\n",
       "        requirejs.config({\n",
       "            paths: {\n",
       "                'plotly': ['https://cdn.plot.ly/plotly-2.14.0.min']\n",
       "            }\n",
       "        });\n",
       "        require(['plotly'], function(Plotly) {\n",
       "            window._Plotly = Plotly;\n",
       "        });\n",
       "        }\n",
       "        </script>\n",
       "        "
      ]
     },
     "metadata": {},
     "output_type": "display_data"
    }
   ],
   "source": [
    "import pandas as pd\n",
    "import chardet\n",
    "from plotly.offline import init_notebook_mode\n",
    "import pandas as pd\n",
    "import numpy as np\n",
    "import plotly.io as pio\n",
    "import plotly.express as px\n",
    "import plotly.graph_objects as go\n",
    "import json\n",
    "import itertools\n",
    "import geopandas as gpd\n",
    "\n",
    "init_notebook_mode(connected=True)\n",
    "pio.renderers.default = \"plotly_mimetype+notebook\""
   ]
  },
  {
   "cell_type": "code",
   "execution_count": 4,
   "metadata": {},
   "outputs": [
    {
     "data": {
      "text/plain": [
       "{'encoding': 'utf-8', 'confidence': 0.99, 'language': ''}"
      ]
     },
     "execution_count": 4,
     "metadata": {},
     "output_type": "execute_result"
    }
   ],
   "source": [
    "file_path = r\"/Users/iantrout/TIL6022-group_project/Data/Maritime data/US_PortCalls_S_ST202209220924_v1.csv\"\n",
    "with open(file_path, 'rb') as rawdata:\n",
    "    result = chardet.detect(rawdata.read(100000))\n",
    "result"
   ]
  },
  {
   "cell_type": "code",
   "execution_count": 5,
   "metadata": {},
   "outputs": [
    {
     "data": {
      "text/html": [
       "<div>\n",
       "<style scoped>\n",
       "    .dataframe tbody tr th:only-of-type {\n",
       "        vertical-align: middle;\n",
       "    }\n",
       "\n",
       "    .dataframe tbody tr th {\n",
       "        vertical-align: top;\n",
       "    }\n",
       "\n",
       "    .dataframe thead th {\n",
       "        text-align: right;\n",
       "    }\n",
       "</style>\n",
       "<table border=\"1\" class=\"dataframe\">\n",
       "  <thead>\n",
       "    <tr style=\"text-align: right;\">\n",
       "      <th></th>\n",
       "      <th>Period Label</th>\n",
       "      <th>Year</th>\n",
       "      <th>Location</th>\n",
       "      <th>Vessel Type</th>\n",
       "      <th>Median time in port (days)</th>\n",
       "      <th>Average age of vessels</th>\n",
       "      <th>Average size (GT) of vessels</th>\n",
       "      <th>Maximum size (GT) of vessels</th>\n",
       "      <th>Average cargo carrying capacity (dwt) per vessel</th>\n",
       "      <th>Maximum cargo carrying capacity (dwt) of vessels</th>\n",
       "      <th>Average container carrying capacity (TEU) per container ship</th>\n",
       "      <th>Maximum container carrying capacity (TEU) of container ships</th>\n",
       "    </tr>\n",
       "  </thead>\n",
       "  <tbody>\n",
       "    <tr>\n",
       "      <th>0</th>\n",
       "      <td>S1-2018</td>\n",
       "      <td>2018</td>\n",
       "      <td>World</td>\n",
       "      <td>All ships</td>\n",
       "      <td>0.97</td>\n",
       "      <td>18</td>\n",
       "      <td>15222</td>\n",
       "      <td>234006</td>\n",
       "      <td>24074.0</td>\n",
       "      <td>441561.0</td>\n",
       "      <td>3526.0</td>\n",
       "      <td>21413.0</td>\n",
       "    </tr>\n",
       "    <tr>\n",
       "      <th>1</th>\n",
       "      <td>S1-2018</td>\n",
       "      <td>2018</td>\n",
       "      <td>World</td>\n",
       "      <td>Passenger ships</td>\n",
       "      <td>NaN</td>\n",
       "      <td>21</td>\n",
       "      <td>8978</td>\n",
       "      <td>228081</td>\n",
       "      <td>NaN</td>\n",
       "      <td>NaN</td>\n",
       "      <td>NaN</td>\n",
       "      <td>NaN</td>\n",
       "    </tr>\n",
       "    <tr>\n",
       "      <th>2</th>\n",
       "      <td>S1-2018</td>\n",
       "      <td>2018</td>\n",
       "      <td>World</td>\n",
       "      <td>Liquid bulk carriers</td>\n",
       "      <td>0.94</td>\n",
       "      <td>13</td>\n",
       "      <td>15470</td>\n",
       "      <td>234006</td>\n",
       "      <td>26871.0</td>\n",
       "      <td>441561.0</td>\n",
       "      <td>NaN</td>\n",
       "      <td>NaN</td>\n",
       "    </tr>\n",
       "    <tr>\n",
       "      <th>3</th>\n",
       "      <td>S1-2018</td>\n",
       "      <td>2018</td>\n",
       "      <td>World</td>\n",
       "      <td>Container ships</td>\n",
       "      <td>0.69</td>\n",
       "      <td>13</td>\n",
       "      <td>38405</td>\n",
       "      <td>217673</td>\n",
       "      <td>NaN</td>\n",
       "      <td>NaN</td>\n",
       "      <td>3526.0</td>\n",
       "      <td>21413.0</td>\n",
       "    </tr>\n",
       "    <tr>\n",
       "      <th>4</th>\n",
       "      <td>S1-2018</td>\n",
       "      <td>2018</td>\n",
       "      <td>World</td>\n",
       "      <td>Dry breakbulk carriers</td>\n",
       "      <td>1.12</td>\n",
       "      <td>19</td>\n",
       "      <td>5455</td>\n",
       "      <td>91784</td>\n",
       "      <td>7413.0</td>\n",
       "      <td>138743.0</td>\n",
       "      <td>NaN</td>\n",
       "      <td>NaN</td>\n",
       "    </tr>\n",
       "  </tbody>\n",
       "</table>\n",
       "</div>"
      ],
      "text/plain": [
       "  Period Label  Year Location             Vessel Type  \\\n",
       "0      S1-2018  2018    World               All ships   \n",
       "1      S1-2018  2018    World         Passenger ships   \n",
       "2      S1-2018  2018    World    Liquid bulk carriers   \n",
       "3      S1-2018  2018    World         Container ships   \n",
       "4      S1-2018  2018    World  Dry breakbulk carriers   \n",
       "\n",
       "   Median time in port (days)  Average age of vessels  \\\n",
       "0                        0.97                      18   \n",
       "1                         NaN                      21   \n",
       "2                        0.94                      13   \n",
       "3                        0.69                      13   \n",
       "4                        1.12                      19   \n",
       "\n",
       "   Average size (GT) of vessels  Maximum size (GT) of vessels  \\\n",
       "0                         15222                        234006   \n",
       "1                          8978                        228081   \n",
       "2                         15470                        234006   \n",
       "3                         38405                        217673   \n",
       "4                          5455                         91784   \n",
       "\n",
       "   Average cargo carrying capacity (dwt) per vessel  \\\n",
       "0                                           24074.0   \n",
       "1                                               NaN   \n",
       "2                                           26871.0   \n",
       "3                                               NaN   \n",
       "4                                            7413.0   \n",
       "\n",
       "   Maximum cargo carrying capacity (dwt) of vessels  \\\n",
       "0                                          441561.0   \n",
       "1                                               NaN   \n",
       "2                                          441561.0   \n",
       "3                                               NaN   \n",
       "4                                          138743.0   \n",
       "\n",
       "   Average container carrying capacity (TEU) per container ship  \\\n",
       "0                                             3526.0              \n",
       "1                                                NaN              \n",
       "2                                                NaN              \n",
       "3                                             3526.0              \n",
       "4                                                NaN              \n",
       "\n",
       "   Maximum container carrying capacity (TEU) of container ships  \n",
       "0                                            21413.0             \n",
       "1                                                NaN             \n",
       "2                                                NaN             \n",
       "3                                            21413.0             \n",
       "4                                                NaN             "
      ]
     },
     "execution_count": 5,
     "metadata": {},
     "output_type": "execute_result"
    }
   ],
   "source": [
    "# Importing and Touching-up the Data\n",
    "\n",
    "df_ports = pd.read_csv(file_path,encoding='utf-8')\n",
    "df_ports['Period Label'] = df_ports['Period Label'].str.replace('   ','-')\n",
    "df_ports = df_ports.drop(columns=['Period', 'Frequency', 'Frequency Label', 'Economy', \n",
    "                                      'CommercialMarket', 'Median time in port (days) Footnote',\n",
    "                                      'Average age of vessels Footnote', 'Average size (GT) of vessels Footnote',\n",
    "                                      'Maximum size (GT) of vessels Footnote', 'Average cargo carrying capacity (dwt) per vessel Footnote',\n",
    "                                      'Maximum cargo carrying capacity (dwt) of vessels Footnote','Average container carrying capacity (TEU) per container ship Footnote',\n",
    "                                      'Maximum container carrying capacity (TEU) of container ships Footnote'])\n",
    "df_ports.rename(columns = {'Economy Label': 'Location', 'CommercialMarket Label': 'Vessel Type', }, inplace=True)\n",
    "df_ports.head()"
   ]
  },
  {
   "cell_type": "code",
   "execution_count": null,
   "metadata": {},
   "outputs": [],
   "source": []
  }
 ],
 "metadata": {
  "kernelspec": {
   "display_name": "Python 3 (ipykernel)",
   "language": "python",
   "name": "python3"
  },
  "language_info": {
   "codemirror_mode": {
    "name": "ipython",
    "version": 3
   },
   "file_extension": ".py",
   "mimetype": "text/x-python",
   "name": "python",
   "nbconvert_exporter": "python",
   "pygments_lexer": "ipython3",
   "version": "3.9.13"
  },
  "vscode": {
   "interpreter": {
    "hash": "31f2aee4e71d21fbe5cf8b01ff0e069b9275f58929596ceb00d14d90e3e16cd6"
   }
  }
 },
 "nbformat": 4,
 "nbformat_minor": 2
}
