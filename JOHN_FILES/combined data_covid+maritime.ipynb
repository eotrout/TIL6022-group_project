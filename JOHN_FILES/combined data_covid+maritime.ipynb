{
 "cells": [
  {
   "cell_type": "code",
   "execution_count": null,
   "metadata": {},
   "outputs": [],
   "source": []
  }
 ],
 "metadata": {
  "kernelspec": {
   "display_name": "Python 3.10.4 ('TIL6022')",
   "language": "python",
   "name": "python3"
  },
  "language_info": {
   "name": "python",
   "version": "3.10.4"
  },
  "orig_nbformat": 4,
  "vscode": {
   "interpreter": {
    "hash": "7dacee54fe26c2f59b3b3689fc2ecbfee387b3b7508fedb8276441f70053673d"
   }
  }
 },
 "nbformat": 4,
 "nbformat_minor": 2
}
