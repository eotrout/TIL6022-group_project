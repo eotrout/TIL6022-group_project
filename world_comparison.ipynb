{
 "cells": [
  {
   "cell_type": "code",
   "execution_count": 15,
   "metadata": {},
   "outputs": [],
   "source": [
    "import pandas as pd\n",
    "import chardet"
   ]
  },
  {
   "cell_type": "code",
   "execution_count": 16,
   "metadata": {},
   "outputs": [
    {
     "data": {
      "text/plain": [
       "{'encoding': 'utf-8', 'confidence': 0.99, 'language': ''}"
      ]
     },
     "execution_count": 16,
     "metadata": {},
     "output_type": "execute_result"
    }
   ],
   "source": [
    "file_path = r\"Data\\Maritime data\\US_PortCalls_S_ST202209220924_v1.csv\"\n",
    "with open(file_path, 'rb') as rawdata:\n",
    "    result = chardet.detect(rawdata.read(100000))\n",
    "result"
   ]
  },
  {
   "cell_type": "code",
   "execution_count": 17,
   "metadata": {},
   "outputs": [
    {
     "data": {
      "text/html": [
       "<div>\n",
       "<style scoped>\n",
       "    .dataframe tbody tr th:only-of-type {\n",
       "        vertical-align: middle;\n",
       "    }\n",
       "\n",
       "    .dataframe tbody tr th {\n",
       "        vertical-align: top;\n",
       "    }\n",
       "\n",
       "    .dataframe thead th {\n",
       "        text-align: right;\n",
       "    }\n",
       "</style>\n",
       "<table border=\"1\" class=\"dataframe\">\n",
       "  <thead>\n",
       "    <tr style=\"text-align: right;\">\n",
       "      <th></th>\n",
       "      <th>Year</th>\n",
       "      <th>Location</th>\n",
       "      <th>Vessel Type</th>\n",
       "      <th>Median time in port (days)</th>\n",
       "      <th>Average age of vessels</th>\n",
       "      <th>Average size (GT) of vessels</th>\n",
       "      <th>Maximum size (GT) of vessels</th>\n",
       "      <th>Average cargo carrying capacity (dwt) per vessel</th>\n",
       "      <th>Maximum cargo carrying capacity (dwt) of vessels</th>\n",
       "      <th>Average container carrying capacity (TEU) per container ship</th>\n",
       "      <th>Maximum container carrying capacity (TEU) of container ships</th>\n",
       "      <th>date</th>\n",
       "    </tr>\n",
       "  </thead>\n",
       "  <tbody>\n",
       "    <tr>\n",
       "      <th>0</th>\n",
       "      <td>2018</td>\n",
       "      <td>World</td>\n",
       "      <td>All ships</td>\n",
       "      <td>0.9700</td>\n",
       "      <td>18</td>\n",
       "      <td>15222</td>\n",
       "      <td>234006</td>\n",
       "      <td>24074.0</td>\n",
       "      <td>441561.0</td>\n",
       "      <td>3526.0</td>\n",
       "      <td>21413.0</td>\n",
       "      <td>2018-07-31</td>\n",
       "    </tr>\n",
       "    <tr>\n",
       "      <th>1</th>\n",
       "      <td>2018</td>\n",
       "      <td>World</td>\n",
       "      <td>Passenger ships</td>\n",
       "      <td>NaN</td>\n",
       "      <td>21</td>\n",
       "      <td>8978</td>\n",
       "      <td>228081</td>\n",
       "      <td>NaN</td>\n",
       "      <td>NaN</td>\n",
       "      <td>NaN</td>\n",
       "      <td>NaN</td>\n",
       "      <td>2018-07-31</td>\n",
       "    </tr>\n",
       "    <tr>\n",
       "      <th>2</th>\n",
       "      <td>2018</td>\n",
       "      <td>World</td>\n",
       "      <td>Liquid bulk carriers</td>\n",
       "      <td>0.9400</td>\n",
       "      <td>13</td>\n",
       "      <td>15470</td>\n",
       "      <td>234006</td>\n",
       "      <td>26871.0</td>\n",
       "      <td>441561.0</td>\n",
       "      <td>NaN</td>\n",
       "      <td>NaN</td>\n",
       "      <td>2018-07-31</td>\n",
       "    </tr>\n",
       "    <tr>\n",
       "      <th>3</th>\n",
       "      <td>2018</td>\n",
       "      <td>World</td>\n",
       "      <td>Container ships</td>\n",
       "      <td>0.6900</td>\n",
       "      <td>13</td>\n",
       "      <td>38405</td>\n",
       "      <td>217673</td>\n",
       "      <td>NaN</td>\n",
       "      <td>NaN</td>\n",
       "      <td>3526.0</td>\n",
       "      <td>21413.0</td>\n",
       "      <td>2018-07-31</td>\n",
       "    </tr>\n",
       "    <tr>\n",
       "      <th>4</th>\n",
       "      <td>2018</td>\n",
       "      <td>World</td>\n",
       "      <td>Dry breakbulk carriers</td>\n",
       "      <td>1.1200</td>\n",
       "      <td>19</td>\n",
       "      <td>5455</td>\n",
       "      <td>91784</td>\n",
       "      <td>7413.0</td>\n",
       "      <td>138743.0</td>\n",
       "      <td>NaN</td>\n",
       "      <td>NaN</td>\n",
       "      <td>2018-07-31</td>\n",
       "    </tr>\n",
       "    <tr>\n",
       "      <th>...</th>\n",
       "      <td>...</td>\n",
       "      <td>...</td>\n",
       "      <td>...</td>\n",
       "      <td>...</td>\n",
       "      <td>...</td>\n",
       "      <td>...</td>\n",
       "      <td>...</td>\n",
       "      <td>...</td>\n",
       "      <td>...</td>\n",
       "      <td>...</td>\n",
       "      <td>...</td>\n",
       "      <td>...</td>\n",
       "    </tr>\n",
       "    <tr>\n",
       "      <th>1453</th>\n",
       "      <td>2022</td>\n",
       "      <td>World</td>\n",
       "      <td>Dry breakbulk carriers</td>\n",
       "      <td>1.1938</td>\n",
       "      <td>21</td>\n",
       "      <td>5571</td>\n",
       "      <td>91784</td>\n",
       "      <td>7604.0</td>\n",
       "      <td>138743.0</td>\n",
       "      <td>NaN</td>\n",
       "      <td>NaN</td>\n",
       "      <td>2022-07-31</td>\n",
       "    </tr>\n",
       "    <tr>\n",
       "      <th>1454</th>\n",
       "      <td>2022</td>\n",
       "      <td>World</td>\n",
       "      <td>Dry bulk carriers</td>\n",
       "      <td>2.2306</td>\n",
       "      <td>14</td>\n",
       "      <td>32735</td>\n",
       "      <td>204014</td>\n",
       "      <td>58640.0</td>\n",
       "      <td>404389.0</td>\n",
       "      <td>NaN</td>\n",
       "      <td>NaN</td>\n",
       "      <td>2022-07-31</td>\n",
       "    </tr>\n",
       "    <tr>\n",
       "      <th>1455</th>\n",
       "      <td>2022</td>\n",
       "      <td>World</td>\n",
       "      <td>Roll-on/ roll-off ships</td>\n",
       "      <td>NaN</td>\n",
       "      <td>17</td>\n",
       "      <td>25706</td>\n",
       "      <td>100430</td>\n",
       "      <td>10319.0</td>\n",
       "      <td>55828.0</td>\n",
       "      <td>NaN</td>\n",
       "      <td>NaN</td>\n",
       "      <td>2022-07-31</td>\n",
       "    </tr>\n",
       "    <tr>\n",
       "      <th>1456</th>\n",
       "      <td>2022</td>\n",
       "      <td>World</td>\n",
       "      <td>Liquefied petroleum gas carriers</td>\n",
       "      <td>1.0292</td>\n",
       "      <td>16</td>\n",
       "      <td>10726</td>\n",
       "      <td>60784</td>\n",
       "      <td>11986.0</td>\n",
       "      <td>64220.0</td>\n",
       "      <td>NaN</td>\n",
       "      <td>NaN</td>\n",
       "      <td>2022-07-31</td>\n",
       "    </tr>\n",
       "    <tr>\n",
       "      <th>1457</th>\n",
       "      <td>2022</td>\n",
       "      <td>World</td>\n",
       "      <td>Liquefied natural gas carriers</td>\n",
       "      <td>1.1174</td>\n",
       "      <td>12</td>\n",
       "      <td>96843</td>\n",
       "      <td>168189</td>\n",
       "      <td>75614.0</td>\n",
       "      <td>155159.0</td>\n",
       "      <td>NaN</td>\n",
       "      <td>NaN</td>\n",
       "      <td>2022-07-31</td>\n",
       "    </tr>\n",
       "  </tbody>\n",
       "</table>\n",
       "<p>81 rows × 12 columns</p>\n",
       "</div>"
      ],
      "text/plain": [
       "      Year Location                       Vessel Type  \\\n",
       "0     2018    World                         All ships   \n",
       "1     2018    World                   Passenger ships   \n",
       "2     2018    World              Liquid bulk carriers   \n",
       "3     2018    World                   Container ships   \n",
       "4     2018    World            Dry breakbulk carriers   \n",
       "...    ...      ...                               ...   \n",
       "1453  2022    World            Dry breakbulk carriers   \n",
       "1454  2022    World                 Dry bulk carriers   \n",
       "1455  2022    World           Roll-on/ roll-off ships   \n",
       "1456  2022    World  Liquefied petroleum gas carriers   \n",
       "1457  2022    World    Liquefied natural gas carriers   \n",
       "\n",
       "      Median time in port (days)  Average age of vessels  \\\n",
       "0                         0.9700                      18   \n",
       "1                            NaN                      21   \n",
       "2                         0.9400                      13   \n",
       "3                         0.6900                      13   \n",
       "4                         1.1200                      19   \n",
       "...                          ...                     ...   \n",
       "1453                      1.1938                      21   \n",
       "1454                      2.2306                      14   \n",
       "1455                         NaN                      17   \n",
       "1456                      1.0292                      16   \n",
       "1457                      1.1174                      12   \n",
       "\n",
       "      Average size (GT) of vessels  Maximum size (GT) of vessels  \\\n",
       "0                            15222                        234006   \n",
       "1                             8978                        228081   \n",
       "2                            15470                        234006   \n",
       "3                            38405                        217673   \n",
       "4                             5455                         91784   \n",
       "...                            ...                           ...   \n",
       "1453                          5571                         91784   \n",
       "1454                         32735                        204014   \n",
       "1455                         25706                        100430   \n",
       "1456                         10726                         60784   \n",
       "1457                         96843                        168189   \n",
       "\n",
       "      Average cargo carrying capacity (dwt) per vessel  \\\n",
       "0                                              24074.0   \n",
       "1                                                  NaN   \n",
       "2                                              26871.0   \n",
       "3                                                  NaN   \n",
       "4                                               7413.0   \n",
       "...                                                ...   \n",
       "1453                                            7604.0   \n",
       "1454                                           58640.0   \n",
       "1455                                           10319.0   \n",
       "1456                                           11986.0   \n",
       "1457                                           75614.0   \n",
       "\n",
       "      Maximum cargo carrying capacity (dwt) of vessels  \\\n",
       "0                                             441561.0   \n",
       "1                                                  NaN   \n",
       "2                                             441561.0   \n",
       "3                                                  NaN   \n",
       "4                                             138743.0   \n",
       "...                                                ...   \n",
       "1453                                          138743.0   \n",
       "1454                                          404389.0   \n",
       "1455                                           55828.0   \n",
       "1456                                           64220.0   \n",
       "1457                                          155159.0   \n",
       "\n",
       "      Average container carrying capacity (TEU) per container ship  \\\n",
       "0                                                3526.0              \n",
       "1                                                   NaN              \n",
       "2                                                   NaN              \n",
       "3                                                3526.0              \n",
       "4                                                   NaN              \n",
       "...                                                 ...              \n",
       "1453                                                NaN              \n",
       "1454                                                NaN              \n",
       "1455                                                NaN              \n",
       "1456                                                NaN              \n",
       "1457                                                NaN              \n",
       "\n",
       "      Maximum container carrying capacity (TEU) of container ships        date  \n",
       "0                                               21413.0             2018-07-31  \n",
       "1                                                   NaN             2018-07-31  \n",
       "2                                                   NaN             2018-07-31  \n",
       "3                                               21413.0             2018-07-31  \n",
       "4                                                   NaN             2018-07-31  \n",
       "...                                                 ...                    ...  \n",
       "1453                                                NaN             2022-07-31  \n",
       "1454                                                NaN             2022-07-31  \n",
       "1455                                                NaN             2022-07-31  \n",
       "1456                                                NaN             2022-07-31  \n",
       "1457                                                NaN             2022-07-31  \n",
       "\n",
       "[81 rows x 12 columns]"
      ]
     },
     "execution_count": 17,
     "metadata": {},
     "output_type": "execute_result"
    }
   ],
   "source": [
    "# Importing and Touching-up the Data\n",
    "\n",
    "df_ports = pd.read_csv(file_path,encoding='utf-8')\n",
    "df_ports['Period Label'] = df_ports['Period Label'].str.replace('   ','-')\n",
    "df_ports = df_ports.drop(columns=['Period', 'Frequency', 'Frequency Label', 'Economy', \n",
    "                                      'CommercialMarket', 'Median time in port (days) Footnote',\n",
    "                                      'Average age of vessels Footnote', 'Average size (GT) of vessels Footnote',\n",
    "                                      'Maximum size (GT) of vessels Footnote', 'Average cargo carrying capacity (dwt) per vessel Footnote',\n",
    "                                      'Maximum cargo carrying capacity (dwt) of vessels Footnote','Average container carrying capacity (TEU) per container ship Footnote',\n",
    "                                      'Maximum container carrying capacity (TEU) of container ships Footnote'])\n",
    "df_ports.rename(columns = {'Economy Label': 'Location', 'CommercialMarket Label': 'Vessel Type', }, inplace=True)\n",
    "df_ports_world = df_ports[df_ports.Location == 'World']\n",
    "date_change=[]\n",
    "for row in df_ports_world['Period Label']:\n",
    "    if row == 'S1-2018' :   date_change.append('2018-07-31')\n",
    "    elif row == 'S2-2018':   date_change.append('2019-01-31')\n",
    "    elif row == 'S1-2019':  date_change.append('2019-07-31')\n",
    "    elif row == 'S2-2019':  date_change.append('2020-01-31')\n",
    "    elif row == 'S1-2020':  date_change.append('2020-07-31')\n",
    "    elif row == 'S2-2020':  date_change.append('2021-01-31')\n",
    "    elif row == 'S1-2021':  date_change.append('2021-07-31')\n",
    "    elif row == 'S2-2021':  date_change.append('2022-01-31')\n",
    "    elif row == 'S1-2022':  date_change.append('2022-07-31')\n",
    "    else:           date_change.append('Not_Rated')\n",
    "\n",
    "df_ports_world = df_ports_world.drop(columns=['Period Label'])\n",
    "df_ports_world['date'] = date_change\n",
    "df_ports_world"
   ]
  },
  {
   "cell_type": "code",
   "execution_count": 18,
   "metadata": {},
   "outputs": [
    {
     "data": {
      "text/plain": [
       "{'encoding': 'utf-8', 'confidence': 0.99, 'language': ''}"
      ]
     },
     "execution_count": 18,
     "metadata": {},
     "output_type": "execute_result"
    }
   ],
   "source": [
    "file_path2 = r\"C:\\Users\\user\\OneDrive - Delft University of Technology\\Desktop\\TIL\\Q1\\TIL6022\\Final Project\\covid_data_new.csv\"\n",
    "with open(file_path, 'rb') as rawdata:\n",
    "    result = chardet.detect(rawdata.read(100000))\n",
    "result"
   ]
  },
  {
   "cell_type": "code",
   "execution_count": 19,
   "metadata": {},
   "outputs": [
    {
     "data": {
      "text/html": [
       "<div>\n",
       "<style scoped>\n",
       "    .dataframe tbody tr th:only-of-type {\n",
       "        vertical-align: middle;\n",
       "    }\n",
       "\n",
       "    .dataframe tbody tr th {\n",
       "        vertical-align: top;\n",
       "    }\n",
       "\n",
       "    .dataframe thead th {\n",
       "        text-align: right;\n",
       "    }\n",
       "</style>\n",
       "<table border=\"1\" class=\"dataframe\">\n",
       "  <thead>\n",
       "    <tr style=\"text-align: right;\">\n",
       "      <th></th>\n",
       "      <th>Unnamed: 0</th>\n",
       "      <th>new_cases</th>\n",
       "      <th>cumulative_cases</th>\n",
       "    </tr>\n",
       "    <tr>\n",
       "      <th>date</th>\n",
       "      <th></th>\n",
       "      <th></th>\n",
       "      <th></th>\n",
       "    </tr>\n",
       "  </thead>\n",
       "  <tbody>\n",
       "    <tr>\n",
       "      <th>2020-07-31</th>\n",
       "      <td>195999</td>\n",
       "      <td>17365906</td>\n",
       "      <td>880852282</td>\n",
       "    </tr>\n",
       "    <tr>\n",
       "      <th>2021-01-31</th>\n",
       "      <td>196236</td>\n",
       "      <td>85324365</td>\n",
       "      <td>9672989782</td>\n",
       "    </tr>\n",
       "    <tr>\n",
       "      <th>2021-07-31</th>\n",
       "      <td>196473</td>\n",
       "      <td>94959285</td>\n",
       "      <td>27123334503</td>\n",
       "    </tr>\n",
       "    <tr>\n",
       "      <th>2022-01-31</th>\n",
       "      <td>196710</td>\n",
       "      <td>179182964</td>\n",
       "      <td>46992496471</td>\n",
       "    </tr>\n",
       "    <tr>\n",
       "      <th>2022-07-31</th>\n",
       "      <td>196947</td>\n",
       "      <td>198097947</td>\n",
       "      <td>90409149794</td>\n",
       "    </tr>\n",
       "  </tbody>\n",
       "</table>\n",
       "</div>"
      ],
      "text/plain": [
       "            Unnamed: 0  new_cases  cumulative_cases\n",
       "date                                               \n",
       "2020-07-31      195999   17365906         880852282\n",
       "2021-01-31      196236   85324365        9672989782\n",
       "2021-07-31      196473   94959285       27123334503\n",
       "2022-01-31      196710  179182964       46992496471\n",
       "2022-07-31      196947  198097947       90409149794"
      ]
     },
     "execution_count": 19,
     "metadata": {},
     "output_type": "execute_result"
    }
   ],
   "source": [
    "# Importing and Touching-up the Data\n",
    "\n",
    "df_covid_semester = pd.read_csv(file_path2,encoding='utf-8')\n",
    "df_covid_semester.head()\n",
    "df_covid_world = df_covid_semester.groupby('date').sum()\n",
    "df_covid_world = df_covid_world.drop(['2020-01-31','2023-01-31'])\n",
    "df_covid_world"
   ]
  },
  {
   "cell_type": "code",
   "execution_count": 20,
   "metadata": {},
   "outputs": [
    {
     "data": {
      "text/html": [
       "<div>\n",
       "<style scoped>\n",
       "    .dataframe tbody tr th:only-of-type {\n",
       "        vertical-align: middle;\n",
       "    }\n",
       "\n",
       "    .dataframe tbody tr th {\n",
       "        vertical-align: top;\n",
       "    }\n",
       "\n",
       "    .dataframe thead th {\n",
       "        text-align: right;\n",
       "    }\n",
       "</style>\n",
       "<table border=\"1\" class=\"dataframe\">\n",
       "  <thead>\n",
       "    <tr style=\"text-align: right;\">\n",
       "      <th></th>\n",
       "      <th>Year</th>\n",
       "      <th>Location</th>\n",
       "      <th>Vessel Type</th>\n",
       "      <th>Median time in port (days)</th>\n",
       "      <th>Average age of vessels</th>\n",
       "      <th>Average size (GT) of vessels</th>\n",
       "      <th>Maximum size (GT) of vessels</th>\n",
       "      <th>Average cargo carrying capacity (dwt) per vessel</th>\n",
       "      <th>Maximum cargo carrying capacity (dwt) of vessels</th>\n",
       "      <th>Average container carrying capacity (TEU) per container ship</th>\n",
       "      <th>Maximum container carrying capacity (TEU) of container ships</th>\n",
       "      <th>date</th>\n",
       "      <th>new_cases</th>\n",
       "    </tr>\n",
       "  </thead>\n",
       "  <tbody>\n",
       "    <tr>\n",
       "      <th>0</th>\n",
       "      <td>2018</td>\n",
       "      <td>World</td>\n",
       "      <td>All ships</td>\n",
       "      <td>0.9700</td>\n",
       "      <td>18</td>\n",
       "      <td>15222</td>\n",
       "      <td>234006</td>\n",
       "      <td>24074.0</td>\n",
       "      <td>441561.0</td>\n",
       "      <td>3526.0</td>\n",
       "      <td>21413.0</td>\n",
       "      <td>2018-07-31</td>\n",
       "      <td>NaN</td>\n",
       "    </tr>\n",
       "    <tr>\n",
       "      <th>1</th>\n",
       "      <td>2018</td>\n",
       "      <td>World</td>\n",
       "      <td>Passenger ships</td>\n",
       "      <td>NaN</td>\n",
       "      <td>21</td>\n",
       "      <td>8978</td>\n",
       "      <td>228081</td>\n",
       "      <td>NaN</td>\n",
       "      <td>NaN</td>\n",
       "      <td>NaN</td>\n",
       "      <td>NaN</td>\n",
       "      <td>2018-07-31</td>\n",
       "      <td>NaN</td>\n",
       "    </tr>\n",
       "    <tr>\n",
       "      <th>2</th>\n",
       "      <td>2018</td>\n",
       "      <td>World</td>\n",
       "      <td>Liquid bulk carriers</td>\n",
       "      <td>0.9400</td>\n",
       "      <td>13</td>\n",
       "      <td>15470</td>\n",
       "      <td>234006</td>\n",
       "      <td>26871.0</td>\n",
       "      <td>441561.0</td>\n",
       "      <td>NaN</td>\n",
       "      <td>NaN</td>\n",
       "      <td>2018-07-31</td>\n",
       "      <td>NaN</td>\n",
       "    </tr>\n",
       "    <tr>\n",
       "      <th>3</th>\n",
       "      <td>2018</td>\n",
       "      <td>World</td>\n",
       "      <td>Container ships</td>\n",
       "      <td>0.6900</td>\n",
       "      <td>13</td>\n",
       "      <td>38405</td>\n",
       "      <td>217673</td>\n",
       "      <td>NaN</td>\n",
       "      <td>NaN</td>\n",
       "      <td>3526.0</td>\n",
       "      <td>21413.0</td>\n",
       "      <td>2018-07-31</td>\n",
       "      <td>NaN</td>\n",
       "    </tr>\n",
       "    <tr>\n",
       "      <th>4</th>\n",
       "      <td>2018</td>\n",
       "      <td>World</td>\n",
       "      <td>Dry breakbulk carriers</td>\n",
       "      <td>1.1200</td>\n",
       "      <td>19</td>\n",
       "      <td>5455</td>\n",
       "      <td>91784</td>\n",
       "      <td>7413.0</td>\n",
       "      <td>138743.0</td>\n",
       "      <td>NaN</td>\n",
       "      <td>NaN</td>\n",
       "      <td>2018-07-31</td>\n",
       "      <td>NaN</td>\n",
       "    </tr>\n",
       "    <tr>\n",
       "      <th>...</th>\n",
       "      <td>...</td>\n",
       "      <td>...</td>\n",
       "      <td>...</td>\n",
       "      <td>...</td>\n",
       "      <td>...</td>\n",
       "      <td>...</td>\n",
       "      <td>...</td>\n",
       "      <td>...</td>\n",
       "      <td>...</td>\n",
       "      <td>...</td>\n",
       "      <td>...</td>\n",
       "      <td>...</td>\n",
       "      <td>...</td>\n",
       "    </tr>\n",
       "    <tr>\n",
       "      <th>76</th>\n",
       "      <td>2022</td>\n",
       "      <td>World</td>\n",
       "      <td>Dry breakbulk carriers</td>\n",
       "      <td>1.1938</td>\n",
       "      <td>21</td>\n",
       "      <td>5571</td>\n",
       "      <td>91784</td>\n",
       "      <td>7604.0</td>\n",
       "      <td>138743.0</td>\n",
       "      <td>NaN</td>\n",
       "      <td>NaN</td>\n",
       "      <td>2022-07-31</td>\n",
       "      <td>198097947.0</td>\n",
       "    </tr>\n",
       "    <tr>\n",
       "      <th>77</th>\n",
       "      <td>2022</td>\n",
       "      <td>World</td>\n",
       "      <td>Dry bulk carriers</td>\n",
       "      <td>2.2306</td>\n",
       "      <td>14</td>\n",
       "      <td>32735</td>\n",
       "      <td>204014</td>\n",
       "      <td>58640.0</td>\n",
       "      <td>404389.0</td>\n",
       "      <td>NaN</td>\n",
       "      <td>NaN</td>\n",
       "      <td>2022-07-31</td>\n",
       "      <td>198097947.0</td>\n",
       "    </tr>\n",
       "    <tr>\n",
       "      <th>78</th>\n",
       "      <td>2022</td>\n",
       "      <td>World</td>\n",
       "      <td>Roll-on/ roll-off ships</td>\n",
       "      <td>NaN</td>\n",
       "      <td>17</td>\n",
       "      <td>25706</td>\n",
       "      <td>100430</td>\n",
       "      <td>10319.0</td>\n",
       "      <td>55828.0</td>\n",
       "      <td>NaN</td>\n",
       "      <td>NaN</td>\n",
       "      <td>2022-07-31</td>\n",
       "      <td>198097947.0</td>\n",
       "    </tr>\n",
       "    <tr>\n",
       "      <th>79</th>\n",
       "      <td>2022</td>\n",
       "      <td>World</td>\n",
       "      <td>Liquefied petroleum gas carriers</td>\n",
       "      <td>1.0292</td>\n",
       "      <td>16</td>\n",
       "      <td>10726</td>\n",
       "      <td>60784</td>\n",
       "      <td>11986.0</td>\n",
       "      <td>64220.0</td>\n",
       "      <td>NaN</td>\n",
       "      <td>NaN</td>\n",
       "      <td>2022-07-31</td>\n",
       "      <td>198097947.0</td>\n",
       "    </tr>\n",
       "    <tr>\n",
       "      <th>80</th>\n",
       "      <td>2022</td>\n",
       "      <td>World</td>\n",
       "      <td>Liquefied natural gas carriers</td>\n",
       "      <td>1.1174</td>\n",
       "      <td>12</td>\n",
       "      <td>96843</td>\n",
       "      <td>168189</td>\n",
       "      <td>75614.0</td>\n",
       "      <td>155159.0</td>\n",
       "      <td>NaN</td>\n",
       "      <td>NaN</td>\n",
       "      <td>2022-07-31</td>\n",
       "      <td>198097947.0</td>\n",
       "    </tr>\n",
       "  </tbody>\n",
       "</table>\n",
       "<p>81 rows × 13 columns</p>\n",
       "</div>"
      ],
      "text/plain": [
       "    Year Location                       Vessel Type  \\\n",
       "0   2018    World                         All ships   \n",
       "1   2018    World                   Passenger ships   \n",
       "2   2018    World              Liquid bulk carriers   \n",
       "3   2018    World                   Container ships   \n",
       "4   2018    World            Dry breakbulk carriers   \n",
       "..   ...      ...                               ...   \n",
       "76  2022    World            Dry breakbulk carriers   \n",
       "77  2022    World                 Dry bulk carriers   \n",
       "78  2022    World           Roll-on/ roll-off ships   \n",
       "79  2022    World  Liquefied petroleum gas carriers   \n",
       "80  2022    World    Liquefied natural gas carriers   \n",
       "\n",
       "    Median time in port (days)  Average age of vessels  \\\n",
       "0                       0.9700                      18   \n",
       "1                          NaN                      21   \n",
       "2                       0.9400                      13   \n",
       "3                       0.6900                      13   \n",
       "4                       1.1200                      19   \n",
       "..                         ...                     ...   \n",
       "76                      1.1938                      21   \n",
       "77                      2.2306                      14   \n",
       "78                         NaN                      17   \n",
       "79                      1.0292                      16   \n",
       "80                      1.1174                      12   \n",
       "\n",
       "    Average size (GT) of vessels  Maximum size (GT) of vessels  \\\n",
       "0                          15222                        234006   \n",
       "1                           8978                        228081   \n",
       "2                          15470                        234006   \n",
       "3                          38405                        217673   \n",
       "4                           5455                         91784   \n",
       "..                           ...                           ...   \n",
       "76                          5571                         91784   \n",
       "77                         32735                        204014   \n",
       "78                         25706                        100430   \n",
       "79                         10726                         60784   \n",
       "80                         96843                        168189   \n",
       "\n",
       "    Average cargo carrying capacity (dwt) per vessel  \\\n",
       "0                                            24074.0   \n",
       "1                                                NaN   \n",
       "2                                            26871.0   \n",
       "3                                                NaN   \n",
       "4                                             7413.0   \n",
       "..                                               ...   \n",
       "76                                            7604.0   \n",
       "77                                           58640.0   \n",
       "78                                           10319.0   \n",
       "79                                           11986.0   \n",
       "80                                           75614.0   \n",
       "\n",
       "    Maximum cargo carrying capacity (dwt) of vessels  \\\n",
       "0                                           441561.0   \n",
       "1                                                NaN   \n",
       "2                                           441561.0   \n",
       "3                                                NaN   \n",
       "4                                           138743.0   \n",
       "..                                               ...   \n",
       "76                                          138743.0   \n",
       "77                                          404389.0   \n",
       "78                                           55828.0   \n",
       "79                                           64220.0   \n",
       "80                                          155159.0   \n",
       "\n",
       "    Average container carrying capacity (TEU) per container ship  \\\n",
       "0                                              3526.0              \n",
       "1                                                 NaN              \n",
       "2                                                 NaN              \n",
       "3                                              3526.0              \n",
       "4                                                 NaN              \n",
       "..                                                ...              \n",
       "76                                                NaN              \n",
       "77                                                NaN              \n",
       "78                                                NaN              \n",
       "79                                                NaN              \n",
       "80                                                NaN              \n",
       "\n",
       "    Maximum container carrying capacity (TEU) of container ships        date  \\\n",
       "0                                             21413.0             2018-07-31   \n",
       "1                                                 NaN             2018-07-31   \n",
       "2                                                 NaN             2018-07-31   \n",
       "3                                             21413.0             2018-07-31   \n",
       "4                                                 NaN             2018-07-31   \n",
       "..                                                ...                    ...   \n",
       "76                                                NaN             2022-07-31   \n",
       "77                                                NaN             2022-07-31   \n",
       "78                                                NaN             2022-07-31   \n",
       "79                                                NaN             2022-07-31   \n",
       "80                                                NaN             2022-07-31   \n",
       "\n",
       "      new_cases  \n",
       "0           NaN  \n",
       "1           NaN  \n",
       "2           NaN  \n",
       "3           NaN  \n",
       "4           NaN  \n",
       "..          ...  \n",
       "76  198097947.0  \n",
       "77  198097947.0  \n",
       "78  198097947.0  \n",
       "79  198097947.0  \n",
       "80  198097947.0  \n",
       "\n",
       "[81 rows x 13 columns]"
      ]
     },
     "execution_count": 20,
     "metadata": {},
     "output_type": "execute_result"
    }
   ],
   "source": [
    "df_combined_world =pd.merge(df_ports_world, df_covid_world, on=['date'], how='outer')\n",
    "df_combined_world = df_combined_world.drop(['Unnamed: 0', 'cumulative_cases'], axis=1)\n",
    "df_combined_world"
   ]
  },
  {
   "cell_type": "code",
   "execution_count": 21,
   "metadata": {},
   "outputs": [],
   "source": [
    "df_combined_world.to_csv(r\"C:\\Users\\user\\OneDrive - Delft University of Technology\\Desktop\\TIL\\Q1\\TIL6022\\Final Project\\result.csv\")"
   ]
  },
  {
   "cell_type": "code",
   "execution_count": 22,
   "metadata": {},
   "outputs": [
    {
     "data": {
      "application/vnd.plotly.v1+json": {
       "config": {
        "plotlyServerURL": "https://plot.ly"
       },
       "data": [
        {
         "name": "Median time in port (days)",
         "type": "scatter",
         "x": [
          "2018-07-31",
          "2019-01-31",
          "2019-07-31",
          "2020-01-31",
          "2020-07-31",
          "2021-01-31",
          "2021-07-31",
          "2022-01-31",
          "2022-07-31"
         ],
         "xaxis": "x",
         "y": [
          0.97,
          0.97,
          0.9646,
          0.9667,
          0.9944,
          1.0021,
          1.041,
          1.0507,
          1.0694
         ],
         "yaxis": "y"
        },
        {
         "name": "New covid cases",
         "type": "scatter",
         "x": [
          "2018-07-31",
          "2019-01-31",
          "2019-07-31",
          "2020-01-31",
          "2020-07-31",
          "2021-01-31",
          "2021-07-31",
          "2022-01-31",
          "2022-07-31"
         ],
         "xaxis": "x",
         "y": [
          null,
          null,
          null,
          null,
          17365906,
          85324365,
          94959285,
          179182964,
          198097947
         ],
         "yaxis": "y2"
        }
       ],
       "layout": {
        "template": {
         "data": {
          "bar": [
           {
            "error_x": {
             "color": "#2a3f5f"
            },
            "error_y": {
             "color": "#2a3f5f"
            },
            "marker": {
             "line": {
              "color": "#E5ECF6",
              "width": 0.5
             },
             "pattern": {
              "fillmode": "overlay",
              "size": 10,
              "solidity": 0.2
             }
            },
            "type": "bar"
           }
          ],
          "barpolar": [
           {
            "marker": {
             "line": {
              "color": "#E5ECF6",
              "width": 0.5
             },
             "pattern": {
              "fillmode": "overlay",
              "size": 10,
              "solidity": 0.2
             }
            },
            "type": "barpolar"
           }
          ],
          "carpet": [
           {
            "aaxis": {
             "endlinecolor": "#2a3f5f",
             "gridcolor": "white",
             "linecolor": "white",
             "minorgridcolor": "white",
             "startlinecolor": "#2a3f5f"
            },
            "baxis": {
             "endlinecolor": "#2a3f5f",
             "gridcolor": "white",
             "linecolor": "white",
             "minorgridcolor": "white",
             "startlinecolor": "#2a3f5f"
            },
            "type": "carpet"
           }
          ],
          "choropleth": [
           {
            "colorbar": {
             "outlinewidth": 0,
             "ticks": ""
            },
            "type": "choropleth"
           }
          ],
          "contour": [
           {
            "colorbar": {
             "outlinewidth": 0,
             "ticks": ""
            },
            "colorscale": [
             [
              0,
              "#0d0887"
             ],
             [
              0.1111111111111111,
              "#46039f"
             ],
             [
              0.2222222222222222,
              "#7201a8"
             ],
             [
              0.3333333333333333,
              "#9c179e"
             ],
             [
              0.4444444444444444,
              "#bd3786"
             ],
             [
              0.5555555555555556,
              "#d8576b"
             ],
             [
              0.6666666666666666,
              "#ed7953"
             ],
             [
              0.7777777777777778,
              "#fb9f3a"
             ],
             [
              0.8888888888888888,
              "#fdca26"
             ],
             [
              1,
              "#f0f921"
             ]
            ],
            "type": "contour"
           }
          ],
          "contourcarpet": [
           {
            "colorbar": {
             "outlinewidth": 0,
             "ticks": ""
            },
            "type": "contourcarpet"
           }
          ],
          "heatmap": [
           {
            "colorbar": {
             "outlinewidth": 0,
             "ticks": ""
            },
            "colorscale": [
             [
              0,
              "#0d0887"
             ],
             [
              0.1111111111111111,
              "#46039f"
             ],
             [
              0.2222222222222222,
              "#7201a8"
             ],
             [
              0.3333333333333333,
              "#9c179e"
             ],
             [
              0.4444444444444444,
              "#bd3786"
             ],
             [
              0.5555555555555556,
              "#d8576b"
             ],
             [
              0.6666666666666666,
              "#ed7953"
             ],
             [
              0.7777777777777778,
              "#fb9f3a"
             ],
             [
              0.8888888888888888,
              "#fdca26"
             ],
             [
              1,
              "#f0f921"
             ]
            ],
            "type": "heatmap"
           }
          ],
          "heatmapgl": [
           {
            "colorbar": {
             "outlinewidth": 0,
             "ticks": ""
            },
            "colorscale": [
             [
              0,
              "#0d0887"
             ],
             [
              0.1111111111111111,
              "#46039f"
             ],
             [
              0.2222222222222222,
              "#7201a8"
             ],
             [
              0.3333333333333333,
              "#9c179e"
             ],
             [
              0.4444444444444444,
              "#bd3786"
             ],
             [
              0.5555555555555556,
              "#d8576b"
             ],
             [
              0.6666666666666666,
              "#ed7953"
             ],
             [
              0.7777777777777778,
              "#fb9f3a"
             ],
             [
              0.8888888888888888,
              "#fdca26"
             ],
             [
              1,
              "#f0f921"
             ]
            ],
            "type": "heatmapgl"
           }
          ],
          "histogram": [
           {
            "marker": {
             "pattern": {
              "fillmode": "overlay",
              "size": 10,
              "solidity": 0.2
             }
            },
            "type": "histogram"
           }
          ],
          "histogram2d": [
           {
            "colorbar": {
             "outlinewidth": 0,
             "ticks": ""
            },
            "colorscale": [
             [
              0,
              "#0d0887"
             ],
             [
              0.1111111111111111,
              "#46039f"
             ],
             [
              0.2222222222222222,
              "#7201a8"
             ],
             [
              0.3333333333333333,
              "#9c179e"
             ],
             [
              0.4444444444444444,
              "#bd3786"
             ],
             [
              0.5555555555555556,
              "#d8576b"
             ],
             [
              0.6666666666666666,
              "#ed7953"
             ],
             [
              0.7777777777777778,
              "#fb9f3a"
             ],
             [
              0.8888888888888888,
              "#fdca26"
             ],
             [
              1,
              "#f0f921"
             ]
            ],
            "type": "histogram2d"
           }
          ],
          "histogram2dcontour": [
           {
            "colorbar": {
             "outlinewidth": 0,
             "ticks": ""
            },
            "colorscale": [
             [
              0,
              "#0d0887"
             ],
             [
              0.1111111111111111,
              "#46039f"
             ],
             [
              0.2222222222222222,
              "#7201a8"
             ],
             [
              0.3333333333333333,
              "#9c179e"
             ],
             [
              0.4444444444444444,
              "#bd3786"
             ],
             [
              0.5555555555555556,
              "#d8576b"
             ],
             [
              0.6666666666666666,
              "#ed7953"
             ],
             [
              0.7777777777777778,
              "#fb9f3a"
             ],
             [
              0.8888888888888888,
              "#fdca26"
             ],
             [
              1,
              "#f0f921"
             ]
            ],
            "type": "histogram2dcontour"
           }
          ],
          "mesh3d": [
           {
            "colorbar": {
             "outlinewidth": 0,
             "ticks": ""
            },
            "type": "mesh3d"
           }
          ],
          "parcoords": [
           {
            "line": {
             "colorbar": {
              "outlinewidth": 0,
              "ticks": ""
             }
            },
            "type": "parcoords"
           }
          ],
          "pie": [
           {
            "automargin": true,
            "type": "pie"
           }
          ],
          "scatter": [
           {
            "fillpattern": {
             "fillmode": "overlay",
             "size": 10,
             "solidity": 0.2
            },
            "type": "scatter"
           }
          ],
          "scatter3d": [
           {
            "line": {
             "colorbar": {
              "outlinewidth": 0,
              "ticks": ""
             }
            },
            "marker": {
             "colorbar": {
              "outlinewidth": 0,
              "ticks": ""
             }
            },
            "type": "scatter3d"
           }
          ],
          "scattercarpet": [
           {
            "marker": {
             "colorbar": {
              "outlinewidth": 0,
              "ticks": ""
             }
            },
            "type": "scattercarpet"
           }
          ],
          "scattergeo": [
           {
            "marker": {
             "colorbar": {
              "outlinewidth": 0,
              "ticks": ""
             }
            },
            "type": "scattergeo"
           }
          ],
          "scattergl": [
           {
            "marker": {
             "colorbar": {
              "outlinewidth": 0,
              "ticks": ""
             }
            },
            "type": "scattergl"
           }
          ],
          "scattermapbox": [
           {
            "marker": {
             "colorbar": {
              "outlinewidth": 0,
              "ticks": ""
             }
            },
            "type": "scattermapbox"
           }
          ],
          "scatterpolar": [
           {
            "marker": {
             "colorbar": {
              "outlinewidth": 0,
              "ticks": ""
             }
            },
            "type": "scatterpolar"
           }
          ],
          "scatterpolargl": [
           {
            "marker": {
             "colorbar": {
              "outlinewidth": 0,
              "ticks": ""
             }
            },
            "type": "scatterpolargl"
           }
          ],
          "scatterternary": [
           {
            "marker": {
             "colorbar": {
              "outlinewidth": 0,
              "ticks": ""
             }
            },
            "type": "scatterternary"
           }
          ],
          "surface": [
           {
            "colorbar": {
             "outlinewidth": 0,
             "ticks": ""
            },
            "colorscale": [
             [
              0,
              "#0d0887"
             ],
             [
              0.1111111111111111,
              "#46039f"
             ],
             [
              0.2222222222222222,
              "#7201a8"
             ],
             [
              0.3333333333333333,
              "#9c179e"
             ],
             [
              0.4444444444444444,
              "#bd3786"
             ],
             [
              0.5555555555555556,
              "#d8576b"
             ],
             [
              0.6666666666666666,
              "#ed7953"
             ],
             [
              0.7777777777777778,
              "#fb9f3a"
             ],
             [
              0.8888888888888888,
              "#fdca26"
             ],
             [
              1,
              "#f0f921"
             ]
            ],
            "type": "surface"
           }
          ],
          "table": [
           {
            "cells": {
             "fill": {
              "color": "#EBF0F8"
             },
             "line": {
              "color": "white"
             }
            },
            "header": {
             "fill": {
              "color": "#C8D4E3"
             },
             "line": {
              "color": "white"
             }
            },
            "type": "table"
           }
          ]
         },
         "layout": {
          "annotationdefaults": {
           "arrowcolor": "#2a3f5f",
           "arrowhead": 0,
           "arrowwidth": 1
          },
          "autotypenumbers": "strict",
          "coloraxis": {
           "colorbar": {
            "outlinewidth": 0,
            "ticks": ""
           }
          },
          "colorscale": {
           "diverging": [
            [
             0,
             "#8e0152"
            ],
            [
             0.1,
             "#c51b7d"
            ],
            [
             0.2,
             "#de77ae"
            ],
            [
             0.3,
             "#f1b6da"
            ],
            [
             0.4,
             "#fde0ef"
            ],
            [
             0.5,
             "#f7f7f7"
            ],
            [
             0.6,
             "#e6f5d0"
            ],
            [
             0.7,
             "#b8e186"
            ],
            [
             0.8,
             "#7fbc41"
            ],
            [
             0.9,
             "#4d9221"
            ],
            [
             1,
             "#276419"
            ]
           ],
           "sequential": [
            [
             0,
             "#0d0887"
            ],
            [
             0.1111111111111111,
             "#46039f"
            ],
            [
             0.2222222222222222,
             "#7201a8"
            ],
            [
             0.3333333333333333,
             "#9c179e"
            ],
            [
             0.4444444444444444,
             "#bd3786"
            ],
            [
             0.5555555555555556,
             "#d8576b"
            ],
            [
             0.6666666666666666,
             "#ed7953"
            ],
            [
             0.7777777777777778,
             "#fb9f3a"
            ],
            [
             0.8888888888888888,
             "#fdca26"
            ],
            [
             1,
             "#f0f921"
            ]
           ],
           "sequentialminus": [
            [
             0,
             "#0d0887"
            ],
            [
             0.1111111111111111,
             "#46039f"
            ],
            [
             0.2222222222222222,
             "#7201a8"
            ],
            [
             0.3333333333333333,
             "#9c179e"
            ],
            [
             0.4444444444444444,
             "#bd3786"
            ],
            [
             0.5555555555555556,
             "#d8576b"
            ],
            [
             0.6666666666666666,
             "#ed7953"
            ],
            [
             0.7777777777777778,
             "#fb9f3a"
            ],
            [
             0.8888888888888888,
             "#fdca26"
            ],
            [
             1,
             "#f0f921"
            ]
           ]
          },
          "colorway": [
           "#636efa",
           "#EF553B",
           "#00cc96",
           "#ab63fa",
           "#FFA15A",
           "#19d3f3",
           "#FF6692",
           "#B6E880",
           "#FF97FF",
           "#FECB52"
          ],
          "font": {
           "color": "#2a3f5f"
          },
          "geo": {
           "bgcolor": "white",
           "lakecolor": "white",
           "landcolor": "#E5ECF6",
           "showlakes": true,
           "showland": true,
           "subunitcolor": "white"
          },
          "hoverlabel": {
           "align": "left"
          },
          "hovermode": "closest",
          "mapbox": {
           "style": "light"
          },
          "paper_bgcolor": "white",
          "plot_bgcolor": "#E5ECF6",
          "polar": {
           "angularaxis": {
            "gridcolor": "white",
            "linecolor": "white",
            "ticks": ""
           },
           "bgcolor": "#E5ECF6",
           "radialaxis": {
            "gridcolor": "white",
            "linecolor": "white",
            "ticks": ""
           }
          },
          "scene": {
           "xaxis": {
            "backgroundcolor": "#E5ECF6",
            "gridcolor": "white",
            "gridwidth": 2,
            "linecolor": "white",
            "showbackground": true,
            "ticks": "",
            "zerolinecolor": "white"
           },
           "yaxis": {
            "backgroundcolor": "#E5ECF6",
            "gridcolor": "white",
            "gridwidth": 2,
            "linecolor": "white",
            "showbackground": true,
            "ticks": "",
            "zerolinecolor": "white"
           },
           "zaxis": {
            "backgroundcolor": "#E5ECF6",
            "gridcolor": "white",
            "gridwidth": 2,
            "linecolor": "white",
            "showbackground": true,
            "ticks": "",
            "zerolinecolor": "white"
           }
          },
          "shapedefaults": {
           "line": {
            "color": "#2a3f5f"
           }
          },
          "ternary": {
           "aaxis": {
            "gridcolor": "white",
            "linecolor": "white",
            "ticks": ""
           },
           "baxis": {
            "gridcolor": "white",
            "linecolor": "white",
            "ticks": ""
           },
           "bgcolor": "#E5ECF6",
           "caxis": {
            "gridcolor": "white",
            "linecolor": "white",
            "ticks": ""
           }
          },
          "title": {
           "x": 0.05
          },
          "xaxis": {
           "automargin": true,
           "gridcolor": "white",
           "linecolor": "white",
           "ticks": "",
           "title": {
            "standoff": 15
           },
           "zerolinecolor": "white",
           "zerolinewidth": 2
          },
          "yaxis": {
           "automargin": true,
           "gridcolor": "white",
           "linecolor": "white",
           "ticks": "",
           "title": {
            "standoff": 15
           },
           "zerolinecolor": "white",
           "zerolinewidth": 2
          }
         }
        },
        "title": {
         "text": "World - all vessel type"
        },
        "xaxis": {
         "anchor": "y",
         "domain": [
          0,
          0.94
         ],
         "title": {
          "text": "Date"
         }
        },
        "yaxis": {
         "anchor": "x",
         "domain": [
          0,
          1
         ],
         "title": {
          "text": "<b>primary</b> Median time in port (days)"
         }
        },
        "yaxis2": {
         "anchor": "x",
         "overlaying": "y",
         "side": "right",
         "title": {
          "text": "<b>secondary</b> New covid cases"
         }
        }
       }
      }
     },
     "metadata": {},
     "output_type": "display_data"
    }
   ],
   "source": [
    "import plotly.graph_objects as go\n",
    "from plotly.subplots import make_subplots\n",
    "\n",
    "df_combined_world = df_combined_world[df_combined_world['Vessel Type'] == 'All ships']\n",
    "\n",
    "# Create figure with secondary y-axis\n",
    "fig = make_subplots(specs=[[{\"secondary_y\": True}]])\n",
    "\n",
    "# Add traces\n",
    "fig.add_trace(\n",
    "    go.Scatter(x=df_combined_world['date'], y=df_combined_world['Median time in port (days)'], name=\"Median time in port (days)\"),\n",
    "    secondary_y=False,\n",
    ")\n",
    "\n",
    "fig.add_trace(\n",
    "    go.Scatter(x=df_combined_world['date'], y=df_combined_world['new_cases'], name=\"New covid cases\"),\n",
    "    secondary_y=True,\n",
    ")\n",
    "\n",
    "# Add figure title\n",
    "fig.update_layout(\n",
    "    title_text=\"World - all vessel type\"\n",
    ")\n",
    "\n",
    "# Set x-axis title\n",
    "fig.update_xaxes(title_text=\"Date\")\n",
    "\n",
    "# Set y-axes titles\n",
    "fig.update_yaxes(title_text=\"<b>primary</b> Median time in port (days)\", secondary_y=False)\n",
    "fig.update_yaxes(title_text=\"<b>secondary</b> New covid cases\", secondary_y=True)\n",
    "\n",
    "fig.show()"
   ]
  }
 ],
 "metadata": {
  "kernelspec": {
   "display_name": "Python 3.7.13 ('TIL6022')",
   "language": "python",
   "name": "python3"
  },
  "language_info": {
   "codemirror_mode": {
    "name": "ipython",
    "version": 3
   },
   "file_extension": ".py",
   "mimetype": "text/x-python",
   "name": "python",
   "nbconvert_exporter": "python",
   "pygments_lexer": "ipython3",
   "version": "3.7.13"
  },
  "orig_nbformat": 4,
  "vscode": {
   "interpreter": {
    "hash": "3b555cf90cc979e63e151482c0cbf8cbd39dcbd359ce2e37fdfd3598b3bd6f77"
   }
  }
 },
 "nbformat": 4,
 "nbformat_minor": 2
}
