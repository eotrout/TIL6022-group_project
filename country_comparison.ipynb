{
 "cells": [
  {
   "cell_type": "code",
   "execution_count": 16,
   "metadata": {},
   "outputs": [],
   "source": [
    "import pandas as pd\n",
    "import chardet"
   ]
  },
  {
   "cell_type": "code",
   "execution_count": 17,
   "metadata": {},
   "outputs": [
    {
     "data": {
      "text/plain": [
       "{'encoding': 'utf-8', 'confidence': 0.99, 'language': ''}"
      ]
     },
     "execution_count": 17,
     "metadata": {},
     "output_type": "execute_result"
    }
   ],
   "source": [
    "file_path = r\"Data\\Maritime data\\US_PortCalls_S_ST202209220924_v1.csv\"\n",
    "with open(file_path, 'rb') as rawdata:\n",
    "    result = chardet.detect(rawdata.read(100000))\n",
    "result"
   ]
  },
  {
   "cell_type": "code",
   "execution_count": 18,
   "metadata": {},
   "outputs": [
    {
     "data": {
      "text/html": [
       "<div>\n",
       "<style scoped>\n",
       "    .dataframe tbody tr th:only-of-type {\n",
       "        vertical-align: middle;\n",
       "    }\n",
       "\n",
       "    .dataframe tbody tr th {\n",
       "        vertical-align: top;\n",
       "    }\n",
       "\n",
       "    .dataframe thead th {\n",
       "        text-align: right;\n",
       "    }\n",
       "</style>\n",
       "<table border=\"1\" class=\"dataframe\">\n",
       "  <thead>\n",
       "    <tr style=\"text-align: right;\">\n",
       "      <th></th>\n",
       "      <th>Year</th>\n",
       "      <th>Location</th>\n",
       "      <th>Vessel Type</th>\n",
       "      <th>Median time in port (days)</th>\n",
       "      <th>Average age of vessels</th>\n",
       "      <th>Average size (GT) of vessels</th>\n",
       "      <th>Maximum size (GT) of vessels</th>\n",
       "      <th>Average cargo carrying capacity (dwt) per vessel</th>\n",
       "      <th>Maximum cargo carrying capacity (dwt) of vessels</th>\n",
       "      <th>Average container carrying capacity (TEU) per container ship</th>\n",
       "      <th>Maximum container carrying capacity (TEU) of container ships</th>\n",
       "      <th>date</th>\n",
       "    </tr>\n",
       "  </thead>\n",
       "  <tbody>\n",
       "    <tr>\n",
       "      <th>0</th>\n",
       "      <td>2018</td>\n",
       "      <td>World</td>\n",
       "      <td>All ships</td>\n",
       "      <td>0.9700</td>\n",
       "      <td>18</td>\n",
       "      <td>15222</td>\n",
       "      <td>234006</td>\n",
       "      <td>24074.0</td>\n",
       "      <td>441561.0</td>\n",
       "      <td>3526.0</td>\n",
       "      <td>21413.0</td>\n",
       "      <td>2018-07-31</td>\n",
       "    </tr>\n",
       "    <tr>\n",
       "      <th>1</th>\n",
       "      <td>2018</td>\n",
       "      <td>World</td>\n",
       "      <td>Passenger ships</td>\n",
       "      <td>NaN</td>\n",
       "      <td>21</td>\n",
       "      <td>8978</td>\n",
       "      <td>228081</td>\n",
       "      <td>NaN</td>\n",
       "      <td>NaN</td>\n",
       "      <td>NaN</td>\n",
       "      <td>NaN</td>\n",
       "      <td>2018-07-31</td>\n",
       "    </tr>\n",
       "    <tr>\n",
       "      <th>2</th>\n",
       "      <td>2018</td>\n",
       "      <td>World</td>\n",
       "      <td>Liquid bulk carriers</td>\n",
       "      <td>0.9400</td>\n",
       "      <td>13</td>\n",
       "      <td>15470</td>\n",
       "      <td>234006</td>\n",
       "      <td>26871.0</td>\n",
       "      <td>441561.0</td>\n",
       "      <td>NaN</td>\n",
       "      <td>NaN</td>\n",
       "      <td>2018-07-31</td>\n",
       "    </tr>\n",
       "    <tr>\n",
       "      <th>3</th>\n",
       "      <td>2018</td>\n",
       "      <td>World</td>\n",
       "      <td>Container ships</td>\n",
       "      <td>0.6900</td>\n",
       "      <td>13</td>\n",
       "      <td>38405</td>\n",
       "      <td>217673</td>\n",
       "      <td>NaN</td>\n",
       "      <td>NaN</td>\n",
       "      <td>3526.0</td>\n",
       "      <td>21413.0</td>\n",
       "      <td>2018-07-31</td>\n",
       "    </tr>\n",
       "    <tr>\n",
       "      <th>4</th>\n",
       "      <td>2018</td>\n",
       "      <td>World</td>\n",
       "      <td>Dry breakbulk carriers</td>\n",
       "      <td>1.1200</td>\n",
       "      <td>19</td>\n",
       "      <td>5455</td>\n",
       "      <td>91784</td>\n",
       "      <td>7413.0</td>\n",
       "      <td>138743.0</td>\n",
       "      <td>NaN</td>\n",
       "      <td>NaN</td>\n",
       "      <td>2018-07-31</td>\n",
       "    </tr>\n",
       "    <tr>\n",
       "      <th>...</th>\n",
       "      <td>...</td>\n",
       "      <td>...</td>\n",
       "      <td>...</td>\n",
       "      <td>...</td>\n",
       "      <td>...</td>\n",
       "      <td>...</td>\n",
       "      <td>...</td>\n",
       "      <td>...</td>\n",
       "      <td>...</td>\n",
       "      <td>...</td>\n",
       "      <td>...</td>\n",
       "      <td>...</td>\n",
       "    </tr>\n",
       "    <tr>\n",
       "      <th>1628</th>\n",
       "      <td>2022</td>\n",
       "      <td>United Kingdom</td>\n",
       "      <td>Dry breakbulk carriers</td>\n",
       "      <td>1.5444</td>\n",
       "      <td>20</td>\n",
       "      <td>3566</td>\n",
       "      <td>48292</td>\n",
       "      <td>4962.0</td>\n",
       "      <td>72927.0</td>\n",
       "      <td>NaN</td>\n",
       "      <td>NaN</td>\n",
       "      <td>2022-07-31</td>\n",
       "    </tr>\n",
       "    <tr>\n",
       "      <th>1629</th>\n",
       "      <td>2022</td>\n",
       "      <td>United Kingdom</td>\n",
       "      <td>Dry bulk carriers</td>\n",
       "      <td>2.8750</td>\n",
       "      <td>14</td>\n",
       "      <td>25873</td>\n",
       "      <td>107879</td>\n",
       "      <td>44257.0</td>\n",
       "      <td>208445.0</td>\n",
       "      <td>NaN</td>\n",
       "      <td>NaN</td>\n",
       "      <td>2022-07-31</td>\n",
       "    </tr>\n",
       "    <tr>\n",
       "      <th>1630</th>\n",
       "      <td>2022</td>\n",
       "      <td>United Kingdom</td>\n",
       "      <td>Roll-on/ roll-off ships</td>\n",
       "      <td>NaN</td>\n",
       "      <td>15</td>\n",
       "      <td>24187</td>\n",
       "      <td>100430</td>\n",
       "      <td>9698.0</td>\n",
       "      <td>55828.0</td>\n",
       "      <td>NaN</td>\n",
       "      <td>NaN</td>\n",
       "      <td>2022-07-31</td>\n",
       "    </tr>\n",
       "    <tr>\n",
       "      <th>1631</th>\n",
       "      <td>2022</td>\n",
       "      <td>United Kingdom</td>\n",
       "      <td>Liquefied petroleum gas carriers</td>\n",
       "      <td>1.1049</td>\n",
       "      <td>12</td>\n",
       "      <td>7012</td>\n",
       "      <td>47922</td>\n",
       "      <td>7626.0</td>\n",
       "      <td>53999.0</td>\n",
       "      <td>NaN</td>\n",
       "      <td>NaN</td>\n",
       "      <td>2022-07-31</td>\n",
       "    </tr>\n",
       "    <tr>\n",
       "      <th>1632</th>\n",
       "      <td>2022</td>\n",
       "      <td>United Kingdom</td>\n",
       "      <td>Liquefied natural gas carriers</td>\n",
       "      <td>1.2215</td>\n",
       "      <td>8</td>\n",
       "      <td>94300</td>\n",
       "      <td>168189</td>\n",
       "      <td>76612.0</td>\n",
       "      <td>154940.0</td>\n",
       "      <td>NaN</td>\n",
       "      <td>NaN</td>\n",
       "      <td>2022-07-31</td>\n",
       "    </tr>\n",
       "  </tbody>\n",
       "</table>\n",
       "<p>1633 rows × 12 columns</p>\n",
       "</div>"
      ],
      "text/plain": [
       "      Year        Location                       Vessel Type  \\\n",
       "0     2018           World                         All ships   \n",
       "1     2018           World                   Passenger ships   \n",
       "2     2018           World              Liquid bulk carriers   \n",
       "3     2018           World                   Container ships   \n",
       "4     2018           World            Dry breakbulk carriers   \n",
       "...    ...             ...                               ...   \n",
       "1628  2022  United Kingdom            Dry breakbulk carriers   \n",
       "1629  2022  United Kingdom                 Dry bulk carriers   \n",
       "1630  2022  United Kingdom           Roll-on/ roll-off ships   \n",
       "1631  2022  United Kingdom  Liquefied petroleum gas carriers   \n",
       "1632  2022  United Kingdom    Liquefied natural gas carriers   \n",
       "\n",
       "      Median time in port (days)  Average age of vessels  \\\n",
       "0                         0.9700                      18   \n",
       "1                            NaN                      21   \n",
       "2                         0.9400                      13   \n",
       "3                         0.6900                      13   \n",
       "4                         1.1200                      19   \n",
       "...                          ...                     ...   \n",
       "1628                      1.5444                      20   \n",
       "1629                      2.8750                      14   \n",
       "1630                         NaN                      15   \n",
       "1631                      1.1049                      12   \n",
       "1632                      1.2215                       8   \n",
       "\n",
       "      Average size (GT) of vessels  Maximum size (GT) of vessels  \\\n",
       "0                            15222                        234006   \n",
       "1                             8978                        228081   \n",
       "2                            15470                        234006   \n",
       "3                            38405                        217673   \n",
       "4                             5455                         91784   \n",
       "...                            ...                           ...   \n",
       "1628                          3566                         48292   \n",
       "1629                         25873                        107879   \n",
       "1630                         24187                        100430   \n",
       "1631                          7012                         47922   \n",
       "1632                         94300                        168189   \n",
       "\n",
       "      Average cargo carrying capacity (dwt) per vessel  \\\n",
       "0                                              24074.0   \n",
       "1                                                  NaN   \n",
       "2                                              26871.0   \n",
       "3                                                  NaN   \n",
       "4                                               7413.0   \n",
       "...                                                ...   \n",
       "1628                                            4962.0   \n",
       "1629                                           44257.0   \n",
       "1630                                            9698.0   \n",
       "1631                                            7626.0   \n",
       "1632                                           76612.0   \n",
       "\n",
       "      Maximum cargo carrying capacity (dwt) of vessels  \\\n",
       "0                                             441561.0   \n",
       "1                                                  NaN   \n",
       "2                                             441561.0   \n",
       "3                                                  NaN   \n",
       "4                                             138743.0   \n",
       "...                                                ...   \n",
       "1628                                           72927.0   \n",
       "1629                                          208445.0   \n",
       "1630                                           55828.0   \n",
       "1631                                           53999.0   \n",
       "1632                                          154940.0   \n",
       "\n",
       "      Average container carrying capacity (TEU) per container ship  \\\n",
       "0                                                3526.0              \n",
       "1                                                   NaN              \n",
       "2                                                   NaN              \n",
       "3                                                3526.0              \n",
       "4                                                   NaN              \n",
       "...                                                 ...              \n",
       "1628                                                NaN              \n",
       "1629                                                NaN              \n",
       "1630                                                NaN              \n",
       "1631                                                NaN              \n",
       "1632                                                NaN              \n",
       "\n",
       "      Maximum container carrying capacity (TEU) of container ships        date  \n",
       "0                                               21413.0             2018-07-31  \n",
       "1                                                   NaN             2018-07-31  \n",
       "2                                                   NaN             2018-07-31  \n",
       "3                                               21413.0             2018-07-31  \n",
       "4                                                   NaN             2018-07-31  \n",
       "...                                                 ...                    ...  \n",
       "1628                                                NaN             2022-07-31  \n",
       "1629                                                NaN             2022-07-31  \n",
       "1630                                                NaN             2022-07-31  \n",
       "1631                                                NaN             2022-07-31  \n",
       "1632                                                NaN             2022-07-31  \n",
       "\n",
       "[1633 rows x 12 columns]"
      ]
     },
     "execution_count": 18,
     "metadata": {},
     "output_type": "execute_result"
    }
   ],
   "source": [
    "# Importing and Touching-up the Data\n",
    "\n",
    "df_ports = pd.read_csv(file_path,encoding='utf-8')\n",
    "df_ports['Period Label'] = df_ports['Period Label'].str.replace('   ','-')\n",
    "df_ports = df_ports.drop(columns=['Period', 'Frequency', 'Frequency Label', 'Economy', \n",
    "                                      'CommercialMarket', 'Median time in port (days) Footnote',\n",
    "                                      'Average age of vessels Footnote', 'Average size (GT) of vessels Footnote',\n",
    "                                      'Maximum size (GT) of vessels Footnote', 'Average cargo carrying capacity (dwt) per vessel Footnote',\n",
    "                                      'Maximum cargo carrying capacity (dwt) of vessels Footnote','Average container carrying capacity (TEU) per container ship Footnote',\n",
    "                                      'Maximum container carrying capacity (TEU) of container ships Footnote'])\n",
    "df_ports.rename(columns = {'Economy Label': 'Location', 'CommercialMarket Label': 'Vessel Type', }, inplace=True)\n",
    "date_change=[]\n",
    "for row in df_ports['Period Label']:\n",
    "    if row == 'S1-2018' :   date_change.append('2018-07-31')\n",
    "    elif row == 'S2-2018':   date_change.append('2019-01-31')\n",
    "    elif row == 'S1-2019':  date_change.append('2019-07-31')\n",
    "    elif row == 'S2-2019':  date_change.append('2020-01-31')\n",
    "    elif row == 'S1-2020':  date_change.append('2020-07-31')\n",
    "    elif row == 'S2-2020':  date_change.append('2021-01-31')\n",
    "    elif row == 'S1-2021':  date_change.append('2021-07-31')\n",
    "    elif row == 'S2-2021':  date_change.append('2022-01-31')\n",
    "    elif row == 'S1-2022':  date_change.append('2022-07-31')\n",
    "    else:           date_change.append('Not_Rated')\n",
    "\n",
    "df_ports_country = df_ports.drop(columns=['Period Label'])\n",
    "df_ports_country['date'] = date_change\n",
    "df_ports_country"
   ]
  },
  {
   "cell_type": "code",
   "execution_count": 19,
   "metadata": {},
   "outputs": [
    {
     "data": {
      "text/plain": [
       "{'encoding': 'utf-8', 'confidence': 0.99, 'language': ''}"
      ]
     },
     "execution_count": 19,
     "metadata": {},
     "output_type": "execute_result"
    }
   ],
   "source": [
    "file_path2 = r\"C:\\Users\\user\\OneDrive - Delft University of Technology\\Desktop\\TIL\\Q1\\TIL6022\\Final Project\\covid_data_new.csv\"\n",
    "with open(file_path, 'rb') as rawdata:\n",
    "    result = chardet.detect(rawdata.read(100000))\n",
    "result"
   ]
  },
  {
   "cell_type": "code",
   "execution_count": 20,
   "metadata": {},
   "outputs": [
    {
     "data": {
      "text/html": [
       "<div>\n",
       "<style scoped>\n",
       "    .dataframe tbody tr th:only-of-type {\n",
       "        vertical-align: middle;\n",
       "    }\n",
       "\n",
       "    .dataframe tbody tr th {\n",
       "        vertical-align: top;\n",
       "    }\n",
       "\n",
       "    .dataframe thead th {\n",
       "        text-align: right;\n",
       "    }\n",
       "</style>\n",
       "<table border=\"1\" class=\"dataframe\">\n",
       "  <thead>\n",
       "    <tr style=\"text-align: right;\">\n",
       "      <th></th>\n",
       "      <th>Unnamed: 0</th>\n",
       "      <th>Location</th>\n",
       "      <th>date</th>\n",
       "      <th>new_cases</th>\n",
       "      <th>cumulative_cases</th>\n",
       "    </tr>\n",
       "  </thead>\n",
       "  <tbody>\n",
       "    <tr>\n",
       "      <th>0</th>\n",
       "      <td>0</td>\n",
       "      <td>Afghanistan</td>\n",
       "      <td>2020-01-31</td>\n",
       "      <td>0</td>\n",
       "      <td>0</td>\n",
       "    </tr>\n",
       "    <tr>\n",
       "      <th>1</th>\n",
       "      <td>1</td>\n",
       "      <td>Afghanistan</td>\n",
       "      <td>2020-07-31</td>\n",
       "      <td>36628</td>\n",
       "      <td>2080134</td>\n",
       "    </tr>\n",
       "    <tr>\n",
       "      <th>2</th>\n",
       "      <td>2</td>\n",
       "      <td>Afghanistan</td>\n",
       "      <td>2021-01-31</td>\n",
       "      <td>18395</td>\n",
       "      <td>8092870</td>\n",
       "    </tr>\n",
       "    <tr>\n",
       "      <th>3</th>\n",
       "      <td>3</td>\n",
       "      <td>Afghanistan</td>\n",
       "      <td>2021-07-31</td>\n",
       "      <td>92131</td>\n",
       "      <td>14105445</td>\n",
       "    </tr>\n",
       "    <tr>\n",
       "      <th>4</th>\n",
       "      <td>4</td>\n",
       "      <td>Afghanistan</td>\n",
       "      <td>2022-01-31</td>\n",
       "      <td>14986</td>\n",
       "      <td>28667488</td>\n",
       "    </tr>\n",
       "    <tr>\n",
       "      <th>...</th>\n",
       "      <td>...</td>\n",
       "      <td>...</td>\n",
       "      <td>...</td>\n",
       "      <td>...</td>\n",
       "      <td>...</td>\n",
       "    </tr>\n",
       "    <tr>\n",
       "      <th>1654</th>\n",
       "      <td>1654</td>\n",
       "      <td>occupied Palestinian territory, including east...</td>\n",
       "      <td>2021-01-31</td>\n",
       "      <td>163678</td>\n",
       "      <td>15204283</td>\n",
       "    </tr>\n",
       "    <tr>\n",
       "      <th>1655</th>\n",
       "      <td>1655</td>\n",
       "      <td>occupied Palestinian territory, including east...</td>\n",
       "      <td>2021-07-31</td>\n",
       "      <td>167062</td>\n",
       "      <td>52958731</td>\n",
       "    </tr>\n",
       "    <tr>\n",
       "      <th>1656</th>\n",
       "      <td>1656</td>\n",
       "      <td>occupied Palestinian territory, including east...</td>\n",
       "      <td>2022-01-31</td>\n",
       "      <td>179138</td>\n",
       "      <td>79971265</td>\n",
       "    </tr>\n",
       "    <tr>\n",
       "      <th>1657</th>\n",
       "      <td>1657</td>\n",
       "      <td>occupied Palestinian territory, including east...</td>\n",
       "      <td>2022-07-31</td>\n",
       "      <td>157380</td>\n",
       "      <td>117827259</td>\n",
       "    </tr>\n",
       "    <tr>\n",
       "      <th>1658</th>\n",
       "      <td>1658</td>\n",
       "      <td>occupied Palestinian territory, including east...</td>\n",
       "      <td>2023-01-31</td>\n",
       "      <td>20708</td>\n",
       "      <td>47598869</td>\n",
       "    </tr>\n",
       "  </tbody>\n",
       "</table>\n",
       "<p>1659 rows × 5 columns</p>\n",
       "</div>"
      ],
      "text/plain": [
       "      Unnamed: 0                                           Location  \\\n",
       "0              0                                        Afghanistan   \n",
       "1              1                                        Afghanistan   \n",
       "2              2                                        Afghanistan   \n",
       "3              3                                        Afghanistan   \n",
       "4              4                                        Afghanistan   \n",
       "...          ...                                                ...   \n",
       "1654        1654  occupied Palestinian territory, including east...   \n",
       "1655        1655  occupied Palestinian territory, including east...   \n",
       "1656        1656  occupied Palestinian territory, including east...   \n",
       "1657        1657  occupied Palestinian territory, including east...   \n",
       "1658        1658  occupied Palestinian territory, including east...   \n",
       "\n",
       "            date  new_cases  cumulative_cases  \n",
       "0     2020-01-31          0                 0  \n",
       "1     2020-07-31      36628           2080134  \n",
       "2     2021-01-31      18395           8092870  \n",
       "3     2021-07-31      92131          14105445  \n",
       "4     2022-01-31      14986          28667488  \n",
       "...          ...        ...               ...  \n",
       "1654  2021-01-31     163678          15204283  \n",
       "1655  2021-07-31     167062          52958731  \n",
       "1656  2022-01-31     179138          79971265  \n",
       "1657  2022-07-31     157380         117827259  \n",
       "1658  2023-01-31      20708          47598869  \n",
       "\n",
       "[1659 rows x 5 columns]"
      ]
     },
     "execution_count": 20,
     "metadata": {},
     "output_type": "execute_result"
    }
   ],
   "source": [
    "# Importing and Touching-up the Data\n",
    "\n",
    "df_covid_semester = pd.read_csv(file_path2,encoding='utf-8')\n",
    "df_covid_semester.rename(columns = {'country': 'Location'}, inplace=True)\n",
    "df_covid_semester"
   ]
  },
  {
   "cell_type": "code",
   "execution_count": 22,
   "metadata": {},
   "outputs": [
    {
     "data": {
      "text/html": [
       "<div>\n",
       "<style scoped>\n",
       "    .dataframe tbody tr th:only-of-type {\n",
       "        vertical-align: middle;\n",
       "    }\n",
       "\n",
       "    .dataframe tbody tr th {\n",
       "        vertical-align: top;\n",
       "    }\n",
       "\n",
       "    .dataframe thead th {\n",
       "        text-align: right;\n",
       "    }\n",
       "</style>\n",
       "<table border=\"1\" class=\"dataframe\">\n",
       "  <thead>\n",
       "    <tr style=\"text-align: right;\">\n",
       "      <th></th>\n",
       "      <th>Year</th>\n",
       "      <th>Location</th>\n",
       "      <th>Vessel Type</th>\n",
       "      <th>Median time in port (days)</th>\n",
       "      <th>Average age of vessels</th>\n",
       "      <th>Average size (GT) of vessels</th>\n",
       "      <th>Maximum size (GT) of vessels</th>\n",
       "      <th>Average cargo carrying capacity (dwt) per vessel</th>\n",
       "      <th>Maximum cargo carrying capacity (dwt) of vessels</th>\n",
       "      <th>Average container carrying capacity (TEU) per container ship</th>\n",
       "      <th>Maximum container carrying capacity (TEU) of container ships</th>\n",
       "      <th>date</th>\n",
       "      <th>new_cases</th>\n",
       "    </tr>\n",
       "  </thead>\n",
       "  <tbody>\n",
       "    <tr>\n",
       "      <th>0</th>\n",
       "      <td>2018.0</td>\n",
       "      <td>World</td>\n",
       "      <td>All ships</td>\n",
       "      <td>0.97</td>\n",
       "      <td>18.0</td>\n",
       "      <td>15222.0</td>\n",
       "      <td>234006.0</td>\n",
       "      <td>24074.0</td>\n",
       "      <td>441561.0</td>\n",
       "      <td>3526.0</td>\n",
       "      <td>21413.0</td>\n",
       "      <td>2018-07-31</td>\n",
       "      <td>NaN</td>\n",
       "    </tr>\n",
       "    <tr>\n",
       "      <th>1</th>\n",
       "      <td>2018.0</td>\n",
       "      <td>World</td>\n",
       "      <td>Passenger ships</td>\n",
       "      <td>NaN</td>\n",
       "      <td>21.0</td>\n",
       "      <td>8978.0</td>\n",
       "      <td>228081.0</td>\n",
       "      <td>NaN</td>\n",
       "      <td>NaN</td>\n",
       "      <td>NaN</td>\n",
       "      <td>NaN</td>\n",
       "      <td>2018-07-31</td>\n",
       "      <td>NaN</td>\n",
       "    </tr>\n",
       "    <tr>\n",
       "      <th>2</th>\n",
       "      <td>2018.0</td>\n",
       "      <td>World</td>\n",
       "      <td>Liquid bulk carriers</td>\n",
       "      <td>0.94</td>\n",
       "      <td>13.0</td>\n",
       "      <td>15470.0</td>\n",
       "      <td>234006.0</td>\n",
       "      <td>26871.0</td>\n",
       "      <td>441561.0</td>\n",
       "      <td>NaN</td>\n",
       "      <td>NaN</td>\n",
       "      <td>2018-07-31</td>\n",
       "      <td>NaN</td>\n",
       "    </tr>\n",
       "    <tr>\n",
       "      <th>3</th>\n",
       "      <td>2018.0</td>\n",
       "      <td>World</td>\n",
       "      <td>Container ships</td>\n",
       "      <td>0.69</td>\n",
       "      <td>13.0</td>\n",
       "      <td>38405.0</td>\n",
       "      <td>217673.0</td>\n",
       "      <td>NaN</td>\n",
       "      <td>NaN</td>\n",
       "      <td>3526.0</td>\n",
       "      <td>21413.0</td>\n",
       "      <td>2018-07-31</td>\n",
       "      <td>NaN</td>\n",
       "    </tr>\n",
       "    <tr>\n",
       "      <th>4</th>\n",
       "      <td>2018.0</td>\n",
       "      <td>World</td>\n",
       "      <td>Dry breakbulk carriers</td>\n",
       "      <td>1.12</td>\n",
       "      <td>19.0</td>\n",
       "      <td>5455.0</td>\n",
       "      <td>91784.0</td>\n",
       "      <td>7413.0</td>\n",
       "      <td>138743.0</td>\n",
       "      <td>NaN</td>\n",
       "      <td>NaN</td>\n",
       "      <td>2018-07-31</td>\n",
       "      <td>NaN</td>\n",
       "    </tr>\n",
       "    <tr>\n",
       "      <th>...</th>\n",
       "      <td>...</td>\n",
       "      <td>...</td>\n",
       "      <td>...</td>\n",
       "      <td>...</td>\n",
       "      <td>...</td>\n",
       "      <td>...</td>\n",
       "      <td>...</td>\n",
       "      <td>...</td>\n",
       "      <td>...</td>\n",
       "      <td>...</td>\n",
       "      <td>...</td>\n",
       "      <td>...</td>\n",
       "      <td>...</td>\n",
       "    </tr>\n",
       "    <tr>\n",
       "      <th>3179</th>\n",
       "      <td>NaN</td>\n",
       "      <td>occupied Palestinian territory, including east...</td>\n",
       "      <td>NaN</td>\n",
       "      <td>NaN</td>\n",
       "      <td>NaN</td>\n",
       "      <td>NaN</td>\n",
       "      <td>NaN</td>\n",
       "      <td>NaN</td>\n",
       "      <td>NaN</td>\n",
       "      <td>NaN</td>\n",
       "      <td>NaN</td>\n",
       "      <td>2021-01-31</td>\n",
       "      <td>163678.0</td>\n",
       "    </tr>\n",
       "    <tr>\n",
       "      <th>3180</th>\n",
       "      <td>NaN</td>\n",
       "      <td>occupied Palestinian territory, including east...</td>\n",
       "      <td>NaN</td>\n",
       "      <td>NaN</td>\n",
       "      <td>NaN</td>\n",
       "      <td>NaN</td>\n",
       "      <td>NaN</td>\n",
       "      <td>NaN</td>\n",
       "      <td>NaN</td>\n",
       "      <td>NaN</td>\n",
       "      <td>NaN</td>\n",
       "      <td>2021-07-31</td>\n",
       "      <td>167062.0</td>\n",
       "    </tr>\n",
       "    <tr>\n",
       "      <th>3181</th>\n",
       "      <td>NaN</td>\n",
       "      <td>occupied Palestinian territory, including east...</td>\n",
       "      <td>NaN</td>\n",
       "      <td>NaN</td>\n",
       "      <td>NaN</td>\n",
       "      <td>NaN</td>\n",
       "      <td>NaN</td>\n",
       "      <td>NaN</td>\n",
       "      <td>NaN</td>\n",
       "      <td>NaN</td>\n",
       "      <td>NaN</td>\n",
       "      <td>2022-01-31</td>\n",
       "      <td>179138.0</td>\n",
       "    </tr>\n",
       "    <tr>\n",
       "      <th>3182</th>\n",
       "      <td>NaN</td>\n",
       "      <td>occupied Palestinian territory, including east...</td>\n",
       "      <td>NaN</td>\n",
       "      <td>NaN</td>\n",
       "      <td>NaN</td>\n",
       "      <td>NaN</td>\n",
       "      <td>NaN</td>\n",
       "      <td>NaN</td>\n",
       "      <td>NaN</td>\n",
       "      <td>NaN</td>\n",
       "      <td>NaN</td>\n",
       "      <td>2022-07-31</td>\n",
       "      <td>157380.0</td>\n",
       "    </tr>\n",
       "    <tr>\n",
       "      <th>3183</th>\n",
       "      <td>NaN</td>\n",
       "      <td>occupied Palestinian territory, including east...</td>\n",
       "      <td>NaN</td>\n",
       "      <td>NaN</td>\n",
       "      <td>NaN</td>\n",
       "      <td>NaN</td>\n",
       "      <td>NaN</td>\n",
       "      <td>NaN</td>\n",
       "      <td>NaN</td>\n",
       "      <td>NaN</td>\n",
       "      <td>NaN</td>\n",
       "      <td>2023-01-31</td>\n",
       "      <td>20708.0</td>\n",
       "    </tr>\n",
       "  </tbody>\n",
       "</table>\n",
       "<p>3184 rows × 13 columns</p>\n",
       "</div>"
      ],
      "text/plain": [
       "        Year                                           Location  \\\n",
       "0     2018.0                                              World   \n",
       "1     2018.0                                              World   \n",
       "2     2018.0                                              World   \n",
       "3     2018.0                                              World   \n",
       "4     2018.0                                              World   \n",
       "...      ...                                                ...   \n",
       "3179     NaN  occupied Palestinian territory, including east...   \n",
       "3180     NaN  occupied Palestinian territory, including east...   \n",
       "3181     NaN  occupied Palestinian territory, including east...   \n",
       "3182     NaN  occupied Palestinian territory, including east...   \n",
       "3183     NaN  occupied Palestinian territory, including east...   \n",
       "\n",
       "                 Vessel Type  Median time in port (days)  \\\n",
       "0                  All ships                        0.97   \n",
       "1            Passenger ships                         NaN   \n",
       "2       Liquid bulk carriers                        0.94   \n",
       "3            Container ships                        0.69   \n",
       "4     Dry breakbulk carriers                        1.12   \n",
       "...                      ...                         ...   \n",
       "3179                     NaN                         NaN   \n",
       "3180                     NaN                         NaN   \n",
       "3181                     NaN                         NaN   \n",
       "3182                     NaN                         NaN   \n",
       "3183                     NaN                         NaN   \n",
       "\n",
       "      Average age of vessels  Average size (GT) of vessels  \\\n",
       "0                       18.0                       15222.0   \n",
       "1                       21.0                        8978.0   \n",
       "2                       13.0                       15470.0   \n",
       "3                       13.0                       38405.0   \n",
       "4                       19.0                        5455.0   \n",
       "...                      ...                           ...   \n",
       "3179                     NaN                           NaN   \n",
       "3180                     NaN                           NaN   \n",
       "3181                     NaN                           NaN   \n",
       "3182                     NaN                           NaN   \n",
       "3183                     NaN                           NaN   \n",
       "\n",
       "      Maximum size (GT) of vessels  \\\n",
       "0                         234006.0   \n",
       "1                         228081.0   \n",
       "2                         234006.0   \n",
       "3                         217673.0   \n",
       "4                          91784.0   \n",
       "...                            ...   \n",
       "3179                           NaN   \n",
       "3180                           NaN   \n",
       "3181                           NaN   \n",
       "3182                           NaN   \n",
       "3183                           NaN   \n",
       "\n",
       "      Average cargo carrying capacity (dwt) per vessel  \\\n",
       "0                                              24074.0   \n",
       "1                                                  NaN   \n",
       "2                                              26871.0   \n",
       "3                                                  NaN   \n",
       "4                                               7413.0   \n",
       "...                                                ...   \n",
       "3179                                               NaN   \n",
       "3180                                               NaN   \n",
       "3181                                               NaN   \n",
       "3182                                               NaN   \n",
       "3183                                               NaN   \n",
       "\n",
       "      Maximum cargo carrying capacity (dwt) of vessels  \\\n",
       "0                                             441561.0   \n",
       "1                                                  NaN   \n",
       "2                                             441561.0   \n",
       "3                                                  NaN   \n",
       "4                                             138743.0   \n",
       "...                                                ...   \n",
       "3179                                               NaN   \n",
       "3180                                               NaN   \n",
       "3181                                               NaN   \n",
       "3182                                               NaN   \n",
       "3183                                               NaN   \n",
       "\n",
       "      Average container carrying capacity (TEU) per container ship  \\\n",
       "0                                                3526.0              \n",
       "1                                                   NaN              \n",
       "2                                                   NaN              \n",
       "3                                                3526.0              \n",
       "4                                                   NaN              \n",
       "...                                                 ...              \n",
       "3179                                                NaN              \n",
       "3180                                                NaN              \n",
       "3181                                                NaN              \n",
       "3182                                                NaN              \n",
       "3183                                                NaN              \n",
       "\n",
       "      Maximum container carrying capacity (TEU) of container ships  \\\n",
       "0                                               21413.0              \n",
       "1                                                   NaN              \n",
       "2                                                   NaN              \n",
       "3                                               21413.0              \n",
       "4                                                   NaN              \n",
       "...                                                 ...              \n",
       "3179                                                NaN              \n",
       "3180                                                NaN              \n",
       "3181                                                NaN              \n",
       "3182                                                NaN              \n",
       "3183                                                NaN              \n",
       "\n",
       "            date  new_cases  \n",
       "0     2018-07-31        NaN  \n",
       "1     2018-07-31        NaN  \n",
       "2     2018-07-31        NaN  \n",
       "3     2018-07-31        NaN  \n",
       "4     2018-07-31        NaN  \n",
       "...          ...        ...  \n",
       "3179  2021-01-31   163678.0  \n",
       "3180  2021-07-31   167062.0  \n",
       "3181  2022-01-31   179138.0  \n",
       "3182  2022-07-31   157380.0  \n",
       "3183  2023-01-31    20708.0  \n",
       "\n",
       "[3184 rows x 13 columns]"
      ]
     },
     "execution_count": 22,
     "metadata": {},
     "output_type": "execute_result"
    }
   ],
   "source": [
    "df_combined_world = pd.merge(df_ports_country, df_covid_semester, on=['Location','date'], how='outer')\n",
    "df_combined_world = df_combined_world.drop(['Unnamed: 0', 'cumulative_cases'], axis=1)\n",
    "df_combined_world"
   ]
  },
  {
   "cell_type": "code",
   "execution_count": 23,
   "metadata": {},
   "outputs": [],
   "source": [
    "# df_combined_world.to_csv(r\"C:\\Users\\user\\OneDrive - Delft University of Technology\\Desktop\\TIL\\Q1\\TIL6022\\Final Project\\result_country.csv\")"
   ]
  },
  {
   "cell_type": "code",
   "execution_count": 24,
   "metadata": {},
   "outputs": [
    {
     "data": {
      "application/vnd.plotly.v1+json": {
       "config": {
        "plotlyServerURL": "https://plot.ly"
       },
       "data": [
        {
         "name": "Median time in port (days)",
         "type": "scatter",
         "x": [
          "2018-07-31",
          "2019-01-31",
          "2019-07-31",
          "2020-01-31",
          "2020-07-31",
          "2021-01-31",
          "2021-07-31",
          "2022-01-31",
          "2022-07-31"
         ],
         "xaxis": "x",
         "y": [
          1.45,
          1.37,
          1.4826,
          1.3882,
          1.4625,
          1.4438,
          1.5639,
          1.5861,
          1.7007
         ],
         "yaxis": "y"
        },
        {
         "name": "New covid cases",
         "type": "scatter",
         "x": [
          "2018-07-31",
          "2019-01-31",
          "2019-07-31",
          "2020-01-31",
          "2020-07-31",
          "2021-01-31",
          "2021-07-31",
          "2022-01-31",
          "2022-07-31"
         ],
         "xaxis": "x",
         "y": [
          null,
          null,
          null,
          8,
          4490804,
          21372270,
          8816641,
          39299653,
          16253477
         ],
         "yaxis": "y2"
        }
       ],
       "layout": {
        "template": {
         "data": {
          "bar": [
           {
            "error_x": {
             "color": "#2a3f5f"
            },
            "error_y": {
             "color": "#2a3f5f"
            },
            "marker": {
             "line": {
              "color": "#E5ECF6",
              "width": 0.5
             },
             "pattern": {
              "fillmode": "overlay",
              "size": 10,
              "solidity": 0.2
             }
            },
            "type": "bar"
           }
          ],
          "barpolar": [
           {
            "marker": {
             "line": {
              "color": "#E5ECF6",
              "width": 0.5
             },
             "pattern": {
              "fillmode": "overlay",
              "size": 10,
              "solidity": 0.2
             }
            },
            "type": "barpolar"
           }
          ],
          "carpet": [
           {
            "aaxis": {
             "endlinecolor": "#2a3f5f",
             "gridcolor": "white",
             "linecolor": "white",
             "minorgridcolor": "white",
             "startlinecolor": "#2a3f5f"
            },
            "baxis": {
             "endlinecolor": "#2a3f5f",
             "gridcolor": "white",
             "linecolor": "white",
             "minorgridcolor": "white",
             "startlinecolor": "#2a3f5f"
            },
            "type": "carpet"
           }
          ],
          "choropleth": [
           {
            "colorbar": {
             "outlinewidth": 0,
             "ticks": ""
            },
            "type": "choropleth"
           }
          ],
          "contour": [
           {
            "colorbar": {
             "outlinewidth": 0,
             "ticks": ""
            },
            "colorscale": [
             [
              0,
              "#0d0887"
             ],
             [
              0.1111111111111111,
              "#46039f"
             ],
             [
              0.2222222222222222,
              "#7201a8"
             ],
             [
              0.3333333333333333,
              "#9c179e"
             ],
             [
              0.4444444444444444,
              "#bd3786"
             ],
             [
              0.5555555555555556,
              "#d8576b"
             ],
             [
              0.6666666666666666,
              "#ed7953"
             ],
             [
              0.7777777777777778,
              "#fb9f3a"
             ],
             [
              0.8888888888888888,
              "#fdca26"
             ],
             [
              1,
              "#f0f921"
             ]
            ],
            "type": "contour"
           }
          ],
          "contourcarpet": [
           {
            "colorbar": {
             "outlinewidth": 0,
             "ticks": ""
            },
            "type": "contourcarpet"
           }
          ],
          "heatmap": [
           {
            "colorbar": {
             "outlinewidth": 0,
             "ticks": ""
            },
            "colorscale": [
             [
              0,
              "#0d0887"
             ],
             [
              0.1111111111111111,
              "#46039f"
             ],
             [
              0.2222222222222222,
              "#7201a8"
             ],
             [
              0.3333333333333333,
              "#9c179e"
             ],
             [
              0.4444444444444444,
              "#bd3786"
             ],
             [
              0.5555555555555556,
              "#d8576b"
             ],
             [
              0.6666666666666666,
              "#ed7953"
             ],
             [
              0.7777777777777778,
              "#fb9f3a"
             ],
             [
              0.8888888888888888,
              "#fdca26"
             ],
             [
              1,
              "#f0f921"
             ]
            ],
            "type": "heatmap"
           }
          ],
          "heatmapgl": [
           {
            "colorbar": {
             "outlinewidth": 0,
             "ticks": ""
            },
            "colorscale": [
             [
              0,
              "#0d0887"
             ],
             [
              0.1111111111111111,
              "#46039f"
             ],
             [
              0.2222222222222222,
              "#7201a8"
             ],
             [
              0.3333333333333333,
              "#9c179e"
             ],
             [
              0.4444444444444444,
              "#bd3786"
             ],
             [
              0.5555555555555556,
              "#d8576b"
             ],
             [
              0.6666666666666666,
              "#ed7953"
             ],
             [
              0.7777777777777778,
              "#fb9f3a"
             ],
             [
              0.8888888888888888,
              "#fdca26"
             ],
             [
              1,
              "#f0f921"
             ]
            ],
            "type": "heatmapgl"
           }
          ],
          "histogram": [
           {
            "marker": {
             "pattern": {
              "fillmode": "overlay",
              "size": 10,
              "solidity": 0.2
             }
            },
            "type": "histogram"
           }
          ],
          "histogram2d": [
           {
            "colorbar": {
             "outlinewidth": 0,
             "ticks": ""
            },
            "colorscale": [
             [
              0,
              "#0d0887"
             ],
             [
              0.1111111111111111,
              "#46039f"
             ],
             [
              0.2222222222222222,
              "#7201a8"
             ],
             [
              0.3333333333333333,
              "#9c179e"
             ],
             [
              0.4444444444444444,
              "#bd3786"
             ],
             [
              0.5555555555555556,
              "#d8576b"
             ],
             [
              0.6666666666666666,
              "#ed7953"
             ],
             [
              0.7777777777777778,
              "#fb9f3a"
             ],
             [
              0.8888888888888888,
              "#fdca26"
             ],
             [
              1,
              "#f0f921"
             ]
            ],
            "type": "histogram2d"
           }
          ],
          "histogram2dcontour": [
           {
            "colorbar": {
             "outlinewidth": 0,
             "ticks": ""
            },
            "colorscale": [
             [
              0,
              "#0d0887"
             ],
             [
              0.1111111111111111,
              "#46039f"
             ],
             [
              0.2222222222222222,
              "#7201a8"
             ],
             [
              0.3333333333333333,
              "#9c179e"
             ],
             [
              0.4444444444444444,
              "#bd3786"
             ],
             [
              0.5555555555555556,
              "#d8576b"
             ],
             [
              0.6666666666666666,
              "#ed7953"
             ],
             [
              0.7777777777777778,
              "#fb9f3a"
             ],
             [
              0.8888888888888888,
              "#fdca26"
             ],
             [
              1,
              "#f0f921"
             ]
            ],
            "type": "histogram2dcontour"
           }
          ],
          "mesh3d": [
           {
            "colorbar": {
             "outlinewidth": 0,
             "ticks": ""
            },
            "type": "mesh3d"
           }
          ],
          "parcoords": [
           {
            "line": {
             "colorbar": {
              "outlinewidth": 0,
              "ticks": ""
             }
            },
            "type": "parcoords"
           }
          ],
          "pie": [
           {
            "automargin": true,
            "type": "pie"
           }
          ],
          "scatter": [
           {
            "fillpattern": {
             "fillmode": "overlay",
             "size": 10,
             "solidity": 0.2
            },
            "type": "scatter"
           }
          ],
          "scatter3d": [
           {
            "line": {
             "colorbar": {
              "outlinewidth": 0,
              "ticks": ""
             }
            },
            "marker": {
             "colorbar": {
              "outlinewidth": 0,
              "ticks": ""
             }
            },
            "type": "scatter3d"
           }
          ],
          "scattercarpet": [
           {
            "marker": {
             "colorbar": {
              "outlinewidth": 0,
              "ticks": ""
             }
            },
            "type": "scattercarpet"
           }
          ],
          "scattergeo": [
           {
            "marker": {
             "colorbar": {
              "outlinewidth": 0,
              "ticks": ""
             }
            },
            "type": "scattergeo"
           }
          ],
          "scattergl": [
           {
            "marker": {
             "colorbar": {
              "outlinewidth": 0,
              "ticks": ""
             }
            },
            "type": "scattergl"
           }
          ],
          "scattermapbox": [
           {
            "marker": {
             "colorbar": {
              "outlinewidth": 0,
              "ticks": ""
             }
            },
            "type": "scattermapbox"
           }
          ],
          "scatterpolar": [
           {
            "marker": {
             "colorbar": {
              "outlinewidth": 0,
              "ticks": ""
             }
            },
            "type": "scatterpolar"
           }
          ],
          "scatterpolargl": [
           {
            "marker": {
             "colorbar": {
              "outlinewidth": 0,
              "ticks": ""
             }
            },
            "type": "scatterpolargl"
           }
          ],
          "scatterternary": [
           {
            "marker": {
             "colorbar": {
              "outlinewidth": 0,
              "ticks": ""
             }
            },
            "type": "scatterternary"
           }
          ],
          "surface": [
           {
            "colorbar": {
             "outlinewidth": 0,
             "ticks": ""
            },
            "colorscale": [
             [
              0,
              "#0d0887"
             ],
             [
              0.1111111111111111,
              "#46039f"
             ],
             [
              0.2222222222222222,
              "#7201a8"
             ],
             [
              0.3333333333333333,
              "#9c179e"
             ],
             [
              0.4444444444444444,
              "#bd3786"
             ],
             [
              0.5555555555555556,
              "#d8576b"
             ],
             [
              0.6666666666666666,
              "#ed7953"
             ],
             [
              0.7777777777777778,
              "#fb9f3a"
             ],
             [
              0.8888888888888888,
              "#fdca26"
             ],
             [
              1,
              "#f0f921"
             ]
            ],
            "type": "surface"
           }
          ],
          "table": [
           {
            "cells": {
             "fill": {
              "color": "#EBF0F8"
             },
             "line": {
              "color": "white"
             }
            },
            "header": {
             "fill": {
              "color": "#C8D4E3"
             },
             "line": {
              "color": "white"
             }
            },
            "type": "table"
           }
          ]
         },
         "layout": {
          "annotationdefaults": {
           "arrowcolor": "#2a3f5f",
           "arrowhead": 0,
           "arrowwidth": 1
          },
          "autotypenumbers": "strict",
          "coloraxis": {
           "colorbar": {
            "outlinewidth": 0,
            "ticks": ""
           }
          },
          "colorscale": {
           "diverging": [
            [
             0,
             "#8e0152"
            ],
            [
             0.1,
             "#c51b7d"
            ],
            [
             0.2,
             "#de77ae"
            ],
            [
             0.3,
             "#f1b6da"
            ],
            [
             0.4,
             "#fde0ef"
            ],
            [
             0.5,
             "#f7f7f7"
            ],
            [
             0.6,
             "#e6f5d0"
            ],
            [
             0.7,
             "#b8e186"
            ],
            [
             0.8,
             "#7fbc41"
            ],
            [
             0.9,
             "#4d9221"
            ],
            [
             1,
             "#276419"
            ]
           ],
           "sequential": [
            [
             0,
             "#0d0887"
            ],
            [
             0.1111111111111111,
             "#46039f"
            ],
            [
             0.2222222222222222,
             "#7201a8"
            ],
            [
             0.3333333333333333,
             "#9c179e"
            ],
            [
             0.4444444444444444,
             "#bd3786"
            ],
            [
             0.5555555555555556,
             "#d8576b"
            ],
            [
             0.6666666666666666,
             "#ed7953"
            ],
            [
             0.7777777777777778,
             "#fb9f3a"
            ],
            [
             0.8888888888888888,
             "#fdca26"
            ],
            [
             1,
             "#f0f921"
            ]
           ],
           "sequentialminus": [
            [
             0,
             "#0d0887"
            ],
            [
             0.1111111111111111,
             "#46039f"
            ],
            [
             0.2222222222222222,
             "#7201a8"
            ],
            [
             0.3333333333333333,
             "#9c179e"
            ],
            [
             0.4444444444444444,
             "#bd3786"
            ],
            [
             0.5555555555555556,
             "#d8576b"
            ],
            [
             0.6666666666666666,
             "#ed7953"
            ],
            [
             0.7777777777777778,
             "#fb9f3a"
            ],
            [
             0.8888888888888888,
             "#fdca26"
            ],
            [
             1,
             "#f0f921"
            ]
           ]
          },
          "colorway": [
           "#636efa",
           "#EF553B",
           "#00cc96",
           "#ab63fa",
           "#FFA15A",
           "#19d3f3",
           "#FF6692",
           "#B6E880",
           "#FF97FF",
           "#FECB52"
          ],
          "font": {
           "color": "#2a3f5f"
          },
          "geo": {
           "bgcolor": "white",
           "lakecolor": "white",
           "landcolor": "#E5ECF6",
           "showlakes": true,
           "showland": true,
           "subunitcolor": "white"
          },
          "hoverlabel": {
           "align": "left"
          },
          "hovermode": "closest",
          "mapbox": {
           "style": "light"
          },
          "paper_bgcolor": "white",
          "plot_bgcolor": "#E5ECF6",
          "polar": {
           "angularaxis": {
            "gridcolor": "white",
            "linecolor": "white",
            "ticks": ""
           },
           "bgcolor": "#E5ECF6",
           "radialaxis": {
            "gridcolor": "white",
            "linecolor": "white",
            "ticks": ""
           }
          },
          "scene": {
           "xaxis": {
            "backgroundcolor": "#E5ECF6",
            "gridcolor": "white",
            "gridwidth": 2,
            "linecolor": "white",
            "showbackground": true,
            "ticks": "",
            "zerolinecolor": "white"
           },
           "yaxis": {
            "backgroundcolor": "#E5ECF6",
            "gridcolor": "white",
            "gridwidth": 2,
            "linecolor": "white",
            "showbackground": true,
            "ticks": "",
            "zerolinecolor": "white"
           },
           "zaxis": {
            "backgroundcolor": "#E5ECF6",
            "gridcolor": "white",
            "gridwidth": 2,
            "linecolor": "white",
            "showbackground": true,
            "ticks": "",
            "zerolinecolor": "white"
           }
          },
          "shapedefaults": {
           "line": {
            "color": "#2a3f5f"
           }
          },
          "ternary": {
           "aaxis": {
            "gridcolor": "white",
            "linecolor": "white",
            "ticks": ""
           },
           "baxis": {
            "gridcolor": "white",
            "linecolor": "white",
            "ticks": ""
           },
           "bgcolor": "#E5ECF6",
           "caxis": {
            "gridcolor": "white",
            "linecolor": "white",
            "ticks": ""
           }
          },
          "title": {
           "x": 0.05
          },
          "xaxis": {
           "automargin": true,
           "gridcolor": "white",
           "linecolor": "white",
           "ticks": "",
           "title": {
            "standoff": 15
           },
           "zerolinecolor": "white",
           "zerolinewidth": 2
          },
          "yaxis": {
           "automargin": true,
           "gridcolor": "white",
           "linecolor": "white",
           "ticks": "",
           "title": {
            "standoff": 15
           },
           "zerolinecolor": "white",
           "zerolinewidth": 2
          }
         }
        },
        "title": {
         "text": "USA - all vessel type"
        },
        "xaxis": {
         "anchor": "y",
         "domain": [
          0,
          0.94
         ],
         "title": {
          "text": "Date"
         }
        },
        "yaxis": {
         "anchor": "x",
         "domain": [
          0,
          1
         ],
         "title": {
          "text": "<b>primary</b> Median time in port (days)"
         }
        },
        "yaxis2": {
         "anchor": "x",
         "overlaying": "y",
         "side": "right",
         "title": {
          "text": "<b>secondary</b> New covid cases"
         }
        }
       }
      }
     },
     "metadata": {},
     "output_type": "display_data"
    }
   ],
   "source": [
    "import plotly.graph_objects as go\n",
    "from plotly.subplots import make_subplots\n",
    "\n",
    "df_combined_world = df_combined_world[df_combined_world['Vessel Type'] == 'All ships']\n",
    "df_combined_world = df_combined_world[df_combined_world['Location'] == 'United States of America']\n",
    "\n",
    "# Create figure with secondary y-axis\n",
    "fig = make_subplots(specs=[[{\"secondary_y\": True}]])\n",
    "\n",
    "# Add traces\n",
    "fig.add_trace(\n",
    "    go.Scatter(x=df_combined_world['date'], y=df_combined_world['Median time in port (days)'], name=\"Median time in port (days)\"),\n",
    "    secondary_y=False,\n",
    ")\n",
    "\n",
    "fig.add_trace(\n",
    "    go.Scatter(x=df_combined_world['date'], y=df_combined_world['new_cases'], name=\"New covid cases\"),\n",
    "    secondary_y=True,\n",
    ")\n",
    "\n",
    "# Add figure title\n",
    "fig.update_layout(\n",
    "    title_text=\"USA - all vessel type\"\n",
    ")\n",
    "\n",
    "# Set x-axis title\n",
    "fig.update_xaxes(title_text=\"Date\")\n",
    "\n",
    "# Set y-axes titles\n",
    "fig.update_yaxes(title_text=\"<b>primary</b> Median time in port (days)\", secondary_y=False)\n",
    "fig.update_yaxes(title_text=\"<b>secondary</b> New covid cases\", secondary_y=True)\n",
    "\n",
    "fig.show()"
   ]
  }
 ],
 "metadata": {
  "kernelspec": {
   "display_name": "Python 3.7.13 ('TIL6022')",
   "language": "python",
   "name": "python3"
  },
  "language_info": {
   "codemirror_mode": {
    "name": "ipython",
    "version": 3
   },
   "file_extension": ".py",
   "mimetype": "text/x-python",
   "name": "python",
   "nbconvert_exporter": "python",
   "pygments_lexer": "ipython3",
   "version": "3.7.13"
  },
  "orig_nbformat": 4,
  "vscode": {
   "interpreter": {
    "hash": "3b555cf90cc979e63e151482c0cbf8cbd39dcbd359ce2e37fdfd3598b3bd6f77"
   }
  }
 },
 "nbformat": 4,
 "nbformat_minor": 2
}
