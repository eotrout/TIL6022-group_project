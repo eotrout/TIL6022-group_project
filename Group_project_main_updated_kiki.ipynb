{
 "cells": [
  {
   "cell_type": "markdown",
   "metadata": {},
   "source": [
    "# Project Group - 25\n",
    "\n",
    "Members: Yun-An LIN (Jackie), Rohan Menezes, John Kuttikat, Muhammad Rizki Ziarieputra (Kiki), Ian Trout \n",
    "\n",
    "Student numbers: 5841682, 5850908, 5765382, 5848113, 5851483"
   ]
  },
  {
   "cell_type": "markdown",
   "metadata": {},
   "source": [
    "# Research Objective\n",
    "\n",
    "*Requires data modeling and quantitative research in Transport, Infrastructure & Logistics*"
   ]
  },
  {
   "cell_type": "markdown",
   "metadata": {},
   "source": [
    "Vessel time spent in ports by country before and during COVID--an analysis by ship category showing the impacts of COVID"
   ]
  },
  {
   "cell_type": "markdown",
   "metadata": {},
   "source": [
    "# Contribution Statement\n",
    "\n",
    "*Be specific. Some of the tasks can be coding (expect everyone to do this), background research, conceptualisation, visualisation, data analysis, data modelling*"
   ]
  },
  {
   "cell_type": "markdown",
   "metadata": {},
   "source": [
    "**Author 1**: coding, background research, conceptualisation\n",
    "\n",
    "**Author 2**:coding, visualisation\n",
    "\n",
    "**Author 3**: coding, data analysis\n",
    "    \n",
    "**Author 4**:coding, data modelling\n",
    "\n",
    "**Author 5**: coding, visualisation"
   ]
  },
  {
   "cell_type": "markdown",
   "metadata": {},
   "source": [
    "# Data Used"
   ]
  },
  {
   "cell_type": "markdown",
   "metadata": {},
   "source": [
    "----Covid data (https://data.humdata.org/dataset/coronavirus-covid-19-cases-and-deaths) \n",
    "\n",
    "----Port data (https://unctadstat.unctad.org/wds/TableViewer/tableView.aspx?ReportId=170027)\n",
    "\n",
    "----total cargo loaded/unloaded by region from 1970 to 2020 (https://www.kaggle.com/datasets/illiaparfeniuk/maritime-trading-volumes)\n",
    "\n",
    "----Total amount of goods imported and exported by ship per EU country(https://ec.europa.eu/eurostat/databrowser/view/ttr00009/default/map?lang=en)"
   ]
  },
  {
   "cell_type": "markdown",
   "metadata": {},
   "source": [
    "# Data Pipeline"
   ]
  },
  {
   "cell_type": "markdown",
   "metadata": {},
   "source": [
    "take only the last 6 months of each year (limitation of the maritime data): \n",
    "    \n",
    "convert the maritime data:\n",
    "    \n",
    "    1) to a common volume \n",
    "    \n",
    "    2) calculate the average volume for all cargo types \n",
    "    \n",
    "    3) consolidate the data into regions of the world. \n",
    "\n",
    "convert COVID cases: \n",
    "    1) calculate the average vaccination cases per country that has reported it \n",
    "    2) calculate the average COVID cases per country for the last 6 months of every year (July to December) \n",
    "    \n",
    "Analyze port call times for 2018, 2019, compared to 2020 to see the difference with COVID.\n",
    "\n",
    "---calculate the differences \n",
    "\n",
    "Compare the 2020 and 2021 port call times to see if improvements have been made or if port calls are still slow. \n",
    "\n",
    "Visually show the change in port call times by region of the world by year. \n",
    "\n"
   ]
  },
  {
   "cell_type": "markdown",
   "metadata": {},
   "source": [
    "first, we will import the necessary libraries\n",
    "\n"
   ]
  },
  {
   "cell_type": "code",
   "execution_count": 2,
   "metadata": {},
   "outputs": [
    {
     "data": {
      "text/html": [
       "        <script type=\"text/javascript\">\n",
       "        window.PlotlyConfig = {MathJaxConfig: 'local'};\n",
       "        if (window.MathJax && window.MathJax.Hub && window.MathJax.Hub.Config) {window.MathJax.Hub.Config({SVG: {font: \"STIX-Web\"}});}\n",
       "        if (typeof require !== 'undefined') {\n",
       "        require.undef(\"plotly\");\n",
       "        requirejs.config({\n",
       "            paths: {\n",
       "                'plotly': ['https://cdn.plot.ly/plotly-2.14.0.min']\n",
       "            }\n",
       "        });\n",
       "        require(['plotly'], function(Plotly) {\n",
       "            window._Plotly = Plotly;\n",
       "        });\n",
       "        }\n",
       "        </script>\n",
       "        "
      ]
     },
     "metadata": {},
     "output_type": "display_data"
    }
   ],
   "source": [
    "import pandas as pd\n",
    "import chardet\n",
    "from plotly.offline import init_notebook_mode\n",
    "import pandas as pd\n",
    "import numpy as np\n",
    "import plotly.io as pio\n",
    "import plotly.express as px\n",
    "from plotly.subplots import make_subplots\n",
    "import plotly.graph_objects as go\n",
    "import json\n",
    "import itertools\n",
    "import geopandas as gpd\n",
    "# import geoplot\n",
    "# import geoplot.crs as gcrs\n",
    "import math\n",
    "import scipy\n",
    "from scipy.signal import find_peaks\n",
    "from datetime import datetime\n",
    "from scipy.stats import spearmanr\n",
    "\n",
    "init_notebook_mode(connected=True)\n",
    "pio.renderers.default = \"plotly_mimetype+notebook\""
   ]
  },
  {
   "cell_type": "markdown",
   "metadata": {},
   "source": [
    "## Part I\n",
    "\n",
    "First, We're going to import and combine dataframes of the four types of data I found:\n",
    "\n",
    "Covid data from the WHO on country level, giving cases, hospitalizations and casualties per day (absolute and cumulative)\n",
    "\n",
    "Port data from UNICSTAT on a country level, giving tonnage, median time in port, and other information (from 2018 to 2022) \n",
    "\n",
    "Port peformance index data for several ports within a country (data ranging from 2020 to 2021) \n",
    "\n",
    "GeoJSON file of all the countries in the world\n",
    "\n",
    "\n",
    "We're starting off with the port and the geocoding datasets."
   ]
  },
  {
   "cell_type": "code",
   "execution_count": 96,
   "metadata": {},
   "outputs": [
    {
     "data": {
      "text/plain": [
       "{'encoding': 'utf-8', 'confidence': 0.99, 'language': ''}"
      ]
     },
     "execution_count": 96,
     "metadata": {},
     "output_type": "execute_result"
    }
   ],
   "source": [
    "#file_path = r\"C:\\Users\\user\\OneDrive - Delft University of Technology\\Desktop\\TIL\\Q1\\TIL6022\\TIL6022-group_project\\Data\\Maritime data\\US_PortCalls_S_ST202209220924_v1.csv\"\n",
    "#with open(file_path, 'rb') as rawdata:\n",
    "#    result = chardet.detect(rawdata.read(100000))\n",
    "#result\n",
    "\n",
    "#Delete this one and resue the one above when Ian is not using this \n",
    "file_path = \"/Users/iantrout/TIL6022-group_project/Data/Maritime data/US_PortCalls_S_ST202209220924_v1.csv\"\n",
    "with open(portcalls_file_path, 'rb') as rawdata:    \n",
    "    result = chardet.detect(rawdata.read(100000))\n",
    "result"
   ]
  },
  {
   "cell_type": "code",
   "execution_count": 97,
   "metadata": {
    "scrolled": true
   },
   "outputs": [
    {
     "data": {
      "text/html": [
       "<div>\n",
       "<style scoped>\n",
       "    .dataframe tbody tr th:only-of-type {\n",
       "        vertical-align: middle;\n",
       "    }\n",
       "\n",
       "    .dataframe tbody tr th {\n",
       "        vertical-align: top;\n",
       "    }\n",
       "\n",
       "    .dataframe thead th {\n",
       "        text-align: right;\n",
       "    }\n",
       "</style>\n",
       "<table border=\"1\" class=\"dataframe\">\n",
       "  <thead>\n",
       "    <tr style=\"text-align: right;\">\n",
       "      <th></th>\n",
       "      <th>Year</th>\n",
       "      <th>country</th>\n",
       "      <th>Vessel_Type</th>\n",
       "      <th>Median time in port (days)</th>\n",
       "      <th>Average age of vessels</th>\n",
       "      <th>Average size (GT) of vessels</th>\n",
       "      <th>Maximum size (GT) of vessels</th>\n",
       "      <th>Average cargo carrying capacity (dwt) per vessel</th>\n",
       "      <th>Maximum cargo carrying capacity (dwt) of vessels</th>\n",
       "      <th>Average container carrying capacity (TEU) per container ship</th>\n",
       "      <th>Maximum container carrying capacity (TEU) of container ships</th>\n",
       "      <th>date</th>\n",
       "    </tr>\n",
       "  </thead>\n",
       "  <tbody>\n",
       "    <tr>\n",
       "      <th>0</th>\n",
       "      <td>2018</td>\n",
       "      <td>World</td>\n",
       "      <td>All ships</td>\n",
       "      <td>0.97</td>\n",
       "      <td>18</td>\n",
       "      <td>15222</td>\n",
       "      <td>234006</td>\n",
       "      <td>24074.0</td>\n",
       "      <td>441561.0</td>\n",
       "      <td>3526.0</td>\n",
       "      <td>21413.0</td>\n",
       "      <td>2018-07-31</td>\n",
       "    </tr>\n",
       "    <tr>\n",
       "      <th>1</th>\n",
       "      <td>2018</td>\n",
       "      <td>World</td>\n",
       "      <td>Passenger ships</td>\n",
       "      <td>NaN</td>\n",
       "      <td>21</td>\n",
       "      <td>8978</td>\n",
       "      <td>228081</td>\n",
       "      <td>NaN</td>\n",
       "      <td>NaN</td>\n",
       "      <td>NaN</td>\n",
       "      <td>NaN</td>\n",
       "      <td>2018-07-31</td>\n",
       "    </tr>\n",
       "    <tr>\n",
       "      <th>2</th>\n",
       "      <td>2018</td>\n",
       "      <td>World</td>\n",
       "      <td>Liquid bulk carriers</td>\n",
       "      <td>0.94</td>\n",
       "      <td>13</td>\n",
       "      <td>15470</td>\n",
       "      <td>234006</td>\n",
       "      <td>26871.0</td>\n",
       "      <td>441561.0</td>\n",
       "      <td>NaN</td>\n",
       "      <td>NaN</td>\n",
       "      <td>2018-07-31</td>\n",
       "    </tr>\n",
       "    <tr>\n",
       "      <th>3</th>\n",
       "      <td>2018</td>\n",
       "      <td>World</td>\n",
       "      <td>Container ships</td>\n",
       "      <td>0.69</td>\n",
       "      <td>13</td>\n",
       "      <td>38405</td>\n",
       "      <td>217673</td>\n",
       "      <td>NaN</td>\n",
       "      <td>NaN</td>\n",
       "      <td>3526.0</td>\n",
       "      <td>21413.0</td>\n",
       "      <td>2018-07-31</td>\n",
       "    </tr>\n",
       "    <tr>\n",
       "      <th>4</th>\n",
       "      <td>2018</td>\n",
       "      <td>World</td>\n",
       "      <td>Dry breakbulk carriers</td>\n",
       "      <td>1.12</td>\n",
       "      <td>19</td>\n",
       "      <td>5455</td>\n",
       "      <td>91784</td>\n",
       "      <td>7413.0</td>\n",
       "      <td>138743.0</td>\n",
       "      <td>NaN</td>\n",
       "      <td>NaN</td>\n",
       "      <td>2018-07-31</td>\n",
       "    </tr>\n",
       "  </tbody>\n",
       "</table>\n",
       "</div>"
      ],
      "text/plain": [
       "   Year country             Vessel_Type  Median time in port (days)  \\\n",
       "0  2018   World               All ships                        0.97   \n",
       "1  2018   World         Passenger ships                         NaN   \n",
       "2  2018   World    Liquid bulk carriers                        0.94   \n",
       "3  2018   World         Container ships                        0.69   \n",
       "4  2018   World  Dry breakbulk carriers                        1.12   \n",
       "\n",
       "   Average age of vessels  Average size (GT) of vessels  \\\n",
       "0                      18                         15222   \n",
       "1                      21                          8978   \n",
       "2                      13                         15470   \n",
       "3                      13                         38405   \n",
       "4                      19                          5455   \n",
       "\n",
       "   Maximum size (GT) of vessels  \\\n",
       "0                        234006   \n",
       "1                        228081   \n",
       "2                        234006   \n",
       "3                        217673   \n",
       "4                         91784   \n",
       "\n",
       "   Average cargo carrying capacity (dwt) per vessel  \\\n",
       "0                                           24074.0   \n",
       "1                                               NaN   \n",
       "2                                           26871.0   \n",
       "3                                               NaN   \n",
       "4                                            7413.0   \n",
       "\n",
       "   Maximum cargo carrying capacity (dwt) of vessels  \\\n",
       "0                                          441561.0   \n",
       "1                                               NaN   \n",
       "2                                          441561.0   \n",
       "3                                               NaN   \n",
       "4                                          138743.0   \n",
       "\n",
       "   Average container carrying capacity (TEU) per container ship  \\\n",
       "0                                             3526.0              \n",
       "1                                                NaN              \n",
       "2                                                NaN              \n",
       "3                                             3526.0              \n",
       "4                                                NaN              \n",
       "\n",
       "   Maximum container carrying capacity (TEU) of container ships        date  \n",
       "0                                            21413.0             2018-07-31  \n",
       "1                                                NaN             2018-07-31  \n",
       "2                                                NaN             2018-07-31  \n",
       "3                                            21413.0             2018-07-31  \n",
       "4                                                NaN             2018-07-31  "
      ]
     },
     "execution_count": 97,
     "metadata": {},
     "output_type": "execute_result"
    }
   ],
   "source": [
    "# Importing and Touching-up the Data\n",
    "\n",
    "df_ports = pd.read_csv(file_path,encoding='utf-8')\n",
    "df_ports['Period Label'] = df_ports['Period Label'].str.replace('   ','-')\n",
    "df_ports = df_ports.drop(columns=['Period', 'Frequency', 'Frequency Label', 'Economy', \n",
    "                                      'CommercialMarket', 'Median time in port (days) Footnote',\n",
    "                                      'Average age of vessels Footnote', 'Average size (GT) of vessels Footnote',\n",
    "                                      'Maximum size (GT) of vessels Footnote', 'Average cargo carrying capacity (dwt) per vessel Footnote',\n",
    "                                      'Maximum cargo carrying capacity (dwt) of vessels Footnote','Average container carrying capacity (TEU) per container ship Footnote',\n",
    "                                      'Maximum container carrying capacity (TEU) of container ships Footnote'])\n",
    "df_ports.rename(columns = {'Economy Label': 'country', 'CommercialMarket Label': 'Vessel_Type', }, inplace=True)\n",
    "date_change=[]\n",
    "for row in df_ports['Period Label']:\n",
    "    if row == 'S1-2018' :   date_change.append('2018-07-31')\n",
    "    elif row == 'S2-2018':   date_change.append('2019-01-31')\n",
    "    elif row == 'S1-2019':  date_change.append('2019-07-31')\n",
    "    elif row == 'S2-2019':  date_change.append('2020-01-31')\n",
    "    elif row == 'S1-2020':  date_change.append('2020-07-31')\n",
    "    elif row == 'S2-2020':  date_change.append('2021-01-31')\n",
    "    elif row == 'S1-2021':  date_change.append('2021-07-31')\n",
    "    elif row == 'S2-2021':  date_change.append('2022-01-31')\n",
    "    elif row == 'S1-2022':  date_change.append('2022-07-31')\n",
    "    else:           date_change.append('Not_Rated')\n",
    "\n",
    "df_ports = df_ports.drop(columns=['Period Label'])\n",
    "df_ports['date'] = date_change\n",
    "df_ports\n",
    "df_ports.head()"
   ]
  },
  {
   "cell_type": "code",
   "execution_count": 98,
   "metadata": {},
   "outputs": [],
   "source": [
    "# df_ports.to_csv (r'/Users/iantrout/TIL6022-group_project/updated_port_info.csv')"
   ]
  },
  {
   "cell_type": "code",
   "execution_count": 99,
   "metadata": {},
   "outputs": [],
   "source": [
    "# geodata = gpd.read_file(\"/Users/iantrout/TIL6022-group_project/Data/countries.geojson\") # geojson file\n",
    "# geodata.rename(columns = {'ADMIN': 'Location', }, inplace=True)\n",
    "# geodata.head()"
   ]
  },
  {
   "cell_type": "code",
   "execution_count": 100,
   "metadata": {},
   "outputs": [],
   "source": [
    "# geodata.to_file (\"/Users/iantrout/TIL6022-group_project/Data/countries.geojson\", driver=\"GeoJSON\")\n"
   ]
  },
  {
   "cell_type": "code",
   "execution_count": 101,
   "metadata": {},
   "outputs": [],
   "source": [
    "# # Merge the two dataframes, using _ID column as key\n",
    "# geo_port = pd.merge(geodata, df_ports, on = 'Location')\n",
    "\n",
    "# geo_port.rename(columns = {'Location': 'country', }, inplace=True)\n",
    "\n",
    "# geo_port.head()"
   ]
  },
  {
   "cell_type": "markdown",
   "metadata": {},
   "source": [
    "now we will merge the other port performance index data with the table above"
   ]
  },
  {
   "cell_type": "code",
   "execution_count": 102,
   "metadata": {},
   "outputs": [],
   "source": [
    "# port_2021_path = \"/Users/iantrout/TIL6022-group_project/Data/The productivity of the ports/Container-Port-Performance-Index-2021 copy.csv\"\n",
    "# data_call_path = \"/Users/iantrout/TIL6022-group_project/Data/Maritime data/US_PortCalls_S_ST202209220924_v1.csv\"\n",
    "\n",
    "\n",
    "# port_2021 = pd.read_csv(port_2021_path)\n",
    "# data_call = pd.read_csv(data_call_path)\n",
    "  \n",
    "# # using merge function by setting how='outer'\n",
    "# output = pd.merge(port_2021, data_call, \n",
    "#                    on='Economy Label', \n",
    "#                    how='outer')\n",
    "  \n",
    "# # displaying result\n",
    "# print(output)"
   ]
  },
  {
   "cell_type": "markdown",
   "metadata": {},
   "source": [
    "now we will merge the covid data with the port data "
   ]
  },
  {
   "cell_type": "code",
   "execution_count": 103,
   "metadata": {},
   "outputs": [
    {
     "data": {
      "text/html": [
       "<div>\n",
       "<style scoped>\n",
       "    .dataframe tbody tr th:only-of-type {\n",
       "        vertical-align: middle;\n",
       "    }\n",
       "\n",
       "    .dataframe tbody tr th {\n",
       "        vertical-align: top;\n",
       "    }\n",
       "\n",
       "    .dataframe thead th {\n",
       "        text-align: right;\n",
       "    }\n",
       "</style>\n",
       "<table border=\"1\" class=\"dataframe\">\n",
       "  <thead>\n",
       "    <tr style=\"text-align: right;\">\n",
       "      <th></th>\n",
       "      <th>Unnamed: 0</th>\n",
       "      <th>country</th>\n",
       "      <th>date</th>\n",
       "      <th>new_cases</th>\n",
       "      <th>cumulative_cases</th>\n",
       "    </tr>\n",
       "  </thead>\n",
       "  <tbody>\n",
       "    <tr>\n",
       "      <th>0</th>\n",
       "      <td>0</td>\n",
       "      <td>Afghanistan</td>\n",
       "      <td>2020-01-31</td>\n",
       "      <td>0</td>\n",
       "      <td>0</td>\n",
       "    </tr>\n",
       "    <tr>\n",
       "      <th>1</th>\n",
       "      <td>1</td>\n",
       "      <td>Afghanistan</td>\n",
       "      <td>2020-07-31</td>\n",
       "      <td>36628</td>\n",
       "      <td>2080134</td>\n",
       "    </tr>\n",
       "    <tr>\n",
       "      <th>2</th>\n",
       "      <td>2</td>\n",
       "      <td>Afghanistan</td>\n",
       "      <td>2021-01-31</td>\n",
       "      <td>18395</td>\n",
       "      <td>8092870</td>\n",
       "    </tr>\n",
       "    <tr>\n",
       "      <th>3</th>\n",
       "      <td>3</td>\n",
       "      <td>Afghanistan</td>\n",
       "      <td>2021-07-31</td>\n",
       "      <td>92131</td>\n",
       "      <td>14105445</td>\n",
       "    </tr>\n",
       "    <tr>\n",
       "      <th>4</th>\n",
       "      <td>4</td>\n",
       "      <td>Afghanistan</td>\n",
       "      <td>2022-01-31</td>\n",
       "      <td>14986</td>\n",
       "      <td>28667488</td>\n",
       "    </tr>\n",
       "  </tbody>\n",
       "</table>\n",
       "</div>"
      ],
      "text/plain": [
       "   Unnamed: 0      country        date  new_cases  cumulative_cases\n",
       "0           0  Afghanistan  2020-01-31          0                 0\n",
       "1           1  Afghanistan  2020-07-31      36628           2080134\n",
       "2           2  Afghanistan  2021-01-31      18395           8092870\n",
       "3           3  Afghanistan  2021-07-31      92131          14105445\n",
       "4           4  Afghanistan  2022-01-31      14986          28667488"
      ]
     },
     "execution_count": 103,
     "metadata": {},
     "output_type": "execute_result"
    }
   ],
   "source": [
    "# file_path = r'C:\\Users\\user\\OneDrive - Delft University of Technology\\Desktop\\TIL\\Q1\\TIL6022\\TIL6022-group_project\\JOHN_FILES\\covid_data.csv'\n",
    "# df = pd.read_csv(file_path)\n",
    "# df = df.rename({\n",
    "#     'Date_reported': 'date',\n",
    "#     'Country': 'country',\n",
    "#     'New_cases': 'new_cases',\n",
    "#     'Cumulative_cases': 'cumulative_cases'\n",
    "# }, axis=1) \n",
    "# df = df.drop(labels=[\n",
    "#     'New_deaths', \n",
    "#     'Cumulative_deaths', \n",
    "#     'Country_code', \n",
    "#     'WHO_region'\n",
    "# ], axis=1)\n",
    "# df.head()\n",
    "\n",
    "# for i in range(len(df)):\n",
    "#     k=df.iloc[i,0].split('-')\n",
    "#     df.iloc[i,0]=datetime(int(k[0]),int(k[1]),int(k[2]))\n",
    "\n",
    "# df_new = (df.groupby(['country', pd.Grouper(key='date', freq='6M')])\n",
    "#         .max()\n",
    "#         .reset_index())\n",
    "# df_new.head()\n",
    "# #fig = px.line(df_new, x='date', y='cumulative_cases', markers='True', color=\"country\")\n",
    "# #fig.show()\n",
    "\n",
    "file_path2 = \"/Users/iantrout/TIL6022-group_project/JOHN_FILES/covid_data_new.csv\"\n",
    "with open(file_path, 'rb') as rawdata:\n",
    "    result = chardet.detect(rawdata.read(100000))\n",
    "result\n",
    "\n",
    "df_new = pd.read_csv(file_path2,encoding='utf-8')\n",
    "df_new.head()\n",
    "\n",
    "#use this file_path code for when Ian is not using it:\n",
    "#r\"C:\\Users\\user\\OneDrive - Delft University of Technology\\Desktop\\TIL\\Q1\\TIL6022\\Final Project\\covid_data_new.csv\""
   ]
  },
  {
   "cell_type": "code",
   "execution_count": 104,
   "metadata": {},
   "outputs": [],
   "source": [
    "# df_ports_world = geo_port \n",
    "# df_ports_world.head()\n",
    "# date_change=[]\n",
    "# for row in df_ports_world['Period Label']:\n",
    "#     if row == 'S1-2018' :   date_change.append('2018-07-31')\n",
    "#     elif row == 'S2-2018':   date_change.append('2019-01-31')\n",
    "#     elif row == 'S1-2019':  date_change.append('2019-07-31')\n",
    "#     elif row == 'S2-2019':  date_change.append('2020-01-31')\n",
    "#     elif row == 'S1-2020':  date_change.append('2020-07-31')\n",
    "#     elif row == 'S2-2020':  date_change.append('2021-01-31')\n",
    "#     elif row == 'S1-2021':  date_change.append('2021-07-31')\n",
    "#     elif row == 'S2-2021':  date_change.append('2022-01-31')\n",
    "#     elif row == 'S1-2022':  date_change.append('2022-07-31')\n",
    "#     else:           date_change.append('Not_Rated')\n",
    "\n",
    "# df_ports_world = df_ports_world.drop(columns=['Period Label'])\n",
    "# df_ports_world['date'] = date_change\n",
    "# df_ports_world"
   ]
  },
  {
   "cell_type": "code",
   "execution_count": 105,
   "metadata": {},
   "outputs": [
    {
     "data": {
      "text/html": [
       "<div>\n",
       "<style scoped>\n",
       "    .dataframe tbody tr th:only-of-type {\n",
       "        vertical-align: middle;\n",
       "    }\n",
       "\n",
       "    .dataframe tbody tr th {\n",
       "        vertical-align: top;\n",
       "    }\n",
       "\n",
       "    .dataframe thead th {\n",
       "        text-align: right;\n",
       "    }\n",
       "</style>\n",
       "<table border=\"1\" class=\"dataframe\">\n",
       "  <thead>\n",
       "    <tr style=\"text-align: right;\">\n",
       "      <th></th>\n",
       "      <th>Year</th>\n",
       "      <th>country</th>\n",
       "      <th>Vessel_Type</th>\n",
       "      <th>Median time in port (days)</th>\n",
       "      <th>Average age of vessels</th>\n",
       "      <th>Average size (GT) of vessels</th>\n",
       "      <th>Maximum size (GT) of vessels</th>\n",
       "      <th>Average cargo carrying capacity (dwt) per vessel</th>\n",
       "      <th>Maximum cargo carrying capacity (dwt) of vessels</th>\n",
       "      <th>Average container carrying capacity (TEU) per container ship</th>\n",
       "      <th>Maximum container carrying capacity (TEU) of container ships</th>\n",
       "      <th>date</th>\n",
       "      <th>new_cases</th>\n",
       "    </tr>\n",
       "  </thead>\n",
       "  <tbody>\n",
       "    <tr>\n",
       "      <th>0</th>\n",
       "      <td>2018.0</td>\n",
       "      <td>World</td>\n",
       "      <td>All ships</td>\n",
       "      <td>0.97</td>\n",
       "      <td>18.0</td>\n",
       "      <td>15222.0</td>\n",
       "      <td>234006.0</td>\n",
       "      <td>24074.0</td>\n",
       "      <td>441561.0</td>\n",
       "      <td>3526.0</td>\n",
       "      <td>21413.0</td>\n",
       "      <td>2018-07-31</td>\n",
       "      <td>NaN</td>\n",
       "    </tr>\n",
       "    <tr>\n",
       "      <th>1</th>\n",
       "      <td>2018.0</td>\n",
       "      <td>World</td>\n",
       "      <td>Passenger ships</td>\n",
       "      <td>NaN</td>\n",
       "      <td>21.0</td>\n",
       "      <td>8978.0</td>\n",
       "      <td>228081.0</td>\n",
       "      <td>NaN</td>\n",
       "      <td>NaN</td>\n",
       "      <td>NaN</td>\n",
       "      <td>NaN</td>\n",
       "      <td>2018-07-31</td>\n",
       "      <td>NaN</td>\n",
       "    </tr>\n",
       "    <tr>\n",
       "      <th>2</th>\n",
       "      <td>2018.0</td>\n",
       "      <td>World</td>\n",
       "      <td>Liquid bulk carriers</td>\n",
       "      <td>0.94</td>\n",
       "      <td>13.0</td>\n",
       "      <td>15470.0</td>\n",
       "      <td>234006.0</td>\n",
       "      <td>26871.0</td>\n",
       "      <td>441561.0</td>\n",
       "      <td>NaN</td>\n",
       "      <td>NaN</td>\n",
       "      <td>2018-07-31</td>\n",
       "      <td>NaN</td>\n",
       "    </tr>\n",
       "    <tr>\n",
       "      <th>3</th>\n",
       "      <td>2018.0</td>\n",
       "      <td>World</td>\n",
       "      <td>Container ships</td>\n",
       "      <td>0.69</td>\n",
       "      <td>13.0</td>\n",
       "      <td>38405.0</td>\n",
       "      <td>217673.0</td>\n",
       "      <td>NaN</td>\n",
       "      <td>NaN</td>\n",
       "      <td>3526.0</td>\n",
       "      <td>21413.0</td>\n",
       "      <td>2018-07-31</td>\n",
       "      <td>NaN</td>\n",
       "    </tr>\n",
       "    <tr>\n",
       "      <th>4</th>\n",
       "      <td>2018.0</td>\n",
       "      <td>World</td>\n",
       "      <td>Dry breakbulk carriers</td>\n",
       "      <td>1.12</td>\n",
       "      <td>19.0</td>\n",
       "      <td>5455.0</td>\n",
       "      <td>91784.0</td>\n",
       "      <td>7413.0</td>\n",
       "      <td>138743.0</td>\n",
       "      <td>NaN</td>\n",
       "      <td>NaN</td>\n",
       "      <td>2018-07-31</td>\n",
       "      <td>NaN</td>\n",
       "    </tr>\n",
       "    <tr>\n",
       "      <th>...</th>\n",
       "      <td>...</td>\n",
       "      <td>...</td>\n",
       "      <td>...</td>\n",
       "      <td>...</td>\n",
       "      <td>...</td>\n",
       "      <td>...</td>\n",
       "      <td>...</td>\n",
       "      <td>...</td>\n",
       "      <td>...</td>\n",
       "      <td>...</td>\n",
       "      <td>...</td>\n",
       "      <td>...</td>\n",
       "      <td>...</td>\n",
       "    </tr>\n",
       "    <tr>\n",
       "      <th>3179</th>\n",
       "      <td>NaN</td>\n",
       "      <td>occupied Palestinian territory, including east...</td>\n",
       "      <td>NaN</td>\n",
       "      <td>NaN</td>\n",
       "      <td>NaN</td>\n",
       "      <td>NaN</td>\n",
       "      <td>NaN</td>\n",
       "      <td>NaN</td>\n",
       "      <td>NaN</td>\n",
       "      <td>NaN</td>\n",
       "      <td>NaN</td>\n",
       "      <td>2021-01-31</td>\n",
       "      <td>163678.0</td>\n",
       "    </tr>\n",
       "    <tr>\n",
       "      <th>3180</th>\n",
       "      <td>NaN</td>\n",
       "      <td>occupied Palestinian territory, including east...</td>\n",
       "      <td>NaN</td>\n",
       "      <td>NaN</td>\n",
       "      <td>NaN</td>\n",
       "      <td>NaN</td>\n",
       "      <td>NaN</td>\n",
       "      <td>NaN</td>\n",
       "      <td>NaN</td>\n",
       "      <td>NaN</td>\n",
       "      <td>NaN</td>\n",
       "      <td>2021-07-31</td>\n",
       "      <td>167062.0</td>\n",
       "    </tr>\n",
       "    <tr>\n",
       "      <th>3181</th>\n",
       "      <td>NaN</td>\n",
       "      <td>occupied Palestinian territory, including east...</td>\n",
       "      <td>NaN</td>\n",
       "      <td>NaN</td>\n",
       "      <td>NaN</td>\n",
       "      <td>NaN</td>\n",
       "      <td>NaN</td>\n",
       "      <td>NaN</td>\n",
       "      <td>NaN</td>\n",
       "      <td>NaN</td>\n",
       "      <td>NaN</td>\n",
       "      <td>2022-01-31</td>\n",
       "      <td>179138.0</td>\n",
       "    </tr>\n",
       "    <tr>\n",
       "      <th>3182</th>\n",
       "      <td>NaN</td>\n",
       "      <td>occupied Palestinian territory, including east...</td>\n",
       "      <td>NaN</td>\n",
       "      <td>NaN</td>\n",
       "      <td>NaN</td>\n",
       "      <td>NaN</td>\n",
       "      <td>NaN</td>\n",
       "      <td>NaN</td>\n",
       "      <td>NaN</td>\n",
       "      <td>NaN</td>\n",
       "      <td>NaN</td>\n",
       "      <td>2022-07-31</td>\n",
       "      <td>157380.0</td>\n",
       "    </tr>\n",
       "    <tr>\n",
       "      <th>3183</th>\n",
       "      <td>NaN</td>\n",
       "      <td>occupied Palestinian territory, including east...</td>\n",
       "      <td>NaN</td>\n",
       "      <td>NaN</td>\n",
       "      <td>NaN</td>\n",
       "      <td>NaN</td>\n",
       "      <td>NaN</td>\n",
       "      <td>NaN</td>\n",
       "      <td>NaN</td>\n",
       "      <td>NaN</td>\n",
       "      <td>NaN</td>\n",
       "      <td>2023-01-31</td>\n",
       "      <td>20708.0</td>\n",
       "    </tr>\n",
       "  </tbody>\n",
       "</table>\n",
       "<p>3184 rows × 13 columns</p>\n",
       "</div>"
      ],
      "text/plain": [
       "        Year                                            country  \\\n",
       "0     2018.0                                              World   \n",
       "1     2018.0                                              World   \n",
       "2     2018.0                                              World   \n",
       "3     2018.0                                              World   \n",
       "4     2018.0                                              World   \n",
       "...      ...                                                ...   \n",
       "3179     NaN  occupied Palestinian territory, including east...   \n",
       "3180     NaN  occupied Palestinian territory, including east...   \n",
       "3181     NaN  occupied Palestinian territory, including east...   \n",
       "3182     NaN  occupied Palestinian territory, including east...   \n",
       "3183     NaN  occupied Palestinian territory, including east...   \n",
       "\n",
       "                 Vessel_Type  Median time in port (days)  \\\n",
       "0                  All ships                        0.97   \n",
       "1            Passenger ships                         NaN   \n",
       "2       Liquid bulk carriers                        0.94   \n",
       "3            Container ships                        0.69   \n",
       "4     Dry breakbulk carriers                        1.12   \n",
       "...                      ...                         ...   \n",
       "3179                     NaN                         NaN   \n",
       "3180                     NaN                         NaN   \n",
       "3181                     NaN                         NaN   \n",
       "3182                     NaN                         NaN   \n",
       "3183                     NaN                         NaN   \n",
       "\n",
       "      Average age of vessels  Average size (GT) of vessels  \\\n",
       "0                       18.0                       15222.0   \n",
       "1                       21.0                        8978.0   \n",
       "2                       13.0                       15470.0   \n",
       "3                       13.0                       38405.0   \n",
       "4                       19.0                        5455.0   \n",
       "...                      ...                           ...   \n",
       "3179                     NaN                           NaN   \n",
       "3180                     NaN                           NaN   \n",
       "3181                     NaN                           NaN   \n",
       "3182                     NaN                           NaN   \n",
       "3183                     NaN                           NaN   \n",
       "\n",
       "      Maximum size (GT) of vessels  \\\n",
       "0                         234006.0   \n",
       "1                         228081.0   \n",
       "2                         234006.0   \n",
       "3                         217673.0   \n",
       "4                          91784.0   \n",
       "...                            ...   \n",
       "3179                           NaN   \n",
       "3180                           NaN   \n",
       "3181                           NaN   \n",
       "3182                           NaN   \n",
       "3183                           NaN   \n",
       "\n",
       "      Average cargo carrying capacity (dwt) per vessel  \\\n",
       "0                                              24074.0   \n",
       "1                                                  NaN   \n",
       "2                                              26871.0   \n",
       "3                                                  NaN   \n",
       "4                                               7413.0   \n",
       "...                                                ...   \n",
       "3179                                               NaN   \n",
       "3180                                               NaN   \n",
       "3181                                               NaN   \n",
       "3182                                               NaN   \n",
       "3183                                               NaN   \n",
       "\n",
       "      Maximum cargo carrying capacity (dwt) of vessels  \\\n",
       "0                                             441561.0   \n",
       "1                                                  NaN   \n",
       "2                                             441561.0   \n",
       "3                                                  NaN   \n",
       "4                                             138743.0   \n",
       "...                                                ...   \n",
       "3179                                               NaN   \n",
       "3180                                               NaN   \n",
       "3181                                               NaN   \n",
       "3182                                               NaN   \n",
       "3183                                               NaN   \n",
       "\n",
       "      Average container carrying capacity (TEU) per container ship  \\\n",
       "0                                                3526.0              \n",
       "1                                                   NaN              \n",
       "2                                                   NaN              \n",
       "3                                                3526.0              \n",
       "4                                                   NaN              \n",
       "...                                                 ...              \n",
       "3179                                                NaN              \n",
       "3180                                                NaN              \n",
       "3181                                                NaN              \n",
       "3182                                                NaN              \n",
       "3183                                                NaN              \n",
       "\n",
       "      Maximum container carrying capacity (TEU) of container ships  \\\n",
       "0                                               21413.0              \n",
       "1                                                   NaN              \n",
       "2                                                   NaN              \n",
       "3                                               21413.0              \n",
       "4                                                   NaN              \n",
       "...                                                 ...              \n",
       "3179                                                NaN              \n",
       "3180                                                NaN              \n",
       "3181                                                NaN              \n",
       "3182                                                NaN              \n",
       "3183                                                NaN              \n",
       "\n",
       "            date  new_cases  \n",
       "0     2018-07-31        NaN  \n",
       "1     2018-07-31        NaN  \n",
       "2     2018-07-31        NaN  \n",
       "3     2018-07-31        NaN  \n",
       "4     2018-07-31        NaN  \n",
       "...          ...        ...  \n",
       "3179  2021-01-31   163678.0  \n",
       "3180  2021-07-31   167062.0  \n",
       "3181  2022-01-31   179138.0  \n",
       "3182  2022-07-31   157380.0  \n",
       "3183  2023-01-31    20708.0  \n",
       "\n",
       "[3184 rows x 13 columns]"
      ]
     },
     "execution_count": 105,
     "metadata": {},
     "output_type": "execute_result"
    }
   ],
   "source": [
    "# df_combined=pd.merge(df_new,df_ports_world,on=['country','date'])\n",
    "# df_combined.head()\n",
    "\n",
    "df_combined = pd.merge(df_ports, df_new, on=['country','date'], how='outer')\n",
    "df_combined = df_combined.drop(['Unnamed: 0', 'cumulative_cases'], axis=1)\n",
    "df_combined"
   ]
  },
  {
   "cell_type": "code",
   "execution_count": 106,
   "metadata": {},
   "outputs": [
    {
     "data": {
      "text/html": [
       "<div>\n",
       "<style scoped>\n",
       "    .dataframe tbody tr th:only-of-type {\n",
       "        vertical-align: middle;\n",
       "    }\n",
       "\n",
       "    .dataframe tbody tr th {\n",
       "        vertical-align: top;\n",
       "    }\n",
       "\n",
       "    .dataframe thead th {\n",
       "        text-align: right;\n",
       "    }\n",
       "</style>\n",
       "<table border=\"1\" class=\"dataframe\">\n",
       "  <thead>\n",
       "    <tr style=\"text-align: right;\">\n",
       "      <th></th>\n",
       "      <th>Year</th>\n",
       "      <th>country</th>\n",
       "      <th>Vessel_Type</th>\n",
       "      <th>Number of port calls</th>\n",
       "      <th>date</th>\n",
       "    </tr>\n",
       "  </thead>\n",
       "  <tbody>\n",
       "    <tr>\n",
       "      <th>0</th>\n",
       "      <td>2018</td>\n",
       "      <td>World</td>\n",
       "      <td>All ships</td>\n",
       "      <td>1984908</td>\n",
       "      <td>2018-07-31</td>\n",
       "    </tr>\n",
       "    <tr>\n",
       "      <th>1</th>\n",
       "      <td>2018</td>\n",
       "      <td>World</td>\n",
       "      <td>Passenger ships</td>\n",
       "      <td>1053697</td>\n",
       "      <td>2018-07-31</td>\n",
       "    </tr>\n",
       "    <tr>\n",
       "      <th>2</th>\n",
       "      <td>2018</td>\n",
       "      <td>World</td>\n",
       "      <td>Liquid bulk carriers</td>\n",
       "      <td>245147</td>\n",
       "      <td>2018-07-31</td>\n",
       "    </tr>\n",
       "    <tr>\n",
       "      <th>3</th>\n",
       "      <td>2018</td>\n",
       "      <td>World</td>\n",
       "      <td>Container ships</td>\n",
       "      <td>226063</td>\n",
       "      <td>2018-07-31</td>\n",
       "    </tr>\n",
       "    <tr>\n",
       "      <th>4</th>\n",
       "      <td>2018</td>\n",
       "      <td>World</td>\n",
       "      <td>Dry breakbulk carriers</td>\n",
       "      <td>211031</td>\n",
       "      <td>2018-07-31</td>\n",
       "    </tr>\n",
       "    <tr>\n",
       "      <th>...</th>\n",
       "      <td>...</td>\n",
       "      <td>...</td>\n",
       "      <td>...</td>\n",
       "      <td>...</td>\n",
       "      <td>...</td>\n",
       "    </tr>\n",
       "    <tr>\n",
       "      <th>15697</th>\n",
       "      <td>2022</td>\n",
       "      <td>United Kingdom</td>\n",
       "      <td>Dry breakbulk carriers</td>\n",
       "      <td>7967</td>\n",
       "      <td>2022-07-31</td>\n",
       "    </tr>\n",
       "    <tr>\n",
       "      <th>15698</th>\n",
       "      <td>2022</td>\n",
       "      <td>United Kingdom</td>\n",
       "      <td>Dry bulk carriers</td>\n",
       "      <td>956</td>\n",
       "      <td>2022-07-31</td>\n",
       "    </tr>\n",
       "    <tr>\n",
       "      <th>15699</th>\n",
       "      <td>2022</td>\n",
       "      <td>United Kingdom</td>\n",
       "      <td>Roll-on/ roll-off ships</td>\n",
       "      <td>7983</td>\n",
       "      <td>2022-07-31</td>\n",
       "    </tr>\n",
       "    <tr>\n",
       "      <th>15700</th>\n",
       "      <td>2022</td>\n",
       "      <td>United Kingdom</td>\n",
       "      <td>Liquefied petroleum gas carriers</td>\n",
       "      <td>632</td>\n",
       "      <td>2022-07-31</td>\n",
       "    </tr>\n",
       "    <tr>\n",
       "      <th>15701</th>\n",
       "      <td>2022</td>\n",
       "      <td>United Kingdom</td>\n",
       "      <td>Liquefied natural gas carriers</td>\n",
       "      <td>186</td>\n",
       "      <td>2022-07-31</td>\n",
       "    </tr>\n",
       "  </tbody>\n",
       "</table>\n",
       "<p>15702 rows × 5 columns</p>\n",
       "</div>"
      ],
      "text/plain": [
       "       Year         country                       Vessel_Type  \\\n",
       "0      2018           World                         All ships   \n",
       "1      2018           World                   Passenger ships   \n",
       "2      2018           World              Liquid bulk carriers   \n",
       "3      2018           World                   Container ships   \n",
       "4      2018           World            Dry breakbulk carriers   \n",
       "...     ...             ...                               ...   \n",
       "15697  2022  United Kingdom            Dry breakbulk carriers   \n",
       "15698  2022  United Kingdom                 Dry bulk carriers   \n",
       "15699  2022  United Kingdom           Roll-on/ roll-off ships   \n",
       "15700  2022  United Kingdom  Liquefied petroleum gas carriers   \n",
       "15701  2022  United Kingdom    Liquefied natural gas carriers   \n",
       "\n",
       "       Number of port calls        date  \n",
       "0                   1984908  2018-07-31  \n",
       "1                   1053697  2018-07-31  \n",
       "2                    245147  2018-07-31  \n",
       "3                    226063  2018-07-31  \n",
       "4                    211031  2018-07-31  \n",
       "...                     ...         ...  \n",
       "15697                  7967  2022-07-31  \n",
       "15698                   956  2022-07-31  \n",
       "15699                  7983  2022-07-31  \n",
       "15700                   632  2022-07-31  \n",
       "15701                   186  2022-07-31  \n",
       "\n",
       "[15702 rows x 5 columns]"
      ]
     },
     "execution_count": 106,
     "metadata": {},
     "output_type": "execute_result"
    }
   ],
   "source": [
    "# Importing and Touching-up the Port Calls Data\n",
    "\n",
    "#r\"C:\\Users\\user\\OneDrive - Delft University of Technology\\Desktop\\TIL\\Q1\\TIL6022\\TIL6022-group_project\\Data\\Maritime data\\US_PortCallsArrivals_S_ST202209220927_v1.csv\"\n",
    "#Note that the above path is for everyone except Ian; please replace it when you need to use the file path\n",
    "\n",
    "file_path3 = \"/Users/iantrout/TIL6022-group_project/Data/Maritime data/US_PortCallsArrivals_S_ST202209220927_v1.csv\"\n",
    "with open(file_path3, 'rb') as rawdata:\n",
    "    result = chardet.detect(rawdata.read(100000))\n",
    "result\n",
    "\n",
    "df_port_calls = pd.read_csv(file_path3,encoding='utf-8')\n",
    "df_port_calls['Period Label'] = df_port_calls['Period Label'].str.replace('   ','-')\n",
    "df_port_calls = df_port_calls.drop(columns=['Period', 'Frequency', 'Frequency Label', 'Economy', \n",
    "                                       'CommercialMarket', 'Number of port calls Footnote',])\n",
    "df_port_calls.rename(columns = {'Economy Label': 'country', 'CommercialMarket Label': 'Vessel_Type', }, inplace=True)\n",
    "date_change=[]\n",
    "for row in df_port_calls['Period Label']:\n",
    "    if row == 'S1-2018' :   date_change.append('2018-07-31')\n",
    "    elif row == 'S2-2018':   date_change.append('2019-01-31')\n",
    "    elif row == 'S1-2019':  date_change.append('2019-07-31')\n",
    "    elif row == 'S2-2019':  date_change.append('2020-01-31')\n",
    "    elif row == 'S1-2020':  date_change.append('2020-07-31')\n",
    "    elif row == 'S2-2020':  date_change.append('2021-01-31')\n",
    "    elif row == 'S1-2021':  date_change.append('2021-07-31')\n",
    "    elif row == 'S2-2021':  date_change.append('2022-01-31')\n",
    "    elif row == 'S1-2022':  date_change.append('2022-07-31')\n",
    "    else:           date_change.append('Not_Rated')\n",
    "\n",
    "df_port_calls = df_port_calls.drop(columns=['Period Label'])\n",
    "df_port_calls['date'] = date_change\n",
    "df_port_calls"
   ]
  },
  {
   "cell_type": "code",
   "execution_count": 107,
   "metadata": {},
   "outputs": [
    {
     "data": {
      "text/html": [
       "<div>\n",
       "<style scoped>\n",
       "    .dataframe tbody tr th:only-of-type {\n",
       "        vertical-align: middle;\n",
       "    }\n",
       "\n",
       "    .dataframe tbody tr th {\n",
       "        vertical-align: top;\n",
       "    }\n",
       "\n",
       "    .dataframe thead th {\n",
       "        text-align: right;\n",
       "    }\n",
       "</style>\n",
       "<table border=\"1\" class=\"dataframe\">\n",
       "  <thead>\n",
       "    <tr style=\"text-align: right;\">\n",
       "      <th></th>\n",
       "      <th>Year</th>\n",
       "      <th>country</th>\n",
       "      <th>Vessel_Type</th>\n",
       "      <th>Number of port calls</th>\n",
       "      <th>date</th>\n",
       "      <th>Unnamed: 0</th>\n",
       "      <th>new_cases</th>\n",
       "      <th>cumulative_cases</th>\n",
       "    </tr>\n",
       "  </thead>\n",
       "  <tbody>\n",
       "    <tr>\n",
       "      <th>0</th>\n",
       "      <td>2018.0</td>\n",
       "      <td>World</td>\n",
       "      <td>All ships</td>\n",
       "      <td>1984908.0</td>\n",
       "      <td>2018-07-31</td>\n",
       "      <td>NaN</td>\n",
       "      <td>NaN</td>\n",
       "      <td>NaN</td>\n",
       "    </tr>\n",
       "    <tr>\n",
       "      <th>1</th>\n",
       "      <td>2018.0</td>\n",
       "      <td>World</td>\n",
       "      <td>Passenger ships</td>\n",
       "      <td>1053697.0</td>\n",
       "      <td>2018-07-31</td>\n",
       "      <td>NaN</td>\n",
       "      <td>NaN</td>\n",
       "      <td>NaN</td>\n",
       "    </tr>\n",
       "    <tr>\n",
       "      <th>2</th>\n",
       "      <td>2018.0</td>\n",
       "      <td>World</td>\n",
       "      <td>Liquid bulk carriers</td>\n",
       "      <td>245147.0</td>\n",
       "      <td>2018-07-31</td>\n",
       "      <td>NaN</td>\n",
       "      <td>NaN</td>\n",
       "      <td>NaN</td>\n",
       "    </tr>\n",
       "    <tr>\n",
       "      <th>3</th>\n",
       "      <td>2018.0</td>\n",
       "      <td>World</td>\n",
       "      <td>Container ships</td>\n",
       "      <td>226063.0</td>\n",
       "      <td>2018-07-31</td>\n",
       "      <td>NaN</td>\n",
       "      <td>NaN</td>\n",
       "      <td>NaN</td>\n",
       "    </tr>\n",
       "    <tr>\n",
       "      <th>4</th>\n",
       "      <td>2018.0</td>\n",
       "      <td>World</td>\n",
       "      <td>Dry breakbulk carriers</td>\n",
       "      <td>211031.0</td>\n",
       "      <td>2018-07-31</td>\n",
       "      <td>NaN</td>\n",
       "      <td>NaN</td>\n",
       "      <td>NaN</td>\n",
       "    </tr>\n",
       "    <tr>\n",
       "      <th>...</th>\n",
       "      <td>...</td>\n",
       "      <td>...</td>\n",
       "      <td>...</td>\n",
       "      <td>...</td>\n",
       "      <td>...</td>\n",
       "      <td>...</td>\n",
       "      <td>...</td>\n",
       "      <td>...</td>\n",
       "    </tr>\n",
       "    <tr>\n",
       "      <th>17248</th>\n",
       "      <td>NaN</td>\n",
       "      <td>occupied Palestinian territory, including east...</td>\n",
       "      <td>NaN</td>\n",
       "      <td>NaN</td>\n",
       "      <td>2021-01-31</td>\n",
       "      <td>1654.0</td>\n",
       "      <td>163678.0</td>\n",
       "      <td>15204283.0</td>\n",
       "    </tr>\n",
       "    <tr>\n",
       "      <th>17249</th>\n",
       "      <td>NaN</td>\n",
       "      <td>occupied Palestinian territory, including east...</td>\n",
       "      <td>NaN</td>\n",
       "      <td>NaN</td>\n",
       "      <td>2021-07-31</td>\n",
       "      <td>1655.0</td>\n",
       "      <td>167062.0</td>\n",
       "      <td>52958731.0</td>\n",
       "    </tr>\n",
       "    <tr>\n",
       "      <th>17250</th>\n",
       "      <td>NaN</td>\n",
       "      <td>occupied Palestinian territory, including east...</td>\n",
       "      <td>NaN</td>\n",
       "      <td>NaN</td>\n",
       "      <td>2022-01-31</td>\n",
       "      <td>1656.0</td>\n",
       "      <td>179138.0</td>\n",
       "      <td>79971265.0</td>\n",
       "    </tr>\n",
       "    <tr>\n",
       "      <th>17251</th>\n",
       "      <td>NaN</td>\n",
       "      <td>occupied Palestinian territory, including east...</td>\n",
       "      <td>NaN</td>\n",
       "      <td>NaN</td>\n",
       "      <td>2022-07-31</td>\n",
       "      <td>1657.0</td>\n",
       "      <td>157380.0</td>\n",
       "      <td>117827259.0</td>\n",
       "    </tr>\n",
       "    <tr>\n",
       "      <th>17252</th>\n",
       "      <td>NaN</td>\n",
       "      <td>occupied Palestinian territory, including east...</td>\n",
       "      <td>NaN</td>\n",
       "      <td>NaN</td>\n",
       "      <td>2023-01-31</td>\n",
       "      <td>1658.0</td>\n",
       "      <td>20708.0</td>\n",
       "      <td>47598869.0</td>\n",
       "    </tr>\n",
       "  </tbody>\n",
       "</table>\n",
       "<p>17253 rows × 8 columns</p>\n",
       "</div>"
      ],
      "text/plain": [
       "         Year                                            country  \\\n",
       "0      2018.0                                              World   \n",
       "1      2018.0                                              World   \n",
       "2      2018.0                                              World   \n",
       "3      2018.0                                              World   \n",
       "4      2018.0                                              World   \n",
       "...       ...                                                ...   \n",
       "17248     NaN  occupied Palestinian territory, including east...   \n",
       "17249     NaN  occupied Palestinian territory, including east...   \n",
       "17250     NaN  occupied Palestinian territory, including east...   \n",
       "17251     NaN  occupied Palestinian territory, including east...   \n",
       "17252     NaN  occupied Palestinian territory, including east...   \n",
       "\n",
       "                  Vessel_Type  Number of port calls        date  Unnamed: 0  \\\n",
       "0                   All ships             1984908.0  2018-07-31         NaN   \n",
       "1             Passenger ships             1053697.0  2018-07-31         NaN   \n",
       "2        Liquid bulk carriers              245147.0  2018-07-31         NaN   \n",
       "3             Container ships              226063.0  2018-07-31         NaN   \n",
       "4      Dry breakbulk carriers              211031.0  2018-07-31         NaN   \n",
       "...                       ...                   ...         ...         ...   \n",
       "17248                     NaN                   NaN  2021-01-31      1654.0   \n",
       "17249                     NaN                   NaN  2021-07-31      1655.0   \n",
       "17250                     NaN                   NaN  2022-01-31      1656.0   \n",
       "17251                     NaN                   NaN  2022-07-31      1657.0   \n",
       "17252                     NaN                   NaN  2023-01-31      1658.0   \n",
       "\n",
       "       new_cases  cumulative_cases  \n",
       "0            NaN               NaN  \n",
       "1            NaN               NaN  \n",
       "2            NaN               NaN  \n",
       "3            NaN               NaN  \n",
       "4            NaN               NaN  \n",
       "...          ...               ...  \n",
       "17248   163678.0        15204283.0  \n",
       "17249   167062.0        52958731.0  \n",
       "17250   179138.0        79971265.0  \n",
       "17251   157380.0       117827259.0  \n",
       "17252    20708.0        47598869.0  \n",
       "\n",
       "[17253 rows x 8 columns]"
      ]
     },
     "execution_count": 107,
     "metadata": {},
     "output_type": "execute_result"
    }
   ],
   "source": [
    "df_combined2 = pd.merge(df_port_calls, df_new, on=['country','date'], how='outer')\n",
    "# df_combined2 = df_combined2.drop(['Unnamed: 0', 'cumulative_cases'], axis=1)\n",
    "df_combined2"
   ]
  },
  {
   "cell_type": "code",
   "execution_count": 108,
   "metadata": {},
   "outputs": [
    {
     "data": {
      "text/html": [
       "<div>\n",
       "<style scoped>\n",
       "    .dataframe tbody tr th:only-of-type {\n",
       "        vertical-align: middle;\n",
       "    }\n",
       "\n",
       "    .dataframe tbody tr th {\n",
       "        vertical-align: top;\n",
       "    }\n",
       "\n",
       "    .dataframe thead th {\n",
       "        text-align: right;\n",
       "    }\n",
       "</style>\n",
       "<table border=\"1\" class=\"dataframe\">\n",
       "  <thead>\n",
       "    <tr style=\"text-align: right;\">\n",
       "      <th></th>\n",
       "      <th>Year_x</th>\n",
       "      <th>country</th>\n",
       "      <th>Vessel_Type</th>\n",
       "      <th>Median time in port (days)</th>\n",
       "      <th>Average age of vessels</th>\n",
       "      <th>Average size (GT) of vessels</th>\n",
       "      <th>Maximum size (GT) of vessels</th>\n",
       "      <th>Average cargo carrying capacity (dwt) per vessel</th>\n",
       "      <th>Maximum cargo carrying capacity (dwt) of vessels</th>\n",
       "      <th>Average container carrying capacity (TEU) per container ship</th>\n",
       "      <th>Maximum container carrying capacity (TEU) of container ships</th>\n",
       "      <th>date</th>\n",
       "      <th>new_cases</th>\n",
       "      <th>Year_y</th>\n",
       "      <th>Number of port calls</th>\n",
       "    </tr>\n",
       "  </thead>\n",
       "  <tbody>\n",
       "    <tr>\n",
       "      <th>0</th>\n",
       "      <td>2018.0</td>\n",
       "      <td>World</td>\n",
       "      <td>All ships</td>\n",
       "      <td>0.97</td>\n",
       "      <td>18.0</td>\n",
       "      <td>15222.0</td>\n",
       "      <td>234006.0</td>\n",
       "      <td>24074.0</td>\n",
       "      <td>441561.0</td>\n",
       "      <td>3526.0</td>\n",
       "      <td>21413.0</td>\n",
       "      <td>2018-07-31</td>\n",
       "      <td>NaN</td>\n",
       "      <td>2018.0</td>\n",
       "      <td>1984908.0</td>\n",
       "    </tr>\n",
       "    <tr>\n",
       "      <th>1</th>\n",
       "      <td>2018.0</td>\n",
       "      <td>World</td>\n",
       "      <td>Passenger ships</td>\n",
       "      <td>NaN</td>\n",
       "      <td>21.0</td>\n",
       "      <td>8978.0</td>\n",
       "      <td>228081.0</td>\n",
       "      <td>NaN</td>\n",
       "      <td>NaN</td>\n",
       "      <td>NaN</td>\n",
       "      <td>NaN</td>\n",
       "      <td>2018-07-31</td>\n",
       "      <td>NaN</td>\n",
       "      <td>2018.0</td>\n",
       "      <td>1053697.0</td>\n",
       "    </tr>\n",
       "    <tr>\n",
       "      <th>2</th>\n",
       "      <td>2018.0</td>\n",
       "      <td>World</td>\n",
       "      <td>Liquid bulk carriers</td>\n",
       "      <td>0.94</td>\n",
       "      <td>13.0</td>\n",
       "      <td>15470.0</td>\n",
       "      <td>234006.0</td>\n",
       "      <td>26871.0</td>\n",
       "      <td>441561.0</td>\n",
       "      <td>NaN</td>\n",
       "      <td>NaN</td>\n",
       "      <td>2018-07-31</td>\n",
       "      <td>NaN</td>\n",
       "      <td>2018.0</td>\n",
       "      <td>245147.0</td>\n",
       "    </tr>\n",
       "    <tr>\n",
       "      <th>3</th>\n",
       "      <td>2018.0</td>\n",
       "      <td>World</td>\n",
       "      <td>Container ships</td>\n",
       "      <td>0.69</td>\n",
       "      <td>13.0</td>\n",
       "      <td>38405.0</td>\n",
       "      <td>217673.0</td>\n",
       "      <td>NaN</td>\n",
       "      <td>NaN</td>\n",
       "      <td>3526.0</td>\n",
       "      <td>21413.0</td>\n",
       "      <td>2018-07-31</td>\n",
       "      <td>NaN</td>\n",
       "      <td>2018.0</td>\n",
       "      <td>226063.0</td>\n",
       "    </tr>\n",
       "    <tr>\n",
       "      <th>4</th>\n",
       "      <td>2018.0</td>\n",
       "      <td>World</td>\n",
       "      <td>Dry breakbulk carriers</td>\n",
       "      <td>1.12</td>\n",
       "      <td>19.0</td>\n",
       "      <td>5455.0</td>\n",
       "      <td>91784.0</td>\n",
       "      <td>7413.0</td>\n",
       "      <td>138743.0</td>\n",
       "      <td>NaN</td>\n",
       "      <td>NaN</td>\n",
       "      <td>2018-07-31</td>\n",
       "      <td>NaN</td>\n",
       "      <td>2018.0</td>\n",
       "      <td>211031.0</td>\n",
       "    </tr>\n",
       "    <tr>\n",
       "      <th>...</th>\n",
       "      <td>...</td>\n",
       "      <td>...</td>\n",
       "      <td>...</td>\n",
       "      <td>...</td>\n",
       "      <td>...</td>\n",
       "      <td>...</td>\n",
       "      <td>...</td>\n",
       "      <td>...</td>\n",
       "      <td>...</td>\n",
       "      <td>...</td>\n",
       "      <td>...</td>\n",
       "      <td>...</td>\n",
       "      <td>...</td>\n",
       "      <td>...</td>\n",
       "      <td>...</td>\n",
       "    </tr>\n",
       "    <tr>\n",
       "      <th>17248</th>\n",
       "      <td>NaN</td>\n",
       "      <td>Europe, Northern America, Australia and New Ze...</td>\n",
       "      <td>Dry breakbulk carriers</td>\n",
       "      <td>NaN</td>\n",
       "      <td>NaN</td>\n",
       "      <td>NaN</td>\n",
       "      <td>NaN</td>\n",
       "      <td>NaN</td>\n",
       "      <td>NaN</td>\n",
       "      <td>NaN</td>\n",
       "      <td>NaN</td>\n",
       "      <td>2022-07-31</td>\n",
       "      <td>NaN</td>\n",
       "      <td>2022.0</td>\n",
       "      <td>108618.0</td>\n",
       "    </tr>\n",
       "    <tr>\n",
       "      <th>17249</th>\n",
       "      <td>NaN</td>\n",
       "      <td>Europe, Northern America, Australia and New Ze...</td>\n",
       "      <td>Dry bulk carriers</td>\n",
       "      <td>NaN</td>\n",
       "      <td>NaN</td>\n",
       "      <td>NaN</td>\n",
       "      <td>NaN</td>\n",
       "      <td>NaN</td>\n",
       "      <td>NaN</td>\n",
       "      <td>NaN</td>\n",
       "      <td>NaN</td>\n",
       "      <td>2022-07-31</td>\n",
       "      <td>NaN</td>\n",
       "      <td>2022.0</td>\n",
       "      <td>39257.0</td>\n",
       "    </tr>\n",
       "    <tr>\n",
       "      <th>17250</th>\n",
       "      <td>NaN</td>\n",
       "      <td>Europe, Northern America, Australia and New Ze...</td>\n",
       "      <td>Roll-on/ roll-off ships</td>\n",
       "      <td>NaN</td>\n",
       "      <td>NaN</td>\n",
       "      <td>NaN</td>\n",
       "      <td>NaN</td>\n",
       "      <td>NaN</td>\n",
       "      <td>NaN</td>\n",
       "      <td>NaN</td>\n",
       "      <td>NaN</td>\n",
       "      <td>2022-07-31</td>\n",
       "      <td>NaN</td>\n",
       "      <td>2022.0</td>\n",
       "      <td>46544.0</td>\n",
       "    </tr>\n",
       "    <tr>\n",
       "      <th>17251</th>\n",
       "      <td>NaN</td>\n",
       "      <td>Europe, Northern America, Australia and New Ze...</td>\n",
       "      <td>Liquefied petroleum gas carriers</td>\n",
       "      <td>NaN</td>\n",
       "      <td>NaN</td>\n",
       "      <td>NaN</td>\n",
       "      <td>NaN</td>\n",
       "      <td>NaN</td>\n",
       "      <td>NaN</td>\n",
       "      <td>NaN</td>\n",
       "      <td>NaN</td>\n",
       "      <td>2022-07-31</td>\n",
       "      <td>NaN</td>\n",
       "      <td>2022.0</td>\n",
       "      <td>8430.0</td>\n",
       "    </tr>\n",
       "    <tr>\n",
       "      <th>17252</th>\n",
       "      <td>NaN</td>\n",
       "      <td>Europe, Northern America, Australia and New Ze...</td>\n",
       "      <td>Liquefied natural gas carriers</td>\n",
       "      <td>NaN</td>\n",
       "      <td>NaN</td>\n",
       "      <td>NaN</td>\n",
       "      <td>NaN</td>\n",
       "      <td>NaN</td>\n",
       "      <td>NaN</td>\n",
       "      <td>NaN</td>\n",
       "      <td>NaN</td>\n",
       "      <td>2022-07-31</td>\n",
       "      <td>NaN</td>\n",
       "      <td>2022.0</td>\n",
       "      <td>2835.0</td>\n",
       "    </tr>\n",
       "  </tbody>\n",
       "</table>\n",
       "<p>17253 rows × 15 columns</p>\n",
       "</div>"
      ],
      "text/plain": [
       "       Year_x                                            country  \\\n",
       "0      2018.0                                              World   \n",
       "1      2018.0                                              World   \n",
       "2      2018.0                                              World   \n",
       "3      2018.0                                              World   \n",
       "4      2018.0                                              World   \n",
       "...       ...                                                ...   \n",
       "17248     NaN  Europe, Northern America, Australia and New Ze...   \n",
       "17249     NaN  Europe, Northern America, Australia and New Ze...   \n",
       "17250     NaN  Europe, Northern America, Australia and New Ze...   \n",
       "17251     NaN  Europe, Northern America, Australia and New Ze...   \n",
       "17252     NaN  Europe, Northern America, Australia and New Ze...   \n",
       "\n",
       "                            Vessel_Type  Median time in port (days)  \\\n",
       "0                             All ships                        0.97   \n",
       "1                       Passenger ships                         NaN   \n",
       "2                  Liquid bulk carriers                        0.94   \n",
       "3                       Container ships                        0.69   \n",
       "4                Dry breakbulk carriers                        1.12   \n",
       "...                                 ...                         ...   \n",
       "17248            Dry breakbulk carriers                         NaN   \n",
       "17249                 Dry bulk carriers                         NaN   \n",
       "17250           Roll-on/ roll-off ships                         NaN   \n",
       "17251  Liquefied petroleum gas carriers                         NaN   \n",
       "17252    Liquefied natural gas carriers                         NaN   \n",
       "\n",
       "       Average age of vessels  Average size (GT) of vessels  \\\n",
       "0                        18.0                       15222.0   \n",
       "1                        21.0                        8978.0   \n",
       "2                        13.0                       15470.0   \n",
       "3                        13.0                       38405.0   \n",
       "4                        19.0                        5455.0   \n",
       "...                       ...                           ...   \n",
       "17248                     NaN                           NaN   \n",
       "17249                     NaN                           NaN   \n",
       "17250                     NaN                           NaN   \n",
       "17251                     NaN                           NaN   \n",
       "17252                     NaN                           NaN   \n",
       "\n",
       "       Maximum size (GT) of vessels  \\\n",
       "0                          234006.0   \n",
       "1                          228081.0   \n",
       "2                          234006.0   \n",
       "3                          217673.0   \n",
       "4                           91784.0   \n",
       "...                             ...   \n",
       "17248                           NaN   \n",
       "17249                           NaN   \n",
       "17250                           NaN   \n",
       "17251                           NaN   \n",
       "17252                           NaN   \n",
       "\n",
       "       Average cargo carrying capacity (dwt) per vessel  \\\n",
       "0                                               24074.0   \n",
       "1                                                   NaN   \n",
       "2                                               26871.0   \n",
       "3                                                   NaN   \n",
       "4                                                7413.0   \n",
       "...                                                 ...   \n",
       "17248                                               NaN   \n",
       "17249                                               NaN   \n",
       "17250                                               NaN   \n",
       "17251                                               NaN   \n",
       "17252                                               NaN   \n",
       "\n",
       "       Maximum cargo carrying capacity (dwt) of vessels  \\\n",
       "0                                              441561.0   \n",
       "1                                                   NaN   \n",
       "2                                              441561.0   \n",
       "3                                                   NaN   \n",
       "4                                              138743.0   \n",
       "...                                                 ...   \n",
       "17248                                               NaN   \n",
       "17249                                               NaN   \n",
       "17250                                               NaN   \n",
       "17251                                               NaN   \n",
       "17252                                               NaN   \n",
       "\n",
       "       Average container carrying capacity (TEU) per container ship  \\\n",
       "0                                                 3526.0              \n",
       "1                                                    NaN              \n",
       "2                                                    NaN              \n",
       "3                                                 3526.0              \n",
       "4                                                    NaN              \n",
       "...                                                  ...              \n",
       "17248                                                NaN              \n",
       "17249                                                NaN              \n",
       "17250                                                NaN              \n",
       "17251                                                NaN              \n",
       "17252                                                NaN              \n",
       "\n",
       "       Maximum container carrying capacity (TEU) of container ships  \\\n",
       "0                                                21413.0              \n",
       "1                                                    NaN              \n",
       "2                                                    NaN              \n",
       "3                                                21413.0              \n",
       "4                                                    NaN              \n",
       "...                                                  ...              \n",
       "17248                                                NaN              \n",
       "17249                                                NaN              \n",
       "17250                                                NaN              \n",
       "17251                                                NaN              \n",
       "17252                                                NaN              \n",
       "\n",
       "             date  new_cases  Year_y  Number of port calls  \n",
       "0      2018-07-31        NaN  2018.0             1984908.0  \n",
       "1      2018-07-31        NaN  2018.0             1053697.0  \n",
       "2      2018-07-31        NaN  2018.0              245147.0  \n",
       "3      2018-07-31        NaN  2018.0              226063.0  \n",
       "4      2018-07-31        NaN  2018.0              211031.0  \n",
       "...           ...        ...     ...                   ...  \n",
       "17248  2022-07-31        NaN  2022.0              108618.0  \n",
       "17249  2022-07-31        NaN  2022.0               39257.0  \n",
       "17250  2022-07-31        NaN  2022.0               46544.0  \n",
       "17251  2022-07-31        NaN  2022.0                8430.0  \n",
       "17252  2022-07-31        NaN  2022.0                2835.0  \n",
       "\n",
       "[17253 rows x 15 columns]"
      ]
     },
     "execution_count": 108,
     "metadata": {},
     "output_type": "execute_result"
    }
   ],
   "source": [
    "port_covid = pd.merge(df_combined, df_port_calls, on=['country','date', 'Vessel_Type'], how='outer')\n",
    "port_covid"
   ]
  },
  {
   "cell_type": "code",
   "execution_count": 109,
   "metadata": {},
   "outputs": [],
   "source": [
    "# port_covid.to_csv (r'C:\\Users\\user\\OneDrive - Delft University of Technology\\Desktop\\TIL\\Q1\\TIL6022\\Final Project\\updated.csv')"
   ]
  },
  {
   "cell_type": "code",
   "execution_count": 110,
   "metadata": {},
   "outputs": [
    {
     "data": {
      "text/html": [
       "<div>\n",
       "<style scoped>\n",
       "    .dataframe tbody tr th:only-of-type {\n",
       "        vertical-align: middle;\n",
       "    }\n",
       "\n",
       "    .dataframe tbody tr th {\n",
       "        vertical-align: top;\n",
       "    }\n",
       "\n",
       "    .dataframe thead th {\n",
       "        text-align: right;\n",
       "    }\n",
       "</style>\n",
       "<table border=\"1\" class=\"dataframe\">\n",
       "  <thead>\n",
       "    <tr style=\"text-align: right;\">\n",
       "      <th></th>\n",
       "      <th>country</th>\n",
       "      <th>ISO_A3</th>\n",
       "      <th>geometry</th>\n",
       "    </tr>\n",
       "  </thead>\n",
       "  <tbody>\n",
       "    <tr>\n",
       "      <th>0</th>\n",
       "      <td>Aruba</td>\n",
       "      <td>ABW</td>\n",
       "      <td>POLYGON ((-69.99694 12.57758, -69.93639 12.531...</td>\n",
       "    </tr>\n",
       "    <tr>\n",
       "      <th>1</th>\n",
       "      <td>Afghanistan</td>\n",
       "      <td>AFG</td>\n",
       "      <td>POLYGON ((71.04980 38.40866, 71.05714 38.40903...</td>\n",
       "    </tr>\n",
       "    <tr>\n",
       "      <th>2</th>\n",
       "      <td>Angola</td>\n",
       "      <td>AGO</td>\n",
       "      <td>MULTIPOLYGON (((11.73752 -16.69258, 11.73851 -...</td>\n",
       "    </tr>\n",
       "    <tr>\n",
       "      <th>3</th>\n",
       "      <td>Anguilla</td>\n",
       "      <td>AIA</td>\n",
       "      <td>MULTIPOLYGON (((-63.03767 18.21296, -63.09952 ...</td>\n",
       "    </tr>\n",
       "    <tr>\n",
       "      <th>4</th>\n",
       "      <td>Albania</td>\n",
       "      <td>ALB</td>\n",
       "      <td>POLYGON ((19.74777 42.57890, 19.74601 42.57993...</td>\n",
       "    </tr>\n",
       "  </tbody>\n",
       "</table>\n",
       "</div>"
      ],
      "text/plain": [
       "       country ISO_A3                                           geometry\n",
       "0        Aruba    ABW  POLYGON ((-69.99694 12.57758, -69.93639 12.531...\n",
       "1  Afghanistan    AFG  POLYGON ((71.04980 38.40866, 71.05714 38.40903...\n",
       "2       Angola    AGO  MULTIPOLYGON (((11.73752 -16.69258, 11.73851 -...\n",
       "3     Anguilla    AIA  MULTIPOLYGON (((-63.03767 18.21296, -63.09952 ...\n",
       "4      Albania    ALB  POLYGON ((19.74777 42.57890, 19.74601 42.57993..."
      ]
     },
     "execution_count": 110,
     "metadata": {},
     "output_type": "execute_result"
    }
   ],
   "source": [
    "# Geo data\n",
    "df_geo = gpd.read_file(\"/Users/iantrout/TIL6022-group_project/Data/countries.geojson\") # geojson file\n",
    "df_geo.rename(columns = {'ADMIN': 'Location', }, inplace=True)\n",
    "\n",
    "df_geo.rename(columns = {'Location': 'country', }, inplace=True)\n",
    "df_geo.head()"
   ]
  },
  {
   "cell_type": "markdown",
   "metadata": {},
   "source": [
    "# Part II"
   ]
  },
  {
   "cell_type": "markdown",
   "metadata": {},
   "source": [
    "we start by understanding how many countries we have data for and for that we will plot a world map for All ship types combined"
   ]
  },
  {
   "cell_type": "code",
   "execution_count": 111,
   "metadata": {},
   "outputs": [],
   "source": [
    "# #df['text'] = geo_port['Location'] + '<br>' + \\\n",
    "#    # 'Passenger ships ' + geo_port['Passenger ships'] + ' Dairy ' + geo_port['dairy'] + '<br>' + \\\n",
    "#    # 'Fruits ' + geo_port['total fruits'] + ' Veggies ' + geo_port['total veggies'] + '<br>' + \\\n",
    "#    # 'Wheat ' + geo_port['wheat'] + ' Corn ' + geo_port['corn']\n",
    "# geo_port_all_vessels= geo_port[\n",
    "#     (geo_port.Vessel_Type == 'All ships')\n",
    "# ]\n",
    "# fig = px.choropleth(geo_port_all_vessels, locations=\"ISO_A3\",\n",
    "#                     color=\"Median time in port (days)\", \n",
    "#                     hover_name=\"Location\",\n",
    "#                     range_color=(0, 2),\n",
    "#                     animation_frame=\"Period Label\",\n",
    "#                     #text=df['text'], # hover text\n",
    "#                     color_continuous_scale=px.colors.sequential.Plasma)\n",
    "# fig.show()\n"
   ]
  },
  {
   "cell_type": "markdown",
   "metadata": {},
   "source": [
    "now we can't only infer information from graphs, so we will calculate the peaks and valleys of the COVID data and the port data to see if there is a match based on serveral values of the port data (avg age of the vessel, average size of the vessel, average time in port)"
   ]
  },
  {
   "cell_type": "code",
   "execution_count": 112,
   "metadata": {},
   "outputs": [],
   "source": [
    "# Variables from COVID data \n",
    "activity_1 = 'new cases'\n",
    "activity_2 = 'new deaths'\n",
    "activity_3 = 'cumulative cases'\n",
    "activity_4 = 'cumulative deaths'\n",
    "\n",
    "# Varaibles from Maritime data \n",
    "activity_5 = 'Median time in port (days)'\n",
    "#activity_6 = 'port index value'\n",
    "#activity_7 = 'port calls'\n",
    "activity_8 = 'Average age of vessels'\n",
    "activity_10 = 'Average size (GT) of vessels'\n",
    "activity_9 = 'Vessel_Type'\n",
    "\n",
    "# Common variables\n",
    "region_1 = 'Asia'\n",
    "region_2 = 'Oceania'\n",
    "region_3 = 'Europe'\n",
    "region_4 = 'Africa'\n",
    "region_5 = 'North America'\n",
    "region_6 = 'South America'\n",
    "world_story = [region_1, region_2, region_3, region_4, region_5, region_6]\n",
    "\n",
    "\n",
    "activities_story_1 = [activity_8, activity_5, activity_10]\n",
    "#activities_story_2 = [activity_1, activity_2, activity_6]\n",
    "#activities_story_3 = [activity_5, activity_2]\n"
   ]
  },
  {
   "cell_type": "code",
   "execution_count": 113,
   "metadata": {},
   "outputs": [],
   "source": [
    "# first, I'm going to define a function to be able to select the different vessels in a list for each country for a specific time period\n",
    "def data_highs(data, acitivity, **kwargs):\n",
    "\n",
    "    diff_1 = data[activity].diff(periods = -1)\n",
    "    diff_2 = data[activity].diff(periods = 1)\n",
    "    \n",
    "    peaks = []\n",
    "    for i in range(len(diff_1)):\n",
    "        if diff_1[i] > 0 and diff_2[i] > 0:\n",
    "            peaks.append(int(i))          \n",
    "            \n",
    "    return peaks\n",
    "\n",
    "# And do the same for the valleys\n",
    "def data_lows(data, activity, **kwargs):\n",
    "\n",
    "    diff_1 = data[activity].diff(periods = -1)\n",
    "    diff_2 = data[activity].diff(periods = 1)\n",
    "\n",
    "    valleys = []\n",
    "    for i in range(len(diff_1)):\n",
    "        if diff_1[i] < 0 and diff_2[i] < 0:\n",
    "            valleys.append(int(i))          \n",
    "            \n",
    "    return valleys"
   ]
  },
  {
   "cell_type": "code",
   "execution_count": 114,
   "metadata": {},
   "outputs": [],
   "source": [
    "# # Then I start the figure and create several dictionaries that are necessary. The peaks and valleys dictionaries are for the graphs and the date dictionaries are for the next steps\n",
    "# fig_1 = go.Figure()\n",
    "\n",
    "# peaks_dict_1 = {}\n",
    "# valleys_dict_1 = {}\n",
    "# peaks_date_dict_1 = {}\n",
    "# valleys_date_dict_1 = {}\n",
    "\n",
    "# # I create a dataframe that contains only the data for the selected province and reset the indices for it\n",
    "# geo_port_all_vessels = geo_port[(geo_port.Vessel_Type == 'All ships')]\n",
    "# geo_port_all_vessels = geo_port_all_vessels[(geo_port_all_vessels.Location == 'Australia')]\n",
    "# geo_port_all_vessels.reset_index(inplace=True)\n",
    "\n",
    "# # I find the peaks and valleys and add them to the dictionaries\n",
    "# for activity in activities_story_1:\n",
    "#     max_ind = data_highs(geo_port_all_vessels, activity)\n",
    "#     peaks_dict_1[activity]=max_ind\n",
    "\n",
    "#     min_ind = data_lows(geo_port_all_vessels,activity)\n",
    "#     valleys_dict_1[activity]=min_ind\n",
    "    \n",
    "#     # Then I turn them into dataframes to be able to use the dates for the graphs, and for the date dictionaries\n",
    "#     df_max_1 = geo_port_all_vessels.iloc[max_ind]\n",
    "#     df_min_1 = geo_port_all_vessels.iloc[min_ind]\n",
    "\n",
    "# # The date dictionaries are filled with the dates of the peaks and the valleys\n",
    "#     peaks_date_dict_1[activity] = df_max_1['Period Label']\n",
    "#     valleys_date_dict_1[activity] = df_min_1['Period Label']\n",
    "    \n",
    "#     #The graphs are formatted \n",
    "#     x1 = geo_port_all_vessels['Period Label']\n",
    "#     y1 = geo_port_all_vessels[activity]\n",
    "#     x2 = df_max_1['Period Label']\n",
    "#     y2 = df_max_1[activity]\n",
    "#     x3 = df_min_1['Period Label']\n",
    "#     y3 = df_min_1[activity]\n",
    "#     fig_1.add_trace(go.Scatter(x=x1,y=y1,name=activity))\n",
    "#     fig_1.add_trace(go.Scatter(x=x2,y=y2,mode='markers',name='peaks ' + activity))\n",
    "#     fig_1.add_trace(go.Scatter(x=x3,y=y3,mode='markers',name='valleys ' + activity))\n",
    "\n",
    "# fig_1.update_layout(title= activity_5 + ' and ' + activity_8 + ' during covid times in ' + activity_10)\n",
    "# fig_1.show()"
   ]
  },
  {
   "cell_type": "markdown",
   "metadata": {},
   "source": [
    "this graph is hard to see since the values are not the same, thus we will make subplots to more cleary be able to compare the 3 port parameters. "
   ]
  },
  {
   "cell_type": "code",
   "execution_count": 115,
   "metadata": {},
   "outputs": [],
   "source": [
    "# fig_2 = go.Figure()\n",
    "# fig_2 = make_subplots(rows=3,cols=1)\n",
    "# x1 = geo_port_all_vessels['Period Label']\n",
    "# y1 = geo_port_all_vessels[activity_5]\n",
    "# x2 = df_max_1['Period Label']\n",
    "# y2 = df_max_1[activity_5]\n",
    "# x3 = geo_port_all_vessels['Period Label']\n",
    "# y3 = geo_port_all_vessels[activity_8]\n",
    "# x4 = df_min_1['Period Label']\n",
    "# y4 = df_min_1[activity_8]\n",
    "# x5 = geo_port_all_vessels['Period Label']\n",
    "# y5 = geo_port_all_vessels[activity_10]\n",
    "# x6 = df_max_1['Period Label']\n",
    "# y6 = df_max_1[activity_10]\n",
    "\n",
    "# fig_2.append_trace(go.Scatter(x=x1,y=y1,name=activity_5),row=1,col=1)\n",
    "# fig_2.append_trace(go.Scatter(x=x2,y=y2,mode='markers',name='peaks ' + activity_5),row=1,col=1)\n",
    "# fig_2.append_trace(go.Scatter(x=x3,y=y3,name=activity_8),row=2,col=1)\n",
    "# fig_2.append_trace(go.Scatter(x=x4,y=y4,mode='markers',name='valleys ' + activity_8),row=2,col=1)\n",
    "# fig_2.append_trace(go.Scatter(x=x5,y=y5,name=activity_10),row=3,col=1)\n",
    "# fig_2.append_trace(go.Scatter(x=x6,y=y6,mode='markers',name='valleys ' + activity_10),row=3,col=1)\n",
    "\n",
    "# fig_2.update_layout(title='Trends in vessel port time, age, and size thru the years')\n",
    "\n",
    "# fig_2.show()"
   ]
  },
  {
   "cell_type": "markdown",
   "metadata": {},
   "source": [
    "Rate of change in the lines is Part II is the comparision factor. Comparing before COVID and after COVID"
   ]
  },
  {
   "cell_type": "markdown",
   "metadata": {},
   "source": [
    "In addition, we will do a world to world comparision of COVID cases versus port times: "
   ]
  },
  {
   "cell_type": "code",
   "execution_count": 116,
   "metadata": {},
   "outputs": [],
   "source": [
    "# file_path2 = r\"C:\\Users\\user\\OneDrive - Delft University of Technology\\Desktop\\TIL\\Q1\\TIL6022\\Final Project\\covid_data_new.csv\"\n",
    "# with open(file_path, 'rb') as rawdata:\n",
    "#     result = chardet.detect(rawdata.read(100000))\n",
    "# result"
   ]
  },
  {
   "cell_type": "code",
   "execution_count": 117,
   "metadata": {},
   "outputs": [
    {
     "data": {
      "text/html": [
       "<div>\n",
       "<style scoped>\n",
       "    .dataframe tbody tr th:only-of-type {\n",
       "        vertical-align: middle;\n",
       "    }\n",
       "\n",
       "    .dataframe tbody tr th {\n",
       "        vertical-align: top;\n",
       "    }\n",
       "\n",
       "    .dataframe thead th {\n",
       "        text-align: right;\n",
       "    }\n",
       "</style>\n",
       "<table border=\"1\" class=\"dataframe\">\n",
       "  <thead>\n",
       "    <tr style=\"text-align: right;\">\n",
       "      <th></th>\n",
       "      <th>Year</th>\n",
       "      <th>country</th>\n",
       "      <th>Vessel_Type</th>\n",
       "      <th>Median time in port (days)</th>\n",
       "      <th>Average age of vessels</th>\n",
       "      <th>Average size (GT) of vessels</th>\n",
       "      <th>Maximum size (GT) of vessels</th>\n",
       "      <th>Average cargo carrying capacity (dwt) per vessel</th>\n",
       "      <th>Maximum cargo carrying capacity (dwt) of vessels</th>\n",
       "      <th>Average container carrying capacity (TEU) per container ship</th>\n",
       "      <th>Maximum container carrying capacity (TEU) of container ships</th>\n",
       "      <th>date</th>\n",
       "      <th>new_cases</th>\n",
       "    </tr>\n",
       "  </thead>\n",
       "  <tbody>\n",
       "    <tr>\n",
       "      <th>0</th>\n",
       "      <td>2018</td>\n",
       "      <td>World</td>\n",
       "      <td>All ships</td>\n",
       "      <td>0.9700</td>\n",
       "      <td>18</td>\n",
       "      <td>15222</td>\n",
       "      <td>234006</td>\n",
       "      <td>24074.0</td>\n",
       "      <td>441561.0</td>\n",
       "      <td>3526.0</td>\n",
       "      <td>21413.0</td>\n",
       "      <td>2018-07-31</td>\n",
       "      <td>NaN</td>\n",
       "    </tr>\n",
       "    <tr>\n",
       "      <th>1</th>\n",
       "      <td>2018</td>\n",
       "      <td>World</td>\n",
       "      <td>Passenger ships</td>\n",
       "      <td>NaN</td>\n",
       "      <td>21</td>\n",
       "      <td>8978</td>\n",
       "      <td>228081</td>\n",
       "      <td>NaN</td>\n",
       "      <td>NaN</td>\n",
       "      <td>NaN</td>\n",
       "      <td>NaN</td>\n",
       "      <td>2018-07-31</td>\n",
       "      <td>NaN</td>\n",
       "    </tr>\n",
       "    <tr>\n",
       "      <th>2</th>\n",
       "      <td>2018</td>\n",
       "      <td>World</td>\n",
       "      <td>Liquid bulk carriers</td>\n",
       "      <td>0.9400</td>\n",
       "      <td>13</td>\n",
       "      <td>15470</td>\n",
       "      <td>234006</td>\n",
       "      <td>26871.0</td>\n",
       "      <td>441561.0</td>\n",
       "      <td>NaN</td>\n",
       "      <td>NaN</td>\n",
       "      <td>2018-07-31</td>\n",
       "      <td>NaN</td>\n",
       "    </tr>\n",
       "    <tr>\n",
       "      <th>3</th>\n",
       "      <td>2018</td>\n",
       "      <td>World</td>\n",
       "      <td>Container ships</td>\n",
       "      <td>0.6900</td>\n",
       "      <td>13</td>\n",
       "      <td>38405</td>\n",
       "      <td>217673</td>\n",
       "      <td>NaN</td>\n",
       "      <td>NaN</td>\n",
       "      <td>3526.0</td>\n",
       "      <td>21413.0</td>\n",
       "      <td>2018-07-31</td>\n",
       "      <td>NaN</td>\n",
       "    </tr>\n",
       "    <tr>\n",
       "      <th>4</th>\n",
       "      <td>2018</td>\n",
       "      <td>World</td>\n",
       "      <td>Dry breakbulk carriers</td>\n",
       "      <td>1.1200</td>\n",
       "      <td>19</td>\n",
       "      <td>5455</td>\n",
       "      <td>91784</td>\n",
       "      <td>7413.0</td>\n",
       "      <td>138743.0</td>\n",
       "      <td>NaN</td>\n",
       "      <td>NaN</td>\n",
       "      <td>2018-07-31</td>\n",
       "      <td>NaN</td>\n",
       "    </tr>\n",
       "    <tr>\n",
       "      <th>...</th>\n",
       "      <td>...</td>\n",
       "      <td>...</td>\n",
       "      <td>...</td>\n",
       "      <td>...</td>\n",
       "      <td>...</td>\n",
       "      <td>...</td>\n",
       "      <td>...</td>\n",
       "      <td>...</td>\n",
       "      <td>...</td>\n",
       "      <td>...</td>\n",
       "      <td>...</td>\n",
       "      <td>...</td>\n",
       "      <td>...</td>\n",
       "    </tr>\n",
       "    <tr>\n",
       "      <th>76</th>\n",
       "      <td>2022</td>\n",
       "      <td>World</td>\n",
       "      <td>Dry breakbulk carriers</td>\n",
       "      <td>1.1938</td>\n",
       "      <td>21</td>\n",
       "      <td>5571</td>\n",
       "      <td>91784</td>\n",
       "      <td>7604.0</td>\n",
       "      <td>138743.0</td>\n",
       "      <td>NaN</td>\n",
       "      <td>NaN</td>\n",
       "      <td>2022-07-31</td>\n",
       "      <td>198097947.0</td>\n",
       "    </tr>\n",
       "    <tr>\n",
       "      <th>77</th>\n",
       "      <td>2022</td>\n",
       "      <td>World</td>\n",
       "      <td>Dry bulk carriers</td>\n",
       "      <td>2.2306</td>\n",
       "      <td>14</td>\n",
       "      <td>32735</td>\n",
       "      <td>204014</td>\n",
       "      <td>58640.0</td>\n",
       "      <td>404389.0</td>\n",
       "      <td>NaN</td>\n",
       "      <td>NaN</td>\n",
       "      <td>2022-07-31</td>\n",
       "      <td>198097947.0</td>\n",
       "    </tr>\n",
       "    <tr>\n",
       "      <th>78</th>\n",
       "      <td>2022</td>\n",
       "      <td>World</td>\n",
       "      <td>Roll-on/ roll-off ships</td>\n",
       "      <td>NaN</td>\n",
       "      <td>17</td>\n",
       "      <td>25706</td>\n",
       "      <td>100430</td>\n",
       "      <td>10319.0</td>\n",
       "      <td>55828.0</td>\n",
       "      <td>NaN</td>\n",
       "      <td>NaN</td>\n",
       "      <td>2022-07-31</td>\n",
       "      <td>198097947.0</td>\n",
       "    </tr>\n",
       "    <tr>\n",
       "      <th>79</th>\n",
       "      <td>2022</td>\n",
       "      <td>World</td>\n",
       "      <td>Liquefied petroleum gas carriers</td>\n",
       "      <td>1.0292</td>\n",
       "      <td>16</td>\n",
       "      <td>10726</td>\n",
       "      <td>60784</td>\n",
       "      <td>11986.0</td>\n",
       "      <td>64220.0</td>\n",
       "      <td>NaN</td>\n",
       "      <td>NaN</td>\n",
       "      <td>2022-07-31</td>\n",
       "      <td>198097947.0</td>\n",
       "    </tr>\n",
       "    <tr>\n",
       "      <th>80</th>\n",
       "      <td>2022</td>\n",
       "      <td>World</td>\n",
       "      <td>Liquefied natural gas carriers</td>\n",
       "      <td>1.1174</td>\n",
       "      <td>12</td>\n",
       "      <td>96843</td>\n",
       "      <td>168189</td>\n",
       "      <td>75614.0</td>\n",
       "      <td>155159.0</td>\n",
       "      <td>NaN</td>\n",
       "      <td>NaN</td>\n",
       "      <td>2022-07-31</td>\n",
       "      <td>198097947.0</td>\n",
       "    </tr>\n",
       "  </tbody>\n",
       "</table>\n",
       "<p>81 rows × 13 columns</p>\n",
       "</div>"
      ],
      "text/plain": [
       "    Year country                       Vessel_Type  \\\n",
       "0   2018   World                         All ships   \n",
       "1   2018   World                   Passenger ships   \n",
       "2   2018   World              Liquid bulk carriers   \n",
       "3   2018   World                   Container ships   \n",
       "4   2018   World            Dry breakbulk carriers   \n",
       "..   ...     ...                               ...   \n",
       "76  2022   World            Dry breakbulk carriers   \n",
       "77  2022   World                 Dry bulk carriers   \n",
       "78  2022   World           Roll-on/ roll-off ships   \n",
       "79  2022   World  Liquefied petroleum gas carriers   \n",
       "80  2022   World    Liquefied natural gas carriers   \n",
       "\n",
       "    Median time in port (days)  Average age of vessels  \\\n",
       "0                       0.9700                      18   \n",
       "1                          NaN                      21   \n",
       "2                       0.9400                      13   \n",
       "3                       0.6900                      13   \n",
       "4                       1.1200                      19   \n",
       "..                         ...                     ...   \n",
       "76                      1.1938                      21   \n",
       "77                      2.2306                      14   \n",
       "78                         NaN                      17   \n",
       "79                      1.0292                      16   \n",
       "80                      1.1174                      12   \n",
       "\n",
       "    Average size (GT) of vessels  Maximum size (GT) of vessels  \\\n",
       "0                          15222                        234006   \n",
       "1                           8978                        228081   \n",
       "2                          15470                        234006   \n",
       "3                          38405                        217673   \n",
       "4                           5455                         91784   \n",
       "..                           ...                           ...   \n",
       "76                          5571                         91784   \n",
       "77                         32735                        204014   \n",
       "78                         25706                        100430   \n",
       "79                         10726                         60784   \n",
       "80                         96843                        168189   \n",
       "\n",
       "    Average cargo carrying capacity (dwt) per vessel  \\\n",
       "0                                            24074.0   \n",
       "1                                                NaN   \n",
       "2                                            26871.0   \n",
       "3                                                NaN   \n",
       "4                                             7413.0   \n",
       "..                                               ...   \n",
       "76                                            7604.0   \n",
       "77                                           58640.0   \n",
       "78                                           10319.0   \n",
       "79                                           11986.0   \n",
       "80                                           75614.0   \n",
       "\n",
       "    Maximum cargo carrying capacity (dwt) of vessels  \\\n",
       "0                                           441561.0   \n",
       "1                                                NaN   \n",
       "2                                           441561.0   \n",
       "3                                                NaN   \n",
       "4                                           138743.0   \n",
       "..                                               ...   \n",
       "76                                          138743.0   \n",
       "77                                          404389.0   \n",
       "78                                           55828.0   \n",
       "79                                           64220.0   \n",
       "80                                          155159.0   \n",
       "\n",
       "    Average container carrying capacity (TEU) per container ship  \\\n",
       "0                                              3526.0              \n",
       "1                                                 NaN              \n",
       "2                                                 NaN              \n",
       "3                                              3526.0              \n",
       "4                                                 NaN              \n",
       "..                                                ...              \n",
       "76                                                NaN              \n",
       "77                                                NaN              \n",
       "78                                                NaN              \n",
       "79                                                NaN              \n",
       "80                                                NaN              \n",
       "\n",
       "    Maximum container carrying capacity (TEU) of container ships        date  \\\n",
       "0                                             21413.0             2018-07-31   \n",
       "1                                                 NaN             2018-07-31   \n",
       "2                                                 NaN             2018-07-31   \n",
       "3                                             21413.0             2018-07-31   \n",
       "4                                                 NaN             2018-07-31   \n",
       "..                                                ...                    ...   \n",
       "76                                                NaN             2022-07-31   \n",
       "77                                                NaN             2022-07-31   \n",
       "78                                                NaN             2022-07-31   \n",
       "79                                                NaN             2022-07-31   \n",
       "80                                                NaN             2022-07-31   \n",
       "\n",
       "      new_cases  \n",
       "0           NaN  \n",
       "1           NaN  \n",
       "2           NaN  \n",
       "3           NaN  \n",
       "4           NaN  \n",
       "..          ...  \n",
       "76  198097947.0  \n",
       "77  198097947.0  \n",
       "78  198097947.0  \n",
       "79  198097947.0  \n",
       "80  198097947.0  \n",
       "\n",
       "[81 rows x 13 columns]"
      ]
     },
     "execution_count": 117,
     "metadata": {},
     "output_type": "execute_result"
    }
   ],
   "source": [
    "df_ports_world = df_ports[df_ports.country == 'World']\n",
    "df_covid_world = df_new.groupby('date').sum()\n",
    "df_covid_world = df_covid_world.drop(['2020-01-31','2023-01-31'])\n",
    "\n",
    "df_combined_world =pd.merge(df_ports_world, df_covid_world, on=['date'], how='outer')\n",
    "df_combined_world = df_combined_world.drop(['Unnamed: 0', 'cumulative_cases'], axis=1)\n",
    "df_combined_world"
   ]
  },
  {
   "cell_type": "code",
   "execution_count": 118,
   "metadata": {},
   "outputs": [],
   "source": [
    "# df_combined_world.to_csv(r\"C:\\Users\\user\\OneDrive - Delft University of Technology\\Desktop\\TIL\\Q1\\TIL6022\\Final Project\\result.csv\")"
   ]
  },
  {
   "cell_type": "code",
   "execution_count": 119,
   "metadata": {},
   "outputs": [
    {
     "data": {
      "application/vnd.plotly.v1+json": {
       "config": {
        "plotlyServerURL": "https://plot.ly"
       },
       "data": [
        {
         "name": "Median time in port (days)",
         "type": "scatter",
         "x": [
          "2018-07-31",
          "2019-01-31",
          "2019-07-31",
          "2020-01-31",
          "2020-07-31",
          "2021-01-31",
          "2021-07-31",
          "2022-01-31",
          "2022-07-31"
         ],
         "xaxis": "x",
         "y": [
          0.97,
          0.97,
          0.9646,
          0.9667,
          0.9944,
          1.0021,
          1.041,
          1.0507,
          1.0694
         ],
         "yaxis": "y"
        },
        {
         "name": "New covid cases",
         "type": "scatter",
         "x": [
          "2018-07-31",
          "2019-01-31",
          "2019-07-31",
          "2020-01-31",
          "2020-07-31",
          "2021-01-31",
          "2021-07-31",
          "2022-01-31",
          "2022-07-31"
         ],
         "xaxis": "x",
         "y": [
          null,
          null,
          null,
          null,
          17365906,
          85324365,
          94959285,
          179182964,
          198097947
         ],
         "yaxis": "y2"
        }
       ],
       "layout": {
        "template": {
         "data": {
          "bar": [
           {
            "error_x": {
             "color": "#2a3f5f"
            },
            "error_y": {
             "color": "#2a3f5f"
            },
            "marker": {
             "line": {
              "color": "#E5ECF6",
              "width": 0.5
             },
             "pattern": {
              "fillmode": "overlay",
              "size": 10,
              "solidity": 0.2
             }
            },
            "type": "bar"
           }
          ],
          "barpolar": [
           {
            "marker": {
             "line": {
              "color": "#E5ECF6",
              "width": 0.5
             },
             "pattern": {
              "fillmode": "overlay",
              "size": 10,
              "solidity": 0.2
             }
            },
            "type": "barpolar"
           }
          ],
          "carpet": [
           {
            "aaxis": {
             "endlinecolor": "#2a3f5f",
             "gridcolor": "white",
             "linecolor": "white",
             "minorgridcolor": "white",
             "startlinecolor": "#2a3f5f"
            },
            "baxis": {
             "endlinecolor": "#2a3f5f",
             "gridcolor": "white",
             "linecolor": "white",
             "minorgridcolor": "white",
             "startlinecolor": "#2a3f5f"
            },
            "type": "carpet"
           }
          ],
          "choropleth": [
           {
            "colorbar": {
             "outlinewidth": 0,
             "ticks": ""
            },
            "type": "choropleth"
           }
          ],
          "contour": [
           {
            "colorbar": {
             "outlinewidth": 0,
             "ticks": ""
            },
            "colorscale": [
             [
              0,
              "#0d0887"
             ],
             [
              0.1111111111111111,
              "#46039f"
             ],
             [
              0.2222222222222222,
              "#7201a8"
             ],
             [
              0.3333333333333333,
              "#9c179e"
             ],
             [
              0.4444444444444444,
              "#bd3786"
             ],
             [
              0.5555555555555556,
              "#d8576b"
             ],
             [
              0.6666666666666666,
              "#ed7953"
             ],
             [
              0.7777777777777778,
              "#fb9f3a"
             ],
             [
              0.8888888888888888,
              "#fdca26"
             ],
             [
              1,
              "#f0f921"
             ]
            ],
            "type": "contour"
           }
          ],
          "contourcarpet": [
           {
            "colorbar": {
             "outlinewidth": 0,
             "ticks": ""
            },
            "type": "contourcarpet"
           }
          ],
          "heatmap": [
           {
            "colorbar": {
             "outlinewidth": 0,
             "ticks": ""
            },
            "colorscale": [
             [
              0,
              "#0d0887"
             ],
             [
              0.1111111111111111,
              "#46039f"
             ],
             [
              0.2222222222222222,
              "#7201a8"
             ],
             [
              0.3333333333333333,
              "#9c179e"
             ],
             [
              0.4444444444444444,
              "#bd3786"
             ],
             [
              0.5555555555555556,
              "#d8576b"
             ],
             [
              0.6666666666666666,
              "#ed7953"
             ],
             [
              0.7777777777777778,
              "#fb9f3a"
             ],
             [
              0.8888888888888888,
              "#fdca26"
             ],
             [
              1,
              "#f0f921"
             ]
            ],
            "type": "heatmap"
           }
          ],
          "heatmapgl": [
           {
            "colorbar": {
             "outlinewidth": 0,
             "ticks": ""
            },
            "colorscale": [
             [
              0,
              "#0d0887"
             ],
             [
              0.1111111111111111,
              "#46039f"
             ],
             [
              0.2222222222222222,
              "#7201a8"
             ],
             [
              0.3333333333333333,
              "#9c179e"
             ],
             [
              0.4444444444444444,
              "#bd3786"
             ],
             [
              0.5555555555555556,
              "#d8576b"
             ],
             [
              0.6666666666666666,
              "#ed7953"
             ],
             [
              0.7777777777777778,
              "#fb9f3a"
             ],
             [
              0.8888888888888888,
              "#fdca26"
             ],
             [
              1,
              "#f0f921"
             ]
            ],
            "type": "heatmapgl"
           }
          ],
          "histogram": [
           {
            "marker": {
             "pattern": {
              "fillmode": "overlay",
              "size": 10,
              "solidity": 0.2
             }
            },
            "type": "histogram"
           }
          ],
          "histogram2d": [
           {
            "colorbar": {
             "outlinewidth": 0,
             "ticks": ""
            },
            "colorscale": [
             [
              0,
              "#0d0887"
             ],
             [
              0.1111111111111111,
              "#46039f"
             ],
             [
              0.2222222222222222,
              "#7201a8"
             ],
             [
              0.3333333333333333,
              "#9c179e"
             ],
             [
              0.4444444444444444,
              "#bd3786"
             ],
             [
              0.5555555555555556,
              "#d8576b"
             ],
             [
              0.6666666666666666,
              "#ed7953"
             ],
             [
              0.7777777777777778,
              "#fb9f3a"
             ],
             [
              0.8888888888888888,
              "#fdca26"
             ],
             [
              1,
              "#f0f921"
             ]
            ],
            "type": "histogram2d"
           }
          ],
          "histogram2dcontour": [
           {
            "colorbar": {
             "outlinewidth": 0,
             "ticks": ""
            },
            "colorscale": [
             [
              0,
              "#0d0887"
             ],
             [
              0.1111111111111111,
              "#46039f"
             ],
             [
              0.2222222222222222,
              "#7201a8"
             ],
             [
              0.3333333333333333,
              "#9c179e"
             ],
             [
              0.4444444444444444,
              "#bd3786"
             ],
             [
              0.5555555555555556,
              "#d8576b"
             ],
             [
              0.6666666666666666,
              "#ed7953"
             ],
             [
              0.7777777777777778,
              "#fb9f3a"
             ],
             [
              0.8888888888888888,
              "#fdca26"
             ],
             [
              1,
              "#f0f921"
             ]
            ],
            "type": "histogram2dcontour"
           }
          ],
          "mesh3d": [
           {
            "colorbar": {
             "outlinewidth": 0,
             "ticks": ""
            },
            "type": "mesh3d"
           }
          ],
          "parcoords": [
           {
            "line": {
             "colorbar": {
              "outlinewidth": 0,
              "ticks": ""
             }
            },
            "type": "parcoords"
           }
          ],
          "pie": [
           {
            "automargin": true,
            "type": "pie"
           }
          ],
          "scatter": [
           {
            "fillpattern": {
             "fillmode": "overlay",
             "size": 10,
             "solidity": 0.2
            },
            "type": "scatter"
           }
          ],
          "scatter3d": [
           {
            "line": {
             "colorbar": {
              "outlinewidth": 0,
              "ticks": ""
             }
            },
            "marker": {
             "colorbar": {
              "outlinewidth": 0,
              "ticks": ""
             }
            },
            "type": "scatter3d"
           }
          ],
          "scattercarpet": [
           {
            "marker": {
             "colorbar": {
              "outlinewidth": 0,
              "ticks": ""
             }
            },
            "type": "scattercarpet"
           }
          ],
          "scattergeo": [
           {
            "marker": {
             "colorbar": {
              "outlinewidth": 0,
              "ticks": ""
             }
            },
            "type": "scattergeo"
           }
          ],
          "scattergl": [
           {
            "marker": {
             "colorbar": {
              "outlinewidth": 0,
              "ticks": ""
             }
            },
            "type": "scattergl"
           }
          ],
          "scattermapbox": [
           {
            "marker": {
             "colorbar": {
              "outlinewidth": 0,
              "ticks": ""
             }
            },
            "type": "scattermapbox"
           }
          ],
          "scatterpolar": [
           {
            "marker": {
             "colorbar": {
              "outlinewidth": 0,
              "ticks": ""
             }
            },
            "type": "scatterpolar"
           }
          ],
          "scatterpolargl": [
           {
            "marker": {
             "colorbar": {
              "outlinewidth": 0,
              "ticks": ""
             }
            },
            "type": "scatterpolargl"
           }
          ],
          "scatterternary": [
           {
            "marker": {
             "colorbar": {
              "outlinewidth": 0,
              "ticks": ""
             }
            },
            "type": "scatterternary"
           }
          ],
          "surface": [
           {
            "colorbar": {
             "outlinewidth": 0,
             "ticks": ""
            },
            "colorscale": [
             [
              0,
              "#0d0887"
             ],
             [
              0.1111111111111111,
              "#46039f"
             ],
             [
              0.2222222222222222,
              "#7201a8"
             ],
             [
              0.3333333333333333,
              "#9c179e"
             ],
             [
              0.4444444444444444,
              "#bd3786"
             ],
             [
              0.5555555555555556,
              "#d8576b"
             ],
             [
              0.6666666666666666,
              "#ed7953"
             ],
             [
              0.7777777777777778,
              "#fb9f3a"
             ],
             [
              0.8888888888888888,
              "#fdca26"
             ],
             [
              1,
              "#f0f921"
             ]
            ],
            "type": "surface"
           }
          ],
          "table": [
           {
            "cells": {
             "fill": {
              "color": "#EBF0F8"
             },
             "line": {
              "color": "white"
             }
            },
            "header": {
             "fill": {
              "color": "#C8D4E3"
             },
             "line": {
              "color": "white"
             }
            },
            "type": "table"
           }
          ]
         },
         "layout": {
          "annotationdefaults": {
           "arrowcolor": "#2a3f5f",
           "arrowhead": 0,
           "arrowwidth": 1
          },
          "autotypenumbers": "strict",
          "coloraxis": {
           "colorbar": {
            "outlinewidth": 0,
            "ticks": ""
           }
          },
          "colorscale": {
           "diverging": [
            [
             0,
             "#8e0152"
            ],
            [
             0.1,
             "#c51b7d"
            ],
            [
             0.2,
             "#de77ae"
            ],
            [
             0.3,
             "#f1b6da"
            ],
            [
             0.4,
             "#fde0ef"
            ],
            [
             0.5,
             "#f7f7f7"
            ],
            [
             0.6,
             "#e6f5d0"
            ],
            [
             0.7,
             "#b8e186"
            ],
            [
             0.8,
             "#7fbc41"
            ],
            [
             0.9,
             "#4d9221"
            ],
            [
             1,
             "#276419"
            ]
           ],
           "sequential": [
            [
             0,
             "#0d0887"
            ],
            [
             0.1111111111111111,
             "#46039f"
            ],
            [
             0.2222222222222222,
             "#7201a8"
            ],
            [
             0.3333333333333333,
             "#9c179e"
            ],
            [
             0.4444444444444444,
             "#bd3786"
            ],
            [
             0.5555555555555556,
             "#d8576b"
            ],
            [
             0.6666666666666666,
             "#ed7953"
            ],
            [
             0.7777777777777778,
             "#fb9f3a"
            ],
            [
             0.8888888888888888,
             "#fdca26"
            ],
            [
             1,
             "#f0f921"
            ]
           ],
           "sequentialminus": [
            [
             0,
             "#0d0887"
            ],
            [
             0.1111111111111111,
             "#46039f"
            ],
            [
             0.2222222222222222,
             "#7201a8"
            ],
            [
             0.3333333333333333,
             "#9c179e"
            ],
            [
             0.4444444444444444,
             "#bd3786"
            ],
            [
             0.5555555555555556,
             "#d8576b"
            ],
            [
             0.6666666666666666,
             "#ed7953"
            ],
            [
             0.7777777777777778,
             "#fb9f3a"
            ],
            [
             0.8888888888888888,
             "#fdca26"
            ],
            [
             1,
             "#f0f921"
            ]
           ]
          },
          "colorway": [
           "#636efa",
           "#EF553B",
           "#00cc96",
           "#ab63fa",
           "#FFA15A",
           "#19d3f3",
           "#FF6692",
           "#B6E880",
           "#FF97FF",
           "#FECB52"
          ],
          "font": {
           "color": "#2a3f5f"
          },
          "geo": {
           "bgcolor": "white",
           "lakecolor": "white",
           "landcolor": "#E5ECF6",
           "showlakes": true,
           "showland": true,
           "subunitcolor": "white"
          },
          "hoverlabel": {
           "align": "left"
          },
          "hovermode": "closest",
          "mapbox": {
           "style": "light"
          },
          "paper_bgcolor": "white",
          "plot_bgcolor": "#E5ECF6",
          "polar": {
           "angularaxis": {
            "gridcolor": "white",
            "linecolor": "white",
            "ticks": ""
           },
           "bgcolor": "#E5ECF6",
           "radialaxis": {
            "gridcolor": "white",
            "linecolor": "white",
            "ticks": ""
           }
          },
          "scene": {
           "xaxis": {
            "backgroundcolor": "#E5ECF6",
            "gridcolor": "white",
            "gridwidth": 2,
            "linecolor": "white",
            "showbackground": true,
            "ticks": "",
            "zerolinecolor": "white"
           },
           "yaxis": {
            "backgroundcolor": "#E5ECF6",
            "gridcolor": "white",
            "gridwidth": 2,
            "linecolor": "white",
            "showbackground": true,
            "ticks": "",
            "zerolinecolor": "white"
           },
           "zaxis": {
            "backgroundcolor": "#E5ECF6",
            "gridcolor": "white",
            "gridwidth": 2,
            "linecolor": "white",
            "showbackground": true,
            "ticks": "",
            "zerolinecolor": "white"
           }
          },
          "shapedefaults": {
           "line": {
            "color": "#2a3f5f"
           }
          },
          "ternary": {
           "aaxis": {
            "gridcolor": "white",
            "linecolor": "white",
            "ticks": ""
           },
           "baxis": {
            "gridcolor": "white",
            "linecolor": "white",
            "ticks": ""
           },
           "bgcolor": "#E5ECF6",
           "caxis": {
            "gridcolor": "white",
            "linecolor": "white",
            "ticks": ""
           }
          },
          "title": {
           "x": 0.05
          },
          "xaxis": {
           "automargin": true,
           "gridcolor": "white",
           "linecolor": "white",
           "ticks": "",
           "title": {
            "standoff": 15
           },
           "zerolinecolor": "white",
           "zerolinewidth": 2
          },
          "yaxis": {
           "automargin": true,
           "gridcolor": "white",
           "linecolor": "white",
           "ticks": "",
           "title": {
            "standoff": 15
           },
           "zerolinecolor": "white",
           "zerolinewidth": 2
          }
         }
        },
        "title": {
         "text": "World - all vessel type"
        },
        "xaxis": {
         "anchor": "y",
         "domain": [
          0,
          0.94
         ],
         "title": {
          "text": "Date"
         }
        },
        "yaxis": {
         "anchor": "x",
         "domain": [
          0,
          1
         ],
         "title": {
          "text": "<b>primary</b> Median time in port (days)"
         }
        },
        "yaxis2": {
         "anchor": "x",
         "overlaying": "y",
         "side": "right",
         "title": {
          "text": "<b>secondary</b> New covid cases"
         }
        }
       }
      },
      "text/html": [
       "<div>                            <div id=\"01ea9da6-96d6-4311-8910-5eea468865db\" class=\"plotly-graph-div\" style=\"height:525px; width:100%;\"></div>            <script type=\"text/javascript\">                require([\"plotly\"], function(Plotly) {                    window.PLOTLYENV=window.PLOTLYENV || {};                                    if (document.getElementById(\"01ea9da6-96d6-4311-8910-5eea468865db\")) {                    Plotly.newPlot(                        \"01ea9da6-96d6-4311-8910-5eea468865db\",                        [{\"name\":\"Median time in port (days)\",\"x\":[\"2018-07-31\",\"2019-01-31\",\"2019-07-31\",\"2020-01-31\",\"2020-07-31\",\"2021-01-31\",\"2021-07-31\",\"2022-01-31\",\"2022-07-31\"],\"y\":[0.97,0.97,0.9646,0.9667,0.9944,1.0021,1.041,1.0507,1.0694],\"type\":\"scatter\",\"xaxis\":\"x\",\"yaxis\":\"y\"},{\"name\":\"New covid cases\",\"x\":[\"2018-07-31\",\"2019-01-31\",\"2019-07-31\",\"2020-01-31\",\"2020-07-31\",\"2021-01-31\",\"2021-07-31\",\"2022-01-31\",\"2022-07-31\"],\"y\":[null,null,null,null,17365906.0,85324365.0,94959285.0,179182964.0,198097947.0],\"type\":\"scatter\",\"xaxis\":\"x\",\"yaxis\":\"y2\"}],                        {\"template\":{\"data\":{\"histogram2dcontour\":[{\"type\":\"histogram2dcontour\",\"colorbar\":{\"outlinewidth\":0,\"ticks\":\"\"},\"colorscale\":[[0.0,\"#0d0887\"],[0.1111111111111111,\"#46039f\"],[0.2222222222222222,\"#7201a8\"],[0.3333333333333333,\"#9c179e\"],[0.4444444444444444,\"#bd3786\"],[0.5555555555555556,\"#d8576b\"],[0.6666666666666666,\"#ed7953\"],[0.7777777777777778,\"#fb9f3a\"],[0.8888888888888888,\"#fdca26\"],[1.0,\"#f0f921\"]]}],\"choropleth\":[{\"type\":\"choropleth\",\"colorbar\":{\"outlinewidth\":0,\"ticks\":\"\"}}],\"histogram2d\":[{\"type\":\"histogram2d\",\"colorbar\":{\"outlinewidth\":0,\"ticks\":\"\"},\"colorscale\":[[0.0,\"#0d0887\"],[0.1111111111111111,\"#46039f\"],[0.2222222222222222,\"#7201a8\"],[0.3333333333333333,\"#9c179e\"],[0.4444444444444444,\"#bd3786\"],[0.5555555555555556,\"#d8576b\"],[0.6666666666666666,\"#ed7953\"],[0.7777777777777778,\"#fb9f3a\"],[0.8888888888888888,\"#fdca26\"],[1.0,\"#f0f921\"]]}],\"heatmap\":[{\"type\":\"heatmap\",\"colorbar\":{\"outlinewidth\":0,\"ticks\":\"\"},\"colorscale\":[[0.0,\"#0d0887\"],[0.1111111111111111,\"#46039f\"],[0.2222222222222222,\"#7201a8\"],[0.3333333333333333,\"#9c179e\"],[0.4444444444444444,\"#bd3786\"],[0.5555555555555556,\"#d8576b\"],[0.6666666666666666,\"#ed7953\"],[0.7777777777777778,\"#fb9f3a\"],[0.8888888888888888,\"#fdca26\"],[1.0,\"#f0f921\"]]}],\"heatmapgl\":[{\"type\":\"heatmapgl\",\"colorbar\":{\"outlinewidth\":0,\"ticks\":\"\"},\"colorscale\":[[0.0,\"#0d0887\"],[0.1111111111111111,\"#46039f\"],[0.2222222222222222,\"#7201a8\"],[0.3333333333333333,\"#9c179e\"],[0.4444444444444444,\"#bd3786\"],[0.5555555555555556,\"#d8576b\"],[0.6666666666666666,\"#ed7953\"],[0.7777777777777778,\"#fb9f3a\"],[0.8888888888888888,\"#fdca26\"],[1.0,\"#f0f921\"]]}],\"contourcarpet\":[{\"type\":\"contourcarpet\",\"colorbar\":{\"outlinewidth\":0,\"ticks\":\"\"}}],\"contour\":[{\"type\":\"contour\",\"colorbar\":{\"outlinewidth\":0,\"ticks\":\"\"},\"colorscale\":[[0.0,\"#0d0887\"],[0.1111111111111111,\"#46039f\"],[0.2222222222222222,\"#7201a8\"],[0.3333333333333333,\"#9c179e\"],[0.4444444444444444,\"#bd3786\"],[0.5555555555555556,\"#d8576b\"],[0.6666666666666666,\"#ed7953\"],[0.7777777777777778,\"#fb9f3a\"],[0.8888888888888888,\"#fdca26\"],[1.0,\"#f0f921\"]]}],\"surface\":[{\"type\":\"surface\",\"colorbar\":{\"outlinewidth\":0,\"ticks\":\"\"},\"colorscale\":[[0.0,\"#0d0887\"],[0.1111111111111111,\"#46039f\"],[0.2222222222222222,\"#7201a8\"],[0.3333333333333333,\"#9c179e\"],[0.4444444444444444,\"#bd3786\"],[0.5555555555555556,\"#d8576b\"],[0.6666666666666666,\"#ed7953\"],[0.7777777777777778,\"#fb9f3a\"],[0.8888888888888888,\"#fdca26\"],[1.0,\"#f0f921\"]]}],\"mesh3d\":[{\"type\":\"mesh3d\",\"colorbar\":{\"outlinewidth\":0,\"ticks\":\"\"}}],\"scatter\":[{\"fillpattern\":{\"fillmode\":\"overlay\",\"size\":10,\"solidity\":0.2},\"type\":\"scatter\"}],\"parcoords\":[{\"type\":\"parcoords\",\"line\":{\"colorbar\":{\"outlinewidth\":0,\"ticks\":\"\"}}}],\"scatterpolargl\":[{\"type\":\"scatterpolargl\",\"marker\":{\"colorbar\":{\"outlinewidth\":0,\"ticks\":\"\"}}}],\"bar\":[{\"error_x\":{\"color\":\"#2a3f5f\"},\"error_y\":{\"color\":\"#2a3f5f\"},\"marker\":{\"line\":{\"color\":\"#E5ECF6\",\"width\":0.5},\"pattern\":{\"fillmode\":\"overlay\",\"size\":10,\"solidity\":0.2}},\"type\":\"bar\"}],\"scattergeo\":[{\"type\":\"scattergeo\",\"marker\":{\"colorbar\":{\"outlinewidth\":0,\"ticks\":\"\"}}}],\"scatterpolar\":[{\"type\":\"scatterpolar\",\"marker\":{\"colorbar\":{\"outlinewidth\":0,\"ticks\":\"\"}}}],\"histogram\":[{\"marker\":{\"pattern\":{\"fillmode\":\"overlay\",\"size\":10,\"solidity\":0.2}},\"type\":\"histogram\"}],\"scattergl\":[{\"type\":\"scattergl\",\"marker\":{\"colorbar\":{\"outlinewidth\":0,\"ticks\":\"\"}}}],\"scatter3d\":[{\"type\":\"scatter3d\",\"line\":{\"colorbar\":{\"outlinewidth\":0,\"ticks\":\"\"}},\"marker\":{\"colorbar\":{\"outlinewidth\":0,\"ticks\":\"\"}}}],\"scattermapbox\":[{\"type\":\"scattermapbox\",\"marker\":{\"colorbar\":{\"outlinewidth\":0,\"ticks\":\"\"}}}],\"scatterternary\":[{\"type\":\"scatterternary\",\"marker\":{\"colorbar\":{\"outlinewidth\":0,\"ticks\":\"\"}}}],\"scattercarpet\":[{\"type\":\"scattercarpet\",\"marker\":{\"colorbar\":{\"outlinewidth\":0,\"ticks\":\"\"}}}],\"carpet\":[{\"aaxis\":{\"endlinecolor\":\"#2a3f5f\",\"gridcolor\":\"white\",\"linecolor\":\"white\",\"minorgridcolor\":\"white\",\"startlinecolor\":\"#2a3f5f\"},\"baxis\":{\"endlinecolor\":\"#2a3f5f\",\"gridcolor\":\"white\",\"linecolor\":\"white\",\"minorgridcolor\":\"white\",\"startlinecolor\":\"#2a3f5f\"},\"type\":\"carpet\"}],\"table\":[{\"cells\":{\"fill\":{\"color\":\"#EBF0F8\"},\"line\":{\"color\":\"white\"}},\"header\":{\"fill\":{\"color\":\"#C8D4E3\"},\"line\":{\"color\":\"white\"}},\"type\":\"table\"}],\"barpolar\":[{\"marker\":{\"line\":{\"color\":\"#E5ECF6\",\"width\":0.5},\"pattern\":{\"fillmode\":\"overlay\",\"size\":10,\"solidity\":0.2}},\"type\":\"barpolar\"}],\"pie\":[{\"automargin\":true,\"type\":\"pie\"}]},\"layout\":{\"autotypenumbers\":\"strict\",\"colorway\":[\"#636efa\",\"#EF553B\",\"#00cc96\",\"#ab63fa\",\"#FFA15A\",\"#19d3f3\",\"#FF6692\",\"#B6E880\",\"#FF97FF\",\"#FECB52\"],\"font\":{\"color\":\"#2a3f5f\"},\"hovermode\":\"closest\",\"hoverlabel\":{\"align\":\"left\"},\"paper_bgcolor\":\"white\",\"plot_bgcolor\":\"#E5ECF6\",\"polar\":{\"bgcolor\":\"#E5ECF6\",\"angularaxis\":{\"gridcolor\":\"white\",\"linecolor\":\"white\",\"ticks\":\"\"},\"radialaxis\":{\"gridcolor\":\"white\",\"linecolor\":\"white\",\"ticks\":\"\"}},\"ternary\":{\"bgcolor\":\"#E5ECF6\",\"aaxis\":{\"gridcolor\":\"white\",\"linecolor\":\"white\",\"ticks\":\"\"},\"baxis\":{\"gridcolor\":\"white\",\"linecolor\":\"white\",\"ticks\":\"\"},\"caxis\":{\"gridcolor\":\"white\",\"linecolor\":\"white\",\"ticks\":\"\"}},\"coloraxis\":{\"colorbar\":{\"outlinewidth\":0,\"ticks\":\"\"}},\"colorscale\":{\"sequential\":[[0.0,\"#0d0887\"],[0.1111111111111111,\"#46039f\"],[0.2222222222222222,\"#7201a8\"],[0.3333333333333333,\"#9c179e\"],[0.4444444444444444,\"#bd3786\"],[0.5555555555555556,\"#d8576b\"],[0.6666666666666666,\"#ed7953\"],[0.7777777777777778,\"#fb9f3a\"],[0.8888888888888888,\"#fdca26\"],[1.0,\"#f0f921\"]],\"sequentialminus\":[[0.0,\"#0d0887\"],[0.1111111111111111,\"#46039f\"],[0.2222222222222222,\"#7201a8\"],[0.3333333333333333,\"#9c179e\"],[0.4444444444444444,\"#bd3786\"],[0.5555555555555556,\"#d8576b\"],[0.6666666666666666,\"#ed7953\"],[0.7777777777777778,\"#fb9f3a\"],[0.8888888888888888,\"#fdca26\"],[1.0,\"#f0f921\"]],\"diverging\":[[0,\"#8e0152\"],[0.1,\"#c51b7d\"],[0.2,\"#de77ae\"],[0.3,\"#f1b6da\"],[0.4,\"#fde0ef\"],[0.5,\"#f7f7f7\"],[0.6,\"#e6f5d0\"],[0.7,\"#b8e186\"],[0.8,\"#7fbc41\"],[0.9,\"#4d9221\"],[1,\"#276419\"]]},\"xaxis\":{\"gridcolor\":\"white\",\"linecolor\":\"white\",\"ticks\":\"\",\"title\":{\"standoff\":15},\"zerolinecolor\":\"white\",\"automargin\":true,\"zerolinewidth\":2},\"yaxis\":{\"gridcolor\":\"white\",\"linecolor\":\"white\",\"ticks\":\"\",\"title\":{\"standoff\":15},\"zerolinecolor\":\"white\",\"automargin\":true,\"zerolinewidth\":2},\"scene\":{\"xaxis\":{\"backgroundcolor\":\"#E5ECF6\",\"gridcolor\":\"white\",\"linecolor\":\"white\",\"showbackground\":true,\"ticks\":\"\",\"zerolinecolor\":\"white\",\"gridwidth\":2},\"yaxis\":{\"backgroundcolor\":\"#E5ECF6\",\"gridcolor\":\"white\",\"linecolor\":\"white\",\"showbackground\":true,\"ticks\":\"\",\"zerolinecolor\":\"white\",\"gridwidth\":2},\"zaxis\":{\"backgroundcolor\":\"#E5ECF6\",\"gridcolor\":\"white\",\"linecolor\":\"white\",\"showbackground\":true,\"ticks\":\"\",\"zerolinecolor\":\"white\",\"gridwidth\":2}},\"shapedefaults\":{\"line\":{\"color\":\"#2a3f5f\"}},\"annotationdefaults\":{\"arrowcolor\":\"#2a3f5f\",\"arrowhead\":0,\"arrowwidth\":1},\"geo\":{\"bgcolor\":\"white\",\"landcolor\":\"#E5ECF6\",\"subunitcolor\":\"white\",\"showland\":true,\"showlakes\":true,\"lakecolor\":\"white\"},\"title\":{\"x\":0.05},\"mapbox\":{\"style\":\"light\"}}},\"xaxis\":{\"anchor\":\"y\",\"domain\":[0.0,0.94],\"title\":{\"text\":\"Date\"}},\"yaxis\":{\"anchor\":\"x\",\"domain\":[0.0,1.0],\"title\":{\"text\":\"<b>primary</b> Median time in port (days)\"}},\"yaxis2\":{\"anchor\":\"x\",\"overlaying\":\"y\",\"side\":\"right\",\"title\":{\"text\":\"<b>secondary</b> New covid cases\"}},\"title\":{\"text\":\"World - all vessel type\"}},                        {\"responsive\": true}                    ).then(function(){\n",
       "                            \n",
       "var gd = document.getElementById('01ea9da6-96d6-4311-8910-5eea468865db');\n",
       "var x = new MutationObserver(function (mutations, observer) {{\n",
       "        var display = window.getComputedStyle(gd).display;\n",
       "        if (!display || display === 'none') {{\n",
       "            console.log([gd, 'removed!']);\n",
       "            Plotly.purge(gd);\n",
       "            observer.disconnect();\n",
       "        }}\n",
       "}});\n",
       "\n",
       "// Listen for the removal of the full notebook cells\n",
       "var notebookContainer = gd.closest('#notebook-container');\n",
       "if (notebookContainer) {{\n",
       "    x.observe(notebookContainer, {childList: true});\n",
       "}}\n",
       "\n",
       "// Listen for the clearing of the current output cell\n",
       "var outputEl = gd.closest('.output');\n",
       "if (outputEl) {{\n",
       "    x.observe(outputEl, {childList: true});\n",
       "}}\n",
       "\n",
       "                        })                };                });            </script>        </div>"
      ]
     },
     "metadata": {},
     "output_type": "display_data"
    }
   ],
   "source": [
    "df_combined_world = df_combined_world[df_combined_world['Vessel_Type'] == 'All ships']\n",
    "\n",
    "# Create figure with secondary y-axis\n",
    "fig = make_subplots(specs=[[{\"secondary_y\": True}]])\n",
    "\n",
    "# Add traces\n",
    "fig.add_trace(\n",
    "    go.Scatter(x=df_combined_world['date'], y=df_combined_world['Median time in port (days)'], name=\"Median time in port (days)\"),\n",
    "    secondary_y=False,\n",
    ")\n",
    "\n",
    "fig.add_trace(\n",
    "    go.Scatter(x=df_combined_world['date'], y=df_combined_world['new_cases'], name=\"New covid cases\"),\n",
    "    secondary_y=True,\n",
    ")\n",
    "\n",
    "# Add figure title\n",
    "fig.update_layout(\n",
    "    title_text=\"World - all vessel type\"\n",
    ")\n",
    "\n",
    "# Set x-axis title\n",
    "fig.update_xaxes(title_text=\"Date\")\n",
    "\n",
    "# Set y-axes titles\n",
    "fig.update_yaxes(title_text=\"<b>primary</b> Median time in port (days)\", secondary_y=False)\n",
    "fig.update_yaxes(title_text=\"<b>secondary</b> New covid cases\", secondary_y=True)\n",
    "\n",
    "fig.show()"
   ]
  },
  {
   "cell_type": "code",
   "execution_count": 120,
   "metadata": {},
   "outputs": [],
   "source": [
    "# data1 = df_combined_world['new_cases']\n",
    "# data2 = df_combined_world['Median time in port (days)']\n",
    "# coef, p = spearmanr(data1, data2)\n",
    "# print('Spearmans correlation coefficient: %.3f' % coef)\n",
    "# # interpret the significance\n",
    "# alpha = 0.05\n",
    "# if p > alpha:\n",
    "# \tprint('Samples are uncorrelated (fail to reject H0) p=%.3f' % p)\n",
    "# else:\n",
    "# \tprint('Samples are correlated (reject H0) p=%.3f' % p)"
   ]
  },
  {
   "cell_type": "code",
   "execution_count": 121,
   "metadata": {},
   "outputs": [
    {
     "name": "stdout",
     "output_type": "stream",
     "text": [
      "The pearson correlation data for the whole world is (Pearson's correlation coefficient r, P-value):\n"
     ]
    },
    {
     "data": {
      "text/plain": [
       "PearsonRResult(statistic=0.9139174003700252, pvalue=0.029923900661430667)"
      ]
     },
     "execution_count": 121,
     "metadata": {},
     "output_type": "execute_result"
    }
   ],
   "source": [
    "from scipy import stats\n",
    "\n",
    "df_combined_world=df_combined_world.dropna(subset=['new_cases'])\n",
    "data1 = df_combined_world['new_cases']\n",
    "data2 = df_combined_world['Median time in port (days)']\n",
    "print(\"The pearson correlation data for the whole world is (Pearson's correlation coefficient r, P-value):\")\n",
    "stats.pearsonr(data1, data2)"
   ]
  },
  {
   "cell_type": "code",
   "execution_count": 122,
   "metadata": {},
   "outputs": [
    {
     "data": {
      "text/html": [
       "<div>\n",
       "<style scoped>\n",
       "    .dataframe tbody tr th:only-of-type {\n",
       "        vertical-align: middle;\n",
       "    }\n",
       "\n",
       "    .dataframe tbody tr th {\n",
       "        vertical-align: top;\n",
       "    }\n",
       "\n",
       "    .dataframe thead th {\n",
       "        text-align: right;\n",
       "    }\n",
       "</style>\n",
       "<table border=\"1\" class=\"dataframe\">\n",
       "  <thead>\n",
       "    <tr style=\"text-align: right;\">\n",
       "      <th></th>\n",
       "      <th>Year</th>\n",
       "      <th>country</th>\n",
       "      <th>Vessel_Type</th>\n",
       "      <th>Number of port calls</th>\n",
       "      <th>date</th>\n",
       "      <th>new_cases</th>\n",
       "    </tr>\n",
       "  </thead>\n",
       "  <tbody>\n",
       "    <tr>\n",
       "      <th>0</th>\n",
       "      <td>2018</td>\n",
       "      <td>World</td>\n",
       "      <td>All ships</td>\n",
       "      <td>1984908</td>\n",
       "      <td>2018-07-31</td>\n",
       "      <td>NaN</td>\n",
       "    </tr>\n",
       "    <tr>\n",
       "      <th>1</th>\n",
       "      <td>2018</td>\n",
       "      <td>World</td>\n",
       "      <td>Passenger ships</td>\n",
       "      <td>1053697</td>\n",
       "      <td>2018-07-31</td>\n",
       "      <td>NaN</td>\n",
       "    </tr>\n",
       "    <tr>\n",
       "      <th>2</th>\n",
       "      <td>2018</td>\n",
       "      <td>World</td>\n",
       "      <td>Liquid bulk carriers</td>\n",
       "      <td>245147</td>\n",
       "      <td>2018-07-31</td>\n",
       "      <td>NaN</td>\n",
       "    </tr>\n",
       "    <tr>\n",
       "      <th>3</th>\n",
       "      <td>2018</td>\n",
       "      <td>World</td>\n",
       "      <td>Container ships</td>\n",
       "      <td>226063</td>\n",
       "      <td>2018-07-31</td>\n",
       "      <td>NaN</td>\n",
       "    </tr>\n",
       "    <tr>\n",
       "      <th>4</th>\n",
       "      <td>2018</td>\n",
       "      <td>World</td>\n",
       "      <td>Dry breakbulk carriers</td>\n",
       "      <td>211031</td>\n",
       "      <td>2018-07-31</td>\n",
       "      <td>NaN</td>\n",
       "    </tr>\n",
       "    <tr>\n",
       "      <th>...</th>\n",
       "      <td>...</td>\n",
       "      <td>...</td>\n",
       "      <td>...</td>\n",
       "      <td>...</td>\n",
       "      <td>...</td>\n",
       "      <td>...</td>\n",
       "    </tr>\n",
       "    <tr>\n",
       "      <th>76</th>\n",
       "      <td>2022</td>\n",
       "      <td>World</td>\n",
       "      <td>Dry breakbulk carriers</td>\n",
       "      <td>210158</td>\n",
       "      <td>2022-07-31</td>\n",
       "      <td>198097947.0</td>\n",
       "    </tr>\n",
       "    <tr>\n",
       "      <th>77</th>\n",
       "      <td>2022</td>\n",
       "      <td>World</td>\n",
       "      <td>Dry bulk carriers</td>\n",
       "      <td>138318</td>\n",
       "      <td>2022-07-31</td>\n",
       "      <td>198097947.0</td>\n",
       "    </tr>\n",
       "    <tr>\n",
       "      <th>78</th>\n",
       "      <td>2022</td>\n",
       "      <td>World</td>\n",
       "      <td>Roll-on/ roll-off ships</td>\n",
       "      <td>88572</td>\n",
       "      <td>2022-07-31</td>\n",
       "      <td>198097947.0</td>\n",
       "    </tr>\n",
       "    <tr>\n",
       "      <th>79</th>\n",
       "      <td>2022</td>\n",
       "      <td>World</td>\n",
       "      <td>Liquefied petroleum gas carriers</td>\n",
       "      <td>29257</td>\n",
       "      <td>2022-07-31</td>\n",
       "      <td>198097947.0</td>\n",
       "    </tr>\n",
       "    <tr>\n",
       "      <th>80</th>\n",
       "      <td>2022</td>\n",
       "      <td>World</td>\n",
       "      <td>Liquefied natural gas carriers</td>\n",
       "      <td>7095</td>\n",
       "      <td>2022-07-31</td>\n",
       "      <td>198097947.0</td>\n",
       "    </tr>\n",
       "  </tbody>\n",
       "</table>\n",
       "<p>81 rows × 6 columns</p>\n",
       "</div>"
      ],
      "text/plain": [
       "    Year country                       Vessel_Type  Number of port calls  \\\n",
       "0   2018   World                         All ships               1984908   \n",
       "1   2018   World                   Passenger ships               1053697   \n",
       "2   2018   World              Liquid bulk carriers                245147   \n",
       "3   2018   World                   Container ships                226063   \n",
       "4   2018   World            Dry breakbulk carriers                211031   \n",
       "..   ...     ...                               ...                   ...   \n",
       "76  2022   World            Dry breakbulk carriers                210158   \n",
       "77  2022   World                 Dry bulk carriers                138318   \n",
       "78  2022   World           Roll-on/ roll-off ships                 88572   \n",
       "79  2022   World  Liquefied petroleum gas carriers                 29257   \n",
       "80  2022   World    Liquefied natural gas carriers                  7095   \n",
       "\n",
       "          date    new_cases  \n",
       "0   2018-07-31          NaN  \n",
       "1   2018-07-31          NaN  \n",
       "2   2018-07-31          NaN  \n",
       "3   2018-07-31          NaN  \n",
       "4   2018-07-31          NaN  \n",
       "..         ...          ...  \n",
       "76  2022-07-31  198097947.0  \n",
       "77  2022-07-31  198097947.0  \n",
       "78  2022-07-31  198097947.0  \n",
       "79  2022-07-31  198097947.0  \n",
       "80  2022-07-31  198097947.0  \n",
       "\n",
       "[81 rows x 6 columns]"
      ]
     },
     "execution_count": 122,
     "metadata": {},
     "output_type": "execute_result"
    }
   ],
   "source": [
    "df_port_calls_world = df_port_calls[df_port_calls.country == 'World']\n",
    "df_covid_world = df_new.groupby('date').sum()\n",
    "df_covid_world = df_covid_world.drop(['2020-01-31','2023-01-31'])\n",
    "\n",
    "df_combined_world_calls = pd.merge(df_port_calls_world, df_covid_world, on=['date'], how='outer')\n",
    "df_combined_world_calls = df_combined_world_calls.drop(['Unnamed: 0', 'cumulative_cases'], axis=1)\n",
    "df_combined_world_calls"
   ]
  },
  {
   "cell_type": "code",
   "execution_count": 123,
   "metadata": {},
   "outputs": [
    {
     "data": {
      "application/vnd.plotly.v1+json": {
       "config": {
        "plotlyServerURL": "https://plot.ly"
       },
       "data": [
        {
         "name": "Number of port calls",
         "type": "scatter",
         "x": [
          "2018-07-31",
          "2019-01-31",
          "2019-07-31",
          "2020-01-31",
          "2020-07-31",
          "2021-01-31",
          "2021-07-31",
          "2022-01-31",
          "2022-07-31"
         ],
         "xaxis": "x",
         "y": [
          1984908,
          2128036,
          2091516,
          2271221,
          1863718,
          2043269,
          2011317,
          2275694,
          2160862
         ],
         "yaxis": "y"
        },
        {
         "name": "New covid cases",
         "type": "scatter",
         "x": [
          "2018-07-31",
          "2019-01-31",
          "2019-07-31",
          "2020-01-31",
          "2020-07-31",
          "2021-01-31",
          "2021-07-31",
          "2022-01-31",
          "2022-07-31"
         ],
         "xaxis": "x",
         "y": [
          null,
          null,
          null,
          null,
          17365906,
          85324365,
          94959285,
          179182964,
          198097947
         ],
         "yaxis": "y2"
        }
       ],
       "layout": {
        "template": {
         "data": {
          "bar": [
           {
            "error_x": {
             "color": "#2a3f5f"
            },
            "error_y": {
             "color": "#2a3f5f"
            },
            "marker": {
             "line": {
              "color": "#E5ECF6",
              "width": 0.5
             },
             "pattern": {
              "fillmode": "overlay",
              "size": 10,
              "solidity": 0.2
             }
            },
            "type": "bar"
           }
          ],
          "barpolar": [
           {
            "marker": {
             "line": {
              "color": "#E5ECF6",
              "width": 0.5
             },
             "pattern": {
              "fillmode": "overlay",
              "size": 10,
              "solidity": 0.2
             }
            },
            "type": "barpolar"
           }
          ],
          "carpet": [
           {
            "aaxis": {
             "endlinecolor": "#2a3f5f",
             "gridcolor": "white",
             "linecolor": "white",
             "minorgridcolor": "white",
             "startlinecolor": "#2a3f5f"
            },
            "baxis": {
             "endlinecolor": "#2a3f5f",
             "gridcolor": "white",
             "linecolor": "white",
             "minorgridcolor": "white",
             "startlinecolor": "#2a3f5f"
            },
            "type": "carpet"
           }
          ],
          "choropleth": [
           {
            "colorbar": {
             "outlinewidth": 0,
             "ticks": ""
            },
            "type": "choropleth"
           }
          ],
          "contour": [
           {
            "colorbar": {
             "outlinewidth": 0,
             "ticks": ""
            },
            "colorscale": [
             [
              0,
              "#0d0887"
             ],
             [
              0.1111111111111111,
              "#46039f"
             ],
             [
              0.2222222222222222,
              "#7201a8"
             ],
             [
              0.3333333333333333,
              "#9c179e"
             ],
             [
              0.4444444444444444,
              "#bd3786"
             ],
             [
              0.5555555555555556,
              "#d8576b"
             ],
             [
              0.6666666666666666,
              "#ed7953"
             ],
             [
              0.7777777777777778,
              "#fb9f3a"
             ],
             [
              0.8888888888888888,
              "#fdca26"
             ],
             [
              1,
              "#f0f921"
             ]
            ],
            "type": "contour"
           }
          ],
          "contourcarpet": [
           {
            "colorbar": {
             "outlinewidth": 0,
             "ticks": ""
            },
            "type": "contourcarpet"
           }
          ],
          "heatmap": [
           {
            "colorbar": {
             "outlinewidth": 0,
             "ticks": ""
            },
            "colorscale": [
             [
              0,
              "#0d0887"
             ],
             [
              0.1111111111111111,
              "#46039f"
             ],
             [
              0.2222222222222222,
              "#7201a8"
             ],
             [
              0.3333333333333333,
              "#9c179e"
             ],
             [
              0.4444444444444444,
              "#bd3786"
             ],
             [
              0.5555555555555556,
              "#d8576b"
             ],
             [
              0.6666666666666666,
              "#ed7953"
             ],
             [
              0.7777777777777778,
              "#fb9f3a"
             ],
             [
              0.8888888888888888,
              "#fdca26"
             ],
             [
              1,
              "#f0f921"
             ]
            ],
            "type": "heatmap"
           }
          ],
          "heatmapgl": [
           {
            "colorbar": {
             "outlinewidth": 0,
             "ticks": ""
            },
            "colorscale": [
             [
              0,
              "#0d0887"
             ],
             [
              0.1111111111111111,
              "#46039f"
             ],
             [
              0.2222222222222222,
              "#7201a8"
             ],
             [
              0.3333333333333333,
              "#9c179e"
             ],
             [
              0.4444444444444444,
              "#bd3786"
             ],
             [
              0.5555555555555556,
              "#d8576b"
             ],
             [
              0.6666666666666666,
              "#ed7953"
             ],
             [
              0.7777777777777778,
              "#fb9f3a"
             ],
             [
              0.8888888888888888,
              "#fdca26"
             ],
             [
              1,
              "#f0f921"
             ]
            ],
            "type": "heatmapgl"
           }
          ],
          "histogram": [
           {
            "marker": {
             "pattern": {
              "fillmode": "overlay",
              "size": 10,
              "solidity": 0.2
             }
            },
            "type": "histogram"
           }
          ],
          "histogram2d": [
           {
            "colorbar": {
             "outlinewidth": 0,
             "ticks": ""
            },
            "colorscale": [
             [
              0,
              "#0d0887"
             ],
             [
              0.1111111111111111,
              "#46039f"
             ],
             [
              0.2222222222222222,
              "#7201a8"
             ],
             [
              0.3333333333333333,
              "#9c179e"
             ],
             [
              0.4444444444444444,
              "#bd3786"
             ],
             [
              0.5555555555555556,
              "#d8576b"
             ],
             [
              0.6666666666666666,
              "#ed7953"
             ],
             [
              0.7777777777777778,
              "#fb9f3a"
             ],
             [
              0.8888888888888888,
              "#fdca26"
             ],
             [
              1,
              "#f0f921"
             ]
            ],
            "type": "histogram2d"
           }
          ],
          "histogram2dcontour": [
           {
            "colorbar": {
             "outlinewidth": 0,
             "ticks": ""
            },
            "colorscale": [
             [
              0,
              "#0d0887"
             ],
             [
              0.1111111111111111,
              "#46039f"
             ],
             [
              0.2222222222222222,
              "#7201a8"
             ],
             [
              0.3333333333333333,
              "#9c179e"
             ],
             [
              0.4444444444444444,
              "#bd3786"
             ],
             [
              0.5555555555555556,
              "#d8576b"
             ],
             [
              0.6666666666666666,
              "#ed7953"
             ],
             [
              0.7777777777777778,
              "#fb9f3a"
             ],
             [
              0.8888888888888888,
              "#fdca26"
             ],
             [
              1,
              "#f0f921"
             ]
            ],
            "type": "histogram2dcontour"
           }
          ],
          "mesh3d": [
           {
            "colorbar": {
             "outlinewidth": 0,
             "ticks": ""
            },
            "type": "mesh3d"
           }
          ],
          "parcoords": [
           {
            "line": {
             "colorbar": {
              "outlinewidth": 0,
              "ticks": ""
             }
            },
            "type": "parcoords"
           }
          ],
          "pie": [
           {
            "automargin": true,
            "type": "pie"
           }
          ],
          "scatter": [
           {
            "fillpattern": {
             "fillmode": "overlay",
             "size": 10,
             "solidity": 0.2
            },
            "type": "scatter"
           }
          ],
          "scatter3d": [
           {
            "line": {
             "colorbar": {
              "outlinewidth": 0,
              "ticks": ""
             }
            },
            "marker": {
             "colorbar": {
              "outlinewidth": 0,
              "ticks": ""
             }
            },
            "type": "scatter3d"
           }
          ],
          "scattercarpet": [
           {
            "marker": {
             "colorbar": {
              "outlinewidth": 0,
              "ticks": ""
             }
            },
            "type": "scattercarpet"
           }
          ],
          "scattergeo": [
           {
            "marker": {
             "colorbar": {
              "outlinewidth": 0,
              "ticks": ""
             }
            },
            "type": "scattergeo"
           }
          ],
          "scattergl": [
           {
            "marker": {
             "colorbar": {
              "outlinewidth": 0,
              "ticks": ""
             }
            },
            "type": "scattergl"
           }
          ],
          "scattermapbox": [
           {
            "marker": {
             "colorbar": {
              "outlinewidth": 0,
              "ticks": ""
             }
            },
            "type": "scattermapbox"
           }
          ],
          "scatterpolar": [
           {
            "marker": {
             "colorbar": {
              "outlinewidth": 0,
              "ticks": ""
             }
            },
            "type": "scatterpolar"
           }
          ],
          "scatterpolargl": [
           {
            "marker": {
             "colorbar": {
              "outlinewidth": 0,
              "ticks": ""
             }
            },
            "type": "scatterpolargl"
           }
          ],
          "scatterternary": [
           {
            "marker": {
             "colorbar": {
              "outlinewidth": 0,
              "ticks": ""
             }
            },
            "type": "scatterternary"
           }
          ],
          "surface": [
           {
            "colorbar": {
             "outlinewidth": 0,
             "ticks": ""
            },
            "colorscale": [
             [
              0,
              "#0d0887"
             ],
             [
              0.1111111111111111,
              "#46039f"
             ],
             [
              0.2222222222222222,
              "#7201a8"
             ],
             [
              0.3333333333333333,
              "#9c179e"
             ],
             [
              0.4444444444444444,
              "#bd3786"
             ],
             [
              0.5555555555555556,
              "#d8576b"
             ],
             [
              0.6666666666666666,
              "#ed7953"
             ],
             [
              0.7777777777777778,
              "#fb9f3a"
             ],
             [
              0.8888888888888888,
              "#fdca26"
             ],
             [
              1,
              "#f0f921"
             ]
            ],
            "type": "surface"
           }
          ],
          "table": [
           {
            "cells": {
             "fill": {
              "color": "#EBF0F8"
             },
             "line": {
              "color": "white"
             }
            },
            "header": {
             "fill": {
              "color": "#C8D4E3"
             },
             "line": {
              "color": "white"
             }
            },
            "type": "table"
           }
          ]
         },
         "layout": {
          "annotationdefaults": {
           "arrowcolor": "#2a3f5f",
           "arrowhead": 0,
           "arrowwidth": 1
          },
          "autotypenumbers": "strict",
          "coloraxis": {
           "colorbar": {
            "outlinewidth": 0,
            "ticks": ""
           }
          },
          "colorscale": {
           "diverging": [
            [
             0,
             "#8e0152"
            ],
            [
             0.1,
             "#c51b7d"
            ],
            [
             0.2,
             "#de77ae"
            ],
            [
             0.3,
             "#f1b6da"
            ],
            [
             0.4,
             "#fde0ef"
            ],
            [
             0.5,
             "#f7f7f7"
            ],
            [
             0.6,
             "#e6f5d0"
            ],
            [
             0.7,
             "#b8e186"
            ],
            [
             0.8,
             "#7fbc41"
            ],
            [
             0.9,
             "#4d9221"
            ],
            [
             1,
             "#276419"
            ]
           ],
           "sequential": [
            [
             0,
             "#0d0887"
            ],
            [
             0.1111111111111111,
             "#46039f"
            ],
            [
             0.2222222222222222,
             "#7201a8"
            ],
            [
             0.3333333333333333,
             "#9c179e"
            ],
            [
             0.4444444444444444,
             "#bd3786"
            ],
            [
             0.5555555555555556,
             "#d8576b"
            ],
            [
             0.6666666666666666,
             "#ed7953"
            ],
            [
             0.7777777777777778,
             "#fb9f3a"
            ],
            [
             0.8888888888888888,
             "#fdca26"
            ],
            [
             1,
             "#f0f921"
            ]
           ],
           "sequentialminus": [
            [
             0,
             "#0d0887"
            ],
            [
             0.1111111111111111,
             "#46039f"
            ],
            [
             0.2222222222222222,
             "#7201a8"
            ],
            [
             0.3333333333333333,
             "#9c179e"
            ],
            [
             0.4444444444444444,
             "#bd3786"
            ],
            [
             0.5555555555555556,
             "#d8576b"
            ],
            [
             0.6666666666666666,
             "#ed7953"
            ],
            [
             0.7777777777777778,
             "#fb9f3a"
            ],
            [
             0.8888888888888888,
             "#fdca26"
            ],
            [
             1,
             "#f0f921"
            ]
           ]
          },
          "colorway": [
           "#636efa",
           "#EF553B",
           "#00cc96",
           "#ab63fa",
           "#FFA15A",
           "#19d3f3",
           "#FF6692",
           "#B6E880",
           "#FF97FF",
           "#FECB52"
          ],
          "font": {
           "color": "#2a3f5f"
          },
          "geo": {
           "bgcolor": "white",
           "lakecolor": "white",
           "landcolor": "#E5ECF6",
           "showlakes": true,
           "showland": true,
           "subunitcolor": "white"
          },
          "hoverlabel": {
           "align": "left"
          },
          "hovermode": "closest",
          "mapbox": {
           "style": "light"
          },
          "paper_bgcolor": "white",
          "plot_bgcolor": "#E5ECF6",
          "polar": {
           "angularaxis": {
            "gridcolor": "white",
            "linecolor": "white",
            "ticks": ""
           },
           "bgcolor": "#E5ECF6",
           "radialaxis": {
            "gridcolor": "white",
            "linecolor": "white",
            "ticks": ""
           }
          },
          "scene": {
           "xaxis": {
            "backgroundcolor": "#E5ECF6",
            "gridcolor": "white",
            "gridwidth": 2,
            "linecolor": "white",
            "showbackground": true,
            "ticks": "",
            "zerolinecolor": "white"
           },
           "yaxis": {
            "backgroundcolor": "#E5ECF6",
            "gridcolor": "white",
            "gridwidth": 2,
            "linecolor": "white",
            "showbackground": true,
            "ticks": "",
            "zerolinecolor": "white"
           },
           "zaxis": {
            "backgroundcolor": "#E5ECF6",
            "gridcolor": "white",
            "gridwidth": 2,
            "linecolor": "white",
            "showbackground": true,
            "ticks": "",
            "zerolinecolor": "white"
           }
          },
          "shapedefaults": {
           "line": {
            "color": "#2a3f5f"
           }
          },
          "ternary": {
           "aaxis": {
            "gridcolor": "white",
            "linecolor": "white",
            "ticks": ""
           },
           "baxis": {
            "gridcolor": "white",
            "linecolor": "white",
            "ticks": ""
           },
           "bgcolor": "#E5ECF6",
           "caxis": {
            "gridcolor": "white",
            "linecolor": "white",
            "ticks": ""
           }
          },
          "title": {
           "x": 0.05
          },
          "xaxis": {
           "automargin": true,
           "gridcolor": "white",
           "linecolor": "white",
           "ticks": "",
           "title": {
            "standoff": 15
           },
           "zerolinecolor": "white",
           "zerolinewidth": 2
          },
          "yaxis": {
           "automargin": true,
           "gridcolor": "white",
           "linecolor": "white",
           "ticks": "",
           "title": {
            "standoff": 15
           },
           "zerolinecolor": "white",
           "zerolinewidth": 2
          }
         }
        },
        "title": {
         "text": "World - all vessel type"
        },
        "xaxis": {
         "anchor": "y",
         "domain": [
          0,
          0.94
         ],
         "title": {
          "text": "Date"
         }
        },
        "yaxis": {
         "anchor": "x",
         "domain": [
          0,
          1
         ],
         "title": {
          "text": "<b>primary</b> Number of port calls"
         }
        },
        "yaxis2": {
         "anchor": "x",
         "overlaying": "y",
         "side": "right",
         "title": {
          "text": "<b>secondary</b> New covid cases"
         }
        }
       }
      },
      "text/html": [
       "<div>                            <div id=\"4fff75bf-d61c-471c-b476-17777c442c89\" class=\"plotly-graph-div\" style=\"height:525px; width:100%;\"></div>            <script type=\"text/javascript\">                require([\"plotly\"], function(Plotly) {                    window.PLOTLYENV=window.PLOTLYENV || {};                                    if (document.getElementById(\"4fff75bf-d61c-471c-b476-17777c442c89\")) {                    Plotly.newPlot(                        \"4fff75bf-d61c-471c-b476-17777c442c89\",                        [{\"name\":\"Number of port calls\",\"x\":[\"2018-07-31\",\"2019-01-31\",\"2019-07-31\",\"2020-01-31\",\"2020-07-31\",\"2021-01-31\",\"2021-07-31\",\"2022-01-31\",\"2022-07-31\"],\"y\":[1984908,2128036,2091516,2271221,1863718,2043269,2011317,2275694,2160862],\"type\":\"scatter\",\"xaxis\":\"x\",\"yaxis\":\"y\"},{\"name\":\"New covid cases\",\"x\":[\"2018-07-31\",\"2019-01-31\",\"2019-07-31\",\"2020-01-31\",\"2020-07-31\",\"2021-01-31\",\"2021-07-31\",\"2022-01-31\",\"2022-07-31\"],\"y\":[null,null,null,null,17365906.0,85324365.0,94959285.0,179182964.0,198097947.0],\"type\":\"scatter\",\"xaxis\":\"x\",\"yaxis\":\"y2\"}],                        {\"template\":{\"data\":{\"histogram2dcontour\":[{\"type\":\"histogram2dcontour\",\"colorbar\":{\"outlinewidth\":0,\"ticks\":\"\"},\"colorscale\":[[0.0,\"#0d0887\"],[0.1111111111111111,\"#46039f\"],[0.2222222222222222,\"#7201a8\"],[0.3333333333333333,\"#9c179e\"],[0.4444444444444444,\"#bd3786\"],[0.5555555555555556,\"#d8576b\"],[0.6666666666666666,\"#ed7953\"],[0.7777777777777778,\"#fb9f3a\"],[0.8888888888888888,\"#fdca26\"],[1.0,\"#f0f921\"]]}],\"choropleth\":[{\"type\":\"choropleth\",\"colorbar\":{\"outlinewidth\":0,\"ticks\":\"\"}}],\"histogram2d\":[{\"type\":\"histogram2d\",\"colorbar\":{\"outlinewidth\":0,\"ticks\":\"\"},\"colorscale\":[[0.0,\"#0d0887\"],[0.1111111111111111,\"#46039f\"],[0.2222222222222222,\"#7201a8\"],[0.3333333333333333,\"#9c179e\"],[0.4444444444444444,\"#bd3786\"],[0.5555555555555556,\"#d8576b\"],[0.6666666666666666,\"#ed7953\"],[0.7777777777777778,\"#fb9f3a\"],[0.8888888888888888,\"#fdca26\"],[1.0,\"#f0f921\"]]}],\"heatmap\":[{\"type\":\"heatmap\",\"colorbar\":{\"outlinewidth\":0,\"ticks\":\"\"},\"colorscale\":[[0.0,\"#0d0887\"],[0.1111111111111111,\"#46039f\"],[0.2222222222222222,\"#7201a8\"],[0.3333333333333333,\"#9c179e\"],[0.4444444444444444,\"#bd3786\"],[0.5555555555555556,\"#d8576b\"],[0.6666666666666666,\"#ed7953\"],[0.7777777777777778,\"#fb9f3a\"],[0.8888888888888888,\"#fdca26\"],[1.0,\"#f0f921\"]]}],\"heatmapgl\":[{\"type\":\"heatmapgl\",\"colorbar\":{\"outlinewidth\":0,\"ticks\":\"\"},\"colorscale\":[[0.0,\"#0d0887\"],[0.1111111111111111,\"#46039f\"],[0.2222222222222222,\"#7201a8\"],[0.3333333333333333,\"#9c179e\"],[0.4444444444444444,\"#bd3786\"],[0.5555555555555556,\"#d8576b\"],[0.6666666666666666,\"#ed7953\"],[0.7777777777777778,\"#fb9f3a\"],[0.8888888888888888,\"#fdca26\"],[1.0,\"#f0f921\"]]}],\"contourcarpet\":[{\"type\":\"contourcarpet\",\"colorbar\":{\"outlinewidth\":0,\"ticks\":\"\"}}],\"contour\":[{\"type\":\"contour\",\"colorbar\":{\"outlinewidth\":0,\"ticks\":\"\"},\"colorscale\":[[0.0,\"#0d0887\"],[0.1111111111111111,\"#46039f\"],[0.2222222222222222,\"#7201a8\"],[0.3333333333333333,\"#9c179e\"],[0.4444444444444444,\"#bd3786\"],[0.5555555555555556,\"#d8576b\"],[0.6666666666666666,\"#ed7953\"],[0.7777777777777778,\"#fb9f3a\"],[0.8888888888888888,\"#fdca26\"],[1.0,\"#f0f921\"]]}],\"surface\":[{\"type\":\"surface\",\"colorbar\":{\"outlinewidth\":0,\"ticks\":\"\"},\"colorscale\":[[0.0,\"#0d0887\"],[0.1111111111111111,\"#46039f\"],[0.2222222222222222,\"#7201a8\"],[0.3333333333333333,\"#9c179e\"],[0.4444444444444444,\"#bd3786\"],[0.5555555555555556,\"#d8576b\"],[0.6666666666666666,\"#ed7953\"],[0.7777777777777778,\"#fb9f3a\"],[0.8888888888888888,\"#fdca26\"],[1.0,\"#f0f921\"]]}],\"mesh3d\":[{\"type\":\"mesh3d\",\"colorbar\":{\"outlinewidth\":0,\"ticks\":\"\"}}],\"scatter\":[{\"fillpattern\":{\"fillmode\":\"overlay\",\"size\":10,\"solidity\":0.2},\"type\":\"scatter\"}],\"parcoords\":[{\"type\":\"parcoords\",\"line\":{\"colorbar\":{\"outlinewidth\":0,\"ticks\":\"\"}}}],\"scatterpolargl\":[{\"type\":\"scatterpolargl\",\"marker\":{\"colorbar\":{\"outlinewidth\":0,\"ticks\":\"\"}}}],\"bar\":[{\"error_x\":{\"color\":\"#2a3f5f\"},\"error_y\":{\"color\":\"#2a3f5f\"},\"marker\":{\"line\":{\"color\":\"#E5ECF6\",\"width\":0.5},\"pattern\":{\"fillmode\":\"overlay\",\"size\":10,\"solidity\":0.2}},\"type\":\"bar\"}],\"scattergeo\":[{\"type\":\"scattergeo\",\"marker\":{\"colorbar\":{\"outlinewidth\":0,\"ticks\":\"\"}}}],\"scatterpolar\":[{\"type\":\"scatterpolar\",\"marker\":{\"colorbar\":{\"outlinewidth\":0,\"ticks\":\"\"}}}],\"histogram\":[{\"marker\":{\"pattern\":{\"fillmode\":\"overlay\",\"size\":10,\"solidity\":0.2}},\"type\":\"histogram\"}],\"scattergl\":[{\"type\":\"scattergl\",\"marker\":{\"colorbar\":{\"outlinewidth\":0,\"ticks\":\"\"}}}],\"scatter3d\":[{\"type\":\"scatter3d\",\"line\":{\"colorbar\":{\"outlinewidth\":0,\"ticks\":\"\"}},\"marker\":{\"colorbar\":{\"outlinewidth\":0,\"ticks\":\"\"}}}],\"scattermapbox\":[{\"type\":\"scattermapbox\",\"marker\":{\"colorbar\":{\"outlinewidth\":0,\"ticks\":\"\"}}}],\"scatterternary\":[{\"type\":\"scatterternary\",\"marker\":{\"colorbar\":{\"outlinewidth\":0,\"ticks\":\"\"}}}],\"scattercarpet\":[{\"type\":\"scattercarpet\",\"marker\":{\"colorbar\":{\"outlinewidth\":0,\"ticks\":\"\"}}}],\"carpet\":[{\"aaxis\":{\"endlinecolor\":\"#2a3f5f\",\"gridcolor\":\"white\",\"linecolor\":\"white\",\"minorgridcolor\":\"white\",\"startlinecolor\":\"#2a3f5f\"},\"baxis\":{\"endlinecolor\":\"#2a3f5f\",\"gridcolor\":\"white\",\"linecolor\":\"white\",\"minorgridcolor\":\"white\",\"startlinecolor\":\"#2a3f5f\"},\"type\":\"carpet\"}],\"table\":[{\"cells\":{\"fill\":{\"color\":\"#EBF0F8\"},\"line\":{\"color\":\"white\"}},\"header\":{\"fill\":{\"color\":\"#C8D4E3\"},\"line\":{\"color\":\"white\"}},\"type\":\"table\"}],\"barpolar\":[{\"marker\":{\"line\":{\"color\":\"#E5ECF6\",\"width\":0.5},\"pattern\":{\"fillmode\":\"overlay\",\"size\":10,\"solidity\":0.2}},\"type\":\"barpolar\"}],\"pie\":[{\"automargin\":true,\"type\":\"pie\"}]},\"layout\":{\"autotypenumbers\":\"strict\",\"colorway\":[\"#636efa\",\"#EF553B\",\"#00cc96\",\"#ab63fa\",\"#FFA15A\",\"#19d3f3\",\"#FF6692\",\"#B6E880\",\"#FF97FF\",\"#FECB52\"],\"font\":{\"color\":\"#2a3f5f\"},\"hovermode\":\"closest\",\"hoverlabel\":{\"align\":\"left\"},\"paper_bgcolor\":\"white\",\"plot_bgcolor\":\"#E5ECF6\",\"polar\":{\"bgcolor\":\"#E5ECF6\",\"angularaxis\":{\"gridcolor\":\"white\",\"linecolor\":\"white\",\"ticks\":\"\"},\"radialaxis\":{\"gridcolor\":\"white\",\"linecolor\":\"white\",\"ticks\":\"\"}},\"ternary\":{\"bgcolor\":\"#E5ECF6\",\"aaxis\":{\"gridcolor\":\"white\",\"linecolor\":\"white\",\"ticks\":\"\"},\"baxis\":{\"gridcolor\":\"white\",\"linecolor\":\"white\",\"ticks\":\"\"},\"caxis\":{\"gridcolor\":\"white\",\"linecolor\":\"white\",\"ticks\":\"\"}},\"coloraxis\":{\"colorbar\":{\"outlinewidth\":0,\"ticks\":\"\"}},\"colorscale\":{\"sequential\":[[0.0,\"#0d0887\"],[0.1111111111111111,\"#46039f\"],[0.2222222222222222,\"#7201a8\"],[0.3333333333333333,\"#9c179e\"],[0.4444444444444444,\"#bd3786\"],[0.5555555555555556,\"#d8576b\"],[0.6666666666666666,\"#ed7953\"],[0.7777777777777778,\"#fb9f3a\"],[0.8888888888888888,\"#fdca26\"],[1.0,\"#f0f921\"]],\"sequentialminus\":[[0.0,\"#0d0887\"],[0.1111111111111111,\"#46039f\"],[0.2222222222222222,\"#7201a8\"],[0.3333333333333333,\"#9c179e\"],[0.4444444444444444,\"#bd3786\"],[0.5555555555555556,\"#d8576b\"],[0.6666666666666666,\"#ed7953\"],[0.7777777777777778,\"#fb9f3a\"],[0.8888888888888888,\"#fdca26\"],[1.0,\"#f0f921\"]],\"diverging\":[[0,\"#8e0152\"],[0.1,\"#c51b7d\"],[0.2,\"#de77ae\"],[0.3,\"#f1b6da\"],[0.4,\"#fde0ef\"],[0.5,\"#f7f7f7\"],[0.6,\"#e6f5d0\"],[0.7,\"#b8e186\"],[0.8,\"#7fbc41\"],[0.9,\"#4d9221\"],[1,\"#276419\"]]},\"xaxis\":{\"gridcolor\":\"white\",\"linecolor\":\"white\",\"ticks\":\"\",\"title\":{\"standoff\":15},\"zerolinecolor\":\"white\",\"automargin\":true,\"zerolinewidth\":2},\"yaxis\":{\"gridcolor\":\"white\",\"linecolor\":\"white\",\"ticks\":\"\",\"title\":{\"standoff\":15},\"zerolinecolor\":\"white\",\"automargin\":true,\"zerolinewidth\":2},\"scene\":{\"xaxis\":{\"backgroundcolor\":\"#E5ECF6\",\"gridcolor\":\"white\",\"linecolor\":\"white\",\"showbackground\":true,\"ticks\":\"\",\"zerolinecolor\":\"white\",\"gridwidth\":2},\"yaxis\":{\"backgroundcolor\":\"#E5ECF6\",\"gridcolor\":\"white\",\"linecolor\":\"white\",\"showbackground\":true,\"ticks\":\"\",\"zerolinecolor\":\"white\",\"gridwidth\":2},\"zaxis\":{\"backgroundcolor\":\"#E5ECF6\",\"gridcolor\":\"white\",\"linecolor\":\"white\",\"showbackground\":true,\"ticks\":\"\",\"zerolinecolor\":\"white\",\"gridwidth\":2}},\"shapedefaults\":{\"line\":{\"color\":\"#2a3f5f\"}},\"annotationdefaults\":{\"arrowcolor\":\"#2a3f5f\",\"arrowhead\":0,\"arrowwidth\":1},\"geo\":{\"bgcolor\":\"white\",\"landcolor\":\"#E5ECF6\",\"subunitcolor\":\"white\",\"showland\":true,\"showlakes\":true,\"lakecolor\":\"white\"},\"title\":{\"x\":0.05},\"mapbox\":{\"style\":\"light\"}}},\"xaxis\":{\"anchor\":\"y\",\"domain\":[0.0,0.94],\"title\":{\"text\":\"Date\"}},\"yaxis\":{\"anchor\":\"x\",\"domain\":[0.0,1.0],\"title\":{\"text\":\"<b>primary</b> Number of port calls\"}},\"yaxis2\":{\"anchor\":\"x\",\"overlaying\":\"y\",\"side\":\"right\",\"title\":{\"text\":\"<b>secondary</b> New covid cases\"}},\"title\":{\"text\":\"World - all vessel type\"}},                        {\"responsive\": true}                    ).then(function(){\n",
       "                            \n",
       "var gd = document.getElementById('4fff75bf-d61c-471c-b476-17777c442c89');\n",
       "var x = new MutationObserver(function (mutations, observer) {{\n",
       "        var display = window.getComputedStyle(gd).display;\n",
       "        if (!display || display === 'none') {{\n",
       "            console.log([gd, 'removed!']);\n",
       "            Plotly.purge(gd);\n",
       "            observer.disconnect();\n",
       "        }}\n",
       "}});\n",
       "\n",
       "// Listen for the removal of the full notebook cells\n",
       "var notebookContainer = gd.closest('#notebook-container');\n",
       "if (notebookContainer) {{\n",
       "    x.observe(notebookContainer, {childList: true});\n",
       "}}\n",
       "\n",
       "// Listen for the clearing of the current output cell\n",
       "var outputEl = gd.closest('.output');\n",
       "if (outputEl) {{\n",
       "    x.observe(outputEl, {childList: true});\n",
       "}}\n",
       "\n",
       "                        })                };                });            </script>        </div>"
      ]
     },
     "metadata": {},
     "output_type": "display_data"
    }
   ],
   "source": [
    "df_combined_world_calls = df_combined_world_calls[df_combined_world_calls['Vessel_Type'] == 'All ships']\n",
    "\n",
    "# Create figure with secondary y-axis\n",
    "fig = make_subplots(specs=[[{\"secondary_y\": True}]])\n",
    "\n",
    "# Add traces\n",
    "fig.add_trace(\n",
    "    go.Scatter(x=df_combined_world_calls['date'], y=df_combined_world_calls['Number of port calls'], name=\"Number of port calls\"),\n",
    "    secondary_y=False,\n",
    ")\n",
    "\n",
    "fig.add_trace(\n",
    "    go.Scatter(x=df_combined_world_calls['date'], y=df_combined_world_calls['new_cases'], name=\"New covid cases\"),\n",
    "    secondary_y=True,\n",
    ")\n",
    "\n",
    "# Add figure title\n",
    "fig.update_layout(\n",
    "    title_text=\"World - all vessel type\"\n",
    ")\n",
    "\n",
    "# Set x-axis title\n",
    "fig.update_xaxes(title_text=\"Date\")\n",
    "\n",
    "# Set y-axes titles\n",
    "fig.update_yaxes(title_text=\"<b>primary</b> Number of port calls\", secondary_y=False)\n",
    "fig.update_yaxes(title_text=\"<b>secondary</b> New covid cases\", secondary_y=True)\n",
    "\n",
    "fig.show()"
   ]
  },
  {
   "cell_type": "code",
   "execution_count": 124,
   "metadata": {},
   "outputs": [],
   "source": [
    "# from scipy import stats\n",
    "\n",
    "# df_combined_world_calls = df_combined_world_calls.dropna(subset=['new_cases'])\n",
    "# data3 = df_combined_world_calls['new_cases']\n",
    "# data4 = df_combined_world_calls['Number of port calls']\n",
    "# print(\"The pearson correlation data for the whole world is (Pearson's correlation coefficient r, P-value):\")\n",
    "# stats.pearsonr(data3, data4)"
   ]
  },
  {
   "cell_type": "markdown",
   "metadata": {},
   "source": [
    "## Part III - Data visualisation\n",
    "\n",
    "For this last part, we're going to visually show the effect that COVID had on vessel times so that users can see how ports have been impacted by COVID and thus has also impacted the logistics system as a whole by: \n",
    "\n",
    "We're going to look at regions and look at the semi annual trend by vessel type \n",
    "\n",
    "pie chart showing the proportions of the commodity shipped\n",
    "\n",
    "World map showing the change in port call times over the years \n",
    "\n",
    "Comparing covid high periods vs low periods with port call times \n",
    "\n",
    "Interpreting the results \n",
    "\n",
    "First, We show our variables for this part."
   ]
  },
  {
   "cell_type": "markdown",
   "metadata": {},
   "source": [
    "We want to show the COVID data with the port time (worldwide)"
   ]
  },
  {
   "cell_type": "code",
   "execution_count": 125,
   "metadata": {},
   "outputs": [
    {
     "ename": "KeyError",
     "evalue": "'Period Label'",
     "output_type": "error",
     "traceback": [
      "\u001b[0;31m---------------------------------------------------------------------------\u001b[0m",
      "\u001b[0;31mKeyError\u001b[0m                                  Traceback (most recent call last)",
      "File \u001b[0;32m~/miniforge3/envs/TIL6022/lib/python3.9/site-packages/pandas/core/indexes/base.py:3629\u001b[0m, in \u001b[0;36mIndex.get_loc\u001b[0;34m(self, key, method, tolerance)\u001b[0m\n\u001b[1;32m   3628\u001b[0m \u001b[38;5;28;01mtry\u001b[39;00m:\n\u001b[0;32m-> 3629\u001b[0m     \u001b[38;5;28;01mreturn\u001b[39;00m \u001b[38;5;28;43mself\u001b[39;49m\u001b[38;5;241;43m.\u001b[39;49m\u001b[43m_engine\u001b[49m\u001b[38;5;241;43m.\u001b[39;49m\u001b[43mget_loc\u001b[49m\u001b[43m(\u001b[49m\u001b[43mcasted_key\u001b[49m\u001b[43m)\u001b[49m\n\u001b[1;32m   3630\u001b[0m \u001b[38;5;28;01mexcept\u001b[39;00m \u001b[38;5;167;01mKeyError\u001b[39;00m \u001b[38;5;28;01mas\u001b[39;00m err:\n",
      "File \u001b[0;32m~/miniforge3/envs/TIL6022/lib/python3.9/site-packages/pandas/_libs/index.pyx:136\u001b[0m, in \u001b[0;36mpandas._libs.index.IndexEngine.get_loc\u001b[0;34m()\u001b[0m\n",
      "File \u001b[0;32m~/miniforge3/envs/TIL6022/lib/python3.9/site-packages/pandas/_libs/index.pyx:163\u001b[0m, in \u001b[0;36mpandas._libs.index.IndexEngine.get_loc\u001b[0;34m()\u001b[0m\n",
      "File \u001b[0;32mpandas/_libs/hashtable_class_helper.pxi:5198\u001b[0m, in \u001b[0;36mpandas._libs.hashtable.PyObjectHashTable.get_item\u001b[0;34m()\u001b[0m\n",
      "File \u001b[0;32mpandas/_libs/hashtable_class_helper.pxi:5206\u001b[0m, in \u001b[0;36mpandas._libs.hashtable.PyObjectHashTable.get_item\u001b[0;34m()\u001b[0m\n",
      "\u001b[0;31mKeyError\u001b[0m: 'Period Label'",
      "\nThe above exception was the direct cause of the following exception:\n",
      "\u001b[0;31mKeyError\u001b[0m                                  Traceback (most recent call last)",
      "Cell \u001b[0;32mIn [125], line 4\u001b[0m\n\u001b[1;32m      1\u001b[0m \u001b[38;5;66;03m# First, I'll make a graph of all covid data in the world\u001b[39;00m\n\u001b[1;32m      2\u001b[0m fig_5 \u001b[38;5;241m=\u001b[39m go\u001b[38;5;241m.\u001b[39mFigure()\n\u001b[0;32m----> 4\u001b[0m x1 \u001b[38;5;241m=\u001b[39m \u001b[43mdf_ports\u001b[49m\u001b[43m[\u001b[49m\u001b[38;5;124;43m'\u001b[39;49m\u001b[38;5;124;43mPeriod Label\u001b[39;49m\u001b[38;5;124;43m'\u001b[39;49m\u001b[43m]\u001b[49m\n\u001b[1;32m      5\u001b[0m y1 \u001b[38;5;241m=\u001b[39m df_ports[\u001b[38;5;124m'\u001b[39m\u001b[38;5;124mMedian time in port (days)\u001b[39m\u001b[38;5;124m'\u001b[39m]\n\u001b[1;32m      6\u001b[0m fig_5\u001b[38;5;241m.\u001b[39madd_trace(go\u001b[38;5;241m.\u001b[39mScatter(x\u001b[38;5;241m=\u001b[39mx1,y\u001b[38;5;241m=\u001b[39my1, name\u001b[38;5;241m=\u001b[39mactivity_5))\n",
      "File \u001b[0;32m~/miniforge3/envs/TIL6022/lib/python3.9/site-packages/pandas/core/frame.py:3505\u001b[0m, in \u001b[0;36mDataFrame.__getitem__\u001b[0;34m(self, key)\u001b[0m\n\u001b[1;32m   3503\u001b[0m \u001b[38;5;28;01mif\u001b[39;00m \u001b[38;5;28mself\u001b[39m\u001b[38;5;241m.\u001b[39mcolumns\u001b[38;5;241m.\u001b[39mnlevels \u001b[38;5;241m>\u001b[39m \u001b[38;5;241m1\u001b[39m:\n\u001b[1;32m   3504\u001b[0m     \u001b[38;5;28;01mreturn\u001b[39;00m \u001b[38;5;28mself\u001b[39m\u001b[38;5;241m.\u001b[39m_getitem_multilevel(key)\n\u001b[0;32m-> 3505\u001b[0m indexer \u001b[38;5;241m=\u001b[39m \u001b[38;5;28;43mself\u001b[39;49m\u001b[38;5;241;43m.\u001b[39;49m\u001b[43mcolumns\u001b[49m\u001b[38;5;241;43m.\u001b[39;49m\u001b[43mget_loc\u001b[49m\u001b[43m(\u001b[49m\u001b[43mkey\u001b[49m\u001b[43m)\u001b[49m\n\u001b[1;32m   3506\u001b[0m \u001b[38;5;28;01mif\u001b[39;00m is_integer(indexer):\n\u001b[1;32m   3507\u001b[0m     indexer \u001b[38;5;241m=\u001b[39m [indexer]\n",
      "File \u001b[0;32m~/miniforge3/envs/TIL6022/lib/python3.9/site-packages/pandas/core/indexes/base.py:3631\u001b[0m, in \u001b[0;36mIndex.get_loc\u001b[0;34m(self, key, method, tolerance)\u001b[0m\n\u001b[1;32m   3629\u001b[0m     \u001b[38;5;28;01mreturn\u001b[39;00m \u001b[38;5;28mself\u001b[39m\u001b[38;5;241m.\u001b[39m_engine\u001b[38;5;241m.\u001b[39mget_loc(casted_key)\n\u001b[1;32m   3630\u001b[0m \u001b[38;5;28;01mexcept\u001b[39;00m \u001b[38;5;167;01mKeyError\u001b[39;00m \u001b[38;5;28;01mas\u001b[39;00m err:\n\u001b[0;32m-> 3631\u001b[0m     \u001b[38;5;28;01mraise\u001b[39;00m \u001b[38;5;167;01mKeyError\u001b[39;00m(key) \u001b[38;5;28;01mfrom\u001b[39;00m \u001b[38;5;21;01merr\u001b[39;00m\n\u001b[1;32m   3632\u001b[0m \u001b[38;5;28;01mexcept\u001b[39;00m \u001b[38;5;167;01mTypeError\u001b[39;00m:\n\u001b[1;32m   3633\u001b[0m     \u001b[38;5;66;03m# If we have a listlike key, _check_indexing_error will raise\u001b[39;00m\n\u001b[1;32m   3634\u001b[0m     \u001b[38;5;66;03m#  InvalidIndexError. Otherwise we fall through and re-raise\u001b[39;00m\n\u001b[1;32m   3635\u001b[0m     \u001b[38;5;66;03m#  the TypeError.\u001b[39;00m\n\u001b[1;32m   3636\u001b[0m     \u001b[38;5;28mself\u001b[39m\u001b[38;5;241m.\u001b[39m_check_indexing_error(key)\n",
      "\u001b[0;31mKeyError\u001b[0m: 'Period Label'"
     ]
    }
   ],
   "source": [
    "# First, I'll make a graph of all covid data in the world\n",
    "fig_5 = go.Figure()\n",
    "\n",
    "x1 = df_ports['Period Label']\n",
    "y1 = df_ports['Median time in port (days)']\n",
    "fig_5.add_trace(go.Scatter(x=x1,y=y1, name=activity_5))\n",
    "\n",
    "\n",
    "fig_5.update_layout(title='Covid data in world')\n",
    "fig_5.show()"
   ]
  },
  {
   "cell_type": "markdown",
   "metadata": {},
   "source": [
    "Now we will show over the years from 2018, the number of port calls by region"
   ]
  },
  {
   "cell_type": "code",
   "execution_count": 126,
   "metadata": {
    "scrolled": true
   },
   "outputs": [
    {
     "ename": "ValueError",
     "evalue": "Value of 'y' is not the name of a column in 'data_frame'. Expected one of ['Year', 'country', 'Vessel_Type', 'Median time in port (days)', 'Average age of vessels', 'Average size (GT) of vessels', 'Maximum size (GT) of vessels', 'Average cargo carrying capacity (dwt) per vessel', 'Maximum cargo carrying capacity (dwt) of vessels', 'Average container carrying capacity (TEU) per container ship', 'Maximum container carrying capacity (TEU) of container ships', 'date'] but received: Location",
     "output_type": "error",
     "traceback": [
      "\u001b[0;31m---------------------------------------------------------------------------\u001b[0m",
      "\u001b[0;31mValueError\u001b[0m                                Traceback (most recent call last)",
      "Cell \u001b[0;32mIn [126], line 1\u001b[0m\n\u001b[0;32m----> 1\u001b[0m fig \u001b[38;5;241m=\u001b[39m \u001b[43mpx\u001b[49m\u001b[38;5;241;43m.\u001b[39;49m\u001b[43mhistogram\u001b[49m\u001b[43m(\u001b[49m\u001b[43mdf_ports\u001b[49m\u001b[43m,\u001b[49m\u001b[43m \u001b[49m\u001b[43my\u001b[49m\u001b[38;5;241;43m=\u001b[39;49m\u001b[38;5;124;43m\"\u001b[39;49m\u001b[38;5;124;43mLocation\u001b[39;49m\u001b[38;5;124;43m\"\u001b[39;49m\u001b[43m,\u001b[49m\u001b[43m \u001b[49m\u001b[43mx\u001b[49m\u001b[38;5;241;43m=\u001b[39;49m\u001b[38;5;124;43m\"\u001b[39;49m\u001b[38;5;124;43mMedian time in port (days)\u001b[39;49m\u001b[38;5;124;43m\"\u001b[39;49m\u001b[43m,\u001b[49m\u001b[43m \u001b[49m\u001b[43morientation\u001b[49m\u001b[38;5;241;43m=\u001b[39;49m\u001b[43m \u001b[49m\u001b[38;5;124;43m\"\u001b[39;49m\u001b[38;5;124;43mh\u001b[39;49m\u001b[38;5;124;43m\"\u001b[39;49m\u001b[43m,\u001b[49m\n\u001b[1;32m      2\u001b[0m \u001b[43m            \u001b[49m\u001b[43manimation_frame\u001b[49m\u001b[38;5;241;43m=\u001b[39;49m\u001b[38;5;124;43m\"\u001b[39;49m\u001b[38;5;124;43mPeriod Label\u001b[39;49m\u001b[38;5;124;43m\"\u001b[39;49m\u001b[43m,\u001b[49m\u001b[43m \u001b[49m\n\u001b[1;32m      3\u001b[0m \u001b[43m            \u001b[49m\u001b[38;5;66;43;03m#range_x=[0,4000000000], \u001b[39;49;00m\n\u001b[1;32m      4\u001b[0m \u001b[43m               \u001b[49m\u001b[43mcolor\u001b[49m\u001b[38;5;241;43m=\u001b[39;49m\u001b[38;5;124;43m\"\u001b[39;49m\u001b[38;5;124;43mLocation\u001b[39;49m\u001b[38;5;124;43m\"\u001b[39;49m\u001b[43m,\u001b[49m\u001b[43m)\u001b[49m\n\u001b[1;32m      5\u001b[0m fig\u001b[38;5;241m.\u001b[39mupdate_yaxes(categoryorder\u001b[38;5;241m=\u001b[39m\u001b[38;5;124m'\u001b[39m\u001b[38;5;124msum ascending\u001b[39m\u001b[38;5;124m'\u001b[39m)\n\u001b[1;32m      7\u001b[0m fig\u001b[38;5;241m.\u001b[39mshow()\n",
      "File \u001b[0;32m~/miniforge3/envs/TIL6022/lib/python3.9/site-packages/plotly/express/_chart_types.py:480\u001b[0m, in \u001b[0;36mhistogram\u001b[0;34m(data_frame, x, y, color, pattern_shape, facet_row, facet_col, facet_col_wrap, facet_row_spacing, facet_col_spacing, hover_name, hover_data, animation_frame, animation_group, category_orders, labels, color_discrete_sequence, color_discrete_map, pattern_shape_sequence, pattern_shape_map, marginal, opacity, orientation, barmode, barnorm, histnorm, log_x, log_y, range_x, range_y, histfunc, cumulative, nbins, text_auto, title, template, width, height)\u001b[0m\n\u001b[1;32m    434\u001b[0m \u001b[38;5;28;01mdef\u001b[39;00m \u001b[38;5;21mhistogram\u001b[39m(\n\u001b[1;32m    435\u001b[0m     data_frame\u001b[38;5;241m=\u001b[39m\u001b[38;5;28;01mNone\u001b[39;00m,\n\u001b[1;32m    436\u001b[0m     x\u001b[38;5;241m=\u001b[39m\u001b[38;5;28;01mNone\u001b[39;00m,\n\u001b[0;32m   (...)\u001b[0m\n\u001b[1;32m    472\u001b[0m     height\u001b[38;5;241m=\u001b[39m\u001b[38;5;28;01mNone\u001b[39;00m,\n\u001b[1;32m    473\u001b[0m ) \u001b[38;5;241m-\u001b[39m\u001b[38;5;241m>\u001b[39m go\u001b[38;5;241m.\u001b[39mFigure:\n\u001b[1;32m    474\u001b[0m     \u001b[38;5;124;03m\"\"\"\u001b[39;00m\n\u001b[1;32m    475\u001b[0m \u001b[38;5;124;03m    In a histogram, rows of `data_frame` are grouped together into a\u001b[39;00m\n\u001b[1;32m    476\u001b[0m \u001b[38;5;124;03m    rectangular mark to visualize the 1D distribution of an aggregate\u001b[39;00m\n\u001b[1;32m    477\u001b[0m \u001b[38;5;124;03m    function `histfunc` (e.g. the count or sum) of the value `y` (or `x` if\u001b[39;00m\n\u001b[1;32m    478\u001b[0m \u001b[38;5;124;03m    `orientation` is `'h'`).\u001b[39;00m\n\u001b[1;32m    479\u001b[0m \u001b[38;5;124;03m    \"\"\"\u001b[39;00m\n\u001b[0;32m--> 480\u001b[0m     \u001b[38;5;28;01mreturn\u001b[39;00m \u001b[43mmake_figure\u001b[49m\u001b[43m(\u001b[49m\n\u001b[1;32m    481\u001b[0m \u001b[43m        \u001b[49m\u001b[43margs\u001b[49m\u001b[38;5;241;43m=\u001b[39;49m\u001b[38;5;28;43mlocals\u001b[39;49m\u001b[43m(\u001b[49m\u001b[43m)\u001b[49m\u001b[43m,\u001b[49m\n\u001b[1;32m    482\u001b[0m \u001b[43m        \u001b[49m\u001b[43mconstructor\u001b[49m\u001b[38;5;241;43m=\u001b[39;49m\u001b[43mgo\u001b[49m\u001b[38;5;241;43m.\u001b[39;49m\u001b[43mHistogram\u001b[49m\u001b[43m,\u001b[49m\n\u001b[1;32m    483\u001b[0m \u001b[43m        \u001b[49m\u001b[43mtrace_patch\u001b[49m\u001b[38;5;241;43m=\u001b[39;49m\u001b[38;5;28;43mdict\u001b[39;49m\u001b[43m(\u001b[49m\n\u001b[1;32m    484\u001b[0m \u001b[43m            \u001b[49m\u001b[43mhistnorm\u001b[49m\u001b[38;5;241;43m=\u001b[39;49m\u001b[43mhistnorm\u001b[49m\u001b[43m,\u001b[49m\n\u001b[1;32m    485\u001b[0m \u001b[43m            \u001b[49m\u001b[43mhistfunc\u001b[49m\u001b[38;5;241;43m=\u001b[39;49m\u001b[43mhistfunc\u001b[49m\u001b[43m,\u001b[49m\n\u001b[1;32m    486\u001b[0m \u001b[43m            \u001b[49m\u001b[43mcumulative\u001b[49m\u001b[38;5;241;43m=\u001b[39;49m\u001b[38;5;28;43mdict\u001b[39;49m\u001b[43m(\u001b[49m\u001b[43menabled\u001b[49m\u001b[38;5;241;43m=\u001b[39;49m\u001b[43mcumulative\u001b[49m\u001b[43m)\u001b[49m\u001b[43m,\u001b[49m\n\u001b[1;32m    487\u001b[0m \u001b[43m        \u001b[49m\u001b[43m)\u001b[49m\u001b[43m,\u001b[49m\n\u001b[1;32m    488\u001b[0m \u001b[43m        \u001b[49m\u001b[43mlayout_patch\u001b[49m\u001b[38;5;241;43m=\u001b[39;49m\u001b[38;5;28;43mdict\u001b[39;49m\u001b[43m(\u001b[49m\u001b[43mbarmode\u001b[49m\u001b[38;5;241;43m=\u001b[39;49m\u001b[43mbarmode\u001b[49m\u001b[43m,\u001b[49m\u001b[43m \u001b[49m\u001b[43mbarnorm\u001b[49m\u001b[38;5;241;43m=\u001b[39;49m\u001b[43mbarnorm\u001b[49m\u001b[43m)\u001b[49m\u001b[43m,\u001b[49m\n\u001b[1;32m    489\u001b[0m \u001b[43m    \u001b[49m\u001b[43m)\u001b[49m\n",
      "File \u001b[0;32m~/miniforge3/envs/TIL6022/lib/python3.9/site-packages/plotly/express/_core.py:1990\u001b[0m, in \u001b[0;36mmake_figure\u001b[0;34m(args, constructor, trace_patch, layout_patch)\u001b[0m\n\u001b[1;32m   1987\u001b[0m layout_patch \u001b[38;5;241m=\u001b[39m layout_patch \u001b[38;5;129;01mor\u001b[39;00m {}\n\u001b[1;32m   1988\u001b[0m apply_default_cascade(args)\n\u001b[0;32m-> 1990\u001b[0m args \u001b[38;5;241m=\u001b[39m \u001b[43mbuild_dataframe\u001b[49m\u001b[43m(\u001b[49m\u001b[43margs\u001b[49m\u001b[43m,\u001b[49m\u001b[43m \u001b[49m\u001b[43mconstructor\u001b[49m\u001b[43m)\u001b[49m\n\u001b[1;32m   1991\u001b[0m \u001b[38;5;28;01mif\u001b[39;00m constructor \u001b[38;5;129;01min\u001b[39;00m [go\u001b[38;5;241m.\u001b[39mTreemap, go\u001b[38;5;241m.\u001b[39mSunburst, go\u001b[38;5;241m.\u001b[39mIcicle] \u001b[38;5;129;01mand\u001b[39;00m args[\u001b[38;5;124m\"\u001b[39m\u001b[38;5;124mpath\u001b[39m\u001b[38;5;124m\"\u001b[39m] \u001b[38;5;129;01mis\u001b[39;00m \u001b[38;5;129;01mnot\u001b[39;00m \u001b[38;5;28;01mNone\u001b[39;00m:\n\u001b[1;32m   1992\u001b[0m     args \u001b[38;5;241m=\u001b[39m process_dataframe_hierarchy(args)\n",
      "File \u001b[0;32m~/miniforge3/envs/TIL6022/lib/python3.9/site-packages/plotly/express/_core.py:1405\u001b[0m, in \u001b[0;36mbuild_dataframe\u001b[0;34m(args, constructor)\u001b[0m\n\u001b[1;32m   1402\u001b[0m     args[\u001b[38;5;124m\"\u001b[39m\u001b[38;5;124mcolor\u001b[39m\u001b[38;5;124m\"\u001b[39m] \u001b[38;5;241m=\u001b[39m \u001b[38;5;28;01mNone\u001b[39;00m\n\u001b[1;32m   1403\u001b[0m \u001b[38;5;66;03m# now that things have been prepped, we do the systematic rewriting of `args`\u001b[39;00m\n\u001b[0;32m-> 1405\u001b[0m df_output, wide_id_vars \u001b[38;5;241m=\u001b[39m \u001b[43mprocess_args_into_dataframe\u001b[49m\u001b[43m(\u001b[49m\n\u001b[1;32m   1406\u001b[0m \u001b[43m    \u001b[49m\u001b[43margs\u001b[49m\u001b[43m,\u001b[49m\u001b[43m \u001b[49m\u001b[43mwide_mode\u001b[49m\u001b[43m,\u001b[49m\u001b[43m \u001b[49m\u001b[43mvar_name\u001b[49m\u001b[43m,\u001b[49m\u001b[43m \u001b[49m\u001b[43mvalue_name\u001b[49m\n\u001b[1;32m   1407\u001b[0m \u001b[43m\u001b[49m\u001b[43m)\u001b[49m\n\u001b[1;32m   1409\u001b[0m \u001b[38;5;66;03m# now that `df_output` exists and `args` contains only references, we complete\u001b[39;00m\n\u001b[1;32m   1410\u001b[0m \u001b[38;5;66;03m# the special-case and wide-mode handling by further rewriting args and/or mutating\u001b[39;00m\n\u001b[1;32m   1411\u001b[0m \u001b[38;5;66;03m# df_output\u001b[39;00m\n\u001b[1;32m   1413\u001b[0m count_name \u001b[38;5;241m=\u001b[39m _escape_col_name(df_output, \u001b[38;5;124m\"\u001b[39m\u001b[38;5;124mcount\u001b[39m\u001b[38;5;124m\"\u001b[39m, [var_name, value_name])\n",
      "File \u001b[0;32m~/miniforge3/envs/TIL6022/lib/python3.9/site-packages/plotly/express/_core.py:1207\u001b[0m, in \u001b[0;36mprocess_args_into_dataframe\u001b[0;34m(args, wide_mode, var_name, value_name)\u001b[0m\n\u001b[1;32m   1205\u001b[0m         \u001b[38;5;28;01mif\u001b[39;00m argument \u001b[38;5;241m==\u001b[39m \u001b[38;5;124m\"\u001b[39m\u001b[38;5;124mindex\u001b[39m\u001b[38;5;124m\"\u001b[39m:\n\u001b[1;32m   1206\u001b[0m             err_msg \u001b[38;5;241m+\u001b[39m\u001b[38;5;241m=\u001b[39m \u001b[38;5;124m\"\u001b[39m\u001b[38;5;130;01m\\n\u001b[39;00m\u001b[38;5;124m To use the index, pass it in directly as `df.index`.\u001b[39m\u001b[38;5;124m\"\u001b[39m\n\u001b[0;32m-> 1207\u001b[0m         \u001b[38;5;28;01mraise\u001b[39;00m \u001b[38;5;167;01mValueError\u001b[39;00m(err_msg)\n\u001b[1;32m   1208\u001b[0m \u001b[38;5;28;01melif\u001b[39;00m length \u001b[38;5;129;01mand\u001b[39;00m \u001b[38;5;28mlen\u001b[39m(df_input[argument]) \u001b[38;5;241m!=\u001b[39m length:\n\u001b[1;32m   1209\u001b[0m     \u001b[38;5;28;01mraise\u001b[39;00m \u001b[38;5;167;01mValueError\u001b[39;00m(\n\u001b[1;32m   1210\u001b[0m         \u001b[38;5;124m\"\u001b[39m\u001b[38;5;124mAll arguments should have the same length. \u001b[39m\u001b[38;5;124m\"\u001b[39m\n\u001b[1;32m   1211\u001b[0m         \u001b[38;5;124m\"\u001b[39m\u001b[38;5;124mThe length of column argument `df[\u001b[39m\u001b[38;5;132;01m%s\u001b[39;00m\u001b[38;5;124m]` is \u001b[39m\u001b[38;5;132;01m%d\u001b[39;00m\u001b[38;5;124m, whereas the \u001b[39m\u001b[38;5;124m\"\u001b[39m\n\u001b[0;32m   (...)\u001b[0m\n\u001b[1;32m   1218\u001b[0m         )\n\u001b[1;32m   1219\u001b[0m     )\n",
      "\u001b[0;31mValueError\u001b[0m: Value of 'y' is not the name of a column in 'data_frame'. Expected one of ['Year', 'country', 'Vessel_Type', 'Median time in port (days)', 'Average age of vessels', 'Average size (GT) of vessels', 'Maximum size (GT) of vessels', 'Average cargo carrying capacity (dwt) per vessel', 'Maximum cargo carrying capacity (dwt) of vessels', 'Average container carrying capacity (TEU) per container ship', 'Maximum container carrying capacity (TEU) of container ships', 'date'] but received: Location"
     ]
    }
   ],
   "source": [
    " fig = px.histogram(df_ports, y=\"Location\", x=\"Median time in port (days)\", orientation= \"h\",\n",
    "             animation_frame=\"Period Label\", \n",
    "             #range_x=[0,4000000000], \n",
    "                color=\"Location\",)\n",
    "fig.update_yaxes(categoryorder='sum ascending')\n",
    "\n",
    "fig.show()"
   ]
  },
  {
   "cell_type": "code",
   "execution_count": 127,
   "metadata": {},
   "outputs": [
    {
     "data": {
      "application/vnd.plotly.v1+json": {
       "config": {
        "plotlyServerURL": "https://plot.ly"
       },
       "data": [
        {
         "colorscale": [
          [
           0,
           "#440154"
          ],
          [
           0.1111111111111111,
           "#482878"
          ],
          [
           0.2222222222222222,
           "#3e4989"
          ],
          [
           0.3333333333333333,
           "#31688e"
          ],
          [
           0.4444444444444444,
           "#26828e"
          ],
          [
           0.5555555555555556,
           "#1f9e89"
          ],
          [
           0.6666666666666666,
           "#35b779"
          ],
          [
           0.7777777777777778,
           "#6ece58"
          ],
          [
           0.8888888888888888,
           "#b5de2b"
          ],
          [
           1,
           "#fde725"
          ]
         ],
         "type": "surface",
         "z": [
          [
           100,
           100,
           101,
           101,
           101,
           101,
           101,
           100,
           100,
           100,
           101,
           101,
           102,
           102,
           102,
           102,
           103,
           104,
           103,
           102,
           101,
           101,
           102,
           103,
           104,
           104,
           105,
           107,
           107,
           107,
           108,
           108,
           110,
           110,
           110,
           110,
           110,
           110,
           110,
           110,
           108,
           108,
           108,
           107,
           107,
           108,
           108,
           108,
           108,
           108,
           107,
           107,
           107,
           107,
           106,
           106,
           105,
           105,
           104,
           104,
           103
          ],
          [
           101,
           101,
           102,
           102,
           102,
           102,
           102,
           101,
           101,
           101,
           102,
           102,
           103,
           103,
           103,
           103,
           104,
           105,
           104,
           103,
           102,
           102,
           103,
           105,
           106,
           106,
           107,
           109,
           110,
           110,
           110,
           110,
           111,
           112,
           113,
           114,
           116,
           115,
           114,
           112,
           110,
           110,
           110,
           109,
           108,
           109,
           109,
           109,
           109,
           108,
           108,
           108,
           108,
           107,
           107,
           106,
           106,
           105,
           105,
           104,
           104
          ],
          [
           102,
           102,
           103,
           103,
           103,
           103,
           103,
           102,
           102,
           102,
           103,
           103,
           104,
           104,
           104,
           104,
           105,
           106,
           105,
           104,
           104,
           105,
           106,
           107,
           108,
           110,
           111,
           113,
           114,
           115,
           114,
           115,
           116,
           118,
           119,
           119,
           121,
           121,
           120,
           118,
           116,
           114,
           112,
           111,
           110,
           110,
           110,
           110,
           109,
           109,
           109,
           109,
           108,
           108,
           107,
           107,
           106,
           106,
           105,
           105,
           104
          ],
          [
           103,
           103,
           104,
           104,
           104,
           104,
           104,
           103,
           103,
           103,
           103,
           104,
           104,
           104,
           105,
           105,
           106,
           107,
           106,
           106,
           106,
           107,
           108,
           110,
           111,
           114,
           117,
           118,
           117,
           119,
           120,
           121,
           122,
           124,
           125,
           126,
           127,
           127,
           126,
           124,
           122,
           120,
           117,
           116,
           113,
           111,
           110,
           110,
           110,
           109,
           109,
           109,
           109,
           108,
           108,
           107,
           107,
           106,
           106,
           105,
           105
          ],
          [
           104,
           104,
           105,
           105,
           105,
           105,
           105,
           104,
           104,
           103,
           104,
           104,
           105,
           105,
           105,
           106,
           107,
           108,
           108,
           108,
           109,
           110,
           112,
           114,
           115,
           118,
           121,
           122,
           121,
           123,
           128,
           131,
           129,
           130,
           131,
           131,
           132,
           132,
           131,
           130,
           128,
           126,
           122,
           119,
           115,
           114,
           112,
           110,
           110,
           110,
           110,
           110,
           109,
           109,
           108,
           107,
           107,
           107,
           106,
           106,
           105
          ],
          [
           105,
           105,
           105,
           106,
           106,
           106,
           106,
           105,
           105,
           104,
           104,
           105,
           105,
           106,
           106,
           107,
           109,
           110,
           110,
           112,
           113,
           115,
           116,
           118,
           119,
           121,
           124,
           126,
           126,
           129,
           134,
           137,
           137,
           136,
           136,
           135,
           136,
           136,
           136,
           135,
           133,
           129,
           126,
           122,
           118,
           116,
           115,
           113,
           111,
           110,
           110,
           110,
           110,
           109,
           108,
           108,
           108,
           107,
           107,
           106,
           106
          ],
          [
           105,
           106,
           106,
           107,
           107,
           107,
           107,
           106,
           106,
           105,
           105,
           106,
           106,
           107,
           108,
           109,
           111,
           113,
           114,
           116,
           118,
           120,
           121,
           122,
           123,
           125,
           127,
           129,
           130,
           135,
           140,
           142,
           142,
           142,
           141,
           140,
           140,
           140,
           140,
           139,
           137,
           134,
           129,
           125,
           121,
           118,
           116,
           114,
           112,
           110,
           110,
           110,
           111,
           110,
           109,
           109,
           108,
           108,
           107,
           107,
           106
          ],
          [
           106,
           107,
           107,
           108,
           108,
           108,
           108,
           107,
           107,
           106,
           106,
           107,
           108,
           108,
           110,
           113,
           115,
           117,
           118,
           120,
           122,
           124,
           125,
           127,
           128,
           129,
           131,
           134,
           135,
           141,
           146,
           147,
           146,
           146,
           145,
           144,
           144,
           144,
           143,
           142,
           141,
           139,
           135,
           130,
           126,
           122,
           118,
           116,
           114,
           112,
           112,
           113,
           112,
           110,
           110,
           109,
           109,
           108,
           108,
           107,
           106
          ],
          [
           107,
           108,
           108,
           109,
           109,
           109,
           109,
           108,
           108,
           107,
           108,
           108,
           110,
           111,
           113,
           116,
           118,
           120,
           123,
           125,
           127,
           129,
           130,
           132,
           134,
           135,
           137,
           139,
           142,
           146,
           152,
           152,
           151,
           151,
           150,
           149,
           148,
           148,
           146,
           145,
           143,
           142,
           139,
           135,
           131,
           127,
           122,
           119,
           117,
           115,
           115,
           115,
           114,
           112,
           110,
           110,
           109,
           109,
           108,
           107,
           107
          ],
          [
           108,
           109,
           109,
           110,
           110,
           110,
           110,
           109,
           109,
           108,
           110,
           110,
           113,
           116,
           118,
           120,
           122,
           125,
           127,
           129,
           133,
           136,
           138,
           140,
           141,
           142,
           148,
           150,
           151,
           156,
           158,
           159,
           158,
           157,
           158,
           158,
           154,
           151,
           149,
           148,
           146,
           144,
           141,
           137,
           134,
           130,
           125,
           122,
           120,
           118,
           117,
           117,
           115,
           113,
           111,
           110,
           110,
           109,
           108,
           107,
           107
          ],
          [
           109,
           110,
           110,
           111,
           111,
           111,
           111,
           110,
           110,
           110,
           112,
           114,
           118,
           121,
           123,
           125,
           127,
           129,
           133,
           137,
           141,
           143,
           145,
           146,
           148,
           150,
           154,
           156,
           159,
           161,
           162,
           163,
           164,
           163,
           164,
           164,
           160,
           157,
           154,
           151,
           149,
           146,
           144,
           140,
           137,
           133,
           129,
           126,
           124,
           121,
           119,
           118,
           116,
           114,
           112,
           111,
           110,
           109,
           108,
           107,
           106
          ],
          [
           110,
           110,
           111,
           113,
           112,
           111,
           113,
           112,
           112,
           114,
           116,
           119,
           121,
           124,
           127,
           129,
           133,
           138,
           143,
           146,
           149,
           149,
           151,
           153,
           154,
           157,
           159,
           160,
           163,
           165,
           166,
           167,
           168,
           168,
           168,
           168,
           166,
           162,
           159,
           157,
           154,
           152,
           149,
           144,
           140,
           136,
           133,
           131,
           128,
           125,
           122,
           119,
           117,
           115,
           113,
           111,
           110,
           109,
           108,
           107,
           106
          ],
          [
           110,
           111,
           113,
           115,
           114,
           113,
           114,
           114,
           115,
           117,
           119,
           121,
           124,
           126,
           129,
           133,
           140,
           145,
           150,
           154,
           155,
           155,
           157,
           159,
           161,
           162,
           164,
           165,
           167,
           168,
           169,
           170,
           172,
           174,
           172,
           172,
           171,
           169,
           166,
           163,
           161,
           158,
           153,
           148,
           143,
           140,
           137,
           134,
           131,
           128,
           125,
           120,
           118,
           116,
           114,
           112,
           110,
           109,
           108,
           107,
           105
          ],
          [
           111,
           113,
           115,
           117,
           116,
           115,
           116,
           117,
           117,
           119,
           121,
           124,
           126,
           128,
           132,
           137,
           143,
           151,
           156,
           161,
           161,
           162,
           163,
           165,
           166,
           167,
           168,
           170,
           171,
           173,
           175,
           177,
           179,
           178,
           177,
           176,
           176,
           174,
           171,
           169,
           165,
           161,
           156,
           152,
           148,
           144,
           140,
           138,
           135,
           131,
           127,
           123,
           119,
           117,
           115,
           113,
           111,
           110,
           108,
           106,
           105
          ],
          [
           114,
           115,
           117,
           117,
           117,
           118,
           119,
           119,
           120,
           121,
           124,
           126,
           128,
           131,
           137,
           143,
           150,
           156,
           160,
           163,
           165,
           168,
           170,
           171,
           172,
           173,
           174,
           175,
           177,
           179,
           180,
           182,
           183,
           183,
           183,
           183,
           180,
           178,
           177,
           172,
           168,
           164,
           160,
           156,
           152,
           148,
           144,
           141,
           138,
           134,
           130,
           126,
           121,
           117,
           114,
           112,
           110,
           110,
           108,
           106,
           104
          ],
          [
           116,
           118,
           118,
           118,
           120,
           121,
           121,
           122,
           122,
           123,
           125,
           128,
           130,
           134,
           141,
           147,
           152,
           156,
           160,
           165,
           168,
           170,
           174,
           176,
           179,
           180,
           181,
           181,
           182,
           182,
           183,
           184,
           186,
           187,
           187,
           184,
           184,
           181,
           180,
           176,
           172,
           168,
           165,
           161,
           157,
           153,
           149,
           145,
           142,
           138,
           133,
           129,
           125,
           120,
           115,
           111,
           110,
           110,
           108,
           106,
           104
          ],
          [
           118,
           120,
           120,
           121,
           122,
           123,
           124,
           124,
           125,
           126,
           127,
           129,
           132,
           135,
           142,
           149,
           153,
           157,
           161,
           166,
           170,
           174,
           178,
           180,
           182,
           183,
           184,
           184,
           185,
           186,
           186,
           187,
           189,
           189,
           189,
           189,
           189,
           186,
           182,
           179,
           175,
           171,
           168,
           165,
           162,
           157,
           152,
           149,
           145,
           141,
           137,
           131,
           125,
           120,
           116,
           111,
           110,
           110,
           108,
           106,
           104
          ],
          [
           120,
           121,
           122,
           123,
           124,
           125,
           126,
           127,
           127,
           128,
           130,
           132,
           134,
           137,
           142,
           151,
           155,
           158,
           162,
           169,
           172,
           176,
           181,
           183,
           184,
           186,
           187,
           188,
           189,
           189,
           189,
           189,
           190,
           190,
           191,
           190,
           190,
           188,
           186,
           183,
           180,
           175,
           171,
           168,
           165,
           161,
           157,
           152,
           149,
           145,
           141,
           134,
           127,
           121,
           116,
           112,
           110,
           110,
           108,
           106,
           104
          ],
          [
           120,
           122,
           125,
           126,
           126,
           127,
           128,
           129,
           130,
           130,
           132,
           134,
           136,
           139,
           145,
           152,
           157,
           160,
           167,
           172,
           175,
           178,
           181,
           185,
           186,
           188,
           190,
           191,
           192,
           193,
           193,
           192,
           192,
           191,
           192,
           191,
           191,
           190,
           190,
           187,
           184,
           181,
           177,
           172,
           169,
           165,
           161,
           156,
           152,
           147,
           143,
           139,
           131,
           123,
           119,
           115,
           111,
           110,
           108,
           106,
           105
          ],
          [
           121,
           124,
           126,
           128,
           129,
           129,
           130,
           131,
           132,
           133,
           135,
           137,
           139,
           143,
           150,
           154,
           159,
           164,
           170,
           173,
           176,
           179,
           184,
           186,
           189,
           190,
           191,
           192,
           193,
           194,
           195,
           194,
           193,
           192,
           191,
           191,
           191,
           191,
           190,
           190,
           188,
           184,
           181,
           177,
           173,
           169,
           165,
           160,
           155,
           149,
           145,
           142,
           136,
           129,
           123,
           118,
           114,
           110,
           108,
           108,
           107
          ],
          [
           122,
           125,
           127,
           130,
           130,
           131,
           133,
           134,
           135,
           136,
           137,
           140,
           143,
           147,
           154,
           158,
           162,
           166,
           171,
           174,
           177,
           181,
           186,
           189,
           190,
           190,
           191,
           192,
           191,
           191,
           190,
           189,
           188,
           189,
           190,
           190,
           191,
           190,
           190,
           190,
           189,
           186,
           184,
           181,
           177,
           173,
           169,
           164,
           158,
           152,
           148,
           144,
           140,
           134,
           125,
           118,
           115,
           111,
           110,
           108,
           107
          ],
          [
           122,
           125,
           128,
           130,
           132,
           133,
           135,
           136,
           137,
           139,
           140,
           143,
           147,
           152,
           157,
           161,
           164,
           168,
           172,
           175,
           179,
           182,
           186,
           190,
           190,
           190,
           190,
           189,
           187,
           184,
           184,
           183,
           182,
           182,
           183,
           183,
           183,
           184,
           185,
           186,
           187,
           186,
           185,
           184,
           181,
           177,
           173,
           169,
           163,
           157,
           149,
           145,
           141,
           136,
           130,
           119,
           116,
           112,
           110,
           108,
           106
          ],
          [
           123,
           126,
           129,
           131,
           133,
           135,
           137,
           138,
           139,
           141,
           143,
           147,
           150,
           156,
           161,
           164,
           167,
           170,
           173,
           177,
           181,
           184,
           187,
           188,
           190,
           189,
           187,
           185,
           183,
           179,
           176,
           174,
           174,
           174,
           174,
           174,
           176,
           177,
           179,
           180,
           182,
           183,
           182,
           181,
           181,
           180,
           176,
           171,
           166,
           160,
           152,
           147,
           142,
           138,
           133,
           126,
           121,
           115,
           110,
           106,
           105
          ],
          [
           124,
           127,
           130,
           132,
           135,
           137,
           138,
           140,
           142,
           144,
           147,
           149,
           154,
           157,
           161,
           165,
           168,
           171,
           175,
           178,
           181,
           184,
           186,
           187,
           187,
           184,
           184,
           181,
           179,
           175,
           171,
           169,
           168,
           168,
           168,
           169,
           170,
           172,
           174,
           177,
           178,
           179,
           180,
           181,
           181,
           180,
           179,
           174,
           167,
           161,
           155,
           148,
           144,
           139,
           134,
           128,
           121,
           115,
           110,
           106,
           105
          ],
          [
           123,
           128,
           131,
           133,
           136,
           138,
           140,
           142,
           144,
           146,
           149,
           151,
           154,
           157,
           160,
           164,
           168,
           172,
           175,
           178,
           181,
           183,
           184,
           184,
           185,
           183,
           180,
           177,
           174,
           170,
           167,
           165,
           164,
           164,
           164,
           165,
           166,
           168,
           171,
           175,
           176,
           178,
           180,
           181,
           180,
           180,
           179,
           177,
           170,
           163,
           157,
           150,
           144,
           139,
           134,
           128,
           121,
           115,
           110,
           108,
           107
          ],
          [
           123,
           127,
           131,
           134,
           136,
           138,
           140,
           142,
           144,
           147,
           149,
           151,
           154,
           157,
           160,
           164,
           168,
           171,
           174,
           178,
           180,
           181,
           181,
           182,
           183,
           181,
           178,
           173,
           169,
           166,
           163,
           161,
           161,
           160,
           160,
           161,
           163,
           165,
           168,
           173,
           176,
           178,
           179,
           180,
           181,
           180,
           180,
           175,
           173,
           166,
           159,
           152,
           145,
           139,
           134,
           127,
           121,
           115,
           110,
           109,
           108
          ],
          [
           120,
           124,
           128,
           131,
           134,
           137,
           139,
           142,
           144,
           146,
           149,
           151,
           153,
           156,
           160,
           163,
           167,
           171,
           174,
           178,
           180,
           180,
           180,
           180,
           180,
           180,
           175,
           171,
           167,
           162,
           160,
           158,
           157,
           157,
           157,
           158,
           159,
           162,
           166,
           170,
           175,
           177,
           178,
           180,
           181,
           181,
           180,
           178,
           175,
           169,
           160,
           154,
           148,
           140,
           134,
           128,
           121,
           115,
           110,
           110,
           109
          ],
          [
           118,
           121,
           125,
           129,
           132,
           134,
           137,
           140,
           142,
           145,
           147,
           149,
           151,
           155,
           159,
           163,
           166,
           169,
           173,
           177,
           179,
           180,
           180,
           180,
           180,
           179,
           174,
           169,
           166,
           161,
           158,
           156,
           154,
           153,
           153,
           154,
           156,
           159,
           163,
           169,
           173,
           175,
           178,
           180,
           181,
           180,
           180,
           179,
           175,
           170,
           160,
           154,
           149,
           142,
           135,
           128,
           122,
           116,
           111,
           110,
           110
          ],
          [
           117,
           120,
           121,
           125,
           129,
           132,
           135,
           138,
           140,
           143,
           145,
           147,
           149,
           153,
           157,
           160,
           163,
           166,
           171,
           174,
           177,
           179,
           180,
           180,
           180,
           179,
           172,
           168,
           164,
           160,
           157,
           154,
           151,
           149,
           150,
           150,
           154,
           158,
           164,
           169,
           174,
           178,
           180,
           180,
           180,
           180,
           178,
           177,
           175,
           170,
           161,
           153,
           148,
           142,
           135,
           129,
           123,
           116,
           113,
           112,
           110
          ],
          [
           115,
           118,
           120,
           122,
           126,
           130,
           133,
           136,
           138,
           141,
           143,
           145,
           148,
           151,
           154,
           157,
           160,
           163,
           168,
           171,
           174,
           177,
           179,
           179,
           179,
           176,
           171,
           167,
           164,
           160,
           156,
           153,
           149,
           148,
           149,
           151,
           155,
           158,
           163,
           170,
           173,
           177,
           179,
           180,
           180,
           180,
           178,
           175,
           173,
           171,
           162,
           154,
           147,
           141,
           136,
           130,
           124,
           117,
           115,
           112,
           110
          ],
          [
           114,
           116,
           118,
           120,
           122,
           127,
           131,
           133,
           136,
           138,
           141,
           143,
           146,
           148,
           151,
           154,
           157,
           160,
           164,
           168,
           171,
           174,
           178,
           178,
           179,
           177,
           173,
           169,
           165,
           161,
           157,
           154,
           151,
           149,
           150,
           152,
           155,
           159,
           166,
           171,
           175,
           177,
           179,
           180,
           180,
           179,
           176,
           174,
           171,
           168,
           159,
           151,
           146,
           141,
           135,
           129,
           124,
           119,
           116,
           113,
           110
          ],
          [
           115,
           114,
           116,
           118,
           120,
           122,
           127,
           129,
           132,
           136,
           139,
           141,
           143,
           146,
           148,
           151,
           153,
           156,
           160,
           164,
           167,
           172,
           174,
           176,
           177,
           176,
           173,
           170,
           166,
           162,
           159,
           157,
           154,
           153,
           154,
           155,
           158,
           161,
           169,
           172,
           174,
           176,
           178,
           178,
           178,
           178,
           175,
           172,
           169,
           162,
           156,
           149,
           144,
           140,
           134,
           128,
           123,
           118,
           115,
           112,
           110
          ],
          [
           113,
           113,
           114,
           116,
           118,
           120,
           122,
           125,
           129,
           133,
           136,
           138,
           141,
           143,
           146,
           149,
           150,
           153,
           156,
           160,
           165,
           170,
           173,
           176,
           176,
           176,
           173,
           172,
           169,
           165,
           163,
           160,
           158,
           157,
           158,
           159,
           161,
           166,
           170,
           170,
           173,
           175,
           176,
           178,
           176,
           173,
           171,
           168,
           164,
           158,
           153,
           146,
           140,
           137,
           132,
           127,
           121,
           117,
           113,
           111,
           110
          ],
          [
           111,
           112,
           113,
           114,
           116,
           118,
           120,
           122,
           126,
           130,
           133,
           136,
           139,
           142,
           145,
           147,
           148,
           151,
           155,
           158,
           163,
           168,
           173,
           176,
           177,
           177,
           176,
           174,
           171,
           169,
           166,
           164,
           161,
           161,
           162,
           164,
           165,
           167,
           170,
           170,
           171,
           173,
           173,
           173,
           170,
           168,
           165,
           163,
           160,
           155,
           149,
           143,
           138,
           134,
           130,
           125,
           119,
           116,
           112,
           110,
           109
          ],
          [
           110,
           112,
           113,
           113,
           114,
           116,
           118,
           120,
           123,
           127,
           131,
           134,
           137,
           141,
           143,
           145,
           148,
           150,
           154,
           157,
           161,
           166,
           171,
           176,
           178,
           178,
           178,
           176,
           174,
           172,
           170,
           167,
           167,
           167,
           166,
           168,
           170,
           169,
           168,
           167,
           168,
           168,
           168,
           168,
           167,
           165,
           163,
           160,
           156,
           152,
           146,
           140,
           136,
           131,
           128,
           122,
           118,
           114,
           110,
           110,
           109
          ],
          [
           109,
           110,
           111,
           112,
           114,
           116,
           118,
           119,
           120,
           124,
           128,
           131,
           136,
           140,
           142,
           145,
           147,
           150,
           153,
           157,
           160,
           165,
           170,
           174,
           178,
           179,
           179,
           178,
           178,
           176,
           174,
           171,
           170,
           170,
           170,
           168,
           167,
           166,
           164,
           163,
           161,
           162,
           163,
           163,
           163,
           161,
           160,
           157,
           153,
           148,
           142,
           136,
           130,
           127,
           124,
           120,
           117,
           113,
           110,
           110,
           109
          ],
          [
           108,
           109,
           111,
           112,
           114,
           116,
           117,
           118,
           120,
           121,
           125,
           128,
           132,
           138,
           142,
           144,
           147,
           149,
           153,
           156,
           160,
           164,
           170,
           174,
           178,
           180,
           180,
           179,
           179,
           178,
           176,
           172,
           170,
           170,
           170,
           168,
           166,
           164,
           162,
           160,
           157,
           156,
           157,
           158,
           158,
           156,
           153,
           151,
           149,
           144,
           139,
           130,
           127,
           124,
           121,
           118,
           115,
           112,
           110,
           110,
           109
          ],
          [
           108,
           109,
           111,
           113,
           114,
           116,
           117,
           118,
           119,
           120,
           122,
           126,
           130,
           135,
           139,
           143,
           147,
           149,
           152,
           156,
           160,
           164,
           169,
           173,
           177,
           180,
           180,
           180,
           180,
           179,
           178,
           174,
           170,
           170,
           168,
           167,
           165,
           163,
           161,
           157,
           154,
           153,
           152,
           152,
           152,
           149,
           148,
           147,
           144,
           140,
           134,
           128,
           125,
           122,
           119,
           117,
           114,
           110,
           110,
           109,
           109
          ],
          [
           107,
           108,
           111,
           112,
           114,
           115,
           116,
           117,
           119,
           120,
           121,
           124,
           128,
           133,
           137,
           141,
           145,
           149,
           152,
           156,
           160,
           164,
           168,
           172,
           176,
           179,
           180,
           180,
           180,
           179,
           178,
           174,
           170,
           168,
           166,
           165,
           163,
           161,
           158,
           154,
           150,
           149,
           148,
           146,
           145,
           143,
           143,
           143,
           140,
           136,
           130,
           126,
           123,
           120,
           118,
           115,
           112,
           110,
           110,
           109,
           109
          ],
          [
           107,
           108,
           110,
           112,
           113,
           113,
           115,
           116,
           118,
           120,
           122,
           125,
           128,
           132,
           136,
           140,
           145,
           148,
           150,
           155,
           160,
           164,
           167,
           170,
           174,
           177,
           179,
           179,
           178,
           176,
           176,
           173,
           169,
           166,
           164,
           163,
           161,
           159,
           155,
           152,
           148,
           145,
           143,
           141,
           140,
           139,
           139,
           138,
           136,
           132,
           128,
           124,
           121,
           118,
           116,
           114,
           111,
           110,
           110,
           109,
           108
          ],
          [
           107,
           108,
           109,
           111,
           113,
           114,
           116,
           117,
           119,
           120,
           122,
           125,
           128,
           132,
           137,
           141,
           144,
           146,
           149,
           152,
           157,
           162,
           166,
           168,
           171,
           173,
           175,
           175,
           173,
           172,
           172,
           171,
           168,
           165,
           162,
           160,
           158,
           156,
           153,
           149,
           145,
           142,
           139,
           138,
           137,
           136,
           135,
           133,
           131,
           129,
           126,
           122,
           119,
           117,
           114,
           112,
           110,
           110,
           109,
           108,
           107
          ],
          [
           108,
           109,
           110,
           112,
           114,
           115,
           116,
           117,
           119,
           120,
           122,
           126,
           129,
           133,
           137,
           141,
           143,
           146,
           148,
           151,
           155,
           160,
           164,
           167,
           168,
           169,
           170,
           170,
           169,
           168,
           167,
           168,
           166,
           163,
           160,
           158,
           155,
           153,
           150,
           147,
           143,
           140,
           137,
           136,
           134,
           133,
           132,
           130,
           129,
           127,
           125,
           121,
           118,
           115,
           112,
           110,
           110,
           110,
           108,
           107,
           107
          ],
          [
           109,
           110,
           111,
           113,
           115,
           116,
           117,
           118,
           120,
           121,
           123,
           126,
           129,
           133,
           138,
           141,
           143,
           146,
           148,
           150,
           155,
           159,
           163,
           165,
           166,
           167,
           168,
           168,
           166,
           165,
           164,
           161,
           160,
           159,
           158,
           155,
           152,
           149,
           147,
           144,
           141,
           138,
           135,
           134,
           132,
           130,
           129,
           128,
           126,
           124,
           122,
           120,
           117,
           113,
           111,
           110,
           110,
           110,
           108,
           107,
           107
          ],
          [
           110,
           111,
           112,
           113,
           116,
           117,
           118,
           119,
           120,
           122,
           125,
           127,
           130,
           133,
           138,
           141,
           143,
           146,
           148,
           150,
           154,
           159,
           162,
           163,
           164,
           166,
           166,
           166,
           165,
           163,
           161,
           159,
           157,
           156,
           155,
           153,
           150,
           146,
           143,
           140,
           138,
           136,
           133,
           132,
           130,
           129,
           128,
           125,
           124,
           122,
           120,
           119,
           117,
           114,
           111,
           110,
           110,
           109,
           108,
           107,
           107
          ],
          [
           111,
           112,
           113,
           114,
           116,
           117,
           118,
           119,
           120,
           123,
           125,
           128,
           130,
           134,
           139,
           141,
           144,
           146,
           148,
           151,
           154,
           158,
           161,
           164,
           166,
           167,
           168,
           166,
           165,
           163,
           161,
           158,
           156,
           154,
           152,
           150,
           146,
           142,
           139,
           137,
           135,
           133,
           131,
           130,
           129,
           128,
           127,
           125,
           123,
           121,
           120,
           118,
           116,
           113,
           111,
           110,
           110,
           109,
           108,
           107,
           106
          ],
          [
           111,
           112,
           113,
           115,
           117,
           118,
           118,
           120,
           121,
           124,
           126,
           128,
           131,
           135,
           139,
           142,
           144,
           146,
           148,
           151,
           155,
           160,
           164,
           165,
           168,
           169,
           169,
           168,
           166,
           163,
           160,
           158,
           156,
           153,
           151,
           148,
           145,
           142,
           139,
           137,
           135,
           132,
           130,
           129,
           127,
           126,
           125,
           124,
           123,
           120,
           120,
           117,
           116,
           114,
           112,
           110,
           110,
           108,
           107,
           106,
           106
          ],
          [
           112,
           113,
           114,
           116,
           117,
           118,
           119,
           120,
           122,
           124,
           127,
           129,
           132,
           135,
           139,
           142,
           144,
           146,
           149,
           152,
           157,
           162,
           167,
           169,
           170,
           170,
           170,
           168,
           165,
           163,
           161,
           159,
           157,
           155,
           151,
           148,
           145,
           141,
           139,
           136,
           134,
           132,
           130,
           128,
           127,
           126,
           124,
           123,
           122,
           120,
           119,
           117,
           116,
           114,
           112,
           111,
           109,
           107,
           106,
           106,
           105
          ],
          [
           113,
           114,
           115,
           116,
           117,
           119,
           119,
           120,
           122,
           125,
           127,
           129,
           132,
           135,
           139,
           142,
           144,
           147,
           149,
           154,
           159,
           164,
           169,
           170,
           170,
           170,
           170,
           170,
           168,
           165,
           163,
           161,
           158,
           155,
           151,
           148,
           145,
           142,
           139,
           137,
           135,
           132,
           131,
           128,
           126,
           125,
           124,
           122,
           121,
           120,
           119,
           117,
           115,
           113,
           111,
           110,
           109,
           106,
           105,
           105,
           104
          ],
          [
           113,
           114,
           115,
           117,
           118,
           119,
           120,
           121,
           123,
           125,
           127,
           130,
           132,
           135,
           139,
           142,
           145,
           148,
           150,
           156,
           161,
           166,
           170,
           170,
           170,
           170,
           170,
           170,
           169,
           166,
           163,
           161,
           159,
           155,
           151,
           148,
           146,
           143,
           140,
           138,
           135,
           134,
           132,
           130,
           127,
           125,
           123,
           121,
           120,
           120,
           119,
           116,
           114,
           112,
           110,
           110,
           108,
           106,
           105,
           104,
           104
          ],
          [
           114,
           115,
           116,
           117,
           118,
           119,
           120,
           121,
           123,
           126,
           128,
           130,
           133,
           136,
           139,
           142,
           145,
           148,
           152,
           157,
           161,
           166,
           168,
           170,
           170,
           170,
           170,
           168,
           166,
           164,
           163,
           160,
           159,
           155,
           151,
           148,
           146,
           143,
           141,
           138,
           136,
           134,
           132,
           130,
           128,
           125,
           123,
           121,
           120,
           120,
           118,
           116,
           113,
           111,
           110,
           110,
           109,
           106,
           105,
           104,
           104
          ],
          [
           115,
           116,
           117,
           118,
           119,
           120,
           121,
           121,
           123,
           126,
           128,
           131,
           134,
           136,
           139,
           142,
           145,
           149,
           152,
           157,
           161,
           163,
           164,
           166,
           168,
           167,
           166,
           164,
           163,
           161,
           160,
           158,
           156,
           152,
           149,
           147,
           144,
           143,
           141,
           139,
           136,
           134,
           132,
           130,
           128,
           125,
           122,
           120,
           120,
           119,
           117,
           115,
           113,
           110,
           110,
           109,
           107,
           106,
           105,
           104,
           104
          ],
          [
           115,
           116,
           117,
           118,
           119,
           120,
           121,
           122,
           123,
           125,
           128,
           131,
           134,
           137,
           139,
           142,
           145,
           149,
           152,
           156,
           159,
           159,
           160,
           162,
           162,
           161,
           161,
           160,
           159,
           158,
           157,
           155,
           153,
           150,
           148,
           146,
           145,
           143,
           142,
           140,
           137,
           134,
           131,
           129,
           126,
           124,
           122,
           120,
           119,
           117,
           115,
           113,
           111,
           110,
           109,
           109,
           107,
           106,
           105,
           104,
           104
          ],
          [
           114,
           115,
           116,
           116,
           118,
           119,
           120,
           121,
           122,
           126,
           129,
           132,
           135,
           137,
           140,
           143,
           146,
           149,
           152,
           155,
           156,
           157,
           158,
           159,
           159,
           159,
           158,
           158,
           157,
           155,
           153,
           151,
           150,
           149,
           147,
           146,
           145,
           144,
           142,
           141,
           138,
           135,
           132,
           128,
           125,
           122,
           120,
           118,
           117,
           115,
           113,
           112,
           110,
           109,
           108,
           108,
           106,
           105,
           105,
           104,
           104
          ],
          [
           113,
           114,
           115,
           116,
           117,
           118,
           119,
           120,
           123,
           126,
           129,
           132,
           135,
           138,
           140,
           143,
           146,
           148,
           151,
           153,
           154,
           156,
           157,
           157,
           157,
           157,
           156,
           155,
           154,
           152,
           150,
           149,
           148,
           147,
           146,
           145,
           144,
           142,
           141,
           140,
           139,
           136,
           132,
           129,
           125,
           121,
           118,
           116,
           115,
           113,
           111,
           110,
           109,
           108,
           108,
           107,
           106,
           105,
           104,
           104,
           104
          ],
          [
           112,
           113,
           114,
           115,
           116,
           117,
           119,
           120,
           122,
           126,
           130,
           133,
           136,
           138,
           141,
           143,
           146,
           148,
           150,
           152,
           154,
           155,
           155,
           155,
           155,
           155,
           154,
           152,
           152,
           150,
           148,
           147,
           146,
           145,
           145,
           143,
           142,
           141,
           140,
           140,
           140,
           137,
           133,
           129,
           125,
           120,
           117,
           115,
           111,
           110,
           110,
           109,
           108,
           107,
           107,
           106,
           105,
           105,
           104,
           104,
           103
          ],
          [
           111,
           112,
           114,
           115,
           116,
           117,
           118,
           120,
           122,
           125,
           131,
           134,
           137,
           139,
           142,
           144,
           146,
           148,
           150,
           152,
           153,
           153,
           153,
           153,
           153,
           153,
           153,
           151,
           149,
           147,
           146,
           144,
           144,
           143,
           143,
           142,
           141,
           140,
           140,
           140,
           140,
           138,
           134,
           130,
           123,
           120,
           118,
           111,
           110,
           110,
           110,
           108,
           107,
           106,
           108,
           105,
           105,
           104,
           104,
           103,
           103
          ],
          [
           111,
           112,
           113,
           115,
           115,
           116,
           117,
           119,
           121,
           126,
           131,
           135,
           138,
           140,
           142,
           144,
           146,
           148,
           150,
           151,
           151,
           151,
           151,
           151,
           151,
           151,
           151,
           150,
           148,
           146,
           144,
           142,
           141,
           141,
           142,
           141,
           140,
           140,
           140,
           140,
           140,
           140,
           136,
           132,
           126,
           120,
           115,
           110,
           110,
           110,
           109,
           107,
           106,
           105,
           107,
           105,
           104,
           104,
           104,
           103,
           103
          ],
          [
           112,
           113,
           113,
           114,
           115,
           116,
           117,
           119,
           122,
           127,
           132,
           135,
           139,
           141,
           143,
           145,
           147,
           149,
           150,
           150,
           150,
           150,
           150,
           150,
           150,
           150,
           150,
           149,
           147,
           144,
           142,
           141,
           140,
           140,
           140,
           140,
           140,
           140,
           140,
           140,
           140,
           140,
           137,
           133,
           128,
           120,
           117,
           110,
           110,
           110,
           108,
           106,
           105,
           105,
           106,
           105,
           104,
           104,
           103,
           103,
           103
          ],
          [
           112,
           113,
           114,
           114,
           116,
           117,
           118,
           120,
           122,
           128,
           132,
           136,
           139,
           141,
           144,
           146,
           147,
           149,
           150,
           150,
           150,
           150,
           150,
           150,
           150,
           150,
           150,
           149,
           146,
           143,
           141,
           140,
           140,
           139,
           139,
           139,
           140,
           140,
           140,
           140,
           140,
           140,
           137,
           133,
           129,
           121,
           118,
           110,
           110,
           109,
           107,
           106,
           105,
           105,
           105,
           104,
           104,
           103,
           103,
           103,
           102
          ],
          [
           112,
           114,
           114,
           115,
           116,
           117,
           119,
           120,
           122,
           128,
           133,
           136,
           140,
           142,
           144,
           146,
           148,
           150,
           150,
           150,
           150,
           150,
           150,
           150,
           150,
           150,
           150,
           148,
           145,
           142,
           140,
           138,
           138,
           138,
           137,
           138,
           140,
           140,
           140,
           140,
           140,
           140,
           137,
           134,
           130,
           122,
           118,
           110,
           110,
           108,
           106,
           105,
           103,
           104,
           104,
           104,
           104,
           103,
           103,
           102,
           102
          ],
          [
           113,
           114,
           115,
           116,
           116,
           117,
           118,
           120,
           123,
           129,
           133,
           137,
           140,
           142,
           144,
           146,
           149,
           150,
           150,
           150,
           150,
           150,
           150,
           150,
           150,
           150,
           150,
           147,
           143,
           141,
           139,
           137,
           136,
           136,
           135,
           136,
           138,
           140,
           140,
           140,
           140,
           139,
           136,
           134,
           130,
           123,
           119,
           113,
           109,
           108,
           106,
           104,
           103,
           104,
           104,
           104,
           103,
           103,
           102,
           102,
           101
          ],
          [
           114,
           115,
           115,
           116,
           117,
           118,
           118,
           120,
           123,
           129,
           133,
           137,
           140,
           143,
           145,
           147,
           150,
           150,
           150,
           150,
           150,
           150,
           150,
           150,
           150,
           150,
           148,
           145,
           142,
           139,
           138,
           136,
           135,
           134,
           134,
           134,
           136,
           138,
           137,
           138,
           139,
           137,
           134,
           132,
           125,
           122,
           117,
           114,
           109,
           107,
           105,
           103,
           102,
           104,
           104,
           103,
           103,
           102,
           102,
           101,
           101
          ],
          [
           114,
           115,
           116,
           117,
           117,
           119,
           118,
           120,
           123,
           128,
           132,
           136,
           139,
           142,
           145,
           148,
           150,
           150,
           150,
           150,
           150,
           150,
           150,
           150,
           150,
           150,
           147,
           144,
           141,
           139,
           136,
           135,
           134,
           133,
           132,
           132,
           134,
           134,
           134,
           134,
           135,
           133,
           131,
           128,
           124,
           120,
           116,
           113,
           110,
           107,
           104,
           102,
           102,
           103,
           103,
           103,
           102,
           102,
           102,
           101,
           100
          ],
          [
           115,
           116,
           116,
           117,
           118,
           119,
           119,
           120,
           124,
           128,
           132,
           136,
           139,
           142,
           145,
           148,
           150,
           150,
           150,
           150,
           150,
           150,
           150,
           150,
           150,
           149,
           146,
           143,
           140,
           138,
           135,
           134,
           133,
           131,
           131,
           131,
           131,
           131,
           131,
           131,
           130,
           127,
           124,
           122,
           119,
           117,
           115,
           112,
           109,
           106,
           104,
           101,
           102,
           103,
           103,
           102,
           102,
           102,
           101,
           100,
           100
          ],
          [
           115,
           116,
           117,
           118,
           118,
           119,
           120,
           123,
           125,
           128,
           131,
           135,
           138,
           141,
           145,
           148,
           150,
           150,
           150,
           150,
           150,
           150,
           150,
           150,
           150,
           147,
           145,
           142,
           139,
           137,
           134,
           132,
           131,
           130,
           129,
           128,
           128,
           128,
           128,
           128,
           126,
           123,
           121,
           119,
           116,
           114,
           112,
           110,
           108,
           105,
           103,
           101,
           103,
           103,
           103,
           102,
           102,
           101,
           100,
           100,
           100
          ],
          [
           116,
           117,
           118,
           118,
           119,
           120,
           122,
           123,
           125,
           128,
           131,
           134,
           137,
           141,
           145,
           148,
           149,
           150,
           150,
           150,
           150,
           150,
           150,
           150,
           148,
           145,
           143,
           141,
           138,
           135,
           133,
           130,
           129,
           128,
           127,
           126,
           125,
           125,
           125,
           124,
           123,
           120,
           118,
           116,
           114,
           111,
           109,
           107,
           106,
           104,
           102,
           100,
           101,
           101,
           102,
           102,
           101,
           100,
           100,
           100,
           100
          ],
          [
           116,
           117,
           118,
           119,
           120,
           121,
           123,
           124,
           126,
           128,
           130,
           133,
           137,
           140,
           144,
           145,
           147,
           148,
           149,
           150,
           149,
           149,
           147,
           146,
           144,
           141,
           139,
           136,
           133,
           131,
           129,
           128,
           127,
           126,
           125,
           124,
           123,
           123,
           122,
           121,
           120,
           118,
           116,
           114,
           112,
           108,
           107,
           105,
           103,
           102,
           100,
           100,
           100,
           100,
           101,
           101,
           100,
           100,
           100,
           100,
           100
          ],
          [
           117,
           118,
           119,
           119,
           120,
           121,
           123,
           124,
           126,
           128,
           129,
           131,
           135,
           139,
           142,
           143,
           145,
           146,
           147,
           147,
           147,
           146,
           144,
           142,
           140,
           138,
           135,
           133,
           130,
           128,
           127,
           126,
           125,
           124,
           123,
           122,
           121,
           120,
           119,
           118,
           117,
           115,
           114,
           112,
           110,
           106,
           105,
           102,
           101,
           100,
           100,
           100,
           100,
           100,
           100,
           100,
           100,
           99,
           99,
           99,
           99
          ],
          [
           117,
           118,
           119,
           120,
           120,
           121,
           123,
           124,
           125,
           126,
           128,
           129,
           132,
           137,
           140,
           142,
           143,
           143,
           144,
           144,
           144,
           143,
           141,
           139,
           137,
           135,
           133,
           130,
           128,
           127,
           126,
           125,
           123,
           122,
           121,
           120,
           119,
           117,
           116,
           115,
           114,
           112,
           111,
           108,
           107,
           105,
           100,
           100,
           100,
           100,
           100,
           100,
           100,
           99,
           99,
           99,
           99,
           99,
           99,
           99,
           98
          ],
          [
           116,
           117,
           118,
           120,
           120,
           121,
           122,
           123,
           124,
           125,
           126,
           128,
           130,
           134,
           139,
           140,
           141,
           141,
           141,
           141,
           141,
           140,
           138,
           136,
           134,
           133,
           131,
           129,
           127,
           125,
           124,
           123,
           122,
           120,
           119,
           118,
           117,
           116,
           114,
           112,
           111,
           108,
           109,
           106,
           106,
           100,
           100,
           100,
           100,
           100,
           99,
           99,
           99,
           99,
           99,
           99,
           99,
           98,
           98,
           98,
           97
          ],
          [
           114,
           115,
           116,
           117,
           119,
           119,
           120,
           121,
           122,
           123,
           125,
           127,
           129,
           133,
           136,
           134,
           134,
           136,
           138,
           138,
           137,
           137,
           135,
           133,
           132,
           130,
           129,
           127,
           125,
           124,
           122,
           121,
           120,
           119,
           117,
           116,
           115,
           114,
           112,
           110,
           109,
           108,
           107,
           105,
           105,
           100,
           100,
           100,
           100,
           99,
           99,
           99,
           98,
           98,
           98,
           98,
           98,
           97,
           97,
           97,
           97
          ],
          [
           112,
           113,
           114,
           115,
           116,
           116,
           117,
           119,
           120,
           122,
           124,
           126,
           127,
           129,
           129,
           128,
           127,
           129,
           132,
           133,
           133,
           133,
           133,
           131,
           129,
           127,
           126,
           125,
           124,
           122,
           121,
           119,
           118,
           117,
           116,
           114,
           113,
           112,
           110,
           109,
           108,
           106,
           106,
           105,
           100,
           100,
           100,
           98,
           98,
           98,
           98,
           98,
           98,
           97,
           97,
           97,
           97,
           97,
           97,
           97,
           96
          ],
          [
           109,
           111,
           112,
           112,
           113,
           113,
           113,
           114,
           116,
           119,
           121,
           123,
           124,
           125,
           124,
           123,
           123,
           123,
           125,
           127,
           129,
           129,
           128,
           128,
           127,
           125,
           124,
           123,
           122,
           121,
           119,
           118,
           117,
           116,
           114,
           113,
           112,
           110,
           109,
           108,
           107,
           106,
           105,
           100,
           100,
           100,
           97,
           97,
           97,
           97,
           97,
           97,
           97,
           96,
           96,
           96,
           96,
           96,
           96,
           96,
           96
          ],
          [
           106,
           107,
           108,
           108,
           109,
           110,
           110,
           112,
           113,
           114,
           117,
           119,
           120,
           121,
           119,
           117,
           117,
           117,
           118,
           120,
           123,
           124,
           125,
           125,
           125,
           123,
           121,
           120,
           120,
           119,
           118,
           117,
           116,
           115,
           114,
           113,
           111,
           109,
           109,
           107,
           106,
           105,
           100,
           100,
           100,
           96,
           96,
           96,
           96,
           96,
           96,
           96,
           96,
           96,
           96,
           96,
           96,
           96,
           96,
           96,
           96
          ],
          [
           104,
           105,
           105,
           106,
           106,
           107,
           108,
           108,
           109,
           109,
           111,
           115,
           116,
           114,
           113,
           112,
           111,
           110,
           111,
           113,
           116,
           119,
           122,
           122,
           122,
           121,
           120,
           119,
           118,
           118,
           117,
           116,
           115,
           114,
           113,
           112,
           111,
           108,
           108,
           106,
           105,
           100,
           100,
           100,
           96,
           96,
           96,
           96,
           96,
           96,
           96,
           96,
           96,
           96,
           96,
           96,
           96,
           96,
           96,
           96,
           96
          ],
          [
           102,
           103,
           103,
           104,
           104,
           105,
           106,
           106,
           107,
           108,
           109,
           111,
           112,
           110,
           109,
           108,
           108,
           108,
           108,
           109,
           110,
           112,
           116,
           117,
           117,
           118,
           118,
           118,
           117,
           116,
           116,
           115,
           114,
           113,
           112,
           111,
           110,
           107,
           107,
           105,
           100,
           100,
           100,
           97,
           96,
           96,
           96,
           96,
           96,
           96,
           96,
           96,
           96,
           96,
           96,
           96,
           96,
           96,
           96,
           96,
           96
          ],
          [
           101,
           102,
           103,
           103,
           104,
           105,
           105,
           106,
           106,
           107,
           108,
           109,
           109,
           107,
           106,
           106,
           105,
           105,
           105,
           106,
           107,
           108,
           109,
           110,
           111,
           113,
           114,
           115,
           115,
           115,
           114,
           113,
           112,
           111,
           110,
           108,
           108,
           106,
           105,
           100,
           100,
           100,
           97,
           97,
           96,
           96,
           96,
           96,
           96,
           96,
           96,
           96,
           96,
           96,
           96,
           96,
           96,
           96,
           96,
           96,
           96
          ],
          [
           100,
           101,
           102,
           102,
           103,
           103,
           104,
           104,
           105,
           106,
           106,
           107,
           106,
           106,
           106,
           105,
           105,
           104,
           103,
           103,
           104,
           105,
           107,
           108,
           110,
           111,
           111,
           112,
           112,
           113,
           113,
           112,
           111,
           110,
           108,
           107,
           106,
           105,
           100,
           100,
           100,
           98,
           97,
           97,
           96,
           96,
           96,
           96,
           96,
           96,
           96,
           96,
           96,
           96,
           96,
           96,
           96,
           96,
           96,
           96,
           96
          ],
          [
           100,
           101,
           101,
           102,
           102,
           103,
           103,
           104,
           104,
           105,
           105,
           105,
           105,
           106,
           105,
           105,
           104,
           103,
           102,
           101,
           102,
           103,
           104,
           106,
           107,
           110,
           111,
           111,
           111,
           112,
           112,
           112,
           110,
           107,
           107,
           106,
           105,
           102,
           100,
           100,
           99,
           98,
           97,
           97,
           96,
           96,
           96,
           96,
           96,
           96,
           96,
           96,
           96,
           96,
           96,
           96,
           96,
           96,
           96,
           96,
           95
          ],
          [
           99,
           100,
           101,
           102,
           102,
           103,
           103,
           103,
           104,
           104,
           104,
           104,
           103,
           104,
           104,
           104,
           104,
           102,
           101,
           101,
           102,
           103,
           104,
           105,
           107,
           110,
           111,
           111,
           111,
           111,
           111,
           111,
           108,
           106,
           105,
           105,
           102,
           101,
           100,
           99,
           99,
           98,
           97,
           97,
           96,
           96,
           96,
           96,
           96,
           96,
           96,
           96,
           96,
           96,
           96,
           96,
           96,
           96,
           96,
           95,
           95
          ],
          [
           99,
           100,
           100,
           101,
           101,
           102,
           102,
           102,
           103,
           103,
           103,
           103,
           102,
           103,
           103,
           104,
           103,
           102,
           101,
           101,
           101,
           102,
           103,
           104,
           106,
           109,
           110,
           111,
           111,
           111,
           110,
           110,
           107,
           105,
           103,
           104,
           100,
           100,
           99,
           99,
           98,
           98,
           97,
           97,
           96,
           96,
           96,
           96,
           96,
           96,
           96,
           96,
           96,
           96,
           95,
           95,
           95,
           95,
           95,
           95,
           95
          ],
          [
           99,
           100,
           100,
           100,
           101,
           101,
           101,
           102,
           102,
           103,
           102,
           102,
           101,
           102,
           102,
           103,
           103,
           101,
           101,
           100,
           101,
           101,
           102,
           103,
           105,
           109,
           110,
           110,
           111,
           110,
           110,
           109,
           106,
           105,
           100,
           102,
           100,
           99,
           99,
           99,
           98,
           98,
           97,
           97,
           96,
           96,
           96,
           96,
           96,
           96,
           95,
           95,
           95,
           95,
           95,
           95,
           95,
           95,
           95,
           95,
           94
          ],
          [
           99,
           99,
           99,
           99,
           100,
           100,
           101,
           101,
           102,
           102,
           101,
           101,
           101,
           101,
           101,
           102,
           102,
           101,
           100,
           100,
           101,
           101,
           101,
           103,
           104,
           107,
           109,
           109,
           110,
           110,
           109,
           108,
           105,
           102,
           100,
           100,
           99,
           99,
           99,
           98,
           98,
           98,
           97,
           96,
           96,
           96,
           96,
           96,
           95,
           95,
           95,
           95,
           95,
           95,
           95,
           94,
           94,
           94,
           94,
           94,
           94
          ],
          [
           98,
           99,
           99,
           99,
           99,
           100,
           100,
           101,
           101,
           102,
           101,
           100,
           100,
           100,
           101,
           101,
           101,
           100,
           100,
           100,
           100,
           101,
           101,
           101,
           103,
           106,
           107,
           109,
           109,
           109,
           109,
           107,
           104,
           101,
           100,
           99,
           99,
           99,
           98,
           98,
           98,
           97,
           96,
           96,
           96,
           96,
           95,
           95,
           95,
           95,
           95,
           95,
           95,
           94,
           94,
           94,
           94,
           94,
           94,
           94,
           94
          ],
          [
           98,
           98,
           98,
           99,
           99,
           99,
           100,
           100,
           101,
           101,
           100,
           100,
           99,
           99,
           100,
           100,
           100,
           100,
           100,
           100,
           100,
           101,
           101,
           101,
           102,
           105,
           106,
           109,
           108,
           109,
           107,
           105,
           102,
           100,
           100,
           99,
           99,
           98,
           98,
           98,
           97,
           96,
           96,
           96,
           96,
           95,
           95,
           95,
           95,
           95,
           95,
           94,
           94,
           94,
           94,
           94,
           94,
           94,
           94,
           94,
           94
          ],
          [
           97,
           98,
           98,
           98,
           99,
           99,
           99,
           100,
           100,
           100,
           100,
           100,
           99,
           99,
           99,
           100,
           100,
           100,
           100,
           100,
           100,
           100,
           101,
           101,
           101,
           103,
           104,
           105,
           106,
           105,
           104,
           101,
           100,
           100,
           99,
           99,
           98,
           98,
           97,
           97,
           97,
           96,
           96,
           96,
           95,
           95,
           95,
           95,
           95,
           94,
           94,
           94,
           94,
           94,
           94,
           94,
           94,
           94,
           94,
           94,
           94
          ],
          [
           97,
           97,
           97,
           98,
           98,
           99,
           99,
           99,
           100,
           100,
           100,
           99,
           99,
           99,
           99,
           99,
           100,
           100,
           100,
           100,
           100,
           100,
           101,
           101,
           100,
           100,
           100,
           100,
           100,
           100,
           100,
           100,
           100,
           100,
           99,
           99,
           98,
           97,
           97,
           97,
           96,
           96,
           96,
           95,
           95,
           95,
           95,
           94,
           94,
           94,
           94,
           94,
           94,
           94,
           94,
           94,
           94,
           94,
           94,
           94,
           94
          ]
         ]
        }
       ],
       "layout": {
        "annotations": [
         {
          "align": "left",
          "showarrow": false,
          "text": "Countries:",
          "x": 0,
          "y": 1.085,
          "yref": "paper"
         }
        ],
        "autosize": false,
        "height": 900,
        "margin": {
         "b": 0,
         "l": 0,
         "r": 0,
         "t": 0
        },
        "template": {
         "data": {
          "bar": [
           {
            "error_x": {
             "color": "#2a3f5f"
            },
            "error_y": {
             "color": "#2a3f5f"
            },
            "marker": {
             "line": {
              "color": "white",
              "width": 0.5
             },
             "pattern": {
              "fillmode": "overlay",
              "size": 10,
              "solidity": 0.2
             }
            },
            "type": "bar"
           }
          ],
          "barpolar": [
           {
            "marker": {
             "line": {
              "color": "white",
              "width": 0.5
             },
             "pattern": {
              "fillmode": "overlay",
              "size": 10,
              "solidity": 0.2
             }
            },
            "type": "barpolar"
           }
          ],
          "carpet": [
           {
            "aaxis": {
             "endlinecolor": "#2a3f5f",
             "gridcolor": "#C8D4E3",
             "linecolor": "#C8D4E3",
             "minorgridcolor": "#C8D4E3",
             "startlinecolor": "#2a3f5f"
            },
            "baxis": {
             "endlinecolor": "#2a3f5f",
             "gridcolor": "#C8D4E3",
             "linecolor": "#C8D4E3",
             "minorgridcolor": "#C8D4E3",
             "startlinecolor": "#2a3f5f"
            },
            "type": "carpet"
           }
          ],
          "choropleth": [
           {
            "colorbar": {
             "outlinewidth": 0,
             "ticks": ""
            },
            "type": "choropleth"
           }
          ],
          "contour": [
           {
            "colorbar": {
             "outlinewidth": 0,
             "ticks": ""
            },
            "colorscale": [
             [
              0,
              "#0d0887"
             ],
             [
              0.1111111111111111,
              "#46039f"
             ],
             [
              0.2222222222222222,
              "#7201a8"
             ],
             [
              0.3333333333333333,
              "#9c179e"
             ],
             [
              0.4444444444444444,
              "#bd3786"
             ],
             [
              0.5555555555555556,
              "#d8576b"
             ],
             [
              0.6666666666666666,
              "#ed7953"
             ],
             [
              0.7777777777777778,
              "#fb9f3a"
             ],
             [
              0.8888888888888888,
              "#fdca26"
             ],
             [
              1,
              "#f0f921"
             ]
            ],
            "type": "contour"
           }
          ],
          "contourcarpet": [
           {
            "colorbar": {
             "outlinewidth": 0,
             "ticks": ""
            },
            "type": "contourcarpet"
           }
          ],
          "heatmap": [
           {
            "colorbar": {
             "outlinewidth": 0,
             "ticks": ""
            },
            "colorscale": [
             [
              0,
              "#0d0887"
             ],
             [
              0.1111111111111111,
              "#46039f"
             ],
             [
              0.2222222222222222,
              "#7201a8"
             ],
             [
              0.3333333333333333,
              "#9c179e"
             ],
             [
              0.4444444444444444,
              "#bd3786"
             ],
             [
              0.5555555555555556,
              "#d8576b"
             ],
             [
              0.6666666666666666,
              "#ed7953"
             ],
             [
              0.7777777777777778,
              "#fb9f3a"
             ],
             [
              0.8888888888888888,
              "#fdca26"
             ],
             [
              1,
              "#f0f921"
             ]
            ],
            "type": "heatmap"
           }
          ],
          "heatmapgl": [
           {
            "colorbar": {
             "outlinewidth": 0,
             "ticks": ""
            },
            "colorscale": [
             [
              0,
              "#0d0887"
             ],
             [
              0.1111111111111111,
              "#46039f"
             ],
             [
              0.2222222222222222,
              "#7201a8"
             ],
             [
              0.3333333333333333,
              "#9c179e"
             ],
             [
              0.4444444444444444,
              "#bd3786"
             ],
             [
              0.5555555555555556,
              "#d8576b"
             ],
             [
              0.6666666666666666,
              "#ed7953"
             ],
             [
              0.7777777777777778,
              "#fb9f3a"
             ],
             [
              0.8888888888888888,
              "#fdca26"
             ],
             [
              1,
              "#f0f921"
             ]
            ],
            "type": "heatmapgl"
           }
          ],
          "histogram": [
           {
            "marker": {
             "pattern": {
              "fillmode": "overlay",
              "size": 10,
              "solidity": 0.2
             }
            },
            "type": "histogram"
           }
          ],
          "histogram2d": [
           {
            "colorbar": {
             "outlinewidth": 0,
             "ticks": ""
            },
            "colorscale": [
             [
              0,
              "#0d0887"
             ],
             [
              0.1111111111111111,
              "#46039f"
             ],
             [
              0.2222222222222222,
              "#7201a8"
             ],
             [
              0.3333333333333333,
              "#9c179e"
             ],
             [
              0.4444444444444444,
              "#bd3786"
             ],
             [
              0.5555555555555556,
              "#d8576b"
             ],
             [
              0.6666666666666666,
              "#ed7953"
             ],
             [
              0.7777777777777778,
              "#fb9f3a"
             ],
             [
              0.8888888888888888,
              "#fdca26"
             ],
             [
              1,
              "#f0f921"
             ]
            ],
            "type": "histogram2d"
           }
          ],
          "histogram2dcontour": [
           {
            "colorbar": {
             "outlinewidth": 0,
             "ticks": ""
            },
            "colorscale": [
             [
              0,
              "#0d0887"
             ],
             [
              0.1111111111111111,
              "#46039f"
             ],
             [
              0.2222222222222222,
              "#7201a8"
             ],
             [
              0.3333333333333333,
              "#9c179e"
             ],
             [
              0.4444444444444444,
              "#bd3786"
             ],
             [
              0.5555555555555556,
              "#d8576b"
             ],
             [
              0.6666666666666666,
              "#ed7953"
             ],
             [
              0.7777777777777778,
              "#fb9f3a"
             ],
             [
              0.8888888888888888,
              "#fdca26"
             ],
             [
              1,
              "#f0f921"
             ]
            ],
            "type": "histogram2dcontour"
           }
          ],
          "mesh3d": [
           {
            "colorbar": {
             "outlinewidth": 0,
             "ticks": ""
            },
            "type": "mesh3d"
           }
          ],
          "parcoords": [
           {
            "line": {
             "colorbar": {
              "outlinewidth": 0,
              "ticks": ""
             }
            },
            "type": "parcoords"
           }
          ],
          "pie": [
           {
            "automargin": true,
            "type": "pie"
           }
          ],
          "scatter": [
           {
            "fillpattern": {
             "fillmode": "overlay",
             "size": 10,
             "solidity": 0.2
            },
            "type": "scatter"
           }
          ],
          "scatter3d": [
           {
            "line": {
             "colorbar": {
              "outlinewidth": 0,
              "ticks": ""
             }
            },
            "marker": {
             "colorbar": {
              "outlinewidth": 0,
              "ticks": ""
             }
            },
            "type": "scatter3d"
           }
          ],
          "scattercarpet": [
           {
            "marker": {
             "colorbar": {
              "outlinewidth": 0,
              "ticks": ""
             }
            },
            "type": "scattercarpet"
           }
          ],
          "scattergeo": [
           {
            "marker": {
             "colorbar": {
              "outlinewidth": 0,
              "ticks": ""
             }
            },
            "type": "scattergeo"
           }
          ],
          "scattergl": [
           {
            "marker": {
             "colorbar": {
              "outlinewidth": 0,
              "ticks": ""
             }
            },
            "type": "scattergl"
           }
          ],
          "scattermapbox": [
           {
            "marker": {
             "colorbar": {
              "outlinewidth": 0,
              "ticks": ""
             }
            },
            "type": "scattermapbox"
           }
          ],
          "scatterpolar": [
           {
            "marker": {
             "colorbar": {
              "outlinewidth": 0,
              "ticks": ""
             }
            },
            "type": "scatterpolar"
           }
          ],
          "scatterpolargl": [
           {
            "marker": {
             "colorbar": {
              "outlinewidth": 0,
              "ticks": ""
             }
            },
            "type": "scatterpolargl"
           }
          ],
          "scatterternary": [
           {
            "marker": {
             "colorbar": {
              "outlinewidth": 0,
              "ticks": ""
             }
            },
            "type": "scatterternary"
           }
          ],
          "surface": [
           {
            "colorbar": {
             "outlinewidth": 0,
             "ticks": ""
            },
            "colorscale": [
             [
              0,
              "#0d0887"
             ],
             [
              0.1111111111111111,
              "#46039f"
             ],
             [
              0.2222222222222222,
              "#7201a8"
             ],
             [
              0.3333333333333333,
              "#9c179e"
             ],
             [
              0.4444444444444444,
              "#bd3786"
             ],
             [
              0.5555555555555556,
              "#d8576b"
             ],
             [
              0.6666666666666666,
              "#ed7953"
             ],
             [
              0.7777777777777778,
              "#fb9f3a"
             ],
             [
              0.8888888888888888,
              "#fdca26"
             ],
             [
              1,
              "#f0f921"
             ]
            ],
            "type": "surface"
           }
          ],
          "table": [
           {
            "cells": {
             "fill": {
              "color": "#EBF0F8"
             },
             "line": {
              "color": "white"
             }
            },
            "header": {
             "fill": {
              "color": "#C8D4E3"
             },
             "line": {
              "color": "white"
             }
            },
            "type": "table"
           }
          ]
         },
         "layout": {
          "annotationdefaults": {
           "arrowcolor": "#2a3f5f",
           "arrowhead": 0,
           "arrowwidth": 1
          },
          "autotypenumbers": "strict",
          "coloraxis": {
           "colorbar": {
            "outlinewidth": 0,
            "ticks": ""
           }
          },
          "colorscale": {
           "diverging": [
            [
             0,
             "#8e0152"
            ],
            [
             0.1,
             "#c51b7d"
            ],
            [
             0.2,
             "#de77ae"
            ],
            [
             0.3,
             "#f1b6da"
            ],
            [
             0.4,
             "#fde0ef"
            ],
            [
             0.5,
             "#f7f7f7"
            ],
            [
             0.6,
             "#e6f5d0"
            ],
            [
             0.7,
             "#b8e186"
            ],
            [
             0.8,
             "#7fbc41"
            ],
            [
             0.9,
             "#4d9221"
            ],
            [
             1,
             "#276419"
            ]
           ],
           "sequential": [
            [
             0,
             "#0d0887"
            ],
            [
             0.1111111111111111,
             "#46039f"
            ],
            [
             0.2222222222222222,
             "#7201a8"
            ],
            [
             0.3333333333333333,
             "#9c179e"
            ],
            [
             0.4444444444444444,
             "#bd3786"
            ],
            [
             0.5555555555555556,
             "#d8576b"
            ],
            [
             0.6666666666666666,
             "#ed7953"
            ],
            [
             0.7777777777777778,
             "#fb9f3a"
            ],
            [
             0.8888888888888888,
             "#fdca26"
            ],
            [
             1,
             "#f0f921"
            ]
           ],
           "sequentialminus": [
            [
             0,
             "#0d0887"
            ],
            [
             0.1111111111111111,
             "#46039f"
            ],
            [
             0.2222222222222222,
             "#7201a8"
            ],
            [
             0.3333333333333333,
             "#9c179e"
            ],
            [
             0.4444444444444444,
             "#bd3786"
            ],
            [
             0.5555555555555556,
             "#d8576b"
            ],
            [
             0.6666666666666666,
             "#ed7953"
            ],
            [
             0.7777777777777778,
             "#fb9f3a"
            ],
            [
             0.8888888888888888,
             "#fdca26"
            ],
            [
             1,
             "#f0f921"
            ]
           ]
          },
          "colorway": [
           "#636efa",
           "#EF553B",
           "#00cc96",
           "#ab63fa",
           "#FFA15A",
           "#19d3f3",
           "#FF6692",
           "#B6E880",
           "#FF97FF",
           "#FECB52"
          ],
          "font": {
           "color": "#2a3f5f"
          },
          "geo": {
           "bgcolor": "white",
           "lakecolor": "white",
           "landcolor": "white",
           "showlakes": true,
           "showland": true,
           "subunitcolor": "#C8D4E3"
          },
          "hoverlabel": {
           "align": "left"
          },
          "hovermode": "closest",
          "mapbox": {
           "style": "light"
          },
          "paper_bgcolor": "white",
          "plot_bgcolor": "white",
          "polar": {
           "angularaxis": {
            "gridcolor": "#EBF0F8",
            "linecolor": "#EBF0F8",
            "ticks": ""
           },
           "bgcolor": "white",
           "radialaxis": {
            "gridcolor": "#EBF0F8",
            "linecolor": "#EBF0F8",
            "ticks": ""
           }
          },
          "scene": {
           "xaxis": {
            "backgroundcolor": "white",
            "gridcolor": "#DFE8F3",
            "gridwidth": 2,
            "linecolor": "#EBF0F8",
            "showbackground": true,
            "ticks": "",
            "zerolinecolor": "#EBF0F8"
           },
           "yaxis": {
            "backgroundcolor": "white",
            "gridcolor": "#DFE8F3",
            "gridwidth": 2,
            "linecolor": "#EBF0F8",
            "showbackground": true,
            "ticks": "",
            "zerolinecolor": "#EBF0F8"
           },
           "zaxis": {
            "backgroundcolor": "white",
            "gridcolor": "#DFE8F3",
            "gridwidth": 2,
            "linecolor": "#EBF0F8",
            "showbackground": true,
            "ticks": "",
            "zerolinecolor": "#EBF0F8"
           }
          },
          "shapedefaults": {
           "line": {
            "color": "#2a3f5f"
           }
          },
          "ternary": {
           "aaxis": {
            "gridcolor": "#DFE8F3",
            "linecolor": "#A2B1C6",
            "ticks": ""
           },
           "baxis": {
            "gridcolor": "#DFE8F3",
            "linecolor": "#A2B1C6",
            "ticks": ""
           },
           "bgcolor": "white",
           "caxis": {
            "gridcolor": "#DFE8F3",
            "linecolor": "#A2B1C6",
            "ticks": ""
           }
          },
          "title": {
           "x": 0.05
          },
          "xaxis": {
           "automargin": true,
           "gridcolor": "#EBF0F8",
           "linecolor": "#EBF0F8",
           "ticks": "",
           "title": {
            "standoff": 15
           },
           "zerolinecolor": "#EBF0F8",
           "zerolinewidth": 2
          },
          "yaxis": {
           "automargin": true,
           "gridcolor": "#EBF0F8",
           "linecolor": "#EBF0F8",
           "ticks": "",
           "title": {
            "standoff": 15
           },
           "zerolinecolor": "#EBF0F8",
           "zerolinewidth": 2
          }
         }
        },
        "updatemenus": [
         {
          "buttons": [
           {
            "args": [
             "type",
             "surface"
            ],
            "label": "Asia",
            "method": "restyle"
           },
           {
            "args": [
             "type",
             "heatmap"
            ],
            "label": "America",
            "method": "restyle"
           },
           {
            "args": [
             "type",
             "heatmap"
            ],
            "label": "Africa",
            "method": "restyle"
           }
          ],
          "direction": "down",
          "pad": {
           "r": 10,
           "t": 10
          },
          "showactive": true,
          "x": 0.1,
          "xanchor": "left",
          "y": 1.1,
          "yanchor": "top"
         }
        ],
        "width": 800
       }
      },
      "text/html": [
       "<div>                            <div id=\"e238fc4a-b5ed-4537-9fc6-e28eeb553eac\" class=\"plotly-graph-div\" style=\"height:900px; width:800px;\"></div>            <script type=\"text/javascript\">                require([\"plotly\"], function(Plotly) {                    window.PLOTLYENV=window.PLOTLYENV || {};                                    if (document.getElementById(\"e238fc4a-b5ed-4537-9fc6-e28eeb553eac\")) {                    Plotly.newPlot(                        \"e238fc4a-b5ed-4537-9fc6-e28eeb553eac\",                        [{\"colorscale\":[[0.0,\"#440154\"],[0.1111111111111111,\"#482878\"],[0.2222222222222222,\"#3e4989\"],[0.3333333333333333,\"#31688e\"],[0.4444444444444444,\"#26828e\"],[0.5555555555555556,\"#1f9e89\"],[0.6666666666666666,\"#35b779\"],[0.7777777777777778,\"#6ece58\"],[0.8888888888888888,\"#b5de2b\"],[1.0,\"#fde725\"]],\"z\":[[100,100,101,101,101,101,101,100,100,100,101,101,102,102,102,102,103,104,103,102,101,101,102,103,104,104,105,107,107,107,108,108,110,110,110,110,110,110,110,110,108,108,108,107,107,108,108,108,108,108,107,107,107,107,106,106,105,105,104,104,103],[101,101,102,102,102,102,102,101,101,101,102,102,103,103,103,103,104,105,104,103,102,102,103,105,106,106,107,109,110,110,110,110,111,112,113,114,116,115,114,112,110,110,110,109,108,109,109,109,109,108,108,108,108,107,107,106,106,105,105,104,104],[102,102,103,103,103,103,103,102,102,102,103,103,104,104,104,104,105,106,105,104,104,105,106,107,108,110,111,113,114,115,114,115,116,118,119,119,121,121,120,118,116,114,112,111,110,110,110,110,109,109,109,109,108,108,107,107,106,106,105,105,104],[103,103,104,104,104,104,104,103,103,103,103,104,104,104,105,105,106,107,106,106,106,107,108,110,111,114,117,118,117,119,120,121,122,124,125,126,127,127,126,124,122,120,117,116,113,111,110,110,110,109,109,109,109,108,108,107,107,106,106,105,105],[104,104,105,105,105,105,105,104,104,103,104,104,105,105,105,106,107,108,108,108,109,110,112,114,115,118,121,122,121,123,128,131,129,130,131,131,132,132,131,130,128,126,122,119,115,114,112,110,110,110,110,110,109,109,108,107,107,107,106,106,105],[105,105,105,106,106,106,106,105,105,104,104,105,105,106,106,107,109,110,110,112,113,115,116,118,119,121,124,126,126,129,134,137,137,136,136,135,136,136,136,135,133,129,126,122,118,116,115,113,111,110,110,110,110,109,108,108,108,107,107,106,106],[105,106,106,107,107,107,107,106,106,105,105,106,106,107,108,109,111,113,114,116,118,120,121,122,123,125,127,129,130,135,140,142,142,142,141,140,140,140,140,139,137,134,129,125,121,118,116,114,112,110,110,110,111,110,109,109,108,108,107,107,106],[106,107,107,108,108,108,108,107,107,106,106,107,108,108,110,113,115,117,118,120,122,124,125,127,128,129,131,134,135,141,146,147,146,146,145,144,144,144,143,142,141,139,135,130,126,122,118,116,114,112,112,113,112,110,110,109,109,108,108,107,106],[107,108,108,109,109,109,109,108,108,107,108,108,110,111,113,116,118,120,123,125,127,129,130,132,134,135,137,139,142,146,152,152,151,151,150,149,148,148,146,145,143,142,139,135,131,127,122,119,117,115,115,115,114,112,110,110,109,109,108,107,107],[108,109,109,110,110,110,110,109,109,108,110,110,113,116,118,120,122,125,127,129,133,136,138,140,141,142,148,150,151,156,158,159,158,157,158,158,154,151,149,148,146,144,141,137,134,130,125,122,120,118,117,117,115,113,111,110,110,109,108,107,107],[109,110,110,111,111,111,111,110,110,110,112,114,118,121,123,125,127,129,133,137,141,143,145,146,148,150,154,156,159,161,162,163,164,163,164,164,160,157,154,151,149,146,144,140,137,133,129,126,124,121,119,118,116,114,112,111,110,109,108,107,106],[110,110,111,113,112,111,113,112,112,114,116,119,121,124,127,129,133,138,143,146,149,149,151,153,154,157,159,160,163,165,166,167,168,168,168,168,166,162,159,157,154,152,149,144,140,136,133,131,128,125,122,119,117,115,113,111,110,109,108,107,106],[110,111,113,115,114,113,114,114,115,117,119,121,124,126,129,133,140,145,150,154,155,155,157,159,161,162,164,165,167,168,169,170,172,174,172,172,171,169,166,163,161,158,153,148,143,140,137,134,131,128,125,120,118,116,114,112,110,109,108,107,105],[111,113,115,117,116,115,116,117,117,119,121,124,126,128,132,137,143,151,156,161,161,162,163,165,166,167,168,170,171,173,175,177,179,178,177,176,176,174,171,169,165,161,156,152,148,144,140,138,135,131,127,123,119,117,115,113,111,110,108,106,105],[114,115,117,117,117,118,119,119,120,121,124,126,128,131,137,143,150,156,160,163,165,168,170,171,172,173,174,175,177,179,180,182,183,183,183,183,180,178,177,172,168,164,160,156,152,148,144,141,138,134,130,126,121,117,114,112,110,110,108,106,104],[116,118,118,118,120,121,121,122,122,123,125,128,130,134,141,147,152,156,160,165,168,170,174,176,179,180,181,181,182,182,183,184,186,187,187,184,184,181,180,176,172,168,165,161,157,153,149,145,142,138,133,129,125,120,115,111,110,110,108,106,104],[118,120,120,121,122,123,124,124,125,126,127,129,132,135,142,149,153,157,161,166,170,174,178,180,182,183,184,184,185,186,186,187,189,189,189,189,189,186,182,179,175,171,168,165,162,157,152,149,145,141,137,131,125,120,116,111,110,110,108,106,104],[120,121,122,123,124,125,126,127,127,128,130,132,134,137,142,151,155,158,162,169,172,176,181,183,184,186,187,188,189,189,189,189,190,190,191,190,190,188,186,183,180,175,171,168,165,161,157,152,149,145,141,134,127,121,116,112,110,110,108,106,104],[120,122,125,126,126,127,128,129,130,130,132,134,136,139,145,152,157,160,167,172,175,178,181,185,186,188,190,191,192,193,193,192,192,191,192,191,191,190,190,187,184,181,177,172,169,165,161,156,152,147,143,139,131,123,119,115,111,110,108,106,105],[121,124,126,128,129,129,130,131,132,133,135,137,139,143,150,154,159,164,170,173,176,179,184,186,189,190,191,192,193,194,195,194,193,192,191,191,191,191,190,190,188,184,181,177,173,169,165,160,155,149,145,142,136,129,123,118,114,110,108,108,107],[122,125,127,130,130,131,133,134,135,136,137,140,143,147,154,158,162,166,171,174,177,181,186,189,190,190,191,192,191,191,190,189,188,189,190,190,191,190,190,190,189,186,184,181,177,173,169,164,158,152,148,144,140,134,125,118,115,111,110,108,107],[122,125,128,130,132,133,135,136,137,139,140,143,147,152,157,161,164,168,172,175,179,182,186,190,190,190,190,189,187,184,184,183,182,182,183,183,183,184,185,186,187,186,185,184,181,177,173,169,163,157,149,145,141,136,130,119,116,112,110,108,106],[123,126,129,131,133,135,137,138,139,141,143,147,150,156,161,164,167,170,173,177,181,184,187,188,190,189,187,185,183,179,176,174,174,174,174,174,176,177,179,180,182,183,182,181,181,180,176,171,166,160,152,147,142,138,133,126,121,115,110,106,105],[124,127,130,132,135,137,138,140,142,144,147,149,154,157,161,165,168,171,175,178,181,184,186,187,187,184,184,181,179,175,171,169,168,168,168,169,170,172,174,177,178,179,180,181,181,180,179,174,167,161,155,148,144,139,134,128,121,115,110,106,105],[123,128,131,133,136,138,140,142,144,146,149,151,154,157,160,164,168,172,175,178,181,183,184,184,185,183,180,177,174,170,167,165,164,164,164,165,166,168,171,175,176,178,180,181,180,180,179,177,170,163,157,150,144,139,134,128,121,115,110,108,107],[123,127,131,134,136,138,140,142,144,147,149,151,154,157,160,164,168,171,174,178,180,181,181,182,183,181,178,173,169,166,163,161,161,160,160,161,163,165,168,173,176,178,179,180,181,180,180,175,173,166,159,152,145,139,134,127,121,115,110,109,108],[120,124,128,131,134,137,139,142,144,146,149,151,153,156,160,163,167,171,174,178,180,180,180,180,180,180,175,171,167,162,160,158,157,157,157,158,159,162,166,170,175,177,178,180,181,181,180,178,175,169,160,154,148,140,134,128,121,115,110,110,109],[118,121,125,129,132,134,137,140,142,145,147,149,151,155,159,163,166,169,173,177,179,180,180,180,180,179,174,169,166,161,158,156,154,153,153,154,156,159,163,169,173,175,178,180,181,180,180,179,175,170,160,154,149,142,135,128,122,116,111,110,110],[117,120,121,125,129,132,135,138,140,143,145,147,149,153,157,160,163,166,171,174,177,179,180,180,180,179,172,168,164,160,157,154,151,149,150,150,154,158,164,169,174,178,180,180,180,180,178,177,175,170,161,153,148,142,135,129,123,116,113,112,110],[115,118,120,122,126,130,133,136,138,141,143,145,148,151,154,157,160,163,168,171,174,177,179,179,179,176,171,167,164,160,156,153,149,148,149,151,155,158,163,170,173,177,179,180,180,180,178,175,173,171,162,154,147,141,136,130,124,117,115,112,110],[114,116,118,120,122,127,131,133,136,138,141,143,146,148,151,154,157,160,164,168,171,174,178,178,179,177,173,169,165,161,157,154,151,149,150,152,155,159,166,171,175,177,179,180,180,179,176,174,171,168,159,151,146,141,135,129,124,119,116,113,110],[115,114,116,118,120,122,127,129,132,136,139,141,143,146,148,151,153,156,160,164,167,172,174,176,177,176,173,170,166,162,159,157,154,153,154,155,158,161,169,172,174,176,178,178,178,178,175,172,169,162,156,149,144,140,134,128,123,118,115,112,110],[113,113,114,116,118,120,122,125,129,133,136,138,141,143,146,149,150,153,156,160,165,170,173,176,176,176,173,172,169,165,163,160,158,157,158,159,161,166,170,170,173,175,176,178,176,173,171,168,164,158,153,146,140,137,132,127,121,117,113,111,110],[111,112,113,114,116,118,120,122,126,130,133,136,139,142,145,147,148,151,155,158,163,168,173,176,177,177,176,174,171,169,166,164,161,161,162,164,165,167,170,170,171,173,173,173,170,168,165,163,160,155,149,143,138,134,130,125,119,116,112,110,109],[110,112,113,113,114,116,118,120,123,127,131,134,137,141,143,145,148,150,154,157,161,166,171,176,178,178,178,176,174,172,170,167,167,167,166,168,170,169,168,167,168,168,168,168,167,165,163,160,156,152,146,140,136,131,128,122,118,114,110,110,109],[109,110,111,112,114,116,118,119,120,124,128,131,136,140,142,145,147,150,153,157,160,165,170,174,178,179,179,178,178,176,174,171,170,170,170,168,167,166,164,163,161,162,163,163,163,161,160,157,153,148,142,136,130,127,124,120,117,113,110,110,109],[108,109,111,112,114,116,117,118,120,121,125,128,132,138,142,144,147,149,153,156,160,164,170,174,178,180,180,179,179,178,176,172,170,170,170,168,166,164,162,160,157,156,157,158,158,156,153,151,149,144,139,130,127,124,121,118,115,112,110,110,109],[108,109,111,113,114,116,117,118,119,120,122,126,130,135,139,143,147,149,152,156,160,164,169,173,177,180,180,180,180,179,178,174,170,170,168,167,165,163,161,157,154,153,152,152,152,149,148,147,144,140,134,128,125,122,119,117,114,110,110,109,109],[107,108,111,112,114,115,116,117,119,120,121,124,128,133,137,141,145,149,152,156,160,164,168,172,176,179,180,180,180,179,178,174,170,168,166,165,163,161,158,154,150,149,148,146,145,143,143,143,140,136,130,126,123,120,118,115,112,110,110,109,109],[107,108,110,112,113,113,115,116,118,120,122,125,128,132,136,140,145,148,150,155,160,164,167,170,174,177,179,179,178,176,176,173,169,166,164,163,161,159,155,152,148,145,143,141,140,139,139,138,136,132,128,124,121,118,116,114,111,110,110,109,108],[107,108,109,111,113,114,116,117,119,120,122,125,128,132,137,141,144,146,149,152,157,162,166,168,171,173,175,175,173,172,172,171,168,165,162,160,158,156,153,149,145,142,139,138,137,136,135,133,131,129,126,122,119,117,114,112,110,110,109,108,107],[108,109,110,112,114,115,116,117,119,120,122,126,129,133,137,141,143,146,148,151,155,160,164,167,168,169,170,170,169,168,167,168,166,163,160,158,155,153,150,147,143,140,137,136,134,133,132,130,129,127,125,121,118,115,112,110,110,110,108,107,107],[109,110,111,113,115,116,117,118,120,121,123,126,129,133,138,141,143,146,148,150,155,159,163,165,166,167,168,168,166,165,164,161,160,159,158,155,152,149,147,144,141,138,135,134,132,130,129,128,126,124,122,120,117,113,111,110,110,110,108,107,107],[110,111,112,113,116,117,118,119,120,122,125,127,130,133,138,141,143,146,148,150,154,159,162,163,164,166,166,166,165,163,161,159,157,156,155,153,150,146,143,140,138,136,133,132,130,129,128,125,124,122,120,119,117,114,111,110,110,109,108,107,107],[111,112,113,114,116,117,118,119,120,123,125,128,130,134,139,141,144,146,148,151,154,158,161,164,166,167,168,166,165,163,161,158,156,154,152,150,146,142,139,137,135,133,131,130,129,128,127,125,123,121,120,118,116,113,111,110,110,109,108,107,106],[111,112,113,115,117,118,118,120,121,124,126,128,131,135,139,142,144,146,148,151,155,160,164,165,168,169,169,168,166,163,160,158,156,153,151,148,145,142,139,137,135,132,130,129,127,126,125,124,123,120,120,117,116,114,112,110,110,108,107,106,106],[112,113,114,116,117,118,119,120,122,124,127,129,132,135,139,142,144,146,149,152,157,162,167,169,170,170,170,168,165,163,161,159,157,155,151,148,145,141,139,136,134,132,130,128,127,126,124,123,122,120,119,117,116,114,112,111,109,107,106,106,105],[113,114,115,116,117,119,119,120,122,125,127,129,132,135,139,142,144,147,149,154,159,164,169,170,170,170,170,170,168,165,163,161,158,155,151,148,145,142,139,137,135,132,131,128,126,125,124,122,121,120,119,117,115,113,111,110,109,106,105,105,104],[113,114,115,117,118,119,120,121,123,125,127,130,132,135,139,142,145,148,150,156,161,166,170,170,170,170,170,170,169,166,163,161,159,155,151,148,146,143,140,138,135,134,132,130,127,125,123,121,120,120,119,116,114,112,110,110,108,106,105,104,104],[114,115,116,117,118,119,120,121,123,126,128,130,133,136,139,142,145,148,152,157,161,166,168,170,170,170,170,168,166,164,163,160,159,155,151,148,146,143,141,138,136,134,132,130,128,125,123,121,120,120,118,116,113,111,110,110,109,106,105,104,104],[115,116,117,118,119,120,121,121,123,126,128,131,134,136,139,142,145,149,152,157,161,163,164,166,168,167,166,164,163,161,160,158,156,152,149,147,144,143,141,139,136,134,132,130,128,125,122,120,120,119,117,115,113,110,110,109,107,106,105,104,104],[115,116,117,118,119,120,121,122,123,125,128,131,134,137,139,142,145,149,152,156,159,159,160,162,162,161,161,160,159,158,157,155,153,150,148,146,145,143,142,140,137,134,131,129,126,124,122,120,119,117,115,113,111,110,109,109,107,106,105,104,104],[114,115,116,116,118,119,120,121,122,126,129,132,135,137,140,143,146,149,152,155,156,157,158,159,159,159,158,158,157,155,153,151,150,149,147,146,145,144,142,141,138,135,132,128,125,122,120,118,117,115,113,112,110,109,108,108,106,105,105,104,104],[113,114,115,116,117,118,119,120,123,126,129,132,135,138,140,143,146,148,151,153,154,156,157,157,157,157,156,155,154,152,150,149,148,147,146,145,144,142,141,140,139,136,132,129,125,121,118,116,115,113,111,110,109,108,108,107,106,105,104,104,104],[112,113,114,115,116,117,119,120,122,126,130,133,136,138,141,143,146,148,150,152,154,155,155,155,155,155,154,152,152,150,148,147,146,145,145,143,142,141,140,140,140,137,133,129,125,120,117,115,111,110,110,109,108,107,107,106,105,105,104,104,103],[111,112,114,115,116,117,118,120,122,125,131,134,137,139,142,144,146,148,150,152,153,153,153,153,153,153,153,151,149,147,146,144,144,143,143,142,141,140,140,140,140,138,134,130,123,120,118,111,110,110,110,108,107,106,108,105,105,104,104,103,103],[111,112,113,115,115,116,117,119,121,126,131,135,138,140,142,144,146,148,150,151,151,151,151,151,151,151,151,150,148,146,144,142,141,141,142,141,140,140,140,140,140,140,136,132,126,120,115,110,110,110,109,107,106,105,107,105,104,104,104,103,103],[112,113,113,114,115,116,117,119,122,127,132,135,139,141,143,145,147,149,150,150,150,150,150,150,150,150,150,149,147,144,142,141,140,140,140,140,140,140,140,140,140,140,137,133,128,120,117,110,110,110,108,106,105,105,106,105,104,104,103,103,103],[112,113,114,114,116,117,118,120,122,128,132,136,139,141,144,146,147,149,150,150,150,150,150,150,150,150,150,149,146,143,141,140,140,139,139,139,140,140,140,140,140,140,137,133,129,121,118,110,110,109,107,106,105,105,105,104,104,103,103,103,102],[112,114,114,115,116,117,119,120,122,128,133,136,140,142,144,146,148,150,150,150,150,150,150,150,150,150,150,148,145,142,140,138,138,138,137,138,140,140,140,140,140,140,137,134,130,122,118,110,110,108,106,105,103,104,104,104,104,103,103,102,102],[113,114,115,116,116,117,118,120,123,129,133,137,140,142,144,146,149,150,150,150,150,150,150,150,150,150,150,147,143,141,139,137,136,136,135,136,138,140,140,140,140,139,136,134,130,123,119,113,109,108,106,104,103,104,104,104,103,103,102,102,101],[114,115,115,116,117,118,118,120,123,129,133,137,140,143,145,147,150,150,150,150,150,150,150,150,150,150,148,145,142,139,138,136,135,134,134,134,136,138,137,138,139,137,134,132,125,122,117,114,109,107,105,103,102,104,104,103,103,102,102,101,101],[114,115,116,117,117,119,118,120,123,128,132,136,139,142,145,148,150,150,150,150,150,150,150,150,150,150,147,144,141,139,136,135,134,133,132,132,134,134,134,134,135,133,131,128,124,120,116,113,110,107,104,102,102,103,103,103,102,102,102,101,100],[115,116,116,117,118,119,119,120,124,128,132,136,139,142,145,148,150,150,150,150,150,150,150,150,150,149,146,143,140,138,135,134,133,131,131,131,131,131,131,131,130,127,124,122,119,117,115,112,109,106,104,101,102,103,103,102,102,102,101,100,100],[115,116,117,118,118,119,120,123,125,128,131,135,138,141,145,148,150,150,150,150,150,150,150,150,150,147,145,142,139,137,134,132,131,130,129,128,128,128,128,128,126,123,121,119,116,114,112,110,108,105,103,101,103,103,103,102,102,101,100,100,100],[116,117,118,118,119,120,122,123,125,128,131,134,137,141,145,148,149,150,150,150,150,150,150,150,148,145,143,141,138,135,133,130,129,128,127,126,125,125,125,124,123,120,118,116,114,111,109,107,106,104,102,100,101,101,102,102,101,100,100,100,100],[116,117,118,119,120,121,123,124,126,128,130,133,137,140,144,145,147,148,149,150,149,149,147,146,144,141,139,136,133,131,129,128,127,126,125,124,123,123,122,121,120,118,116,114,112,108,107,105,103,102,100,100,100,100,101,101,100,100,100,100,100],[117,118,119,119,120,121,123,124,126,128,129,131,135,139,142,143,145,146,147,147,147,146,144,142,140,138,135,133,130,128,127,126,125,124,123,122,121,120,119,118,117,115,114,112,110,106,105,102,101,100,100,100,100,100,100,100,100,99,99,99,99],[117,118,119,120,120,121,123,124,125,126,128,129,132,137,140,142,143,143,144,144,144,143,141,139,137,135,133,130,128,127,126,125,123,122,121,120,119,117,116,115,114,112,111,108,107,105,100,100,100,100,100,100,100,99,99,99,99,99,99,99,98],[116,117,118,120,120,121,122,123,124,125,126,128,130,134,139,140,141,141,141,141,141,140,138,136,134,133,131,129,127,125,124,123,122,120,119,118,117,116,114,112,111,108,109,106,106,100,100,100,100,100,99,99,99,99,99,99,99,98,98,98,97],[114,115,116,117,119,119,120,121,122,123,125,127,129,133,136,134,134,136,138,138,137,137,135,133,132,130,129,127,125,124,122,121,120,119,117,116,115,114,112,110,109,108,107,105,105,100,100,100,100,99,99,99,98,98,98,98,98,97,97,97,97],[112,113,114,115,116,116,117,119,120,122,124,126,127,129,129,128,127,129,132,133,133,133,133,131,129,127,126,125,124,122,121,119,118,117,116,114,113,112,110,109,108,106,106,105,100,100,100,98,98,98,98,98,98,97,97,97,97,97,97,97,96],[109,111,112,112,113,113,113,114,116,119,121,123,124,125,124,123,123,123,125,127,129,129,128,128,127,125,124,123,122,121,119,118,117,116,114,113,112,110,109,108,107,106,105,100,100,100,97,97,97,97,97,97,97,96,96,96,96,96,96,96,96],[106,107,108,108,109,110,110,112,113,114,117,119,120,121,119,117,117,117,118,120,123,124,125,125,125,123,121,120,120,119,118,117,116,115,114,113,111,109,109,107,106,105,100,100,100,96,96,96,96,96,96,96,96,96,96,96,96,96,96,96,96],[104,105,105,106,106,107,108,108,109,109,111,115,116,114,113,112,111,110,111,113,116,119,122,122,122,121,120,119,118,118,117,116,115,114,113,112,111,108,108,106,105,100,100,100,96,96,96,96,96,96,96,96,96,96,96,96,96,96,96,96,96],[102,103,103,104,104,105,106,106,107,108,109,111,112,110,109,108,108,108,108,109,110,112,116,117,117,118,118,118,117,116,116,115,114,113,112,111,110,107,107,105,100,100,100,97,96,96,96,96,96,96,96,96,96,96,96,96,96,96,96,96,96],[101,102,103,103,104,105,105,106,106,107,108,109,109,107,106,106,105,105,105,106,107,108,109,110,111,113,114,115,115,115,114,113,112,111,110,108,108,106,105,100,100,100,97,97,96,96,96,96,96,96,96,96,96,96,96,96,96,96,96,96,96],[100,101,102,102,103,103,104,104,105,106,106,107,106,106,106,105,105,104,103,103,104,105,107,108,110,111,111,112,112,113,113,112,111,110,108,107,106,105,100,100,100,98,97,97,96,96,96,96,96,96,96,96,96,96,96,96,96,96,96,96,96],[100,101,101,102,102,103,103,104,104,105,105,105,105,106,105,105,104,103,102,101,102,103,104,106,107,110,111,111,111,112,112,112,110,107,107,106,105,102,100,100,99,98,97,97,96,96,96,96,96,96,96,96,96,96,96,96,96,96,96,96,95],[99,100,101,102,102,103,103,103,104,104,104,104,103,104,104,104,104,102,101,101,102,103,104,105,107,110,111,111,111,111,111,111,108,106,105,105,102,101,100,99,99,98,97,97,96,96,96,96,96,96,96,96,96,96,96,96,96,96,96,95,95],[99,100,100,101,101,102,102,102,103,103,103,103,102,103,103,104,103,102,101,101,101,102,103,104,106,109,110,111,111,111,110,110,107,105,103,104,100,100,99,99,98,98,97,97,96,96,96,96,96,96,96,96,96,96,95,95,95,95,95,95,95],[99,100,100,100,101,101,101,102,102,103,102,102,101,102,102,103,103,101,101,100,101,101,102,103,105,109,110,110,111,110,110,109,106,105,100,102,100,99,99,99,98,98,97,97,96,96,96,96,96,96,95,95,95,95,95,95,95,95,95,95,94],[99,99,99,99,100,100,101,101,102,102,101,101,101,101,101,102,102,101,100,100,101,101,101,103,104,107,109,109,110,110,109,108,105,102,100,100,99,99,99,98,98,98,97,96,96,96,96,96,95,95,95,95,95,95,95,94,94,94,94,94,94],[98,99,99,99,99,100,100,101,101,102,101,100,100,100,101,101,101,100,100,100,100,101,101,101,103,106,107,109,109,109,109,107,104,101,100,99,99,99,98,98,98,97,96,96,96,96,95,95,95,95,95,95,95,94,94,94,94,94,94,94,94],[98,98,98,99,99,99,100,100,101,101,100,100,99,99,100,100,100,100,100,100,100,101,101,101,102,105,106,109,108,109,107,105,102,100,100,99,99,98,98,98,97,96,96,96,96,95,95,95,95,95,95,94,94,94,94,94,94,94,94,94,94],[97,98,98,98,99,99,99,100,100,100,100,100,99,99,99,100,100,100,100,100,100,100,101,101,101,103,104,105,106,105,104,101,100,100,99,99,98,98,97,97,97,96,96,96,95,95,95,95,95,94,94,94,94,94,94,94,94,94,94,94,94],[97,97,97,98,98,99,99,99,100,100,100,99,99,99,99,99,100,100,100,100,100,100,101,101,100,100,100,100,100,100,100,100,100,100,99,99,98,97,97,97,96,96,96,95,95,95,95,94,94,94,94,94,94,94,94,94,94,94,94,94,94]],\"type\":\"surface\"}],                        {\"template\":{\"data\":{\"barpolar\":[{\"marker\":{\"line\":{\"color\":\"white\",\"width\":0.5},\"pattern\":{\"fillmode\":\"overlay\",\"size\":10,\"solidity\":0.2}},\"type\":\"barpolar\"}],\"bar\":[{\"error_x\":{\"color\":\"#2a3f5f\"},\"error_y\":{\"color\":\"#2a3f5f\"},\"marker\":{\"line\":{\"color\":\"white\",\"width\":0.5},\"pattern\":{\"fillmode\":\"overlay\",\"size\":10,\"solidity\":0.2}},\"type\":\"bar\"}],\"carpet\":[{\"aaxis\":{\"endlinecolor\":\"#2a3f5f\",\"gridcolor\":\"#C8D4E3\",\"linecolor\":\"#C8D4E3\",\"minorgridcolor\":\"#C8D4E3\",\"startlinecolor\":\"#2a3f5f\"},\"baxis\":{\"endlinecolor\":\"#2a3f5f\",\"gridcolor\":\"#C8D4E3\",\"linecolor\":\"#C8D4E3\",\"minorgridcolor\":\"#C8D4E3\",\"startlinecolor\":\"#2a3f5f\"},\"type\":\"carpet\"}],\"choropleth\":[{\"colorbar\":{\"outlinewidth\":0,\"ticks\":\"\"},\"type\":\"choropleth\"}],\"contourcarpet\":[{\"colorbar\":{\"outlinewidth\":0,\"ticks\":\"\"},\"type\":\"contourcarpet\"}],\"contour\":[{\"colorbar\":{\"outlinewidth\":0,\"ticks\":\"\"},\"colorscale\":[[0.0,\"#0d0887\"],[0.1111111111111111,\"#46039f\"],[0.2222222222222222,\"#7201a8\"],[0.3333333333333333,\"#9c179e\"],[0.4444444444444444,\"#bd3786\"],[0.5555555555555556,\"#d8576b\"],[0.6666666666666666,\"#ed7953\"],[0.7777777777777778,\"#fb9f3a\"],[0.8888888888888888,\"#fdca26\"],[1.0,\"#f0f921\"]],\"type\":\"contour\"}],\"heatmapgl\":[{\"colorbar\":{\"outlinewidth\":0,\"ticks\":\"\"},\"colorscale\":[[0.0,\"#0d0887\"],[0.1111111111111111,\"#46039f\"],[0.2222222222222222,\"#7201a8\"],[0.3333333333333333,\"#9c179e\"],[0.4444444444444444,\"#bd3786\"],[0.5555555555555556,\"#d8576b\"],[0.6666666666666666,\"#ed7953\"],[0.7777777777777778,\"#fb9f3a\"],[0.8888888888888888,\"#fdca26\"],[1.0,\"#f0f921\"]],\"type\":\"heatmapgl\"}],\"heatmap\":[{\"colorbar\":{\"outlinewidth\":0,\"ticks\":\"\"},\"colorscale\":[[0.0,\"#0d0887\"],[0.1111111111111111,\"#46039f\"],[0.2222222222222222,\"#7201a8\"],[0.3333333333333333,\"#9c179e\"],[0.4444444444444444,\"#bd3786\"],[0.5555555555555556,\"#d8576b\"],[0.6666666666666666,\"#ed7953\"],[0.7777777777777778,\"#fb9f3a\"],[0.8888888888888888,\"#fdca26\"],[1.0,\"#f0f921\"]],\"type\":\"heatmap\"}],\"histogram2dcontour\":[{\"colorbar\":{\"outlinewidth\":0,\"ticks\":\"\"},\"colorscale\":[[0.0,\"#0d0887\"],[0.1111111111111111,\"#46039f\"],[0.2222222222222222,\"#7201a8\"],[0.3333333333333333,\"#9c179e\"],[0.4444444444444444,\"#bd3786\"],[0.5555555555555556,\"#d8576b\"],[0.6666666666666666,\"#ed7953\"],[0.7777777777777778,\"#fb9f3a\"],[0.8888888888888888,\"#fdca26\"],[1.0,\"#f0f921\"]],\"type\":\"histogram2dcontour\"}],\"histogram2d\":[{\"colorbar\":{\"outlinewidth\":0,\"ticks\":\"\"},\"colorscale\":[[0.0,\"#0d0887\"],[0.1111111111111111,\"#46039f\"],[0.2222222222222222,\"#7201a8\"],[0.3333333333333333,\"#9c179e\"],[0.4444444444444444,\"#bd3786\"],[0.5555555555555556,\"#d8576b\"],[0.6666666666666666,\"#ed7953\"],[0.7777777777777778,\"#fb9f3a\"],[0.8888888888888888,\"#fdca26\"],[1.0,\"#f0f921\"]],\"type\":\"histogram2d\"}],\"histogram\":[{\"marker\":{\"pattern\":{\"fillmode\":\"overlay\",\"size\":10,\"solidity\":0.2}},\"type\":\"histogram\"}],\"mesh3d\":[{\"colorbar\":{\"outlinewidth\":0,\"ticks\":\"\"},\"type\":\"mesh3d\"}],\"parcoords\":[{\"line\":{\"colorbar\":{\"outlinewidth\":0,\"ticks\":\"\"}},\"type\":\"parcoords\"}],\"pie\":[{\"automargin\":true,\"type\":\"pie\"}],\"scatter3d\":[{\"line\":{\"colorbar\":{\"outlinewidth\":0,\"ticks\":\"\"}},\"marker\":{\"colorbar\":{\"outlinewidth\":0,\"ticks\":\"\"}},\"type\":\"scatter3d\"}],\"scattercarpet\":[{\"marker\":{\"colorbar\":{\"outlinewidth\":0,\"ticks\":\"\"}},\"type\":\"scattercarpet\"}],\"scattergeo\":[{\"marker\":{\"colorbar\":{\"outlinewidth\":0,\"ticks\":\"\"}},\"type\":\"scattergeo\"}],\"scattergl\":[{\"marker\":{\"colorbar\":{\"outlinewidth\":0,\"ticks\":\"\"}},\"type\":\"scattergl\"}],\"scattermapbox\":[{\"marker\":{\"colorbar\":{\"outlinewidth\":0,\"ticks\":\"\"}},\"type\":\"scattermapbox\"}],\"scatterpolargl\":[{\"marker\":{\"colorbar\":{\"outlinewidth\":0,\"ticks\":\"\"}},\"type\":\"scatterpolargl\"}],\"scatterpolar\":[{\"marker\":{\"colorbar\":{\"outlinewidth\":0,\"ticks\":\"\"}},\"type\":\"scatterpolar\"}],\"scatter\":[{\"fillpattern\":{\"fillmode\":\"overlay\",\"size\":10,\"solidity\":0.2},\"type\":\"scatter\"}],\"scatterternary\":[{\"marker\":{\"colorbar\":{\"outlinewidth\":0,\"ticks\":\"\"}},\"type\":\"scatterternary\"}],\"surface\":[{\"colorbar\":{\"outlinewidth\":0,\"ticks\":\"\"},\"colorscale\":[[0.0,\"#0d0887\"],[0.1111111111111111,\"#46039f\"],[0.2222222222222222,\"#7201a8\"],[0.3333333333333333,\"#9c179e\"],[0.4444444444444444,\"#bd3786\"],[0.5555555555555556,\"#d8576b\"],[0.6666666666666666,\"#ed7953\"],[0.7777777777777778,\"#fb9f3a\"],[0.8888888888888888,\"#fdca26\"],[1.0,\"#f0f921\"]],\"type\":\"surface\"}],\"table\":[{\"cells\":{\"fill\":{\"color\":\"#EBF0F8\"},\"line\":{\"color\":\"white\"}},\"header\":{\"fill\":{\"color\":\"#C8D4E3\"},\"line\":{\"color\":\"white\"}},\"type\":\"table\"}]},\"layout\":{\"annotationdefaults\":{\"arrowcolor\":\"#2a3f5f\",\"arrowhead\":0,\"arrowwidth\":1},\"autotypenumbers\":\"strict\",\"coloraxis\":{\"colorbar\":{\"outlinewidth\":0,\"ticks\":\"\"}},\"colorscale\":{\"diverging\":[[0,\"#8e0152\"],[0.1,\"#c51b7d\"],[0.2,\"#de77ae\"],[0.3,\"#f1b6da\"],[0.4,\"#fde0ef\"],[0.5,\"#f7f7f7\"],[0.6,\"#e6f5d0\"],[0.7,\"#b8e186\"],[0.8,\"#7fbc41\"],[0.9,\"#4d9221\"],[1,\"#276419\"]],\"sequential\":[[0.0,\"#0d0887\"],[0.1111111111111111,\"#46039f\"],[0.2222222222222222,\"#7201a8\"],[0.3333333333333333,\"#9c179e\"],[0.4444444444444444,\"#bd3786\"],[0.5555555555555556,\"#d8576b\"],[0.6666666666666666,\"#ed7953\"],[0.7777777777777778,\"#fb9f3a\"],[0.8888888888888888,\"#fdca26\"],[1.0,\"#f0f921\"]],\"sequentialminus\":[[0.0,\"#0d0887\"],[0.1111111111111111,\"#46039f\"],[0.2222222222222222,\"#7201a8\"],[0.3333333333333333,\"#9c179e\"],[0.4444444444444444,\"#bd3786\"],[0.5555555555555556,\"#d8576b\"],[0.6666666666666666,\"#ed7953\"],[0.7777777777777778,\"#fb9f3a\"],[0.8888888888888888,\"#fdca26\"],[1.0,\"#f0f921\"]]},\"colorway\":[\"#636efa\",\"#EF553B\",\"#00cc96\",\"#ab63fa\",\"#FFA15A\",\"#19d3f3\",\"#FF6692\",\"#B6E880\",\"#FF97FF\",\"#FECB52\"],\"font\":{\"color\":\"#2a3f5f\"},\"geo\":{\"bgcolor\":\"white\",\"lakecolor\":\"white\",\"landcolor\":\"white\",\"showlakes\":true,\"showland\":true,\"subunitcolor\":\"#C8D4E3\"},\"hoverlabel\":{\"align\":\"left\"},\"hovermode\":\"closest\",\"mapbox\":{\"style\":\"light\"},\"paper_bgcolor\":\"white\",\"plot_bgcolor\":\"white\",\"polar\":{\"angularaxis\":{\"gridcolor\":\"#EBF0F8\",\"linecolor\":\"#EBF0F8\",\"ticks\":\"\"},\"bgcolor\":\"white\",\"radialaxis\":{\"gridcolor\":\"#EBF0F8\",\"linecolor\":\"#EBF0F8\",\"ticks\":\"\"}},\"scene\":{\"xaxis\":{\"backgroundcolor\":\"white\",\"gridcolor\":\"#DFE8F3\",\"gridwidth\":2,\"linecolor\":\"#EBF0F8\",\"showbackground\":true,\"ticks\":\"\",\"zerolinecolor\":\"#EBF0F8\"},\"yaxis\":{\"backgroundcolor\":\"white\",\"gridcolor\":\"#DFE8F3\",\"gridwidth\":2,\"linecolor\":\"#EBF0F8\",\"showbackground\":true,\"ticks\":\"\",\"zerolinecolor\":\"#EBF0F8\"},\"zaxis\":{\"backgroundcolor\":\"white\",\"gridcolor\":\"#DFE8F3\",\"gridwidth\":2,\"linecolor\":\"#EBF0F8\",\"showbackground\":true,\"ticks\":\"\",\"zerolinecolor\":\"#EBF0F8\"}},\"shapedefaults\":{\"line\":{\"color\":\"#2a3f5f\"}},\"ternary\":{\"aaxis\":{\"gridcolor\":\"#DFE8F3\",\"linecolor\":\"#A2B1C6\",\"ticks\":\"\"},\"baxis\":{\"gridcolor\":\"#DFE8F3\",\"linecolor\":\"#A2B1C6\",\"ticks\":\"\"},\"bgcolor\":\"white\",\"caxis\":{\"gridcolor\":\"#DFE8F3\",\"linecolor\":\"#A2B1C6\",\"ticks\":\"\"}},\"title\":{\"x\":0.05},\"xaxis\":{\"automargin\":true,\"gridcolor\":\"#EBF0F8\",\"linecolor\":\"#EBF0F8\",\"ticks\":\"\",\"title\":{\"standoff\":15},\"zerolinecolor\":\"#EBF0F8\",\"zerolinewidth\":2},\"yaxis\":{\"automargin\":true,\"gridcolor\":\"#EBF0F8\",\"linecolor\":\"#EBF0F8\",\"ticks\":\"\",\"title\":{\"standoff\":15},\"zerolinecolor\":\"#EBF0F8\",\"zerolinewidth\":2}}},\"margin\":{\"t\":0,\"b\":0,\"l\":0,\"r\":0},\"width\":800,\"height\":900,\"autosize\":false,\"updatemenus\":[{\"buttons\":[{\"args\":[\"type\",\"surface\"],\"label\":\"Asia\",\"method\":\"restyle\"},{\"args\":[\"type\",\"heatmap\"],\"label\":\"America\",\"method\":\"restyle\"},{\"args\":[\"type\",\"heatmap\"],\"label\":\"Africa\",\"method\":\"restyle\"}],\"direction\":\"down\",\"pad\":{\"r\":10,\"t\":10},\"showactive\":true,\"x\":0.1,\"xanchor\":\"left\",\"y\":1.1,\"yanchor\":\"top\"}],\"annotations\":[{\"align\":\"left\",\"showarrow\":false,\"text\":\"Countries:\",\"x\":0,\"y\":1.085,\"yref\":\"paper\"}]},                        {\"responsive\": true}                    ).then(function(){\n",
       "                            \n",
       "var gd = document.getElementById('e238fc4a-b5ed-4537-9fc6-e28eeb553eac');\n",
       "var x = new MutationObserver(function (mutations, observer) {{\n",
       "        var display = window.getComputedStyle(gd).display;\n",
       "        if (!display || display === 'none') {{\n",
       "            console.log([gd, 'removed!']);\n",
       "            Plotly.purge(gd);\n",
       "            observer.disconnect();\n",
       "        }}\n",
       "}});\n",
       "\n",
       "// Listen for the removal of the full notebook cells\n",
       "var notebookContainer = gd.closest('#notebook-container');\n",
       "if (notebookContainer) {{\n",
       "    x.observe(notebookContainer, {childList: true});\n",
       "}}\n",
       "\n",
       "// Listen for the clearing of the current output cell\n",
       "var outputEl = gd.closest('.output');\n",
       "if (outputEl) {{\n",
       "    x.observe(outputEl, {childList: true});\n",
       "}}\n",
       "\n",
       "                        })                };                });            </script>        </div>"
      ]
     },
     "metadata": {},
     "output_type": "display_data"
    }
   ],
   "source": [
    "# load dataset\n",
    "df = pd.read_csv(\"https://raw.githubusercontent.com/plotly/datasets/master/volcano.csv\")\n",
    "\n",
    "# create figure\n",
    "fig = go.Figure()\n",
    "\n",
    "# Add surface trace\n",
    "fig.add_trace(go.Surface(z=df.values.tolist(), colorscale=\"Viridis\"))\n",
    "\n",
    "# Update plot sizing\n",
    "fig.update_layout(\n",
    "    width=800,\n",
    "    height=900,\n",
    "    autosize=False,\n",
    "    margin=dict(t=0, b=0, l=0, r=0),\n",
    "    template=\"plotly_white\",\n",
    ")\n",
    "\n",
    "\n",
    "# Add dropdown\n",
    "fig.update_layout(\n",
    "    updatemenus=[\n",
    "        dict(\n",
    "            buttons=list([\n",
    "                dict(\n",
    "                    args=[\"type\", \"surface\"],\n",
    "                    label=\"Asia\",\n",
    "                    method=\"restyle\"\n",
    "                ),\n",
    "                dict(\n",
    "                    args=[\"type\", \"heatmap\"],\n",
    "                    label=\"America\",\n",
    "                    method=\"restyle\"\n",
    "                ),\n",
    "                dict(\n",
    "                    args=[\"type\", \"heatmap\"],\n",
    "                    label=\"Africa\",\n",
    "                    method=\"restyle\"\n",
    "                )\n",
    "            ]),\n",
    "            direction=\"down\",\n",
    "            pad={\"r\": 10, \"t\": 10},\n",
    "            showactive=True,\n",
    "            x=0.1,\n",
    "            xanchor=\"left\",\n",
    "            y=1.1,\n",
    "            yanchor=\"top\"\n",
    "        ),\n",
    "    ]\n",
    ")\n",
    "\n",
    "# Add annotation\n",
    "fig.update_layout(\n",
    "    annotations=[\n",
    "        dict(text=\"Countries:\", showarrow=False,\n",
    "        x=0, y=1.085, yref=\"paper\", align=\"left\")\n",
    "    ]\n",
    ")\n",
    "\n",
    "fig.show()"
   ]
  },
  {
   "cell_type": "code",
   "execution_count": null,
   "metadata": {},
   "outputs": [],
   "source": []
  },
  {
   "cell_type": "code",
   "execution_count": 128,
   "metadata": {},
   "outputs": [
    {
     "ename": "ValueError",
     "evalue": "Value of 'names' is not the name of a column in 'data_frame'. Expected one of ['Unnamed: 0', 'country', 'date', 'new_cases', 'cumulative_cases'] but received: Sectors",
     "output_type": "error",
     "traceback": [
      "\u001b[0;31m---------------------------------------------------------------------------\u001b[0m",
      "\u001b[0;31mValueError\u001b[0m                                Traceback (most recent call last)",
      "Cell \u001b[0;32mIn [128], line 1\u001b[0m\n\u001b[0;32m----> 1\u001b[0m pie \u001b[38;5;241m=\u001b[39m \u001b[43mpx\u001b[49m\u001b[38;5;241;43m.\u001b[39;49m\u001b[43mpie\u001b[49m\u001b[43m(\u001b[49m\u001b[43mdf_new\u001b[49m\u001b[43m,\u001b[49m\u001b[43m \u001b[49m\u001b[43mvalues\u001b[49m\u001b[38;5;241;43m=\u001b[39;49m\u001b[38;5;124;43m\"\u001b[39;49m\u001b[38;5;124;43moccurance\u001b[39;49m\u001b[38;5;124;43m\"\u001b[39;49m\u001b[43m,\u001b[49m\u001b[43m \u001b[49m\u001b[43mnames\u001b[49m\u001b[38;5;241;43m=\u001b[39;49m\u001b[38;5;124;43m\"\u001b[39;49m\u001b[38;5;124;43mSectors\u001b[39;49m\u001b[38;5;124;43m\"\u001b[39;49m\u001b[43m,\u001b[49m\u001b[43m \u001b[49m\u001b[43mtitle\u001b[49m\u001b[38;5;241;43m=\u001b[39;49m\u001b[38;5;124;43m\"\u001b[39;49m\u001b[38;5;124;43msector wise composition\u001b[39;49m\u001b[38;5;124;43m\"\u001b[39;49m\u001b[43m)\u001b[49m\n\u001b[1;32m      2\u001b[0m pie\u001b[38;5;241m.\u001b[39mshow()\n\u001b[1;32m      3\u001b[0m \u001b[38;5;66;03m#https://www.youtube.com/watch?v=s_iEvTBSBfA\u001b[39;00m\n",
      "File \u001b[0;32m~/miniforge3/envs/TIL6022/lib/python3.9/site-packages/plotly/express/_chart_types.py:1482\u001b[0m, in \u001b[0;36mpie\u001b[0;34m(data_frame, names, values, color, facet_row, facet_col, facet_col_wrap, facet_row_spacing, facet_col_spacing, color_discrete_sequence, color_discrete_map, hover_name, hover_data, custom_data, category_orders, labels, title, template, width, height, opacity, hole)\u001b[0m\n\u001b[1;32m   1480\u001b[0m \u001b[38;5;28;01melse\u001b[39;00m:\n\u001b[1;32m   1481\u001b[0m     layout_patch \u001b[38;5;241m=\u001b[39m {}\n\u001b[0;32m-> 1482\u001b[0m \u001b[38;5;28;01mreturn\u001b[39;00m \u001b[43mmake_figure\u001b[49m\u001b[43m(\u001b[49m\n\u001b[1;32m   1483\u001b[0m \u001b[43m    \u001b[49m\u001b[43margs\u001b[49m\u001b[38;5;241;43m=\u001b[39;49m\u001b[38;5;28;43mlocals\u001b[39;49m\u001b[43m(\u001b[49m\u001b[43m)\u001b[49m\u001b[43m,\u001b[49m\n\u001b[1;32m   1484\u001b[0m \u001b[43m    \u001b[49m\u001b[43mconstructor\u001b[49m\u001b[38;5;241;43m=\u001b[39;49m\u001b[43mgo\u001b[49m\u001b[38;5;241;43m.\u001b[39;49m\u001b[43mPie\u001b[49m\u001b[43m,\u001b[49m\n\u001b[1;32m   1485\u001b[0m \u001b[43m    \u001b[49m\u001b[43mtrace_patch\u001b[49m\u001b[38;5;241;43m=\u001b[39;49m\u001b[38;5;28;43mdict\u001b[39;49m\u001b[43m(\u001b[49m\u001b[43mshowlegend\u001b[49m\u001b[38;5;241;43m=\u001b[39;49m\u001b[43m(\u001b[49m\u001b[43mnames\u001b[49m\u001b[43m \u001b[49m\u001b[38;5;129;43;01mis\u001b[39;49;00m\u001b[43m \u001b[49m\u001b[38;5;129;43;01mnot\u001b[39;49;00m\u001b[43m \u001b[49m\u001b[38;5;28;43;01mNone\u001b[39;49;00m\u001b[43m)\u001b[49m\u001b[43m,\u001b[49m\u001b[43m \u001b[49m\u001b[43mhole\u001b[49m\u001b[38;5;241;43m=\u001b[39;49m\u001b[43mhole\u001b[49m\u001b[43m)\u001b[49m\u001b[43m,\u001b[49m\n\u001b[1;32m   1486\u001b[0m \u001b[43m    \u001b[49m\u001b[43mlayout_patch\u001b[49m\u001b[38;5;241;43m=\u001b[39;49m\u001b[43mlayout_patch\u001b[49m\u001b[43m,\u001b[49m\n\u001b[1;32m   1487\u001b[0m \u001b[43m\u001b[49m\u001b[43m)\u001b[49m\n",
      "File \u001b[0;32m~/miniforge3/envs/TIL6022/lib/python3.9/site-packages/plotly/express/_core.py:1990\u001b[0m, in \u001b[0;36mmake_figure\u001b[0;34m(args, constructor, trace_patch, layout_patch)\u001b[0m\n\u001b[1;32m   1987\u001b[0m layout_patch \u001b[38;5;241m=\u001b[39m layout_patch \u001b[38;5;129;01mor\u001b[39;00m {}\n\u001b[1;32m   1988\u001b[0m apply_default_cascade(args)\n\u001b[0;32m-> 1990\u001b[0m args \u001b[38;5;241m=\u001b[39m \u001b[43mbuild_dataframe\u001b[49m\u001b[43m(\u001b[49m\u001b[43margs\u001b[49m\u001b[43m,\u001b[49m\u001b[43m \u001b[49m\u001b[43mconstructor\u001b[49m\u001b[43m)\u001b[49m\n\u001b[1;32m   1991\u001b[0m \u001b[38;5;28;01mif\u001b[39;00m constructor \u001b[38;5;129;01min\u001b[39;00m [go\u001b[38;5;241m.\u001b[39mTreemap, go\u001b[38;5;241m.\u001b[39mSunburst, go\u001b[38;5;241m.\u001b[39mIcicle] \u001b[38;5;129;01mand\u001b[39;00m args[\u001b[38;5;124m\"\u001b[39m\u001b[38;5;124mpath\u001b[39m\u001b[38;5;124m\"\u001b[39m] \u001b[38;5;129;01mis\u001b[39;00m \u001b[38;5;129;01mnot\u001b[39;00m \u001b[38;5;28;01mNone\u001b[39;00m:\n\u001b[1;32m   1992\u001b[0m     args \u001b[38;5;241m=\u001b[39m process_dataframe_hierarchy(args)\n",
      "File \u001b[0;32m~/miniforge3/envs/TIL6022/lib/python3.9/site-packages/plotly/express/_core.py:1405\u001b[0m, in \u001b[0;36mbuild_dataframe\u001b[0;34m(args, constructor)\u001b[0m\n\u001b[1;32m   1402\u001b[0m     args[\u001b[38;5;124m\"\u001b[39m\u001b[38;5;124mcolor\u001b[39m\u001b[38;5;124m\"\u001b[39m] \u001b[38;5;241m=\u001b[39m \u001b[38;5;28;01mNone\u001b[39;00m\n\u001b[1;32m   1403\u001b[0m \u001b[38;5;66;03m# now that things have been prepped, we do the systematic rewriting of `args`\u001b[39;00m\n\u001b[0;32m-> 1405\u001b[0m df_output, wide_id_vars \u001b[38;5;241m=\u001b[39m \u001b[43mprocess_args_into_dataframe\u001b[49m\u001b[43m(\u001b[49m\n\u001b[1;32m   1406\u001b[0m \u001b[43m    \u001b[49m\u001b[43margs\u001b[49m\u001b[43m,\u001b[49m\u001b[43m \u001b[49m\u001b[43mwide_mode\u001b[49m\u001b[43m,\u001b[49m\u001b[43m \u001b[49m\u001b[43mvar_name\u001b[49m\u001b[43m,\u001b[49m\u001b[43m \u001b[49m\u001b[43mvalue_name\u001b[49m\n\u001b[1;32m   1407\u001b[0m \u001b[43m\u001b[49m\u001b[43m)\u001b[49m\n\u001b[1;32m   1409\u001b[0m \u001b[38;5;66;03m# now that `df_output` exists and `args` contains only references, we complete\u001b[39;00m\n\u001b[1;32m   1410\u001b[0m \u001b[38;5;66;03m# the special-case and wide-mode handling by further rewriting args and/or mutating\u001b[39;00m\n\u001b[1;32m   1411\u001b[0m \u001b[38;5;66;03m# df_output\u001b[39;00m\n\u001b[1;32m   1413\u001b[0m count_name \u001b[38;5;241m=\u001b[39m _escape_col_name(df_output, \u001b[38;5;124m\"\u001b[39m\u001b[38;5;124mcount\u001b[39m\u001b[38;5;124m\"\u001b[39m, [var_name, value_name])\n",
      "File \u001b[0;32m~/miniforge3/envs/TIL6022/lib/python3.9/site-packages/plotly/express/_core.py:1207\u001b[0m, in \u001b[0;36mprocess_args_into_dataframe\u001b[0;34m(args, wide_mode, var_name, value_name)\u001b[0m\n\u001b[1;32m   1205\u001b[0m         \u001b[38;5;28;01mif\u001b[39;00m argument \u001b[38;5;241m==\u001b[39m \u001b[38;5;124m\"\u001b[39m\u001b[38;5;124mindex\u001b[39m\u001b[38;5;124m\"\u001b[39m:\n\u001b[1;32m   1206\u001b[0m             err_msg \u001b[38;5;241m+\u001b[39m\u001b[38;5;241m=\u001b[39m \u001b[38;5;124m\"\u001b[39m\u001b[38;5;130;01m\\n\u001b[39;00m\u001b[38;5;124m To use the index, pass it in directly as `df.index`.\u001b[39m\u001b[38;5;124m\"\u001b[39m\n\u001b[0;32m-> 1207\u001b[0m         \u001b[38;5;28;01mraise\u001b[39;00m \u001b[38;5;167;01mValueError\u001b[39;00m(err_msg)\n\u001b[1;32m   1208\u001b[0m \u001b[38;5;28;01melif\u001b[39;00m length \u001b[38;5;129;01mand\u001b[39;00m \u001b[38;5;28mlen\u001b[39m(df_input[argument]) \u001b[38;5;241m!=\u001b[39m length:\n\u001b[1;32m   1209\u001b[0m     \u001b[38;5;28;01mraise\u001b[39;00m \u001b[38;5;167;01mValueError\u001b[39;00m(\n\u001b[1;32m   1210\u001b[0m         \u001b[38;5;124m\"\u001b[39m\u001b[38;5;124mAll arguments should have the same length. \u001b[39m\u001b[38;5;124m\"\u001b[39m\n\u001b[1;32m   1211\u001b[0m         \u001b[38;5;124m\"\u001b[39m\u001b[38;5;124mThe length of column argument `df[\u001b[39m\u001b[38;5;132;01m%s\u001b[39;00m\u001b[38;5;124m]` is \u001b[39m\u001b[38;5;132;01m%d\u001b[39;00m\u001b[38;5;124m, whereas the \u001b[39m\u001b[38;5;124m\"\u001b[39m\n\u001b[0;32m   (...)\u001b[0m\n\u001b[1;32m   1218\u001b[0m         )\n\u001b[1;32m   1219\u001b[0m     )\n",
      "\u001b[0;31mValueError\u001b[0m: Value of 'names' is not the name of a column in 'data_frame'. Expected one of ['Unnamed: 0', 'country', 'date', 'new_cases', 'cumulative_cases'] but received: Sectors"
     ]
    }
   ],
   "source": [
    "pie = px.pie(df_new, values=\"occurance\", names=\"Sectors\", title=\"sector wise composition\")\n",
    "pie.show()\n",
    "#https://www.youtube.com/watch?v=s_iEvTBSBfA\n",
    "sunburst=px.sunburst(df_path=['Sectors', 'regions'],values='volume transported')\n",
    "sunburst.show()"
   ]
  },
  {
   "cell_type": "code",
   "execution_count": 129,
   "metadata": {},
   "outputs": [
    {
     "ename": "ModuleNotFoundError",
     "evalue": "No module named 'streamlit'",
     "output_type": "error",
     "traceback": [
      "\u001b[0;31m---------------------------------------------------------------------------\u001b[0m",
      "\u001b[0;31mModuleNotFoundError\u001b[0m                       Traceback (most recent call last)",
      "Cell \u001b[0;32mIn [129], line 1\u001b[0m\n\u001b[0;32m----> 1\u001b[0m \u001b[38;5;28;01mimport\u001b[39;00m \u001b[38;5;21;01mstreamlit\u001b[39;00m \u001b[38;5;28;01mas\u001b[39;00m \u001b[38;5;21;01mst\u001b[39;00m\n\u001b[1;32m      3\u001b[0m \u001b[38;5;66;03m#Creating different horizontal sections in the webpage\u001b[39;00m\n\u001b[1;32m      4\u001b[0m header \u001b[38;5;241m=\u001b[39m st\u001b[38;5;241m.\u001b[39mcontainer() \n",
      "\u001b[0;31mModuleNotFoundError\u001b[0m: No module named 'streamlit'"
     ]
    }
   ],
   "source": [
    "import streamlit as st\n",
    "\n",
    "#Creating different horizontal sections in the webpage\n",
    "header = st.container() \n",
    "data= st.container()\n",
    "\n",
    "\n",
    "with header:  # accesing the section for presenting the info\n",
    "    st.title('Impact of Covid on Vessel waiting time') # prints the string  in the section as title\n",
    "\n",
    "with data:# all the data is processed as \n",
    "\n",
    "    df_combined2 =pd.merge(df_port_calls,df_new,on=['country','date'], how='outer')# merging port call and covid data\n",
    "\n",
    "    st.write(port_covid.head(25))\n",
    "    st.write(df_combined2.head(25))# Displaying the data on the webpage\n",
    "    \n",
    "    \n",
    "    \n",
    "    port_col, covid_col =st.columns(2) # dividing the webpage in 2 columns so you can show covid graph and port graph next to each other\n",
    "    \n",
    "    #CREATING a dynamic multiselect box for user to choose countries from\n",
    "    country_options = port_covid['country'].unique() #converting unqiue values to list,\n",
    "    #[Note:(do not use tolist() if it's already a list), in our case, it's already a list, otherwise it would be df_combined['country'].tolist().unique())\n",
    "    #This list will be used as options for multiselect for user to chhose which country data he wants to see\n",
    "    \n",
    "    # creating a multiselect toggle option for user to choose from country_options and setting the default option as world\n",
    "    country= st.multiselect('Which country data would you like to see',country_options,['Netherlands']) \n",
    "    \n",
    "    \n",
    "    #CREATING a dynamic dropdown box for user to choose vessel types from\n",
    "    vessel_options = port_covid['Vessel_Type'].unique()\n",
    "    vessel = st.selectbox('Which Vessel data would you like to see',options =vessel_options,index=0)\n",
    "    # index sets the default value at the index of the list that will be displayed if nothing is selected.\n",
    "    \n",
    "    \n",
    "    \n",
    "    #filetering the data according to user's choice in both options\n",
    "    df=port_covid[(port_covid['country'].isin(country)) & (port_covid['Vessel_Type']==vessel)]\n",
    "    #period_options = df['Period Label'].unique()\n",
    "    #period = st.selectbox('Which period data would you like to see',options=period_options,index=0)\n",
    "    \n",
    "    dp=df_combined2[(df_combined2['country'].isin(country)) & (df_combined2['Vessel_Type']==vessel)]\n",
    "    \n",
    "   # Accessing port_col vertical section of the webpage and plotting different port graphs\n",
    "    with port_col:\n",
    "        fig = px.line(df,x='date',y='Median time in port (days)',color='country',markers=True)\n",
    "        fig.update_layout(width=400)\n",
    "        st.write(fig)\n",
    "        \n",
    "        fig = px.line(df,x='date',y='Average age of vessels',color='country',markers=True)\n",
    "        fig.update_layout(width=400)\n",
    "        st.write(fig)\n",
    "        \n",
    "        fig = px.line(df,x='date',y='Average cargo carrying capacity (dwt) per vessel',color='country',markers=True)\n",
    "        fig.update_layout(width=400)\n",
    "        st.write(fig)\n",
    "        \n",
    "        fig = px.line(df,x='date',y='Average size (GT) of vessels',color='country',markers=True)\n",
    "        fig.update_layout(width=400)\n",
    "        st.write(fig)\n",
    "        \n",
    "        fig = px.line(dp,x='date',y='Number of port calls',color='country',markers=True)\n",
    "        fig.update_layout(width=400)\n",
    "        st.write(fig)\n",
    "        \n",
    "        # Accessing covid_col vertical section of the webpage and plotting different covid graphs next to port graphs\n",
    "    with covid_col:\n",
    "        fig = px.line(df,x='date',y='new_cases',color='country',markers=True)\n",
    "        fig.update_layout(width=400)\n",
    "        st.write(fig)\n",
    "        \n",
    "        fig = px.line(df,x='date',y='new_cases',color='country',markers=True)\n",
    "        fig.update_layout(width=400)\n",
    "        st.write(fig)\n",
    "        \n",
    "        fig = px.line(df,x='date',y='new_cases',color='country',markers=True)\n",
    "        fig.update_layout(width=400)\n",
    "        st.write(fig)\n",
    "        \n",
    "        fig = px.line(df,x='date',y='new_cases',color='country',markers=True)\n",
    "        fig.update_layout(width=400)\n",
    "        st.write(fig)\n",
    "        \n",
    "        fig = px.line(dp,x='date',y='new_cases',color='country',markers=True)\n",
    "        fig.update_layout(width=400)\n",
    "        st.write(fig)\n",
    "        \n",
    "        \n",
    "# to run on the webpage : go to cmd go to the file path where this file is located using command 'cd'\n",
    "#then type streamlit run port1.1.py"
   ]
  },
  {
   "cell_type": "markdown",
   "metadata": {},
   "source": [
    "LOCATION SPECIFIC"
   ]
  },
  {
   "cell_type": "markdown",
   "metadata": {},
   "source": [
    "EAST VS WEST"
   ]
  },
  {
   "cell_type": "code",
   "execution_count": 130,
   "metadata": {},
   "outputs": [
    {
     "name": "stdout",
     "output_type": "stream",
     "text": [
      "The pearson correlation data for the US is (Pearson's correlation coefficient r, P-value):\n"
     ]
    },
    {
     "data": {
      "text/plain": [
       "PearsonRResult(statistic=0.4509116455455507, pvalue=0.36947250538584875)"
      ]
     },
     "execution_count": 130,
     "metadata": {},
     "output_type": "execute_result"
    }
   ],
   "source": [
    "from scipy import stats\n",
    "# df_combined = pd.merge(df_ports, df_new, on=['country','date'], how='outer')\n",
    "# df_combined = df_combined.drop(['Unnamed: 0', 'cumulative_cases'], axis=1)\n",
    "# df_combined\n",
    "# df_combined_world = df_combined_world[df_combined_world['Vessel_Type'] == 'All ships']\n",
    "\n",
    "port_covid = pd.merge(df_ports, df_new, on=['country','date'], how='outer')\n",
    "port_covid_us = port_covid[port_covid[\"country\"] == 'United States of America']\n",
    "port_covid_west_allships = port_covid_us[port_covid_us[\"Vessel_Type\"] == 'All ships']\n",
    "# port_covid_west_allships = port_covid_us[port_covid_us[\"Vessel_Type\"] == 'Container ships']\n",
    "port_covid_west_allships\n",
    "\n",
    "port_covid_west_allships=port_covid_west_allships.dropna(subset=['new_cases'])\n",
    "data1 = port_covid_west_allships['new_cases']\n",
    "data2 = port_covid_west_allships['Median time in port (days)']\n",
    "print(\"The pearson correlation data for the US is (Pearson's correlation coefficient r, P-value):\")\n",
    "stats.pearsonr(data1, data2)"
   ]
  },
  {
   "cell_type": "code",
   "execution_count": 131,
   "metadata": {},
   "outputs": [
    {
     "name": "stdout",
     "output_type": "stream",
     "text": [
      "The pearson correlation data for China is (Pearson's correlation coefficient r, P-value):\n"
     ]
    },
    {
     "data": {
      "text/plain": [
       "PearsonRResult(statistic=0.43361944525590984, pvalue=0.3903366587135776)"
      ]
     },
     "execution_count": 131,
     "metadata": {},
     "output_type": "execute_result"
    }
   ],
   "source": [
    "port_covid = pd.merge(df_ports, df_new, on=['country','date'], how='outer')\n",
    "port_covid_china = port_covid[port_covid[\"country\"] == 'China']\n",
    "port_covid_east_allships = port_covid_china[port_covid_china[\"Vessel_Type\"] == 'All ships']\n",
    "# port_covid_east_allships = port_covid_china[port_covid_china[\"Vessel_Type\"] == 'Container ships']\n",
    "port_covid_east_allships\n",
    "\n",
    "port_covid_east_allships=port_covid_east_allships.dropna(subset=['new_cases'])\n",
    "data1 = port_covid_east_allships['new_cases']\n",
    "data2 = port_covid_east_allships['Median time in port (days)']\n",
    "print(\"The pearson correlation data for China is (Pearson's correlation coefficient r, P-value):\")\n",
    "stats.pearsonr(data1, data2)"
   ]
  },
  {
   "cell_type": "code",
   "execution_count": 132,
   "metadata": {},
   "outputs": [
    {
     "name": "stdout",
     "output_type": "stream",
     "text": [
      "The pearson correlation data for Indonesia is (Pearson's correlation coefficient r, P-value):\n"
     ]
    },
    {
     "data": {
      "text/plain": [
       "PearsonRResult(statistic=0.5796336610430461, pvalue=0.22792077053085105)"
      ]
     },
     "execution_count": 132,
     "metadata": {},
     "output_type": "execute_result"
    }
   ],
   "source": [
    "port_covid = pd.merge(df_ports, df_new, on=['country','date'], how='outer')\n",
    "port_covid_indo = port_covid[port_covid[\"country\"] == 'Indonesia']\n",
    "port_covid_indo_allships = port_covid_indo[port_covid_indo[\"Vessel_Type\"] == 'All ships']\n",
    "# port_covid_indo_allships = port_covid_indo[port_covid_china[\"Vessel_Type\"] == 'Container ships']\n",
    "port_covid_indo_allships\n",
    "\n",
    "port_covid_indo_allships=port_covid_indo_allships.dropna(subset=['new_cases'])\n",
    "data1 = port_covid_indo_allships['new_cases']\n",
    "data2 = port_covid_indo_allships['Median time in port (days)']\n",
    "print(\"The pearson correlation data for Indonesia is (Pearson's correlation coefficient r, P-value):\")\n",
    "stats.pearsonr(data1, data2)"
   ]
  },
  {
   "cell_type": "code",
   "execution_count": 133,
   "metadata": {},
   "outputs": [
    {
     "name": "stdout",
     "output_type": "stream",
     "text": [
      "The pearson correlation data for Netherlands is (Pearson's correlation coefficient r, P-value):\n"
     ]
    },
    {
     "data": {
      "text/plain": [
       "PearsonRResult(statistic=0.862706470520963, pvalue=0.026980311754594966)"
      ]
     },
     "execution_count": 133,
     "metadata": {},
     "output_type": "execute_result"
    }
   ],
   "source": [
    "port_covid = pd.merge(df_ports, df_new, on=['country','date'], how='outer')\n",
    "port_covid_nl = port_covid[port_covid[\"country\"] == 'Netherlands']\n",
    "port_covid_nl_allships = port_covid_nl[port_covid_nl[\"Vessel_Type\"] == 'All ships']\n",
    "# port_covid_indo_allships = port_covid_indo[port_covid_china[\"Vessel_Type\"] == 'Container ships']\n",
    "port_covid_nl_allships\n",
    "\n",
    "port_covid_nl_allships=port_covid_nl_allships.dropna(subset=['new_cases'])\n",
    "data1 = port_covid_nl_allships['new_cases']\n",
    "data2 = port_covid_nl_allships['Median time in port (days)']\n",
    "print(\"The pearson correlation data for Netherlands is (Pearson's correlation coefficient r, P-value):\")\n",
    "stats.pearsonr(data1, data2)"
   ]
  },
  {
   "cell_type": "code",
   "execution_count": 134,
   "metadata": {},
   "outputs": [
    {
     "data": {
      "text/html": [
       "<div>\n",
       "<style scoped>\n",
       "    .dataframe tbody tr th:only-of-type {\n",
       "        vertical-align: middle;\n",
       "    }\n",
       "\n",
       "    .dataframe tbody tr th {\n",
       "        vertical-align: top;\n",
       "    }\n",
       "\n",
       "    .dataframe thead th {\n",
       "        text-align: right;\n",
       "    }\n",
       "</style>\n",
       "<table border=\"1\" class=\"dataframe\">\n",
       "  <thead>\n",
       "    <tr style=\"text-align: right;\">\n",
       "      <th></th>\n",
       "      <th>Year</th>\n",
       "      <th>country</th>\n",
       "      <th>Vessel_Type</th>\n",
       "      <th>Median time in port (days)</th>\n",
       "      <th>Average age of vessels</th>\n",
       "      <th>Average size (GT) of vessels</th>\n",
       "      <th>Maximum size (GT) of vessels</th>\n",
       "      <th>Average cargo carrying capacity (dwt) per vessel</th>\n",
       "      <th>Maximum cargo carrying capacity (dwt) of vessels</th>\n",
       "      <th>Average container carrying capacity (TEU) per container ship</th>\n",
       "      <th>Maximum container carrying capacity (TEU) of container ships</th>\n",
       "      <th>date</th>\n",
       "      <th>Unnamed: 0</th>\n",
       "      <th>new_cases</th>\n",
       "      <th>cumulative_cases</th>\n",
       "    </tr>\n",
       "  </thead>\n",
       "  <tbody>\n",
       "    <tr>\n",
       "      <th>171</th>\n",
       "      <td>2018.0</td>\n",
       "      <td>United Kingdom</td>\n",
       "      <td>All ships</td>\n",
       "      <td>1.0900</td>\n",
       "      <td>17.0</td>\n",
       "      <td>13546.0</td>\n",
       "      <td>217673.0</td>\n",
       "      <td>11828.0</td>\n",
       "      <td>320051.0</td>\n",
       "      <td>3549.0</td>\n",
       "      <td>21413.0</td>\n",
       "      <td>2018-07-31</td>\n",
       "      <td>NaN</td>\n",
       "      <td>NaN</td>\n",
       "      <td>NaN</td>\n",
       "    </tr>\n",
       "    <tr>\n",
       "      <th>352</th>\n",
       "      <td>2018.0</td>\n",
       "      <td>United Kingdom</td>\n",
       "      <td>All ships</td>\n",
       "      <td>1.1000</td>\n",
       "      <td>17.0</td>\n",
       "      <td>13784.0</td>\n",
       "      <td>217673.0</td>\n",
       "      <td>12258.0</td>\n",
       "      <td>323183.0</td>\n",
       "      <td>3382.0</td>\n",
       "      <td>21413.0</td>\n",
       "      <td>2019-01-31</td>\n",
       "      <td>NaN</td>\n",
       "      <td>NaN</td>\n",
       "      <td>NaN</td>\n",
       "    </tr>\n",
       "    <tr>\n",
       "      <th>532</th>\n",
       "      <td>2019.0</td>\n",
       "      <td>United Kingdom</td>\n",
       "      <td>All ships</td>\n",
       "      <td>1.0799</td>\n",
       "      <td>17.0</td>\n",
       "      <td>13625.0</td>\n",
       "      <td>219775.0</td>\n",
       "      <td>12722.0</td>\n",
       "      <td>319994.0</td>\n",
       "      <td>3400.0</td>\n",
       "      <td>21413.0</td>\n",
       "      <td>2019-07-31</td>\n",
       "      <td>NaN</td>\n",
       "      <td>NaN</td>\n",
       "      <td>NaN</td>\n",
       "    </tr>\n",
       "    <tr>\n",
       "      <th>713</th>\n",
       "      <td>2019.0</td>\n",
       "      <td>United Kingdom</td>\n",
       "      <td>All ships</td>\n",
       "      <td>1.0764</td>\n",
       "      <td>17.0</td>\n",
       "      <td>13755.0</td>\n",
       "      <td>232618.0</td>\n",
       "      <td>12295.0</td>\n",
       "      <td>320926.0</td>\n",
       "      <td>3366.0</td>\n",
       "      <td>23756.0</td>\n",
       "      <td>2020-01-31</td>\n",
       "      <td>NaN</td>\n",
       "      <td>NaN</td>\n",
       "      <td>NaN</td>\n",
       "    </tr>\n",
       "    <tr>\n",
       "      <th>894</th>\n",
       "      <td>2020.0</td>\n",
       "      <td>United Kingdom</td>\n",
       "      <td>All ships</td>\n",
       "      <td>1.1014</td>\n",
       "      <td>17.0</td>\n",
       "      <td>15309.0</td>\n",
       "      <td>235500.0</td>\n",
       "      <td>12920.0</td>\n",
       "      <td>321300.0</td>\n",
       "      <td>3359.0</td>\n",
       "      <td>23964.0</td>\n",
       "      <td>2020-07-31</td>\n",
       "      <td>NaN</td>\n",
       "      <td>NaN</td>\n",
       "      <td>NaN</td>\n",
       "    </tr>\n",
       "    <tr>\n",
       "      <th>1076</th>\n",
       "      <td>2020.0</td>\n",
       "      <td>United Kingdom</td>\n",
       "      <td>All ships</td>\n",
       "      <td>1.1125</td>\n",
       "      <td>17.0</td>\n",
       "      <td>14194.0</td>\n",
       "      <td>236583.0</td>\n",
       "      <td>11945.0</td>\n",
       "      <td>321300.0</td>\n",
       "      <td>3564.0</td>\n",
       "      <td>23964.0</td>\n",
       "      <td>2021-01-31</td>\n",
       "      <td>NaN</td>\n",
       "      <td>NaN</td>\n",
       "      <td>NaN</td>\n",
       "    </tr>\n",
       "    <tr>\n",
       "      <th>1257</th>\n",
       "      <td>2021.0</td>\n",
       "      <td>United Kingdom</td>\n",
       "      <td>All ships</td>\n",
       "      <td>1.1625</td>\n",
       "      <td>18.0</td>\n",
       "      <td>14350.0</td>\n",
       "      <td>236583.0</td>\n",
       "      <td>11973.0</td>\n",
       "      <td>321300.0</td>\n",
       "      <td>3162.0</td>\n",
       "      <td>23964.0</td>\n",
       "      <td>2021-07-31</td>\n",
       "      <td>NaN</td>\n",
       "      <td>NaN</td>\n",
       "      <td>NaN</td>\n",
       "    </tr>\n",
       "    <tr>\n",
       "      <th>1440</th>\n",
       "      <td>2021.0</td>\n",
       "      <td>United Kingdom</td>\n",
       "      <td>All ships</td>\n",
       "      <td>1.1639</td>\n",
       "      <td>18.0</td>\n",
       "      <td>14244.0</td>\n",
       "      <td>235579.0</td>\n",
       "      <td>12269.0</td>\n",
       "      <td>320785.0</td>\n",
       "      <td>3064.0</td>\n",
       "      <td>23992.0</td>\n",
       "      <td>2022-01-31</td>\n",
       "      <td>NaN</td>\n",
       "      <td>NaN</td>\n",
       "      <td>NaN</td>\n",
       "    </tr>\n",
       "    <tr>\n",
       "      <th>1624</th>\n",
       "      <td>2022.0</td>\n",
       "      <td>United Kingdom</td>\n",
       "      <td>All ships</td>\n",
       "      <td>1.2132</td>\n",
       "      <td>19.0</td>\n",
       "      <td>13975.0</td>\n",
       "      <td>235579.0</td>\n",
       "      <td>12913.0</td>\n",
       "      <td>319778.0</td>\n",
       "      <td>3309.0</td>\n",
       "      <td>23992.0</td>\n",
       "      <td>2022-07-31</td>\n",
       "      <td>NaN</td>\n",
       "      <td>NaN</td>\n",
       "      <td>NaN</td>\n",
       "    </tr>\n",
       "  </tbody>\n",
       "</table>\n",
       "</div>"
      ],
      "text/plain": [
       "        Year         country Vessel_Type  Median time in port (days)  \\\n",
       "171   2018.0  United Kingdom   All ships                      1.0900   \n",
       "352   2018.0  United Kingdom   All ships                      1.1000   \n",
       "532   2019.0  United Kingdom   All ships                      1.0799   \n",
       "713   2019.0  United Kingdom   All ships                      1.0764   \n",
       "894   2020.0  United Kingdom   All ships                      1.1014   \n",
       "1076  2020.0  United Kingdom   All ships                      1.1125   \n",
       "1257  2021.0  United Kingdom   All ships                      1.1625   \n",
       "1440  2021.0  United Kingdom   All ships                      1.1639   \n",
       "1624  2022.0  United Kingdom   All ships                      1.2132   \n",
       "\n",
       "      Average age of vessels  Average size (GT) of vessels  \\\n",
       "171                     17.0                       13546.0   \n",
       "352                     17.0                       13784.0   \n",
       "532                     17.0                       13625.0   \n",
       "713                     17.0                       13755.0   \n",
       "894                     17.0                       15309.0   \n",
       "1076                    17.0                       14194.0   \n",
       "1257                    18.0                       14350.0   \n",
       "1440                    18.0                       14244.0   \n",
       "1624                    19.0                       13975.0   \n",
       "\n",
       "      Maximum size (GT) of vessels  \\\n",
       "171                       217673.0   \n",
       "352                       217673.0   \n",
       "532                       219775.0   \n",
       "713                       232618.0   \n",
       "894                       235500.0   \n",
       "1076                      236583.0   \n",
       "1257                      236583.0   \n",
       "1440                      235579.0   \n",
       "1624                      235579.0   \n",
       "\n",
       "      Average cargo carrying capacity (dwt) per vessel  \\\n",
       "171                                            11828.0   \n",
       "352                                            12258.0   \n",
       "532                                            12722.0   \n",
       "713                                            12295.0   \n",
       "894                                            12920.0   \n",
       "1076                                           11945.0   \n",
       "1257                                           11973.0   \n",
       "1440                                           12269.0   \n",
       "1624                                           12913.0   \n",
       "\n",
       "      Maximum cargo carrying capacity (dwt) of vessels  \\\n",
       "171                                           320051.0   \n",
       "352                                           323183.0   \n",
       "532                                           319994.0   \n",
       "713                                           320926.0   \n",
       "894                                           321300.0   \n",
       "1076                                          321300.0   \n",
       "1257                                          321300.0   \n",
       "1440                                          320785.0   \n",
       "1624                                          319778.0   \n",
       "\n",
       "      Average container carrying capacity (TEU) per container ship  \\\n",
       "171                                              3549.0              \n",
       "352                                              3382.0              \n",
       "532                                              3400.0              \n",
       "713                                              3366.0              \n",
       "894                                              3359.0              \n",
       "1076                                             3564.0              \n",
       "1257                                             3162.0              \n",
       "1440                                             3064.0              \n",
       "1624                                             3309.0              \n",
       "\n",
       "      Maximum container carrying capacity (TEU) of container ships  \\\n",
       "171                                             21413.0              \n",
       "352                                             21413.0              \n",
       "532                                             21413.0              \n",
       "713                                             23756.0              \n",
       "894                                             23964.0              \n",
       "1076                                            23964.0              \n",
       "1257                                            23964.0              \n",
       "1440                                            23992.0              \n",
       "1624                                            23992.0              \n",
       "\n",
       "            date  Unnamed: 0  new_cases  cumulative_cases  \n",
       "171   2018-07-31         NaN        NaN               NaN  \n",
       "352   2019-01-31         NaN        NaN               NaN  \n",
       "532   2019-07-31         NaN        NaN               NaN  \n",
       "713   2020-01-31         NaN        NaN               NaN  \n",
       "894   2020-07-31         NaN        NaN               NaN  \n",
       "1076  2021-01-31         NaN        NaN               NaN  \n",
       "1257  2021-07-31         NaN        NaN               NaN  \n",
       "1440  2022-01-31         NaN        NaN               NaN  \n",
       "1624  2022-07-31         NaN        NaN               NaN  "
      ]
     },
     "execution_count": 134,
     "metadata": {},
     "output_type": "execute_result"
    }
   ],
   "source": [
    "port_covid = pd.merge(df_ports, df_new, on=['country','date'], how='outer')\n",
    "port_covid_uk = port_covid[port_covid[\"country\"] == 'United Kingdom']\n",
    "port_covid_uk_allships = port_covid_uk[port_covid_uk[\"Vessel_Type\"] == 'All ships']\n",
    "# port_covid_indo_allships = port_covid_indo[port_covid_china[\"Vessel_Type\"] == 'Container ships']\n",
    "port_covid_uk_allships\n",
    "\n",
    "# port_covid_uk_allships=port_covid_uk_allships.dropna(subset=['new_cases'])\n",
    "# data1 = port_covid_uk_allships['new_cases']\n",
    "# data2 = port_covid_uk_allships['Median time in port (days)']\n",
    "# print(\"The pearson correlation data for the UK is (Pearson's correlation coefficient r, P-value):\")\n",
    "# stats.pearsonr(data1, data2)"
   ]
  },
  {
   "cell_type": "code",
   "execution_count": 135,
   "metadata": {},
   "outputs": [
    {
     "name": "stdout",
     "output_type": "stream",
     "text": [
      "The pearson correlation data for the Japan is (Pearson's correlation coefficient r, P-value):\n"
     ]
    },
    {
     "data": {
      "text/plain": [
       "PearsonRResult(statistic=0.6416277642089109, pvalue=0.16963299780473085)"
      ]
     },
     "execution_count": 135,
     "metadata": {},
     "output_type": "execute_result"
    }
   ],
   "source": [
    "port_covid = pd.merge(df_ports, df_new, on=['country','date'], how='outer')\n",
    "port_covid_jpn = port_covid[port_covid[\"country\"] == 'Japan']\n",
    "port_covid_jpn_allships = port_covid_jpn[port_covid_jpn[\"Vessel_Type\"] == 'All ships']\n",
    "# port_covid_indo_allships = port_covid_indo[port_covid_china[\"Vessel_Type\"] == 'Container ships']\n",
    "port_covid_jpn_allships\n",
    "\n",
    "port_covid_jpn_allships=port_covid_jpn_allships.dropna(subset=['new_cases'])\n",
    "data1 = port_covid_jpn_allships['new_cases']\n",
    "data2 = port_covid_jpn_allships['Median time in port (days)']\n",
    "print(\"The pearson correlation data for the Japan is (Pearson's correlation coefficient r, P-value):\")\n",
    "stats.pearsonr(data1, data2)"
   ]
  },
  {
   "cell_type": "code",
   "execution_count": 136,
   "metadata": {},
   "outputs": [
    {
     "data": {
      "text/html": [
       "<div>\n",
       "<style scoped>\n",
       "    .dataframe tbody tr th:only-of-type {\n",
       "        vertical-align: middle;\n",
       "    }\n",
       "\n",
       "    .dataframe tbody tr th {\n",
       "        vertical-align: top;\n",
       "    }\n",
       "\n",
       "    .dataframe thead th {\n",
       "        text-align: right;\n",
       "    }\n",
       "</style>\n",
       "<table border=\"1\" class=\"dataframe\">\n",
       "  <thead>\n",
       "    <tr style=\"text-align: right;\">\n",
       "      <th></th>\n",
       "      <th>country</th>\n",
       "      <th>Correlation Coeff.</th>\n",
       "      <th>P-value</th>\n",
       "    </tr>\n",
       "  </thead>\n",
       "  <tbody>\n",
       "    <tr>\n",
       "      <th>0</th>\n",
       "      <td>Australia</td>\n",
       "      <td>0.719339</td>\n",
       "      <td>0.107102</td>\n",
       "    </tr>\n",
       "    <tr>\n",
       "      <th>1</th>\n",
       "      <td>Canada</td>\n",
       "      <td>-0.252046</td>\n",
       "      <td>0.629937</td>\n",
       "    </tr>\n",
       "    <tr>\n",
       "      <th>2</th>\n",
       "      <td>China</td>\n",
       "      <td>0.433619</td>\n",
       "      <td>0.390337</td>\n",
       "    </tr>\n",
       "    <tr>\n",
       "      <th>3</th>\n",
       "      <td>Croatia</td>\n",
       "      <td>0.188726</td>\n",
       "      <td>0.720272</td>\n",
       "    </tr>\n",
       "    <tr>\n",
       "      <th>4</th>\n",
       "      <td>Denmark</td>\n",
       "      <td>-0.623310</td>\n",
       "      <td>0.186118</td>\n",
       "    </tr>\n",
       "    <tr>\n",
       "      <th>5</th>\n",
       "      <td>France</td>\n",
       "      <td>0.332295</td>\n",
       "      <td>0.519903</td>\n",
       "    </tr>\n",
       "    <tr>\n",
       "      <th>6</th>\n",
       "      <td>Germany</td>\n",
       "      <td>0.344195</td>\n",
       "      <td>0.504096</td>\n",
       "    </tr>\n",
       "    <tr>\n",
       "      <th>7</th>\n",
       "      <td>Greece</td>\n",
       "      <td>0.514415</td>\n",
       "      <td>0.296441</td>\n",
       "    </tr>\n",
       "    <tr>\n",
       "      <th>8</th>\n",
       "      <td>Indonesia</td>\n",
       "      <td>0.579634</td>\n",
       "      <td>0.227921</td>\n",
       "    </tr>\n",
       "    <tr>\n",
       "      <th>9</th>\n",
       "      <td>Italy</td>\n",
       "      <td>0.945915</td>\n",
       "      <td>0.004309</td>\n",
       "    </tr>\n",
       "    <tr>\n",
       "      <th>10</th>\n",
       "      <td>Japan</td>\n",
       "      <td>0.641628</td>\n",
       "      <td>0.169633</td>\n",
       "    </tr>\n",
       "    <tr>\n",
       "      <th>11</th>\n",
       "      <td>Netherlands</td>\n",
       "      <td>0.862706</td>\n",
       "      <td>0.026980</td>\n",
       "    </tr>\n",
       "    <tr>\n",
       "      <th>12</th>\n",
       "      <td>Norway</td>\n",
       "      <td>0.311161</td>\n",
       "      <td>0.548322</td>\n",
       "    </tr>\n",
       "    <tr>\n",
       "      <th>13</th>\n",
       "      <td>Russian Federation</td>\n",
       "      <td>0.665848</td>\n",
       "      <td>0.148831</td>\n",
       "    </tr>\n",
       "    <tr>\n",
       "      <th>14</th>\n",
       "      <td>Spain</td>\n",
       "      <td>0.367754</td>\n",
       "      <td>0.473237</td>\n",
       "    </tr>\n",
       "    <tr>\n",
       "      <th>15</th>\n",
       "      <td>Sweden</td>\n",
       "      <td>-0.761536</td>\n",
       "      <td>0.078518</td>\n",
       "    </tr>\n",
       "    <tr>\n",
       "      <th>16</th>\n",
       "      <td>Türkiye</td>\n",
       "      <td>0.730691</td>\n",
       "      <td>0.099025</td>\n",
       "    </tr>\n",
       "    <tr>\n",
       "      <th>17</th>\n",
       "      <td>United States of America</td>\n",
       "      <td>0.450912</td>\n",
       "      <td>0.369473</td>\n",
       "    </tr>\n",
       "  </tbody>\n",
       "</table>\n",
       "</div>"
      ],
      "text/plain": [
       "                     country  Correlation Coeff.   P-value\n",
       "0                  Australia            0.719339  0.107102\n",
       "1                     Canada           -0.252046  0.629937\n",
       "2                      China            0.433619  0.390337\n",
       "3                    Croatia            0.188726  0.720272\n",
       "4                    Denmark           -0.623310  0.186118\n",
       "5                     France            0.332295  0.519903\n",
       "6                    Germany            0.344195  0.504096\n",
       "7                     Greece            0.514415  0.296441\n",
       "8                  Indonesia            0.579634  0.227921\n",
       "9                      Italy            0.945915  0.004309\n",
       "10                     Japan            0.641628  0.169633\n",
       "11               Netherlands            0.862706  0.026980\n",
       "12                    Norway            0.311161  0.548322\n",
       "13        Russian Federation            0.665848  0.148831\n",
       "14                     Spain            0.367754  0.473237\n",
       "15                    Sweden           -0.761536  0.078518\n",
       "16                   Türkiye            0.730691  0.099025\n",
       "17  United States of America            0.450912  0.369473"
      ]
     },
     "execution_count": 136,
     "metadata": {},
     "output_type": "execute_result"
    }
   ],
   "source": [
    "port_covid_new = port_covid.dropna(subset=['new_cases'])\n",
    "port_covid_new = port_covid_new.dropna(subset=['Vessel_Type'])\n",
    "port_covid_new = port_covid_new[port_covid_new['Vessel_Type'] == 'All ships']\n",
    "port_covid_new\n",
    "\n",
    "# unq_country = port_covid_new['country'].unique()\n",
    "# unq_country\n",
    "\n",
    "port_au = port_covid_new[port_covid_new[\"country\"] == 'Australia']\n",
    "cc_au = stats.pearsonr(port_au['new_cases'], port_au['Median time in port (days)'])[0]\n",
    "pv_au = stats.pearsonr(port_au['new_cases'], port_au['Median time in port (days)'])[1]\n",
    "\n",
    "port_ca = port_covid_new[port_covid_new[\"country\"] == 'Canada']\n",
    "cc_ca = stats.pearsonr(port_ca['new_cases'], port_ca['Median time in port (days)'])[0]\n",
    "pv_ca = stats.pearsonr(port_ca['new_cases'], port_ca['Median time in port (days)'])[1]\n",
    "\n",
    "port_ch = port_covid_new[port_covid_new[\"country\"] == 'China']\n",
    "cc_ch = stats.pearsonr(port_ch['new_cases'], port_ch['Median time in port (days)'])[0]\n",
    "pv_ch = stats.pearsonr(port_ch['new_cases'], port_ch['Median time in port (days)'])[1]\n",
    "\n",
    "port_cr = port_covid_new[port_covid_new[\"country\"] == 'Croatia']\n",
    "cc_cr = stats.pearsonr(port_cr['new_cases'], port_cr['Median time in port (days)'])[0]\n",
    "pv_cr = stats.pearsonr(port_cr['new_cases'], port_cr['Median time in port (days)'])[1]\n",
    "\n",
    "port_dn = port_covid_new[port_covid_new[\"country\"] == 'Denmark']\n",
    "cc_dn = stats.pearsonr(port_dn['new_cases'], port_dn['Median time in port (days)'])[0]\n",
    "pv_dn = stats.pearsonr(port_dn['new_cases'], port_dn['Median time in port (days)'])[1]\n",
    "\n",
    "port_fr = port_covid_new[port_covid_new[\"country\"] == 'France']\n",
    "cc_fr = stats.pearsonr(port_fr['new_cases'], port_fr['Median time in port (days)'])[0]\n",
    "pv_fr = stats.pearsonr(port_fr['new_cases'], port_fr['Median time in port (days)'])[1]\n",
    "\n",
    "port_ge = port_covid_new[port_covid_new[\"country\"] == 'Germany']\n",
    "cc_ge = stats.pearsonr(port_ge['new_cases'], port_ge['Median time in port (days)'])[0]\n",
    "pv_ge = stats.pearsonr(port_ge['new_cases'], port_ge['Median time in port (days)'])[1]\n",
    "\n",
    "port_gr = port_covid_new[port_covid_new[\"country\"] == 'Greece']\n",
    "cc_gr = stats.pearsonr(port_gr['new_cases'], port_gr['Median time in port (days)'])[0]\n",
    "pv_gr = stats.pearsonr(port_gr['new_cases'], port_gr['Median time in port (days)'])[1]\n",
    "\n",
    "port_id = port_covid_new[port_covid_new[\"country\"] == 'Indonesia']\n",
    "cc_id = stats.pearsonr(port_id['new_cases'], port_id['Median time in port (days)'])[0]\n",
    "pv_id = stats.pearsonr(port_id['new_cases'], port_id['Median time in port (days)'])[1]\n",
    "\n",
    "port_it = port_covid_new[port_covid_new[\"country\"] == 'Italy']\n",
    "cc_it = stats.pearsonr(port_it['new_cases'], port_it['Median time in port (days)'])[0]\n",
    "pv_it = stats.pearsonr(port_it['new_cases'], port_it['Median time in port (days)'])[1]\n",
    "\n",
    "port_jp = port_covid_new[port_covid_new[\"country\"] == 'Japan']\n",
    "cc_jp = stats.pearsonr(port_jp['new_cases'], port_jp['Median time in port (days)'])[0]\n",
    "pv_jp = stats.pearsonr(port_jp['new_cases'], port_jp['Median time in port (days)'])[1]\n",
    "\n",
    "port_nl = port_covid_new[port_covid_new[\"country\"] == 'Netherlands']\n",
    "cc_nl = stats.pearsonr(port_nl['new_cases'], port_nl['Median time in port (days)'])[0]\n",
    "pv_nl = stats.pearsonr(port_nl['new_cases'], port_nl['Median time in port (days)'])[1]\n",
    "\n",
    "port_no = port_covid_new[port_covid_new[\"country\"] == 'Norway']\n",
    "cc_no = stats.pearsonr(port_no['new_cases'], port_no['Median time in port (days)'])[0]\n",
    "pv_no = stats.pearsonr(port_no['new_cases'], port_no['Median time in port (days)'])[1]\n",
    "\n",
    "port_ru = port_covid_new[port_covid_new[\"country\"] == 'Russian Federation']\n",
    "cc_ru = stats.pearsonr(port_ru['new_cases'], port_ru['Median time in port (days)'])[0]\n",
    "pv_ru = stats.pearsonr(port_ru['new_cases'], port_ru['Median time in port (days)'])[1]\n",
    "\n",
    "port_sp = port_covid_new[port_covid_new[\"country\"] == 'Spain']\n",
    "cc_sp = stats.pearsonr(port_sp['new_cases'], port_sp['Median time in port (days)'])[0]\n",
    "pv_sp = stats.pearsonr(port_sp['new_cases'], port_sp['Median time in port (days)'])[1]\n",
    "\n",
    "port_sw = port_covid_new[port_covid_new[\"country\"] == 'Sweden']\n",
    "cc_sw = stats.pearsonr(port_sw['new_cases'], port_sw['Median time in port (days)'])[0]\n",
    "pv_sw = stats.pearsonr(port_sw['new_cases'], port_sw['Median time in port (days)'])[1]\n",
    "\n",
    "port_tr = port_covid_new[port_covid_new[\"country\"] == 'Türkiye']\n",
    "cc_tr = stats.pearsonr(port_tr['new_cases'], port_tr['Median time in port (days)'])[0]\n",
    "pv_tr = stats.pearsonr(port_tr['new_cases'], port_tr['Median time in port (days)'])[1]\n",
    "\n",
    "port_us = port_covid_new[port_covid_new[\"country\"] == 'United States of America']\n",
    "cc_us = stats.pearsonr(port_us['new_cases'], port_us['Median time in port (days)'])[0]\n",
    "pv_us = stats.pearsonr(port_us['new_cases'], port_us['Median time in port (days)'])[1]\n",
    "\n",
    "# initialize data of lists.\n",
    "data_pearson = {'country': ['Australia', 'Canada', 'China', 'Croatia', 'Denmark', 'France',\n",
    "                            'Germany', 'Greece', 'Indonesia', 'Italy', 'Japan', 'Netherlands',\n",
    "                            'Norway', 'Russian Federation', 'Spain', 'Sweden', 'Türkiye',\n",
    "                            'United States of America'],\n",
    "                'Correlation Coeff.': [cc_au, cc_ca, cc_ch, cc_cr, cc_dn, cc_fr,\n",
    "                                        cc_ge, cc_gr, cc_id, cc_it, cc_jp, cc_nl,\n",
    "                                        cc_no, cc_ru, cc_sp, cc_sw, cc_tr,\n",
    "                                        cc_us],\n",
    "                'P-value': [pv_au, pv_ca, pv_ch, pv_cr, pv_dn, pv_fr,\n",
    "                            pv_ge, pv_gr, pv_id, pv_it, pv_jp, pv_nl,\n",
    "                            pv_no, pv_ru, pv_sp, pv_sw, pv_tr,\n",
    "                            pv_us]}\n",
    "  \n",
    "# Create DataFrame\n",
    "pearson_covid_port = pd.DataFrame(data_pearson)\n",
    "  \n",
    "# Print the output.\n",
    "pearson_covid_port\n",
    "\n",
    "# port_covid_new.to_csv (r'C:\\Users\\user\\OneDrive - Delft University of Technology\\Desktop\\TIL\\Q1\\TIL6022\\Final Project\\correlation data.csv')"
   ]
  },
  {
   "cell_type": "code",
   "execution_count": 137,
   "metadata": {},
   "outputs": [
    {
     "data": {
      "text/html": [
       "<div>\n",
       "<style scoped>\n",
       "    .dataframe tbody tr th:only-of-type {\n",
       "        vertical-align: middle;\n",
       "    }\n",
       "\n",
       "    .dataframe tbody tr th {\n",
       "        vertical-align: top;\n",
       "    }\n",
       "\n",
       "    .dataframe thead th {\n",
       "        text-align: right;\n",
       "    }\n",
       "</style>\n",
       "<table border=\"1\" class=\"dataframe\">\n",
       "  <thead>\n",
       "    <tr style=\"text-align: right;\">\n",
       "      <th></th>\n",
       "      <th>country</th>\n",
       "      <th>ISO_A3</th>\n",
       "      <th>geometry</th>\n",
       "      <th>Correlation Coeff.</th>\n",
       "      <th>P-value</th>\n",
       "    </tr>\n",
       "  </thead>\n",
       "  <tbody>\n",
       "    <tr>\n",
       "      <th>0</th>\n",
       "      <td>Australia</td>\n",
       "      <td>AUS</td>\n",
       "      <td>MULTIPOLYGON (((158.86573 -54.74993, 158.83823...</td>\n",
       "      <td>0.719339</td>\n",
       "      <td>0.107102</td>\n",
       "    </tr>\n",
       "    <tr>\n",
       "      <th>1</th>\n",
       "      <td>Canada</td>\n",
       "      <td>CAN</td>\n",
       "      <td>MULTIPOLYGON (((-65.61059 43.42817, -65.62881 ...</td>\n",
       "      <td>-0.252046</td>\n",
       "      <td>0.629937</td>\n",
       "    </tr>\n",
       "    <tr>\n",
       "      <th>2</th>\n",
       "      <td>China</td>\n",
       "      <td>CHN</td>\n",
       "      <td>MULTIPOLYGON (((111.20460 15.77924, 111.19654 ...</td>\n",
       "      <td>0.433619</td>\n",
       "      <td>0.390337</td>\n",
       "    </tr>\n",
       "    <tr>\n",
       "      <th>3</th>\n",
       "      <td>Germany</td>\n",
       "      <td>DEU</td>\n",
       "      <td>MULTIPOLYGON (((6.74220 53.57836, 6.74952 53.5...</td>\n",
       "      <td>0.344195</td>\n",
       "      <td>0.504096</td>\n",
       "    </tr>\n",
       "    <tr>\n",
       "      <th>4</th>\n",
       "      <td>Denmark</td>\n",
       "      <td>DNK</td>\n",
       "      <td>MULTIPOLYGON (((11.25603 54.95458, 11.30348 54...</td>\n",
       "      <td>-0.623310</td>\n",
       "      <td>0.186118</td>\n",
       "    </tr>\n",
       "  </tbody>\n",
       "</table>\n",
       "</div>"
      ],
      "text/plain": [
       "     country ISO_A3                                           geometry  \\\n",
       "0  Australia    AUS  MULTIPOLYGON (((158.86573 -54.74993, 158.83823...   \n",
       "1     Canada    CAN  MULTIPOLYGON (((-65.61059 43.42817, -65.62881 ...   \n",
       "2      China    CHN  MULTIPOLYGON (((111.20460 15.77924, 111.19654 ...   \n",
       "3    Germany    DEU  MULTIPOLYGON (((6.74220 53.57836, 6.74952 53.5...   \n",
       "4    Denmark    DNK  MULTIPOLYGON (((11.25603 54.95458, 11.30348 54...   \n",
       "\n",
       "   Correlation Coeff.   P-value  \n",
       "0            0.719339  0.107102  \n",
       "1           -0.252046  0.629937  \n",
       "2            0.433619  0.390337  \n",
       "3            0.344195  0.504096  \n",
       "4           -0.623310  0.186118  "
      ]
     },
     "execution_count": 137,
     "metadata": {},
     "output_type": "execute_result"
    }
   ],
   "source": [
    "geo_pearson = pd.merge(df_geo, pearson_covid_port, on = 'country')\n",
    "geo_pearson.head()"
   ]
  },
  {
   "cell_type": "code",
   "execution_count": 139,
   "metadata": {},
   "outputs": [
    {
     "data": {
      "application/vnd.plotly.v1+json": {
       "config": {
        "plotlyServerURL": "https://plot.ly"
       },
       "data": [
        {
         "coloraxis": "coloraxis",
         "customdata": [
          [
           0.7193393821936457
          ],
          [
           -0.2520461155881222
          ],
          [
           0.43361944525590984
          ],
          [
           0.34419484417136176
          ],
          [
           -0.6233097852216134
          ],
          [
           0.36775423036437616
          ],
          [
           0.33229535403524274
          ],
          [
           0.5144149698756525
          ],
          [
           0.18872575299284783
          ],
          [
           0.5796336610430461
          ],
          [
           0.9459149871548163
          ],
          [
           0.6416277642089109
          ],
          [
           0.862706470520963
          ],
          [
           0.31116072116097315
          ],
          [
           -0.761535741499157
          ],
          [
           0.4509116455455507
          ]
         ],
         "geo": "geo",
         "hovertemplate": "<b>%{hovertext}</b><br><br>ISO_A3=%{location}<br>Correlation Coeff.=%{customdata[0]}<br>P-value=%{z}<extra></extra>",
         "hovertext": [
          "Australia",
          "Canada",
          "China",
          "Germany",
          "Denmark",
          "Spain",
          "France",
          "Greece",
          "Croatia",
          "Indonesia",
          "Italy",
          "Japan",
          "Netherlands",
          "Norway",
          "Sweden",
          "United States of America"
         ],
         "locations": [
          "AUS",
          "CAN",
          "CHN",
          "DEU",
          "DNK",
          "ESP",
          "FRA",
          "GRC",
          "HRV",
          "IDN",
          "ITA",
          "JPN",
          "NLD",
          "NOR",
          "SWE",
          "USA"
         ],
         "name": "",
         "type": "choropleth",
         "z": [
          0.10710170148831527,
          0.6299367242082007,
          0.3903366587135776,
          0.5040961309560029,
          0.1861179503059165,
          0.4732367791276091,
          0.5199030290573243,
          0.2964405000603502,
          0.7202723317568389,
          0.22792077053085105,
          0.004308678489801609,
          0.16963299780473085,
          0.026980311754594966,
          0.5483223634780294,
          0.07851764468938431,
          0.36947250538584875
         ]
        }
       ],
       "layout": {
        "coloraxis": {
         "cmax": 1,
         "cmin": 0,
         "colorbar": {
          "title": {
           "text": "P-value"
          }
         },
         "colorscale": [
          [
           0,
           "#0d0887"
          ],
          [
           0.1111111111111111,
           "#46039f"
          ],
          [
           0.2222222222222222,
           "#7201a8"
          ],
          [
           0.3333333333333333,
           "#9c179e"
          ],
          [
           0.4444444444444444,
           "#bd3786"
          ],
          [
           0.5555555555555556,
           "#d8576b"
          ],
          [
           0.6666666666666666,
           "#ed7953"
          ],
          [
           0.7777777777777778,
           "#fb9f3a"
          ],
          [
           0.8888888888888888,
           "#fdca26"
          ],
          [
           1,
           "#f0f921"
          ]
         ]
        },
        "geo": {
         "center": {},
         "domain": {
          "x": [
           0,
           1
          ],
          "y": [
           0,
           1
          ]
         }
        },
        "legend": {
         "tracegroupgap": 0
        },
        "margin": {
         "t": 60
        },
        "template": {
         "data": {
          "bar": [
           {
            "error_x": {
             "color": "#2a3f5f"
            },
            "error_y": {
             "color": "#2a3f5f"
            },
            "marker": {
             "line": {
              "color": "#E5ECF6",
              "width": 0.5
             },
             "pattern": {
              "fillmode": "overlay",
              "size": 10,
              "solidity": 0.2
             }
            },
            "type": "bar"
           }
          ],
          "barpolar": [
           {
            "marker": {
             "line": {
              "color": "#E5ECF6",
              "width": 0.5
             },
             "pattern": {
              "fillmode": "overlay",
              "size": 10,
              "solidity": 0.2
             }
            },
            "type": "barpolar"
           }
          ],
          "carpet": [
           {
            "aaxis": {
             "endlinecolor": "#2a3f5f",
             "gridcolor": "white",
             "linecolor": "white",
             "minorgridcolor": "white",
             "startlinecolor": "#2a3f5f"
            },
            "baxis": {
             "endlinecolor": "#2a3f5f",
             "gridcolor": "white",
             "linecolor": "white",
             "minorgridcolor": "white",
             "startlinecolor": "#2a3f5f"
            },
            "type": "carpet"
           }
          ],
          "choropleth": [
           {
            "colorbar": {
             "outlinewidth": 0,
             "ticks": ""
            },
            "type": "choropleth"
           }
          ],
          "contour": [
           {
            "colorbar": {
             "outlinewidth": 0,
             "ticks": ""
            },
            "colorscale": [
             [
              0,
              "#0d0887"
             ],
             [
              0.1111111111111111,
              "#46039f"
             ],
             [
              0.2222222222222222,
              "#7201a8"
             ],
             [
              0.3333333333333333,
              "#9c179e"
             ],
             [
              0.4444444444444444,
              "#bd3786"
             ],
             [
              0.5555555555555556,
              "#d8576b"
             ],
             [
              0.6666666666666666,
              "#ed7953"
             ],
             [
              0.7777777777777778,
              "#fb9f3a"
             ],
             [
              0.8888888888888888,
              "#fdca26"
             ],
             [
              1,
              "#f0f921"
             ]
            ],
            "type": "contour"
           }
          ],
          "contourcarpet": [
           {
            "colorbar": {
             "outlinewidth": 0,
             "ticks": ""
            },
            "type": "contourcarpet"
           }
          ],
          "heatmap": [
           {
            "colorbar": {
             "outlinewidth": 0,
             "ticks": ""
            },
            "colorscale": [
             [
              0,
              "#0d0887"
             ],
             [
              0.1111111111111111,
              "#46039f"
             ],
             [
              0.2222222222222222,
              "#7201a8"
             ],
             [
              0.3333333333333333,
              "#9c179e"
             ],
             [
              0.4444444444444444,
              "#bd3786"
             ],
             [
              0.5555555555555556,
              "#d8576b"
             ],
             [
              0.6666666666666666,
              "#ed7953"
             ],
             [
              0.7777777777777778,
              "#fb9f3a"
             ],
             [
              0.8888888888888888,
              "#fdca26"
             ],
             [
              1,
              "#f0f921"
             ]
            ],
            "type": "heatmap"
           }
          ],
          "heatmapgl": [
           {
            "colorbar": {
             "outlinewidth": 0,
             "ticks": ""
            },
            "colorscale": [
             [
              0,
              "#0d0887"
             ],
             [
              0.1111111111111111,
              "#46039f"
             ],
             [
              0.2222222222222222,
              "#7201a8"
             ],
             [
              0.3333333333333333,
              "#9c179e"
             ],
             [
              0.4444444444444444,
              "#bd3786"
             ],
             [
              0.5555555555555556,
              "#d8576b"
             ],
             [
              0.6666666666666666,
              "#ed7953"
             ],
             [
              0.7777777777777778,
              "#fb9f3a"
             ],
             [
              0.8888888888888888,
              "#fdca26"
             ],
             [
              1,
              "#f0f921"
             ]
            ],
            "type": "heatmapgl"
           }
          ],
          "histogram": [
           {
            "marker": {
             "pattern": {
              "fillmode": "overlay",
              "size": 10,
              "solidity": 0.2
             }
            },
            "type": "histogram"
           }
          ],
          "histogram2d": [
           {
            "colorbar": {
             "outlinewidth": 0,
             "ticks": ""
            },
            "colorscale": [
             [
              0,
              "#0d0887"
             ],
             [
              0.1111111111111111,
              "#46039f"
             ],
             [
              0.2222222222222222,
              "#7201a8"
             ],
             [
              0.3333333333333333,
              "#9c179e"
             ],
             [
              0.4444444444444444,
              "#bd3786"
             ],
             [
              0.5555555555555556,
              "#d8576b"
             ],
             [
              0.6666666666666666,
              "#ed7953"
             ],
             [
              0.7777777777777778,
              "#fb9f3a"
             ],
             [
              0.8888888888888888,
              "#fdca26"
             ],
             [
              1,
              "#f0f921"
             ]
            ],
            "type": "histogram2d"
           }
          ],
          "histogram2dcontour": [
           {
            "colorbar": {
             "outlinewidth": 0,
             "ticks": ""
            },
            "colorscale": [
             [
              0,
              "#0d0887"
             ],
             [
              0.1111111111111111,
              "#46039f"
             ],
             [
              0.2222222222222222,
              "#7201a8"
             ],
             [
              0.3333333333333333,
              "#9c179e"
             ],
             [
              0.4444444444444444,
              "#bd3786"
             ],
             [
              0.5555555555555556,
              "#d8576b"
             ],
             [
              0.6666666666666666,
              "#ed7953"
             ],
             [
              0.7777777777777778,
              "#fb9f3a"
             ],
             [
              0.8888888888888888,
              "#fdca26"
             ],
             [
              1,
              "#f0f921"
             ]
            ],
            "type": "histogram2dcontour"
           }
          ],
          "mesh3d": [
           {
            "colorbar": {
             "outlinewidth": 0,
             "ticks": ""
            },
            "type": "mesh3d"
           }
          ],
          "parcoords": [
           {
            "line": {
             "colorbar": {
              "outlinewidth": 0,
              "ticks": ""
             }
            },
            "type": "parcoords"
           }
          ],
          "pie": [
           {
            "automargin": true,
            "type": "pie"
           }
          ],
          "scatter": [
           {
            "fillpattern": {
             "fillmode": "overlay",
             "size": 10,
             "solidity": 0.2
            },
            "type": "scatter"
           }
          ],
          "scatter3d": [
           {
            "line": {
             "colorbar": {
              "outlinewidth": 0,
              "ticks": ""
             }
            },
            "marker": {
             "colorbar": {
              "outlinewidth": 0,
              "ticks": ""
             }
            },
            "type": "scatter3d"
           }
          ],
          "scattercarpet": [
           {
            "marker": {
             "colorbar": {
              "outlinewidth": 0,
              "ticks": ""
             }
            },
            "type": "scattercarpet"
           }
          ],
          "scattergeo": [
           {
            "marker": {
             "colorbar": {
              "outlinewidth": 0,
              "ticks": ""
             }
            },
            "type": "scattergeo"
           }
          ],
          "scattergl": [
           {
            "marker": {
             "colorbar": {
              "outlinewidth": 0,
              "ticks": ""
             }
            },
            "type": "scattergl"
           }
          ],
          "scattermapbox": [
           {
            "marker": {
             "colorbar": {
              "outlinewidth": 0,
              "ticks": ""
             }
            },
            "type": "scattermapbox"
           }
          ],
          "scatterpolar": [
           {
            "marker": {
             "colorbar": {
              "outlinewidth": 0,
              "ticks": ""
             }
            },
            "type": "scatterpolar"
           }
          ],
          "scatterpolargl": [
           {
            "marker": {
             "colorbar": {
              "outlinewidth": 0,
              "ticks": ""
             }
            },
            "type": "scatterpolargl"
           }
          ],
          "scatterternary": [
           {
            "marker": {
             "colorbar": {
              "outlinewidth": 0,
              "ticks": ""
             }
            },
            "type": "scatterternary"
           }
          ],
          "surface": [
           {
            "colorbar": {
             "outlinewidth": 0,
             "ticks": ""
            },
            "colorscale": [
             [
              0,
              "#0d0887"
             ],
             [
              0.1111111111111111,
              "#46039f"
             ],
             [
              0.2222222222222222,
              "#7201a8"
             ],
             [
              0.3333333333333333,
              "#9c179e"
             ],
             [
              0.4444444444444444,
              "#bd3786"
             ],
             [
              0.5555555555555556,
              "#d8576b"
             ],
             [
              0.6666666666666666,
              "#ed7953"
             ],
             [
              0.7777777777777778,
              "#fb9f3a"
             ],
             [
              0.8888888888888888,
              "#fdca26"
             ],
             [
              1,
              "#f0f921"
             ]
            ],
            "type": "surface"
           }
          ],
          "table": [
           {
            "cells": {
             "fill": {
              "color": "#EBF0F8"
             },
             "line": {
              "color": "white"
             }
            },
            "header": {
             "fill": {
              "color": "#C8D4E3"
             },
             "line": {
              "color": "white"
             }
            },
            "type": "table"
           }
          ]
         },
         "layout": {
          "annotationdefaults": {
           "arrowcolor": "#2a3f5f",
           "arrowhead": 0,
           "arrowwidth": 1
          },
          "autotypenumbers": "strict",
          "coloraxis": {
           "colorbar": {
            "outlinewidth": 0,
            "ticks": ""
           }
          },
          "colorscale": {
           "diverging": [
            [
             0,
             "#8e0152"
            ],
            [
             0.1,
             "#c51b7d"
            ],
            [
             0.2,
             "#de77ae"
            ],
            [
             0.3,
             "#f1b6da"
            ],
            [
             0.4,
             "#fde0ef"
            ],
            [
             0.5,
             "#f7f7f7"
            ],
            [
             0.6,
             "#e6f5d0"
            ],
            [
             0.7,
             "#b8e186"
            ],
            [
             0.8,
             "#7fbc41"
            ],
            [
             0.9,
             "#4d9221"
            ],
            [
             1,
             "#276419"
            ]
           ],
           "sequential": [
            [
             0,
             "#0d0887"
            ],
            [
             0.1111111111111111,
             "#46039f"
            ],
            [
             0.2222222222222222,
             "#7201a8"
            ],
            [
             0.3333333333333333,
             "#9c179e"
            ],
            [
             0.4444444444444444,
             "#bd3786"
            ],
            [
             0.5555555555555556,
             "#d8576b"
            ],
            [
             0.6666666666666666,
             "#ed7953"
            ],
            [
             0.7777777777777778,
             "#fb9f3a"
            ],
            [
             0.8888888888888888,
             "#fdca26"
            ],
            [
             1,
             "#f0f921"
            ]
           ],
           "sequentialminus": [
            [
             0,
             "#0d0887"
            ],
            [
             0.1111111111111111,
             "#46039f"
            ],
            [
             0.2222222222222222,
             "#7201a8"
            ],
            [
             0.3333333333333333,
             "#9c179e"
            ],
            [
             0.4444444444444444,
             "#bd3786"
            ],
            [
             0.5555555555555556,
             "#d8576b"
            ],
            [
             0.6666666666666666,
             "#ed7953"
            ],
            [
             0.7777777777777778,
             "#fb9f3a"
            ],
            [
             0.8888888888888888,
             "#fdca26"
            ],
            [
             1,
             "#f0f921"
            ]
           ]
          },
          "colorway": [
           "#636efa",
           "#EF553B",
           "#00cc96",
           "#ab63fa",
           "#FFA15A",
           "#19d3f3",
           "#FF6692",
           "#B6E880",
           "#FF97FF",
           "#FECB52"
          ],
          "font": {
           "color": "#2a3f5f"
          },
          "geo": {
           "bgcolor": "white",
           "lakecolor": "white",
           "landcolor": "#E5ECF6",
           "showlakes": true,
           "showland": true,
           "subunitcolor": "white"
          },
          "hoverlabel": {
           "align": "left"
          },
          "hovermode": "closest",
          "mapbox": {
           "style": "light"
          },
          "paper_bgcolor": "white",
          "plot_bgcolor": "#E5ECF6",
          "polar": {
           "angularaxis": {
            "gridcolor": "white",
            "linecolor": "white",
            "ticks": ""
           },
           "bgcolor": "#E5ECF6",
           "radialaxis": {
            "gridcolor": "white",
            "linecolor": "white",
            "ticks": ""
           }
          },
          "scene": {
           "xaxis": {
            "backgroundcolor": "#E5ECF6",
            "gridcolor": "white",
            "gridwidth": 2,
            "linecolor": "white",
            "showbackground": true,
            "ticks": "",
            "zerolinecolor": "white"
           },
           "yaxis": {
            "backgroundcolor": "#E5ECF6",
            "gridcolor": "white",
            "gridwidth": 2,
            "linecolor": "white",
            "showbackground": true,
            "ticks": "",
            "zerolinecolor": "white"
           },
           "zaxis": {
            "backgroundcolor": "#E5ECF6",
            "gridcolor": "white",
            "gridwidth": 2,
            "linecolor": "white",
            "showbackground": true,
            "ticks": "",
            "zerolinecolor": "white"
           }
          },
          "shapedefaults": {
           "line": {
            "color": "#2a3f5f"
           }
          },
          "ternary": {
           "aaxis": {
            "gridcolor": "white",
            "linecolor": "white",
            "ticks": ""
           },
           "baxis": {
            "gridcolor": "white",
            "linecolor": "white",
            "ticks": ""
           },
           "bgcolor": "#E5ECF6",
           "caxis": {
            "gridcolor": "white",
            "linecolor": "white",
            "ticks": ""
           }
          },
          "title": {
           "x": 0.05
          },
          "xaxis": {
           "automargin": true,
           "gridcolor": "white",
           "linecolor": "white",
           "ticks": "",
           "title": {
            "standoff": 15
           },
           "zerolinecolor": "white",
           "zerolinewidth": 2
          },
          "yaxis": {
           "automargin": true,
           "gridcolor": "white",
           "linecolor": "white",
           "ticks": "",
           "title": {
            "standoff": 15
           },
           "zerolinecolor": "white",
           "zerolinewidth": 2
          }
         }
        }
       }
      },
      "text/html": [
       "<div>                            <div id=\"3c5bf7d1-6efc-4b21-9303-82fd1c4bbb13\" class=\"plotly-graph-div\" style=\"height:525px; width:100%;\"></div>            <script type=\"text/javascript\">                require([\"plotly\"], function(Plotly) {                    window.PLOTLYENV=window.PLOTLYENV || {};                                    if (document.getElementById(\"3c5bf7d1-6efc-4b21-9303-82fd1c4bbb13\")) {                    Plotly.newPlot(                        \"3c5bf7d1-6efc-4b21-9303-82fd1c4bbb13\",                        [{\"coloraxis\":\"coloraxis\",\"customdata\":[[0.7193393821936457],[-0.2520461155881222],[0.43361944525590984],[0.34419484417136176],[-0.6233097852216134],[0.36775423036437616],[0.33229535403524274],[0.5144149698756525],[0.18872575299284783],[0.5796336610430461],[0.9459149871548163],[0.6416277642089109],[0.862706470520963],[0.31116072116097315],[-0.761535741499157],[0.4509116455455507]],\"geo\":\"geo\",\"hovertemplate\":\"<b>%{hovertext}</b><br><br>ISO_A3=%{location}<br>Correlation Coeff.=%{customdata[0]}<br>P-value=%{z}<extra></extra>\",\"hovertext\":[\"Australia\",\"Canada\",\"China\",\"Germany\",\"Denmark\",\"Spain\",\"France\",\"Greece\",\"Croatia\",\"Indonesia\",\"Italy\",\"Japan\",\"Netherlands\",\"Norway\",\"Sweden\",\"United States of America\"],\"locations\":[\"AUS\",\"CAN\",\"CHN\",\"DEU\",\"DNK\",\"ESP\",\"FRA\",\"GRC\",\"HRV\",\"IDN\",\"ITA\",\"JPN\",\"NLD\",\"NOR\",\"SWE\",\"USA\"],\"name\":\"\",\"z\":[0.10710170148831527,0.6299367242082007,0.3903366587135776,0.5040961309560029,0.1861179503059165,0.4732367791276091,0.5199030290573243,0.2964405000603502,0.7202723317568389,0.22792077053085105,0.004308678489801609,0.16963299780473085,0.026980311754594966,0.5483223634780294,0.07851764468938431,0.36947250538584875],\"type\":\"choropleth\"}],                        {\"template\":{\"data\":{\"histogram2dcontour\":[{\"type\":\"histogram2dcontour\",\"colorbar\":{\"outlinewidth\":0,\"ticks\":\"\"},\"colorscale\":[[0.0,\"#0d0887\"],[0.1111111111111111,\"#46039f\"],[0.2222222222222222,\"#7201a8\"],[0.3333333333333333,\"#9c179e\"],[0.4444444444444444,\"#bd3786\"],[0.5555555555555556,\"#d8576b\"],[0.6666666666666666,\"#ed7953\"],[0.7777777777777778,\"#fb9f3a\"],[0.8888888888888888,\"#fdca26\"],[1.0,\"#f0f921\"]]}],\"choropleth\":[{\"type\":\"choropleth\",\"colorbar\":{\"outlinewidth\":0,\"ticks\":\"\"}}],\"histogram2d\":[{\"type\":\"histogram2d\",\"colorbar\":{\"outlinewidth\":0,\"ticks\":\"\"},\"colorscale\":[[0.0,\"#0d0887\"],[0.1111111111111111,\"#46039f\"],[0.2222222222222222,\"#7201a8\"],[0.3333333333333333,\"#9c179e\"],[0.4444444444444444,\"#bd3786\"],[0.5555555555555556,\"#d8576b\"],[0.6666666666666666,\"#ed7953\"],[0.7777777777777778,\"#fb9f3a\"],[0.8888888888888888,\"#fdca26\"],[1.0,\"#f0f921\"]]}],\"heatmap\":[{\"type\":\"heatmap\",\"colorbar\":{\"outlinewidth\":0,\"ticks\":\"\"},\"colorscale\":[[0.0,\"#0d0887\"],[0.1111111111111111,\"#46039f\"],[0.2222222222222222,\"#7201a8\"],[0.3333333333333333,\"#9c179e\"],[0.4444444444444444,\"#bd3786\"],[0.5555555555555556,\"#d8576b\"],[0.6666666666666666,\"#ed7953\"],[0.7777777777777778,\"#fb9f3a\"],[0.8888888888888888,\"#fdca26\"],[1.0,\"#f0f921\"]]}],\"heatmapgl\":[{\"type\":\"heatmapgl\",\"colorbar\":{\"outlinewidth\":0,\"ticks\":\"\"},\"colorscale\":[[0.0,\"#0d0887\"],[0.1111111111111111,\"#46039f\"],[0.2222222222222222,\"#7201a8\"],[0.3333333333333333,\"#9c179e\"],[0.4444444444444444,\"#bd3786\"],[0.5555555555555556,\"#d8576b\"],[0.6666666666666666,\"#ed7953\"],[0.7777777777777778,\"#fb9f3a\"],[0.8888888888888888,\"#fdca26\"],[1.0,\"#f0f921\"]]}],\"contourcarpet\":[{\"type\":\"contourcarpet\",\"colorbar\":{\"outlinewidth\":0,\"ticks\":\"\"}}],\"contour\":[{\"type\":\"contour\",\"colorbar\":{\"outlinewidth\":0,\"ticks\":\"\"},\"colorscale\":[[0.0,\"#0d0887\"],[0.1111111111111111,\"#46039f\"],[0.2222222222222222,\"#7201a8\"],[0.3333333333333333,\"#9c179e\"],[0.4444444444444444,\"#bd3786\"],[0.5555555555555556,\"#d8576b\"],[0.6666666666666666,\"#ed7953\"],[0.7777777777777778,\"#fb9f3a\"],[0.8888888888888888,\"#fdca26\"],[1.0,\"#f0f921\"]]}],\"surface\":[{\"type\":\"surface\",\"colorbar\":{\"outlinewidth\":0,\"ticks\":\"\"},\"colorscale\":[[0.0,\"#0d0887\"],[0.1111111111111111,\"#46039f\"],[0.2222222222222222,\"#7201a8\"],[0.3333333333333333,\"#9c179e\"],[0.4444444444444444,\"#bd3786\"],[0.5555555555555556,\"#d8576b\"],[0.6666666666666666,\"#ed7953\"],[0.7777777777777778,\"#fb9f3a\"],[0.8888888888888888,\"#fdca26\"],[1.0,\"#f0f921\"]]}],\"mesh3d\":[{\"type\":\"mesh3d\",\"colorbar\":{\"outlinewidth\":0,\"ticks\":\"\"}}],\"scatter\":[{\"fillpattern\":{\"fillmode\":\"overlay\",\"size\":10,\"solidity\":0.2},\"type\":\"scatter\"}],\"parcoords\":[{\"type\":\"parcoords\",\"line\":{\"colorbar\":{\"outlinewidth\":0,\"ticks\":\"\"}}}],\"scatterpolargl\":[{\"type\":\"scatterpolargl\",\"marker\":{\"colorbar\":{\"outlinewidth\":0,\"ticks\":\"\"}}}],\"bar\":[{\"error_x\":{\"color\":\"#2a3f5f\"},\"error_y\":{\"color\":\"#2a3f5f\"},\"marker\":{\"line\":{\"color\":\"#E5ECF6\",\"width\":0.5},\"pattern\":{\"fillmode\":\"overlay\",\"size\":10,\"solidity\":0.2}},\"type\":\"bar\"}],\"scattergeo\":[{\"type\":\"scattergeo\",\"marker\":{\"colorbar\":{\"outlinewidth\":0,\"ticks\":\"\"}}}],\"scatterpolar\":[{\"type\":\"scatterpolar\",\"marker\":{\"colorbar\":{\"outlinewidth\":0,\"ticks\":\"\"}}}],\"histogram\":[{\"marker\":{\"pattern\":{\"fillmode\":\"overlay\",\"size\":10,\"solidity\":0.2}},\"type\":\"histogram\"}],\"scattergl\":[{\"type\":\"scattergl\",\"marker\":{\"colorbar\":{\"outlinewidth\":0,\"ticks\":\"\"}}}],\"scatter3d\":[{\"type\":\"scatter3d\",\"line\":{\"colorbar\":{\"outlinewidth\":0,\"ticks\":\"\"}},\"marker\":{\"colorbar\":{\"outlinewidth\":0,\"ticks\":\"\"}}}],\"scattermapbox\":[{\"type\":\"scattermapbox\",\"marker\":{\"colorbar\":{\"outlinewidth\":0,\"ticks\":\"\"}}}],\"scatterternary\":[{\"type\":\"scatterternary\",\"marker\":{\"colorbar\":{\"outlinewidth\":0,\"ticks\":\"\"}}}],\"scattercarpet\":[{\"type\":\"scattercarpet\",\"marker\":{\"colorbar\":{\"outlinewidth\":0,\"ticks\":\"\"}}}],\"carpet\":[{\"aaxis\":{\"endlinecolor\":\"#2a3f5f\",\"gridcolor\":\"white\",\"linecolor\":\"white\",\"minorgridcolor\":\"white\",\"startlinecolor\":\"#2a3f5f\"},\"baxis\":{\"endlinecolor\":\"#2a3f5f\",\"gridcolor\":\"white\",\"linecolor\":\"white\",\"minorgridcolor\":\"white\",\"startlinecolor\":\"#2a3f5f\"},\"type\":\"carpet\"}],\"table\":[{\"cells\":{\"fill\":{\"color\":\"#EBF0F8\"},\"line\":{\"color\":\"white\"}},\"header\":{\"fill\":{\"color\":\"#C8D4E3\"},\"line\":{\"color\":\"white\"}},\"type\":\"table\"}],\"barpolar\":[{\"marker\":{\"line\":{\"color\":\"#E5ECF6\",\"width\":0.5},\"pattern\":{\"fillmode\":\"overlay\",\"size\":10,\"solidity\":0.2}},\"type\":\"barpolar\"}],\"pie\":[{\"automargin\":true,\"type\":\"pie\"}]},\"layout\":{\"autotypenumbers\":\"strict\",\"colorway\":[\"#636efa\",\"#EF553B\",\"#00cc96\",\"#ab63fa\",\"#FFA15A\",\"#19d3f3\",\"#FF6692\",\"#B6E880\",\"#FF97FF\",\"#FECB52\"],\"font\":{\"color\":\"#2a3f5f\"},\"hovermode\":\"closest\",\"hoverlabel\":{\"align\":\"left\"},\"paper_bgcolor\":\"white\",\"plot_bgcolor\":\"#E5ECF6\",\"polar\":{\"bgcolor\":\"#E5ECF6\",\"angularaxis\":{\"gridcolor\":\"white\",\"linecolor\":\"white\",\"ticks\":\"\"},\"radialaxis\":{\"gridcolor\":\"white\",\"linecolor\":\"white\",\"ticks\":\"\"}},\"ternary\":{\"bgcolor\":\"#E5ECF6\",\"aaxis\":{\"gridcolor\":\"white\",\"linecolor\":\"white\",\"ticks\":\"\"},\"baxis\":{\"gridcolor\":\"white\",\"linecolor\":\"white\",\"ticks\":\"\"},\"caxis\":{\"gridcolor\":\"white\",\"linecolor\":\"white\",\"ticks\":\"\"}},\"coloraxis\":{\"colorbar\":{\"outlinewidth\":0,\"ticks\":\"\"}},\"colorscale\":{\"sequential\":[[0.0,\"#0d0887\"],[0.1111111111111111,\"#46039f\"],[0.2222222222222222,\"#7201a8\"],[0.3333333333333333,\"#9c179e\"],[0.4444444444444444,\"#bd3786\"],[0.5555555555555556,\"#d8576b\"],[0.6666666666666666,\"#ed7953\"],[0.7777777777777778,\"#fb9f3a\"],[0.8888888888888888,\"#fdca26\"],[1.0,\"#f0f921\"]],\"sequentialminus\":[[0.0,\"#0d0887\"],[0.1111111111111111,\"#46039f\"],[0.2222222222222222,\"#7201a8\"],[0.3333333333333333,\"#9c179e\"],[0.4444444444444444,\"#bd3786\"],[0.5555555555555556,\"#d8576b\"],[0.6666666666666666,\"#ed7953\"],[0.7777777777777778,\"#fb9f3a\"],[0.8888888888888888,\"#fdca26\"],[1.0,\"#f0f921\"]],\"diverging\":[[0,\"#8e0152\"],[0.1,\"#c51b7d\"],[0.2,\"#de77ae\"],[0.3,\"#f1b6da\"],[0.4,\"#fde0ef\"],[0.5,\"#f7f7f7\"],[0.6,\"#e6f5d0\"],[0.7,\"#b8e186\"],[0.8,\"#7fbc41\"],[0.9,\"#4d9221\"],[1,\"#276419\"]]},\"xaxis\":{\"gridcolor\":\"white\",\"linecolor\":\"white\",\"ticks\":\"\",\"title\":{\"standoff\":15},\"zerolinecolor\":\"white\",\"automargin\":true,\"zerolinewidth\":2},\"yaxis\":{\"gridcolor\":\"white\",\"linecolor\":\"white\",\"ticks\":\"\",\"title\":{\"standoff\":15},\"zerolinecolor\":\"white\",\"automargin\":true,\"zerolinewidth\":2},\"scene\":{\"xaxis\":{\"backgroundcolor\":\"#E5ECF6\",\"gridcolor\":\"white\",\"linecolor\":\"white\",\"showbackground\":true,\"ticks\":\"\",\"zerolinecolor\":\"white\",\"gridwidth\":2},\"yaxis\":{\"backgroundcolor\":\"#E5ECF6\",\"gridcolor\":\"white\",\"linecolor\":\"white\",\"showbackground\":true,\"ticks\":\"\",\"zerolinecolor\":\"white\",\"gridwidth\":2},\"zaxis\":{\"backgroundcolor\":\"#E5ECF6\",\"gridcolor\":\"white\",\"linecolor\":\"white\",\"showbackground\":true,\"ticks\":\"\",\"zerolinecolor\":\"white\",\"gridwidth\":2}},\"shapedefaults\":{\"line\":{\"color\":\"#2a3f5f\"}},\"annotationdefaults\":{\"arrowcolor\":\"#2a3f5f\",\"arrowhead\":0,\"arrowwidth\":1},\"geo\":{\"bgcolor\":\"white\",\"landcolor\":\"#E5ECF6\",\"subunitcolor\":\"white\",\"showland\":true,\"showlakes\":true,\"lakecolor\":\"white\"},\"title\":{\"x\":0.05},\"mapbox\":{\"style\":\"light\"}}},\"geo\":{\"domain\":{\"x\":[0.0,1.0],\"y\":[0.0,1.0]},\"center\":{}},\"coloraxis\":{\"colorbar\":{\"title\":{\"text\":\"P-value\"}},\"colorscale\":[[0.0,\"#0d0887\"],[0.1111111111111111,\"#46039f\"],[0.2222222222222222,\"#7201a8\"],[0.3333333333333333,\"#9c179e\"],[0.4444444444444444,\"#bd3786\"],[0.5555555555555556,\"#d8576b\"],[0.6666666666666666,\"#ed7953\"],[0.7777777777777778,\"#fb9f3a\"],[0.8888888888888888,\"#fdca26\"],[1.0,\"#f0f921\"]],\"cmin\":0,\"cmax\":1},\"legend\":{\"tracegroupgap\":0},\"margin\":{\"t\":60}},                        {\"responsive\": true}                    ).then(function(){\n",
       "                            \n",
       "var gd = document.getElementById('3c5bf7d1-6efc-4b21-9303-82fd1c4bbb13');\n",
       "var x = new MutationObserver(function (mutations, observer) {{\n",
       "        var display = window.getComputedStyle(gd).display;\n",
       "        if (!display || display === 'none') {{\n",
       "            console.log([gd, 'removed!']);\n",
       "            Plotly.purge(gd);\n",
       "            observer.disconnect();\n",
       "        }}\n",
       "}});\n",
       "\n",
       "// Listen for the removal of the full notebook cells\n",
       "var notebookContainer = gd.closest('#notebook-container');\n",
       "if (notebookContainer) {{\n",
       "    x.observe(notebookContainer, {childList: true});\n",
       "}}\n",
       "\n",
       "// Listen for the clearing of the current output cell\n",
       "var outputEl = gd.closest('.output');\n",
       "if (outputEl) {{\n",
       "    x.observe(outputEl, {childList: true});\n",
       "}}\n",
       "\n",
       "                        })                };                });            </script>        </div>"
      ]
     },
     "metadata": {},
     "output_type": "display_data"
    }
   ],
   "source": [
    "#this will be a world map for P-value/correlation coeff\n",
    "\n",
    "fig = px.choropleth(geo_pearson, locations=\"ISO_A3\",\n",
    "                    color=\"P-value\", \n",
    "                    hover_name=\"country\",\n",
    "                    range_color=(0, 1),\n",
    "                    hover_data=['Correlation Coeff.'], #I just want to shorten it done to 4 decimal places %10.4f\n",
    "                    color_continuous_scale=px.colors.sequential.Plasma)\n",
    "fig.show()"
   ]
  },
  {
   "cell_type": "code",
   "execution_count": 48,
   "metadata": {},
   "outputs": [
    {
     "ename": "NameError",
     "evalue": "name 'port_covid_new' is not defined",
     "output_type": "error",
     "traceback": [
      "\u001b[0;31m---------------------------------------------------------------------------\u001b[0m",
      "\u001b[0;31mNameError\u001b[0m                                 Traceback (most recent call last)",
      "Cell \u001b[0;32mIn [48], line 6\u001b[0m\n\u001b[1;32m      3\u001b[0m \u001b[38;5;28;01mimport\u001b[39;00m \u001b[38;5;21;01mmatplotlib\u001b[39;00m\u001b[38;5;21;01m.\u001b[39;00m\u001b[38;5;21;01mpyplot\u001b[39;00m \u001b[38;5;28;01mas\u001b[39;00m \u001b[38;5;21;01mplt\u001b[39;00m\n\u001b[1;32m      4\u001b[0m \u001b[38;5;28;01mimport\u001b[39;00m \u001b[38;5;21;01mseaborn\u001b[39;00m \u001b[38;5;28;01mas\u001b[39;00m \u001b[38;5;21;01msb\u001b[39;00m\n\u001b[0;32m----> 6\u001b[0m pearsoncorr \u001b[38;5;241m=\u001b[39m \u001b[43mport_covid_new\u001b[49m\u001b[38;5;241m.\u001b[39mcorr(method\u001b[38;5;241m=\u001b[39m\u001b[38;5;124m'\u001b[39m\u001b[38;5;124mpearson\u001b[39m\u001b[38;5;124m'\u001b[39m)\n\u001b[1;32m      7\u001b[0m pearsoncorr\n",
      "\u001b[0;31mNameError\u001b[0m: name 'port_covid_new' is not defined"
     ]
    }
   ],
   "source": [
    "import numpy as np\n",
    "import pandas as pd\n",
    "import matplotlib.pyplot as plt\n",
    "import seaborn as sb\n",
    "\n",
    "pearsoncorr = port_covid_new.corr(method='pearson')\n",
    "pearsoncorr"
   ]
  },
  {
   "cell_type": "code",
   "execution_count": null,
   "metadata": {},
   "outputs": [],
   "source": []
  },
  {
   "cell_type": "code",
   "execution_count": null,
   "metadata": {},
   "outputs": [],
   "source": []
  },
  {
   "cell_type": "code",
   "execution_count": null,
   "metadata": {},
   "outputs": [],
   "source": []
  }
 ],
 "metadata": {
  "kernelspec": {
   "display_name": "Python 3 (ipykernel)",
   "language": "python",
   "name": "python3"
  },
  "language_info": {
   "codemirror_mode": {
    "name": "ipython",
    "version": 3
   },
   "file_extension": ".py",
   "mimetype": "text/x-python",
   "name": "python",
   "nbconvert_exporter": "python",
   "pygments_lexer": "ipython3",
   "version": "3.9.13"
  },
  "vscode": {
   "interpreter": {
    "hash": "3b555cf90cc979e63e151482c0cbf8cbd39dcbd359ce2e37fdfd3598b3bd6f77"
   }
  }
 },
 "nbformat": 4,
 "nbformat_minor": 2
}
