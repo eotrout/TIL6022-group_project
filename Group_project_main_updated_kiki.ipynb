{
 "cells": [
  {
   "cell_type": "markdown",
   "metadata": {},
   "source": [
    "# Project Group - 25\n",
    "\n",
    "Members: Yun-An LIN (Jackie), Rohan Menezes, John Kuttikat, Muhammad Rizki Ziarieputra (Kiki), Ian Trout \n",
    "\n",
    "Student numbers: 5841682, 5850908, 5765382, 5848113, 5851483"
   ]
  },
  {
   "cell_type": "markdown",
   "metadata": {},
   "source": [
    "# Research Objective\n",
    "\n",
    "*Requires data modeling and quantitative research in Transport, Infrastructure & Logistics*"
   ]
  },
  {
   "cell_type": "markdown",
   "metadata": {},
   "source": [
    "Vessel time spent in ports by country before and during COVID--an analysis by ship category showing the impacts of COVID"
   ]
  },
  {
   "cell_type": "markdown",
   "metadata": {},
   "source": [
    "# Contribution Statement\n",
    "\n",
    "*Be specific. Some of the tasks can be coding (expect everyone to do this), background research, conceptualisation, visualisation, data analysis, data modelling*"
   ]
  },
  {
   "cell_type": "markdown",
   "metadata": {},
   "source": [
    "**Author 1**: coding, background research, conceptualisation\n",
    "\n",
    "**Author 2**:coding, visualisation\n",
    "\n",
    "**Author 3**: coding, data analysis\n",
    "    \n",
    "**Author 4**:coding, data modelling\n",
    "\n",
    "**Author 5**: coding, visualisation"
   ]
  },
  {
   "cell_type": "markdown",
   "metadata": {},
   "source": [
    "# Data Used"
   ]
  },
  {
   "cell_type": "markdown",
   "metadata": {},
   "source": [
    "----Covid data (https://data.humdata.org/dataset/coronavirus-covid-19-cases-and-deaths) \n",
    "\n",
    "----Port data (https://unctadstat.unctad.org/wds/TableViewer/tableView.aspx?ReportId=170027)\n",
    "\n",
    "----total cargo loaded/unloaded by region from 1970 to 2020 (https://www.kaggle.com/datasets/illiaparfeniuk/maritime-trading-volumes)\n",
    "\n",
    "----Total amount of goods imported and exported by ship per EU country(https://ec.europa.eu/eurostat/databrowser/view/ttr00009/default/map?lang=en)"
   ]
  },
  {
   "cell_type": "markdown",
   "metadata": {},
   "source": [
    "# Data Pipeline"
   ]
  },
  {
   "cell_type": "markdown",
   "metadata": {},
   "source": [
    "take only the last 6 months of each year (limitation of the maritime data): \n",
    "    \n",
    "convert the maritime data:\n",
    "    \n",
    "    1) to a common volume \n",
    "    \n",
    "    2) calculate the average volume for all cargo types \n",
    "    \n",
    "    3) consolidate the data into regions of the world. \n",
    "\n",
    "convert COVID cases: \n",
    "    1) calculate the average vaccination cases per country that has reported it \n",
    "    2) calculate the average COVID cases per country for the last 6 months of every year (July to December) \n",
    "    \n",
    "Analyze port call times for 2018, 2019, compared to 2020 to see the difference with COVID.\n",
    "\n",
    "---calculate the differences \n",
    "\n",
    "Compare the 2020 and 2021 port call times to see if improvements have been made or if port calls are still slow. \n",
    "\n",
    "Visually show the change in port call times by region of the world by year. \n",
    "\n"
   ]
  },
  {
   "cell_type": "markdown",
   "metadata": {},
   "source": [
    "first, we will import the necessary libraries\n",
    "\n"
   ]
  },
  {
   "cell_type": "code",
   "execution_count": 1,
   "metadata": {},
   "outputs": [
    {
     "data": {
      "text/html": [
       "        <script type=\"text/javascript\">\n",
       "        window.PlotlyConfig = {MathJaxConfig: 'local'};\n",
       "        if (window.MathJax && window.MathJax.Hub && window.MathJax.Hub.Config) {window.MathJax.Hub.Config({SVG: {font: \"STIX-Web\"}});}\n",
       "        if (typeof require !== 'undefined') {\n",
       "        require.undef(\"plotly\");\n",
       "        requirejs.config({\n",
       "            paths: {\n",
       "                'plotly': ['https://cdn.plot.ly/plotly-2.12.1.min']\n",
       "            }\n",
       "        });\n",
       "        require(['plotly'], function(Plotly) {\n",
       "            window._Plotly = Plotly;\n",
       "        });\n",
       "        }\n",
       "        </script>\n",
       "        "
      ]
     },
     "metadata": {},
     "output_type": "display_data"
    }
   ],
   "source": [
    "import pandas as pd\n",
    "import chardet\n",
    "from plotly.offline import init_notebook_mode\n",
    "import pandas as pd\n",
    "import numpy as np\n",
    "import plotly.io as pio\n",
    "import plotly.express as px\n",
    "from plotly.subplots import make_subplots\n",
    "import plotly.graph_objects as go\n",
    "import json\n",
    "import itertools\n",
    "import geopandas as gpd\n",
    "# import geoplot\n",
    "# import geoplot.crs as gcrs\n",
    "import math\n",
    "import scipy\n",
    "from scipy.signal import find_peaks\n",
    "from datetime import datetime\n",
    "from scipy.stats import spearmanr\n",
    "\n",
    "init_notebook_mode(connected=True)\n",
    "pio.renderers.default = \"plotly_mimetype+notebook\""
   ]
  },
  {
   "cell_type": "markdown",
   "metadata": {},
   "source": [
    "## Part I\n",
    "\n",
    "First, We're going to import and combine dataframes of the four types of data I found:\n",
    "\n",
    "Covid data from the WHO on country level, giving cases, hospitalizations and casualties per day (absolute and cumulative)\n",
    "\n",
    "Port data from UNICSTAT on a country level, giving tonnage, median time in port, and other information (from 2018 to 2022) \n",
    "\n",
    "Port peformance index data for several ports within a country (data ranging from 2020 to 2021) \n",
    "\n",
    "GeoJSON file of all the countries in the world\n",
    "\n",
    "\n",
    "We're starting off with the port and the geocoding datasets."
   ]
  },
  {
   "cell_type": "code",
   "execution_count": 5,
   "metadata": {},
   "outputs": [
    {
     "data": {
      "text/plain": [
       "{'encoding': 'utf-8', 'confidence': 0.99, 'language': ''}"
      ]
     },
     "execution_count": 5,
     "metadata": {},
     "output_type": "execute_result"
    }
   ],
   "source": [
    "file_path = r\"C:\\Users\\user\\OneDrive - Delft University of Technology\\Desktop\\TIL\\Q1\\TIL6022\\TIL6022-group_project\\Data\\Maritime data\\US_PortCalls_S_ST202209220924_v1.csv\"\n",
    "with open(file_path, 'rb') as rawdata:\n",
    "    result = chardet.detect(rawdata.read(100000))\n",
    "result\n",
    "\n",
    "#Delete this one and resue the one above when Ian is not using this \n",
    "# file_path = \"/Users/iantrout/TIL6022-group_project/Data/Maritime data/US_PortCalls_S_ST202209220924_v1.csv\"\n",
    "# with open(portcalls_file_path, 'rb') as rawdata:    \n",
    "#     result = chardet.detect(rawdata.read(100000))\n",
    "# result"
   ]
  },
  {
   "cell_type": "code",
   "execution_count": 6,
   "metadata": {
    "scrolled": true
   },
   "outputs": [
    {
     "data": {
      "text/html": [
       "<div>\n",
       "<style scoped>\n",
       "    .dataframe tbody tr th:only-of-type {\n",
       "        vertical-align: middle;\n",
       "    }\n",
       "\n",
       "    .dataframe tbody tr th {\n",
       "        vertical-align: top;\n",
       "    }\n",
       "\n",
       "    .dataframe thead th {\n",
       "        text-align: right;\n",
       "    }\n",
       "</style>\n",
       "<table border=\"1\" class=\"dataframe\">\n",
       "  <thead>\n",
       "    <tr style=\"text-align: right;\">\n",
       "      <th></th>\n",
       "      <th>Year</th>\n",
       "      <th>country</th>\n",
       "      <th>Vessel_Type</th>\n",
       "      <th>Median time in port (days)</th>\n",
       "      <th>Average age of vessels</th>\n",
       "      <th>Average size (GT) of vessels</th>\n",
       "      <th>Maximum size (GT) of vessels</th>\n",
       "      <th>Average cargo carrying capacity (dwt) per vessel</th>\n",
       "      <th>Maximum cargo carrying capacity (dwt) of vessels</th>\n",
       "      <th>Average container carrying capacity (TEU) per container ship</th>\n",
       "      <th>Maximum container carrying capacity (TEU) of container ships</th>\n",
       "      <th>date</th>\n",
       "    </tr>\n",
       "  </thead>\n",
       "  <tbody>\n",
       "    <tr>\n",
       "      <th>0</th>\n",
       "      <td>2018</td>\n",
       "      <td>World</td>\n",
       "      <td>All ships</td>\n",
       "      <td>0.97</td>\n",
       "      <td>18</td>\n",
       "      <td>15222</td>\n",
       "      <td>234006</td>\n",
       "      <td>24074.0</td>\n",
       "      <td>441561.0</td>\n",
       "      <td>3526.0</td>\n",
       "      <td>21413.0</td>\n",
       "      <td>2018-07-31</td>\n",
       "    </tr>\n",
       "    <tr>\n",
       "      <th>1</th>\n",
       "      <td>2018</td>\n",
       "      <td>World</td>\n",
       "      <td>Passenger ships</td>\n",
       "      <td>NaN</td>\n",
       "      <td>21</td>\n",
       "      <td>8978</td>\n",
       "      <td>228081</td>\n",
       "      <td>NaN</td>\n",
       "      <td>NaN</td>\n",
       "      <td>NaN</td>\n",
       "      <td>NaN</td>\n",
       "      <td>2018-07-31</td>\n",
       "    </tr>\n",
       "    <tr>\n",
       "      <th>2</th>\n",
       "      <td>2018</td>\n",
       "      <td>World</td>\n",
       "      <td>Liquid bulk carriers</td>\n",
       "      <td>0.94</td>\n",
       "      <td>13</td>\n",
       "      <td>15470</td>\n",
       "      <td>234006</td>\n",
       "      <td>26871.0</td>\n",
       "      <td>441561.0</td>\n",
       "      <td>NaN</td>\n",
       "      <td>NaN</td>\n",
       "      <td>2018-07-31</td>\n",
       "    </tr>\n",
       "    <tr>\n",
       "      <th>3</th>\n",
       "      <td>2018</td>\n",
       "      <td>World</td>\n",
       "      <td>Container ships</td>\n",
       "      <td>0.69</td>\n",
       "      <td>13</td>\n",
       "      <td>38405</td>\n",
       "      <td>217673</td>\n",
       "      <td>NaN</td>\n",
       "      <td>NaN</td>\n",
       "      <td>3526.0</td>\n",
       "      <td>21413.0</td>\n",
       "      <td>2018-07-31</td>\n",
       "    </tr>\n",
       "    <tr>\n",
       "      <th>4</th>\n",
       "      <td>2018</td>\n",
       "      <td>World</td>\n",
       "      <td>Dry breakbulk carriers</td>\n",
       "      <td>1.12</td>\n",
       "      <td>19</td>\n",
       "      <td>5455</td>\n",
       "      <td>91784</td>\n",
       "      <td>7413.0</td>\n",
       "      <td>138743.0</td>\n",
       "      <td>NaN</td>\n",
       "      <td>NaN</td>\n",
       "      <td>2018-07-31</td>\n",
       "    </tr>\n",
       "  </tbody>\n",
       "</table>\n",
       "</div>"
      ],
      "text/plain": [
       "   Year country             Vessel_Type  Median time in port (days)  \\\n",
       "0  2018   World               All ships                        0.97   \n",
       "1  2018   World         Passenger ships                         NaN   \n",
       "2  2018   World    Liquid bulk carriers                        0.94   \n",
       "3  2018   World         Container ships                        0.69   \n",
       "4  2018   World  Dry breakbulk carriers                        1.12   \n",
       "\n",
       "   Average age of vessels  Average size (GT) of vessels  \\\n",
       "0                      18                         15222   \n",
       "1                      21                          8978   \n",
       "2                      13                         15470   \n",
       "3                      13                         38405   \n",
       "4                      19                          5455   \n",
       "\n",
       "   Maximum size (GT) of vessels  \\\n",
       "0                        234006   \n",
       "1                        228081   \n",
       "2                        234006   \n",
       "3                        217673   \n",
       "4                         91784   \n",
       "\n",
       "   Average cargo carrying capacity (dwt) per vessel  \\\n",
       "0                                           24074.0   \n",
       "1                                               NaN   \n",
       "2                                           26871.0   \n",
       "3                                               NaN   \n",
       "4                                            7413.0   \n",
       "\n",
       "   Maximum cargo carrying capacity (dwt) of vessels  \\\n",
       "0                                          441561.0   \n",
       "1                                               NaN   \n",
       "2                                          441561.0   \n",
       "3                                               NaN   \n",
       "4                                          138743.0   \n",
       "\n",
       "   Average container carrying capacity (TEU) per container ship  \\\n",
       "0                                             3526.0              \n",
       "1                                                NaN              \n",
       "2                                                NaN              \n",
       "3                                             3526.0              \n",
       "4                                                NaN              \n",
       "\n",
       "   Maximum container carrying capacity (TEU) of container ships        date  \n",
       "0                                            21413.0             2018-07-31  \n",
       "1                                                NaN             2018-07-31  \n",
       "2                                                NaN             2018-07-31  \n",
       "3                                            21413.0             2018-07-31  \n",
       "4                                                NaN             2018-07-31  "
      ]
     },
     "execution_count": 6,
     "metadata": {},
     "output_type": "execute_result"
    }
   ],
   "source": [
    "# Importing and Touching-up the Data\n",
    "\n",
    "df_ports = pd.read_csv(file_path,encoding='utf-8')\n",
    "df_ports['Period Label'] = df_ports['Period Label'].str.replace('   ','-')\n",
    "df_ports = df_ports.drop(columns=['Period', 'Frequency', 'Frequency Label', 'Economy', \n",
    "                                      'CommercialMarket', 'Median time in port (days) Footnote',\n",
    "                                      'Average age of vessels Footnote', 'Average size (GT) of vessels Footnote',\n",
    "                                      'Maximum size (GT) of vessels Footnote', 'Average cargo carrying capacity (dwt) per vessel Footnote',\n",
    "                                      'Maximum cargo carrying capacity (dwt) of vessels Footnote','Average container carrying capacity (TEU) per container ship Footnote',\n",
    "                                      'Maximum container carrying capacity (TEU) of container ships Footnote'])\n",
    "df_ports.rename(columns = {'Economy Label': 'country', 'CommercialMarket Label': 'Vessel_Type', }, inplace=True)\n",
    "date_change=[]\n",
    "for row in df_ports['Period Label']:\n",
    "    if row == 'S1-2018' :   date_change.append('2018-07-31')\n",
    "    elif row == 'S2-2018':   date_change.append('2019-01-31')\n",
    "    elif row == 'S1-2019':  date_change.append('2019-07-31')\n",
    "    elif row == 'S2-2019':  date_change.append('2020-01-31')\n",
    "    elif row == 'S1-2020':  date_change.append('2020-07-31')\n",
    "    elif row == 'S2-2020':  date_change.append('2021-01-31')\n",
    "    elif row == 'S1-2021':  date_change.append('2021-07-31')\n",
    "    elif row == 'S2-2021':  date_change.append('2022-01-31')\n",
    "    elif row == 'S1-2022':  date_change.append('2022-07-31')\n",
    "    else:           date_change.append('Not_Rated')\n",
    "\n",
    "df_ports = df_ports.drop(columns=['Period Label'])\n",
    "df_ports['date'] = date_change\n",
    "df_ports\n",
    "df_ports.head()"
   ]
  },
  {
   "cell_type": "code",
   "execution_count": null,
   "metadata": {},
   "outputs": [],
   "source": [
    "# df_ports.to_csv (r'/Users/iantrout/TIL6022-group_project/updated_port_info.csv')"
   ]
  },
  {
   "cell_type": "code",
   "execution_count": null,
   "metadata": {},
   "outputs": [],
   "source": [
    "# geodata = gpd.read_file(\"/Users/iantrout/TIL6022-group_project/Data/countries.geojson\") # geojson file\n",
    "# geodata.rename(columns = {'ADMIN': 'Location', }, inplace=True)\n",
    "# geodata.head()"
   ]
  },
  {
   "cell_type": "code",
   "execution_count": null,
   "metadata": {},
   "outputs": [],
   "source": [
    "# geodata.to_file (\"/Users/iantrout/TIL6022-group_project/Data/countries.geojson\", driver=\"GeoJSON\")\n"
   ]
  },
  {
   "cell_type": "code",
   "execution_count": null,
   "metadata": {},
   "outputs": [],
   "source": [
    "# # Merge the two dataframes, using _ID column as key\n",
    "# geo_port = pd.merge(geodata, df_ports, on = 'Location')\n",
    "\n",
    "# geo_port.rename(columns = {'Location': 'country', }, inplace=True)\n",
    "\n",
    "# geo_port.head()"
   ]
  },
  {
   "cell_type": "markdown",
   "metadata": {},
   "source": [
    "now we will merge the other port performance index data with the table above"
   ]
  },
  {
   "cell_type": "code",
   "execution_count": null,
   "metadata": {},
   "outputs": [],
   "source": [
    "# port_2021_path = \"/Users/iantrout/TIL6022-group_project/Data/The productivity of the ports/Container-Port-Performance-Index-2021 copy.csv\"\n",
    "# data_call_path = \"/Users/iantrout/TIL6022-group_project/Data/Maritime data/US_PortCalls_S_ST202209220924_v1.csv\"\n",
    "\n",
    "\n",
    "# port_2021 = pd.read_csv(port_2021_path)\n",
    "# data_call = pd.read_csv(data_call_path)\n",
    "  \n",
    "# # using merge function by setting how='outer'\n",
    "# output = pd.merge(port_2021, data_call, \n",
    "#                    on='Economy Label', \n",
    "#                    how='outer')\n",
    "  \n",
    "# # displaying result\n",
    "# print(output)"
   ]
  },
  {
   "cell_type": "markdown",
   "metadata": {},
   "source": [
    "now we will merge the covid data with the port data "
   ]
  },
  {
   "cell_type": "code",
   "execution_count": 23,
   "metadata": {},
   "outputs": [
    {
     "name": "stderr",
     "output_type": "stream",
     "text": [
      "c:\\Users\\user\\anaconda3\\envs\\TIL6022\\lib\\site-packages\\ipykernel_launcher.py:35: SettingWithCopyWarning:\n",
      "\n",
      "\n",
      "A value is trying to be set on a copy of a slice from a DataFrame\n",
      "\n",
      "See the caveats in the documentation: https://pandas.pydata.org/pandas-docs/stable/user_guide/indexing.html#returning-a-view-versus-a-copy\n",
      "\n"
     ]
    },
    {
     "data": {
      "text/html": [
       "<div>\n",
       "<style scoped>\n",
       "    .dataframe tbody tr th:only-of-type {\n",
       "        vertical-align: middle;\n",
       "    }\n",
       "\n",
       "    .dataframe tbody tr th {\n",
       "        vertical-align: top;\n",
       "    }\n",
       "\n",
       "    .dataframe thead th {\n",
       "        text-align: right;\n",
       "    }\n",
       "</style>\n",
       "<table border=\"1\" class=\"dataframe\">\n",
       "  <thead>\n",
       "    <tr style=\"text-align: right;\">\n",
       "      <th></th>\n",
       "      <th>Unnamed: 0</th>\n",
       "      <th>country</th>\n",
       "      <th>date</th>\n",
       "      <th>new_cases</th>\n",
       "      <th>cumulative_cases</th>\n",
       "    </tr>\n",
       "  </thead>\n",
       "  <tbody>\n",
       "    <tr>\n",
       "      <th>0</th>\n",
       "      <td>0</td>\n",
       "      <td>Afghanistan</td>\n",
       "      <td>2020-01-31</td>\n",
       "      <td>0</td>\n",
       "      <td>0</td>\n",
       "    </tr>\n",
       "    <tr>\n",
       "      <th>1</th>\n",
       "      <td>1</td>\n",
       "      <td>Afghanistan</td>\n",
       "      <td>2020-07-31</td>\n",
       "      <td>36628</td>\n",
       "      <td>2080134</td>\n",
       "    </tr>\n",
       "    <tr>\n",
       "      <th>2</th>\n",
       "      <td>2</td>\n",
       "      <td>Afghanistan</td>\n",
       "      <td>2021-01-31</td>\n",
       "      <td>18395</td>\n",
       "      <td>8092870</td>\n",
       "    </tr>\n",
       "    <tr>\n",
       "      <th>3</th>\n",
       "      <td>3</td>\n",
       "      <td>Afghanistan</td>\n",
       "      <td>2021-07-31</td>\n",
       "      <td>92131</td>\n",
       "      <td>14105445</td>\n",
       "    </tr>\n",
       "    <tr>\n",
       "      <th>4</th>\n",
       "      <td>4</td>\n",
       "      <td>Afghanistan</td>\n",
       "      <td>2022-01-31</td>\n",
       "      <td>14986</td>\n",
       "      <td>28667488</td>\n",
       "    </tr>\n",
       "    <tr>\n",
       "      <th>...</th>\n",
       "      <td>...</td>\n",
       "      <td>...</td>\n",
       "      <td>...</td>\n",
       "      <td>...</td>\n",
       "      <td>...</td>\n",
       "    </tr>\n",
       "    <tr>\n",
       "      <th>1654</th>\n",
       "      <td>1654</td>\n",
       "      <td>occupied Palestinian territory, including east...</td>\n",
       "      <td>2021-01-31</td>\n",
       "      <td>163678</td>\n",
       "      <td>15204283</td>\n",
       "    </tr>\n",
       "    <tr>\n",
       "      <th>1655</th>\n",
       "      <td>1655</td>\n",
       "      <td>occupied Palestinian territory, including east...</td>\n",
       "      <td>2021-07-31</td>\n",
       "      <td>167062</td>\n",
       "      <td>52958731</td>\n",
       "    </tr>\n",
       "    <tr>\n",
       "      <th>1656</th>\n",
       "      <td>1656</td>\n",
       "      <td>occupied Palestinian territory, including east...</td>\n",
       "      <td>2022-01-31</td>\n",
       "      <td>179138</td>\n",
       "      <td>79971265</td>\n",
       "    </tr>\n",
       "    <tr>\n",
       "      <th>1657</th>\n",
       "      <td>1657</td>\n",
       "      <td>occupied Palestinian territory, including east...</td>\n",
       "      <td>2022-07-31</td>\n",
       "      <td>157380</td>\n",
       "      <td>117827259</td>\n",
       "    </tr>\n",
       "    <tr>\n",
       "      <th>1658</th>\n",
       "      <td>1658</td>\n",
       "      <td>occupied Palestinian territory, including east...</td>\n",
       "      <td>2023-01-31</td>\n",
       "      <td>20708</td>\n",
       "      <td>47598869</td>\n",
       "    </tr>\n",
       "  </tbody>\n",
       "</table>\n",
       "<p>1659 rows × 5 columns</p>\n",
       "</div>"
      ],
      "text/plain": [
       "      Unnamed: 0                                            country  \\\n",
       "0              0                                        Afghanistan   \n",
       "1              1                                        Afghanistan   \n",
       "2              2                                        Afghanistan   \n",
       "3              3                                        Afghanistan   \n",
       "4              4                                        Afghanistan   \n",
       "...          ...                                                ...   \n",
       "1654        1654  occupied Palestinian territory, including east...   \n",
       "1655        1655  occupied Palestinian territory, including east...   \n",
       "1656        1656  occupied Palestinian territory, including east...   \n",
       "1657        1657  occupied Palestinian territory, including east...   \n",
       "1658        1658  occupied Palestinian territory, including east...   \n",
       "\n",
       "            date  new_cases  cumulative_cases  \n",
       "0     2020-01-31          0                 0  \n",
       "1     2020-07-31      36628           2080134  \n",
       "2     2021-01-31      18395           8092870  \n",
       "3     2021-07-31      92131          14105445  \n",
       "4     2022-01-31      14986          28667488  \n",
       "...          ...        ...               ...  \n",
       "1654  2021-01-31     163678          15204283  \n",
       "1655  2021-07-31     167062          52958731  \n",
       "1656  2022-01-31     179138          79971265  \n",
       "1657  2022-07-31     157380         117827259  \n",
       "1658  2023-01-31      20708          47598869  \n",
       "\n",
       "[1659 rows x 5 columns]"
      ]
     },
     "execution_count": 23,
     "metadata": {},
     "output_type": "execute_result"
    }
   ],
   "source": [
    "# file_path = r'C:\\Users\\user\\OneDrive - Delft University of Technology\\Desktop\\TIL\\Q1\\TIL6022\\TIL6022-group_project\\JOHN_FILES\\covid_data.csv'\n",
    "# df = pd.read_csv(file_path)\n",
    "# df = df.rename({\n",
    "#     'Date_reported': 'date',\n",
    "#     'Country': 'country',\n",
    "#     'New_cases': 'new_cases',\n",
    "#     'Cumulative_cases': 'cumulative_cases'\n",
    "# }, axis=1) \n",
    "# df = df.drop(labels=[\n",
    "#     'New_deaths', \n",
    "#     'Cumulative_deaths', \n",
    "#     'Country_code', \n",
    "#     'WHO_region'\n",
    "# ], axis=1)\n",
    "# df.head()\n",
    "\n",
    "# for i in range(len(df)):\n",
    "#     k=df.iloc[i,0].split('-')\n",
    "#     df.iloc[i,0]=datetime(int(k[0]),int(k[1]),int(k[2]))\n",
    "\n",
    "# df_new = (df.groupby(['country', pd.Grouper(key='date', freq='6M')])\n",
    "#         .max()\n",
    "#         .reset_index())\n",
    "# df_new.head()\n",
    "# #fig = px.line(df_new, x='date', y='cumulative_cases', markers='True', color=\"country\")\n",
    "# #fig.show()\n",
    "\n",
    "file_path2 = r\"C:\\Users\\user\\OneDrive - Delft University of Technology\\Desktop\\TIL\\Q1\\TIL6022\\Final Project\\covid_data_new.csv\"\n",
    "# file_path2 = \"/Users/iantrout/TIL6022-group_project/JOHN_FILES/covid_data_new.csv\"\n",
    "with open(file_path2, 'rb') as rawdata:\n",
    "    result = chardet.detect(rawdata.read(100000))\n",
    "result\n",
    "\n",
    "df_new = pd.read_csv(file_path2,encoding='utf-8')\n",
    "df_new['country'][df_new['country'] == 'The United Kingdom']='United Kingdom' # standarizes the country name\n",
    "df_new\n",
    "\n",
    "#use this file_path code for when Ian is not using it:\n",
    "#r\"C:\\Users\\user\\OneDrive - Delft University of Technology\\Desktop\\TIL\\Q1\\TIL6022\\Final Project\\covid_data_new.csv\""
   ]
  },
  {
   "cell_type": "code",
   "execution_count": null,
   "metadata": {},
   "outputs": [],
   "source": [
    "# df_ports_world = geo_port \n",
    "# df_ports_world.head()\n",
    "# date_change=[]\n",
    "# for row in df_ports_world['Period Label']:\n",
    "#     if row == 'S1-2018' :   date_change.append('2018-07-31')\n",
    "#     elif row == 'S2-2018':   date_change.append('2019-01-31')\n",
    "#     elif row == 'S1-2019':  date_change.append('2019-07-31')\n",
    "#     elif row == 'S2-2019':  date_change.append('2020-01-31')\n",
    "#     elif row == 'S1-2020':  date_change.append('2020-07-31')\n",
    "#     elif row == 'S2-2020':  date_change.append('2021-01-31')\n",
    "#     elif row == 'S1-2021':  date_change.append('2021-07-31')\n",
    "#     elif row == 'S2-2021':  date_change.append('2022-01-31')\n",
    "#     elif row == 'S1-2022':  date_change.append('2022-07-31')\n",
    "#     else:           date_change.append('Not_Rated')\n",
    "\n",
    "# df_ports_world = df_ports_world.drop(columns=['Period Label'])\n",
    "# df_ports_world['date'] = date_change\n",
    "# df_ports_world"
   ]
  },
  {
   "cell_type": "code",
   "execution_count": 24,
   "metadata": {},
   "outputs": [
    {
     "data": {
      "text/html": [
       "<div>\n",
       "<style scoped>\n",
       "    .dataframe tbody tr th:only-of-type {\n",
       "        vertical-align: middle;\n",
       "    }\n",
       "\n",
       "    .dataframe tbody tr th {\n",
       "        vertical-align: top;\n",
       "    }\n",
       "\n",
       "    .dataframe thead th {\n",
       "        text-align: right;\n",
       "    }\n",
       "</style>\n",
       "<table border=\"1\" class=\"dataframe\">\n",
       "  <thead>\n",
       "    <tr style=\"text-align: right;\">\n",
       "      <th></th>\n",
       "      <th>Year</th>\n",
       "      <th>country</th>\n",
       "      <th>Vessel_Type</th>\n",
       "      <th>Median time in port (days)</th>\n",
       "      <th>Average age of vessels</th>\n",
       "      <th>Average size (GT) of vessels</th>\n",
       "      <th>Maximum size (GT) of vessels</th>\n",
       "      <th>Average cargo carrying capacity (dwt) per vessel</th>\n",
       "      <th>Maximum cargo carrying capacity (dwt) of vessels</th>\n",
       "      <th>Average container carrying capacity (TEU) per container ship</th>\n",
       "      <th>Maximum container carrying capacity (TEU) of container ships</th>\n",
       "      <th>date</th>\n",
       "      <th>new_cases</th>\n",
       "    </tr>\n",
       "  </thead>\n",
       "  <tbody>\n",
       "    <tr>\n",
       "      <th>0</th>\n",
       "      <td>2018.0</td>\n",
       "      <td>World</td>\n",
       "      <td>All ships</td>\n",
       "      <td>0.97</td>\n",
       "      <td>18.0</td>\n",
       "      <td>15222.0</td>\n",
       "      <td>234006.0</td>\n",
       "      <td>24074.0</td>\n",
       "      <td>441561.0</td>\n",
       "      <td>3526.0</td>\n",
       "      <td>21413.0</td>\n",
       "      <td>2018-07-31</td>\n",
       "      <td>NaN</td>\n",
       "    </tr>\n",
       "    <tr>\n",
       "      <th>1</th>\n",
       "      <td>2018.0</td>\n",
       "      <td>World</td>\n",
       "      <td>Passenger ships</td>\n",
       "      <td>NaN</td>\n",
       "      <td>21.0</td>\n",
       "      <td>8978.0</td>\n",
       "      <td>228081.0</td>\n",
       "      <td>NaN</td>\n",
       "      <td>NaN</td>\n",
       "      <td>NaN</td>\n",
       "      <td>NaN</td>\n",
       "      <td>2018-07-31</td>\n",
       "      <td>NaN</td>\n",
       "    </tr>\n",
       "    <tr>\n",
       "      <th>2</th>\n",
       "      <td>2018.0</td>\n",
       "      <td>World</td>\n",
       "      <td>Liquid bulk carriers</td>\n",
       "      <td>0.94</td>\n",
       "      <td>13.0</td>\n",
       "      <td>15470.0</td>\n",
       "      <td>234006.0</td>\n",
       "      <td>26871.0</td>\n",
       "      <td>441561.0</td>\n",
       "      <td>NaN</td>\n",
       "      <td>NaN</td>\n",
       "      <td>2018-07-31</td>\n",
       "      <td>NaN</td>\n",
       "    </tr>\n",
       "    <tr>\n",
       "      <th>3</th>\n",
       "      <td>2018.0</td>\n",
       "      <td>World</td>\n",
       "      <td>Container ships</td>\n",
       "      <td>0.69</td>\n",
       "      <td>13.0</td>\n",
       "      <td>38405.0</td>\n",
       "      <td>217673.0</td>\n",
       "      <td>NaN</td>\n",
       "      <td>NaN</td>\n",
       "      <td>3526.0</td>\n",
       "      <td>21413.0</td>\n",
       "      <td>2018-07-31</td>\n",
       "      <td>NaN</td>\n",
       "    </tr>\n",
       "    <tr>\n",
       "      <th>4</th>\n",
       "      <td>2018.0</td>\n",
       "      <td>World</td>\n",
       "      <td>Dry breakbulk carriers</td>\n",
       "      <td>1.12</td>\n",
       "      <td>19.0</td>\n",
       "      <td>5455.0</td>\n",
       "      <td>91784.0</td>\n",
       "      <td>7413.0</td>\n",
       "      <td>138743.0</td>\n",
       "      <td>NaN</td>\n",
       "      <td>NaN</td>\n",
       "      <td>2018-07-31</td>\n",
       "      <td>NaN</td>\n",
       "    </tr>\n",
       "    <tr>\n",
       "      <th>...</th>\n",
       "      <td>...</td>\n",
       "      <td>...</td>\n",
       "      <td>...</td>\n",
       "      <td>...</td>\n",
       "      <td>...</td>\n",
       "      <td>...</td>\n",
       "      <td>...</td>\n",
       "      <td>...</td>\n",
       "      <td>...</td>\n",
       "      <td>...</td>\n",
       "      <td>...</td>\n",
       "      <td>...</td>\n",
       "      <td>...</td>\n",
       "    </tr>\n",
       "    <tr>\n",
       "      <th>3173</th>\n",
       "      <td>NaN</td>\n",
       "      <td>occupied Palestinian territory, including east...</td>\n",
       "      <td>NaN</td>\n",
       "      <td>NaN</td>\n",
       "      <td>NaN</td>\n",
       "      <td>NaN</td>\n",
       "      <td>NaN</td>\n",
       "      <td>NaN</td>\n",
       "      <td>NaN</td>\n",
       "      <td>NaN</td>\n",
       "      <td>NaN</td>\n",
       "      <td>2021-01-31</td>\n",
       "      <td>163678.0</td>\n",
       "    </tr>\n",
       "    <tr>\n",
       "      <th>3174</th>\n",
       "      <td>NaN</td>\n",
       "      <td>occupied Palestinian territory, including east...</td>\n",
       "      <td>NaN</td>\n",
       "      <td>NaN</td>\n",
       "      <td>NaN</td>\n",
       "      <td>NaN</td>\n",
       "      <td>NaN</td>\n",
       "      <td>NaN</td>\n",
       "      <td>NaN</td>\n",
       "      <td>NaN</td>\n",
       "      <td>NaN</td>\n",
       "      <td>2021-07-31</td>\n",
       "      <td>167062.0</td>\n",
       "    </tr>\n",
       "    <tr>\n",
       "      <th>3175</th>\n",
       "      <td>NaN</td>\n",
       "      <td>occupied Palestinian territory, including east...</td>\n",
       "      <td>NaN</td>\n",
       "      <td>NaN</td>\n",
       "      <td>NaN</td>\n",
       "      <td>NaN</td>\n",
       "      <td>NaN</td>\n",
       "      <td>NaN</td>\n",
       "      <td>NaN</td>\n",
       "      <td>NaN</td>\n",
       "      <td>NaN</td>\n",
       "      <td>2022-01-31</td>\n",
       "      <td>179138.0</td>\n",
       "    </tr>\n",
       "    <tr>\n",
       "      <th>3176</th>\n",
       "      <td>NaN</td>\n",
       "      <td>occupied Palestinian territory, including east...</td>\n",
       "      <td>NaN</td>\n",
       "      <td>NaN</td>\n",
       "      <td>NaN</td>\n",
       "      <td>NaN</td>\n",
       "      <td>NaN</td>\n",
       "      <td>NaN</td>\n",
       "      <td>NaN</td>\n",
       "      <td>NaN</td>\n",
       "      <td>NaN</td>\n",
       "      <td>2022-07-31</td>\n",
       "      <td>157380.0</td>\n",
       "    </tr>\n",
       "    <tr>\n",
       "      <th>3177</th>\n",
       "      <td>NaN</td>\n",
       "      <td>occupied Palestinian territory, including east...</td>\n",
       "      <td>NaN</td>\n",
       "      <td>NaN</td>\n",
       "      <td>NaN</td>\n",
       "      <td>NaN</td>\n",
       "      <td>NaN</td>\n",
       "      <td>NaN</td>\n",
       "      <td>NaN</td>\n",
       "      <td>NaN</td>\n",
       "      <td>NaN</td>\n",
       "      <td>2023-01-31</td>\n",
       "      <td>20708.0</td>\n",
       "    </tr>\n",
       "  </tbody>\n",
       "</table>\n",
       "<p>3178 rows × 13 columns</p>\n",
       "</div>"
      ],
      "text/plain": [
       "        Year                                            country  \\\n",
       "0     2018.0                                              World   \n",
       "1     2018.0                                              World   \n",
       "2     2018.0                                              World   \n",
       "3     2018.0                                              World   \n",
       "4     2018.0                                              World   \n",
       "...      ...                                                ...   \n",
       "3173     NaN  occupied Palestinian territory, including east...   \n",
       "3174     NaN  occupied Palestinian territory, including east...   \n",
       "3175     NaN  occupied Palestinian territory, including east...   \n",
       "3176     NaN  occupied Palestinian territory, including east...   \n",
       "3177     NaN  occupied Palestinian territory, including east...   \n",
       "\n",
       "                 Vessel_Type  Median time in port (days)  \\\n",
       "0                  All ships                        0.97   \n",
       "1            Passenger ships                         NaN   \n",
       "2       Liquid bulk carriers                        0.94   \n",
       "3            Container ships                        0.69   \n",
       "4     Dry breakbulk carriers                        1.12   \n",
       "...                      ...                         ...   \n",
       "3173                     NaN                         NaN   \n",
       "3174                     NaN                         NaN   \n",
       "3175                     NaN                         NaN   \n",
       "3176                     NaN                         NaN   \n",
       "3177                     NaN                         NaN   \n",
       "\n",
       "      Average age of vessels  Average size (GT) of vessels  \\\n",
       "0                       18.0                       15222.0   \n",
       "1                       21.0                        8978.0   \n",
       "2                       13.0                       15470.0   \n",
       "3                       13.0                       38405.0   \n",
       "4                       19.0                        5455.0   \n",
       "...                      ...                           ...   \n",
       "3173                     NaN                           NaN   \n",
       "3174                     NaN                           NaN   \n",
       "3175                     NaN                           NaN   \n",
       "3176                     NaN                           NaN   \n",
       "3177                     NaN                           NaN   \n",
       "\n",
       "      Maximum size (GT) of vessels  \\\n",
       "0                         234006.0   \n",
       "1                         228081.0   \n",
       "2                         234006.0   \n",
       "3                         217673.0   \n",
       "4                          91784.0   \n",
       "...                            ...   \n",
       "3173                           NaN   \n",
       "3174                           NaN   \n",
       "3175                           NaN   \n",
       "3176                           NaN   \n",
       "3177                           NaN   \n",
       "\n",
       "      Average cargo carrying capacity (dwt) per vessel  \\\n",
       "0                                              24074.0   \n",
       "1                                                  NaN   \n",
       "2                                              26871.0   \n",
       "3                                                  NaN   \n",
       "4                                               7413.0   \n",
       "...                                                ...   \n",
       "3173                                               NaN   \n",
       "3174                                               NaN   \n",
       "3175                                               NaN   \n",
       "3176                                               NaN   \n",
       "3177                                               NaN   \n",
       "\n",
       "      Maximum cargo carrying capacity (dwt) of vessels  \\\n",
       "0                                             441561.0   \n",
       "1                                                  NaN   \n",
       "2                                             441561.0   \n",
       "3                                                  NaN   \n",
       "4                                             138743.0   \n",
       "...                                                ...   \n",
       "3173                                               NaN   \n",
       "3174                                               NaN   \n",
       "3175                                               NaN   \n",
       "3176                                               NaN   \n",
       "3177                                               NaN   \n",
       "\n",
       "      Average container carrying capacity (TEU) per container ship  \\\n",
       "0                                                3526.0              \n",
       "1                                                   NaN              \n",
       "2                                                   NaN              \n",
       "3                                                3526.0              \n",
       "4                                                   NaN              \n",
       "...                                                 ...              \n",
       "3173                                                NaN              \n",
       "3174                                                NaN              \n",
       "3175                                                NaN              \n",
       "3176                                                NaN              \n",
       "3177                                                NaN              \n",
       "\n",
       "      Maximum container carrying capacity (TEU) of container ships  \\\n",
       "0                                               21413.0              \n",
       "1                                                   NaN              \n",
       "2                                                   NaN              \n",
       "3                                               21413.0              \n",
       "4                                                   NaN              \n",
       "...                                                 ...              \n",
       "3173                                                NaN              \n",
       "3174                                                NaN              \n",
       "3175                                                NaN              \n",
       "3176                                                NaN              \n",
       "3177                                                NaN              \n",
       "\n",
       "            date  new_cases  \n",
       "0     2018-07-31        NaN  \n",
       "1     2018-07-31        NaN  \n",
       "2     2018-07-31        NaN  \n",
       "3     2018-07-31        NaN  \n",
       "4     2018-07-31        NaN  \n",
       "...          ...        ...  \n",
       "3173  2021-01-31   163678.0  \n",
       "3174  2021-07-31   167062.0  \n",
       "3175  2022-01-31   179138.0  \n",
       "3176  2022-07-31   157380.0  \n",
       "3177  2023-01-31    20708.0  \n",
       "\n",
       "[3178 rows x 13 columns]"
      ]
     },
     "execution_count": 24,
     "metadata": {},
     "output_type": "execute_result"
    }
   ],
   "source": [
    "# df_combined=pd.merge(df_new,df_ports_world,on=['country','date'])\n",
    "# df_combined.head()\n",
    "\n",
    "df_combined = pd.merge(df_ports, df_new, on=['country','date'], how='outer')\n",
    "df_combined = df_combined.drop(['Unnamed: 0', 'cumulative_cases'], axis=1)\n",
    "df_combined"
   ]
  },
  {
   "cell_type": "code",
   "execution_count": 25,
   "metadata": {},
   "outputs": [
    {
     "data": {
      "text/html": [
       "<div>\n",
       "<style scoped>\n",
       "    .dataframe tbody tr th:only-of-type {\n",
       "        vertical-align: middle;\n",
       "    }\n",
       "\n",
       "    .dataframe tbody tr th {\n",
       "        vertical-align: top;\n",
       "    }\n",
       "\n",
       "    .dataframe thead th {\n",
       "        text-align: right;\n",
       "    }\n",
       "</style>\n",
       "<table border=\"1\" class=\"dataframe\">\n",
       "  <thead>\n",
       "    <tr style=\"text-align: right;\">\n",
       "      <th></th>\n",
       "      <th>Year</th>\n",
       "      <th>country</th>\n",
       "      <th>Vessel_Type</th>\n",
       "      <th>Number of port calls</th>\n",
       "      <th>date</th>\n",
       "    </tr>\n",
       "  </thead>\n",
       "  <tbody>\n",
       "    <tr>\n",
       "      <th>0</th>\n",
       "      <td>2018</td>\n",
       "      <td>World</td>\n",
       "      <td>All ships</td>\n",
       "      <td>1984908</td>\n",
       "      <td>2018-07-31</td>\n",
       "    </tr>\n",
       "    <tr>\n",
       "      <th>1</th>\n",
       "      <td>2018</td>\n",
       "      <td>World</td>\n",
       "      <td>Passenger ships</td>\n",
       "      <td>1053697</td>\n",
       "      <td>2018-07-31</td>\n",
       "    </tr>\n",
       "    <tr>\n",
       "      <th>2</th>\n",
       "      <td>2018</td>\n",
       "      <td>World</td>\n",
       "      <td>Liquid bulk carriers</td>\n",
       "      <td>245147</td>\n",
       "      <td>2018-07-31</td>\n",
       "    </tr>\n",
       "    <tr>\n",
       "      <th>3</th>\n",
       "      <td>2018</td>\n",
       "      <td>World</td>\n",
       "      <td>Container ships</td>\n",
       "      <td>226063</td>\n",
       "      <td>2018-07-31</td>\n",
       "    </tr>\n",
       "    <tr>\n",
       "      <th>4</th>\n",
       "      <td>2018</td>\n",
       "      <td>World</td>\n",
       "      <td>Dry breakbulk carriers</td>\n",
       "      <td>211031</td>\n",
       "      <td>2018-07-31</td>\n",
       "    </tr>\n",
       "    <tr>\n",
       "      <th>...</th>\n",
       "      <td>...</td>\n",
       "      <td>...</td>\n",
       "      <td>...</td>\n",
       "      <td>...</td>\n",
       "      <td>...</td>\n",
       "    </tr>\n",
       "    <tr>\n",
       "      <th>15697</th>\n",
       "      <td>2022</td>\n",
       "      <td>United Kingdom</td>\n",
       "      <td>Dry breakbulk carriers</td>\n",
       "      <td>7967</td>\n",
       "      <td>2022-07-31</td>\n",
       "    </tr>\n",
       "    <tr>\n",
       "      <th>15698</th>\n",
       "      <td>2022</td>\n",
       "      <td>United Kingdom</td>\n",
       "      <td>Dry bulk carriers</td>\n",
       "      <td>956</td>\n",
       "      <td>2022-07-31</td>\n",
       "    </tr>\n",
       "    <tr>\n",
       "      <th>15699</th>\n",
       "      <td>2022</td>\n",
       "      <td>United Kingdom</td>\n",
       "      <td>Roll-on/ roll-off ships</td>\n",
       "      <td>7983</td>\n",
       "      <td>2022-07-31</td>\n",
       "    </tr>\n",
       "    <tr>\n",
       "      <th>15700</th>\n",
       "      <td>2022</td>\n",
       "      <td>United Kingdom</td>\n",
       "      <td>Liquefied petroleum gas carriers</td>\n",
       "      <td>632</td>\n",
       "      <td>2022-07-31</td>\n",
       "    </tr>\n",
       "    <tr>\n",
       "      <th>15701</th>\n",
       "      <td>2022</td>\n",
       "      <td>United Kingdom</td>\n",
       "      <td>Liquefied natural gas carriers</td>\n",
       "      <td>186</td>\n",
       "      <td>2022-07-31</td>\n",
       "    </tr>\n",
       "  </tbody>\n",
       "</table>\n",
       "<p>15702 rows × 5 columns</p>\n",
       "</div>"
      ],
      "text/plain": [
       "       Year         country                       Vessel_Type  \\\n",
       "0      2018           World                         All ships   \n",
       "1      2018           World                   Passenger ships   \n",
       "2      2018           World              Liquid bulk carriers   \n",
       "3      2018           World                   Container ships   \n",
       "4      2018           World            Dry breakbulk carriers   \n",
       "...     ...             ...                               ...   \n",
       "15697  2022  United Kingdom            Dry breakbulk carriers   \n",
       "15698  2022  United Kingdom                 Dry bulk carriers   \n",
       "15699  2022  United Kingdom           Roll-on/ roll-off ships   \n",
       "15700  2022  United Kingdom  Liquefied petroleum gas carriers   \n",
       "15701  2022  United Kingdom    Liquefied natural gas carriers   \n",
       "\n",
       "       Number of port calls        date  \n",
       "0                   1984908  2018-07-31  \n",
       "1                   1053697  2018-07-31  \n",
       "2                    245147  2018-07-31  \n",
       "3                    226063  2018-07-31  \n",
       "4                    211031  2018-07-31  \n",
       "...                     ...         ...  \n",
       "15697                  7967  2022-07-31  \n",
       "15698                   956  2022-07-31  \n",
       "15699                  7983  2022-07-31  \n",
       "15700                   632  2022-07-31  \n",
       "15701                   186  2022-07-31  \n",
       "\n",
       "[15702 rows x 5 columns]"
      ]
     },
     "execution_count": 25,
     "metadata": {},
     "output_type": "execute_result"
    }
   ],
   "source": [
    "# Importing and Touching-up the Port Calls Data\n",
    "\n",
    "#r\"C:\\Users\\user\\OneDrive - Delft University of Technology\\Desktop\\TIL\\Q1\\TIL6022\\TIL6022-group_project\\Data\\Maritime data\\US_PortCallsArrivals_S_ST202209220927_v1.csv\"\n",
    "#Note that the above path is for everyone except Ian; please replace it when you need to use the file path\n",
    "\n",
    "file_path3 = r\"C:\\Users\\user\\OneDrive - Delft University of Technology\\Desktop\\TIL\\Q1\\TIL6022\\TIL6022-group_project\\Data\\Maritime data\\US_PortCallsArrivals_S_ST202209220927_v1.csv\"\n",
    "# file_path3 = \"/Users/iantrout/TIL6022-group_project/Data/Maritime data/US_PortCallsArrivals_S_ST202209220927_v1.csv\"\n",
    "with open(file_path3, 'rb') as rawdata:\n",
    "    result = chardet.detect(rawdata.read(100000))\n",
    "result\n",
    "\n",
    "df_port_calls = pd.read_csv(file_path3,encoding='utf-8')\n",
    "df_port_calls['Period Label'] = df_port_calls['Period Label'].str.replace('   ','-')\n",
    "df_port_calls = df_port_calls.drop(columns=['Period', 'Frequency', 'Frequency Label', 'Economy', \n",
    "                                       'CommercialMarket', 'Number of port calls Footnote',])\n",
    "df_port_calls.rename(columns = {'Economy Label': 'country', 'CommercialMarket Label': 'Vessel_Type', }, inplace=True)\n",
    "date_change=[]\n",
    "for row in df_port_calls['Period Label']:\n",
    "    if row == 'S1-2018' :   date_change.append('2018-07-31')\n",
    "    elif row == 'S2-2018':   date_change.append('2019-01-31')\n",
    "    elif row == 'S1-2019':  date_change.append('2019-07-31')\n",
    "    elif row == 'S2-2019':  date_change.append('2020-01-31')\n",
    "    elif row == 'S1-2020':  date_change.append('2020-07-31')\n",
    "    elif row == 'S2-2020':  date_change.append('2021-01-31')\n",
    "    elif row == 'S1-2021':  date_change.append('2021-07-31')\n",
    "    elif row == 'S2-2021':  date_change.append('2022-01-31')\n",
    "    elif row == 'S1-2022':  date_change.append('2022-07-31')\n",
    "    else:           date_change.append('Not_Rated')\n",
    "\n",
    "df_port_calls = df_port_calls.drop(columns=['Period Label'])\n",
    "df_port_calls['date'] = date_change\n",
    "df_port_calls"
   ]
  },
  {
   "cell_type": "code",
   "execution_count": 26,
   "metadata": {},
   "outputs": [
    {
     "data": {
      "text/html": [
       "<div>\n",
       "<style scoped>\n",
       "    .dataframe tbody tr th:only-of-type {\n",
       "        vertical-align: middle;\n",
       "    }\n",
       "\n",
       "    .dataframe tbody tr th {\n",
       "        vertical-align: top;\n",
       "    }\n",
       "\n",
       "    .dataframe thead th {\n",
       "        text-align: right;\n",
       "    }\n",
       "</style>\n",
       "<table border=\"1\" class=\"dataframe\">\n",
       "  <thead>\n",
       "    <tr style=\"text-align: right;\">\n",
       "      <th></th>\n",
       "      <th>Year</th>\n",
       "      <th>country</th>\n",
       "      <th>Vessel_Type</th>\n",
       "      <th>Number of port calls</th>\n",
       "      <th>date</th>\n",
       "      <th>Unnamed: 0</th>\n",
       "      <th>new_cases</th>\n",
       "      <th>cumulative_cases</th>\n",
       "    </tr>\n",
       "  </thead>\n",
       "  <tbody>\n",
       "    <tr>\n",
       "      <th>0</th>\n",
       "      <td>2018.0</td>\n",
       "      <td>World</td>\n",
       "      <td>All ships</td>\n",
       "      <td>1984908.0</td>\n",
       "      <td>2018-07-31</td>\n",
       "      <td>NaN</td>\n",
       "      <td>NaN</td>\n",
       "      <td>NaN</td>\n",
       "    </tr>\n",
       "    <tr>\n",
       "      <th>1</th>\n",
       "      <td>2018.0</td>\n",
       "      <td>World</td>\n",
       "      <td>Passenger ships</td>\n",
       "      <td>1053697.0</td>\n",
       "      <td>2018-07-31</td>\n",
       "      <td>NaN</td>\n",
       "      <td>NaN</td>\n",
       "      <td>NaN</td>\n",
       "    </tr>\n",
       "    <tr>\n",
       "      <th>2</th>\n",
       "      <td>2018.0</td>\n",
       "      <td>World</td>\n",
       "      <td>Liquid bulk carriers</td>\n",
       "      <td>245147.0</td>\n",
       "      <td>2018-07-31</td>\n",
       "      <td>NaN</td>\n",
       "      <td>NaN</td>\n",
       "      <td>NaN</td>\n",
       "    </tr>\n",
       "    <tr>\n",
       "      <th>3</th>\n",
       "      <td>2018.0</td>\n",
       "      <td>World</td>\n",
       "      <td>Container ships</td>\n",
       "      <td>226063.0</td>\n",
       "      <td>2018-07-31</td>\n",
       "      <td>NaN</td>\n",
       "      <td>NaN</td>\n",
       "      <td>NaN</td>\n",
       "    </tr>\n",
       "    <tr>\n",
       "      <th>4</th>\n",
       "      <td>2018.0</td>\n",
       "      <td>World</td>\n",
       "      <td>Dry breakbulk carriers</td>\n",
       "      <td>211031.0</td>\n",
       "      <td>2018-07-31</td>\n",
       "      <td>NaN</td>\n",
       "      <td>NaN</td>\n",
       "      <td>NaN</td>\n",
       "    </tr>\n",
       "    <tr>\n",
       "      <th>...</th>\n",
       "      <td>...</td>\n",
       "      <td>...</td>\n",
       "      <td>...</td>\n",
       "      <td>...</td>\n",
       "      <td>...</td>\n",
       "      <td>...</td>\n",
       "      <td>...</td>\n",
       "      <td>...</td>\n",
       "    </tr>\n",
       "    <tr>\n",
       "      <th>17242</th>\n",
       "      <td>NaN</td>\n",
       "      <td>occupied Palestinian territory, including east...</td>\n",
       "      <td>NaN</td>\n",
       "      <td>NaN</td>\n",
       "      <td>2021-01-31</td>\n",
       "      <td>1654.0</td>\n",
       "      <td>163678.0</td>\n",
       "      <td>15204283.0</td>\n",
       "    </tr>\n",
       "    <tr>\n",
       "      <th>17243</th>\n",
       "      <td>NaN</td>\n",
       "      <td>occupied Palestinian territory, including east...</td>\n",
       "      <td>NaN</td>\n",
       "      <td>NaN</td>\n",
       "      <td>2021-07-31</td>\n",
       "      <td>1655.0</td>\n",
       "      <td>167062.0</td>\n",
       "      <td>52958731.0</td>\n",
       "    </tr>\n",
       "    <tr>\n",
       "      <th>17244</th>\n",
       "      <td>NaN</td>\n",
       "      <td>occupied Palestinian territory, including east...</td>\n",
       "      <td>NaN</td>\n",
       "      <td>NaN</td>\n",
       "      <td>2022-01-31</td>\n",
       "      <td>1656.0</td>\n",
       "      <td>179138.0</td>\n",
       "      <td>79971265.0</td>\n",
       "    </tr>\n",
       "    <tr>\n",
       "      <th>17245</th>\n",
       "      <td>NaN</td>\n",
       "      <td>occupied Palestinian territory, including east...</td>\n",
       "      <td>NaN</td>\n",
       "      <td>NaN</td>\n",
       "      <td>2022-07-31</td>\n",
       "      <td>1657.0</td>\n",
       "      <td>157380.0</td>\n",
       "      <td>117827259.0</td>\n",
       "    </tr>\n",
       "    <tr>\n",
       "      <th>17246</th>\n",
       "      <td>NaN</td>\n",
       "      <td>occupied Palestinian territory, including east...</td>\n",
       "      <td>NaN</td>\n",
       "      <td>NaN</td>\n",
       "      <td>2023-01-31</td>\n",
       "      <td>1658.0</td>\n",
       "      <td>20708.0</td>\n",
       "      <td>47598869.0</td>\n",
       "    </tr>\n",
       "  </tbody>\n",
       "</table>\n",
       "<p>17247 rows × 8 columns</p>\n",
       "</div>"
      ],
      "text/plain": [
       "         Year                                            country  \\\n",
       "0      2018.0                                              World   \n",
       "1      2018.0                                              World   \n",
       "2      2018.0                                              World   \n",
       "3      2018.0                                              World   \n",
       "4      2018.0                                              World   \n",
       "...       ...                                                ...   \n",
       "17242     NaN  occupied Palestinian territory, including east...   \n",
       "17243     NaN  occupied Palestinian territory, including east...   \n",
       "17244     NaN  occupied Palestinian territory, including east...   \n",
       "17245     NaN  occupied Palestinian territory, including east...   \n",
       "17246     NaN  occupied Palestinian territory, including east...   \n",
       "\n",
       "                  Vessel_Type  Number of port calls        date  Unnamed: 0  \\\n",
       "0                   All ships             1984908.0  2018-07-31         NaN   \n",
       "1             Passenger ships             1053697.0  2018-07-31         NaN   \n",
       "2        Liquid bulk carriers              245147.0  2018-07-31         NaN   \n",
       "3             Container ships              226063.0  2018-07-31         NaN   \n",
       "4      Dry breakbulk carriers              211031.0  2018-07-31         NaN   \n",
       "...                       ...                   ...         ...         ...   \n",
       "17242                     NaN                   NaN  2021-01-31      1654.0   \n",
       "17243                     NaN                   NaN  2021-07-31      1655.0   \n",
       "17244                     NaN                   NaN  2022-01-31      1656.0   \n",
       "17245                     NaN                   NaN  2022-07-31      1657.0   \n",
       "17246                     NaN                   NaN  2023-01-31      1658.0   \n",
       "\n",
       "       new_cases  cumulative_cases  \n",
       "0            NaN               NaN  \n",
       "1            NaN               NaN  \n",
       "2            NaN               NaN  \n",
       "3            NaN               NaN  \n",
       "4            NaN               NaN  \n",
       "...          ...               ...  \n",
       "17242   163678.0        15204283.0  \n",
       "17243   167062.0        52958731.0  \n",
       "17244   179138.0        79971265.0  \n",
       "17245   157380.0       117827259.0  \n",
       "17246    20708.0        47598869.0  \n",
       "\n",
       "[17247 rows x 8 columns]"
      ]
     },
     "execution_count": 26,
     "metadata": {},
     "output_type": "execute_result"
    }
   ],
   "source": [
    "df_combined2 = pd.merge(df_port_calls, df_new, on=['country','date'], how='outer')\n",
    "# df_combined2 = df_combined2.drop(['Unnamed: 0', 'cumulative_cases'], axis=1)\n",
    "df_combined2"
   ]
  },
  {
   "cell_type": "code",
   "execution_count": 27,
   "metadata": {},
   "outputs": [
    {
     "data": {
      "text/html": [
       "<div>\n",
       "<style scoped>\n",
       "    .dataframe tbody tr th:only-of-type {\n",
       "        vertical-align: middle;\n",
       "    }\n",
       "\n",
       "    .dataframe tbody tr th {\n",
       "        vertical-align: top;\n",
       "    }\n",
       "\n",
       "    .dataframe thead th {\n",
       "        text-align: right;\n",
       "    }\n",
       "</style>\n",
       "<table border=\"1\" class=\"dataframe\">\n",
       "  <thead>\n",
       "    <tr style=\"text-align: right;\">\n",
       "      <th></th>\n",
       "      <th>Year_x</th>\n",
       "      <th>country</th>\n",
       "      <th>Vessel_Type</th>\n",
       "      <th>Median time in port (days)</th>\n",
       "      <th>Average age of vessels</th>\n",
       "      <th>Average size (GT) of vessels</th>\n",
       "      <th>Maximum size (GT) of vessels</th>\n",
       "      <th>Average cargo carrying capacity (dwt) per vessel</th>\n",
       "      <th>Maximum cargo carrying capacity (dwt) of vessels</th>\n",
       "      <th>Average container carrying capacity (TEU) per container ship</th>\n",
       "      <th>Maximum container carrying capacity (TEU) of container ships</th>\n",
       "      <th>date</th>\n",
       "      <th>new_cases</th>\n",
       "      <th>Year_y</th>\n",
       "      <th>Number of port calls</th>\n",
       "    </tr>\n",
       "  </thead>\n",
       "  <tbody>\n",
       "    <tr>\n",
       "      <th>0</th>\n",
       "      <td>2018.0</td>\n",
       "      <td>World</td>\n",
       "      <td>All ships</td>\n",
       "      <td>0.97</td>\n",
       "      <td>18.0</td>\n",
       "      <td>15222.0</td>\n",
       "      <td>234006.0</td>\n",
       "      <td>24074.0</td>\n",
       "      <td>441561.0</td>\n",
       "      <td>3526.0</td>\n",
       "      <td>21413.0</td>\n",
       "      <td>2018-07-31</td>\n",
       "      <td>NaN</td>\n",
       "      <td>2018.0</td>\n",
       "      <td>1984908.0</td>\n",
       "    </tr>\n",
       "    <tr>\n",
       "      <th>1</th>\n",
       "      <td>2018.0</td>\n",
       "      <td>World</td>\n",
       "      <td>Passenger ships</td>\n",
       "      <td>NaN</td>\n",
       "      <td>21.0</td>\n",
       "      <td>8978.0</td>\n",
       "      <td>228081.0</td>\n",
       "      <td>NaN</td>\n",
       "      <td>NaN</td>\n",
       "      <td>NaN</td>\n",
       "      <td>NaN</td>\n",
       "      <td>2018-07-31</td>\n",
       "      <td>NaN</td>\n",
       "      <td>2018.0</td>\n",
       "      <td>1053697.0</td>\n",
       "    </tr>\n",
       "    <tr>\n",
       "      <th>2</th>\n",
       "      <td>2018.0</td>\n",
       "      <td>World</td>\n",
       "      <td>Liquid bulk carriers</td>\n",
       "      <td>0.94</td>\n",
       "      <td>13.0</td>\n",
       "      <td>15470.0</td>\n",
       "      <td>234006.0</td>\n",
       "      <td>26871.0</td>\n",
       "      <td>441561.0</td>\n",
       "      <td>NaN</td>\n",
       "      <td>NaN</td>\n",
       "      <td>2018-07-31</td>\n",
       "      <td>NaN</td>\n",
       "      <td>2018.0</td>\n",
       "      <td>245147.0</td>\n",
       "    </tr>\n",
       "    <tr>\n",
       "      <th>3</th>\n",
       "      <td>2018.0</td>\n",
       "      <td>World</td>\n",
       "      <td>Container ships</td>\n",
       "      <td>0.69</td>\n",
       "      <td>13.0</td>\n",
       "      <td>38405.0</td>\n",
       "      <td>217673.0</td>\n",
       "      <td>NaN</td>\n",
       "      <td>NaN</td>\n",
       "      <td>3526.0</td>\n",
       "      <td>21413.0</td>\n",
       "      <td>2018-07-31</td>\n",
       "      <td>NaN</td>\n",
       "      <td>2018.0</td>\n",
       "      <td>226063.0</td>\n",
       "    </tr>\n",
       "    <tr>\n",
       "      <th>4</th>\n",
       "      <td>2018.0</td>\n",
       "      <td>World</td>\n",
       "      <td>Dry breakbulk carriers</td>\n",
       "      <td>1.12</td>\n",
       "      <td>19.0</td>\n",
       "      <td>5455.0</td>\n",
       "      <td>91784.0</td>\n",
       "      <td>7413.0</td>\n",
       "      <td>138743.0</td>\n",
       "      <td>NaN</td>\n",
       "      <td>NaN</td>\n",
       "      <td>2018-07-31</td>\n",
       "      <td>NaN</td>\n",
       "      <td>2018.0</td>\n",
       "      <td>211031.0</td>\n",
       "    </tr>\n",
       "    <tr>\n",
       "      <th>...</th>\n",
       "      <td>...</td>\n",
       "      <td>...</td>\n",
       "      <td>...</td>\n",
       "      <td>...</td>\n",
       "      <td>...</td>\n",
       "      <td>...</td>\n",
       "      <td>...</td>\n",
       "      <td>...</td>\n",
       "      <td>...</td>\n",
       "      <td>...</td>\n",
       "      <td>...</td>\n",
       "      <td>...</td>\n",
       "      <td>...</td>\n",
       "      <td>...</td>\n",
       "      <td>...</td>\n",
       "    </tr>\n",
       "    <tr>\n",
       "      <th>17242</th>\n",
       "      <td>NaN</td>\n",
       "      <td>Europe, Northern America, Australia and New Ze...</td>\n",
       "      <td>Dry breakbulk carriers</td>\n",
       "      <td>NaN</td>\n",
       "      <td>NaN</td>\n",
       "      <td>NaN</td>\n",
       "      <td>NaN</td>\n",
       "      <td>NaN</td>\n",
       "      <td>NaN</td>\n",
       "      <td>NaN</td>\n",
       "      <td>NaN</td>\n",
       "      <td>2022-07-31</td>\n",
       "      <td>NaN</td>\n",
       "      <td>2022.0</td>\n",
       "      <td>108618.0</td>\n",
       "    </tr>\n",
       "    <tr>\n",
       "      <th>17243</th>\n",
       "      <td>NaN</td>\n",
       "      <td>Europe, Northern America, Australia and New Ze...</td>\n",
       "      <td>Dry bulk carriers</td>\n",
       "      <td>NaN</td>\n",
       "      <td>NaN</td>\n",
       "      <td>NaN</td>\n",
       "      <td>NaN</td>\n",
       "      <td>NaN</td>\n",
       "      <td>NaN</td>\n",
       "      <td>NaN</td>\n",
       "      <td>NaN</td>\n",
       "      <td>2022-07-31</td>\n",
       "      <td>NaN</td>\n",
       "      <td>2022.0</td>\n",
       "      <td>39257.0</td>\n",
       "    </tr>\n",
       "    <tr>\n",
       "      <th>17244</th>\n",
       "      <td>NaN</td>\n",
       "      <td>Europe, Northern America, Australia and New Ze...</td>\n",
       "      <td>Roll-on/ roll-off ships</td>\n",
       "      <td>NaN</td>\n",
       "      <td>NaN</td>\n",
       "      <td>NaN</td>\n",
       "      <td>NaN</td>\n",
       "      <td>NaN</td>\n",
       "      <td>NaN</td>\n",
       "      <td>NaN</td>\n",
       "      <td>NaN</td>\n",
       "      <td>2022-07-31</td>\n",
       "      <td>NaN</td>\n",
       "      <td>2022.0</td>\n",
       "      <td>46544.0</td>\n",
       "    </tr>\n",
       "    <tr>\n",
       "      <th>17245</th>\n",
       "      <td>NaN</td>\n",
       "      <td>Europe, Northern America, Australia and New Ze...</td>\n",
       "      <td>Liquefied petroleum gas carriers</td>\n",
       "      <td>NaN</td>\n",
       "      <td>NaN</td>\n",
       "      <td>NaN</td>\n",
       "      <td>NaN</td>\n",
       "      <td>NaN</td>\n",
       "      <td>NaN</td>\n",
       "      <td>NaN</td>\n",
       "      <td>NaN</td>\n",
       "      <td>2022-07-31</td>\n",
       "      <td>NaN</td>\n",
       "      <td>2022.0</td>\n",
       "      <td>8430.0</td>\n",
       "    </tr>\n",
       "    <tr>\n",
       "      <th>17246</th>\n",
       "      <td>NaN</td>\n",
       "      <td>Europe, Northern America, Australia and New Ze...</td>\n",
       "      <td>Liquefied natural gas carriers</td>\n",
       "      <td>NaN</td>\n",
       "      <td>NaN</td>\n",
       "      <td>NaN</td>\n",
       "      <td>NaN</td>\n",
       "      <td>NaN</td>\n",
       "      <td>NaN</td>\n",
       "      <td>NaN</td>\n",
       "      <td>NaN</td>\n",
       "      <td>2022-07-31</td>\n",
       "      <td>NaN</td>\n",
       "      <td>2022.0</td>\n",
       "      <td>2835.0</td>\n",
       "    </tr>\n",
       "  </tbody>\n",
       "</table>\n",
       "<p>17247 rows × 15 columns</p>\n",
       "</div>"
      ],
      "text/plain": [
       "       Year_x                                            country  \\\n",
       "0      2018.0                                              World   \n",
       "1      2018.0                                              World   \n",
       "2      2018.0                                              World   \n",
       "3      2018.0                                              World   \n",
       "4      2018.0                                              World   \n",
       "...       ...                                                ...   \n",
       "17242     NaN  Europe, Northern America, Australia and New Ze...   \n",
       "17243     NaN  Europe, Northern America, Australia and New Ze...   \n",
       "17244     NaN  Europe, Northern America, Australia and New Ze...   \n",
       "17245     NaN  Europe, Northern America, Australia and New Ze...   \n",
       "17246     NaN  Europe, Northern America, Australia and New Ze...   \n",
       "\n",
       "                            Vessel_Type  Median time in port (days)  \\\n",
       "0                             All ships                        0.97   \n",
       "1                       Passenger ships                         NaN   \n",
       "2                  Liquid bulk carriers                        0.94   \n",
       "3                       Container ships                        0.69   \n",
       "4                Dry breakbulk carriers                        1.12   \n",
       "...                                 ...                         ...   \n",
       "17242            Dry breakbulk carriers                         NaN   \n",
       "17243                 Dry bulk carriers                         NaN   \n",
       "17244           Roll-on/ roll-off ships                         NaN   \n",
       "17245  Liquefied petroleum gas carriers                         NaN   \n",
       "17246    Liquefied natural gas carriers                         NaN   \n",
       "\n",
       "       Average age of vessels  Average size (GT) of vessels  \\\n",
       "0                        18.0                       15222.0   \n",
       "1                        21.0                        8978.0   \n",
       "2                        13.0                       15470.0   \n",
       "3                        13.0                       38405.0   \n",
       "4                        19.0                        5455.0   \n",
       "...                       ...                           ...   \n",
       "17242                     NaN                           NaN   \n",
       "17243                     NaN                           NaN   \n",
       "17244                     NaN                           NaN   \n",
       "17245                     NaN                           NaN   \n",
       "17246                     NaN                           NaN   \n",
       "\n",
       "       Maximum size (GT) of vessels  \\\n",
       "0                          234006.0   \n",
       "1                          228081.0   \n",
       "2                          234006.0   \n",
       "3                          217673.0   \n",
       "4                           91784.0   \n",
       "...                             ...   \n",
       "17242                           NaN   \n",
       "17243                           NaN   \n",
       "17244                           NaN   \n",
       "17245                           NaN   \n",
       "17246                           NaN   \n",
       "\n",
       "       Average cargo carrying capacity (dwt) per vessel  \\\n",
       "0                                               24074.0   \n",
       "1                                                   NaN   \n",
       "2                                               26871.0   \n",
       "3                                                   NaN   \n",
       "4                                                7413.0   \n",
       "...                                                 ...   \n",
       "17242                                               NaN   \n",
       "17243                                               NaN   \n",
       "17244                                               NaN   \n",
       "17245                                               NaN   \n",
       "17246                                               NaN   \n",
       "\n",
       "       Maximum cargo carrying capacity (dwt) of vessels  \\\n",
       "0                                              441561.0   \n",
       "1                                                   NaN   \n",
       "2                                              441561.0   \n",
       "3                                                   NaN   \n",
       "4                                              138743.0   \n",
       "...                                                 ...   \n",
       "17242                                               NaN   \n",
       "17243                                               NaN   \n",
       "17244                                               NaN   \n",
       "17245                                               NaN   \n",
       "17246                                               NaN   \n",
       "\n",
       "       Average container carrying capacity (TEU) per container ship  \\\n",
       "0                                                 3526.0              \n",
       "1                                                    NaN              \n",
       "2                                                    NaN              \n",
       "3                                                 3526.0              \n",
       "4                                                    NaN              \n",
       "...                                                  ...              \n",
       "17242                                                NaN              \n",
       "17243                                                NaN              \n",
       "17244                                                NaN              \n",
       "17245                                                NaN              \n",
       "17246                                                NaN              \n",
       "\n",
       "       Maximum container carrying capacity (TEU) of container ships  \\\n",
       "0                                                21413.0              \n",
       "1                                                    NaN              \n",
       "2                                                    NaN              \n",
       "3                                                21413.0              \n",
       "4                                                    NaN              \n",
       "...                                                  ...              \n",
       "17242                                                NaN              \n",
       "17243                                                NaN              \n",
       "17244                                                NaN              \n",
       "17245                                                NaN              \n",
       "17246                                                NaN              \n",
       "\n",
       "             date  new_cases  Year_y  Number of port calls  \n",
       "0      2018-07-31        NaN  2018.0             1984908.0  \n",
       "1      2018-07-31        NaN  2018.0             1053697.0  \n",
       "2      2018-07-31        NaN  2018.0              245147.0  \n",
       "3      2018-07-31        NaN  2018.0              226063.0  \n",
       "4      2018-07-31        NaN  2018.0              211031.0  \n",
       "...           ...        ...     ...                   ...  \n",
       "17242  2022-07-31        NaN  2022.0              108618.0  \n",
       "17243  2022-07-31        NaN  2022.0               39257.0  \n",
       "17244  2022-07-31        NaN  2022.0               46544.0  \n",
       "17245  2022-07-31        NaN  2022.0                8430.0  \n",
       "17246  2022-07-31        NaN  2022.0                2835.0  \n",
       "\n",
       "[17247 rows x 15 columns]"
      ]
     },
     "execution_count": 27,
     "metadata": {},
     "output_type": "execute_result"
    }
   ],
   "source": [
    "port_covid = pd.merge(df_combined, df_port_calls, on=['country','date', 'Vessel_Type'], how='outer')\n",
    "port_covid"
   ]
  },
  {
   "cell_type": "code",
   "execution_count": null,
   "metadata": {},
   "outputs": [],
   "source": [
    "# port_covid.to_csv (r'C:\\Users\\user\\OneDrive - Delft University of Technology\\Desktop\\TIL\\Q1\\TIL6022\\Final Project\\updated.csv')"
   ]
  },
  {
   "cell_type": "code",
   "execution_count": 15,
   "metadata": {},
   "outputs": [
    {
     "data": {
      "text/html": [
       "<div>\n",
       "<style scoped>\n",
       "    .dataframe tbody tr th:only-of-type {\n",
       "        vertical-align: middle;\n",
       "    }\n",
       "\n",
       "    .dataframe tbody tr th {\n",
       "        vertical-align: top;\n",
       "    }\n",
       "\n",
       "    .dataframe thead th {\n",
       "        text-align: right;\n",
       "    }\n",
       "</style>\n",
       "<table border=\"1\" class=\"dataframe\">\n",
       "  <thead>\n",
       "    <tr style=\"text-align: right;\">\n",
       "      <th></th>\n",
       "      <th>country</th>\n",
       "      <th>ISO_A3</th>\n",
       "      <th>geometry</th>\n",
       "    </tr>\n",
       "  </thead>\n",
       "  <tbody>\n",
       "    <tr>\n",
       "      <th>0</th>\n",
       "      <td>Aruba</td>\n",
       "      <td>ABW</td>\n",
       "      <td>POLYGON ((-69.99694 12.57758, -69.93639 12.531...</td>\n",
       "    </tr>\n",
       "    <tr>\n",
       "      <th>1</th>\n",
       "      <td>Afghanistan</td>\n",
       "      <td>AFG</td>\n",
       "      <td>POLYGON ((71.04980 38.40866, 71.05714 38.40903...</td>\n",
       "    </tr>\n",
       "    <tr>\n",
       "      <th>2</th>\n",
       "      <td>Angola</td>\n",
       "      <td>AGO</td>\n",
       "      <td>MULTIPOLYGON (((11.73752 -16.69258, 11.73851 -...</td>\n",
       "    </tr>\n",
       "    <tr>\n",
       "      <th>3</th>\n",
       "      <td>Anguilla</td>\n",
       "      <td>AIA</td>\n",
       "      <td>MULTIPOLYGON (((-63.03767 18.21296, -63.09952 ...</td>\n",
       "    </tr>\n",
       "    <tr>\n",
       "      <th>4</th>\n",
       "      <td>Albania</td>\n",
       "      <td>ALB</td>\n",
       "      <td>POLYGON ((19.74777 42.57890, 19.74601 42.57993...</td>\n",
       "    </tr>\n",
       "  </tbody>\n",
       "</table>\n",
       "</div>"
      ],
      "text/plain": [
       "       country ISO_A3                                           geometry\n",
       "0        Aruba    ABW  POLYGON ((-69.99694 12.57758, -69.93639 12.531...\n",
       "1  Afghanistan    AFG  POLYGON ((71.04980 38.40866, 71.05714 38.40903...\n",
       "2       Angola    AGO  MULTIPOLYGON (((11.73752 -16.69258, 11.73851 -...\n",
       "3     Anguilla    AIA  MULTIPOLYGON (((-63.03767 18.21296, -63.09952 ...\n",
       "4      Albania    ALB  POLYGON ((19.74777 42.57890, 19.74601 42.57993..."
      ]
     },
     "execution_count": 15,
     "metadata": {},
     "output_type": "execute_result"
    }
   ],
   "source": [
    "# Geo data\n",
    "df_geo = gpd.read_file(r\"C:\\Users\\user\\OneDrive - Delft University of Technology\\Desktop\\TIL\\Q1\\TIL6022\\TIL6022-group_project\\Data\\countries.geojson\") # geojson file\n",
    "df_geo.rename(columns = {'ADMIN': 'Location', }, inplace=True)\n",
    "\n",
    "df_geo.rename(columns = {'Location': 'country', }, inplace=True)\n",
    "df_geo.head()"
   ]
  },
  {
   "cell_type": "markdown",
   "metadata": {},
   "source": [
    "# Part II"
   ]
  },
  {
   "cell_type": "markdown",
   "metadata": {},
   "source": [
    "we start by understanding how many countries we have data for and for that we will plot a world map for All ship types combined"
   ]
  },
  {
   "cell_type": "code",
   "execution_count": null,
   "metadata": {},
   "outputs": [],
   "source": [
    "# #df['text'] = geo_port['Location'] + '<br>' + \\\n",
    "#    # 'Passenger ships ' + geo_port['Passenger ships'] + ' Dairy ' + geo_port['dairy'] + '<br>' + \\\n",
    "#    # 'Fruits ' + geo_port['total fruits'] + ' Veggies ' + geo_port['total veggies'] + '<br>' + \\\n",
    "#    # 'Wheat ' + geo_port['wheat'] + ' Corn ' + geo_port['corn']\n",
    "# geo_port_all_vessels= geo_port[\n",
    "#     (geo_port.Vessel_Type == 'All ships')\n",
    "# ]\n",
    "# fig = px.choropleth(geo_port_all_vessels, locations=\"ISO_A3\",\n",
    "#                     color=\"Median time in port (days)\", \n",
    "#                     hover_name=\"Location\",\n",
    "#                     range_color=(0, 2),\n",
    "#                     animation_frame=\"Period Label\",\n",
    "#                     #text=df['text'], # hover text\n",
    "#                     color_continuous_scale=px.colors.sequential.Plasma)\n",
    "# fig.show()\n"
   ]
  },
  {
   "cell_type": "markdown",
   "metadata": {},
   "source": [
    "now we can't only infer information from graphs, so we will calculate the peaks and valleys of the COVID data and the port data to see if there is a match based on serveral values of the port data (avg age of the vessel, average size of the vessel, average time in port)"
   ]
  },
  {
   "cell_type": "code",
   "execution_count": null,
   "metadata": {},
   "outputs": [],
   "source": [
    "# Variables from COVID data \n",
    "activity_1 = 'new cases'\n",
    "activity_2 = 'new deaths'\n",
    "activity_3 = 'cumulative cases'\n",
    "activity_4 = 'cumulative deaths'\n",
    "\n",
    "# Varaibles from Maritime data \n",
    "activity_5 = 'Median time in port (days)'\n",
    "#activity_6 = 'port index value'\n",
    "#activity_7 = 'port calls'\n",
    "activity_8 = 'Average age of vessels'\n",
    "activity_10 = 'Average size (GT) of vessels'\n",
    "activity_9 = 'Vessel_Type'\n",
    "\n",
    "# Common variables\n",
    "region_1 = 'Asia'\n",
    "region_2 = 'Oceania'\n",
    "region_3 = 'Europe'\n",
    "region_4 = 'Africa'\n",
    "region_5 = 'North America'\n",
    "region_6 = 'South America'\n",
    "world_story = [region_1, region_2, region_3, region_4, region_5, region_6]\n",
    "\n",
    "\n",
    "activities_story_1 = [activity_8, activity_5, activity_10]\n",
    "#activities_story_2 = [activity_1, activity_2, activity_6]\n",
    "#activities_story_3 = [activity_5, activity_2]\n"
   ]
  },
  {
   "cell_type": "code",
   "execution_count": null,
   "metadata": {},
   "outputs": [],
   "source": [
    "# first, I'm going to define a function to be able to select the different vessels in a list for each country for a specific time period\n",
    "def data_highs(data, acitivity, **kwargs):\n",
    "\n",
    "    diff_1 = data[activity].diff(periods = -1)\n",
    "    diff_2 = data[activity].diff(periods = 1)\n",
    "    \n",
    "    peaks = []\n",
    "    for i in range(len(diff_1)):\n",
    "        if diff_1[i] > 0 and diff_2[i] > 0:\n",
    "            peaks.append(int(i))          \n",
    "            \n",
    "    return peaks\n",
    "\n",
    "# And do the same for the valleys\n",
    "def data_lows(data, activity, **kwargs):\n",
    "\n",
    "    diff_1 = data[activity].diff(periods = -1)\n",
    "    diff_2 = data[activity].diff(periods = 1)\n",
    "\n",
    "    valleys = []\n",
    "    for i in range(len(diff_1)):\n",
    "        if diff_1[i] < 0 and diff_2[i] < 0:\n",
    "            valleys.append(int(i))          \n",
    "            \n",
    "    return valleys"
   ]
  },
  {
   "cell_type": "code",
   "execution_count": null,
   "metadata": {},
   "outputs": [],
   "source": [
    "# # Then I start the figure and create several dictionaries that are necessary. The peaks and valleys dictionaries are for the graphs and the date dictionaries are for the next steps\n",
    "# fig_1 = go.Figure()\n",
    "\n",
    "# peaks_dict_1 = {}\n",
    "# valleys_dict_1 = {}\n",
    "# peaks_date_dict_1 = {}\n",
    "# valleys_date_dict_1 = {}\n",
    "\n",
    "# # I create a dataframe that contains only the data for the selected province and reset the indices for it\n",
    "# geo_port_all_vessels = geo_port[(geo_port.Vessel_Type == 'All ships')]\n",
    "# geo_port_all_vessels = geo_port_all_vessels[(geo_port_all_vessels.Location == 'Australia')]\n",
    "# geo_port_all_vessels.reset_index(inplace=True)\n",
    "\n",
    "# # I find the peaks and valleys and add them to the dictionaries\n",
    "# for activity in activities_story_1:\n",
    "#     max_ind = data_highs(geo_port_all_vessels, activity)\n",
    "#     peaks_dict_1[activity]=max_ind\n",
    "\n",
    "#     min_ind = data_lows(geo_port_all_vessels,activity)\n",
    "#     valleys_dict_1[activity]=min_ind\n",
    "    \n",
    "#     # Then I turn them into dataframes to be able to use the dates for the graphs, and for the date dictionaries\n",
    "#     df_max_1 = geo_port_all_vessels.iloc[max_ind]\n",
    "#     df_min_1 = geo_port_all_vessels.iloc[min_ind]\n",
    "\n",
    "# # The date dictionaries are filled with the dates of the peaks and the valleys\n",
    "#     peaks_date_dict_1[activity] = df_max_1['Period Label']\n",
    "#     valleys_date_dict_1[activity] = df_min_1['Period Label']\n",
    "    \n",
    "#     #The graphs are formatted \n",
    "#     x1 = geo_port_all_vessels['Period Label']\n",
    "#     y1 = geo_port_all_vessels[activity]\n",
    "#     x2 = df_max_1['Period Label']\n",
    "#     y2 = df_max_1[activity]\n",
    "#     x3 = df_min_1['Period Label']\n",
    "#     y3 = df_min_1[activity]\n",
    "#     fig_1.add_trace(go.Scatter(x=x1,y=y1,name=activity))\n",
    "#     fig_1.add_trace(go.Scatter(x=x2,y=y2,mode='markers',name='peaks ' + activity))\n",
    "#     fig_1.add_trace(go.Scatter(x=x3,y=y3,mode='markers',name='valleys ' + activity))\n",
    "\n",
    "# fig_1.update_layout(title= activity_5 + ' and ' + activity_8 + ' during covid times in ' + activity_10)\n",
    "# fig_1.show()"
   ]
  },
  {
   "cell_type": "markdown",
   "metadata": {},
   "source": [
    "this graph is hard to see since the values are not the same, thus we will make subplots to more cleary be able to compare the 3 port parameters. "
   ]
  },
  {
   "cell_type": "code",
   "execution_count": null,
   "metadata": {},
   "outputs": [],
   "source": [
    "# fig_2 = go.Figure()\n",
    "# fig_2 = make_subplots(rows=3,cols=1)\n",
    "# x1 = geo_port_all_vessels['Period Label']\n",
    "# y1 = geo_port_all_vessels[activity_5]\n",
    "# x2 = df_max_1['Period Label']\n",
    "# y2 = df_max_1[activity_5]\n",
    "# x3 = geo_port_all_vessels['Period Label']\n",
    "# y3 = geo_port_all_vessels[activity_8]\n",
    "# x4 = df_min_1['Period Label']\n",
    "# y4 = df_min_1[activity_8]\n",
    "# x5 = geo_port_all_vessels['Period Label']\n",
    "# y5 = geo_port_all_vessels[activity_10]\n",
    "# x6 = df_max_1['Period Label']\n",
    "# y6 = df_max_1[activity_10]\n",
    "\n",
    "# fig_2.append_trace(go.Scatter(x=x1,y=y1,name=activity_5),row=1,col=1)\n",
    "# fig_2.append_trace(go.Scatter(x=x2,y=y2,mode='markers',name='peaks ' + activity_5),row=1,col=1)\n",
    "# fig_2.append_trace(go.Scatter(x=x3,y=y3,name=activity_8),row=2,col=1)\n",
    "# fig_2.append_trace(go.Scatter(x=x4,y=y4,mode='markers',name='valleys ' + activity_8),row=2,col=1)\n",
    "# fig_2.append_trace(go.Scatter(x=x5,y=y5,name=activity_10),row=3,col=1)\n",
    "# fig_2.append_trace(go.Scatter(x=x6,y=y6,mode='markers',name='valleys ' + activity_10),row=3,col=1)\n",
    "\n",
    "# fig_2.update_layout(title='Trends in vessel port time, age, and size thru the years')\n",
    "\n",
    "# fig_2.show()"
   ]
  },
  {
   "cell_type": "markdown",
   "metadata": {},
   "source": [
    "Rate of change in the lines is Part II is the comparision factor. Comparing before COVID and after COVID"
   ]
  },
  {
   "cell_type": "markdown",
   "metadata": {},
   "source": [
    "In addition, we will do a world to world comparision of COVID cases versus port times: "
   ]
  },
  {
   "cell_type": "code",
   "execution_count": null,
   "metadata": {},
   "outputs": [],
   "source": [
    "# file_path2 = r\"C:\\Users\\user\\OneDrive - Delft University of Technology\\Desktop\\TIL\\Q1\\TIL6022\\Final Project\\covid_data_new.csv\"\n",
    "# with open(file_path, 'rb') as rawdata:\n",
    "#     result = chardet.detect(rawdata.read(100000))\n",
    "# result"
   ]
  },
  {
   "cell_type": "code",
   "execution_count": null,
   "metadata": {},
   "outputs": [],
   "source": [
    "df_ports_world = df_ports[df_ports.country == 'World']\n",
    "df_covid_world = df_new.groupby('date').sum()\n",
    "df_covid_world = df_covid_world.drop(['2020-01-31','2023-01-31'])\n",
    "\n",
    "df_combined_world =pd.merge(df_ports_world, df_covid_world, on=['date'], how='outer')\n",
    "df_combined_world = df_combined_world.drop(['Unnamed: 0', 'cumulative_cases'], axis=1)\n",
    "df_combined_world"
   ]
  },
  {
   "cell_type": "code",
   "execution_count": null,
   "metadata": {},
   "outputs": [],
   "source": [
    "# df_combined_world.to_csv(r\"C:\\Users\\user\\OneDrive - Delft University of Technology\\Desktop\\TIL\\Q1\\TIL6022\\Final Project\\result.csv\")"
   ]
  },
  {
   "cell_type": "code",
   "execution_count": null,
   "metadata": {},
   "outputs": [],
   "source": [
    "df_combined_world = df_combined_world[df_combined_world['Vessel_Type'] == 'All ships']\n",
    "\n",
    "# Create figure with secondary y-axis\n",
    "fig = make_subplots(specs=[[{\"secondary_y\": True}]])\n",
    "\n",
    "# Add traces\n",
    "fig.add_trace(\n",
    "    go.Scatter(x=df_combined_world['date'], y=df_combined_world['Median time in port (days)'], name=\"Median time in port (days)\"),\n",
    "    secondary_y=False,\n",
    ")\n",
    "\n",
    "fig.add_trace(\n",
    "    go.Scatter(x=df_combined_world['date'], y=df_combined_world['new_cases'], name=\"New covid cases\"),\n",
    "    secondary_y=True,\n",
    ")\n",
    "\n",
    "# Add figure title\n",
    "fig.update_layout(\n",
    "    title_text=\"World - all vessel type\"\n",
    ")\n",
    "\n",
    "# Set x-axis title\n",
    "fig.update_xaxes(title_text=\"Date\")\n",
    "\n",
    "# Set y-axes titles\n",
    "fig.update_yaxes(title_text=\"<b>primary</b> Median time in port (days)\", secondary_y=False)\n",
    "fig.update_yaxes(title_text=\"<b>secondary</b> New covid cases\", secondary_y=True)\n",
    "\n",
    "fig.show()"
   ]
  },
  {
   "cell_type": "code",
   "execution_count": null,
   "metadata": {},
   "outputs": [],
   "source": [
    "# data1 = df_combined_world['new_cases']\n",
    "# data2 = df_combined_world['Median time in port (days)']\n",
    "# coef, p = spearmanr(data1, data2)\n",
    "# print('Spearmans correlation coefficient: %.3f' % coef)\n",
    "# # interpret the significance\n",
    "# alpha = 0.05\n",
    "# if p > alpha:\n",
    "# \tprint('Samples are uncorrelated (fail to reject H0) p=%.3f' % p)\n",
    "# else:\n",
    "# \tprint('Samples are correlated (reject H0) p=%.3f' % p)"
   ]
  },
  {
   "cell_type": "code",
   "execution_count": null,
   "metadata": {},
   "outputs": [],
   "source": [
    "from scipy import stats\n",
    "\n",
    "df_combined_world=df_combined_world.dropna(subset=['new_cases'])\n",
    "data1 = df_combined_world['new_cases']\n",
    "data2 = df_combined_world['Median time in port (days)']\n",
    "print(\"The pearson correlation data for the whole world is (Pearson's correlation coefficient r, P-value):\")\n",
    "stats.pearsonr(data1, data2)"
   ]
  },
  {
   "cell_type": "code",
   "execution_count": null,
   "metadata": {},
   "outputs": [],
   "source": [
    "df_port_calls_world = df_port_calls[df_port_calls.country == 'World']\n",
    "df_covid_world = df_new.groupby('date').sum()\n",
    "df_covid_world = df_covid_world.drop(['2020-01-31','2023-01-31'])\n",
    "\n",
    "df_combined_world_calls = pd.merge(df_port_calls_world, df_covid_world, on=['date'], how='outer')\n",
    "df_combined_world_calls = df_combined_world_calls.drop(['Unnamed: 0', 'cumulative_cases'], axis=1)\n",
    "df_combined_world_calls"
   ]
  },
  {
   "cell_type": "code",
   "execution_count": null,
   "metadata": {},
   "outputs": [],
   "source": [
    "df_combined_world_calls = df_combined_world_calls[df_combined_world_calls['Vessel_Type'] == 'All ships']\n",
    "\n",
    "# Create figure with secondary y-axis\n",
    "fig = make_subplots(specs=[[{\"secondary_y\": True}]])\n",
    "\n",
    "# Add traces\n",
    "fig.add_trace(\n",
    "    go.Scatter(x=df_combined_world_calls['date'], y=df_combined_world_calls['Number of port calls'], name=\"Number of port calls\"),\n",
    "    secondary_y=False,\n",
    ")\n",
    "\n",
    "fig.add_trace(\n",
    "    go.Scatter(x=df_combined_world_calls['date'], y=df_combined_world_calls['new_cases'], name=\"New covid cases\"),\n",
    "    secondary_y=True,\n",
    ")\n",
    "\n",
    "# Add figure title\n",
    "fig.update_layout(\n",
    "    title_text=\"World - all vessel type\"\n",
    ")\n",
    "\n",
    "# Set x-axis title\n",
    "fig.update_xaxes(title_text=\"Date\")\n",
    "\n",
    "# Set y-axes titles\n",
    "fig.update_yaxes(title_text=\"<b>primary</b> Number of port calls\", secondary_y=False)\n",
    "fig.update_yaxes(title_text=\"<b>secondary</b> New covid cases\", secondary_y=True)\n",
    "\n",
    "fig.show()"
   ]
  },
  {
   "cell_type": "code",
   "execution_count": null,
   "metadata": {},
   "outputs": [],
   "source": [
    "# from scipy import stats\n",
    "\n",
    "# df_combined_world_calls = df_combined_world_calls.dropna(subset=['new_cases'])\n",
    "# data3 = df_combined_world_calls['new_cases']\n",
    "# data4 = df_combined_world_calls['Number of port calls']\n",
    "# print(\"The pearson correlation data for the whole world is (Pearson's correlation coefficient r, P-value):\")\n",
    "# stats.pearsonr(data3, data4)"
   ]
  },
  {
   "cell_type": "markdown",
   "metadata": {},
   "source": [
    "## Part III - Data visualisation\n",
    "\n",
    "For this last part, we're going to visually show the effect that COVID had on vessel times so that users can see how ports have been impacted by COVID and thus has also impacted the logistics system as a whole by: \n",
    "\n",
    "We're going to look at regions and look at the semi annual trend by vessel type \n",
    "\n",
    "pie chart showing the proportions of the commodity shipped\n",
    "\n",
    "World map showing the change in port call times over the years \n",
    "\n",
    "Comparing covid high periods vs low periods with port call times \n",
    "\n",
    "Interpreting the results \n",
    "\n",
    "First, We show our variables for this part."
   ]
  },
  {
   "cell_type": "markdown",
   "metadata": {},
   "source": [
    "We want to show the COVID data with the port time (worldwide)"
   ]
  },
  {
   "cell_type": "code",
   "execution_count": null,
   "metadata": {},
   "outputs": [],
   "source": [
    "# First, I'll make a graph of all covid data in the world\n",
    "fig_5 = go.Figure()\n",
    "\n",
    "x1 = df_ports['Period Label']\n",
    "y1 = df_ports['Median time in port (days)']\n",
    "fig_5.add_trace(go.Scatter(x=x1,y=y1, name=activity_5))\n",
    "\n",
    "\n",
    "fig_5.update_layout(title='Covid data in world')\n",
    "fig_5.show()"
   ]
  },
  {
   "cell_type": "markdown",
   "metadata": {},
   "source": [
    "Now we will show over the years from 2018, the number of port calls by region"
   ]
  },
  {
   "cell_type": "code",
   "execution_count": null,
   "metadata": {
    "scrolled": true
   },
   "outputs": [],
   "source": [
    " fig = px.histogram(df_ports, y=\"Location\", x=\"Median time in port (days)\", orientation= \"h\",\n",
    "             animation_frame=\"Period Label\", \n",
    "             #range_x=[0,4000000000], \n",
    "                color=\"Location\",)\n",
    "fig.update_yaxes(categoryorder='sum ascending')\n",
    "\n",
    "fig.show()"
   ]
  },
  {
   "cell_type": "code",
   "execution_count": null,
   "metadata": {},
   "outputs": [],
   "source": [
    "# load dataset\n",
    "df = pd.read_csv(\"https://raw.githubusercontent.com/plotly/datasets/master/volcano.csv\")\n",
    "\n",
    "# create figure\n",
    "fig = go.Figure()\n",
    "\n",
    "# Add surface trace\n",
    "fig.add_trace(go.Surface(z=df.values.tolist(), colorscale=\"Viridis\"))\n",
    "\n",
    "# Update plot sizing\n",
    "fig.update_layout(\n",
    "    width=800,\n",
    "    height=900,\n",
    "    autosize=False,\n",
    "    margin=dict(t=0, b=0, l=0, r=0),\n",
    "    template=\"plotly_white\",\n",
    ")\n",
    "\n",
    "\n",
    "# Add dropdown\n",
    "fig.update_layout(\n",
    "    updatemenus=[\n",
    "        dict(\n",
    "            buttons=list([\n",
    "                dict(\n",
    "                    args=[\"type\", \"surface\"],\n",
    "                    label=\"Asia\",\n",
    "                    method=\"restyle\"\n",
    "                ),\n",
    "                dict(\n",
    "                    args=[\"type\", \"heatmap\"],\n",
    "                    label=\"America\",\n",
    "                    method=\"restyle\"\n",
    "                ),\n",
    "                dict(\n",
    "                    args=[\"type\", \"heatmap\"],\n",
    "                    label=\"Africa\",\n",
    "                    method=\"restyle\"\n",
    "                )\n",
    "            ]),\n",
    "            direction=\"down\",\n",
    "            pad={\"r\": 10, \"t\": 10},\n",
    "            showactive=True,\n",
    "            x=0.1,\n",
    "            xanchor=\"left\",\n",
    "            y=1.1,\n",
    "            yanchor=\"top\"\n",
    "        ),\n",
    "    ]\n",
    ")\n",
    "\n",
    "# Add annotation\n",
    "fig.update_layout(\n",
    "    annotations=[\n",
    "        dict(text=\"Countries:\", showarrow=False,\n",
    "        x=0, y=1.085, yref=\"paper\", align=\"left\")\n",
    "    ]\n",
    ")\n",
    "\n",
    "fig.show()"
   ]
  },
  {
   "cell_type": "code",
   "execution_count": null,
   "metadata": {},
   "outputs": [],
   "source": []
  },
  {
   "cell_type": "code",
   "execution_count": null,
   "metadata": {},
   "outputs": [],
   "source": [
    "pie = px.pie(df_new, values=\"occurance\", names=\"Sectors\", title=\"sector wise composition\")\n",
    "pie.show()\n",
    "#https://www.youtube.com/watch?v=s_iEvTBSBfA\n",
    "sunburst=px.sunburst(df_path=['Sectors', 'regions'],values='volume transported')\n",
    "sunburst.show()"
   ]
  },
  {
   "cell_type": "code",
   "execution_count": null,
   "metadata": {},
   "outputs": [],
   "source": [
    "import streamlit as st\n",
    "\n",
    "#Creating different horizontal sections in the webpage\n",
    "header = st.container() \n",
    "data= st.container()\n",
    "\n",
    "\n",
    "with header:  # accesing the section for presenting the info\n",
    "    st.title('Impact of Covid on Vessel waiting time') # prints the string  in the section as title\n",
    "\n",
    "with data:# all the data is processed as \n",
    "\n",
    "    df_combined2 =pd.merge(df_port_calls,df_new,on=['country','date'], how='outer')# merging port call and covid data\n",
    "\n",
    "    st.write(port_covid.head(25))\n",
    "    st.write(df_combined2.head(25))# Displaying the data on the webpage\n",
    "    \n",
    "    \n",
    "    \n",
    "    port_col, covid_col =st.columns(2) # dividing the webpage in 2 columns so you can show covid graph and port graph next to each other\n",
    "    \n",
    "    #CREATING a dynamic multiselect box for user to choose countries from\n",
    "    country_options = port_covid['country'].unique() #converting unqiue values to list,\n",
    "    #[Note:(do not use tolist() if it's already a list), in our case, it's already a list, otherwise it would be df_combined['country'].tolist().unique())\n",
    "    #This list will be used as options for multiselect for user to chhose which country data he wants to see\n",
    "    \n",
    "    # creating a multiselect toggle option for user to choose from country_options and setting the default option as world\n",
    "    country= st.multiselect('Which country data would you like to see',country_options,['Netherlands']) \n",
    "    \n",
    "    \n",
    "    #CREATING a dynamic dropdown box for user to choose vessel types from\n",
    "    vessel_options = port_covid['Vessel_Type'].unique()\n",
    "    vessel = st.selectbox('Which Vessel data would you like to see',options =vessel_options,index=0)\n",
    "    # index sets the default value at the index of the list that will be displayed if nothing is selected.\n",
    "    \n",
    "    \n",
    "    \n",
    "    #filetering the data according to user's choice in both options\n",
    "    df=port_covid[(port_covid['country'].isin(country)) & (port_covid['Vessel_Type']==vessel)]\n",
    "    #period_options = df['Period Label'].unique()\n",
    "    #period = st.selectbox('Which period data would you like to see',options=period_options,index=0)\n",
    "    \n",
    "    dp=df_combined2[(df_combined2['country'].isin(country)) & (df_combined2['Vessel_Type']==vessel)]\n",
    "    \n",
    "   # Accessing port_col vertical section of the webpage and plotting different port graphs\n",
    "    with port_col:\n",
    "        fig = px.line(df,x='date',y='Median time in port (days)',color='country',markers=True)\n",
    "        fig.update_layout(width=400)\n",
    "        st.write(fig)\n",
    "        \n",
    "        fig = px.line(df,x='date',y='Average age of vessels',color='country',markers=True)\n",
    "        fig.update_layout(width=400)\n",
    "        st.write(fig)\n",
    "        \n",
    "        fig = px.line(df,x='date',y='Average cargo carrying capacity (dwt) per vessel',color='country',markers=True)\n",
    "        fig.update_layout(width=400)\n",
    "        st.write(fig)\n",
    "        \n",
    "        fig = px.line(df,x='date',y='Average size (GT) of vessels',color='country',markers=True)\n",
    "        fig.update_layout(width=400)\n",
    "        st.write(fig)\n",
    "        \n",
    "        fig = px.line(dp,x='date',y='Number of port calls',color='country',markers=True)\n",
    "        fig.update_layout(width=400)\n",
    "        st.write(fig)\n",
    "        \n",
    "        # Accessing covid_col vertical section of the webpage and plotting different covid graphs next to port graphs\n",
    "    with covid_col:\n",
    "        fig = px.line(df,x='date',y='new_cases',color='country',markers=True)\n",
    "        fig.update_layout(width=400)\n",
    "        st.write(fig)\n",
    "        \n",
    "        fig = px.line(df,x='date',y='new_cases',color='country',markers=True)\n",
    "        fig.update_layout(width=400)\n",
    "        st.write(fig)\n",
    "        \n",
    "        fig = px.line(df,x='date',y='new_cases',color='country',markers=True)\n",
    "        fig.update_layout(width=400)\n",
    "        st.write(fig)\n",
    "        \n",
    "        fig = px.line(df,x='date',y='new_cases',color='country',markers=True)\n",
    "        fig.update_layout(width=400)\n",
    "        st.write(fig)\n",
    "        \n",
    "        fig = px.line(dp,x='date',y='new_cases',color='country',markers=True)\n",
    "        fig.update_layout(width=400)\n",
    "        st.write(fig)\n",
    "        \n",
    "        \n",
    "# to run on the webpage : go to cmd go to the file path where this file is located using command 'cd'\n",
    "#then type streamlit run port1.1.py"
   ]
  },
  {
   "cell_type": "markdown",
   "metadata": {},
   "source": [
    "LOCATION SPECIFIC"
   ]
  },
  {
   "cell_type": "markdown",
   "metadata": {},
   "source": [
    "EAST VS WEST"
   ]
  },
  {
   "cell_type": "code",
   "execution_count": 16,
   "metadata": {},
   "outputs": [
    {
     "name": "stdout",
     "output_type": "stream",
     "text": [
      "The pearson correlation data for the US is (Pearson's correlation coefficient r, P-value):\n"
     ]
    },
    {
     "data": {
      "text/plain": [
       "(0.45091164554555063, 0.36947250538584875)"
      ]
     },
     "execution_count": 16,
     "metadata": {},
     "output_type": "execute_result"
    }
   ],
   "source": [
    "from scipy import stats\n",
    "# df_combined = pd.merge(df_ports, df_new, on=['country','date'], how='outer')\n",
    "# df_combined = df_combined.drop(['Unnamed: 0', 'cumulative_cases'], axis=1)\n",
    "# df_combined\n",
    "# df_combined_world = df_combined_world[df_combined_world['Vessel_Type'] == 'All ships']\n",
    "\n",
    "port_covid = pd.merge(df_ports, df_new, on=['country','date'], how='outer')\n",
    "port_covid_us = port_covid[port_covid[\"country\"] == 'United States of America']\n",
    "port_covid_west_allships = port_covid_us[port_covid_us[\"Vessel_Type\"] == 'All ships']\n",
    "# port_covid_west_allships = port_covid_us[port_covid_us[\"Vessel_Type\"] == 'Container ships']\n",
    "port_covid_west_allships\n",
    "\n",
    "port_covid_west_allships=port_covid_west_allships.dropna(subset=['new_cases'])\n",
    "data1 = port_covid_west_allships['new_cases']\n",
    "data2 = port_covid_west_allships['Median time in port (days)']\n",
    "print(\"The pearson correlation data for the US is (Pearson's correlation coefficient r, P-value):\")\n",
    "stats.pearsonr(data1, data2)"
   ]
  },
  {
   "cell_type": "code",
   "execution_count": 44,
   "metadata": {},
   "outputs": [
    {
     "name": "stdout",
     "output_type": "stream",
     "text": [
      "The spearman correlation data for the US is (Spearman's correlation coefficient r, P-value):\n"
     ]
    },
    {
     "data": {
      "text/plain": [
       "SpearmanrResult(correlation=0.5428571428571429, pvalue=0.26570262390670557)"
      ]
     },
     "execution_count": 44,
     "metadata": {},
     "output_type": "execute_result"
    }
   ],
   "source": [
    "port_covid = pd.merge(df_ports, df_new, on=['country','date'], how='outer')\n",
    "port_covid_us = port_covid[port_covid[\"country\"] == 'United States of America']\n",
    "port_covid_west_allships = port_covid_us[port_covid_us[\"Vessel_Type\"] == 'All ships']\n",
    "# port_covid_west_allships = port_covid_us[port_covid_us[\"Vessel_Type\"] == 'Container ships']\n",
    "port_covid_west_allships\n",
    "\n",
    "port_covid_west_allships=port_covid_west_allships.dropna(subset=['new_cases'])\n",
    "data1 = port_covid_west_allships['new_cases']\n",
    "data2 = port_covid_west_allships['Median time in port (days)']\n",
    "print(\"The spearman correlation data for the US is (Spearman's correlation coefficient r, P-value):\")\n",
    "scipy.stats.spearmanr(data1, data2)"
   ]
  },
  {
   "cell_type": "code",
   "execution_count": null,
   "metadata": {},
   "outputs": [],
   "source": [
    "port_covid = pd.merge(df_ports, df_new, on=['country','date'], how='outer')\n",
    "port_covid_china = port_covid[port_covid[\"country\"] == 'China']\n",
    "port_covid_east_allships = port_covid_china[port_covid_china[\"Vessel_Type\"] == 'All ships']\n",
    "# port_covid_east_allships = port_covid_china[port_covid_china[\"Vessel_Type\"] == 'Container ships']\n",
    "port_covid_east_allships\n",
    "\n",
    "port_covid_east_allships=port_covid_east_allships.dropna(subset=['new_cases'])\n",
    "data1 = port_covid_east_allships['new_cases']\n",
    "data2 = port_covid_east_allships['Median time in port (days)']\n",
    "print(\"The pearson correlation data for China is (Pearson's correlation coefficient r, P-value):\")\n",
    "stats.pearsonr(data1, data2)"
   ]
  },
  {
   "cell_type": "code",
   "execution_count": 46,
   "metadata": {},
   "outputs": [
    {
     "name": "stdout",
     "output_type": "stream",
     "text": [
      "The spearman correlation data for China is (Spearman's correlation coefficient r, P-value):\n"
     ]
    },
    {
     "data": {
      "text/plain": [
       "SpearmanrResult(correlation=0.4285714285714286, pvalue=0.3965014577259474)"
      ]
     },
     "execution_count": 46,
     "metadata": {},
     "output_type": "execute_result"
    }
   ],
   "source": [
    "port_covid = pd.merge(df_ports, df_new, on=['country','date'], how='outer')\n",
    "port_covid_china = port_covid[port_covid[\"country\"] == 'China']\n",
    "port_covid_east_allships = port_covid_china[port_covid_china[\"Vessel_Type\"] == 'All ships']\n",
    "# port_covid_east_allships = port_covid_china[port_covid_china[\"Vessel_Type\"] == 'Container ships']\n",
    "port_covid_east_allships\n",
    "\n",
    "port_covid_east_allships=port_covid_east_allships.dropna(subset=['new_cases'])\n",
    "data1 = port_covid_east_allships['new_cases']\n",
    "data2 = port_covid_east_allships['Median time in port (days)']\n",
    "print(\"The spearman correlation data for China is (Spearman's correlation coefficient r, P-value):\")\n",
    "scipy.stats.spearmanr(data1, data2)"
   ]
  },
  {
   "cell_type": "code",
   "execution_count": null,
   "metadata": {},
   "outputs": [],
   "source": [
    "port_covid = pd.merge(df_ports, df_new, on=['country','date'], how='outer')\n",
    "port_covid_indo = port_covid[port_covid[\"country\"] == 'Indonesia']\n",
    "port_covid_indo_allships = port_covid_indo[port_covid_indo[\"Vessel_Type\"] == 'All ships']\n",
    "# port_covid_indo_allships = port_covid_indo[port_covid_china[\"Vessel_Type\"] == 'Container ships']\n",
    "port_covid_indo_allships\n",
    "\n",
    "port_covid_indo_allships=port_covid_indo_allships.dropna(subset=['new_cases'])\n",
    "data1 = port_covid_indo_allships['new_cases']\n",
    "data2 = port_covid_indo_allships['Median time in port (days)']\n",
    "print(\"The pearson correlation data for Indonesia is (Pearson's correlation coefficient r, P-value):\")\n",
    "stats.pearsonr(data1, data2)"
   ]
  },
  {
   "cell_type": "code",
   "execution_count": null,
   "metadata": {},
   "outputs": [],
   "source": [
    "port_covid = pd.merge(df_ports, df_new, on=['country','date'], how='outer')\n",
    "port_covid_nl = port_covid[port_covid[\"country\"] == 'Netherlands']\n",
    "port_covid_nl_allships = port_covid_nl[port_covid_nl[\"Vessel_Type\"] == 'All ships']\n",
    "# port_covid_indo_allships = port_covid_indo[port_covid_china[\"Vessel_Type\"] == 'Container ships']\n",
    "port_covid_nl_allships\n",
    "\n",
    "port_covid_nl_allships=port_covid_nl_allships.dropna(subset=['new_cases'])\n",
    "data1 = port_covid_nl_allships['new_cases']\n",
    "data2 = port_covid_nl_allships['Median time in port (days)']\n",
    "print(\"The pearson correlation data for Netherlands is (Pearson's correlation coefficient r, P-value):\")\n",
    "stats.pearsonr(data1, data2)"
   ]
  },
  {
   "cell_type": "code",
   "execution_count": 34,
   "metadata": {},
   "outputs": [
    {
     "name": "stdout",
     "output_type": "stream",
     "text": [
      "The pearson correlation data for the UK is (Pearson's correlation coefficient r, P-value):\n"
     ]
    },
    {
     "data": {
      "text/plain": [
       "(0.6294578795139975, 0.18051420694841622)"
      ]
     },
     "execution_count": 34,
     "metadata": {},
     "output_type": "execute_result"
    }
   ],
   "source": [
    "port_covid = pd.merge(df_ports, df_new, on=['country','date'], how='outer')\n",
    "port_covid_uk = port_covid[port_covid[\"country\"] == 'United Kingdom']\n",
    "port_covid_uk_allships = port_covid_uk[port_covid_uk[\"Vessel_Type\"] == 'All ships']\n",
    "port_covid_uk_allships\n",
    "\n",
    "port_covid_uk_allships=port_covid_uk_allships.dropna(subset=['new_cases'])\n",
    "data1 = port_covid_uk_allships['new_cases']\n",
    "data2 = port_covid_uk_allships['Median time in port (days)']\n",
    "print(\"The pearson correlation data for the UK is (Pearson's correlation coefficient r, P-value):\")\n",
    "stats.pearsonr(data1, data2)"
   ]
  },
  {
   "cell_type": "code",
   "execution_count": null,
   "metadata": {},
   "outputs": [],
   "source": [
    "port_covid = pd.merge(df_ports, df_new, on=['country','date'], how='outer')\n",
    "port_covid_jpn = port_covid[port_covid[\"country\"] == 'Japan']\n",
    "port_covid_jpn_allships = port_covid_jpn[port_covid_jpn[\"Vessel_Type\"] == 'All ships']\n",
    "# port_covid_indo_allships = port_covid_indo[port_covid_china[\"Vessel_Type\"] == 'Container ships']\n",
    "port_covid_jpn_allships\n",
    "\n",
    "port_covid_jpn_allships=port_covid_jpn_allships.dropna(subset=['new_cases'])\n",
    "data1 = port_covid_jpn_allships['new_cases']\n",
    "data2 = port_covid_jpn_allships['Median time in port (days)']\n",
    "print(\"The pearson correlation data for the Japan is (Pearson's correlation coefficient r, P-value):\")\n",
    "stats.pearsonr(data1, data2)"
   ]
  },
  {
   "cell_type": "code",
   "execution_count": 45,
   "metadata": {},
   "outputs": [
    {
     "name": "stdout",
     "output_type": "stream",
     "text": [
      "The spearman correlation data for the Japan is (Spearman's correlation coefficient r, P-value):\n"
     ]
    },
    {
     "data": {
      "text/plain": [
       "SpearmanrResult(correlation=0.7714285714285715, pvalue=0.07239650145772594)"
      ]
     },
     "execution_count": 45,
     "metadata": {},
     "output_type": "execute_result"
    }
   ],
   "source": [
    "port_covid = pd.merge(df_ports, df_new, on=['country','date'], how='outer')\n",
    "port_covid_jpn = port_covid[port_covid[\"country\"] == 'Japan']\n",
    "port_covid_jpn_allships = port_covid_jpn[port_covid_jpn[\"Vessel_Type\"] == 'All ships']\n",
    "# port_covid_indo_allships = port_covid_indo[port_covid_china[\"Vessel_Type\"] == 'Container ships']\n",
    "port_covid_jpn_allships\n",
    "\n",
    "port_covid_jpn_allships=port_covid_jpn_allships.dropna(subset=['new_cases'])\n",
    "data1 = port_covid_jpn_allships['new_cases']\n",
    "data2 = port_covid_jpn_allships['Median time in port (days)']\n",
    "print(\"The spearman correlation data for the Japan is (Spearman's correlation coefficient r, P-value):\")\n",
    "scipy.stats.spearmanr(data1, data2)"
   ]
  },
  {
   "cell_type": "code",
   "execution_count": 35,
   "metadata": {},
   "outputs": [
    {
     "data": {
      "text/html": [
       "<div>\n",
       "<style scoped>\n",
       "    .dataframe tbody tr th:only-of-type {\n",
       "        vertical-align: middle;\n",
       "    }\n",
       "\n",
       "    .dataframe tbody tr th {\n",
       "        vertical-align: top;\n",
       "    }\n",
       "\n",
       "    .dataframe thead th {\n",
       "        text-align: right;\n",
       "    }\n",
       "</style>\n",
       "<table border=\"1\" class=\"dataframe\">\n",
       "  <thead>\n",
       "    <tr style=\"text-align: right;\">\n",
       "      <th></th>\n",
       "      <th>country</th>\n",
       "      <th>Correlation Coeff.</th>\n",
       "      <th>P-value</th>\n",
       "    </tr>\n",
       "  </thead>\n",
       "  <tbody>\n",
       "    <tr>\n",
       "      <th>0</th>\n",
       "      <td>Australia</td>\n",
       "      <td>0.719339</td>\n",
       "      <td>0.107102</td>\n",
       "    </tr>\n",
       "    <tr>\n",
       "      <th>1</th>\n",
       "      <td>Canada</td>\n",
       "      <td>-0.252046</td>\n",
       "      <td>0.629937</td>\n",
       "    </tr>\n",
       "    <tr>\n",
       "      <th>2</th>\n",
       "      <td>China</td>\n",
       "      <td>0.433619</td>\n",
       "      <td>0.390337</td>\n",
       "    </tr>\n",
       "    <tr>\n",
       "      <th>3</th>\n",
       "      <td>Croatia</td>\n",
       "      <td>0.188726</td>\n",
       "      <td>0.720272</td>\n",
       "    </tr>\n",
       "    <tr>\n",
       "      <th>4</th>\n",
       "      <td>Denmark</td>\n",
       "      <td>-0.623310</td>\n",
       "      <td>0.186118</td>\n",
       "    </tr>\n",
       "    <tr>\n",
       "      <th>5</th>\n",
       "      <td>France</td>\n",
       "      <td>0.332295</td>\n",
       "      <td>0.519903</td>\n",
       "    </tr>\n",
       "    <tr>\n",
       "      <th>6</th>\n",
       "      <td>Germany</td>\n",
       "      <td>0.344195</td>\n",
       "      <td>0.504096</td>\n",
       "    </tr>\n",
       "    <tr>\n",
       "      <th>7</th>\n",
       "      <td>Greece</td>\n",
       "      <td>0.514415</td>\n",
       "      <td>0.296441</td>\n",
       "    </tr>\n",
       "    <tr>\n",
       "      <th>8</th>\n",
       "      <td>Indonesia</td>\n",
       "      <td>0.579634</td>\n",
       "      <td>0.227921</td>\n",
       "    </tr>\n",
       "    <tr>\n",
       "      <th>9</th>\n",
       "      <td>Italy</td>\n",
       "      <td>0.945915</td>\n",
       "      <td>0.004309</td>\n",
       "    </tr>\n",
       "    <tr>\n",
       "      <th>10</th>\n",
       "      <td>Japan</td>\n",
       "      <td>0.641628</td>\n",
       "      <td>0.169633</td>\n",
       "    </tr>\n",
       "    <tr>\n",
       "      <th>11</th>\n",
       "      <td>Netherlands</td>\n",
       "      <td>0.862706</td>\n",
       "      <td>0.026980</td>\n",
       "    </tr>\n",
       "    <tr>\n",
       "      <th>12</th>\n",
       "      <td>Norway</td>\n",
       "      <td>0.311161</td>\n",
       "      <td>0.548322</td>\n",
       "    </tr>\n",
       "    <tr>\n",
       "      <th>13</th>\n",
       "      <td>Russian Federation</td>\n",
       "      <td>0.665848</td>\n",
       "      <td>0.148831</td>\n",
       "    </tr>\n",
       "    <tr>\n",
       "      <th>14</th>\n",
       "      <td>Spain</td>\n",
       "      <td>0.367754</td>\n",
       "      <td>0.473237</td>\n",
       "    </tr>\n",
       "    <tr>\n",
       "      <th>15</th>\n",
       "      <td>Sweden</td>\n",
       "      <td>-0.761536</td>\n",
       "      <td>0.078518</td>\n",
       "    </tr>\n",
       "    <tr>\n",
       "      <th>16</th>\n",
       "      <td>Türkiye</td>\n",
       "      <td>0.730691</td>\n",
       "      <td>0.099025</td>\n",
       "    </tr>\n",
       "    <tr>\n",
       "      <th>17</th>\n",
       "      <td>United Kingdom</td>\n",
       "      <td>0.629458</td>\n",
       "      <td>0.180514</td>\n",
       "    </tr>\n",
       "    <tr>\n",
       "      <th>18</th>\n",
       "      <td>United States of America</td>\n",
       "      <td>0.450912</td>\n",
       "      <td>0.369473</td>\n",
       "    </tr>\n",
       "  </tbody>\n",
       "</table>\n",
       "</div>"
      ],
      "text/plain": [
       "                     country  Correlation Coeff.   P-value\n",
       "0                  Australia            0.719339  0.107102\n",
       "1                     Canada           -0.252046  0.629937\n",
       "2                      China            0.433619  0.390337\n",
       "3                    Croatia            0.188726  0.720272\n",
       "4                    Denmark           -0.623310  0.186118\n",
       "5                     France            0.332295  0.519903\n",
       "6                    Germany            0.344195  0.504096\n",
       "7                     Greece            0.514415  0.296441\n",
       "8                  Indonesia            0.579634  0.227921\n",
       "9                      Italy            0.945915  0.004309\n",
       "10                     Japan            0.641628  0.169633\n",
       "11               Netherlands            0.862706  0.026980\n",
       "12                    Norway            0.311161  0.548322\n",
       "13        Russian Federation            0.665848  0.148831\n",
       "14                     Spain            0.367754  0.473237\n",
       "15                    Sweden           -0.761536  0.078518\n",
       "16                   Türkiye            0.730691  0.099025\n",
       "17            United Kingdom            0.629458  0.180514\n",
       "18  United States of America            0.450912  0.369473"
      ]
     },
     "execution_count": 35,
     "metadata": {},
     "output_type": "execute_result"
    }
   ],
   "source": [
    "port_covid = pd.merge(df_ports, df_new, on=['country','date'], how='outer')\n",
    "port_covid_new = port_covid.dropna(subset=['new_cases'])\n",
    "port_covid_new = port_covid_new.dropna(subset=['Vessel_Type'])\n",
    "port_covid_new = port_covid_new[port_covid_new['Vessel_Type'] == 'All ships']\n",
    "port_covid_new\n",
    "\n",
    "# unq_country = port_covid_new['country'].unique()\n",
    "# unq_country\n",
    "\n",
    "port_au = port_covid_new[port_covid_new[\"country\"] == 'Australia']\n",
    "cc_au = stats.pearsonr(port_au['new_cases'], port_au['Median time in port (days)'])[0]\n",
    "pv_au = stats.pearsonr(port_au['new_cases'], port_au['Median time in port (days)'])[1]\n",
    "\n",
    "port_ca = port_covid_new[port_covid_new[\"country\"] == 'Canada']\n",
    "cc_ca = stats.pearsonr(port_ca['new_cases'], port_ca['Median time in port (days)'])[0]\n",
    "pv_ca = stats.pearsonr(port_ca['new_cases'], port_ca['Median time in port (days)'])[1]\n",
    "\n",
    "port_ch = port_covid_new[port_covid_new[\"country\"] == 'China']\n",
    "cc_ch = stats.pearsonr(port_ch['new_cases'], port_ch['Median time in port (days)'])[0]\n",
    "pv_ch = stats.pearsonr(port_ch['new_cases'], port_ch['Median time in port (days)'])[1]\n",
    "\n",
    "port_cr = port_covid_new[port_covid_new[\"country\"] == 'Croatia']\n",
    "cc_cr = stats.pearsonr(port_cr['new_cases'], port_cr['Median time in port (days)'])[0]\n",
    "pv_cr = stats.pearsonr(port_cr['new_cases'], port_cr['Median time in port (days)'])[1]\n",
    "\n",
    "port_dn = port_covid_new[port_covid_new[\"country\"] == 'Denmark']\n",
    "cc_dn = stats.pearsonr(port_dn['new_cases'], port_dn['Median time in port (days)'])[0]\n",
    "pv_dn = stats.pearsonr(port_dn['new_cases'], port_dn['Median time in port (days)'])[1]\n",
    "\n",
    "port_fr = port_covid_new[port_covid_new[\"country\"] == 'France']\n",
    "cc_fr = stats.pearsonr(port_fr['new_cases'], port_fr['Median time in port (days)'])[0]\n",
    "pv_fr = stats.pearsonr(port_fr['new_cases'], port_fr['Median time in port (days)'])[1]\n",
    "\n",
    "port_ge = port_covid_new[port_covid_new[\"country\"] == 'Germany']\n",
    "cc_ge = stats.pearsonr(port_ge['new_cases'], port_ge['Median time in port (days)'])[0]\n",
    "pv_ge = stats.pearsonr(port_ge['new_cases'], port_ge['Median time in port (days)'])[1]\n",
    "\n",
    "port_gr = port_covid_new[port_covid_new[\"country\"] == 'Greece']\n",
    "cc_gr = stats.pearsonr(port_gr['new_cases'], port_gr['Median time in port (days)'])[0]\n",
    "pv_gr = stats.pearsonr(port_gr['new_cases'], port_gr['Median time in port (days)'])[1]\n",
    "\n",
    "port_id = port_covid_new[port_covid_new[\"country\"] == 'Indonesia']\n",
    "cc_id = stats.pearsonr(port_id['new_cases'], port_id['Median time in port (days)'])[0]\n",
    "pv_id = stats.pearsonr(port_id['new_cases'], port_id['Median time in port (days)'])[1]\n",
    "\n",
    "port_it = port_covid_new[port_covid_new[\"country\"] == 'Italy']\n",
    "cc_it = stats.pearsonr(port_it['new_cases'], port_it['Median time in port (days)'])[0]\n",
    "pv_it = stats.pearsonr(port_it['new_cases'], port_it['Median time in port (days)'])[1]\n",
    "\n",
    "port_jp = port_covid_new[port_covid_new[\"country\"] == 'Japan']\n",
    "cc_jp = stats.pearsonr(port_jp['new_cases'], port_jp['Median time in port (days)'])[0]\n",
    "pv_jp = stats.pearsonr(port_jp['new_cases'], port_jp['Median time in port (days)'])[1]\n",
    "\n",
    "port_nl = port_covid_new[port_covid_new[\"country\"] == 'Netherlands']\n",
    "cc_nl = stats.pearsonr(port_nl['new_cases'], port_nl['Median time in port (days)'])[0]\n",
    "pv_nl = stats.pearsonr(port_nl['new_cases'], port_nl['Median time in port (days)'])[1]\n",
    "\n",
    "port_no = port_covid_new[port_covid_new[\"country\"] == 'Norway']\n",
    "cc_no = stats.pearsonr(port_no['new_cases'], port_no['Median time in port (days)'])[0]\n",
    "pv_no = stats.pearsonr(port_no['new_cases'], port_no['Median time in port (days)'])[1]\n",
    "\n",
    "port_ru = port_covid_new[port_covid_new[\"country\"] == 'Russian Federation']\n",
    "cc_ru = stats.pearsonr(port_ru['new_cases'], port_ru['Median time in port (days)'])[0]\n",
    "pv_ru = stats.pearsonr(port_ru['new_cases'], port_ru['Median time in port (days)'])[1]\n",
    "\n",
    "port_sp = port_covid_new[port_covid_new[\"country\"] == 'Spain']\n",
    "cc_sp = stats.pearsonr(port_sp['new_cases'], port_sp['Median time in port (days)'])[0]\n",
    "pv_sp = stats.pearsonr(port_sp['new_cases'], port_sp['Median time in port (days)'])[1]\n",
    "\n",
    "port_sw = port_covid_new[port_covid_new[\"country\"] == 'Sweden']\n",
    "cc_sw = stats.pearsonr(port_sw['new_cases'], port_sw['Median time in port (days)'])[0]\n",
    "pv_sw = stats.pearsonr(port_sw['new_cases'], port_sw['Median time in port (days)'])[1]\n",
    "\n",
    "port_tr = port_covid_new[port_covid_new[\"country\"] == 'Türkiye']\n",
    "cc_tr = stats.pearsonr(port_tr['new_cases'], port_tr['Median time in port (days)'])[0]\n",
    "pv_tr = stats.pearsonr(port_tr['new_cases'], port_tr['Median time in port (days)'])[1]\n",
    "\n",
    "port_uk = port_covid_new[port_covid_new[\"country\"] == 'United Kingdom']\n",
    "cc_uk = stats.pearsonr(port_uk['new_cases'], port_uk['Median time in port (days)'])[0]\n",
    "pv_uk = stats.pearsonr(port_uk['new_cases'], port_uk['Median time in port (days)'])[1]\n",
    "\n",
    "port_us = port_covid_new[port_covid_new[\"country\"] == 'United States of America']\n",
    "cc_us = stats.pearsonr(port_us['new_cases'], port_us['Median time in port (days)'])[0]\n",
    "pv_us = stats.pearsonr(port_us['new_cases'], port_us['Median time in port (days)'])[1]\n",
    "\n",
    "# initialize data of lists.\n",
    "data_pearson = {'country': ['Australia', 'Canada', 'China', 'Croatia', 'Denmark', 'France',\n",
    "                            'Germany', 'Greece', 'Indonesia', 'Italy', 'Japan', 'Netherlands',\n",
    "                            'Norway', 'Russian Federation', 'Spain', 'Sweden', 'Türkiye', 'United Kingdom',\n",
    "                            'United States of America'],\n",
    "                'Correlation Coeff.': [cc_au, cc_ca, cc_ch, cc_cr, cc_dn, cc_fr,\n",
    "                                        cc_ge, cc_gr, cc_id, cc_it, cc_jp, cc_nl,\n",
    "                                        cc_no, cc_ru, cc_sp, cc_sw, cc_tr, cc_uk,\n",
    "                                        cc_us],\n",
    "                'P-value': [pv_au, pv_ca, pv_ch, pv_cr, pv_dn, pv_fr,\n",
    "                            pv_ge, pv_gr, pv_id, pv_it, pv_jp, pv_nl,\n",
    "                            pv_no, pv_ru, pv_sp, pv_sw, pv_tr, pv_uk,\n",
    "                            pv_us]}\n",
    "  \n",
    "# Create DataFrame\n",
    "pearson_covid_port = pd.DataFrame(data_pearson)\n",
    "  \n",
    "# Print the output.\n",
    "pearson_covid_port\n",
    "\n",
    "# port_covid_new.to_csv (r'C:\\Users\\user\\OneDrive - Delft University of Technology\\Desktop\\TIL\\Q1\\TIL6022\\Final Project\\correlation data.csv')"
   ]
  },
  {
   "cell_type": "code",
   "execution_count": 48,
   "metadata": {},
   "outputs": [
    {
     "data": {
      "text/html": [
       "<div>\n",
       "<style scoped>\n",
       "    .dataframe tbody tr th:only-of-type {\n",
       "        vertical-align: middle;\n",
       "    }\n",
       "\n",
       "    .dataframe tbody tr th {\n",
       "        vertical-align: top;\n",
       "    }\n",
       "\n",
       "    .dataframe thead th {\n",
       "        text-align: right;\n",
       "    }\n",
       "</style>\n",
       "<table border=\"1\" class=\"dataframe\">\n",
       "  <thead>\n",
       "    <tr style=\"text-align: right;\">\n",
       "      <th></th>\n",
       "      <th>country</th>\n",
       "      <th>ISO_A3</th>\n",
       "      <th>geometry</th>\n",
       "      <th>Correlation Coeff.</th>\n",
       "      <th>P-value</th>\n",
       "    </tr>\n",
       "  </thead>\n",
       "  <tbody>\n",
       "    <tr>\n",
       "      <th>0</th>\n",
       "      <td>Australia</td>\n",
       "      <td>AUS</td>\n",
       "      <td>MULTIPOLYGON (((158.86573 -54.74993, 158.83823...</td>\n",
       "      <td>0.719339</td>\n",
       "      <td>0.107102</td>\n",
       "    </tr>\n",
       "    <tr>\n",
       "      <th>1</th>\n",
       "      <td>Canada</td>\n",
       "      <td>CAN</td>\n",
       "      <td>MULTIPOLYGON (((-65.61059 43.42817, -65.62881 ...</td>\n",
       "      <td>-0.252046</td>\n",
       "      <td>0.629937</td>\n",
       "    </tr>\n",
       "    <tr>\n",
       "      <th>2</th>\n",
       "      <td>China</td>\n",
       "      <td>CHN</td>\n",
       "      <td>MULTIPOLYGON (((111.20460 15.77924, 111.19654 ...</td>\n",
       "      <td>0.433619</td>\n",
       "      <td>0.390337</td>\n",
       "    </tr>\n",
       "    <tr>\n",
       "      <th>3</th>\n",
       "      <td>Germany</td>\n",
       "      <td>DEU</td>\n",
       "      <td>MULTIPOLYGON (((6.74220 53.57836, 6.74952 53.5...</td>\n",
       "      <td>0.344195</td>\n",
       "      <td>0.504096</td>\n",
       "    </tr>\n",
       "    <tr>\n",
       "      <th>4</th>\n",
       "      <td>Denmark</td>\n",
       "      <td>DNK</td>\n",
       "      <td>MULTIPOLYGON (((11.25603 54.95458, 11.30348 54...</td>\n",
       "      <td>-0.623310</td>\n",
       "      <td>0.186118</td>\n",
       "    </tr>\n",
       "  </tbody>\n",
       "</table>\n",
       "</div>"
      ],
      "text/plain": [
       "     country ISO_A3                                           geometry  \\\n",
       "0  Australia    AUS  MULTIPOLYGON (((158.86573 -54.74993, 158.83823...   \n",
       "1     Canada    CAN  MULTIPOLYGON (((-65.61059 43.42817, -65.62881 ...   \n",
       "2      China    CHN  MULTIPOLYGON (((111.20460 15.77924, 111.19654 ...   \n",
       "3    Germany    DEU  MULTIPOLYGON (((6.74220 53.57836, 6.74952 53.5...   \n",
       "4    Denmark    DNK  MULTIPOLYGON (((11.25603 54.95458, 11.30348 54...   \n",
       "\n",
       "   Correlation Coeff.   P-value  \n",
       "0            0.719339  0.107102  \n",
       "1           -0.252046  0.629937  \n",
       "2            0.433619  0.390337  \n",
       "3            0.344195  0.504096  \n",
       "4           -0.623310  0.186118  "
      ]
     },
     "execution_count": 48,
     "metadata": {},
     "output_type": "execute_result"
    }
   ],
   "source": [
    "geo_pearson = pd.merge(df_geo, pearson_covid_port, on = 'country')\n",
    "geo_pearson.head()"
   ]
  },
  {
   "cell_type": "code",
   "execution_count": 37,
   "metadata": {},
   "outputs": [
    {
     "data": {
      "application/vnd.plotly.v1+json": {
       "config": {
        "plotlyServerURL": "https://plot.ly"
       },
       "data": [
        {
         "coloraxis": "coloraxis",
         "customdata": [
          [
           0.7193393821936457
          ],
          [
           -0.25204611558812223
          ],
          [
           0.4336194452559098
          ],
          [
           0.34419484417136176
          ],
          [
           -0.6233097852216135
          ],
          [
           0.3677542303643762
          ],
          [
           0.33229535403524274
          ],
          [
           0.6294578795139975
          ],
          [
           0.5144149698756524
          ],
          [
           0.18872575299284786
          ],
          [
           0.5796336610430461
          ],
          [
           0.9459149871548165
          ],
          [
           0.6416277642089109
          ],
          [
           0.8627064705209633
          ],
          [
           0.3111607211609732
          ],
          [
           -0.761535741499157
          ],
          [
           0.45091164554555063
          ]
         ],
         "geo": "geo",
         "hovertemplate": "<b>%{hovertext}</b><br><br>ISO_A3=%{location}<br>Correlation Coeff.=%{customdata[0]}<br>P-value=%{z}<extra></extra>",
         "hovertext": [
          "Australia",
          "Canada",
          "China",
          "Germany",
          "Denmark",
          "Spain",
          "France",
          "United Kingdom",
          "Greece",
          "Croatia",
          "Indonesia",
          "Italy",
          "Japan",
          "Netherlands",
          "Norway",
          "Sweden",
          "United States of America"
         ],
         "locations": [
          "AUS",
          "CAN",
          "CHN",
          "DEU",
          "DNK",
          "ESP",
          "FRA",
          "GBR",
          "GRC",
          "HRV",
          "IDN",
          "ITA",
          "JPN",
          "NLD",
          "NOR",
          "SWE",
          "USA"
         ],
         "name": "",
         "type": "choropleth",
         "z": [
          0.10710170148831527,
          0.6299367242082007,
          0.3903366587135777,
          0.5040961309560029,
          0.18611795030591638,
          0.4732367791276091,
          0.5199030290573243,
          0.18051420694841622,
          0.29644050006035033,
          0.7202723317568389,
          0.22792077053085105,
          0.004308678489801574,
          0.16963299780473085,
          0.026980311754594876,
          0.5483223634780292,
          0.07851764468938431,
          0.36947250538584875
         ]
        }
       ],
       "layout": {
        "coloraxis": {
         "cmax": 1,
         "cmin": 0,
         "colorbar": {
          "title": {
           "text": "P-value"
          }
         },
         "colorscale": [
          [
           0,
           "#0d0887"
          ],
          [
           0.1111111111111111,
           "#46039f"
          ],
          [
           0.2222222222222222,
           "#7201a8"
          ],
          [
           0.3333333333333333,
           "#9c179e"
          ],
          [
           0.4444444444444444,
           "#bd3786"
          ],
          [
           0.5555555555555556,
           "#d8576b"
          ],
          [
           0.6666666666666666,
           "#ed7953"
          ],
          [
           0.7777777777777778,
           "#fb9f3a"
          ],
          [
           0.8888888888888888,
           "#fdca26"
          ],
          [
           1,
           "#f0f921"
          ]
         ]
        },
        "geo": {
         "center": {},
         "domain": {
          "x": [
           0,
           1
          ],
          "y": [
           0,
           1
          ]
         }
        },
        "legend": {
         "tracegroupgap": 0
        },
        "margin": {
         "t": 60
        },
        "template": {
         "data": {
          "bar": [
           {
            "error_x": {
             "color": "#2a3f5f"
            },
            "error_y": {
             "color": "#2a3f5f"
            },
            "marker": {
             "line": {
              "color": "#E5ECF6",
              "width": 0.5
             },
             "pattern": {
              "fillmode": "overlay",
              "size": 10,
              "solidity": 0.2
             }
            },
            "type": "bar"
           }
          ],
          "barpolar": [
           {
            "marker": {
             "line": {
              "color": "#E5ECF6",
              "width": 0.5
             },
             "pattern": {
              "fillmode": "overlay",
              "size": 10,
              "solidity": 0.2
             }
            },
            "type": "barpolar"
           }
          ],
          "carpet": [
           {
            "aaxis": {
             "endlinecolor": "#2a3f5f",
             "gridcolor": "white",
             "linecolor": "white",
             "minorgridcolor": "white",
             "startlinecolor": "#2a3f5f"
            },
            "baxis": {
             "endlinecolor": "#2a3f5f",
             "gridcolor": "white",
             "linecolor": "white",
             "minorgridcolor": "white",
             "startlinecolor": "#2a3f5f"
            },
            "type": "carpet"
           }
          ],
          "choropleth": [
           {
            "colorbar": {
             "outlinewidth": 0,
             "ticks": ""
            },
            "type": "choropleth"
           }
          ],
          "contour": [
           {
            "colorbar": {
             "outlinewidth": 0,
             "ticks": ""
            },
            "colorscale": [
             [
              0,
              "#0d0887"
             ],
             [
              0.1111111111111111,
              "#46039f"
             ],
             [
              0.2222222222222222,
              "#7201a8"
             ],
             [
              0.3333333333333333,
              "#9c179e"
             ],
             [
              0.4444444444444444,
              "#bd3786"
             ],
             [
              0.5555555555555556,
              "#d8576b"
             ],
             [
              0.6666666666666666,
              "#ed7953"
             ],
             [
              0.7777777777777778,
              "#fb9f3a"
             ],
             [
              0.8888888888888888,
              "#fdca26"
             ],
             [
              1,
              "#f0f921"
             ]
            ],
            "type": "contour"
           }
          ],
          "contourcarpet": [
           {
            "colorbar": {
             "outlinewidth": 0,
             "ticks": ""
            },
            "type": "contourcarpet"
           }
          ],
          "heatmap": [
           {
            "colorbar": {
             "outlinewidth": 0,
             "ticks": ""
            },
            "colorscale": [
             [
              0,
              "#0d0887"
             ],
             [
              0.1111111111111111,
              "#46039f"
             ],
             [
              0.2222222222222222,
              "#7201a8"
             ],
             [
              0.3333333333333333,
              "#9c179e"
             ],
             [
              0.4444444444444444,
              "#bd3786"
             ],
             [
              0.5555555555555556,
              "#d8576b"
             ],
             [
              0.6666666666666666,
              "#ed7953"
             ],
             [
              0.7777777777777778,
              "#fb9f3a"
             ],
             [
              0.8888888888888888,
              "#fdca26"
             ],
             [
              1,
              "#f0f921"
             ]
            ],
            "type": "heatmap"
           }
          ],
          "heatmapgl": [
           {
            "colorbar": {
             "outlinewidth": 0,
             "ticks": ""
            },
            "colorscale": [
             [
              0,
              "#0d0887"
             ],
             [
              0.1111111111111111,
              "#46039f"
             ],
             [
              0.2222222222222222,
              "#7201a8"
             ],
             [
              0.3333333333333333,
              "#9c179e"
             ],
             [
              0.4444444444444444,
              "#bd3786"
             ],
             [
              0.5555555555555556,
              "#d8576b"
             ],
             [
              0.6666666666666666,
              "#ed7953"
             ],
             [
              0.7777777777777778,
              "#fb9f3a"
             ],
             [
              0.8888888888888888,
              "#fdca26"
             ],
             [
              1,
              "#f0f921"
             ]
            ],
            "type": "heatmapgl"
           }
          ],
          "histogram": [
           {
            "marker": {
             "pattern": {
              "fillmode": "overlay",
              "size": 10,
              "solidity": 0.2
             }
            },
            "type": "histogram"
           }
          ],
          "histogram2d": [
           {
            "colorbar": {
             "outlinewidth": 0,
             "ticks": ""
            },
            "colorscale": [
             [
              0,
              "#0d0887"
             ],
             [
              0.1111111111111111,
              "#46039f"
             ],
             [
              0.2222222222222222,
              "#7201a8"
             ],
             [
              0.3333333333333333,
              "#9c179e"
             ],
             [
              0.4444444444444444,
              "#bd3786"
             ],
             [
              0.5555555555555556,
              "#d8576b"
             ],
             [
              0.6666666666666666,
              "#ed7953"
             ],
             [
              0.7777777777777778,
              "#fb9f3a"
             ],
             [
              0.8888888888888888,
              "#fdca26"
             ],
             [
              1,
              "#f0f921"
             ]
            ],
            "type": "histogram2d"
           }
          ],
          "histogram2dcontour": [
           {
            "colorbar": {
             "outlinewidth": 0,
             "ticks": ""
            },
            "colorscale": [
             [
              0,
              "#0d0887"
             ],
             [
              0.1111111111111111,
              "#46039f"
             ],
             [
              0.2222222222222222,
              "#7201a8"
             ],
             [
              0.3333333333333333,
              "#9c179e"
             ],
             [
              0.4444444444444444,
              "#bd3786"
             ],
             [
              0.5555555555555556,
              "#d8576b"
             ],
             [
              0.6666666666666666,
              "#ed7953"
             ],
             [
              0.7777777777777778,
              "#fb9f3a"
             ],
             [
              0.8888888888888888,
              "#fdca26"
             ],
             [
              1,
              "#f0f921"
             ]
            ],
            "type": "histogram2dcontour"
           }
          ],
          "mesh3d": [
           {
            "colorbar": {
             "outlinewidth": 0,
             "ticks": ""
            },
            "type": "mesh3d"
           }
          ],
          "parcoords": [
           {
            "line": {
             "colorbar": {
              "outlinewidth": 0,
              "ticks": ""
             }
            },
            "type": "parcoords"
           }
          ],
          "pie": [
           {
            "automargin": true,
            "type": "pie"
           }
          ],
          "scatter": [
           {
            "fillpattern": {
             "fillmode": "overlay",
             "size": 10,
             "solidity": 0.2
            },
            "type": "scatter"
           }
          ],
          "scatter3d": [
           {
            "line": {
             "colorbar": {
              "outlinewidth": 0,
              "ticks": ""
             }
            },
            "marker": {
             "colorbar": {
              "outlinewidth": 0,
              "ticks": ""
             }
            },
            "type": "scatter3d"
           }
          ],
          "scattercarpet": [
           {
            "marker": {
             "colorbar": {
              "outlinewidth": 0,
              "ticks": ""
             }
            },
            "type": "scattercarpet"
           }
          ],
          "scattergeo": [
           {
            "marker": {
             "colorbar": {
              "outlinewidth": 0,
              "ticks": ""
             }
            },
            "type": "scattergeo"
           }
          ],
          "scattergl": [
           {
            "marker": {
             "colorbar": {
              "outlinewidth": 0,
              "ticks": ""
             }
            },
            "type": "scattergl"
           }
          ],
          "scattermapbox": [
           {
            "marker": {
             "colorbar": {
              "outlinewidth": 0,
              "ticks": ""
             }
            },
            "type": "scattermapbox"
           }
          ],
          "scatterpolar": [
           {
            "marker": {
             "colorbar": {
              "outlinewidth": 0,
              "ticks": ""
             }
            },
            "type": "scatterpolar"
           }
          ],
          "scatterpolargl": [
           {
            "marker": {
             "colorbar": {
              "outlinewidth": 0,
              "ticks": ""
             }
            },
            "type": "scatterpolargl"
           }
          ],
          "scatterternary": [
           {
            "marker": {
             "colorbar": {
              "outlinewidth": 0,
              "ticks": ""
             }
            },
            "type": "scatterternary"
           }
          ],
          "surface": [
           {
            "colorbar": {
             "outlinewidth": 0,
             "ticks": ""
            },
            "colorscale": [
             [
              0,
              "#0d0887"
             ],
             [
              0.1111111111111111,
              "#46039f"
             ],
             [
              0.2222222222222222,
              "#7201a8"
             ],
             [
              0.3333333333333333,
              "#9c179e"
             ],
             [
              0.4444444444444444,
              "#bd3786"
             ],
             [
              0.5555555555555556,
              "#d8576b"
             ],
             [
              0.6666666666666666,
              "#ed7953"
             ],
             [
              0.7777777777777778,
              "#fb9f3a"
             ],
             [
              0.8888888888888888,
              "#fdca26"
             ],
             [
              1,
              "#f0f921"
             ]
            ],
            "type": "surface"
           }
          ],
          "table": [
           {
            "cells": {
             "fill": {
              "color": "#EBF0F8"
             },
             "line": {
              "color": "white"
             }
            },
            "header": {
             "fill": {
              "color": "#C8D4E3"
             },
             "line": {
              "color": "white"
             }
            },
            "type": "table"
           }
          ]
         },
         "layout": {
          "annotationdefaults": {
           "arrowcolor": "#2a3f5f",
           "arrowhead": 0,
           "arrowwidth": 1
          },
          "autotypenumbers": "strict",
          "coloraxis": {
           "colorbar": {
            "outlinewidth": 0,
            "ticks": ""
           }
          },
          "colorscale": {
           "diverging": [
            [
             0,
             "#8e0152"
            ],
            [
             0.1,
             "#c51b7d"
            ],
            [
             0.2,
             "#de77ae"
            ],
            [
             0.3,
             "#f1b6da"
            ],
            [
             0.4,
             "#fde0ef"
            ],
            [
             0.5,
             "#f7f7f7"
            ],
            [
             0.6,
             "#e6f5d0"
            ],
            [
             0.7,
             "#b8e186"
            ],
            [
             0.8,
             "#7fbc41"
            ],
            [
             0.9,
             "#4d9221"
            ],
            [
             1,
             "#276419"
            ]
           ],
           "sequential": [
            [
             0,
             "#0d0887"
            ],
            [
             0.1111111111111111,
             "#46039f"
            ],
            [
             0.2222222222222222,
             "#7201a8"
            ],
            [
             0.3333333333333333,
             "#9c179e"
            ],
            [
             0.4444444444444444,
             "#bd3786"
            ],
            [
             0.5555555555555556,
             "#d8576b"
            ],
            [
             0.6666666666666666,
             "#ed7953"
            ],
            [
             0.7777777777777778,
             "#fb9f3a"
            ],
            [
             0.8888888888888888,
             "#fdca26"
            ],
            [
             1,
             "#f0f921"
            ]
           ],
           "sequentialminus": [
            [
             0,
             "#0d0887"
            ],
            [
             0.1111111111111111,
             "#46039f"
            ],
            [
             0.2222222222222222,
             "#7201a8"
            ],
            [
             0.3333333333333333,
             "#9c179e"
            ],
            [
             0.4444444444444444,
             "#bd3786"
            ],
            [
             0.5555555555555556,
             "#d8576b"
            ],
            [
             0.6666666666666666,
             "#ed7953"
            ],
            [
             0.7777777777777778,
             "#fb9f3a"
            ],
            [
             0.8888888888888888,
             "#fdca26"
            ],
            [
             1,
             "#f0f921"
            ]
           ]
          },
          "colorway": [
           "#636efa",
           "#EF553B",
           "#00cc96",
           "#ab63fa",
           "#FFA15A",
           "#19d3f3",
           "#FF6692",
           "#B6E880",
           "#FF97FF",
           "#FECB52"
          ],
          "font": {
           "color": "#2a3f5f"
          },
          "geo": {
           "bgcolor": "white",
           "lakecolor": "white",
           "landcolor": "#E5ECF6",
           "showlakes": true,
           "showland": true,
           "subunitcolor": "white"
          },
          "hoverlabel": {
           "align": "left"
          },
          "hovermode": "closest",
          "mapbox": {
           "style": "light"
          },
          "paper_bgcolor": "white",
          "plot_bgcolor": "#E5ECF6",
          "polar": {
           "angularaxis": {
            "gridcolor": "white",
            "linecolor": "white",
            "ticks": ""
           },
           "bgcolor": "#E5ECF6",
           "radialaxis": {
            "gridcolor": "white",
            "linecolor": "white",
            "ticks": ""
           }
          },
          "scene": {
           "xaxis": {
            "backgroundcolor": "#E5ECF6",
            "gridcolor": "white",
            "gridwidth": 2,
            "linecolor": "white",
            "showbackground": true,
            "ticks": "",
            "zerolinecolor": "white"
           },
           "yaxis": {
            "backgroundcolor": "#E5ECF6",
            "gridcolor": "white",
            "gridwidth": 2,
            "linecolor": "white",
            "showbackground": true,
            "ticks": "",
            "zerolinecolor": "white"
           },
           "zaxis": {
            "backgroundcolor": "#E5ECF6",
            "gridcolor": "white",
            "gridwidth": 2,
            "linecolor": "white",
            "showbackground": true,
            "ticks": "",
            "zerolinecolor": "white"
           }
          },
          "shapedefaults": {
           "line": {
            "color": "#2a3f5f"
           }
          },
          "ternary": {
           "aaxis": {
            "gridcolor": "white",
            "linecolor": "white",
            "ticks": ""
           },
           "baxis": {
            "gridcolor": "white",
            "linecolor": "white",
            "ticks": ""
           },
           "bgcolor": "#E5ECF6",
           "caxis": {
            "gridcolor": "white",
            "linecolor": "white",
            "ticks": ""
           }
          },
          "title": {
           "x": 0.05
          },
          "xaxis": {
           "automargin": true,
           "gridcolor": "white",
           "linecolor": "white",
           "ticks": "",
           "title": {
            "standoff": 15
           },
           "zerolinecolor": "white",
           "zerolinewidth": 2
          },
          "yaxis": {
           "automargin": true,
           "gridcolor": "white",
           "linecolor": "white",
           "ticks": "",
           "title": {
            "standoff": 15
           },
           "zerolinecolor": "white",
           "zerolinewidth": 2
          }
         }
        }
       }
      },
      "text/html": [
       "<div>                            <div id=\"e68dc720-b0d9-4404-a1f2-64c7f7ef129a\" class=\"plotly-graph-div\" style=\"height:525px; width:100%;\"></div>            <script type=\"text/javascript\">                require([\"plotly\"], function(Plotly) {                    window.PLOTLYENV=window.PLOTLYENV || {};                                    if (document.getElementById(\"e68dc720-b0d9-4404-a1f2-64c7f7ef129a\")) {                    Plotly.newPlot(                        \"e68dc720-b0d9-4404-a1f2-64c7f7ef129a\",                        [{\"coloraxis\":\"coloraxis\",\"customdata\":[[0.7193393821936457],[-0.25204611558812223],[0.4336194452559098],[0.34419484417136176],[-0.6233097852216135],[0.3677542303643762],[0.33229535403524274],[0.6294578795139975],[0.5144149698756524],[0.18872575299284786],[0.5796336610430461],[0.9459149871548165],[0.6416277642089109],[0.8627064705209633],[0.3111607211609732],[-0.761535741499157],[0.45091164554555063]],\"geo\":\"geo\",\"hovertemplate\":\"<b>%{hovertext}</b><br><br>ISO_A3=%{location}<br>Correlation Coeff.=%{customdata[0]}<br>P-value=%{z}<extra></extra>\",\"hovertext\":[\"Australia\",\"Canada\",\"China\",\"Germany\",\"Denmark\",\"Spain\",\"France\",\"United Kingdom\",\"Greece\",\"Croatia\",\"Indonesia\",\"Italy\",\"Japan\",\"Netherlands\",\"Norway\",\"Sweden\",\"United States of America\"],\"locations\":[\"AUS\",\"CAN\",\"CHN\",\"DEU\",\"DNK\",\"ESP\",\"FRA\",\"GBR\",\"GRC\",\"HRV\",\"IDN\",\"ITA\",\"JPN\",\"NLD\",\"NOR\",\"SWE\",\"USA\"],\"name\":\"\",\"z\":[0.10710170148831527,0.6299367242082007,0.3903366587135777,0.5040961309560029,0.18611795030591638,0.4732367791276091,0.5199030290573243,0.18051420694841622,0.29644050006035033,0.7202723317568389,0.22792077053085105,0.004308678489801574,0.16963299780473085,0.026980311754594876,0.5483223634780292,0.07851764468938431,0.36947250538584875],\"type\":\"choropleth\"}],                        {\"template\":{\"data\":{\"histogram2dcontour\":[{\"type\":\"histogram2dcontour\",\"colorbar\":{\"outlinewidth\":0,\"ticks\":\"\"},\"colorscale\":[[0.0,\"#0d0887\"],[0.1111111111111111,\"#46039f\"],[0.2222222222222222,\"#7201a8\"],[0.3333333333333333,\"#9c179e\"],[0.4444444444444444,\"#bd3786\"],[0.5555555555555556,\"#d8576b\"],[0.6666666666666666,\"#ed7953\"],[0.7777777777777778,\"#fb9f3a\"],[0.8888888888888888,\"#fdca26\"],[1.0,\"#f0f921\"]]}],\"choropleth\":[{\"type\":\"choropleth\",\"colorbar\":{\"outlinewidth\":0,\"ticks\":\"\"}}],\"histogram2d\":[{\"type\":\"histogram2d\",\"colorbar\":{\"outlinewidth\":0,\"ticks\":\"\"},\"colorscale\":[[0.0,\"#0d0887\"],[0.1111111111111111,\"#46039f\"],[0.2222222222222222,\"#7201a8\"],[0.3333333333333333,\"#9c179e\"],[0.4444444444444444,\"#bd3786\"],[0.5555555555555556,\"#d8576b\"],[0.6666666666666666,\"#ed7953\"],[0.7777777777777778,\"#fb9f3a\"],[0.8888888888888888,\"#fdca26\"],[1.0,\"#f0f921\"]]}],\"heatmap\":[{\"type\":\"heatmap\",\"colorbar\":{\"outlinewidth\":0,\"ticks\":\"\"},\"colorscale\":[[0.0,\"#0d0887\"],[0.1111111111111111,\"#46039f\"],[0.2222222222222222,\"#7201a8\"],[0.3333333333333333,\"#9c179e\"],[0.4444444444444444,\"#bd3786\"],[0.5555555555555556,\"#d8576b\"],[0.6666666666666666,\"#ed7953\"],[0.7777777777777778,\"#fb9f3a\"],[0.8888888888888888,\"#fdca26\"],[1.0,\"#f0f921\"]]}],\"heatmapgl\":[{\"type\":\"heatmapgl\",\"colorbar\":{\"outlinewidth\":0,\"ticks\":\"\"},\"colorscale\":[[0.0,\"#0d0887\"],[0.1111111111111111,\"#46039f\"],[0.2222222222222222,\"#7201a8\"],[0.3333333333333333,\"#9c179e\"],[0.4444444444444444,\"#bd3786\"],[0.5555555555555556,\"#d8576b\"],[0.6666666666666666,\"#ed7953\"],[0.7777777777777778,\"#fb9f3a\"],[0.8888888888888888,\"#fdca26\"],[1.0,\"#f0f921\"]]}],\"contourcarpet\":[{\"type\":\"contourcarpet\",\"colorbar\":{\"outlinewidth\":0,\"ticks\":\"\"}}],\"contour\":[{\"type\":\"contour\",\"colorbar\":{\"outlinewidth\":0,\"ticks\":\"\"},\"colorscale\":[[0.0,\"#0d0887\"],[0.1111111111111111,\"#46039f\"],[0.2222222222222222,\"#7201a8\"],[0.3333333333333333,\"#9c179e\"],[0.4444444444444444,\"#bd3786\"],[0.5555555555555556,\"#d8576b\"],[0.6666666666666666,\"#ed7953\"],[0.7777777777777778,\"#fb9f3a\"],[0.8888888888888888,\"#fdca26\"],[1.0,\"#f0f921\"]]}],\"surface\":[{\"type\":\"surface\",\"colorbar\":{\"outlinewidth\":0,\"ticks\":\"\"},\"colorscale\":[[0.0,\"#0d0887\"],[0.1111111111111111,\"#46039f\"],[0.2222222222222222,\"#7201a8\"],[0.3333333333333333,\"#9c179e\"],[0.4444444444444444,\"#bd3786\"],[0.5555555555555556,\"#d8576b\"],[0.6666666666666666,\"#ed7953\"],[0.7777777777777778,\"#fb9f3a\"],[0.8888888888888888,\"#fdca26\"],[1.0,\"#f0f921\"]]}],\"mesh3d\":[{\"type\":\"mesh3d\",\"colorbar\":{\"outlinewidth\":0,\"ticks\":\"\"}}],\"scatter\":[{\"fillpattern\":{\"fillmode\":\"overlay\",\"size\":10,\"solidity\":0.2},\"type\":\"scatter\"}],\"parcoords\":[{\"type\":\"parcoords\",\"line\":{\"colorbar\":{\"outlinewidth\":0,\"ticks\":\"\"}}}],\"scatterpolargl\":[{\"type\":\"scatterpolargl\",\"marker\":{\"colorbar\":{\"outlinewidth\":0,\"ticks\":\"\"}}}],\"bar\":[{\"error_x\":{\"color\":\"#2a3f5f\"},\"error_y\":{\"color\":\"#2a3f5f\"},\"marker\":{\"line\":{\"color\":\"#E5ECF6\",\"width\":0.5},\"pattern\":{\"fillmode\":\"overlay\",\"size\":10,\"solidity\":0.2}},\"type\":\"bar\"}],\"scattergeo\":[{\"type\":\"scattergeo\",\"marker\":{\"colorbar\":{\"outlinewidth\":0,\"ticks\":\"\"}}}],\"scatterpolar\":[{\"type\":\"scatterpolar\",\"marker\":{\"colorbar\":{\"outlinewidth\":0,\"ticks\":\"\"}}}],\"histogram\":[{\"marker\":{\"pattern\":{\"fillmode\":\"overlay\",\"size\":10,\"solidity\":0.2}},\"type\":\"histogram\"}],\"scattergl\":[{\"type\":\"scattergl\",\"marker\":{\"colorbar\":{\"outlinewidth\":0,\"ticks\":\"\"}}}],\"scatter3d\":[{\"type\":\"scatter3d\",\"line\":{\"colorbar\":{\"outlinewidth\":0,\"ticks\":\"\"}},\"marker\":{\"colorbar\":{\"outlinewidth\":0,\"ticks\":\"\"}}}],\"scattermapbox\":[{\"type\":\"scattermapbox\",\"marker\":{\"colorbar\":{\"outlinewidth\":0,\"ticks\":\"\"}}}],\"scatterternary\":[{\"type\":\"scatterternary\",\"marker\":{\"colorbar\":{\"outlinewidth\":0,\"ticks\":\"\"}}}],\"scattercarpet\":[{\"type\":\"scattercarpet\",\"marker\":{\"colorbar\":{\"outlinewidth\":0,\"ticks\":\"\"}}}],\"carpet\":[{\"aaxis\":{\"endlinecolor\":\"#2a3f5f\",\"gridcolor\":\"white\",\"linecolor\":\"white\",\"minorgridcolor\":\"white\",\"startlinecolor\":\"#2a3f5f\"},\"baxis\":{\"endlinecolor\":\"#2a3f5f\",\"gridcolor\":\"white\",\"linecolor\":\"white\",\"minorgridcolor\":\"white\",\"startlinecolor\":\"#2a3f5f\"},\"type\":\"carpet\"}],\"table\":[{\"cells\":{\"fill\":{\"color\":\"#EBF0F8\"},\"line\":{\"color\":\"white\"}},\"header\":{\"fill\":{\"color\":\"#C8D4E3\"},\"line\":{\"color\":\"white\"}},\"type\":\"table\"}],\"barpolar\":[{\"marker\":{\"line\":{\"color\":\"#E5ECF6\",\"width\":0.5},\"pattern\":{\"fillmode\":\"overlay\",\"size\":10,\"solidity\":0.2}},\"type\":\"barpolar\"}],\"pie\":[{\"automargin\":true,\"type\":\"pie\"}]},\"layout\":{\"autotypenumbers\":\"strict\",\"colorway\":[\"#636efa\",\"#EF553B\",\"#00cc96\",\"#ab63fa\",\"#FFA15A\",\"#19d3f3\",\"#FF6692\",\"#B6E880\",\"#FF97FF\",\"#FECB52\"],\"font\":{\"color\":\"#2a3f5f\"},\"hovermode\":\"closest\",\"hoverlabel\":{\"align\":\"left\"},\"paper_bgcolor\":\"white\",\"plot_bgcolor\":\"#E5ECF6\",\"polar\":{\"bgcolor\":\"#E5ECF6\",\"angularaxis\":{\"gridcolor\":\"white\",\"linecolor\":\"white\",\"ticks\":\"\"},\"radialaxis\":{\"gridcolor\":\"white\",\"linecolor\":\"white\",\"ticks\":\"\"}},\"ternary\":{\"bgcolor\":\"#E5ECF6\",\"aaxis\":{\"gridcolor\":\"white\",\"linecolor\":\"white\",\"ticks\":\"\"},\"baxis\":{\"gridcolor\":\"white\",\"linecolor\":\"white\",\"ticks\":\"\"},\"caxis\":{\"gridcolor\":\"white\",\"linecolor\":\"white\",\"ticks\":\"\"}},\"coloraxis\":{\"colorbar\":{\"outlinewidth\":0,\"ticks\":\"\"}},\"colorscale\":{\"sequential\":[[0.0,\"#0d0887\"],[0.1111111111111111,\"#46039f\"],[0.2222222222222222,\"#7201a8\"],[0.3333333333333333,\"#9c179e\"],[0.4444444444444444,\"#bd3786\"],[0.5555555555555556,\"#d8576b\"],[0.6666666666666666,\"#ed7953\"],[0.7777777777777778,\"#fb9f3a\"],[0.8888888888888888,\"#fdca26\"],[1.0,\"#f0f921\"]],\"sequentialminus\":[[0.0,\"#0d0887\"],[0.1111111111111111,\"#46039f\"],[0.2222222222222222,\"#7201a8\"],[0.3333333333333333,\"#9c179e\"],[0.4444444444444444,\"#bd3786\"],[0.5555555555555556,\"#d8576b\"],[0.6666666666666666,\"#ed7953\"],[0.7777777777777778,\"#fb9f3a\"],[0.8888888888888888,\"#fdca26\"],[1.0,\"#f0f921\"]],\"diverging\":[[0,\"#8e0152\"],[0.1,\"#c51b7d\"],[0.2,\"#de77ae\"],[0.3,\"#f1b6da\"],[0.4,\"#fde0ef\"],[0.5,\"#f7f7f7\"],[0.6,\"#e6f5d0\"],[0.7,\"#b8e186\"],[0.8,\"#7fbc41\"],[0.9,\"#4d9221\"],[1,\"#276419\"]]},\"xaxis\":{\"gridcolor\":\"white\",\"linecolor\":\"white\",\"ticks\":\"\",\"title\":{\"standoff\":15},\"zerolinecolor\":\"white\",\"automargin\":true,\"zerolinewidth\":2},\"yaxis\":{\"gridcolor\":\"white\",\"linecolor\":\"white\",\"ticks\":\"\",\"title\":{\"standoff\":15},\"zerolinecolor\":\"white\",\"automargin\":true,\"zerolinewidth\":2},\"scene\":{\"xaxis\":{\"backgroundcolor\":\"#E5ECF6\",\"gridcolor\":\"white\",\"linecolor\":\"white\",\"showbackground\":true,\"ticks\":\"\",\"zerolinecolor\":\"white\",\"gridwidth\":2},\"yaxis\":{\"backgroundcolor\":\"#E5ECF6\",\"gridcolor\":\"white\",\"linecolor\":\"white\",\"showbackground\":true,\"ticks\":\"\",\"zerolinecolor\":\"white\",\"gridwidth\":2},\"zaxis\":{\"backgroundcolor\":\"#E5ECF6\",\"gridcolor\":\"white\",\"linecolor\":\"white\",\"showbackground\":true,\"ticks\":\"\",\"zerolinecolor\":\"white\",\"gridwidth\":2}},\"shapedefaults\":{\"line\":{\"color\":\"#2a3f5f\"}},\"annotationdefaults\":{\"arrowcolor\":\"#2a3f5f\",\"arrowhead\":0,\"arrowwidth\":1},\"geo\":{\"bgcolor\":\"white\",\"landcolor\":\"#E5ECF6\",\"subunitcolor\":\"white\",\"showland\":true,\"showlakes\":true,\"lakecolor\":\"white\"},\"title\":{\"x\":0.05},\"mapbox\":{\"style\":\"light\"}}},\"geo\":{\"domain\":{\"x\":[0.0,1.0],\"y\":[0.0,1.0]},\"center\":{}},\"coloraxis\":{\"colorbar\":{\"title\":{\"text\":\"P-value\"}},\"colorscale\":[[0.0,\"#0d0887\"],[0.1111111111111111,\"#46039f\"],[0.2222222222222222,\"#7201a8\"],[0.3333333333333333,\"#9c179e\"],[0.4444444444444444,\"#bd3786\"],[0.5555555555555556,\"#d8576b\"],[0.6666666666666666,\"#ed7953\"],[0.7777777777777778,\"#fb9f3a\"],[0.8888888888888888,\"#fdca26\"],[1.0,\"#f0f921\"]],\"cmin\":0,\"cmax\":1},\"legend\":{\"tracegroupgap\":0},\"margin\":{\"t\":60}},                        {\"responsive\": true}                    ).then(function(){\n",
       "                            \n",
       "var gd = document.getElementById('e68dc720-b0d9-4404-a1f2-64c7f7ef129a');\n",
       "var x = new MutationObserver(function (mutations, observer) {{\n",
       "        var display = window.getComputedStyle(gd).display;\n",
       "        if (!display || display === 'none') {{\n",
       "            console.log([gd, 'removed!']);\n",
       "            Plotly.purge(gd);\n",
       "            observer.disconnect();\n",
       "        }}\n",
       "}});\n",
       "\n",
       "// Listen for the removal of the full notebook cells\n",
       "var notebookContainer = gd.closest('#notebook-container');\n",
       "if (notebookContainer) {{\n",
       "    x.observe(notebookContainer, {childList: true});\n",
       "}}\n",
       "\n",
       "// Listen for the clearing of the current output cell\n",
       "var outputEl = gd.closest('.output');\n",
       "if (outputEl) {{\n",
       "    x.observe(outputEl, {childList: true});\n",
       "}}\n",
       "\n",
       "                        })                };                });            </script>        </div>"
      ]
     },
     "metadata": {},
     "output_type": "display_data"
    }
   ],
   "source": [
    "#this will be a world map for P-value/correlation coeff\n",
    "\n",
    "fig = px.choropleth(geo_pearson, locations=\"ISO_A3\",\n",
    "                    color=\"P-value\", \n",
    "                    hover_name=\"country\",\n",
    "                    range_color=(0, 1),\n",
    "                    hover_data=['Correlation Coeff.'], #I just want to shorten it done to 4 decimal places %10.4f\n",
    "                    color_continuous_scale=px.colors.sequential.Plasma)\n",
    "fig.show()"
   ]
  },
  {
   "cell_type": "code",
   "execution_count": 47,
   "metadata": {},
   "outputs": [
    {
     "data": {
      "text/html": [
       "<div>\n",
       "<style scoped>\n",
       "    .dataframe tbody tr th:only-of-type {\n",
       "        vertical-align: middle;\n",
       "    }\n",
       "\n",
       "    .dataframe tbody tr th {\n",
       "        vertical-align: top;\n",
       "    }\n",
       "\n",
       "    .dataframe thead th {\n",
       "        text-align: right;\n",
       "    }\n",
       "</style>\n",
       "<table border=\"1\" class=\"dataframe\">\n",
       "  <thead>\n",
       "    <tr style=\"text-align: right;\">\n",
       "      <th></th>\n",
       "      <th>country</th>\n",
       "      <th>Correlation Coeff.</th>\n",
       "      <th>P-value</th>\n",
       "    </tr>\n",
       "  </thead>\n",
       "  <tbody>\n",
       "    <tr>\n",
       "      <th>0</th>\n",
       "      <td>Australia</td>\n",
       "      <td>0.600000</td>\n",
       "      <td>0.208000</td>\n",
       "    </tr>\n",
       "    <tr>\n",
       "      <th>1</th>\n",
       "      <td>Canada</td>\n",
       "      <td>-0.371429</td>\n",
       "      <td>0.468478</td>\n",
       "    </tr>\n",
       "    <tr>\n",
       "      <th>2</th>\n",
       "      <td>China</td>\n",
       "      <td>0.428571</td>\n",
       "      <td>0.396501</td>\n",
       "    </tr>\n",
       "    <tr>\n",
       "      <th>3</th>\n",
       "      <td>Croatia</td>\n",
       "      <td>0.257143</td>\n",
       "      <td>0.622787</td>\n",
       "    </tr>\n",
       "    <tr>\n",
       "      <th>4</th>\n",
       "      <td>Denmark</td>\n",
       "      <td>-0.314286</td>\n",
       "      <td>0.544093</td>\n",
       "    </tr>\n",
       "    <tr>\n",
       "      <th>5</th>\n",
       "      <td>France</td>\n",
       "      <td>0.314286</td>\n",
       "      <td>0.544093</td>\n",
       "    </tr>\n",
       "    <tr>\n",
       "      <th>6</th>\n",
       "      <td>Germany</td>\n",
       "      <td>0.542857</td>\n",
       "      <td>0.265703</td>\n",
       "    </tr>\n",
       "    <tr>\n",
       "      <th>7</th>\n",
       "      <td>Greece</td>\n",
       "      <td>0.714286</td>\n",
       "      <td>0.110787</td>\n",
       "    </tr>\n",
       "    <tr>\n",
       "      <th>8</th>\n",
       "      <td>Indonesia</td>\n",
       "      <td>0.485714</td>\n",
       "      <td>0.328723</td>\n",
       "    </tr>\n",
       "    <tr>\n",
       "      <th>9</th>\n",
       "      <td>Italy</td>\n",
       "      <td>0.828571</td>\n",
       "      <td>0.041563</td>\n",
       "    </tr>\n",
       "    <tr>\n",
       "      <th>10</th>\n",
       "      <td>Japan</td>\n",
       "      <td>0.771429</td>\n",
       "      <td>0.072397</td>\n",
       "    </tr>\n",
       "    <tr>\n",
       "      <th>11</th>\n",
       "      <td>Netherlands</td>\n",
       "      <td>0.657143</td>\n",
       "      <td>0.156175</td>\n",
       "    </tr>\n",
       "    <tr>\n",
       "      <th>12</th>\n",
       "      <td>Norway</td>\n",
       "      <td>0.057977</td>\n",
       "      <td>0.913132</td>\n",
       "    </tr>\n",
       "    <tr>\n",
       "      <th>13</th>\n",
       "      <td>Russian Federation</td>\n",
       "      <td>0.542857</td>\n",
       "      <td>0.265703</td>\n",
       "    </tr>\n",
       "    <tr>\n",
       "      <th>14</th>\n",
       "      <td>Spain</td>\n",
       "      <td>0.333947</td>\n",
       "      <td>0.517700</td>\n",
       "    </tr>\n",
       "    <tr>\n",
       "      <th>15</th>\n",
       "      <td>Sweden</td>\n",
       "      <td>-0.771429</td>\n",
       "      <td>0.072397</td>\n",
       "    </tr>\n",
       "    <tr>\n",
       "      <th>16</th>\n",
       "      <td>Türkiye</td>\n",
       "      <td>0.828571</td>\n",
       "      <td>0.041563</td>\n",
       "    </tr>\n",
       "    <tr>\n",
       "      <th>17</th>\n",
       "      <td>United Kingdom</td>\n",
       "      <td>0.885714</td>\n",
       "      <td>0.018845</td>\n",
       "    </tr>\n",
       "    <tr>\n",
       "      <th>18</th>\n",
       "      <td>United States of America</td>\n",
       "      <td>0.542857</td>\n",
       "      <td>0.265703</td>\n",
       "    </tr>\n",
       "  </tbody>\n",
       "</table>\n",
       "</div>"
      ],
      "text/plain": [
       "                     country  Correlation Coeff.   P-value\n",
       "0                  Australia            0.600000  0.208000\n",
       "1                     Canada           -0.371429  0.468478\n",
       "2                      China            0.428571  0.396501\n",
       "3                    Croatia            0.257143  0.622787\n",
       "4                    Denmark           -0.314286  0.544093\n",
       "5                     France            0.314286  0.544093\n",
       "6                    Germany            0.542857  0.265703\n",
       "7                     Greece            0.714286  0.110787\n",
       "8                  Indonesia            0.485714  0.328723\n",
       "9                      Italy            0.828571  0.041563\n",
       "10                     Japan            0.771429  0.072397\n",
       "11               Netherlands            0.657143  0.156175\n",
       "12                    Norway            0.057977  0.913132\n",
       "13        Russian Federation            0.542857  0.265703\n",
       "14                     Spain            0.333947  0.517700\n",
       "15                    Sweden           -0.771429  0.072397\n",
       "16                   Türkiye            0.828571  0.041563\n",
       "17            United Kingdom            0.885714  0.018845\n",
       "18  United States of America            0.542857  0.265703"
      ]
     },
     "execution_count": 47,
     "metadata": {},
     "output_type": "execute_result"
    }
   ],
   "source": [
    "port_covid = pd.merge(df_ports, df_new, on=['country','date'], how='outer')\n",
    "port_covid_new = port_covid.dropna(subset=['new_cases'])\n",
    "port_covid_new = port_covid_new.dropna(subset=['Vessel_Type'])\n",
    "port_covid_new = port_covid_new[port_covid_new['Vessel_Type'] == 'All ships']\n",
    "port_covid_new\n",
    "\n",
    "# unq_country = port_covid_new['country'].unique()\n",
    "# unq_country\n",
    "\n",
    "port_au = port_covid_new[port_covid_new[\"country\"] == 'Australia']\n",
    "cc_au = scipy.stats.spearmanr(port_au['new_cases'], port_au['Median time in port (days)'])[0]\n",
    "pv_au = scipy.stats.spearmanr(port_au['new_cases'], port_au['Median time in port (days)'])[1]\n",
    "\n",
    "port_ca = port_covid_new[port_covid_new[\"country\"] == 'Canada']\n",
    "cc_ca = scipy.stats.spearmanr(port_ca['new_cases'], port_ca['Median time in port (days)'])[0]\n",
    "pv_ca = scipy.stats.spearmanr(port_ca['new_cases'], port_ca['Median time in port (days)'])[1]\n",
    "\n",
    "port_ch = port_covid_new[port_covid_new[\"country\"] == 'China']\n",
    "cc_ch = scipy.stats.spearmanr(port_ch['new_cases'], port_ch['Median time in port (days)'])[0]\n",
    "pv_ch = scipy.stats.spearmanr(port_ch['new_cases'], port_ch['Median time in port (days)'])[1]\n",
    "\n",
    "port_cr = port_covid_new[port_covid_new[\"country\"] == 'Croatia']\n",
    "cc_cr = scipy.stats.spearmanr(port_cr['new_cases'], port_cr['Median time in port (days)'])[0]\n",
    "pv_cr = scipy.stats.spearmanr(port_cr['new_cases'], port_cr['Median time in port (days)'])[1]\n",
    "\n",
    "port_dn = port_covid_new[port_covid_new[\"country\"] == 'Denmark']\n",
    "cc_dn = scipy.stats.spearmanr(port_dn['new_cases'], port_dn['Median time in port (days)'])[0]\n",
    "pv_dn = scipy.stats.spearmanr(port_dn['new_cases'], port_dn['Median time in port (days)'])[1]\n",
    "\n",
    "port_fr = port_covid_new[port_covid_new[\"country\"] == 'France']\n",
    "cc_fr = scipy.stats.spearmanr(port_fr['new_cases'], port_fr['Median time in port (days)'])[0]\n",
    "pv_fr = scipy.stats.spearmanr(port_fr['new_cases'], port_fr['Median time in port (days)'])[1]\n",
    "\n",
    "port_ge = port_covid_new[port_covid_new[\"country\"] == 'Germany']\n",
    "cc_ge = scipy.stats.spearmanr(port_ge['new_cases'], port_ge['Median time in port (days)'])[0]\n",
    "pv_ge = scipy.stats.spearmanr(port_ge['new_cases'], port_ge['Median time in port (days)'])[1]\n",
    "\n",
    "port_gr = port_covid_new[port_covid_new[\"country\"] == 'Greece']\n",
    "cc_gr = scipy.stats.spearmanr(port_gr['new_cases'], port_gr['Median time in port (days)'])[0]\n",
    "pv_gr = scipy.stats.spearmanr(port_gr['new_cases'], port_gr['Median time in port (days)'])[1]\n",
    "\n",
    "port_id = port_covid_new[port_covid_new[\"country\"] == 'Indonesia']\n",
    "cc_id = scipy.stats.spearmanr(port_id['new_cases'], port_id['Median time in port (days)'])[0]\n",
    "pv_id = scipy.stats.spearmanr(port_id['new_cases'], port_id['Median time in port (days)'])[1]\n",
    "\n",
    "port_it = port_covid_new[port_covid_new[\"country\"] == 'Italy']\n",
    "cc_it = scipy.stats.spearmanr(port_it['new_cases'], port_it['Median time in port (days)'])[0]\n",
    "pv_it = scipy.stats.spearmanr(port_it['new_cases'], port_it['Median time in port (days)'])[1]\n",
    "\n",
    "port_jp = port_covid_new[port_covid_new[\"country\"] == 'Japan']\n",
    "cc_jp = scipy.stats.spearmanr(port_jp['new_cases'], port_jp['Median time in port (days)'])[0]\n",
    "pv_jp = scipy.stats.spearmanr(port_jp['new_cases'], port_jp['Median time in port (days)'])[1]\n",
    "\n",
    "port_nl = port_covid_new[port_covid_new[\"country\"] == 'Netherlands']\n",
    "cc_nl = scipy.stats.spearmanr(port_nl['new_cases'], port_nl['Median time in port (days)'])[0]\n",
    "pv_nl = scipy.stats.spearmanr(port_nl['new_cases'], port_nl['Median time in port (days)'])[1]\n",
    "\n",
    "port_no = port_covid_new[port_covid_new[\"country\"] == 'Norway']\n",
    "cc_no = scipy.stats.spearmanr(port_no['new_cases'], port_no['Median time in port (days)'])[0]\n",
    "pv_no = scipy.stats.spearmanr(port_no['new_cases'], port_no['Median time in port (days)'])[1]\n",
    "\n",
    "port_ru = port_covid_new[port_covid_new[\"country\"] == 'Russian Federation']\n",
    "cc_ru = scipy.stats.spearmanr(port_ru['new_cases'], port_ru['Median time in port (days)'])[0]\n",
    "pv_ru = scipy.stats.spearmanr(port_ru['new_cases'], port_ru['Median time in port (days)'])[1]\n",
    "\n",
    "port_sp = port_covid_new[port_covid_new[\"country\"] == 'Spain']\n",
    "cc_sp = scipy.stats.spearmanr(port_sp['new_cases'], port_sp['Median time in port (days)'])[0]\n",
    "pv_sp = scipy.stats.spearmanr(port_sp['new_cases'], port_sp['Median time in port (days)'])[1]\n",
    "\n",
    "port_sw = port_covid_new[port_covid_new[\"country\"] == 'Sweden']\n",
    "cc_sw = scipy.stats.spearmanr(port_sw['new_cases'], port_sw['Median time in port (days)'])[0]\n",
    "pv_sw = scipy.stats.spearmanr(port_sw['new_cases'], port_sw['Median time in port (days)'])[1]\n",
    "\n",
    "port_tr = port_covid_new[port_covid_new[\"country\"] == 'Türkiye']\n",
    "cc_tr = scipy.stats.spearmanr(port_tr['new_cases'], port_tr['Median time in port (days)'])[0]\n",
    "pv_tr = scipy.stats.spearmanr(port_tr['new_cases'], port_tr['Median time in port (days)'])[1]\n",
    "\n",
    "port_uk = port_covid_new[port_covid_new[\"country\"] == 'United Kingdom']\n",
    "cc_uk = scipy.stats.spearmanr(port_uk['new_cases'], port_uk['Median time in port (days)'])[0]\n",
    "pv_uk = scipy.stats.spearmanr(port_uk['new_cases'], port_uk['Median time in port (days)'])[1]\n",
    "\n",
    "port_us = port_covid_new[port_covid_new[\"country\"] == 'United States of America']\n",
    "cc_us = scipy.stats.spearmanr(port_us['new_cases'], port_us['Median time in port (days)'])[0]\n",
    "pv_us = scipy.stats.spearmanr(port_us['new_cases'], port_us['Median time in port (days)'])[1]\n",
    "\n",
    "# initialize data of lists.\n",
    "data_spearman = {'country': ['Australia', 'Canada', 'China', 'Croatia', 'Denmark', 'France',\n",
    "                            'Germany', 'Greece', 'Indonesia', 'Italy', 'Japan', 'Netherlands',\n",
    "                            'Norway', 'Russian Federation', 'Spain', 'Sweden', 'Türkiye', 'United Kingdom',\n",
    "                            'United States of America'],\n",
    "                'Correlation Coeff.': [cc_au, cc_ca, cc_ch, cc_cr, cc_dn, cc_fr,\n",
    "                                        cc_ge, cc_gr, cc_id, cc_it, cc_jp, cc_nl,\n",
    "                                        cc_no, cc_ru, cc_sp, cc_sw, cc_tr, cc_uk,\n",
    "                                        cc_us],\n",
    "                'P-value': [pv_au, pv_ca, pv_ch, pv_cr, pv_dn, pv_fr,\n",
    "                            pv_ge, pv_gr, pv_id, pv_it, pv_jp, pv_nl,\n",
    "                            pv_no, pv_ru, pv_sp, pv_sw, pv_tr, pv_uk,\n",
    "                            pv_us]}\n",
    "  \n",
    "# Create DataFrame\n",
    "spearman_covid_port = pd.DataFrame(data_spearman)\n",
    "  \n",
    "# Print the output.\n",
    "spearman_covid_port\n",
    "\n",
    "# port_covid_new.to_csv (r'C:\\Users\\user\\OneDrive - Delft University of Technology\\Desktop\\TIL\\Q1\\TIL6022\\Final Project\\correlation data.csv')\n",
    "\n",
    "\n"
   ]
  },
  {
   "cell_type": "code",
   "execution_count": 49,
   "metadata": {},
   "outputs": [
    {
     "data": {
      "text/html": [
       "<div>\n",
       "<style scoped>\n",
       "    .dataframe tbody tr th:only-of-type {\n",
       "        vertical-align: middle;\n",
       "    }\n",
       "\n",
       "    .dataframe tbody tr th {\n",
       "        vertical-align: top;\n",
       "    }\n",
       "\n",
       "    .dataframe thead th {\n",
       "        text-align: right;\n",
       "    }\n",
       "</style>\n",
       "<table border=\"1\" class=\"dataframe\">\n",
       "  <thead>\n",
       "    <tr style=\"text-align: right;\">\n",
       "      <th></th>\n",
       "      <th>country</th>\n",
       "      <th>ISO_A3</th>\n",
       "      <th>geometry</th>\n",
       "      <th>Correlation Coeff.</th>\n",
       "      <th>P-value</th>\n",
       "    </tr>\n",
       "  </thead>\n",
       "  <tbody>\n",
       "    <tr>\n",
       "      <th>0</th>\n",
       "      <td>Australia</td>\n",
       "      <td>AUS</td>\n",
       "      <td>MULTIPOLYGON (((158.86573 -54.74993, 158.83823...</td>\n",
       "      <td>0.600000</td>\n",
       "      <td>0.208000</td>\n",
       "    </tr>\n",
       "    <tr>\n",
       "      <th>1</th>\n",
       "      <td>Canada</td>\n",
       "      <td>CAN</td>\n",
       "      <td>MULTIPOLYGON (((-65.61059 43.42817, -65.62881 ...</td>\n",
       "      <td>-0.371429</td>\n",
       "      <td>0.468478</td>\n",
       "    </tr>\n",
       "    <tr>\n",
       "      <th>2</th>\n",
       "      <td>China</td>\n",
       "      <td>CHN</td>\n",
       "      <td>MULTIPOLYGON (((111.20460 15.77924, 111.19654 ...</td>\n",
       "      <td>0.428571</td>\n",
       "      <td>0.396501</td>\n",
       "    </tr>\n",
       "    <tr>\n",
       "      <th>3</th>\n",
       "      <td>Germany</td>\n",
       "      <td>DEU</td>\n",
       "      <td>MULTIPOLYGON (((6.74220 53.57836, 6.74952 53.5...</td>\n",
       "      <td>0.542857</td>\n",
       "      <td>0.265703</td>\n",
       "    </tr>\n",
       "    <tr>\n",
       "      <th>4</th>\n",
       "      <td>Denmark</td>\n",
       "      <td>DNK</td>\n",
       "      <td>MULTIPOLYGON (((11.25603 54.95458, 11.30348 54...</td>\n",
       "      <td>-0.314286</td>\n",
       "      <td>0.544093</td>\n",
       "    </tr>\n",
       "  </tbody>\n",
       "</table>\n",
       "</div>"
      ],
      "text/plain": [
       "     country ISO_A3                                           geometry  \\\n",
       "0  Australia    AUS  MULTIPOLYGON (((158.86573 -54.74993, 158.83823...   \n",
       "1     Canada    CAN  MULTIPOLYGON (((-65.61059 43.42817, -65.62881 ...   \n",
       "2      China    CHN  MULTIPOLYGON (((111.20460 15.77924, 111.19654 ...   \n",
       "3    Germany    DEU  MULTIPOLYGON (((6.74220 53.57836, 6.74952 53.5...   \n",
       "4    Denmark    DNK  MULTIPOLYGON (((11.25603 54.95458, 11.30348 54...   \n",
       "\n",
       "   Correlation Coeff.   P-value  \n",
       "0            0.600000  0.208000  \n",
       "1           -0.371429  0.468478  \n",
       "2            0.428571  0.396501  \n",
       "3            0.542857  0.265703  \n",
       "4           -0.314286  0.544093  "
      ]
     },
     "execution_count": 49,
     "metadata": {},
     "output_type": "execute_result"
    }
   ],
   "source": [
    "geo_spearman = pd.merge(df_geo, spearman_covid_port, on = 'country')\n",
    "geo_spearman.head()"
   ]
  },
  {
   "cell_type": "code",
   "execution_count": 50,
   "metadata": {},
   "outputs": [
    {
     "data": {
      "application/vnd.plotly.v1+json": {
       "config": {
        "plotlyServerURL": "https://plot.ly"
       },
       "data": [
        {
         "coloraxis": "coloraxis",
         "customdata": [
          [
           0.6
          ],
          [
           -0.3714285714285715
          ],
          [
           0.4285714285714286
          ],
          [
           0.5428571428571429
          ],
          [
           -0.3142857142857143
          ],
          [
           0.33394720739540396
          ],
          [
           0.3142857142857143
          ],
          [
           0.8857142857142858
          ],
          [
           0.7142857142857143
          ],
          [
           0.2571428571428572
          ],
          [
           0.48571428571428577
          ],
          [
           0.8285714285714287
          ],
          [
           0.7714285714285715
          ],
          [
           0.6571428571428573
          ],
          [
           0.057977103565244846
          ],
          [
           -0.7714285714285715
          ],
          [
           0.5428571428571429
          ]
         ],
         "geo": "geo",
         "hovertemplate": "<b>%{hovertext}</b><br><br>ISO_A3=%{location}<br>Correlation Coeff.=%{customdata[0]}<br>P-value=%{z}<extra></extra>",
         "hovertext": [
          "Australia",
          "Canada",
          "China",
          "Germany",
          "Denmark",
          "Spain",
          "France",
          "United Kingdom",
          "Greece",
          "Croatia",
          "Indonesia",
          "Italy",
          "Japan",
          "Netherlands",
          "Norway",
          "Sweden",
          "United States of America"
         ],
         "locations": [
          "AUS",
          "CAN",
          "CHN",
          "DEU",
          "DNK",
          "ESP",
          "FRA",
          "GBR",
          "GRC",
          "HRV",
          "IDN",
          "ITA",
          "JPN",
          "NLD",
          "NOR",
          "SWE",
          "USA"
         ],
         "name": "",
         "type": "choropleth",
         "z": [
          0.20799999999999982,
          0.46847813411078715,
          0.3965014577259474,
          0.26570262390670557,
          0.5440932944606414,
          0.5177002083054396,
          0.5440932944606414,
          0.01884548104956266,
          0.1107871720116617,
          0.6227871720116618,
          0.3287230320699709,
          0.04156268221574334,
          0.07239650145772594,
          0.15617492711370237,
          0.9131317851623264,
          0.07239650145772594,
          0.26570262390670557
         ]
        }
       ],
       "layout": {
        "coloraxis": {
         "cmax": 1,
         "cmin": 0,
         "colorbar": {
          "title": {
           "text": "P-value"
          }
         },
         "colorscale": [
          [
           0,
           "#0d0887"
          ],
          [
           0.1111111111111111,
           "#46039f"
          ],
          [
           0.2222222222222222,
           "#7201a8"
          ],
          [
           0.3333333333333333,
           "#9c179e"
          ],
          [
           0.4444444444444444,
           "#bd3786"
          ],
          [
           0.5555555555555556,
           "#d8576b"
          ],
          [
           0.6666666666666666,
           "#ed7953"
          ],
          [
           0.7777777777777778,
           "#fb9f3a"
          ],
          [
           0.8888888888888888,
           "#fdca26"
          ],
          [
           1,
           "#f0f921"
          ]
         ]
        },
        "geo": {
         "center": {},
         "domain": {
          "x": [
           0,
           1
          ],
          "y": [
           0,
           1
          ]
         }
        },
        "legend": {
         "tracegroupgap": 0
        },
        "margin": {
         "t": 60
        },
        "template": {
         "data": {
          "bar": [
           {
            "error_x": {
             "color": "#2a3f5f"
            },
            "error_y": {
             "color": "#2a3f5f"
            },
            "marker": {
             "line": {
              "color": "#E5ECF6",
              "width": 0.5
             },
             "pattern": {
              "fillmode": "overlay",
              "size": 10,
              "solidity": 0.2
             }
            },
            "type": "bar"
           }
          ],
          "barpolar": [
           {
            "marker": {
             "line": {
              "color": "#E5ECF6",
              "width": 0.5
             },
             "pattern": {
              "fillmode": "overlay",
              "size": 10,
              "solidity": 0.2
             }
            },
            "type": "barpolar"
           }
          ],
          "carpet": [
           {
            "aaxis": {
             "endlinecolor": "#2a3f5f",
             "gridcolor": "white",
             "linecolor": "white",
             "minorgridcolor": "white",
             "startlinecolor": "#2a3f5f"
            },
            "baxis": {
             "endlinecolor": "#2a3f5f",
             "gridcolor": "white",
             "linecolor": "white",
             "minorgridcolor": "white",
             "startlinecolor": "#2a3f5f"
            },
            "type": "carpet"
           }
          ],
          "choropleth": [
           {
            "colorbar": {
             "outlinewidth": 0,
             "ticks": ""
            },
            "type": "choropleth"
           }
          ],
          "contour": [
           {
            "colorbar": {
             "outlinewidth": 0,
             "ticks": ""
            },
            "colorscale": [
             [
              0,
              "#0d0887"
             ],
             [
              0.1111111111111111,
              "#46039f"
             ],
             [
              0.2222222222222222,
              "#7201a8"
             ],
             [
              0.3333333333333333,
              "#9c179e"
             ],
             [
              0.4444444444444444,
              "#bd3786"
             ],
             [
              0.5555555555555556,
              "#d8576b"
             ],
             [
              0.6666666666666666,
              "#ed7953"
             ],
             [
              0.7777777777777778,
              "#fb9f3a"
             ],
             [
              0.8888888888888888,
              "#fdca26"
             ],
             [
              1,
              "#f0f921"
             ]
            ],
            "type": "contour"
           }
          ],
          "contourcarpet": [
           {
            "colorbar": {
             "outlinewidth": 0,
             "ticks": ""
            },
            "type": "contourcarpet"
           }
          ],
          "heatmap": [
           {
            "colorbar": {
             "outlinewidth": 0,
             "ticks": ""
            },
            "colorscale": [
             [
              0,
              "#0d0887"
             ],
             [
              0.1111111111111111,
              "#46039f"
             ],
             [
              0.2222222222222222,
              "#7201a8"
             ],
             [
              0.3333333333333333,
              "#9c179e"
             ],
             [
              0.4444444444444444,
              "#bd3786"
             ],
             [
              0.5555555555555556,
              "#d8576b"
             ],
             [
              0.6666666666666666,
              "#ed7953"
             ],
             [
              0.7777777777777778,
              "#fb9f3a"
             ],
             [
              0.8888888888888888,
              "#fdca26"
             ],
             [
              1,
              "#f0f921"
             ]
            ],
            "type": "heatmap"
           }
          ],
          "heatmapgl": [
           {
            "colorbar": {
             "outlinewidth": 0,
             "ticks": ""
            },
            "colorscale": [
             [
              0,
              "#0d0887"
             ],
             [
              0.1111111111111111,
              "#46039f"
             ],
             [
              0.2222222222222222,
              "#7201a8"
             ],
             [
              0.3333333333333333,
              "#9c179e"
             ],
             [
              0.4444444444444444,
              "#bd3786"
             ],
             [
              0.5555555555555556,
              "#d8576b"
             ],
             [
              0.6666666666666666,
              "#ed7953"
             ],
             [
              0.7777777777777778,
              "#fb9f3a"
             ],
             [
              0.8888888888888888,
              "#fdca26"
             ],
             [
              1,
              "#f0f921"
             ]
            ],
            "type": "heatmapgl"
           }
          ],
          "histogram": [
           {
            "marker": {
             "pattern": {
              "fillmode": "overlay",
              "size": 10,
              "solidity": 0.2
             }
            },
            "type": "histogram"
           }
          ],
          "histogram2d": [
           {
            "colorbar": {
             "outlinewidth": 0,
             "ticks": ""
            },
            "colorscale": [
             [
              0,
              "#0d0887"
             ],
             [
              0.1111111111111111,
              "#46039f"
             ],
             [
              0.2222222222222222,
              "#7201a8"
             ],
             [
              0.3333333333333333,
              "#9c179e"
             ],
             [
              0.4444444444444444,
              "#bd3786"
             ],
             [
              0.5555555555555556,
              "#d8576b"
             ],
             [
              0.6666666666666666,
              "#ed7953"
             ],
             [
              0.7777777777777778,
              "#fb9f3a"
             ],
             [
              0.8888888888888888,
              "#fdca26"
             ],
             [
              1,
              "#f0f921"
             ]
            ],
            "type": "histogram2d"
           }
          ],
          "histogram2dcontour": [
           {
            "colorbar": {
             "outlinewidth": 0,
             "ticks": ""
            },
            "colorscale": [
             [
              0,
              "#0d0887"
             ],
             [
              0.1111111111111111,
              "#46039f"
             ],
             [
              0.2222222222222222,
              "#7201a8"
             ],
             [
              0.3333333333333333,
              "#9c179e"
             ],
             [
              0.4444444444444444,
              "#bd3786"
             ],
             [
              0.5555555555555556,
              "#d8576b"
             ],
             [
              0.6666666666666666,
              "#ed7953"
             ],
             [
              0.7777777777777778,
              "#fb9f3a"
             ],
             [
              0.8888888888888888,
              "#fdca26"
             ],
             [
              1,
              "#f0f921"
             ]
            ],
            "type": "histogram2dcontour"
           }
          ],
          "mesh3d": [
           {
            "colorbar": {
             "outlinewidth": 0,
             "ticks": ""
            },
            "type": "mesh3d"
           }
          ],
          "parcoords": [
           {
            "line": {
             "colorbar": {
              "outlinewidth": 0,
              "ticks": ""
             }
            },
            "type": "parcoords"
           }
          ],
          "pie": [
           {
            "automargin": true,
            "type": "pie"
           }
          ],
          "scatter": [
           {
            "fillpattern": {
             "fillmode": "overlay",
             "size": 10,
             "solidity": 0.2
            },
            "type": "scatter"
           }
          ],
          "scatter3d": [
           {
            "line": {
             "colorbar": {
              "outlinewidth": 0,
              "ticks": ""
             }
            },
            "marker": {
             "colorbar": {
              "outlinewidth": 0,
              "ticks": ""
             }
            },
            "type": "scatter3d"
           }
          ],
          "scattercarpet": [
           {
            "marker": {
             "colorbar": {
              "outlinewidth": 0,
              "ticks": ""
             }
            },
            "type": "scattercarpet"
           }
          ],
          "scattergeo": [
           {
            "marker": {
             "colorbar": {
              "outlinewidth": 0,
              "ticks": ""
             }
            },
            "type": "scattergeo"
           }
          ],
          "scattergl": [
           {
            "marker": {
             "colorbar": {
              "outlinewidth": 0,
              "ticks": ""
             }
            },
            "type": "scattergl"
           }
          ],
          "scattermapbox": [
           {
            "marker": {
             "colorbar": {
              "outlinewidth": 0,
              "ticks": ""
             }
            },
            "type": "scattermapbox"
           }
          ],
          "scatterpolar": [
           {
            "marker": {
             "colorbar": {
              "outlinewidth": 0,
              "ticks": ""
             }
            },
            "type": "scatterpolar"
           }
          ],
          "scatterpolargl": [
           {
            "marker": {
             "colorbar": {
              "outlinewidth": 0,
              "ticks": ""
             }
            },
            "type": "scatterpolargl"
           }
          ],
          "scatterternary": [
           {
            "marker": {
             "colorbar": {
              "outlinewidth": 0,
              "ticks": ""
             }
            },
            "type": "scatterternary"
           }
          ],
          "surface": [
           {
            "colorbar": {
             "outlinewidth": 0,
             "ticks": ""
            },
            "colorscale": [
             [
              0,
              "#0d0887"
             ],
             [
              0.1111111111111111,
              "#46039f"
             ],
             [
              0.2222222222222222,
              "#7201a8"
             ],
             [
              0.3333333333333333,
              "#9c179e"
             ],
             [
              0.4444444444444444,
              "#bd3786"
             ],
             [
              0.5555555555555556,
              "#d8576b"
             ],
             [
              0.6666666666666666,
              "#ed7953"
             ],
             [
              0.7777777777777778,
              "#fb9f3a"
             ],
             [
              0.8888888888888888,
              "#fdca26"
             ],
             [
              1,
              "#f0f921"
             ]
            ],
            "type": "surface"
           }
          ],
          "table": [
           {
            "cells": {
             "fill": {
              "color": "#EBF0F8"
             },
             "line": {
              "color": "white"
             }
            },
            "header": {
             "fill": {
              "color": "#C8D4E3"
             },
             "line": {
              "color": "white"
             }
            },
            "type": "table"
           }
          ]
         },
         "layout": {
          "annotationdefaults": {
           "arrowcolor": "#2a3f5f",
           "arrowhead": 0,
           "arrowwidth": 1
          },
          "autotypenumbers": "strict",
          "coloraxis": {
           "colorbar": {
            "outlinewidth": 0,
            "ticks": ""
           }
          },
          "colorscale": {
           "diverging": [
            [
             0,
             "#8e0152"
            ],
            [
             0.1,
             "#c51b7d"
            ],
            [
             0.2,
             "#de77ae"
            ],
            [
             0.3,
             "#f1b6da"
            ],
            [
             0.4,
             "#fde0ef"
            ],
            [
             0.5,
             "#f7f7f7"
            ],
            [
             0.6,
             "#e6f5d0"
            ],
            [
             0.7,
             "#b8e186"
            ],
            [
             0.8,
             "#7fbc41"
            ],
            [
             0.9,
             "#4d9221"
            ],
            [
             1,
             "#276419"
            ]
           ],
           "sequential": [
            [
             0,
             "#0d0887"
            ],
            [
             0.1111111111111111,
             "#46039f"
            ],
            [
             0.2222222222222222,
             "#7201a8"
            ],
            [
             0.3333333333333333,
             "#9c179e"
            ],
            [
             0.4444444444444444,
             "#bd3786"
            ],
            [
             0.5555555555555556,
             "#d8576b"
            ],
            [
             0.6666666666666666,
             "#ed7953"
            ],
            [
             0.7777777777777778,
             "#fb9f3a"
            ],
            [
             0.8888888888888888,
             "#fdca26"
            ],
            [
             1,
             "#f0f921"
            ]
           ],
           "sequentialminus": [
            [
             0,
             "#0d0887"
            ],
            [
             0.1111111111111111,
             "#46039f"
            ],
            [
             0.2222222222222222,
             "#7201a8"
            ],
            [
             0.3333333333333333,
             "#9c179e"
            ],
            [
             0.4444444444444444,
             "#bd3786"
            ],
            [
             0.5555555555555556,
             "#d8576b"
            ],
            [
             0.6666666666666666,
             "#ed7953"
            ],
            [
             0.7777777777777778,
             "#fb9f3a"
            ],
            [
             0.8888888888888888,
             "#fdca26"
            ],
            [
             1,
             "#f0f921"
            ]
           ]
          },
          "colorway": [
           "#636efa",
           "#EF553B",
           "#00cc96",
           "#ab63fa",
           "#FFA15A",
           "#19d3f3",
           "#FF6692",
           "#B6E880",
           "#FF97FF",
           "#FECB52"
          ],
          "font": {
           "color": "#2a3f5f"
          },
          "geo": {
           "bgcolor": "white",
           "lakecolor": "white",
           "landcolor": "#E5ECF6",
           "showlakes": true,
           "showland": true,
           "subunitcolor": "white"
          },
          "hoverlabel": {
           "align": "left"
          },
          "hovermode": "closest",
          "mapbox": {
           "style": "light"
          },
          "paper_bgcolor": "white",
          "plot_bgcolor": "#E5ECF6",
          "polar": {
           "angularaxis": {
            "gridcolor": "white",
            "linecolor": "white",
            "ticks": ""
           },
           "bgcolor": "#E5ECF6",
           "radialaxis": {
            "gridcolor": "white",
            "linecolor": "white",
            "ticks": ""
           }
          },
          "scene": {
           "xaxis": {
            "backgroundcolor": "#E5ECF6",
            "gridcolor": "white",
            "gridwidth": 2,
            "linecolor": "white",
            "showbackground": true,
            "ticks": "",
            "zerolinecolor": "white"
           },
           "yaxis": {
            "backgroundcolor": "#E5ECF6",
            "gridcolor": "white",
            "gridwidth": 2,
            "linecolor": "white",
            "showbackground": true,
            "ticks": "",
            "zerolinecolor": "white"
           },
           "zaxis": {
            "backgroundcolor": "#E5ECF6",
            "gridcolor": "white",
            "gridwidth": 2,
            "linecolor": "white",
            "showbackground": true,
            "ticks": "",
            "zerolinecolor": "white"
           }
          },
          "shapedefaults": {
           "line": {
            "color": "#2a3f5f"
           }
          },
          "ternary": {
           "aaxis": {
            "gridcolor": "white",
            "linecolor": "white",
            "ticks": ""
           },
           "baxis": {
            "gridcolor": "white",
            "linecolor": "white",
            "ticks": ""
           },
           "bgcolor": "#E5ECF6",
           "caxis": {
            "gridcolor": "white",
            "linecolor": "white",
            "ticks": ""
           }
          },
          "title": {
           "x": 0.05
          },
          "xaxis": {
           "automargin": true,
           "gridcolor": "white",
           "linecolor": "white",
           "ticks": "",
           "title": {
            "standoff": 15
           },
           "zerolinecolor": "white",
           "zerolinewidth": 2
          },
          "yaxis": {
           "automargin": true,
           "gridcolor": "white",
           "linecolor": "white",
           "ticks": "",
           "title": {
            "standoff": 15
           },
           "zerolinecolor": "white",
           "zerolinewidth": 2
          }
         }
        }
       }
      },
      "text/html": [
       "<div>                            <div id=\"0119e6df-2a7f-4762-af9f-45a5114c2795\" class=\"plotly-graph-div\" style=\"height:525px; width:100%;\"></div>            <script type=\"text/javascript\">                require([\"plotly\"], function(Plotly) {                    window.PLOTLYENV=window.PLOTLYENV || {};                                    if (document.getElementById(\"0119e6df-2a7f-4762-af9f-45a5114c2795\")) {                    Plotly.newPlot(                        \"0119e6df-2a7f-4762-af9f-45a5114c2795\",                        [{\"coloraxis\":\"coloraxis\",\"customdata\":[[0.6],[-0.3714285714285715],[0.4285714285714286],[0.5428571428571429],[-0.3142857142857143],[0.33394720739540396],[0.3142857142857143],[0.8857142857142858],[0.7142857142857143],[0.2571428571428572],[0.48571428571428577],[0.8285714285714287],[0.7714285714285715],[0.6571428571428573],[0.057977103565244846],[-0.7714285714285715],[0.5428571428571429]],\"geo\":\"geo\",\"hovertemplate\":\"<b>%{hovertext}</b><br><br>ISO_A3=%{location}<br>Correlation Coeff.=%{customdata[0]}<br>P-value=%{z}<extra></extra>\",\"hovertext\":[\"Australia\",\"Canada\",\"China\",\"Germany\",\"Denmark\",\"Spain\",\"France\",\"United Kingdom\",\"Greece\",\"Croatia\",\"Indonesia\",\"Italy\",\"Japan\",\"Netherlands\",\"Norway\",\"Sweden\",\"United States of America\"],\"locations\":[\"AUS\",\"CAN\",\"CHN\",\"DEU\",\"DNK\",\"ESP\",\"FRA\",\"GBR\",\"GRC\",\"HRV\",\"IDN\",\"ITA\",\"JPN\",\"NLD\",\"NOR\",\"SWE\",\"USA\"],\"name\":\"\",\"z\":[0.20799999999999982,0.46847813411078715,0.3965014577259474,0.26570262390670557,0.5440932944606414,0.5177002083054396,0.5440932944606414,0.01884548104956266,0.1107871720116617,0.6227871720116618,0.3287230320699709,0.04156268221574334,0.07239650145772594,0.15617492711370237,0.9131317851623264,0.07239650145772594,0.26570262390670557],\"type\":\"choropleth\"}],                        {\"template\":{\"data\":{\"histogram2dcontour\":[{\"type\":\"histogram2dcontour\",\"colorbar\":{\"outlinewidth\":0,\"ticks\":\"\"},\"colorscale\":[[0.0,\"#0d0887\"],[0.1111111111111111,\"#46039f\"],[0.2222222222222222,\"#7201a8\"],[0.3333333333333333,\"#9c179e\"],[0.4444444444444444,\"#bd3786\"],[0.5555555555555556,\"#d8576b\"],[0.6666666666666666,\"#ed7953\"],[0.7777777777777778,\"#fb9f3a\"],[0.8888888888888888,\"#fdca26\"],[1.0,\"#f0f921\"]]}],\"choropleth\":[{\"type\":\"choropleth\",\"colorbar\":{\"outlinewidth\":0,\"ticks\":\"\"}}],\"histogram2d\":[{\"type\":\"histogram2d\",\"colorbar\":{\"outlinewidth\":0,\"ticks\":\"\"},\"colorscale\":[[0.0,\"#0d0887\"],[0.1111111111111111,\"#46039f\"],[0.2222222222222222,\"#7201a8\"],[0.3333333333333333,\"#9c179e\"],[0.4444444444444444,\"#bd3786\"],[0.5555555555555556,\"#d8576b\"],[0.6666666666666666,\"#ed7953\"],[0.7777777777777778,\"#fb9f3a\"],[0.8888888888888888,\"#fdca26\"],[1.0,\"#f0f921\"]]}],\"heatmap\":[{\"type\":\"heatmap\",\"colorbar\":{\"outlinewidth\":0,\"ticks\":\"\"},\"colorscale\":[[0.0,\"#0d0887\"],[0.1111111111111111,\"#46039f\"],[0.2222222222222222,\"#7201a8\"],[0.3333333333333333,\"#9c179e\"],[0.4444444444444444,\"#bd3786\"],[0.5555555555555556,\"#d8576b\"],[0.6666666666666666,\"#ed7953\"],[0.7777777777777778,\"#fb9f3a\"],[0.8888888888888888,\"#fdca26\"],[1.0,\"#f0f921\"]]}],\"heatmapgl\":[{\"type\":\"heatmapgl\",\"colorbar\":{\"outlinewidth\":0,\"ticks\":\"\"},\"colorscale\":[[0.0,\"#0d0887\"],[0.1111111111111111,\"#46039f\"],[0.2222222222222222,\"#7201a8\"],[0.3333333333333333,\"#9c179e\"],[0.4444444444444444,\"#bd3786\"],[0.5555555555555556,\"#d8576b\"],[0.6666666666666666,\"#ed7953\"],[0.7777777777777778,\"#fb9f3a\"],[0.8888888888888888,\"#fdca26\"],[1.0,\"#f0f921\"]]}],\"contourcarpet\":[{\"type\":\"contourcarpet\",\"colorbar\":{\"outlinewidth\":0,\"ticks\":\"\"}}],\"contour\":[{\"type\":\"contour\",\"colorbar\":{\"outlinewidth\":0,\"ticks\":\"\"},\"colorscale\":[[0.0,\"#0d0887\"],[0.1111111111111111,\"#46039f\"],[0.2222222222222222,\"#7201a8\"],[0.3333333333333333,\"#9c179e\"],[0.4444444444444444,\"#bd3786\"],[0.5555555555555556,\"#d8576b\"],[0.6666666666666666,\"#ed7953\"],[0.7777777777777778,\"#fb9f3a\"],[0.8888888888888888,\"#fdca26\"],[1.0,\"#f0f921\"]]}],\"surface\":[{\"type\":\"surface\",\"colorbar\":{\"outlinewidth\":0,\"ticks\":\"\"},\"colorscale\":[[0.0,\"#0d0887\"],[0.1111111111111111,\"#46039f\"],[0.2222222222222222,\"#7201a8\"],[0.3333333333333333,\"#9c179e\"],[0.4444444444444444,\"#bd3786\"],[0.5555555555555556,\"#d8576b\"],[0.6666666666666666,\"#ed7953\"],[0.7777777777777778,\"#fb9f3a\"],[0.8888888888888888,\"#fdca26\"],[1.0,\"#f0f921\"]]}],\"mesh3d\":[{\"type\":\"mesh3d\",\"colorbar\":{\"outlinewidth\":0,\"ticks\":\"\"}}],\"scatter\":[{\"fillpattern\":{\"fillmode\":\"overlay\",\"size\":10,\"solidity\":0.2},\"type\":\"scatter\"}],\"parcoords\":[{\"type\":\"parcoords\",\"line\":{\"colorbar\":{\"outlinewidth\":0,\"ticks\":\"\"}}}],\"scatterpolargl\":[{\"type\":\"scatterpolargl\",\"marker\":{\"colorbar\":{\"outlinewidth\":0,\"ticks\":\"\"}}}],\"bar\":[{\"error_x\":{\"color\":\"#2a3f5f\"},\"error_y\":{\"color\":\"#2a3f5f\"},\"marker\":{\"line\":{\"color\":\"#E5ECF6\",\"width\":0.5},\"pattern\":{\"fillmode\":\"overlay\",\"size\":10,\"solidity\":0.2}},\"type\":\"bar\"}],\"scattergeo\":[{\"type\":\"scattergeo\",\"marker\":{\"colorbar\":{\"outlinewidth\":0,\"ticks\":\"\"}}}],\"scatterpolar\":[{\"type\":\"scatterpolar\",\"marker\":{\"colorbar\":{\"outlinewidth\":0,\"ticks\":\"\"}}}],\"histogram\":[{\"marker\":{\"pattern\":{\"fillmode\":\"overlay\",\"size\":10,\"solidity\":0.2}},\"type\":\"histogram\"}],\"scattergl\":[{\"type\":\"scattergl\",\"marker\":{\"colorbar\":{\"outlinewidth\":0,\"ticks\":\"\"}}}],\"scatter3d\":[{\"type\":\"scatter3d\",\"line\":{\"colorbar\":{\"outlinewidth\":0,\"ticks\":\"\"}},\"marker\":{\"colorbar\":{\"outlinewidth\":0,\"ticks\":\"\"}}}],\"scattermapbox\":[{\"type\":\"scattermapbox\",\"marker\":{\"colorbar\":{\"outlinewidth\":0,\"ticks\":\"\"}}}],\"scatterternary\":[{\"type\":\"scatterternary\",\"marker\":{\"colorbar\":{\"outlinewidth\":0,\"ticks\":\"\"}}}],\"scattercarpet\":[{\"type\":\"scattercarpet\",\"marker\":{\"colorbar\":{\"outlinewidth\":0,\"ticks\":\"\"}}}],\"carpet\":[{\"aaxis\":{\"endlinecolor\":\"#2a3f5f\",\"gridcolor\":\"white\",\"linecolor\":\"white\",\"minorgridcolor\":\"white\",\"startlinecolor\":\"#2a3f5f\"},\"baxis\":{\"endlinecolor\":\"#2a3f5f\",\"gridcolor\":\"white\",\"linecolor\":\"white\",\"minorgridcolor\":\"white\",\"startlinecolor\":\"#2a3f5f\"},\"type\":\"carpet\"}],\"table\":[{\"cells\":{\"fill\":{\"color\":\"#EBF0F8\"},\"line\":{\"color\":\"white\"}},\"header\":{\"fill\":{\"color\":\"#C8D4E3\"},\"line\":{\"color\":\"white\"}},\"type\":\"table\"}],\"barpolar\":[{\"marker\":{\"line\":{\"color\":\"#E5ECF6\",\"width\":0.5},\"pattern\":{\"fillmode\":\"overlay\",\"size\":10,\"solidity\":0.2}},\"type\":\"barpolar\"}],\"pie\":[{\"automargin\":true,\"type\":\"pie\"}]},\"layout\":{\"autotypenumbers\":\"strict\",\"colorway\":[\"#636efa\",\"#EF553B\",\"#00cc96\",\"#ab63fa\",\"#FFA15A\",\"#19d3f3\",\"#FF6692\",\"#B6E880\",\"#FF97FF\",\"#FECB52\"],\"font\":{\"color\":\"#2a3f5f\"},\"hovermode\":\"closest\",\"hoverlabel\":{\"align\":\"left\"},\"paper_bgcolor\":\"white\",\"plot_bgcolor\":\"#E5ECF6\",\"polar\":{\"bgcolor\":\"#E5ECF6\",\"angularaxis\":{\"gridcolor\":\"white\",\"linecolor\":\"white\",\"ticks\":\"\"},\"radialaxis\":{\"gridcolor\":\"white\",\"linecolor\":\"white\",\"ticks\":\"\"}},\"ternary\":{\"bgcolor\":\"#E5ECF6\",\"aaxis\":{\"gridcolor\":\"white\",\"linecolor\":\"white\",\"ticks\":\"\"},\"baxis\":{\"gridcolor\":\"white\",\"linecolor\":\"white\",\"ticks\":\"\"},\"caxis\":{\"gridcolor\":\"white\",\"linecolor\":\"white\",\"ticks\":\"\"}},\"coloraxis\":{\"colorbar\":{\"outlinewidth\":0,\"ticks\":\"\"}},\"colorscale\":{\"sequential\":[[0.0,\"#0d0887\"],[0.1111111111111111,\"#46039f\"],[0.2222222222222222,\"#7201a8\"],[0.3333333333333333,\"#9c179e\"],[0.4444444444444444,\"#bd3786\"],[0.5555555555555556,\"#d8576b\"],[0.6666666666666666,\"#ed7953\"],[0.7777777777777778,\"#fb9f3a\"],[0.8888888888888888,\"#fdca26\"],[1.0,\"#f0f921\"]],\"sequentialminus\":[[0.0,\"#0d0887\"],[0.1111111111111111,\"#46039f\"],[0.2222222222222222,\"#7201a8\"],[0.3333333333333333,\"#9c179e\"],[0.4444444444444444,\"#bd3786\"],[0.5555555555555556,\"#d8576b\"],[0.6666666666666666,\"#ed7953\"],[0.7777777777777778,\"#fb9f3a\"],[0.8888888888888888,\"#fdca26\"],[1.0,\"#f0f921\"]],\"diverging\":[[0,\"#8e0152\"],[0.1,\"#c51b7d\"],[0.2,\"#de77ae\"],[0.3,\"#f1b6da\"],[0.4,\"#fde0ef\"],[0.5,\"#f7f7f7\"],[0.6,\"#e6f5d0\"],[0.7,\"#b8e186\"],[0.8,\"#7fbc41\"],[0.9,\"#4d9221\"],[1,\"#276419\"]]},\"xaxis\":{\"gridcolor\":\"white\",\"linecolor\":\"white\",\"ticks\":\"\",\"title\":{\"standoff\":15},\"zerolinecolor\":\"white\",\"automargin\":true,\"zerolinewidth\":2},\"yaxis\":{\"gridcolor\":\"white\",\"linecolor\":\"white\",\"ticks\":\"\",\"title\":{\"standoff\":15},\"zerolinecolor\":\"white\",\"automargin\":true,\"zerolinewidth\":2},\"scene\":{\"xaxis\":{\"backgroundcolor\":\"#E5ECF6\",\"gridcolor\":\"white\",\"linecolor\":\"white\",\"showbackground\":true,\"ticks\":\"\",\"zerolinecolor\":\"white\",\"gridwidth\":2},\"yaxis\":{\"backgroundcolor\":\"#E5ECF6\",\"gridcolor\":\"white\",\"linecolor\":\"white\",\"showbackground\":true,\"ticks\":\"\",\"zerolinecolor\":\"white\",\"gridwidth\":2},\"zaxis\":{\"backgroundcolor\":\"#E5ECF6\",\"gridcolor\":\"white\",\"linecolor\":\"white\",\"showbackground\":true,\"ticks\":\"\",\"zerolinecolor\":\"white\",\"gridwidth\":2}},\"shapedefaults\":{\"line\":{\"color\":\"#2a3f5f\"}},\"annotationdefaults\":{\"arrowcolor\":\"#2a3f5f\",\"arrowhead\":0,\"arrowwidth\":1},\"geo\":{\"bgcolor\":\"white\",\"landcolor\":\"#E5ECF6\",\"subunitcolor\":\"white\",\"showland\":true,\"showlakes\":true,\"lakecolor\":\"white\"},\"title\":{\"x\":0.05},\"mapbox\":{\"style\":\"light\"}}},\"geo\":{\"domain\":{\"x\":[0.0,1.0],\"y\":[0.0,1.0]},\"center\":{}},\"coloraxis\":{\"colorbar\":{\"title\":{\"text\":\"P-value\"}},\"colorscale\":[[0.0,\"#0d0887\"],[0.1111111111111111,\"#46039f\"],[0.2222222222222222,\"#7201a8\"],[0.3333333333333333,\"#9c179e\"],[0.4444444444444444,\"#bd3786\"],[0.5555555555555556,\"#d8576b\"],[0.6666666666666666,\"#ed7953\"],[0.7777777777777778,\"#fb9f3a\"],[0.8888888888888888,\"#fdca26\"],[1.0,\"#f0f921\"]],\"cmin\":0,\"cmax\":1},\"legend\":{\"tracegroupgap\":0},\"margin\":{\"t\":60}},                        {\"responsive\": true}                    ).then(function(){\n",
       "                            \n",
       "var gd = document.getElementById('0119e6df-2a7f-4762-af9f-45a5114c2795');\n",
       "var x = new MutationObserver(function (mutations, observer) {{\n",
       "        var display = window.getComputedStyle(gd).display;\n",
       "        if (!display || display === 'none') {{\n",
       "            console.log([gd, 'removed!']);\n",
       "            Plotly.purge(gd);\n",
       "            observer.disconnect();\n",
       "        }}\n",
       "}});\n",
       "\n",
       "// Listen for the removal of the full notebook cells\n",
       "var notebookContainer = gd.closest('#notebook-container');\n",
       "if (notebookContainer) {{\n",
       "    x.observe(notebookContainer, {childList: true});\n",
       "}}\n",
       "\n",
       "// Listen for the clearing of the current output cell\n",
       "var outputEl = gd.closest('.output');\n",
       "if (outputEl) {{\n",
       "    x.observe(outputEl, {childList: true});\n",
       "}}\n",
       "\n",
       "                        })                };                });            </script>        </div>"
      ]
     },
     "metadata": {},
     "output_type": "display_data"
    }
   ],
   "source": [
    "#this will be a world map for P-value/correlation coeff\n",
    "\n",
    "fig = px.choropleth(geo_spearman, locations=\"ISO_A3\",\n",
    "                    color=\"P-value\", \n",
    "                    hover_name=\"country\",\n",
    "                    range_color=(0, 1),\n",
    "                    hover_data=['Correlation Coeff.'], #I just want to shorten it done to 4 decimal places %10.4f\n",
    "                    color_continuous_scale=px.colors.sequential.Plasma)\n",
    "fig.show()"
   ]
  },
  {
   "cell_type": "code",
   "execution_count": null,
   "metadata": {},
   "outputs": [],
   "source": []
  }
 ],
 "metadata": {
  "kernelspec": {
   "display_name": "Python 3 (ipykernel)",
   "language": "python",
   "name": "python3"
  },
  "language_info": {
   "codemirror_mode": {
    "name": "ipython",
    "version": 3
   },
   "file_extension": ".py",
   "mimetype": "text/x-python",
   "name": "python",
   "nbconvert_exporter": "python",
   "pygments_lexer": "ipython3",
   "version": "3.7.13"
  },
  "vscode": {
   "interpreter": {
    "hash": "3b555cf90cc979e63e151482c0cbf8cbd39dcbd359ce2e37fdfd3598b3bd6f77"
   }
  }
 },
 "nbformat": 4,
 "nbformat_minor": 2
}
