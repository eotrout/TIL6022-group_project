{
 "cells": [
  {
   "cell_type": "code",
   "execution_count": 10,
   "metadata": {},
   "outputs": [
    {
     "data": {
      "text/html": [
       "        <script type=\"text/javascript\">\n",
       "        window.PlotlyConfig = {MathJaxConfig: 'local'};\n",
       "        if (window.MathJax && window.MathJax.Hub && window.MathJax.Hub.Config) {window.MathJax.Hub.Config({SVG: {font: \"STIX-Web\"}});}\n",
       "        if (typeof require !== 'undefined') {\n",
       "        require.undef(\"plotly\");\n",
       "        requirejs.config({\n",
       "            paths: {\n",
       "                'plotly': ['https://cdn.plot.ly/plotly-2.14.0.min']\n",
       "            }\n",
       "        });\n",
       "        require(['plotly'], function(Plotly) {\n",
       "            window._Plotly = Plotly;\n",
       "        });\n",
       "        }\n",
       "        </script>\n",
       "        "
      ]
     },
     "metadata": {},
     "output_type": "display_data"
    }
   ],
   "source": [
    "import pandas as pd\n",
    "import chardet\n",
    "from plotly.offline import init_notebook_mode\n",
    "import numpy as np\n",
    "from numpy import mean\n",
    "from numpy import std\n",
    "import plotly.io as pio\n",
    "import plotly.express as px\n",
    "from plotly.subplots import make_subplots\n",
    "import plotly.graph_objects as go\n",
    "import json\n",
    "import itertools\n",
    "import geopandas as gpd\n",
    "import geoplot\n",
    "import geoplot.crs as gcrs\n",
    "import math\n",
    "import scipy\n",
    "from scipy.signal import find_peaks\n",
    "from datetime import datetime\n",
    "from scipy.stats import spearmanr\n",
    "\n",
    "init_notebook_mode(connected=True)\n",
    "pio.renderers.default = \"plotly_mimetype+notebook\""
   ]
  },
  {
   "cell_type": "code",
   "execution_count": 11,
   "metadata": {},
   "outputs": [
    {
     "data": {
      "text/plain": [
       "{'encoding': 'utf-8', 'confidence': 0.99, 'language': ''}"
      ]
     },
     "execution_count": 11,
     "metadata": {},
     "output_type": "execute_result"
    }
   ],
   "source": [
    "file_path = r\"/Users/iantrout/TIL6022-group_project/Data/Maritime data/US_PortCalls_S_ST202209220924_v1.csv\"\n",
    "with open(file_path, 'rb') as rawdata:\n",
    "    result = chardet.detect(rawdata.read(100000))\n",
    "result"
   ]
  },
  {
   "cell_type": "code",
   "execution_count": 12,
   "metadata": {
    "scrolled": true
   },
   "outputs": [],
   "source": [
    "file_path1 = '/Users/iantrout/TIL6022-group_project/JOHN_FILES/covid_data.csv'\n",
    "\n",
    "df = pd.read_csv(file_path1)\n",
    "df = df.rename({\n",
    "    'Date_reported': 'date',\n",
    "    'Country': 'country',\n",
    "    'New_cases': 'new_cases',\n",
    "    'Cumulative_cases': 'cumulative_cases'\n",
    "}, axis=1) \n",
    "df = df.drop(labels=[\n",
    "    'New_deaths', \n",
    "    'Cumulative_deaths', \n",
    "    'Country_code', \n",
    "    'WHO_region'\n",
    "], axis=1)\n",
    "\n",
    "df_port = pd.read_csv(file_path,encoding='utf-8')\n",
    "df_port = df_port.drop(columns=['Period Label','Year','Frequency', 'Frequency Label', 'Economy', \n",
    "                                      'CommercialMarket', 'Median time in port (days) Footnote',\n",
    "                                      'Average age of vessels Footnote', 'Average size (GT) of vessels Footnote',\n",
    "                                      'Maximum size (GT) of vessels Footnote', 'Average cargo carrying capacity (dwt) per vessel Footnote',\n",
    "                                      'Maximum cargo carrying capacity (dwt) of vessels Footnote','Average container carrying capacity (TEU) per container ship Footnote',\n",
    "                                      'Maximum container carrying capacity (TEU) of container ships Footnote'])\n",
    "df_port.rename(columns = {'Economy Label': 'country', 'CommercialMarket Label': 'Vessel_Type', }, inplace=True)\n",
    "\n",
    "for i in range(len(df)):\n",
    "    k=df.iloc[i,0].split('-')\n",
    "    df.iloc[i,0]=datetime(int(k[0]),int(k[1]),int(k[2]))\n",
    "\n",
    "df_new = (df.groupby(['country', pd.Grouper(key='date', freq='6M')])\n",
    "        .max()\n",
    "        .reset_index())\n"
   ]
  },
  {
   "cell_type": "code",
   "execution_count": 13,
   "metadata": {},
   "outputs": [],
   "source": [
    "date_change=[]\n",
    "for row in df_port['Period']:\n",
    "    if row == '2018S01' :   date_change.append(datetime(2018,7,31))\n",
    "    elif row == '2018S02':   date_change.append(datetime(2019,1,31))\n",
    "    elif row == '2019S01':  date_change.append(datetime(2019,7,31))\n",
    "    elif row == '2019S02':  date_change.append(datetime(2020,1,31))\n",
    "    elif row == '2020S01':  date_change.append(datetime(2020,7,31))\n",
    "    elif row == '2020S02':  date_change.append(datetime(2021,1,31))\n",
    "    elif row == '2021S01':  date_change.append(datetime(2021,7,31))\n",
    "    elif row == '2021S02':  date_change.append(datetime(2022,1,31))\n",
    "    elif row == '2022S01':  date_change.append(datetime(2022,7,31))\n",
    "    \n",
    "    else:           date_change.append('Not_Rated')\n",
    "\n",
    "\n",
    "#df_port = df_port.drop(columns=['Period']) Ian needs this otherwise it's a pain to show the choloropath later. \n",
    "df_port['date'] = date_change"
   ]
  },
  {
   "cell_type": "code",
   "execution_count": 14,
   "metadata": {},
   "outputs": [
    {
     "data": {
      "text/html": [
       "<div>\n",
       "<style scoped>\n",
       "    .dataframe tbody tr th:only-of-type {\n",
       "        vertical-align: middle;\n",
       "    }\n",
       "\n",
       "    .dataframe tbody tr th {\n",
       "        vertical-align: top;\n",
       "    }\n",
       "\n",
       "    .dataframe thead th {\n",
       "        text-align: right;\n",
       "    }\n",
       "</style>\n",
       "<table border=\"1\" class=\"dataframe\">\n",
       "  <thead>\n",
       "    <tr style=\"text-align: right;\">\n",
       "      <th></th>\n",
       "      <th>country</th>\n",
       "      <th>date</th>\n",
       "      <th>new_cases</th>\n",
       "      <th>cumulative_cases</th>\n",
       "      <th>Period</th>\n",
       "      <th>Vessel_Type</th>\n",
       "      <th>Median time in port (days)</th>\n",
       "      <th>Average age of vessels</th>\n",
       "      <th>Average size (GT) of vessels</th>\n",
       "      <th>Maximum size (GT) of vessels</th>\n",
       "      <th>Average cargo carrying capacity (dwt) per vessel</th>\n",
       "      <th>Maximum cargo carrying capacity (dwt) of vessels</th>\n",
       "      <th>Average container carrying capacity (TEU) per container ship</th>\n",
       "      <th>Maximum container carrying capacity (TEU) of container ships</th>\n",
       "    </tr>\n",
       "  </thead>\n",
       "  <tbody>\n",
       "    <tr>\n",
       "      <th>0</th>\n",
       "      <td>World</td>\n",
       "      <td>2018-07-31</td>\n",
       "      <td>NaN</td>\n",
       "      <td>NaN</td>\n",
       "      <td>2018S01</td>\n",
       "      <td>All ships</td>\n",
       "      <td>0.97</td>\n",
       "      <td>18</td>\n",
       "      <td>15222</td>\n",
       "      <td>234006</td>\n",
       "      <td>24074.0</td>\n",
       "      <td>441561.0</td>\n",
       "      <td>3526.0</td>\n",
       "      <td>21413.0</td>\n",
       "    </tr>\n",
       "    <tr>\n",
       "      <th>1</th>\n",
       "      <td>World</td>\n",
       "      <td>2018-07-31</td>\n",
       "      <td>NaN</td>\n",
       "      <td>NaN</td>\n",
       "      <td>2018S01</td>\n",
       "      <td>Passenger ships</td>\n",
       "      <td>NaN</td>\n",
       "      <td>21</td>\n",
       "      <td>8978</td>\n",
       "      <td>228081</td>\n",
       "      <td>NaN</td>\n",
       "      <td>NaN</td>\n",
       "      <td>NaN</td>\n",
       "      <td>NaN</td>\n",
       "    </tr>\n",
       "    <tr>\n",
       "      <th>2</th>\n",
       "      <td>World</td>\n",
       "      <td>2018-07-31</td>\n",
       "      <td>NaN</td>\n",
       "      <td>NaN</td>\n",
       "      <td>2018S01</td>\n",
       "      <td>Liquid bulk carriers</td>\n",
       "      <td>0.94</td>\n",
       "      <td>13</td>\n",
       "      <td>15470</td>\n",
       "      <td>234006</td>\n",
       "      <td>26871.0</td>\n",
       "      <td>441561.0</td>\n",
       "      <td>NaN</td>\n",
       "      <td>NaN</td>\n",
       "    </tr>\n",
       "    <tr>\n",
       "      <th>3</th>\n",
       "      <td>World</td>\n",
       "      <td>2018-07-31</td>\n",
       "      <td>NaN</td>\n",
       "      <td>NaN</td>\n",
       "      <td>2018S01</td>\n",
       "      <td>Container ships</td>\n",
       "      <td>0.69</td>\n",
       "      <td>13</td>\n",
       "      <td>38405</td>\n",
       "      <td>217673</td>\n",
       "      <td>NaN</td>\n",
       "      <td>NaN</td>\n",
       "      <td>3526.0</td>\n",
       "      <td>21413.0</td>\n",
       "    </tr>\n",
       "    <tr>\n",
       "      <th>4</th>\n",
       "      <td>World</td>\n",
       "      <td>2018-07-31</td>\n",
       "      <td>NaN</td>\n",
       "      <td>NaN</td>\n",
       "      <td>2018S01</td>\n",
       "      <td>Dry breakbulk carriers</td>\n",
       "      <td>1.12</td>\n",
       "      <td>19</td>\n",
       "      <td>5455</td>\n",
       "      <td>91784</td>\n",
       "      <td>7413.0</td>\n",
       "      <td>138743.0</td>\n",
       "      <td>NaN</td>\n",
       "      <td>NaN</td>\n",
       "    </tr>\n",
       "  </tbody>\n",
       "</table>\n",
       "</div>"
      ],
      "text/plain": [
       "  country       date  new_cases  cumulative_cases   Period  \\\n",
       "0   World 2018-07-31        NaN               NaN  2018S01   \n",
       "1   World 2018-07-31        NaN               NaN  2018S01   \n",
       "2   World 2018-07-31        NaN               NaN  2018S01   \n",
       "3   World 2018-07-31        NaN               NaN  2018S01   \n",
       "4   World 2018-07-31        NaN               NaN  2018S01   \n",
       "\n",
       "              Vessel_Type  Median time in port (days)  Average age of vessels  \\\n",
       "0               All ships                        0.97                      18   \n",
       "1         Passenger ships                         NaN                      21   \n",
       "2    Liquid bulk carriers                        0.94                      13   \n",
       "3         Container ships                        0.69                      13   \n",
       "4  Dry breakbulk carriers                        1.12                      19   \n",
       "\n",
       "   Average size (GT) of vessels  Maximum size (GT) of vessels  \\\n",
       "0                         15222                        234006   \n",
       "1                          8978                        228081   \n",
       "2                         15470                        234006   \n",
       "3                         38405                        217673   \n",
       "4                          5455                         91784   \n",
       "\n",
       "   Average cargo carrying capacity (dwt) per vessel  \\\n",
       "0                                           24074.0   \n",
       "1                                               NaN   \n",
       "2                                           26871.0   \n",
       "3                                               NaN   \n",
       "4                                            7413.0   \n",
       "\n",
       "   Maximum cargo carrying capacity (dwt) of vessels  \\\n",
       "0                                          441561.0   \n",
       "1                                               NaN   \n",
       "2                                          441561.0   \n",
       "3                                               NaN   \n",
       "4                                          138743.0   \n",
       "\n",
       "   Average container carrying capacity (TEU) per container ship  \\\n",
       "0                                             3526.0              \n",
       "1                                                NaN              \n",
       "2                                                NaN              \n",
       "3                                             3526.0              \n",
       "4                                                NaN              \n",
       "\n",
       "   Maximum container carrying capacity (TEU) of container ships  \n",
       "0                                            21413.0             \n",
       "1                                                NaN             \n",
       "2                                                NaN             \n",
       "3                                            21413.0             \n",
       "4                                                NaN             "
      ]
     },
     "execution_count": 14,
     "metadata": {},
     "output_type": "execute_result"
    }
   ],
   "source": [
    "df_combined=pd.merge(df_new,df_port,on=['country','date'], how='right') \n",
    "#I changed this to be right so that we have pre-covid data\n",
    "df_combined.head()"
   ]
  },
  {
   "cell_type": "code",
   "execution_count": 15,
   "metadata": {},
   "outputs": [],
   "source": [
    "geodata = gpd.read_file(\"/Users/iantrout/TIL6022-group_project/Data/countries.geojson\") # geojson file\n",
    "geodata.rename(columns = {'Location': 'country', }, inplace=True)"
   ]
  },
  {
   "cell_type": "code",
   "execution_count": 16,
   "metadata": {},
   "outputs": [
    {
     "data": {
      "text/html": [
       "<div>\n",
       "<style scoped>\n",
       "    .dataframe tbody tr th:only-of-type {\n",
       "        vertical-align: middle;\n",
       "    }\n",
       "\n",
       "    .dataframe tbody tr th {\n",
       "        vertical-align: top;\n",
       "    }\n",
       "\n",
       "    .dataframe thead th {\n",
       "        text-align: right;\n",
       "    }\n",
       "</style>\n",
       "<table border=\"1\" class=\"dataframe\">\n",
       "  <thead>\n",
       "    <tr style=\"text-align: right;\">\n",
       "      <th></th>\n",
       "      <th>country</th>\n",
       "      <th>ISO_A3</th>\n",
       "      <th>geometry</th>\n",
       "      <th>date</th>\n",
       "      <th>new_cases</th>\n",
       "      <th>cumulative_cases</th>\n",
       "      <th>Period</th>\n",
       "      <th>Vessel_Type</th>\n",
       "      <th>Median time in port (days)</th>\n",
       "      <th>Average age of vessels</th>\n",
       "      <th>Average size (GT) of vessels</th>\n",
       "      <th>Maximum size (GT) of vessels</th>\n",
       "      <th>Average cargo carrying capacity (dwt) per vessel</th>\n",
       "      <th>Maximum cargo carrying capacity (dwt) of vessels</th>\n",
       "      <th>Average container carrying capacity (TEU) per container ship</th>\n",
       "      <th>Maximum container carrying capacity (TEU) of container ships</th>\n",
       "    </tr>\n",
       "  </thead>\n",
       "  <tbody>\n",
       "    <tr>\n",
       "      <th>0</th>\n",
       "      <td>Australia</td>\n",
       "      <td>AUS</td>\n",
       "      <td>MULTIPOLYGON (((158.86573 -54.74993, 158.83823...</td>\n",
       "      <td>2018-07-31</td>\n",
       "      <td>NaN</td>\n",
       "      <td>NaN</td>\n",
       "      <td>2018S01</td>\n",
       "      <td>All ships</td>\n",
       "      <td>1.49</td>\n",
       "      <td>19</td>\n",
       "      <td>25686</td>\n",
       "      <td>168666</td>\n",
       "      <td>78572.0</td>\n",
       "      <td>299688.0</td>\n",
       "      <td>4263.0</td>\n",
       "      <td>8084.0</td>\n",
       "    </tr>\n",
       "    <tr>\n",
       "      <th>1</th>\n",
       "      <td>Australia</td>\n",
       "      <td>AUS</td>\n",
       "      <td>MULTIPOLYGON (((158.86573 -54.74993, 158.83823...</td>\n",
       "      <td>2018-07-31</td>\n",
       "      <td>NaN</td>\n",
       "      <td>NaN</td>\n",
       "      <td>2018S01</td>\n",
       "      <td>Passenger ships</td>\n",
       "      <td>NaN</td>\n",
       "      <td>27</td>\n",
       "      <td>5105</td>\n",
       "      <td>168666</td>\n",
       "      <td>NaN</td>\n",
       "      <td>NaN</td>\n",
       "      <td>NaN</td>\n",
       "      <td>NaN</td>\n",
       "    </tr>\n",
       "    <tr>\n",
       "      <th>2</th>\n",
       "      <td>Australia</td>\n",
       "      <td>AUS</td>\n",
       "      <td>MULTIPOLYGON (((158.86573 -54.74993, 158.83823...</td>\n",
       "      <td>2018-07-31</td>\n",
       "      <td>NaN</td>\n",
       "      <td>NaN</td>\n",
       "      <td>2018S01</td>\n",
       "      <td>Liquid bulk carriers</td>\n",
       "      <td>1.34</td>\n",
       "      <td>7</td>\n",
       "      <td>23585</td>\n",
       "      <td>85496</td>\n",
       "      <td>40187.0</td>\n",
       "      <td>166447.0</td>\n",
       "      <td>NaN</td>\n",
       "      <td>NaN</td>\n",
       "    </tr>\n",
       "    <tr>\n",
       "      <th>3</th>\n",
       "      <td>Australia</td>\n",
       "      <td>AUS</td>\n",
       "      <td>MULTIPOLYGON (((158.86573 -54.74993, 158.83823...</td>\n",
       "      <td>2018-07-31</td>\n",
       "      <td>NaN</td>\n",
       "      <td>NaN</td>\n",
       "      <td>2018S01</td>\n",
       "      <td>Container ships</td>\n",
       "      <td>1.19</td>\n",
       "      <td>12</td>\n",
       "      <td>46778</td>\n",
       "      <td>90449</td>\n",
       "      <td>NaN</td>\n",
       "      <td>NaN</td>\n",
       "      <td>4263.0</td>\n",
       "      <td>8084.0</td>\n",
       "    </tr>\n",
       "    <tr>\n",
       "      <th>4</th>\n",
       "      <td>Australia</td>\n",
       "      <td>AUS</td>\n",
       "      <td>MULTIPOLYGON (((158.86573 -54.74993, 158.83823...</td>\n",
       "      <td>2018-07-31</td>\n",
       "      <td>NaN</td>\n",
       "      <td>NaN</td>\n",
       "      <td>2018S01</td>\n",
       "      <td>Dry breakbulk carriers</td>\n",
       "      <td>1.69</td>\n",
       "      <td>12</td>\n",
       "      <td>15417</td>\n",
       "      <td>54529</td>\n",
       "      <td>21345.0</td>\n",
       "      <td>80500.0</td>\n",
       "      <td>NaN</td>\n",
       "      <td>NaN</td>\n",
       "    </tr>\n",
       "  </tbody>\n",
       "</table>\n",
       "</div>"
      ],
      "text/plain": [
       "     country ISO_A3                                           geometry  \\\n",
       "0  Australia    AUS  MULTIPOLYGON (((158.86573 -54.74993, 158.83823...   \n",
       "1  Australia    AUS  MULTIPOLYGON (((158.86573 -54.74993, 158.83823...   \n",
       "2  Australia    AUS  MULTIPOLYGON (((158.86573 -54.74993, 158.83823...   \n",
       "3  Australia    AUS  MULTIPOLYGON (((158.86573 -54.74993, 158.83823...   \n",
       "4  Australia    AUS  MULTIPOLYGON (((158.86573 -54.74993, 158.83823...   \n",
       "\n",
       "        date  new_cases  cumulative_cases   Period             Vessel_Type  \\\n",
       "0 2018-07-31        NaN               NaN  2018S01               All ships   \n",
       "1 2018-07-31        NaN               NaN  2018S01         Passenger ships   \n",
       "2 2018-07-31        NaN               NaN  2018S01    Liquid bulk carriers   \n",
       "3 2018-07-31        NaN               NaN  2018S01         Container ships   \n",
       "4 2018-07-31        NaN               NaN  2018S01  Dry breakbulk carriers   \n",
       "\n",
       "   Median time in port (days)  Average age of vessels  \\\n",
       "0                        1.49                      19   \n",
       "1                         NaN                      27   \n",
       "2                        1.34                       7   \n",
       "3                        1.19                      12   \n",
       "4                        1.69                      12   \n",
       "\n",
       "   Average size (GT) of vessels  Maximum size (GT) of vessels  \\\n",
       "0                         25686                        168666   \n",
       "1                          5105                        168666   \n",
       "2                         23585                         85496   \n",
       "3                         46778                         90449   \n",
       "4                         15417                         54529   \n",
       "\n",
       "   Average cargo carrying capacity (dwt) per vessel  \\\n",
       "0                                           78572.0   \n",
       "1                                               NaN   \n",
       "2                                           40187.0   \n",
       "3                                               NaN   \n",
       "4                                           21345.0   \n",
       "\n",
       "   Maximum cargo carrying capacity (dwt) of vessels  \\\n",
       "0                                          299688.0   \n",
       "1                                               NaN   \n",
       "2                                          166447.0   \n",
       "3                                               NaN   \n",
       "4                                           80500.0   \n",
       "\n",
       "   Average container carrying capacity (TEU) per container ship  \\\n",
       "0                                             4263.0              \n",
       "1                                                NaN              \n",
       "2                                                NaN              \n",
       "3                                             4263.0              \n",
       "4                                                NaN              \n",
       "\n",
       "   Maximum container carrying capacity (TEU) of container ships  \n",
       "0                                             8084.0             \n",
       "1                                                NaN             \n",
       "2                                                NaN             \n",
       "3                                             8084.0             \n",
       "4                                                NaN             "
      ]
     },
     "execution_count": 16,
     "metadata": {},
     "output_type": "execute_result"
    }
   ],
   "source": [
    "# Merge the two dataframes, using _ID column as key\n",
    "geo_port = pd.merge(geodata, df_combined, on = 'country')\n",
    "\n",
    "geo_port.head()"
   ]
  },
  {
   "cell_type": "markdown",
   "metadata": {},
   "source": [
    "now we will merge the other port performance index data with the table above"
   ]
  },
  {
   "cell_type": "code",
   "execution_count": 17,
   "metadata": {},
   "outputs": [],
   "source": [
    "port_2021_path = r\"/Users/iantrout/TIL6022-group_project/Data/The productivity of the ports/Container-Port-Performance-Index-2021 copy.csv\"\n",
    "data_call_path = r\"/Users/iantrout/TIL6022-group_project/Data/Maritime data/US_PortCallsArrivals_S_ST202209220927_v1.csv\"\n",
    "\n",
    "\n",
    "#port_index.rename(columns = {'Economy Label': 'country', }, inplace=True)\n",
    "\n",
    "data_call = pd.read_csv(data_call_path)\n",
    "port_time = pd.read_csv(port_2021_path,encoding='utf-8')\n",
    "# using merge function by setting how='outer'to not lose years where there is no common data\n",
    "\n",
    "#output = pd.merge(port_time, data_call, \n",
    "#                   left_on=['Economy Label', \"Year\"],  \n",
    "#                   right_on=['Economy Label', \"Year\"],\n",
    "#                   how='left')\n",
    "\n",
    "#column_names = ['Port Name', 'CommercialMarket Label']\n",
    "#output.drop_duplicates(subset=column_names, keep='first', inplace=True)\n",
    "#output = output.drop(output[output[\"CommercialMarket Label\"] != \"Container ships\"].index)\n",
    "#output = output.drop(output[output[\"Economy Label\"] == \"World\"].index)\n",
    "#output.sort_values(\"Statistic Approach Rank\")\n",
    "#output.sort_values(\"Year\")\n",
    "\n",
    "#output.head()\n",
    "#using a for if-else and a for loop, I'm going to\n",
    "\n",
    "#filtered by year 2020 and 2021 "
   ]
  },
  {
   "cell_type": "code",
   "execution_count": 18,
   "metadata": {},
   "outputs": [
    {
     "ename": "SyntaxError",
     "evalue": "invalid syntax (338959456.py, line 6)",
     "output_type": "error",
     "traceback": [
      "\u001b[0;36m  Cell \u001b[0;32mIn [18], line 6\u001b[0;36m\u001b[0m\n\u001b[0;31m    for country in\u001b[0m\n\u001b[0m                   ^\u001b[0m\n\u001b[0;31mSyntaxError\u001b[0m\u001b[0;31m:\u001b[0m invalid syntax\n"
     ]
    }
   ],
   "source": [
    "# the higher the index value, the better it is; CAUTION \n",
    "#though since the index values go into the negative side too for worst.\n",
    "port_time = port_time.drop(columns=['Total\\nPoints', \"Administrative Approach Rank\", 'Economy Label', 'Port Name'])\n",
    "port_time.set_index('Economy Label.1', inplace=True)\n",
    "port_time\n",
    "for country in \n",
    "port_time.groupby('Economy Label.1').mean()"
   ]
  },
  {
   "cell_type": "markdown",
   "metadata": {},
   "source": [
    "# Part II"
   ]
  },
  {
   "cell_type": "markdown",
   "metadata": {},
   "source": [
    "we start by understanding how many countries we have data for and for that we will plot a world map for All ship types combined"
   ]
  },
  {
   "cell_type": "code",
   "execution_count": 99,
   "metadata": {},
   "outputs": [
    {
     "data": {
      "application/vnd.plotly.v1+json": {
       "config": {
        "plotlyServerURL": "https://plot.ly"
       },
       "data": [
        {
         "coloraxis": "coloraxis",
         "geo": "geo",
         "hovertemplate": "<b>%{hovertext}</b><br><br>Period=2018S01<br>ISO_A3=%{location}<br>Median time in port (days)=%{z}<extra></extra>",
         "hovertext": [
          "Australia",
          "Canada",
          "China",
          "Germany",
          "Denmark",
          "Spain",
          "France",
          "United Kingdom",
          "Greece",
          "Croatia",
          "Indonesia",
          "Italy",
          "Japan",
          "Netherlands",
          "Norway",
          "Sweden",
          "United States of America"
         ],
         "locations": [
          "AUS",
          "CAN",
          "CHN",
          "DEU",
          "DNK",
          "ESP",
          "FRA",
          "GBR",
          "GRC",
          "HRV",
          "IDN",
          "ITA",
          "JPN",
          "NLD",
          "NOR",
          "SWE",
          "USA"
         ],
         "name": "",
         "type": "choropleth",
         "z": [
          1.49,
          0.84,
          1.01,
          0.58,
          0.74,
          0.85,
          1.11,
          1.09,
          0.72,
          1.18,
          1.33,
          1.25,
          0.41,
          0.56,
          0.43,
          0.79,
          1.45
         ]
        }
       ],
       "frames": [
        {
         "data": [
          {
           "coloraxis": "coloraxis",
           "geo": "geo",
           "hovertemplate": "<b>%{hovertext}</b><br><br>Period=2018S01<br>ISO_A3=%{location}<br>Median time in port (days)=%{z}<extra></extra>",
           "hovertext": [
            "Australia",
            "Canada",
            "China",
            "Germany",
            "Denmark",
            "Spain",
            "France",
            "United Kingdom",
            "Greece",
            "Croatia",
            "Indonesia",
            "Italy",
            "Japan",
            "Netherlands",
            "Norway",
            "Sweden",
            "United States of America"
           ],
           "locations": [
            "AUS",
            "CAN",
            "CHN",
            "DEU",
            "DNK",
            "ESP",
            "FRA",
            "GBR",
            "GRC",
            "HRV",
            "IDN",
            "ITA",
            "JPN",
            "NLD",
            "NOR",
            "SWE",
            "USA"
           ],
           "name": "",
           "type": "choropleth",
           "z": [
            1.49,
            0.84,
            1.01,
            0.58,
            0.74,
            0.85,
            1.11,
            1.09,
            0.72,
            1.18,
            1.33,
            1.25,
            0.41,
            0.56,
            0.43,
            0.79,
            1.45
           ]
          }
         ],
         "name": "2018S01"
        },
        {
         "data": [
          {
           "coloraxis": "coloraxis",
           "geo": "geo",
           "hovertemplate": "<b>%{hovertext}</b><br><br>Period=2018S02<br>ISO_A3=%{location}<br>Median time in port (days)=%{z}<extra></extra>",
           "hovertext": [
            "Australia",
            "Canada",
            "China",
            "Germany",
            "Denmark",
            "Spain",
            "France",
            "United Kingdom",
            "Greece",
            "Croatia",
            "Indonesia",
            "Italy",
            "Japan",
            "Netherlands",
            "Norway",
            "Sweden",
            "United States of America"
           ],
           "locations": [
            "AUS",
            "CAN",
            "CHN",
            "DEU",
            "DNK",
            "ESP",
            "FRA",
            "GBR",
            "GRC",
            "HRV",
            "IDN",
            "ITA",
            "JPN",
            "NLD",
            "NOR",
            "SWE",
            "USA"
           ],
           "name": "",
           "type": "choropleth",
           "z": [
            1.46,
            0.54,
            1.04,
            0.54,
            0.74,
            0.87,
            1.12,
            1.1,
            0.69,
            1.21,
            1.35,
            1.25,
            0.41,
            0.57,
            0.43,
            0.8,
            1.37
           ]
          }
         ],
         "name": "2018S02"
        },
        {
         "data": [
          {
           "coloraxis": "coloraxis",
           "geo": "geo",
           "hovertemplate": "<b>%{hovertext}</b><br><br>Period=2019S01<br>ISO_A3=%{location}<br>Median time in port (days)=%{z}<extra></extra>",
           "hovertext": [
            "Australia",
            "Canada",
            "China",
            "Germany",
            "Denmark",
            "Spain",
            "France",
            "United Kingdom",
            "Greece",
            "Croatia",
            "Indonesia",
            "Italy",
            "Japan",
            "Netherlands",
            "Norway",
            "Sweden",
            "United States of America"
           ],
           "locations": [
            "AUS",
            "CAN",
            "CHN",
            "DEU",
            "DNK",
            "ESP",
            "FRA",
            "GBR",
            "GRC",
            "HRV",
            "IDN",
            "ITA",
            "JPN",
            "NLD",
            "NOR",
            "SWE",
            "USA"
           ],
           "name": "",
           "type": "choropleth",
           "z": [
            1.4014,
            0.9125,
            1.0458,
            0.5007,
            0.7583,
            0.8701,
            1.1031,
            1.0799,
            0.7566,
            1.275,
            1.3056,
            1.2667,
            0.4125,
            0.566,
            0.4063,
            0.7958,
            1.4826
           ]
          }
         ],
         "name": "2019S01"
        },
        {
         "data": [
          {
           "coloraxis": "coloraxis",
           "geo": "geo",
           "hovertemplate": "<b>%{hovertext}</b><br><br>Period=2019S02<br>ISO_A3=%{location}<br>Median time in port (days)=%{z}<extra></extra>",
           "hovertext": [
            "Australia",
            "Canada",
            "China",
            "Germany",
            "Denmark",
            "Spain",
            "France",
            "United Kingdom",
            "Greece",
            "Croatia",
            "Indonesia",
            "Italy",
            "Japan",
            "Netherlands",
            "Norway",
            "Sweden",
            "United States of America"
           ],
           "locations": [
            "AUS",
            "CAN",
            "CHN",
            "DEU",
            "DNK",
            "ESP",
            "FRA",
            "GBR",
            "GRC",
            "HRV",
            "IDN",
            "ITA",
            "JPN",
            "NLD",
            "NOR",
            "SWE",
            "USA"
           ],
           "name": "",
           "type": "choropleth",
           "z": [
            1.4583,
            0.6528,
            1.0313,
            0.475,
            0.7434,
            0.8875,
            1.1243,
            1.0764,
            0.7288,
            1.2347,
            1.2653,
            1.2875,
            0.4049,
            0.5799,
            0.4285,
            0.8035,
            1.3882
           ]
          }
         ],
         "name": "2019S02"
        },
        {
         "data": [
          {
           "coloraxis": "coloraxis",
           "geo": "geo",
           "hovertemplate": "<b>%{hovertext}</b><br><br>Period=2020S01<br>ISO_A3=%{location}<br>Median time in port (days)=%{z}<extra></extra>",
           "hovertext": [
            "Australia",
            "Canada",
            "China",
            "Germany",
            "Denmark",
            "Spain",
            "France",
            "United Kingdom",
            "Greece",
            "Croatia",
            "Indonesia",
            "Italy",
            "Japan",
            "Netherlands",
            "Norway",
            "Sweden",
            "United States of America"
           ],
           "locations": [
            "AUS",
            "CAN",
            "CHN",
            "DEU",
            "DNK",
            "ESP",
            "FRA",
            "GBR",
            "GRC",
            "HRV",
            "IDN",
            "ITA",
            "JPN",
            "NLD",
            "NOR",
            "SWE",
            "USA"
           ],
           "name": "",
           "type": "choropleth",
           "z": [
            1.4889,
            0.9944,
            1.0556,
            0.8205,
            0.7868,
            0.9021,
            1.2042,
            1.1014,
            0.849,
            1.1111,
            1.2271,
            1.3111,
            0.3993,
            0.5889,
            0.4028,
            0.8087,
            1.4625
           ]
          }
         ],
         "name": "2020S01"
        },
        {
         "data": [
          {
           "coloraxis": "coloraxis",
           "geo": "geo",
           "hovertemplate": "<b>%{hovertext}</b><br><br>Period=2020S02<br>ISO_A3=%{location}<br>Median time in port (days)=%{z}<extra></extra>",
           "hovertext": [
            "Australia",
            "Canada",
            "China",
            "Germany",
            "Denmark",
            "Spain",
            "France",
            "United Kingdom",
            "Greece",
            "Croatia",
            "Indonesia",
            "Italy",
            "Japan",
            "Netherlands",
            "Norway",
            "Sweden",
            "United States of America"
           ],
           "locations": [
            "AUS",
            "CAN",
            "CHN",
            "DEU",
            "DNK",
            "ESP",
            "FRA",
            "GBR",
            "GRC",
            "HRV",
            "IDN",
            "ITA",
            "JPN",
            "NLD",
            "NOR",
            "SWE",
            "USA"
           ],
           "name": "",
           "type": "choropleth",
           "z": [
            1.5229,
            0.625,
            1.0958,
            0.7958,
            0.7601,
            0.9021,
            1.1035,
            1.1125,
            0.7997,
            1.1118,
            1.2174,
            1.3101,
            0.3951,
            0.5701,
            0.4028,
            0.7837,
            1.4438
           ]
          }
         ],
         "name": "2020S02"
        },
        {
         "data": [
          {
           "coloraxis": "coloraxis",
           "geo": "geo",
           "hovertemplate": "<b>%{hovertext}</b><br><br>Period=2021S01<br>ISO_A3=%{location}<br>Median time in port (days)=%{z}<extra></extra>",
           "hovertext": [
            "Australia",
            "Canada",
            "China",
            "Germany",
            "Denmark",
            "Spain",
            "France",
            "United Kingdom",
            "Greece",
            "Croatia",
            "Indonesia",
            "Italy",
            "Japan",
            "Netherlands",
            "Norway",
            "Sweden",
            "United States of America"
           ],
           "locations": [
            "AUS",
            "CAN",
            "CHN",
            "DEU",
            "DNK",
            "ESP",
            "FRA",
            "GBR",
            "GRC",
            "HRV",
            "IDN",
            "ITA",
            "JPN",
            "NLD",
            "NOR",
            "SWE",
            "USA"
           ],
           "name": "",
           "type": "choropleth",
           "z": [
            1.5736,
            0.9726,
            1.134,
            0.8444,
            0.7653,
            0.9021,
            1.1799,
            1.1625,
            0.8576,
            1.1587,
            1.2931,
            1.3326,
            0.4146,
            0.6104,
            0.4111,
            0.7736,
            1.5639
           ]
          }
         ],
         "name": "2021S01"
        },
        {
         "data": [
          {
           "coloraxis": "coloraxis",
           "geo": "geo",
           "hovertemplate": "<b>%{hovertext}</b><br><br>Period=2021S02<br>ISO_A3=%{location}<br>Median time in port (days)=%{z}<extra></extra>",
           "hovertext": [
            "Australia",
            "Canada",
            "China",
            "Germany",
            "Denmark",
            "Spain",
            "France",
            "United Kingdom",
            "Greece",
            "Croatia",
            "Indonesia",
            "Italy",
            "Japan",
            "Netherlands",
            "Norway",
            "Sweden",
            "United States of America"
           ],
           "locations": [
            "AUS",
            "CAN",
            "CHN",
            "DEU",
            "DNK",
            "ESP",
            "FRA",
            "GBR",
            "GRC",
            "HRV",
            "IDN",
            "ITA",
            "JPN",
            "NLD",
            "NOR",
            "SWE",
            "USA"
           ],
           "name": "",
           "type": "choropleth",
           "z": [
            1.5646,
            0.5889,
            1.1681,
            0.833,
            0.7354,
            0.9007,
            1.1521,
            1.1639,
            0.8368,
            1.1986,
            1.2854,
            1.3576,
            0.4174,
            0.6257,
            0.4215,
            0.7694,
            1.5861
           ]
          }
         ],
         "name": "2021S02"
        },
        {
         "data": [
          {
           "coloraxis": "coloraxis",
           "geo": "geo",
           "hovertemplate": "<b>%{hovertext}</b><br><br>Period=2022S01<br>ISO_A3=%{location}<br>Median time in port (days)=%{z}<extra></extra>",
           "hovertext": [
            "Australia",
            "Canada",
            "China",
            "Germany",
            "Denmark",
            "Spain",
            "France",
            "United Kingdom",
            "Greece",
            "Croatia",
            "Indonesia",
            "Italy",
            "Japan",
            "Netherlands",
            "Norway",
            "Sweden",
            "United States of America"
           ],
           "locations": [
            "AUS",
            "CAN",
            "CHN",
            "DEU",
            "DNK",
            "ESP",
            "FRA",
            "GBR",
            "GRC",
            "HRV",
            "IDN",
            "ITA",
            "JPN",
            "NLD",
            "NOR",
            "SWE",
            "USA"
           ],
           "name": "",
           "type": "choropleth",
           "z": [
            1.6104,
            0.9667,
            1.1563,
            0.834,
            0.7469,
            0.9264,
            1.2125,
            1.2132,
            0.8656,
            1.3281,
            1.2813,
            1.3819,
            0.4201,
            0.641,
            0.4153,
            0.816,
            1.7007
           ]
          }
         ],
         "name": "2022S01"
        }
       ],
       "layout": {
        "coloraxis": {
         "cmax": 2,
         "cmin": 0,
         "colorbar": {
          "title": {
           "text": "Median time in port (days)"
          }
         },
         "colorscale": [
          [
           0,
           "#0d0887"
          ],
          [
           0.1111111111111111,
           "#46039f"
          ],
          [
           0.2222222222222222,
           "#7201a8"
          ],
          [
           0.3333333333333333,
           "#9c179e"
          ],
          [
           0.4444444444444444,
           "#bd3786"
          ],
          [
           0.5555555555555556,
           "#d8576b"
          ],
          [
           0.6666666666666666,
           "#ed7953"
          ],
          [
           0.7777777777777778,
           "#fb9f3a"
          ],
          [
           0.8888888888888888,
           "#fdca26"
          ],
          [
           1,
           "#f0f921"
          ]
         ]
        },
        "geo": {
         "center": {},
         "domain": {
          "x": [
           0,
           1
          ],
          "y": [
           0,
           1
          ]
         }
        },
        "legend": {
         "tracegroupgap": 0
        },
        "margin": {
         "t": 60
        },
        "sliders": [
         {
          "active": 0,
          "currentvalue": {
           "prefix": "Period="
          },
          "len": 0.9,
          "pad": {
           "b": 10,
           "t": 60
          },
          "steps": [
           {
            "args": [
             [
              "2018S01"
             ],
             {
              "frame": {
               "duration": 0,
               "redraw": true
              },
              "fromcurrent": true,
              "mode": "immediate",
              "transition": {
               "duration": 0,
               "easing": "linear"
              }
             }
            ],
            "label": "2018S01",
            "method": "animate"
           },
           {
            "args": [
             [
              "2018S02"
             ],
             {
              "frame": {
               "duration": 0,
               "redraw": true
              },
              "fromcurrent": true,
              "mode": "immediate",
              "transition": {
               "duration": 0,
               "easing": "linear"
              }
             }
            ],
            "label": "2018S02",
            "method": "animate"
           },
           {
            "args": [
             [
              "2019S01"
             ],
             {
              "frame": {
               "duration": 0,
               "redraw": true
              },
              "fromcurrent": true,
              "mode": "immediate",
              "transition": {
               "duration": 0,
               "easing": "linear"
              }
             }
            ],
            "label": "2019S01",
            "method": "animate"
           },
           {
            "args": [
             [
              "2019S02"
             ],
             {
              "frame": {
               "duration": 0,
               "redraw": true
              },
              "fromcurrent": true,
              "mode": "immediate",
              "transition": {
               "duration": 0,
               "easing": "linear"
              }
             }
            ],
            "label": "2019S02",
            "method": "animate"
           },
           {
            "args": [
             [
              "2020S01"
             ],
             {
              "frame": {
               "duration": 0,
               "redraw": true
              },
              "fromcurrent": true,
              "mode": "immediate",
              "transition": {
               "duration": 0,
               "easing": "linear"
              }
             }
            ],
            "label": "2020S01",
            "method": "animate"
           },
           {
            "args": [
             [
              "2020S02"
             ],
             {
              "frame": {
               "duration": 0,
               "redraw": true
              },
              "fromcurrent": true,
              "mode": "immediate",
              "transition": {
               "duration": 0,
               "easing": "linear"
              }
             }
            ],
            "label": "2020S02",
            "method": "animate"
           },
           {
            "args": [
             [
              "2021S01"
             ],
             {
              "frame": {
               "duration": 0,
               "redraw": true
              },
              "fromcurrent": true,
              "mode": "immediate",
              "transition": {
               "duration": 0,
               "easing": "linear"
              }
             }
            ],
            "label": "2021S01",
            "method": "animate"
           },
           {
            "args": [
             [
              "2021S02"
             ],
             {
              "frame": {
               "duration": 0,
               "redraw": true
              },
              "fromcurrent": true,
              "mode": "immediate",
              "transition": {
               "duration": 0,
               "easing": "linear"
              }
             }
            ],
            "label": "2021S02",
            "method": "animate"
           },
           {
            "args": [
             [
              "2022S01"
             ],
             {
              "frame": {
               "duration": 0,
               "redraw": true
              },
              "fromcurrent": true,
              "mode": "immediate",
              "transition": {
               "duration": 0,
               "easing": "linear"
              }
             }
            ],
            "label": "2022S01",
            "method": "animate"
           }
          ],
          "x": 0.1,
          "xanchor": "left",
          "y": 0,
          "yanchor": "top"
         }
        ],
        "template": {
         "data": {
          "bar": [
           {
            "error_x": {
             "color": "#2a3f5f"
            },
            "error_y": {
             "color": "#2a3f5f"
            },
            "marker": {
             "line": {
              "color": "#E5ECF6",
              "width": 0.5
             },
             "pattern": {
              "fillmode": "overlay",
              "size": 10,
              "solidity": 0.2
             }
            },
            "type": "bar"
           }
          ],
          "barpolar": [
           {
            "marker": {
             "line": {
              "color": "#E5ECF6",
              "width": 0.5
             },
             "pattern": {
              "fillmode": "overlay",
              "size": 10,
              "solidity": 0.2
             }
            },
            "type": "barpolar"
           }
          ],
          "carpet": [
           {
            "aaxis": {
             "endlinecolor": "#2a3f5f",
             "gridcolor": "white",
             "linecolor": "white",
             "minorgridcolor": "white",
             "startlinecolor": "#2a3f5f"
            },
            "baxis": {
             "endlinecolor": "#2a3f5f",
             "gridcolor": "white",
             "linecolor": "white",
             "minorgridcolor": "white",
             "startlinecolor": "#2a3f5f"
            },
            "type": "carpet"
           }
          ],
          "choropleth": [
           {
            "colorbar": {
             "outlinewidth": 0,
             "ticks": ""
            },
            "type": "choropleth"
           }
          ],
          "contour": [
           {
            "colorbar": {
             "outlinewidth": 0,
             "ticks": ""
            },
            "colorscale": [
             [
              0,
              "#0d0887"
             ],
             [
              0.1111111111111111,
              "#46039f"
             ],
             [
              0.2222222222222222,
              "#7201a8"
             ],
             [
              0.3333333333333333,
              "#9c179e"
             ],
             [
              0.4444444444444444,
              "#bd3786"
             ],
             [
              0.5555555555555556,
              "#d8576b"
             ],
             [
              0.6666666666666666,
              "#ed7953"
             ],
             [
              0.7777777777777778,
              "#fb9f3a"
             ],
             [
              0.8888888888888888,
              "#fdca26"
             ],
             [
              1,
              "#f0f921"
             ]
            ],
            "type": "contour"
           }
          ],
          "contourcarpet": [
           {
            "colorbar": {
             "outlinewidth": 0,
             "ticks": ""
            },
            "type": "contourcarpet"
           }
          ],
          "heatmap": [
           {
            "colorbar": {
             "outlinewidth": 0,
             "ticks": ""
            },
            "colorscale": [
             [
              0,
              "#0d0887"
             ],
             [
              0.1111111111111111,
              "#46039f"
             ],
             [
              0.2222222222222222,
              "#7201a8"
             ],
             [
              0.3333333333333333,
              "#9c179e"
             ],
             [
              0.4444444444444444,
              "#bd3786"
             ],
             [
              0.5555555555555556,
              "#d8576b"
             ],
             [
              0.6666666666666666,
              "#ed7953"
             ],
             [
              0.7777777777777778,
              "#fb9f3a"
             ],
             [
              0.8888888888888888,
              "#fdca26"
             ],
             [
              1,
              "#f0f921"
             ]
            ],
            "type": "heatmap"
           }
          ],
          "heatmapgl": [
           {
            "colorbar": {
             "outlinewidth": 0,
             "ticks": ""
            },
            "colorscale": [
             [
              0,
              "#0d0887"
             ],
             [
              0.1111111111111111,
              "#46039f"
             ],
             [
              0.2222222222222222,
              "#7201a8"
             ],
             [
              0.3333333333333333,
              "#9c179e"
             ],
             [
              0.4444444444444444,
              "#bd3786"
             ],
             [
              0.5555555555555556,
              "#d8576b"
             ],
             [
              0.6666666666666666,
              "#ed7953"
             ],
             [
              0.7777777777777778,
              "#fb9f3a"
             ],
             [
              0.8888888888888888,
              "#fdca26"
             ],
             [
              1,
              "#f0f921"
             ]
            ],
            "type": "heatmapgl"
           }
          ],
          "histogram": [
           {
            "marker": {
             "pattern": {
              "fillmode": "overlay",
              "size": 10,
              "solidity": 0.2
             }
            },
            "type": "histogram"
           }
          ],
          "histogram2d": [
           {
            "colorbar": {
             "outlinewidth": 0,
             "ticks": ""
            },
            "colorscale": [
             [
              0,
              "#0d0887"
             ],
             [
              0.1111111111111111,
              "#46039f"
             ],
             [
              0.2222222222222222,
              "#7201a8"
             ],
             [
              0.3333333333333333,
              "#9c179e"
             ],
             [
              0.4444444444444444,
              "#bd3786"
             ],
             [
              0.5555555555555556,
              "#d8576b"
             ],
             [
              0.6666666666666666,
              "#ed7953"
             ],
             [
              0.7777777777777778,
              "#fb9f3a"
             ],
             [
              0.8888888888888888,
              "#fdca26"
             ],
             [
              1,
              "#f0f921"
             ]
            ],
            "type": "histogram2d"
           }
          ],
          "histogram2dcontour": [
           {
            "colorbar": {
             "outlinewidth": 0,
             "ticks": ""
            },
            "colorscale": [
             [
              0,
              "#0d0887"
             ],
             [
              0.1111111111111111,
              "#46039f"
             ],
             [
              0.2222222222222222,
              "#7201a8"
             ],
             [
              0.3333333333333333,
              "#9c179e"
             ],
             [
              0.4444444444444444,
              "#bd3786"
             ],
             [
              0.5555555555555556,
              "#d8576b"
             ],
             [
              0.6666666666666666,
              "#ed7953"
             ],
             [
              0.7777777777777778,
              "#fb9f3a"
             ],
             [
              0.8888888888888888,
              "#fdca26"
             ],
             [
              1,
              "#f0f921"
             ]
            ],
            "type": "histogram2dcontour"
           }
          ],
          "mesh3d": [
           {
            "colorbar": {
             "outlinewidth": 0,
             "ticks": ""
            },
            "type": "mesh3d"
           }
          ],
          "parcoords": [
           {
            "line": {
             "colorbar": {
              "outlinewidth": 0,
              "ticks": ""
             }
            },
            "type": "parcoords"
           }
          ],
          "pie": [
           {
            "automargin": true,
            "type": "pie"
           }
          ],
          "scatter": [
           {
            "fillpattern": {
             "fillmode": "overlay",
             "size": 10,
             "solidity": 0.2
            },
            "type": "scatter"
           }
          ],
          "scatter3d": [
           {
            "line": {
             "colorbar": {
              "outlinewidth": 0,
              "ticks": ""
             }
            },
            "marker": {
             "colorbar": {
              "outlinewidth": 0,
              "ticks": ""
             }
            },
            "type": "scatter3d"
           }
          ],
          "scattercarpet": [
           {
            "marker": {
             "colorbar": {
              "outlinewidth": 0,
              "ticks": ""
             }
            },
            "type": "scattercarpet"
           }
          ],
          "scattergeo": [
           {
            "marker": {
             "colorbar": {
              "outlinewidth": 0,
              "ticks": ""
             }
            },
            "type": "scattergeo"
           }
          ],
          "scattergl": [
           {
            "marker": {
             "colorbar": {
              "outlinewidth": 0,
              "ticks": ""
             }
            },
            "type": "scattergl"
           }
          ],
          "scattermapbox": [
           {
            "marker": {
             "colorbar": {
              "outlinewidth": 0,
              "ticks": ""
             }
            },
            "type": "scattermapbox"
           }
          ],
          "scatterpolar": [
           {
            "marker": {
             "colorbar": {
              "outlinewidth": 0,
              "ticks": ""
             }
            },
            "type": "scatterpolar"
           }
          ],
          "scatterpolargl": [
           {
            "marker": {
             "colorbar": {
              "outlinewidth": 0,
              "ticks": ""
             }
            },
            "type": "scatterpolargl"
           }
          ],
          "scatterternary": [
           {
            "marker": {
             "colorbar": {
              "outlinewidth": 0,
              "ticks": ""
             }
            },
            "type": "scatterternary"
           }
          ],
          "surface": [
           {
            "colorbar": {
             "outlinewidth": 0,
             "ticks": ""
            },
            "colorscale": [
             [
              0,
              "#0d0887"
             ],
             [
              0.1111111111111111,
              "#46039f"
             ],
             [
              0.2222222222222222,
              "#7201a8"
             ],
             [
              0.3333333333333333,
              "#9c179e"
             ],
             [
              0.4444444444444444,
              "#bd3786"
             ],
             [
              0.5555555555555556,
              "#d8576b"
             ],
             [
              0.6666666666666666,
              "#ed7953"
             ],
             [
              0.7777777777777778,
              "#fb9f3a"
             ],
             [
              0.8888888888888888,
              "#fdca26"
             ],
             [
              1,
              "#f0f921"
             ]
            ],
            "type": "surface"
           }
          ],
          "table": [
           {
            "cells": {
             "fill": {
              "color": "#EBF0F8"
             },
             "line": {
              "color": "white"
             }
            },
            "header": {
             "fill": {
              "color": "#C8D4E3"
             },
             "line": {
              "color": "white"
             }
            },
            "type": "table"
           }
          ]
         },
         "layout": {
          "annotationdefaults": {
           "arrowcolor": "#2a3f5f",
           "arrowhead": 0,
           "arrowwidth": 1
          },
          "autotypenumbers": "strict",
          "coloraxis": {
           "colorbar": {
            "outlinewidth": 0,
            "ticks": ""
           }
          },
          "colorscale": {
           "diverging": [
            [
             0,
             "#8e0152"
            ],
            [
             0.1,
             "#c51b7d"
            ],
            [
             0.2,
             "#de77ae"
            ],
            [
             0.3,
             "#f1b6da"
            ],
            [
             0.4,
             "#fde0ef"
            ],
            [
             0.5,
             "#f7f7f7"
            ],
            [
             0.6,
             "#e6f5d0"
            ],
            [
             0.7,
             "#b8e186"
            ],
            [
             0.8,
             "#7fbc41"
            ],
            [
             0.9,
             "#4d9221"
            ],
            [
             1,
             "#276419"
            ]
           ],
           "sequential": [
            [
             0,
             "#0d0887"
            ],
            [
             0.1111111111111111,
             "#46039f"
            ],
            [
             0.2222222222222222,
             "#7201a8"
            ],
            [
             0.3333333333333333,
             "#9c179e"
            ],
            [
             0.4444444444444444,
             "#bd3786"
            ],
            [
             0.5555555555555556,
             "#d8576b"
            ],
            [
             0.6666666666666666,
             "#ed7953"
            ],
            [
             0.7777777777777778,
             "#fb9f3a"
            ],
            [
             0.8888888888888888,
             "#fdca26"
            ],
            [
             1,
             "#f0f921"
            ]
           ],
           "sequentialminus": [
            [
             0,
             "#0d0887"
            ],
            [
             0.1111111111111111,
             "#46039f"
            ],
            [
             0.2222222222222222,
             "#7201a8"
            ],
            [
             0.3333333333333333,
             "#9c179e"
            ],
            [
             0.4444444444444444,
             "#bd3786"
            ],
            [
             0.5555555555555556,
             "#d8576b"
            ],
            [
             0.6666666666666666,
             "#ed7953"
            ],
            [
             0.7777777777777778,
             "#fb9f3a"
            ],
            [
             0.8888888888888888,
             "#fdca26"
            ],
            [
             1,
             "#f0f921"
            ]
           ]
          },
          "colorway": [
           "#636efa",
           "#EF553B",
           "#00cc96",
           "#ab63fa",
           "#FFA15A",
           "#19d3f3",
           "#FF6692",
           "#B6E880",
           "#FF97FF",
           "#FECB52"
          ],
          "font": {
           "color": "#2a3f5f"
          },
          "geo": {
           "bgcolor": "white",
           "lakecolor": "white",
           "landcolor": "#E5ECF6",
           "showlakes": true,
           "showland": true,
           "subunitcolor": "white"
          },
          "hoverlabel": {
           "align": "left"
          },
          "hovermode": "closest",
          "mapbox": {
           "style": "light"
          },
          "paper_bgcolor": "white",
          "plot_bgcolor": "#E5ECF6",
          "polar": {
           "angularaxis": {
            "gridcolor": "white",
            "linecolor": "white",
            "ticks": ""
           },
           "bgcolor": "#E5ECF6",
           "radialaxis": {
            "gridcolor": "white",
            "linecolor": "white",
            "ticks": ""
           }
          },
          "scene": {
           "xaxis": {
            "backgroundcolor": "#E5ECF6",
            "gridcolor": "white",
            "gridwidth": 2,
            "linecolor": "white",
            "showbackground": true,
            "ticks": "",
            "zerolinecolor": "white"
           },
           "yaxis": {
            "backgroundcolor": "#E5ECF6",
            "gridcolor": "white",
            "gridwidth": 2,
            "linecolor": "white",
            "showbackground": true,
            "ticks": "",
            "zerolinecolor": "white"
           },
           "zaxis": {
            "backgroundcolor": "#E5ECF6",
            "gridcolor": "white",
            "gridwidth": 2,
            "linecolor": "white",
            "showbackground": true,
            "ticks": "",
            "zerolinecolor": "white"
           }
          },
          "shapedefaults": {
           "line": {
            "color": "#2a3f5f"
           }
          },
          "ternary": {
           "aaxis": {
            "gridcolor": "white",
            "linecolor": "white",
            "ticks": ""
           },
           "baxis": {
            "gridcolor": "white",
            "linecolor": "white",
            "ticks": ""
           },
           "bgcolor": "#E5ECF6",
           "caxis": {
            "gridcolor": "white",
            "linecolor": "white",
            "ticks": ""
           }
          },
          "title": {
           "x": 0.05
          },
          "xaxis": {
           "automargin": true,
           "gridcolor": "white",
           "linecolor": "white",
           "ticks": "",
           "title": {
            "standoff": 15
           },
           "zerolinecolor": "white",
           "zerolinewidth": 2
          },
          "yaxis": {
           "automargin": true,
           "gridcolor": "white",
           "linecolor": "white",
           "ticks": "",
           "title": {
            "standoff": 15
           },
           "zerolinecolor": "white",
           "zerolinewidth": 2
          }
         }
        },
        "updatemenus": [
         {
          "buttons": [
           {
            "args": [
             null,
             {
              "frame": {
               "duration": 500,
               "redraw": true
              },
              "fromcurrent": true,
              "mode": "immediate",
              "transition": {
               "duration": 500,
               "easing": "linear"
              }
             }
            ],
            "label": "&#9654;",
            "method": "animate"
           },
           {
            "args": [
             [
              null
             ],
             {
              "frame": {
               "duration": 0,
               "redraw": true
              },
              "fromcurrent": true,
              "mode": "immediate",
              "transition": {
               "duration": 0,
               "easing": "linear"
              }
             }
            ],
            "label": "&#9724;",
            "method": "animate"
           }
          ],
          "direction": "left",
          "pad": {
           "r": 10,
           "t": 70
          },
          "showactive": false,
          "type": "buttons",
          "x": 0.1,
          "xanchor": "right",
          "y": 0,
          "yanchor": "top"
         }
        ]
       }
      },
      "text/html": [
       "<div>                            <div id=\"301912a0-a14a-49fd-a4a8-1dee8be37e9f\" class=\"plotly-graph-div\" style=\"height:525px; width:100%;\"></div>            <script type=\"text/javascript\">                require([\"plotly\"], function(Plotly) {                    window.PLOTLYENV=window.PLOTLYENV || {};                                    if (document.getElementById(\"301912a0-a14a-49fd-a4a8-1dee8be37e9f\")) {                    Plotly.newPlot(                        \"301912a0-a14a-49fd-a4a8-1dee8be37e9f\",                        [{\"coloraxis\":\"coloraxis\",\"geo\":\"geo\",\"hovertemplate\":\"<b>%{hovertext}</b><br><br>Period=2018S01<br>ISO_A3=%{location}<br>Median time in port (days)=%{z}<extra></extra>\",\"hovertext\":[\"Australia\",\"Canada\",\"China\",\"Germany\",\"Denmark\",\"Spain\",\"France\",\"United Kingdom\",\"Greece\",\"Croatia\",\"Indonesia\",\"Italy\",\"Japan\",\"Netherlands\",\"Norway\",\"Sweden\",\"United States of America\"],\"locations\":[\"AUS\",\"CAN\",\"CHN\",\"DEU\",\"DNK\",\"ESP\",\"FRA\",\"GBR\",\"GRC\",\"HRV\",\"IDN\",\"ITA\",\"JPN\",\"NLD\",\"NOR\",\"SWE\",\"USA\"],\"name\":\"\",\"z\":[1.49,0.84,1.01,0.58,0.74,0.85,1.11,1.09,0.72,1.18,1.33,1.25,0.41,0.56,0.43,0.79,1.45],\"type\":\"choropleth\"}],                        {\"template\":{\"data\":{\"histogram2dcontour\":[{\"type\":\"histogram2dcontour\",\"colorbar\":{\"outlinewidth\":0,\"ticks\":\"\"},\"colorscale\":[[0.0,\"#0d0887\"],[0.1111111111111111,\"#46039f\"],[0.2222222222222222,\"#7201a8\"],[0.3333333333333333,\"#9c179e\"],[0.4444444444444444,\"#bd3786\"],[0.5555555555555556,\"#d8576b\"],[0.6666666666666666,\"#ed7953\"],[0.7777777777777778,\"#fb9f3a\"],[0.8888888888888888,\"#fdca26\"],[1.0,\"#f0f921\"]]}],\"choropleth\":[{\"type\":\"choropleth\",\"colorbar\":{\"outlinewidth\":0,\"ticks\":\"\"}}],\"histogram2d\":[{\"type\":\"histogram2d\",\"colorbar\":{\"outlinewidth\":0,\"ticks\":\"\"},\"colorscale\":[[0.0,\"#0d0887\"],[0.1111111111111111,\"#46039f\"],[0.2222222222222222,\"#7201a8\"],[0.3333333333333333,\"#9c179e\"],[0.4444444444444444,\"#bd3786\"],[0.5555555555555556,\"#d8576b\"],[0.6666666666666666,\"#ed7953\"],[0.7777777777777778,\"#fb9f3a\"],[0.8888888888888888,\"#fdca26\"],[1.0,\"#f0f921\"]]}],\"heatmap\":[{\"type\":\"heatmap\",\"colorbar\":{\"outlinewidth\":0,\"ticks\":\"\"},\"colorscale\":[[0.0,\"#0d0887\"],[0.1111111111111111,\"#46039f\"],[0.2222222222222222,\"#7201a8\"],[0.3333333333333333,\"#9c179e\"],[0.4444444444444444,\"#bd3786\"],[0.5555555555555556,\"#d8576b\"],[0.6666666666666666,\"#ed7953\"],[0.7777777777777778,\"#fb9f3a\"],[0.8888888888888888,\"#fdca26\"],[1.0,\"#f0f921\"]]}],\"heatmapgl\":[{\"type\":\"heatmapgl\",\"colorbar\":{\"outlinewidth\":0,\"ticks\":\"\"},\"colorscale\":[[0.0,\"#0d0887\"],[0.1111111111111111,\"#46039f\"],[0.2222222222222222,\"#7201a8\"],[0.3333333333333333,\"#9c179e\"],[0.4444444444444444,\"#bd3786\"],[0.5555555555555556,\"#d8576b\"],[0.6666666666666666,\"#ed7953\"],[0.7777777777777778,\"#fb9f3a\"],[0.8888888888888888,\"#fdca26\"],[1.0,\"#f0f921\"]]}],\"contourcarpet\":[{\"type\":\"contourcarpet\",\"colorbar\":{\"outlinewidth\":0,\"ticks\":\"\"}}],\"contour\":[{\"type\":\"contour\",\"colorbar\":{\"outlinewidth\":0,\"ticks\":\"\"},\"colorscale\":[[0.0,\"#0d0887\"],[0.1111111111111111,\"#46039f\"],[0.2222222222222222,\"#7201a8\"],[0.3333333333333333,\"#9c179e\"],[0.4444444444444444,\"#bd3786\"],[0.5555555555555556,\"#d8576b\"],[0.6666666666666666,\"#ed7953\"],[0.7777777777777778,\"#fb9f3a\"],[0.8888888888888888,\"#fdca26\"],[1.0,\"#f0f921\"]]}],\"surface\":[{\"type\":\"surface\",\"colorbar\":{\"outlinewidth\":0,\"ticks\":\"\"},\"colorscale\":[[0.0,\"#0d0887\"],[0.1111111111111111,\"#46039f\"],[0.2222222222222222,\"#7201a8\"],[0.3333333333333333,\"#9c179e\"],[0.4444444444444444,\"#bd3786\"],[0.5555555555555556,\"#d8576b\"],[0.6666666666666666,\"#ed7953\"],[0.7777777777777778,\"#fb9f3a\"],[0.8888888888888888,\"#fdca26\"],[1.0,\"#f0f921\"]]}],\"mesh3d\":[{\"type\":\"mesh3d\",\"colorbar\":{\"outlinewidth\":0,\"ticks\":\"\"}}],\"scatter\":[{\"fillpattern\":{\"fillmode\":\"overlay\",\"size\":10,\"solidity\":0.2},\"type\":\"scatter\"}],\"parcoords\":[{\"type\":\"parcoords\",\"line\":{\"colorbar\":{\"outlinewidth\":0,\"ticks\":\"\"}}}],\"scatterpolargl\":[{\"type\":\"scatterpolargl\",\"marker\":{\"colorbar\":{\"outlinewidth\":0,\"ticks\":\"\"}}}],\"bar\":[{\"error_x\":{\"color\":\"#2a3f5f\"},\"error_y\":{\"color\":\"#2a3f5f\"},\"marker\":{\"line\":{\"color\":\"#E5ECF6\",\"width\":0.5},\"pattern\":{\"fillmode\":\"overlay\",\"size\":10,\"solidity\":0.2}},\"type\":\"bar\"}],\"scattergeo\":[{\"type\":\"scattergeo\",\"marker\":{\"colorbar\":{\"outlinewidth\":0,\"ticks\":\"\"}}}],\"scatterpolar\":[{\"type\":\"scatterpolar\",\"marker\":{\"colorbar\":{\"outlinewidth\":0,\"ticks\":\"\"}}}],\"histogram\":[{\"marker\":{\"pattern\":{\"fillmode\":\"overlay\",\"size\":10,\"solidity\":0.2}},\"type\":\"histogram\"}],\"scattergl\":[{\"type\":\"scattergl\",\"marker\":{\"colorbar\":{\"outlinewidth\":0,\"ticks\":\"\"}}}],\"scatter3d\":[{\"type\":\"scatter3d\",\"line\":{\"colorbar\":{\"outlinewidth\":0,\"ticks\":\"\"}},\"marker\":{\"colorbar\":{\"outlinewidth\":0,\"ticks\":\"\"}}}],\"scattermapbox\":[{\"type\":\"scattermapbox\",\"marker\":{\"colorbar\":{\"outlinewidth\":0,\"ticks\":\"\"}}}],\"scatterternary\":[{\"type\":\"scatterternary\",\"marker\":{\"colorbar\":{\"outlinewidth\":0,\"ticks\":\"\"}}}],\"scattercarpet\":[{\"type\":\"scattercarpet\",\"marker\":{\"colorbar\":{\"outlinewidth\":0,\"ticks\":\"\"}}}],\"carpet\":[{\"aaxis\":{\"endlinecolor\":\"#2a3f5f\",\"gridcolor\":\"white\",\"linecolor\":\"white\",\"minorgridcolor\":\"white\",\"startlinecolor\":\"#2a3f5f\"},\"baxis\":{\"endlinecolor\":\"#2a3f5f\",\"gridcolor\":\"white\",\"linecolor\":\"white\",\"minorgridcolor\":\"white\",\"startlinecolor\":\"#2a3f5f\"},\"type\":\"carpet\"}],\"table\":[{\"cells\":{\"fill\":{\"color\":\"#EBF0F8\"},\"line\":{\"color\":\"white\"}},\"header\":{\"fill\":{\"color\":\"#C8D4E3\"},\"line\":{\"color\":\"white\"}},\"type\":\"table\"}],\"barpolar\":[{\"marker\":{\"line\":{\"color\":\"#E5ECF6\",\"width\":0.5},\"pattern\":{\"fillmode\":\"overlay\",\"size\":10,\"solidity\":0.2}},\"type\":\"barpolar\"}],\"pie\":[{\"automargin\":true,\"type\":\"pie\"}]},\"layout\":{\"autotypenumbers\":\"strict\",\"colorway\":[\"#636efa\",\"#EF553B\",\"#00cc96\",\"#ab63fa\",\"#FFA15A\",\"#19d3f3\",\"#FF6692\",\"#B6E880\",\"#FF97FF\",\"#FECB52\"],\"font\":{\"color\":\"#2a3f5f\"},\"hovermode\":\"closest\",\"hoverlabel\":{\"align\":\"left\"},\"paper_bgcolor\":\"white\",\"plot_bgcolor\":\"#E5ECF6\",\"polar\":{\"bgcolor\":\"#E5ECF6\",\"angularaxis\":{\"gridcolor\":\"white\",\"linecolor\":\"white\",\"ticks\":\"\"},\"radialaxis\":{\"gridcolor\":\"white\",\"linecolor\":\"white\",\"ticks\":\"\"}},\"ternary\":{\"bgcolor\":\"#E5ECF6\",\"aaxis\":{\"gridcolor\":\"white\",\"linecolor\":\"white\",\"ticks\":\"\"},\"baxis\":{\"gridcolor\":\"white\",\"linecolor\":\"white\",\"ticks\":\"\"},\"caxis\":{\"gridcolor\":\"white\",\"linecolor\":\"white\",\"ticks\":\"\"}},\"coloraxis\":{\"colorbar\":{\"outlinewidth\":0,\"ticks\":\"\"}},\"colorscale\":{\"sequential\":[[0.0,\"#0d0887\"],[0.1111111111111111,\"#46039f\"],[0.2222222222222222,\"#7201a8\"],[0.3333333333333333,\"#9c179e\"],[0.4444444444444444,\"#bd3786\"],[0.5555555555555556,\"#d8576b\"],[0.6666666666666666,\"#ed7953\"],[0.7777777777777778,\"#fb9f3a\"],[0.8888888888888888,\"#fdca26\"],[1.0,\"#f0f921\"]],\"sequentialminus\":[[0.0,\"#0d0887\"],[0.1111111111111111,\"#46039f\"],[0.2222222222222222,\"#7201a8\"],[0.3333333333333333,\"#9c179e\"],[0.4444444444444444,\"#bd3786\"],[0.5555555555555556,\"#d8576b\"],[0.6666666666666666,\"#ed7953\"],[0.7777777777777778,\"#fb9f3a\"],[0.8888888888888888,\"#fdca26\"],[1.0,\"#f0f921\"]],\"diverging\":[[0,\"#8e0152\"],[0.1,\"#c51b7d\"],[0.2,\"#de77ae\"],[0.3,\"#f1b6da\"],[0.4,\"#fde0ef\"],[0.5,\"#f7f7f7\"],[0.6,\"#e6f5d0\"],[0.7,\"#b8e186\"],[0.8,\"#7fbc41\"],[0.9,\"#4d9221\"],[1,\"#276419\"]]},\"xaxis\":{\"gridcolor\":\"white\",\"linecolor\":\"white\",\"ticks\":\"\",\"title\":{\"standoff\":15},\"zerolinecolor\":\"white\",\"automargin\":true,\"zerolinewidth\":2},\"yaxis\":{\"gridcolor\":\"white\",\"linecolor\":\"white\",\"ticks\":\"\",\"title\":{\"standoff\":15},\"zerolinecolor\":\"white\",\"automargin\":true,\"zerolinewidth\":2},\"scene\":{\"xaxis\":{\"backgroundcolor\":\"#E5ECF6\",\"gridcolor\":\"white\",\"linecolor\":\"white\",\"showbackground\":true,\"ticks\":\"\",\"zerolinecolor\":\"white\",\"gridwidth\":2},\"yaxis\":{\"backgroundcolor\":\"#E5ECF6\",\"gridcolor\":\"white\",\"linecolor\":\"white\",\"showbackground\":true,\"ticks\":\"\",\"zerolinecolor\":\"white\",\"gridwidth\":2},\"zaxis\":{\"backgroundcolor\":\"#E5ECF6\",\"gridcolor\":\"white\",\"linecolor\":\"white\",\"showbackground\":true,\"ticks\":\"\",\"zerolinecolor\":\"white\",\"gridwidth\":2}},\"shapedefaults\":{\"line\":{\"color\":\"#2a3f5f\"}},\"annotationdefaults\":{\"arrowcolor\":\"#2a3f5f\",\"arrowhead\":0,\"arrowwidth\":1},\"geo\":{\"bgcolor\":\"white\",\"landcolor\":\"#E5ECF6\",\"subunitcolor\":\"white\",\"showland\":true,\"showlakes\":true,\"lakecolor\":\"white\"},\"title\":{\"x\":0.05},\"mapbox\":{\"style\":\"light\"}}},\"geo\":{\"domain\":{\"x\":[0.0,1.0],\"y\":[0.0,1.0]},\"center\":{}},\"coloraxis\":{\"colorbar\":{\"title\":{\"text\":\"Median time in port (days)\"}},\"colorscale\":[[0.0,\"#0d0887\"],[0.1111111111111111,\"#46039f\"],[0.2222222222222222,\"#7201a8\"],[0.3333333333333333,\"#9c179e\"],[0.4444444444444444,\"#bd3786\"],[0.5555555555555556,\"#d8576b\"],[0.6666666666666666,\"#ed7953\"],[0.7777777777777778,\"#fb9f3a\"],[0.8888888888888888,\"#fdca26\"],[1.0,\"#f0f921\"]],\"cmin\":0,\"cmax\":2},\"legend\":{\"tracegroupgap\":0},\"margin\":{\"t\":60},\"updatemenus\":[{\"buttons\":[{\"args\":[null,{\"frame\":{\"duration\":500,\"redraw\":true},\"mode\":\"immediate\",\"fromcurrent\":true,\"transition\":{\"duration\":500,\"easing\":\"linear\"}}],\"label\":\"&#9654;\",\"method\":\"animate\"},{\"args\":[[null],{\"frame\":{\"duration\":0,\"redraw\":true},\"mode\":\"immediate\",\"fromcurrent\":true,\"transition\":{\"duration\":0,\"easing\":\"linear\"}}],\"label\":\"&#9724;\",\"method\":\"animate\"}],\"direction\":\"left\",\"pad\":{\"r\":10,\"t\":70},\"showactive\":false,\"type\":\"buttons\",\"x\":0.1,\"xanchor\":\"right\",\"y\":0,\"yanchor\":\"top\"}],\"sliders\":[{\"active\":0,\"currentvalue\":{\"prefix\":\"Period=\"},\"len\":0.9,\"pad\":{\"b\":10,\"t\":60},\"steps\":[{\"args\":[[\"2018S01\"],{\"frame\":{\"duration\":0,\"redraw\":true},\"mode\":\"immediate\",\"fromcurrent\":true,\"transition\":{\"duration\":0,\"easing\":\"linear\"}}],\"label\":\"2018S01\",\"method\":\"animate\"},{\"args\":[[\"2018S02\"],{\"frame\":{\"duration\":0,\"redraw\":true},\"mode\":\"immediate\",\"fromcurrent\":true,\"transition\":{\"duration\":0,\"easing\":\"linear\"}}],\"label\":\"2018S02\",\"method\":\"animate\"},{\"args\":[[\"2019S01\"],{\"frame\":{\"duration\":0,\"redraw\":true},\"mode\":\"immediate\",\"fromcurrent\":true,\"transition\":{\"duration\":0,\"easing\":\"linear\"}}],\"label\":\"2019S01\",\"method\":\"animate\"},{\"args\":[[\"2019S02\"],{\"frame\":{\"duration\":0,\"redraw\":true},\"mode\":\"immediate\",\"fromcurrent\":true,\"transition\":{\"duration\":0,\"easing\":\"linear\"}}],\"label\":\"2019S02\",\"method\":\"animate\"},{\"args\":[[\"2020S01\"],{\"frame\":{\"duration\":0,\"redraw\":true},\"mode\":\"immediate\",\"fromcurrent\":true,\"transition\":{\"duration\":0,\"easing\":\"linear\"}}],\"label\":\"2020S01\",\"method\":\"animate\"},{\"args\":[[\"2020S02\"],{\"frame\":{\"duration\":0,\"redraw\":true},\"mode\":\"immediate\",\"fromcurrent\":true,\"transition\":{\"duration\":0,\"easing\":\"linear\"}}],\"label\":\"2020S02\",\"method\":\"animate\"},{\"args\":[[\"2021S01\"],{\"frame\":{\"duration\":0,\"redraw\":true},\"mode\":\"immediate\",\"fromcurrent\":true,\"transition\":{\"duration\":0,\"easing\":\"linear\"}}],\"label\":\"2021S01\",\"method\":\"animate\"},{\"args\":[[\"2021S02\"],{\"frame\":{\"duration\":0,\"redraw\":true},\"mode\":\"immediate\",\"fromcurrent\":true,\"transition\":{\"duration\":0,\"easing\":\"linear\"}}],\"label\":\"2021S02\",\"method\":\"animate\"},{\"args\":[[\"2022S01\"],{\"frame\":{\"duration\":0,\"redraw\":true},\"mode\":\"immediate\",\"fromcurrent\":true,\"transition\":{\"duration\":0,\"easing\":\"linear\"}}],\"label\":\"2022S01\",\"method\":\"animate\"}],\"x\":0.1,\"xanchor\":\"left\",\"y\":0,\"yanchor\":\"top\"}]},                        {\"responsive\": true}                    ).then(function(){\n",
       "                            Plotly.addFrames('301912a0-a14a-49fd-a4a8-1dee8be37e9f', [{\"data\":[{\"coloraxis\":\"coloraxis\",\"geo\":\"geo\",\"hovertemplate\":\"<b>%{hovertext}</b><br><br>Period=2018S01<br>ISO_A3=%{location}<br>Median time in port (days)=%{z}<extra></extra>\",\"hovertext\":[\"Australia\",\"Canada\",\"China\",\"Germany\",\"Denmark\",\"Spain\",\"France\",\"United Kingdom\",\"Greece\",\"Croatia\",\"Indonesia\",\"Italy\",\"Japan\",\"Netherlands\",\"Norway\",\"Sweden\",\"United States of America\"],\"locations\":[\"AUS\",\"CAN\",\"CHN\",\"DEU\",\"DNK\",\"ESP\",\"FRA\",\"GBR\",\"GRC\",\"HRV\",\"IDN\",\"ITA\",\"JPN\",\"NLD\",\"NOR\",\"SWE\",\"USA\"],\"name\":\"\",\"z\":[1.49,0.84,1.01,0.58,0.74,0.85,1.11,1.09,0.72,1.18,1.33,1.25,0.41,0.56,0.43,0.79,1.45],\"type\":\"choropleth\"}],\"name\":\"2018S01\"},{\"data\":[{\"coloraxis\":\"coloraxis\",\"geo\":\"geo\",\"hovertemplate\":\"<b>%{hovertext}</b><br><br>Period=2018S02<br>ISO_A3=%{location}<br>Median time in port (days)=%{z}<extra></extra>\",\"hovertext\":[\"Australia\",\"Canada\",\"China\",\"Germany\",\"Denmark\",\"Spain\",\"France\",\"United Kingdom\",\"Greece\",\"Croatia\",\"Indonesia\",\"Italy\",\"Japan\",\"Netherlands\",\"Norway\",\"Sweden\",\"United States of America\"],\"locations\":[\"AUS\",\"CAN\",\"CHN\",\"DEU\",\"DNK\",\"ESP\",\"FRA\",\"GBR\",\"GRC\",\"HRV\",\"IDN\",\"ITA\",\"JPN\",\"NLD\",\"NOR\",\"SWE\",\"USA\"],\"name\":\"\",\"z\":[1.46,0.54,1.04,0.54,0.74,0.87,1.12,1.1,0.69,1.21,1.35,1.25,0.41,0.57,0.43,0.8,1.37],\"type\":\"choropleth\"}],\"name\":\"2018S02\"},{\"data\":[{\"coloraxis\":\"coloraxis\",\"geo\":\"geo\",\"hovertemplate\":\"<b>%{hovertext}</b><br><br>Period=2019S01<br>ISO_A3=%{location}<br>Median time in port (days)=%{z}<extra></extra>\",\"hovertext\":[\"Australia\",\"Canada\",\"China\",\"Germany\",\"Denmark\",\"Spain\",\"France\",\"United Kingdom\",\"Greece\",\"Croatia\",\"Indonesia\",\"Italy\",\"Japan\",\"Netherlands\",\"Norway\",\"Sweden\",\"United States of America\"],\"locations\":[\"AUS\",\"CAN\",\"CHN\",\"DEU\",\"DNK\",\"ESP\",\"FRA\",\"GBR\",\"GRC\",\"HRV\",\"IDN\",\"ITA\",\"JPN\",\"NLD\",\"NOR\",\"SWE\",\"USA\"],\"name\":\"\",\"z\":[1.4014,0.9125,1.0458,0.5007,0.7583,0.8701,1.1031,1.0799,0.7566,1.275,1.3056,1.2667,0.4125,0.566,0.4063,0.7958,1.4826],\"type\":\"choropleth\"}],\"name\":\"2019S01\"},{\"data\":[{\"coloraxis\":\"coloraxis\",\"geo\":\"geo\",\"hovertemplate\":\"<b>%{hovertext}</b><br><br>Period=2019S02<br>ISO_A3=%{location}<br>Median time in port (days)=%{z}<extra></extra>\",\"hovertext\":[\"Australia\",\"Canada\",\"China\",\"Germany\",\"Denmark\",\"Spain\",\"France\",\"United Kingdom\",\"Greece\",\"Croatia\",\"Indonesia\",\"Italy\",\"Japan\",\"Netherlands\",\"Norway\",\"Sweden\",\"United States of America\"],\"locations\":[\"AUS\",\"CAN\",\"CHN\",\"DEU\",\"DNK\",\"ESP\",\"FRA\",\"GBR\",\"GRC\",\"HRV\",\"IDN\",\"ITA\",\"JPN\",\"NLD\",\"NOR\",\"SWE\",\"USA\"],\"name\":\"\",\"z\":[1.4583,0.6528,1.0313,0.475,0.7434,0.8875,1.1243,1.0764,0.7288,1.2347,1.2653,1.2875,0.4049,0.5799,0.4285,0.8035,1.3882],\"type\":\"choropleth\"}],\"name\":\"2019S02\"},{\"data\":[{\"coloraxis\":\"coloraxis\",\"geo\":\"geo\",\"hovertemplate\":\"<b>%{hovertext}</b><br><br>Period=2020S01<br>ISO_A3=%{location}<br>Median time in port (days)=%{z}<extra></extra>\",\"hovertext\":[\"Australia\",\"Canada\",\"China\",\"Germany\",\"Denmark\",\"Spain\",\"France\",\"United Kingdom\",\"Greece\",\"Croatia\",\"Indonesia\",\"Italy\",\"Japan\",\"Netherlands\",\"Norway\",\"Sweden\",\"United States of America\"],\"locations\":[\"AUS\",\"CAN\",\"CHN\",\"DEU\",\"DNK\",\"ESP\",\"FRA\",\"GBR\",\"GRC\",\"HRV\",\"IDN\",\"ITA\",\"JPN\",\"NLD\",\"NOR\",\"SWE\",\"USA\"],\"name\":\"\",\"z\":[1.4889,0.9944,1.0556,0.8205,0.7868,0.9021,1.2042,1.1014,0.849,1.1111,1.2271,1.3111,0.3993,0.5889,0.4028,0.8087,1.4625],\"type\":\"choropleth\"}],\"name\":\"2020S01\"},{\"data\":[{\"coloraxis\":\"coloraxis\",\"geo\":\"geo\",\"hovertemplate\":\"<b>%{hovertext}</b><br><br>Period=2020S02<br>ISO_A3=%{location}<br>Median time in port (days)=%{z}<extra></extra>\",\"hovertext\":[\"Australia\",\"Canada\",\"China\",\"Germany\",\"Denmark\",\"Spain\",\"France\",\"United Kingdom\",\"Greece\",\"Croatia\",\"Indonesia\",\"Italy\",\"Japan\",\"Netherlands\",\"Norway\",\"Sweden\",\"United States of America\"],\"locations\":[\"AUS\",\"CAN\",\"CHN\",\"DEU\",\"DNK\",\"ESP\",\"FRA\",\"GBR\",\"GRC\",\"HRV\",\"IDN\",\"ITA\",\"JPN\",\"NLD\",\"NOR\",\"SWE\",\"USA\"],\"name\":\"\",\"z\":[1.5229,0.625,1.0958,0.7958,0.7601,0.9021,1.1035,1.1125,0.7997,1.1118,1.2174,1.3101,0.3951,0.5701,0.4028,0.7837,1.4438],\"type\":\"choropleth\"}],\"name\":\"2020S02\"},{\"data\":[{\"coloraxis\":\"coloraxis\",\"geo\":\"geo\",\"hovertemplate\":\"<b>%{hovertext}</b><br><br>Period=2021S01<br>ISO_A3=%{location}<br>Median time in port (days)=%{z}<extra></extra>\",\"hovertext\":[\"Australia\",\"Canada\",\"China\",\"Germany\",\"Denmark\",\"Spain\",\"France\",\"United Kingdom\",\"Greece\",\"Croatia\",\"Indonesia\",\"Italy\",\"Japan\",\"Netherlands\",\"Norway\",\"Sweden\",\"United States of America\"],\"locations\":[\"AUS\",\"CAN\",\"CHN\",\"DEU\",\"DNK\",\"ESP\",\"FRA\",\"GBR\",\"GRC\",\"HRV\",\"IDN\",\"ITA\",\"JPN\",\"NLD\",\"NOR\",\"SWE\",\"USA\"],\"name\":\"\",\"z\":[1.5736,0.9726,1.134,0.8444,0.7653,0.9021,1.1799,1.1625,0.8576,1.1587,1.2931,1.3326,0.4146,0.6104,0.4111,0.7736,1.5639],\"type\":\"choropleth\"}],\"name\":\"2021S01\"},{\"data\":[{\"coloraxis\":\"coloraxis\",\"geo\":\"geo\",\"hovertemplate\":\"<b>%{hovertext}</b><br><br>Period=2021S02<br>ISO_A3=%{location}<br>Median time in port (days)=%{z}<extra></extra>\",\"hovertext\":[\"Australia\",\"Canada\",\"China\",\"Germany\",\"Denmark\",\"Spain\",\"France\",\"United Kingdom\",\"Greece\",\"Croatia\",\"Indonesia\",\"Italy\",\"Japan\",\"Netherlands\",\"Norway\",\"Sweden\",\"United States of America\"],\"locations\":[\"AUS\",\"CAN\",\"CHN\",\"DEU\",\"DNK\",\"ESP\",\"FRA\",\"GBR\",\"GRC\",\"HRV\",\"IDN\",\"ITA\",\"JPN\",\"NLD\",\"NOR\",\"SWE\",\"USA\"],\"name\":\"\",\"z\":[1.5646,0.5889,1.1681,0.833,0.7354,0.9007,1.1521,1.1639,0.8368,1.1986,1.2854,1.3576,0.4174,0.6257,0.4215,0.7694,1.5861],\"type\":\"choropleth\"}],\"name\":\"2021S02\"},{\"data\":[{\"coloraxis\":\"coloraxis\",\"geo\":\"geo\",\"hovertemplate\":\"<b>%{hovertext}</b><br><br>Period=2022S01<br>ISO_A3=%{location}<br>Median time in port (days)=%{z}<extra></extra>\",\"hovertext\":[\"Australia\",\"Canada\",\"China\",\"Germany\",\"Denmark\",\"Spain\",\"France\",\"United Kingdom\",\"Greece\",\"Croatia\",\"Indonesia\",\"Italy\",\"Japan\",\"Netherlands\",\"Norway\",\"Sweden\",\"United States of America\"],\"locations\":[\"AUS\",\"CAN\",\"CHN\",\"DEU\",\"DNK\",\"ESP\",\"FRA\",\"GBR\",\"GRC\",\"HRV\",\"IDN\",\"ITA\",\"JPN\",\"NLD\",\"NOR\",\"SWE\",\"USA\"],\"name\":\"\",\"z\":[1.6104,0.9667,1.1563,0.834,0.7469,0.9264,1.2125,1.2132,0.8656,1.3281,1.2813,1.3819,0.4201,0.641,0.4153,0.816,1.7007],\"type\":\"choropleth\"}],\"name\":\"2022S01\"}]);\n",
       "                        }).then(function(){\n",
       "                            \n",
       "var gd = document.getElementById('301912a0-a14a-49fd-a4a8-1dee8be37e9f');\n",
       "var x = new MutationObserver(function (mutations, observer) {{\n",
       "        var display = window.getComputedStyle(gd).display;\n",
       "        if (!display || display === 'none') {{\n",
       "            console.log([gd, 'removed!']);\n",
       "            Plotly.purge(gd);\n",
       "            observer.disconnect();\n",
       "        }}\n",
       "}});\n",
       "\n",
       "// Listen for the removal of the full notebook cells\n",
       "var notebookContainer = gd.closest('#notebook-container');\n",
       "if (notebookContainer) {{\n",
       "    x.observe(notebookContainer, {childList: true});\n",
       "}}\n",
       "\n",
       "// Listen for the clearing of the current output cell\n",
       "var outputEl = gd.closest('.output');\n",
       "if (outputEl) {{\n",
       "    x.observe(outputEl, {childList: true});\n",
       "}}\n",
       "\n",
       "                        })                };                });            </script>        </div>"
      ]
     },
     "metadata": {},
     "output_type": "display_data"
    }
   ],
   "source": [
    "#df['text'] = geo_port['Location'] + '<br>' + \\\n",
    "   # 'Passenger ships ' + geo_port['Passenger ships'] + ' Dairy ' + geo_port['dairy'] + '<br>' + \\\n",
    "   # 'Fruits ' + geo_port['total fruits'] + ' Veggies ' + geo_port['total veggies'] + '<br>' + \\\n",
    "   # 'Wheat ' + geo_port['wheat'] + ' Corn ' + geo_port['corn'] \n",
    "geo_port_all_vessels= geo_port[\n",
    "    (geo_port.Vessel_Type == 'All ships')\n",
    "]\n",
    "\n",
    "fig = px.choropleth(geo_port_all_vessels, \n",
    "                    locations=\"ISO_A3\",\n",
    "                    color=\"Median time in port (days)\", \n",
    "                    hover_name=\"country\",\n",
    "                    range_color=(0, 2),\n",
    "                    animation_frame=\"Period\",\n",
    "                    #text=df['text'], # hover text\n",
    "                    color_continuous_scale=px.colors.sequential.Plasma)\n",
    "fig.show()\n"
   ]
  },
  {
   "cell_type": "markdown",
   "metadata": {},
   "source": [
    "now we can't only infer information from graphs, so we will calculate the peaks and valleys of the COVID data and the port data to see if there is a match based on serveral values of the port data (avg age of the vessel, average size of the vessel, average time in port)"
   ]
  },
  {
   "cell_type": "code",
   "execution_count": 100,
   "metadata": {},
   "outputs": [],
   "source": [
    "# Variables from COVID data \n",
    "activity_1 = 'new_cases'\n",
    "activity_3 = 'cumulative_cases'\n",
    "\n",
    "# Varaibles from Maritime data \n",
    "activity_5 = 'Median time in port (days)'\n",
    "#activity_6 = 'port index value'\n",
    "#activity_7 = 'port calls'\n",
    "activity_8 = 'Average age of vessels'\n",
    "activity_10 = 'Average size (GT) of vessels'\n",
    "activity_9 = 'Vessel_Type'\n",
    "\n",
    "# Common variables\n",
    "country_1 = 'China'\n",
    "country_2 = 'Australia'\n",
    "country_3 = 'United States'\n",
    "\n",
    "\n",
    "activities_story_1 = [activity_8, activity_5, activity_10]\n",
    "#activities_story_2 = [activity_1, activity_2, activity_6]\n",
    "#activities_story_3 = [activity_5, activity_2]\n"
   ]
  },
  {
   "cell_type": "code",
   "execution_count": 101,
   "metadata": {},
   "outputs": [],
   "source": [
    "# first, I'm going to define a function to be able to select the different vessels in a list for each country for a specific time period\n",
    "def data_highs(data, acitivity, **kwargs):\n",
    "\n",
    "    diff_1 = data[activity].diff(periods = -1)\n",
    "    diff_2 = data[activity].diff(periods = 1)\n",
    "    \n",
    "    peaks = []\n",
    "    for i in range(len(diff_1)):\n",
    "        if diff_1[i] > 0 and diff_2[i] > 0:\n",
    "            peaks.append(int(i))          \n",
    "            \n",
    "    return peaks\n",
    "\n",
    "# And do the same for the valleys\n",
    "def data_lows(data, activity, **kwargs):\n",
    "\n",
    "    diff_1 = data[activity].diff(periods = -1)\n",
    "    diff_2 = data[activity].diff(periods = 1)\n",
    "\n",
    "    valleys = []\n",
    "    for i in range(len(diff_1)):\n",
    "        if diff_1[i] < 0 and diff_2[i] < 0:\n",
    "            valleys.append(int(i))          \n",
    "            \n",
    "    return valleys"
   ]
  },
  {
   "cell_type": "code",
   "execution_count": 19,
   "metadata": {},
   "outputs": [
    {
     "ename": "NameError",
     "evalue": "name 'activities_story_1' is not defined",
     "output_type": "error",
     "traceback": [
      "\u001b[0;31m---------------------------------------------------------------------------\u001b[0m",
      "\u001b[0;31mNameError\u001b[0m                                 Traceback (most recent call last)",
      "Cell \u001b[0;32mIn [19], line 15\u001b[0m\n\u001b[1;32m     12\u001b[0m geo_port_all_vessels\u001b[38;5;241m.\u001b[39mreset_index(inplace\u001b[38;5;241m=\u001b[39m\u001b[38;5;28;01mTrue\u001b[39;00m)\n\u001b[1;32m     14\u001b[0m \u001b[38;5;66;03m# I find the peaks and valleys and add them to the dictionaries\u001b[39;00m\n\u001b[0;32m---> 15\u001b[0m \u001b[38;5;28;01mfor\u001b[39;00m activity \u001b[38;5;129;01min\u001b[39;00m \u001b[43mactivities_story_1\u001b[49m:\n\u001b[1;32m     16\u001b[0m     max_ind \u001b[38;5;241m=\u001b[39m data_highs(geo_port_all_vessels, activity)\n\u001b[1;32m     17\u001b[0m     peaks_dict_1[activity]\u001b[38;5;241m=\u001b[39mmax_ind\n",
      "\u001b[0;31mNameError\u001b[0m: name 'activities_story_1' is not defined"
     ]
    }
   ],
   "source": [
    "# Then I start the figure and create several dictionaries that are necessary. The peaks and valleys dictionaries are for the graphs and the date dictionaries are for the next steps\n",
    "fig_1 = go.Figure()\n",
    "\n",
    "peaks_dict_1 = {}\n",
    "valleys_dict_1 = {}\n",
    "peaks_date_dict_1 = {}\n",
    "valleys_date_dict_1 = {}\n",
    "\n",
    "# I create a dataframe that contains only the data for the world and reset the indices for it\n",
    "geo_port_all_vessels = geo_port[(geo_port.Vessel_Type == 'All ships')]\n",
    "geo_port_all_vessels = geo_port_all_vessels[(geo_port_all_vessels.country == 'World')]\n",
    "geo_port_all_vessels.reset_index(inplace=True)\n",
    "\n",
    "# I find the peaks and valleys and add them to the dictionaries\n",
    "for activity in activities_story_1:\n",
    "    max_ind = data_highs(geo_port_all_vessels, activity)\n",
    "    peaks_dict_1[activity]=max_ind\n",
    "\n",
    "    min_ind = data_lows(geo_port_all_vessels,activity)\n",
    "    valleys_dict_1[activity]=min_ind\n",
    "    \n",
    "    # Then I turn them into dataframes to be able to use the dates for the graphs, and for the date dictionaries\n",
    "    df_max_1 = geo_port_all_vessels.iloc[max_ind]\n",
    "    df_min_1 = geo_port_all_vessels.iloc[min_ind]\n",
    "\n",
    "# The date dictionaries are filled with the dates of the peaks and the valleys\n",
    "    peaks_date_dict_1[activity] = df_max_1['date']\n",
    "    valleys_date_dict_1[activity] = df_min_1['date']"
   ]
  },
  {
   "cell_type": "code",
   "execution_count": 103,
   "metadata": {},
   "outputs": [
    {
     "data": {
      "application/vnd.plotly.v1+json": {
       "config": {
        "plotlyServerURL": "https://plot.ly"
       },
       "data": [
        {
         "name": "Median time in port (days)",
         "type": "scatter",
         "x": [
          "2018-07-31T00:00:00",
          "2019-01-31T00:00:00",
          "2019-07-31T00:00:00",
          "2020-01-31T00:00:00",
          "2020-07-31T00:00:00",
          "2021-01-31T00:00:00",
          "2021-07-31T00:00:00",
          "2022-01-31T00:00:00",
          "2022-07-31T00:00:00"
         ],
         "xaxis": "x",
         "y": [
          1.49,
          1.46,
          1.4014,
          1.4583,
          1.4889,
          1.5229,
          1.5736,
          1.5646,
          1.6104
         ],
         "yaxis": "y"
        },
        {
         "mode": "markers",
         "name": "peaks Median time in port (days)",
         "type": "scatter",
         "x": [
          "2019-01-31T00:00:00",
          "2020-01-31T00:00:00",
          "2021-01-31T00:00:00"
         ],
         "xaxis": "x",
         "y": [
          1.46,
          1.4583,
          1.5229
         ],
         "yaxis": "y"
        },
        {
         "mode": "markers",
         "name": "valleys Median time in port (days)",
         "type": "scatter",
         "x": [
          "2019-07-31T00:00:00",
          "2020-07-31T00:00:00",
          "2021-07-31T00:00:00"
         ],
         "xaxis": "x",
         "y": [
          1.4014,
          1.4889,
          1.5736
         ],
         "yaxis": "y"
        },
        {
         "name": "Average age of vessels",
         "type": "scatter",
         "x": [
          "2018-07-31T00:00:00",
          "2019-01-31T00:00:00",
          "2019-07-31T00:00:00",
          "2020-01-31T00:00:00",
          "2020-07-31T00:00:00",
          "2021-01-31T00:00:00",
          "2021-07-31T00:00:00",
          "2022-01-31T00:00:00",
          "2022-07-31T00:00:00"
         ],
         "xaxis": "x2",
         "y": [
          19,
          19,
          20,
          20,
          21,
          20,
          21,
          19,
          17
         ],
         "yaxis": "y2"
        },
        {
         "mode": "markers",
         "name": "peaks Average age of vessels",
         "type": "scatter",
         "x": [
          "2019-01-31T00:00:00",
          "2020-01-31T00:00:00",
          "2021-01-31T00:00:00"
         ],
         "xaxis": "x2",
         "y": [
          19,
          20,
          20
         ],
         "yaxis": "y2"
        },
        {
         "mode": "markers",
         "name": "valleys Average age of vessels",
         "type": "scatter",
         "x": [
          "2019-07-31T00:00:00",
          "2020-07-31T00:00:00",
          "2021-07-31T00:00:00"
         ],
         "xaxis": "x2",
         "y": [
          20,
          21,
          21
         ],
         "yaxis": "y2"
        },
        {
         "name": "Average size (GT) of vessels",
         "type": "scatter",
         "x": [
          "2018-07-31T00:00:00",
          "2019-01-31T00:00:00",
          "2019-07-31T00:00:00",
          "2020-01-31T00:00:00",
          "2020-07-31T00:00:00",
          "2021-01-31T00:00:00",
          "2021-07-31T00:00:00",
          "2022-01-31T00:00:00",
          "2022-07-31T00:00:00"
         ],
         "xaxis": "x3",
         "y": [
          25686,
          26220,
          24755,
          25938,
          25790,
          26294,
          25644,
          29921,
          32686
         ],
         "yaxis": "y3"
        },
        {
         "mode": "markers",
         "name": "peaks Average size (GT) of vessels",
         "type": "scatter",
         "x": [
          "2019-01-31T00:00:00",
          "2020-01-31T00:00:00",
          "2021-01-31T00:00:00"
         ],
         "xaxis": "x3",
         "y": [
          26220,
          25938,
          26294
         ],
         "yaxis": "y3"
        },
        {
         "mode": "markers",
         "name": "valleys Average size (GT) of vessels",
         "type": "scatter",
         "x": [
          "2019-07-31T00:00:00",
          "2020-07-31T00:00:00",
          "2021-07-31T00:00:00"
         ],
         "xaxis": "x3",
         "y": [
          24755,
          25790,
          25644
         ],
         "yaxis": "y3"
        }
       ],
       "layout": {
        "template": {
         "data": {
          "bar": [
           {
            "error_x": {
             "color": "#2a3f5f"
            },
            "error_y": {
             "color": "#2a3f5f"
            },
            "marker": {
             "line": {
              "color": "#E5ECF6",
              "width": 0.5
             },
             "pattern": {
              "fillmode": "overlay",
              "size": 10,
              "solidity": 0.2
             }
            },
            "type": "bar"
           }
          ],
          "barpolar": [
           {
            "marker": {
             "line": {
              "color": "#E5ECF6",
              "width": 0.5
             },
             "pattern": {
              "fillmode": "overlay",
              "size": 10,
              "solidity": 0.2
             }
            },
            "type": "barpolar"
           }
          ],
          "carpet": [
           {
            "aaxis": {
             "endlinecolor": "#2a3f5f",
             "gridcolor": "white",
             "linecolor": "white",
             "minorgridcolor": "white",
             "startlinecolor": "#2a3f5f"
            },
            "baxis": {
             "endlinecolor": "#2a3f5f",
             "gridcolor": "white",
             "linecolor": "white",
             "minorgridcolor": "white",
             "startlinecolor": "#2a3f5f"
            },
            "type": "carpet"
           }
          ],
          "choropleth": [
           {
            "colorbar": {
             "outlinewidth": 0,
             "ticks": ""
            },
            "type": "choropleth"
           }
          ],
          "contour": [
           {
            "colorbar": {
             "outlinewidth": 0,
             "ticks": ""
            },
            "colorscale": [
             [
              0,
              "#0d0887"
             ],
             [
              0.1111111111111111,
              "#46039f"
             ],
             [
              0.2222222222222222,
              "#7201a8"
             ],
             [
              0.3333333333333333,
              "#9c179e"
             ],
             [
              0.4444444444444444,
              "#bd3786"
             ],
             [
              0.5555555555555556,
              "#d8576b"
             ],
             [
              0.6666666666666666,
              "#ed7953"
             ],
             [
              0.7777777777777778,
              "#fb9f3a"
             ],
             [
              0.8888888888888888,
              "#fdca26"
             ],
             [
              1,
              "#f0f921"
             ]
            ],
            "type": "contour"
           }
          ],
          "contourcarpet": [
           {
            "colorbar": {
             "outlinewidth": 0,
             "ticks": ""
            },
            "type": "contourcarpet"
           }
          ],
          "heatmap": [
           {
            "colorbar": {
             "outlinewidth": 0,
             "ticks": ""
            },
            "colorscale": [
             [
              0,
              "#0d0887"
             ],
             [
              0.1111111111111111,
              "#46039f"
             ],
             [
              0.2222222222222222,
              "#7201a8"
             ],
             [
              0.3333333333333333,
              "#9c179e"
             ],
             [
              0.4444444444444444,
              "#bd3786"
             ],
             [
              0.5555555555555556,
              "#d8576b"
             ],
             [
              0.6666666666666666,
              "#ed7953"
             ],
             [
              0.7777777777777778,
              "#fb9f3a"
             ],
             [
              0.8888888888888888,
              "#fdca26"
             ],
             [
              1,
              "#f0f921"
             ]
            ],
            "type": "heatmap"
           }
          ],
          "heatmapgl": [
           {
            "colorbar": {
             "outlinewidth": 0,
             "ticks": ""
            },
            "colorscale": [
             [
              0,
              "#0d0887"
             ],
             [
              0.1111111111111111,
              "#46039f"
             ],
             [
              0.2222222222222222,
              "#7201a8"
             ],
             [
              0.3333333333333333,
              "#9c179e"
             ],
             [
              0.4444444444444444,
              "#bd3786"
             ],
             [
              0.5555555555555556,
              "#d8576b"
             ],
             [
              0.6666666666666666,
              "#ed7953"
             ],
             [
              0.7777777777777778,
              "#fb9f3a"
             ],
             [
              0.8888888888888888,
              "#fdca26"
             ],
             [
              1,
              "#f0f921"
             ]
            ],
            "type": "heatmapgl"
           }
          ],
          "histogram": [
           {
            "marker": {
             "pattern": {
              "fillmode": "overlay",
              "size": 10,
              "solidity": 0.2
             }
            },
            "type": "histogram"
           }
          ],
          "histogram2d": [
           {
            "colorbar": {
             "outlinewidth": 0,
             "ticks": ""
            },
            "colorscale": [
             [
              0,
              "#0d0887"
             ],
             [
              0.1111111111111111,
              "#46039f"
             ],
             [
              0.2222222222222222,
              "#7201a8"
             ],
             [
              0.3333333333333333,
              "#9c179e"
             ],
             [
              0.4444444444444444,
              "#bd3786"
             ],
             [
              0.5555555555555556,
              "#d8576b"
             ],
             [
              0.6666666666666666,
              "#ed7953"
             ],
             [
              0.7777777777777778,
              "#fb9f3a"
             ],
             [
              0.8888888888888888,
              "#fdca26"
             ],
             [
              1,
              "#f0f921"
             ]
            ],
            "type": "histogram2d"
           }
          ],
          "histogram2dcontour": [
           {
            "colorbar": {
             "outlinewidth": 0,
             "ticks": ""
            },
            "colorscale": [
             [
              0,
              "#0d0887"
             ],
             [
              0.1111111111111111,
              "#46039f"
             ],
             [
              0.2222222222222222,
              "#7201a8"
             ],
             [
              0.3333333333333333,
              "#9c179e"
             ],
             [
              0.4444444444444444,
              "#bd3786"
             ],
             [
              0.5555555555555556,
              "#d8576b"
             ],
             [
              0.6666666666666666,
              "#ed7953"
             ],
             [
              0.7777777777777778,
              "#fb9f3a"
             ],
             [
              0.8888888888888888,
              "#fdca26"
             ],
             [
              1,
              "#f0f921"
             ]
            ],
            "type": "histogram2dcontour"
           }
          ],
          "mesh3d": [
           {
            "colorbar": {
             "outlinewidth": 0,
             "ticks": ""
            },
            "type": "mesh3d"
           }
          ],
          "parcoords": [
           {
            "line": {
             "colorbar": {
              "outlinewidth": 0,
              "ticks": ""
             }
            },
            "type": "parcoords"
           }
          ],
          "pie": [
           {
            "automargin": true,
            "type": "pie"
           }
          ],
          "scatter": [
           {
            "fillpattern": {
             "fillmode": "overlay",
             "size": 10,
             "solidity": 0.2
            },
            "type": "scatter"
           }
          ],
          "scatter3d": [
           {
            "line": {
             "colorbar": {
              "outlinewidth": 0,
              "ticks": ""
             }
            },
            "marker": {
             "colorbar": {
              "outlinewidth": 0,
              "ticks": ""
             }
            },
            "type": "scatter3d"
           }
          ],
          "scattercarpet": [
           {
            "marker": {
             "colorbar": {
              "outlinewidth": 0,
              "ticks": ""
             }
            },
            "type": "scattercarpet"
           }
          ],
          "scattergeo": [
           {
            "marker": {
             "colorbar": {
              "outlinewidth": 0,
              "ticks": ""
             }
            },
            "type": "scattergeo"
           }
          ],
          "scattergl": [
           {
            "marker": {
             "colorbar": {
              "outlinewidth": 0,
              "ticks": ""
             }
            },
            "type": "scattergl"
           }
          ],
          "scattermapbox": [
           {
            "marker": {
             "colorbar": {
              "outlinewidth": 0,
              "ticks": ""
             }
            },
            "type": "scattermapbox"
           }
          ],
          "scatterpolar": [
           {
            "marker": {
             "colorbar": {
              "outlinewidth": 0,
              "ticks": ""
             }
            },
            "type": "scatterpolar"
           }
          ],
          "scatterpolargl": [
           {
            "marker": {
             "colorbar": {
              "outlinewidth": 0,
              "ticks": ""
             }
            },
            "type": "scatterpolargl"
           }
          ],
          "scatterternary": [
           {
            "marker": {
             "colorbar": {
              "outlinewidth": 0,
              "ticks": ""
             }
            },
            "type": "scatterternary"
           }
          ],
          "surface": [
           {
            "colorbar": {
             "outlinewidth": 0,
             "ticks": ""
            },
            "colorscale": [
             [
              0,
              "#0d0887"
             ],
             [
              0.1111111111111111,
              "#46039f"
             ],
             [
              0.2222222222222222,
              "#7201a8"
             ],
             [
              0.3333333333333333,
              "#9c179e"
             ],
             [
              0.4444444444444444,
              "#bd3786"
             ],
             [
              0.5555555555555556,
              "#d8576b"
             ],
             [
              0.6666666666666666,
              "#ed7953"
             ],
             [
              0.7777777777777778,
              "#fb9f3a"
             ],
             [
              0.8888888888888888,
              "#fdca26"
             ],
             [
              1,
              "#f0f921"
             ]
            ],
            "type": "surface"
           }
          ],
          "table": [
           {
            "cells": {
             "fill": {
              "color": "#EBF0F8"
             },
             "line": {
              "color": "white"
             }
            },
            "header": {
             "fill": {
              "color": "#C8D4E3"
             },
             "line": {
              "color": "white"
             }
            },
            "type": "table"
           }
          ]
         },
         "layout": {
          "annotationdefaults": {
           "arrowcolor": "#2a3f5f",
           "arrowhead": 0,
           "arrowwidth": 1
          },
          "autotypenumbers": "strict",
          "coloraxis": {
           "colorbar": {
            "outlinewidth": 0,
            "ticks": ""
           }
          },
          "colorscale": {
           "diverging": [
            [
             0,
             "#8e0152"
            ],
            [
             0.1,
             "#c51b7d"
            ],
            [
             0.2,
             "#de77ae"
            ],
            [
             0.3,
             "#f1b6da"
            ],
            [
             0.4,
             "#fde0ef"
            ],
            [
             0.5,
             "#f7f7f7"
            ],
            [
             0.6,
             "#e6f5d0"
            ],
            [
             0.7,
             "#b8e186"
            ],
            [
             0.8,
             "#7fbc41"
            ],
            [
             0.9,
             "#4d9221"
            ],
            [
             1,
             "#276419"
            ]
           ],
           "sequential": [
            [
             0,
             "#0d0887"
            ],
            [
             0.1111111111111111,
             "#46039f"
            ],
            [
             0.2222222222222222,
             "#7201a8"
            ],
            [
             0.3333333333333333,
             "#9c179e"
            ],
            [
             0.4444444444444444,
             "#bd3786"
            ],
            [
             0.5555555555555556,
             "#d8576b"
            ],
            [
             0.6666666666666666,
             "#ed7953"
            ],
            [
             0.7777777777777778,
             "#fb9f3a"
            ],
            [
             0.8888888888888888,
             "#fdca26"
            ],
            [
             1,
             "#f0f921"
            ]
           ],
           "sequentialminus": [
            [
             0,
             "#0d0887"
            ],
            [
             0.1111111111111111,
             "#46039f"
            ],
            [
             0.2222222222222222,
             "#7201a8"
            ],
            [
             0.3333333333333333,
             "#9c179e"
            ],
            [
             0.4444444444444444,
             "#bd3786"
            ],
            [
             0.5555555555555556,
             "#d8576b"
            ],
            [
             0.6666666666666666,
             "#ed7953"
            ],
            [
             0.7777777777777778,
             "#fb9f3a"
            ],
            [
             0.8888888888888888,
             "#fdca26"
            ],
            [
             1,
             "#f0f921"
            ]
           ]
          },
          "colorway": [
           "#636efa",
           "#EF553B",
           "#00cc96",
           "#ab63fa",
           "#FFA15A",
           "#19d3f3",
           "#FF6692",
           "#B6E880",
           "#FF97FF",
           "#FECB52"
          ],
          "font": {
           "color": "#2a3f5f"
          },
          "geo": {
           "bgcolor": "white",
           "lakecolor": "white",
           "landcolor": "#E5ECF6",
           "showlakes": true,
           "showland": true,
           "subunitcolor": "white"
          },
          "hoverlabel": {
           "align": "left"
          },
          "hovermode": "closest",
          "mapbox": {
           "style": "light"
          },
          "paper_bgcolor": "white",
          "plot_bgcolor": "#E5ECF6",
          "polar": {
           "angularaxis": {
            "gridcolor": "white",
            "linecolor": "white",
            "ticks": ""
           },
           "bgcolor": "#E5ECF6",
           "radialaxis": {
            "gridcolor": "white",
            "linecolor": "white",
            "ticks": ""
           }
          },
          "scene": {
           "xaxis": {
            "backgroundcolor": "#E5ECF6",
            "gridcolor": "white",
            "gridwidth": 2,
            "linecolor": "white",
            "showbackground": true,
            "ticks": "",
            "zerolinecolor": "white"
           },
           "yaxis": {
            "backgroundcolor": "#E5ECF6",
            "gridcolor": "white",
            "gridwidth": 2,
            "linecolor": "white",
            "showbackground": true,
            "ticks": "",
            "zerolinecolor": "white"
           },
           "zaxis": {
            "backgroundcolor": "#E5ECF6",
            "gridcolor": "white",
            "gridwidth": 2,
            "linecolor": "white",
            "showbackground": true,
            "ticks": "",
            "zerolinecolor": "white"
           }
          },
          "shapedefaults": {
           "line": {
            "color": "#2a3f5f"
           }
          },
          "ternary": {
           "aaxis": {
            "gridcolor": "white",
            "linecolor": "white",
            "ticks": ""
           },
           "baxis": {
            "gridcolor": "white",
            "linecolor": "white",
            "ticks": ""
           },
           "bgcolor": "#E5ECF6",
           "caxis": {
            "gridcolor": "white",
            "linecolor": "white",
            "ticks": ""
           }
          },
          "title": {
           "x": 0.05
          },
          "xaxis": {
           "automargin": true,
           "gridcolor": "white",
           "linecolor": "white",
           "ticks": "",
           "title": {
            "standoff": 15
           },
           "zerolinecolor": "white",
           "zerolinewidth": 2
          },
          "yaxis": {
           "automargin": true,
           "gridcolor": "white",
           "linecolor": "white",
           "ticks": "",
           "title": {
            "standoff": 15
           },
           "zerolinecolor": "white",
           "zerolinewidth": 2
          }
         }
        },
        "title": {
         "text": "Trends in vessel port time, age, and size thru the years for Australia"
        },
        "xaxis": {
         "anchor": "y",
         "domain": [
          0,
          1
         ]
        },
        "xaxis2": {
         "anchor": "y2",
         "domain": [
          0,
          1
         ]
        },
        "xaxis3": {
         "anchor": "y3",
         "domain": [
          0,
          1
         ]
        },
        "yaxis": {
         "anchor": "x",
         "domain": [
          0.7333333333333333,
          1
         ]
        },
        "yaxis2": {
         "anchor": "x2",
         "domain": [
          0.36666666666666664,
          0.6333333333333333
         ]
        },
        "yaxis3": {
         "anchor": "x3",
         "domain": [
          0,
          0.26666666666666666
         ]
        }
       }
      },
      "text/html": [
       "<div>                            <div id=\"8f499d85-6ed9-46cb-a357-dff4dc34ea93\" class=\"plotly-graph-div\" style=\"height:525px; width:100%;\"></div>            <script type=\"text/javascript\">                require([\"plotly\"], function(Plotly) {                    window.PLOTLYENV=window.PLOTLYENV || {};                                    if (document.getElementById(\"8f499d85-6ed9-46cb-a357-dff4dc34ea93\")) {                    Plotly.newPlot(                        \"8f499d85-6ed9-46cb-a357-dff4dc34ea93\",                        [{\"name\":\"Median time in port (days)\",\"x\":[\"2018-07-31T00:00:00\",\"2019-01-31T00:00:00\",\"2019-07-31T00:00:00\",\"2020-01-31T00:00:00\",\"2020-07-31T00:00:00\",\"2021-01-31T00:00:00\",\"2021-07-31T00:00:00\",\"2022-01-31T00:00:00\",\"2022-07-31T00:00:00\"],\"y\":[1.49,1.46,1.4014,1.4583,1.4889,1.5229,1.5736,1.5646,1.6104],\"type\":\"scatter\",\"xaxis\":\"x\",\"yaxis\":\"y\"},{\"mode\":\"markers\",\"name\":\"peaks Median time in port (days)\",\"x\":[\"2019-01-31T00:00:00\",\"2020-01-31T00:00:00\",\"2021-01-31T00:00:00\"],\"y\":[1.46,1.4583,1.5229],\"type\":\"scatter\",\"xaxis\":\"x\",\"yaxis\":\"y\"},{\"mode\":\"markers\",\"name\":\"valleys Median time in port (days)\",\"x\":[\"2019-07-31T00:00:00\",\"2020-07-31T00:00:00\",\"2021-07-31T00:00:00\"],\"y\":[1.4014,1.4889,1.5736],\"type\":\"scatter\",\"xaxis\":\"x\",\"yaxis\":\"y\"},{\"name\":\"Average age of vessels\",\"x\":[\"2018-07-31T00:00:00\",\"2019-01-31T00:00:00\",\"2019-07-31T00:00:00\",\"2020-01-31T00:00:00\",\"2020-07-31T00:00:00\",\"2021-01-31T00:00:00\",\"2021-07-31T00:00:00\",\"2022-01-31T00:00:00\",\"2022-07-31T00:00:00\"],\"y\":[19,19,20,20,21,20,21,19,17],\"type\":\"scatter\",\"xaxis\":\"x2\",\"yaxis\":\"y2\"},{\"mode\":\"markers\",\"name\":\"peaks Average age of vessels\",\"x\":[\"2019-01-31T00:00:00\",\"2020-01-31T00:00:00\",\"2021-01-31T00:00:00\"],\"y\":[19,20,20],\"type\":\"scatter\",\"xaxis\":\"x2\",\"yaxis\":\"y2\"},{\"mode\":\"markers\",\"name\":\"valleys Average age of vessels\",\"x\":[\"2019-07-31T00:00:00\",\"2020-07-31T00:00:00\",\"2021-07-31T00:00:00\"],\"y\":[20,21,21],\"type\":\"scatter\",\"xaxis\":\"x2\",\"yaxis\":\"y2\"},{\"name\":\"Average size (GT) of vessels\",\"x\":[\"2018-07-31T00:00:00\",\"2019-01-31T00:00:00\",\"2019-07-31T00:00:00\",\"2020-01-31T00:00:00\",\"2020-07-31T00:00:00\",\"2021-01-31T00:00:00\",\"2021-07-31T00:00:00\",\"2022-01-31T00:00:00\",\"2022-07-31T00:00:00\"],\"y\":[25686,26220,24755,25938,25790,26294,25644,29921,32686],\"type\":\"scatter\",\"xaxis\":\"x3\",\"yaxis\":\"y3\"},{\"mode\":\"markers\",\"name\":\"peaks Average size (GT) of vessels\",\"x\":[\"2019-01-31T00:00:00\",\"2020-01-31T00:00:00\",\"2021-01-31T00:00:00\"],\"y\":[26220,25938,26294],\"type\":\"scatter\",\"xaxis\":\"x3\",\"yaxis\":\"y3\"},{\"mode\":\"markers\",\"name\":\"valleys Average size (GT) of vessels\",\"x\":[\"2019-07-31T00:00:00\",\"2020-07-31T00:00:00\",\"2021-07-31T00:00:00\"],\"y\":[24755,25790,25644],\"type\":\"scatter\",\"xaxis\":\"x3\",\"yaxis\":\"y3\"}],                        {\"template\":{\"data\":{\"histogram2dcontour\":[{\"type\":\"histogram2dcontour\",\"colorbar\":{\"outlinewidth\":0,\"ticks\":\"\"},\"colorscale\":[[0.0,\"#0d0887\"],[0.1111111111111111,\"#46039f\"],[0.2222222222222222,\"#7201a8\"],[0.3333333333333333,\"#9c179e\"],[0.4444444444444444,\"#bd3786\"],[0.5555555555555556,\"#d8576b\"],[0.6666666666666666,\"#ed7953\"],[0.7777777777777778,\"#fb9f3a\"],[0.8888888888888888,\"#fdca26\"],[1.0,\"#f0f921\"]]}],\"choropleth\":[{\"type\":\"choropleth\",\"colorbar\":{\"outlinewidth\":0,\"ticks\":\"\"}}],\"histogram2d\":[{\"type\":\"histogram2d\",\"colorbar\":{\"outlinewidth\":0,\"ticks\":\"\"},\"colorscale\":[[0.0,\"#0d0887\"],[0.1111111111111111,\"#46039f\"],[0.2222222222222222,\"#7201a8\"],[0.3333333333333333,\"#9c179e\"],[0.4444444444444444,\"#bd3786\"],[0.5555555555555556,\"#d8576b\"],[0.6666666666666666,\"#ed7953\"],[0.7777777777777778,\"#fb9f3a\"],[0.8888888888888888,\"#fdca26\"],[1.0,\"#f0f921\"]]}],\"heatmap\":[{\"type\":\"heatmap\",\"colorbar\":{\"outlinewidth\":0,\"ticks\":\"\"},\"colorscale\":[[0.0,\"#0d0887\"],[0.1111111111111111,\"#46039f\"],[0.2222222222222222,\"#7201a8\"],[0.3333333333333333,\"#9c179e\"],[0.4444444444444444,\"#bd3786\"],[0.5555555555555556,\"#d8576b\"],[0.6666666666666666,\"#ed7953\"],[0.7777777777777778,\"#fb9f3a\"],[0.8888888888888888,\"#fdca26\"],[1.0,\"#f0f921\"]]}],\"heatmapgl\":[{\"type\":\"heatmapgl\",\"colorbar\":{\"outlinewidth\":0,\"ticks\":\"\"},\"colorscale\":[[0.0,\"#0d0887\"],[0.1111111111111111,\"#46039f\"],[0.2222222222222222,\"#7201a8\"],[0.3333333333333333,\"#9c179e\"],[0.4444444444444444,\"#bd3786\"],[0.5555555555555556,\"#d8576b\"],[0.6666666666666666,\"#ed7953\"],[0.7777777777777778,\"#fb9f3a\"],[0.8888888888888888,\"#fdca26\"],[1.0,\"#f0f921\"]]}],\"contourcarpet\":[{\"type\":\"contourcarpet\",\"colorbar\":{\"outlinewidth\":0,\"ticks\":\"\"}}],\"contour\":[{\"type\":\"contour\",\"colorbar\":{\"outlinewidth\":0,\"ticks\":\"\"},\"colorscale\":[[0.0,\"#0d0887\"],[0.1111111111111111,\"#46039f\"],[0.2222222222222222,\"#7201a8\"],[0.3333333333333333,\"#9c179e\"],[0.4444444444444444,\"#bd3786\"],[0.5555555555555556,\"#d8576b\"],[0.6666666666666666,\"#ed7953\"],[0.7777777777777778,\"#fb9f3a\"],[0.8888888888888888,\"#fdca26\"],[1.0,\"#f0f921\"]]}],\"surface\":[{\"type\":\"surface\",\"colorbar\":{\"outlinewidth\":0,\"ticks\":\"\"},\"colorscale\":[[0.0,\"#0d0887\"],[0.1111111111111111,\"#46039f\"],[0.2222222222222222,\"#7201a8\"],[0.3333333333333333,\"#9c179e\"],[0.4444444444444444,\"#bd3786\"],[0.5555555555555556,\"#d8576b\"],[0.6666666666666666,\"#ed7953\"],[0.7777777777777778,\"#fb9f3a\"],[0.8888888888888888,\"#fdca26\"],[1.0,\"#f0f921\"]]}],\"mesh3d\":[{\"type\":\"mesh3d\",\"colorbar\":{\"outlinewidth\":0,\"ticks\":\"\"}}],\"scatter\":[{\"fillpattern\":{\"fillmode\":\"overlay\",\"size\":10,\"solidity\":0.2},\"type\":\"scatter\"}],\"parcoords\":[{\"type\":\"parcoords\",\"line\":{\"colorbar\":{\"outlinewidth\":0,\"ticks\":\"\"}}}],\"scatterpolargl\":[{\"type\":\"scatterpolargl\",\"marker\":{\"colorbar\":{\"outlinewidth\":0,\"ticks\":\"\"}}}],\"bar\":[{\"error_x\":{\"color\":\"#2a3f5f\"},\"error_y\":{\"color\":\"#2a3f5f\"},\"marker\":{\"line\":{\"color\":\"#E5ECF6\",\"width\":0.5},\"pattern\":{\"fillmode\":\"overlay\",\"size\":10,\"solidity\":0.2}},\"type\":\"bar\"}],\"scattergeo\":[{\"type\":\"scattergeo\",\"marker\":{\"colorbar\":{\"outlinewidth\":0,\"ticks\":\"\"}}}],\"scatterpolar\":[{\"type\":\"scatterpolar\",\"marker\":{\"colorbar\":{\"outlinewidth\":0,\"ticks\":\"\"}}}],\"histogram\":[{\"marker\":{\"pattern\":{\"fillmode\":\"overlay\",\"size\":10,\"solidity\":0.2}},\"type\":\"histogram\"}],\"scattergl\":[{\"type\":\"scattergl\",\"marker\":{\"colorbar\":{\"outlinewidth\":0,\"ticks\":\"\"}}}],\"scatter3d\":[{\"type\":\"scatter3d\",\"line\":{\"colorbar\":{\"outlinewidth\":0,\"ticks\":\"\"}},\"marker\":{\"colorbar\":{\"outlinewidth\":0,\"ticks\":\"\"}}}],\"scattermapbox\":[{\"type\":\"scattermapbox\",\"marker\":{\"colorbar\":{\"outlinewidth\":0,\"ticks\":\"\"}}}],\"scatterternary\":[{\"type\":\"scatterternary\",\"marker\":{\"colorbar\":{\"outlinewidth\":0,\"ticks\":\"\"}}}],\"scattercarpet\":[{\"type\":\"scattercarpet\",\"marker\":{\"colorbar\":{\"outlinewidth\":0,\"ticks\":\"\"}}}],\"carpet\":[{\"aaxis\":{\"endlinecolor\":\"#2a3f5f\",\"gridcolor\":\"white\",\"linecolor\":\"white\",\"minorgridcolor\":\"white\",\"startlinecolor\":\"#2a3f5f\"},\"baxis\":{\"endlinecolor\":\"#2a3f5f\",\"gridcolor\":\"white\",\"linecolor\":\"white\",\"minorgridcolor\":\"white\",\"startlinecolor\":\"#2a3f5f\"},\"type\":\"carpet\"}],\"table\":[{\"cells\":{\"fill\":{\"color\":\"#EBF0F8\"},\"line\":{\"color\":\"white\"}},\"header\":{\"fill\":{\"color\":\"#C8D4E3\"},\"line\":{\"color\":\"white\"}},\"type\":\"table\"}],\"barpolar\":[{\"marker\":{\"line\":{\"color\":\"#E5ECF6\",\"width\":0.5},\"pattern\":{\"fillmode\":\"overlay\",\"size\":10,\"solidity\":0.2}},\"type\":\"barpolar\"}],\"pie\":[{\"automargin\":true,\"type\":\"pie\"}]},\"layout\":{\"autotypenumbers\":\"strict\",\"colorway\":[\"#636efa\",\"#EF553B\",\"#00cc96\",\"#ab63fa\",\"#FFA15A\",\"#19d3f3\",\"#FF6692\",\"#B6E880\",\"#FF97FF\",\"#FECB52\"],\"font\":{\"color\":\"#2a3f5f\"},\"hovermode\":\"closest\",\"hoverlabel\":{\"align\":\"left\"},\"paper_bgcolor\":\"white\",\"plot_bgcolor\":\"#E5ECF6\",\"polar\":{\"bgcolor\":\"#E5ECF6\",\"angularaxis\":{\"gridcolor\":\"white\",\"linecolor\":\"white\",\"ticks\":\"\"},\"radialaxis\":{\"gridcolor\":\"white\",\"linecolor\":\"white\",\"ticks\":\"\"}},\"ternary\":{\"bgcolor\":\"#E5ECF6\",\"aaxis\":{\"gridcolor\":\"white\",\"linecolor\":\"white\",\"ticks\":\"\"},\"baxis\":{\"gridcolor\":\"white\",\"linecolor\":\"white\",\"ticks\":\"\"},\"caxis\":{\"gridcolor\":\"white\",\"linecolor\":\"white\",\"ticks\":\"\"}},\"coloraxis\":{\"colorbar\":{\"outlinewidth\":0,\"ticks\":\"\"}},\"colorscale\":{\"sequential\":[[0.0,\"#0d0887\"],[0.1111111111111111,\"#46039f\"],[0.2222222222222222,\"#7201a8\"],[0.3333333333333333,\"#9c179e\"],[0.4444444444444444,\"#bd3786\"],[0.5555555555555556,\"#d8576b\"],[0.6666666666666666,\"#ed7953\"],[0.7777777777777778,\"#fb9f3a\"],[0.8888888888888888,\"#fdca26\"],[1.0,\"#f0f921\"]],\"sequentialminus\":[[0.0,\"#0d0887\"],[0.1111111111111111,\"#46039f\"],[0.2222222222222222,\"#7201a8\"],[0.3333333333333333,\"#9c179e\"],[0.4444444444444444,\"#bd3786\"],[0.5555555555555556,\"#d8576b\"],[0.6666666666666666,\"#ed7953\"],[0.7777777777777778,\"#fb9f3a\"],[0.8888888888888888,\"#fdca26\"],[1.0,\"#f0f921\"]],\"diverging\":[[0,\"#8e0152\"],[0.1,\"#c51b7d\"],[0.2,\"#de77ae\"],[0.3,\"#f1b6da\"],[0.4,\"#fde0ef\"],[0.5,\"#f7f7f7\"],[0.6,\"#e6f5d0\"],[0.7,\"#b8e186\"],[0.8,\"#7fbc41\"],[0.9,\"#4d9221\"],[1,\"#276419\"]]},\"xaxis\":{\"gridcolor\":\"white\",\"linecolor\":\"white\",\"ticks\":\"\",\"title\":{\"standoff\":15},\"zerolinecolor\":\"white\",\"automargin\":true,\"zerolinewidth\":2},\"yaxis\":{\"gridcolor\":\"white\",\"linecolor\":\"white\",\"ticks\":\"\",\"title\":{\"standoff\":15},\"zerolinecolor\":\"white\",\"automargin\":true,\"zerolinewidth\":2},\"scene\":{\"xaxis\":{\"backgroundcolor\":\"#E5ECF6\",\"gridcolor\":\"white\",\"linecolor\":\"white\",\"showbackground\":true,\"ticks\":\"\",\"zerolinecolor\":\"white\",\"gridwidth\":2},\"yaxis\":{\"backgroundcolor\":\"#E5ECF6\",\"gridcolor\":\"white\",\"linecolor\":\"white\",\"showbackground\":true,\"ticks\":\"\",\"zerolinecolor\":\"white\",\"gridwidth\":2},\"zaxis\":{\"backgroundcolor\":\"#E5ECF6\",\"gridcolor\":\"white\",\"linecolor\":\"white\",\"showbackground\":true,\"ticks\":\"\",\"zerolinecolor\":\"white\",\"gridwidth\":2}},\"shapedefaults\":{\"line\":{\"color\":\"#2a3f5f\"}},\"annotationdefaults\":{\"arrowcolor\":\"#2a3f5f\",\"arrowhead\":0,\"arrowwidth\":1},\"geo\":{\"bgcolor\":\"white\",\"landcolor\":\"#E5ECF6\",\"subunitcolor\":\"white\",\"showland\":true,\"showlakes\":true,\"lakecolor\":\"white\"},\"title\":{\"x\":0.05},\"mapbox\":{\"style\":\"light\"}}},\"xaxis\":{\"anchor\":\"y\",\"domain\":[0.0,1.0]},\"yaxis\":{\"anchor\":\"x\",\"domain\":[0.7333333333333333,1.0]},\"xaxis2\":{\"anchor\":\"y2\",\"domain\":[0.0,1.0]},\"yaxis2\":{\"anchor\":\"x2\",\"domain\":[0.36666666666666664,0.6333333333333333]},\"xaxis3\":{\"anchor\":\"y3\",\"domain\":[0.0,1.0]},\"yaxis3\":{\"anchor\":\"x3\",\"domain\":[0.0,0.26666666666666666]},\"title\":{\"text\":\"Trends in vessel port time, age, and size thru the years for Australia\"}},                        {\"responsive\": true}                    ).then(function(){\n",
       "                            \n",
       "var gd = document.getElementById('8f499d85-6ed9-46cb-a357-dff4dc34ea93');\n",
       "var x = new MutationObserver(function (mutations, observer) {{\n",
       "        var display = window.getComputedStyle(gd).display;\n",
       "        if (!display || display === 'none') {{\n",
       "            console.log([gd, 'removed!']);\n",
       "            Plotly.purge(gd);\n",
       "            observer.disconnect();\n",
       "        }}\n",
       "}});\n",
       "\n",
       "// Listen for the removal of the full notebook cells\n",
       "var notebookContainer = gd.closest('#notebook-container');\n",
       "if (notebookContainer) {{\n",
       "    x.observe(notebookContainer, {childList: true});\n",
       "}}\n",
       "\n",
       "// Listen for the clearing of the current output cell\n",
       "var outputEl = gd.closest('.output');\n",
       "if (outputEl) {{\n",
       "    x.observe(outputEl, {childList: true});\n",
       "}}\n",
       "\n",
       "                        })                };                });            </script>        </div>"
      ]
     },
     "metadata": {},
     "output_type": "display_data"
    }
   ],
   "source": [
    "fig_2 = go.Figure()\n",
    "fig_2 = make_subplots(rows=3,cols=1)\n",
    "x1 = geo_port_all_vessels['date']\n",
    "y1 = geo_port_all_vessels[activity_5]\n",
    "x2 = df_max_1['date']\n",
    "y2 = df_max_1[activity_5]\n",
    "x3 = df_min_1['date']\n",
    "y3 = df_min_1[activity_5]\n",
    "x4 = geo_port_all_vessels['date']\n",
    "y4 = geo_port_all_vessels[activity_8]\n",
    "x5 = df_max_1['date']\n",
    "y5 = df_max_1[activity_8]\n",
    "x6 = df_min_1['date']\n",
    "y6 = df_min_1[activity_8]\n",
    "x7 = geo_port_all_vessels['date']\n",
    "y7 = geo_port_all_vessels[activity_10]\n",
    "x8 = df_max_1['date']\n",
    "y8 = df_max_1[activity_10]\n",
    "x9 = df_min_1['date'] #it was Period Label\n",
    "y9 = df_min_1[activity_10]\n",
    "\n",
    "\n",
    "fig_2.append_trace(go.Scatter(x=x1,y=y1,name=activity_5),row=1,col=1)\n",
    "fig_2.append_trace(go.Scatter(x=x2,y=y2,mode='markers',name='peaks ' + activity_5),row=1,col=1)\n",
    "fig_2.append_trace(go.Scatter(x=x3,y=y3,mode='markers',name='valleys ' + activity_5),row=1,col=1)\n",
    "fig_2.append_trace(go.Scatter(x=x4,y=y4,name=activity_8),row=2,col=1)\n",
    "fig_2.append_trace(go.Scatter(x=x5,y=y5,mode='markers',name='peaks ' + activity_8),row=2,col=1)\n",
    "fig_2.append_trace(go.Scatter(x=x6,y=y6,mode='markers',name='valleys ' + activity_8),row=2,col=1)\n",
    "fig_2.append_trace(go.Scatter(x=x7,y=y7,name=activity_10),row=3,col=1)\n",
    "fig_2.append_trace(go.Scatter(x=x8,y=y8,mode='markers',name='peaks ' + activity_10),row=3,col=1)\n",
    "fig_2.append_trace(go.Scatter(x=x9,y=y9,mode='markers',name='valleys ' + activity_10),row=3,col=1)\n",
    "\n",
    "\n",
    "fig_2.update_layout(title='Trends in vessel port time, age, and size thru the years for Australia')\n",
    "\n",
    "fig_2.show()"
   ]
  },
  {
   "cell_type": "markdown",
   "metadata": {},
   "source": [
    "Spearman’s Correlation\n",
    "\n",
    "Two variables may be related by a nonlinear relationship, such that the relationship is stronger or weaker across the distribution of the variables.\n",
    "\n",
    "Further, the two variables being considered may have a non-Gaussian distribution.\n",
    "\n",
    "In this case, the Spearman’s correlation coefficient (named for Charles Spearman) can be used to summarize the strength between the two data samples.\n",
    "\n",
    "We will compare the data set of median time in ports with the COVID new cases to see if there is a correlation. "
   ]
  },
  {
   "cell_type": "code",
   "execution_count": 118,
   "metadata": {},
   "outputs": [
    {
     "ename": "KeyError",
     "evalue": "'new_cases'",
     "output_type": "error",
     "traceback": [
      "\u001b[0;31m---------------------------------------------------------------------------\u001b[0m",
      "\u001b[0;31mKeyError\u001b[0m                                  Traceback (most recent call last)",
      "File \u001b[0;32m~/miniforge3/envs/TIL6022/lib/python3.9/site-packages/pandas/core/indexes/base.py:3629\u001b[0m, in \u001b[0;36mIndex.get_loc\u001b[0;34m(self, key, method, tolerance)\u001b[0m\n\u001b[1;32m   3628\u001b[0m \u001b[38;5;28;01mtry\u001b[39;00m:\n\u001b[0;32m-> 3629\u001b[0m     \u001b[38;5;28;01mreturn\u001b[39;00m \u001b[38;5;28;43mself\u001b[39;49m\u001b[38;5;241;43m.\u001b[39;49m\u001b[43m_engine\u001b[49m\u001b[38;5;241;43m.\u001b[39;49m\u001b[43mget_loc\u001b[49m\u001b[43m(\u001b[49m\u001b[43mcasted_key\u001b[49m\u001b[43m)\u001b[49m\n\u001b[1;32m   3630\u001b[0m \u001b[38;5;28;01mexcept\u001b[39;00m \u001b[38;5;167;01mKeyError\u001b[39;00m \u001b[38;5;28;01mas\u001b[39;00m err:\n",
      "File \u001b[0;32m~/miniforge3/envs/TIL6022/lib/python3.9/site-packages/pandas/_libs/index.pyx:136\u001b[0m, in \u001b[0;36mpandas._libs.index.IndexEngine.get_loc\u001b[0;34m()\u001b[0m\n",
      "File \u001b[0;32m~/miniforge3/envs/TIL6022/lib/python3.9/site-packages/pandas/_libs/index.pyx:144\u001b[0m, in \u001b[0;36mpandas._libs.index.IndexEngine.get_loc\u001b[0;34m()\u001b[0m\n",
      "File \u001b[0;32mpandas/_libs/index_class_helper.pxi:41\u001b[0m, in \u001b[0;36mpandas._libs.index.Int64Engine._check_type\u001b[0;34m()\u001b[0m\n",
      "\u001b[0;31mKeyError\u001b[0m: 'new_cases'",
      "\nThe above exception was the direct cause of the following exception:\n",
      "\u001b[0;31mKeyError\u001b[0m                                  Traceback (most recent call last)",
      "Cell \u001b[0;32mIn [118], line 1\u001b[0m\n\u001b[0;32m----> 1\u001b[0m data1 \u001b[38;5;241m=\u001b[39m \u001b[43mgeo_port\u001b[49m\u001b[38;5;241;43m.\u001b[39;49m\u001b[43mloc\u001b[49m\u001b[43m[\u001b[49m\u001b[38;5;124;43m'\u001b[39;49m\u001b[38;5;124;43mnew_cases\u001b[39;49m\u001b[38;5;124;43m'\u001b[39;49m\u001b[43m]\u001b[49m\n\u001b[1;32m      2\u001b[0m data2 \u001b[38;5;241m=\u001b[39m geo_port\u001b[38;5;241m.\u001b[39mloc[\u001b[38;5;124m'\u001b[39m\u001b[38;5;124mMedian time in port (days)\u001b[39m\u001b[38;5;124m'\u001b[39m]\n\u001b[1;32m      3\u001b[0m coef, p \u001b[38;5;241m=\u001b[39m spearmanr(data1, data2)\n",
      "File \u001b[0;32m~/miniforge3/envs/TIL6022/lib/python3.9/site-packages/pandas/core/indexing.py:967\u001b[0m, in \u001b[0;36m_LocationIndexer.__getitem__\u001b[0;34m(self, key)\u001b[0m\n\u001b[1;32m    964\u001b[0m axis \u001b[38;5;241m=\u001b[39m \u001b[38;5;28mself\u001b[39m\u001b[38;5;241m.\u001b[39maxis \u001b[38;5;129;01mor\u001b[39;00m \u001b[38;5;241m0\u001b[39m\n\u001b[1;32m    966\u001b[0m maybe_callable \u001b[38;5;241m=\u001b[39m com\u001b[38;5;241m.\u001b[39mapply_if_callable(key, \u001b[38;5;28mself\u001b[39m\u001b[38;5;241m.\u001b[39mobj)\n\u001b[0;32m--> 967\u001b[0m \u001b[38;5;28;01mreturn\u001b[39;00m \u001b[38;5;28;43mself\u001b[39;49m\u001b[38;5;241;43m.\u001b[39;49m\u001b[43m_getitem_axis\u001b[49m\u001b[43m(\u001b[49m\u001b[43mmaybe_callable\u001b[49m\u001b[43m,\u001b[49m\u001b[43m \u001b[49m\u001b[43maxis\u001b[49m\u001b[38;5;241;43m=\u001b[39;49m\u001b[43maxis\u001b[49m\u001b[43m)\u001b[49m\n",
      "File \u001b[0;32m~/miniforge3/envs/TIL6022/lib/python3.9/site-packages/pandas/core/indexing.py:1205\u001b[0m, in \u001b[0;36m_LocIndexer._getitem_axis\u001b[0;34m(self, key, axis)\u001b[0m\n\u001b[1;32m   1203\u001b[0m \u001b[38;5;66;03m# fall thru to straight lookup\u001b[39;00m\n\u001b[1;32m   1204\u001b[0m \u001b[38;5;28mself\u001b[39m\u001b[38;5;241m.\u001b[39m_validate_key(key, axis)\n\u001b[0;32m-> 1205\u001b[0m \u001b[38;5;28;01mreturn\u001b[39;00m \u001b[38;5;28;43mself\u001b[39;49m\u001b[38;5;241;43m.\u001b[39;49m\u001b[43m_get_label\u001b[49m\u001b[43m(\u001b[49m\u001b[43mkey\u001b[49m\u001b[43m,\u001b[49m\u001b[43m \u001b[49m\u001b[43maxis\u001b[49m\u001b[38;5;241;43m=\u001b[39;49m\u001b[43maxis\u001b[49m\u001b[43m)\u001b[49m\n",
      "File \u001b[0;32m~/miniforge3/envs/TIL6022/lib/python3.9/site-packages/pandas/core/indexing.py:1153\u001b[0m, in \u001b[0;36m_LocIndexer._get_label\u001b[0;34m(self, label, axis)\u001b[0m\n\u001b[1;32m   1151\u001b[0m \u001b[38;5;28;01mdef\u001b[39;00m \u001b[38;5;21m_get_label\u001b[39m(\u001b[38;5;28mself\u001b[39m, label, axis: \u001b[38;5;28mint\u001b[39m):\n\u001b[1;32m   1152\u001b[0m     \u001b[38;5;66;03m# GH#5667 this will fail if the label is not present in the axis.\u001b[39;00m\n\u001b[0;32m-> 1153\u001b[0m     \u001b[38;5;28;01mreturn\u001b[39;00m \u001b[38;5;28;43mself\u001b[39;49m\u001b[38;5;241;43m.\u001b[39;49m\u001b[43mobj\u001b[49m\u001b[38;5;241;43m.\u001b[39;49m\u001b[43mxs\u001b[49m\u001b[43m(\u001b[49m\u001b[43mlabel\u001b[49m\u001b[43m,\u001b[49m\u001b[43m \u001b[49m\u001b[43maxis\u001b[49m\u001b[38;5;241;43m=\u001b[39;49m\u001b[43maxis\u001b[49m\u001b[43m)\u001b[49m\n",
      "File \u001b[0;32m~/miniforge3/envs/TIL6022/lib/python3.9/site-packages/pandas/core/generic.py:3864\u001b[0m, in \u001b[0;36mNDFrame.xs\u001b[0;34m(self, key, axis, level, drop_level)\u001b[0m\n\u001b[1;32m   3862\u001b[0m             new_index \u001b[38;5;241m=\u001b[39m index[loc]\n\u001b[1;32m   3863\u001b[0m \u001b[38;5;28;01melse\u001b[39;00m:\n\u001b[0;32m-> 3864\u001b[0m     loc \u001b[38;5;241m=\u001b[39m \u001b[43mindex\u001b[49m\u001b[38;5;241;43m.\u001b[39;49m\u001b[43mget_loc\u001b[49m\u001b[43m(\u001b[49m\u001b[43mkey\u001b[49m\u001b[43m)\u001b[49m\n\u001b[1;32m   3866\u001b[0m     \u001b[38;5;28;01mif\u001b[39;00m \u001b[38;5;28misinstance\u001b[39m(loc, np\u001b[38;5;241m.\u001b[39mndarray):\n\u001b[1;32m   3867\u001b[0m         \u001b[38;5;28;01mif\u001b[39;00m loc\u001b[38;5;241m.\u001b[39mdtype \u001b[38;5;241m==\u001b[39m np\u001b[38;5;241m.\u001b[39mbool_:\n",
      "File \u001b[0;32m~/miniforge3/envs/TIL6022/lib/python3.9/site-packages/pandas/core/indexes/base.py:3631\u001b[0m, in \u001b[0;36mIndex.get_loc\u001b[0;34m(self, key, method, tolerance)\u001b[0m\n\u001b[1;32m   3629\u001b[0m     \u001b[38;5;28;01mreturn\u001b[39;00m \u001b[38;5;28mself\u001b[39m\u001b[38;5;241m.\u001b[39m_engine\u001b[38;5;241m.\u001b[39mget_loc(casted_key)\n\u001b[1;32m   3630\u001b[0m \u001b[38;5;28;01mexcept\u001b[39;00m \u001b[38;5;167;01mKeyError\u001b[39;00m \u001b[38;5;28;01mas\u001b[39;00m err:\n\u001b[0;32m-> 3631\u001b[0m     \u001b[38;5;28;01mraise\u001b[39;00m \u001b[38;5;167;01mKeyError\u001b[39;00m(key) \u001b[38;5;28;01mfrom\u001b[39;00m \u001b[38;5;21;01merr\u001b[39;00m\n\u001b[1;32m   3632\u001b[0m \u001b[38;5;28;01mexcept\u001b[39;00m \u001b[38;5;167;01mTypeError\u001b[39;00m:\n\u001b[1;32m   3633\u001b[0m     \u001b[38;5;66;03m# If we have a listlike key, _check_indexing_error will raise\u001b[39;00m\n\u001b[1;32m   3634\u001b[0m     \u001b[38;5;66;03m#  InvalidIndexError. Otherwise we fall through and re-raise\u001b[39;00m\n\u001b[1;32m   3635\u001b[0m     \u001b[38;5;66;03m#  the TypeError.\u001b[39;00m\n\u001b[1;32m   3636\u001b[0m     \u001b[38;5;28mself\u001b[39m\u001b[38;5;241m.\u001b[39m_check_indexing_error(key)\n",
      "\u001b[0;31mKeyError\u001b[0m: 'new_cases'"
     ]
    }
   ],
   "source": [
    "data1 = geo_port.loc['new_cases']\n",
    "data2 = geo_port.loc['Median time in port (days)']\n",
    "coef, p = spearmanr(data1, data2)\n",
    "print('Spearmans correlation coefficient: %.3f' % coef)\n",
    "# interpret the significance\n",
    "alpha = 0.05\n",
    "if p > alpha:\n",
    "\tprint('Samples are uncorrelated (fail to reject H0) p=%.3f' % p)\n",
    "else:\n",
    "\tprint('Samples are correlated (reject H0) p=%.3f' % p)"
   ]
  },
  {
   "cell_type": "markdown",
   "metadata": {},
   "source": [
    "In addition, we will do a world to world comparision of COVID cases versus port times: "
   ]
  },
  {
   "cell_type": "markdown",
   "metadata": {},
   "source": [
    "## Part III - Data visualisation\n",
    "\n",
    "For this last part, we're going to visually show the effect that COVID had on vessel times so that users can see how ports have been impacted by COVID and thus has also impacted the logistics system as a whole by: \n",
    "\n",
    "We're going to look at regions and look at the semi annual trend by vessel type \n",
    "\n",
    "pie chart showing the proportions of the commodity shipped\n",
    "\n",
    "World map showing the change in port call times over the years \n",
    "\n",
    "Comparing covid high periods vs low periods with port call times \n",
    "\n",
    "Interpreting the results \n",
    "\n",
    "First, We show our variables for this part."
   ]
  },
  {
   "cell_type": "markdown",
   "metadata": {},
   "source": [
    "We want to show the COVID data with the port time (worldwide)"
   ]
  },
  {
   "cell_type": "markdown",
   "metadata": {},
   "source": [
    "Now we will show over the years from 2018, the number of port calls by region"
   ]
  },
  {
   "cell_type": "code",
   "execution_count": 9,
   "metadata": {
    "scrolled": true
   },
   "outputs": [
    {
     "ename": "NameError",
     "evalue": "name 'df_ports' is not defined",
     "output_type": "error",
     "traceback": [
      "\u001b[0;31m---------------------------------------------------------------------------\u001b[0m",
      "\u001b[0;31mNameError\u001b[0m                                 Traceback (most recent call last)",
      "Cell \u001b[0;32mIn [9], line 1\u001b[0m\n\u001b[0;32m----> 1\u001b[0m fig \u001b[38;5;241m=\u001b[39m px\u001b[38;5;241m.\u001b[39mhistogram(\u001b[43mdf_ports\u001b[49m, y\u001b[38;5;241m=\u001b[39m\u001b[38;5;124m\"\u001b[39m\u001b[38;5;124mLocation\u001b[39m\u001b[38;5;124m\"\u001b[39m, x\u001b[38;5;241m=\u001b[39m\u001b[38;5;124m\"\u001b[39m\u001b[38;5;124mMedian time in port (days)\u001b[39m\u001b[38;5;124m\"\u001b[39m, orientation\u001b[38;5;241m=\u001b[39m \u001b[38;5;124m\"\u001b[39m\u001b[38;5;124mh\u001b[39m\u001b[38;5;124m\"\u001b[39m,\n\u001b[1;32m      2\u001b[0m             animation_frame\u001b[38;5;241m=\u001b[39m\u001b[38;5;124m\"\u001b[39m\u001b[38;5;124mPeriod Label\u001b[39m\u001b[38;5;124m\"\u001b[39m, \n\u001b[1;32m      3\u001b[0m             \u001b[38;5;66;03m#range_x=[0,4000000000], \u001b[39;00m\n\u001b[1;32m      4\u001b[0m                color\u001b[38;5;241m=\u001b[39m\u001b[38;5;124m\"\u001b[39m\u001b[38;5;124mLocation\u001b[39m\u001b[38;5;124m\"\u001b[39m,)\n\u001b[1;32m      5\u001b[0m fig\u001b[38;5;241m.\u001b[39mupdate_yaxes(categoryorder\u001b[38;5;241m=\u001b[39m\u001b[38;5;124m'\u001b[39m\u001b[38;5;124msum ascending\u001b[39m\u001b[38;5;124m'\u001b[39m)\n\u001b[1;32m      7\u001b[0m fig\u001b[38;5;241m.\u001b[39mshow()\n",
      "\u001b[0;31mNameError\u001b[0m: name 'df_ports' is not defined"
     ]
    }
   ],
   "source": [
    " fig = px.histogram(df_ports, y=\"Location\", x=\"Median time in port (days)\", orientation= \"h\",\n",
    "             animation_frame=\"Period Label\", \n",
    "             #range_x=[0,4000000000], \n",
    "                color=\"Location\",)\n",
    "fig.update_yaxes(categoryorder='sum ascending')\n",
    "\n",
    "fig.show()"
   ]
  },
  {
   "cell_type": "code",
   "execution_count": null,
   "metadata": {},
   "outputs": [],
   "source": [
    "# load dataset\n",
    "df = pd.read_csv(\"https://raw.githubusercontent.com/plotly/datasets/master/volcano.csv\")\n",
    "\n",
    "# create figure\n",
    "fig = go.Figure()\n",
    "\n",
    "# Add surface trace\n",
    "fig.add_trace(go.Surface(z=df.values.tolist(), colorscale=\"Viridis\"))\n",
    "\n",
    "# Update plot sizing\n",
    "fig.update_layout(\n",
    "    width=800,\n",
    "    height=900,\n",
    "    autosize=False,\n",
    "    margin=dict(t=0, b=0, l=0, r=0),\n",
    "    template=\"plotly_white\",\n",
    ")\n",
    "\n",
    "\n",
    "# Add dropdown\n",
    "fig.update_layout(\n",
    "    updatemenus=[\n",
    "        dict(\n",
    "            buttons=list([\n",
    "                dict(\n",
    "                    args=[\"type\", \"surface\"],\n",
    "                    label=\"Asia\",\n",
    "                    method=\"restyle\"\n",
    "                ),\n",
    "                dict(\n",
    "                    args=[\"type\", \"heatmap\"],\n",
    "                    label=\"America\",\n",
    "                    method=\"restyle\"\n",
    "                ),\n",
    "                dict(\n",
    "                    args=[\"type\", \"heatmap\"],\n",
    "                    label=\"Africa\",\n",
    "                    method=\"restyle\"\n",
    "                )\n",
    "            ]),\n",
    "            direction=\"down\",\n",
    "            pad={\"r\": 10, \"t\": 10},\n",
    "            showactive=True,\n",
    "            x=0.1,\n",
    "            xanchor=\"left\",\n",
    "            y=1.1,\n",
    "            yanchor=\"top\"\n",
    "        ),\n",
    "    ]\n",
    ")\n",
    "\n",
    "# Add annotation\n",
    "fig.update_layout(\n",
    "    annotations=[\n",
    "        dict(text=\"Countries:\", showarrow=False,\n",
    "        x=0, y=1.085, yref=\"paper\", align=\"left\")\n",
    "    ]\n",
    ")\n",
    "\n",
    "fig.show()"
   ]
  },
  {
   "cell_type": "code",
   "execution_count": null,
   "metadata": {},
   "outputs": [],
   "source": []
  },
  {
   "cell_type": "code",
   "execution_count": null,
   "metadata": {},
   "outputs": [],
   "source": [
    "pie = px.pie(df_new, values=\"occurance\", names=\"Sectors\", title=\"sector wise composition\")\n",
    "pie.show()\n",
    "#https://www.youtube.com/watch?v=s_iEvTBSBfA\n",
    "sunburst=px.sunburst(df_path=['Sectors', 'regions'],values='volume transported')\n",
    "sunburst.show()"
   ]
  }
 ],
 "metadata": {
  "kernelspec": {
   "display_name": "Python 3 (ipykernel)",
   "language": "python",
   "name": "python3"
  },
  "language_info": {
   "codemirror_mode": {
    "name": "ipython",
    "version": 3
   },
   "file_extension": ".py",
   "mimetype": "text/x-python",
   "name": "python",
   "nbconvert_exporter": "python",
   "pygments_lexer": "ipython3",
   "version": "3.9.13"
  },
  "vscode": {
   "interpreter": {
    "hash": "31f2aee4e71d21fbe5cf8b01ff0e069b9275f58929596ceb00d14d90e3e16cd6"
   }
  }
 },
 "nbformat": 4,
 "nbformat_minor": 2
}
