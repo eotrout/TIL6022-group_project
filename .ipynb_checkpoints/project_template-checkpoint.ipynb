{
 "cells": [
  {
   "cell_type": "markdown",
   "metadata": {},
   "source": [
    "# Project Group - 25\n",
    "\n",
    "Members: Yun-An LIN (Jackie), Rohan Menezes, John Kuttikat, Rizki Muhammad Rizki Ziarieputra (Kiki), Ian Trout \n",
    "\n",
    "Student numbers: 5841682, 5850908, 5765382, 5848113, 5851483"
   ]
  },
  {
   "cell_type": "markdown",
   "metadata": {},
   "source": [
    "# Research Objective\n",
    "\n",
    "*Requires data modeling and quantitative research in Transport, Infrastructure & Logistics*"
   ]
  },
  {
   "cell_type": "markdown",
   "metadata": {},
   "source": [
    "Port delays by country before and during COVID--an analysis by ship category"
   ]
  },
  {
   "cell_type": "markdown",
   "metadata": {},
   "source": [
    "# Contribution Statement\n",
    "\n",
    "*Be specific. Some of the tasks can be coding (expect everyone to do this), background research, conceptualisation, visualisation, data analysis, data modelling*"
   ]
  },
  {
   "cell_type": "markdown",
   "metadata": {},
   "source": [
    "**Author 1**: coding, background research, conceptualisation\n",
    "\n",
    "**Author 2**:coding, visualisation\n",
    "\n",
    "**Author 3**: coding, data analysis\n",
    "    \n",
    "**Author 4**:coding, data modelling\n",
    "\n",
    "**Author 5**: coding, visualisation"
   ]
  },
  {
   "cell_type": "markdown",
   "metadata": {},
   "source": [
    "# Data Used"
   ]
  },
  {
   "cell_type": "markdown",
   "metadata": {},
   "source": [
    "----Covid data (https://data.humdata.org/dataset/coronavirus-covid-19-cases-and-deaths) \n",
    "\n",
    "----Port data (https://unctadstat.unctad.org/wds/TableViewer/tableView.aspx)\n",
    "\n",
    "----total cargo loaded/unloaded by region from 1970 to 2020 (https://www.kaggle.com/datasets/illiaparfeniuk/maritime-trading-volumes)\n",
    "\n",
    "----Total amount of goods imported and exported by ship per EU country(https://ec.europa.eu/eurostat/databrowser/view/ttr00009/default/map?lang=en)"
   ]
  },
  {
   "cell_type": "markdown",
   "metadata": {},
   "source": [
    "# Data Pipeline"
   ]
  },
  {
   "cell_type": "code",
   "execution_count": null,
   "metadata": {},
   "outputs": [],
   "source": [
    "convert the data to the common volume. \n",
    "\n",
    "calculate the average volume for all cargo types and consolidate the data into regions of the world. \n",
    "\n",
    "calculate the average COVID cases "
   ]
  }
 ],
 "metadata": {
  "kernelspec": {
   "display_name": "Python 3 (ipykernel)",
   "language": "python",
   "name": "python3"
  },
  "language_info": {
   "codemirror_mode": {
    "name": "ipython",
    "version": 3
   },
   "file_extension": ".py",
   "mimetype": "text/x-python",
   "name": "python",
   "nbconvert_exporter": "python",
   "pygments_lexer": "ipython3",
   "version": "3.9.13"
  },
  "vscode": {
   "interpreter": {
    "hash": "31f2aee4e71d21fbe5cf8b01ff0e069b9275f58929596ceb00d14d90e3e16cd6"
   }
  }
 },
 "nbformat": 4,
 "nbformat_minor": 2
}
