{
 "cells": [
  {
   "cell_type": "markdown",
   "metadata": {},
   "source": [
    "# Project Group - 25\n",
    "\n",
    "Members: Yun-An LIN (Jackie), Rohan Menezes, John Kuttikat, Muhammad Rizki Ziarieputra (Kiki), Ian Trout \n",
    "\n",
    "Student numbers: 5841682, 5850908, 5765382, 5848113, 5851483"
   ]
  },
  {
   "cell_type": "markdown",
   "metadata": {},
   "source": [
    "# Research Objective\n",
    "\n",
    "*Requires data modeling and quantitative research in Transport, Infrastructure & Logistics*"
   ]
  },
  {
   "cell_type": "markdown",
   "metadata": {},
   "source": [
    "Vessel time spent in ports by country before and during COVID--an analysis by ship category showing the impacts of COVID"
   ]
  },
  {
   "cell_type": "markdown",
   "metadata": {},
   "source": [
    "# Contribution Statement\n",
    "\n",
    "*Be specific. Some of the tasks can be coding (expect everyone to do this), background research, conceptualisation, visualisation, data analysis, data modelling*"
   ]
  },
  {
   "cell_type": "markdown",
   "metadata": {},
   "source": [
    "**Author 1**: coding, background research, conceptualisation\n",
    "\n",
    "**Author 2**:coding, visualisation\n",
    "\n",
    "**Author 3**: coding, data analysis\n",
    "    \n",
    "**Author 4**:coding, data modelling\n",
    "\n",
    "**Author 5**: coding, visualisation"
   ]
  },
  {
   "cell_type": "markdown",
   "metadata": {},
   "source": [
    "# Data Used"
   ]
  },
  {
   "cell_type": "markdown",
   "metadata": {},
   "source": [
    "----Covid data (https://data.humdata.org/dataset/coronavirus-covid-19-cases-and-deaths) \n",
    "\n",
    "----Port data (https://unctadstat.unctad.org/wds/TableViewer/tableView.aspx?ReportId=170027)\n",
    "\n",
    "----total cargo loaded/unloaded by region from 1970 to 2020 (https://www.kaggle.com/datasets/illiaparfeniuk/maritime-trading-volumes)\n",
    "\n",
    "----Total amount of goods imported and exported by ship per EU country(https://ec.europa.eu/eurostat/databrowser/view/ttr00009/default/map?lang=en)\n",
    "\n",
    "----Container Port Performance Index from 2020 to 2021 by World Bank Group(https://thedocs.worldbank.org/en/doc/66e3aa5c3be4647addd01845ce353992-0190062022/original/Container-Port-Performance-Index-2021.pdf)"
   ]
  },
  {
   "cell_type": "markdown",
   "metadata": {},
   "source": [
    "# Data Pipeline"
   ]
  },
  {
   "cell_type": "markdown",
   "metadata": {},
   "source": [
    "take only the last 6 months of each year (limitation of the maritime data): \n",
    "    \n",
    "convert the maritime data:\n",
    "    \n",
    "    1) to a common volume \n",
    "    \n",
    "    2) calculate the average volume for all cargo types \n",
    "    \n",
    "    3) consolidate the data into regions of the world. \n",
    "\n",
    "convert COVID cases: \n",
    "    1) calculate the average vaccination cases per country that has reported it \n",
    "    2) calculate the average COVID cases per country for the last 6 months of every year (July to December) \n",
    "    \n",
    "Analyze port call times for 2018, 2019, compared to 2020 to see the difference with COVID.\n",
    "\n",
    "---calculate the differences \n",
    "\n",
    "Compare the 2020 and 2021 port call times to see if improvements have been made or if port calls are still slow. \n",
    "\n",
    "Visually show the change in port call times by region of the world by year. \n",
    "\n"
   ]
  },
  {
   "cell_type": "markdown",
   "metadata": {},
   "source": [
    "first, we will import the necessary libraries\n",
    "\n"
   ]
  },
  {
   "cell_type": "code",
   "execution_count": 1,
   "metadata": {},
   "outputs": [
    {
     "data": {
      "text/html": [
       "        <script type=\"text/javascript\">\n",
       "        window.PlotlyConfig = {MathJaxConfig: 'local'};\n",
       "        if (window.MathJax && window.MathJax.Hub && window.MathJax.Hub.Config) {window.MathJax.Hub.Config({SVG: {font: \"STIX-Web\"}});}\n",
       "        if (typeof require !== 'undefined') {\n",
       "        require.undef(\"plotly\");\n",
       "        requirejs.config({\n",
       "            paths: {\n",
       "                'plotly': ['https://cdn.plot.ly/plotly-2.14.0.min']\n",
       "            }\n",
       "        });\n",
       "        require(['plotly'], function(Plotly) {\n",
       "            window._Plotly = Plotly;\n",
       "        });\n",
       "        }\n",
       "        </script>\n",
       "        "
      ]
     },
     "metadata": {},
     "output_type": "display_data"
    }
   ],
   "source": [
    "import pandas as pd\n",
    "import chardet\n",
    "from plotly.offline import init_notebook_mode\n",
    "import pandas as pd\n",
    "import numpy as np\n",
    "import plotly.io as pio\n",
    "import plotly.express as px\n",
    "from plotly.subplots import make_subplots\n",
    "import plotly.graph_objects as go\n",
    "import json\n",
    "import itertools\n",
    "import geopandas as gpd\n",
    "# import geoplot\n",
    "# import geoplot.crs as gcrs\n",
    "import math\n",
    "import scipy\n",
    "from scipy.signal import find_peaks\n",
    "from datetime import datetime\n",
    "\n",
    "init_notebook_mode(connected=True)\n",
    "pio.renderers.default = \"plotly_mimetype+notebook\""
   ]
  },
  {
   "cell_type": "markdown",
   "metadata": {},
   "source": [
    "## Part I\n",
    "\n",
    "First, We're going to import and combine dataframes of the four types of data I found:\n",
    "\n",
    "Covid data from the WHO on country level, giving cases, hospitalizations and casualties per day (absolute and cumulative)\n",
    "\n",
    "Port data from UNICSTAT on a country level, giving tonnage, median time in port, and other information (from 2018 to 2022) \n",
    "\n",
    "Port peformance index data for several ports within a country (data ranging from 2020 to 2021) \n",
    "\n",
    "GeoJSON file of all the countries in the world\n",
    "\n",
    "\n",
    "We're starting off with the port and the geocoding datasets."
   ]
  },
  {
   "cell_type": "code",
   "execution_count": 34,
   "metadata": {},
   "outputs": [
    {
     "data": {
      "text/plain": [
       "{'encoding': 'utf-8', 'confidence': 0.99, 'language': ''}"
      ]
     },
     "execution_count": 34,
     "metadata": {},
     "output_type": "execute_result"
    }
   ],
   "source": [
    "file_path = r\"/Users/iantrout/TIL6022-group_project/Data/Maritime data/US_PortCalls_S_ST202209220924_v1.csv\"\n",
    "with open(file_path, 'rb') as rawdata:\n",
    "    result = chardet.detect(rawdata.read(100000))\n",
    "result"
   ]
  },
  {
   "cell_type": "code",
   "execution_count": 35,
   "metadata": {
    "scrolled": true
   },
   "outputs": [
    {
     "data": {
      "text/html": [
       "<div>\n",
       "<style scoped>\n",
       "    .dataframe tbody tr th:only-of-type {\n",
       "        vertical-align: middle;\n",
       "    }\n",
       "\n",
       "    .dataframe tbody tr th {\n",
       "        vertical-align: top;\n",
       "    }\n",
       "\n",
       "    .dataframe thead th {\n",
       "        text-align: right;\n",
       "    }\n",
       "</style>\n",
       "<table border=\"1\" class=\"dataframe\">\n",
       "  <thead>\n",
       "    <tr style=\"text-align: right;\">\n",
       "      <th></th>\n",
       "      <th>Year</th>\n",
       "      <th>country</th>\n",
       "      <th>Vessel_Type</th>\n",
       "      <th>Median time in port (days)</th>\n",
       "      <th>Average age of vessels</th>\n",
       "      <th>Average size (GT) of vessels</th>\n",
       "      <th>Maximum size (GT) of vessels</th>\n",
       "      <th>Average cargo carrying capacity (dwt) per vessel</th>\n",
       "      <th>Maximum cargo carrying capacity (dwt) of vessels</th>\n",
       "      <th>Average container carrying capacity (TEU) per container ship</th>\n",
       "      <th>Maximum container carrying capacity (TEU) of container ships</th>\n",
       "      <th>date</th>\n",
       "    </tr>\n",
       "  </thead>\n",
       "  <tbody>\n",
       "    <tr>\n",
       "      <th>0</th>\n",
       "      <td>2018</td>\n",
       "      <td>World</td>\n",
       "      <td>All ships</td>\n",
       "      <td>0.97</td>\n",
       "      <td>18</td>\n",
       "      <td>15222</td>\n",
       "      <td>234006</td>\n",
       "      <td>24074.0</td>\n",
       "      <td>441561.0</td>\n",
       "      <td>3526.0</td>\n",
       "      <td>21413.0</td>\n",
       "      <td>2018-07-31</td>\n",
       "    </tr>\n",
       "    <tr>\n",
       "      <th>1</th>\n",
       "      <td>2018</td>\n",
       "      <td>World</td>\n",
       "      <td>Passenger ships</td>\n",
       "      <td>NaN</td>\n",
       "      <td>21</td>\n",
       "      <td>8978</td>\n",
       "      <td>228081</td>\n",
       "      <td>NaN</td>\n",
       "      <td>NaN</td>\n",
       "      <td>NaN</td>\n",
       "      <td>NaN</td>\n",
       "      <td>2018-07-31</td>\n",
       "    </tr>\n",
       "    <tr>\n",
       "      <th>2</th>\n",
       "      <td>2018</td>\n",
       "      <td>World</td>\n",
       "      <td>Liquid bulk carriers</td>\n",
       "      <td>0.94</td>\n",
       "      <td>13</td>\n",
       "      <td>15470</td>\n",
       "      <td>234006</td>\n",
       "      <td>26871.0</td>\n",
       "      <td>441561.0</td>\n",
       "      <td>NaN</td>\n",
       "      <td>NaN</td>\n",
       "      <td>2018-07-31</td>\n",
       "    </tr>\n",
       "    <tr>\n",
       "      <th>3</th>\n",
       "      <td>2018</td>\n",
       "      <td>World</td>\n",
       "      <td>Container ships</td>\n",
       "      <td>0.69</td>\n",
       "      <td>13</td>\n",
       "      <td>38405</td>\n",
       "      <td>217673</td>\n",
       "      <td>NaN</td>\n",
       "      <td>NaN</td>\n",
       "      <td>3526.0</td>\n",
       "      <td>21413.0</td>\n",
       "      <td>2018-07-31</td>\n",
       "    </tr>\n",
       "    <tr>\n",
       "      <th>4</th>\n",
       "      <td>2018</td>\n",
       "      <td>World</td>\n",
       "      <td>Dry breakbulk carriers</td>\n",
       "      <td>1.12</td>\n",
       "      <td>19</td>\n",
       "      <td>5455</td>\n",
       "      <td>91784</td>\n",
       "      <td>7413.0</td>\n",
       "      <td>138743.0</td>\n",
       "      <td>NaN</td>\n",
       "      <td>NaN</td>\n",
       "      <td>2018-07-31</td>\n",
       "    </tr>\n",
       "  </tbody>\n",
       "</table>\n",
       "</div>"
      ],
      "text/plain": [
       "   Year country             Vessel_Type  Median time in port (days)  \\\n",
       "0  2018   World               All ships                        0.97   \n",
       "1  2018   World         Passenger ships                         NaN   \n",
       "2  2018   World    Liquid bulk carriers                        0.94   \n",
       "3  2018   World         Container ships                        0.69   \n",
       "4  2018   World  Dry breakbulk carriers                        1.12   \n",
       "\n",
       "   Average age of vessels  Average size (GT) of vessels  \\\n",
       "0                      18                         15222   \n",
       "1                      21                          8978   \n",
       "2                      13                         15470   \n",
       "3                      13                         38405   \n",
       "4                      19                          5455   \n",
       "\n",
       "   Maximum size (GT) of vessels  \\\n",
       "0                        234006   \n",
       "1                        228081   \n",
       "2                        234006   \n",
       "3                        217673   \n",
       "4                         91784   \n",
       "\n",
       "   Average cargo carrying capacity (dwt) per vessel  \\\n",
       "0                                           24074.0   \n",
       "1                                               NaN   \n",
       "2                                           26871.0   \n",
       "3                                               NaN   \n",
       "4                                            7413.0   \n",
       "\n",
       "   Maximum cargo carrying capacity (dwt) of vessels  \\\n",
       "0                                          441561.0   \n",
       "1                                               NaN   \n",
       "2                                          441561.0   \n",
       "3                                               NaN   \n",
       "4                                          138743.0   \n",
       "\n",
       "   Average container carrying capacity (TEU) per container ship  \\\n",
       "0                                             3526.0              \n",
       "1                                                NaN              \n",
       "2                                                NaN              \n",
       "3                                             3526.0              \n",
       "4                                                NaN              \n",
       "\n",
       "   Maximum container carrying capacity (TEU) of container ships        date  \n",
       "0                                            21413.0             2018-07-31  \n",
       "1                                                NaN             2018-07-31  \n",
       "2                                                NaN             2018-07-31  \n",
       "3                                            21413.0             2018-07-31  \n",
       "4                                                NaN             2018-07-31  "
      ]
     },
     "execution_count": 35,
     "metadata": {},
     "output_type": "execute_result"
    }
   ],
   "source": [
    "# Importing and Touching-up the Data\n",
    "\n",
    "df_ports = pd.read_csv(file_path,encoding='utf-8')\n",
    "df_ports['Period Label'] = df_ports['Period Label'].str.replace('   ','-')\n",
    "df_ports = df_ports.drop(columns=['Period', 'Frequency', 'Frequency Label', 'Economy', \n",
    "                                      'CommercialMarket', 'Median time in port (days) Footnote',\n",
    "                                      'Average age of vessels Footnote', 'Average size (GT) of vessels Footnote',\n",
    "                                      'Maximum size (GT) of vessels Footnote', 'Average cargo carrying capacity (dwt) per vessel Footnote',\n",
    "                                      'Maximum cargo carrying capacity (dwt) of vessels Footnote','Average container carrying capacity (TEU) per container ship Footnote',\n",
    "                                      'Maximum container carrying capacity (TEU) of container ships Footnote'])\n",
    "df_ports.rename(columns = {'Economy Label': 'country', 'CommercialMarket Label': 'Vessel_Type', }, inplace=True)\n",
    "date_change=[]\n",
    "for row in df_ports['Period Label']:\n",
    "    if row == 'S1-2018' :   date_change.append('2018-07-31')\n",
    "    elif row == 'S2-2018':   date_change.append('2019-01-31')\n",
    "    elif row == 'S1-2019':  date_change.append('2019-07-31')\n",
    "    elif row == 'S2-2019':  date_change.append('2020-01-31')\n",
    "    elif row == 'S1-2020':  date_change.append('2020-07-31')\n",
    "    elif row == 'S2-2020':  date_change.append('2021-01-31')\n",
    "    elif row == 'S1-2021':  date_change.append('2021-07-31')\n",
    "    elif row == 'S2-2021':  date_change.append('2022-01-31')\n",
    "    elif row == 'S1-2022':  date_change.append('2022-07-31')\n",
    "    else:           date_change.append('Not_Rated')\n",
    "\n",
    "df_ports = df_ports.drop(columns=['Period Label'])\n",
    "df_ports['date'] = date_change\n",
    "df_ports\n",
    "df_ports.head()"
   ]
  },
  {
   "cell_type": "code",
   "execution_count": 36,
   "metadata": {},
   "outputs": [
    {
     "ename": "NameError",
     "evalue": "name 'df_new' is not defined",
     "output_type": "error",
     "traceback": [
      "\u001b[0;31m---------------------------------------------------------------------------\u001b[0m",
      "\u001b[0;31mNameError\u001b[0m                                 Traceback (most recent call last)",
      "Cell \u001b[0;32mIn [36], line 4\u001b[0m\n\u001b[1;32m      1\u001b[0m \u001b[38;5;66;03m# df_combined=pd.merge(df_new,df_ports_world,on=['country','date'])\u001b[39;00m\n\u001b[1;32m      2\u001b[0m \u001b[38;5;66;03m# df_combined.head()\u001b[39;00m\n\u001b[0;32m----> 4\u001b[0m df_combined \u001b[38;5;241m=\u001b[39m pd\u001b[38;5;241m.\u001b[39mmerge(df_ports, \u001b[43mdf_new\u001b[49m, on\u001b[38;5;241m=\u001b[39m[\u001b[38;5;124m'\u001b[39m\u001b[38;5;124mcountry\u001b[39m\u001b[38;5;124m'\u001b[39m,\u001b[38;5;124m'\u001b[39m\u001b[38;5;124mdate\u001b[39m\u001b[38;5;124m'\u001b[39m], how\u001b[38;5;241m=\u001b[39m\u001b[38;5;124m'\u001b[39m\u001b[38;5;124mouter\u001b[39m\u001b[38;5;124m'\u001b[39m)\n\u001b[1;32m      5\u001b[0m df_combined \u001b[38;5;241m=\u001b[39m df_combined\u001b[38;5;241m.\u001b[39mdrop([\u001b[38;5;124m'\u001b[39m\u001b[38;5;124mUnnamed: 0\u001b[39m\u001b[38;5;124m'\u001b[39m, \u001b[38;5;124m'\u001b[39m\u001b[38;5;124mcumulative_cases\u001b[39m\u001b[38;5;124m'\u001b[39m], axis\u001b[38;5;241m=\u001b[39m\u001b[38;5;241m1\u001b[39m)\n\u001b[1;32m      6\u001b[0m df_combined\n",
      "\u001b[0;31mNameError\u001b[0m: name 'df_new' is not defined"
     ]
    }
   ],
   "source": [
    "# df_combined=pd.merge(df_new,df_ports_world,on=['country','date'])\n",
    "# df_combined.head()\n",
    "\n",
    "df_combined = pd.merge(df_ports, df_new, on=['country','date'], how='outer')\n",
    "df_combined = df_combined.drop(['Unnamed: 0', 'cumulative_cases'], axis=1)\n",
    "df_combined"
   ]
  },
  {
   "cell_type": "code",
   "execution_count": 37,
   "metadata": {},
   "outputs": [
    {
     "data": {
      "text/html": [
       "<div>\n",
       "<style scoped>\n",
       "    .dataframe tbody tr th:only-of-type {\n",
       "        vertical-align: middle;\n",
       "    }\n",
       "\n",
       "    .dataframe tbody tr th {\n",
       "        vertical-align: top;\n",
       "    }\n",
       "\n",
       "    .dataframe thead th {\n",
       "        text-align: right;\n",
       "    }\n",
       "</style>\n",
       "<table border=\"1\" class=\"dataframe\">\n",
       "  <thead>\n",
       "    <tr style=\"text-align: right;\">\n",
       "      <th></th>\n",
       "      <th>Year</th>\n",
       "      <th>country</th>\n",
       "      <th>Vessel_Type</th>\n",
       "      <th>Number of port calls</th>\n",
       "      <th>date</th>\n",
       "    </tr>\n",
       "  </thead>\n",
       "  <tbody>\n",
       "    <tr>\n",
       "      <th>0</th>\n",
       "      <td>2018</td>\n",
       "      <td>World</td>\n",
       "      <td>All ships</td>\n",
       "      <td>1984908</td>\n",
       "      <td>2018-07-31</td>\n",
       "    </tr>\n",
       "    <tr>\n",
       "      <th>1</th>\n",
       "      <td>2018</td>\n",
       "      <td>World</td>\n",
       "      <td>Passenger ships</td>\n",
       "      <td>1053697</td>\n",
       "      <td>2018-07-31</td>\n",
       "    </tr>\n",
       "    <tr>\n",
       "      <th>2</th>\n",
       "      <td>2018</td>\n",
       "      <td>World</td>\n",
       "      <td>Liquid bulk carriers</td>\n",
       "      <td>245147</td>\n",
       "      <td>2018-07-31</td>\n",
       "    </tr>\n",
       "    <tr>\n",
       "      <th>3</th>\n",
       "      <td>2018</td>\n",
       "      <td>World</td>\n",
       "      <td>Container ships</td>\n",
       "      <td>226063</td>\n",
       "      <td>2018-07-31</td>\n",
       "    </tr>\n",
       "    <tr>\n",
       "      <th>4</th>\n",
       "      <td>2018</td>\n",
       "      <td>World</td>\n",
       "      <td>Dry breakbulk carriers</td>\n",
       "      <td>211031</td>\n",
       "      <td>2018-07-31</td>\n",
       "    </tr>\n",
       "    <tr>\n",
       "      <th>...</th>\n",
       "      <td>...</td>\n",
       "      <td>...</td>\n",
       "      <td>...</td>\n",
       "      <td>...</td>\n",
       "      <td>...</td>\n",
       "    </tr>\n",
       "    <tr>\n",
       "      <th>15697</th>\n",
       "      <td>2022</td>\n",
       "      <td>United Kingdom</td>\n",
       "      <td>Dry breakbulk carriers</td>\n",
       "      <td>7967</td>\n",
       "      <td>2022-07-31</td>\n",
       "    </tr>\n",
       "    <tr>\n",
       "      <th>15698</th>\n",
       "      <td>2022</td>\n",
       "      <td>United Kingdom</td>\n",
       "      <td>Dry bulk carriers</td>\n",
       "      <td>956</td>\n",
       "      <td>2022-07-31</td>\n",
       "    </tr>\n",
       "    <tr>\n",
       "      <th>15699</th>\n",
       "      <td>2022</td>\n",
       "      <td>United Kingdom</td>\n",
       "      <td>Roll-on/ roll-off ships</td>\n",
       "      <td>7983</td>\n",
       "      <td>2022-07-31</td>\n",
       "    </tr>\n",
       "    <tr>\n",
       "      <th>15700</th>\n",
       "      <td>2022</td>\n",
       "      <td>United Kingdom</td>\n",
       "      <td>Liquefied petroleum gas carriers</td>\n",
       "      <td>632</td>\n",
       "      <td>2022-07-31</td>\n",
       "    </tr>\n",
       "    <tr>\n",
       "      <th>15701</th>\n",
       "      <td>2022</td>\n",
       "      <td>United Kingdom</td>\n",
       "      <td>Liquefied natural gas carriers</td>\n",
       "      <td>186</td>\n",
       "      <td>2022-07-31</td>\n",
       "    </tr>\n",
       "  </tbody>\n",
       "</table>\n",
       "<p>15702 rows × 5 columns</p>\n",
       "</div>"
      ],
      "text/plain": [
       "       Year         country                       Vessel_Type  \\\n",
       "0      2018           World                         All ships   \n",
       "1      2018           World                   Passenger ships   \n",
       "2      2018           World              Liquid bulk carriers   \n",
       "3      2018           World                   Container ships   \n",
       "4      2018           World            Dry breakbulk carriers   \n",
       "...     ...             ...                               ...   \n",
       "15697  2022  United Kingdom            Dry breakbulk carriers   \n",
       "15698  2022  United Kingdom                 Dry bulk carriers   \n",
       "15699  2022  United Kingdom           Roll-on/ roll-off ships   \n",
       "15700  2022  United Kingdom  Liquefied petroleum gas carriers   \n",
       "15701  2022  United Kingdom    Liquefied natural gas carriers   \n",
       "\n",
       "       Number of port calls        date  \n",
       "0                   1984908  2018-07-31  \n",
       "1                   1053697  2018-07-31  \n",
       "2                    245147  2018-07-31  \n",
       "3                    226063  2018-07-31  \n",
       "4                    211031  2018-07-31  \n",
       "...                     ...         ...  \n",
       "15697                  7967  2022-07-31  \n",
       "15698                   956  2022-07-31  \n",
       "15699                  7983  2022-07-31  \n",
       "15700                   632  2022-07-31  \n",
       "15701                   186  2022-07-31  \n",
       "\n",
       "[15702 rows x 5 columns]"
      ]
     },
     "execution_count": 37,
     "metadata": {},
     "output_type": "execute_result"
    }
   ],
   "source": [
    "# Importing and Touching-up the Port Calls Data\n",
    "\n",
    "file_path3 = r\"/Users/iantrout/TIL6022-group_project/Data/Maritime data/US_PortCallsArrivals_S_ST202209220927_v1.csv\"\n",
    "with open(file_path3, 'rb') as rawdata:\n",
    "    result = chardet.detect(rawdata.read(100000))\n",
    "result\n",
    "\n",
    "df_port_calls = pd.read_csv(file_path3,encoding='utf-8')\n",
    "df_port_calls['Period Label'] = df_port_calls['Period Label'].str.replace('   ','-')\n",
    "df_port_calls = df_port_calls.drop(columns=['Period', 'Frequency', 'Frequency Label', 'Economy', \n",
    "                                       'CommercialMarket', 'Number of port calls Footnote',])\n",
    "df_port_calls.rename(columns = {'Economy Label': 'country', 'CommercialMarket Label': 'Vessel_Type', }, inplace=True)\n",
    "date_change=[]\n",
    "for row in df_port_calls['Period Label']:\n",
    "    if row == 'S1-2018' :   date_change.append('2018-07-31')\n",
    "    elif row == 'S2-2018':   date_change.append('2019-01-31')\n",
    "    elif row == 'S1-2019':  date_change.append('2019-07-31')\n",
    "    elif row == 'S2-2019':  date_change.append('2020-01-31')\n",
    "    elif row == 'S1-2020':  date_change.append('2020-07-31')\n",
    "    elif row == 'S2-2020':  date_change.append('2021-01-31')\n",
    "    elif row == 'S1-2021':  date_change.append('2021-07-31')\n",
    "    elif row == 'S2-2021':  date_change.append('2022-01-31')\n",
    "    elif row == 'S1-2022':  date_change.append('2022-07-31')\n",
    "    else:           date_change.append('Not_Rated')\n",
    "\n",
    "df_port_calls = df_port_calls.drop(columns=['Period Label'])\n",
    "df_port_calls['date'] = date_change\n",
    "df_port_calls"
   ]
  },
  {
   "cell_type": "code",
   "execution_count": 11,
   "metadata": {},
   "outputs": [
    {
     "ename": "NameError",
     "evalue": "name 'df_port_calls' is not defined",
     "output_type": "error",
     "traceback": [
      "\u001b[0;31m---------------------------------------------------------------------------\u001b[0m",
      "\u001b[0;31mNameError\u001b[0m                                 Traceback (most recent call last)",
      "Cell \u001b[0;32mIn [11], line 1\u001b[0m\n\u001b[0;32m----> 1\u001b[0m df_combined2 \u001b[38;5;241m=\u001b[39m pd\u001b[38;5;241m.\u001b[39mmerge(\u001b[43mdf_port_calls\u001b[49m, df_new, on\u001b[38;5;241m=\u001b[39m[\u001b[38;5;124m'\u001b[39m\u001b[38;5;124mcountry\u001b[39m\u001b[38;5;124m'\u001b[39m,\u001b[38;5;124m'\u001b[39m\u001b[38;5;124mdate\u001b[39m\u001b[38;5;124m'\u001b[39m], how\u001b[38;5;241m=\u001b[39m\u001b[38;5;124m'\u001b[39m\u001b[38;5;124mouter\u001b[39m\u001b[38;5;124m'\u001b[39m)\n\u001b[1;32m      2\u001b[0m df_combined2 \u001b[38;5;241m=\u001b[39m df_combined2\u001b[38;5;241m.\u001b[39mdrop([\u001b[38;5;124m'\u001b[39m\u001b[38;5;124mUnnamed: 0\u001b[39m\u001b[38;5;124m'\u001b[39m, \u001b[38;5;124m'\u001b[39m\u001b[38;5;124mcumulative_cases\u001b[39m\u001b[38;5;124m'\u001b[39m], axis\u001b[38;5;241m=\u001b[39m\u001b[38;5;241m1\u001b[39m)\n\u001b[1;32m      3\u001b[0m df_combined2\n",
      "\u001b[0;31mNameError\u001b[0m: name 'df_port_calls' is not defined"
     ]
    }
   ],
   "source": [
    "df_combined2 = pd.merge(df_port_calls, df_new, on=['country','date'], how='outer')\n",
    "df_combined2 = df_combined2.drop(['Unnamed: 0', 'cumulative_cases'], axis=1)\n",
    "df_combined2"
   ]
  },
  {
   "cell_type": "code",
   "execution_count": 49,
   "metadata": {},
   "outputs": [],
   "source": [
    "# Filtering the maritime data (Median time in port (days)) from 2020 to 2021\n",
    "file_time_port_path = \"/Users/iantrout/TIL6022-group_project/Data/Maritime data/US_PortCalls_S_ST202209220924_v1.csv\"\n",
    "df_port_time = pd.read_csv(file_time_port_path)\n",
    "df_port_time = df_port_time.drop(df_port_time[df_port_time[\"Year\"] == 2018].index)\n",
    "df_port_time = df_port_time.drop(df_port_time[df_port_time[\"Year\"] == 2019].index)\n",
    "df_port_time = df_port_time.drop(df_port_time[df_port_time[\"Year\"] == 2022].index)\n",
    "\n"
   ]
  },
  {
   "cell_type": "code",
   "execution_count": 50,
   "metadata": {},
   "outputs": [
    {
     "data": {
      "text/html": [
       "<div>\n",
       "<style scoped>\n",
       "    .dataframe tbody tr th:only-of-type {\n",
       "        vertical-align: middle;\n",
       "    }\n",
       "\n",
       "    .dataframe tbody tr th {\n",
       "        vertical-align: top;\n",
       "    }\n",
       "\n",
       "    .dataframe thead th {\n",
       "        text-align: right;\n",
       "    }\n",
       "</style>\n",
       "<table border=\"1\" class=\"dataframe\">\n",
       "  <thead>\n",
       "    <tr style=\"text-align: right;\">\n",
       "      <th></th>\n",
       "      <th>Period</th>\n",
       "      <th>Period Label</th>\n",
       "      <th>Year</th>\n",
       "      <th>Frequency</th>\n",
       "      <th>Frequency Label</th>\n",
       "      <th>Economy</th>\n",
       "      <th>Economy Label</th>\n",
       "      <th>CommercialMarket</th>\n",
       "      <th>CommercialMarket Label</th>\n",
       "      <th>Median time in port (days)</th>\n",
       "      <th>...</th>\n",
       "      <th>Maximum cargo carrying capacity (dwt) of vessels Footnote</th>\n",
       "      <th>Average container carrying capacity (TEU) per container ship</th>\n",
       "      <th>Average container carrying capacity (TEU) per container ship Footnote</th>\n",
       "      <th>Maximum container carrying capacity (TEU) of container ships</th>\n",
       "      <th>Maximum container carrying capacity (TEU) of container ships Footnote</th>\n",
       "      <th>Port Name</th>\n",
       "      <th>Administrative Approach Rank</th>\n",
       "      <th>Total\\nPoints</th>\n",
       "      <th>Statistic Approach Rank</th>\n",
       "      <th>IndeX Value</th>\n",
       "    </tr>\n",
       "  </thead>\n",
       "  <tbody>\n",
       "    <tr>\n",
       "      <th>18</th>\n",
       "      <td>2020S01</td>\n",
       "      <td>S1   2020</td>\n",
       "      <td>2020</td>\n",
       "      <td>S</td>\n",
       "      <td>Semi-annual</td>\n",
       "      <td>36</td>\n",
       "      <td>Australia</td>\n",
       "      <td>3</td>\n",
       "      <td>Container ships</td>\n",
       "      <td>1.3083</td>\n",
       "      <td>...</td>\n",
       "      <td>NaN</td>\n",
       "      <td>4653.0</td>\n",
       "      <td>NaN</td>\n",
       "      <td>9572.0</td>\n",
       "      <td>NaN</td>\n",
       "      <td>ACAJUTLA</td>\n",
       "      <td>249</td>\n",
       "      <td>0.640</td>\n",
       "      <td>249</td>\n",
       "      <td>-11.0</td>\n",
       "    </tr>\n",
       "    <tr>\n",
       "      <th>19</th>\n",
       "      <td>2020S01</td>\n",
       "      <td>S1   2020</td>\n",
       "      <td>2020</td>\n",
       "      <td>S</td>\n",
       "      <td>Semi-annual</td>\n",
       "      <td>36</td>\n",
       "      <td>Australia</td>\n",
       "      <td>3</td>\n",
       "      <td>Container ships</td>\n",
       "      <td>1.3083</td>\n",
       "      <td>...</td>\n",
       "      <td>NaN</td>\n",
       "      <td>4653.0</td>\n",
       "      <td>NaN</td>\n",
       "      <td>9572.0</td>\n",
       "      <td>NaN</td>\n",
       "      <td>BELL BAY</td>\n",
       "      <td>163</td>\n",
       "      <td>-0.205</td>\n",
       "      <td>163</td>\n",
       "      <td>5.0</td>\n",
       "    </tr>\n",
       "    <tr>\n",
       "      <th>20</th>\n",
       "      <td>2020S01</td>\n",
       "      <td>S1   2020</td>\n",
       "      <td>2020</td>\n",
       "      <td>S</td>\n",
       "      <td>Semi-annual</td>\n",
       "      <td>36</td>\n",
       "      <td>Australia</td>\n",
       "      <td>3</td>\n",
       "      <td>Container ships</td>\n",
       "      <td>1.3083</td>\n",
       "      <td>...</td>\n",
       "      <td>NaN</td>\n",
       "      <td>4653.0</td>\n",
       "      <td>NaN</td>\n",
       "      <td>9572.0</td>\n",
       "      <td>NaN</td>\n",
       "      <td>BRISTOL</td>\n",
       "      <td>294</td>\n",
       "      <td>1.462</td>\n",
       "      <td>277</td>\n",
       "      <td>-19.0</td>\n",
       "    </tr>\n",
       "    <tr>\n",
       "      <th>21</th>\n",
       "      <td>2020S01</td>\n",
       "      <td>S1   2020</td>\n",
       "      <td>2020</td>\n",
       "      <td>S</td>\n",
       "      <td>Semi-annual</td>\n",
       "      <td>36</td>\n",
       "      <td>Australia</td>\n",
       "      <td>3</td>\n",
       "      <td>Container ships</td>\n",
       "      <td>1.3083</td>\n",
       "      <td>...</td>\n",
       "      <td>NaN</td>\n",
       "      <td>4653.0</td>\n",
       "      <td>NaN</td>\n",
       "      <td>9572.0</td>\n",
       "      <td>NaN</td>\n",
       "      <td>FREETOWN</td>\n",
       "      <td>220</td>\n",
       "      <td>0.350</td>\n",
       "      <td>319</td>\n",
       "      <td>-49.0</td>\n",
       "    </tr>\n",
       "    <tr>\n",
       "      <th>22</th>\n",
       "      <td>2020S01</td>\n",
       "      <td>S1   2020</td>\n",
       "      <td>2020</td>\n",
       "      <td>S</td>\n",
       "      <td>Semi-annual</td>\n",
       "      <td>36</td>\n",
       "      <td>Australia</td>\n",
       "      <td>3</td>\n",
       "      <td>Container ships</td>\n",
       "      <td>1.3083</td>\n",
       "      <td>...</td>\n",
       "      <td>NaN</td>\n",
       "      <td>4653.0</td>\n",
       "      <td>NaN</td>\n",
       "      <td>9572.0</td>\n",
       "      <td>NaN</td>\n",
       "      <td>MOJI</td>\n",
       "      <td>111</td>\n",
       "      <td>-0.663</td>\n",
       "      <td>123</td>\n",
       "      <td>11.0</td>\n",
       "    </tr>\n",
       "  </tbody>\n",
       "</table>\n",
       "<p>5 rows × 30 columns</p>\n",
       "</div>"
      ],
      "text/plain": [
       "     Period Period Label  Year Frequency Frequency Label  Economy  \\\n",
       "18  2020S01    S1   2020  2020         S     Semi-annual       36   \n",
       "19  2020S01    S1   2020  2020         S     Semi-annual       36   \n",
       "20  2020S01    S1   2020  2020         S     Semi-annual       36   \n",
       "21  2020S01    S1   2020  2020         S     Semi-annual       36   \n",
       "22  2020S01    S1   2020  2020         S     Semi-annual       36   \n",
       "\n",
       "   Economy Label  CommercialMarket CommercialMarket Label  \\\n",
       "18     Australia                 3        Container ships   \n",
       "19     Australia                 3        Container ships   \n",
       "20     Australia                 3        Container ships   \n",
       "21     Australia                 3        Container ships   \n",
       "22     Australia                 3        Container ships   \n",
       "\n",
       "    Median time in port (days)  ...  \\\n",
       "18                      1.3083  ...   \n",
       "19                      1.3083  ...   \n",
       "20                      1.3083  ...   \n",
       "21                      1.3083  ...   \n",
       "22                      1.3083  ...   \n",
       "\n",
       "    Maximum cargo carrying capacity (dwt) of vessels Footnote  \\\n",
       "18                                                NaN           \n",
       "19                                                NaN           \n",
       "20                                                NaN           \n",
       "21                                                NaN           \n",
       "22                                                NaN           \n",
       "\n",
       "    Average container carrying capacity (TEU) per container ship  \\\n",
       "18                                             4653.0              \n",
       "19                                             4653.0              \n",
       "20                                             4653.0              \n",
       "21                                             4653.0              \n",
       "22                                             4653.0              \n",
       "\n",
       "    Average container carrying capacity (TEU) per container ship Footnote  \\\n",
       "18                                                NaN                       \n",
       "19                                                NaN                       \n",
       "20                                                NaN                       \n",
       "21                                                NaN                       \n",
       "22                                                NaN                       \n",
       "\n",
       "    Maximum container carrying capacity (TEU) of container ships  \\\n",
       "18                                             9572.0              \n",
       "19                                             9572.0              \n",
       "20                                             9572.0              \n",
       "21                                             9572.0              \n",
       "22                                             9572.0              \n",
       "\n",
       "    Maximum container carrying capacity (TEU) of container ships Footnote  \\\n",
       "18                                                NaN                       \n",
       "19                                                NaN                       \n",
       "20                                                NaN                       \n",
       "21                                                NaN                       \n",
       "22                                                NaN                       \n",
       "\n",
       "    Port Name  Administrative Approach Rank  Total\\nPoints  \\\n",
       "18   ACAJUTLA                           249          0.640   \n",
       "19   BELL BAY                           163         -0.205   \n",
       "20    BRISTOL                           294          1.462   \n",
       "21   FREETOWN                           220          0.350   \n",
       "22       MOJI                           111         -0.663   \n",
       "\n",
       "    Statistic Approach Rank  IndeX Value  \n",
       "18                      249        -11.0  \n",
       "19                      163          5.0  \n",
       "20                      277        -19.0  \n",
       "21                      319        -49.0  \n",
       "22                      123         11.0  \n",
       "\n",
       "[5 rows x 30 columns]"
      ]
     },
     "execution_count": 50,
     "metadata": {},
     "output_type": "execute_result"
    }
   ],
   "source": [
    "# now merge two dataframes (port time and CPPI)\n",
    "import chardet\n",
    "port_path = \"/Users/iantrout/TIL6022-group_project/Data/The productivity of the ports/Container-Port-Performance-Index-2021 copy.csv\"\n",
    "\n",
    "port= pd.read_csv(port_path)\n",
    "\n",
    "# using merge function by setting how='outer'\n",
    "\n",
    "output1 = pd.merge(df_port_time, port,\n",
    "                   on=['Economy Label', \"Year\"],\n",
    "                   how = \"inner\")\n",
    "\n",
    "column_names = ['Port Name', 'CommercialMarket Label']\n",
    "output1.drop_duplicates(subset=column_names, keep='first', inplace=True)\n",
    "output1 = output1.drop(output1[output1[\"CommercialMarket Label\"] != \"Container ships\"].index)\n",
    "output1 = output1.drop(output1[output1[\"Economy Label\"] == \"World\"].index)\n",
    "sort = output1.sort_values(\"Statistic Approach Rank\")\n",
    "\n",
    "# displaying result\n",
    "output1.head()"
   ]
  },
  {
   "cell_type": "code",
   "execution_count": 51,
   "metadata": {},
   "outputs": [
    {
     "data": {
      "text/html": [
       "<div>\n",
       "<style scoped>\n",
       "    .dataframe tbody tr th:only-of-type {\n",
       "        vertical-align: middle;\n",
       "    }\n",
       "\n",
       "    .dataframe tbody tr th {\n",
       "        vertical-align: top;\n",
       "    }\n",
       "\n",
       "    .dataframe thead th {\n",
       "        text-align: right;\n",
       "    }\n",
       "</style>\n",
       "<table border=\"1\" class=\"dataframe\">\n",
       "  <thead>\n",
       "    <tr style=\"text-align: right;\">\n",
       "      <th></th>\n",
       "      <th>Period</th>\n",
       "      <th>Period Label</th>\n",
       "      <th>Year</th>\n",
       "      <th>Frequency</th>\n",
       "      <th>Frequency Label</th>\n",
       "      <th>Economy</th>\n",
       "      <th>Economy Label</th>\n",
       "      <th>CommercialMarket</th>\n",
       "      <th>CommercialMarket Label</th>\n",
       "      <th>Number of port calls</th>\n",
       "      <th>Number of port calls Footnote</th>\n",
       "    </tr>\n",
       "  </thead>\n",
       "  <tbody>\n",
       "    <tr>\n",
       "      <th>7007</th>\n",
       "      <td>2020S01</td>\n",
       "      <td>S1   2020</td>\n",
       "      <td>2020</td>\n",
       "      <td>S</td>\n",
       "      <td>Semi-annual</td>\n",
       "      <td>0</td>\n",
       "      <td>World</td>\n",
       "      <td>0</td>\n",
       "      <td>All ships</td>\n",
       "      <td>1863718</td>\n",
       "      <td>NaN</td>\n",
       "    </tr>\n",
       "    <tr>\n",
       "      <th>7008</th>\n",
       "      <td>2020S01</td>\n",
       "      <td>S1   2020</td>\n",
       "      <td>2020</td>\n",
       "      <td>S</td>\n",
       "      <td>Semi-annual</td>\n",
       "      <td>0</td>\n",
       "      <td>World</td>\n",
       "      <td>1</td>\n",
       "      <td>Passenger ships</td>\n",
       "      <td>951245</td>\n",
       "      <td>NaN</td>\n",
       "    </tr>\n",
       "    <tr>\n",
       "      <th>7009</th>\n",
       "      <td>2020S01</td>\n",
       "      <td>S1   2020</td>\n",
       "      <td>2020</td>\n",
       "      <td>S</td>\n",
       "      <td>Semi-annual</td>\n",
       "      <td>0</td>\n",
       "      <td>World</td>\n",
       "      <td>2</td>\n",
       "      <td>Liquid bulk carriers</td>\n",
       "      <td>243100</td>\n",
       "      <td>NaN</td>\n",
       "    </tr>\n",
       "    <tr>\n",
       "      <th>7010</th>\n",
       "      <td>2020S01</td>\n",
       "      <td>S1   2020</td>\n",
       "      <td>2020</td>\n",
       "      <td>S</td>\n",
       "      <td>Semi-annual</td>\n",
       "      <td>0</td>\n",
       "      <td>World</td>\n",
       "      <td>3</td>\n",
       "      <td>Container ships</td>\n",
       "      <td>225347</td>\n",
       "      <td>NaN</td>\n",
       "    </tr>\n",
       "    <tr>\n",
       "      <th>7011</th>\n",
       "      <td>2020S01</td>\n",
       "      <td>S1   2020</td>\n",
       "      <td>2020</td>\n",
       "      <td>S</td>\n",
       "      <td>Semi-annual</td>\n",
       "      <td>0</td>\n",
       "      <td>World</td>\n",
       "      <td>4</td>\n",
       "      <td>Dry breakbulk carriers</td>\n",
       "      <td>201473</td>\n",
       "      <td>NaN</td>\n",
       "    </tr>\n",
       "  </tbody>\n",
       "</table>\n",
       "</div>"
      ],
      "text/plain": [
       "       Period Period Label  Year Frequency Frequency Label  Economy  \\\n",
       "7007  2020S01    S1   2020  2020         S     Semi-annual        0   \n",
       "7008  2020S01    S1   2020  2020         S     Semi-annual        0   \n",
       "7009  2020S01    S1   2020  2020         S     Semi-annual        0   \n",
       "7010  2020S01    S1   2020  2020         S     Semi-annual        0   \n",
       "7011  2020S01    S1   2020  2020         S     Semi-annual        0   \n",
       "\n",
       "     Economy Label  CommercialMarket  CommercialMarket Label  \\\n",
       "7007         World                 0               All ships   \n",
       "7008         World                 1         Passenger ships   \n",
       "7009         World                 2    Liquid bulk carriers   \n",
       "7010         World                 3         Container ships   \n",
       "7011         World                 4  Dry breakbulk carriers   \n",
       "\n",
       "      Number of port calls  Number of port calls Footnote  \n",
       "7007               1863718                            NaN  \n",
       "7008                951245                            NaN  \n",
       "7009                243100                            NaN  \n",
       "7010                225347                            NaN  \n",
       "7011                201473                            NaN  "
      ]
     },
     "execution_count": 51,
     "metadata": {},
     "output_type": "execute_result"
    }
   ],
   "source": [
    "#Data of the number of port calls and filtering them down to just 2020 and 2021\n",
    "file_path = '/Users/iantrout/TIL6022-group_project/Data/Maritime data/US_PortCallsArrivals_S_ST202209220927_v1.csv'\n",
    "df_call = pd.read_csv(file_path)\n",
    "df_call = df_call.drop(df_call[df_call[\"Year\"] == 2018].index)\n",
    "df_call = df_call.drop(df_call[df_call[\"Year\"] == 2019].index)\n",
    "df_call = df_call.drop(df_call[df_call[\"Year\"] == 2022].index)\n",
    "df_call.head()\n",
    "#path = \"C:/Users/Jack/TIL6022-group_project/Data/The productivity of the ports\"\n",
    "#df_call.to_csv('%s number_call.csv'%(path), index = False)"
   ]
  },
  {
   "cell_type": "code",
   "execution_count": 52,
   "metadata": {},
   "outputs": [
    {
     "data": {
      "text/html": [
       "<div>\n",
       "<style scoped>\n",
       "    .dataframe tbody tr th:only-of-type {\n",
       "        vertical-align: middle;\n",
       "    }\n",
       "\n",
       "    .dataframe tbody tr th {\n",
       "        vertical-align: top;\n",
       "    }\n",
       "\n",
       "    .dataframe thead th {\n",
       "        text-align: right;\n",
       "    }\n",
       "</style>\n",
       "<table border=\"1\" class=\"dataframe\">\n",
       "  <thead>\n",
       "    <tr style=\"text-align: right;\">\n",
       "      <th></th>\n",
       "      <th>Port Name</th>\n",
       "      <th>Administrative Approach Rank</th>\n",
       "      <th>Total\\nPoints</th>\n",
       "      <th>Statistic Approach Rank</th>\n",
       "      <th>IndeX Value</th>\n",
       "      <th>Economy Label</th>\n",
       "      <th>Year</th>\n",
       "      <th>Period</th>\n",
       "      <th>Period Label</th>\n",
       "      <th>Frequency</th>\n",
       "      <th>Frequency Label</th>\n",
       "      <th>Economy</th>\n",
       "      <th>CommercialMarket</th>\n",
       "      <th>CommercialMarket Label</th>\n",
       "      <th>Number of port calls</th>\n",
       "      <th>Number of port calls Footnote</th>\n",
       "    </tr>\n",
       "  </thead>\n",
       "  <tbody>\n",
       "    <tr>\n",
       "      <th>3</th>\n",
       "      <td>AARHUS</td>\n",
       "      <td>44</td>\n",
       "      <td>-2.036</td>\n",
       "      <td>43</td>\n",
       "      <td>43.000</td>\n",
       "      <td>Denmark</td>\n",
       "      <td>2020</td>\n",
       "      <td>2020S01</td>\n",
       "      <td>S1   2020</td>\n",
       "      <td>S</td>\n",
       "      <td>Semi-annual</td>\n",
       "      <td>208</td>\n",
       "      <td>3</td>\n",
       "      <td>Container ships</td>\n",
       "      <td>660</td>\n",
       "      <td>NaN</td>\n",
       "    </tr>\n",
       "    <tr>\n",
       "      <th>19</th>\n",
       "      <td>COPENHAGEN</td>\n",
       "      <td>129</td>\n",
       "      <td>-0.471</td>\n",
       "      <td>142</td>\n",
       "      <td>8.000</td>\n",
       "      <td>Denmark</td>\n",
       "      <td>2020</td>\n",
       "      <td>2020S01</td>\n",
       "      <td>S1   2020</td>\n",
       "      <td>S</td>\n",
       "      <td>Semi-annual</td>\n",
       "      <td>208</td>\n",
       "      <td>3</td>\n",
       "      <td>Container ships</td>\n",
       "      <td>660</td>\n",
       "      <td>NaN</td>\n",
       "    </tr>\n",
       "    <tr>\n",
       "      <th>35</th>\n",
       "      <td>FREDERICIA</td>\n",
       "      <td>128</td>\n",
       "      <td>-0.493</td>\n",
       "      <td>138</td>\n",
       "      <td>9.000</td>\n",
       "      <td>Denmark</td>\n",
       "      <td>2020</td>\n",
       "      <td>2020S01</td>\n",
       "      <td>S1   2020</td>\n",
       "      <td>S</td>\n",
       "      <td>Semi-annual</td>\n",
       "      <td>208</td>\n",
       "      <td>3</td>\n",
       "      <td>Container ships</td>\n",
       "      <td>660</td>\n",
       "      <td>NaN</td>\n",
       "    </tr>\n",
       "    <tr>\n",
       "      <th>51</th>\n",
       "      <td>LAGOS (NIGERIA)</td>\n",
       "      <td>358</td>\n",
       "      <td>-188.317</td>\n",
       "      <td>358</td>\n",
       "      <td>-80.295</td>\n",
       "      <td>Denmark</td>\n",
       "      <td>2020</td>\n",
       "      <td>2020S01</td>\n",
       "      <td>S1   2020</td>\n",
       "      <td>S</td>\n",
       "      <td>Semi-annual</td>\n",
       "      <td>208</td>\n",
       "      <td>3</td>\n",
       "      <td>Container ships</td>\n",
       "      <td>660</td>\n",
       "      <td>NaN</td>\n",
       "    </tr>\n",
       "    <tr>\n",
       "      <th>67</th>\n",
       "      <td>ACAJUTLA</td>\n",
       "      <td>249</td>\n",
       "      <td>0.640</td>\n",
       "      <td>249</td>\n",
       "      <td>-11.000</td>\n",
       "      <td>Australia</td>\n",
       "      <td>2020</td>\n",
       "      <td>2020S01</td>\n",
       "      <td>S1   2020</td>\n",
       "      <td>S</td>\n",
       "      <td>Semi-annual</td>\n",
       "      <td>36</td>\n",
       "      <td>3</td>\n",
       "      <td>Container ships</td>\n",
       "      <td>1884</td>\n",
       "      <td>NaN</td>\n",
       "    </tr>\n",
       "  </tbody>\n",
       "</table>\n",
       "</div>"
      ],
      "text/plain": [
       "          Port Name  Administrative Approach Rank  Total\\nPoints  \\\n",
       "3            AARHUS                            44         -2.036   \n",
       "19       COPENHAGEN                           129         -0.471   \n",
       "35       FREDERICIA                           128         -0.493   \n",
       "51  LAGOS (NIGERIA)                           358       -188.317   \n",
       "67         ACAJUTLA                           249          0.640   \n",
       "\n",
       "    Statistic Approach Rank  IndeX Value Economy Label  Year   Period  \\\n",
       "3                        43       43.000       Denmark  2020  2020S01   \n",
       "19                      142        8.000       Denmark  2020  2020S01   \n",
       "35                      138        9.000       Denmark  2020  2020S01   \n",
       "51                      358      -80.295       Denmark  2020  2020S01   \n",
       "67                      249      -11.000     Australia  2020  2020S01   \n",
       "\n",
       "   Period Label Frequency Frequency Label  Economy  CommercialMarket  \\\n",
       "3     S1   2020         S     Semi-annual      208                 3   \n",
       "19    S1   2020         S     Semi-annual      208                 3   \n",
       "35    S1   2020         S     Semi-annual      208                 3   \n",
       "51    S1   2020         S     Semi-annual      208                 3   \n",
       "67    S1   2020         S     Semi-annual       36                 3   \n",
       "\n",
       "   CommercialMarket Label  Number of port calls  Number of port calls Footnote  \n",
       "3         Container ships                   660                            NaN  \n",
       "19        Container ships                   660                            NaN  \n",
       "35        Container ships                   660                            NaN  \n",
       "51        Container ships                   660                            NaN  \n",
       "67        Container ships                  1884                            NaN  "
      ]
     },
     "execution_count": 52,
     "metadata": {},
     "output_type": "execute_result"
    }
   ],
   "source": [
    "# megre two dataframes (the number of port calls and CPPI)\n",
    "import chardet\n",
    "port_path = \"/Users/iantrout/TIL6022-group_project/Data/The productivity of the ports/Container-Port-Performance-Index-2021 copy.csv\"\n",
    " \n",
    "port= pd.read_csv(port_path)\n",
    "# using merge function by setting how='outer'\n",
    "output = pd.merge(port, df_call, \n",
    "                   on=['Economy Label', \"Year\"],\n",
    "                   how = \"inner\")\n",
    "\n",
    "column_names = ['Port Name', 'CommercialMarket Label']\n",
    "output.drop_duplicates(subset=column_names, keep='first', inplace=True)\n",
    "output = output.drop(output[output[\"CommercialMarket Label\"] != \"Container ships\"].index)\n",
    "output = output.drop(output[output[\"Economy Label\"] == \"World\"].index)\n",
    "\n",
    "# displaying result\n",
    "output.head()\n",
    "#path = \"C:/Users/Jack/TIL6022-group_project/Data/The productivity of the ports\"\n",
    "#output.to_csv('%s output_2.csv'%(path), index = False)"
   ]
  },
  {
   "cell_type": "markdown",
   "metadata": {},
   "source": [
    "# Part II"
   ]
  },
  {
   "cell_type": "markdown",
   "metadata": {},
   "source": [
    "we start by understanding how many countries we have data for and for that we will plot a world map for All ship types combined"
   ]
  },
  {
   "cell_type": "markdown",
   "metadata": {},
   "source": [
    "now we can't only infer information from graphs, so we will calculate the peaks and valleys of the COVID data and the port data to see if there is a match based on serveral values of the port data (avg age of the vessel, average size of the vessel, average time in port)"
   ]
  },
  {
   "cell_type": "code",
   "execution_count": 21,
   "metadata": {},
   "outputs": [],
   "source": [
    "# file_path2 = r\"C:\\Users\\user\\OneDrive - Delft University of Technology\\Desktop\\TIL\\Q1\\TIL6022\\Final Project\\covid_data_new.csv\"\n",
    "# with open(file_path, 'rb') as rawdata:\n",
    "#     result = chardet.detect(rawdata.read(100000))\n",
    "# result"
   ]
  },
  {
   "cell_type": "code",
   "execution_count": 22,
   "metadata": {},
   "outputs": [
    {
     "ename": "NameError",
     "evalue": "name 'df_ports' is not defined",
     "output_type": "error",
     "traceback": [
      "\u001b[0;31m---------------------------------------------------------------------------\u001b[0m",
      "\u001b[0;31mNameError\u001b[0m                                 Traceback (most recent call last)",
      "Cell \u001b[0;32mIn [22], line 1\u001b[0m\n\u001b[0;32m----> 1\u001b[0m df_ports_world \u001b[38;5;241m=\u001b[39m \u001b[43mdf_ports\u001b[49m[df_ports\u001b[38;5;241m.\u001b[39mcountry \u001b[38;5;241m==\u001b[39m \u001b[38;5;124m'\u001b[39m\u001b[38;5;124mWorld\u001b[39m\u001b[38;5;124m'\u001b[39m]\n\u001b[1;32m      2\u001b[0m df_covid_world \u001b[38;5;241m=\u001b[39m df_new\u001b[38;5;241m.\u001b[39mgroupby(\u001b[38;5;124m'\u001b[39m\u001b[38;5;124mdate\u001b[39m\u001b[38;5;124m'\u001b[39m)\u001b[38;5;241m.\u001b[39msum()\n\u001b[1;32m      3\u001b[0m df_covid_world \u001b[38;5;241m=\u001b[39m df_covid_world\u001b[38;5;241m.\u001b[39mdrop([\u001b[38;5;124m'\u001b[39m\u001b[38;5;124m2020-01-31\u001b[39m\u001b[38;5;124m'\u001b[39m,\u001b[38;5;124m'\u001b[39m\u001b[38;5;124m2023-01-31\u001b[39m\u001b[38;5;124m'\u001b[39m])\n",
      "\u001b[0;31mNameError\u001b[0m: name 'df_ports' is not defined"
     ]
    }
   ],
   "source": [
    "df_ports_world = df_ports[df_ports.country == 'World']\n",
    "df_covid_world = df_new.groupby('date').sum()\n",
    "df_covid_world = df_covid_world.drop(['2020-01-31','2023-01-31'])\n",
    "\n",
    "df_combined_world =pd.merge(df_ports_world, df_covid_world, on=['date'], how='outer')\n",
    "df_combined_world = df_combined_world.drop(['Unnamed: 0', 'cumulative_cases'], axis=1)\n",
    "df_combined_world"
   ]
  },
  {
   "cell_type": "code",
   "execution_count": 23,
   "metadata": {},
   "outputs": [],
   "source": [
    "# df_combined_world.to_csv(r\"C:\\Users\\user\\OneDrive - Delft University of Technology\\Desktop\\TIL\\Q1\\TIL6022\\Final Project\\result.csv\")"
   ]
  },
  {
   "cell_type": "code",
   "execution_count": 24,
   "metadata": {},
   "outputs": [
    {
     "ename": "NameError",
     "evalue": "name 'df_combined_world' is not defined",
     "output_type": "error",
     "traceback": [
      "\u001b[0;31m---------------------------------------------------------------------------\u001b[0m",
      "\u001b[0;31mNameError\u001b[0m                                 Traceback (most recent call last)",
      "Cell \u001b[0;32mIn [24], line 1\u001b[0m\n\u001b[0;32m----> 1\u001b[0m df_combined_world \u001b[38;5;241m=\u001b[39m \u001b[43mdf_combined_world\u001b[49m[df_combined_world[\u001b[38;5;124m'\u001b[39m\u001b[38;5;124mVessel_Type\u001b[39m\u001b[38;5;124m'\u001b[39m] \u001b[38;5;241m==\u001b[39m \u001b[38;5;124m'\u001b[39m\u001b[38;5;124mAll ships\u001b[39m\u001b[38;5;124m'\u001b[39m]\n\u001b[1;32m      3\u001b[0m \u001b[38;5;66;03m# Create figure with secondary y-axis\u001b[39;00m\n\u001b[1;32m      4\u001b[0m fig \u001b[38;5;241m=\u001b[39m make_subplots(specs\u001b[38;5;241m=\u001b[39m[[{\u001b[38;5;124m\"\u001b[39m\u001b[38;5;124msecondary_y\u001b[39m\u001b[38;5;124m\"\u001b[39m: \u001b[38;5;28;01mTrue\u001b[39;00m}]])\n",
      "\u001b[0;31mNameError\u001b[0m: name 'df_combined_world' is not defined"
     ]
    }
   ],
   "source": [
    "df_combined_world = df_combined_world[df_combined_world['Vessel_Type'] == 'All ships']\n",
    "\n",
    "# Create figure with secondary y-axis\n",
    "fig = make_subplots(specs=[[{\"secondary_y\": True}]])\n",
    "\n",
    "# Add traces\n",
    "fig.add_trace(\n",
    "    go.Scatter(x=df_combined_world['date'], y=df_combined_world['Median time in port (days)'], name=\"Median time in port (days)\"),\n",
    "    secondary_y=False,\n",
    ")\n",
    "\n",
    "fig.add_trace(\n",
    "    go.Scatter(x=df_combined_world['date'], y=df_combined_world['new_cases'], name=\"New covid cases\"),\n",
    "    secondary_y=True,\n",
    ")\n",
    "\n",
    "# Add figure title\n",
    "fig.update_layout(\n",
    "    title_text=\"World - all vessel type\"\n",
    ")\n",
    "\n",
    "# Set x-axis title\n",
    "fig.update_xaxes(title_text=\"Date\")\n",
    "\n",
    "# Set y-axes titles\n",
    "fig.update_yaxes(title_text=\"<b>primary</b> Median time in port (days)\", secondary_y=False)\n",
    "fig.update_yaxes(title_text=\"<b>secondary</b> New covid cases\", secondary_y=True)\n",
    "\n",
    "fig.show()"
   ]
  },
  {
   "cell_type": "code",
   "execution_count": 25,
   "metadata": {},
   "outputs": [
    {
     "ename": "NameError",
     "evalue": "name 'df_port_calls' is not defined",
     "output_type": "error",
     "traceback": [
      "\u001b[0;31m---------------------------------------------------------------------------\u001b[0m",
      "\u001b[0;31mNameError\u001b[0m                                 Traceback (most recent call last)",
      "Cell \u001b[0;32mIn [25], line 1\u001b[0m\n\u001b[0;32m----> 1\u001b[0m df_port_calls_world \u001b[38;5;241m=\u001b[39m \u001b[43mdf_port_calls\u001b[49m[df_port_calls\u001b[38;5;241m.\u001b[39mcountry \u001b[38;5;241m==\u001b[39m \u001b[38;5;124m'\u001b[39m\u001b[38;5;124mWorld\u001b[39m\u001b[38;5;124m'\u001b[39m]\n\u001b[1;32m      2\u001b[0m df_covid_world \u001b[38;5;241m=\u001b[39m df_new\u001b[38;5;241m.\u001b[39mgroupby(\u001b[38;5;124m'\u001b[39m\u001b[38;5;124mdate\u001b[39m\u001b[38;5;124m'\u001b[39m)\u001b[38;5;241m.\u001b[39msum()\n\u001b[1;32m      3\u001b[0m df_covid_world \u001b[38;5;241m=\u001b[39m df_covid_world\u001b[38;5;241m.\u001b[39mdrop([\u001b[38;5;124m'\u001b[39m\u001b[38;5;124m2020-01-31\u001b[39m\u001b[38;5;124m'\u001b[39m,\u001b[38;5;124m'\u001b[39m\u001b[38;5;124m2023-01-31\u001b[39m\u001b[38;5;124m'\u001b[39m])\n",
      "\u001b[0;31mNameError\u001b[0m: name 'df_port_calls' is not defined"
     ]
    }
   ],
   "source": [
    "df_port_calls_world = df_port_calls[df_port_calls.country == 'World']\n",
    "df_covid_world = df_new.groupby('date').sum()\n",
    "df_covid_world = df_covid_world.drop(['2020-01-31','2023-01-31'])\n",
    "\n",
    "df_combined_world_calls = pd.merge(df_port_calls_world, df_covid_world, on=['date'], how='outer')\n",
    "df_combined_world_calls = df_combined_world_calls.drop(['Unnamed: 0', 'cumulative_cases'], axis=1)\n",
    "df_combined_world_calls"
   ]
  },
  {
   "cell_type": "code",
   "execution_count": 26,
   "metadata": {},
   "outputs": [
    {
     "ename": "NameError",
     "evalue": "name 'df_combined_world_calls' is not defined",
     "output_type": "error",
     "traceback": [
      "\u001b[0;31m---------------------------------------------------------------------------\u001b[0m",
      "\u001b[0;31mNameError\u001b[0m                                 Traceback (most recent call last)",
      "Cell \u001b[0;32mIn [26], line 1\u001b[0m\n\u001b[0;32m----> 1\u001b[0m df_combined_world_calls \u001b[38;5;241m=\u001b[39m \u001b[43mdf_combined_world_calls\u001b[49m[df_combined_world_calls[\u001b[38;5;124m'\u001b[39m\u001b[38;5;124mVessel_Type\u001b[39m\u001b[38;5;124m'\u001b[39m] \u001b[38;5;241m==\u001b[39m \u001b[38;5;124m'\u001b[39m\u001b[38;5;124mAll ships\u001b[39m\u001b[38;5;124m'\u001b[39m]\n\u001b[1;32m      3\u001b[0m \u001b[38;5;66;03m# Create figure with secondary y-axis\u001b[39;00m\n\u001b[1;32m      4\u001b[0m fig \u001b[38;5;241m=\u001b[39m make_subplots(specs\u001b[38;5;241m=\u001b[39m[[{\u001b[38;5;124m\"\u001b[39m\u001b[38;5;124msecondary_y\u001b[39m\u001b[38;5;124m\"\u001b[39m: \u001b[38;5;28;01mTrue\u001b[39;00m}]])\n",
      "\u001b[0;31mNameError\u001b[0m: name 'df_combined_world_calls' is not defined"
     ]
    }
   ],
   "source": [
    "df_combined_world_calls = df_combined_world_calls[df_combined_world_calls['Vessel_Type'] == 'All ships']\n",
    "\n",
    "# Create figure with secondary y-axis\n",
    "fig = make_subplots(specs=[[{\"secondary_y\": True}]])\n",
    "\n",
    "# Add traces\n",
    "fig.add_trace(\n",
    "    go.Scatter(x=df_combined_world_calls['date'], y=df_combined_world_calls['Number of port calls'], name=\"Number of port calls\"),\n",
    "    secondary_y=False,\n",
    ")\n",
    "\n",
    "fig.add_trace(\n",
    "    go.Scatter(x=df_combined_world_calls['date'], y=df_combined_world_calls['new_cases'], name=\"New covid cases\"),\n",
    "    secondary_y=True,\n",
    ")\n",
    "\n",
    "# Add figure title\n",
    "fig.update_layout(\n",
    "    title_text=\"World - all vessel type\"\n",
    ")\n",
    "\n",
    "# Set x-axis title\n",
    "fig.update_xaxes(title_text=\"Date\")\n",
    "\n",
    "# Set y-axes titles\n",
    "fig.update_yaxes(title_text=\"<b>primary</b> Number of port calls\", secondary_y=False)\n",
    "fig.update_yaxes(title_text=\"<b>secondary</b> New covid cases\", secondary_y=True)\n",
    "\n",
    "fig.show()"
   ]
  },
  {
   "cell_type": "markdown",
   "metadata": {},
   "source": [
    "## Part III - Data visualisation\n",
    "\n",
    "For this last part, we're going to visually show the effect that COVID had on vessel times so that users can see how ports have been impacted by COVID and thus has also impacted the logistics system as a whole by: \n",
    "\n",
    "We're going to look at regions and look at the semi annual trend by vessel type \n",
    "\n",
    "pie chart showing the proportions of the commodity shipped\n",
    "\n",
    "World map showing the change in port call times over the years \n",
    "\n",
    "Comparing covid high periods vs low periods with port call times \n",
    "\n",
    "Interpreting the results \n",
    "\n",
    "First, We show our variables for this part."
   ]
  },
  {
   "cell_type": "markdown",
   "metadata": {},
   "source": [
    "We want to show the COVID data with the port time (worldwide)"
   ]
  },
  {
   "cell_type": "code",
   "execution_count": 27,
   "metadata": {},
   "outputs": [
    {
     "ename": "NameError",
     "evalue": "name 'df_ports' is not defined",
     "output_type": "error",
     "traceback": [
      "\u001b[0;31m---------------------------------------------------------------------------\u001b[0m",
      "\u001b[0;31mNameError\u001b[0m                                 Traceback (most recent call last)",
      "Cell \u001b[0;32mIn [27], line 4\u001b[0m\n\u001b[1;32m      1\u001b[0m \u001b[38;5;66;03m# First, I'll make a graph of all covid data in the world\u001b[39;00m\n\u001b[1;32m      2\u001b[0m fig_5 \u001b[38;5;241m=\u001b[39m go\u001b[38;5;241m.\u001b[39mFigure()\n\u001b[0;32m----> 4\u001b[0m x1 \u001b[38;5;241m=\u001b[39m \u001b[43mdf_ports\u001b[49m[\u001b[38;5;124m'\u001b[39m\u001b[38;5;124mPeriod Label\u001b[39m\u001b[38;5;124m'\u001b[39m]\n\u001b[1;32m      5\u001b[0m y1 \u001b[38;5;241m=\u001b[39m df_ports[\u001b[38;5;124m'\u001b[39m\u001b[38;5;124mMedian time in port (days)\u001b[39m\u001b[38;5;124m'\u001b[39m]\n\u001b[1;32m      6\u001b[0m fig_5\u001b[38;5;241m.\u001b[39madd_trace(go\u001b[38;5;241m.\u001b[39mScatter(x\u001b[38;5;241m=\u001b[39mx1,y\u001b[38;5;241m=\u001b[39my1, name\u001b[38;5;241m=\u001b[39mactivity_5))\n",
      "\u001b[0;31mNameError\u001b[0m: name 'df_ports' is not defined"
     ]
    }
   ],
   "source": [
    "# First, I'll make a graph of all covid data in the world\n",
    "fig_5 = go.Figure()\n",
    "\n",
    "x1 = df_ports['Period Label']\n",
    "y1 = df_ports['Median time in port (days)']\n",
    "fig_5.add_trace(go.Scatter(x=x1,y=y1, name=activity_5))\n",
    "\n",
    "\n",
    "fig_5.update_layout(title='Covid data in world')\n",
    "fig_5.show()"
   ]
  },
  {
   "cell_type": "markdown",
   "metadata": {},
   "source": [
    "Now we will show over the years from 2018, the number of port calls by region"
   ]
  },
  {
   "cell_type": "code",
   "execution_count": null,
   "metadata": {},
   "outputs": [],
   "source": []
  },
  {
   "cell_type": "code",
   "execution_count": 47,
   "metadata": {},
   "outputs": [
    {
     "data": {
      "application/vnd.plotly.v1+json": {
       "config": {
        "plotlyServerURL": "https://plot.ly"
       },
       "data": [
        {
         "hovertemplate": "Economy Label=Denmark<br>Port Name=%{x}<br>Statistic Approach Rank=%{y}<br>Number of port calls=%{marker.size}<extra></extra>",
         "legendgroup": "Denmark",
         "marker": {
          "color": "#636efa",
          "size": [
           660,
           660,
           660,
           660
          ],
          "sizemode": "area",
          "sizeref": 90.995,
          "symbol": "circle"
         },
         "mode": "markers",
         "name": "Denmark",
         "orientation": "v",
         "showlegend": true,
         "type": "scatter",
         "x": [
          "AARHUS",
          "COPENHAGEN",
          "FREDERICIA",
          "LAGOS (NIGERIA)"
         ],
         "xaxis": "x",
         "y": [
          43,
          142,
          138,
          358
         ],
         "yaxis": "y"
        },
        {
         "hovertemplate": "Economy Label=Australia<br>Port Name=%{x}<br>Statistic Approach Rank=%{y}<br>Number of port calls=%{marker.size}<extra></extra>",
         "legendgroup": "Australia",
         "marker": {
          "color": "#EF553B",
          "size": [
           1884,
           1884,
           1884,
           1884,
           1884,
           1884,
           1836,
           1836
          ],
          "sizemode": "area",
          "sizeref": 90.995,
          "symbol": "circle"
         },
         "mode": "markers",
         "name": "Australia",
         "orientation": "v",
         "showlegend": true,
         "type": "scatter",
         "x": [
          "ACAJUTLA",
          "BELL BAY",
          "BRISTOL",
          "FREETOWN",
          "MOJI",
          "PORT BOTANY",
          "ADELAIDE",
          "MELBOURNE"
         ],
         "xaxis": "x",
         "y": [
          249,
          163,
          277,
          319,
          123,
          327,
          257,
          294
         ],
         "yaxis": "y"
        },
        {
         "hovertemplate": "Economy Label=Spain<br>Port Name=%{x}<br>Statistic Approach Rank=%{y}<br>Number of port calls=%{marker.size}<extra></extra>",
         "legendgroup": "Spain",
         "marker": {
          "color": "#00cc96",
          "size": [
           6939,
           6939,
           6939,
           6939,
           6939,
           6939,
           6939,
           6939,
           6939,
           6939,
           6939,
           6939,
           6939,
           7367,
           7367,
           7367,
           7367,
           7367,
           7367,
           7367,
           7367,
           7367,
           7367
          ],
          "sizemode": "area",
          "sizeref": 90.995,
          "symbol": "circle"
         },
         "mode": "markers",
         "name": "Spain",
         "orientation": "v",
         "showlegend": true,
         "type": "scatter",
         "x": [
          "ALEXANDRIA (EGYPT)",
          "ALGIERS",
          "ALTAMIRA",
          "BARRANQUILLA",
          "BILBAO",
          "CAI LAN",
          "GENOA",
          "MANZANILLO (MEXICO)",
          "PORT LOUIS",
          "SANTO TOMAS DE CASTILLA",
          "TANJUNG PRIOK",
          "UMM QASR",
          "VENICE",
          "ALGECIRAS",
          "BARCELONA",
          "CORONEL",
          "SANTA CRUZ DE TENERIFE",
          "VALENCIA",
          "MALAGA",
          "VIGO",
          "TARRAGONA",
          "CADIZ",
          "ALICANTE"
         ],
         "xaxis": "x",
         "y": [
          221,
          318,
          98,
          169,
          243,
          74,
          196,
          145,
          346,
          201,
          66,
          294,
          295,
          10,
          19,
          49,
          88,
          180,
          140,
          138,
          157,
          217,
          222
         ],
         "yaxis": "y"
        },
        {
         "hovertemplate": "Economy Label=Italy<br>Port Name=%{x}<br>Statistic Approach Rank=%{y}<br>Number of port calls=%{marker.size}<extra></extra>",
         "legendgroup": "Italy",
         "marker": {
          "color": "#ab63fa",
          "size": [
           3937,
           3937,
           3937,
           3937,
           3937,
           3937,
           3937,
           3937,
           3937,
           3937,
           3937,
           3937,
           3937,
           3937,
           3937,
           3937,
           3887,
           3887,
           3887,
           3887,
           3887,
           3887,
           3887,
           3887,
           3887
          ],
          "sizemode": "area",
          "sizeref": 90.995,
          "symbol": "circle"
         },
         "mode": "markers",
         "name": "Italy",
         "orientation": "v",
         "showlegend": true,
         "type": "scatter",
         "x": [
          "ANCONA",
          "BATANGAS",
          "CASTELLON",
          "CHORNOMORSK",
          "GEMLIK",
          "GIJON",
          "LATAKIA",
          "LUANDA",
          "NEW ORLEANS",
          "PALERMO",
          "RIJEKA",
          "SAMSUN",
          "SEATTLE",
          "TOMAKOMAI",
          "TRIESTE",
          "VANCOUVER (CANADA)",
          "GIOIA TAURO",
          "SAVONA-VADO",
          "CIVITAVECCHIA",
          "RAVENNA",
          "CATANIA",
          "BARI",
          "TRAPANI",
          "NAPLES",
          "LA SPEZIA"
         ],
         "xaxis": "x",
         "y": [
          183,
          144,
          157,
          274,
          282,
          212,
          23,
          343,
          237,
          182,
          279,
          280,
          263,
          204,
          264,
          368,
          112,
          111,
          161,
          188,
          193,
          194,
          209,
          267,
          309
         ],
         "yaxis": "y"
        },
        {
         "hovertemplate": "Economy Label=Indonesia<br>Port Name=%{x}<br>Statistic Approach Rank=%{y}<br>Number of port calls=%{marker.size}<extra></extra>",
         "legendgroup": "Indonesia",
         "marker": {
          "color": "#FFA15A",
          "size": [
           7303,
           7303,
           7303,
           7303,
           7303,
           7705
          ],
          "sizemode": "area",
          "sizeref": 90.995,
          "symbol": "circle"
         },
         "mode": "markers",
         "name": "Indonesia",
         "orientation": "v",
         "showlegend": true,
         "type": "scatter",
         "x": [
          "BELAWAN",
          "PANJANG",
          "TANGER MEDITERRANEAN",
          "TANJUNG PELEPAS",
          "TANJUNG PERAK",
          "TANJUNG EMAS"
         ],
         "xaxis": "x",
         "y": [
          202,
          229,
          15,
          11,
          172,
          144
         ],
         "yaxis": "y"
        },
        {
         "hovertemplate": "Economy Label=France<br>Port Name=%{x}<br>Statistic Approach Rank=%{y}<br>Number of port calls=%{marker.size}<extra></extra>",
         "legendgroup": "France",
         "marker": {
          "color": "#19d3f3",
          "size": [
           2215,
           2215,
           2215,
           2215,
           2215,
           2215,
           2215,
           2215,
           2215,
           2215,
           2215,
           2215,
           2281,
           2281,
           2281,
           2281,
           2281,
           2281,
           2281,
           2281,
           2281
          ],
          "sizemode": "area",
          "sizeref": 90.995,
          "symbol": "circle"
         },
         "mode": "markers",
         "name": "France",
         "orientation": "v",
         "showlegend": true,
         "type": "scatter",
         "x": [
          "BORUSAN",
          "DUNKIRK",
          "FORT−DE−FRANCE",
          "GUAYAQUIL",
          "LIVORNO",
          "MEJILLONES",
          "MIAMI",
          "NEMRUT BAY",
          "OAKLAND",
          "PAPEETE",
          "POINTE-NOIRE",
          "PORT OF SPAIN",
          "NANTES SAINT-NAZAIRE",
          "POINTE-À-PITRE",
          "FORT-DE-FRANCE",
          "GUSTAVIA",
          "BORDEAUX",
          "LE HAVRE",
          "MAYOTTE",
          "MARSEILLE",
          "PORT RÉUNION"
         ],
         "xaxis": "x",
         "y": [
          195,
          305,
          112,
          161,
          332,
          311,
          114,
          326,
          334,
          167,
          362,
          248,
          104,
          107,
          127,
          190,
          223,
          286,
          293,
          297,
          331
         ],
         "yaxis": "y"
        },
        {
         "hovertemplate": "Economy Label=Germany<br>Port Name=%{x}<br>Statistic Approach Rank=%{y}<br>Number of port calls=%{marker.size}<extra></extra>",
         "legendgroup": "Germany",
         "marker": {
          "color": "#FF6692",
          "size": [
           3589,
           3589,
           3589,
           3546,
           3546,
           3546
          ],
          "sizemode": "area",
          "sizeref": 90.995,
          "symbol": "circle"
         },
         "mode": "markers",
         "name": "Germany",
         "orientation": "v",
         "showlegend": true,
         "type": "scatter",
         "x": [
          "BRISBANE",
          "HAMAD PORT",
          "WELLINGTON",
          "BREMERHAVEN",
          "HAMBURG",
          "WILHELMSHAVEN"
         ],
         "xaxis": "x",
         "y": [
          234,
          191,
          141,
          54,
          258,
          204
         ],
         "yaxis": "y"
        },
        {
         "hovertemplate": "Economy Label=United Kingdom<br>Port Name=%{x}<br>Statistic Approach Rank=%{y}<br>Number of port calls=%{marker.size}<extra></extra>",
         "legendgroup": "United Kingdom",
         "marker": {
          "color": "#B6E880",
          "size": [
           3760,
           3760,
           3760,
           3760,
           3760,
           3847,
           3847
          ],
          "sizemode": "area",
          "sizeref": 90.995,
          "symbol": "circle"
         },
         "mode": "markers",
         "name": "United Kingdom",
         "orientation": "v",
         "showlegend": true,
         "type": "scatter",
         "x": [
          "BUENAVENTURA",
          "ENSENADA",
          "LOS ANGELES",
          "LYTTELTON",
          "SOUTHAMPTON",
          "LIVERPOOL (UNITED KINGDOM)",
          "FELIXSTOWE"
         ],
         "xaxis": "x",
         "y": [
          71,
          125,
          369,
          186,
          317,
          325,
          336
         ],
         "yaxis": "y"
        },
        {
         "hovertemplate": "Economy Label=China<br>Port Name=%{x}<br>Statistic Approach Rank=%{y}<br>Number of port calls=%{marker.size}<extra></extra>",
         "legendgroup": "China",
         "marker": {
          "color": "#FF97FF",
          "size": [
           35750,
           35750,
           35750,
           35750,
           35750,
           35750,
           35750,
           35750,
           35750,
           35750,
           35750,
           35750,
           35750,
           35750,
           35750,
           35750,
           35750,
           36398,
           36398,
           36398,
           36398,
           36398,
           36398,
           36398,
           36398,
           36398,
           36398
          ],
          "sizemode": "area",
          "sizeref": 90.995,
          "symbol": "circle"
         },
         "mode": "markers",
         "name": "China",
         "orientation": "v",
         "showlegend": true,
         "type": "scatter",
         "x": [
          "CHATTOGRAM",
          "DAKAR",
          "DAMIETTA",
          "FREMANTLE",
          "GRANGEMOUTH",
          "LONDON",
          "NOUAKCHOTT",
          "QINZHOU",
          "QUY NHON",
          "SHANTOU",
          "SHEKOU",
          "SHIMIZU",
          "THESSALONIKI",
          "WILMINGTON (NORTH CAROLINA, USA)",
          "YANGSHAN",
          "YANTIAN",
          "ZHOUSHAN",
          "NINGBO",
          "GUANGZHOU",
          "CHIWAN",
          "TIANJIN",
          "QINGDAO",
          "MAWAN",
          "XIAMEN",
          "DALIAN",
          "DA CHAN BAY TERMINAL ONE",
          "SHANGHAI"
         ],
         "xaxis": "x",
         "y": [
          298,
          120,
          297,
          21,
          6,
          355,
          292,
          148,
          104,
          117,
          5,
          24,
          284,
          67,
          10,
          17,
          8,
          7,
          9,
          20,
          26,
          33,
          110,
          40,
          81,
          122,
          318
         ],
         "yaxis": "y"
        },
        {
         "hovertemplate": "Economy Label=Sweden<br>Port Name=%{x}<br>Statistic Approach Rank=%{y}<br>Number of port calls=%{marker.size}<extra></extra>",
         "legendgroup": "Sweden",
         "marker": {
          "color": "#FECB52",
          "size": [
           1055,
           1055,
           1055,
           1010,
           1010
          ],
          "sizemode": "area",
          "sizeref": 90.995,
          "symbol": "circle"
         },
         "mode": "markers",
         "name": "Sweden",
         "orientation": "v",
         "showlegend": true,
         "type": "scatter",
         "x": [
          "FUZHOU",
          "HELSINGBORG",
          "NOUMEA",
          "NORRKOPING",
          "GAVLE"
         ],
         "xaxis": "x",
         "y": [
          214,
          185,
          124,
          184,
          256
         ],
         "yaxis": "y"
        },
        {
         "hovertemplate": "Economy Label=Japan<br>Port Name=%{x}<br>Statistic Approach Rank=%{y}<br>Number of port calls=%{marker.size}<extra></extra>",
         "legendgroup": "Japan",
         "marker": {
          "color": "#636efa",
          "size": [
           19174,
           19174,
           19174,
           19174,
           19174,
           19174,
           19174,
           19174,
           19174,
           19174,
           19174,
           19174,
           19174,
           18108,
           18108,
           18108
          ],
          "sizemode": "area",
          "sizeref": 90.995,
          "symbol": "circle"
         },
         "mode": "markers",
         "name": "Japan",
         "orientation": "v",
         "showlegend": true,
         "type": "scatter",
         "x": [
          "HAIPHONG",
          "KINGSTON (JAMAICA)",
          "KRISTIANSAND",
          "MUNDRA",
          "NASSAU",
          "NELSON",
          "OMAEZAKI",
          "OSAKA",
          "SHUAIBA",
          "TOAMASINA",
          "TOKYO",
          "YOKKAICHI",
          "YOKOHAMA",
          "KOBE",
          "NAGOYA",
          "KAWASAKI"
         ],
         "xaxis": "x",
         "y": [
          116,
          266,
          296,
          44,
          189,
          206,
          121,
          77,
          228,
          219,
          54,
          81,
          1,
          37,
          43,
          249
         ],
         "yaxis": "y"
        },
        {
         "hovertemplate": "Economy Label=Canada<br>Port Name=%{x}<br>Statistic Approach Rank=%{y}<br>Number of port calls=%{marker.size}<extra></extra>",
         "legendgroup": "Canada",
         "marker": {
          "color": "#EF553B",
          "size": [
           1001,
           1001,
           1001,
           1001,
           1001,
           997,
           997,
           997
          ],
          "sizemode": "area",
          "sizeref": 90.995,
          "symbol": "circle"
         },
         "mode": "markers",
         "name": "Canada",
         "orientation": "v",
         "showlegend": true,
         "type": "scatter",
         "x": [
          "HAKATA",
          "NAHA",
          "PRINCE RUPERT",
          "SALERNO",
          "VALPARAISO",
          "HALIFAX",
          "SAINT JOHN",
          "MONTREAL"
         ],
         "xaxis": "x",
         "y": [
          25,
          111,
          323,
          168,
          102,
          18,
          235,
          313
         ],
         "yaxis": "y"
        },
        {
         "hovertemplate": "Economy Label=Greece<br>Port Name=%{x}<br>Statistic Approach Rank=%{y}<br>Number of port calls=%{marker.size}<extra></extra>",
         "legendgroup": "Greece",
         "marker": {
          "color": "#00cc96",
          "size": [
           1908,
           1908,
           1908,
           1781
          ],
          "sizemode": "area",
          "sizeref": 90.995,
          "symbol": "circle"
         },
         "mode": "markers",
         "name": "Greece",
         "orientation": "v",
         "showlegend": true,
         "type": "scatter",
         "x": [
          "HONG KONG, HONG KONG SAR, CHINA",
          "PIRAEUS",
          "TEMA",
          "HERAKLION"
         ],
         "xaxis": "x",
         "y": [
          242,
          89,
          353,
          212
         ],
         "yaxis": "y"
        },
        {
         "hovertemplate": "Economy Label=Norway<br>Port Name=%{x}<br>Statistic Approach Rank=%{y}<br>Number of port calls=%{marker.size}<extra></extra>",
         "legendgroup": "Norway",
         "marker": {
          "color": "#ab63fa",
          "size": [
           1562,
           1562,
           1667
          ],
          "sizemode": "area",
          "sizeref": 90.995,
          "symbol": "circle"
         },
         "mode": "markers",
         "name": "Norway",
         "orientation": "v",
         "showlegend": true,
         "type": "scatter",
         "x": [
          "LIANYUNGANG",
          "OSLO",
          "LARVIK"
         ],
         "xaxis": "x",
         "y": [
          178,
          91,
          206
         ],
         "yaxis": "y"
        },
        {
         "hovertemplate": "Economy Label=Croatia<br>Port Name=%{x}<br>Statistic Approach Rank=%{y}<br>Number of port calls=%{marker.size}<extra></extra>",
         "legendgroup": "Croatia",
         "marker": {
          "color": "#FFA15A",
          "size": [
           233
          ],
          "sizemode": "area",
          "sizeref": 90.995,
          "symbol": "circle"
         },
         "mode": "markers",
         "name": "Croatia",
         "orientation": "v",
         "showlegend": true,
         "type": "scatter",
         "x": [
          "RIO GRANDE (BRAZIL)"
         ],
         "xaxis": "x",
         "y": [
          47
         ],
         "yaxis": "y"
        },
        {
         "hovertemplate": "Economy Label=United States of America<br>Port Name=%{x}<br>Statistic Approach Rank=%{y}<br>Number of port calls=%{marker.size}<extra></extra>",
         "legendgroup": "United States of America",
         "marker": {
          "color": "#19d3f3",
          "size": [
           9604,
           9604,
           9604,
           9604,
           9604,
           9604,
           9604,
           9604,
           9604,
           9604,
           9604,
           9604,
           9604,
           9604,
           9604,
           9604,
           9604,
           9604,
           9604
          ],
          "sizemode": "area",
          "sizeref": 90.995,
          "symbol": "circle"
         },
         "mode": "markers",
         "name": "United States of America",
         "orientation": "v",
         "showlegend": true,
         "type": "scatter",
         "x": [
          "PORT OF VIRGINIA",
          "WILMINGTON (NORTH CAROLINA)",
          "PHILADELPHIA",
          "BALBOA",
          "TAMPA",
          "PORT TAMPA BAY",
          "JACKSONVILLE",
          "PORT EVERGLADES",
          "BOSTON (United States of America)",
          "HOUSTON",
          "CHARLESTON",
          "MOBILE",
          "SAN VICENTE",
          "NEW YORK AND NEW JERSEY",
          "HUENEME",
          "PORT VICTORIA",
          "TACOMA",
          "SAVANNAH",
          "LONG BEACH"
         ],
         "xaxis": "x",
         "y": [
          27,
          57,
          58,
          55,
          62,
          66,
          94,
          102,
          115,
          123,
          187,
          150,
          162,
          251,
          274,
          298,
          341,
          367,
          370
         ],
         "yaxis": "y"
        }
       ],
       "layout": {
        "height": 500,
        "legend": {
         "itemsizing": "constant",
         "title": {
          "text": "Economy Label"
         },
         "tracegroupgap": 0
        },
        "margin": {
         "t": 60
        },
        "template": {
         "data": {
          "bar": [
           {
            "error_x": {
             "color": "#2a3f5f"
            },
            "error_y": {
             "color": "#2a3f5f"
            },
            "marker": {
             "line": {
              "color": "#E5ECF6",
              "width": 0.5
             },
             "pattern": {
              "fillmode": "overlay",
              "size": 10,
              "solidity": 0.2
             }
            },
            "type": "bar"
           }
          ],
          "barpolar": [
           {
            "marker": {
             "line": {
              "color": "#E5ECF6",
              "width": 0.5
             },
             "pattern": {
              "fillmode": "overlay",
              "size": 10,
              "solidity": 0.2
             }
            },
            "type": "barpolar"
           }
          ],
          "carpet": [
           {
            "aaxis": {
             "endlinecolor": "#2a3f5f",
             "gridcolor": "white",
             "linecolor": "white",
             "minorgridcolor": "white",
             "startlinecolor": "#2a3f5f"
            },
            "baxis": {
             "endlinecolor": "#2a3f5f",
             "gridcolor": "white",
             "linecolor": "white",
             "minorgridcolor": "white",
             "startlinecolor": "#2a3f5f"
            },
            "type": "carpet"
           }
          ],
          "choropleth": [
           {
            "colorbar": {
             "outlinewidth": 0,
             "ticks": ""
            },
            "type": "choropleth"
           }
          ],
          "contour": [
           {
            "colorbar": {
             "outlinewidth": 0,
             "ticks": ""
            },
            "colorscale": [
             [
              0,
              "#0d0887"
             ],
             [
              0.1111111111111111,
              "#46039f"
             ],
             [
              0.2222222222222222,
              "#7201a8"
             ],
             [
              0.3333333333333333,
              "#9c179e"
             ],
             [
              0.4444444444444444,
              "#bd3786"
             ],
             [
              0.5555555555555556,
              "#d8576b"
             ],
             [
              0.6666666666666666,
              "#ed7953"
             ],
             [
              0.7777777777777778,
              "#fb9f3a"
             ],
             [
              0.8888888888888888,
              "#fdca26"
             ],
             [
              1,
              "#f0f921"
             ]
            ],
            "type": "contour"
           }
          ],
          "contourcarpet": [
           {
            "colorbar": {
             "outlinewidth": 0,
             "ticks": ""
            },
            "type": "contourcarpet"
           }
          ],
          "heatmap": [
           {
            "colorbar": {
             "outlinewidth": 0,
             "ticks": ""
            },
            "colorscale": [
             [
              0,
              "#0d0887"
             ],
             [
              0.1111111111111111,
              "#46039f"
             ],
             [
              0.2222222222222222,
              "#7201a8"
             ],
             [
              0.3333333333333333,
              "#9c179e"
             ],
             [
              0.4444444444444444,
              "#bd3786"
             ],
             [
              0.5555555555555556,
              "#d8576b"
             ],
             [
              0.6666666666666666,
              "#ed7953"
             ],
             [
              0.7777777777777778,
              "#fb9f3a"
             ],
             [
              0.8888888888888888,
              "#fdca26"
             ],
             [
              1,
              "#f0f921"
             ]
            ],
            "type": "heatmap"
           }
          ],
          "heatmapgl": [
           {
            "colorbar": {
             "outlinewidth": 0,
             "ticks": ""
            },
            "colorscale": [
             [
              0,
              "#0d0887"
             ],
             [
              0.1111111111111111,
              "#46039f"
             ],
             [
              0.2222222222222222,
              "#7201a8"
             ],
             [
              0.3333333333333333,
              "#9c179e"
             ],
             [
              0.4444444444444444,
              "#bd3786"
             ],
             [
              0.5555555555555556,
              "#d8576b"
             ],
             [
              0.6666666666666666,
              "#ed7953"
             ],
             [
              0.7777777777777778,
              "#fb9f3a"
             ],
             [
              0.8888888888888888,
              "#fdca26"
             ],
             [
              1,
              "#f0f921"
             ]
            ],
            "type": "heatmapgl"
           }
          ],
          "histogram": [
           {
            "marker": {
             "pattern": {
              "fillmode": "overlay",
              "size": 10,
              "solidity": 0.2
             }
            },
            "type": "histogram"
           }
          ],
          "histogram2d": [
           {
            "colorbar": {
             "outlinewidth": 0,
             "ticks": ""
            },
            "colorscale": [
             [
              0,
              "#0d0887"
             ],
             [
              0.1111111111111111,
              "#46039f"
             ],
             [
              0.2222222222222222,
              "#7201a8"
             ],
             [
              0.3333333333333333,
              "#9c179e"
             ],
             [
              0.4444444444444444,
              "#bd3786"
             ],
             [
              0.5555555555555556,
              "#d8576b"
             ],
             [
              0.6666666666666666,
              "#ed7953"
             ],
             [
              0.7777777777777778,
              "#fb9f3a"
             ],
             [
              0.8888888888888888,
              "#fdca26"
             ],
             [
              1,
              "#f0f921"
             ]
            ],
            "type": "histogram2d"
           }
          ],
          "histogram2dcontour": [
           {
            "colorbar": {
             "outlinewidth": 0,
             "ticks": ""
            },
            "colorscale": [
             [
              0,
              "#0d0887"
             ],
             [
              0.1111111111111111,
              "#46039f"
             ],
             [
              0.2222222222222222,
              "#7201a8"
             ],
             [
              0.3333333333333333,
              "#9c179e"
             ],
             [
              0.4444444444444444,
              "#bd3786"
             ],
             [
              0.5555555555555556,
              "#d8576b"
             ],
             [
              0.6666666666666666,
              "#ed7953"
             ],
             [
              0.7777777777777778,
              "#fb9f3a"
             ],
             [
              0.8888888888888888,
              "#fdca26"
             ],
             [
              1,
              "#f0f921"
             ]
            ],
            "type": "histogram2dcontour"
           }
          ],
          "mesh3d": [
           {
            "colorbar": {
             "outlinewidth": 0,
             "ticks": ""
            },
            "type": "mesh3d"
           }
          ],
          "parcoords": [
           {
            "line": {
             "colorbar": {
              "outlinewidth": 0,
              "ticks": ""
             }
            },
            "type": "parcoords"
           }
          ],
          "pie": [
           {
            "automargin": true,
            "type": "pie"
           }
          ],
          "scatter": [
           {
            "fillpattern": {
             "fillmode": "overlay",
             "size": 10,
             "solidity": 0.2
            },
            "type": "scatter"
           }
          ],
          "scatter3d": [
           {
            "line": {
             "colorbar": {
              "outlinewidth": 0,
              "ticks": ""
             }
            },
            "marker": {
             "colorbar": {
              "outlinewidth": 0,
              "ticks": ""
             }
            },
            "type": "scatter3d"
           }
          ],
          "scattercarpet": [
           {
            "marker": {
             "colorbar": {
              "outlinewidth": 0,
              "ticks": ""
             }
            },
            "type": "scattercarpet"
           }
          ],
          "scattergeo": [
           {
            "marker": {
             "colorbar": {
              "outlinewidth": 0,
              "ticks": ""
             }
            },
            "type": "scattergeo"
           }
          ],
          "scattergl": [
           {
            "marker": {
             "colorbar": {
              "outlinewidth": 0,
              "ticks": ""
             }
            },
            "type": "scattergl"
           }
          ],
          "scattermapbox": [
           {
            "marker": {
             "colorbar": {
              "outlinewidth": 0,
              "ticks": ""
             }
            },
            "type": "scattermapbox"
           }
          ],
          "scatterpolar": [
           {
            "marker": {
             "colorbar": {
              "outlinewidth": 0,
              "ticks": ""
             }
            },
            "type": "scatterpolar"
           }
          ],
          "scatterpolargl": [
           {
            "marker": {
             "colorbar": {
              "outlinewidth": 0,
              "ticks": ""
             }
            },
            "type": "scatterpolargl"
           }
          ],
          "scatterternary": [
           {
            "marker": {
             "colorbar": {
              "outlinewidth": 0,
              "ticks": ""
             }
            },
            "type": "scatterternary"
           }
          ],
          "surface": [
           {
            "colorbar": {
             "outlinewidth": 0,
             "ticks": ""
            },
            "colorscale": [
             [
              0,
              "#0d0887"
             ],
             [
              0.1111111111111111,
              "#46039f"
             ],
             [
              0.2222222222222222,
              "#7201a8"
             ],
             [
              0.3333333333333333,
              "#9c179e"
             ],
             [
              0.4444444444444444,
              "#bd3786"
             ],
             [
              0.5555555555555556,
              "#d8576b"
             ],
             [
              0.6666666666666666,
              "#ed7953"
             ],
             [
              0.7777777777777778,
              "#fb9f3a"
             ],
             [
              0.8888888888888888,
              "#fdca26"
             ],
             [
              1,
              "#f0f921"
             ]
            ],
            "type": "surface"
           }
          ],
          "table": [
           {
            "cells": {
             "fill": {
              "color": "#EBF0F8"
             },
             "line": {
              "color": "white"
             }
            },
            "header": {
             "fill": {
              "color": "#C8D4E3"
             },
             "line": {
              "color": "white"
             }
            },
            "type": "table"
           }
          ]
         },
         "layout": {
          "annotationdefaults": {
           "arrowcolor": "#2a3f5f",
           "arrowhead": 0,
           "arrowwidth": 1
          },
          "autotypenumbers": "strict",
          "coloraxis": {
           "colorbar": {
            "outlinewidth": 0,
            "ticks": ""
           }
          },
          "colorscale": {
           "diverging": [
            [
             0,
             "#8e0152"
            ],
            [
             0.1,
             "#c51b7d"
            ],
            [
             0.2,
             "#de77ae"
            ],
            [
             0.3,
             "#f1b6da"
            ],
            [
             0.4,
             "#fde0ef"
            ],
            [
             0.5,
             "#f7f7f7"
            ],
            [
             0.6,
             "#e6f5d0"
            ],
            [
             0.7,
             "#b8e186"
            ],
            [
             0.8,
             "#7fbc41"
            ],
            [
             0.9,
             "#4d9221"
            ],
            [
             1,
             "#276419"
            ]
           ],
           "sequential": [
            [
             0,
             "#0d0887"
            ],
            [
             0.1111111111111111,
             "#46039f"
            ],
            [
             0.2222222222222222,
             "#7201a8"
            ],
            [
             0.3333333333333333,
             "#9c179e"
            ],
            [
             0.4444444444444444,
             "#bd3786"
            ],
            [
             0.5555555555555556,
             "#d8576b"
            ],
            [
             0.6666666666666666,
             "#ed7953"
            ],
            [
             0.7777777777777778,
             "#fb9f3a"
            ],
            [
             0.8888888888888888,
             "#fdca26"
            ],
            [
             1,
             "#f0f921"
            ]
           ],
           "sequentialminus": [
            [
             0,
             "#0d0887"
            ],
            [
             0.1111111111111111,
             "#46039f"
            ],
            [
             0.2222222222222222,
             "#7201a8"
            ],
            [
             0.3333333333333333,
             "#9c179e"
            ],
            [
             0.4444444444444444,
             "#bd3786"
            ],
            [
             0.5555555555555556,
             "#d8576b"
            ],
            [
             0.6666666666666666,
             "#ed7953"
            ],
            [
             0.7777777777777778,
             "#fb9f3a"
            ],
            [
             0.8888888888888888,
             "#fdca26"
            ],
            [
             1,
             "#f0f921"
            ]
           ]
          },
          "colorway": [
           "#636efa",
           "#EF553B",
           "#00cc96",
           "#ab63fa",
           "#FFA15A",
           "#19d3f3",
           "#FF6692",
           "#B6E880",
           "#FF97FF",
           "#FECB52"
          ],
          "font": {
           "color": "#2a3f5f"
          },
          "geo": {
           "bgcolor": "white",
           "lakecolor": "white",
           "landcolor": "#E5ECF6",
           "showlakes": true,
           "showland": true,
           "subunitcolor": "white"
          },
          "hoverlabel": {
           "align": "left"
          },
          "hovermode": "closest",
          "mapbox": {
           "style": "light"
          },
          "paper_bgcolor": "white",
          "plot_bgcolor": "#E5ECF6",
          "polar": {
           "angularaxis": {
            "gridcolor": "white",
            "linecolor": "white",
            "ticks": ""
           },
           "bgcolor": "#E5ECF6",
           "radialaxis": {
            "gridcolor": "white",
            "linecolor": "white",
            "ticks": ""
           }
          },
          "scene": {
           "xaxis": {
            "backgroundcolor": "#E5ECF6",
            "gridcolor": "white",
            "gridwidth": 2,
            "linecolor": "white",
            "showbackground": true,
            "ticks": "",
            "zerolinecolor": "white"
           },
           "yaxis": {
            "backgroundcolor": "#E5ECF6",
            "gridcolor": "white",
            "gridwidth": 2,
            "linecolor": "white",
            "showbackground": true,
            "ticks": "",
            "zerolinecolor": "white"
           },
           "zaxis": {
            "backgroundcolor": "#E5ECF6",
            "gridcolor": "white",
            "gridwidth": 2,
            "linecolor": "white",
            "showbackground": true,
            "ticks": "",
            "zerolinecolor": "white"
           }
          },
          "shapedefaults": {
           "line": {
            "color": "#2a3f5f"
           }
          },
          "ternary": {
           "aaxis": {
            "gridcolor": "white",
            "linecolor": "white",
            "ticks": ""
           },
           "baxis": {
            "gridcolor": "white",
            "linecolor": "white",
            "ticks": ""
           },
           "bgcolor": "#E5ECF6",
           "caxis": {
            "gridcolor": "white",
            "linecolor": "white",
            "ticks": ""
           }
          },
          "title": {
           "x": 0.05
          },
          "xaxis": {
           "automargin": true,
           "gridcolor": "white",
           "linecolor": "white",
           "ticks": "",
           "title": {
            "standoff": 15
           },
           "zerolinecolor": "white",
           "zerolinewidth": 2
          },
          "yaxis": {
           "automargin": true,
           "gridcolor": "white",
           "linecolor": "white",
           "ticks": "",
           "title": {
            "standoff": 15
           },
           "zerolinecolor": "white",
           "zerolinewidth": 2
          }
         }
        },
        "width": 2000,
        "xaxis": {
         "anchor": "y",
         "categoryorder": "total ascending",
         "domain": [
          0,
          1
         ],
         "title": {
          "text": "Port Name"
         }
        },
        "yaxis": {
         "anchor": "x",
         "domain": [
          0,
          1
         ],
         "title": {
          "text": "Statistic Approach Rank"
         }
        }
       }
      },
      "text/html": [
       "<div>                            <div id=\"dfbad093-50c0-4605-9e86-970566b411ff\" class=\"plotly-graph-div\" style=\"height:500px; width:2000px;\"></div>            <script type=\"text/javascript\">                require([\"plotly\"], function(Plotly) {                    window.PLOTLYENV=window.PLOTLYENV || {};                                    if (document.getElementById(\"dfbad093-50c0-4605-9e86-970566b411ff\")) {                    Plotly.newPlot(                        \"dfbad093-50c0-4605-9e86-970566b411ff\",                        [{\"hovertemplate\":\"Economy Label=Denmark<br>Port Name=%{x}<br>Statistic Approach Rank=%{y}<br>Number of port calls=%{marker.size}<extra></extra>\",\"legendgroup\":\"Denmark\",\"marker\":{\"color\":\"#636efa\",\"size\":[660,660,660,660],\"sizemode\":\"area\",\"sizeref\":90.995,\"symbol\":\"circle\"},\"mode\":\"markers\",\"name\":\"Denmark\",\"orientation\":\"v\",\"showlegend\":true,\"x\":[\"AARHUS\",\"COPENHAGEN\",\"FREDERICIA\",\"LAGOS (NIGERIA)\"],\"xaxis\":\"x\",\"y\":[43,142,138,358],\"yaxis\":\"y\",\"type\":\"scatter\"},{\"hovertemplate\":\"Economy Label=Australia<br>Port Name=%{x}<br>Statistic Approach Rank=%{y}<br>Number of port calls=%{marker.size}<extra></extra>\",\"legendgroup\":\"Australia\",\"marker\":{\"color\":\"#EF553B\",\"size\":[1884,1884,1884,1884,1884,1884,1836,1836],\"sizemode\":\"area\",\"sizeref\":90.995,\"symbol\":\"circle\"},\"mode\":\"markers\",\"name\":\"Australia\",\"orientation\":\"v\",\"showlegend\":true,\"x\":[\"ACAJUTLA\",\"BELL BAY\",\"BRISTOL\",\"FREETOWN\",\"MOJI\",\"PORT BOTANY\",\"ADELAIDE\",\"MELBOURNE\"],\"xaxis\":\"x\",\"y\":[249,163,277,319,123,327,257,294],\"yaxis\":\"y\",\"type\":\"scatter\"},{\"hovertemplate\":\"Economy Label=Spain<br>Port Name=%{x}<br>Statistic Approach Rank=%{y}<br>Number of port calls=%{marker.size}<extra></extra>\",\"legendgroup\":\"Spain\",\"marker\":{\"color\":\"#00cc96\",\"size\":[6939,6939,6939,6939,6939,6939,6939,6939,6939,6939,6939,6939,6939,7367,7367,7367,7367,7367,7367,7367,7367,7367,7367],\"sizemode\":\"area\",\"sizeref\":90.995,\"symbol\":\"circle\"},\"mode\":\"markers\",\"name\":\"Spain\",\"orientation\":\"v\",\"showlegend\":true,\"x\":[\"ALEXANDRIA (EGYPT)\",\"ALGIERS\",\"ALTAMIRA\",\"BARRANQUILLA\",\"BILBAO\",\"CAI LAN\",\"GENOA\",\"MANZANILLO (MEXICO)\",\"PORT LOUIS\",\"SANTO TOMAS DE CASTILLA\",\"TANJUNG PRIOK\",\"UMM QASR\",\"VENICE\",\"ALGECIRAS\",\"BARCELONA\",\"CORONEL\",\"SANTA CRUZ DE TENERIFE\",\"VALENCIA\",\"MALAGA\",\"VIGO\",\"TARRAGONA\",\"CADIZ\",\"ALICANTE\"],\"xaxis\":\"x\",\"y\":[221,318,98,169,243,74,196,145,346,201,66,294,295,10,19,49,88,180,140,138,157,217,222],\"yaxis\":\"y\",\"type\":\"scatter\"},{\"hovertemplate\":\"Economy Label=Italy<br>Port Name=%{x}<br>Statistic Approach Rank=%{y}<br>Number of port calls=%{marker.size}<extra></extra>\",\"legendgroup\":\"Italy\",\"marker\":{\"color\":\"#ab63fa\",\"size\":[3937,3937,3937,3937,3937,3937,3937,3937,3937,3937,3937,3937,3937,3937,3937,3937,3887,3887,3887,3887,3887,3887,3887,3887,3887],\"sizemode\":\"area\",\"sizeref\":90.995,\"symbol\":\"circle\"},\"mode\":\"markers\",\"name\":\"Italy\",\"orientation\":\"v\",\"showlegend\":true,\"x\":[\"ANCONA\",\"BATANGAS\",\"CASTELLON\",\"CHORNOMORSK\",\"GEMLIK\",\"GIJON\",\"LATAKIA\",\"LUANDA\",\"NEW ORLEANS\",\"PALERMO\",\"RIJEKA\",\"SAMSUN\",\"SEATTLE\",\"TOMAKOMAI\",\"TRIESTE\",\"VANCOUVER (CANADA)\",\"GIOIA TAURO\",\"SAVONA-VADO\",\"CIVITAVECCHIA\",\"RAVENNA\",\"CATANIA\",\"BARI\",\"TRAPANI\",\"NAPLES\",\"LA SPEZIA\"],\"xaxis\":\"x\",\"y\":[183,144,157,274,282,212,23,343,237,182,279,280,263,204,264,368,112,111,161,188,193,194,209,267,309],\"yaxis\":\"y\",\"type\":\"scatter\"},{\"hovertemplate\":\"Economy Label=Indonesia<br>Port Name=%{x}<br>Statistic Approach Rank=%{y}<br>Number of port calls=%{marker.size}<extra></extra>\",\"legendgroup\":\"Indonesia\",\"marker\":{\"color\":\"#FFA15A\",\"size\":[7303,7303,7303,7303,7303,7705],\"sizemode\":\"area\",\"sizeref\":90.995,\"symbol\":\"circle\"},\"mode\":\"markers\",\"name\":\"Indonesia\",\"orientation\":\"v\",\"showlegend\":true,\"x\":[\"BELAWAN\",\"PANJANG\",\"TANGER MEDITERRANEAN\",\"TANJUNG PELEPAS\",\"TANJUNG PERAK\",\"TANJUNG EMAS\"],\"xaxis\":\"x\",\"y\":[202,229,15,11,172,144],\"yaxis\":\"y\",\"type\":\"scatter\"},{\"hovertemplate\":\"Economy Label=France<br>Port Name=%{x}<br>Statistic Approach Rank=%{y}<br>Number of port calls=%{marker.size}<extra></extra>\",\"legendgroup\":\"France\",\"marker\":{\"color\":\"#19d3f3\",\"size\":[2215,2215,2215,2215,2215,2215,2215,2215,2215,2215,2215,2215,2281,2281,2281,2281,2281,2281,2281,2281,2281],\"sizemode\":\"area\",\"sizeref\":90.995,\"symbol\":\"circle\"},\"mode\":\"markers\",\"name\":\"France\",\"orientation\":\"v\",\"showlegend\":true,\"x\":[\"BORUSAN\",\"DUNKIRK\",\"FORT\\u2212DE\\u2212FRANCE\",\"GUAYAQUIL\",\"LIVORNO\",\"MEJILLONES\",\"MIAMI\",\"NEMRUT BAY\",\"OAKLAND\",\"PAPEETE\",\"POINTE-NOIRE\",\"PORT OF SPAIN\",\"NANTES SAINT-NAZAIRE\",\"POINTE-\\u00c0-PITRE\",\"FORT-DE-FRANCE\",\"GUSTAVIA\",\"BORDEAUX\",\"LE HAVRE\",\"MAYOTTE\",\"MARSEILLE\",\"PORT R\\u00c9UNION\"],\"xaxis\":\"x\",\"y\":[195,305,112,161,332,311,114,326,334,167,362,248,104,107,127,190,223,286,293,297,331],\"yaxis\":\"y\",\"type\":\"scatter\"},{\"hovertemplate\":\"Economy Label=Germany<br>Port Name=%{x}<br>Statistic Approach Rank=%{y}<br>Number of port calls=%{marker.size}<extra></extra>\",\"legendgroup\":\"Germany\",\"marker\":{\"color\":\"#FF6692\",\"size\":[3589,3589,3589,3546,3546,3546],\"sizemode\":\"area\",\"sizeref\":90.995,\"symbol\":\"circle\"},\"mode\":\"markers\",\"name\":\"Germany\",\"orientation\":\"v\",\"showlegend\":true,\"x\":[\"BRISBANE\",\"HAMAD PORT\",\"WELLINGTON\",\"BREMERHAVEN\",\"HAMBURG\",\"WILHELMSHAVEN\"],\"xaxis\":\"x\",\"y\":[234,191,141,54,258,204],\"yaxis\":\"y\",\"type\":\"scatter\"},{\"hovertemplate\":\"Economy Label=United Kingdom<br>Port Name=%{x}<br>Statistic Approach Rank=%{y}<br>Number of port calls=%{marker.size}<extra></extra>\",\"legendgroup\":\"United Kingdom\",\"marker\":{\"color\":\"#B6E880\",\"size\":[3760,3760,3760,3760,3760,3847,3847],\"sizemode\":\"area\",\"sizeref\":90.995,\"symbol\":\"circle\"},\"mode\":\"markers\",\"name\":\"United Kingdom\",\"orientation\":\"v\",\"showlegend\":true,\"x\":[\"BUENAVENTURA\",\"ENSENADA\",\"LOS ANGELES\",\"LYTTELTON\",\"SOUTHAMPTON\",\"LIVERPOOL (UNITED KINGDOM)\",\"FELIXSTOWE\"],\"xaxis\":\"x\",\"y\":[71,125,369,186,317,325,336],\"yaxis\":\"y\",\"type\":\"scatter\"},{\"hovertemplate\":\"Economy Label=China<br>Port Name=%{x}<br>Statistic Approach Rank=%{y}<br>Number of port calls=%{marker.size}<extra></extra>\",\"legendgroup\":\"China\",\"marker\":{\"color\":\"#FF97FF\",\"size\":[35750,35750,35750,35750,35750,35750,35750,35750,35750,35750,35750,35750,35750,35750,35750,35750,35750,36398,36398,36398,36398,36398,36398,36398,36398,36398,36398],\"sizemode\":\"area\",\"sizeref\":90.995,\"symbol\":\"circle\"},\"mode\":\"markers\",\"name\":\"China\",\"orientation\":\"v\",\"showlegend\":true,\"x\":[\"CHATTOGRAM\",\"DAKAR\",\"DAMIETTA\",\"FREMANTLE\",\"GRANGEMOUTH\",\"LONDON\",\"NOUAKCHOTT\",\"QINZHOU\",\"QUY NHON\",\"SHANTOU\",\"SHEKOU\",\"SHIMIZU\",\"THESSALONIKI\",\"WILMINGTON (NORTH CAROLINA, USA)\",\"YANGSHAN\",\"YANTIAN\",\"ZHOUSHAN\",\"NINGBO\",\"GUANGZHOU\",\"CHIWAN\",\"TIANJIN\",\"QINGDAO\",\"MAWAN\",\"XIAMEN\",\"DALIAN\",\"DA CHAN BAY TERMINAL ONE\",\"SHANGHAI\"],\"xaxis\":\"x\",\"y\":[298,120,297,21,6,355,292,148,104,117,5,24,284,67,10,17,8,7,9,20,26,33,110,40,81,122,318],\"yaxis\":\"y\",\"type\":\"scatter\"},{\"hovertemplate\":\"Economy Label=Sweden<br>Port Name=%{x}<br>Statistic Approach Rank=%{y}<br>Number of port calls=%{marker.size}<extra></extra>\",\"legendgroup\":\"Sweden\",\"marker\":{\"color\":\"#FECB52\",\"size\":[1055,1055,1055,1010,1010],\"sizemode\":\"area\",\"sizeref\":90.995,\"symbol\":\"circle\"},\"mode\":\"markers\",\"name\":\"Sweden\",\"orientation\":\"v\",\"showlegend\":true,\"x\":[\"FUZHOU\",\"HELSINGBORG\",\"NOUMEA\",\"NORRKOPING\",\"GAVLE\"],\"xaxis\":\"x\",\"y\":[214,185,124,184,256],\"yaxis\":\"y\",\"type\":\"scatter\"},{\"hovertemplate\":\"Economy Label=Japan<br>Port Name=%{x}<br>Statistic Approach Rank=%{y}<br>Number of port calls=%{marker.size}<extra></extra>\",\"legendgroup\":\"Japan\",\"marker\":{\"color\":\"#636efa\",\"size\":[19174,19174,19174,19174,19174,19174,19174,19174,19174,19174,19174,19174,19174,18108,18108,18108],\"sizemode\":\"area\",\"sizeref\":90.995,\"symbol\":\"circle\"},\"mode\":\"markers\",\"name\":\"Japan\",\"orientation\":\"v\",\"showlegend\":true,\"x\":[\"HAIPHONG\",\"KINGSTON (JAMAICA)\",\"KRISTIANSAND\",\"MUNDRA\",\"NASSAU\",\"NELSON\",\"OMAEZAKI\",\"OSAKA\",\"SHUAIBA\",\"TOAMASINA\",\"TOKYO\",\"YOKKAICHI\",\"YOKOHAMA\",\"KOBE\",\"NAGOYA\",\"KAWASAKI\"],\"xaxis\":\"x\",\"y\":[116,266,296,44,189,206,121,77,228,219,54,81,1,37,43,249],\"yaxis\":\"y\",\"type\":\"scatter\"},{\"hovertemplate\":\"Economy Label=Canada<br>Port Name=%{x}<br>Statistic Approach Rank=%{y}<br>Number of port calls=%{marker.size}<extra></extra>\",\"legendgroup\":\"Canada\",\"marker\":{\"color\":\"#EF553B\",\"size\":[1001,1001,1001,1001,1001,997,997,997],\"sizemode\":\"area\",\"sizeref\":90.995,\"symbol\":\"circle\"},\"mode\":\"markers\",\"name\":\"Canada\",\"orientation\":\"v\",\"showlegend\":true,\"x\":[\"HAKATA\",\"NAHA\",\"PRINCE RUPERT\",\"SALERNO\",\"VALPARAISO\",\"HALIFAX\",\"SAINT JOHN\",\"MONTREAL\"],\"xaxis\":\"x\",\"y\":[25,111,323,168,102,18,235,313],\"yaxis\":\"y\",\"type\":\"scatter\"},{\"hovertemplate\":\"Economy Label=Greece<br>Port Name=%{x}<br>Statistic Approach Rank=%{y}<br>Number of port calls=%{marker.size}<extra></extra>\",\"legendgroup\":\"Greece\",\"marker\":{\"color\":\"#00cc96\",\"size\":[1908,1908,1908,1781],\"sizemode\":\"area\",\"sizeref\":90.995,\"symbol\":\"circle\"},\"mode\":\"markers\",\"name\":\"Greece\",\"orientation\":\"v\",\"showlegend\":true,\"x\":[\"HONG KONG, HONG KONG SAR, CHINA\",\"PIRAEUS\",\"TEMA\",\"HERAKLION\"],\"xaxis\":\"x\",\"y\":[242,89,353,212],\"yaxis\":\"y\",\"type\":\"scatter\"},{\"hovertemplate\":\"Economy Label=Norway<br>Port Name=%{x}<br>Statistic Approach Rank=%{y}<br>Number of port calls=%{marker.size}<extra></extra>\",\"legendgroup\":\"Norway\",\"marker\":{\"color\":\"#ab63fa\",\"size\":[1562,1562,1667],\"sizemode\":\"area\",\"sizeref\":90.995,\"symbol\":\"circle\"},\"mode\":\"markers\",\"name\":\"Norway\",\"orientation\":\"v\",\"showlegend\":true,\"x\":[\"LIANYUNGANG\",\"OSLO\",\"LARVIK\"],\"xaxis\":\"x\",\"y\":[178,91,206],\"yaxis\":\"y\",\"type\":\"scatter\"},{\"hovertemplate\":\"Economy Label=Croatia<br>Port Name=%{x}<br>Statistic Approach Rank=%{y}<br>Number of port calls=%{marker.size}<extra></extra>\",\"legendgroup\":\"Croatia\",\"marker\":{\"color\":\"#FFA15A\",\"size\":[233],\"sizemode\":\"area\",\"sizeref\":90.995,\"symbol\":\"circle\"},\"mode\":\"markers\",\"name\":\"Croatia\",\"orientation\":\"v\",\"showlegend\":true,\"x\":[\"RIO GRANDE (BRAZIL)\"],\"xaxis\":\"x\",\"y\":[47],\"yaxis\":\"y\",\"type\":\"scatter\"},{\"hovertemplate\":\"Economy Label=United States of America<br>Port Name=%{x}<br>Statistic Approach Rank=%{y}<br>Number of port calls=%{marker.size}<extra></extra>\",\"legendgroup\":\"United States of America\",\"marker\":{\"color\":\"#19d3f3\",\"size\":[9604,9604,9604,9604,9604,9604,9604,9604,9604,9604,9604,9604,9604,9604,9604,9604,9604,9604,9604],\"sizemode\":\"area\",\"sizeref\":90.995,\"symbol\":\"circle\"},\"mode\":\"markers\",\"name\":\"United States of America\",\"orientation\":\"v\",\"showlegend\":true,\"x\":[\"PORT OF VIRGINIA\",\"WILMINGTON (NORTH CAROLINA)\",\"PHILADELPHIA\",\"BALBOA\",\"TAMPA\",\"PORT TAMPA BAY\",\"JACKSONVILLE\",\"PORT EVERGLADES\",\"BOSTON (United States of America)\",\"HOUSTON\",\"CHARLESTON\",\"MOBILE\",\"SAN VICENTE\",\"NEW YORK AND NEW JERSEY\",\"HUENEME\",\"PORT VICTORIA\",\"TACOMA\",\"SAVANNAH\",\"LONG BEACH\"],\"xaxis\":\"x\",\"y\":[27,57,58,55,62,66,94,102,115,123,187,150,162,251,274,298,341,367,370],\"yaxis\":\"y\",\"type\":\"scatter\"}],                        {\"template\":{\"data\":{\"histogram2dcontour\":[{\"type\":\"histogram2dcontour\",\"colorbar\":{\"outlinewidth\":0,\"ticks\":\"\"},\"colorscale\":[[0.0,\"#0d0887\"],[0.1111111111111111,\"#46039f\"],[0.2222222222222222,\"#7201a8\"],[0.3333333333333333,\"#9c179e\"],[0.4444444444444444,\"#bd3786\"],[0.5555555555555556,\"#d8576b\"],[0.6666666666666666,\"#ed7953\"],[0.7777777777777778,\"#fb9f3a\"],[0.8888888888888888,\"#fdca26\"],[1.0,\"#f0f921\"]]}],\"choropleth\":[{\"type\":\"choropleth\",\"colorbar\":{\"outlinewidth\":0,\"ticks\":\"\"}}],\"histogram2d\":[{\"type\":\"histogram2d\",\"colorbar\":{\"outlinewidth\":0,\"ticks\":\"\"},\"colorscale\":[[0.0,\"#0d0887\"],[0.1111111111111111,\"#46039f\"],[0.2222222222222222,\"#7201a8\"],[0.3333333333333333,\"#9c179e\"],[0.4444444444444444,\"#bd3786\"],[0.5555555555555556,\"#d8576b\"],[0.6666666666666666,\"#ed7953\"],[0.7777777777777778,\"#fb9f3a\"],[0.8888888888888888,\"#fdca26\"],[1.0,\"#f0f921\"]]}],\"heatmap\":[{\"type\":\"heatmap\",\"colorbar\":{\"outlinewidth\":0,\"ticks\":\"\"},\"colorscale\":[[0.0,\"#0d0887\"],[0.1111111111111111,\"#46039f\"],[0.2222222222222222,\"#7201a8\"],[0.3333333333333333,\"#9c179e\"],[0.4444444444444444,\"#bd3786\"],[0.5555555555555556,\"#d8576b\"],[0.6666666666666666,\"#ed7953\"],[0.7777777777777778,\"#fb9f3a\"],[0.8888888888888888,\"#fdca26\"],[1.0,\"#f0f921\"]]}],\"heatmapgl\":[{\"type\":\"heatmapgl\",\"colorbar\":{\"outlinewidth\":0,\"ticks\":\"\"},\"colorscale\":[[0.0,\"#0d0887\"],[0.1111111111111111,\"#46039f\"],[0.2222222222222222,\"#7201a8\"],[0.3333333333333333,\"#9c179e\"],[0.4444444444444444,\"#bd3786\"],[0.5555555555555556,\"#d8576b\"],[0.6666666666666666,\"#ed7953\"],[0.7777777777777778,\"#fb9f3a\"],[0.8888888888888888,\"#fdca26\"],[1.0,\"#f0f921\"]]}],\"contourcarpet\":[{\"type\":\"contourcarpet\",\"colorbar\":{\"outlinewidth\":0,\"ticks\":\"\"}}],\"contour\":[{\"type\":\"contour\",\"colorbar\":{\"outlinewidth\":0,\"ticks\":\"\"},\"colorscale\":[[0.0,\"#0d0887\"],[0.1111111111111111,\"#46039f\"],[0.2222222222222222,\"#7201a8\"],[0.3333333333333333,\"#9c179e\"],[0.4444444444444444,\"#bd3786\"],[0.5555555555555556,\"#d8576b\"],[0.6666666666666666,\"#ed7953\"],[0.7777777777777778,\"#fb9f3a\"],[0.8888888888888888,\"#fdca26\"],[1.0,\"#f0f921\"]]}],\"surface\":[{\"type\":\"surface\",\"colorbar\":{\"outlinewidth\":0,\"ticks\":\"\"},\"colorscale\":[[0.0,\"#0d0887\"],[0.1111111111111111,\"#46039f\"],[0.2222222222222222,\"#7201a8\"],[0.3333333333333333,\"#9c179e\"],[0.4444444444444444,\"#bd3786\"],[0.5555555555555556,\"#d8576b\"],[0.6666666666666666,\"#ed7953\"],[0.7777777777777778,\"#fb9f3a\"],[0.8888888888888888,\"#fdca26\"],[1.0,\"#f0f921\"]]}],\"mesh3d\":[{\"type\":\"mesh3d\",\"colorbar\":{\"outlinewidth\":0,\"ticks\":\"\"}}],\"scatter\":[{\"fillpattern\":{\"fillmode\":\"overlay\",\"size\":10,\"solidity\":0.2},\"type\":\"scatter\"}],\"parcoords\":[{\"type\":\"parcoords\",\"line\":{\"colorbar\":{\"outlinewidth\":0,\"ticks\":\"\"}}}],\"scatterpolargl\":[{\"type\":\"scatterpolargl\",\"marker\":{\"colorbar\":{\"outlinewidth\":0,\"ticks\":\"\"}}}],\"bar\":[{\"error_x\":{\"color\":\"#2a3f5f\"},\"error_y\":{\"color\":\"#2a3f5f\"},\"marker\":{\"line\":{\"color\":\"#E5ECF6\",\"width\":0.5},\"pattern\":{\"fillmode\":\"overlay\",\"size\":10,\"solidity\":0.2}},\"type\":\"bar\"}],\"scattergeo\":[{\"type\":\"scattergeo\",\"marker\":{\"colorbar\":{\"outlinewidth\":0,\"ticks\":\"\"}}}],\"scatterpolar\":[{\"type\":\"scatterpolar\",\"marker\":{\"colorbar\":{\"outlinewidth\":0,\"ticks\":\"\"}}}],\"histogram\":[{\"marker\":{\"pattern\":{\"fillmode\":\"overlay\",\"size\":10,\"solidity\":0.2}},\"type\":\"histogram\"}],\"scattergl\":[{\"type\":\"scattergl\",\"marker\":{\"colorbar\":{\"outlinewidth\":0,\"ticks\":\"\"}}}],\"scatter3d\":[{\"type\":\"scatter3d\",\"line\":{\"colorbar\":{\"outlinewidth\":0,\"ticks\":\"\"}},\"marker\":{\"colorbar\":{\"outlinewidth\":0,\"ticks\":\"\"}}}],\"scattermapbox\":[{\"type\":\"scattermapbox\",\"marker\":{\"colorbar\":{\"outlinewidth\":0,\"ticks\":\"\"}}}],\"scatterternary\":[{\"type\":\"scatterternary\",\"marker\":{\"colorbar\":{\"outlinewidth\":0,\"ticks\":\"\"}}}],\"scattercarpet\":[{\"type\":\"scattercarpet\",\"marker\":{\"colorbar\":{\"outlinewidth\":0,\"ticks\":\"\"}}}],\"carpet\":[{\"aaxis\":{\"endlinecolor\":\"#2a3f5f\",\"gridcolor\":\"white\",\"linecolor\":\"white\",\"minorgridcolor\":\"white\",\"startlinecolor\":\"#2a3f5f\"},\"baxis\":{\"endlinecolor\":\"#2a3f5f\",\"gridcolor\":\"white\",\"linecolor\":\"white\",\"minorgridcolor\":\"white\",\"startlinecolor\":\"#2a3f5f\"},\"type\":\"carpet\"}],\"table\":[{\"cells\":{\"fill\":{\"color\":\"#EBF0F8\"},\"line\":{\"color\":\"white\"}},\"header\":{\"fill\":{\"color\":\"#C8D4E3\"},\"line\":{\"color\":\"white\"}},\"type\":\"table\"}],\"barpolar\":[{\"marker\":{\"line\":{\"color\":\"#E5ECF6\",\"width\":0.5},\"pattern\":{\"fillmode\":\"overlay\",\"size\":10,\"solidity\":0.2}},\"type\":\"barpolar\"}],\"pie\":[{\"automargin\":true,\"type\":\"pie\"}]},\"layout\":{\"autotypenumbers\":\"strict\",\"colorway\":[\"#636efa\",\"#EF553B\",\"#00cc96\",\"#ab63fa\",\"#FFA15A\",\"#19d3f3\",\"#FF6692\",\"#B6E880\",\"#FF97FF\",\"#FECB52\"],\"font\":{\"color\":\"#2a3f5f\"},\"hovermode\":\"closest\",\"hoverlabel\":{\"align\":\"left\"},\"paper_bgcolor\":\"white\",\"plot_bgcolor\":\"#E5ECF6\",\"polar\":{\"bgcolor\":\"#E5ECF6\",\"angularaxis\":{\"gridcolor\":\"white\",\"linecolor\":\"white\",\"ticks\":\"\"},\"radialaxis\":{\"gridcolor\":\"white\",\"linecolor\":\"white\",\"ticks\":\"\"}},\"ternary\":{\"bgcolor\":\"#E5ECF6\",\"aaxis\":{\"gridcolor\":\"white\",\"linecolor\":\"white\",\"ticks\":\"\"},\"baxis\":{\"gridcolor\":\"white\",\"linecolor\":\"white\",\"ticks\":\"\"},\"caxis\":{\"gridcolor\":\"white\",\"linecolor\":\"white\",\"ticks\":\"\"}},\"coloraxis\":{\"colorbar\":{\"outlinewidth\":0,\"ticks\":\"\"}},\"colorscale\":{\"sequential\":[[0.0,\"#0d0887\"],[0.1111111111111111,\"#46039f\"],[0.2222222222222222,\"#7201a8\"],[0.3333333333333333,\"#9c179e\"],[0.4444444444444444,\"#bd3786\"],[0.5555555555555556,\"#d8576b\"],[0.6666666666666666,\"#ed7953\"],[0.7777777777777778,\"#fb9f3a\"],[0.8888888888888888,\"#fdca26\"],[1.0,\"#f0f921\"]],\"sequentialminus\":[[0.0,\"#0d0887\"],[0.1111111111111111,\"#46039f\"],[0.2222222222222222,\"#7201a8\"],[0.3333333333333333,\"#9c179e\"],[0.4444444444444444,\"#bd3786\"],[0.5555555555555556,\"#d8576b\"],[0.6666666666666666,\"#ed7953\"],[0.7777777777777778,\"#fb9f3a\"],[0.8888888888888888,\"#fdca26\"],[1.0,\"#f0f921\"]],\"diverging\":[[0,\"#8e0152\"],[0.1,\"#c51b7d\"],[0.2,\"#de77ae\"],[0.3,\"#f1b6da\"],[0.4,\"#fde0ef\"],[0.5,\"#f7f7f7\"],[0.6,\"#e6f5d0\"],[0.7,\"#b8e186\"],[0.8,\"#7fbc41\"],[0.9,\"#4d9221\"],[1,\"#276419\"]]},\"xaxis\":{\"gridcolor\":\"white\",\"linecolor\":\"white\",\"ticks\":\"\",\"title\":{\"standoff\":15},\"zerolinecolor\":\"white\",\"automargin\":true,\"zerolinewidth\":2},\"yaxis\":{\"gridcolor\":\"white\",\"linecolor\":\"white\",\"ticks\":\"\",\"title\":{\"standoff\":15},\"zerolinecolor\":\"white\",\"automargin\":true,\"zerolinewidth\":2},\"scene\":{\"xaxis\":{\"backgroundcolor\":\"#E5ECF6\",\"gridcolor\":\"white\",\"linecolor\":\"white\",\"showbackground\":true,\"ticks\":\"\",\"zerolinecolor\":\"white\",\"gridwidth\":2},\"yaxis\":{\"backgroundcolor\":\"#E5ECF6\",\"gridcolor\":\"white\",\"linecolor\":\"white\",\"showbackground\":true,\"ticks\":\"\",\"zerolinecolor\":\"white\",\"gridwidth\":2},\"zaxis\":{\"backgroundcolor\":\"#E5ECF6\",\"gridcolor\":\"white\",\"linecolor\":\"white\",\"showbackground\":true,\"ticks\":\"\",\"zerolinecolor\":\"white\",\"gridwidth\":2}},\"shapedefaults\":{\"line\":{\"color\":\"#2a3f5f\"}},\"annotationdefaults\":{\"arrowcolor\":\"#2a3f5f\",\"arrowhead\":0,\"arrowwidth\":1},\"geo\":{\"bgcolor\":\"white\",\"landcolor\":\"#E5ECF6\",\"subunitcolor\":\"white\",\"showland\":true,\"showlakes\":true,\"lakecolor\":\"white\"},\"title\":{\"x\":0.05},\"mapbox\":{\"style\":\"light\"}}},\"xaxis\":{\"anchor\":\"y\",\"domain\":[0.0,1.0],\"title\":{\"text\":\"Port Name\"},\"categoryorder\":\"total ascending\"},\"yaxis\":{\"anchor\":\"x\",\"domain\":[0.0,1.0],\"title\":{\"text\":\"Statistic Approach Rank\"}},\"legend\":{\"title\":{\"text\":\"Economy Label\"},\"tracegroupgap\":0,\"itemsizing\":\"constant\"},\"margin\":{\"t\":60},\"height\":500,\"width\":2000},                        {\"responsive\": true}                    ).then(function(){\n",
       "                            \n",
       "var gd = document.getElementById('dfbad093-50c0-4605-9e86-970566b411ff');\n",
       "var x = new MutationObserver(function (mutations, observer) {{\n",
       "        var display = window.getComputedStyle(gd).display;\n",
       "        if (!display || display === 'none') {{\n",
       "            console.log([gd, 'removed!']);\n",
       "            Plotly.purge(gd);\n",
       "            observer.disconnect();\n",
       "        }}\n",
       "}});\n",
       "\n",
       "// Listen for the removal of the full notebook cells\n",
       "var notebookContainer = gd.closest('#notebook-container');\n",
       "if (notebookContainer) {{\n",
       "    x.observe(notebookContainer, {childList: true});\n",
       "}}\n",
       "\n",
       "// Listen for the clearing of the current output cell\n",
       "var outputEl = gd.closest('.output');\n",
       "if (outputEl) {{\n",
       "    x.observe(outputEl, {childList: true});\n",
       "}}\n",
       "\n",
       "                        })                };                });            </script>        </div>"
      ]
     },
     "metadata": {},
     "output_type": "display_data"
    }
   ],
   "source": [
    "# CPPI by bubble chart with size = number of port calls\n",
    "size = output[\"Number of port calls\"]\n",
    "fig = px.scatter(output, x=\"Port Name\", y=\"Statistic Approach Rank\",\n",
    "                 size=\"Number of port calls\", color=\"Economy Label\", hover_data = [\"Port Name\"],\n",
    "                 width = 2000, height = 500\n",
    "                )\n",
    "fig.update_xaxes(categoryorder=\"total ascending\")\n",
    "\n",
    "fig.show()"
   ]
  },
  {
   "cell_type": "code",
   "execution_count": 46,
   "metadata": {},
   "outputs": [
    {
     "data": {
      "application/vnd.plotly.v1+json": {
       "config": {
        "plotlyServerURL": "https://plot.ly"
       },
       "data": [
        {
         "alignmentgroup": "True",
         "customdata": [
          [
           "ACAJUTLA",
           2020
          ],
          [
           "BELL BAY",
           2020
          ],
          [
           "BRISTOL",
           2020
          ],
          [
           "FREETOWN",
           2020
          ],
          [
           "MOJI",
           2020
          ],
          [
           "PORT BOTANY",
           2020
          ],
          [
           "ADELAIDE",
           2021
          ],
          [
           "MELBOURNE",
           2021
          ]
         ],
         "hovertemplate": "Economy Label=Australia<br>Statistic Approach Rank=%{x}<br>Median time in port (days)=%{y}<br>Port Name=%{customdata[0]}<br>Year=%{customdata[1]}<extra></extra>",
         "legendgroup": "Australia",
         "marker": {
          "color": "#636efa",
          "pattern": {
           "shape": ""
          }
         },
         "name": "Australia",
         "offsetgroup": "Australia",
         "orientation": "v",
         "showlegend": true,
         "textposition": "auto",
         "type": "bar",
         "x": [
          249,
          163,
          277,
          319,
          123,
          327,
          257,
          294
         ],
         "xaxis": "x",
         "y": [
          1.3083,
          1.3083,
          1.3083,
          1.3083,
          1.3083,
          1.3083,
          1.4583,
          1.4583
         ],
         "yaxis": "y"
        },
        {
         "alignmentgroup": "True",
         "customdata": [
          [
           "HAKATA",
           2020
          ],
          [
           "NAHA",
           2020
          ],
          [
           "PRINCE RUPERT",
           2020
          ],
          [
           "SALERNO",
           2020
          ],
          [
           "VALPARAISO",
           2020
          ],
          [
           "HALIFAX",
           2021
          ],
          [
           "SAINT JOHN",
           2021
          ],
          [
           "MONTREAL",
           2021
          ]
         ],
         "hovertemplate": "Economy Label=Canada<br>Statistic Approach Rank=%{x}<br>Median time in port (days)=%{y}<br>Port Name=%{customdata[0]}<br>Year=%{customdata[1]}<extra></extra>",
         "legendgroup": "Canada",
         "marker": {
          "color": "#EF553B",
          "pattern": {
           "shape": ""
          }
         },
         "name": "Canada",
         "offsetgroup": "Canada",
         "orientation": "v",
         "showlegend": true,
         "textposition": "auto",
         "type": "bar",
         "x": [
          25,
          111,
          323,
          168,
          102,
          18,
          235,
          313
         ],
         "xaxis": "x",
         "y": [
          1.6229,
          1.6229,
          1.6229,
          1.6229,
          1.6229,
          1.8233,
          1.8233,
          1.8233
         ],
         "yaxis": "y"
        },
        {
         "alignmentgroup": "True",
         "customdata": [
          [
           "CHATTOGRAM",
           2020
          ],
          [
           "DAKAR",
           2020
          ],
          [
           "DAMIETTA",
           2020
          ],
          [
           "FREMANTLE",
           2020
          ],
          [
           "GRANGEMOUTH",
           2020
          ],
          [
           "LONDON",
           2020
          ],
          [
           "NOUAKCHOTT",
           2020
          ],
          [
           "QINZHOU",
           2020
          ],
          [
           "QUY NHON",
           2020
          ],
          [
           "SHANTOU",
           2020
          ],
          [
           "SHEKOU",
           2020
          ],
          [
           "SHIMIZU",
           2020
          ],
          [
           "THESSALONIKI",
           2020
          ],
          [
           "WILMINGTON (NORTH CAROLINA, USA)",
           2020
          ],
          [
           "YANGSHAN",
           2020
          ],
          [
           "YANTIAN",
           2020
          ],
          [
           "ZHOUSHAN",
           2020
          ],
          [
           "NINGBO",
           2021
          ],
          [
           "GUANGZHOU",
           2021
          ],
          [
           "CHIWAN",
           2021
          ],
          [
           "TIANJIN",
           2021
          ],
          [
           "QINGDAO",
           2021
          ],
          [
           "MAWAN",
           2021
          ],
          [
           "XIAMEN",
           2021
          ],
          [
           "DALIAN",
           2021
          ],
          [
           "DA CHAN BAY TERMINAL ONE",
           2021
          ],
          [
           "SHANGHAI",
           2021
          ]
         ],
         "hovertemplate": "Economy Label=China<br>Statistic Approach Rank=%{x}<br>Median time in port (days)=%{y}<br>Port Name=%{customdata[0]}<br>Year=%{customdata[1]}<extra></extra>",
         "legendgroup": "China",
         "marker": {
          "color": "#00cc96",
          "pattern": {
           "shape": ""
          }
         },
         "name": "China",
         "offsetgroup": "China",
         "orientation": "v",
         "showlegend": true,
         "textposition": "auto",
         "type": "bar",
         "x": [
          298,
          120,
          297,
          21,
          6,
          355,
          292,
          148,
          104,
          117,
          5,
          24,
          284,
          67,
          10,
          17,
          8,
          7,
          9,
          20,
          26,
          33,
          110,
          40,
          81,
          122,
          318
         ],
         "xaxis": "x",
         "y": [
          0.5951,
          0.5951,
          0.5951,
          0.5951,
          0.5951,
          0.5951,
          0.5951,
          0.5951,
          0.5951,
          0.5951,
          0.5951,
          0.5951,
          0.5951,
          0.5951,
          0.5951,
          0.5951,
          0.5951,
          0.6806,
          0.6806,
          0.6806,
          0.6806,
          0.6806,
          0.6806,
          0.6806,
          0.6806,
          0.6806,
          0.6806
         ],
         "yaxis": "y"
        },
        {
         "alignmentgroup": "True",
         "customdata": [
          [
           "RIO GRANDE (BRAZIL)",
           2020
          ]
         ],
         "hovertemplate": "Economy Label=Croatia<br>Statistic Approach Rank=%{x}<br>Median time in port (days)=%{y}<br>Port Name=%{customdata[0]}<br>Year=%{customdata[1]}<extra></extra>",
         "legendgroup": "Croatia",
         "marker": {
          "color": "#ab63fa",
          "pattern": {
           "shape": ""
          }
         },
         "name": "Croatia",
         "offsetgroup": "Croatia",
         "orientation": "v",
         "showlegend": true,
         "textposition": "auto",
         "type": "bar",
         "x": [
          47
         ],
         "xaxis": "x",
         "y": [
          0.6507
         ],
         "yaxis": "y"
        },
        {
         "alignmentgroup": "True",
         "customdata": [
          [
           "AARHUS",
           2020
          ],
          [
           "COPENHAGEN",
           2020
          ],
          [
           "FREDERICIA",
           2020
          ],
          [
           "LAGOS (NIGERIA)",
           2020
          ]
         ],
         "hovertemplate": "Economy Label=Denmark<br>Statistic Approach Rank=%{x}<br>Median time in port (days)=%{y}<br>Port Name=%{customdata[0]}<br>Year=%{customdata[1]}<extra></extra>",
         "legendgroup": "Denmark",
         "marker": {
          "color": "#FFA15A",
          "pattern": {
           "shape": ""
          }
         },
         "name": "Denmark",
         "offsetgroup": "Denmark",
         "orientation": "v",
         "showlegend": true,
         "textposition": "auto",
         "type": "bar",
         "x": [
          43,
          142,
          138,
          358
         ],
         "xaxis": "x",
         "y": [
          0.4458,
          0.4458,
          0.4458,
          0.4458
         ],
         "yaxis": "y"
        },
        {
         "alignmentgroup": "True",
         "customdata": [
          [
           "BORUSAN",
           2020
          ],
          [
           "DUNKIRK",
           2020
          ],
          [
           "FORT−DE−FRANCE",
           2020
          ],
          [
           "GUAYAQUIL",
           2020
          ],
          [
           "LIVORNO",
           2020
          ],
          [
           "MEJILLONES",
           2020
          ],
          [
           "MIAMI",
           2020
          ],
          [
           "NEMRUT BAY",
           2020
          ],
          [
           "OAKLAND",
           2020
          ],
          [
           "PAPEETE",
           2020
          ],
          [
           "POINTE-NOIRE",
           2020
          ],
          [
           "PORT OF SPAIN",
           2020
          ],
          [
           "NANTES SAINT-NAZAIRE",
           2021
          ],
          [
           "POINTE-À-PITRE",
           2021
          ],
          [
           "FORT-DE-FRANCE",
           2021
          ],
          [
           "GUSTAVIA",
           2021
          ],
          [
           "BORDEAUX",
           2021
          ],
          [
           "LE HAVRE",
           2021
          ],
          [
           "MAYOTTE",
           2021
          ],
          [
           "MARSEILLE",
           2021
          ],
          [
           "PORT RÉUNION",
           2021
          ]
         ],
         "hovertemplate": "Economy Label=France<br>Statistic Approach Rank=%{x}<br>Median time in port (days)=%{y}<br>Port Name=%{customdata[0]}<br>Year=%{customdata[1]}<extra></extra>",
         "legendgroup": "France",
         "marker": {
          "color": "#19d3f3",
          "pattern": {
           "shape": ""
          }
         },
         "name": "France",
         "offsetgroup": "France",
         "orientation": "v",
         "showlegend": true,
         "textposition": "auto",
         "type": "bar",
         "x": [
          195,
          305,
          112,
          161,
          332,
          311,
          114,
          326,
          334,
          167,
          362,
          248,
          104,
          107,
          127,
          190,
          223,
          286,
          293,
          297,
          331
         ],
         "xaxis": "x",
         "y": [
          0.8062,
          0.8062,
          0.8062,
          0.8062,
          0.8062,
          0.8062,
          0.8062,
          0.8062,
          0.8062,
          0.8062,
          0.8062,
          0.8062,
          0.9333,
          0.9333,
          0.9333,
          0.9333,
          0.9333,
          0.9333,
          0.9333,
          0.9333,
          0.9333
         ],
         "yaxis": "y"
        },
        {
         "alignmentgroup": "True",
         "customdata": [
          [
           "BRISBANE",
           2020
          ],
          [
           "HAMAD PORT",
           2020
          ],
          [
           "WELLINGTON",
           2020
          ],
          [
           "BREMERHAVEN",
           2021
          ],
          [
           "HAMBURG",
           2021
          ],
          [
           "WILHELMSHAVEN",
           2021
          ]
         ],
         "hovertemplate": "Economy Label=Germany<br>Statistic Approach Rank=%{x}<br>Median time in port (days)=%{y}<br>Port Name=%{customdata[0]}<br>Year=%{customdata[1]}<extra></extra>",
         "legendgroup": "Germany",
         "marker": {
          "color": "#FF6692",
          "pattern": {
           "shape": ""
          }
         },
         "name": "Germany",
         "offsetgroup": "Germany",
         "orientation": "v",
         "showlegend": true,
         "textposition": "auto",
         "type": "bar",
         "x": [
          234,
          191,
          141,
          54,
          258,
          204
         ],
         "xaxis": "x",
         "y": [
          0.9667,
          0.9667,
          0.9667,
          1.0833,
          1.0833,
          1.0833
         ],
         "yaxis": "y"
        },
        {
         "alignmentgroup": "True",
         "customdata": [
          [
           "HONG KONG, HONG KONG SAR, CHINA",
           2020
          ],
          [
           "PIRAEUS",
           2020
          ],
          [
           "TEMA",
           2020
          ],
          [
           "HERAKLION",
           2021
          ]
         ],
         "hovertemplate": "Economy Label=Greece<br>Statistic Approach Rank=%{x}<br>Median time in port (days)=%{y}<br>Port Name=%{customdata[0]}<br>Year=%{customdata[1]}<extra></extra>",
         "legendgroup": "Greece",
         "marker": {
          "color": "#B6E880",
          "pattern": {
           "shape": ""
          }
         },
         "name": "Greece",
         "offsetgroup": "Greece",
         "orientation": "v",
         "showlegend": true,
         "textposition": "auto",
         "type": "bar",
         "x": [
          242,
          89,
          353,
          212
         ],
         "xaxis": "x",
         "y": [
          0.9861,
          0.9861,
          0.9861,
          1.0184
         ],
         "yaxis": "y"
        },
        {
         "alignmentgroup": "True",
         "customdata": [
          [
           "BELAWAN",
           2020
          ],
          [
           "PANJANG",
           2020
          ],
          [
           "TANGER MEDITERRANEAN",
           2020
          ],
          [
           "TANJUNG PELEPAS",
           2020
          ],
          [
           "TANJUNG PERAK",
           2020
          ],
          [
           "TANJUNG EMAS",
           2021
          ]
         ],
         "hovertemplate": "Economy Label=Indonesia<br>Statistic Approach Rank=%{x}<br>Median time in port (days)=%{y}<br>Port Name=%{customdata[0]}<br>Year=%{customdata[1]}<extra></extra>",
         "legendgroup": "Indonesia",
         "marker": {
          "color": "#FF97FF",
          "pattern": {
           "shape": ""
          }
         },
         "name": "Indonesia",
         "offsetgroup": "Indonesia",
         "orientation": "v",
         "showlegend": true,
         "textposition": "auto",
         "type": "bar",
         "x": [
          202,
          229,
          15,
          11,
          172,
          144
         ],
         "xaxis": "x",
         "y": [
          0.9799,
          0.9799,
          0.9799,
          0.9799,
          0.9799,
          1.0451
         ],
         "yaxis": "y"
        },
        {
         "alignmentgroup": "True",
         "customdata": [
          [
           "ANCONA",
           2020
          ],
          [
           "BATANGAS",
           2020
          ],
          [
           "CASTELLON",
           2020
          ],
          [
           "CHORNOMORSK",
           2020
          ],
          [
           "GEMLIK",
           2020
          ],
          [
           "GIJON",
           2020
          ],
          [
           "LATAKIA",
           2020
          ],
          [
           "LUANDA",
           2020
          ],
          [
           "NEW ORLEANS",
           2020
          ],
          [
           "PALERMO",
           2020
          ],
          [
           "RIJEKA",
           2020
          ],
          [
           "SAMSUN",
           2020
          ],
          [
           "SEATTLE",
           2020
          ],
          [
           "TOMAKOMAI",
           2020
          ],
          [
           "TRIESTE",
           2020
          ],
          [
           "VANCOUVER (CANADA)",
           2020
          ],
          [
           "GIOIA TAURO",
           2021
          ],
          [
           "SAVONA-VADO",
           2021
          ],
          [
           "CIVITAVECCHIA",
           2021
          ],
          [
           "RAVENNA",
           2021
          ],
          [
           "CATANIA",
           2021
          ],
          [
           "BARI",
           2021
          ],
          [
           "TRAPANI",
           2021
          ],
          [
           "NAPLES",
           2021
          ],
          [
           "LA SPEZIA",
           2021
          ]
         ],
         "hovertemplate": "Economy Label=Italy<br>Statistic Approach Rank=%{x}<br>Median time in port (days)=%{y}<br>Port Name=%{customdata[0]}<br>Year=%{customdata[1]}<extra></extra>",
         "legendgroup": "Italy",
         "marker": {
          "color": "#FECB52",
          "pattern": {
           "shape": ""
          }
         },
         "name": "Italy",
         "offsetgroup": "Italy",
         "orientation": "v",
         "showlegend": true,
         "textposition": "auto",
         "type": "bar",
         "x": [
          183,
          144,
          157,
          274,
          282,
          212,
          23,
          343,
          237,
          182,
          279,
          280,
          263,
          204,
          264,
          368,
          112,
          111,
          161,
          188,
          193,
          194,
          209,
          267,
          309
         ],
         "xaxis": "x",
         "y": [
          0.916,
          0.916,
          0.916,
          0.916,
          0.916,
          0.916,
          0.916,
          0.916,
          0.916,
          0.916,
          0.916,
          0.916,
          0.916,
          0.916,
          0.916,
          0.916,
          0.9319,
          0.9319,
          0.9319,
          0.9319,
          0.9319,
          0.9319,
          0.9319,
          0.9319,
          0.9319
         ],
         "yaxis": "y"
        },
        {
         "alignmentgroup": "True",
         "customdata": [
          [
           "HAIPHONG",
           2020
          ],
          [
           "KINGSTON (JAMAICA)",
           2020
          ],
          [
           "KRISTIANSAND",
           2020
          ],
          [
           "MUNDRA",
           2020
          ],
          [
           "NASSAU",
           2020
          ],
          [
           "NELSON",
           2020
          ],
          [
           "OMAEZAKI",
           2020
          ],
          [
           "OSAKA",
           2020
          ],
          [
           "SHUAIBA",
           2020
          ],
          [
           "TOAMASINA",
           2020
          ],
          [
           "TOKYO",
           2020
          ],
          [
           "YOKKAICHI",
           2020
          ],
          [
           "YOKOHAMA",
           2020
          ],
          [
           "KOBE",
           2021
          ],
          [
           "NAGOYA",
           2021
          ],
          [
           "KAWASAKI",
           2021
          ]
         ],
         "hovertemplate": "Economy Label=Japan<br>Statistic Approach Rank=%{x}<br>Median time in port (days)=%{y}<br>Port Name=%{customdata[0]}<br>Year=%{customdata[1]}<extra></extra>",
         "legendgroup": "Japan",
         "marker": {
          "color": "#636efa",
          "pattern": {
           "shape": ""
          }
         },
         "name": "Japan",
         "offsetgroup": "Japan",
         "orientation": "v",
         "showlegend": true,
         "textposition": "auto",
         "type": "bar",
         "x": [
          116,
          266,
          296,
          44,
          189,
          206,
          121,
          77,
          228,
          219,
          54,
          81,
          1,
          37,
          43,
          249
         ],
         "xaxis": "x",
         "y": [
          0.3354,
          0.3354,
          0.3354,
          0.3354,
          0.3354,
          0.3354,
          0.3354,
          0.3354,
          0.3354,
          0.3354,
          0.3354,
          0.3354,
          0.3354,
          0.3562,
          0.3562,
          0.3562
         ],
         "yaxis": "y"
        },
        {
         "alignmentgroup": "True",
         "customdata": [
          [
           "LIANYUNGANG",
           2020
          ],
          [
           "OSLO",
           2020
          ],
          [
           "LARVIK",
           2021
          ]
         ],
         "hovertemplate": "Economy Label=Norway<br>Statistic Approach Rank=%{x}<br>Median time in port (days)=%{y}<br>Port Name=%{customdata[0]}<br>Year=%{customdata[1]}<extra></extra>",
         "legendgroup": "Norway",
         "marker": {
          "color": "#EF553B",
          "pattern": {
           "shape": ""
          }
         },
         "name": "Norway",
         "offsetgroup": "Norway",
         "orientation": "v",
         "showlegend": true,
         "textposition": "auto",
         "type": "bar",
         "x": [
          178,
          91,
          206
         ],
         "xaxis": "x",
         "y": [
          0.3295,
          0.3295,
          0.3493
         ],
         "yaxis": "y"
        },
        {
         "alignmentgroup": "True",
         "customdata": [
          [
           "ALEXANDRIA (EGYPT)",
           2020
          ],
          [
           "ALGIERS",
           2020
          ],
          [
           "ALTAMIRA",
           2020
          ],
          [
           "BARRANQUILLA",
           2020
          ],
          [
           "BILBAO",
           2020
          ],
          [
           "CAI LAN",
           2020
          ],
          [
           "GENOA",
           2020
          ],
          [
           "MANZANILLO (MEXICO)",
           2020
          ],
          [
           "PORT LOUIS",
           2020
          ],
          [
           "SANTO TOMAS DE CASTILLA",
           2020
          ],
          [
           "TANJUNG PRIOK",
           2020
          ],
          [
           "UMM QASR",
           2020
          ],
          [
           "VENICE",
           2020
          ],
          [
           "ALGECIRAS",
           2021
          ],
          [
           "BARCELONA",
           2021
          ],
          [
           "CORONEL",
           2021
          ],
          [
           "SANTA CRUZ DE TENERIFE",
           2021
          ],
          [
           "VALENCIA",
           2021
          ],
          [
           "MALAGA",
           2021
          ],
          [
           "VIGO",
           2021
          ],
          [
           "TARRAGONA",
           2021
          ],
          [
           "CADIZ",
           2021
          ],
          [
           "ALICANTE",
           2021
          ]
         ],
         "hovertemplate": "Economy Label=Spain<br>Statistic Approach Rank=%{x}<br>Median time in port (days)=%{y}<br>Port Name=%{customdata[0]}<br>Year=%{customdata[1]}<extra></extra>",
         "legendgroup": "Spain",
         "marker": {
          "color": "#00cc96",
          "pattern": {
           "shape": ""
          }
         },
         "name": "Spain",
         "offsetgroup": "Spain",
         "orientation": "v",
         "showlegend": true,
         "textposition": "auto",
         "type": "bar",
         "x": [
          221,
          318,
          98,
          169,
          243,
          74,
          196,
          145,
          346,
          201,
          66,
          294,
          295,
          10,
          19,
          49,
          88,
          180,
          140,
          138,
          157,
          217,
          222
         ],
         "xaxis": "x",
         "y": [
          0.6632,
          0.6632,
          0.6632,
          0.6632,
          0.6632,
          0.6632,
          0.6632,
          0.6632,
          0.6632,
          0.6632,
          0.6632,
          0.6632,
          0.6632,
          0.6451,
          0.6451,
          0.6451,
          0.6451,
          0.6451,
          0.6451,
          0.6451,
          0.6451,
          0.6451,
          0.6451
         ],
         "yaxis": "y"
        },
        {
         "alignmentgroup": "True",
         "customdata": [
          [
           "FUZHOU",
           2020
          ],
          [
           "HELSINGBORG",
           2020
          ],
          [
           "NOUMEA",
           2020
          ],
          [
           "NORRKOPING",
           2021
          ],
          [
           "GAVLE",
           2021
          ]
         ],
         "hovertemplate": "Economy Label=Sweden<br>Statistic Approach Rank=%{x}<br>Median time in port (days)=%{y}<br>Port Name=%{customdata[0]}<br>Year=%{customdata[1]}<extra></extra>",
         "legendgroup": "Sweden",
         "marker": {
          "color": "#ab63fa",
          "pattern": {
           "shape": ""
          }
         },
         "name": "Sweden",
         "offsetgroup": "Sweden",
         "orientation": "v",
         "showlegend": true,
         "textposition": "auto",
         "type": "bar",
         "x": [
          214,
          185,
          124,
          184,
          256
         ],
         "xaxis": "x",
         "y": [
          0.6361,
          0.6361,
          0.6361,
          0.6149,
          0.6149
         ],
         "yaxis": "y"
        },
        {
         "alignmentgroup": "True",
         "customdata": [
          [
           "BUENAVENTURA",
           2020
          ],
          [
           "ENSENADA",
           2020
          ],
          [
           "LOS ANGELES",
           2020
          ],
          [
           "LYTTELTON",
           2020
          ],
          [
           "SOUTHAMPTON",
           2020
          ],
          [
           "LIVERPOOL (UNITED KINGDOM)",
           2021
          ],
          [
           "FELIXSTOWE",
           2021
          ]
         ],
         "hovertemplate": "Economy Label=United Kingdom<br>Statistic Approach Rank=%{x}<br>Median time in port (days)=%{y}<br>Port Name=%{customdata[0]}<br>Year=%{customdata[1]}<extra></extra>",
         "legendgroup": "United Kingdom",
         "marker": {
          "color": "#FFA15A",
          "pattern": {
           "shape": ""
          }
         },
         "name": "United Kingdom",
         "offsetgroup": "United Kingdom",
         "orientation": "v",
         "showlegend": true,
         "textposition": "auto",
         "type": "bar",
         "x": [
          71,
          125,
          369,
          186,
          317,
          325,
          336
         ],
         "xaxis": "x",
         "y": [
          0.7083,
          0.7083,
          0.7083,
          0.7083,
          0.7083,
          0.8035,
          0.8035
         ],
         "yaxis": "y"
        },
        {
         "alignmentgroup": "True",
         "customdata": [
          [
           "PORT OF VIRGINIA",
           2021
          ],
          [
           "WILMINGTON (NORTH CAROLINA)",
           2021
          ],
          [
           "PHILADELPHIA",
           2021
          ],
          [
           "BALBOA",
           2021
          ],
          [
           "TAMPA",
           2021
          ],
          [
           "PORT TAMPA BAY",
           2021
          ],
          [
           "JACKSONVILLE",
           2021
          ],
          [
           "PORT EVERGLADES",
           2021
          ],
          [
           "BOSTON (United States of America)",
           2021
          ],
          [
           "HOUSTON",
           2021
          ],
          [
           "CHARLESTON",
           2021
          ],
          [
           "MOBILE",
           2021
          ],
          [
           "SAN VICENTE",
           2021
          ],
          [
           "NEW YORK AND NEW JERSEY",
           2021
          ],
          [
           "HUENEME",
           2021
          ],
          [
           "PORT VICTORIA",
           2021
          ],
          [
           "TACOMA",
           2021
          ],
          [
           "SAVANNAH",
           2021
          ],
          [
           "LONG BEACH",
           2021
          ]
         ],
         "hovertemplate": "Economy Label=United States of America<br>Statistic Approach Rank=%{x}<br>Median time in port (days)=%{y}<br>Port Name=%{customdata[0]}<br>Year=%{customdata[1]}<extra></extra>",
         "legendgroup": "United States of America",
         "marker": {
          "color": "#19d3f3",
          "pattern": {
           "shape": ""
          }
         },
         "name": "United States of America",
         "offsetgroup": "United States of America",
         "orientation": "v",
         "showlegend": true,
         "textposition": "auto",
         "type": "bar",
         "x": [
          27,
          57,
          58,
          55,
          62,
          66,
          94,
          102,
          115,
          123,
          187,
          150,
          162,
          251,
          274,
          298,
          341,
          367,
          370
         ],
         "xaxis": "x",
         "y": [
          1.2069,
          1.2069,
          1.2069,
          1.2069,
          1.2069,
          1.2069,
          1.2069,
          1.2069,
          1.2069,
          1.2069,
          1.2069,
          1.2069,
          1.2069,
          1.2069,
          1.2069,
          1.2069,
          1.2069,
          1.2069,
          1.2069
         ],
         "yaxis": "y"
        }
       ],
       "layout": {
        "barmode": "relative",
        "height": 500,
        "legend": {
         "title": {
          "text": "Economy Label"
         },
         "tracegroupgap": 0
        },
        "margin": {
         "t": 60
        },
        "template": {
         "data": {
          "bar": [
           {
            "error_x": {
             "color": "#2a3f5f"
            },
            "error_y": {
             "color": "#2a3f5f"
            },
            "marker": {
             "line": {
              "color": "#E5ECF6",
              "width": 0.5
             },
             "pattern": {
              "fillmode": "overlay",
              "size": 10,
              "solidity": 0.2
             }
            },
            "type": "bar"
           }
          ],
          "barpolar": [
           {
            "marker": {
             "line": {
              "color": "#E5ECF6",
              "width": 0.5
             },
             "pattern": {
              "fillmode": "overlay",
              "size": 10,
              "solidity": 0.2
             }
            },
            "type": "barpolar"
           }
          ],
          "carpet": [
           {
            "aaxis": {
             "endlinecolor": "#2a3f5f",
             "gridcolor": "white",
             "linecolor": "white",
             "minorgridcolor": "white",
             "startlinecolor": "#2a3f5f"
            },
            "baxis": {
             "endlinecolor": "#2a3f5f",
             "gridcolor": "white",
             "linecolor": "white",
             "minorgridcolor": "white",
             "startlinecolor": "#2a3f5f"
            },
            "type": "carpet"
           }
          ],
          "choropleth": [
           {
            "colorbar": {
             "outlinewidth": 0,
             "ticks": ""
            },
            "type": "choropleth"
           }
          ],
          "contour": [
           {
            "colorbar": {
             "outlinewidth": 0,
             "ticks": ""
            },
            "colorscale": [
             [
              0,
              "#0d0887"
             ],
             [
              0.1111111111111111,
              "#46039f"
             ],
             [
              0.2222222222222222,
              "#7201a8"
             ],
             [
              0.3333333333333333,
              "#9c179e"
             ],
             [
              0.4444444444444444,
              "#bd3786"
             ],
             [
              0.5555555555555556,
              "#d8576b"
             ],
             [
              0.6666666666666666,
              "#ed7953"
             ],
             [
              0.7777777777777778,
              "#fb9f3a"
             ],
             [
              0.8888888888888888,
              "#fdca26"
             ],
             [
              1,
              "#f0f921"
             ]
            ],
            "type": "contour"
           }
          ],
          "contourcarpet": [
           {
            "colorbar": {
             "outlinewidth": 0,
             "ticks": ""
            },
            "type": "contourcarpet"
           }
          ],
          "heatmap": [
           {
            "colorbar": {
             "outlinewidth": 0,
             "ticks": ""
            },
            "colorscale": [
             [
              0,
              "#0d0887"
             ],
             [
              0.1111111111111111,
              "#46039f"
             ],
             [
              0.2222222222222222,
              "#7201a8"
             ],
             [
              0.3333333333333333,
              "#9c179e"
             ],
             [
              0.4444444444444444,
              "#bd3786"
             ],
             [
              0.5555555555555556,
              "#d8576b"
             ],
             [
              0.6666666666666666,
              "#ed7953"
             ],
             [
              0.7777777777777778,
              "#fb9f3a"
             ],
             [
              0.8888888888888888,
              "#fdca26"
             ],
             [
              1,
              "#f0f921"
             ]
            ],
            "type": "heatmap"
           }
          ],
          "heatmapgl": [
           {
            "colorbar": {
             "outlinewidth": 0,
             "ticks": ""
            },
            "colorscale": [
             [
              0,
              "#0d0887"
             ],
             [
              0.1111111111111111,
              "#46039f"
             ],
             [
              0.2222222222222222,
              "#7201a8"
             ],
             [
              0.3333333333333333,
              "#9c179e"
             ],
             [
              0.4444444444444444,
              "#bd3786"
             ],
             [
              0.5555555555555556,
              "#d8576b"
             ],
             [
              0.6666666666666666,
              "#ed7953"
             ],
             [
              0.7777777777777778,
              "#fb9f3a"
             ],
             [
              0.8888888888888888,
              "#fdca26"
             ],
             [
              1,
              "#f0f921"
             ]
            ],
            "type": "heatmapgl"
           }
          ],
          "histogram": [
           {
            "marker": {
             "pattern": {
              "fillmode": "overlay",
              "size": 10,
              "solidity": 0.2
             }
            },
            "type": "histogram"
           }
          ],
          "histogram2d": [
           {
            "colorbar": {
             "outlinewidth": 0,
             "ticks": ""
            },
            "colorscale": [
             [
              0,
              "#0d0887"
             ],
             [
              0.1111111111111111,
              "#46039f"
             ],
             [
              0.2222222222222222,
              "#7201a8"
             ],
             [
              0.3333333333333333,
              "#9c179e"
             ],
             [
              0.4444444444444444,
              "#bd3786"
             ],
             [
              0.5555555555555556,
              "#d8576b"
             ],
             [
              0.6666666666666666,
              "#ed7953"
             ],
             [
              0.7777777777777778,
              "#fb9f3a"
             ],
             [
              0.8888888888888888,
              "#fdca26"
             ],
             [
              1,
              "#f0f921"
             ]
            ],
            "type": "histogram2d"
           }
          ],
          "histogram2dcontour": [
           {
            "colorbar": {
             "outlinewidth": 0,
             "ticks": ""
            },
            "colorscale": [
             [
              0,
              "#0d0887"
             ],
             [
              0.1111111111111111,
              "#46039f"
             ],
             [
              0.2222222222222222,
              "#7201a8"
             ],
             [
              0.3333333333333333,
              "#9c179e"
             ],
             [
              0.4444444444444444,
              "#bd3786"
             ],
             [
              0.5555555555555556,
              "#d8576b"
             ],
             [
              0.6666666666666666,
              "#ed7953"
             ],
             [
              0.7777777777777778,
              "#fb9f3a"
             ],
             [
              0.8888888888888888,
              "#fdca26"
             ],
             [
              1,
              "#f0f921"
             ]
            ],
            "type": "histogram2dcontour"
           }
          ],
          "mesh3d": [
           {
            "colorbar": {
             "outlinewidth": 0,
             "ticks": ""
            },
            "type": "mesh3d"
           }
          ],
          "parcoords": [
           {
            "line": {
             "colorbar": {
              "outlinewidth": 0,
              "ticks": ""
             }
            },
            "type": "parcoords"
           }
          ],
          "pie": [
           {
            "automargin": true,
            "type": "pie"
           }
          ],
          "scatter": [
           {
            "fillpattern": {
             "fillmode": "overlay",
             "size": 10,
             "solidity": 0.2
            },
            "type": "scatter"
           }
          ],
          "scatter3d": [
           {
            "line": {
             "colorbar": {
              "outlinewidth": 0,
              "ticks": ""
             }
            },
            "marker": {
             "colorbar": {
              "outlinewidth": 0,
              "ticks": ""
             }
            },
            "type": "scatter3d"
           }
          ],
          "scattercarpet": [
           {
            "marker": {
             "colorbar": {
              "outlinewidth": 0,
              "ticks": ""
             }
            },
            "type": "scattercarpet"
           }
          ],
          "scattergeo": [
           {
            "marker": {
             "colorbar": {
              "outlinewidth": 0,
              "ticks": ""
             }
            },
            "type": "scattergeo"
           }
          ],
          "scattergl": [
           {
            "marker": {
             "colorbar": {
              "outlinewidth": 0,
              "ticks": ""
             }
            },
            "type": "scattergl"
           }
          ],
          "scattermapbox": [
           {
            "marker": {
             "colorbar": {
              "outlinewidth": 0,
              "ticks": ""
             }
            },
            "type": "scattermapbox"
           }
          ],
          "scatterpolar": [
           {
            "marker": {
             "colorbar": {
              "outlinewidth": 0,
              "ticks": ""
             }
            },
            "type": "scatterpolar"
           }
          ],
          "scatterpolargl": [
           {
            "marker": {
             "colorbar": {
              "outlinewidth": 0,
              "ticks": ""
             }
            },
            "type": "scatterpolargl"
           }
          ],
          "scatterternary": [
           {
            "marker": {
             "colorbar": {
              "outlinewidth": 0,
              "ticks": ""
             }
            },
            "type": "scatterternary"
           }
          ],
          "surface": [
           {
            "colorbar": {
             "outlinewidth": 0,
             "ticks": ""
            },
            "colorscale": [
             [
              0,
              "#0d0887"
             ],
             [
              0.1111111111111111,
              "#46039f"
             ],
             [
              0.2222222222222222,
              "#7201a8"
             ],
             [
              0.3333333333333333,
              "#9c179e"
             ],
             [
              0.4444444444444444,
              "#bd3786"
             ],
             [
              0.5555555555555556,
              "#d8576b"
             ],
             [
              0.6666666666666666,
              "#ed7953"
             ],
             [
              0.7777777777777778,
              "#fb9f3a"
             ],
             [
              0.8888888888888888,
              "#fdca26"
             ],
             [
              1,
              "#f0f921"
             ]
            ],
            "type": "surface"
           }
          ],
          "table": [
           {
            "cells": {
             "fill": {
              "color": "#EBF0F8"
             },
             "line": {
              "color": "white"
             }
            },
            "header": {
             "fill": {
              "color": "#C8D4E3"
             },
             "line": {
              "color": "white"
             }
            },
            "type": "table"
           }
          ]
         },
         "layout": {
          "annotationdefaults": {
           "arrowcolor": "#2a3f5f",
           "arrowhead": 0,
           "arrowwidth": 1
          },
          "autotypenumbers": "strict",
          "coloraxis": {
           "colorbar": {
            "outlinewidth": 0,
            "ticks": ""
           }
          },
          "colorscale": {
           "diverging": [
            [
             0,
             "#8e0152"
            ],
            [
             0.1,
             "#c51b7d"
            ],
            [
             0.2,
             "#de77ae"
            ],
            [
             0.3,
             "#f1b6da"
            ],
            [
             0.4,
             "#fde0ef"
            ],
            [
             0.5,
             "#f7f7f7"
            ],
            [
             0.6,
             "#e6f5d0"
            ],
            [
             0.7,
             "#b8e186"
            ],
            [
             0.8,
             "#7fbc41"
            ],
            [
             0.9,
             "#4d9221"
            ],
            [
             1,
             "#276419"
            ]
           ],
           "sequential": [
            [
             0,
             "#0d0887"
            ],
            [
             0.1111111111111111,
             "#46039f"
            ],
            [
             0.2222222222222222,
             "#7201a8"
            ],
            [
             0.3333333333333333,
             "#9c179e"
            ],
            [
             0.4444444444444444,
             "#bd3786"
            ],
            [
             0.5555555555555556,
             "#d8576b"
            ],
            [
             0.6666666666666666,
             "#ed7953"
            ],
            [
             0.7777777777777778,
             "#fb9f3a"
            ],
            [
             0.8888888888888888,
             "#fdca26"
            ],
            [
             1,
             "#f0f921"
            ]
           ],
           "sequentialminus": [
            [
             0,
             "#0d0887"
            ],
            [
             0.1111111111111111,
             "#46039f"
            ],
            [
             0.2222222222222222,
             "#7201a8"
            ],
            [
             0.3333333333333333,
             "#9c179e"
            ],
            [
             0.4444444444444444,
             "#bd3786"
            ],
            [
             0.5555555555555556,
             "#d8576b"
            ],
            [
             0.6666666666666666,
             "#ed7953"
            ],
            [
             0.7777777777777778,
             "#fb9f3a"
            ],
            [
             0.8888888888888888,
             "#fdca26"
            ],
            [
             1,
             "#f0f921"
            ]
           ]
          },
          "colorway": [
           "#636efa",
           "#EF553B",
           "#00cc96",
           "#ab63fa",
           "#FFA15A",
           "#19d3f3",
           "#FF6692",
           "#B6E880",
           "#FF97FF",
           "#FECB52"
          ],
          "font": {
           "color": "#2a3f5f"
          },
          "geo": {
           "bgcolor": "white",
           "lakecolor": "white",
           "landcolor": "#E5ECF6",
           "showlakes": true,
           "showland": true,
           "subunitcolor": "white"
          },
          "hoverlabel": {
           "align": "left"
          },
          "hovermode": "closest",
          "mapbox": {
           "style": "light"
          },
          "paper_bgcolor": "white",
          "plot_bgcolor": "#E5ECF6",
          "polar": {
           "angularaxis": {
            "gridcolor": "white",
            "linecolor": "white",
            "ticks": ""
           },
           "bgcolor": "#E5ECF6",
           "radialaxis": {
            "gridcolor": "white",
            "linecolor": "white",
            "ticks": ""
           }
          },
          "scene": {
           "xaxis": {
            "backgroundcolor": "#E5ECF6",
            "gridcolor": "white",
            "gridwidth": 2,
            "linecolor": "white",
            "showbackground": true,
            "ticks": "",
            "zerolinecolor": "white"
           },
           "yaxis": {
            "backgroundcolor": "#E5ECF6",
            "gridcolor": "white",
            "gridwidth": 2,
            "linecolor": "white",
            "showbackground": true,
            "ticks": "",
            "zerolinecolor": "white"
           },
           "zaxis": {
            "backgroundcolor": "#E5ECF6",
            "gridcolor": "white",
            "gridwidth": 2,
            "linecolor": "white",
            "showbackground": true,
            "ticks": "",
            "zerolinecolor": "white"
           }
          },
          "shapedefaults": {
           "line": {
            "color": "#2a3f5f"
           }
          },
          "ternary": {
           "aaxis": {
            "gridcolor": "white",
            "linecolor": "white",
            "ticks": ""
           },
           "baxis": {
            "gridcolor": "white",
            "linecolor": "white",
            "ticks": ""
           },
           "bgcolor": "#E5ECF6",
           "caxis": {
            "gridcolor": "white",
            "linecolor": "white",
            "ticks": ""
           }
          },
          "title": {
           "x": 0.05
          },
          "xaxis": {
           "automargin": true,
           "gridcolor": "white",
           "linecolor": "white",
           "ticks": "",
           "title": {
            "standoff": 15
           },
           "zerolinecolor": "white",
           "zerolinewidth": 2
          },
          "yaxis": {
           "automargin": true,
           "gridcolor": "white",
           "linecolor": "white",
           "ticks": "",
           "title": {
            "standoff": 15
           },
           "zerolinecolor": "white",
           "zerolinewidth": 2
          }
         }
        },
        "width": 2000,
        "xaxis": {
         "anchor": "y",
         "categoryorder": "total ascending",
         "domain": [
          0,
          1
         ],
         "title": {
          "text": "Statistic Approach Rank"
         }
        },
        "yaxis": {
         "anchor": "x",
         "domain": [
          0,
          1
         ],
         "title": {
          "text": "Median time in port (days)"
         }
        }
       }
      },
      "text/html": [
       "<div>                            <div id=\"6079da3e-ca1f-4a7e-a14c-9ec1abbf03b2\" class=\"plotly-graph-div\" style=\"height:500px; width:2000px;\"></div>            <script type=\"text/javascript\">                require([\"plotly\"], function(Plotly) {                    window.PLOTLYENV=window.PLOTLYENV || {};                                    if (document.getElementById(\"6079da3e-ca1f-4a7e-a14c-9ec1abbf03b2\")) {                    Plotly.newPlot(                        \"6079da3e-ca1f-4a7e-a14c-9ec1abbf03b2\",                        [{\"alignmentgroup\":\"True\",\"customdata\":[[\"ACAJUTLA\",2020],[\"BELL BAY\",2020],[\"BRISTOL\",2020],[\"FREETOWN\",2020],[\"MOJI\",2020],[\"PORT BOTANY\",2020],[\"ADELAIDE\",2021],[\"MELBOURNE\",2021]],\"hovertemplate\":\"Economy Label=Australia<br>Statistic Approach Rank=%{x}<br>Median time in port (days)=%{y}<br>Port Name=%{customdata[0]}<br>Year=%{customdata[1]}<extra></extra>\",\"legendgroup\":\"Australia\",\"marker\":{\"color\":\"#636efa\",\"pattern\":{\"shape\":\"\"}},\"name\":\"Australia\",\"offsetgroup\":\"Australia\",\"orientation\":\"v\",\"showlegend\":true,\"textposition\":\"auto\",\"x\":[249,163,277,319,123,327,257,294],\"xaxis\":\"x\",\"y\":[1.3083,1.3083,1.3083,1.3083,1.3083,1.3083,1.4583,1.4583],\"yaxis\":\"y\",\"type\":\"bar\"},{\"alignmentgroup\":\"True\",\"customdata\":[[\"HAKATA\",2020],[\"NAHA\",2020],[\"PRINCE RUPERT\",2020],[\"SALERNO\",2020],[\"VALPARAISO\",2020],[\"HALIFAX\",2021],[\"SAINT JOHN\",2021],[\"MONTREAL\",2021]],\"hovertemplate\":\"Economy Label=Canada<br>Statistic Approach Rank=%{x}<br>Median time in port (days)=%{y}<br>Port Name=%{customdata[0]}<br>Year=%{customdata[1]}<extra></extra>\",\"legendgroup\":\"Canada\",\"marker\":{\"color\":\"#EF553B\",\"pattern\":{\"shape\":\"\"}},\"name\":\"Canada\",\"offsetgroup\":\"Canada\",\"orientation\":\"v\",\"showlegend\":true,\"textposition\":\"auto\",\"x\":[25,111,323,168,102,18,235,313],\"xaxis\":\"x\",\"y\":[1.6229,1.6229,1.6229,1.6229,1.6229,1.8233,1.8233,1.8233],\"yaxis\":\"y\",\"type\":\"bar\"},{\"alignmentgroup\":\"True\",\"customdata\":[[\"CHATTOGRAM\",2020],[\"DAKAR\",2020],[\"DAMIETTA\",2020],[\"FREMANTLE\",2020],[\"GRANGEMOUTH\",2020],[\"LONDON\",2020],[\"NOUAKCHOTT\",2020],[\"QINZHOU\",2020],[\"QUY NHON\",2020],[\"SHANTOU\",2020],[\"SHEKOU\",2020],[\"SHIMIZU\",2020],[\"THESSALONIKI\",2020],[\"WILMINGTON (NORTH CAROLINA, USA)\",2020],[\"YANGSHAN\",2020],[\"YANTIAN\",2020],[\"ZHOUSHAN\",2020],[\"NINGBO\",2021],[\"GUANGZHOU\",2021],[\"CHIWAN\",2021],[\"TIANJIN\",2021],[\"QINGDAO\",2021],[\"MAWAN\",2021],[\"XIAMEN\",2021],[\"DALIAN\",2021],[\"DA CHAN BAY TERMINAL ONE\",2021],[\"SHANGHAI\",2021]],\"hovertemplate\":\"Economy Label=China<br>Statistic Approach Rank=%{x}<br>Median time in port (days)=%{y}<br>Port Name=%{customdata[0]}<br>Year=%{customdata[1]}<extra></extra>\",\"legendgroup\":\"China\",\"marker\":{\"color\":\"#00cc96\",\"pattern\":{\"shape\":\"\"}},\"name\":\"China\",\"offsetgroup\":\"China\",\"orientation\":\"v\",\"showlegend\":true,\"textposition\":\"auto\",\"x\":[298,120,297,21,6,355,292,148,104,117,5,24,284,67,10,17,8,7,9,20,26,33,110,40,81,122,318],\"xaxis\":\"x\",\"y\":[0.5951,0.5951,0.5951,0.5951,0.5951,0.5951,0.5951,0.5951,0.5951,0.5951,0.5951,0.5951,0.5951,0.5951,0.5951,0.5951,0.5951,0.6806,0.6806,0.6806,0.6806,0.6806,0.6806,0.6806,0.6806,0.6806,0.6806],\"yaxis\":\"y\",\"type\":\"bar\"},{\"alignmentgroup\":\"True\",\"customdata\":[[\"RIO GRANDE (BRAZIL)\",2020]],\"hovertemplate\":\"Economy Label=Croatia<br>Statistic Approach Rank=%{x}<br>Median time in port (days)=%{y}<br>Port Name=%{customdata[0]}<br>Year=%{customdata[1]}<extra></extra>\",\"legendgroup\":\"Croatia\",\"marker\":{\"color\":\"#ab63fa\",\"pattern\":{\"shape\":\"\"}},\"name\":\"Croatia\",\"offsetgroup\":\"Croatia\",\"orientation\":\"v\",\"showlegend\":true,\"textposition\":\"auto\",\"x\":[47],\"xaxis\":\"x\",\"y\":[0.6507],\"yaxis\":\"y\",\"type\":\"bar\"},{\"alignmentgroup\":\"True\",\"customdata\":[[\"AARHUS\",2020],[\"COPENHAGEN\",2020],[\"FREDERICIA\",2020],[\"LAGOS (NIGERIA)\",2020]],\"hovertemplate\":\"Economy Label=Denmark<br>Statistic Approach Rank=%{x}<br>Median time in port (days)=%{y}<br>Port Name=%{customdata[0]}<br>Year=%{customdata[1]}<extra></extra>\",\"legendgroup\":\"Denmark\",\"marker\":{\"color\":\"#FFA15A\",\"pattern\":{\"shape\":\"\"}},\"name\":\"Denmark\",\"offsetgroup\":\"Denmark\",\"orientation\":\"v\",\"showlegend\":true,\"textposition\":\"auto\",\"x\":[43,142,138,358],\"xaxis\":\"x\",\"y\":[0.4458,0.4458,0.4458,0.4458],\"yaxis\":\"y\",\"type\":\"bar\"},{\"alignmentgroup\":\"True\",\"customdata\":[[\"BORUSAN\",2020],[\"DUNKIRK\",2020],[\"FORT\\u2212DE\\u2212FRANCE\",2020],[\"GUAYAQUIL\",2020],[\"LIVORNO\",2020],[\"MEJILLONES\",2020],[\"MIAMI\",2020],[\"NEMRUT BAY\",2020],[\"OAKLAND\",2020],[\"PAPEETE\",2020],[\"POINTE-NOIRE\",2020],[\"PORT OF SPAIN\",2020],[\"NANTES SAINT-NAZAIRE\",2021],[\"POINTE-\\u00c0-PITRE\",2021],[\"FORT-DE-FRANCE\",2021],[\"GUSTAVIA\",2021],[\"BORDEAUX\",2021],[\"LE HAVRE\",2021],[\"MAYOTTE\",2021],[\"MARSEILLE\",2021],[\"PORT R\\u00c9UNION\",2021]],\"hovertemplate\":\"Economy Label=France<br>Statistic Approach Rank=%{x}<br>Median time in port (days)=%{y}<br>Port Name=%{customdata[0]}<br>Year=%{customdata[1]}<extra></extra>\",\"legendgroup\":\"France\",\"marker\":{\"color\":\"#19d3f3\",\"pattern\":{\"shape\":\"\"}},\"name\":\"France\",\"offsetgroup\":\"France\",\"orientation\":\"v\",\"showlegend\":true,\"textposition\":\"auto\",\"x\":[195,305,112,161,332,311,114,326,334,167,362,248,104,107,127,190,223,286,293,297,331],\"xaxis\":\"x\",\"y\":[0.8062,0.8062,0.8062,0.8062,0.8062,0.8062,0.8062,0.8062,0.8062,0.8062,0.8062,0.8062,0.9333,0.9333,0.9333,0.9333,0.9333,0.9333,0.9333,0.9333,0.9333],\"yaxis\":\"y\",\"type\":\"bar\"},{\"alignmentgroup\":\"True\",\"customdata\":[[\"BRISBANE\",2020],[\"HAMAD PORT\",2020],[\"WELLINGTON\",2020],[\"BREMERHAVEN\",2021],[\"HAMBURG\",2021],[\"WILHELMSHAVEN\",2021]],\"hovertemplate\":\"Economy Label=Germany<br>Statistic Approach Rank=%{x}<br>Median time in port (days)=%{y}<br>Port Name=%{customdata[0]}<br>Year=%{customdata[1]}<extra></extra>\",\"legendgroup\":\"Germany\",\"marker\":{\"color\":\"#FF6692\",\"pattern\":{\"shape\":\"\"}},\"name\":\"Germany\",\"offsetgroup\":\"Germany\",\"orientation\":\"v\",\"showlegend\":true,\"textposition\":\"auto\",\"x\":[234,191,141,54,258,204],\"xaxis\":\"x\",\"y\":[0.9667,0.9667,0.9667,1.0833,1.0833,1.0833],\"yaxis\":\"y\",\"type\":\"bar\"},{\"alignmentgroup\":\"True\",\"customdata\":[[\"HONG KONG, HONG KONG SAR, CHINA\",2020],[\"PIRAEUS\",2020],[\"TEMA\",2020],[\"HERAKLION\",2021]],\"hovertemplate\":\"Economy Label=Greece<br>Statistic Approach Rank=%{x}<br>Median time in port (days)=%{y}<br>Port Name=%{customdata[0]}<br>Year=%{customdata[1]}<extra></extra>\",\"legendgroup\":\"Greece\",\"marker\":{\"color\":\"#B6E880\",\"pattern\":{\"shape\":\"\"}},\"name\":\"Greece\",\"offsetgroup\":\"Greece\",\"orientation\":\"v\",\"showlegend\":true,\"textposition\":\"auto\",\"x\":[242,89,353,212],\"xaxis\":\"x\",\"y\":[0.9861,0.9861,0.9861,1.0184],\"yaxis\":\"y\",\"type\":\"bar\"},{\"alignmentgroup\":\"True\",\"customdata\":[[\"BELAWAN\",2020],[\"PANJANG\",2020],[\"TANGER MEDITERRANEAN\",2020],[\"TANJUNG PELEPAS\",2020],[\"TANJUNG PERAK\",2020],[\"TANJUNG EMAS\",2021]],\"hovertemplate\":\"Economy Label=Indonesia<br>Statistic Approach Rank=%{x}<br>Median time in port (days)=%{y}<br>Port Name=%{customdata[0]}<br>Year=%{customdata[1]}<extra></extra>\",\"legendgroup\":\"Indonesia\",\"marker\":{\"color\":\"#FF97FF\",\"pattern\":{\"shape\":\"\"}},\"name\":\"Indonesia\",\"offsetgroup\":\"Indonesia\",\"orientation\":\"v\",\"showlegend\":true,\"textposition\":\"auto\",\"x\":[202,229,15,11,172,144],\"xaxis\":\"x\",\"y\":[0.9799,0.9799,0.9799,0.9799,0.9799,1.0451],\"yaxis\":\"y\",\"type\":\"bar\"},{\"alignmentgroup\":\"True\",\"customdata\":[[\"ANCONA\",2020],[\"BATANGAS\",2020],[\"CASTELLON\",2020],[\"CHORNOMORSK\",2020],[\"GEMLIK\",2020],[\"GIJON\",2020],[\"LATAKIA\",2020],[\"LUANDA\",2020],[\"NEW ORLEANS\",2020],[\"PALERMO\",2020],[\"RIJEKA\",2020],[\"SAMSUN\",2020],[\"SEATTLE\",2020],[\"TOMAKOMAI\",2020],[\"TRIESTE\",2020],[\"VANCOUVER (CANADA)\",2020],[\"GIOIA TAURO\",2021],[\"SAVONA-VADO\",2021],[\"CIVITAVECCHIA\",2021],[\"RAVENNA\",2021],[\"CATANIA\",2021],[\"BARI\",2021],[\"TRAPANI\",2021],[\"NAPLES\",2021],[\"LA SPEZIA\",2021]],\"hovertemplate\":\"Economy Label=Italy<br>Statistic Approach Rank=%{x}<br>Median time in port (days)=%{y}<br>Port Name=%{customdata[0]}<br>Year=%{customdata[1]}<extra></extra>\",\"legendgroup\":\"Italy\",\"marker\":{\"color\":\"#FECB52\",\"pattern\":{\"shape\":\"\"}},\"name\":\"Italy\",\"offsetgroup\":\"Italy\",\"orientation\":\"v\",\"showlegend\":true,\"textposition\":\"auto\",\"x\":[183,144,157,274,282,212,23,343,237,182,279,280,263,204,264,368,112,111,161,188,193,194,209,267,309],\"xaxis\":\"x\",\"y\":[0.916,0.916,0.916,0.916,0.916,0.916,0.916,0.916,0.916,0.916,0.916,0.916,0.916,0.916,0.916,0.916,0.9319,0.9319,0.9319,0.9319,0.9319,0.9319,0.9319,0.9319,0.9319],\"yaxis\":\"y\",\"type\":\"bar\"},{\"alignmentgroup\":\"True\",\"customdata\":[[\"HAIPHONG\",2020],[\"KINGSTON (JAMAICA)\",2020],[\"KRISTIANSAND\",2020],[\"MUNDRA\",2020],[\"NASSAU\",2020],[\"NELSON\",2020],[\"OMAEZAKI\",2020],[\"OSAKA\",2020],[\"SHUAIBA\",2020],[\"TOAMASINA\",2020],[\"TOKYO\",2020],[\"YOKKAICHI\",2020],[\"YOKOHAMA\",2020],[\"KOBE\",2021],[\"NAGOYA\",2021],[\"KAWASAKI\",2021]],\"hovertemplate\":\"Economy Label=Japan<br>Statistic Approach Rank=%{x}<br>Median time in port (days)=%{y}<br>Port Name=%{customdata[0]}<br>Year=%{customdata[1]}<extra></extra>\",\"legendgroup\":\"Japan\",\"marker\":{\"color\":\"#636efa\",\"pattern\":{\"shape\":\"\"}},\"name\":\"Japan\",\"offsetgroup\":\"Japan\",\"orientation\":\"v\",\"showlegend\":true,\"textposition\":\"auto\",\"x\":[116,266,296,44,189,206,121,77,228,219,54,81,1,37,43,249],\"xaxis\":\"x\",\"y\":[0.3354,0.3354,0.3354,0.3354,0.3354,0.3354,0.3354,0.3354,0.3354,0.3354,0.3354,0.3354,0.3354,0.3562,0.3562,0.3562],\"yaxis\":\"y\",\"type\":\"bar\"},{\"alignmentgroup\":\"True\",\"customdata\":[[\"LIANYUNGANG\",2020],[\"OSLO\",2020],[\"LARVIK\",2021]],\"hovertemplate\":\"Economy Label=Norway<br>Statistic Approach Rank=%{x}<br>Median time in port (days)=%{y}<br>Port Name=%{customdata[0]}<br>Year=%{customdata[1]}<extra></extra>\",\"legendgroup\":\"Norway\",\"marker\":{\"color\":\"#EF553B\",\"pattern\":{\"shape\":\"\"}},\"name\":\"Norway\",\"offsetgroup\":\"Norway\",\"orientation\":\"v\",\"showlegend\":true,\"textposition\":\"auto\",\"x\":[178,91,206],\"xaxis\":\"x\",\"y\":[0.3295,0.3295,0.3493],\"yaxis\":\"y\",\"type\":\"bar\"},{\"alignmentgroup\":\"True\",\"customdata\":[[\"ALEXANDRIA (EGYPT)\",2020],[\"ALGIERS\",2020],[\"ALTAMIRA\",2020],[\"BARRANQUILLA\",2020],[\"BILBAO\",2020],[\"CAI LAN\",2020],[\"GENOA\",2020],[\"MANZANILLO (MEXICO)\",2020],[\"PORT LOUIS\",2020],[\"SANTO TOMAS DE CASTILLA\",2020],[\"TANJUNG PRIOK\",2020],[\"UMM QASR\",2020],[\"VENICE\",2020],[\"ALGECIRAS\",2021],[\"BARCELONA\",2021],[\"CORONEL\",2021],[\"SANTA CRUZ DE TENERIFE\",2021],[\"VALENCIA\",2021],[\"MALAGA\",2021],[\"VIGO\",2021],[\"TARRAGONA\",2021],[\"CADIZ\",2021],[\"ALICANTE\",2021]],\"hovertemplate\":\"Economy Label=Spain<br>Statistic Approach Rank=%{x}<br>Median time in port (days)=%{y}<br>Port Name=%{customdata[0]}<br>Year=%{customdata[1]}<extra></extra>\",\"legendgroup\":\"Spain\",\"marker\":{\"color\":\"#00cc96\",\"pattern\":{\"shape\":\"\"}},\"name\":\"Spain\",\"offsetgroup\":\"Spain\",\"orientation\":\"v\",\"showlegend\":true,\"textposition\":\"auto\",\"x\":[221,318,98,169,243,74,196,145,346,201,66,294,295,10,19,49,88,180,140,138,157,217,222],\"xaxis\":\"x\",\"y\":[0.6632,0.6632,0.6632,0.6632,0.6632,0.6632,0.6632,0.6632,0.6632,0.6632,0.6632,0.6632,0.6632,0.6451,0.6451,0.6451,0.6451,0.6451,0.6451,0.6451,0.6451,0.6451,0.6451],\"yaxis\":\"y\",\"type\":\"bar\"},{\"alignmentgroup\":\"True\",\"customdata\":[[\"FUZHOU\",2020],[\"HELSINGBORG\",2020],[\"NOUMEA\",2020],[\"NORRKOPING\",2021],[\"GAVLE\",2021]],\"hovertemplate\":\"Economy Label=Sweden<br>Statistic Approach Rank=%{x}<br>Median time in port (days)=%{y}<br>Port Name=%{customdata[0]}<br>Year=%{customdata[1]}<extra></extra>\",\"legendgroup\":\"Sweden\",\"marker\":{\"color\":\"#ab63fa\",\"pattern\":{\"shape\":\"\"}},\"name\":\"Sweden\",\"offsetgroup\":\"Sweden\",\"orientation\":\"v\",\"showlegend\":true,\"textposition\":\"auto\",\"x\":[214,185,124,184,256],\"xaxis\":\"x\",\"y\":[0.6361,0.6361,0.6361,0.6149,0.6149],\"yaxis\":\"y\",\"type\":\"bar\"},{\"alignmentgroup\":\"True\",\"customdata\":[[\"BUENAVENTURA\",2020],[\"ENSENADA\",2020],[\"LOS ANGELES\",2020],[\"LYTTELTON\",2020],[\"SOUTHAMPTON\",2020],[\"LIVERPOOL (UNITED KINGDOM)\",2021],[\"FELIXSTOWE\",2021]],\"hovertemplate\":\"Economy Label=United Kingdom<br>Statistic Approach Rank=%{x}<br>Median time in port (days)=%{y}<br>Port Name=%{customdata[0]}<br>Year=%{customdata[1]}<extra></extra>\",\"legendgroup\":\"United Kingdom\",\"marker\":{\"color\":\"#FFA15A\",\"pattern\":{\"shape\":\"\"}},\"name\":\"United Kingdom\",\"offsetgroup\":\"United Kingdom\",\"orientation\":\"v\",\"showlegend\":true,\"textposition\":\"auto\",\"x\":[71,125,369,186,317,325,336],\"xaxis\":\"x\",\"y\":[0.7083,0.7083,0.7083,0.7083,0.7083,0.8035,0.8035],\"yaxis\":\"y\",\"type\":\"bar\"},{\"alignmentgroup\":\"True\",\"customdata\":[[\"PORT OF VIRGINIA\",2021],[\"WILMINGTON (NORTH CAROLINA)\",2021],[\"PHILADELPHIA\",2021],[\"BALBOA\",2021],[\"TAMPA\",2021],[\"PORT TAMPA BAY\",2021],[\"JACKSONVILLE\",2021],[\"PORT EVERGLADES\",2021],[\"BOSTON (United States of America)\",2021],[\"HOUSTON\",2021],[\"CHARLESTON\",2021],[\"MOBILE\",2021],[\"SAN VICENTE\",2021],[\"NEW YORK AND NEW JERSEY\",2021],[\"HUENEME\",2021],[\"PORT VICTORIA\",2021],[\"TACOMA\",2021],[\"SAVANNAH\",2021],[\"LONG BEACH\",2021]],\"hovertemplate\":\"Economy Label=United States of America<br>Statistic Approach Rank=%{x}<br>Median time in port (days)=%{y}<br>Port Name=%{customdata[0]}<br>Year=%{customdata[1]}<extra></extra>\",\"legendgroup\":\"United States of America\",\"marker\":{\"color\":\"#19d3f3\",\"pattern\":{\"shape\":\"\"}},\"name\":\"United States of America\",\"offsetgroup\":\"United States of America\",\"orientation\":\"v\",\"showlegend\":true,\"textposition\":\"auto\",\"x\":[27,57,58,55,62,66,94,102,115,123,187,150,162,251,274,298,341,367,370],\"xaxis\":\"x\",\"y\":[1.2069,1.2069,1.2069,1.2069,1.2069,1.2069,1.2069,1.2069,1.2069,1.2069,1.2069,1.2069,1.2069,1.2069,1.2069,1.2069,1.2069,1.2069,1.2069],\"yaxis\":\"y\",\"type\":\"bar\"}],                        {\"template\":{\"data\":{\"histogram2dcontour\":[{\"type\":\"histogram2dcontour\",\"colorbar\":{\"outlinewidth\":0,\"ticks\":\"\"},\"colorscale\":[[0.0,\"#0d0887\"],[0.1111111111111111,\"#46039f\"],[0.2222222222222222,\"#7201a8\"],[0.3333333333333333,\"#9c179e\"],[0.4444444444444444,\"#bd3786\"],[0.5555555555555556,\"#d8576b\"],[0.6666666666666666,\"#ed7953\"],[0.7777777777777778,\"#fb9f3a\"],[0.8888888888888888,\"#fdca26\"],[1.0,\"#f0f921\"]]}],\"choropleth\":[{\"type\":\"choropleth\",\"colorbar\":{\"outlinewidth\":0,\"ticks\":\"\"}}],\"histogram2d\":[{\"type\":\"histogram2d\",\"colorbar\":{\"outlinewidth\":0,\"ticks\":\"\"},\"colorscale\":[[0.0,\"#0d0887\"],[0.1111111111111111,\"#46039f\"],[0.2222222222222222,\"#7201a8\"],[0.3333333333333333,\"#9c179e\"],[0.4444444444444444,\"#bd3786\"],[0.5555555555555556,\"#d8576b\"],[0.6666666666666666,\"#ed7953\"],[0.7777777777777778,\"#fb9f3a\"],[0.8888888888888888,\"#fdca26\"],[1.0,\"#f0f921\"]]}],\"heatmap\":[{\"type\":\"heatmap\",\"colorbar\":{\"outlinewidth\":0,\"ticks\":\"\"},\"colorscale\":[[0.0,\"#0d0887\"],[0.1111111111111111,\"#46039f\"],[0.2222222222222222,\"#7201a8\"],[0.3333333333333333,\"#9c179e\"],[0.4444444444444444,\"#bd3786\"],[0.5555555555555556,\"#d8576b\"],[0.6666666666666666,\"#ed7953\"],[0.7777777777777778,\"#fb9f3a\"],[0.8888888888888888,\"#fdca26\"],[1.0,\"#f0f921\"]]}],\"heatmapgl\":[{\"type\":\"heatmapgl\",\"colorbar\":{\"outlinewidth\":0,\"ticks\":\"\"},\"colorscale\":[[0.0,\"#0d0887\"],[0.1111111111111111,\"#46039f\"],[0.2222222222222222,\"#7201a8\"],[0.3333333333333333,\"#9c179e\"],[0.4444444444444444,\"#bd3786\"],[0.5555555555555556,\"#d8576b\"],[0.6666666666666666,\"#ed7953\"],[0.7777777777777778,\"#fb9f3a\"],[0.8888888888888888,\"#fdca26\"],[1.0,\"#f0f921\"]]}],\"contourcarpet\":[{\"type\":\"contourcarpet\",\"colorbar\":{\"outlinewidth\":0,\"ticks\":\"\"}}],\"contour\":[{\"type\":\"contour\",\"colorbar\":{\"outlinewidth\":0,\"ticks\":\"\"},\"colorscale\":[[0.0,\"#0d0887\"],[0.1111111111111111,\"#46039f\"],[0.2222222222222222,\"#7201a8\"],[0.3333333333333333,\"#9c179e\"],[0.4444444444444444,\"#bd3786\"],[0.5555555555555556,\"#d8576b\"],[0.6666666666666666,\"#ed7953\"],[0.7777777777777778,\"#fb9f3a\"],[0.8888888888888888,\"#fdca26\"],[1.0,\"#f0f921\"]]}],\"surface\":[{\"type\":\"surface\",\"colorbar\":{\"outlinewidth\":0,\"ticks\":\"\"},\"colorscale\":[[0.0,\"#0d0887\"],[0.1111111111111111,\"#46039f\"],[0.2222222222222222,\"#7201a8\"],[0.3333333333333333,\"#9c179e\"],[0.4444444444444444,\"#bd3786\"],[0.5555555555555556,\"#d8576b\"],[0.6666666666666666,\"#ed7953\"],[0.7777777777777778,\"#fb9f3a\"],[0.8888888888888888,\"#fdca26\"],[1.0,\"#f0f921\"]]}],\"mesh3d\":[{\"type\":\"mesh3d\",\"colorbar\":{\"outlinewidth\":0,\"ticks\":\"\"}}],\"scatter\":[{\"fillpattern\":{\"fillmode\":\"overlay\",\"size\":10,\"solidity\":0.2},\"type\":\"scatter\"}],\"parcoords\":[{\"type\":\"parcoords\",\"line\":{\"colorbar\":{\"outlinewidth\":0,\"ticks\":\"\"}}}],\"scatterpolargl\":[{\"type\":\"scatterpolargl\",\"marker\":{\"colorbar\":{\"outlinewidth\":0,\"ticks\":\"\"}}}],\"bar\":[{\"error_x\":{\"color\":\"#2a3f5f\"},\"error_y\":{\"color\":\"#2a3f5f\"},\"marker\":{\"line\":{\"color\":\"#E5ECF6\",\"width\":0.5},\"pattern\":{\"fillmode\":\"overlay\",\"size\":10,\"solidity\":0.2}},\"type\":\"bar\"}],\"scattergeo\":[{\"type\":\"scattergeo\",\"marker\":{\"colorbar\":{\"outlinewidth\":0,\"ticks\":\"\"}}}],\"scatterpolar\":[{\"type\":\"scatterpolar\",\"marker\":{\"colorbar\":{\"outlinewidth\":0,\"ticks\":\"\"}}}],\"histogram\":[{\"marker\":{\"pattern\":{\"fillmode\":\"overlay\",\"size\":10,\"solidity\":0.2}},\"type\":\"histogram\"}],\"scattergl\":[{\"type\":\"scattergl\",\"marker\":{\"colorbar\":{\"outlinewidth\":0,\"ticks\":\"\"}}}],\"scatter3d\":[{\"type\":\"scatter3d\",\"line\":{\"colorbar\":{\"outlinewidth\":0,\"ticks\":\"\"}},\"marker\":{\"colorbar\":{\"outlinewidth\":0,\"ticks\":\"\"}}}],\"scattermapbox\":[{\"type\":\"scattermapbox\",\"marker\":{\"colorbar\":{\"outlinewidth\":0,\"ticks\":\"\"}}}],\"scatterternary\":[{\"type\":\"scatterternary\",\"marker\":{\"colorbar\":{\"outlinewidth\":0,\"ticks\":\"\"}}}],\"scattercarpet\":[{\"type\":\"scattercarpet\",\"marker\":{\"colorbar\":{\"outlinewidth\":0,\"ticks\":\"\"}}}],\"carpet\":[{\"aaxis\":{\"endlinecolor\":\"#2a3f5f\",\"gridcolor\":\"white\",\"linecolor\":\"white\",\"minorgridcolor\":\"white\",\"startlinecolor\":\"#2a3f5f\"},\"baxis\":{\"endlinecolor\":\"#2a3f5f\",\"gridcolor\":\"white\",\"linecolor\":\"white\",\"minorgridcolor\":\"white\",\"startlinecolor\":\"#2a3f5f\"},\"type\":\"carpet\"}],\"table\":[{\"cells\":{\"fill\":{\"color\":\"#EBF0F8\"},\"line\":{\"color\":\"white\"}},\"header\":{\"fill\":{\"color\":\"#C8D4E3\"},\"line\":{\"color\":\"white\"}},\"type\":\"table\"}],\"barpolar\":[{\"marker\":{\"line\":{\"color\":\"#E5ECF6\",\"width\":0.5},\"pattern\":{\"fillmode\":\"overlay\",\"size\":10,\"solidity\":0.2}},\"type\":\"barpolar\"}],\"pie\":[{\"automargin\":true,\"type\":\"pie\"}]},\"layout\":{\"autotypenumbers\":\"strict\",\"colorway\":[\"#636efa\",\"#EF553B\",\"#00cc96\",\"#ab63fa\",\"#FFA15A\",\"#19d3f3\",\"#FF6692\",\"#B6E880\",\"#FF97FF\",\"#FECB52\"],\"font\":{\"color\":\"#2a3f5f\"},\"hovermode\":\"closest\",\"hoverlabel\":{\"align\":\"left\"},\"paper_bgcolor\":\"white\",\"plot_bgcolor\":\"#E5ECF6\",\"polar\":{\"bgcolor\":\"#E5ECF6\",\"angularaxis\":{\"gridcolor\":\"white\",\"linecolor\":\"white\",\"ticks\":\"\"},\"radialaxis\":{\"gridcolor\":\"white\",\"linecolor\":\"white\",\"ticks\":\"\"}},\"ternary\":{\"bgcolor\":\"#E5ECF6\",\"aaxis\":{\"gridcolor\":\"white\",\"linecolor\":\"white\",\"ticks\":\"\"},\"baxis\":{\"gridcolor\":\"white\",\"linecolor\":\"white\",\"ticks\":\"\"},\"caxis\":{\"gridcolor\":\"white\",\"linecolor\":\"white\",\"ticks\":\"\"}},\"coloraxis\":{\"colorbar\":{\"outlinewidth\":0,\"ticks\":\"\"}},\"colorscale\":{\"sequential\":[[0.0,\"#0d0887\"],[0.1111111111111111,\"#46039f\"],[0.2222222222222222,\"#7201a8\"],[0.3333333333333333,\"#9c179e\"],[0.4444444444444444,\"#bd3786\"],[0.5555555555555556,\"#d8576b\"],[0.6666666666666666,\"#ed7953\"],[0.7777777777777778,\"#fb9f3a\"],[0.8888888888888888,\"#fdca26\"],[1.0,\"#f0f921\"]],\"sequentialminus\":[[0.0,\"#0d0887\"],[0.1111111111111111,\"#46039f\"],[0.2222222222222222,\"#7201a8\"],[0.3333333333333333,\"#9c179e\"],[0.4444444444444444,\"#bd3786\"],[0.5555555555555556,\"#d8576b\"],[0.6666666666666666,\"#ed7953\"],[0.7777777777777778,\"#fb9f3a\"],[0.8888888888888888,\"#fdca26\"],[1.0,\"#f0f921\"]],\"diverging\":[[0,\"#8e0152\"],[0.1,\"#c51b7d\"],[0.2,\"#de77ae\"],[0.3,\"#f1b6da\"],[0.4,\"#fde0ef\"],[0.5,\"#f7f7f7\"],[0.6,\"#e6f5d0\"],[0.7,\"#b8e186\"],[0.8,\"#7fbc41\"],[0.9,\"#4d9221\"],[1,\"#276419\"]]},\"xaxis\":{\"gridcolor\":\"white\",\"linecolor\":\"white\",\"ticks\":\"\",\"title\":{\"standoff\":15},\"zerolinecolor\":\"white\",\"automargin\":true,\"zerolinewidth\":2},\"yaxis\":{\"gridcolor\":\"white\",\"linecolor\":\"white\",\"ticks\":\"\",\"title\":{\"standoff\":15},\"zerolinecolor\":\"white\",\"automargin\":true,\"zerolinewidth\":2},\"scene\":{\"xaxis\":{\"backgroundcolor\":\"#E5ECF6\",\"gridcolor\":\"white\",\"linecolor\":\"white\",\"showbackground\":true,\"ticks\":\"\",\"zerolinecolor\":\"white\",\"gridwidth\":2},\"yaxis\":{\"backgroundcolor\":\"#E5ECF6\",\"gridcolor\":\"white\",\"linecolor\":\"white\",\"showbackground\":true,\"ticks\":\"\",\"zerolinecolor\":\"white\",\"gridwidth\":2},\"zaxis\":{\"backgroundcolor\":\"#E5ECF6\",\"gridcolor\":\"white\",\"linecolor\":\"white\",\"showbackground\":true,\"ticks\":\"\",\"zerolinecolor\":\"white\",\"gridwidth\":2}},\"shapedefaults\":{\"line\":{\"color\":\"#2a3f5f\"}},\"annotationdefaults\":{\"arrowcolor\":\"#2a3f5f\",\"arrowhead\":0,\"arrowwidth\":1},\"geo\":{\"bgcolor\":\"white\",\"landcolor\":\"#E5ECF6\",\"subunitcolor\":\"white\",\"showland\":true,\"showlakes\":true,\"lakecolor\":\"white\"},\"title\":{\"x\":0.05},\"mapbox\":{\"style\":\"light\"}}},\"xaxis\":{\"anchor\":\"y\",\"domain\":[0.0,1.0],\"title\":{\"text\":\"Statistic Approach Rank\"},\"categoryorder\":\"total ascending\"},\"yaxis\":{\"anchor\":\"x\",\"domain\":[0.0,1.0],\"title\":{\"text\":\"Median time in port (days)\"}},\"legend\":{\"title\":{\"text\":\"Economy Label\"},\"tracegroupgap\":0},\"margin\":{\"t\":60},\"barmode\":\"relative\",\"height\":500,\"width\":2000},                        {\"responsive\": true}                    ).then(function(){\n",
       "                            \n",
       "var gd = document.getElementById('6079da3e-ca1f-4a7e-a14c-9ec1abbf03b2');\n",
       "var x = new MutationObserver(function (mutations, observer) {{\n",
       "        var display = window.getComputedStyle(gd).display;\n",
       "        if (!display || display === 'none') {{\n",
       "            console.log([gd, 'removed!']);\n",
       "            Plotly.purge(gd);\n",
       "            observer.disconnect();\n",
       "        }}\n",
       "}});\n",
       "\n",
       "// Listen for the removal of the full notebook cells\n",
       "var notebookContainer = gd.closest('#notebook-container');\n",
       "if (notebookContainer) {{\n",
       "    x.observe(notebookContainer, {childList: true});\n",
       "}}\n",
       "\n",
       "// Listen for the clearing of the current output cell\n",
       "var outputEl = gd.closest('.output');\n",
       "if (outputEl) {{\n",
       "    x.observe(outputEl, {childList: true});\n",
       "}}\n",
       "\n",
       "                        })                };                });            </script>        </div>"
      ]
     },
     "metadata": {},
     "output_type": "display_data"
    }
   ],
   "source": [
    "fig = px.bar(output1, x=\"Statistic Approach Rank\", y=\"Median time in port (days)\",\n",
    "                 color=\"Economy Label\", hover_data = [\"Port Name\", \"Year\"],\n",
    "                 width = 2000, height = 500\n",
    "            )\n",
    "fig.update_xaxes(categoryorder=\"total ascending\")\n",
    "\n",
    "fig.show()"
   ]
  },
  {
   "cell_type": "code",
   "execution_count": 48,
   "metadata": {},
   "outputs": [
    {
     "data": {
      "application/vnd.plotly.v1+json": {
       "config": {
        "plotlyServerURL": "https://plot.ly"
       },
       "data": [
        {
         "cliponaxis": false,
         "marker": {
          "color": "blue"
         },
         "name": "2020",
         "textangle": 0,
         "textfont": {
          "size": 12
         },
         "textposition": "outside",
         "type": "bar",
         "x": [
          "Denmark",
          "El Salvador's",
          "Ivory Coast",
          "Australia",
          "Yemen",
          "Morocco",
          "Egypt",
          "Spain",
          "Algeria",
          "Spain",
          "Spain",
          "Turkey",
          "Italy",
          "Chile",
          "Belgium",
          "United States territory of Guam",
          "Jordan",
          "Chile",
          "Israel",
          "New Zealand",
          "USA",
          "Maryland",
          "Thailand",
          "Montenegro",
          "Spain",
          "Italy",
          "Colombia",
          "Georgia",
          "Lebanon",
          "Mozambique",
          "Algeria",
          "Indonesia",
          "Australia",
          "Somaliland",
          "Spain",
          "New Zealand",
          "France",
          "Turkey",
          "USA",
          "Germany",
          "Australia",
          "United Kingdom",
          "Colombia",
          "Argentina",
          "Bulgaria",
          "South Korea",
          "Spain",
          "Philippines",
          "Vietnam",
          "Costa Rica",
          "Peru",
          "South Africa",
          "Colombia",
          "Morocco",
          "Vietnam",
          "Italy",
          "Dominican Republic",
          " Philippines",
          "USA",
          "Bangladesh",
          "India",
          "China",
          "Ukraine",
          "Vietnam",
          "Italy",
          "India",
          "Sri Lanka",
          "Panama",
          "Guinea",
          "Romania",
          "Denmark",
          "Nicaragua",
          "Chile",
          "Benin",
          "Panama",
          "China",
          "Senegal",
          "China",
          "Egypt",
          "Saudi Arabia",
          "Vietnam",
          "Tanzania",
          "Philippines",
          "Turkey",
          "the Republic oF Djibouti",
          "Cameroon",
          "the Republic of Ireland",
          "France",
          "Albania",
          "South Africa",
          "the Netherlands",
          "Egypt",
          "Mexico",
          "United Kingdom",
          "Brazil",
          "France",
          "Denmark",
          "Bahamas",
          "Sierra Leone",
          "Australia",
          "China",
          "Sweden",
          "Poland",
          "Poland",
          "Turkey",
          "Italy",
          "Guyana",
          "Spain",
          "Italy",
          "Swden",
          "Scotland",
          "China",
          "Ecuador",
          "France",
          "Israel",
          "Vietnam",
          "Japan",
          "Canada",
          "Qatatr",
          "Germany",
          "India",
          "Sweden",
          "Finland",
          "Greece",
          "Hong Kong",
          "USA",
          "USA",
          "Brazil",
          "South Korea",
          "Chile",
          "Turkey",
          "Brazil",
          "Brazil",
          "Turkey",
          "USA",
          "India",
          "United Arab Emirates",
          "Saudi Arabia",
          "Malaysia",
          "Saudi Arabia",
          "Russia",
          "India",
          "Taiwan",
          "Pakistan",
          "India",
          "Japan",
          "Taiwan",
          "Bahrain",
          "Abu Dhabi",
          "Saudi Arabia",
          "Lithuania",
          "Jamaica",
          "Japan",
          "Cambodia",
          "Slovenia",
          "Finland",
          "Cameroon",
          "Denmark",
          "India",
          "Venezuela",
          "Italy",
          "New Guinea",
          "Thailand",
          "Nigeria",
          "Norway",
          "Syria",
          "Mexico",
          "France",
          "Portugal",
          "China",
          "Cyprus",
          "Chile",
          "United Kingdom",
          "Portugal",
          "Togo",
          "Italy",
          "United Kingdom",
          "USA",
          "USA",
          "Angola",
          "New Zealand",
          "India",
          "Spain",
          "Brazil",
          "Philippines",
          "Mexico",
          "Mozambique",
          "Cuba",
          "Malta",
          "France",
          "the Republic of the Congo",
          "Hong Kong",
          "France",
          "Mexico",
          "Chile",
          "Australia",
          "Turkey",
          "USA",
          "USA",
          "Somalia",
          "Japan",
          "Kenya",
          "Uruguay",
          "Canada",
          "Pakistan",
          "India",
          "Estonia",
          "Japan",
          "Japan",
          "France",
          "New Zealand",
          "Italy",
          "Bahamas",
          "New Zealand",
          "Turkey",
          "USA",
          "USA",
          "China",
          "South Africa",
          "Sweden",
          "Mauritania",
          "Russia",
          "France",
          "USA",
          "Ukraine",
          "Japan",
          "Nigeria",
          "Japan",
          "Norway",
          "New Zealand",
          "Gabon",
          " Peru",
          "Italy",
          "Indonesia",
          "France",
          "Brazil",
          "Brazil",
          "Malaysia",
          "USA",
          "Sint Maarten",
          "India",
          "Greece",
          "the Republic of Croatia",
          "Trinidad",
          "France",
          "the Republic of the Congo",
          "Turkey",
          "Australia",
          "Russia",
          "South Africa",
          "USA",
          "Malasyia",
          "Mauritius",
          "Spain",
          "USA",
          "France",
          "Egypt",
          "USA",
          "USA",
          "the Republic of Haiti",
          "Ecuador",
          "Georgia",
          "Canada",
          "Guatemala",
          "Ecuador",
          "Venezuela",
          "Honduras",
          "Costa Rica",
          "Mexico",
          "Guatemala",
          "Libya",
          "China",
          "China",
          "Vietnam",
          "Tunisia",
          "Finland",
          "Italy",
          "Latvia",
          "Croatia",
          "Brazil",
          "Brazil",
          "Dominican Republic",
          "the Netherlands",
          "Vietnam",
          "Canada",
          "Oman",
          "Italy",
          "Brazil",
          "Turkey",
          "Chile",
          "Capital of Puerto Rico",
          "Côte d’Ivoire",
          "USA",
          "Spain",
          "Colombia",
          "Guatemala",
          "Brazil",
          "USA",
          "Italy",
          "USA",
          "Brazil",
          "China",
          "China",
          "United Arab Emirates",
          "China",
          "Japan",
          "Kuwait",
          "Kuwait",
          "Thailand",
          "Portugal",
          "Singapore",
          "Oman",
          "Egypt",
          "United Kingdom",
          "Russia",
          "Brazil",
          "Philippines",
          "USA",
          "Taiwan",
          "Libya",
          "USA",
          "Morocco",
          "Indonesia",
          "Malasyia",
          "Indonesia",
          "Indonesia",
          "Spain",
          "Syria",
          "New Zealand",
          "England",
          "Ghana",
          "Greece",
          "China",
          "New Zealand",
          "Nigeria",
          "Madagascar",
          "Japan",
          "Japan",
          "Italy",
          "Italy",
          "Lebanon",
          "Colombia",
          "Iraq",
          "Spain",
          "Chile",
          "Canada",
          "Bulgaria",
          "Italy",
          "Mexico",
          "Spain",
          "Brazil",
          "India",
          "Brazil",
          "Russia",
          "Vietnam",
          "Namibia",
          "New Zealand",
          "Germany",
          "USA",
          "China",
          "Myanmar",
          "China",
          "China",
          "Turkey",
          "South Korea",
          "Japan",
          "Japan",
          "Ukraine",
          "Belgium",
          "China",
          "Saudi Arabia",
          "Oman",
          "Qatatr",
          "China",
          "Abu Dhabi",
          "Morocco",
          "China",
          "Saudi Arabia",
          "China",
          "Japan",
          "Spain",
          "Colombia",
          "Vietnam",
          "Saudi Arabia",
          "Egypt",
          "China",
          "China",
          "Malasyia",
          " the Republic oF Djibouti",
          "Colombia",
          "Taiwan",
          "Spain",
          "United States of America",
          "Sri Lanka",
          "South Korea",
          "India",
          "China",
          "Turkey",
          "United States of America",
          "Portugal",
          "Singapore",
          "India",
          "South Korea",
          "Turkey",
          "Jordan",
          "Japan",
          "Vietnam",
          "United Arab Emirates",
          "Spain",
          "Japan",
          "Japan",
          "China",
          "Turkey",
          "China",
          "China",
          "Canada",
          "Oman",
          "India",
          "United States of America",
          "Hong Kong",
          "Brazil",
          "South Korea",
          "Japan",
          "India",
          "United States of America",
          "Japan",
          "Thailand",
          "Egypt",
          "Germany",
          "United States of America",
          "United States of America",
          "Bahrain",
          "Vietnam",
          "United States of America",
          "Italy",
          "Ecuador",
          "Taiwan",
          "India",
          "Malasyia",
          "Turkey",
          "Spain",
          "Brazil",
          "Panama",
          "Malta",
          "Peru",
          "Maryland",
          "Turkey",
          "China",
          "India",
          "Malaysia",
          "Pakistan",
          "Denmark",
          "China",
          "India",
          "Spain",
          "Costa Rica",
          "Lebanon",
          "France",
          "Mexico",
          "Pakistan",
          "Japan",
          "Mexico",
          "Brazil",
          "Italy",
          "India",
          "Belgium",
          "Brazil",
          "India",
          "India",
          "United States of America",
          "Greece",
          "Mexico",
          "Thailand",
          "Mexico",
          "France",
          "India",
          "Indonesia",
          "Chile",
          "France",
          "Guatemala",
          "Malaysia",
          "Brazil",
          "Turkey",
          "Dominican Republic",
          "United States of America",
          "United States of America",
          "United States of America",
          "Scandinavia",
          "United States of America",
          "Japan",
          "Brazil",
          "France",
          "Brazil",
          "Indonesia",
          "Taiwan",
          "Chile",
          "Japan",
          "Japan",
          "Slovenia",
          "United States of America",
          "Jamaica",
          "Japan",
          "China",
          "Panama",
          "Spain",
          "China",
          "Spain",
          "Russia",
          "Egypt",
          "Vietnam",
          "Argentina",
          "China",
          "Colombia",
          "Honduras",
          "Vietnam",
          "Norway",
          "Cyprus",
          "Turkey",
          "Spain",
          "Iraq's",
          "New Zealand",
          "Turkey",
          "Indonesia",
          "Vietnam",
          "United Arab Emirates",
          "Ecuador",
          "Capital of Puerto Rico",
          "Dominican Republic",
          "Colombia",
          "Spain",
          "Vietnam",
          "Italy",
          "United States of America",
          " Philippines",
          "China",
          "United States of America",
          "France",
          "Sweden",
          "Ukraine",
          "Guatemala",
          "the Republic of the Congo",
          "Russia",
          "the Republic of Croatia",
          "Syria",
          "Estonia",
          "Denmark",
          "Sint Maarten",
          "the Republic of Haiti",
          "Italy",
          "Finland",
          "Philippines",
          "Sweden",
          "Montenegro",
          "Somaliland",
          "Kuwait",
          "Lithuania",
          "Italy",
          "Brazil",
          "Kuwait",
          "Croatia",
          "Italy",
          "Italy",
          "Italy",
          "New Zealand",
          "Bulgaria",
          "Israel",
          "France",
          "Brazil",
          "United States territory of Guam",
          "Mexico",
          "Finland",
          "Spain",
          "Poland",
          "Italy",
          "Portugal",
          "Denmark",
          "Brazil",
          "Philippines",
          "Ukraine",
          "Norway",
          "Japan",
          "Bahamas",
          "Italy",
          "Latvia",
          "Portugal",
          "Greece",
          "Brazil",
          "Australia",
          "Syria",
          "Vietnam",
          "Spain",
          "Cuba",
          "Denmark",
          "Turkey",
          "Bulgaria",
          "Georgia",
          "Mexico",
          "France",
          "Spain",
          "Cambodia",
          "Chile",
          "Germany",
          "Germany",
          "Chile",
          "Italy",
          "Spain",
          "Tunisia",
          "Guyana",
          "Japan",
          "Canada",
          "New Zealand",
          "Guinea",
          "Finland",
          "Brazil",
          "Georgia",
          "Indonesia",
          "China",
          "Turkey",
          "Saudi Arabia",
          "Indonesia",
          "United States of America",
          "Sweden",
          "Turkey",
          "Spain",
          "Poland",
          "Russia",
          "England",
          "Peru",
          "Somalia",
          "Costa Rica",
          "Morocco",
          "Morocco",
          "Brazil",
          "Australia",
          "Venezuela",
          "China",
          "Colombia",
          "Sierra Leone",
          "United States of America",
          "Mozambique",
          "El Salvador's",
          "Romania",
          "Guatemala",
          "Philippines",
          "Brazil",
          "Russia",
          "Egypt",
          "Belgium",
          "Madagascar",
          "Brazil",
          "Libya",
          "Libya",
          "Italy",
          "Uruguay",
          "Algeria",
          "Nicaragua",
          "Venezuela",
          "Australia",
          "United States of America",
          "New Zealand",
          "the Netherlands",
          "France",
          "Kenya",
          "France",
          "Trinidad",
          "Ecuador",
          "Chile",
          "New Zealand",
          "Thailand",
          "the Republic of Ireland",
          "New Guinea",
          "Gabon",
          "Senegal",
          "Myanmar",
          "Yemen",
          "Algeria",
          "Scotland",
          "Australia",
          "Albania",
          "New Zealand",
          "Canada",
          "South Africa",
          "Italy",
          "New Zealand",
          "France",
          "China",
          "Ukraine",
          "Côte d’Ivoire",
          "Chile",
          "Chile",
          "Mozambique",
          "United Kingdom",
          "Mauritius",
          "Australia",
          "New Zealand",
          "Italy",
          "Philippines",
          "Namibia",
          "Israel",
          "Russia",
          "Greece",
          "the Netherlands",
          "France",
          "United Kingdom",
          "Australia",
          "United States of America",
          "Italy",
          "Italy",
          "Nigeria",
          "Cameroon",
          "Bangladesh",
          "Nigeria",
          "United Kingdom",
          "Canada",
          "United States of America",
          "United Kingdom",
          "United Kingdom",
          "Benin",
          "Togo",
          "France",
          "New Zealand",
          "Bahamas",
          "Egypt",
          "Ghana",
          "Cameroon",
          "Mauritania",
          "Lebanon",
          "Nigeria",
          "United States of America",
          "Ivory Coast",
          "Tanzania",
          "the Republic of the Congo",
          "South Africa",
          "DURBAN",
          "South Africa",
          "Angola",
          "United States of America",
          "Canada",
          "United States of America",
          "United States of America"
         ],
         "y": [
          [
           369,
           -952.47,
           370,
           2020
          ],
          [
           370,
           -954.086,
           369,
           2020
          ],
          [
           364,
           -386.098,
           351,
           2020
          ],
          [
           368,
           -573.524,
           368,
           2020
          ],
          [
           345,
           5.696,
           350,
           2020
          ],
          [
           367,
           -464.721,
           367,
           2020
          ],
          [
           363,
           -359.179,
           349,
           2020
          ],
          [
           348,
           7.659,
           348,
           2020
          ],
          [
           347,
           6.528,
           347,
           2020
          ],
          [
           344,
           5.501,
           346,
           2020
          ],
          [
           366,
           -442.446,
           366,
           2020
          ],
          [
           351,
           8.401,
           365,
           2020
          ],
          [
           365,
           -410.746,
           364,
           2020
          ],
          [
           349,
           8.082,
           363,
           2020
          ],
          [
           346,
           5.832,
           345,
           2020
          ],
          [
           343,
           4.789,
           344,
           2020
          ],
          [
           350,
           8.383,
           343,
           2020
          ],
          [
           55,
           -1.807,
           342,
           2020
          ],
          [
           362,
           -320.281,
           362,
           2020
          ],
          [
           361,
           -248.798,
           361,
           2020
          ],
          [
           333,
           3.175,
           341,
           2020
          ],
          [
           359,
           -207.413,
           360,
           2020
          ],
          [
           360,
           -216.138,
           359,
           2020
          ],
          [
           334,
           3.302,
           340,
           2020
          ],
          [
           142,
           -0.344,
           339,
           2020
          ],
          [
           4,
           -5.162,
           338,
           2020
          ],
          [
           328,
           2.899,
           337,
           2020
          ],
          [
           358,
           -188.317,
           358,
           2020
          ],
          [
           307,
           1.819,
           336,
           2020
          ],
          [
           663,
           6.303,
           669,
           4040
          ],
          [
           339,
           4.546,
           333,
           2020
          ],
          [
           251,
           0.658,
           332,
           2020
          ],
          [
           242,
           0.558,
           357,
           2020
          ],
          [
           278,
           1.148,
           331,
           2020
          ],
          [
           357,
           -183.442,
           356,
           2020
          ],
          [
           82,
           -1.117,
           355,
           2020
          ],
          [
           338,
           4.054,
           330,
           2020
          ],
          [
           295,
           1.475,
           354,
           2020
          ],
          [
           354,
           -160.565,
           353,
           2020
          ],
          [
           293,
           1.459,
           352,
           2020
          ],
          [
           335,
           3.628,
           329,
           2020
          ],
          [
           273,
           1.033,
           328,
           2020
          ],
          [
           337,
           3.907,
           327,
           2020
          ],
          [
           329,
           2.97,
           326,
           2020
          ],
          [
           325,
           2.591,
           325,
           2020
          ],
          [
           324,
           2.561,
           324,
           2020
          ],
          [
           330,
           2.979,
           323,
           2020
          ],
          [
           666,
           -156.451,
           643,
           4040
          ],
          [
           34,
           -2.422,
           320,
           2020
          ],
          [
           535,
           2.426,
           637,
           4040
          ],
          [
           290,
           1.404,
           317,
           2020
          ],
          [
           623,
           4.296,
           631,
           4040
          ],
          [
           873,
           4.355,
           939,
           6060
          ],
          [
           289,
           1.381,
           311,
           2020
          ],
          [
           320,
           2.391,
           310,
           2020
          ],
          [
           199,
           0.126,
           309,
           2020
          ],
          [
           592,
           3.04,
           615,
           4040
          ],
          [
           417,
           0.9219999999999999,
           611,
           4040
          ],
          [
           317,
           2.225,
           304,
           2020
          ],
          [
           535,
           2.009,
           605,
           4040
          ],
          [
           325,
           -1.1720000000000002,
           601,
           4040
          ],
          [
           1034,
           3.924,
           1190,
           8080
          ],
          [
           826,
           3.761,
           882,
           6060
          ],
          [
           626,
           -174.538,
           583,
           4040
          ],
          [
           1230,
           -170.008,
           1154,
           8080
          ],
          [
           2,
           -5.684,
           286,
           2020
          ],
          [
           822,
           3.12,
           852,
           6060
          ],
          [
           319,
           -0.9729999999999999,
           563,
           4040
          ],
          [
           609,
           3.476,
           559,
           4040
          ],
          [
           1669,
           7.957,
           1653,
           12120
          ],
          [
           925,
           4.92,
           1082,
           8080
          ],
          [
           1042,
           3.893,
           1066,
           8080
          ],
          [
           448,
           0.728,
           527,
           4040
          ],
          [
           984,
           2.794,
           1042,
           8080
          ],
          [
           1180,
           3.144,
           1280,
           10100
          ],
          [
           267,
           0.915,
           253,
           2020
          ],
          [
           473,
           1.08,
           503,
           4040
          ],
          [
           954,
           2.1310000000000002,
           994,
           8080
          ],
          [
           1020,
           3.682,
           978,
           8080
          ],
          [
           1130,
           -2.195,
           1437,
           12120
          ],
          [
           1003,
           2.564,
           938,
           8080
          ],
          [
           1213,
           -2.194,
           1603,
           14140
          ],
          [
           815,
           3.8759999999999994,
           894,
           8080
          ],
          [
           1245,
           -158.616,
           1311,
           12120
          ],
          [
           855,
           -1.9640000000000002,
           1065,
           10100
          ],
          [
           702,
           1.463,
           627,
           6060
          ],
          [
           1375,
           0.848,
           1428,
           14140
          ],
          [
           1562,
           4.3020000000000005,
           1379,
           14140
          ],
          [
           2016,
           2.0809999999999995,
           2068,
           22220
          ],
          [
           840,
           -1.393,
           900,
           10100
          ],
          [
           596,
           -1.2870000000000001,
           702,
           8080
          ],
          [
           1133,
           0.577,
           1023,
           12120
          ],
          [
           454,
           -0.815,
           498,
           6060
          ],
          [
           1014,
           1.0749999999999997,
           969,
           12120
          ],
          [
           932,
           -1.1719999999999997,
           933,
           12120
          ],
          [
           534,
           -1.715,
           602,
           8080
          ],
          [
           1538,
           -2.414,
           1435,
           20200
          ],
          [
           725,
           -3.447,
           813,
           12120
          ],
          [
           791,
           -5.0649999999999995,
           903,
           14140
          ],
          [
           563,
           -3.173,
           615,
           10100
          ],
          [
           576,
           -3.849,
           590,
           10100
          ],
          [
           84,
           -1.053,
           115,
           2020
          ],
          [
           347,
           -0.17,
           227,
           4040
          ],
          [
           435,
           -5.481,
           550,
           10100
          ],
          [
           1336,
           1.273,
           728,
           14140
          ],
          [
           641,
           1.1449999999999998,
           297,
           6060
          ],
          [
           437,
           0.939,
           193,
           4040
          ],
          [
           254,
           -3.265,
           282,
           6060
          ],
          [
           180,
           -1.9289999999999998,
           183,
           4040
          ],
          [
           116,
           -0.611,
           90,
           2020
          ],
          [
           543,
           -1.758,
           350,
           8080
          ],
          [
           114,
           -3.603,
           169,
           4040
          ],
          [
           314,
           -0.477,
           165,
           4040
          ],
          [
           202,
           -6.303,
           240,
           6060
          ],
          [
           460,
           -8.026,
           453,
           12120
          ],
          [
           70,
           -1.376,
           72,
           2020
          ],
          [
           201,
           -4.38,
           210,
           6060
          ],
          [
           195,
           -2.592,
           135,
           4040
          ],
          [
           386,
           -4.039,
           258,
           8080
          ],
          [
           68,
           -5.161,
           123,
           4040
          ],
          [
           459,
           -3.4640000000000004,
           234,
           8080
          ],
          [
           231,
           0.45,
           56,
           2020
          ],
          [
           43,
           -2.051,
           55,
           2020
          ],
          [
           130,
           -3.238,
           107,
           4040
          ],
          [
           707,
           2.351,
           153,
           6060
          ],
          [
           79,
           -4.7829999999999995,
           97,
           4040
          ],
          [
           198,
           -4.4990000000000006,
           138,
           6060
          ],
          [
           94,
           -3.9379999999999997,
           87,
           4040
          ],
          [
           323,
           2.482,
           42,
           2020
          ],
          [
           60,
           -1.594,
           41,
           2020
          ],
          [
           60,
           -5.202,
           79,
           4040
          ],
          [
           355,
           -3.39,
           111,
           6060
          ],
          [
           73,
           -4.773,
           69,
           4040
          ],
          [
           27,
           -6.806,
           65,
           4040
          ],
          [
           206,
           0.201,
           31,
           2020
          ],
          [
           95,
           -7.775,
           87,
           6060
          ],
          [
           65,
           -6.743,
           53,
           4040
          ],
          [
           111,
           -4.119,
           49,
           4040
          ],
          [
           311,
           -0.491,
           45,
           4040
          ],
          [
           326,
           2.716,
           21,
           2020
          ],
          [
           218,
           0.31,
           20,
           2020
          ],
          [
           33,
           -2.506,
           19,
           2020
          ],
          [
           49,
           -1.932,
           18,
           2020
          ],
          [
           29,
           -2.724,
           17,
           2020
          ],
          [
           30,
           -2.681,
           16,
           2020
          ],
          [
           27,
           -2.769,
           15,
           2020
          ],
          [
           14,
           -3.334,
           14,
           2020
          ],
          [
           39,
           -6.084,
           25,
           4040
          ],
          [
           13,
           -3.342,
           11,
           2020
          ],
          [
           34,
           -7.263999999999999,
           19,
           4040
          ],
          [
           20,
           -2.963,
           8,
           2020
          ],
          [
           178,
           -0.03,
           7,
           2020
          ],
          [
           243,
           0.56,
           6,
           2020
          ],
          [
           9,
           -3.726,
           5,
           2020
          ],
          [
           167,
           -0.159,
           4,
           2020
          ],
          [
           8,
           -3.86,
           3,
           2020
          ],
          [
           26,
           -2.795,
           2,
           2020
          ],
          [
           1,
           -5.995,
           1,
           2020
          ]
         ]
        },
        {
         "cliponaxis": false,
         "marker": {
          "color": "green"
         },
         "name": "2021",
         "textangle": 0,
         "textfont": {
          "size": 12
         },
         "textposition": "outside",
         "type": "bar",
         "x": [
          "Denmark",
          "El Salvador's",
          "Ivory Coast",
          "Australia",
          "Yemen",
          "Morocco",
          "Egypt",
          "Spain",
          "Algeria",
          "Spain",
          "Spain",
          "Turkey",
          "Italy",
          "Chile",
          "Belgium",
          "United States territory of Guam",
          "Jordan",
          "Chile",
          "Israel",
          "New Zealand",
          "USA",
          "Maryland",
          "Thailand",
          "Montenegro",
          "Spain",
          "Italy",
          "Colombia",
          "Georgia",
          "Lebanon",
          "Mozambique",
          "Algeria",
          "Indonesia",
          "Australia",
          "Somaliland",
          "Spain",
          "New Zealand",
          "France",
          "Turkey",
          "USA",
          "Germany",
          "Australia",
          "United Kingdom",
          "Colombia",
          "Argentina",
          "Bulgaria",
          "South Korea",
          "Spain",
          "Philippines",
          "Vietnam",
          "Costa Rica",
          "Peru",
          "South Africa",
          "Colombia",
          "Morocco",
          "Vietnam",
          "Italy",
          "Dominican Republic",
          " Philippines",
          "USA",
          "Bangladesh",
          "India",
          "China",
          "Ukraine",
          "Vietnam",
          "Italy",
          "India",
          "Sri Lanka",
          "Panama",
          "Guinea",
          "Romania",
          "Denmark",
          "Nicaragua",
          "Chile",
          "Benin",
          "Panama",
          "China",
          "Senegal",
          "China",
          "Egypt",
          "Saudi Arabia",
          "Vietnam",
          "Tanzania",
          "Philippines",
          "Turkey",
          "the Republic oF Djibouti",
          "Cameroon",
          "the Republic of Ireland",
          "France",
          "Albania",
          "South Africa",
          "the Netherlands",
          "Egypt",
          "Mexico",
          "United Kingdom",
          "Brazil",
          "France",
          "Denmark",
          "Bahamas",
          "Sierra Leone",
          "Australia",
          "China",
          "Sweden",
          "Poland",
          "Poland",
          "Turkey",
          "Italy",
          "Guyana",
          "Spain",
          "Italy",
          "Swden",
          "Scotland",
          "China",
          "Ecuador",
          "France",
          "Israel",
          "Vietnam",
          "Japan",
          "Canada",
          "Qatatr",
          "Germany",
          "India",
          "Sweden",
          "Finland",
          "Greece",
          "Hong Kong",
          "USA",
          "USA",
          "Brazil",
          "South Korea",
          "Chile",
          "Turkey",
          "Brazil",
          "Brazil",
          "Turkey",
          "USA",
          "India",
          "United Arab Emirates",
          "Saudi Arabia",
          "Malaysia",
          "Saudi Arabia",
          "Russia",
          "India",
          "Taiwan",
          "Pakistan",
          "India",
          "Japan",
          "Taiwan",
          "Bahrain",
          "Abu Dhabi",
          "Saudi Arabia",
          "Lithuania",
          "Jamaica",
          "Japan",
          "Cambodia",
          "Slovenia",
          "Finland",
          "Cameroon",
          "Denmark",
          "India",
          "Venezuela",
          "Italy",
          "New Guinea",
          "Thailand",
          "Nigeria",
          "Norway",
          "Syria",
          "Mexico",
          "France",
          "Portugal",
          "China",
          "Cyprus",
          "Chile",
          "United Kingdom",
          "Portugal",
          "Togo",
          "Italy",
          "United Kingdom",
          "USA",
          "USA",
          "Angola",
          "New Zealand",
          "India",
          "Spain",
          "Brazil",
          "Philippines",
          "Mexico",
          "Mozambique",
          "Cuba",
          "Malta",
          "France",
          "the Republic of the Congo",
          "Hong Kong",
          "France",
          "Mexico",
          "Chile",
          "Australia",
          "Turkey",
          "USA",
          "USA",
          "Somalia",
          "Japan",
          "Kenya",
          "Uruguay",
          "Canada",
          "Pakistan",
          "India",
          "Estonia",
          "Japan",
          "Japan",
          "France",
          "New Zealand",
          "Italy",
          "Bahamas",
          "New Zealand",
          "Turkey",
          "USA",
          "USA",
          "China",
          "South Africa",
          "Sweden",
          "Mauritania",
          "Russia",
          "France",
          "USA",
          "Ukraine",
          "Japan",
          "Nigeria",
          "Japan",
          "Norway",
          "New Zealand",
          "Gabon",
          " Peru",
          "Italy",
          "Indonesia",
          "France",
          "Brazil",
          "Brazil",
          "Malaysia",
          "USA",
          "Sint Maarten",
          "India",
          "Greece",
          "the Republic of Croatia",
          "Trinidad",
          "France",
          "the Republic of the Congo",
          "Turkey",
          "Australia",
          "Russia",
          "South Africa",
          "USA",
          "Malasyia",
          "Mauritius",
          "Spain",
          "USA",
          "France",
          "Egypt",
          "USA",
          "USA",
          "the Republic of Haiti",
          "Ecuador",
          "Georgia",
          "Canada",
          "Guatemala",
          "Ecuador",
          "Venezuela",
          "Honduras",
          "Costa Rica",
          "Mexico",
          "Guatemala",
          "Libya",
          "China",
          "China",
          "Vietnam",
          "Tunisia",
          "Finland",
          "Italy",
          "Latvia",
          "Croatia",
          "Brazil",
          "Brazil",
          "Dominican Republic",
          "the Netherlands",
          "Vietnam",
          "Canada",
          "Oman",
          "Italy",
          "Brazil",
          "Turkey",
          "Chile",
          "Capital of Puerto Rico",
          "Côte d’Ivoire",
          "USA",
          "Spain",
          "Colombia",
          "Guatemala",
          "Brazil",
          "USA",
          "Italy",
          "USA",
          "Brazil",
          "China",
          "China",
          "United Arab Emirates",
          "China",
          "Japan",
          "Kuwait",
          "Kuwait",
          "Thailand",
          "Portugal",
          "Singapore",
          "Oman",
          "Egypt",
          "United Kingdom",
          "Russia",
          "Brazil",
          "Philippines",
          "USA",
          "Taiwan",
          "Libya",
          "USA",
          "Morocco",
          "Indonesia",
          "Malasyia",
          "Indonesia",
          "Indonesia",
          "Spain",
          "Syria",
          "New Zealand",
          "England",
          "Ghana",
          "Greece",
          "China",
          "New Zealand",
          "Nigeria",
          "Madagascar",
          "Japan",
          "Japan",
          "Italy",
          "Italy",
          "Lebanon",
          "Colombia",
          "Iraq",
          "Spain",
          "Chile",
          "Canada",
          "Bulgaria",
          "Italy",
          "Mexico",
          "Spain",
          "Brazil",
          "India",
          "Brazil",
          "Russia",
          "Vietnam",
          "Namibia",
          "New Zealand",
          "Germany",
          "USA",
          "China",
          "Myanmar",
          "China",
          "China",
          "Turkey",
          "South Korea",
          "Japan",
          "Japan",
          "Ukraine",
          "Belgium",
          "China",
          "Saudi Arabia",
          "Oman",
          "Qatatr",
          "China",
          "Abu Dhabi",
          "Morocco",
          "China",
          "Saudi Arabia",
          "China",
          "Japan",
          "Spain",
          "Colombia",
          "Vietnam",
          "Saudi Arabia",
          "Egypt",
          "China",
          "China",
          "Malasyia",
          " the Republic oF Djibouti",
          "Colombia",
          "Taiwan",
          "Spain",
          "United States of America",
          "Sri Lanka",
          "South Korea",
          "India",
          "China",
          "Turkey",
          "United States of America",
          "Portugal",
          "Singapore",
          "India",
          "South Korea",
          "Turkey",
          "Jordan",
          "Japan",
          "Vietnam",
          "United Arab Emirates",
          "Spain",
          "Japan",
          "Japan",
          "China",
          "Turkey",
          "China",
          "China",
          "Canada",
          "Oman",
          "India",
          "United States of America",
          "Hong Kong",
          "Brazil",
          "South Korea",
          "Japan",
          "India",
          "United States of America",
          "Japan",
          "Thailand",
          "Egypt",
          "Germany",
          "United States of America",
          "United States of America",
          "Bahrain",
          "Vietnam",
          "United States of America",
          "Italy",
          "Ecuador",
          "Taiwan",
          "India",
          "Malasyia",
          "Turkey",
          "Spain",
          "Brazil",
          "Panama",
          "Malta",
          "Peru",
          "Maryland",
          "Turkey",
          "China",
          "India",
          "Malaysia",
          "Pakistan",
          "Denmark",
          "China",
          "India",
          "Spain",
          "Costa Rica",
          "Lebanon",
          "France",
          "Mexico",
          "Pakistan",
          "Japan",
          "Mexico",
          "Brazil",
          "Italy",
          "India",
          "Belgium",
          "Brazil",
          "India",
          "India",
          "United States of America",
          "Greece",
          "Mexico",
          "Thailand",
          "Mexico",
          "France",
          "India",
          "Indonesia",
          "Chile",
          "France",
          "Guatemala",
          "Malaysia",
          "Brazil",
          "Turkey",
          "Dominican Republic",
          "United States of America",
          "United States of America",
          "United States of America",
          "Scandinavia",
          "United States of America",
          "Japan",
          "Brazil",
          "France",
          "Brazil",
          "Indonesia",
          "Taiwan",
          "Chile",
          "Japan",
          "Japan",
          "Slovenia",
          "United States of America",
          "Jamaica",
          "Japan",
          "China",
          "Panama",
          "Spain",
          "China",
          "Spain",
          "Russia",
          "Egypt",
          "Vietnam",
          "Argentina",
          "China",
          "Colombia",
          "Honduras",
          "Vietnam",
          "Norway",
          "Cyprus",
          "Turkey",
          "Spain",
          "Iraq's",
          "New Zealand",
          "Turkey",
          "Indonesia",
          "Vietnam",
          "United Arab Emirates",
          "Ecuador",
          "Capital of Puerto Rico",
          "Dominican Republic",
          "Colombia",
          "Spain",
          "Vietnam",
          "Italy",
          "United States of America",
          " Philippines",
          "China",
          "United States of America",
          "France",
          "Sweden",
          "Ukraine",
          "Guatemala",
          "the Republic of the Congo",
          "Russia",
          "the Republic of Croatia",
          "Syria",
          "Estonia",
          "Denmark",
          "Sint Maarten",
          "the Republic of Haiti",
          "Italy",
          "Finland",
          "Philippines",
          "Sweden",
          "Montenegro",
          "Somaliland",
          "Kuwait",
          "Lithuania",
          "Italy",
          "Brazil",
          "Kuwait",
          "Croatia",
          "Italy",
          "Italy",
          "Italy",
          "New Zealand",
          "Bulgaria",
          "Israel",
          "France",
          "Brazil",
          "United States territory of Guam",
          "Mexico",
          "Finland",
          "Spain",
          "Poland",
          "Italy",
          "Portugal",
          "Denmark",
          "Brazil",
          "Philippines",
          "Ukraine",
          "Norway",
          "Japan",
          "Bahamas",
          "Italy",
          "Latvia",
          "Portugal",
          "Greece",
          "Brazil",
          "Australia",
          "Syria",
          "Vietnam",
          "Spain",
          "Cuba",
          "Denmark",
          "Turkey",
          "Bulgaria",
          "Georgia",
          "Mexico",
          "France",
          "Spain",
          "Cambodia",
          "Chile",
          "Germany",
          "Germany",
          "Chile",
          "Italy",
          "Spain",
          "Tunisia",
          "Guyana",
          "Japan",
          "Canada",
          "New Zealand",
          "Guinea",
          "Finland",
          "Brazil",
          "Georgia",
          "Indonesia",
          "China",
          "Turkey",
          "Saudi Arabia",
          "Indonesia",
          "United States of America",
          "Sweden",
          "Turkey",
          "Spain",
          "Poland",
          "Russia",
          "England",
          "Peru",
          "Somalia",
          "Costa Rica",
          "Morocco",
          "Morocco",
          "Brazil",
          "Australia",
          "Venezuela",
          "China",
          "Colombia",
          "Sierra Leone",
          "United States of America",
          "Mozambique",
          "El Salvador's",
          "Romania",
          "Guatemala",
          "Philippines",
          "Brazil",
          "Russia",
          "Egypt",
          "Belgium",
          "Madagascar",
          "Brazil",
          "Libya",
          "Libya",
          "Italy",
          "Uruguay",
          "Algeria",
          "Nicaragua",
          "Venezuela",
          "Australia",
          "United States of America",
          "New Zealand",
          "the Netherlands",
          "France",
          "Kenya",
          "France",
          "Trinidad",
          "Ecuador",
          "Chile",
          "New Zealand",
          "Thailand",
          "the Republic of Ireland",
          "New Guinea",
          "Gabon",
          "Senegal",
          "Myanmar",
          "Yemen",
          "Algeria",
          "Scotland",
          "Australia",
          "Albania",
          "New Zealand",
          "Canada",
          "South Africa",
          "Italy",
          "New Zealand",
          "France",
          "China",
          "Ukraine",
          "Côte d’Ivoire",
          "Chile",
          "Chile",
          "Mozambique",
          "United Kingdom",
          "Mauritius",
          "Australia",
          "New Zealand",
          "Italy",
          "Philippines",
          "Namibia",
          "Israel",
          "Russia",
          "Greece",
          "the Netherlands",
          "France",
          "United Kingdom",
          "Australia",
          "United States of America",
          "Italy",
          "Italy",
          "Nigeria",
          "Cameroon",
          "Bangladesh",
          "Nigeria",
          "United Kingdom",
          "Canada",
          "United States of America",
          "United Kingdom",
          "United Kingdom",
          "Benin",
          "Togo",
          "France",
          "New Zealand",
          "Bahamas",
          "Egypt",
          "Ghana",
          "Cameroon",
          "Mauritania",
          "Lebanon",
          "Nigeria",
          "United States of America",
          "Ivory Coast",
          "Tanzania",
          "the Republic of the Congo",
          "South Africa",
          "DURBAN",
          "South Africa",
          "Angola",
          "United States of America",
          "Canada",
          "United States of America",
          "United States of America"
         ],
         "y": [
          [
           369,
           -952.47,
           370,
           2021
          ],
          [
           370,
           -954.086,
           369,
           2021
          ],
          [
           368,
           -573.524,
           368,
           2021
          ],
          [
           367,
           -464.721,
           367,
           2021
          ],
          [
           366,
           -442.446,
           366,
           2021
          ],
          [
           363,
           -359.179,
           365,
           2021
          ],
          [
           365,
           -410.746,
           364,
           2021
          ],
          [
           364,
           -386.098,
           363,
           2021
          ],
          [
           362,
           -320.281,
           362,
           2021
          ],
          [
           361,
           -248.798,
           361,
           2021
          ],
          [
           359,
           -207.413,
           360,
           2021
          ],
          [
           360,
           -216.138,
           359,
           2021
          ],
          [
           358,
           -188.317,
           358,
           2021
          ],
          [
           355,
           -174.476,
           357,
           2021
          ],
          [
           357,
           -183.442,
           356,
           2021
          ],
          [
           347,
           -124.535,
           355,
           2021
          ],
          [
           356,
           -175.532,
           354,
           2021
          ],
          [
           354,
           -160.565,
           353,
           2021
          ],
          [
           353,
           -158.457,
           352,
           2021
          ],
          [
           352,
           -157.072,
           351,
           2021
          ],
          [
           351,
           -142.913,
           350,
           2021
          ],
          [
           349,
           -133.17,
           349,
           2021
          ],
          [
           346,
           -120.369,
           348,
           2021
          ],
          [
           341,
           -109.249,
           347,
           2021
          ],
          [
           348,
           -130.819,
           346,
           2021
          ],
          [
           350,
           -142.6,
           345,
           2021
          ],
          [
           343,
           -111.703,
           344,
           2021
          ],
          [
           342,
           -111.104,
           343,
           2021
          ],
          [
           329,
           -69.31,
           342,
           2021
          ],
          [
           345,
           -119.152,
           341,
           2021
          ],
          [
           340,
           -106.203,
           340,
           2021
          ],
          [
           344,
           -114.287,
           339,
           2021
          ],
          [
           326,
           -64.659,
           338,
           2021
          ],
          [
           332,
           -74.601,
           337,
           2021
          ],
          [
           334,
           -86.502,
           336,
           2021
          ],
          [
           337,
           -93.568,
           335,
           2021
          ],
          [
           339,
           -98.354,
           334,
           2021
          ],
          [
           338,
           -96.571,
           333,
           2021
          ],
          [
           328,
           -68.372,
           332,
           2021
          ],
          [
           333,
           -85.474,
           331,
           2021
          ],
          [
           325,
           -64.477,
           330,
           2021
          ],
          [
           323,
           -61.778,
           329,
           2021
          ],
          [
           335,
           -90.529,
           328,
           2021
          ],
          [
           331,
           -71.418,
           327,
           2021
          ],
          [
           330,
           -69.773,
           326,
           2021
          ],
          [
           322,
           -58.778,
           325,
           2021
          ],
          [
           327,
           -67.096,
           324,
           2021
          ],
          [
           321,
           -58.683,
           323,
           2021
          ],
          [
           336,
           -92.888,
           322,
           2021
          ],
          [
           324,
           -63.908,
           321,
           2021
          ],
          [
           320,
           -55.808,
           320,
           2021
          ],
          [
           309,
           -37.626,
           319,
           2021
          ],
          [
           316,
           -51.827,
           318,
           2021
          ],
          [
           312,
           -46.416,
           317,
           2021
          ],
          [
           307,
           -36.219,
           316,
           2021
          ],
          [
           318,
           -53.819,
           315,
           2021
          ],
          [
           310,
           -37.693,
           314,
           2021
          ],
          [
           311,
           -39.809,
           313,
           2021
          ],
          [
           314,
           -47.72,
           312,
           2021
          ],
          [
           319,
           -53.887,
           311,
           2021
          ],
          [
           317,
           -52.207,
           310,
           2021
          ],
          [
           313,
           -47.346,
           309,
           2021
          ],
          [
           303,
           -32.84,
           308,
           2021
          ],
          [
           304,
           -34.103,
           307,
           2021
          ],
          [
           301,
           -31.73,
           306,
           2021
          ],
          [
           306,
           -36.205,
           305,
           2021
          ],
          [
           299,
           -30.452,
           304,
           2021
          ],
          [
           302,
           -32.614,
           303,
           2021
          ],
          [
           296,
           -29.497,
           302,
           2021
          ],
          [
           295,
           -28.104,
           301,
           2021
          ],
          [
           291,
           -26.82,
           300,
           2021
          ],
          [
           300,
           -30.607,
           299,
           2021
          ],
          [
           289,
           -25.449,
           298,
           2021
          ],
          [
           315,
           -49.482,
           297,
           2021
          ],
          [
           293,
           -27.174,
           296,
           2021
          ],
          [
           297,
           -30.042,
           295,
           2021
          ],
          [
           308,
           -37.421,
           294,
           2021
          ],
          [
           294,
           -27.444,
           293,
           2021
          ],
          [
           298,
           -30.113,
           292,
           2021
          ],
          [
           278,
           -15.389,
           291,
           2021
          ],
          [
           281,
           -18.202,
           290,
           2021
          ],
          [
           285,
           -21.27,
           289,
           2021
          ],
          [
           282,
           -18.283,
           288,
           2021
          ],
          [
           280,
           -17.478,
           287,
           2021
          ],
          [
           292,
           -26.886,
           286,
           2021
          ],
          [
           305,
           -34.779,
           285,
           2021
          ],
          [
           287,
           -23.284,
           284,
           2021
          ],
          [
           286,
           -21.337,
           283,
           2021
          ],
          [
           290,
           -25.742,
           282,
           2021
          ],
          [
           288,
           -24.619,
           281,
           2021
          ],
          [
           279,
           -16.113,
           280,
           2021
          ],
          [
           274,
           -13.669,
           279,
           2021
          ],
          [
           275,
           -14.807,
           278,
           2021
          ],
          [
           267,
           -11.329,
           277,
           2021
          ],
          [
           276,
           -14.877,
           276,
           2021
          ],
          [
           273,
           -13.292,
           275,
           2021
          ],
          [
           269,
           -12.006,
           274,
           2021
          ],
          [
           234,
           -0.322,
           273,
           2021
          ],
          [
           268,
           -11.843,
           272,
           2021
          ],
          [
           37,
           100.873,
           271,
           2021
          ],
          [
           266,
           -10.23,
           270,
           2021
          ],
          [
           271,
           -12.182,
           269,
           2021
          ],
          [
           270,
           -12.045,
           268,
           2021
          ],
          [
           283,
           -19.737,
           267,
           2021
          ],
          [
           277,
           -15.305,
           266,
           2021
          ],
          [
           284,
           -20.895,
           265,
           2021
          ],
          [
           260,
           -8.156,
           264,
           2021
          ],
          [
           265,
           -10.037,
           263,
           2021
          ],
          [
           262,
           -9.239,
           262,
           2021
          ],
          [
           272,
           -12.712,
           261,
           2021
          ],
          [
           261,
           -8.711,
           260,
           2021
          ],
          [
           263,
           -9.337,
           259,
           2021
          ],
          [
           232,
           0.185,
           258,
           2021
          ],
          [
           264,
           -9.863,
           257,
           2021
          ],
          [
           252,
           -4.762,
           256,
           2021
          ],
          [
           256,
           -6.294,
           255,
           2021
          ],
          [
           259,
           -7.613,
           254,
           2021
          ],
          [
           248,
           -3.711,
           253,
           2021
          ],
          [
           254,
           -5.624,
           252,
           2021
          ],
          [
           251,
           -4.321,
           251,
           2021
          ],
          [
           257,
           -6.418,
           250,
           2021
          ],
          [
           211,
           4.222,
           249,
           2021
          ],
          [
           225,
           1.502,
           248,
           2021
          ],
          [
           196,
           8.497,
           247,
           2021
          ],
          [
           253,
           -4.805,
           246,
           2021
          ],
          [
           244,
           -2.095,
           245,
           2021
          ],
          [
           247,
           -3.362,
           244,
           2021
          ],
          [
           230,
           0.902,
           243,
           2021
          ],
          [
           224,
           1.695,
           242,
           2021
          ],
          [
           231,
           0.86,
           241,
           2021
          ],
          [
           227,
           1.394,
           240,
           2021
          ],
          [
           242,
           -1.833,
           239,
           2021
          ],
          [
           250,
           -3.89,
           238,
           2021
          ],
          [
           239,
           -1.381,
           237,
           2021
          ],
          [
           246,
           -2.779,
           236,
           2021
          ],
          [
           240,
           -1.73,
           235,
           2021
          ],
          [
           241,
           -1.784,
           234,
           2021
          ],
          [
           245,
           -2.241,
           233,
           2021
          ],
          [
           237,
           -0.821,
           232,
           2021
          ],
          [
           243,
           -2.04,
           231,
           2021
          ],
          [
           235,
           -0.39,
           230,
           2021
          ],
          [
           238,
           -0.963,
           229,
           2021
          ],
          [
           136,
           22.522,
           228,
           2021
          ],
          [
           206,
           4.97,
           227,
           2021
          ],
          [
           208,
           4.44,
           226,
           2021
          ],
          [
           255,
           -6.058,
           225,
           2021
          ],
          [
           236,
           -0.544,
           224,
           2021
          ],
          [
           228,
           1.158,
           223,
           2021
          ],
          [
           229,
           1.007,
           222,
           2021
          ],
          [
           223,
           1.764,
           221,
           2021
          ],
          [
           215,
           3.589,
           220,
           2021
          ],
          [
           222,
           1.973,
           219,
           2021
          ],
          [
           129,
           26.321,
           218,
           2021
          ],
          [
           221,
           2.588,
           217,
           2021
          ],
          [
           220,
           2.797,
           216,
           2021
          ],
          [
           219,
           2.818,
           215,
           2021
          ],
          [
           217,
           3.264,
           214,
           2021
          ],
          [
           226,
           1.404,
           213,
           2021
          ],
          [
           216,
           3.267,
           212,
           2021
          ],
          [
           218,
           3.146,
           211,
           2021
          ],
          [
           201,
           7.474,
           210,
           2021
          ],
          [
           213,
           3.98,
           209,
           2021
          ],
          [
           212,
           4.013,
           208,
           2021
          ],
          [
           214,
           3.903,
           207,
           2021
          ],
          [
           210,
           4.325,
           206,
           2021
          ],
          [
           200,
           7.525,
           205,
           2021
          ],
          [
           233,
           -0.02,
           204,
           2021
          ],
          [
           199,
           7.721,
           203,
           2021
          ],
          [
           205,
           5.299,
           202,
           2021
          ],
          [
           202,
           7.192,
           201,
           2021
          ],
          [
           190,
           9.469,
           200,
           2021
          ],
          [
           203,
           6.155,
           199,
           2021
          ],
          [
           204,
           5.569,
           198,
           2021
          ],
          [
           195,
           8.586,
           197,
           2021
          ],
          [
           170,
           13.762,
           196,
           2021
          ],
          [
           192,
           9.315,
           195,
           2021
          ],
          [
           193,
           9.166,
           194,
           2021
          ],
          [
           191,
           9.365,
           193,
           2021
          ],
          [
           151,
           17.761,
           192,
           2021
          ],
          [
           249,
           -3.792,
           191,
           2021
          ],
          [
           197,
           8.136,
           190,
           2021
          ],
          [
           194,
           8.59,
           189,
           2021
          ],
          [
           187,
           10.047,
           188,
           2021
          ],
          [
           130,
           26.183,
           187,
           2021
          ],
          [
           258,
           -6.638,
           186,
           2021
          ],
          [
           134,
           24.246,
           185,
           2021
          ],
          [
           182,
           11.336,
           184,
           2021
          ],
          [
           176,
           12.83,
           183,
           2021
          ],
          [
           183,
           11.238,
           182,
           2021
          ],
          [
           173,
           13.197,
           181,
           2021
          ],
          [
           135,
           23.809,
           180,
           2021
          ],
          [
           189,
           9.587,
           179,
           2021
          ],
          [
           181,
           11.622,
           178,
           2021
          ],
          [
           185,
           10.77,
           177,
           2021
          ],
          [
           171,
           13.688,
           176,
           2021
          ],
          [
           178,
           12.047,
           175,
           2021
          ],
          [
           177,
           12.744,
           174,
           2021
          ],
          [
           174,
           13.064,
           173,
           2021
          ],
          [
           147,
           18.415,
           172,
           2021
          ],
          [
           164,
           14.903,
           171,
           2021
          ],
          [
           186,
           10.587,
           170,
           2021
          ],
          [
           180,
           11.625,
           169,
           2021
          ],
          [
           179,
           11.804,
           168,
           2021
          ],
          [
           168,
           14.121,
           167,
           2021
          ],
          [
           198,
           8.119,
           166,
           2021
          ],
          [
           184,
           10.913,
           165,
           2021
          ],
          [
           209,
           4.411,
           164,
           2021
          ],
          [
           159,
           16.034,
           163,
           2021
          ],
          [
           166,
           14.418,
           162,
           2021
          ],
          [
           162,
           15.62,
           161,
           2021
          ],
          [
           175,
           12.837,
           160,
           2021
          ],
          [
           172,
           13.554,
           159,
           2021
          ],
          [
           167,
           14.229,
           158,
           2021
          ],
          [
           160,
           15.948,
           157,
           2021
          ],
          [
           161,
           15.78,
           156,
           2021
          ],
          [
           158,
           16.156,
           155,
           2021
          ],
          [
           169,
           13.895,
           154,
           2021
          ],
          [
           156,
           16.72,
           153,
           2021
          ],
          [
           118,
           32.139,
           152,
           2021
          ],
          [
           165,
           14.432,
           151,
           2021
          ],
          [
           163,
           15.366,
           150,
           2021
          ],
          [
           148,
           18.332,
           149,
           2021
          ],
          [
           155,
           16.731,
           148,
           2021
          ],
          [
           188,
           9.866,
           147,
           2021
          ],
          [
           154,
           17.144,
           146,
           2021
          ],
          [
           207,
           4.452,
           145,
           2021
          ],
          [
           153,
           17.284,
           144,
           2021
          ],
          [
           157,
           16.477,
           143,
           2021
          ],
          [
           146,
           18.877,
           142,
           2021
          ],
          [
           144,
           20.098,
           141,
           2021
          ],
          [
           137,
           22.325,
           140,
           2021
          ],
          [
           152,
           17.753,
           139,
           2021
          ],
          [
           149,
           18.234,
           138,
           2021
          ],
          [
           143,
           20.317,
           137,
           2021
          ],
          [
           150,
           17.973,
           136,
           2021
          ],
          [
           125,
           27.616,
           135,
           2021
          ],
          [
           110,
           36.422,
           134,
           2021
          ],
          [
           139,
           21.701,
           133,
           2021
          ],
          [
           145,
           19.813,
           132,
           2021
          ],
          [
           138,
           22.021,
           131,
           2021
          ],
          [
           112,
           36.123,
           130,
           2021
          ],
          [
           121,
           29.363,
           129,
           2021
          ],
          [
           131,
           25.432,
           128,
           2021
          ],
          [
           122,
           28.535,
           127,
           2021
          ],
          [
           120,
           31.94,
           126,
           2021
          ],
          [
           140,
           21.08,
           125,
           2021
          ],
          [
           141,
           21.032,
           124,
           2021
          ],
          [
           119,
           32.044,
           123,
           2021
          ],
          [
           142,
           20.563,
           122,
           2021
          ],
          [
           132,
           24.923,
           121,
           2021
          ],
          [
           127,
           26.855,
           120,
           2021
          ],
          [
           123,
           28.257,
           119,
           2021
          ],
          [
           126,
           26.883,
           118,
           2021
          ],
          [
           128,
           26.746,
           117,
           2021
          ],
          [
           111,
           36.34,
           116,
           2021
          ],
          [
           117,
           33.384,
           115,
           2021
          ],
          [
           124,
           28.231,
           114,
           2021
          ],
          [
           108,
           40.314,
           113,
           2021
          ],
          [
           65,
           62.42,
           112,
           2021
          ],
          [
           94,
           45.9,
           111,
           2021
          ],
          [
           44,
           92.571,
           110,
           2021
          ],
          [
           92,
           46.05,
           109,
           2021
          ],
          [
           115,
           34.153,
           108,
           2021
          ],
          [
           109,
           40.162,
           107,
           2021
          ],
          [
           51,
           82.974,
           106,
           2021
          ],
          [
           113,
           36.099,
           105,
           2021
          ],
          [
           105,
           41.619,
           104,
           2021
          ],
          [
           107,
           41.333,
           103,
           2021
          ],
          [
           116,
           33.709,
           102,
           2021
          ],
          [
           91,
           46.268,
           101,
           2021
          ],
          [
           103,
           43.527,
           100,
           2021
          ],
          [
           114,
           34.291,
           99,
           2021
          ],
          [
           99,
           44.28,
           98,
           2021
          ],
          [
           98,
           44.483,
           97,
           2021
          ],
          [
           133,
           24.656,
           96,
           2021
          ],
          [
           106,
           41.494,
           95,
           2021
          ],
          [
           100,
           44.256,
           94,
           2021
          ],
          [
           88,
           46.92,
           93,
           2021
          ],
          [
           79,
           53.394,
           92,
           2021
          ],
          [
           97,
           44.636,
           91,
           2021
          ],
          [
           90,
           46.399,
           90,
           2021
          ],
          [
           87,
           47.491,
           89,
           2021
          ],
          [
           71,
           58.835,
           88,
           2021
          ],
          [
           95,
           45.824,
           87,
           2021
          ],
          [
           102,
           43.588,
           86,
           2021
          ],
          [
           104,
           43.117,
           85,
           2021
          ],
          [
           75,
           54.742,
           84,
           2021
          ],
          [
           93,
           45.956,
           83,
           2021
          ],
          [
           101,
           43.772,
           82,
           2021
          ],
          [
           83,
           50.94,
           81,
           2021
          ],
          [
           86,
           47.807,
           80,
           2021
          ],
          [
           80,
           52.565,
           79,
           2021
          ],
          [
           96,
           45.146,
           78,
           2021
          ],
          [
           67,
           59.776,
           77,
           2021
          ],
          [
           85,
           50.07,
           76,
           2021
          ],
          [
           81,
           50.962,
           75,
           2021
          ],
          [
           74,
           54.994,
           74,
           2021
          ],
          [
           78,
           53.418,
           73,
           2021
          ],
          [
           70,
           59.012,
           72,
           2021
          ],
          [
           84,
           50.258,
           71,
           2021
          ],
          [
           77,
           54.305,
           70,
           2021
          ],
          [
           68,
           59.142,
           69,
           2021
          ],
          [
           76,
           54.641,
           68,
           2021
          ],
          [
           82,
           50.953,
           67,
           2021
          ],
          [
           64,
           64.318,
           66,
           2021
          ],
          [
           66,
           61.465,
           65,
           2021
          ],
          [
           73,
           57.339,
           64,
           2021
          ],
          [
           63,
           67.12,
           63,
           2021
          ],
          [
           61,
           67.841,
           62,
           2021
          ],
          [
           62,
           67.72,
           61,
           2021
          ],
          [
           72,
           57.826,
           60,
           2021
          ],
          [
           69,
           59.038,
           59,
           2021
          ],
          [
           55,
           74.759,
           58,
           2021
          ],
          [
           49,
           84.187,
           57,
           2021
          ],
          [
           58,
           72.703,
           56,
           2021
          ],
          [
           60,
           67.846,
           55,
           2021
          ],
          [
           59,
           67.922,
           54,
           2021
          ],
          [
           52,
           82.106,
           53,
           2021
          ],
          [
           89,
           46.685,
           52,
           2021
          ],
          [
           56,
           74.453,
           51,
           2021
          ],
          [
           54,
           79.672,
           50,
           2021
          ],
          [
           39,
           100.17,
           49,
           2021
          ],
          [
           57,
           74.024,
           48,
           2021
          ],
          [
           47,
           89.717,
           47,
           2021
          ],
          [
           48,
           86.563,
           46,
           2021
          ],
          [
           41,
           96.454,
           45,
           2021
          ],
          [
           36,
           100.987,
           44,
           2021
          ],
          [
           53,
           81.608,
           43,
           2021
          ],
          [
           38,
           100.226,
           42,
           2021
          ],
          [
           32,
           103.005,
           41,
           2021
          ],
          [
           45,
           92.212,
           40,
           2021
          ],
          [
           29,
           105.762,
           39,
           2021
          ],
          [
           50,
           83.775,
           38,
           2021
          ],
          [
           40,
           99.002,
           37,
           2021
          ],
          [
           43,
           93.586,
           36,
           2021
          ],
          [
           30,
           105.359,
           35,
           2021
          ],
          [
           26,
           109.823,
           34,
           2021
          ],
          [
           42,
           95.043,
           33,
           2021
          ],
          [
           35,
           101.25,
           32,
           2021
          ],
          [
           31,
           103.562,
           31,
           2021
          ],
          [
           28,
           106.663,
           30,
           2021
          ],
          [
           33,
           102.674,
           29,
           2021
          ],
          [
           34,
           102.273,
           28,
           2021
          ],
          [
           23,
           118.295,
           27,
           2021
          ],
          [
           27,
           109.448,
           26,
           2021
          ],
          [
           25,
           114.739,
           25,
           2021
          ],
          [
           19,
           129.354,
           24,
           2021
          ],
          [
           20,
           124.415,
           23,
           2021
          ],
          [
           24,
           117.493,
           22,
           2021
          ],
          [
           21,
           123.452,
           21,
           2021
          ],
          [
           17,
           132.828,
           20,
           2021
          ],
          [
           22,
           119.332,
           19,
           2021
          ],
          [
           46,
           91.744,
           18,
           2021
          ],
          [
           16,
           137.844,
           17,
           2021
          ],
          [
           18,
           131.424,
           16,
           2021
          ],
          [
           12,
           152.95,
           15,
           2021
          ],
          [
           14,
           143.504,
           14,
           2021
          ],
          [
           15,
           141.336,
           13,
           2021
          ],
          [
           10,
           159.234,
           12,
           2021
          ],
          [
           13,
           148.433,
           11,
           2021
          ],
          [
           11,
           155.851,
           10,
           2021
          ],
          [
           9,
           161.331,
           9,
           2021
          ],
          [
           8,
           161.493,
           8,
           2021
          ],
          [
           7,
           170.696,
           7,
           2021
          ],
          [
           6,
           178.096,
           6,
           2021
          ],
          [
           5,
           182.649,
           5,
           2021
          ],
          [
           3,
           194.823,
           4,
           2021
          ],
          [
           4,
           183.455,
           3,
           2021
          ],
          [
           2,
           197.675,
           2,
           2021
          ],
          [
           1,
           217.914,
           1,
           2021
          ]
         ]
        }
       ],
       "layout": {
        "barmode": "group",
        "template": {
         "data": {
          "bar": [
           {
            "error_x": {
             "color": "#2a3f5f"
            },
            "error_y": {
             "color": "#2a3f5f"
            },
            "marker": {
             "line": {
              "color": "#E5ECF6",
              "width": 0.5
             },
             "pattern": {
              "fillmode": "overlay",
              "size": 10,
              "solidity": 0.2
             }
            },
            "type": "bar"
           }
          ],
          "barpolar": [
           {
            "marker": {
             "line": {
              "color": "#E5ECF6",
              "width": 0.5
             },
             "pattern": {
              "fillmode": "overlay",
              "size": 10,
              "solidity": 0.2
             }
            },
            "type": "barpolar"
           }
          ],
          "carpet": [
           {
            "aaxis": {
             "endlinecolor": "#2a3f5f",
             "gridcolor": "white",
             "linecolor": "white",
             "minorgridcolor": "white",
             "startlinecolor": "#2a3f5f"
            },
            "baxis": {
             "endlinecolor": "#2a3f5f",
             "gridcolor": "white",
             "linecolor": "white",
             "minorgridcolor": "white",
             "startlinecolor": "#2a3f5f"
            },
            "type": "carpet"
           }
          ],
          "choropleth": [
           {
            "colorbar": {
             "outlinewidth": 0,
             "ticks": ""
            },
            "type": "choropleth"
           }
          ],
          "contour": [
           {
            "colorbar": {
             "outlinewidth": 0,
             "ticks": ""
            },
            "colorscale": [
             [
              0,
              "#0d0887"
             ],
             [
              0.1111111111111111,
              "#46039f"
             ],
             [
              0.2222222222222222,
              "#7201a8"
             ],
             [
              0.3333333333333333,
              "#9c179e"
             ],
             [
              0.4444444444444444,
              "#bd3786"
             ],
             [
              0.5555555555555556,
              "#d8576b"
             ],
             [
              0.6666666666666666,
              "#ed7953"
             ],
             [
              0.7777777777777778,
              "#fb9f3a"
             ],
             [
              0.8888888888888888,
              "#fdca26"
             ],
             [
              1,
              "#f0f921"
             ]
            ],
            "type": "contour"
           }
          ],
          "contourcarpet": [
           {
            "colorbar": {
             "outlinewidth": 0,
             "ticks": ""
            },
            "type": "contourcarpet"
           }
          ],
          "heatmap": [
           {
            "colorbar": {
             "outlinewidth": 0,
             "ticks": ""
            },
            "colorscale": [
             [
              0,
              "#0d0887"
             ],
             [
              0.1111111111111111,
              "#46039f"
             ],
             [
              0.2222222222222222,
              "#7201a8"
             ],
             [
              0.3333333333333333,
              "#9c179e"
             ],
             [
              0.4444444444444444,
              "#bd3786"
             ],
             [
              0.5555555555555556,
              "#d8576b"
             ],
             [
              0.6666666666666666,
              "#ed7953"
             ],
             [
              0.7777777777777778,
              "#fb9f3a"
             ],
             [
              0.8888888888888888,
              "#fdca26"
             ],
             [
              1,
              "#f0f921"
             ]
            ],
            "type": "heatmap"
           }
          ],
          "heatmapgl": [
           {
            "colorbar": {
             "outlinewidth": 0,
             "ticks": ""
            },
            "colorscale": [
             [
              0,
              "#0d0887"
             ],
             [
              0.1111111111111111,
              "#46039f"
             ],
             [
              0.2222222222222222,
              "#7201a8"
             ],
             [
              0.3333333333333333,
              "#9c179e"
             ],
             [
              0.4444444444444444,
              "#bd3786"
             ],
             [
              0.5555555555555556,
              "#d8576b"
             ],
             [
              0.6666666666666666,
              "#ed7953"
             ],
             [
              0.7777777777777778,
              "#fb9f3a"
             ],
             [
              0.8888888888888888,
              "#fdca26"
             ],
             [
              1,
              "#f0f921"
             ]
            ],
            "type": "heatmapgl"
           }
          ],
          "histogram": [
           {
            "marker": {
             "pattern": {
              "fillmode": "overlay",
              "size": 10,
              "solidity": 0.2
             }
            },
            "type": "histogram"
           }
          ],
          "histogram2d": [
           {
            "colorbar": {
             "outlinewidth": 0,
             "ticks": ""
            },
            "colorscale": [
             [
              0,
              "#0d0887"
             ],
             [
              0.1111111111111111,
              "#46039f"
             ],
             [
              0.2222222222222222,
              "#7201a8"
             ],
             [
              0.3333333333333333,
              "#9c179e"
             ],
             [
              0.4444444444444444,
              "#bd3786"
             ],
             [
              0.5555555555555556,
              "#d8576b"
             ],
             [
              0.6666666666666666,
              "#ed7953"
             ],
             [
              0.7777777777777778,
              "#fb9f3a"
             ],
             [
              0.8888888888888888,
              "#fdca26"
             ],
             [
              1,
              "#f0f921"
             ]
            ],
            "type": "histogram2d"
           }
          ],
          "histogram2dcontour": [
           {
            "colorbar": {
             "outlinewidth": 0,
             "ticks": ""
            },
            "colorscale": [
             [
              0,
              "#0d0887"
             ],
             [
              0.1111111111111111,
              "#46039f"
             ],
             [
              0.2222222222222222,
              "#7201a8"
             ],
             [
              0.3333333333333333,
              "#9c179e"
             ],
             [
              0.4444444444444444,
              "#bd3786"
             ],
             [
              0.5555555555555556,
              "#d8576b"
             ],
             [
              0.6666666666666666,
              "#ed7953"
             ],
             [
              0.7777777777777778,
              "#fb9f3a"
             ],
             [
              0.8888888888888888,
              "#fdca26"
             ],
             [
              1,
              "#f0f921"
             ]
            ],
            "type": "histogram2dcontour"
           }
          ],
          "mesh3d": [
           {
            "colorbar": {
             "outlinewidth": 0,
             "ticks": ""
            },
            "type": "mesh3d"
           }
          ],
          "parcoords": [
           {
            "line": {
             "colorbar": {
              "outlinewidth": 0,
              "ticks": ""
             }
            },
            "type": "parcoords"
           }
          ],
          "pie": [
           {
            "automargin": true,
            "type": "pie"
           }
          ],
          "scatter": [
           {
            "fillpattern": {
             "fillmode": "overlay",
             "size": 10,
             "solidity": 0.2
            },
            "type": "scatter"
           }
          ],
          "scatter3d": [
           {
            "line": {
             "colorbar": {
              "outlinewidth": 0,
              "ticks": ""
             }
            },
            "marker": {
             "colorbar": {
              "outlinewidth": 0,
              "ticks": ""
             }
            },
            "type": "scatter3d"
           }
          ],
          "scattercarpet": [
           {
            "marker": {
             "colorbar": {
              "outlinewidth": 0,
              "ticks": ""
             }
            },
            "type": "scattercarpet"
           }
          ],
          "scattergeo": [
           {
            "marker": {
             "colorbar": {
              "outlinewidth": 0,
              "ticks": ""
             }
            },
            "type": "scattergeo"
           }
          ],
          "scattergl": [
           {
            "marker": {
             "colorbar": {
              "outlinewidth": 0,
              "ticks": ""
             }
            },
            "type": "scattergl"
           }
          ],
          "scattermapbox": [
           {
            "marker": {
             "colorbar": {
              "outlinewidth": 0,
              "ticks": ""
             }
            },
            "type": "scattermapbox"
           }
          ],
          "scatterpolar": [
           {
            "marker": {
             "colorbar": {
              "outlinewidth": 0,
              "ticks": ""
             }
            },
            "type": "scatterpolar"
           }
          ],
          "scatterpolargl": [
           {
            "marker": {
             "colorbar": {
              "outlinewidth": 0,
              "ticks": ""
             }
            },
            "type": "scatterpolargl"
           }
          ],
          "scatterternary": [
           {
            "marker": {
             "colorbar": {
              "outlinewidth": 0,
              "ticks": ""
             }
            },
            "type": "scatterternary"
           }
          ],
          "surface": [
           {
            "colorbar": {
             "outlinewidth": 0,
             "ticks": ""
            },
            "colorscale": [
             [
              0,
              "#0d0887"
             ],
             [
              0.1111111111111111,
              "#46039f"
             ],
             [
              0.2222222222222222,
              "#7201a8"
             ],
             [
              0.3333333333333333,
              "#9c179e"
             ],
             [
              0.4444444444444444,
              "#bd3786"
             ],
             [
              0.5555555555555556,
              "#d8576b"
             ],
             [
              0.6666666666666666,
              "#ed7953"
             ],
             [
              0.7777777777777778,
              "#fb9f3a"
             ],
             [
              0.8888888888888888,
              "#fdca26"
             ],
             [
              1,
              "#f0f921"
             ]
            ],
            "type": "surface"
           }
          ],
          "table": [
           {
            "cells": {
             "fill": {
              "color": "#EBF0F8"
             },
             "line": {
              "color": "white"
             }
            },
            "header": {
             "fill": {
              "color": "#C8D4E3"
             },
             "line": {
              "color": "white"
             }
            },
            "type": "table"
           }
          ]
         },
         "layout": {
          "annotationdefaults": {
           "arrowcolor": "#2a3f5f",
           "arrowhead": 0,
           "arrowwidth": 1
          },
          "autotypenumbers": "strict",
          "coloraxis": {
           "colorbar": {
            "outlinewidth": 0,
            "ticks": ""
           }
          },
          "colorscale": {
           "diverging": [
            [
             0,
             "#8e0152"
            ],
            [
             0.1,
             "#c51b7d"
            ],
            [
             0.2,
             "#de77ae"
            ],
            [
             0.3,
             "#f1b6da"
            ],
            [
             0.4,
             "#fde0ef"
            ],
            [
             0.5,
             "#f7f7f7"
            ],
            [
             0.6,
             "#e6f5d0"
            ],
            [
             0.7,
             "#b8e186"
            ],
            [
             0.8,
             "#7fbc41"
            ],
            [
             0.9,
             "#4d9221"
            ],
            [
             1,
             "#276419"
            ]
           ],
           "sequential": [
            [
             0,
             "#0d0887"
            ],
            [
             0.1111111111111111,
             "#46039f"
            ],
            [
             0.2222222222222222,
             "#7201a8"
            ],
            [
             0.3333333333333333,
             "#9c179e"
            ],
            [
             0.4444444444444444,
             "#bd3786"
            ],
            [
             0.5555555555555556,
             "#d8576b"
            ],
            [
             0.6666666666666666,
             "#ed7953"
            ],
            [
             0.7777777777777778,
             "#fb9f3a"
            ],
            [
             0.8888888888888888,
             "#fdca26"
            ],
            [
             1,
             "#f0f921"
            ]
           ],
           "sequentialminus": [
            [
             0,
             "#0d0887"
            ],
            [
             0.1111111111111111,
             "#46039f"
            ],
            [
             0.2222222222222222,
             "#7201a8"
            ],
            [
             0.3333333333333333,
             "#9c179e"
            ],
            [
             0.4444444444444444,
             "#bd3786"
            ],
            [
             0.5555555555555556,
             "#d8576b"
            ],
            [
             0.6666666666666666,
             "#ed7953"
            ],
            [
             0.7777777777777778,
             "#fb9f3a"
            ],
            [
             0.8888888888888888,
             "#fdca26"
            ],
            [
             1,
             "#f0f921"
            ]
           ]
          },
          "colorway": [
           "#636efa",
           "#EF553B",
           "#00cc96",
           "#ab63fa",
           "#FFA15A",
           "#19d3f3",
           "#FF6692",
           "#B6E880",
           "#FF97FF",
           "#FECB52"
          ],
          "font": {
           "color": "#2a3f5f"
          },
          "geo": {
           "bgcolor": "white",
           "lakecolor": "white",
           "landcolor": "#E5ECF6",
           "showlakes": true,
           "showland": true,
           "subunitcolor": "white"
          },
          "hoverlabel": {
           "align": "left"
          },
          "hovermode": "closest",
          "mapbox": {
           "style": "light"
          },
          "paper_bgcolor": "white",
          "plot_bgcolor": "#E5ECF6",
          "polar": {
           "angularaxis": {
            "gridcolor": "white",
            "linecolor": "white",
            "ticks": ""
           },
           "bgcolor": "#E5ECF6",
           "radialaxis": {
            "gridcolor": "white",
            "linecolor": "white",
            "ticks": ""
           }
          },
          "scene": {
           "xaxis": {
            "backgroundcolor": "#E5ECF6",
            "gridcolor": "white",
            "gridwidth": 2,
            "linecolor": "white",
            "showbackground": true,
            "ticks": "",
            "zerolinecolor": "white"
           },
           "yaxis": {
            "backgroundcolor": "#E5ECF6",
            "gridcolor": "white",
            "gridwidth": 2,
            "linecolor": "white",
            "showbackground": true,
            "ticks": "",
            "zerolinecolor": "white"
           },
           "zaxis": {
            "backgroundcolor": "#E5ECF6",
            "gridcolor": "white",
            "gridwidth": 2,
            "linecolor": "white",
            "showbackground": true,
            "ticks": "",
            "zerolinecolor": "white"
           }
          },
          "shapedefaults": {
           "line": {
            "color": "#2a3f5f"
           }
          },
          "ternary": {
           "aaxis": {
            "gridcolor": "white",
            "linecolor": "white",
            "ticks": ""
           },
           "baxis": {
            "gridcolor": "white",
            "linecolor": "white",
            "ticks": ""
           },
           "bgcolor": "#E5ECF6",
           "caxis": {
            "gridcolor": "white",
            "linecolor": "white",
            "ticks": ""
           }
          },
          "title": {
           "x": 0.05
          },
          "xaxis": {
           "automargin": true,
           "gridcolor": "white",
           "linecolor": "white",
           "ticks": "",
           "title": {
            "standoff": 15
           },
           "zerolinecolor": "white",
           "zerolinewidth": 2
          },
          "yaxis": {
           "automargin": true,
           "gridcolor": "white",
           "linecolor": "white",
           "ticks": "",
           "title": {
            "standoff": 15
           },
           "zerolinecolor": "white",
           "zerolinewidth": 2
          }
         }
        },
        "xaxis": {
         "tickangle": -45
        }
       }
      },
      "text/html": [
       "<div>                            <div id=\"09456605-994b-4398-a7f8-e971efff88ea\" class=\"plotly-graph-div\" style=\"height:525px; width:100%;\"></div>            <script type=\"text/javascript\">                require([\"plotly\"], function(Plotly) {                    window.PLOTLYENV=window.PLOTLYENV || {};                                    if (document.getElementById(\"09456605-994b-4398-a7f8-e971efff88ea\")) {                    Plotly.newPlot(                        \"09456605-994b-4398-a7f8-e971efff88ea\",                        [{\"marker\":{\"color\":\"blue\"},\"name\":\"2020\",\"x\":[\"Denmark\",\"El Salvador's\",\"Ivory Coast\",\"Australia\",\"Yemen\",\"Morocco\",\"Egypt\",\"Spain\",\"Algeria\",\"Spain\",\"Spain\",\"Turkey\",\"Italy\",\"Chile\",\"Belgium\",\"United States territory of Guam\",\"Jordan\",\"Chile\",\"Israel\",\"New Zealand\",\"USA\",\"Maryland\",\"Thailand\",\"Montenegro\",\"Spain\",\"Italy\",\"Colombia\",\"Georgia\",\"Lebanon\",\"Mozambique\",\"Algeria\",\"Indonesia\",\"Australia\",\"Somaliland\",\"Spain\",\"New Zealand\",\"France\",\"Turkey\",\"USA\",\"Germany\",\"Australia\",\"United Kingdom\",\"Colombia\",\"Argentina\",\"Bulgaria\",\"South Korea\",\"Spain\",\"Philippines\",\"Vietnam\",\"Costa Rica\",\"Peru\",\"South Africa\",\"Colombia\",\"Morocco\",\"Vietnam\",\"Italy\",\"Dominican Republic\",\"\\u00a0Philippines\",\"USA\",\"Bangladesh\",\"India\",\"China\",\"Ukraine\",\"Vietnam\",\"Italy\",\"India\",\"Sri Lanka\",\"Panama\",\"Guinea\",\"Romania\",\"Denmark\",\"Nicaragua\",\"Chile\",\"Benin\",\"Panama\",\"China\",\"Senegal\",\"China\",\"Egypt\",\"Saudi Arabia\",\"Vietnam\",\"Tanzania\",\"Philippines\",\"Turkey\",\"the Republic oF\\u00a0Djibouti\",\"Cameroon\",\"the Republic of Ireland\",\"France\",\"Albania\",\"South Africa\",\"the Netherlands\",\"Egypt\",\"Mexico\",\"United Kingdom\",\"Brazil\",\"France\",\"Denmark\",\"Bahamas\",\"Sierra Leone\",\"Australia\",\"China\",\"Sweden\",\"Poland\",\"Poland\",\"Turkey\",\"Italy\",\"Guyana\",\"Spain\",\"Italy\",\"Swden\",\"Scotland\",\"China\",\"Ecuador\",\"France\",\"Israel\",\"Vietnam\",\"Japan\",\"Canada\",\"Qatatr\",\"Germany\",\"India\",\"Sweden\",\"Finland\",\"Greece\",\"Hong Kong\",\"USA\",\"USA\",\"Brazil\",\"South Korea\",\"Chile\",\"Turkey\",\"Brazil\",\"Brazil\",\"Turkey\",\"USA\",\"India\",\"United Arab Emirates\",\"Saudi Arabia\",\"Malaysia\",\"Saudi Arabia\",\"Russia\",\"India\",\"Taiwan\",\"Pakistan\",\"India\",\"Japan\",\"Taiwan\",\"Bahrain\",\"Abu Dhabi\",\"Saudi Arabia\",\"Lithuania\",\"Jamaica\",\"Japan\",\"Cambodia\",\"Slovenia\",\"Finland\",\"Cameroon\",\"Denmark\",\"India\",\"Venezuela\",\"Italy\",\"New Guinea\",\"Thailand\",\"Nigeria\",\"Norway\",\"Syria\",\"Mexico\",\"France\",\"Portugal\",\"China\",\"Cyprus\",\"Chile\",\"United Kingdom\",\"Portugal\",\"Togo\",\"Italy\",\"United Kingdom\",\"USA\",\"USA\",\"Angola\",\"New Zealand\",\"India\",\"Spain\",\"Brazil\",\"Philippines\",\"Mexico\",\"Mozambique\",\"Cuba\",\"Malta\",\"France\",\"the Republic of the Congo\",\"Hong Kong\",\"France\",\"Mexico\",\"Chile\",\"Australia\",\"Turkey\",\"USA\",\"USA\",\"Somalia\",\"Japan\",\"Kenya\",\"Uruguay\",\"Canada\",\"Pakistan\",\"India\",\"Estonia\",\"Japan\",\"Japan\",\"France\",\"New Zealand\",\"Italy\",\"Bahamas\",\"New Zealand\",\"Turkey\",\"USA\",\"USA\",\"China\",\"South Africa\",\"Sweden\",\"Mauritania\",\"Russia\",\"France\",\"USA\",\"Ukraine\",\"Japan\",\"Nigeria\",\"Japan\",\"Norway\",\"New Zealand\",\"Gabon\",\"\\u00a0Peru\",\"Italy\",\"Indonesia\",\"France\",\"Brazil\",\"Brazil\",\"Malaysia\",\"USA\",\"Sint Maarten\",\"India\",\"Greece\",\"the Republic of Croatia\",\"Trinidad\",\"France\",\"the Republic of the Congo\",\"Turkey\",\"Australia\",\"Russia\",\"South Africa\",\"USA\",\"Malasyia\",\"Mauritius\",\"Spain\",\"USA\",\"France\",\"Egypt\",\"USA\",\"USA\",\"the Republic of Haiti\",\"Ecuador\",\"Georgia\",\"Canada\",\"Guatemala\",\"Ecuador\",\"Venezuela\",\"Honduras\",\"Costa Rica\",\"Mexico\",\"Guatemala\",\"Libya\",\"China\",\"China\",\"Vietnam\",\"Tunisia\",\"Finland\",\"Italy\",\"Latvia\",\"Croatia\",\"Brazil\",\"Brazil\",\"Dominican Republic\",\"the Netherlands\",\"Vietnam\",\"Canada\",\"Oman\",\"Italy\",\"Brazil\",\"Turkey\",\"Chile\",\"Capital of Puerto Rico\",\"C\\u00f4te d\\u2019Ivoire\",\"USA\",\"Spain\",\"Colombia\",\"Guatemala\",\"Brazil\",\"USA\",\"Italy\",\"USA\",\"Brazil\",\"China\",\"China\",\"United Arab Emirates\",\"China\",\"Japan\",\"Kuwait\",\"Kuwait\",\"Thailand\",\"Portugal\",\"Singapore\",\"Oman\",\"Egypt\",\"United Kingdom\",\"Russia\",\"Brazil\",\"Philippines\",\"USA\",\"Taiwan\",\"Libya\",\"USA\",\"Morocco\",\"Indonesia\",\"Malasyia\",\"Indonesia\",\"Indonesia\",\"Spain\",\"Syria\",\"New Zealand\",\"England\",\"Ghana\",\"Greece\",\"China\",\"New Zealand\",\"Nigeria\",\"Madagascar\",\"Japan\",\"Japan\",\"Italy\",\"Italy\",\"Lebanon\",\"Colombia\",\"Iraq\",\"Spain\",\"Chile\",\"Canada\",\"Bulgaria\",\"Italy\",\"Mexico\",\"Spain\",\"Brazil\",\"India\",\"Brazil\",\"Russia\",\"Vietnam\",\"Namibia\",\"New Zealand\",\"Germany\",\"USA\",\"China\",\"Myanmar\",\"China\",\"China\",\"Turkey\",\"South Korea\",\"Japan\",\"Japan\",\"Ukraine\",\"Belgium\",\"China\",\"Saudi Arabia\",\"Oman\",\"Qatatr\",\"China\",\"Abu Dhabi\",\"Morocco\",\"China\",\"Saudi Arabia\",\"China\",\"Japan\",\"Spain\",\"Colombia\",\"Vietnam\",\"Saudi Arabia\",\"Egypt\",\"China\",\"China\",\"Malasyia\",\"\\u00a0the Republic oF\\u00a0Djibouti\",\"Colombia\",\"Taiwan\",\"Spain\",\"United States of America\",\"Sri Lanka\",\"South Korea\",\"India\",\"China\",\"Turkey\",\"United States of America\",\"Portugal\",\"Singapore\",\"India\",\"South Korea\",\"Turkey\",\"Jordan\",\"Japan\",\"Vietnam\",\"United Arab Emirates\",\"Spain\",\"Japan\",\"Japan\",\"China\",\"Turkey\",\"China\",\"China\",\"Canada\",\"Oman\",\"India\",\"United States of America\",\"Hong Kong\",\"Brazil\",\"South Korea\",\"Japan\",\"India\",\"United States of America\",\"Japan\",\"Thailand\",\"Egypt\",\"Germany\",\"United States of America\",\"United States of America\",\"Bahrain\",\"Vietnam\",\"United States of America\",\"Italy\",\"Ecuador\",\"Taiwan\",\"India\",\"Malasyia\",\"Turkey\",\"Spain\",\"Brazil\",\"Panama\",\"Malta\",\"Peru\",\"Maryland\",\"Turkey\",\"China\",\"India\",\"Malaysia\",\"Pakistan\",\"Denmark\",\"China\",\"India\",\"Spain\",\"Costa Rica\",\"Lebanon\",\"France\",\"Mexico\",\"Pakistan\",\"Japan\",\"Mexico\",\"Brazil\",\"Italy\",\"India\",\"Belgium\",\"Brazil\",\"India\",\"India\",\"United States of America\",\"Greece\",\"Mexico\",\"Thailand\",\"Mexico\",\"France\",\"India\",\"Indonesia\",\"Chile\",\"France\",\"Guatemala\",\"Malaysia\",\"Brazil\",\"Turkey\",\"Dominican Republic\",\"United States of America\",\"United States of America\",\"United States of America\",\"Scandinavia\",\"United States of America\",\"Japan\",\"Brazil\",\"France\",\"Brazil\",\"Indonesia\",\"Taiwan\",\"Chile\",\"Japan\",\"Japan\",\"Slovenia\",\"United States of America\",\"Jamaica\",\"Japan\",\"China\",\"Panama\",\"Spain\",\"China\",\"Spain\",\"Russia\",\"Egypt\",\"Vietnam\",\"Argentina\",\"China\",\"Colombia\",\"Honduras\",\"Vietnam\",\"Norway\",\"Cyprus\",\"Turkey\",\"Spain\",\"Iraq's\",\"New Zealand\",\"Turkey\",\"Indonesia\",\"Vietnam\",\"United Arab Emirates\",\"Ecuador\",\"Capital of Puerto Rico\",\"Dominican Republic\",\"Colombia\",\"Spain\",\"Vietnam\",\"Italy\",\"United States of America\",\"\\u00a0Philippines\",\"China\",\"United States of America\",\"France\",\"Sweden\",\"Ukraine\",\"Guatemala\",\"the Republic of the Congo\",\"Russia\",\"the Republic of Croatia\",\"Syria\",\"Estonia\",\"Denmark\",\"Sint Maarten\",\"the Republic of Haiti\",\"Italy\",\"Finland\",\"Philippines\",\"Sweden\",\"Montenegro\",\"Somaliland\",\"Kuwait\",\"Lithuania\",\"Italy\",\"Brazil\",\"Kuwait\",\"Croatia\",\"Italy\",\"Italy\",\"Italy\",\"New Zealand\",\"Bulgaria\",\"Israel\",\"France\",\"Brazil\",\"United States territory of Guam\",\"Mexico\",\"Finland\",\"Spain\",\"Poland\",\"Italy\",\"Portugal\",\"Denmark\",\"Brazil\",\"Philippines\",\"Ukraine\",\"Norway\",\"Japan\",\"Bahamas\",\"Italy\",\"Latvia\",\"Portugal\",\"Greece\",\"Brazil\",\"Australia\",\"Syria\",\"Vietnam\",\"Spain\",\"Cuba\",\"Denmark\",\"Turkey\",\"Bulgaria\",\"Georgia\",\"Mexico\",\"France\",\"Spain\",\"Cambodia\",\"Chile\",\"Germany\",\"Germany\",\"Chile\",\"Italy\",\"Spain\",\"Tunisia\",\"Guyana\",\"Japan\",\"Canada\",\"New Zealand\",\"Guinea\",\"Finland\",\"Brazil\",\"Georgia\",\"Indonesia\",\"China\",\"Turkey\",\"Saudi Arabia\",\"Indonesia\",\"United States of America\",\"Sweden\",\"Turkey\",\"Spain\",\"Poland\",\"Russia\",\"England\",\"Peru\",\"Somalia\",\"Costa Rica\",\"Morocco\",\"Morocco\",\"Brazil\",\"Australia\",\"Venezuela\",\"China\",\"Colombia\",\"Sierra Leone\",\"United States of America\",\"Mozambique\",\"El Salvador's\",\"Romania\",\"Guatemala\",\"Philippines\",\"Brazil\",\"Russia\",\"Egypt\",\"Belgium\",\"Madagascar\",\"Brazil\",\"Libya\",\"Libya\",\"Italy\",\"Uruguay\",\"Algeria\",\"Nicaragua\",\"Venezuela\",\"Australia\",\"United States of America\",\"New Zealand\",\"the Netherlands\",\"France\",\"Kenya\",\"France\",\"Trinidad\",\"Ecuador\",\"Chile\",\"New Zealand\",\"Thailand\",\"the Republic of Ireland\",\"New Guinea\",\"Gabon\",\"Senegal\",\"Myanmar\",\"Yemen\",\"Algeria\",\"Scotland\",\"Australia\",\"Albania\",\"New Zealand\",\"Canada\",\"South Africa\",\"Italy\",\"New Zealand\",\"France\",\"China\",\"Ukraine\",\"C\\u00f4te d\\u2019Ivoire\",\"Chile\",\"Chile\",\"Mozambique\",\"United Kingdom\",\"Mauritius\",\"Australia\",\"New Zealand\",\"Italy\",\"Philippines\",\"Namibia\",\"Israel\",\"Russia\",\"Greece\",\"the Netherlands\",\"France\",\"United Kingdom\",\"Australia\",\"United States of America\",\"Italy\",\"Italy\",\"Nigeria\",\"Cameroon\",\"Bangladesh\",\"Nigeria\",\"United Kingdom\",\"Canada\",\"United States of America\",\"United Kingdom\",\"United Kingdom\",\"Benin\",\"Togo\",\"France\",\"New Zealand\",\"Bahamas\",\"Egypt\",\"Ghana\",\"Cameroon\",\"Mauritania\",\"Lebanon\",\"Nigeria\",\"United States of America\",\"Ivory Coast\",\"Tanzania\",\"the Republic of the Congo\",\"South Africa\",\"DURBAN\",\"South Africa\",\"Angola\",\"United States of America\",\"Canada\",\"United States of America\",\"United States of America\"],\"y\":[[369.0,-952.47,370.0,2020.0],[370.0,-954.086,369.0,2020.0],[364.0,-386.098,351.0,2020.0],[368.0,-573.524,368.0,2020.0],[345.0,5.696,350.0,2020.0],[367.0,-464.721,367.0,2020.0],[363.0,-359.179,349.0,2020.0],[348.0,7.659,348.0,2020.0],[347.0,6.528,347.0,2020.0],[344.0,5.501,346.0,2020.0],[366.0,-442.446,366.0,2020.0],[351.0,8.401,365.0,2020.0],[365.0,-410.746,364.0,2020.0],[349.0,8.082,363.0,2020.0],[346.0,5.832,345.0,2020.0],[343.0,4.789,344.0,2020.0],[350.0,8.383,343.0,2020.0],[55.0,-1.807,342.0,2020.0],[362.0,-320.281,362.0,2020.0],[361.0,-248.798,361.0,2020.0],[333.0,3.175,341.0,2020.0],[359.0,-207.413,360.0,2020.0],[360.0,-216.138,359.0,2020.0],[334.0,3.302,340.0,2020.0],[142.0,-0.344,339.0,2020.0],[4.0,-5.162,338.0,2020.0],[328.0,2.899,337.0,2020.0],[358.0,-188.317,358.0,2020.0],[307.0,1.819,336.0,2020.0],[663.0,6.303,669.0,4040.0],[339.0,4.546,333.0,2020.0],[251.0,0.658,332.0,2020.0],[242.0,0.558,357.0,2020.0],[278.0,1.148,331.0,2020.0],[357.0,-183.442,356.0,2020.0],[82.0,-1.117,355.0,2020.0],[338.0,4.054,330.0,2020.0],[295.0,1.475,354.0,2020.0],[354.0,-160.565,353.0,2020.0],[293.0,1.459,352.0,2020.0],[335.0,3.628,329.0,2020.0],[273.0,1.033,328.0,2020.0],[337.0,3.907,327.0,2020.0],[329.0,2.97,326.0,2020.0],[325.0,2.591,325.0,2020.0],[324.0,2.561,324.0,2020.0],[330.0,2.979,323.0,2020.0],[666.0,-156.451,643.0,4040.0],[34.0,-2.422,320.0,2020.0],[535.0,2.426,637.0,4040.0],[290.0,1.404,317.0,2020.0],[623.0,4.296,631.0,4040.0],[873.0,4.355,939.0,6060.0],[289.0,1.381,311.0,2020.0],[320.0,2.391,310.0,2020.0],[199.0,0.126,309.0,2020.0],[592.0,3.04,615.0,4040.0],[417.0,0.9219999999999999,611.0,4040.0],[317.0,2.225,304.0,2020.0],[535.0,2.009,605.0,4040.0],[325.0,-1.1720000000000002,601.0,4040.0],[1034.0,3.924,1190.0,8080.0],[826.0,3.761,882.0,6060.0],[626.0,-174.538,583.0,4040.0],[1230.0,-170.008,1154.0,8080.0],[2.0,-5.684,286.0,2020.0],[822.0,3.12,852.0,6060.0],[319.0,-0.9729999999999999,563.0,4040.0],[609.0,3.476,559.0,4040.0],[1669.0,7.957,1653.0,12120.0],[925.0,4.92,1082.0,8080.0],[1042.0,3.893,1066.0,8080.0],[448.0,0.728,527.0,4040.0],[984.0,2.794,1042.0,8080.0],[1180.0,3.144,1280.0,10100.0],[267.0,0.915,253.0,2020.0],[473.0,1.08,503.0,4040.0],[954.0,2.1310000000000002,994.0,8080.0],[1020.0,3.682,978.0,8080.0],[1130.0,-2.195,1437.0,12120.0],[1003.0,2.564,938.0,8080.0],[1213.0,-2.194,1603.0,14140.0],[815.0,3.8759999999999994,894.0,8080.0],[1245.0,-158.616,1311.0,12120.0],[855.0,-1.9640000000000002,1065.0,10100.0],[702.0,1.463,627.0,6060.0],[1375.0,0.848,1428.0,14140.0],[1562.0,4.3020000000000005,1379.0,14140.0],[2016.0,2.0809999999999995,2068.0,22220.0],[840.0,-1.393,900.0,10100.0],[596.0,-1.2870000000000001,702.0,8080.0],[1133.0,0.577,1023.0,12120.0],[454.0,-0.815,498.0,6060.0],[1014.0,1.0749999999999997,969.0,12120.0],[932.0,-1.1719999999999997,933.0,12120.0],[534.0,-1.715,602.0,8080.0],[1538.0,-2.414,1435.0,20200.0],[725.0,-3.447,813.0,12120.0],[791.0,-5.0649999999999995,903.0,14140.0],[563.0,-3.173,615.0,10100.0],[576.0,-3.849,590.0,10100.0],[84.0,-1.053,115.0,2020.0],[347.0,-0.17,227.0,4040.0],[435.0,-5.481,550.0,10100.0],[1336.0,1.273,728.0,14140.0],[641.0,1.1449999999999998,297.0,6060.0],[437.0,0.939,193.0,4040.0],[254.0,-3.265,282.0,6060.0],[180.0,-1.9289999999999998,183.0,4040.0],[116.0,-0.611,90.0,2020.0],[543.0,-1.758,350.0,8080.0],[114.0,-3.603,169.0,4040.0],[314.0,-0.477,165.0,4040.0],[202.0,-6.303,240.0,6060.0],[460.0,-8.026,453.0,12120.0],[70.0,-1.376,72.0,2020.0],[201.0,-4.38,210.0,6060.0],[195.0,-2.592,135.0,4040.0],[386.0,-4.039,258.0,8080.0],[68.0,-5.161,123.0,4040.0],[459.0,-3.4640000000000004,234.0,8080.0],[231.0,0.45,56.0,2020.0],[43.0,-2.051,55.0,2020.0],[130.0,-3.238,107.0,4040.0],[707.0,2.351,153.0,6060.0],[79.0,-4.7829999999999995,97.0,4040.0],[198.0,-4.4990000000000006,138.0,6060.0],[94.0,-3.9379999999999997,87.0,4040.0],[323.0,2.482,42.0,2020.0],[60.0,-1.594,41.0,2020.0],[60.0,-5.202,79.0,4040.0],[355.0,-3.39,111.0,6060.0],[73.0,-4.773,69.0,4040.0],[27.0,-6.806,65.0,4040.0],[206.0,0.201,31.0,2020.0],[95.0,-7.775,87.0,6060.0],[65.0,-6.743,53.0,4040.0],[111.0,-4.119,49.0,4040.0],[311.0,-0.491,45.0,4040.0],[326.0,2.716,21.0,2020.0],[218.0,0.31,20.0,2020.0],[33.0,-2.506,19.0,2020.0],[49.0,-1.932,18.0,2020.0],[29.0,-2.724,17.0,2020.0],[30.0,-2.681,16.0,2020.0],[27.0,-2.769,15.0,2020.0],[14.0,-3.334,14.0,2020.0],[39.0,-6.084,25.0,4040.0],[13.0,-3.342,11.0,2020.0],[34.0,-7.263999999999999,19.0,4040.0],[20.0,-2.963,8.0,2020.0],[178.0,-0.03,7.0,2020.0],[243.0,0.56,6.0,2020.0],[9.0,-3.726,5.0,2020.0],[167.0,-0.159,4.0,2020.0],[8.0,-3.86,3.0,2020.0],[26.0,-2.795,2.0,2020.0],[1.0,-5.995,1.0,2020.0]],\"type\":\"bar\",\"textfont\":{\"size\":12},\"cliponaxis\":false,\"textangle\":0,\"textposition\":\"outside\"},{\"marker\":{\"color\":\"green\"},\"name\":\"2021\",\"x\":[\"Denmark\",\"El Salvador's\",\"Ivory Coast\",\"Australia\",\"Yemen\",\"Morocco\",\"Egypt\",\"Spain\",\"Algeria\",\"Spain\",\"Spain\",\"Turkey\",\"Italy\",\"Chile\",\"Belgium\",\"United States territory of Guam\",\"Jordan\",\"Chile\",\"Israel\",\"New Zealand\",\"USA\",\"Maryland\",\"Thailand\",\"Montenegro\",\"Spain\",\"Italy\",\"Colombia\",\"Georgia\",\"Lebanon\",\"Mozambique\",\"Algeria\",\"Indonesia\",\"Australia\",\"Somaliland\",\"Spain\",\"New Zealand\",\"France\",\"Turkey\",\"USA\",\"Germany\",\"Australia\",\"United Kingdom\",\"Colombia\",\"Argentina\",\"Bulgaria\",\"South Korea\",\"Spain\",\"Philippines\",\"Vietnam\",\"Costa Rica\",\"Peru\",\"South Africa\",\"Colombia\",\"Morocco\",\"Vietnam\",\"Italy\",\"Dominican Republic\",\"\\u00a0Philippines\",\"USA\",\"Bangladesh\",\"India\",\"China\",\"Ukraine\",\"Vietnam\",\"Italy\",\"India\",\"Sri Lanka\",\"Panama\",\"Guinea\",\"Romania\",\"Denmark\",\"Nicaragua\",\"Chile\",\"Benin\",\"Panama\",\"China\",\"Senegal\",\"China\",\"Egypt\",\"Saudi Arabia\",\"Vietnam\",\"Tanzania\",\"Philippines\",\"Turkey\",\"the Republic oF\\u00a0Djibouti\",\"Cameroon\",\"the Republic of Ireland\",\"France\",\"Albania\",\"South Africa\",\"the Netherlands\",\"Egypt\",\"Mexico\",\"United Kingdom\",\"Brazil\",\"France\",\"Denmark\",\"Bahamas\",\"Sierra Leone\",\"Australia\",\"China\",\"Sweden\",\"Poland\",\"Poland\",\"Turkey\",\"Italy\",\"Guyana\",\"Spain\",\"Italy\",\"Swden\",\"Scotland\",\"China\",\"Ecuador\",\"France\",\"Israel\",\"Vietnam\",\"Japan\",\"Canada\",\"Qatatr\",\"Germany\",\"India\",\"Sweden\",\"Finland\",\"Greece\",\"Hong Kong\",\"USA\",\"USA\",\"Brazil\",\"South Korea\",\"Chile\",\"Turkey\",\"Brazil\",\"Brazil\",\"Turkey\",\"USA\",\"India\",\"United Arab Emirates\",\"Saudi Arabia\",\"Malaysia\",\"Saudi Arabia\",\"Russia\",\"India\",\"Taiwan\",\"Pakistan\",\"India\",\"Japan\",\"Taiwan\",\"Bahrain\",\"Abu Dhabi\",\"Saudi Arabia\",\"Lithuania\",\"Jamaica\",\"Japan\",\"Cambodia\",\"Slovenia\",\"Finland\",\"Cameroon\",\"Denmark\",\"India\",\"Venezuela\",\"Italy\",\"New Guinea\",\"Thailand\",\"Nigeria\",\"Norway\",\"Syria\",\"Mexico\",\"France\",\"Portugal\",\"China\",\"Cyprus\",\"Chile\",\"United Kingdom\",\"Portugal\",\"Togo\",\"Italy\",\"United Kingdom\",\"USA\",\"USA\",\"Angola\",\"New Zealand\",\"India\",\"Spain\",\"Brazil\",\"Philippines\",\"Mexico\",\"Mozambique\",\"Cuba\",\"Malta\",\"France\",\"the Republic of the Congo\",\"Hong Kong\",\"France\",\"Mexico\",\"Chile\",\"Australia\",\"Turkey\",\"USA\",\"USA\",\"Somalia\",\"Japan\",\"Kenya\",\"Uruguay\",\"Canada\",\"Pakistan\",\"India\",\"Estonia\",\"Japan\",\"Japan\",\"France\",\"New Zealand\",\"Italy\",\"Bahamas\",\"New Zealand\",\"Turkey\",\"USA\",\"USA\",\"China\",\"South Africa\",\"Sweden\",\"Mauritania\",\"Russia\",\"France\",\"USA\",\"Ukraine\",\"Japan\",\"Nigeria\",\"Japan\",\"Norway\",\"New Zealand\",\"Gabon\",\"\\u00a0Peru\",\"Italy\",\"Indonesia\",\"France\",\"Brazil\",\"Brazil\",\"Malaysia\",\"USA\",\"Sint Maarten\",\"India\",\"Greece\",\"the Republic of Croatia\",\"Trinidad\",\"France\",\"the Republic of the Congo\",\"Turkey\",\"Australia\",\"Russia\",\"South Africa\",\"USA\",\"Malasyia\",\"Mauritius\",\"Spain\",\"USA\",\"France\",\"Egypt\",\"USA\",\"USA\",\"the Republic of Haiti\",\"Ecuador\",\"Georgia\",\"Canada\",\"Guatemala\",\"Ecuador\",\"Venezuela\",\"Honduras\",\"Costa Rica\",\"Mexico\",\"Guatemala\",\"Libya\",\"China\",\"China\",\"Vietnam\",\"Tunisia\",\"Finland\",\"Italy\",\"Latvia\",\"Croatia\",\"Brazil\",\"Brazil\",\"Dominican Republic\",\"the Netherlands\",\"Vietnam\",\"Canada\",\"Oman\",\"Italy\",\"Brazil\",\"Turkey\",\"Chile\",\"Capital of Puerto Rico\",\"C\\u00f4te d\\u2019Ivoire\",\"USA\",\"Spain\",\"Colombia\",\"Guatemala\",\"Brazil\",\"USA\",\"Italy\",\"USA\",\"Brazil\",\"China\",\"China\",\"United Arab Emirates\",\"China\",\"Japan\",\"Kuwait\",\"Kuwait\",\"Thailand\",\"Portugal\",\"Singapore\",\"Oman\",\"Egypt\",\"United Kingdom\",\"Russia\",\"Brazil\",\"Philippines\",\"USA\",\"Taiwan\",\"Libya\",\"USA\",\"Morocco\",\"Indonesia\",\"Malasyia\",\"Indonesia\",\"Indonesia\",\"Spain\",\"Syria\",\"New Zealand\",\"England\",\"Ghana\",\"Greece\",\"China\",\"New Zealand\",\"Nigeria\",\"Madagascar\",\"Japan\",\"Japan\",\"Italy\",\"Italy\",\"Lebanon\",\"Colombia\",\"Iraq\",\"Spain\",\"Chile\",\"Canada\",\"Bulgaria\",\"Italy\",\"Mexico\",\"Spain\",\"Brazil\",\"India\",\"Brazil\",\"Russia\",\"Vietnam\",\"Namibia\",\"New Zealand\",\"Germany\",\"USA\",\"China\",\"Myanmar\",\"China\",\"China\",\"Turkey\",\"South Korea\",\"Japan\",\"Japan\",\"Ukraine\",\"Belgium\",\"China\",\"Saudi Arabia\",\"Oman\",\"Qatatr\",\"China\",\"Abu Dhabi\",\"Morocco\",\"China\",\"Saudi Arabia\",\"China\",\"Japan\",\"Spain\",\"Colombia\",\"Vietnam\",\"Saudi Arabia\",\"Egypt\",\"China\",\"China\",\"Malasyia\",\"\\u00a0the Republic oF\\u00a0Djibouti\",\"Colombia\",\"Taiwan\",\"Spain\",\"United States of America\",\"Sri Lanka\",\"South Korea\",\"India\",\"China\",\"Turkey\",\"United States of America\",\"Portugal\",\"Singapore\",\"India\",\"South Korea\",\"Turkey\",\"Jordan\",\"Japan\",\"Vietnam\",\"United Arab Emirates\",\"Spain\",\"Japan\",\"Japan\",\"China\",\"Turkey\",\"China\",\"China\",\"Canada\",\"Oman\",\"India\",\"United States of America\",\"Hong Kong\",\"Brazil\",\"South Korea\",\"Japan\",\"India\",\"United States of America\",\"Japan\",\"Thailand\",\"Egypt\",\"Germany\",\"United States of America\",\"United States of America\",\"Bahrain\",\"Vietnam\",\"United States of America\",\"Italy\",\"Ecuador\",\"Taiwan\",\"India\",\"Malasyia\",\"Turkey\",\"Spain\",\"Brazil\",\"Panama\",\"Malta\",\"Peru\",\"Maryland\",\"Turkey\",\"China\",\"India\",\"Malaysia\",\"Pakistan\",\"Denmark\",\"China\",\"India\",\"Spain\",\"Costa Rica\",\"Lebanon\",\"France\",\"Mexico\",\"Pakistan\",\"Japan\",\"Mexico\",\"Brazil\",\"Italy\",\"India\",\"Belgium\",\"Brazil\",\"India\",\"India\",\"United States of America\",\"Greece\",\"Mexico\",\"Thailand\",\"Mexico\",\"France\",\"India\",\"Indonesia\",\"Chile\",\"France\",\"Guatemala\",\"Malaysia\",\"Brazil\",\"Turkey\",\"Dominican Republic\",\"United States of America\",\"United States of America\",\"United States of America\",\"Scandinavia\",\"United States of America\",\"Japan\",\"Brazil\",\"France\",\"Brazil\",\"Indonesia\",\"Taiwan\",\"Chile\",\"Japan\",\"Japan\",\"Slovenia\",\"United States of America\",\"Jamaica\",\"Japan\",\"China\",\"Panama\",\"Spain\",\"China\",\"Spain\",\"Russia\",\"Egypt\",\"Vietnam\",\"Argentina\",\"China\",\"Colombia\",\"Honduras\",\"Vietnam\",\"Norway\",\"Cyprus\",\"Turkey\",\"Spain\",\"Iraq's\",\"New Zealand\",\"Turkey\",\"Indonesia\",\"Vietnam\",\"United Arab Emirates\",\"Ecuador\",\"Capital of Puerto Rico\",\"Dominican Republic\",\"Colombia\",\"Spain\",\"Vietnam\",\"Italy\",\"United States of America\",\"\\u00a0Philippines\",\"China\",\"United States of America\",\"France\",\"Sweden\",\"Ukraine\",\"Guatemala\",\"the Republic of the Congo\",\"Russia\",\"the Republic of Croatia\",\"Syria\",\"Estonia\",\"Denmark\",\"Sint Maarten\",\"the Republic of Haiti\",\"Italy\",\"Finland\",\"Philippines\",\"Sweden\",\"Montenegro\",\"Somaliland\",\"Kuwait\",\"Lithuania\",\"Italy\",\"Brazil\",\"Kuwait\",\"Croatia\",\"Italy\",\"Italy\",\"Italy\",\"New Zealand\",\"Bulgaria\",\"Israel\",\"France\",\"Brazil\",\"United States territory of Guam\",\"Mexico\",\"Finland\",\"Spain\",\"Poland\",\"Italy\",\"Portugal\",\"Denmark\",\"Brazil\",\"Philippines\",\"Ukraine\",\"Norway\",\"Japan\",\"Bahamas\",\"Italy\",\"Latvia\",\"Portugal\",\"Greece\",\"Brazil\",\"Australia\",\"Syria\",\"Vietnam\",\"Spain\",\"Cuba\",\"Denmark\",\"Turkey\",\"Bulgaria\",\"Georgia\",\"Mexico\",\"France\",\"Spain\",\"Cambodia\",\"Chile\",\"Germany\",\"Germany\",\"Chile\",\"Italy\",\"Spain\",\"Tunisia\",\"Guyana\",\"Japan\",\"Canada\",\"New Zealand\",\"Guinea\",\"Finland\",\"Brazil\",\"Georgia\",\"Indonesia\",\"China\",\"Turkey\",\"Saudi Arabia\",\"Indonesia\",\"United States of America\",\"Sweden\",\"Turkey\",\"Spain\",\"Poland\",\"Russia\",\"England\",\"Peru\",\"Somalia\",\"Costa Rica\",\"Morocco\",\"Morocco\",\"Brazil\",\"Australia\",\"Venezuela\",\"China\",\"Colombia\",\"Sierra Leone\",\"United States of America\",\"Mozambique\",\"El Salvador's\",\"Romania\",\"Guatemala\",\"Philippines\",\"Brazil\",\"Russia\",\"Egypt\",\"Belgium\",\"Madagascar\",\"Brazil\",\"Libya\",\"Libya\",\"Italy\",\"Uruguay\",\"Algeria\",\"Nicaragua\",\"Venezuela\",\"Australia\",\"United States of America\",\"New Zealand\",\"the Netherlands\",\"France\",\"Kenya\",\"France\",\"Trinidad\",\"Ecuador\",\"Chile\",\"New Zealand\",\"Thailand\",\"the Republic of Ireland\",\"New Guinea\",\"Gabon\",\"Senegal\",\"Myanmar\",\"Yemen\",\"Algeria\",\"Scotland\",\"Australia\",\"Albania\",\"New Zealand\",\"Canada\",\"South Africa\",\"Italy\",\"New Zealand\",\"France\",\"China\",\"Ukraine\",\"C\\u00f4te d\\u2019Ivoire\",\"Chile\",\"Chile\",\"Mozambique\",\"United Kingdom\",\"Mauritius\",\"Australia\",\"New Zealand\",\"Italy\",\"Philippines\",\"Namibia\",\"Israel\",\"Russia\",\"Greece\",\"the Netherlands\",\"France\",\"United Kingdom\",\"Australia\",\"United States of America\",\"Italy\",\"Italy\",\"Nigeria\",\"Cameroon\",\"Bangladesh\",\"Nigeria\",\"United Kingdom\",\"Canada\",\"United States of America\",\"United Kingdom\",\"United Kingdom\",\"Benin\",\"Togo\",\"France\",\"New Zealand\",\"Bahamas\",\"Egypt\",\"Ghana\",\"Cameroon\",\"Mauritania\",\"Lebanon\",\"Nigeria\",\"United States of America\",\"Ivory Coast\",\"Tanzania\",\"the Republic of the Congo\",\"South Africa\",\"DURBAN\",\"South Africa\",\"Angola\",\"United States of America\",\"Canada\",\"United States of America\",\"United States of America\"],\"y\":[[369.0,-952.47,370.0,2021.0],[370.0,-954.086,369.0,2021.0],[368.0,-573.524,368.0,2021.0],[367.0,-464.721,367.0,2021.0],[366.0,-442.446,366.0,2021.0],[363.0,-359.179,365.0,2021.0],[365.0,-410.746,364.0,2021.0],[364.0,-386.098,363.0,2021.0],[362.0,-320.281,362.0,2021.0],[361.0,-248.798,361.0,2021.0],[359.0,-207.413,360.0,2021.0],[360.0,-216.138,359.0,2021.0],[358.0,-188.317,358.0,2021.0],[355.0,-174.476,357.0,2021.0],[357.0,-183.442,356.0,2021.0],[347.0,-124.535,355.0,2021.0],[356.0,-175.532,354.0,2021.0],[354.0,-160.565,353.0,2021.0],[353.0,-158.457,352.0,2021.0],[352.0,-157.072,351.0,2021.0],[351.0,-142.913,350.0,2021.0],[349.0,-133.17,349.0,2021.0],[346.0,-120.369,348.0,2021.0],[341.0,-109.249,347.0,2021.0],[348.0,-130.819,346.0,2021.0],[350.0,-142.6,345.0,2021.0],[343.0,-111.703,344.0,2021.0],[342.0,-111.104,343.0,2021.0],[329.0,-69.31,342.0,2021.0],[345.0,-119.152,341.0,2021.0],[340.0,-106.203,340.0,2021.0],[344.0,-114.287,339.0,2021.0],[326.0,-64.659,338.0,2021.0],[332.0,-74.601,337.0,2021.0],[334.0,-86.502,336.0,2021.0],[337.0,-93.568,335.0,2021.0],[339.0,-98.354,334.0,2021.0],[338.0,-96.571,333.0,2021.0],[328.0,-68.372,332.0,2021.0],[333.0,-85.474,331.0,2021.0],[325.0,-64.477,330.0,2021.0],[323.0,-61.778,329.0,2021.0],[335.0,-90.529,328.0,2021.0],[331.0,-71.418,327.0,2021.0],[330.0,-69.773,326.0,2021.0],[322.0,-58.778,325.0,2021.0],[327.0,-67.096,324.0,2021.0],[321.0,-58.683,323.0,2021.0],[336.0,-92.888,322.0,2021.0],[324.0,-63.908,321.0,2021.0],[320.0,-55.808,320.0,2021.0],[309.0,-37.626,319.0,2021.0],[316.0,-51.827,318.0,2021.0],[312.0,-46.416,317.0,2021.0],[307.0,-36.219,316.0,2021.0],[318.0,-53.819,315.0,2021.0],[310.0,-37.693,314.0,2021.0],[311.0,-39.809,313.0,2021.0],[314.0,-47.72,312.0,2021.0],[319.0,-53.887,311.0,2021.0],[317.0,-52.207,310.0,2021.0],[313.0,-47.346,309.0,2021.0],[303.0,-32.84,308.0,2021.0],[304.0,-34.103,307.0,2021.0],[301.0,-31.73,306.0,2021.0],[306.0,-36.205,305.0,2021.0],[299.0,-30.452,304.0,2021.0],[302.0,-32.614,303.0,2021.0],[296.0,-29.497,302.0,2021.0],[295.0,-28.104,301.0,2021.0],[291.0,-26.82,300.0,2021.0],[300.0,-30.607,299.0,2021.0],[289.0,-25.449,298.0,2021.0],[315.0,-49.482,297.0,2021.0],[293.0,-27.174,296.0,2021.0],[297.0,-30.042,295.0,2021.0],[308.0,-37.421,294.0,2021.0],[294.0,-27.444,293.0,2021.0],[298.0,-30.113,292.0,2021.0],[278.0,-15.389,291.0,2021.0],[281.0,-18.202,290.0,2021.0],[285.0,-21.27,289.0,2021.0],[282.0,-18.283,288.0,2021.0],[280.0,-17.478,287.0,2021.0],[292.0,-26.886,286.0,2021.0],[305.0,-34.779,285.0,2021.0],[287.0,-23.284,284.0,2021.0],[286.0,-21.337,283.0,2021.0],[290.0,-25.742,282.0,2021.0],[288.0,-24.619,281.0,2021.0],[279.0,-16.113,280.0,2021.0],[274.0,-13.669,279.0,2021.0],[275.0,-14.807,278.0,2021.0],[267.0,-11.329,277.0,2021.0],[276.0,-14.877,276.0,2021.0],[273.0,-13.292,275.0,2021.0],[269.0,-12.006,274.0,2021.0],[234.0,-0.322,273.0,2021.0],[268.0,-11.843,272.0,2021.0],[37.0,100.873,271.0,2021.0],[266.0,-10.23,270.0,2021.0],[271.0,-12.182,269.0,2021.0],[270.0,-12.045,268.0,2021.0],[283.0,-19.737,267.0,2021.0],[277.0,-15.305,266.0,2021.0],[284.0,-20.895,265.0,2021.0],[260.0,-8.156,264.0,2021.0],[265.0,-10.037,263.0,2021.0],[262.0,-9.239,262.0,2021.0],[272.0,-12.712,261.0,2021.0],[261.0,-8.711,260.0,2021.0],[263.0,-9.337,259.0,2021.0],[232.0,0.185,258.0,2021.0],[264.0,-9.863,257.0,2021.0],[252.0,-4.762,256.0,2021.0],[256.0,-6.294,255.0,2021.0],[259.0,-7.613,254.0,2021.0],[248.0,-3.711,253.0,2021.0],[254.0,-5.624,252.0,2021.0],[251.0,-4.321,251.0,2021.0],[257.0,-6.418,250.0,2021.0],[211.0,4.222,249.0,2021.0],[225.0,1.502,248.0,2021.0],[196.0,8.497,247.0,2021.0],[253.0,-4.805,246.0,2021.0],[244.0,-2.095,245.0,2021.0],[247.0,-3.362,244.0,2021.0],[230.0,0.902,243.0,2021.0],[224.0,1.695,242.0,2021.0],[231.0,0.86,241.0,2021.0],[227.0,1.394,240.0,2021.0],[242.0,-1.833,239.0,2021.0],[250.0,-3.89,238.0,2021.0],[239.0,-1.381,237.0,2021.0],[246.0,-2.779,236.0,2021.0],[240.0,-1.73,235.0,2021.0],[241.0,-1.784,234.0,2021.0],[245.0,-2.241,233.0,2021.0],[237.0,-0.821,232.0,2021.0],[243.0,-2.04,231.0,2021.0],[235.0,-0.39,230.0,2021.0],[238.0,-0.963,229.0,2021.0],[136.0,22.522,228.0,2021.0],[206.0,4.97,227.0,2021.0],[208.0,4.44,226.0,2021.0],[255.0,-6.058,225.0,2021.0],[236.0,-0.544,224.0,2021.0],[228.0,1.158,223.0,2021.0],[229.0,1.007,222.0,2021.0],[223.0,1.764,221.0,2021.0],[215.0,3.589,220.0,2021.0],[222.0,1.973,219.0,2021.0],[129.0,26.321,218.0,2021.0],[221.0,2.588,217.0,2021.0],[220.0,2.797,216.0,2021.0],[219.0,2.818,215.0,2021.0],[217.0,3.264,214.0,2021.0],[226.0,1.404,213.0,2021.0],[216.0,3.267,212.0,2021.0],[218.0,3.146,211.0,2021.0],[201.0,7.474,210.0,2021.0],[213.0,3.98,209.0,2021.0],[212.0,4.013,208.0,2021.0],[214.0,3.903,207.0,2021.0],[210.0,4.325,206.0,2021.0],[200.0,7.525,205.0,2021.0],[233.0,-0.02,204.0,2021.0],[199.0,7.721,203.0,2021.0],[205.0,5.299,202.0,2021.0],[202.0,7.192,201.0,2021.0],[190.0,9.469,200.0,2021.0],[203.0,6.155,199.0,2021.0],[204.0,5.569,198.0,2021.0],[195.0,8.586,197.0,2021.0],[170.0,13.762,196.0,2021.0],[192.0,9.315,195.0,2021.0],[193.0,9.166,194.0,2021.0],[191.0,9.365,193.0,2021.0],[151.0,17.761,192.0,2021.0],[249.0,-3.792,191.0,2021.0],[197.0,8.136,190.0,2021.0],[194.0,8.59,189.0,2021.0],[187.0,10.047,188.0,2021.0],[130.0,26.183,187.0,2021.0],[258.0,-6.638,186.0,2021.0],[134.0,24.246,185.0,2021.0],[182.0,11.336,184.0,2021.0],[176.0,12.83,183.0,2021.0],[183.0,11.238,182.0,2021.0],[173.0,13.197,181.0,2021.0],[135.0,23.809,180.0,2021.0],[189.0,9.587,179.0,2021.0],[181.0,11.622,178.0,2021.0],[185.0,10.77,177.0,2021.0],[171.0,13.688,176.0,2021.0],[178.0,12.047,175.0,2021.0],[177.0,12.744,174.0,2021.0],[174.0,13.064,173.0,2021.0],[147.0,18.415,172.0,2021.0],[164.0,14.903,171.0,2021.0],[186.0,10.587,170.0,2021.0],[180.0,11.625,169.0,2021.0],[179.0,11.804,168.0,2021.0],[168.0,14.121,167.0,2021.0],[198.0,8.119,166.0,2021.0],[184.0,10.913,165.0,2021.0],[209.0,4.411,164.0,2021.0],[159.0,16.034,163.0,2021.0],[166.0,14.418,162.0,2021.0],[162.0,15.62,161.0,2021.0],[175.0,12.837,160.0,2021.0],[172.0,13.554,159.0,2021.0],[167.0,14.229,158.0,2021.0],[160.0,15.948,157.0,2021.0],[161.0,15.78,156.0,2021.0],[158.0,16.156,155.0,2021.0],[169.0,13.895,154.0,2021.0],[156.0,16.72,153.0,2021.0],[118.0,32.139,152.0,2021.0],[165.0,14.432,151.0,2021.0],[163.0,15.366,150.0,2021.0],[148.0,18.332,149.0,2021.0],[155.0,16.731,148.0,2021.0],[188.0,9.866,147.0,2021.0],[154.0,17.144,146.0,2021.0],[207.0,4.452,145.0,2021.0],[153.0,17.284,144.0,2021.0],[157.0,16.477,143.0,2021.0],[146.0,18.877,142.0,2021.0],[144.0,20.098,141.0,2021.0],[137.0,22.325,140.0,2021.0],[152.0,17.753,139.0,2021.0],[149.0,18.234,138.0,2021.0],[143.0,20.317,137.0,2021.0],[150.0,17.973,136.0,2021.0],[125.0,27.616,135.0,2021.0],[110.0,36.422,134.0,2021.0],[139.0,21.701,133.0,2021.0],[145.0,19.813,132.0,2021.0],[138.0,22.021,131.0,2021.0],[112.0,36.123,130.0,2021.0],[121.0,29.363,129.0,2021.0],[131.0,25.432,128.0,2021.0],[122.0,28.535,127.0,2021.0],[120.0,31.94,126.0,2021.0],[140.0,21.08,125.0,2021.0],[141.0,21.032,124.0,2021.0],[119.0,32.044,123.0,2021.0],[142.0,20.563,122.0,2021.0],[132.0,24.923,121.0,2021.0],[127.0,26.855,120.0,2021.0],[123.0,28.257,119.0,2021.0],[126.0,26.883,118.0,2021.0],[128.0,26.746,117.0,2021.0],[111.0,36.34,116.0,2021.0],[117.0,33.384,115.0,2021.0],[124.0,28.231,114.0,2021.0],[108.0,40.314,113.0,2021.0],[65.0,62.42,112.0,2021.0],[94.0,45.9,111.0,2021.0],[44.0,92.571,110.0,2021.0],[92.0,46.05,109.0,2021.0],[115.0,34.153,108.0,2021.0],[109.0,40.162,107.0,2021.0],[51.0,82.974,106.0,2021.0],[113.0,36.099,105.0,2021.0],[105.0,41.619,104.0,2021.0],[107.0,41.333,103.0,2021.0],[116.0,33.709,102.0,2021.0],[91.0,46.268,101.0,2021.0],[103.0,43.527,100.0,2021.0],[114.0,34.291,99.0,2021.0],[99.0,44.28,98.0,2021.0],[98.0,44.483,97.0,2021.0],[133.0,24.656,96.0,2021.0],[106.0,41.494,95.0,2021.0],[100.0,44.256,94.0,2021.0],[88.0,46.92,93.0,2021.0],[79.0,53.394,92.0,2021.0],[97.0,44.636,91.0,2021.0],[90.0,46.399,90.0,2021.0],[87.0,47.491,89.0,2021.0],[71.0,58.835,88.0,2021.0],[95.0,45.824,87.0,2021.0],[102.0,43.588,86.0,2021.0],[104.0,43.117,85.0,2021.0],[75.0,54.742,84.0,2021.0],[93.0,45.956,83.0,2021.0],[101.0,43.772,82.0,2021.0],[83.0,50.94,81.0,2021.0],[86.0,47.807,80.0,2021.0],[80.0,52.565,79.0,2021.0],[96.0,45.146,78.0,2021.0],[67.0,59.776,77.0,2021.0],[85.0,50.07,76.0,2021.0],[81.0,50.962,75.0,2021.0],[74.0,54.994,74.0,2021.0],[78.0,53.418,73.0,2021.0],[70.0,59.012,72.0,2021.0],[84.0,50.258,71.0,2021.0],[77.0,54.305,70.0,2021.0],[68.0,59.142,69.0,2021.0],[76.0,54.641,68.0,2021.0],[82.0,50.953,67.0,2021.0],[64.0,64.318,66.0,2021.0],[66.0,61.465,65.0,2021.0],[73.0,57.339,64.0,2021.0],[63.0,67.12,63.0,2021.0],[61.0,67.841,62.0,2021.0],[62.0,67.72,61.0,2021.0],[72.0,57.826,60.0,2021.0],[69.0,59.038,59.0,2021.0],[55.0,74.759,58.0,2021.0],[49.0,84.187,57.0,2021.0],[58.0,72.703,56.0,2021.0],[60.0,67.846,55.0,2021.0],[59.0,67.922,54.0,2021.0],[52.0,82.106,53.0,2021.0],[89.0,46.685,52.0,2021.0],[56.0,74.453,51.0,2021.0],[54.0,79.672,50.0,2021.0],[39.0,100.17,49.0,2021.0],[57.0,74.024,48.0,2021.0],[47.0,89.717,47.0,2021.0],[48.0,86.563,46.0,2021.0],[41.0,96.454,45.0,2021.0],[36.0,100.987,44.0,2021.0],[53.0,81.608,43.0,2021.0],[38.0,100.226,42.0,2021.0],[32.0,103.005,41.0,2021.0],[45.0,92.212,40.0,2021.0],[29.0,105.762,39.0,2021.0],[50.0,83.775,38.0,2021.0],[40.0,99.002,37.0,2021.0],[43.0,93.586,36.0,2021.0],[30.0,105.359,35.0,2021.0],[26.0,109.823,34.0,2021.0],[42.0,95.043,33.0,2021.0],[35.0,101.25,32.0,2021.0],[31.0,103.562,31.0,2021.0],[28.0,106.663,30.0,2021.0],[33.0,102.674,29.0,2021.0],[34.0,102.273,28.0,2021.0],[23.0,118.295,27.0,2021.0],[27.0,109.448,26.0,2021.0],[25.0,114.739,25.0,2021.0],[19.0,129.354,24.0,2021.0],[20.0,124.415,23.0,2021.0],[24.0,117.493,22.0,2021.0],[21.0,123.452,21.0,2021.0],[17.0,132.828,20.0,2021.0],[22.0,119.332,19.0,2021.0],[46.0,91.744,18.0,2021.0],[16.0,137.844,17.0,2021.0],[18.0,131.424,16.0,2021.0],[12.0,152.95,15.0,2021.0],[14.0,143.504,14.0,2021.0],[15.0,141.336,13.0,2021.0],[10.0,159.234,12.0,2021.0],[13.0,148.433,11.0,2021.0],[11.0,155.851,10.0,2021.0],[9.0,161.331,9.0,2021.0],[8.0,161.493,8.0,2021.0],[7.0,170.696,7.0,2021.0],[6.0,178.096,6.0,2021.0],[5.0,182.649,5.0,2021.0],[3.0,194.823,4.0,2021.0],[4.0,183.455,3.0,2021.0],[2.0,197.675,2.0,2021.0],[1.0,217.914,1.0,2021.0]],\"type\":\"bar\",\"textfont\":{\"size\":12},\"cliponaxis\":false,\"textangle\":0,\"textposition\":\"outside\"}],                        {\"template\":{\"data\":{\"histogram2dcontour\":[{\"type\":\"histogram2dcontour\",\"colorbar\":{\"outlinewidth\":0,\"ticks\":\"\"},\"colorscale\":[[0.0,\"#0d0887\"],[0.1111111111111111,\"#46039f\"],[0.2222222222222222,\"#7201a8\"],[0.3333333333333333,\"#9c179e\"],[0.4444444444444444,\"#bd3786\"],[0.5555555555555556,\"#d8576b\"],[0.6666666666666666,\"#ed7953\"],[0.7777777777777778,\"#fb9f3a\"],[0.8888888888888888,\"#fdca26\"],[1.0,\"#f0f921\"]]}],\"choropleth\":[{\"type\":\"choropleth\",\"colorbar\":{\"outlinewidth\":0,\"ticks\":\"\"}}],\"histogram2d\":[{\"type\":\"histogram2d\",\"colorbar\":{\"outlinewidth\":0,\"ticks\":\"\"},\"colorscale\":[[0.0,\"#0d0887\"],[0.1111111111111111,\"#46039f\"],[0.2222222222222222,\"#7201a8\"],[0.3333333333333333,\"#9c179e\"],[0.4444444444444444,\"#bd3786\"],[0.5555555555555556,\"#d8576b\"],[0.6666666666666666,\"#ed7953\"],[0.7777777777777778,\"#fb9f3a\"],[0.8888888888888888,\"#fdca26\"],[1.0,\"#f0f921\"]]}],\"heatmap\":[{\"type\":\"heatmap\",\"colorbar\":{\"outlinewidth\":0,\"ticks\":\"\"},\"colorscale\":[[0.0,\"#0d0887\"],[0.1111111111111111,\"#46039f\"],[0.2222222222222222,\"#7201a8\"],[0.3333333333333333,\"#9c179e\"],[0.4444444444444444,\"#bd3786\"],[0.5555555555555556,\"#d8576b\"],[0.6666666666666666,\"#ed7953\"],[0.7777777777777778,\"#fb9f3a\"],[0.8888888888888888,\"#fdca26\"],[1.0,\"#f0f921\"]]}],\"heatmapgl\":[{\"type\":\"heatmapgl\",\"colorbar\":{\"outlinewidth\":0,\"ticks\":\"\"},\"colorscale\":[[0.0,\"#0d0887\"],[0.1111111111111111,\"#46039f\"],[0.2222222222222222,\"#7201a8\"],[0.3333333333333333,\"#9c179e\"],[0.4444444444444444,\"#bd3786\"],[0.5555555555555556,\"#d8576b\"],[0.6666666666666666,\"#ed7953\"],[0.7777777777777778,\"#fb9f3a\"],[0.8888888888888888,\"#fdca26\"],[1.0,\"#f0f921\"]]}],\"contourcarpet\":[{\"type\":\"contourcarpet\",\"colorbar\":{\"outlinewidth\":0,\"ticks\":\"\"}}],\"contour\":[{\"type\":\"contour\",\"colorbar\":{\"outlinewidth\":0,\"ticks\":\"\"},\"colorscale\":[[0.0,\"#0d0887\"],[0.1111111111111111,\"#46039f\"],[0.2222222222222222,\"#7201a8\"],[0.3333333333333333,\"#9c179e\"],[0.4444444444444444,\"#bd3786\"],[0.5555555555555556,\"#d8576b\"],[0.6666666666666666,\"#ed7953\"],[0.7777777777777778,\"#fb9f3a\"],[0.8888888888888888,\"#fdca26\"],[1.0,\"#f0f921\"]]}],\"surface\":[{\"type\":\"surface\",\"colorbar\":{\"outlinewidth\":0,\"ticks\":\"\"},\"colorscale\":[[0.0,\"#0d0887\"],[0.1111111111111111,\"#46039f\"],[0.2222222222222222,\"#7201a8\"],[0.3333333333333333,\"#9c179e\"],[0.4444444444444444,\"#bd3786\"],[0.5555555555555556,\"#d8576b\"],[0.6666666666666666,\"#ed7953\"],[0.7777777777777778,\"#fb9f3a\"],[0.8888888888888888,\"#fdca26\"],[1.0,\"#f0f921\"]]}],\"mesh3d\":[{\"type\":\"mesh3d\",\"colorbar\":{\"outlinewidth\":0,\"ticks\":\"\"}}],\"scatter\":[{\"fillpattern\":{\"fillmode\":\"overlay\",\"size\":10,\"solidity\":0.2},\"type\":\"scatter\"}],\"parcoords\":[{\"type\":\"parcoords\",\"line\":{\"colorbar\":{\"outlinewidth\":0,\"ticks\":\"\"}}}],\"scatterpolargl\":[{\"type\":\"scatterpolargl\",\"marker\":{\"colorbar\":{\"outlinewidth\":0,\"ticks\":\"\"}}}],\"bar\":[{\"error_x\":{\"color\":\"#2a3f5f\"},\"error_y\":{\"color\":\"#2a3f5f\"},\"marker\":{\"line\":{\"color\":\"#E5ECF6\",\"width\":0.5},\"pattern\":{\"fillmode\":\"overlay\",\"size\":10,\"solidity\":0.2}},\"type\":\"bar\"}],\"scattergeo\":[{\"type\":\"scattergeo\",\"marker\":{\"colorbar\":{\"outlinewidth\":0,\"ticks\":\"\"}}}],\"scatterpolar\":[{\"type\":\"scatterpolar\",\"marker\":{\"colorbar\":{\"outlinewidth\":0,\"ticks\":\"\"}}}],\"histogram\":[{\"marker\":{\"pattern\":{\"fillmode\":\"overlay\",\"size\":10,\"solidity\":0.2}},\"type\":\"histogram\"}],\"scattergl\":[{\"type\":\"scattergl\",\"marker\":{\"colorbar\":{\"outlinewidth\":0,\"ticks\":\"\"}}}],\"scatter3d\":[{\"type\":\"scatter3d\",\"line\":{\"colorbar\":{\"outlinewidth\":0,\"ticks\":\"\"}},\"marker\":{\"colorbar\":{\"outlinewidth\":0,\"ticks\":\"\"}}}],\"scattermapbox\":[{\"type\":\"scattermapbox\",\"marker\":{\"colorbar\":{\"outlinewidth\":0,\"ticks\":\"\"}}}],\"scatterternary\":[{\"type\":\"scatterternary\",\"marker\":{\"colorbar\":{\"outlinewidth\":0,\"ticks\":\"\"}}}],\"scattercarpet\":[{\"type\":\"scattercarpet\",\"marker\":{\"colorbar\":{\"outlinewidth\":0,\"ticks\":\"\"}}}],\"carpet\":[{\"aaxis\":{\"endlinecolor\":\"#2a3f5f\",\"gridcolor\":\"white\",\"linecolor\":\"white\",\"minorgridcolor\":\"white\",\"startlinecolor\":\"#2a3f5f\"},\"baxis\":{\"endlinecolor\":\"#2a3f5f\",\"gridcolor\":\"white\",\"linecolor\":\"white\",\"minorgridcolor\":\"white\",\"startlinecolor\":\"#2a3f5f\"},\"type\":\"carpet\"}],\"table\":[{\"cells\":{\"fill\":{\"color\":\"#EBF0F8\"},\"line\":{\"color\":\"white\"}},\"header\":{\"fill\":{\"color\":\"#C8D4E3\"},\"line\":{\"color\":\"white\"}},\"type\":\"table\"}],\"barpolar\":[{\"marker\":{\"line\":{\"color\":\"#E5ECF6\",\"width\":0.5},\"pattern\":{\"fillmode\":\"overlay\",\"size\":10,\"solidity\":0.2}},\"type\":\"barpolar\"}],\"pie\":[{\"automargin\":true,\"type\":\"pie\"}]},\"layout\":{\"autotypenumbers\":\"strict\",\"colorway\":[\"#636efa\",\"#EF553B\",\"#00cc96\",\"#ab63fa\",\"#FFA15A\",\"#19d3f3\",\"#FF6692\",\"#B6E880\",\"#FF97FF\",\"#FECB52\"],\"font\":{\"color\":\"#2a3f5f\"},\"hovermode\":\"closest\",\"hoverlabel\":{\"align\":\"left\"},\"paper_bgcolor\":\"white\",\"plot_bgcolor\":\"#E5ECF6\",\"polar\":{\"bgcolor\":\"#E5ECF6\",\"angularaxis\":{\"gridcolor\":\"white\",\"linecolor\":\"white\",\"ticks\":\"\"},\"radialaxis\":{\"gridcolor\":\"white\",\"linecolor\":\"white\",\"ticks\":\"\"}},\"ternary\":{\"bgcolor\":\"#E5ECF6\",\"aaxis\":{\"gridcolor\":\"white\",\"linecolor\":\"white\",\"ticks\":\"\"},\"baxis\":{\"gridcolor\":\"white\",\"linecolor\":\"white\",\"ticks\":\"\"},\"caxis\":{\"gridcolor\":\"white\",\"linecolor\":\"white\",\"ticks\":\"\"}},\"coloraxis\":{\"colorbar\":{\"outlinewidth\":0,\"ticks\":\"\"}},\"colorscale\":{\"sequential\":[[0.0,\"#0d0887\"],[0.1111111111111111,\"#46039f\"],[0.2222222222222222,\"#7201a8\"],[0.3333333333333333,\"#9c179e\"],[0.4444444444444444,\"#bd3786\"],[0.5555555555555556,\"#d8576b\"],[0.6666666666666666,\"#ed7953\"],[0.7777777777777778,\"#fb9f3a\"],[0.8888888888888888,\"#fdca26\"],[1.0,\"#f0f921\"]],\"sequentialminus\":[[0.0,\"#0d0887\"],[0.1111111111111111,\"#46039f\"],[0.2222222222222222,\"#7201a8\"],[0.3333333333333333,\"#9c179e\"],[0.4444444444444444,\"#bd3786\"],[0.5555555555555556,\"#d8576b\"],[0.6666666666666666,\"#ed7953\"],[0.7777777777777778,\"#fb9f3a\"],[0.8888888888888888,\"#fdca26\"],[1.0,\"#f0f921\"]],\"diverging\":[[0,\"#8e0152\"],[0.1,\"#c51b7d\"],[0.2,\"#de77ae\"],[0.3,\"#f1b6da\"],[0.4,\"#fde0ef\"],[0.5,\"#f7f7f7\"],[0.6,\"#e6f5d0\"],[0.7,\"#b8e186\"],[0.8,\"#7fbc41\"],[0.9,\"#4d9221\"],[1,\"#276419\"]]},\"xaxis\":{\"gridcolor\":\"white\",\"linecolor\":\"white\",\"ticks\":\"\",\"title\":{\"standoff\":15},\"zerolinecolor\":\"white\",\"automargin\":true,\"zerolinewidth\":2},\"yaxis\":{\"gridcolor\":\"white\",\"linecolor\":\"white\",\"ticks\":\"\",\"title\":{\"standoff\":15},\"zerolinecolor\":\"white\",\"automargin\":true,\"zerolinewidth\":2},\"scene\":{\"xaxis\":{\"backgroundcolor\":\"#E5ECF6\",\"gridcolor\":\"white\",\"linecolor\":\"white\",\"showbackground\":true,\"ticks\":\"\",\"zerolinecolor\":\"white\",\"gridwidth\":2},\"yaxis\":{\"backgroundcolor\":\"#E5ECF6\",\"gridcolor\":\"white\",\"linecolor\":\"white\",\"showbackground\":true,\"ticks\":\"\",\"zerolinecolor\":\"white\",\"gridwidth\":2},\"zaxis\":{\"backgroundcolor\":\"#E5ECF6\",\"gridcolor\":\"white\",\"linecolor\":\"white\",\"showbackground\":true,\"ticks\":\"\",\"zerolinecolor\":\"white\",\"gridwidth\":2}},\"shapedefaults\":{\"line\":{\"color\":\"#2a3f5f\"}},\"annotationdefaults\":{\"arrowcolor\":\"#2a3f5f\",\"arrowhead\":0,\"arrowwidth\":1},\"geo\":{\"bgcolor\":\"white\",\"landcolor\":\"#E5ECF6\",\"subunitcolor\":\"white\",\"showland\":true,\"showlakes\":true,\"lakecolor\":\"white\"},\"title\":{\"x\":0.05},\"mapbox\":{\"style\":\"light\"}}},\"xaxis\":{\"tickangle\":-45},\"barmode\":\"group\"},                        {\"responsive\": true}                    ).then(function(){\n",
       "                            \n",
       "var gd = document.getElementById('09456605-994b-4398-a7f8-e971efff88ea');\n",
       "var x = new MutationObserver(function (mutations, observer) {{\n",
       "        var display = window.getComputedStyle(gd).display;\n",
       "        if (!display || display === 'none') {{\n",
       "            console.log([gd, 'removed!']);\n",
       "            Plotly.purge(gd);\n",
       "            observer.disconnect();\n",
       "        }}\n",
       "}});\n",
       "\n",
       "// Listen for the removal of the full notebook cells\n",
       "var notebookContainer = gd.closest('#notebook-container');\n",
       "if (notebookContainer) {{\n",
       "    x.observe(notebookContainer, {childList: true});\n",
       "}}\n",
       "\n",
       "// Listen for the clearing of the current output cell\n",
       "var outputEl = gd.closest('.output');\n",
       "if (outputEl) {{\n",
       "    x.observe(outputEl, {childList: true});\n",
       "}}\n",
       "\n",
       "                        })                };                });            </script>        </div>"
      ]
     },
     "metadata": {},
     "output_type": "display_data"
    }
   ],
   "source": [
    "# The comparison of each port for 2020 and 2021 (there is erro and still working on)\n",
    "import plotly.graph_objects as go\n",
    "x = port[\"Economy Label\"]\n",
    "y = port[\"IndeX Value\"]\n",
    "year_2020 = port.query(\"Year==2020\")\n",
    "y1 = year_2020.groupby(\"IndeX Value\").sum()\n",
    "\n",
    "year_2021 = port.query(\"Year==2021\")\n",
    "y2 = year_2021.groupby(\"IndeX Value\").sum()\n",
    "\n",
    "\n",
    "fig = go.Figure()\n",
    "fig.add_trace(go.Bar(\n",
    "    x= x,\n",
    "    y= y1,\n",
    "    name = \"2020\",\n",
    "    marker_color='blue'\n",
    "))\n",
    "fig.add_trace(go.Bar(\n",
    "    x= x,\n",
    "    y= y2,\n",
    "    name='2021',\n",
    "    marker_color='green'\n",
    "))\n",
    "\n",
    "# Here we modify the tickangle of the xaxis, resulting in rotated labels.\n",
    "fig.update_layout(barmode='group', xaxis_tickangle=-45)\n",
    "fig.update_traces(textfont_size=12, textangle=0, textposition=\"outside\", cliponaxis=False)\n",
    "fig.show()"
   ]
  },
  {
   "cell_type": "code",
   "execution_count": null,
   "metadata": {},
   "outputs": [],
   "source": []
  },
  {
   "cell_type": "code",
   "execution_count": null,
   "metadata": {},
   "outputs": [],
   "source": []
  }
 ],
 "metadata": {
  "kernelspec": {
   "display_name": "Python 3 (ipykernel)",
   "language": "python",
   "name": "python3"
  },
  "language_info": {
   "codemirror_mode": {
    "name": "ipython",
    "version": 3
   },
   "file_extension": ".py",
   "mimetype": "text/x-python",
   "name": "python",
   "nbconvert_exporter": "python",
   "pygments_lexer": "ipython3",
   "version": "3.9.13"
  },
  "vscode": {
   "interpreter": {
    "hash": "f4b68a2f12ac3c1f7d7a15640bcdd128a30437ff541dca8628c60bf74e1bc7b4"
   }
  }
 },
 "nbformat": 4,
 "nbformat_minor": 2
}
