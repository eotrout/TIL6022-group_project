{
 "cells": [
  {
   "cell_type": "markdown",
   "metadata": {},
   "source": [
    "# Project Group - 25\n",
    "\n",
    "Members: Yun-An LIN (Jackie), Rohan Menezes, John Kuttikat, Muhammad Rizki Ziarieputra (Kiki), Ian Trout \n",
    "\n",
    "Student numbers: 5841682, 5850908, 5765382, 5848113, 5851483"
   ]
  },
  {
   "cell_type": "markdown",
   "metadata": {},
   "source": [
    "# Research Objective\n",
    "\n",
    "*Requires data modeling and quantitative research in Transport, Infrastructure & Logistics*"
   ]
  },
  {
   "cell_type": "markdown",
   "metadata": {},
   "source": [
    "Vessel time spent in ports by country before and during COVID--an analysis by ship category showing the impacts of COVID"
   ]
  },
  {
   "cell_type": "markdown",
   "metadata": {},
   "source": [
    "# Contribution Statement\n",
    "\n",
    "*Be specific. Some of the tasks can be coding (expect everyone to do this), background research, conceptualisation, visualisation, data analysis, data modelling*"
   ]
  },
  {
   "cell_type": "markdown",
   "metadata": {},
   "source": [
    "**Author 1**: coding, background research, conceptualisation\n",
    "\n",
    "**Author 2**:coding, visualisation\n",
    "\n",
    "**Author 3**: coding, data analysis\n",
    "    \n",
    "**Author 4**:coding, data modelling\n",
    "\n",
    "**Author 5**: coding, visualisation"
   ]
  },
  {
   "cell_type": "markdown",
   "metadata": {},
   "source": [
    "# Data Used"
   ]
  },
  {
   "cell_type": "markdown",
   "metadata": {},
   "source": [
    "----Covid data (https://data.humdata.org/dataset/coronavirus-covid-19-cases-and-deaths) \n",
    "\n",
    "----Port data (https://unctadstat.unctad.org/wds/TableViewer/tableView.aspx?ReportId=170027)\n",
    "\n",
    "----total cargo loaded/unloaded by region from 1970 to 2020 (https://www.kaggle.com/datasets/illiaparfeniuk/maritime-trading-volumes)\n",
    "\n",
    "----Total amount of goods imported and exported by ship per EU country(https://ec.europa.eu/eurostat/databrowser/view/ttr00009/default/map?lang=en)"
   ]
  },
  {
   "cell_type": "markdown",
   "metadata": {},
   "source": [
    "# Data Pipeline"
   ]
  },
  {
   "cell_type": "markdown",
   "metadata": {},
   "source": [
    "take only the last 6 months of each year (limitation of the maritime data): \n",
    "    \n",
    "convert the maritime data:\n",
    "    \n",
    "    1) to a common volume \n",
    "    \n",
    "    2) calculate the average volume for all cargo types \n",
    "    \n",
    "    3) consolidate the data into regions of the world. \n",
    "\n",
    "convert COVID cases: \n",
    "    1) calculate the average vaccination cases per country that has reported it \n",
    "    2) calculate the average COVID cases per country for the last 6 months of every year (July to December) \n",
    "    \n",
    "Analyze port call times for 2018, 2019, compared to 2020 to see the difference with COVID.\n",
    "\n",
    "---calculate the differences \n",
    "\n",
    "Compare the 2020 and 2021 port call times to see if improvements have been made or if port calls are still slow. \n",
    "\n",
    "Visually show the change in port call times by region of the world by year. \n",
    "\n"
   ]
  },
  {
   "cell_type": "markdown",
   "metadata": {},
   "source": [
    "# Part I"
   ]
  },
  {
   "cell_type": "code",
   "execution_count": 67,
   "metadata": {},
   "outputs": [
    {
     "data": {
      "text/html": [
       "        <script type=\"text/javascript\">\n",
       "        window.PlotlyConfig = {MathJaxConfig: 'local'};\n",
       "        if (window.MathJax && window.MathJax.Hub && window.MathJax.Hub.Config) {window.MathJax.Hub.Config({SVG: {font: \"STIX-Web\"}});}\n",
       "        if (typeof require !== 'undefined') {\n",
       "        require.undef(\"plotly\");\n",
       "        requirejs.config({\n",
       "            paths: {\n",
       "                'plotly': ['https://cdn.plot.ly/plotly-2.14.0.min']\n",
       "            }\n",
       "        });\n",
       "        require(['plotly'], function(Plotly) {\n",
       "            window._Plotly = Plotly;\n",
       "        });\n",
       "        }\n",
       "        </script>\n",
       "        "
      ]
     },
     "metadata": {},
     "output_type": "display_data"
    }
   ],
   "source": [
    "import pandas as pd\n",
    "import chardet\n",
    "from plotly.offline import init_notebook_mode\n",
    "import pandas as pd\n",
    "import numpy as np\n",
    "import plotly.io as pio\n",
    "import plotly.express as px\n",
    "from plotly.subplots import make_subplots\n",
    "import plotly.graph_objects as go\n",
    "import json\n",
    "import itertools\n",
    "import geopandas as gpd\n",
    "import geoplot\n",
    "import geoplot.crs as gcrs\n",
    "import math\n",
    "import scipy\n",
    "from scipy.signal import find_peaks\n",
    "import datetime\n",
    "\n",
    "init_notebook_mode(connected=True)\n",
    "pio.renderers.default = \"plotly_mimetype+notebook\""
   ]
  },
  {
   "cell_type": "code",
   "execution_count": null,
   "metadata": {},
   "outputs": [],
   "source": [
    "\n",
    "\n"
   ]
  },
  {
   "cell_type": "code",
   "execution_count": 68,
   "metadata": {},
   "outputs": [
    {
     "data": {
      "text/plain": [
       "{'encoding': 'utf-8', 'confidence': 0.99, 'language': ''}"
      ]
     },
     "execution_count": 68,
     "metadata": {},
     "output_type": "execute_result"
    }
   ],
   "source": [
    "file_path = r\"/Users/iantrout/TIL6022-group_project/Data/Maritime data/US_PortCalls_S_ST202209220924_v1.csv\"\n",
    "with open(file_path, 'rb') as rawdata:\n",
    "    result = chardet.detect(rawdata.read(100000))\n",
    "result"
   ]
  },
  {
   "cell_type": "code",
   "execution_count": 69,
   "metadata": {
    "scrolled": true
   },
   "outputs": [
    {
     "data": {
      "text/html": [
       "<div>\n",
       "<style scoped>\n",
       "    .dataframe tbody tr th:only-of-type {\n",
       "        vertical-align: middle;\n",
       "    }\n",
       "\n",
       "    .dataframe tbody tr th {\n",
       "        vertical-align: top;\n",
       "    }\n",
       "\n",
       "    .dataframe thead th {\n",
       "        text-align: right;\n",
       "    }\n",
       "</style>\n",
       "<table border=\"1\" class=\"dataframe\">\n",
       "  <thead>\n",
       "    <tr style=\"text-align: right;\">\n",
       "      <th></th>\n",
       "      <th>Period Label</th>\n",
       "      <th>Year</th>\n",
       "      <th>Location</th>\n",
       "      <th>Vessel_Type</th>\n",
       "      <th>Median time in port (days)</th>\n",
       "      <th>Average age of vessels</th>\n",
       "      <th>Average size (GT) of vessels</th>\n",
       "      <th>Maximum size (GT) of vessels</th>\n",
       "      <th>Average cargo carrying capacity (dwt) per vessel</th>\n",
       "      <th>Maximum cargo carrying capacity (dwt) of vessels</th>\n",
       "      <th>Average container carrying capacity (TEU) per container ship</th>\n",
       "      <th>Maximum container carrying capacity (TEU) of container ships</th>\n",
       "    </tr>\n",
       "  </thead>\n",
       "  <tbody>\n",
       "    <tr>\n",
       "      <th>0</th>\n",
       "      <td>S1-2018</td>\n",
       "      <td>2018</td>\n",
       "      <td>World</td>\n",
       "      <td>All ships</td>\n",
       "      <td>0.97</td>\n",
       "      <td>18</td>\n",
       "      <td>15222</td>\n",
       "      <td>234006</td>\n",
       "      <td>24074.0</td>\n",
       "      <td>441561.0</td>\n",
       "      <td>3526.0</td>\n",
       "      <td>21413.0</td>\n",
       "    </tr>\n",
       "    <tr>\n",
       "      <th>1</th>\n",
       "      <td>S1-2018</td>\n",
       "      <td>2018</td>\n",
       "      <td>World</td>\n",
       "      <td>Passenger ships</td>\n",
       "      <td>NaN</td>\n",
       "      <td>21</td>\n",
       "      <td>8978</td>\n",
       "      <td>228081</td>\n",
       "      <td>NaN</td>\n",
       "      <td>NaN</td>\n",
       "      <td>NaN</td>\n",
       "      <td>NaN</td>\n",
       "    </tr>\n",
       "    <tr>\n",
       "      <th>2</th>\n",
       "      <td>S1-2018</td>\n",
       "      <td>2018</td>\n",
       "      <td>World</td>\n",
       "      <td>Liquid bulk carriers</td>\n",
       "      <td>0.94</td>\n",
       "      <td>13</td>\n",
       "      <td>15470</td>\n",
       "      <td>234006</td>\n",
       "      <td>26871.0</td>\n",
       "      <td>441561.0</td>\n",
       "      <td>NaN</td>\n",
       "      <td>NaN</td>\n",
       "    </tr>\n",
       "    <tr>\n",
       "      <th>3</th>\n",
       "      <td>S1-2018</td>\n",
       "      <td>2018</td>\n",
       "      <td>World</td>\n",
       "      <td>Container ships</td>\n",
       "      <td>0.69</td>\n",
       "      <td>13</td>\n",
       "      <td>38405</td>\n",
       "      <td>217673</td>\n",
       "      <td>NaN</td>\n",
       "      <td>NaN</td>\n",
       "      <td>3526.0</td>\n",
       "      <td>21413.0</td>\n",
       "    </tr>\n",
       "    <tr>\n",
       "      <th>4</th>\n",
       "      <td>S1-2018</td>\n",
       "      <td>2018</td>\n",
       "      <td>World</td>\n",
       "      <td>Dry breakbulk carriers</td>\n",
       "      <td>1.12</td>\n",
       "      <td>19</td>\n",
       "      <td>5455</td>\n",
       "      <td>91784</td>\n",
       "      <td>7413.0</td>\n",
       "      <td>138743.0</td>\n",
       "      <td>NaN</td>\n",
       "      <td>NaN</td>\n",
       "    </tr>\n",
       "  </tbody>\n",
       "</table>\n",
       "</div>"
      ],
      "text/plain": [
       "  Period Label  Year Location             Vessel_Type  \\\n",
       "0      S1-2018  2018    World               All ships   \n",
       "1      S1-2018  2018    World         Passenger ships   \n",
       "2      S1-2018  2018    World    Liquid bulk carriers   \n",
       "3      S1-2018  2018    World         Container ships   \n",
       "4      S1-2018  2018    World  Dry breakbulk carriers   \n",
       "\n",
       "   Median time in port (days)  Average age of vessels  \\\n",
       "0                        0.97                      18   \n",
       "1                         NaN                      21   \n",
       "2                        0.94                      13   \n",
       "3                        0.69                      13   \n",
       "4                        1.12                      19   \n",
       "\n",
       "   Average size (GT) of vessels  Maximum size (GT) of vessels  \\\n",
       "0                         15222                        234006   \n",
       "1                          8978                        228081   \n",
       "2                         15470                        234006   \n",
       "3                         38405                        217673   \n",
       "4                          5455                         91784   \n",
       "\n",
       "   Average cargo carrying capacity (dwt) per vessel  \\\n",
       "0                                           24074.0   \n",
       "1                                               NaN   \n",
       "2                                           26871.0   \n",
       "3                                               NaN   \n",
       "4                                            7413.0   \n",
       "\n",
       "   Maximum cargo carrying capacity (dwt) of vessels  \\\n",
       "0                                          441561.0   \n",
       "1                                               NaN   \n",
       "2                                          441561.0   \n",
       "3                                               NaN   \n",
       "4                                          138743.0   \n",
       "\n",
       "   Average container carrying capacity (TEU) per container ship  \\\n",
       "0                                             3526.0              \n",
       "1                                                NaN              \n",
       "2                                                NaN              \n",
       "3                                             3526.0              \n",
       "4                                                NaN              \n",
       "\n",
       "   Maximum container carrying capacity (TEU) of container ships  \n",
       "0                                            21413.0             \n",
       "1                                                NaN             \n",
       "2                                                NaN             \n",
       "3                                            21413.0             \n",
       "4                                                NaN             "
      ]
     },
     "execution_count": 69,
     "metadata": {},
     "output_type": "execute_result"
    }
   ],
   "source": [
    "# Importing and Touching-up the Data\n",
    "\n",
    "df_ports = pd.read_csv(file_path,encoding='utf-8')\n",
    "df_ports['Period Label'] = df_ports['Period Label'].str.replace('   ','-')\n",
    "df_ports = df_ports.drop(columns=['Period', 'Frequency', 'Frequency Label', 'Economy', \n",
    "                                      'CommercialMarket', 'Median time in port (days) Footnote',\n",
    "                                      'Average age of vessels Footnote', 'Average size (GT) of vessels Footnote',\n",
    "                                      'Maximum size (GT) of vessels Footnote', 'Average cargo carrying capacity (dwt) per vessel Footnote',\n",
    "                                      'Maximum cargo carrying capacity (dwt) of vessels Footnote','Average container carrying capacity (TEU) per container ship Footnote',\n",
    "                                      'Maximum container carrying capacity (TEU) of container ships Footnote'])\n",
    "df_ports.rename(columns = {'Economy Label': 'Location', 'CommercialMarket Label': 'Vessel_Type', }, inplace=True)\n",
    "\n",
    "df_ports.head()"
   ]
  },
  {
   "cell_type": "code",
   "execution_count": 70,
   "metadata": {},
   "outputs": [],
   "source": [
    "df_ports.to_csv (r'/Users/iantrout/TIL6022-group_project/updated_port_info.csv')"
   ]
  },
  {
   "cell_type": "code",
   "execution_count": 71,
   "metadata": {},
   "outputs": [
    {
     "data": {
      "text/html": [
       "<div>\n",
       "<style scoped>\n",
       "    .dataframe tbody tr th:only-of-type {\n",
       "        vertical-align: middle;\n",
       "    }\n",
       "\n",
       "    .dataframe tbody tr th {\n",
       "        vertical-align: top;\n",
       "    }\n",
       "\n",
       "    .dataframe thead th {\n",
       "        text-align: right;\n",
       "    }\n",
       "</style>\n",
       "<table border=\"1\" class=\"dataframe\">\n",
       "  <thead>\n",
       "    <tr style=\"text-align: right;\">\n",
       "      <th></th>\n",
       "      <th>Location</th>\n",
       "      <th>ISO_A3</th>\n",
       "      <th>geometry</th>\n",
       "    </tr>\n",
       "  </thead>\n",
       "  <tbody>\n",
       "    <tr>\n",
       "      <th>0</th>\n",
       "      <td>Aruba</td>\n",
       "      <td>ABW</td>\n",
       "      <td>POLYGON ((-69.99694 12.57758, -69.93639 12.531...</td>\n",
       "    </tr>\n",
       "    <tr>\n",
       "      <th>1</th>\n",
       "      <td>Afghanistan</td>\n",
       "      <td>AFG</td>\n",
       "      <td>POLYGON ((71.04980 38.40866, 71.05714 38.40903...</td>\n",
       "    </tr>\n",
       "    <tr>\n",
       "      <th>2</th>\n",
       "      <td>Angola</td>\n",
       "      <td>AGO</td>\n",
       "      <td>MULTIPOLYGON (((11.73752 -16.69258, 11.73851 -...</td>\n",
       "    </tr>\n",
       "    <tr>\n",
       "      <th>3</th>\n",
       "      <td>Anguilla</td>\n",
       "      <td>AIA</td>\n",
       "      <td>MULTIPOLYGON (((-63.03767 18.21296, -63.09952 ...</td>\n",
       "    </tr>\n",
       "    <tr>\n",
       "      <th>4</th>\n",
       "      <td>Albania</td>\n",
       "      <td>ALB</td>\n",
       "      <td>POLYGON ((19.74777 42.57890, 19.74601 42.57993...</td>\n",
       "    </tr>\n",
       "  </tbody>\n",
       "</table>\n",
       "</div>"
      ],
      "text/plain": [
       "      Location ISO_A3                                           geometry\n",
       "0        Aruba    ABW  POLYGON ((-69.99694 12.57758, -69.93639 12.531...\n",
       "1  Afghanistan    AFG  POLYGON ((71.04980 38.40866, 71.05714 38.40903...\n",
       "2       Angola    AGO  MULTIPOLYGON (((11.73752 -16.69258, 11.73851 -...\n",
       "3     Anguilla    AIA  MULTIPOLYGON (((-63.03767 18.21296, -63.09952 ...\n",
       "4      Albania    ALB  POLYGON ((19.74777 42.57890, 19.74601 42.57993..."
      ]
     },
     "execution_count": 71,
     "metadata": {},
     "output_type": "execute_result"
    }
   ],
   "source": [
    "geodata = gpd.read_file(\"/Users/iantrout/TIL6022-group_project/Data/countries.geojson\") # geojson file\n",
    "geodata.rename(columns = {'ADMIN': 'Location', }, inplace=True)\n",
    "geodata.head()"
   ]
  },
  {
   "cell_type": "code",
   "execution_count": 72,
   "metadata": {},
   "outputs": [],
   "source": [
    "geodata.to_file (\"/Users/iantrout/TIL6022-group_project/Data/countries.geojson\", driver=\"GeoJSON\")\n"
   ]
  },
  {
   "cell_type": "code",
   "execution_count": 73,
   "metadata": {},
   "outputs": [
    {
     "data": {
      "text/html": [
       "<div>\n",
       "<style scoped>\n",
       "    .dataframe tbody tr th:only-of-type {\n",
       "        vertical-align: middle;\n",
       "    }\n",
       "\n",
       "    .dataframe tbody tr th {\n",
       "        vertical-align: top;\n",
       "    }\n",
       "\n",
       "    .dataframe thead th {\n",
       "        text-align: right;\n",
       "    }\n",
       "</style>\n",
       "<table border=\"1\" class=\"dataframe\">\n",
       "  <thead>\n",
       "    <tr style=\"text-align: right;\">\n",
       "      <th></th>\n",
       "      <th>Location</th>\n",
       "      <th>ISO_A3</th>\n",
       "      <th>geometry</th>\n",
       "      <th>Period Label</th>\n",
       "      <th>Year</th>\n",
       "      <th>Vessel_Type</th>\n",
       "      <th>Median time in port (days)</th>\n",
       "      <th>Average age of vessels</th>\n",
       "      <th>Average size (GT) of vessels</th>\n",
       "      <th>Maximum size (GT) of vessels</th>\n",
       "      <th>Average cargo carrying capacity (dwt) per vessel</th>\n",
       "      <th>Maximum cargo carrying capacity (dwt) of vessels</th>\n",
       "      <th>Average container carrying capacity (TEU) per container ship</th>\n",
       "      <th>Maximum container carrying capacity (TEU) of container ships</th>\n",
       "    </tr>\n",
       "  </thead>\n",
       "  <tbody>\n",
       "    <tr>\n",
       "      <th>0</th>\n",
       "      <td>Australia</td>\n",
       "      <td>AUS</td>\n",
       "      <td>MULTIPOLYGON (((158.86573 -54.74993, 158.83823...</td>\n",
       "      <td>S1-2018</td>\n",
       "      <td>2018</td>\n",
       "      <td>All ships</td>\n",
       "      <td>1.49</td>\n",
       "      <td>19</td>\n",
       "      <td>25686</td>\n",
       "      <td>168666</td>\n",
       "      <td>78572.0</td>\n",
       "      <td>299688.0</td>\n",
       "      <td>4263.0</td>\n",
       "      <td>8084.0</td>\n",
       "    </tr>\n",
       "    <tr>\n",
       "      <th>1</th>\n",
       "      <td>Australia</td>\n",
       "      <td>AUS</td>\n",
       "      <td>MULTIPOLYGON (((158.86573 -54.74993, 158.83823...</td>\n",
       "      <td>S1-2018</td>\n",
       "      <td>2018</td>\n",
       "      <td>Passenger ships</td>\n",
       "      <td>NaN</td>\n",
       "      <td>27</td>\n",
       "      <td>5105</td>\n",
       "      <td>168666</td>\n",
       "      <td>NaN</td>\n",
       "      <td>NaN</td>\n",
       "      <td>NaN</td>\n",
       "      <td>NaN</td>\n",
       "    </tr>\n",
       "    <tr>\n",
       "      <th>2</th>\n",
       "      <td>Australia</td>\n",
       "      <td>AUS</td>\n",
       "      <td>MULTIPOLYGON (((158.86573 -54.74993, 158.83823...</td>\n",
       "      <td>S1-2018</td>\n",
       "      <td>2018</td>\n",
       "      <td>Liquid bulk carriers</td>\n",
       "      <td>1.34</td>\n",
       "      <td>7</td>\n",
       "      <td>23585</td>\n",
       "      <td>85496</td>\n",
       "      <td>40187.0</td>\n",
       "      <td>166447.0</td>\n",
       "      <td>NaN</td>\n",
       "      <td>NaN</td>\n",
       "    </tr>\n",
       "    <tr>\n",
       "      <th>3</th>\n",
       "      <td>Australia</td>\n",
       "      <td>AUS</td>\n",
       "      <td>MULTIPOLYGON (((158.86573 -54.74993, 158.83823...</td>\n",
       "      <td>S1-2018</td>\n",
       "      <td>2018</td>\n",
       "      <td>Container ships</td>\n",
       "      <td>1.19</td>\n",
       "      <td>12</td>\n",
       "      <td>46778</td>\n",
       "      <td>90449</td>\n",
       "      <td>NaN</td>\n",
       "      <td>NaN</td>\n",
       "      <td>4263.0</td>\n",
       "      <td>8084.0</td>\n",
       "    </tr>\n",
       "    <tr>\n",
       "      <th>4</th>\n",
       "      <td>Australia</td>\n",
       "      <td>AUS</td>\n",
       "      <td>MULTIPOLYGON (((158.86573 -54.74993, 158.83823...</td>\n",
       "      <td>S1-2018</td>\n",
       "      <td>2018</td>\n",
       "      <td>Dry breakbulk carriers</td>\n",
       "      <td>1.69</td>\n",
       "      <td>12</td>\n",
       "      <td>15417</td>\n",
       "      <td>54529</td>\n",
       "      <td>21345.0</td>\n",
       "      <td>80500.0</td>\n",
       "      <td>NaN</td>\n",
       "      <td>NaN</td>\n",
       "    </tr>\n",
       "  </tbody>\n",
       "</table>\n",
       "</div>"
      ],
      "text/plain": [
       "    Location ISO_A3                                           geometry  \\\n",
       "0  Australia    AUS  MULTIPOLYGON (((158.86573 -54.74993, 158.83823...   \n",
       "1  Australia    AUS  MULTIPOLYGON (((158.86573 -54.74993, 158.83823...   \n",
       "2  Australia    AUS  MULTIPOLYGON (((158.86573 -54.74993, 158.83823...   \n",
       "3  Australia    AUS  MULTIPOLYGON (((158.86573 -54.74993, 158.83823...   \n",
       "4  Australia    AUS  MULTIPOLYGON (((158.86573 -54.74993, 158.83823...   \n",
       "\n",
       "  Period Label  Year             Vessel_Type  Median time in port (days)  \\\n",
       "0      S1-2018  2018               All ships                        1.49   \n",
       "1      S1-2018  2018         Passenger ships                         NaN   \n",
       "2      S1-2018  2018    Liquid bulk carriers                        1.34   \n",
       "3      S1-2018  2018         Container ships                        1.19   \n",
       "4      S1-2018  2018  Dry breakbulk carriers                        1.69   \n",
       "\n",
       "   Average age of vessels  Average size (GT) of vessels  \\\n",
       "0                      19                         25686   \n",
       "1                      27                          5105   \n",
       "2                       7                         23585   \n",
       "3                      12                         46778   \n",
       "4                      12                         15417   \n",
       "\n",
       "   Maximum size (GT) of vessels  \\\n",
       "0                        168666   \n",
       "1                        168666   \n",
       "2                         85496   \n",
       "3                         90449   \n",
       "4                         54529   \n",
       "\n",
       "   Average cargo carrying capacity (dwt) per vessel  \\\n",
       "0                                           78572.0   \n",
       "1                                               NaN   \n",
       "2                                           40187.0   \n",
       "3                                               NaN   \n",
       "4                                           21345.0   \n",
       "\n",
       "   Maximum cargo carrying capacity (dwt) of vessels  \\\n",
       "0                                          299688.0   \n",
       "1                                               NaN   \n",
       "2                                          166447.0   \n",
       "3                                               NaN   \n",
       "4                                           80500.0   \n",
       "\n",
       "   Average container carrying capacity (TEU) per container ship  \\\n",
       "0                                             4263.0              \n",
       "1                                                NaN              \n",
       "2                                                NaN              \n",
       "3                                             4263.0              \n",
       "4                                                NaN              \n",
       "\n",
       "   Maximum container carrying capacity (TEU) of container ships  \n",
       "0                                             8084.0             \n",
       "1                                                NaN             \n",
       "2                                                NaN             \n",
       "3                                             8084.0             \n",
       "4                                                NaN             "
      ]
     },
     "execution_count": 73,
     "metadata": {},
     "output_type": "execute_result"
    }
   ],
   "source": [
    "# Merge the two dataframes, using _ID column as key\n",
    "geo_port = pd.merge(geodata, df_ports, on = 'Location')\n",
    "\n",
    "geo_port.head()\n"
   ]
  },
  {
   "cell_type": "code",
   "execution_count": 74,
   "metadata": {},
   "outputs": [
    {
     "data": {
      "text/plain": [
       "array(['All ships', 'Passenger ships', 'Liquid bulk carriers',\n",
       "       'Container ships', 'Dry breakbulk carriers', 'Dry bulk carriers',\n",
       "       'Roll-on/ roll-off ships', 'Liquefied petroleum gas carriers',\n",
       "       'Liquefied natural gas carriers'], dtype=object)"
      ]
     },
     "execution_count": 74,
     "metadata": {},
     "output_type": "execute_result"
    }
   ],
   "source": [
    "geo_port[\"Vessel_Type\"].unique()"
   ]
  },
  {
   "cell_type": "code",
   "execution_count": 75,
   "metadata": {},
   "outputs": [
    {
     "data": {
      "text/html": [
       "<div>\n",
       "<style scoped>\n",
       "    .dataframe tbody tr th:only-of-type {\n",
       "        vertical-align: middle;\n",
       "    }\n",
       "\n",
       "    .dataframe tbody tr th {\n",
       "        vertical-align: top;\n",
       "    }\n",
       "\n",
       "    .dataframe thead th {\n",
       "        text-align: right;\n",
       "    }\n",
       "</style>\n",
       "<table border=\"1\" class=\"dataframe\">\n",
       "  <thead>\n",
       "    <tr style=\"text-align: right;\">\n",
       "      <th></th>\n",
       "      <th>Location</th>\n",
       "      <th>ISO_A3</th>\n",
       "      <th>geometry</th>\n",
       "      <th>Period Label</th>\n",
       "      <th>Year</th>\n",
       "      <th>Vessel_Type</th>\n",
       "      <th>Median time in port (days)</th>\n",
       "      <th>Average age of vessels</th>\n",
       "      <th>Average size (GT) of vessels</th>\n",
       "      <th>Maximum size (GT) of vessels</th>\n",
       "      <th>Average cargo carrying capacity (dwt) per vessel</th>\n",
       "      <th>Maximum cargo carrying capacity (dwt) of vessels</th>\n",
       "      <th>Average container carrying capacity (TEU) per container ship</th>\n",
       "      <th>Maximum container carrying capacity (TEU) of container ships</th>\n",
       "    </tr>\n",
       "  </thead>\n",
       "  <tbody>\n",
       "    <tr>\n",
       "      <th>0</th>\n",
       "      <td>Australia</td>\n",
       "      <td>AUS</td>\n",
       "      <td>MULTIPOLYGON (((158.86573 -54.74993, 158.83823...</td>\n",
       "      <td>S1-2018</td>\n",
       "      <td>2018</td>\n",
       "      <td>All ships</td>\n",
       "      <td>1.4900</td>\n",
       "      <td>19</td>\n",
       "      <td>25686</td>\n",
       "      <td>168666</td>\n",
       "      <td>78572.0</td>\n",
       "      <td>299688.0</td>\n",
       "      <td>4263.0</td>\n",
       "      <td>8084.0</td>\n",
       "    </tr>\n",
       "    <tr>\n",
       "      <th>9</th>\n",
       "      <td>Australia</td>\n",
       "      <td>AUS</td>\n",
       "      <td>MULTIPOLYGON (((158.86573 -54.74993, 158.83823...</td>\n",
       "      <td>S2-2018</td>\n",
       "      <td>2018</td>\n",
       "      <td>All ships</td>\n",
       "      <td>1.4600</td>\n",
       "      <td>19</td>\n",
       "      <td>26220</td>\n",
       "      <td>168666</td>\n",
       "      <td>78398.0</td>\n",
       "      <td>299688.0</td>\n",
       "      <td>4454.0</td>\n",
       "      <td>8530.0</td>\n",
       "    </tr>\n",
       "    <tr>\n",
       "      <th>18</th>\n",
       "      <td>Australia</td>\n",
       "      <td>AUS</td>\n",
       "      <td>MULTIPOLYGON (((158.86573 -54.74993, 158.83823...</td>\n",
       "      <td>S1-2019</td>\n",
       "      <td>2019</td>\n",
       "      <td>All ships</td>\n",
       "      <td>1.4014</td>\n",
       "      <td>20</td>\n",
       "      <td>24755</td>\n",
       "      <td>168666</td>\n",
       "      <td>78064.0</td>\n",
       "      <td>299688.0</td>\n",
       "      <td>4465.0</td>\n",
       "      <td>8500.0</td>\n",
       "    </tr>\n",
       "    <tr>\n",
       "      <th>27</th>\n",
       "      <td>Australia</td>\n",
       "      <td>AUS</td>\n",
       "      <td>MULTIPOLYGON (((158.86573 -54.74993, 158.83823...</td>\n",
       "      <td>S2-2019</td>\n",
       "      <td>2019</td>\n",
       "      <td>All ships</td>\n",
       "      <td>1.4583</td>\n",
       "      <td>20</td>\n",
       "      <td>25938</td>\n",
       "      <td>168666</td>\n",
       "      <td>79711.0</td>\n",
       "      <td>299688.0</td>\n",
       "      <td>4553.0</td>\n",
       "      <td>9971.0</td>\n",
       "    </tr>\n",
       "    <tr>\n",
       "      <th>36</th>\n",
       "      <td>Australia</td>\n",
       "      <td>AUS</td>\n",
       "      <td>MULTIPOLYGON (((158.86573 -54.74993, 158.83823...</td>\n",
       "      <td>S1-2020</td>\n",
       "      <td>2020</td>\n",
       "      <td>All ships</td>\n",
       "      <td>1.4889</td>\n",
       "      <td>21</td>\n",
       "      <td>25790</td>\n",
       "      <td>169379</td>\n",
       "      <td>81834.0</td>\n",
       "      <td>299688.0</td>\n",
       "      <td>4653.0</td>\n",
       "      <td>9572.0</td>\n",
       "    </tr>\n",
       "    <tr>\n",
       "      <th>...</th>\n",
       "      <td>...</td>\n",
       "      <td>...</td>\n",
       "      <td>...</td>\n",
       "      <td>...</td>\n",
       "      <td>...</td>\n",
       "      <td>...</td>\n",
       "      <td>...</td>\n",
       "      <td>...</td>\n",
       "      <td>...</td>\n",
       "      <td>...</td>\n",
       "      <td>...</td>\n",
       "      <td>...</td>\n",
       "      <td>...</td>\n",
       "      <td>...</td>\n",
       "    </tr>\n",
       "    <tr>\n",
       "      <th>1264</th>\n",
       "      <td>United States of America</td>\n",
       "      <td>USA</td>\n",
       "      <td>MULTIPOLYGON (((-155.60652 20.13796, -155.5863...</td>\n",
       "      <td>S1-2020</td>\n",
       "      <td>2020</td>\n",
       "      <td>All ships</td>\n",
       "      <td>1.4625</td>\n",
       "      <td>24</td>\n",
       "      <td>16172</td>\n",
       "      <td>232618</td>\n",
       "      <td>47874.0</td>\n",
       "      <td>323183.0</td>\n",
       "      <td>5237.0</td>\n",
       "      <td>22000.0</td>\n",
       "    </tr>\n",
       "    <tr>\n",
       "      <th>1273</th>\n",
       "      <td>United States of America</td>\n",
       "      <td>USA</td>\n",
       "      <td>MULTIPOLYGON (((-155.60652 20.13796, -155.5863...</td>\n",
       "      <td>S2-2020</td>\n",
       "      <td>2020</td>\n",
       "      <td>All ships</td>\n",
       "      <td>1.4438</td>\n",
       "      <td>25</td>\n",
       "      <td>15199</td>\n",
       "      <td>228741</td>\n",
       "      <td>46430.0</td>\n",
       "      <td>322829.0</td>\n",
       "      <td>5508.0</td>\n",
       "      <td>21237.0</td>\n",
       "    </tr>\n",
       "    <tr>\n",
       "      <th>1282</th>\n",
       "      <td>United States of America</td>\n",
       "      <td>USA</td>\n",
       "      <td>MULTIPOLYGON (((-155.60652 20.13796, -155.5863...</td>\n",
       "      <td>S1-2021</td>\n",
       "      <td>2021</td>\n",
       "      <td>All ships</td>\n",
       "      <td>1.5639</td>\n",
       "      <td>26</td>\n",
       "      <td>15219</td>\n",
       "      <td>228741</td>\n",
       "      <td>47527.0</td>\n",
       "      <td>322829.0</td>\n",
       "      <td>5503.0</td>\n",
       "      <td>21237.0</td>\n",
       "    </tr>\n",
       "    <tr>\n",
       "      <th>1291</th>\n",
       "      <td>United States of America</td>\n",
       "      <td>USA</td>\n",
       "      <td>MULTIPOLYGON (((-155.60652 20.13796, -155.5863...</td>\n",
       "      <td>S2-2021</td>\n",
       "      <td>2021</td>\n",
       "      <td>All ships</td>\n",
       "      <td>1.5861</td>\n",
       "      <td>26</td>\n",
       "      <td>15853</td>\n",
       "      <td>228081</td>\n",
       "      <td>47932.0</td>\n",
       "      <td>321300.0</td>\n",
       "      <td>5328.0</td>\n",
       "      <td>19273.0</td>\n",
       "    </tr>\n",
       "    <tr>\n",
       "      <th>1300</th>\n",
       "      <td>United States of America</td>\n",
       "      <td>USA</td>\n",
       "      <td>MULTIPOLYGON (((-155.60652 20.13796, -155.5863...</td>\n",
       "      <td>S1-2022</td>\n",
       "      <td>2022</td>\n",
       "      <td>All ships</td>\n",
       "      <td>1.7007</td>\n",
       "      <td>27</td>\n",
       "      <td>17666</td>\n",
       "      <td>235600</td>\n",
       "      <td>48498.0</td>\n",
       "      <td>319993.0</td>\n",
       "      <td>5183.0</td>\n",
       "      <td>19273.0</td>\n",
       "    </tr>\n",
       "  </tbody>\n",
       "</table>\n",
       "<p>153 rows × 14 columns</p>\n",
       "</div>"
      ],
      "text/plain": [
       "                      Location ISO_A3  \\\n",
       "0                    Australia    AUS   \n",
       "9                    Australia    AUS   \n",
       "18                   Australia    AUS   \n",
       "27                   Australia    AUS   \n",
       "36                   Australia    AUS   \n",
       "...                        ...    ...   \n",
       "1264  United States of America    USA   \n",
       "1273  United States of America    USA   \n",
       "1282  United States of America    USA   \n",
       "1291  United States of America    USA   \n",
       "1300  United States of America    USA   \n",
       "\n",
       "                                               geometry Period Label  Year  \\\n",
       "0     MULTIPOLYGON (((158.86573 -54.74993, 158.83823...      S1-2018  2018   \n",
       "9     MULTIPOLYGON (((158.86573 -54.74993, 158.83823...      S2-2018  2018   \n",
       "18    MULTIPOLYGON (((158.86573 -54.74993, 158.83823...      S1-2019  2019   \n",
       "27    MULTIPOLYGON (((158.86573 -54.74993, 158.83823...      S2-2019  2019   \n",
       "36    MULTIPOLYGON (((158.86573 -54.74993, 158.83823...      S1-2020  2020   \n",
       "...                                                 ...          ...   ...   \n",
       "1264  MULTIPOLYGON (((-155.60652 20.13796, -155.5863...      S1-2020  2020   \n",
       "1273  MULTIPOLYGON (((-155.60652 20.13796, -155.5863...      S2-2020  2020   \n",
       "1282  MULTIPOLYGON (((-155.60652 20.13796, -155.5863...      S1-2021  2021   \n",
       "1291  MULTIPOLYGON (((-155.60652 20.13796, -155.5863...      S2-2021  2021   \n",
       "1300  MULTIPOLYGON (((-155.60652 20.13796, -155.5863...      S1-2022  2022   \n",
       "\n",
       "     Vessel_Type  Median time in port (days)  Average age of vessels  \\\n",
       "0      All ships                      1.4900                      19   \n",
       "9      All ships                      1.4600                      19   \n",
       "18     All ships                      1.4014                      20   \n",
       "27     All ships                      1.4583                      20   \n",
       "36     All ships                      1.4889                      21   \n",
       "...          ...                         ...                     ...   \n",
       "1264   All ships                      1.4625                      24   \n",
       "1273   All ships                      1.4438                      25   \n",
       "1282   All ships                      1.5639                      26   \n",
       "1291   All ships                      1.5861                      26   \n",
       "1300   All ships                      1.7007                      27   \n",
       "\n",
       "      Average size (GT) of vessels  Maximum size (GT) of vessels  \\\n",
       "0                            25686                        168666   \n",
       "9                            26220                        168666   \n",
       "18                           24755                        168666   \n",
       "27                           25938                        168666   \n",
       "36                           25790                        169379   \n",
       "...                            ...                           ...   \n",
       "1264                         16172                        232618   \n",
       "1273                         15199                        228741   \n",
       "1282                         15219                        228741   \n",
       "1291                         15853                        228081   \n",
       "1300                         17666                        235600   \n",
       "\n",
       "      Average cargo carrying capacity (dwt) per vessel  \\\n",
       "0                                              78572.0   \n",
       "9                                              78398.0   \n",
       "18                                             78064.0   \n",
       "27                                             79711.0   \n",
       "36                                             81834.0   \n",
       "...                                                ...   \n",
       "1264                                           47874.0   \n",
       "1273                                           46430.0   \n",
       "1282                                           47527.0   \n",
       "1291                                           47932.0   \n",
       "1300                                           48498.0   \n",
       "\n",
       "      Maximum cargo carrying capacity (dwt) of vessels  \\\n",
       "0                                             299688.0   \n",
       "9                                             299688.0   \n",
       "18                                            299688.0   \n",
       "27                                            299688.0   \n",
       "36                                            299688.0   \n",
       "...                                                ...   \n",
       "1264                                          323183.0   \n",
       "1273                                          322829.0   \n",
       "1282                                          322829.0   \n",
       "1291                                          321300.0   \n",
       "1300                                          319993.0   \n",
       "\n",
       "      Average container carrying capacity (TEU) per container ship  \\\n",
       "0                                                4263.0              \n",
       "9                                                4454.0              \n",
       "18                                               4465.0              \n",
       "27                                               4553.0              \n",
       "36                                               4653.0              \n",
       "...                                                 ...              \n",
       "1264                                             5237.0              \n",
       "1273                                             5508.0              \n",
       "1282                                             5503.0              \n",
       "1291                                             5328.0              \n",
       "1300                                             5183.0              \n",
       "\n",
       "      Maximum container carrying capacity (TEU) of container ships  \n",
       "0                                                8084.0             \n",
       "9                                                8530.0             \n",
       "18                                               8500.0             \n",
       "27                                               9971.0             \n",
       "36                                               9572.0             \n",
       "...                                                 ...             \n",
       "1264                                            22000.0             \n",
       "1273                                            21237.0             \n",
       "1282                                            21237.0             \n",
       "1291                                            19273.0             \n",
       "1300                                            19273.0             \n",
       "\n",
       "[153 rows x 14 columns]"
      ]
     },
     "execution_count": 75,
     "metadata": {},
     "output_type": "execute_result"
    }
   ],
   "source": [
    "geo_port_all_vessels= geo_port[\n",
    "    (geo_port.Vessel_Type == 'All ships')\n",
    "]\n",
    "\n",
    "geo_port_all_vessels\n",
    "\n"
   ]
  },
  {
   "cell_type": "code",
   "execution_count": 28,
   "metadata": {},
   "outputs": [
    {
     "data": {
      "application/vnd.plotly.v1+json": {
       "config": {
        "plotlyServerURL": "https://plot.ly"
       },
       "data": [
        {
         "coloraxis": "coloraxis",
         "geo": "geo",
         "hovertemplate": "<b>%{hovertext}</b><br><br>Period Label=S1-2018<br>ISO_A3=%{location}<br>Median time in port (days)=%{z}<extra></extra>",
         "hovertext": [
          "Australia",
          "Canada",
          "China",
          "Germany",
          "Denmark",
          "Spain",
          "France",
          "United Kingdom",
          "Greece",
          "Croatia",
          "Indonesia",
          "Italy",
          "Japan",
          "Netherlands",
          "Norway",
          "Sweden",
          "United States of America"
         ],
         "locations": [
          "AUS",
          "CAN",
          "CHN",
          "DEU",
          "DNK",
          "ESP",
          "FRA",
          "GBR",
          "GRC",
          "HRV",
          "IDN",
          "ITA",
          "JPN",
          "NLD",
          "NOR",
          "SWE",
          "USA"
         ],
         "name": "",
         "type": "choropleth",
         "z": [
          1.49,
          0.84,
          1.01,
          0.58,
          0.74,
          0.85,
          1.11,
          1.09,
          0.72,
          1.18,
          1.33,
          1.25,
          0.41,
          0.56,
          0.43,
          0.79,
          1.45
         ]
        }
       ],
       "frames": [
        {
         "data": [
          {
           "coloraxis": "coloraxis",
           "geo": "geo",
           "hovertemplate": "<b>%{hovertext}</b><br><br>Period Label=S1-2018<br>ISO_A3=%{location}<br>Median time in port (days)=%{z}<extra></extra>",
           "hovertext": [
            "Australia",
            "Canada",
            "China",
            "Germany",
            "Denmark",
            "Spain",
            "France",
            "United Kingdom",
            "Greece",
            "Croatia",
            "Indonesia",
            "Italy",
            "Japan",
            "Netherlands",
            "Norway",
            "Sweden",
            "United States of America"
           ],
           "locations": [
            "AUS",
            "CAN",
            "CHN",
            "DEU",
            "DNK",
            "ESP",
            "FRA",
            "GBR",
            "GRC",
            "HRV",
            "IDN",
            "ITA",
            "JPN",
            "NLD",
            "NOR",
            "SWE",
            "USA"
           ],
           "name": "",
           "type": "choropleth",
           "z": [
            1.49,
            0.84,
            1.01,
            0.58,
            0.74,
            0.85,
            1.11,
            1.09,
            0.72,
            1.18,
            1.33,
            1.25,
            0.41,
            0.56,
            0.43,
            0.79,
            1.45
           ]
          }
         ],
         "name": "S1-2018"
        },
        {
         "data": [
          {
           "coloraxis": "coloraxis",
           "geo": "geo",
           "hovertemplate": "<b>%{hovertext}</b><br><br>Period Label=S2-2018<br>ISO_A3=%{location}<br>Median time in port (days)=%{z}<extra></extra>",
           "hovertext": [
            "Australia",
            "Canada",
            "China",
            "Germany",
            "Denmark",
            "Spain",
            "France",
            "United Kingdom",
            "Greece",
            "Croatia",
            "Indonesia",
            "Italy",
            "Japan",
            "Netherlands",
            "Norway",
            "Sweden",
            "United States of America"
           ],
           "locations": [
            "AUS",
            "CAN",
            "CHN",
            "DEU",
            "DNK",
            "ESP",
            "FRA",
            "GBR",
            "GRC",
            "HRV",
            "IDN",
            "ITA",
            "JPN",
            "NLD",
            "NOR",
            "SWE",
            "USA"
           ],
           "name": "",
           "type": "choropleth",
           "z": [
            1.46,
            0.54,
            1.04,
            0.54,
            0.74,
            0.87,
            1.12,
            1.1,
            0.69,
            1.21,
            1.35,
            1.25,
            0.41,
            0.57,
            0.43,
            0.8,
            1.37
           ]
          }
         ],
         "name": "S2-2018"
        },
        {
         "data": [
          {
           "coloraxis": "coloraxis",
           "geo": "geo",
           "hovertemplate": "<b>%{hovertext}</b><br><br>Period Label=S1-2019<br>ISO_A3=%{location}<br>Median time in port (days)=%{z}<extra></extra>",
           "hovertext": [
            "Australia",
            "Canada",
            "China",
            "Germany",
            "Denmark",
            "Spain",
            "France",
            "United Kingdom",
            "Greece",
            "Croatia",
            "Indonesia",
            "Italy",
            "Japan",
            "Netherlands",
            "Norway",
            "Sweden",
            "United States of America"
           ],
           "locations": [
            "AUS",
            "CAN",
            "CHN",
            "DEU",
            "DNK",
            "ESP",
            "FRA",
            "GBR",
            "GRC",
            "HRV",
            "IDN",
            "ITA",
            "JPN",
            "NLD",
            "NOR",
            "SWE",
            "USA"
           ],
           "name": "",
           "type": "choropleth",
           "z": [
            1.4014,
            0.9125,
            1.0458,
            0.5007,
            0.7583,
            0.8701,
            1.1031,
            1.0799,
            0.7566,
            1.275,
            1.3056,
            1.2667,
            0.4125,
            0.566,
            0.4063,
            0.7958,
            1.4826
           ]
          }
         ],
         "name": "S1-2019"
        },
        {
         "data": [
          {
           "coloraxis": "coloraxis",
           "geo": "geo",
           "hovertemplate": "<b>%{hovertext}</b><br><br>Period Label=S2-2019<br>ISO_A3=%{location}<br>Median time in port (days)=%{z}<extra></extra>",
           "hovertext": [
            "Australia",
            "Canada",
            "China",
            "Germany",
            "Denmark",
            "Spain",
            "France",
            "United Kingdom",
            "Greece",
            "Croatia",
            "Indonesia",
            "Italy",
            "Japan",
            "Netherlands",
            "Norway",
            "Sweden",
            "United States of America"
           ],
           "locations": [
            "AUS",
            "CAN",
            "CHN",
            "DEU",
            "DNK",
            "ESP",
            "FRA",
            "GBR",
            "GRC",
            "HRV",
            "IDN",
            "ITA",
            "JPN",
            "NLD",
            "NOR",
            "SWE",
            "USA"
           ],
           "name": "",
           "type": "choropleth",
           "z": [
            1.4583,
            0.6528,
            1.0313,
            0.475,
            0.7434,
            0.8875,
            1.1243,
            1.0764,
            0.7288,
            1.2347,
            1.2653,
            1.2875,
            0.4049,
            0.5799,
            0.4285,
            0.8035,
            1.3882
           ]
          }
         ],
         "name": "S2-2019"
        },
        {
         "data": [
          {
           "coloraxis": "coloraxis",
           "geo": "geo",
           "hovertemplate": "<b>%{hovertext}</b><br><br>Period Label=S1-2020<br>ISO_A3=%{location}<br>Median time in port (days)=%{z}<extra></extra>",
           "hovertext": [
            "Australia",
            "Canada",
            "China",
            "Germany",
            "Denmark",
            "Spain",
            "France",
            "United Kingdom",
            "Greece",
            "Croatia",
            "Indonesia",
            "Italy",
            "Japan",
            "Netherlands",
            "Norway",
            "Sweden",
            "United States of America"
           ],
           "locations": [
            "AUS",
            "CAN",
            "CHN",
            "DEU",
            "DNK",
            "ESP",
            "FRA",
            "GBR",
            "GRC",
            "HRV",
            "IDN",
            "ITA",
            "JPN",
            "NLD",
            "NOR",
            "SWE",
            "USA"
           ],
           "name": "",
           "type": "choropleth",
           "z": [
            1.4889,
            0.9944,
            1.0556,
            0.8205,
            0.7868,
            0.9021,
            1.2042,
            1.1014,
            0.849,
            1.1111,
            1.2271,
            1.3111,
            0.3993,
            0.5889,
            0.4028,
            0.8087,
            1.4625
           ]
          }
         ],
         "name": "S1-2020"
        },
        {
         "data": [
          {
           "coloraxis": "coloraxis",
           "geo": "geo",
           "hovertemplate": "<b>%{hovertext}</b><br><br>Period Label=S2-2020<br>ISO_A3=%{location}<br>Median time in port (days)=%{z}<extra></extra>",
           "hovertext": [
            "Australia",
            "Canada",
            "China",
            "Germany",
            "Denmark",
            "Spain",
            "France",
            "United Kingdom",
            "Greece",
            "Croatia",
            "Indonesia",
            "Italy",
            "Japan",
            "Netherlands",
            "Norway",
            "Sweden",
            "United States of America"
           ],
           "locations": [
            "AUS",
            "CAN",
            "CHN",
            "DEU",
            "DNK",
            "ESP",
            "FRA",
            "GBR",
            "GRC",
            "HRV",
            "IDN",
            "ITA",
            "JPN",
            "NLD",
            "NOR",
            "SWE",
            "USA"
           ],
           "name": "",
           "type": "choropleth",
           "z": [
            1.5229,
            0.625,
            1.0958,
            0.7958,
            0.7601,
            0.9021,
            1.1035,
            1.1125,
            0.7997,
            1.1118,
            1.2174,
            1.3101,
            0.3951,
            0.5701,
            0.4028,
            0.7837,
            1.4438
           ]
          }
         ],
         "name": "S2-2020"
        },
        {
         "data": [
          {
           "coloraxis": "coloraxis",
           "geo": "geo",
           "hovertemplate": "<b>%{hovertext}</b><br><br>Period Label=S1-2021<br>ISO_A3=%{location}<br>Median time in port (days)=%{z}<extra></extra>",
           "hovertext": [
            "Australia",
            "Canada",
            "China",
            "Germany",
            "Denmark",
            "Spain",
            "France",
            "United Kingdom",
            "Greece",
            "Croatia",
            "Indonesia",
            "Italy",
            "Japan",
            "Netherlands",
            "Norway",
            "Sweden",
            "United States of America"
           ],
           "locations": [
            "AUS",
            "CAN",
            "CHN",
            "DEU",
            "DNK",
            "ESP",
            "FRA",
            "GBR",
            "GRC",
            "HRV",
            "IDN",
            "ITA",
            "JPN",
            "NLD",
            "NOR",
            "SWE",
            "USA"
           ],
           "name": "",
           "type": "choropleth",
           "z": [
            1.5736,
            0.9726,
            1.134,
            0.8444,
            0.7653,
            0.9021,
            1.1799,
            1.1625,
            0.8576,
            1.1587,
            1.2931,
            1.3326,
            0.4146,
            0.6104,
            0.4111,
            0.7736,
            1.5639
           ]
          }
         ],
         "name": "S1-2021"
        },
        {
         "data": [
          {
           "coloraxis": "coloraxis",
           "geo": "geo",
           "hovertemplate": "<b>%{hovertext}</b><br><br>Period Label=S2-2021<br>ISO_A3=%{location}<br>Median time in port (days)=%{z}<extra></extra>",
           "hovertext": [
            "Australia",
            "Canada",
            "China",
            "Germany",
            "Denmark",
            "Spain",
            "France",
            "United Kingdom",
            "Greece",
            "Croatia",
            "Indonesia",
            "Italy",
            "Japan",
            "Netherlands",
            "Norway",
            "Sweden",
            "United States of America"
           ],
           "locations": [
            "AUS",
            "CAN",
            "CHN",
            "DEU",
            "DNK",
            "ESP",
            "FRA",
            "GBR",
            "GRC",
            "HRV",
            "IDN",
            "ITA",
            "JPN",
            "NLD",
            "NOR",
            "SWE",
            "USA"
           ],
           "name": "",
           "type": "choropleth",
           "z": [
            1.5646,
            0.5889,
            1.1681,
            0.833,
            0.7354,
            0.9007,
            1.1521,
            1.1639,
            0.8368,
            1.1986,
            1.2854,
            1.3576,
            0.4174,
            0.6257,
            0.4215,
            0.7694,
            1.5861
           ]
          }
         ],
         "name": "S2-2021"
        },
        {
         "data": [
          {
           "coloraxis": "coloraxis",
           "geo": "geo",
           "hovertemplate": "<b>%{hovertext}</b><br><br>Period Label=S1-2022<br>ISO_A3=%{location}<br>Median time in port (days)=%{z}<extra></extra>",
           "hovertext": [
            "Australia",
            "Canada",
            "China",
            "Germany",
            "Denmark",
            "Spain",
            "France",
            "United Kingdom",
            "Greece",
            "Croatia",
            "Indonesia",
            "Italy",
            "Japan",
            "Netherlands",
            "Norway",
            "Sweden",
            "United States of America"
           ],
           "locations": [
            "AUS",
            "CAN",
            "CHN",
            "DEU",
            "DNK",
            "ESP",
            "FRA",
            "GBR",
            "GRC",
            "HRV",
            "IDN",
            "ITA",
            "JPN",
            "NLD",
            "NOR",
            "SWE",
            "USA"
           ],
           "name": "",
           "type": "choropleth",
           "z": [
            1.6104,
            0.9667,
            1.1563,
            0.834,
            0.7469,
            0.9264,
            1.2125,
            1.2132,
            0.8656,
            1.3281,
            1.2813,
            1.3819,
            0.4201,
            0.641,
            0.4153,
            0.816,
            1.7007
           ]
          }
         ],
         "name": "S1-2022"
        }
       ],
       "layout": {
        "coloraxis": {
         "cmax": 2,
         "cmin": 0,
         "colorbar": {
          "title": {
           "text": "Median time in port (days)"
          }
         },
         "colorscale": [
          [
           0,
           "#0d0887"
          ],
          [
           0.1111111111111111,
           "#46039f"
          ],
          [
           0.2222222222222222,
           "#7201a8"
          ],
          [
           0.3333333333333333,
           "#9c179e"
          ],
          [
           0.4444444444444444,
           "#bd3786"
          ],
          [
           0.5555555555555556,
           "#d8576b"
          ],
          [
           0.6666666666666666,
           "#ed7953"
          ],
          [
           0.7777777777777778,
           "#fb9f3a"
          ],
          [
           0.8888888888888888,
           "#fdca26"
          ],
          [
           1,
           "#f0f921"
          ]
         ]
        },
        "geo": {
         "center": {},
         "domain": {
          "x": [
           0,
           1
          ],
          "y": [
           0,
           1
          ]
         }
        },
        "legend": {
         "tracegroupgap": 0
        },
        "margin": {
         "t": 60
        },
        "sliders": [
         {
          "active": 0,
          "currentvalue": {
           "prefix": "Period Label="
          },
          "len": 0.9,
          "pad": {
           "b": 10,
           "t": 60
          },
          "steps": [
           {
            "args": [
             [
              "S1-2018"
             ],
             {
              "frame": {
               "duration": 0,
               "redraw": true
              },
              "fromcurrent": true,
              "mode": "immediate",
              "transition": {
               "duration": 0,
               "easing": "linear"
              }
             }
            ],
            "label": "S1-2018",
            "method": "animate"
           },
           {
            "args": [
             [
              "S2-2018"
             ],
             {
              "frame": {
               "duration": 0,
               "redraw": true
              },
              "fromcurrent": true,
              "mode": "immediate",
              "transition": {
               "duration": 0,
               "easing": "linear"
              }
             }
            ],
            "label": "S2-2018",
            "method": "animate"
           },
           {
            "args": [
             [
              "S1-2019"
             ],
             {
              "frame": {
               "duration": 0,
               "redraw": true
              },
              "fromcurrent": true,
              "mode": "immediate",
              "transition": {
               "duration": 0,
               "easing": "linear"
              }
             }
            ],
            "label": "S1-2019",
            "method": "animate"
           },
           {
            "args": [
             [
              "S2-2019"
             ],
             {
              "frame": {
               "duration": 0,
               "redraw": true
              },
              "fromcurrent": true,
              "mode": "immediate",
              "transition": {
               "duration": 0,
               "easing": "linear"
              }
             }
            ],
            "label": "S2-2019",
            "method": "animate"
           },
           {
            "args": [
             [
              "S1-2020"
             ],
             {
              "frame": {
               "duration": 0,
               "redraw": true
              },
              "fromcurrent": true,
              "mode": "immediate",
              "transition": {
               "duration": 0,
               "easing": "linear"
              }
             }
            ],
            "label": "S1-2020",
            "method": "animate"
           },
           {
            "args": [
             [
              "S2-2020"
             ],
             {
              "frame": {
               "duration": 0,
               "redraw": true
              },
              "fromcurrent": true,
              "mode": "immediate",
              "transition": {
               "duration": 0,
               "easing": "linear"
              }
             }
            ],
            "label": "S2-2020",
            "method": "animate"
           },
           {
            "args": [
             [
              "S1-2021"
             ],
             {
              "frame": {
               "duration": 0,
               "redraw": true
              },
              "fromcurrent": true,
              "mode": "immediate",
              "transition": {
               "duration": 0,
               "easing": "linear"
              }
             }
            ],
            "label": "S1-2021",
            "method": "animate"
           },
           {
            "args": [
             [
              "S2-2021"
             ],
             {
              "frame": {
               "duration": 0,
               "redraw": true
              },
              "fromcurrent": true,
              "mode": "immediate",
              "transition": {
               "duration": 0,
               "easing": "linear"
              }
             }
            ],
            "label": "S2-2021",
            "method": "animate"
           },
           {
            "args": [
             [
              "S1-2022"
             ],
             {
              "frame": {
               "duration": 0,
               "redraw": true
              },
              "fromcurrent": true,
              "mode": "immediate",
              "transition": {
               "duration": 0,
               "easing": "linear"
              }
             }
            ],
            "label": "S1-2022",
            "method": "animate"
           }
          ],
          "x": 0.1,
          "xanchor": "left",
          "y": 0,
          "yanchor": "top"
         }
        ],
        "template": {
         "data": {
          "bar": [
           {
            "error_x": {
             "color": "#2a3f5f"
            },
            "error_y": {
             "color": "#2a3f5f"
            },
            "marker": {
             "line": {
              "color": "#E5ECF6",
              "width": 0.5
             },
             "pattern": {
              "fillmode": "overlay",
              "size": 10,
              "solidity": 0.2
             }
            },
            "type": "bar"
           }
          ],
          "barpolar": [
           {
            "marker": {
             "line": {
              "color": "#E5ECF6",
              "width": 0.5
             },
             "pattern": {
              "fillmode": "overlay",
              "size": 10,
              "solidity": 0.2
             }
            },
            "type": "barpolar"
           }
          ],
          "carpet": [
           {
            "aaxis": {
             "endlinecolor": "#2a3f5f",
             "gridcolor": "white",
             "linecolor": "white",
             "minorgridcolor": "white",
             "startlinecolor": "#2a3f5f"
            },
            "baxis": {
             "endlinecolor": "#2a3f5f",
             "gridcolor": "white",
             "linecolor": "white",
             "minorgridcolor": "white",
             "startlinecolor": "#2a3f5f"
            },
            "type": "carpet"
           }
          ],
          "choropleth": [
           {
            "colorbar": {
             "outlinewidth": 0,
             "ticks": ""
            },
            "type": "choropleth"
           }
          ],
          "contour": [
           {
            "colorbar": {
             "outlinewidth": 0,
             "ticks": ""
            },
            "colorscale": [
             [
              0,
              "#0d0887"
             ],
             [
              0.1111111111111111,
              "#46039f"
             ],
             [
              0.2222222222222222,
              "#7201a8"
             ],
             [
              0.3333333333333333,
              "#9c179e"
             ],
             [
              0.4444444444444444,
              "#bd3786"
             ],
             [
              0.5555555555555556,
              "#d8576b"
             ],
             [
              0.6666666666666666,
              "#ed7953"
             ],
             [
              0.7777777777777778,
              "#fb9f3a"
             ],
             [
              0.8888888888888888,
              "#fdca26"
             ],
             [
              1,
              "#f0f921"
             ]
            ],
            "type": "contour"
           }
          ],
          "contourcarpet": [
           {
            "colorbar": {
             "outlinewidth": 0,
             "ticks": ""
            },
            "type": "contourcarpet"
           }
          ],
          "heatmap": [
           {
            "colorbar": {
             "outlinewidth": 0,
             "ticks": ""
            },
            "colorscale": [
             [
              0,
              "#0d0887"
             ],
             [
              0.1111111111111111,
              "#46039f"
             ],
             [
              0.2222222222222222,
              "#7201a8"
             ],
             [
              0.3333333333333333,
              "#9c179e"
             ],
             [
              0.4444444444444444,
              "#bd3786"
             ],
             [
              0.5555555555555556,
              "#d8576b"
             ],
             [
              0.6666666666666666,
              "#ed7953"
             ],
             [
              0.7777777777777778,
              "#fb9f3a"
             ],
             [
              0.8888888888888888,
              "#fdca26"
             ],
             [
              1,
              "#f0f921"
             ]
            ],
            "type": "heatmap"
           }
          ],
          "heatmapgl": [
           {
            "colorbar": {
             "outlinewidth": 0,
             "ticks": ""
            },
            "colorscale": [
             [
              0,
              "#0d0887"
             ],
             [
              0.1111111111111111,
              "#46039f"
             ],
             [
              0.2222222222222222,
              "#7201a8"
             ],
             [
              0.3333333333333333,
              "#9c179e"
             ],
             [
              0.4444444444444444,
              "#bd3786"
             ],
             [
              0.5555555555555556,
              "#d8576b"
             ],
             [
              0.6666666666666666,
              "#ed7953"
             ],
             [
              0.7777777777777778,
              "#fb9f3a"
             ],
             [
              0.8888888888888888,
              "#fdca26"
             ],
             [
              1,
              "#f0f921"
             ]
            ],
            "type": "heatmapgl"
           }
          ],
          "histogram": [
           {
            "marker": {
             "pattern": {
              "fillmode": "overlay",
              "size": 10,
              "solidity": 0.2
             }
            },
            "type": "histogram"
           }
          ],
          "histogram2d": [
           {
            "colorbar": {
             "outlinewidth": 0,
             "ticks": ""
            },
            "colorscale": [
             [
              0,
              "#0d0887"
             ],
             [
              0.1111111111111111,
              "#46039f"
             ],
             [
              0.2222222222222222,
              "#7201a8"
             ],
             [
              0.3333333333333333,
              "#9c179e"
             ],
             [
              0.4444444444444444,
              "#bd3786"
             ],
             [
              0.5555555555555556,
              "#d8576b"
             ],
             [
              0.6666666666666666,
              "#ed7953"
             ],
             [
              0.7777777777777778,
              "#fb9f3a"
             ],
             [
              0.8888888888888888,
              "#fdca26"
             ],
             [
              1,
              "#f0f921"
             ]
            ],
            "type": "histogram2d"
           }
          ],
          "histogram2dcontour": [
           {
            "colorbar": {
             "outlinewidth": 0,
             "ticks": ""
            },
            "colorscale": [
             [
              0,
              "#0d0887"
             ],
             [
              0.1111111111111111,
              "#46039f"
             ],
             [
              0.2222222222222222,
              "#7201a8"
             ],
             [
              0.3333333333333333,
              "#9c179e"
             ],
             [
              0.4444444444444444,
              "#bd3786"
             ],
             [
              0.5555555555555556,
              "#d8576b"
             ],
             [
              0.6666666666666666,
              "#ed7953"
             ],
             [
              0.7777777777777778,
              "#fb9f3a"
             ],
             [
              0.8888888888888888,
              "#fdca26"
             ],
             [
              1,
              "#f0f921"
             ]
            ],
            "type": "histogram2dcontour"
           }
          ],
          "mesh3d": [
           {
            "colorbar": {
             "outlinewidth": 0,
             "ticks": ""
            },
            "type": "mesh3d"
           }
          ],
          "parcoords": [
           {
            "line": {
             "colorbar": {
              "outlinewidth": 0,
              "ticks": ""
             }
            },
            "type": "parcoords"
           }
          ],
          "pie": [
           {
            "automargin": true,
            "type": "pie"
           }
          ],
          "scatter": [
           {
            "fillpattern": {
             "fillmode": "overlay",
             "size": 10,
             "solidity": 0.2
            },
            "type": "scatter"
           }
          ],
          "scatter3d": [
           {
            "line": {
             "colorbar": {
              "outlinewidth": 0,
              "ticks": ""
             }
            },
            "marker": {
             "colorbar": {
              "outlinewidth": 0,
              "ticks": ""
             }
            },
            "type": "scatter3d"
           }
          ],
          "scattercarpet": [
           {
            "marker": {
             "colorbar": {
              "outlinewidth": 0,
              "ticks": ""
             }
            },
            "type": "scattercarpet"
           }
          ],
          "scattergeo": [
           {
            "marker": {
             "colorbar": {
              "outlinewidth": 0,
              "ticks": ""
             }
            },
            "type": "scattergeo"
           }
          ],
          "scattergl": [
           {
            "marker": {
             "colorbar": {
              "outlinewidth": 0,
              "ticks": ""
             }
            },
            "type": "scattergl"
           }
          ],
          "scattermapbox": [
           {
            "marker": {
             "colorbar": {
              "outlinewidth": 0,
              "ticks": ""
             }
            },
            "type": "scattermapbox"
           }
          ],
          "scatterpolar": [
           {
            "marker": {
             "colorbar": {
              "outlinewidth": 0,
              "ticks": ""
             }
            },
            "type": "scatterpolar"
           }
          ],
          "scatterpolargl": [
           {
            "marker": {
             "colorbar": {
              "outlinewidth": 0,
              "ticks": ""
             }
            },
            "type": "scatterpolargl"
           }
          ],
          "scatterternary": [
           {
            "marker": {
             "colorbar": {
              "outlinewidth": 0,
              "ticks": ""
             }
            },
            "type": "scatterternary"
           }
          ],
          "surface": [
           {
            "colorbar": {
             "outlinewidth": 0,
             "ticks": ""
            },
            "colorscale": [
             [
              0,
              "#0d0887"
             ],
             [
              0.1111111111111111,
              "#46039f"
             ],
             [
              0.2222222222222222,
              "#7201a8"
             ],
             [
              0.3333333333333333,
              "#9c179e"
             ],
             [
              0.4444444444444444,
              "#bd3786"
             ],
             [
              0.5555555555555556,
              "#d8576b"
             ],
             [
              0.6666666666666666,
              "#ed7953"
             ],
             [
              0.7777777777777778,
              "#fb9f3a"
             ],
             [
              0.8888888888888888,
              "#fdca26"
             ],
             [
              1,
              "#f0f921"
             ]
            ],
            "type": "surface"
           }
          ],
          "table": [
           {
            "cells": {
             "fill": {
              "color": "#EBF0F8"
             },
             "line": {
              "color": "white"
             }
            },
            "header": {
             "fill": {
              "color": "#C8D4E3"
             },
             "line": {
              "color": "white"
             }
            },
            "type": "table"
           }
          ]
         },
         "layout": {
          "annotationdefaults": {
           "arrowcolor": "#2a3f5f",
           "arrowhead": 0,
           "arrowwidth": 1
          },
          "autotypenumbers": "strict",
          "coloraxis": {
           "colorbar": {
            "outlinewidth": 0,
            "ticks": ""
           }
          },
          "colorscale": {
           "diverging": [
            [
             0,
             "#8e0152"
            ],
            [
             0.1,
             "#c51b7d"
            ],
            [
             0.2,
             "#de77ae"
            ],
            [
             0.3,
             "#f1b6da"
            ],
            [
             0.4,
             "#fde0ef"
            ],
            [
             0.5,
             "#f7f7f7"
            ],
            [
             0.6,
             "#e6f5d0"
            ],
            [
             0.7,
             "#b8e186"
            ],
            [
             0.8,
             "#7fbc41"
            ],
            [
             0.9,
             "#4d9221"
            ],
            [
             1,
             "#276419"
            ]
           ],
           "sequential": [
            [
             0,
             "#0d0887"
            ],
            [
             0.1111111111111111,
             "#46039f"
            ],
            [
             0.2222222222222222,
             "#7201a8"
            ],
            [
             0.3333333333333333,
             "#9c179e"
            ],
            [
             0.4444444444444444,
             "#bd3786"
            ],
            [
             0.5555555555555556,
             "#d8576b"
            ],
            [
             0.6666666666666666,
             "#ed7953"
            ],
            [
             0.7777777777777778,
             "#fb9f3a"
            ],
            [
             0.8888888888888888,
             "#fdca26"
            ],
            [
             1,
             "#f0f921"
            ]
           ],
           "sequentialminus": [
            [
             0,
             "#0d0887"
            ],
            [
             0.1111111111111111,
             "#46039f"
            ],
            [
             0.2222222222222222,
             "#7201a8"
            ],
            [
             0.3333333333333333,
             "#9c179e"
            ],
            [
             0.4444444444444444,
             "#bd3786"
            ],
            [
             0.5555555555555556,
             "#d8576b"
            ],
            [
             0.6666666666666666,
             "#ed7953"
            ],
            [
             0.7777777777777778,
             "#fb9f3a"
            ],
            [
             0.8888888888888888,
             "#fdca26"
            ],
            [
             1,
             "#f0f921"
            ]
           ]
          },
          "colorway": [
           "#636efa",
           "#EF553B",
           "#00cc96",
           "#ab63fa",
           "#FFA15A",
           "#19d3f3",
           "#FF6692",
           "#B6E880",
           "#FF97FF",
           "#FECB52"
          ],
          "font": {
           "color": "#2a3f5f"
          },
          "geo": {
           "bgcolor": "white",
           "lakecolor": "white",
           "landcolor": "#E5ECF6",
           "showlakes": true,
           "showland": true,
           "subunitcolor": "white"
          },
          "hoverlabel": {
           "align": "left"
          },
          "hovermode": "closest",
          "mapbox": {
           "style": "light"
          },
          "paper_bgcolor": "white",
          "plot_bgcolor": "#E5ECF6",
          "polar": {
           "angularaxis": {
            "gridcolor": "white",
            "linecolor": "white",
            "ticks": ""
           },
           "bgcolor": "#E5ECF6",
           "radialaxis": {
            "gridcolor": "white",
            "linecolor": "white",
            "ticks": ""
           }
          },
          "scene": {
           "xaxis": {
            "backgroundcolor": "#E5ECF6",
            "gridcolor": "white",
            "gridwidth": 2,
            "linecolor": "white",
            "showbackground": true,
            "ticks": "",
            "zerolinecolor": "white"
           },
           "yaxis": {
            "backgroundcolor": "#E5ECF6",
            "gridcolor": "white",
            "gridwidth": 2,
            "linecolor": "white",
            "showbackground": true,
            "ticks": "",
            "zerolinecolor": "white"
           },
           "zaxis": {
            "backgroundcolor": "#E5ECF6",
            "gridcolor": "white",
            "gridwidth": 2,
            "linecolor": "white",
            "showbackground": true,
            "ticks": "",
            "zerolinecolor": "white"
           }
          },
          "shapedefaults": {
           "line": {
            "color": "#2a3f5f"
           }
          },
          "ternary": {
           "aaxis": {
            "gridcolor": "white",
            "linecolor": "white",
            "ticks": ""
           },
           "baxis": {
            "gridcolor": "white",
            "linecolor": "white",
            "ticks": ""
           },
           "bgcolor": "#E5ECF6",
           "caxis": {
            "gridcolor": "white",
            "linecolor": "white",
            "ticks": ""
           }
          },
          "title": {
           "x": 0.05
          },
          "xaxis": {
           "automargin": true,
           "gridcolor": "white",
           "linecolor": "white",
           "ticks": "",
           "title": {
            "standoff": 15
           },
           "zerolinecolor": "white",
           "zerolinewidth": 2
          },
          "yaxis": {
           "automargin": true,
           "gridcolor": "white",
           "linecolor": "white",
           "ticks": "",
           "title": {
            "standoff": 15
           },
           "zerolinecolor": "white",
           "zerolinewidth": 2
          }
         }
        },
        "updatemenus": [
         {
          "buttons": [
           {
            "args": [
             null,
             {
              "frame": {
               "duration": 500,
               "redraw": true
              },
              "fromcurrent": true,
              "mode": "immediate",
              "transition": {
               "duration": 500,
               "easing": "linear"
              }
             }
            ],
            "label": "&#9654;",
            "method": "animate"
           },
           {
            "args": [
             [
              null
             ],
             {
              "frame": {
               "duration": 0,
               "redraw": true
              },
              "fromcurrent": true,
              "mode": "immediate",
              "transition": {
               "duration": 0,
               "easing": "linear"
              }
             }
            ],
            "label": "&#9724;",
            "method": "animate"
           }
          ],
          "direction": "left",
          "pad": {
           "r": 10,
           "t": 70
          },
          "showactive": false,
          "type": "buttons",
          "x": 0.1,
          "xanchor": "right",
          "y": 0,
          "yanchor": "top"
         }
        ]
       }
      },
      "text/html": [
       "<div>                            <div id=\"64c99bae-50cc-430d-955f-60929f50dc1f\" class=\"plotly-graph-div\" style=\"height:525px; width:100%;\"></div>            <script type=\"text/javascript\">                require([\"plotly\"], function(Plotly) {                    window.PLOTLYENV=window.PLOTLYENV || {};                                    if (document.getElementById(\"64c99bae-50cc-430d-955f-60929f50dc1f\")) {                    Plotly.newPlot(                        \"64c99bae-50cc-430d-955f-60929f50dc1f\",                        [{\"coloraxis\":\"coloraxis\",\"geo\":\"geo\",\"hovertemplate\":\"<b>%{hovertext}</b><br><br>Period Label=S1-2018<br>ISO_A3=%{location}<br>Median time in port (days)=%{z}<extra></extra>\",\"hovertext\":[\"Australia\",\"Canada\",\"China\",\"Germany\",\"Denmark\",\"Spain\",\"France\",\"United Kingdom\",\"Greece\",\"Croatia\",\"Indonesia\",\"Italy\",\"Japan\",\"Netherlands\",\"Norway\",\"Sweden\",\"United States of America\"],\"locations\":[\"AUS\",\"CAN\",\"CHN\",\"DEU\",\"DNK\",\"ESP\",\"FRA\",\"GBR\",\"GRC\",\"HRV\",\"IDN\",\"ITA\",\"JPN\",\"NLD\",\"NOR\",\"SWE\",\"USA\"],\"name\":\"\",\"z\":[1.49,0.84,1.01,0.58,0.74,0.85,1.11,1.09,0.72,1.18,1.33,1.25,0.41,0.56,0.43,0.79,1.45],\"type\":\"choropleth\"}],                        {\"template\":{\"data\":{\"histogram2dcontour\":[{\"type\":\"histogram2dcontour\",\"colorbar\":{\"outlinewidth\":0,\"ticks\":\"\"},\"colorscale\":[[0.0,\"#0d0887\"],[0.1111111111111111,\"#46039f\"],[0.2222222222222222,\"#7201a8\"],[0.3333333333333333,\"#9c179e\"],[0.4444444444444444,\"#bd3786\"],[0.5555555555555556,\"#d8576b\"],[0.6666666666666666,\"#ed7953\"],[0.7777777777777778,\"#fb9f3a\"],[0.8888888888888888,\"#fdca26\"],[1.0,\"#f0f921\"]]}],\"choropleth\":[{\"type\":\"choropleth\",\"colorbar\":{\"outlinewidth\":0,\"ticks\":\"\"}}],\"histogram2d\":[{\"type\":\"histogram2d\",\"colorbar\":{\"outlinewidth\":0,\"ticks\":\"\"},\"colorscale\":[[0.0,\"#0d0887\"],[0.1111111111111111,\"#46039f\"],[0.2222222222222222,\"#7201a8\"],[0.3333333333333333,\"#9c179e\"],[0.4444444444444444,\"#bd3786\"],[0.5555555555555556,\"#d8576b\"],[0.6666666666666666,\"#ed7953\"],[0.7777777777777778,\"#fb9f3a\"],[0.8888888888888888,\"#fdca26\"],[1.0,\"#f0f921\"]]}],\"heatmap\":[{\"type\":\"heatmap\",\"colorbar\":{\"outlinewidth\":0,\"ticks\":\"\"},\"colorscale\":[[0.0,\"#0d0887\"],[0.1111111111111111,\"#46039f\"],[0.2222222222222222,\"#7201a8\"],[0.3333333333333333,\"#9c179e\"],[0.4444444444444444,\"#bd3786\"],[0.5555555555555556,\"#d8576b\"],[0.6666666666666666,\"#ed7953\"],[0.7777777777777778,\"#fb9f3a\"],[0.8888888888888888,\"#fdca26\"],[1.0,\"#f0f921\"]]}],\"heatmapgl\":[{\"type\":\"heatmapgl\",\"colorbar\":{\"outlinewidth\":0,\"ticks\":\"\"},\"colorscale\":[[0.0,\"#0d0887\"],[0.1111111111111111,\"#46039f\"],[0.2222222222222222,\"#7201a8\"],[0.3333333333333333,\"#9c179e\"],[0.4444444444444444,\"#bd3786\"],[0.5555555555555556,\"#d8576b\"],[0.6666666666666666,\"#ed7953\"],[0.7777777777777778,\"#fb9f3a\"],[0.8888888888888888,\"#fdca26\"],[1.0,\"#f0f921\"]]}],\"contourcarpet\":[{\"type\":\"contourcarpet\",\"colorbar\":{\"outlinewidth\":0,\"ticks\":\"\"}}],\"contour\":[{\"type\":\"contour\",\"colorbar\":{\"outlinewidth\":0,\"ticks\":\"\"},\"colorscale\":[[0.0,\"#0d0887\"],[0.1111111111111111,\"#46039f\"],[0.2222222222222222,\"#7201a8\"],[0.3333333333333333,\"#9c179e\"],[0.4444444444444444,\"#bd3786\"],[0.5555555555555556,\"#d8576b\"],[0.6666666666666666,\"#ed7953\"],[0.7777777777777778,\"#fb9f3a\"],[0.8888888888888888,\"#fdca26\"],[1.0,\"#f0f921\"]]}],\"surface\":[{\"type\":\"surface\",\"colorbar\":{\"outlinewidth\":0,\"ticks\":\"\"},\"colorscale\":[[0.0,\"#0d0887\"],[0.1111111111111111,\"#46039f\"],[0.2222222222222222,\"#7201a8\"],[0.3333333333333333,\"#9c179e\"],[0.4444444444444444,\"#bd3786\"],[0.5555555555555556,\"#d8576b\"],[0.6666666666666666,\"#ed7953\"],[0.7777777777777778,\"#fb9f3a\"],[0.8888888888888888,\"#fdca26\"],[1.0,\"#f0f921\"]]}],\"mesh3d\":[{\"type\":\"mesh3d\",\"colorbar\":{\"outlinewidth\":0,\"ticks\":\"\"}}],\"scatter\":[{\"fillpattern\":{\"fillmode\":\"overlay\",\"size\":10,\"solidity\":0.2},\"type\":\"scatter\"}],\"parcoords\":[{\"type\":\"parcoords\",\"line\":{\"colorbar\":{\"outlinewidth\":0,\"ticks\":\"\"}}}],\"scatterpolargl\":[{\"type\":\"scatterpolargl\",\"marker\":{\"colorbar\":{\"outlinewidth\":0,\"ticks\":\"\"}}}],\"bar\":[{\"error_x\":{\"color\":\"#2a3f5f\"},\"error_y\":{\"color\":\"#2a3f5f\"},\"marker\":{\"line\":{\"color\":\"#E5ECF6\",\"width\":0.5},\"pattern\":{\"fillmode\":\"overlay\",\"size\":10,\"solidity\":0.2}},\"type\":\"bar\"}],\"scattergeo\":[{\"type\":\"scattergeo\",\"marker\":{\"colorbar\":{\"outlinewidth\":0,\"ticks\":\"\"}}}],\"scatterpolar\":[{\"type\":\"scatterpolar\",\"marker\":{\"colorbar\":{\"outlinewidth\":0,\"ticks\":\"\"}}}],\"histogram\":[{\"marker\":{\"pattern\":{\"fillmode\":\"overlay\",\"size\":10,\"solidity\":0.2}},\"type\":\"histogram\"}],\"scattergl\":[{\"type\":\"scattergl\",\"marker\":{\"colorbar\":{\"outlinewidth\":0,\"ticks\":\"\"}}}],\"scatter3d\":[{\"type\":\"scatter3d\",\"line\":{\"colorbar\":{\"outlinewidth\":0,\"ticks\":\"\"}},\"marker\":{\"colorbar\":{\"outlinewidth\":0,\"ticks\":\"\"}}}],\"scattermapbox\":[{\"type\":\"scattermapbox\",\"marker\":{\"colorbar\":{\"outlinewidth\":0,\"ticks\":\"\"}}}],\"scatterternary\":[{\"type\":\"scatterternary\",\"marker\":{\"colorbar\":{\"outlinewidth\":0,\"ticks\":\"\"}}}],\"scattercarpet\":[{\"type\":\"scattercarpet\",\"marker\":{\"colorbar\":{\"outlinewidth\":0,\"ticks\":\"\"}}}],\"carpet\":[{\"aaxis\":{\"endlinecolor\":\"#2a3f5f\",\"gridcolor\":\"white\",\"linecolor\":\"white\",\"minorgridcolor\":\"white\",\"startlinecolor\":\"#2a3f5f\"},\"baxis\":{\"endlinecolor\":\"#2a3f5f\",\"gridcolor\":\"white\",\"linecolor\":\"white\",\"minorgridcolor\":\"white\",\"startlinecolor\":\"#2a3f5f\"},\"type\":\"carpet\"}],\"table\":[{\"cells\":{\"fill\":{\"color\":\"#EBF0F8\"},\"line\":{\"color\":\"white\"}},\"header\":{\"fill\":{\"color\":\"#C8D4E3\"},\"line\":{\"color\":\"white\"}},\"type\":\"table\"}],\"barpolar\":[{\"marker\":{\"line\":{\"color\":\"#E5ECF6\",\"width\":0.5},\"pattern\":{\"fillmode\":\"overlay\",\"size\":10,\"solidity\":0.2}},\"type\":\"barpolar\"}],\"pie\":[{\"automargin\":true,\"type\":\"pie\"}]},\"layout\":{\"autotypenumbers\":\"strict\",\"colorway\":[\"#636efa\",\"#EF553B\",\"#00cc96\",\"#ab63fa\",\"#FFA15A\",\"#19d3f3\",\"#FF6692\",\"#B6E880\",\"#FF97FF\",\"#FECB52\"],\"font\":{\"color\":\"#2a3f5f\"},\"hovermode\":\"closest\",\"hoverlabel\":{\"align\":\"left\"},\"paper_bgcolor\":\"white\",\"plot_bgcolor\":\"#E5ECF6\",\"polar\":{\"bgcolor\":\"#E5ECF6\",\"angularaxis\":{\"gridcolor\":\"white\",\"linecolor\":\"white\",\"ticks\":\"\"},\"radialaxis\":{\"gridcolor\":\"white\",\"linecolor\":\"white\",\"ticks\":\"\"}},\"ternary\":{\"bgcolor\":\"#E5ECF6\",\"aaxis\":{\"gridcolor\":\"white\",\"linecolor\":\"white\",\"ticks\":\"\"},\"baxis\":{\"gridcolor\":\"white\",\"linecolor\":\"white\",\"ticks\":\"\"},\"caxis\":{\"gridcolor\":\"white\",\"linecolor\":\"white\",\"ticks\":\"\"}},\"coloraxis\":{\"colorbar\":{\"outlinewidth\":0,\"ticks\":\"\"}},\"colorscale\":{\"sequential\":[[0.0,\"#0d0887\"],[0.1111111111111111,\"#46039f\"],[0.2222222222222222,\"#7201a8\"],[0.3333333333333333,\"#9c179e\"],[0.4444444444444444,\"#bd3786\"],[0.5555555555555556,\"#d8576b\"],[0.6666666666666666,\"#ed7953\"],[0.7777777777777778,\"#fb9f3a\"],[0.8888888888888888,\"#fdca26\"],[1.0,\"#f0f921\"]],\"sequentialminus\":[[0.0,\"#0d0887\"],[0.1111111111111111,\"#46039f\"],[0.2222222222222222,\"#7201a8\"],[0.3333333333333333,\"#9c179e\"],[0.4444444444444444,\"#bd3786\"],[0.5555555555555556,\"#d8576b\"],[0.6666666666666666,\"#ed7953\"],[0.7777777777777778,\"#fb9f3a\"],[0.8888888888888888,\"#fdca26\"],[1.0,\"#f0f921\"]],\"diverging\":[[0,\"#8e0152\"],[0.1,\"#c51b7d\"],[0.2,\"#de77ae\"],[0.3,\"#f1b6da\"],[0.4,\"#fde0ef\"],[0.5,\"#f7f7f7\"],[0.6,\"#e6f5d0\"],[0.7,\"#b8e186\"],[0.8,\"#7fbc41\"],[0.9,\"#4d9221\"],[1,\"#276419\"]]},\"xaxis\":{\"gridcolor\":\"white\",\"linecolor\":\"white\",\"ticks\":\"\",\"title\":{\"standoff\":15},\"zerolinecolor\":\"white\",\"automargin\":true,\"zerolinewidth\":2},\"yaxis\":{\"gridcolor\":\"white\",\"linecolor\":\"white\",\"ticks\":\"\",\"title\":{\"standoff\":15},\"zerolinecolor\":\"white\",\"automargin\":true,\"zerolinewidth\":2},\"scene\":{\"xaxis\":{\"backgroundcolor\":\"#E5ECF6\",\"gridcolor\":\"white\",\"linecolor\":\"white\",\"showbackground\":true,\"ticks\":\"\",\"zerolinecolor\":\"white\",\"gridwidth\":2},\"yaxis\":{\"backgroundcolor\":\"#E5ECF6\",\"gridcolor\":\"white\",\"linecolor\":\"white\",\"showbackground\":true,\"ticks\":\"\",\"zerolinecolor\":\"white\",\"gridwidth\":2},\"zaxis\":{\"backgroundcolor\":\"#E5ECF6\",\"gridcolor\":\"white\",\"linecolor\":\"white\",\"showbackground\":true,\"ticks\":\"\",\"zerolinecolor\":\"white\",\"gridwidth\":2}},\"shapedefaults\":{\"line\":{\"color\":\"#2a3f5f\"}},\"annotationdefaults\":{\"arrowcolor\":\"#2a3f5f\",\"arrowhead\":0,\"arrowwidth\":1},\"geo\":{\"bgcolor\":\"white\",\"landcolor\":\"#E5ECF6\",\"subunitcolor\":\"white\",\"showland\":true,\"showlakes\":true,\"lakecolor\":\"white\"},\"title\":{\"x\":0.05},\"mapbox\":{\"style\":\"light\"}}},\"geo\":{\"domain\":{\"x\":[0.0,1.0],\"y\":[0.0,1.0]},\"center\":{}},\"coloraxis\":{\"colorbar\":{\"title\":{\"text\":\"Median time in port (days)\"}},\"colorscale\":[[0.0,\"#0d0887\"],[0.1111111111111111,\"#46039f\"],[0.2222222222222222,\"#7201a8\"],[0.3333333333333333,\"#9c179e\"],[0.4444444444444444,\"#bd3786\"],[0.5555555555555556,\"#d8576b\"],[0.6666666666666666,\"#ed7953\"],[0.7777777777777778,\"#fb9f3a\"],[0.8888888888888888,\"#fdca26\"],[1.0,\"#f0f921\"]],\"cmin\":0,\"cmax\":2},\"legend\":{\"tracegroupgap\":0},\"margin\":{\"t\":60},\"updatemenus\":[{\"buttons\":[{\"args\":[null,{\"frame\":{\"duration\":500,\"redraw\":true},\"mode\":\"immediate\",\"fromcurrent\":true,\"transition\":{\"duration\":500,\"easing\":\"linear\"}}],\"label\":\"&#9654;\",\"method\":\"animate\"},{\"args\":[[null],{\"frame\":{\"duration\":0,\"redraw\":true},\"mode\":\"immediate\",\"fromcurrent\":true,\"transition\":{\"duration\":0,\"easing\":\"linear\"}}],\"label\":\"&#9724;\",\"method\":\"animate\"}],\"direction\":\"left\",\"pad\":{\"r\":10,\"t\":70},\"showactive\":false,\"type\":\"buttons\",\"x\":0.1,\"xanchor\":\"right\",\"y\":0,\"yanchor\":\"top\"}],\"sliders\":[{\"active\":0,\"currentvalue\":{\"prefix\":\"Period Label=\"},\"len\":0.9,\"pad\":{\"b\":10,\"t\":60},\"steps\":[{\"args\":[[\"S1-2018\"],{\"frame\":{\"duration\":0,\"redraw\":true},\"mode\":\"immediate\",\"fromcurrent\":true,\"transition\":{\"duration\":0,\"easing\":\"linear\"}}],\"label\":\"S1-2018\",\"method\":\"animate\"},{\"args\":[[\"S2-2018\"],{\"frame\":{\"duration\":0,\"redraw\":true},\"mode\":\"immediate\",\"fromcurrent\":true,\"transition\":{\"duration\":0,\"easing\":\"linear\"}}],\"label\":\"S2-2018\",\"method\":\"animate\"},{\"args\":[[\"S1-2019\"],{\"frame\":{\"duration\":0,\"redraw\":true},\"mode\":\"immediate\",\"fromcurrent\":true,\"transition\":{\"duration\":0,\"easing\":\"linear\"}}],\"label\":\"S1-2019\",\"method\":\"animate\"},{\"args\":[[\"S2-2019\"],{\"frame\":{\"duration\":0,\"redraw\":true},\"mode\":\"immediate\",\"fromcurrent\":true,\"transition\":{\"duration\":0,\"easing\":\"linear\"}}],\"label\":\"S2-2019\",\"method\":\"animate\"},{\"args\":[[\"S1-2020\"],{\"frame\":{\"duration\":0,\"redraw\":true},\"mode\":\"immediate\",\"fromcurrent\":true,\"transition\":{\"duration\":0,\"easing\":\"linear\"}}],\"label\":\"S1-2020\",\"method\":\"animate\"},{\"args\":[[\"S2-2020\"],{\"frame\":{\"duration\":0,\"redraw\":true},\"mode\":\"immediate\",\"fromcurrent\":true,\"transition\":{\"duration\":0,\"easing\":\"linear\"}}],\"label\":\"S2-2020\",\"method\":\"animate\"},{\"args\":[[\"S1-2021\"],{\"frame\":{\"duration\":0,\"redraw\":true},\"mode\":\"immediate\",\"fromcurrent\":true,\"transition\":{\"duration\":0,\"easing\":\"linear\"}}],\"label\":\"S1-2021\",\"method\":\"animate\"},{\"args\":[[\"S2-2021\"],{\"frame\":{\"duration\":0,\"redraw\":true},\"mode\":\"immediate\",\"fromcurrent\":true,\"transition\":{\"duration\":0,\"easing\":\"linear\"}}],\"label\":\"S2-2021\",\"method\":\"animate\"},{\"args\":[[\"S1-2022\"],{\"frame\":{\"duration\":0,\"redraw\":true},\"mode\":\"immediate\",\"fromcurrent\":true,\"transition\":{\"duration\":0,\"easing\":\"linear\"}}],\"label\":\"S1-2022\",\"method\":\"animate\"}],\"x\":0.1,\"xanchor\":\"left\",\"y\":0,\"yanchor\":\"top\"}]},                        {\"responsive\": true}                    ).then(function(){\n",
       "                            Plotly.addFrames('64c99bae-50cc-430d-955f-60929f50dc1f', [{\"data\":[{\"coloraxis\":\"coloraxis\",\"geo\":\"geo\",\"hovertemplate\":\"<b>%{hovertext}</b><br><br>Period Label=S1-2018<br>ISO_A3=%{location}<br>Median time in port (days)=%{z}<extra></extra>\",\"hovertext\":[\"Australia\",\"Canada\",\"China\",\"Germany\",\"Denmark\",\"Spain\",\"France\",\"United Kingdom\",\"Greece\",\"Croatia\",\"Indonesia\",\"Italy\",\"Japan\",\"Netherlands\",\"Norway\",\"Sweden\",\"United States of America\"],\"locations\":[\"AUS\",\"CAN\",\"CHN\",\"DEU\",\"DNK\",\"ESP\",\"FRA\",\"GBR\",\"GRC\",\"HRV\",\"IDN\",\"ITA\",\"JPN\",\"NLD\",\"NOR\",\"SWE\",\"USA\"],\"name\":\"\",\"z\":[1.49,0.84,1.01,0.58,0.74,0.85,1.11,1.09,0.72,1.18,1.33,1.25,0.41,0.56,0.43,0.79,1.45],\"type\":\"choropleth\"}],\"name\":\"S1-2018\"},{\"data\":[{\"coloraxis\":\"coloraxis\",\"geo\":\"geo\",\"hovertemplate\":\"<b>%{hovertext}</b><br><br>Period Label=S2-2018<br>ISO_A3=%{location}<br>Median time in port (days)=%{z}<extra></extra>\",\"hovertext\":[\"Australia\",\"Canada\",\"China\",\"Germany\",\"Denmark\",\"Spain\",\"France\",\"United Kingdom\",\"Greece\",\"Croatia\",\"Indonesia\",\"Italy\",\"Japan\",\"Netherlands\",\"Norway\",\"Sweden\",\"United States of America\"],\"locations\":[\"AUS\",\"CAN\",\"CHN\",\"DEU\",\"DNK\",\"ESP\",\"FRA\",\"GBR\",\"GRC\",\"HRV\",\"IDN\",\"ITA\",\"JPN\",\"NLD\",\"NOR\",\"SWE\",\"USA\"],\"name\":\"\",\"z\":[1.46,0.54,1.04,0.54,0.74,0.87,1.12,1.1,0.69,1.21,1.35,1.25,0.41,0.57,0.43,0.8,1.37],\"type\":\"choropleth\"}],\"name\":\"S2-2018\"},{\"data\":[{\"coloraxis\":\"coloraxis\",\"geo\":\"geo\",\"hovertemplate\":\"<b>%{hovertext}</b><br><br>Period Label=S1-2019<br>ISO_A3=%{location}<br>Median time in port (days)=%{z}<extra></extra>\",\"hovertext\":[\"Australia\",\"Canada\",\"China\",\"Germany\",\"Denmark\",\"Spain\",\"France\",\"United Kingdom\",\"Greece\",\"Croatia\",\"Indonesia\",\"Italy\",\"Japan\",\"Netherlands\",\"Norway\",\"Sweden\",\"United States of America\"],\"locations\":[\"AUS\",\"CAN\",\"CHN\",\"DEU\",\"DNK\",\"ESP\",\"FRA\",\"GBR\",\"GRC\",\"HRV\",\"IDN\",\"ITA\",\"JPN\",\"NLD\",\"NOR\",\"SWE\",\"USA\"],\"name\":\"\",\"z\":[1.4014,0.9125,1.0458,0.5007,0.7583,0.8701,1.1031,1.0799,0.7566,1.275,1.3056,1.2667,0.4125,0.566,0.4063,0.7958,1.4826],\"type\":\"choropleth\"}],\"name\":\"S1-2019\"},{\"data\":[{\"coloraxis\":\"coloraxis\",\"geo\":\"geo\",\"hovertemplate\":\"<b>%{hovertext}</b><br><br>Period Label=S2-2019<br>ISO_A3=%{location}<br>Median time in port (days)=%{z}<extra></extra>\",\"hovertext\":[\"Australia\",\"Canada\",\"China\",\"Germany\",\"Denmark\",\"Spain\",\"France\",\"United Kingdom\",\"Greece\",\"Croatia\",\"Indonesia\",\"Italy\",\"Japan\",\"Netherlands\",\"Norway\",\"Sweden\",\"United States of America\"],\"locations\":[\"AUS\",\"CAN\",\"CHN\",\"DEU\",\"DNK\",\"ESP\",\"FRA\",\"GBR\",\"GRC\",\"HRV\",\"IDN\",\"ITA\",\"JPN\",\"NLD\",\"NOR\",\"SWE\",\"USA\"],\"name\":\"\",\"z\":[1.4583,0.6528,1.0313,0.475,0.7434,0.8875,1.1243,1.0764,0.7288,1.2347,1.2653,1.2875,0.4049,0.5799,0.4285,0.8035,1.3882],\"type\":\"choropleth\"}],\"name\":\"S2-2019\"},{\"data\":[{\"coloraxis\":\"coloraxis\",\"geo\":\"geo\",\"hovertemplate\":\"<b>%{hovertext}</b><br><br>Period Label=S1-2020<br>ISO_A3=%{location}<br>Median time in port (days)=%{z}<extra></extra>\",\"hovertext\":[\"Australia\",\"Canada\",\"China\",\"Germany\",\"Denmark\",\"Spain\",\"France\",\"United Kingdom\",\"Greece\",\"Croatia\",\"Indonesia\",\"Italy\",\"Japan\",\"Netherlands\",\"Norway\",\"Sweden\",\"United States of America\"],\"locations\":[\"AUS\",\"CAN\",\"CHN\",\"DEU\",\"DNK\",\"ESP\",\"FRA\",\"GBR\",\"GRC\",\"HRV\",\"IDN\",\"ITA\",\"JPN\",\"NLD\",\"NOR\",\"SWE\",\"USA\"],\"name\":\"\",\"z\":[1.4889,0.9944,1.0556,0.8205,0.7868,0.9021,1.2042,1.1014,0.849,1.1111,1.2271,1.3111,0.3993,0.5889,0.4028,0.8087,1.4625],\"type\":\"choropleth\"}],\"name\":\"S1-2020\"},{\"data\":[{\"coloraxis\":\"coloraxis\",\"geo\":\"geo\",\"hovertemplate\":\"<b>%{hovertext}</b><br><br>Period Label=S2-2020<br>ISO_A3=%{location}<br>Median time in port (days)=%{z}<extra></extra>\",\"hovertext\":[\"Australia\",\"Canada\",\"China\",\"Germany\",\"Denmark\",\"Spain\",\"France\",\"United Kingdom\",\"Greece\",\"Croatia\",\"Indonesia\",\"Italy\",\"Japan\",\"Netherlands\",\"Norway\",\"Sweden\",\"United States of America\"],\"locations\":[\"AUS\",\"CAN\",\"CHN\",\"DEU\",\"DNK\",\"ESP\",\"FRA\",\"GBR\",\"GRC\",\"HRV\",\"IDN\",\"ITA\",\"JPN\",\"NLD\",\"NOR\",\"SWE\",\"USA\"],\"name\":\"\",\"z\":[1.5229,0.625,1.0958,0.7958,0.7601,0.9021,1.1035,1.1125,0.7997,1.1118,1.2174,1.3101,0.3951,0.5701,0.4028,0.7837,1.4438],\"type\":\"choropleth\"}],\"name\":\"S2-2020\"},{\"data\":[{\"coloraxis\":\"coloraxis\",\"geo\":\"geo\",\"hovertemplate\":\"<b>%{hovertext}</b><br><br>Period Label=S1-2021<br>ISO_A3=%{location}<br>Median time in port (days)=%{z}<extra></extra>\",\"hovertext\":[\"Australia\",\"Canada\",\"China\",\"Germany\",\"Denmark\",\"Spain\",\"France\",\"United Kingdom\",\"Greece\",\"Croatia\",\"Indonesia\",\"Italy\",\"Japan\",\"Netherlands\",\"Norway\",\"Sweden\",\"United States of America\"],\"locations\":[\"AUS\",\"CAN\",\"CHN\",\"DEU\",\"DNK\",\"ESP\",\"FRA\",\"GBR\",\"GRC\",\"HRV\",\"IDN\",\"ITA\",\"JPN\",\"NLD\",\"NOR\",\"SWE\",\"USA\"],\"name\":\"\",\"z\":[1.5736,0.9726,1.134,0.8444,0.7653,0.9021,1.1799,1.1625,0.8576,1.1587,1.2931,1.3326,0.4146,0.6104,0.4111,0.7736,1.5639],\"type\":\"choropleth\"}],\"name\":\"S1-2021\"},{\"data\":[{\"coloraxis\":\"coloraxis\",\"geo\":\"geo\",\"hovertemplate\":\"<b>%{hovertext}</b><br><br>Period Label=S2-2021<br>ISO_A3=%{location}<br>Median time in port (days)=%{z}<extra></extra>\",\"hovertext\":[\"Australia\",\"Canada\",\"China\",\"Germany\",\"Denmark\",\"Spain\",\"France\",\"United Kingdom\",\"Greece\",\"Croatia\",\"Indonesia\",\"Italy\",\"Japan\",\"Netherlands\",\"Norway\",\"Sweden\",\"United States of America\"],\"locations\":[\"AUS\",\"CAN\",\"CHN\",\"DEU\",\"DNK\",\"ESP\",\"FRA\",\"GBR\",\"GRC\",\"HRV\",\"IDN\",\"ITA\",\"JPN\",\"NLD\",\"NOR\",\"SWE\",\"USA\"],\"name\":\"\",\"z\":[1.5646,0.5889,1.1681,0.833,0.7354,0.9007,1.1521,1.1639,0.8368,1.1986,1.2854,1.3576,0.4174,0.6257,0.4215,0.7694,1.5861],\"type\":\"choropleth\"}],\"name\":\"S2-2021\"},{\"data\":[{\"coloraxis\":\"coloraxis\",\"geo\":\"geo\",\"hovertemplate\":\"<b>%{hovertext}</b><br><br>Period Label=S1-2022<br>ISO_A3=%{location}<br>Median time in port (days)=%{z}<extra></extra>\",\"hovertext\":[\"Australia\",\"Canada\",\"China\",\"Germany\",\"Denmark\",\"Spain\",\"France\",\"United Kingdom\",\"Greece\",\"Croatia\",\"Indonesia\",\"Italy\",\"Japan\",\"Netherlands\",\"Norway\",\"Sweden\",\"United States of America\"],\"locations\":[\"AUS\",\"CAN\",\"CHN\",\"DEU\",\"DNK\",\"ESP\",\"FRA\",\"GBR\",\"GRC\",\"HRV\",\"IDN\",\"ITA\",\"JPN\",\"NLD\",\"NOR\",\"SWE\",\"USA\"],\"name\":\"\",\"z\":[1.6104,0.9667,1.1563,0.834,0.7469,0.9264,1.2125,1.2132,0.8656,1.3281,1.2813,1.3819,0.4201,0.641,0.4153,0.816,1.7007],\"type\":\"choropleth\"}],\"name\":\"S1-2022\"}]);\n",
       "                        }).then(function(){\n",
       "                            \n",
       "var gd = document.getElementById('64c99bae-50cc-430d-955f-60929f50dc1f');\n",
       "var x = new MutationObserver(function (mutations, observer) {{\n",
       "        var display = window.getComputedStyle(gd).display;\n",
       "        if (!display || display === 'none') {{\n",
       "            console.log([gd, 'removed!']);\n",
       "            Plotly.purge(gd);\n",
       "            observer.disconnect();\n",
       "        }}\n",
       "}});\n",
       "\n",
       "// Listen for the removal of the full notebook cells\n",
       "var notebookContainer = gd.closest('#notebook-container');\n",
       "if (notebookContainer) {{\n",
       "    x.observe(notebookContainer, {childList: true});\n",
       "}}\n",
       "\n",
       "// Listen for the clearing of the current output cell\n",
       "var outputEl = gd.closest('.output');\n",
       "if (outputEl) {{\n",
       "    x.observe(outputEl, {childList: true});\n",
       "}}\n",
       "\n",
       "                        })                };                });            </script>        </div>"
      ]
     },
     "metadata": {},
     "output_type": "display_data"
    }
   ],
   "source": [
    "#df['text'] = geo_port['Location'] + '<br>' + \\\n",
    "   # 'Passenger ships ' + geo_port['Passenger ships'] + ' Dairy ' + geo_port['dairy'] + '<br>' + \\\n",
    "   # 'Fruits ' + geo_port['total fruits'] + ' Veggies ' + geo_port['total veggies'] + '<br>' + \\\n",
    "   # 'Wheat ' + geo_port['wheat'] + ' Corn ' + geo_port['corn']\n",
    "\n",
    "fig = px.choropleth(geo_port_all_vessels, locations=\"ISO_A3\",\n",
    "                    color=\"Median time in port (days)\", \n",
    "                    hover_name=\"Location\",\n",
    "                    range_color=(0, 2),\n",
    "                    animation_frame=\"Period Label\",\n",
    "                    #text=df['text'], # hover text\n",
    "                    color_continuous_scale=px.colors.sequential.Plasma)\n",
    "fig.show()\n"
   ]
  },
  {
   "cell_type": "code",
   "execution_count": null,
   "metadata": {},
   "outputs": [],
   "source": []
  },
  {
   "cell_type": "code",
   "execution_count": null,
   "metadata": {},
   "outputs": [],
   "source": [
    "# reading csv files\n",
    "data1 = df_ports\n",
    "data2 = pd.read_csv('xx')\n",
    "  \n",
    "# using merge function by setting how='outer'\n",
    "output4 = pd.merge(data1, data2, \n",
    "                   on='Location', \n",
    "                   how='outer')\n",
    "  \n",
    "# displaying result\n",
    "print(output4)"
   ]
  },
  {
   "cell_type": "markdown",
   "metadata": {},
   "source": [
    "new = df_ports['Period Label'].str.split('  ', n = 1, expand = True)\n",
    "df_ports['Semester']= new[0]\n",
    "df_ports['Year']= new[1]\n",
    "df_ports.drop(columns =['Period Label'], inplace = True)\n",
    "df_ports = df_ports[['Period', 'Year', 'Semester', 'Frequency', 'Frequency Label', 'Economy',\n",
    "       'Economy Label', 'CommercialMarket', 'CommercialMarket Label',\n",
    "       'Median time in port (days)', 'Median time in port (days) Footnote',\n",
    "       'Average age of vessels', 'Average age of vessels Footnote',\n",
    "       'Average size (GT) of vessels', 'Average size (GT) of vessels Footnote',\n",
    "       'Maximum size (GT) of vessels', 'Maximum size (GT) of vessels Footnote',\n",
    "       'Average cargo carrying capacity (dwt) per vessel',\n",
    "       'Average cargo carrying capacity (dwt) per vessel Footnote',\n",
    "       'Maximum cargo carrying capacity (dwt) of vessels',\n",
    "       'Maximum cargo carrying capacity (dwt) of vessels Footnote',\n",
    "       'Average container carrying capacity (TEU) per container ship',\n",
    "       'Average container carrying capacity (TEU) per container ship Footnote',\n",
    "       'Maximum container carrying capacity (TEU) of container ships',\n",
    "       'Maximum container carrying capacity (TEU) of container ships Footnote',\n",
    "       ]]\n",
    "df_ports"
   ]
  },
  {
   "cell_type": "markdown",
   "metadata": {},
   "source": [
    "# Part II"
   ]
  },
  {
   "cell_type": "code",
   "execution_count": 56,
   "metadata": {},
   "outputs": [],
   "source": [
    "# Variables from COVID data \n",
    "activity_1 = 'new cases'\n",
    "activity_2 = 'new deaths'\n",
    "activity_3 = 'cumulative cases'\n",
    "activity_4 = 'cumulative deaths'\n",
    "\n",
    "# Varaibles from Maritime data \n",
    "activity_5 = 'Median time in port (days)'\n",
    "#activity_6 = 'port index value'\n",
    "#activity_7 = 'port calls'\n",
    "activity_8 = 'Average age of vessels'\n",
    "activity_10 = 'Average size (GT) of vessels'\n",
    "activity_9 = 'Vessel_Type'\n",
    "\n",
    "# Common variables\n",
    "region_1 = 'Asia'\n",
    "region_2 = 'Oceania'\n",
    "region_3 = 'Europe'\n",
    "region_4 = 'Africa'\n",
    "region_5 = 'North America'\n",
    "region_6 = 'South America'\n",
    "world_story = [region_1, region_2, region_3, region_4, region_5, region_6]\n",
    "\n",
    "\n",
    "activities_story_1 = [activity_8, activity_5, activity_10]\n",
    "#activities_story_2 = [activity_1, activity_2, activity_6]\n",
    "#activities_story_3 = [activity_5, activity_2]\n"
   ]
  },
  {
   "cell_type": "code",
   "execution_count": 57,
   "metadata": {},
   "outputs": [],
   "source": [
    "# first, I'm going to define a function to be able to select the different vessels in a list for each country for a specific time period\n",
    "def data_highs(data, acitivity, **kwargs):\n",
    "\n",
    "    diff_1 = data[activity].diff(periods = -1)\n",
    "    diff_2 = data[activity].diff(periods = 1)\n",
    "    \n",
    "    peaks = []\n",
    "    for i in range(len(diff_1)):\n",
    "        if diff_1[i] > 0 and diff_2[i] > 0:\n",
    "            peaks.append(int(i))          \n",
    "            \n",
    "    return peaks\n",
    "\n",
    "# And do the same for the valleys\n",
    "def data_lows(data, activity, **kwargs):\n",
    "\n",
    "    diff_1 = data[activity].diff(periods = -1)\n",
    "    diff_2 = data[activity].diff(periods = 1)\n",
    "\n",
    "    valleys = []\n",
    "    for i in range(len(diff_1)):\n",
    "        if diff_1[i] < 0 and diff_2[i] < 0:\n",
    "            valleys.append(int(i))          \n",
    "            \n",
    "    return valleys"
   ]
  },
  {
   "cell_type": "code",
   "execution_count": 63,
   "metadata": {},
   "outputs": [
    {
     "data": {
      "application/vnd.plotly.v1+json": {
       "config": {
        "plotlyServerURL": "https://plot.ly"
       },
       "data": [
        {
         "name": "Average age of vessels",
         "type": "scatter",
         "x": [
          "S1-2018",
          "S2-2018",
          "S1-2019",
          "S2-2019",
          "S1-2020",
          "S2-2020",
          "S1-2021",
          "S2-2021",
          "S1-2022"
         ],
         "y": [
          19,
          19,
          20,
          20,
          21,
          20,
          21,
          19,
          17
         ]
        },
        {
         "mode": "markers",
         "name": "peaks Average age of vessels",
         "type": "scatter",
         "x": [
          "S1-2020",
          "S1-2021"
         ],
         "y": [
          21,
          21
         ]
        },
        {
         "mode": "markers",
         "name": "valleys Average age of vessels",
         "type": "scatter",
         "x": [
          "S2-2020"
         ],
         "y": [
          20
         ]
        },
        {
         "name": "Median time in port (days)",
         "type": "scatter",
         "x": [
          "S1-2018",
          "S2-2018",
          "S1-2019",
          "S2-2019",
          "S1-2020",
          "S2-2020",
          "S1-2021",
          "S2-2021",
          "S1-2022"
         ],
         "y": [
          1.49,
          1.46,
          1.4014,
          1.4583,
          1.4889,
          1.5229,
          1.5736,
          1.5646,
          1.6104
         ]
        },
        {
         "mode": "markers",
         "name": "peaks Median time in port (days)",
         "type": "scatter",
         "x": [
          "S1-2021"
         ],
         "y": [
          1.5736
         ]
        },
        {
         "mode": "markers",
         "name": "valleys Median time in port (days)",
         "type": "scatter",
         "x": [
          "S1-2019",
          "S2-2021"
         ],
         "y": [
          1.4014,
          1.5646
         ]
        },
        {
         "name": "Average size (GT) of vessels",
         "type": "scatter",
         "x": [
          "S1-2018",
          "S2-2018",
          "S1-2019",
          "S2-2019",
          "S1-2020",
          "S2-2020",
          "S1-2021",
          "S2-2021",
          "S1-2022"
         ],
         "y": [
          25686,
          26220,
          24755,
          25938,
          25790,
          26294,
          25644,
          29921,
          32686
         ]
        },
        {
         "mode": "markers",
         "name": "peaks Average size (GT) of vessels",
         "type": "scatter",
         "x": [
          "S2-2018",
          "S2-2019",
          "S2-2020"
         ],
         "y": [
          26220,
          25938,
          26294
         ]
        },
        {
         "mode": "markers",
         "name": "valleys Average size (GT) of vessels",
         "type": "scatter",
         "x": [
          "S1-2019",
          "S1-2020",
          "S1-2021"
         ],
         "y": [
          24755,
          25790,
          25644
         ]
        }
       ],
       "layout": {
        "template": {
         "data": {
          "bar": [
           {
            "error_x": {
             "color": "#2a3f5f"
            },
            "error_y": {
             "color": "#2a3f5f"
            },
            "marker": {
             "line": {
              "color": "#E5ECF6",
              "width": 0.5
             },
             "pattern": {
              "fillmode": "overlay",
              "size": 10,
              "solidity": 0.2
             }
            },
            "type": "bar"
           }
          ],
          "barpolar": [
           {
            "marker": {
             "line": {
              "color": "#E5ECF6",
              "width": 0.5
             },
             "pattern": {
              "fillmode": "overlay",
              "size": 10,
              "solidity": 0.2
             }
            },
            "type": "barpolar"
           }
          ],
          "carpet": [
           {
            "aaxis": {
             "endlinecolor": "#2a3f5f",
             "gridcolor": "white",
             "linecolor": "white",
             "minorgridcolor": "white",
             "startlinecolor": "#2a3f5f"
            },
            "baxis": {
             "endlinecolor": "#2a3f5f",
             "gridcolor": "white",
             "linecolor": "white",
             "minorgridcolor": "white",
             "startlinecolor": "#2a3f5f"
            },
            "type": "carpet"
           }
          ],
          "choropleth": [
           {
            "colorbar": {
             "outlinewidth": 0,
             "ticks": ""
            },
            "type": "choropleth"
           }
          ],
          "contour": [
           {
            "colorbar": {
             "outlinewidth": 0,
             "ticks": ""
            },
            "colorscale": [
             [
              0,
              "#0d0887"
             ],
             [
              0.1111111111111111,
              "#46039f"
             ],
             [
              0.2222222222222222,
              "#7201a8"
             ],
             [
              0.3333333333333333,
              "#9c179e"
             ],
             [
              0.4444444444444444,
              "#bd3786"
             ],
             [
              0.5555555555555556,
              "#d8576b"
             ],
             [
              0.6666666666666666,
              "#ed7953"
             ],
             [
              0.7777777777777778,
              "#fb9f3a"
             ],
             [
              0.8888888888888888,
              "#fdca26"
             ],
             [
              1,
              "#f0f921"
             ]
            ],
            "type": "contour"
           }
          ],
          "contourcarpet": [
           {
            "colorbar": {
             "outlinewidth": 0,
             "ticks": ""
            },
            "type": "contourcarpet"
           }
          ],
          "heatmap": [
           {
            "colorbar": {
             "outlinewidth": 0,
             "ticks": ""
            },
            "colorscale": [
             [
              0,
              "#0d0887"
             ],
             [
              0.1111111111111111,
              "#46039f"
             ],
             [
              0.2222222222222222,
              "#7201a8"
             ],
             [
              0.3333333333333333,
              "#9c179e"
             ],
             [
              0.4444444444444444,
              "#bd3786"
             ],
             [
              0.5555555555555556,
              "#d8576b"
             ],
             [
              0.6666666666666666,
              "#ed7953"
             ],
             [
              0.7777777777777778,
              "#fb9f3a"
             ],
             [
              0.8888888888888888,
              "#fdca26"
             ],
             [
              1,
              "#f0f921"
             ]
            ],
            "type": "heatmap"
           }
          ],
          "heatmapgl": [
           {
            "colorbar": {
             "outlinewidth": 0,
             "ticks": ""
            },
            "colorscale": [
             [
              0,
              "#0d0887"
             ],
             [
              0.1111111111111111,
              "#46039f"
             ],
             [
              0.2222222222222222,
              "#7201a8"
             ],
             [
              0.3333333333333333,
              "#9c179e"
             ],
             [
              0.4444444444444444,
              "#bd3786"
             ],
             [
              0.5555555555555556,
              "#d8576b"
             ],
             [
              0.6666666666666666,
              "#ed7953"
             ],
             [
              0.7777777777777778,
              "#fb9f3a"
             ],
             [
              0.8888888888888888,
              "#fdca26"
             ],
             [
              1,
              "#f0f921"
             ]
            ],
            "type": "heatmapgl"
           }
          ],
          "histogram": [
           {
            "marker": {
             "pattern": {
              "fillmode": "overlay",
              "size": 10,
              "solidity": 0.2
             }
            },
            "type": "histogram"
           }
          ],
          "histogram2d": [
           {
            "colorbar": {
             "outlinewidth": 0,
             "ticks": ""
            },
            "colorscale": [
             [
              0,
              "#0d0887"
             ],
             [
              0.1111111111111111,
              "#46039f"
             ],
             [
              0.2222222222222222,
              "#7201a8"
             ],
             [
              0.3333333333333333,
              "#9c179e"
             ],
             [
              0.4444444444444444,
              "#bd3786"
             ],
             [
              0.5555555555555556,
              "#d8576b"
             ],
             [
              0.6666666666666666,
              "#ed7953"
             ],
             [
              0.7777777777777778,
              "#fb9f3a"
             ],
             [
              0.8888888888888888,
              "#fdca26"
             ],
             [
              1,
              "#f0f921"
             ]
            ],
            "type": "histogram2d"
           }
          ],
          "histogram2dcontour": [
           {
            "colorbar": {
             "outlinewidth": 0,
             "ticks": ""
            },
            "colorscale": [
             [
              0,
              "#0d0887"
             ],
             [
              0.1111111111111111,
              "#46039f"
             ],
             [
              0.2222222222222222,
              "#7201a8"
             ],
             [
              0.3333333333333333,
              "#9c179e"
             ],
             [
              0.4444444444444444,
              "#bd3786"
             ],
             [
              0.5555555555555556,
              "#d8576b"
             ],
             [
              0.6666666666666666,
              "#ed7953"
             ],
             [
              0.7777777777777778,
              "#fb9f3a"
             ],
             [
              0.8888888888888888,
              "#fdca26"
             ],
             [
              1,
              "#f0f921"
             ]
            ],
            "type": "histogram2dcontour"
           }
          ],
          "mesh3d": [
           {
            "colorbar": {
             "outlinewidth": 0,
             "ticks": ""
            },
            "type": "mesh3d"
           }
          ],
          "parcoords": [
           {
            "line": {
             "colorbar": {
              "outlinewidth": 0,
              "ticks": ""
             }
            },
            "type": "parcoords"
           }
          ],
          "pie": [
           {
            "automargin": true,
            "type": "pie"
           }
          ],
          "scatter": [
           {
            "fillpattern": {
             "fillmode": "overlay",
             "size": 10,
             "solidity": 0.2
            },
            "type": "scatter"
           }
          ],
          "scatter3d": [
           {
            "line": {
             "colorbar": {
              "outlinewidth": 0,
              "ticks": ""
             }
            },
            "marker": {
             "colorbar": {
              "outlinewidth": 0,
              "ticks": ""
             }
            },
            "type": "scatter3d"
           }
          ],
          "scattercarpet": [
           {
            "marker": {
             "colorbar": {
              "outlinewidth": 0,
              "ticks": ""
             }
            },
            "type": "scattercarpet"
           }
          ],
          "scattergeo": [
           {
            "marker": {
             "colorbar": {
              "outlinewidth": 0,
              "ticks": ""
             }
            },
            "type": "scattergeo"
           }
          ],
          "scattergl": [
           {
            "marker": {
             "colorbar": {
              "outlinewidth": 0,
              "ticks": ""
             }
            },
            "type": "scattergl"
           }
          ],
          "scattermapbox": [
           {
            "marker": {
             "colorbar": {
              "outlinewidth": 0,
              "ticks": ""
             }
            },
            "type": "scattermapbox"
           }
          ],
          "scatterpolar": [
           {
            "marker": {
             "colorbar": {
              "outlinewidth": 0,
              "ticks": ""
             }
            },
            "type": "scatterpolar"
           }
          ],
          "scatterpolargl": [
           {
            "marker": {
             "colorbar": {
              "outlinewidth": 0,
              "ticks": ""
             }
            },
            "type": "scatterpolargl"
           }
          ],
          "scatterternary": [
           {
            "marker": {
             "colorbar": {
              "outlinewidth": 0,
              "ticks": ""
             }
            },
            "type": "scatterternary"
           }
          ],
          "surface": [
           {
            "colorbar": {
             "outlinewidth": 0,
             "ticks": ""
            },
            "colorscale": [
             [
              0,
              "#0d0887"
             ],
             [
              0.1111111111111111,
              "#46039f"
             ],
             [
              0.2222222222222222,
              "#7201a8"
             ],
             [
              0.3333333333333333,
              "#9c179e"
             ],
             [
              0.4444444444444444,
              "#bd3786"
             ],
             [
              0.5555555555555556,
              "#d8576b"
             ],
             [
              0.6666666666666666,
              "#ed7953"
             ],
             [
              0.7777777777777778,
              "#fb9f3a"
             ],
             [
              0.8888888888888888,
              "#fdca26"
             ],
             [
              1,
              "#f0f921"
             ]
            ],
            "type": "surface"
           }
          ],
          "table": [
           {
            "cells": {
             "fill": {
              "color": "#EBF0F8"
             },
             "line": {
              "color": "white"
             }
            },
            "header": {
             "fill": {
              "color": "#C8D4E3"
             },
             "line": {
              "color": "white"
             }
            },
            "type": "table"
           }
          ]
         },
         "layout": {
          "annotationdefaults": {
           "arrowcolor": "#2a3f5f",
           "arrowhead": 0,
           "arrowwidth": 1
          },
          "autotypenumbers": "strict",
          "coloraxis": {
           "colorbar": {
            "outlinewidth": 0,
            "ticks": ""
           }
          },
          "colorscale": {
           "diverging": [
            [
             0,
             "#8e0152"
            ],
            [
             0.1,
             "#c51b7d"
            ],
            [
             0.2,
             "#de77ae"
            ],
            [
             0.3,
             "#f1b6da"
            ],
            [
             0.4,
             "#fde0ef"
            ],
            [
             0.5,
             "#f7f7f7"
            ],
            [
             0.6,
             "#e6f5d0"
            ],
            [
             0.7,
             "#b8e186"
            ],
            [
             0.8,
             "#7fbc41"
            ],
            [
             0.9,
             "#4d9221"
            ],
            [
             1,
             "#276419"
            ]
           ],
           "sequential": [
            [
             0,
             "#0d0887"
            ],
            [
             0.1111111111111111,
             "#46039f"
            ],
            [
             0.2222222222222222,
             "#7201a8"
            ],
            [
             0.3333333333333333,
             "#9c179e"
            ],
            [
             0.4444444444444444,
             "#bd3786"
            ],
            [
             0.5555555555555556,
             "#d8576b"
            ],
            [
             0.6666666666666666,
             "#ed7953"
            ],
            [
             0.7777777777777778,
             "#fb9f3a"
            ],
            [
             0.8888888888888888,
             "#fdca26"
            ],
            [
             1,
             "#f0f921"
            ]
           ],
           "sequentialminus": [
            [
             0,
             "#0d0887"
            ],
            [
             0.1111111111111111,
             "#46039f"
            ],
            [
             0.2222222222222222,
             "#7201a8"
            ],
            [
             0.3333333333333333,
             "#9c179e"
            ],
            [
             0.4444444444444444,
             "#bd3786"
            ],
            [
             0.5555555555555556,
             "#d8576b"
            ],
            [
             0.6666666666666666,
             "#ed7953"
            ],
            [
             0.7777777777777778,
             "#fb9f3a"
            ],
            [
             0.8888888888888888,
             "#fdca26"
            ],
            [
             1,
             "#f0f921"
            ]
           ]
          },
          "colorway": [
           "#636efa",
           "#EF553B",
           "#00cc96",
           "#ab63fa",
           "#FFA15A",
           "#19d3f3",
           "#FF6692",
           "#B6E880",
           "#FF97FF",
           "#FECB52"
          ],
          "font": {
           "color": "#2a3f5f"
          },
          "geo": {
           "bgcolor": "white",
           "lakecolor": "white",
           "landcolor": "#E5ECF6",
           "showlakes": true,
           "showland": true,
           "subunitcolor": "white"
          },
          "hoverlabel": {
           "align": "left"
          },
          "hovermode": "closest",
          "mapbox": {
           "style": "light"
          },
          "paper_bgcolor": "white",
          "plot_bgcolor": "#E5ECF6",
          "polar": {
           "angularaxis": {
            "gridcolor": "white",
            "linecolor": "white",
            "ticks": ""
           },
           "bgcolor": "#E5ECF6",
           "radialaxis": {
            "gridcolor": "white",
            "linecolor": "white",
            "ticks": ""
           }
          },
          "scene": {
           "xaxis": {
            "backgroundcolor": "#E5ECF6",
            "gridcolor": "white",
            "gridwidth": 2,
            "linecolor": "white",
            "showbackground": true,
            "ticks": "",
            "zerolinecolor": "white"
           },
           "yaxis": {
            "backgroundcolor": "#E5ECF6",
            "gridcolor": "white",
            "gridwidth": 2,
            "linecolor": "white",
            "showbackground": true,
            "ticks": "",
            "zerolinecolor": "white"
           },
           "zaxis": {
            "backgroundcolor": "#E5ECF6",
            "gridcolor": "white",
            "gridwidth": 2,
            "linecolor": "white",
            "showbackground": true,
            "ticks": "",
            "zerolinecolor": "white"
           }
          },
          "shapedefaults": {
           "line": {
            "color": "#2a3f5f"
           }
          },
          "ternary": {
           "aaxis": {
            "gridcolor": "white",
            "linecolor": "white",
            "ticks": ""
           },
           "baxis": {
            "gridcolor": "white",
            "linecolor": "white",
            "ticks": ""
           },
           "bgcolor": "#E5ECF6",
           "caxis": {
            "gridcolor": "white",
            "linecolor": "white",
            "ticks": ""
           }
          },
          "title": {
           "x": 0.05
          },
          "xaxis": {
           "automargin": true,
           "gridcolor": "white",
           "linecolor": "white",
           "ticks": "",
           "title": {
            "standoff": 15
           },
           "zerolinecolor": "white",
           "zerolinewidth": 2
          },
          "yaxis": {
           "automargin": true,
           "gridcolor": "white",
           "linecolor": "white",
           "ticks": "",
           "title": {
            "standoff": 15
           },
           "zerolinecolor": "white",
           "zerolinewidth": 2
          }
         }
        },
        "title": {
         "text": "Median time in port (days) and Average age of vessels during covid times in Average size (GT) of vessels"
        }
       }
      },
      "text/html": [
       "<div>                            <div id=\"60aa1ff6-0cc3-4aa4-a670-ee9ebae89ef7\" class=\"plotly-graph-div\" style=\"height:525px; width:100%;\"></div>            <script type=\"text/javascript\">                require([\"plotly\"], function(Plotly) {                    window.PLOTLYENV=window.PLOTLYENV || {};                                    if (document.getElementById(\"60aa1ff6-0cc3-4aa4-a670-ee9ebae89ef7\")) {                    Plotly.newPlot(                        \"60aa1ff6-0cc3-4aa4-a670-ee9ebae89ef7\",                        [{\"name\":\"Average age of vessels\",\"x\":[\"S1-2018\",\"S2-2018\",\"S1-2019\",\"S2-2019\",\"S1-2020\",\"S2-2020\",\"S1-2021\",\"S2-2021\",\"S1-2022\"],\"y\":[19,19,20,20,21,20,21,19,17],\"type\":\"scatter\"},{\"mode\":\"markers\",\"name\":\"peaks Average age of vessels\",\"x\":[\"S1-2020\",\"S1-2021\"],\"y\":[21,21],\"type\":\"scatter\"},{\"mode\":\"markers\",\"name\":\"valleys Average age of vessels\",\"x\":[\"S2-2020\"],\"y\":[20],\"type\":\"scatter\"},{\"name\":\"Median time in port (days)\",\"x\":[\"S1-2018\",\"S2-2018\",\"S1-2019\",\"S2-2019\",\"S1-2020\",\"S2-2020\",\"S1-2021\",\"S2-2021\",\"S1-2022\"],\"y\":[1.49,1.46,1.4014,1.4583,1.4889,1.5229,1.5736,1.5646,1.6104],\"type\":\"scatter\"},{\"mode\":\"markers\",\"name\":\"peaks Median time in port (days)\",\"x\":[\"S1-2021\"],\"y\":[1.5736],\"type\":\"scatter\"},{\"mode\":\"markers\",\"name\":\"valleys Median time in port (days)\",\"x\":[\"S1-2019\",\"S2-2021\"],\"y\":[1.4014,1.5646],\"type\":\"scatter\"},{\"name\":\"Average size (GT) of vessels\",\"x\":[\"S1-2018\",\"S2-2018\",\"S1-2019\",\"S2-2019\",\"S1-2020\",\"S2-2020\",\"S1-2021\",\"S2-2021\",\"S1-2022\"],\"y\":[25686,26220,24755,25938,25790,26294,25644,29921,32686],\"type\":\"scatter\"},{\"mode\":\"markers\",\"name\":\"peaks Average size (GT) of vessels\",\"x\":[\"S2-2018\",\"S2-2019\",\"S2-2020\"],\"y\":[26220,25938,26294],\"type\":\"scatter\"},{\"mode\":\"markers\",\"name\":\"valleys Average size (GT) of vessels\",\"x\":[\"S1-2019\",\"S1-2020\",\"S1-2021\"],\"y\":[24755,25790,25644],\"type\":\"scatter\"}],                        {\"template\":{\"data\":{\"histogram2dcontour\":[{\"type\":\"histogram2dcontour\",\"colorbar\":{\"outlinewidth\":0,\"ticks\":\"\"},\"colorscale\":[[0.0,\"#0d0887\"],[0.1111111111111111,\"#46039f\"],[0.2222222222222222,\"#7201a8\"],[0.3333333333333333,\"#9c179e\"],[0.4444444444444444,\"#bd3786\"],[0.5555555555555556,\"#d8576b\"],[0.6666666666666666,\"#ed7953\"],[0.7777777777777778,\"#fb9f3a\"],[0.8888888888888888,\"#fdca26\"],[1.0,\"#f0f921\"]]}],\"choropleth\":[{\"type\":\"choropleth\",\"colorbar\":{\"outlinewidth\":0,\"ticks\":\"\"}}],\"histogram2d\":[{\"type\":\"histogram2d\",\"colorbar\":{\"outlinewidth\":0,\"ticks\":\"\"},\"colorscale\":[[0.0,\"#0d0887\"],[0.1111111111111111,\"#46039f\"],[0.2222222222222222,\"#7201a8\"],[0.3333333333333333,\"#9c179e\"],[0.4444444444444444,\"#bd3786\"],[0.5555555555555556,\"#d8576b\"],[0.6666666666666666,\"#ed7953\"],[0.7777777777777778,\"#fb9f3a\"],[0.8888888888888888,\"#fdca26\"],[1.0,\"#f0f921\"]]}],\"heatmap\":[{\"type\":\"heatmap\",\"colorbar\":{\"outlinewidth\":0,\"ticks\":\"\"},\"colorscale\":[[0.0,\"#0d0887\"],[0.1111111111111111,\"#46039f\"],[0.2222222222222222,\"#7201a8\"],[0.3333333333333333,\"#9c179e\"],[0.4444444444444444,\"#bd3786\"],[0.5555555555555556,\"#d8576b\"],[0.6666666666666666,\"#ed7953\"],[0.7777777777777778,\"#fb9f3a\"],[0.8888888888888888,\"#fdca26\"],[1.0,\"#f0f921\"]]}],\"heatmapgl\":[{\"type\":\"heatmapgl\",\"colorbar\":{\"outlinewidth\":0,\"ticks\":\"\"},\"colorscale\":[[0.0,\"#0d0887\"],[0.1111111111111111,\"#46039f\"],[0.2222222222222222,\"#7201a8\"],[0.3333333333333333,\"#9c179e\"],[0.4444444444444444,\"#bd3786\"],[0.5555555555555556,\"#d8576b\"],[0.6666666666666666,\"#ed7953\"],[0.7777777777777778,\"#fb9f3a\"],[0.8888888888888888,\"#fdca26\"],[1.0,\"#f0f921\"]]}],\"contourcarpet\":[{\"type\":\"contourcarpet\",\"colorbar\":{\"outlinewidth\":0,\"ticks\":\"\"}}],\"contour\":[{\"type\":\"contour\",\"colorbar\":{\"outlinewidth\":0,\"ticks\":\"\"},\"colorscale\":[[0.0,\"#0d0887\"],[0.1111111111111111,\"#46039f\"],[0.2222222222222222,\"#7201a8\"],[0.3333333333333333,\"#9c179e\"],[0.4444444444444444,\"#bd3786\"],[0.5555555555555556,\"#d8576b\"],[0.6666666666666666,\"#ed7953\"],[0.7777777777777778,\"#fb9f3a\"],[0.8888888888888888,\"#fdca26\"],[1.0,\"#f0f921\"]]}],\"surface\":[{\"type\":\"surface\",\"colorbar\":{\"outlinewidth\":0,\"ticks\":\"\"},\"colorscale\":[[0.0,\"#0d0887\"],[0.1111111111111111,\"#46039f\"],[0.2222222222222222,\"#7201a8\"],[0.3333333333333333,\"#9c179e\"],[0.4444444444444444,\"#bd3786\"],[0.5555555555555556,\"#d8576b\"],[0.6666666666666666,\"#ed7953\"],[0.7777777777777778,\"#fb9f3a\"],[0.8888888888888888,\"#fdca26\"],[1.0,\"#f0f921\"]]}],\"mesh3d\":[{\"type\":\"mesh3d\",\"colorbar\":{\"outlinewidth\":0,\"ticks\":\"\"}}],\"scatter\":[{\"fillpattern\":{\"fillmode\":\"overlay\",\"size\":10,\"solidity\":0.2},\"type\":\"scatter\"}],\"parcoords\":[{\"type\":\"parcoords\",\"line\":{\"colorbar\":{\"outlinewidth\":0,\"ticks\":\"\"}}}],\"scatterpolargl\":[{\"type\":\"scatterpolargl\",\"marker\":{\"colorbar\":{\"outlinewidth\":0,\"ticks\":\"\"}}}],\"bar\":[{\"error_x\":{\"color\":\"#2a3f5f\"},\"error_y\":{\"color\":\"#2a3f5f\"},\"marker\":{\"line\":{\"color\":\"#E5ECF6\",\"width\":0.5},\"pattern\":{\"fillmode\":\"overlay\",\"size\":10,\"solidity\":0.2}},\"type\":\"bar\"}],\"scattergeo\":[{\"type\":\"scattergeo\",\"marker\":{\"colorbar\":{\"outlinewidth\":0,\"ticks\":\"\"}}}],\"scatterpolar\":[{\"type\":\"scatterpolar\",\"marker\":{\"colorbar\":{\"outlinewidth\":0,\"ticks\":\"\"}}}],\"histogram\":[{\"marker\":{\"pattern\":{\"fillmode\":\"overlay\",\"size\":10,\"solidity\":0.2}},\"type\":\"histogram\"}],\"scattergl\":[{\"type\":\"scattergl\",\"marker\":{\"colorbar\":{\"outlinewidth\":0,\"ticks\":\"\"}}}],\"scatter3d\":[{\"type\":\"scatter3d\",\"line\":{\"colorbar\":{\"outlinewidth\":0,\"ticks\":\"\"}},\"marker\":{\"colorbar\":{\"outlinewidth\":0,\"ticks\":\"\"}}}],\"scattermapbox\":[{\"type\":\"scattermapbox\",\"marker\":{\"colorbar\":{\"outlinewidth\":0,\"ticks\":\"\"}}}],\"scatterternary\":[{\"type\":\"scatterternary\",\"marker\":{\"colorbar\":{\"outlinewidth\":0,\"ticks\":\"\"}}}],\"scattercarpet\":[{\"type\":\"scattercarpet\",\"marker\":{\"colorbar\":{\"outlinewidth\":0,\"ticks\":\"\"}}}],\"carpet\":[{\"aaxis\":{\"endlinecolor\":\"#2a3f5f\",\"gridcolor\":\"white\",\"linecolor\":\"white\",\"minorgridcolor\":\"white\",\"startlinecolor\":\"#2a3f5f\"},\"baxis\":{\"endlinecolor\":\"#2a3f5f\",\"gridcolor\":\"white\",\"linecolor\":\"white\",\"minorgridcolor\":\"white\",\"startlinecolor\":\"#2a3f5f\"},\"type\":\"carpet\"}],\"table\":[{\"cells\":{\"fill\":{\"color\":\"#EBF0F8\"},\"line\":{\"color\":\"white\"}},\"header\":{\"fill\":{\"color\":\"#C8D4E3\"},\"line\":{\"color\":\"white\"}},\"type\":\"table\"}],\"barpolar\":[{\"marker\":{\"line\":{\"color\":\"#E5ECF6\",\"width\":0.5},\"pattern\":{\"fillmode\":\"overlay\",\"size\":10,\"solidity\":0.2}},\"type\":\"barpolar\"}],\"pie\":[{\"automargin\":true,\"type\":\"pie\"}]},\"layout\":{\"autotypenumbers\":\"strict\",\"colorway\":[\"#636efa\",\"#EF553B\",\"#00cc96\",\"#ab63fa\",\"#FFA15A\",\"#19d3f3\",\"#FF6692\",\"#B6E880\",\"#FF97FF\",\"#FECB52\"],\"font\":{\"color\":\"#2a3f5f\"},\"hovermode\":\"closest\",\"hoverlabel\":{\"align\":\"left\"},\"paper_bgcolor\":\"white\",\"plot_bgcolor\":\"#E5ECF6\",\"polar\":{\"bgcolor\":\"#E5ECF6\",\"angularaxis\":{\"gridcolor\":\"white\",\"linecolor\":\"white\",\"ticks\":\"\"},\"radialaxis\":{\"gridcolor\":\"white\",\"linecolor\":\"white\",\"ticks\":\"\"}},\"ternary\":{\"bgcolor\":\"#E5ECF6\",\"aaxis\":{\"gridcolor\":\"white\",\"linecolor\":\"white\",\"ticks\":\"\"},\"baxis\":{\"gridcolor\":\"white\",\"linecolor\":\"white\",\"ticks\":\"\"},\"caxis\":{\"gridcolor\":\"white\",\"linecolor\":\"white\",\"ticks\":\"\"}},\"coloraxis\":{\"colorbar\":{\"outlinewidth\":0,\"ticks\":\"\"}},\"colorscale\":{\"sequential\":[[0.0,\"#0d0887\"],[0.1111111111111111,\"#46039f\"],[0.2222222222222222,\"#7201a8\"],[0.3333333333333333,\"#9c179e\"],[0.4444444444444444,\"#bd3786\"],[0.5555555555555556,\"#d8576b\"],[0.6666666666666666,\"#ed7953\"],[0.7777777777777778,\"#fb9f3a\"],[0.8888888888888888,\"#fdca26\"],[1.0,\"#f0f921\"]],\"sequentialminus\":[[0.0,\"#0d0887\"],[0.1111111111111111,\"#46039f\"],[0.2222222222222222,\"#7201a8\"],[0.3333333333333333,\"#9c179e\"],[0.4444444444444444,\"#bd3786\"],[0.5555555555555556,\"#d8576b\"],[0.6666666666666666,\"#ed7953\"],[0.7777777777777778,\"#fb9f3a\"],[0.8888888888888888,\"#fdca26\"],[1.0,\"#f0f921\"]],\"diverging\":[[0,\"#8e0152\"],[0.1,\"#c51b7d\"],[0.2,\"#de77ae\"],[0.3,\"#f1b6da\"],[0.4,\"#fde0ef\"],[0.5,\"#f7f7f7\"],[0.6,\"#e6f5d0\"],[0.7,\"#b8e186\"],[0.8,\"#7fbc41\"],[0.9,\"#4d9221\"],[1,\"#276419\"]]},\"xaxis\":{\"gridcolor\":\"white\",\"linecolor\":\"white\",\"ticks\":\"\",\"title\":{\"standoff\":15},\"zerolinecolor\":\"white\",\"automargin\":true,\"zerolinewidth\":2},\"yaxis\":{\"gridcolor\":\"white\",\"linecolor\":\"white\",\"ticks\":\"\",\"title\":{\"standoff\":15},\"zerolinecolor\":\"white\",\"automargin\":true,\"zerolinewidth\":2},\"scene\":{\"xaxis\":{\"backgroundcolor\":\"#E5ECF6\",\"gridcolor\":\"white\",\"linecolor\":\"white\",\"showbackground\":true,\"ticks\":\"\",\"zerolinecolor\":\"white\",\"gridwidth\":2},\"yaxis\":{\"backgroundcolor\":\"#E5ECF6\",\"gridcolor\":\"white\",\"linecolor\":\"white\",\"showbackground\":true,\"ticks\":\"\",\"zerolinecolor\":\"white\",\"gridwidth\":2},\"zaxis\":{\"backgroundcolor\":\"#E5ECF6\",\"gridcolor\":\"white\",\"linecolor\":\"white\",\"showbackground\":true,\"ticks\":\"\",\"zerolinecolor\":\"white\",\"gridwidth\":2}},\"shapedefaults\":{\"line\":{\"color\":\"#2a3f5f\"}},\"annotationdefaults\":{\"arrowcolor\":\"#2a3f5f\",\"arrowhead\":0,\"arrowwidth\":1},\"geo\":{\"bgcolor\":\"white\",\"landcolor\":\"#E5ECF6\",\"subunitcolor\":\"white\",\"showland\":true,\"showlakes\":true,\"lakecolor\":\"white\"},\"title\":{\"x\":0.05},\"mapbox\":{\"style\":\"light\"}}},\"title\":{\"text\":\"Median time in port (days) and Average age of vessels during covid times in Average size (GT) of vessels\"}},                        {\"responsive\": true}                    ).then(function(){\n",
       "                            \n",
       "var gd = document.getElementById('60aa1ff6-0cc3-4aa4-a670-ee9ebae89ef7');\n",
       "var x = new MutationObserver(function (mutations, observer) {{\n",
       "        var display = window.getComputedStyle(gd).display;\n",
       "        if (!display || display === 'none') {{\n",
       "            console.log([gd, 'removed!']);\n",
       "            Plotly.purge(gd);\n",
       "            observer.disconnect();\n",
       "        }}\n",
       "}});\n",
       "\n",
       "// Listen for the removal of the full notebook cells\n",
       "var notebookContainer = gd.closest('#notebook-container');\n",
       "if (notebookContainer) {{\n",
       "    x.observe(notebookContainer, {childList: true});\n",
       "}}\n",
       "\n",
       "// Listen for the clearing of the current output cell\n",
       "var outputEl = gd.closest('.output');\n",
       "if (outputEl) {{\n",
       "    x.observe(outputEl, {childList: true});\n",
       "}}\n",
       "\n",
       "                        })                };                });            </script>        </div>"
      ]
     },
     "metadata": {},
     "output_type": "display_data"
    }
   ],
   "source": [
    "# Then I start the figure and create several dictionaries that are necessary. The peaks and valleys dictionaries are for the graphs and the date dictionaries are for the next steps\n",
    "fig_1 = go.Figure()\n",
    "\n",
    "peaks_dict_1 = {}\n",
    "valleys_dict_1 = {}\n",
    "peaks_date_dict_1 = {}\n",
    "valleys_date_dict_1 = {}\n",
    "\n",
    "# I create a dataframe that contains only the data for the selected province and reset the indices for it\n",
    "geo_port_all_vessels = geo_port[(geo_port.Vessel_Type == 'All ships')]\n",
    "geo_port_all_vessels = geo_port_all_vessels[(geo_port_all_vessels.Location == 'Australia')]\n",
    "geo_port_all_vessels.reset_index(inplace=True)\n",
    "\n",
    "# I find the peaks and valleys and add them to the dictionaries\n",
    "for activity in activities_story_1:\n",
    "    max_ind = data_highs(geo_port_all_vessels, activity)\n",
    "    peaks_dict_1[activity]=max_ind\n",
    "\n",
    "    min_ind = data_lows(geo_port_all_vessels,activity)\n",
    "    valleys_dict_1[activity]=min_ind\n",
    "    \n",
    "    # Then I turn them into dataframes to be able to use the dates for the graphs, and for the date dictionaries\n",
    "    df_max_1 = geo_port_all_vessels.iloc[max_ind]\n",
    "    df_min_1 = geo_port_all_vessels.iloc[min_ind]\n",
    "\n",
    "# The date dictionaries are filled with the dates of the peaks and the valleys\n",
    "    peaks_date_dict_1[activity] = df_max_1['Period Label']\n",
    "    valleys_date_dict_1[activity] = df_min_1['Period Label']\n",
    "    \n",
    "    #The graphs are formatted \n",
    "    x1 = geo_port_all_vessels['Period Label']\n",
    "    y1 = geo_port_all_vessels[activity]\n",
    "    x2 = df_max_1['Period Label']\n",
    "    y2 = df_max_1[activity]\n",
    "    x3 = df_min_1['Period Label']\n",
    "    y3 = df_min_1[activity]\n",
    "    fig_1.add_trace(go.Scatter(x=x1,y=y1,name=activity))\n",
    "    fig_1.add_trace(go.Scatter(x=x2,y=y2,mode='markers',name='peaks ' + activity))\n",
    "    fig_1.add_trace(go.Scatter(x=x3,y=y3,mode='markers',name='valleys ' + activity))\n",
    "\n",
    "fig_1.update_layout(title= activity_5 + ' and ' + activity_8 + ' during covid times in ' + activity_10)\n",
    "fig_1.show()"
   ]
  },
  {
   "cell_type": "code",
   "execution_count": 66,
   "metadata": {},
   "outputs": [
    {
     "data": {
      "application/vnd.plotly.v1+json": {
       "config": {
        "plotlyServerURL": "https://plot.ly"
       },
       "data": [
        {
         "name": "Median time in port (days)",
         "type": "scatter",
         "x": [
          "S1-2018",
          "S2-2018",
          "S1-2019",
          "S2-2019",
          "S1-2020",
          "S2-2020",
          "S1-2021",
          "S2-2021",
          "S1-2022"
         ],
         "xaxis": "x",
         "y": [
          1.49,
          1.46,
          1.4014,
          1.4583,
          1.4889,
          1.5229,
          1.5736,
          1.5646,
          1.6104
         ],
         "yaxis": "y"
        },
        {
         "mode": "markers",
         "name": "peaks Median time in port (days)",
         "type": "scatter",
         "x": [
          "S2-2018",
          "S2-2019",
          "S2-2020"
         ],
         "xaxis": "x",
         "y": [
          1.46,
          1.4583,
          1.5229
         ],
         "yaxis": "y"
        },
        {
         "name": "Average age of vessels",
         "type": "scatter",
         "x": [
          "S1-2018",
          "S2-2018",
          "S1-2019",
          "S2-2019",
          "S1-2020",
          "S2-2020",
          "S1-2021",
          "S2-2021",
          "S1-2022"
         ],
         "xaxis": "x2",
         "y": [
          19,
          19,
          20,
          20,
          21,
          20,
          21,
          19,
          17
         ],
         "yaxis": "y2"
        },
        {
         "mode": "markers",
         "name": "valleys Average age of vessels",
         "type": "scatter",
         "x": [
          "S1-2019",
          "S1-2020",
          "S1-2021"
         ],
         "xaxis": "x2",
         "y": [
          20,
          21,
          21
         ],
         "yaxis": "y2"
        },
        {
         "name": "Average size (GT) of vessels",
         "type": "scatter",
         "x": [
          "S1-2018",
          "S2-2018",
          "S1-2019",
          "S2-2019",
          "S1-2020",
          "S2-2020",
          "S1-2021",
          "S2-2021",
          "S1-2022"
         ],
         "xaxis": "x3",
         "y": [
          25686,
          26220,
          24755,
          25938,
          25790,
          26294,
          25644,
          29921,
          32686
         ],
         "yaxis": "y3"
        },
        {
         "mode": "markers",
         "name": "valleys Average size (GT) of vessels",
         "type": "scatter",
         "x": [
          "S2-2018",
          "S2-2019",
          "S2-2020"
         ],
         "xaxis": "x3",
         "y": [
          26220,
          25938,
          26294
         ],
         "yaxis": "y3"
        }
       ],
       "layout": {
        "template": {
         "data": {
          "bar": [
           {
            "error_x": {
             "color": "#2a3f5f"
            },
            "error_y": {
             "color": "#2a3f5f"
            },
            "marker": {
             "line": {
              "color": "#E5ECF6",
              "width": 0.5
             },
             "pattern": {
              "fillmode": "overlay",
              "size": 10,
              "solidity": 0.2
             }
            },
            "type": "bar"
           }
          ],
          "barpolar": [
           {
            "marker": {
             "line": {
              "color": "#E5ECF6",
              "width": 0.5
             },
             "pattern": {
              "fillmode": "overlay",
              "size": 10,
              "solidity": 0.2
             }
            },
            "type": "barpolar"
           }
          ],
          "carpet": [
           {
            "aaxis": {
             "endlinecolor": "#2a3f5f",
             "gridcolor": "white",
             "linecolor": "white",
             "minorgridcolor": "white",
             "startlinecolor": "#2a3f5f"
            },
            "baxis": {
             "endlinecolor": "#2a3f5f",
             "gridcolor": "white",
             "linecolor": "white",
             "minorgridcolor": "white",
             "startlinecolor": "#2a3f5f"
            },
            "type": "carpet"
           }
          ],
          "choropleth": [
           {
            "colorbar": {
             "outlinewidth": 0,
             "ticks": ""
            },
            "type": "choropleth"
           }
          ],
          "contour": [
           {
            "colorbar": {
             "outlinewidth": 0,
             "ticks": ""
            },
            "colorscale": [
             [
              0,
              "#0d0887"
             ],
             [
              0.1111111111111111,
              "#46039f"
             ],
             [
              0.2222222222222222,
              "#7201a8"
             ],
             [
              0.3333333333333333,
              "#9c179e"
             ],
             [
              0.4444444444444444,
              "#bd3786"
             ],
             [
              0.5555555555555556,
              "#d8576b"
             ],
             [
              0.6666666666666666,
              "#ed7953"
             ],
             [
              0.7777777777777778,
              "#fb9f3a"
             ],
             [
              0.8888888888888888,
              "#fdca26"
             ],
             [
              1,
              "#f0f921"
             ]
            ],
            "type": "contour"
           }
          ],
          "contourcarpet": [
           {
            "colorbar": {
             "outlinewidth": 0,
             "ticks": ""
            },
            "type": "contourcarpet"
           }
          ],
          "heatmap": [
           {
            "colorbar": {
             "outlinewidth": 0,
             "ticks": ""
            },
            "colorscale": [
             [
              0,
              "#0d0887"
             ],
             [
              0.1111111111111111,
              "#46039f"
             ],
             [
              0.2222222222222222,
              "#7201a8"
             ],
             [
              0.3333333333333333,
              "#9c179e"
             ],
             [
              0.4444444444444444,
              "#bd3786"
             ],
             [
              0.5555555555555556,
              "#d8576b"
             ],
             [
              0.6666666666666666,
              "#ed7953"
             ],
             [
              0.7777777777777778,
              "#fb9f3a"
             ],
             [
              0.8888888888888888,
              "#fdca26"
             ],
             [
              1,
              "#f0f921"
             ]
            ],
            "type": "heatmap"
           }
          ],
          "heatmapgl": [
           {
            "colorbar": {
             "outlinewidth": 0,
             "ticks": ""
            },
            "colorscale": [
             [
              0,
              "#0d0887"
             ],
             [
              0.1111111111111111,
              "#46039f"
             ],
             [
              0.2222222222222222,
              "#7201a8"
             ],
             [
              0.3333333333333333,
              "#9c179e"
             ],
             [
              0.4444444444444444,
              "#bd3786"
             ],
             [
              0.5555555555555556,
              "#d8576b"
             ],
             [
              0.6666666666666666,
              "#ed7953"
             ],
             [
              0.7777777777777778,
              "#fb9f3a"
             ],
             [
              0.8888888888888888,
              "#fdca26"
             ],
             [
              1,
              "#f0f921"
             ]
            ],
            "type": "heatmapgl"
           }
          ],
          "histogram": [
           {
            "marker": {
             "pattern": {
              "fillmode": "overlay",
              "size": 10,
              "solidity": 0.2
             }
            },
            "type": "histogram"
           }
          ],
          "histogram2d": [
           {
            "colorbar": {
             "outlinewidth": 0,
             "ticks": ""
            },
            "colorscale": [
             [
              0,
              "#0d0887"
             ],
             [
              0.1111111111111111,
              "#46039f"
             ],
             [
              0.2222222222222222,
              "#7201a8"
             ],
             [
              0.3333333333333333,
              "#9c179e"
             ],
             [
              0.4444444444444444,
              "#bd3786"
             ],
             [
              0.5555555555555556,
              "#d8576b"
             ],
             [
              0.6666666666666666,
              "#ed7953"
             ],
             [
              0.7777777777777778,
              "#fb9f3a"
             ],
             [
              0.8888888888888888,
              "#fdca26"
             ],
             [
              1,
              "#f0f921"
             ]
            ],
            "type": "histogram2d"
           }
          ],
          "histogram2dcontour": [
           {
            "colorbar": {
             "outlinewidth": 0,
             "ticks": ""
            },
            "colorscale": [
             [
              0,
              "#0d0887"
             ],
             [
              0.1111111111111111,
              "#46039f"
             ],
             [
              0.2222222222222222,
              "#7201a8"
             ],
             [
              0.3333333333333333,
              "#9c179e"
             ],
             [
              0.4444444444444444,
              "#bd3786"
             ],
             [
              0.5555555555555556,
              "#d8576b"
             ],
             [
              0.6666666666666666,
              "#ed7953"
             ],
             [
              0.7777777777777778,
              "#fb9f3a"
             ],
             [
              0.8888888888888888,
              "#fdca26"
             ],
             [
              1,
              "#f0f921"
             ]
            ],
            "type": "histogram2dcontour"
           }
          ],
          "mesh3d": [
           {
            "colorbar": {
             "outlinewidth": 0,
             "ticks": ""
            },
            "type": "mesh3d"
           }
          ],
          "parcoords": [
           {
            "line": {
             "colorbar": {
              "outlinewidth": 0,
              "ticks": ""
             }
            },
            "type": "parcoords"
           }
          ],
          "pie": [
           {
            "automargin": true,
            "type": "pie"
           }
          ],
          "scatter": [
           {
            "fillpattern": {
             "fillmode": "overlay",
             "size": 10,
             "solidity": 0.2
            },
            "type": "scatter"
           }
          ],
          "scatter3d": [
           {
            "line": {
             "colorbar": {
              "outlinewidth": 0,
              "ticks": ""
             }
            },
            "marker": {
             "colorbar": {
              "outlinewidth": 0,
              "ticks": ""
             }
            },
            "type": "scatter3d"
           }
          ],
          "scattercarpet": [
           {
            "marker": {
             "colorbar": {
              "outlinewidth": 0,
              "ticks": ""
             }
            },
            "type": "scattercarpet"
           }
          ],
          "scattergeo": [
           {
            "marker": {
             "colorbar": {
              "outlinewidth": 0,
              "ticks": ""
             }
            },
            "type": "scattergeo"
           }
          ],
          "scattergl": [
           {
            "marker": {
             "colorbar": {
              "outlinewidth": 0,
              "ticks": ""
             }
            },
            "type": "scattergl"
           }
          ],
          "scattermapbox": [
           {
            "marker": {
             "colorbar": {
              "outlinewidth": 0,
              "ticks": ""
             }
            },
            "type": "scattermapbox"
           }
          ],
          "scatterpolar": [
           {
            "marker": {
             "colorbar": {
              "outlinewidth": 0,
              "ticks": ""
             }
            },
            "type": "scatterpolar"
           }
          ],
          "scatterpolargl": [
           {
            "marker": {
             "colorbar": {
              "outlinewidth": 0,
              "ticks": ""
             }
            },
            "type": "scatterpolargl"
           }
          ],
          "scatterternary": [
           {
            "marker": {
             "colorbar": {
              "outlinewidth": 0,
              "ticks": ""
             }
            },
            "type": "scatterternary"
           }
          ],
          "surface": [
           {
            "colorbar": {
             "outlinewidth": 0,
             "ticks": ""
            },
            "colorscale": [
             [
              0,
              "#0d0887"
             ],
             [
              0.1111111111111111,
              "#46039f"
             ],
             [
              0.2222222222222222,
              "#7201a8"
             ],
             [
              0.3333333333333333,
              "#9c179e"
             ],
             [
              0.4444444444444444,
              "#bd3786"
             ],
             [
              0.5555555555555556,
              "#d8576b"
             ],
             [
              0.6666666666666666,
              "#ed7953"
             ],
             [
              0.7777777777777778,
              "#fb9f3a"
             ],
             [
              0.8888888888888888,
              "#fdca26"
             ],
             [
              1,
              "#f0f921"
             ]
            ],
            "type": "surface"
           }
          ],
          "table": [
           {
            "cells": {
             "fill": {
              "color": "#EBF0F8"
             },
             "line": {
              "color": "white"
             }
            },
            "header": {
             "fill": {
              "color": "#C8D4E3"
             },
             "line": {
              "color": "white"
             }
            },
            "type": "table"
           }
          ]
         },
         "layout": {
          "annotationdefaults": {
           "arrowcolor": "#2a3f5f",
           "arrowhead": 0,
           "arrowwidth": 1
          },
          "autotypenumbers": "strict",
          "coloraxis": {
           "colorbar": {
            "outlinewidth": 0,
            "ticks": ""
           }
          },
          "colorscale": {
           "diverging": [
            [
             0,
             "#8e0152"
            ],
            [
             0.1,
             "#c51b7d"
            ],
            [
             0.2,
             "#de77ae"
            ],
            [
             0.3,
             "#f1b6da"
            ],
            [
             0.4,
             "#fde0ef"
            ],
            [
             0.5,
             "#f7f7f7"
            ],
            [
             0.6,
             "#e6f5d0"
            ],
            [
             0.7,
             "#b8e186"
            ],
            [
             0.8,
             "#7fbc41"
            ],
            [
             0.9,
             "#4d9221"
            ],
            [
             1,
             "#276419"
            ]
           ],
           "sequential": [
            [
             0,
             "#0d0887"
            ],
            [
             0.1111111111111111,
             "#46039f"
            ],
            [
             0.2222222222222222,
             "#7201a8"
            ],
            [
             0.3333333333333333,
             "#9c179e"
            ],
            [
             0.4444444444444444,
             "#bd3786"
            ],
            [
             0.5555555555555556,
             "#d8576b"
            ],
            [
             0.6666666666666666,
             "#ed7953"
            ],
            [
             0.7777777777777778,
             "#fb9f3a"
            ],
            [
             0.8888888888888888,
             "#fdca26"
            ],
            [
             1,
             "#f0f921"
            ]
           ],
           "sequentialminus": [
            [
             0,
             "#0d0887"
            ],
            [
             0.1111111111111111,
             "#46039f"
            ],
            [
             0.2222222222222222,
             "#7201a8"
            ],
            [
             0.3333333333333333,
             "#9c179e"
            ],
            [
             0.4444444444444444,
             "#bd3786"
            ],
            [
             0.5555555555555556,
             "#d8576b"
            ],
            [
             0.6666666666666666,
             "#ed7953"
            ],
            [
             0.7777777777777778,
             "#fb9f3a"
            ],
            [
             0.8888888888888888,
             "#fdca26"
            ],
            [
             1,
             "#f0f921"
            ]
           ]
          },
          "colorway": [
           "#636efa",
           "#EF553B",
           "#00cc96",
           "#ab63fa",
           "#FFA15A",
           "#19d3f3",
           "#FF6692",
           "#B6E880",
           "#FF97FF",
           "#FECB52"
          ],
          "font": {
           "color": "#2a3f5f"
          },
          "geo": {
           "bgcolor": "white",
           "lakecolor": "white",
           "landcolor": "#E5ECF6",
           "showlakes": true,
           "showland": true,
           "subunitcolor": "white"
          },
          "hoverlabel": {
           "align": "left"
          },
          "hovermode": "closest",
          "mapbox": {
           "style": "light"
          },
          "paper_bgcolor": "white",
          "plot_bgcolor": "#E5ECF6",
          "polar": {
           "angularaxis": {
            "gridcolor": "white",
            "linecolor": "white",
            "ticks": ""
           },
           "bgcolor": "#E5ECF6",
           "radialaxis": {
            "gridcolor": "white",
            "linecolor": "white",
            "ticks": ""
           }
          },
          "scene": {
           "xaxis": {
            "backgroundcolor": "#E5ECF6",
            "gridcolor": "white",
            "gridwidth": 2,
            "linecolor": "white",
            "showbackground": true,
            "ticks": "",
            "zerolinecolor": "white"
           },
           "yaxis": {
            "backgroundcolor": "#E5ECF6",
            "gridcolor": "white",
            "gridwidth": 2,
            "linecolor": "white",
            "showbackground": true,
            "ticks": "",
            "zerolinecolor": "white"
           },
           "zaxis": {
            "backgroundcolor": "#E5ECF6",
            "gridcolor": "white",
            "gridwidth": 2,
            "linecolor": "white",
            "showbackground": true,
            "ticks": "",
            "zerolinecolor": "white"
           }
          },
          "shapedefaults": {
           "line": {
            "color": "#2a3f5f"
           }
          },
          "ternary": {
           "aaxis": {
            "gridcolor": "white",
            "linecolor": "white",
            "ticks": ""
           },
           "baxis": {
            "gridcolor": "white",
            "linecolor": "white",
            "ticks": ""
           },
           "bgcolor": "#E5ECF6",
           "caxis": {
            "gridcolor": "white",
            "linecolor": "white",
            "ticks": ""
           }
          },
          "title": {
           "x": 0.05
          },
          "xaxis": {
           "automargin": true,
           "gridcolor": "white",
           "linecolor": "white",
           "ticks": "",
           "title": {
            "standoff": 15
           },
           "zerolinecolor": "white",
           "zerolinewidth": 2
          },
          "yaxis": {
           "automargin": true,
           "gridcolor": "white",
           "linecolor": "white",
           "ticks": "",
           "title": {
            "standoff": 15
           },
           "zerolinecolor": "white",
           "zerolinewidth": 2
          }
         }
        },
        "title": {
         "text": "Trends in vessel port time, age, and size thru the years"
        },
        "xaxis": {
         "anchor": "y",
         "domain": [
          0,
          1
         ]
        },
        "xaxis2": {
         "anchor": "y2",
         "domain": [
          0,
          1
         ]
        },
        "xaxis3": {
         "anchor": "y3",
         "domain": [
          0,
          1
         ]
        },
        "yaxis": {
         "anchor": "x",
         "domain": [
          0.7333333333333333,
          1
         ]
        },
        "yaxis2": {
         "anchor": "x2",
         "domain": [
          0.36666666666666664,
          0.6333333333333333
         ]
        },
        "yaxis3": {
         "anchor": "x3",
         "domain": [
          0,
          0.26666666666666666
         ]
        }
       }
      },
      "text/html": [
       "<div>                            <div id=\"49635020-9dcf-407d-a51d-adbd6deb23b8\" class=\"plotly-graph-div\" style=\"height:525px; width:100%;\"></div>            <script type=\"text/javascript\">                require([\"plotly\"], function(Plotly) {                    window.PLOTLYENV=window.PLOTLYENV || {};                                    if (document.getElementById(\"49635020-9dcf-407d-a51d-adbd6deb23b8\")) {                    Plotly.newPlot(                        \"49635020-9dcf-407d-a51d-adbd6deb23b8\",                        [{\"name\":\"Median time in port (days)\",\"x\":[\"S1-2018\",\"S2-2018\",\"S1-2019\",\"S2-2019\",\"S1-2020\",\"S2-2020\",\"S1-2021\",\"S2-2021\",\"S1-2022\"],\"y\":[1.49,1.46,1.4014,1.4583,1.4889,1.5229,1.5736,1.5646,1.6104],\"type\":\"scatter\",\"xaxis\":\"x\",\"yaxis\":\"y\"},{\"mode\":\"markers\",\"name\":\"peaks Median time in port (days)\",\"x\":[\"S2-2018\",\"S2-2019\",\"S2-2020\"],\"y\":[1.46,1.4583,1.5229],\"type\":\"scatter\",\"xaxis\":\"x\",\"yaxis\":\"y\"},{\"name\":\"Average age of vessels\",\"x\":[\"S1-2018\",\"S2-2018\",\"S1-2019\",\"S2-2019\",\"S1-2020\",\"S2-2020\",\"S1-2021\",\"S2-2021\",\"S1-2022\"],\"y\":[19,19,20,20,21,20,21,19,17],\"type\":\"scatter\",\"xaxis\":\"x2\",\"yaxis\":\"y2\"},{\"mode\":\"markers\",\"name\":\"valleys Average age of vessels\",\"x\":[\"S1-2019\",\"S1-2020\",\"S1-2021\"],\"y\":[20,21,21],\"type\":\"scatter\",\"xaxis\":\"x2\",\"yaxis\":\"y2\"},{\"name\":\"Average size (GT) of vessels\",\"x\":[\"S1-2018\",\"S2-2018\",\"S1-2019\",\"S2-2019\",\"S1-2020\",\"S2-2020\",\"S1-2021\",\"S2-2021\",\"S1-2022\"],\"y\":[25686,26220,24755,25938,25790,26294,25644,29921,32686],\"type\":\"scatter\",\"xaxis\":\"x3\",\"yaxis\":\"y3\"},{\"mode\":\"markers\",\"name\":\"valleys Average size (GT) of vessels\",\"x\":[\"S2-2018\",\"S2-2019\",\"S2-2020\"],\"y\":[26220,25938,26294],\"type\":\"scatter\",\"xaxis\":\"x3\",\"yaxis\":\"y3\"}],                        {\"template\":{\"data\":{\"histogram2dcontour\":[{\"type\":\"histogram2dcontour\",\"colorbar\":{\"outlinewidth\":0,\"ticks\":\"\"},\"colorscale\":[[0.0,\"#0d0887\"],[0.1111111111111111,\"#46039f\"],[0.2222222222222222,\"#7201a8\"],[0.3333333333333333,\"#9c179e\"],[0.4444444444444444,\"#bd3786\"],[0.5555555555555556,\"#d8576b\"],[0.6666666666666666,\"#ed7953\"],[0.7777777777777778,\"#fb9f3a\"],[0.8888888888888888,\"#fdca26\"],[1.0,\"#f0f921\"]]}],\"choropleth\":[{\"type\":\"choropleth\",\"colorbar\":{\"outlinewidth\":0,\"ticks\":\"\"}}],\"histogram2d\":[{\"type\":\"histogram2d\",\"colorbar\":{\"outlinewidth\":0,\"ticks\":\"\"},\"colorscale\":[[0.0,\"#0d0887\"],[0.1111111111111111,\"#46039f\"],[0.2222222222222222,\"#7201a8\"],[0.3333333333333333,\"#9c179e\"],[0.4444444444444444,\"#bd3786\"],[0.5555555555555556,\"#d8576b\"],[0.6666666666666666,\"#ed7953\"],[0.7777777777777778,\"#fb9f3a\"],[0.8888888888888888,\"#fdca26\"],[1.0,\"#f0f921\"]]}],\"heatmap\":[{\"type\":\"heatmap\",\"colorbar\":{\"outlinewidth\":0,\"ticks\":\"\"},\"colorscale\":[[0.0,\"#0d0887\"],[0.1111111111111111,\"#46039f\"],[0.2222222222222222,\"#7201a8\"],[0.3333333333333333,\"#9c179e\"],[0.4444444444444444,\"#bd3786\"],[0.5555555555555556,\"#d8576b\"],[0.6666666666666666,\"#ed7953\"],[0.7777777777777778,\"#fb9f3a\"],[0.8888888888888888,\"#fdca26\"],[1.0,\"#f0f921\"]]}],\"heatmapgl\":[{\"type\":\"heatmapgl\",\"colorbar\":{\"outlinewidth\":0,\"ticks\":\"\"},\"colorscale\":[[0.0,\"#0d0887\"],[0.1111111111111111,\"#46039f\"],[0.2222222222222222,\"#7201a8\"],[0.3333333333333333,\"#9c179e\"],[0.4444444444444444,\"#bd3786\"],[0.5555555555555556,\"#d8576b\"],[0.6666666666666666,\"#ed7953\"],[0.7777777777777778,\"#fb9f3a\"],[0.8888888888888888,\"#fdca26\"],[1.0,\"#f0f921\"]]}],\"contourcarpet\":[{\"type\":\"contourcarpet\",\"colorbar\":{\"outlinewidth\":0,\"ticks\":\"\"}}],\"contour\":[{\"type\":\"contour\",\"colorbar\":{\"outlinewidth\":0,\"ticks\":\"\"},\"colorscale\":[[0.0,\"#0d0887\"],[0.1111111111111111,\"#46039f\"],[0.2222222222222222,\"#7201a8\"],[0.3333333333333333,\"#9c179e\"],[0.4444444444444444,\"#bd3786\"],[0.5555555555555556,\"#d8576b\"],[0.6666666666666666,\"#ed7953\"],[0.7777777777777778,\"#fb9f3a\"],[0.8888888888888888,\"#fdca26\"],[1.0,\"#f0f921\"]]}],\"surface\":[{\"type\":\"surface\",\"colorbar\":{\"outlinewidth\":0,\"ticks\":\"\"},\"colorscale\":[[0.0,\"#0d0887\"],[0.1111111111111111,\"#46039f\"],[0.2222222222222222,\"#7201a8\"],[0.3333333333333333,\"#9c179e\"],[0.4444444444444444,\"#bd3786\"],[0.5555555555555556,\"#d8576b\"],[0.6666666666666666,\"#ed7953\"],[0.7777777777777778,\"#fb9f3a\"],[0.8888888888888888,\"#fdca26\"],[1.0,\"#f0f921\"]]}],\"mesh3d\":[{\"type\":\"mesh3d\",\"colorbar\":{\"outlinewidth\":0,\"ticks\":\"\"}}],\"scatter\":[{\"fillpattern\":{\"fillmode\":\"overlay\",\"size\":10,\"solidity\":0.2},\"type\":\"scatter\"}],\"parcoords\":[{\"type\":\"parcoords\",\"line\":{\"colorbar\":{\"outlinewidth\":0,\"ticks\":\"\"}}}],\"scatterpolargl\":[{\"type\":\"scatterpolargl\",\"marker\":{\"colorbar\":{\"outlinewidth\":0,\"ticks\":\"\"}}}],\"bar\":[{\"error_x\":{\"color\":\"#2a3f5f\"},\"error_y\":{\"color\":\"#2a3f5f\"},\"marker\":{\"line\":{\"color\":\"#E5ECF6\",\"width\":0.5},\"pattern\":{\"fillmode\":\"overlay\",\"size\":10,\"solidity\":0.2}},\"type\":\"bar\"}],\"scattergeo\":[{\"type\":\"scattergeo\",\"marker\":{\"colorbar\":{\"outlinewidth\":0,\"ticks\":\"\"}}}],\"scatterpolar\":[{\"type\":\"scatterpolar\",\"marker\":{\"colorbar\":{\"outlinewidth\":0,\"ticks\":\"\"}}}],\"histogram\":[{\"marker\":{\"pattern\":{\"fillmode\":\"overlay\",\"size\":10,\"solidity\":0.2}},\"type\":\"histogram\"}],\"scattergl\":[{\"type\":\"scattergl\",\"marker\":{\"colorbar\":{\"outlinewidth\":0,\"ticks\":\"\"}}}],\"scatter3d\":[{\"type\":\"scatter3d\",\"line\":{\"colorbar\":{\"outlinewidth\":0,\"ticks\":\"\"}},\"marker\":{\"colorbar\":{\"outlinewidth\":0,\"ticks\":\"\"}}}],\"scattermapbox\":[{\"type\":\"scattermapbox\",\"marker\":{\"colorbar\":{\"outlinewidth\":0,\"ticks\":\"\"}}}],\"scatterternary\":[{\"type\":\"scatterternary\",\"marker\":{\"colorbar\":{\"outlinewidth\":0,\"ticks\":\"\"}}}],\"scattercarpet\":[{\"type\":\"scattercarpet\",\"marker\":{\"colorbar\":{\"outlinewidth\":0,\"ticks\":\"\"}}}],\"carpet\":[{\"aaxis\":{\"endlinecolor\":\"#2a3f5f\",\"gridcolor\":\"white\",\"linecolor\":\"white\",\"minorgridcolor\":\"white\",\"startlinecolor\":\"#2a3f5f\"},\"baxis\":{\"endlinecolor\":\"#2a3f5f\",\"gridcolor\":\"white\",\"linecolor\":\"white\",\"minorgridcolor\":\"white\",\"startlinecolor\":\"#2a3f5f\"},\"type\":\"carpet\"}],\"table\":[{\"cells\":{\"fill\":{\"color\":\"#EBF0F8\"},\"line\":{\"color\":\"white\"}},\"header\":{\"fill\":{\"color\":\"#C8D4E3\"},\"line\":{\"color\":\"white\"}},\"type\":\"table\"}],\"barpolar\":[{\"marker\":{\"line\":{\"color\":\"#E5ECF6\",\"width\":0.5},\"pattern\":{\"fillmode\":\"overlay\",\"size\":10,\"solidity\":0.2}},\"type\":\"barpolar\"}],\"pie\":[{\"automargin\":true,\"type\":\"pie\"}]},\"layout\":{\"autotypenumbers\":\"strict\",\"colorway\":[\"#636efa\",\"#EF553B\",\"#00cc96\",\"#ab63fa\",\"#FFA15A\",\"#19d3f3\",\"#FF6692\",\"#B6E880\",\"#FF97FF\",\"#FECB52\"],\"font\":{\"color\":\"#2a3f5f\"},\"hovermode\":\"closest\",\"hoverlabel\":{\"align\":\"left\"},\"paper_bgcolor\":\"white\",\"plot_bgcolor\":\"#E5ECF6\",\"polar\":{\"bgcolor\":\"#E5ECF6\",\"angularaxis\":{\"gridcolor\":\"white\",\"linecolor\":\"white\",\"ticks\":\"\"},\"radialaxis\":{\"gridcolor\":\"white\",\"linecolor\":\"white\",\"ticks\":\"\"}},\"ternary\":{\"bgcolor\":\"#E5ECF6\",\"aaxis\":{\"gridcolor\":\"white\",\"linecolor\":\"white\",\"ticks\":\"\"},\"baxis\":{\"gridcolor\":\"white\",\"linecolor\":\"white\",\"ticks\":\"\"},\"caxis\":{\"gridcolor\":\"white\",\"linecolor\":\"white\",\"ticks\":\"\"}},\"coloraxis\":{\"colorbar\":{\"outlinewidth\":0,\"ticks\":\"\"}},\"colorscale\":{\"sequential\":[[0.0,\"#0d0887\"],[0.1111111111111111,\"#46039f\"],[0.2222222222222222,\"#7201a8\"],[0.3333333333333333,\"#9c179e\"],[0.4444444444444444,\"#bd3786\"],[0.5555555555555556,\"#d8576b\"],[0.6666666666666666,\"#ed7953\"],[0.7777777777777778,\"#fb9f3a\"],[0.8888888888888888,\"#fdca26\"],[1.0,\"#f0f921\"]],\"sequentialminus\":[[0.0,\"#0d0887\"],[0.1111111111111111,\"#46039f\"],[0.2222222222222222,\"#7201a8\"],[0.3333333333333333,\"#9c179e\"],[0.4444444444444444,\"#bd3786\"],[0.5555555555555556,\"#d8576b\"],[0.6666666666666666,\"#ed7953\"],[0.7777777777777778,\"#fb9f3a\"],[0.8888888888888888,\"#fdca26\"],[1.0,\"#f0f921\"]],\"diverging\":[[0,\"#8e0152\"],[0.1,\"#c51b7d\"],[0.2,\"#de77ae\"],[0.3,\"#f1b6da\"],[0.4,\"#fde0ef\"],[0.5,\"#f7f7f7\"],[0.6,\"#e6f5d0\"],[0.7,\"#b8e186\"],[0.8,\"#7fbc41\"],[0.9,\"#4d9221\"],[1,\"#276419\"]]},\"xaxis\":{\"gridcolor\":\"white\",\"linecolor\":\"white\",\"ticks\":\"\",\"title\":{\"standoff\":15},\"zerolinecolor\":\"white\",\"automargin\":true,\"zerolinewidth\":2},\"yaxis\":{\"gridcolor\":\"white\",\"linecolor\":\"white\",\"ticks\":\"\",\"title\":{\"standoff\":15},\"zerolinecolor\":\"white\",\"automargin\":true,\"zerolinewidth\":2},\"scene\":{\"xaxis\":{\"backgroundcolor\":\"#E5ECF6\",\"gridcolor\":\"white\",\"linecolor\":\"white\",\"showbackground\":true,\"ticks\":\"\",\"zerolinecolor\":\"white\",\"gridwidth\":2},\"yaxis\":{\"backgroundcolor\":\"#E5ECF6\",\"gridcolor\":\"white\",\"linecolor\":\"white\",\"showbackground\":true,\"ticks\":\"\",\"zerolinecolor\":\"white\",\"gridwidth\":2},\"zaxis\":{\"backgroundcolor\":\"#E5ECF6\",\"gridcolor\":\"white\",\"linecolor\":\"white\",\"showbackground\":true,\"ticks\":\"\",\"zerolinecolor\":\"white\",\"gridwidth\":2}},\"shapedefaults\":{\"line\":{\"color\":\"#2a3f5f\"}},\"annotationdefaults\":{\"arrowcolor\":\"#2a3f5f\",\"arrowhead\":0,\"arrowwidth\":1},\"geo\":{\"bgcolor\":\"white\",\"landcolor\":\"#E5ECF6\",\"subunitcolor\":\"white\",\"showland\":true,\"showlakes\":true,\"lakecolor\":\"white\"},\"title\":{\"x\":0.05},\"mapbox\":{\"style\":\"light\"}}},\"xaxis\":{\"anchor\":\"y\",\"domain\":[0.0,1.0]},\"yaxis\":{\"anchor\":\"x\",\"domain\":[0.7333333333333333,1.0]},\"xaxis2\":{\"anchor\":\"y2\",\"domain\":[0.0,1.0]},\"yaxis2\":{\"anchor\":\"x2\",\"domain\":[0.36666666666666664,0.6333333333333333]},\"xaxis3\":{\"anchor\":\"y3\",\"domain\":[0.0,1.0]},\"yaxis3\":{\"anchor\":\"x3\",\"domain\":[0.0,0.26666666666666666]},\"title\":{\"text\":\"Trends in vessel port time, age, and size thru the years\"}},                        {\"responsive\": true}                    ).then(function(){\n",
       "                            \n",
       "var gd = document.getElementById('49635020-9dcf-407d-a51d-adbd6deb23b8');\n",
       "var x = new MutationObserver(function (mutations, observer) {{\n",
       "        var display = window.getComputedStyle(gd).display;\n",
       "        if (!display || display === 'none') {{\n",
       "            console.log([gd, 'removed!']);\n",
       "            Plotly.purge(gd);\n",
       "            observer.disconnect();\n",
       "        }}\n",
       "}});\n",
       "\n",
       "// Listen for the removal of the full notebook cells\n",
       "var notebookContainer = gd.closest('#notebook-container');\n",
       "if (notebookContainer) {{\n",
       "    x.observe(notebookContainer, {childList: true});\n",
       "}}\n",
       "\n",
       "// Listen for the clearing of the current output cell\n",
       "var outputEl = gd.closest('.output');\n",
       "if (outputEl) {{\n",
       "    x.observe(outputEl, {childList: true});\n",
       "}}\n",
       "\n",
       "                        })                };                });            </script>        </div>"
      ]
     },
     "metadata": {},
     "output_type": "display_data"
    }
   ],
   "source": [
    "fig_2 = go.Figure()\n",
    "fig_2 = make_subplots(rows=3,cols=1)\n",
    "x1 = geo_port_all_vessels['Period Label']\n",
    "y1 = geo_port_all_vessels[activity_5]\n",
    "x2 = df_max_1['Period Label']\n",
    "y2 = df_max_1[activity_5]\n",
    "x3 = geo_port_all_vessels['Period Label']\n",
    "y3 = geo_port_all_vessels[activity_8]\n",
    "x4 = df_min_1['Period Label']\n",
    "y4 = df_min_1[activity_8]\n",
    "x5 = geo_port_all_vessels['Period Label']\n",
    "y5 = geo_port_all_vessels[activity_10]\n",
    "x6 = df_max_1['Period Label']\n",
    "y6 = df_max_1[activity_10]\n",
    "\n",
    "fig_2.append_trace(go.Scatter(x=x1,y=y1,name=activity_5),row=1,col=1)\n",
    "fig_2.append_trace(go.Scatter(x=x2,y=y2,mode='markers',name='peaks ' + activity_5),row=1,col=1)\n",
    "fig_2.append_trace(go.Scatter(x=x3,y=y3,name=activity_8),row=2,col=1)\n",
    "fig_2.append_trace(go.Scatter(x=x4,y=y4,mode='markers',name='valleys ' + activity_8),row=2,col=1)\n",
    "fig_2.append_trace(go.Scatter(x=x5,y=y5,name=activity_10),row=3,col=1)\n",
    "fig_2.append_trace(go.Scatter(x=x6,y=y6,mode='markers',name='valleys ' + activity_10),row=3,col=1)\n",
    "\n",
    "fig_2.update_layout(title='Trends in vessel port time, age, and size thru the years')\n",
    "\n",
    "fig_2.show()"
   ]
  },
  {
   "cell_type": "code",
   "execution_count": null,
   "metadata": {},
   "outputs": [],
   "source": []
  },
  {
   "cell_type": "markdown",
   "metadata": {},
   "source": [
    "Rate of change in the lines is Part II is the comparision factor. Comparing before COVID and after COVID"
   ]
  },
  {
   "cell_type": "markdown",
   "metadata": {},
   "source": [
    "## Part III - Data visualisation\n",
    "\n",
    "For this last part, we're going to visually show the effect that COVID had on vessel times so that users can see how ports have been impacted by COVID and thus has also impacted the logistics system as a whole by: \n",
    "\n",
    "We're going to look at regions and look at the semi annual trend by vessel type \n",
    "\n",
    "pie chart showing the proportions of the commodity shipped\n",
    "\n",
    "World map showing the change in port call times over the years \n",
    "\n",
    "Comparing covid high periods vs low periods with port call times \n",
    "\n",
    "Interpreting the results \n",
    "\n",
    "First, We show our variables for this part."
   ]
  },
  {
   "cell_type": "markdown",
   "metadata": {},
   "source": [
    "We want to show the COVID data with the port time (worldwide)"
   ]
  },
  {
   "cell_type": "code",
   "execution_count": null,
   "metadata": {},
   "outputs": [],
   "source": [
    "# First, I'll make a graph of all covid data in the world\n",
    "fig_5 = go.Figure()\n",
    "\n",
    "x1 = df_ports['Period Label']\n",
    "y1 = df_ports['Median time in port (days)']\n",
    "fig_5.add_trace(go.Scatter(x=x1,y=y1, name=activity_5))\n",
    "\n",
    "\n",
    "fig_5.update_layout(title='Covid data in world')\n",
    "fig_5.show()"
   ]
  },
  {
   "cell_type": "markdown",
   "metadata": {},
   "source": [
    "Now we will show over the years from 2018, the number of port calls by region"
   ]
  },
  {
   "cell_type": "code",
   "execution_count": 11,
   "metadata": {
    "scrolled": true
   },
   "outputs": [
    {
     "data": {
      "application/vnd.plotly.v1+json": {
       "config": {
        "plotlyServerURL": "https://plot.ly"
       },
       "data": [
        {
         "alignmentgroup": "True",
         "bingroup": "y",
         "histfunc": "sum",
         "hovertemplate": "Location=%{y}<br>Period Label=S1-2018<br>sum of Median time in port (days)=%{x}<extra></extra>",
         "legendgroup": "World",
         "marker": {
          "color": "#636efa",
          "pattern": {
           "shape": ""
          }
         },
         "name": "World",
         "offsetgroup": "World",
         "orientation": "h",
         "showlegend": true,
         "type": "histogram",
         "x": [
          0.97,
          null,
          0.94,
          0.69,
          1.12,
          2.1,
          null,
          1,
          1.11
         ],
         "xaxis": "x",
         "y": [
          "World",
          "World",
          "World",
          "World",
          "World",
          "World",
          "World",
          "World",
          "World"
         ],
         "yaxis": "y"
        },
        {
         "alignmentgroup": "True",
         "bingroup": "y",
         "histfunc": "sum",
         "hovertemplate": "Location=%{y}<br>Period Label=S1-2018<br>sum of Median time in port (days)=%{x}<extra></extra>",
         "legendgroup": "Australia",
         "marker": {
          "color": "#EF553B",
          "pattern": {
           "shape": ""
          }
         },
         "name": "Australia",
         "offsetgroup": "Australia",
         "orientation": "h",
         "showlegend": true,
         "type": "histogram",
         "x": [
          1.49,
          null,
          1.34,
          1.19,
          1.69,
          1.68,
          null,
          0.87,
          1.23
         ],
         "xaxis": "x",
         "y": [
          "Australia",
          "Australia",
          "Australia",
          "Australia",
          "Australia",
          "Australia",
          "Australia",
          "Australia",
          "Australia"
         ],
         "yaxis": "y"
        },
        {
         "alignmentgroup": "True",
         "bingroup": "y",
         "histfunc": "sum",
         "hovertemplate": "Location=%{y}<br>Period Label=S1-2018<br>sum of Median time in port (days)=%{x}<extra></extra>",
         "legendgroup": "Canada",
         "marker": {
          "color": "#00cc96",
          "pattern": {
           "shape": ""
          }
         },
         "name": "Canada",
         "offsetgroup": "Canada",
         "orientation": "h",
         "showlegend": true,
         "type": "histogram",
         "x": [
          0.84,
          null,
          1.18,
          1.48,
          0.28,
          0.55,
          null
         ],
         "xaxis": "x",
         "y": [
          "Canada",
          "Canada",
          "Canada",
          "Canada",
          "Canada",
          "Canada",
          "Canada"
         ],
         "yaxis": "y"
        },
        {
         "alignmentgroup": "True",
         "bingroup": "y",
         "histfunc": "sum",
         "hovertemplate": "Location=%{y}<br>Period Label=S1-2018<br>sum of Median time in port (days)=%{x}<extra></extra>",
         "legendgroup": "China",
         "marker": {
          "color": "#ab63fa",
          "pattern": {
           "shape": ""
          }
         },
         "name": "China",
         "offsetgroup": "China",
         "orientation": "h",
         "showlegend": true,
         "type": "histogram",
         "x": [
          1.01,
          null,
          1.09,
          0.6,
          1.15,
          1.99,
          null,
          0.98,
          1.26
         ],
         "xaxis": "x",
         "y": [
          "China",
          "China",
          "China",
          "China",
          "China",
          "China",
          "China",
          "China",
          "China"
         ],
         "yaxis": "y"
        },
        {
         "alignmentgroup": "True",
         "bingroup": "y",
         "histfunc": "sum",
         "hovertemplate": "Location=%{y}<br>Period Label=S1-2018<br>sum of Median time in port (days)=%{x}<extra></extra>",
         "legendgroup": "Croatia",
         "marker": {
          "color": "#FFA15A",
          "pattern": {
           "shape": ""
          }
         },
         "name": "Croatia",
         "offsetgroup": "Croatia",
         "orientation": "h",
         "showlegend": true,
         "type": "histogram",
         "x": [
          1.18,
          null,
          1.02,
          0.55,
          2.87,
          2.09
         ],
         "xaxis": "x",
         "y": [
          "Croatia",
          "Croatia",
          "Croatia",
          "Croatia",
          "Croatia",
          "Croatia"
         ],
         "yaxis": "y"
        },
        {
         "alignmentgroup": "True",
         "bingroup": "y",
         "histfunc": "sum",
         "hovertemplate": "Location=%{y}<br>Period Label=S1-2018<br>sum of Median time in port (days)=%{x}<extra></extra>",
         "legendgroup": "Denmark",
         "marker": {
          "color": "#19d3f3",
          "pattern": {
           "shape": ""
          }
         },
         "name": "Denmark",
         "offsetgroup": "Denmark",
         "orientation": "h",
         "showlegend": true,
         "type": "histogram",
         "x": [
          0.74,
          null,
          0.64,
          0.48,
          0.85,
          0.84,
          null,
          1.08
         ],
         "xaxis": "x",
         "y": [
          "Denmark",
          "Denmark",
          "Denmark",
          "Denmark",
          "Denmark",
          "Denmark",
          "Denmark",
          "Denmark"
         ],
         "yaxis": "y"
        },
        {
         "alignmentgroup": "True",
         "bingroup": "y",
         "histfunc": "sum",
         "hovertemplate": "Location=%{y}<br>Period Label=S1-2018<br>sum of Median time in port (days)=%{x}<extra></extra>",
         "legendgroup": "France",
         "marker": {
          "color": "#FF6692",
          "pattern": {
           "shape": ""
          }
         },
         "name": "France",
         "offsetgroup": "France",
         "orientation": "h",
         "showlegend": true,
         "type": "histogram",
         "x": [
          1.11,
          null,
          1.06,
          0.76,
          1.44,
          3.22,
          null,
          1.08,
          1.21
         ],
         "xaxis": "x",
         "y": [
          "France",
          "France",
          "France",
          "France",
          "France",
          "France",
          "France",
          "France",
          "France"
         ],
         "yaxis": "y"
        },
        {
         "alignmentgroup": "True",
         "bingroup": "y",
         "histfunc": "sum",
         "hovertemplate": "Location=%{y}<br>Period Label=S1-2018<br>sum of Median time in port (days)=%{x}<extra></extra>",
         "legendgroup": "Germany",
         "marker": {
          "color": "#B6E880",
          "pattern": {
           "shape": ""
          }
         },
         "name": "Germany",
         "offsetgroup": "Germany",
         "orientation": "h",
         "showlegend": true,
         "type": "histogram",
         "x": [
          0.58,
          null,
          0.36,
          0.79,
          0.54,
          2.43,
          null,
          0.73
         ],
         "xaxis": "x",
         "y": [
          "Germany",
          "Germany",
          "Germany",
          "Germany",
          "Germany",
          "Germany",
          "Germany",
          "Germany"
         ],
         "yaxis": "y"
        },
        {
         "alignmentgroup": "True",
         "bingroup": "y",
         "histfunc": "sum",
         "hovertemplate": "Location=%{y}<br>Period Label=S1-2018<br>sum of Median time in port (days)=%{x}<extra></extra>",
         "legendgroup": "Greece",
         "marker": {
          "color": "#FF97FF",
          "pattern": {
           "shape": ""
          }
         },
         "name": "Greece",
         "offsetgroup": "Greece",
         "orientation": "h",
         "showlegend": true,
         "type": "histogram",
         "x": [
          0.72,
          null,
          0.55,
          0.92,
          1.07,
          0.36,
          null,
          0.92
         ],
         "xaxis": "x",
         "y": [
          "Greece",
          "Greece",
          "Greece",
          "Greece",
          "Greece",
          "Greece",
          "Greece",
          "Greece"
         ],
         "yaxis": "y"
        },
        {
         "alignmentgroup": "True",
         "bingroup": "y",
         "histfunc": "sum",
         "hovertemplate": "Location=%{y}<br>Period Label=S1-2018<br>sum of Median time in port (days)=%{x}<extra></extra>",
         "legendgroup": "Indonesia",
         "marker": {
          "color": "#FECB52",
          "pattern": {
           "shape": ""
          }
         },
         "name": "Indonesia",
         "offsetgroup": "Indonesia",
         "orientation": "h",
         "showlegend": true,
         "type": "histogram",
         "x": [
          1.33,
          null,
          1.32,
          1.06,
          1.21,
          3.67,
          null,
          1.12,
          1.24
         ],
         "xaxis": "x",
         "y": [
          "Indonesia",
          "Indonesia",
          "Indonesia",
          "Indonesia",
          "Indonesia",
          "Indonesia",
          "Indonesia",
          "Indonesia",
          "Indonesia"
         ],
         "yaxis": "y"
        },
        {
         "alignmentgroup": "True",
         "bingroup": "y",
         "histfunc": "sum",
         "hovertemplate": "Location=%{y}<br>Period Label=S1-2018<br>sum of Median time in port (days)=%{x}<extra></extra>",
         "legendgroup": "Italy",
         "marker": {
          "color": "#636efa",
          "pattern": {
           "shape": ""
          }
         },
         "name": "Italy",
         "offsetgroup": "Italy",
         "orientation": "h",
         "showlegend": true,
         "type": "histogram",
         "x": [
          1.25,
          null,
          1.31,
          0.82,
          1.96,
          3.49,
          null,
          1.39
         ],
         "xaxis": "x",
         "y": [
          "Italy",
          "Italy",
          "Italy",
          "Italy",
          "Italy",
          "Italy",
          "Italy",
          "Italy"
         ],
         "yaxis": "y"
        },
        {
         "alignmentgroup": "True",
         "bingroup": "y",
         "histfunc": "sum",
         "hovertemplate": "Location=%{y}<br>Period Label=S1-2018<br>sum of Median time in port (days)=%{x}<extra></extra>",
         "legendgroup": "Japan",
         "marker": {
          "color": "#EF553B",
          "pattern": {
           "shape": ""
          }
         },
         "name": "Japan",
         "offsetgroup": "Japan",
         "orientation": "h",
         "showlegend": true,
         "type": "histogram",
         "x": [
          0.41,
          null,
          0.31,
          0.35,
          1.15,
          0.93,
          null,
          0.31,
          0.99
         ],
         "xaxis": "x",
         "y": [
          "Japan",
          "Japan",
          "Japan",
          "Japan",
          "Japan",
          "Japan",
          "Japan",
          "Japan",
          "Japan"
         ],
         "yaxis": "y"
        },
        {
         "alignmentgroup": "True",
         "bingroup": "y",
         "histfunc": "sum",
         "hovertemplate": "Location=%{y}<br>Period Label=S1-2018<br>sum of Median time in port (days)=%{x}<extra></extra>",
         "legendgroup": "Korea, Republic of",
         "marker": {
          "color": "#00cc96",
          "pattern": {
           "shape": ""
          }
         },
         "name": "Korea, Republic of",
         "offsetgroup": "Korea, Republic of",
         "orientation": "h",
         "showlegend": true,
         "type": "histogram",
         "x": [
          0.77,
          null,
          0.78,
          0.57,
          1.27,
          2.23,
          null,
          0.71,
          1.03
         ],
         "xaxis": "x",
         "y": [
          "Korea, Republic of",
          "Korea, Republic of",
          "Korea, Republic of",
          "Korea, Republic of",
          "Korea, Republic of",
          "Korea, Republic of",
          "Korea, Republic of",
          "Korea, Republic of",
          "Korea, Republic of"
         ],
         "yaxis": "y"
        },
        {
         "alignmentgroup": "True",
         "bingroup": "y",
         "histfunc": "sum",
         "hovertemplate": "Location=%{y}<br>Period Label=S1-2018<br>sum of Median time in port (days)=%{x}<extra></extra>",
         "legendgroup": "Netherlands",
         "marker": {
          "color": "#ab63fa",
          "pattern": {
           "shape": ""
          }
         },
         "name": "Netherlands",
         "offsetgroup": "Netherlands",
         "orientation": "h",
         "showlegend": true,
         "type": "histogram",
         "x": [
          0.56,
          null,
          0.51,
          0.8,
          0.35,
          0.66,
          null,
          0.93,
          1.4
         ],
         "xaxis": "x",
         "y": [
          "Netherlands",
          "Netherlands",
          "Netherlands",
          "Netherlands",
          "Netherlands",
          "Netherlands",
          "Netherlands",
          "Netherlands",
          "Netherlands"
         ],
         "yaxis": "y"
        },
        {
         "alignmentgroup": "True",
         "bingroup": "y",
         "histfunc": "sum",
         "hovertemplate": "Location=%{y}<br>Period Label=S1-2018<br>sum of Median time in port (days)=%{x}<extra></extra>",
         "legendgroup": "Norway",
         "marker": {
          "color": "#FFA15A",
          "pattern": {
           "shape": ""
          }
         },
         "name": "Norway",
         "offsetgroup": "Norway",
         "orientation": "h",
         "showlegend": true,
         "type": "histogram",
         "x": [
          0.43,
          null,
          0.61,
          0.32,
          0.34,
          0.89,
          null,
          0.75,
          0.31
         ],
         "xaxis": "x",
         "y": [
          "Norway",
          "Norway",
          "Norway",
          "Norway",
          "Norway",
          "Norway",
          "Norway",
          "Norway",
          "Norway"
         ],
         "yaxis": "y"
        },
        {
         "alignmentgroup": "True",
         "bingroup": "y",
         "histfunc": "sum",
         "hovertemplate": "Location=%{y}<br>Period Label=S1-2018<br>sum of Median time in port (days)=%{x}<extra></extra>",
         "legendgroup": "Russian Federation",
         "marker": {
          "color": "#19d3f3",
          "pattern": {
           "shape": ""
          }
         },
         "name": "Russian Federation",
         "offsetgroup": "Russian Federation",
         "orientation": "h",
         "showlegend": true,
         "type": "histogram",
         "x": [
          1.42,
          null,
          1.09,
          1.37,
          1.75,
          2.49,
          null,
          1.39,
          1.15
         ],
         "xaxis": "x",
         "y": [
          "Russian Federation",
          "Russian Federation",
          "Russian Federation",
          "Russian Federation",
          "Russian Federation",
          "Russian Federation",
          "Russian Federation",
          "Russian Federation",
          "Russian Federation"
         ],
         "yaxis": "y"
        },
        {
         "alignmentgroup": "True",
         "bingroup": "y",
         "histfunc": "sum",
         "hovertemplate": "Location=%{y}<br>Period Label=S1-2018<br>sum of Median time in port (days)=%{x}<extra></extra>",
         "legendgroup": "Spain",
         "marker": {
          "color": "#FF6692",
          "pattern": {
           "shape": ""
          }
         },
         "name": "Spain",
         "offsetgroup": "Spain",
         "orientation": "h",
         "showlegend": true,
         "type": "histogram",
         "x": [
          0.85,
          null,
          0.84,
          0.66,
          1.14,
          2.25,
          null,
          0.95,
          1.04
         ],
         "xaxis": "x",
         "y": [
          "Spain",
          "Spain",
          "Spain",
          "Spain",
          "Spain",
          "Spain",
          "Spain",
          "Spain",
          "Spain"
         ],
         "yaxis": "y"
        },
        {
         "alignmentgroup": "True",
         "bingroup": "y",
         "histfunc": "sum",
         "hovertemplate": "Location=%{y}<br>Period Label=S1-2018<br>sum of Median time in port (days)=%{x}<extra></extra>",
         "legendgroup": "Sweden",
         "marker": {
          "color": "#B6E880",
          "pattern": {
           "shape": ""
          }
         },
         "name": "Sweden",
         "offsetgroup": "Sweden",
         "orientation": "h",
         "showlegend": true,
         "type": "histogram",
         "x": [
          0.79,
          null,
          0.67,
          0.67,
          1.04,
          0.53,
          null,
          0.81,
          0.58
         ],
         "xaxis": "x",
         "y": [
          "Sweden",
          "Sweden",
          "Sweden",
          "Sweden",
          "Sweden",
          "Sweden",
          "Sweden",
          "Sweden",
          "Sweden"
         ],
         "yaxis": "y"
        },
        {
         "alignmentgroup": "True",
         "bingroup": "y",
         "histfunc": "sum",
         "hovertemplate": "Location=%{y}<br>Period Label=S1-2018<br>sum of Median time in port (days)=%{x}<extra></extra>",
         "legendgroup": "Türkiye",
         "marker": {
          "color": "#FF97FF",
          "pattern": {
           "shape": ""
          }
         },
         "name": "Türkiye",
         "offsetgroup": "Türkiye",
         "orientation": "h",
         "showlegend": true,
         "type": "histogram",
         "x": [
          1.23,
          null,
          1.1,
          0.63,
          1.55,
          4.13,
          null,
          1.38,
          1.3
         ],
         "xaxis": "x",
         "y": [
          "Türkiye",
          "Türkiye",
          "Türkiye",
          "Türkiye",
          "Türkiye",
          "Türkiye",
          "Türkiye",
          "Türkiye",
          "Türkiye"
         ],
         "yaxis": "y"
        },
        {
         "alignmentgroup": "True",
         "bingroup": "y",
         "histfunc": "sum",
         "hovertemplate": "Location=%{y}<br>Period Label=S1-2018<br>sum of Median time in port (days)=%{x}<extra></extra>",
         "legendgroup": "United States of America",
         "marker": {
          "color": "#FECB52",
          "pattern": {
           "shape": ""
          }
         },
         "name": "United States of America",
         "offsetgroup": "United States of America",
         "orientation": "h",
         "showlegend": true,
         "type": "histogram",
         "x": [
          1.45,
          null,
          1.64,
          0.98,
          1.77,
          2.3,
          null,
          2,
          1.37
         ],
         "xaxis": "x",
         "y": [
          "United States of America",
          "United States of America",
          "United States of America",
          "United States of America",
          "United States of America",
          "United States of America",
          "United States of America",
          "United States of America",
          "United States of America"
         ],
         "yaxis": "y"
        },
        {
         "alignmentgroup": "True",
         "bingroup": "y",
         "histfunc": "sum",
         "hovertemplate": "Location=%{y}<br>Period Label=S1-2018<br>sum of Median time in port (days)=%{x}<extra></extra>",
         "legendgroup": "United Kingdom",
         "marker": {
          "color": "#636efa",
          "pattern": {
           "shape": ""
          }
         },
         "name": "United Kingdom",
         "offsetgroup": "United Kingdom",
         "orientation": "h",
         "showlegend": true,
         "type": "histogram",
         "x": [
          1.09,
          null,
          1.05,
          0.73,
          1.45,
          2.59,
          null,
          1.07,
          1.44
         ],
         "xaxis": "x",
         "y": [
          "United Kingdom",
          "United Kingdom",
          "United Kingdom",
          "United Kingdom",
          "United Kingdom",
          "United Kingdom",
          "United Kingdom",
          "United Kingdom",
          "United Kingdom"
         ],
         "yaxis": "y"
        }
       ],
       "frames": [
        {
         "data": [
          {
           "alignmentgroup": "True",
           "bingroup": "y",
           "histfunc": "sum",
           "hovertemplate": "Location=%{y}<br>Period Label=S1-2018<br>sum of Median time in port (days)=%{x}<extra></extra>",
           "legendgroup": "World",
           "marker": {
            "color": "#636efa",
            "pattern": {
             "shape": ""
            }
           },
           "name": "World",
           "offsetgroup": "World",
           "orientation": "h",
           "showlegend": true,
           "type": "histogram",
           "x": [
            0.97,
            null,
            0.94,
            0.69,
            1.12,
            2.1,
            null,
            1,
            1.11
           ],
           "xaxis": "x",
           "y": [
            "World",
            "World",
            "World",
            "World",
            "World",
            "World",
            "World",
            "World",
            "World"
           ],
           "yaxis": "y"
          },
          {
           "alignmentgroup": "True",
           "bingroup": "y",
           "histfunc": "sum",
           "hovertemplate": "Location=%{y}<br>Period Label=S1-2018<br>sum of Median time in port (days)=%{x}<extra></extra>",
           "legendgroup": "Australia",
           "marker": {
            "color": "#EF553B",
            "pattern": {
             "shape": ""
            }
           },
           "name": "Australia",
           "offsetgroup": "Australia",
           "orientation": "h",
           "showlegend": true,
           "type": "histogram",
           "x": [
            1.49,
            null,
            1.34,
            1.19,
            1.69,
            1.68,
            null,
            0.87,
            1.23
           ],
           "xaxis": "x",
           "y": [
            "Australia",
            "Australia",
            "Australia",
            "Australia",
            "Australia",
            "Australia",
            "Australia",
            "Australia",
            "Australia"
           ],
           "yaxis": "y"
          },
          {
           "alignmentgroup": "True",
           "bingroup": "y",
           "histfunc": "sum",
           "hovertemplate": "Location=%{y}<br>Period Label=S1-2018<br>sum of Median time in port (days)=%{x}<extra></extra>",
           "legendgroup": "Canada",
           "marker": {
            "color": "#00cc96",
            "pattern": {
             "shape": ""
            }
           },
           "name": "Canada",
           "offsetgroup": "Canada",
           "orientation": "h",
           "showlegend": true,
           "type": "histogram",
           "x": [
            0.84,
            null,
            1.18,
            1.48,
            0.28,
            0.55,
            null
           ],
           "xaxis": "x",
           "y": [
            "Canada",
            "Canada",
            "Canada",
            "Canada",
            "Canada",
            "Canada",
            "Canada"
           ],
           "yaxis": "y"
          },
          {
           "alignmentgroup": "True",
           "bingroup": "y",
           "histfunc": "sum",
           "hovertemplate": "Location=%{y}<br>Period Label=S1-2018<br>sum of Median time in port (days)=%{x}<extra></extra>",
           "legendgroup": "China",
           "marker": {
            "color": "#ab63fa",
            "pattern": {
             "shape": ""
            }
           },
           "name": "China",
           "offsetgroup": "China",
           "orientation": "h",
           "showlegend": true,
           "type": "histogram",
           "x": [
            1.01,
            null,
            1.09,
            0.6,
            1.15,
            1.99,
            null,
            0.98,
            1.26
           ],
           "xaxis": "x",
           "y": [
            "China",
            "China",
            "China",
            "China",
            "China",
            "China",
            "China",
            "China",
            "China"
           ],
           "yaxis": "y"
          },
          {
           "alignmentgroup": "True",
           "bingroup": "y",
           "histfunc": "sum",
           "hovertemplate": "Location=%{y}<br>Period Label=S1-2018<br>sum of Median time in port (days)=%{x}<extra></extra>",
           "legendgroup": "Croatia",
           "marker": {
            "color": "#FFA15A",
            "pattern": {
             "shape": ""
            }
           },
           "name": "Croatia",
           "offsetgroup": "Croatia",
           "orientation": "h",
           "showlegend": true,
           "type": "histogram",
           "x": [
            1.18,
            null,
            1.02,
            0.55,
            2.87,
            2.09
           ],
           "xaxis": "x",
           "y": [
            "Croatia",
            "Croatia",
            "Croatia",
            "Croatia",
            "Croatia",
            "Croatia"
           ],
           "yaxis": "y"
          },
          {
           "alignmentgroup": "True",
           "bingroup": "y",
           "histfunc": "sum",
           "hovertemplate": "Location=%{y}<br>Period Label=S1-2018<br>sum of Median time in port (days)=%{x}<extra></extra>",
           "legendgroup": "Denmark",
           "marker": {
            "color": "#19d3f3",
            "pattern": {
             "shape": ""
            }
           },
           "name": "Denmark",
           "offsetgroup": "Denmark",
           "orientation": "h",
           "showlegend": true,
           "type": "histogram",
           "x": [
            0.74,
            null,
            0.64,
            0.48,
            0.85,
            0.84,
            null,
            1.08
           ],
           "xaxis": "x",
           "y": [
            "Denmark",
            "Denmark",
            "Denmark",
            "Denmark",
            "Denmark",
            "Denmark",
            "Denmark",
            "Denmark"
           ],
           "yaxis": "y"
          },
          {
           "alignmentgroup": "True",
           "bingroup": "y",
           "histfunc": "sum",
           "hovertemplate": "Location=%{y}<br>Period Label=S1-2018<br>sum of Median time in port (days)=%{x}<extra></extra>",
           "legendgroup": "France",
           "marker": {
            "color": "#FF6692",
            "pattern": {
             "shape": ""
            }
           },
           "name": "France",
           "offsetgroup": "France",
           "orientation": "h",
           "showlegend": true,
           "type": "histogram",
           "x": [
            1.11,
            null,
            1.06,
            0.76,
            1.44,
            3.22,
            null,
            1.08,
            1.21
           ],
           "xaxis": "x",
           "y": [
            "France",
            "France",
            "France",
            "France",
            "France",
            "France",
            "France",
            "France",
            "France"
           ],
           "yaxis": "y"
          },
          {
           "alignmentgroup": "True",
           "bingroup": "y",
           "histfunc": "sum",
           "hovertemplate": "Location=%{y}<br>Period Label=S1-2018<br>sum of Median time in port (days)=%{x}<extra></extra>",
           "legendgroup": "Germany",
           "marker": {
            "color": "#B6E880",
            "pattern": {
             "shape": ""
            }
           },
           "name": "Germany",
           "offsetgroup": "Germany",
           "orientation": "h",
           "showlegend": true,
           "type": "histogram",
           "x": [
            0.58,
            null,
            0.36,
            0.79,
            0.54,
            2.43,
            null,
            0.73
           ],
           "xaxis": "x",
           "y": [
            "Germany",
            "Germany",
            "Germany",
            "Germany",
            "Germany",
            "Germany",
            "Germany",
            "Germany"
           ],
           "yaxis": "y"
          },
          {
           "alignmentgroup": "True",
           "bingroup": "y",
           "histfunc": "sum",
           "hovertemplate": "Location=%{y}<br>Period Label=S1-2018<br>sum of Median time in port (days)=%{x}<extra></extra>",
           "legendgroup": "Greece",
           "marker": {
            "color": "#FF97FF",
            "pattern": {
             "shape": ""
            }
           },
           "name": "Greece",
           "offsetgroup": "Greece",
           "orientation": "h",
           "showlegend": true,
           "type": "histogram",
           "x": [
            0.72,
            null,
            0.55,
            0.92,
            1.07,
            0.36,
            null,
            0.92
           ],
           "xaxis": "x",
           "y": [
            "Greece",
            "Greece",
            "Greece",
            "Greece",
            "Greece",
            "Greece",
            "Greece",
            "Greece"
           ],
           "yaxis": "y"
          },
          {
           "alignmentgroup": "True",
           "bingroup": "y",
           "histfunc": "sum",
           "hovertemplate": "Location=%{y}<br>Period Label=S1-2018<br>sum of Median time in port (days)=%{x}<extra></extra>",
           "legendgroup": "Indonesia",
           "marker": {
            "color": "#FECB52",
            "pattern": {
             "shape": ""
            }
           },
           "name": "Indonesia",
           "offsetgroup": "Indonesia",
           "orientation": "h",
           "showlegend": true,
           "type": "histogram",
           "x": [
            1.33,
            null,
            1.32,
            1.06,
            1.21,
            3.67,
            null,
            1.12,
            1.24
           ],
           "xaxis": "x",
           "y": [
            "Indonesia",
            "Indonesia",
            "Indonesia",
            "Indonesia",
            "Indonesia",
            "Indonesia",
            "Indonesia",
            "Indonesia",
            "Indonesia"
           ],
           "yaxis": "y"
          },
          {
           "alignmentgroup": "True",
           "bingroup": "y",
           "histfunc": "sum",
           "hovertemplate": "Location=%{y}<br>Period Label=S1-2018<br>sum of Median time in port (days)=%{x}<extra></extra>",
           "legendgroup": "Italy",
           "marker": {
            "color": "#636efa",
            "pattern": {
             "shape": ""
            }
           },
           "name": "Italy",
           "offsetgroup": "Italy",
           "orientation": "h",
           "showlegend": true,
           "type": "histogram",
           "x": [
            1.25,
            null,
            1.31,
            0.82,
            1.96,
            3.49,
            null,
            1.39
           ],
           "xaxis": "x",
           "y": [
            "Italy",
            "Italy",
            "Italy",
            "Italy",
            "Italy",
            "Italy",
            "Italy",
            "Italy"
           ],
           "yaxis": "y"
          },
          {
           "alignmentgroup": "True",
           "bingroup": "y",
           "histfunc": "sum",
           "hovertemplate": "Location=%{y}<br>Period Label=S1-2018<br>sum of Median time in port (days)=%{x}<extra></extra>",
           "legendgroup": "Japan",
           "marker": {
            "color": "#EF553B",
            "pattern": {
             "shape": ""
            }
           },
           "name": "Japan",
           "offsetgroup": "Japan",
           "orientation": "h",
           "showlegend": true,
           "type": "histogram",
           "x": [
            0.41,
            null,
            0.31,
            0.35,
            1.15,
            0.93,
            null,
            0.31,
            0.99
           ],
           "xaxis": "x",
           "y": [
            "Japan",
            "Japan",
            "Japan",
            "Japan",
            "Japan",
            "Japan",
            "Japan",
            "Japan",
            "Japan"
           ],
           "yaxis": "y"
          },
          {
           "alignmentgroup": "True",
           "bingroup": "y",
           "histfunc": "sum",
           "hovertemplate": "Location=%{y}<br>Period Label=S1-2018<br>sum of Median time in port (days)=%{x}<extra></extra>",
           "legendgroup": "Korea, Republic of",
           "marker": {
            "color": "#00cc96",
            "pattern": {
             "shape": ""
            }
           },
           "name": "Korea, Republic of",
           "offsetgroup": "Korea, Republic of",
           "orientation": "h",
           "showlegend": true,
           "type": "histogram",
           "x": [
            0.77,
            null,
            0.78,
            0.57,
            1.27,
            2.23,
            null,
            0.71,
            1.03
           ],
           "xaxis": "x",
           "y": [
            "Korea, Republic of",
            "Korea, Republic of",
            "Korea, Republic of",
            "Korea, Republic of",
            "Korea, Republic of",
            "Korea, Republic of",
            "Korea, Republic of",
            "Korea, Republic of",
            "Korea, Republic of"
           ],
           "yaxis": "y"
          },
          {
           "alignmentgroup": "True",
           "bingroup": "y",
           "histfunc": "sum",
           "hovertemplate": "Location=%{y}<br>Period Label=S1-2018<br>sum of Median time in port (days)=%{x}<extra></extra>",
           "legendgroup": "Netherlands",
           "marker": {
            "color": "#ab63fa",
            "pattern": {
             "shape": ""
            }
           },
           "name": "Netherlands",
           "offsetgroup": "Netherlands",
           "orientation": "h",
           "showlegend": true,
           "type": "histogram",
           "x": [
            0.56,
            null,
            0.51,
            0.8,
            0.35,
            0.66,
            null,
            0.93,
            1.4
           ],
           "xaxis": "x",
           "y": [
            "Netherlands",
            "Netherlands",
            "Netherlands",
            "Netherlands",
            "Netherlands",
            "Netherlands",
            "Netherlands",
            "Netherlands",
            "Netherlands"
           ],
           "yaxis": "y"
          },
          {
           "alignmentgroup": "True",
           "bingroup": "y",
           "histfunc": "sum",
           "hovertemplate": "Location=%{y}<br>Period Label=S1-2018<br>sum of Median time in port (days)=%{x}<extra></extra>",
           "legendgroup": "Norway",
           "marker": {
            "color": "#FFA15A",
            "pattern": {
             "shape": ""
            }
           },
           "name": "Norway",
           "offsetgroup": "Norway",
           "orientation": "h",
           "showlegend": true,
           "type": "histogram",
           "x": [
            0.43,
            null,
            0.61,
            0.32,
            0.34,
            0.89,
            null,
            0.75,
            0.31
           ],
           "xaxis": "x",
           "y": [
            "Norway",
            "Norway",
            "Norway",
            "Norway",
            "Norway",
            "Norway",
            "Norway",
            "Norway",
            "Norway"
           ],
           "yaxis": "y"
          },
          {
           "alignmentgroup": "True",
           "bingroup": "y",
           "histfunc": "sum",
           "hovertemplate": "Location=%{y}<br>Period Label=S1-2018<br>sum of Median time in port (days)=%{x}<extra></extra>",
           "legendgroup": "Russian Federation",
           "marker": {
            "color": "#19d3f3",
            "pattern": {
             "shape": ""
            }
           },
           "name": "Russian Federation",
           "offsetgroup": "Russian Federation",
           "orientation": "h",
           "showlegend": true,
           "type": "histogram",
           "x": [
            1.42,
            null,
            1.09,
            1.37,
            1.75,
            2.49,
            null,
            1.39,
            1.15
           ],
           "xaxis": "x",
           "y": [
            "Russian Federation",
            "Russian Federation",
            "Russian Federation",
            "Russian Federation",
            "Russian Federation",
            "Russian Federation",
            "Russian Federation",
            "Russian Federation",
            "Russian Federation"
           ],
           "yaxis": "y"
          },
          {
           "alignmentgroup": "True",
           "bingroup": "y",
           "histfunc": "sum",
           "hovertemplate": "Location=%{y}<br>Period Label=S1-2018<br>sum of Median time in port (days)=%{x}<extra></extra>",
           "legendgroup": "Spain",
           "marker": {
            "color": "#FF6692",
            "pattern": {
             "shape": ""
            }
           },
           "name": "Spain",
           "offsetgroup": "Spain",
           "orientation": "h",
           "showlegend": true,
           "type": "histogram",
           "x": [
            0.85,
            null,
            0.84,
            0.66,
            1.14,
            2.25,
            null,
            0.95,
            1.04
           ],
           "xaxis": "x",
           "y": [
            "Spain",
            "Spain",
            "Spain",
            "Spain",
            "Spain",
            "Spain",
            "Spain",
            "Spain",
            "Spain"
           ],
           "yaxis": "y"
          },
          {
           "alignmentgroup": "True",
           "bingroup": "y",
           "histfunc": "sum",
           "hovertemplate": "Location=%{y}<br>Period Label=S1-2018<br>sum of Median time in port (days)=%{x}<extra></extra>",
           "legendgroup": "Sweden",
           "marker": {
            "color": "#B6E880",
            "pattern": {
             "shape": ""
            }
           },
           "name": "Sweden",
           "offsetgroup": "Sweden",
           "orientation": "h",
           "showlegend": true,
           "type": "histogram",
           "x": [
            0.79,
            null,
            0.67,
            0.67,
            1.04,
            0.53,
            null,
            0.81,
            0.58
           ],
           "xaxis": "x",
           "y": [
            "Sweden",
            "Sweden",
            "Sweden",
            "Sweden",
            "Sweden",
            "Sweden",
            "Sweden",
            "Sweden",
            "Sweden"
           ],
           "yaxis": "y"
          },
          {
           "alignmentgroup": "True",
           "bingroup": "y",
           "histfunc": "sum",
           "hovertemplate": "Location=%{y}<br>Period Label=S1-2018<br>sum of Median time in port (days)=%{x}<extra></extra>",
           "legendgroup": "Türkiye",
           "marker": {
            "color": "#FF97FF",
            "pattern": {
             "shape": ""
            }
           },
           "name": "Türkiye",
           "offsetgroup": "Türkiye",
           "orientation": "h",
           "showlegend": true,
           "type": "histogram",
           "x": [
            1.23,
            null,
            1.1,
            0.63,
            1.55,
            4.13,
            null,
            1.38,
            1.3
           ],
           "xaxis": "x",
           "y": [
            "Türkiye",
            "Türkiye",
            "Türkiye",
            "Türkiye",
            "Türkiye",
            "Türkiye",
            "Türkiye",
            "Türkiye",
            "Türkiye"
           ],
           "yaxis": "y"
          },
          {
           "alignmentgroup": "True",
           "bingroup": "y",
           "histfunc": "sum",
           "hovertemplate": "Location=%{y}<br>Period Label=S1-2018<br>sum of Median time in port (days)=%{x}<extra></extra>",
           "legendgroup": "United States of America",
           "marker": {
            "color": "#FECB52",
            "pattern": {
             "shape": ""
            }
           },
           "name": "United States of America",
           "offsetgroup": "United States of America",
           "orientation": "h",
           "showlegend": true,
           "type": "histogram",
           "x": [
            1.45,
            null,
            1.64,
            0.98,
            1.77,
            2.3,
            null,
            2,
            1.37
           ],
           "xaxis": "x",
           "y": [
            "United States of America",
            "United States of America",
            "United States of America",
            "United States of America",
            "United States of America",
            "United States of America",
            "United States of America",
            "United States of America",
            "United States of America"
           ],
           "yaxis": "y"
          },
          {
           "alignmentgroup": "True",
           "bingroup": "y",
           "histfunc": "sum",
           "hovertemplate": "Location=%{y}<br>Period Label=S1-2018<br>sum of Median time in port (days)=%{x}<extra></extra>",
           "legendgroup": "United Kingdom",
           "marker": {
            "color": "#636efa",
            "pattern": {
             "shape": ""
            }
           },
           "name": "United Kingdom",
           "offsetgroup": "United Kingdom",
           "orientation": "h",
           "showlegend": true,
           "type": "histogram",
           "x": [
            1.09,
            null,
            1.05,
            0.73,
            1.45,
            2.59,
            null,
            1.07,
            1.44
           ],
           "xaxis": "x",
           "y": [
            "United Kingdom",
            "United Kingdom",
            "United Kingdom",
            "United Kingdom",
            "United Kingdom",
            "United Kingdom",
            "United Kingdom",
            "United Kingdom",
            "United Kingdom"
           ],
           "yaxis": "y"
          }
         ],
         "name": "S1-2018"
        },
        {
         "data": [
          {
           "alignmentgroup": "True",
           "bingroup": "y",
           "histfunc": "sum",
           "hovertemplate": "Location=%{y}<br>Period Label=S2-2018<br>sum of Median time in port (days)=%{x}<extra></extra>",
           "legendgroup": "World",
           "marker": {
            "color": "#636efa",
            "pattern": {
             "shape": ""
            }
           },
           "name": "World",
           "offsetgroup": "World",
           "orientation": "h",
           "showlegend": true,
           "type": "histogram",
           "x": [
            0.97,
            null,
            0.94,
            0.71,
            1.1,
            2,
            null,
            1.03,
            1.12
           ],
           "xaxis": "x",
           "y": [
            "World",
            "World",
            "World",
            "World",
            "World",
            "World",
            "World",
            "World",
            "World"
           ],
           "yaxis": "y"
          },
          {
           "alignmentgroup": "True",
           "bingroup": "y",
           "histfunc": "sum",
           "hovertemplate": "Location=%{y}<br>Period Label=S2-2018<br>sum of Median time in port (days)=%{x}<extra></extra>",
           "legendgroup": "Australia",
           "marker": {
            "color": "#EF553B",
            "pattern": {
             "shape": ""
            }
           },
           "name": "Australia",
           "offsetgroup": "Australia",
           "orientation": "h",
           "showlegend": true,
           "type": "histogram",
           "x": [
            1.46,
            null,
            1.35,
            1.2,
            1.9,
            1.62,
            null,
            0.92,
            1.19
           ],
           "xaxis": "x",
           "y": [
            "Australia",
            "Australia",
            "Australia",
            "Australia",
            "Australia",
            "Australia",
            "Australia",
            "Australia",
            "Australia"
           ],
           "yaxis": "y"
          },
          {
           "alignmentgroup": "True",
           "bingroup": "y",
           "histfunc": "sum",
           "hovertemplate": "Location=%{y}<br>Period Label=S2-2018<br>sum of Median time in port (days)=%{x}<extra></extra>",
           "legendgroup": "Canada",
           "marker": {
            "color": "#00cc96",
            "pattern": {
             "shape": ""
            }
           },
           "name": "Canada",
           "offsetgroup": "Canada",
           "orientation": "h",
           "showlegend": true,
           "type": "histogram",
           "x": [
            0.54,
            null,
            1.09,
            1.51,
            0.28,
            0.2,
            null
           ],
           "xaxis": "x",
           "y": [
            "Canada",
            "Canada",
            "Canada",
            "Canada",
            "Canada",
            "Canada",
            "Canada"
           ],
           "yaxis": "y"
          },
          {
           "alignmentgroup": "True",
           "bingroup": "y",
           "histfunc": "sum",
           "hovertemplate": "Location=%{y}<br>Period Label=S2-2018<br>sum of Median time in port (days)=%{x}<extra></extra>",
           "legendgroup": "China",
           "marker": {
            "color": "#ab63fa",
            "pattern": {
             "shape": ""
            }
           },
           "name": "China",
           "offsetgroup": "China",
           "orientation": "h",
           "showlegend": true,
           "type": "histogram",
           "x": [
            1.04,
            null,
            1.11,
            0.63,
            1.19,
            2,
            null,
            1.01,
            1.19
           ],
           "xaxis": "x",
           "y": [
            "China",
            "China",
            "China",
            "China",
            "China",
            "China",
            "China",
            "China",
            "China"
           ],
           "yaxis": "y"
          },
          {
           "alignmentgroup": "True",
           "bingroup": "y",
           "histfunc": "sum",
           "hovertemplate": "Location=%{y}<br>Period Label=S2-2018<br>sum of Median time in port (days)=%{x}<extra></extra>",
           "legendgroup": "Croatia",
           "marker": {
            "color": "#FFA15A",
            "pattern": {
             "shape": ""
            }
           },
           "name": "Croatia",
           "offsetgroup": "Croatia",
           "orientation": "h",
           "showlegend": true,
           "type": "histogram",
           "x": [
            1.21,
            null,
            1.05,
            0.62,
            2.49,
            1.67
           ],
           "xaxis": "x",
           "y": [
            "Croatia",
            "Croatia",
            "Croatia",
            "Croatia",
            "Croatia",
            "Croatia"
           ],
           "yaxis": "y"
          },
          {
           "alignmentgroup": "True",
           "bingroup": "y",
           "histfunc": "sum",
           "hovertemplate": "Location=%{y}<br>Period Label=S2-2018<br>sum of Median time in port (days)=%{x}<extra></extra>",
           "legendgroup": "Denmark",
           "marker": {
            "color": "#19d3f3",
            "pattern": {
             "shape": ""
            }
           },
           "name": "Denmark",
           "offsetgroup": "Denmark",
           "orientation": "h",
           "showlegend": true,
           "type": "histogram",
           "x": [
            0.74,
            null,
            0.66,
            0.5,
            0.84,
            0.9,
            null,
            1.01
           ],
           "xaxis": "x",
           "y": [
            "Denmark",
            "Denmark",
            "Denmark",
            "Denmark",
            "Denmark",
            "Denmark",
            "Denmark",
            "Denmark"
           ],
           "yaxis": "y"
          },
          {
           "alignmentgroup": "True",
           "bingroup": "y",
           "histfunc": "sum",
           "hovertemplate": "Location=%{y}<br>Period Label=S2-2018<br>sum of Median time in port (days)=%{x}<extra></extra>",
           "legendgroup": "France",
           "marker": {
            "color": "#FF6692",
            "pattern": {
             "shape": ""
            }
           },
           "name": "France",
           "offsetgroup": "France",
           "orientation": "h",
           "showlegend": true,
           "type": "histogram",
           "x": [
            1.12,
            null,
            1.06,
            0.73,
            1.54,
            3.02,
            null,
            1.06,
            1.18
           ],
           "xaxis": "x",
           "y": [
            "France",
            "France",
            "France",
            "France",
            "France",
            "France",
            "France",
            "France",
            "France"
           ],
           "yaxis": "y"
          },
          {
           "alignmentgroup": "True",
           "bingroup": "y",
           "histfunc": "sum",
           "hovertemplate": "Location=%{y}<br>Period Label=S2-2018<br>sum of Median time in port (days)=%{x}<extra></extra>",
           "legendgroup": "Germany",
           "marker": {
            "color": "#B6E880",
            "pattern": {
             "shape": ""
            }
           },
           "name": "Germany",
           "offsetgroup": "Germany",
           "orientation": "h",
           "showlegend": true,
           "type": "histogram",
           "x": [
            0.54,
            null,
            0.36,
            0.78,
            0.46,
            2.49,
            null,
            0.76
           ],
           "xaxis": "x",
           "y": [
            "Germany",
            "Germany",
            "Germany",
            "Germany",
            "Germany",
            "Germany",
            "Germany",
            "Germany"
           ],
           "yaxis": "y"
          },
          {
           "alignmentgroup": "True",
           "bingroup": "y",
           "histfunc": "sum",
           "hovertemplate": "Location=%{y}<br>Period Label=S2-2018<br>sum of Median time in port (days)=%{x}<extra></extra>",
           "legendgroup": "Greece",
           "marker": {
            "color": "#FF97FF",
            "pattern": {
             "shape": ""
            }
           },
           "name": "Greece",
           "offsetgroup": "Greece",
           "orientation": "h",
           "showlegend": true,
           "type": "histogram",
           "x": [
            0.69,
            null,
            0.53,
            0.99,
            1.07,
            0.35,
            null,
            0.84,
            0.99
           ],
           "xaxis": "x",
           "y": [
            "Greece",
            "Greece",
            "Greece",
            "Greece",
            "Greece",
            "Greece",
            "Greece",
            "Greece",
            "Greece"
           ],
           "yaxis": "y"
          },
          {
           "alignmentgroup": "True",
           "bingroup": "y",
           "histfunc": "sum",
           "hovertemplate": "Location=%{y}<br>Period Label=S2-2018<br>sum of Median time in port (days)=%{x}<extra></extra>",
           "legendgroup": "Indonesia",
           "marker": {
            "color": "#FECB52",
            "pattern": {
             "shape": ""
            }
           },
           "name": "Indonesia",
           "offsetgroup": "Indonesia",
           "orientation": "h",
           "showlegend": true,
           "type": "histogram",
           "x": [
            1.35,
            null,
            1.23,
            1.11,
            1.31,
            3.46,
            null,
            1.15,
            1.41
           ],
           "xaxis": "x",
           "y": [
            "Indonesia",
            "Indonesia",
            "Indonesia",
            "Indonesia",
            "Indonesia",
            "Indonesia",
            "Indonesia",
            "Indonesia",
            "Indonesia"
           ],
           "yaxis": "y"
          },
          {
           "alignmentgroup": "True",
           "bingroup": "y",
           "histfunc": "sum",
           "hovertemplate": "Location=%{y}<br>Period Label=S2-2018<br>sum of Median time in port (days)=%{x}<extra></extra>",
           "legendgroup": "Italy",
           "marker": {
            "color": "#636efa",
            "pattern": {
             "shape": ""
            }
           },
           "name": "Italy",
           "offsetgroup": "Italy",
           "orientation": "h",
           "showlegend": true,
           "type": "histogram",
           "x": [
            1.25,
            null,
            1.28,
            0.83,
            1.88,
            3.66,
            null,
            1.57
           ],
           "xaxis": "x",
           "y": [
            "Italy",
            "Italy",
            "Italy",
            "Italy",
            "Italy",
            "Italy",
            "Italy",
            "Italy"
           ],
           "yaxis": "y"
          },
          {
           "alignmentgroup": "True",
           "bingroup": "y",
           "histfunc": "sum",
           "hovertemplate": "Location=%{y}<br>Period Label=S2-2018<br>sum of Median time in port (days)=%{x}<extra></extra>",
           "legendgroup": "Japan",
           "marker": {
            "color": "#EF553B",
            "pattern": {
             "shape": ""
            }
           },
           "name": "Japan",
           "offsetgroup": "Japan",
           "orientation": "h",
           "showlegend": true,
           "type": "histogram",
           "x": [
            0.41,
            null,
            0.31,
            0.35,
            1.1,
            0.86,
            null,
            0.32,
            1
           ],
           "xaxis": "x",
           "y": [
            "Japan",
            "Japan",
            "Japan",
            "Japan",
            "Japan",
            "Japan",
            "Japan",
            "Japan",
            "Japan"
           ],
           "yaxis": "y"
          },
          {
           "alignmentgroup": "True",
           "bingroup": "y",
           "histfunc": "sum",
           "hovertemplate": "Location=%{y}<br>Period Label=S2-2018<br>sum of Median time in port (days)=%{x}<extra></extra>",
           "legendgroup": "Korea, Republic of",
           "marker": {
            "color": "#00cc96",
            "pattern": {
             "shape": ""
            }
           },
           "name": "Korea, Republic of",
           "offsetgroup": "Korea, Republic of",
           "orientation": "h",
           "showlegend": true,
           "type": "histogram",
           "x": [
            0.81,
            null,
            0.8,
            0.62,
            1.3,
            2.42,
            null,
            0.74,
            1.04
           ],
           "xaxis": "x",
           "y": [
            "Korea, Republic of",
            "Korea, Republic of",
            "Korea, Republic of",
            "Korea, Republic of",
            "Korea, Republic of",
            "Korea, Republic of",
            "Korea, Republic of",
            "Korea, Republic of",
            "Korea, Republic of"
           ],
           "yaxis": "y"
          },
          {
           "alignmentgroup": "True",
           "bingroup": "y",
           "histfunc": "sum",
           "hovertemplate": "Location=%{y}<br>Period Label=S2-2018<br>sum of Median time in port (days)=%{x}<extra></extra>",
           "legendgroup": "Netherlands",
           "marker": {
            "color": "#ab63fa",
            "pattern": {
             "shape": ""
            }
           },
           "name": "Netherlands",
           "offsetgroup": "Netherlands",
           "orientation": "h",
           "showlegend": true,
           "type": "histogram",
           "x": [
            0.57,
            null,
            0.48,
            0.76,
            0.45,
            0.93,
            null,
            0.96,
            1.19
           ],
           "xaxis": "x",
           "y": [
            "Netherlands",
            "Netherlands",
            "Netherlands",
            "Netherlands",
            "Netherlands",
            "Netherlands",
            "Netherlands",
            "Netherlands",
            "Netherlands"
           ],
           "yaxis": "y"
          },
          {
           "alignmentgroup": "True",
           "bingroup": "y",
           "histfunc": "sum",
           "hovertemplate": "Location=%{y}<br>Period Label=S2-2018<br>sum of Median time in port (days)=%{x}<extra></extra>",
           "legendgroup": "Norway",
           "marker": {
            "color": "#FFA15A",
            "pattern": {
             "shape": ""
            }
           },
           "name": "Norway",
           "offsetgroup": "Norway",
           "orientation": "h",
           "showlegend": true,
           "type": "histogram",
           "x": [
            0.43,
            null,
            0.6,
            0.34,
            0.34,
            0.86,
            null,
            0.75,
            0.37
           ],
           "xaxis": "x",
           "y": [
            "Norway",
            "Norway",
            "Norway",
            "Norway",
            "Norway",
            "Norway",
            "Norway",
            "Norway",
            "Norway"
           ],
           "yaxis": "y"
          },
          {
           "alignmentgroup": "True",
           "bingroup": "y",
           "histfunc": "sum",
           "hovertemplate": "Location=%{y}<br>Period Label=S2-2018<br>sum of Median time in port (days)=%{x}<extra></extra>",
           "legendgroup": "Russian Federation",
           "marker": {
            "color": "#19d3f3",
            "pattern": {
             "shape": ""
            }
           },
           "name": "Russian Federation",
           "offsetgroup": "Russian Federation",
           "orientation": "h",
           "showlegend": true,
           "type": "histogram",
           "x": [
            1.26,
            null,
            0.98,
            1.45,
            1.39,
            2.5,
            null,
            1.32,
            1.07
           ],
           "xaxis": "x",
           "y": [
            "Russian Federation",
            "Russian Federation",
            "Russian Federation",
            "Russian Federation",
            "Russian Federation",
            "Russian Federation",
            "Russian Federation",
            "Russian Federation",
            "Russian Federation"
           ],
           "yaxis": "y"
          },
          {
           "alignmentgroup": "True",
           "bingroup": "y",
           "histfunc": "sum",
           "hovertemplate": "Location=%{y}<br>Period Label=S2-2018<br>sum of Median time in port (days)=%{x}<extra></extra>",
           "legendgroup": "Spain",
           "marker": {
            "color": "#FF6692",
            "pattern": {
             "shape": ""
            }
           },
           "name": "Spain",
           "offsetgroup": "Spain",
           "orientation": "h",
           "showlegend": true,
           "type": "histogram",
           "x": [
            0.87,
            null,
            0.84,
            0.67,
            1.14,
            2.28,
            null,
            0.97,
            1.06
           ],
           "xaxis": "x",
           "y": [
            "Spain",
            "Spain",
            "Spain",
            "Spain",
            "Spain",
            "Spain",
            "Spain",
            "Spain",
            "Spain"
           ],
           "yaxis": "y"
          },
          {
           "alignmentgroup": "True",
           "bingroup": "y",
           "histfunc": "sum",
           "hovertemplate": "Location=%{y}<br>Period Label=S2-2018<br>sum of Median time in port (days)=%{x}<extra></extra>",
           "legendgroup": "Sweden",
           "marker": {
            "color": "#B6E880",
            "pattern": {
             "shape": ""
            }
           },
           "name": "Sweden",
           "offsetgroup": "Sweden",
           "orientation": "h",
           "showlegend": true,
           "type": "histogram",
           "x": [
            0.8,
            null,
            0.69,
            0.61,
            1.05,
            0.49,
            null,
            0.84,
            0.62
           ],
           "xaxis": "x",
           "y": [
            "Sweden",
            "Sweden",
            "Sweden",
            "Sweden",
            "Sweden",
            "Sweden",
            "Sweden",
            "Sweden",
            "Sweden"
           ],
           "yaxis": "y"
          },
          {
           "alignmentgroup": "True",
           "bingroup": "y",
           "histfunc": "sum",
           "hovertemplate": "Location=%{y}<br>Period Label=S2-2018<br>sum of Median time in port (days)=%{x}<extra></extra>",
           "legendgroup": "Türkiye",
           "marker": {
            "color": "#FF97FF",
            "pattern": {
             "shape": ""
            }
           },
           "name": "Türkiye",
           "offsetgroup": "Türkiye",
           "orientation": "h",
           "showlegend": true,
           "type": "histogram",
           "x": [
            1.15,
            null,
            1.12,
            0.63,
            1.48,
            3.82,
            null,
            1.35,
            1.34
           ],
           "xaxis": "x",
           "y": [
            "Türkiye",
            "Türkiye",
            "Türkiye",
            "Türkiye",
            "Türkiye",
            "Türkiye",
            "Türkiye",
            "Türkiye",
            "Türkiye"
           ],
           "yaxis": "y"
          },
          {
           "alignmentgroup": "True",
           "bingroup": "y",
           "histfunc": "sum",
           "hovertemplate": "Location=%{y}<br>Period Label=S2-2018<br>sum of Median time in port (days)=%{x}<extra></extra>",
           "legendgroup": "United States of America",
           "marker": {
            "color": "#FECB52",
            "pattern": {
             "shape": ""
            }
           },
           "name": "United States of America",
           "offsetgroup": "United States of America",
           "orientation": "h",
           "showlegend": true,
           "type": "histogram",
           "x": [
            1.37,
            null,
            1.64,
            1.01,
            1.81,
            1.41,
            null,
            2.05,
            1.25
           ],
           "xaxis": "x",
           "y": [
            "United States of America",
            "United States of America",
            "United States of America",
            "United States of America",
            "United States of America",
            "United States of America",
            "United States of America",
            "United States of America",
            "United States of America"
           ],
           "yaxis": "y"
          },
          {
           "alignmentgroup": "True",
           "bingroup": "y",
           "histfunc": "sum",
           "hovertemplate": "Location=%{y}<br>Period Label=S2-2018<br>sum of Median time in port (days)=%{x}<extra></extra>",
           "legendgroup": "United Kingdom",
           "marker": {
            "color": "#636efa",
            "pattern": {
             "shape": ""
            }
           },
           "name": "United Kingdom",
           "offsetgroup": "United Kingdom",
           "orientation": "h",
           "showlegend": true,
           "type": "histogram",
           "x": [
            1.1,
            null,
            1.06,
            0.73,
            1.46,
            2.97,
            null,
            1.08,
            1.39
           ],
           "xaxis": "x",
           "y": [
            "United Kingdom",
            "United Kingdom",
            "United Kingdom",
            "United Kingdom",
            "United Kingdom",
            "United Kingdom",
            "United Kingdom",
            "United Kingdom",
            "United Kingdom"
           ],
           "yaxis": "y"
          }
         ],
         "name": "S2-2018"
        },
        {
         "data": [
          {
           "alignmentgroup": "True",
           "bingroup": "y",
           "histfunc": "sum",
           "hovertemplate": "Location=%{y}<br>Period Label=S1-2019<br>sum of Median time in port (days)=%{x}<extra></extra>",
           "legendgroup": "World",
           "marker": {
            "color": "#636efa",
            "pattern": {
             "shape": ""
            }
           },
           "name": "World",
           "offsetgroup": "World",
           "orientation": "h",
           "showlegend": true,
           "type": "histogram",
           "x": [
            0.9646,
            null,
            0.9306,
            0.6931,
            1.1028,
            2.0104,
            null,
            1.0229,
            1.1069
           ],
           "xaxis": "x",
           "y": [
            "World",
            "World",
            "World",
            "World",
            "World",
            "World",
            "World",
            "World",
            "World"
           ],
           "yaxis": "y"
          },
          {
           "alignmentgroup": "True",
           "bingroup": "y",
           "histfunc": "sum",
           "hovertemplate": "Location=%{y}<br>Period Label=S1-2019<br>sum of Median time in port (days)=%{x}<extra></extra>",
           "legendgroup": "Australia",
           "marker": {
            "color": "#EF553B",
            "pattern": {
             "shape": ""
            }
           },
           "name": "Australia",
           "offsetgroup": "Australia",
           "orientation": "h",
           "showlegend": true,
           "type": "histogram",
           "x": [
            1.4014,
            null,
            1.249,
            1.1222,
            1.7181,
            1.5569,
            null,
            0.9104,
            1.2205
           ],
           "xaxis": "x",
           "y": [
            "Australia",
            "Australia",
            "Australia",
            "Australia",
            "Australia",
            "Australia",
            "Australia",
            "Australia",
            "Australia"
           ],
           "yaxis": "y"
          },
          {
           "alignmentgroup": "True",
           "bingroup": "y",
           "histfunc": "sum",
           "hovertemplate": "Location=%{y}<br>Period Label=S1-2019<br>sum of Median time in port (days)=%{x}<extra></extra>",
           "legendgroup": "Canada",
           "marker": {
            "color": "#00cc96",
            "pattern": {
             "shape": ""
            }
           },
           "name": "Canada",
           "offsetgroup": "Canada",
           "orientation": "h",
           "showlegend": true,
           "type": "histogram",
           "x": [
            0.9125,
            null,
            1.2264,
            1.5965,
            0.2833,
            0.5431,
            null
           ],
           "xaxis": "x",
           "y": [
            "Canada",
            "Canada",
            "Canada",
            "Canada",
            "Canada",
            "Canada",
            "Canada"
           ],
           "yaxis": "y"
          },
          {
           "alignmentgroup": "True",
           "bingroup": "y",
           "histfunc": "sum",
           "hovertemplate": "Location=%{y}<br>Period Label=S1-2019<br>sum of Median time in port (days)=%{x}<extra></extra>",
           "legendgroup": "China",
           "marker": {
            "color": "#ab63fa",
            "pattern": {
             "shape": ""
            }
           },
           "name": "China",
           "offsetgroup": "China",
           "orientation": "h",
           "showlegend": true,
           "type": "histogram",
           "x": [
            1.0458,
            null,
            1.1069,
            0.6062,
            1.2014,
            1.9813,
            null,
            1.0021,
            1.2083
           ],
           "xaxis": "x",
           "y": [
            "China",
            "China",
            "China",
            "China",
            "China",
            "China",
            "China",
            "China",
            "China"
           ],
           "yaxis": "y"
          },
          {
           "alignmentgroup": "True",
           "bingroup": "y",
           "histfunc": "sum",
           "hovertemplate": "Location=%{y}<br>Period Label=S1-2019<br>sum of Median time in port (days)=%{x}<extra></extra>",
           "legendgroup": "Croatia",
           "marker": {
            "color": "#FFA15A",
            "pattern": {
             "shape": ""
            }
           },
           "name": "Croatia",
           "offsetgroup": "Croatia",
           "orientation": "h",
           "showlegend": true,
           "type": "histogram",
           "x": [
            1.275,
            null,
            1.0444,
            0.7135,
            2.6493,
            2.5187
           ],
           "xaxis": "x",
           "y": [
            "Croatia",
            "Croatia",
            "Croatia",
            "Croatia",
            "Croatia",
            "Croatia"
           ],
           "yaxis": "y"
          },
          {
           "alignmentgroup": "True",
           "bingroup": "y",
           "histfunc": "sum",
           "hovertemplate": "Location=%{y}<br>Period Label=S1-2019<br>sum of Median time in port (days)=%{x}<extra></extra>",
           "legendgroup": "Denmark",
           "marker": {
            "color": "#19d3f3",
            "pattern": {
             "shape": ""
            }
           },
           "name": "Denmark",
           "offsetgroup": "Denmark",
           "orientation": "h",
           "showlegend": true,
           "type": "histogram",
           "x": [
            0.7583,
            null,
            0.6847,
            0.4403,
            0.9233,
            0.8167,
            null,
            1.0347
           ],
           "xaxis": "x",
           "y": [
            "Denmark",
            "Denmark",
            "Denmark",
            "Denmark",
            "Denmark",
            "Denmark",
            "Denmark",
            "Denmark"
           ],
           "yaxis": "y"
          },
          {
           "alignmentgroup": "True",
           "bingroup": "y",
           "histfunc": "sum",
           "hovertemplate": "Location=%{y}<br>Period Label=S1-2019<br>sum of Median time in port (days)=%{x}<extra></extra>",
           "legendgroup": "France",
           "marker": {
            "color": "#FF6692",
            "pattern": {
             "shape": ""
            }
           },
           "name": "France",
           "offsetgroup": "France",
           "orientation": "h",
           "showlegend": true,
           "type": "histogram",
           "x": [
            1.1031,
            null,
            1.0181,
            0.7549,
            1.5701,
            2.8486,
            null,
            1.1118,
            1.1354
           ],
           "xaxis": "x",
           "y": [
            "France",
            "France",
            "France",
            "France",
            "France",
            "France",
            "France",
            "France",
            "France"
           ],
           "yaxis": "y"
          },
          {
           "alignmentgroup": "True",
           "bingroup": "y",
           "histfunc": "sum",
           "hovertemplate": "Location=%{y}<br>Period Label=S1-2019<br>sum of Median time in port (days)=%{x}<extra></extra>",
           "legendgroup": "Germany",
           "marker": {
            "color": "#B6E880",
            "pattern": {
             "shape": ""
            }
           },
           "name": "Germany",
           "offsetgroup": "Germany",
           "orientation": "h",
           "showlegend": true,
           "type": "histogram",
           "x": [
            0.5007,
            null,
            0.3424,
            0.759,
            0.3792,
            2.6309,
            null,
            0.7437
           ],
           "xaxis": "x",
           "y": [
            "Germany",
            "Germany",
            "Germany",
            "Germany",
            "Germany",
            "Germany",
            "Germany",
            "Germany"
           ],
           "yaxis": "y"
          },
          {
           "alignmentgroup": "True",
           "bingroup": "y",
           "histfunc": "sum",
           "hovertemplate": "Location=%{y}<br>Period Label=S1-2019<br>sum of Median time in port (days)=%{x}<extra></extra>",
           "legendgroup": "Greece",
           "marker": {
            "color": "#FF97FF",
            "pattern": {
             "shape": ""
            }
           },
           "name": "Greece",
           "offsetgroup": "Greece",
           "orientation": "h",
           "showlegend": true,
           "type": "histogram",
           "x": [
            0.7566,
            null,
            0.5424,
            1.0882,
            1.1146,
            0.3708,
            null,
            0.9035,
            1.0993
           ],
           "xaxis": "x",
           "y": [
            "Greece",
            "Greece",
            "Greece",
            "Greece",
            "Greece",
            "Greece",
            "Greece",
            "Greece",
            "Greece"
           ],
           "yaxis": "y"
          },
          {
           "alignmentgroup": "True",
           "bingroup": "y",
           "histfunc": "sum",
           "hovertemplate": "Location=%{y}<br>Period Label=S1-2019<br>sum of Median time in port (days)=%{x}<extra></extra>",
           "legendgroup": "Indonesia",
           "marker": {
            "color": "#FECB52",
            "pattern": {
             "shape": ""
            }
           },
           "name": "Indonesia",
           "offsetgroup": "Indonesia",
           "orientation": "h",
           "showlegend": true,
           "type": "histogram",
           "x": [
            1.3056,
            null,
            1.1493,
            1.0597,
            1.3472,
            3.9201,
            null,
            1.151,
            1.3778
           ],
           "xaxis": "x",
           "y": [
            "Indonesia",
            "Indonesia",
            "Indonesia",
            "Indonesia",
            "Indonesia",
            "Indonesia",
            "Indonesia",
            "Indonesia",
            "Indonesia"
           ],
           "yaxis": "y"
          },
          {
           "alignmentgroup": "True",
           "bingroup": "y",
           "histfunc": "sum",
           "hovertemplate": "Location=%{y}<br>Period Label=S1-2019<br>sum of Median time in port (days)=%{x}<extra></extra>",
           "legendgroup": "Italy",
           "marker": {
            "color": "#636efa",
            "pattern": {
             "shape": ""
            }
           },
           "name": "Italy",
           "offsetgroup": "Italy",
           "orientation": "h",
           "showlegend": true,
           "type": "histogram",
           "x": [
            1.2667,
            null,
            1.2646,
            0.8847,
            1.8844,
            3.4535,
            null,
            1.3729
           ],
           "xaxis": "x",
           "y": [
            "Italy",
            "Italy",
            "Italy",
            "Italy",
            "Italy",
            "Italy",
            "Italy",
            "Italy"
           ],
           "yaxis": "y"
          },
          {
           "alignmentgroup": "True",
           "bingroup": "y",
           "histfunc": "sum",
           "hovertemplate": "Location=%{y}<br>Period Label=S1-2019<br>sum of Median time in port (days)=%{x}<extra></extra>",
           "legendgroup": "Japan",
           "marker": {
            "color": "#EF553B",
            "pattern": {
             "shape": ""
            }
           },
           "name": "Japan",
           "offsetgroup": "Japan",
           "orientation": "h",
           "showlegend": true,
           "type": "histogram",
           "x": [
            0.4125,
            null,
            0.3083,
            0.35,
            1.1819,
            0.9111,
            null,
            0.3424,
            0.9854
           ],
           "xaxis": "x",
           "y": [
            "Japan",
            "Japan",
            "Japan",
            "Japan",
            "Japan",
            "Japan",
            "Japan",
            "Japan",
            "Japan"
           ],
           "yaxis": "y"
          },
          {
           "alignmentgroup": "True",
           "bingroup": "y",
           "histfunc": "sum",
           "hovertemplate": "Location=%{y}<br>Period Label=S1-2019<br>sum of Median time in port (days)=%{x}<extra></extra>",
           "legendgroup": "Korea, Republic of",
           "marker": {
            "color": "#00cc96",
            "pattern": {
             "shape": ""
            }
           },
           "name": "Korea, Republic of",
           "offsetgroup": "Korea, Republic of",
           "orientation": "h",
           "showlegend": true,
           "type": "histogram",
           "x": [
            0.7813,
            null,
            0.7465,
            0.5722,
            1.1812,
            1.9823,
            null,
            0.7632,
            1.0319
           ],
           "xaxis": "x",
           "y": [
            "Korea, Republic of",
            "Korea, Republic of",
            "Korea, Republic of",
            "Korea, Republic of",
            "Korea, Republic of",
            "Korea, Republic of",
            "Korea, Republic of",
            "Korea, Republic of",
            "Korea, Republic of"
           ],
           "yaxis": "y"
          },
          {
           "alignmentgroup": "True",
           "bingroup": "y",
           "histfunc": "sum",
           "hovertemplate": "Location=%{y}<br>Period Label=S1-2019<br>sum of Median time in port (days)=%{x}<extra></extra>",
           "legendgroup": "Netherlands",
           "marker": {
            "color": "#ab63fa",
            "pattern": {
             "shape": ""
            }
           },
           "name": "Netherlands",
           "offsetgroup": "Netherlands",
           "orientation": "h",
           "showlegend": true,
           "type": "histogram",
           "x": [
            0.566,
            null,
            0.4972,
            0.7882,
            0.3979,
            0.6694,
            null,
            0.9747,
            1.0868
           ],
           "xaxis": "x",
           "y": [
            "Netherlands",
            "Netherlands",
            "Netherlands",
            "Netherlands",
            "Netherlands",
            "Netherlands",
            "Netherlands",
            "Netherlands",
            "Netherlands"
           ],
           "yaxis": "y"
          },
          {
           "alignmentgroup": "True",
           "bingroup": "y",
           "histfunc": "sum",
           "hovertemplate": "Location=%{y}<br>Period Label=S1-2019<br>sum of Median time in port (days)=%{x}<extra></extra>",
           "legendgroup": "Norway",
           "marker": {
            "color": "#FFA15A",
            "pattern": {
             "shape": ""
            }
           },
           "name": "Norway",
           "offsetgroup": "Norway",
           "orientation": "h",
           "showlegend": true,
           "type": "histogram",
           "x": [
            0.4063,
            null,
            0.6049,
            0.3042,
            0.3146,
            0.8528,
            null,
            0.7646,
            0.4479
           ],
           "xaxis": "x",
           "y": [
            "Norway",
            "Norway",
            "Norway",
            "Norway",
            "Norway",
            "Norway",
            "Norway",
            "Norway",
            "Norway"
           ],
           "yaxis": "y"
          },
          {
           "alignmentgroup": "True",
           "bingroup": "y",
           "histfunc": "sum",
           "hovertemplate": "Location=%{y}<br>Period Label=S1-2019<br>sum of Median time in port (days)=%{x}<extra></extra>",
           "legendgroup": "Russian Federation",
           "marker": {
            "color": "#19d3f3",
            "pattern": {
             "shape": ""
            }
           },
           "name": "Russian Federation",
           "offsetgroup": "Russian Federation",
           "orientation": "h",
           "showlegend": true,
           "type": "histogram",
           "x": [
            1.3271,
            null,
            1.0701,
            1.3132,
            1.7222,
            1.9764,
            null,
            1.2375,
            1.1139
           ],
           "xaxis": "x",
           "y": [
            "Russian Federation",
            "Russian Federation",
            "Russian Federation",
            "Russian Federation",
            "Russian Federation",
            "Russian Federation",
            "Russian Federation",
            "Russian Federation",
            "Russian Federation"
           ],
           "yaxis": "y"
          },
          {
           "alignmentgroup": "True",
           "bingroup": "y",
           "histfunc": "sum",
           "hovertemplate": "Location=%{y}<br>Period Label=S1-2019<br>sum of Median time in port (days)=%{x}<extra></extra>",
           "legendgroup": "Spain",
           "marker": {
            "color": "#FF6692",
            "pattern": {
             "shape": ""
            }
           },
           "name": "Spain",
           "offsetgroup": "Spain",
           "orientation": "h",
           "showlegend": true,
           "type": "histogram",
           "x": [
            0.8701,
            null,
            0.9,
            0.6552,
            1.1292,
            1.8226,
            null,
            0.9281,
            1.0215
           ],
           "xaxis": "x",
           "y": [
            "Spain",
            "Spain",
            "Spain",
            "Spain",
            "Spain",
            "Spain",
            "Spain",
            "Spain",
            "Spain"
           ],
           "yaxis": "y"
          },
          {
           "alignmentgroup": "True",
           "bingroup": "y",
           "histfunc": "sum",
           "hovertemplate": "Location=%{y}<br>Period Label=S1-2019<br>sum of Median time in port (days)=%{x}<extra></extra>",
           "legendgroup": "Sweden",
           "marker": {
            "color": "#B6E880",
            "pattern": {
             "shape": ""
            }
           },
           "name": "Sweden",
           "offsetgroup": "Sweden",
           "orientation": "h",
           "showlegend": true,
           "type": "histogram",
           "x": [
            0.7958,
            null,
            0.6799,
            0.6181,
            1.0681,
            0.3465,
            null,
            0.8531
           ],
           "xaxis": "x",
           "y": [
            "Sweden",
            "Sweden",
            "Sweden",
            "Sweden",
            "Sweden",
            "Sweden",
            "Sweden",
            "Sweden"
           ],
           "yaxis": "y"
          },
          {
           "alignmentgroup": "True",
           "bingroup": "y",
           "histfunc": "sum",
           "hovertemplate": "Location=%{y}<br>Period Label=S1-2019<br>sum of Median time in port (days)=%{x}<extra></extra>",
           "legendgroup": "Türkiye",
           "marker": {
            "color": "#FF97FF",
            "pattern": {
             "shape": ""
            }
           },
           "name": "Türkiye",
           "offsetgroup": "Türkiye",
           "orientation": "h",
           "showlegend": true,
           "type": "histogram",
           "x": [
            1.1681,
            null,
            1.1299,
            0.6382,
            1.475,
            3.7306,
            null,
            1.2736,
            1.2792
           ],
           "xaxis": "x",
           "y": [
            "Türkiye",
            "Türkiye",
            "Türkiye",
            "Türkiye",
            "Türkiye",
            "Türkiye",
            "Türkiye",
            "Türkiye",
            "Türkiye"
           ],
           "yaxis": "y"
          },
          {
           "alignmentgroup": "True",
           "bingroup": "y",
           "histfunc": "sum",
           "hovertemplate": "Location=%{y}<br>Period Label=S1-2019<br>sum of Median time in port (days)=%{x}<extra></extra>",
           "legendgroup": "United States of America",
           "marker": {
            "color": "#FECB52",
            "pattern": {
             "shape": ""
            }
           },
           "name": "United States of America",
           "offsetgroup": "United States of America",
           "orientation": "h",
           "showlegend": true,
           "type": "histogram",
           "x": [
            1.4826,
            null,
            1.6799,
            1.0358,
            1.7927,
            2.1833,
            null,
            1.9358,
            1.3208
           ],
           "xaxis": "x",
           "y": [
            "United States of America",
            "United States of America",
            "United States of America",
            "United States of America",
            "United States of America",
            "United States of America",
            "United States of America",
            "United States of America",
            "United States of America"
           ],
           "yaxis": "y"
          },
          {
           "alignmentgroup": "True",
           "bingroup": "y",
           "histfunc": "sum",
           "hovertemplate": "Location=%{y}<br>Period Label=S1-2019<br>sum of Median time in port (days)=%{x}<extra></extra>",
           "legendgroup": "United Kingdom",
           "marker": {
            "color": "#636efa",
            "pattern": {
             "shape": ""
            }
           },
           "name": "United Kingdom",
           "offsetgroup": "United Kingdom",
           "orientation": "h",
           "showlegend": true,
           "type": "histogram",
           "x": [
            1.0799,
            null,
            1.0476,
            0.7396,
            1.4858,
            1.9139,
            null,
            1.0951,
            1.3556
           ],
           "xaxis": "x",
           "y": [
            "United Kingdom",
            "United Kingdom",
            "United Kingdom",
            "United Kingdom",
            "United Kingdom",
            "United Kingdom",
            "United Kingdom",
            "United Kingdom",
            "United Kingdom"
           ],
           "yaxis": "y"
          }
         ],
         "name": "S1-2019"
        },
        {
         "data": [
          {
           "alignmentgroup": "True",
           "bingroup": "y",
           "histfunc": "sum",
           "hovertemplate": "Location=%{y}<br>Period Label=S2-2019<br>sum of Median time in port (days)=%{x}<extra></extra>",
           "legendgroup": "World",
           "marker": {
            "color": "#636efa",
            "pattern": {
             "shape": ""
            }
           },
           "name": "World",
           "offsetgroup": "World",
           "orientation": "h",
           "showlegend": true,
           "type": "histogram",
           "x": [
            0.9667,
            null,
            0.9389,
            0.691,
            1.1014,
            2.0014,
            null,
            1.0063,
            1.109
           ],
           "xaxis": "x",
           "y": [
            "World",
            "World",
            "World",
            "World",
            "World",
            "World",
            "World",
            "World",
            "World"
           ],
           "yaxis": "y"
          },
          {
           "alignmentgroup": "True",
           "bingroup": "y",
           "histfunc": "sum",
           "hovertemplate": "Location=%{y}<br>Period Label=S2-2019<br>sum of Median time in port (days)=%{x}<extra></extra>",
           "legendgroup": "Australia",
           "marker": {
            "color": "#EF553B",
            "pattern": {
             "shape": ""
            }
           },
           "name": "Australia",
           "offsetgroup": "Australia",
           "orientation": "h",
           "showlegend": true,
           "type": "histogram",
           "x": [
            1.4583,
            null,
            1.3465,
            1.2389,
            1.65,
            1.6021,
            null,
            0.9344,
            1.2337
           ],
           "xaxis": "x",
           "y": [
            "Australia",
            "Australia",
            "Australia",
            "Australia",
            "Australia",
            "Australia",
            "Australia",
            "Australia",
            "Australia"
           ],
           "yaxis": "y"
          },
          {
           "alignmentgroup": "True",
           "bingroup": "y",
           "histfunc": "sum",
           "hovertemplate": "Location=%{y}<br>Period Label=S2-2019<br>sum of Median time in port (days)=%{x}<extra></extra>",
           "legendgroup": "Canada",
           "marker": {
            "color": "#00cc96",
            "pattern": {
             "shape": ""
            }
           },
           "name": "Canada",
           "offsetgroup": "Canada",
           "orientation": "h",
           "showlegend": true,
           "type": "histogram",
           "x": [
            0.6528,
            null,
            1.0434,
            1.467,
            0.7288,
            0.2201,
            null,
            1.5903
           ],
           "xaxis": "x",
           "y": [
            "Canada",
            "Canada",
            "Canada",
            "Canada",
            "Canada",
            "Canada",
            "Canada",
            "Canada"
           ],
           "yaxis": "y"
          },
          {
           "alignmentgroup": "True",
           "bingroup": "y",
           "histfunc": "sum",
           "hovertemplate": "Location=%{y}<br>Period Label=S2-2019<br>sum of Median time in port (days)=%{x}<extra></extra>",
           "legendgroup": "China",
           "marker": {
            "color": "#ab63fa",
            "pattern": {
             "shape": ""
            }
           },
           "name": "China",
           "offsetgroup": "China",
           "orientation": "h",
           "showlegend": true,
           "type": "histogram",
           "x": [
            1.0313,
            null,
            1.0646,
            0.5958,
            1.1667,
            2.0319,
            null,
            0.975,
            1.1844
           ],
           "xaxis": "x",
           "y": [
            "China",
            "China",
            "China",
            "China",
            "China",
            "China",
            "China",
            "China",
            "China"
           ],
           "yaxis": "y"
          },
          {
           "alignmentgroup": "True",
           "bingroup": "y",
           "histfunc": "sum",
           "hovertemplate": "Location=%{y}<br>Period Label=S2-2019<br>sum of Median time in port (days)=%{x}<extra></extra>",
           "legendgroup": "Croatia",
           "marker": {
            "color": "#FFA15A",
            "pattern": {
             "shape": ""
            }
           },
           "name": "Croatia",
           "offsetgroup": "Croatia",
           "orientation": "h",
           "showlegend": true,
           "type": "histogram",
           "x": [
            1.2347,
            null,
            1.0708,
            0.6313,
            2.8438,
            2.3465
           ],
           "xaxis": "x",
           "y": [
            "Croatia",
            "Croatia",
            "Croatia",
            "Croatia",
            "Croatia",
            "Croatia"
           ],
           "yaxis": "y"
          },
          {
           "alignmentgroup": "True",
           "bingroup": "y",
           "histfunc": "sum",
           "hovertemplate": "Location=%{y}<br>Period Label=S2-2019<br>sum of Median time in port (days)=%{x}<extra></extra>",
           "legendgroup": "Denmark",
           "marker": {
            "color": "#19d3f3",
            "pattern": {
             "shape": ""
            }
           },
           "name": "Denmark",
           "offsetgroup": "Denmark",
           "orientation": "h",
           "showlegend": true,
           "type": "histogram",
           "x": [
            0.7434,
            null,
            0.6896,
            0.491,
            0.8688,
            0.8604,
            null,
            1.0653
           ],
           "xaxis": "x",
           "y": [
            "Denmark",
            "Denmark",
            "Denmark",
            "Denmark",
            "Denmark",
            "Denmark",
            "Denmark",
            "Denmark"
           ],
           "yaxis": "y"
          },
          {
           "alignmentgroup": "True",
           "bingroup": "y",
           "histfunc": "sum",
           "hovertemplate": "Location=%{y}<br>Period Label=S2-2019<br>sum of Median time in port (days)=%{x}<extra></extra>",
           "legendgroup": "France",
           "marker": {
            "color": "#FF6692",
            "pattern": {
             "shape": ""
            }
           },
           "name": "France",
           "offsetgroup": "France",
           "orientation": "h",
           "showlegend": true,
           "type": "histogram",
           "x": [
            1.1243,
            null,
            1.0403,
            0.7347,
            1.5962,
            3.2503,
            null,
            1.1288,
            1.1736
           ],
           "xaxis": "x",
           "y": [
            "France",
            "France",
            "France",
            "France",
            "France",
            "France",
            "France",
            "France",
            "France"
           ],
           "yaxis": "y"
          },
          {
           "alignmentgroup": "True",
           "bingroup": "y",
           "histfunc": "sum",
           "hovertemplate": "Location=%{y}<br>Period Label=S2-2019<br>sum of Median time in port (days)=%{x}<extra></extra>",
           "legendgroup": "Germany",
           "marker": {
            "color": "#B6E880",
            "pattern": {
             "shape": ""
            }
           },
           "name": "Germany",
           "offsetgroup": "Germany",
           "orientation": "h",
           "showlegend": true,
           "type": "histogram",
           "x": [
            0.475,
            null,
            0.3625,
            0.7285,
            0.3271,
            2.0396,
            null,
            0.6528
           ],
           "xaxis": "x",
           "y": [
            "Germany",
            "Germany",
            "Germany",
            "Germany",
            "Germany",
            "Germany",
            "Germany",
            "Germany"
           ],
           "yaxis": "y"
          },
          {
           "alignmentgroup": "True",
           "bingroup": "y",
           "histfunc": "sum",
           "hovertemplate": "Location=%{y}<br>Period Label=S2-2019<br>sum of Median time in port (days)=%{x}<extra></extra>",
           "legendgroup": "Greece",
           "marker": {
            "color": "#FF97FF",
            "pattern": {
             "shape": ""
            }
           },
           "name": "Greece",
           "offsetgroup": "Greece",
           "orientation": "h",
           "showlegend": true,
           "type": "histogram",
           "x": [
            0.7288,
            null,
            0.5201,
            1.0229,
            1.1365,
            0.2771,
            null,
            0.9361,
            1.0875
           ],
           "xaxis": "x",
           "y": [
            "Greece",
            "Greece",
            "Greece",
            "Greece",
            "Greece",
            "Greece",
            "Greece",
            "Greece",
            "Greece"
           ],
           "yaxis": "y"
          },
          {
           "alignmentgroup": "True",
           "bingroup": "y",
           "histfunc": "sum",
           "hovertemplate": "Location=%{y}<br>Period Label=S2-2019<br>sum of Median time in port (days)=%{x}<extra></extra>",
           "legendgroup": "Indonesia",
           "marker": {
            "color": "#FECB52",
            "pattern": {
             "shape": ""
            }
           },
           "name": "Indonesia",
           "offsetgroup": "Indonesia",
           "orientation": "h",
           "showlegend": true,
           "type": "histogram",
           "x": [
            1.2653,
            null,
            1.1993,
            1.0368,
            1.2844,
            2.849,
            null,
            1.1278,
            1.3785
           ],
           "xaxis": "x",
           "y": [
            "Indonesia",
            "Indonesia",
            "Indonesia",
            "Indonesia",
            "Indonesia",
            "Indonesia",
            "Indonesia",
            "Indonesia",
            "Indonesia"
           ],
           "yaxis": "y"
          },
          {
           "alignmentgroup": "True",
           "bingroup": "y",
           "histfunc": "sum",
           "hovertemplate": "Location=%{y}<br>Period Label=S2-2019<br>sum of Median time in port (days)=%{x}<extra></extra>",
           "legendgroup": "Italy",
           "marker": {
            "color": "#636efa",
            "pattern": {
             "shape": ""
            }
           },
           "name": "Italy",
           "offsetgroup": "Italy",
           "orientation": "h",
           "showlegend": true,
           "type": "histogram",
           "x": [
            1.2875,
            null,
            1.2389,
            0.924,
            2.0882,
            3.5903,
            null,
            1.5319
           ],
           "xaxis": "x",
           "y": [
            "Italy",
            "Italy",
            "Italy",
            "Italy",
            "Italy",
            "Italy",
            "Italy",
            "Italy"
           ],
           "yaxis": "y"
          },
          {
           "alignmentgroup": "True",
           "bingroup": "y",
           "histfunc": "sum",
           "hovertemplate": "Location=%{y}<br>Period Label=S2-2019<br>sum of Median time in port (days)=%{x}<extra></extra>",
           "legendgroup": "Japan",
           "marker": {
            "color": "#EF553B",
            "pattern": {
             "shape": ""
            }
           },
           "name": "Japan",
           "offsetgroup": "Japan",
           "orientation": "h",
           "showlegend": true,
           "type": "histogram",
           "x": [
            0.4049,
            null,
            0.3083,
            0.3444,
            1.1229,
            0.7931,
            null,
            0.3333,
            0.9986
           ],
           "xaxis": "x",
           "y": [
            "Japan",
            "Japan",
            "Japan",
            "Japan",
            "Japan",
            "Japan",
            "Japan",
            "Japan",
            "Japan"
           ],
           "yaxis": "y"
          },
          {
           "alignmentgroup": "True",
           "bingroup": "y",
           "histfunc": "sum",
           "hovertemplate": "Location=%{y}<br>Period Label=S2-2019<br>sum of Median time in port (days)=%{x}<extra></extra>",
           "legendgroup": "Korea, Republic of",
           "marker": {
            "color": "#00cc96",
            "pattern": {
             "shape": ""
            }
           },
           "name": "Korea, Republic of",
           "offsetgroup": "Korea, Republic of",
           "orientation": "h",
           "showlegend": true,
           "type": "histogram",
           "x": [
            0.8042,
            null,
            0.7528,
            0.5903,
            1.159,
            2.1132,
            null,
            0.7708,
            1.0333
           ],
           "xaxis": "x",
           "y": [
            "Korea, Republic of",
            "Korea, Republic of",
            "Korea, Republic of",
            "Korea, Republic of",
            "Korea, Republic of",
            "Korea, Republic of",
            "Korea, Republic of",
            "Korea, Republic of",
            "Korea, Republic of"
           ],
           "yaxis": "y"
          },
          {
           "alignmentgroup": "True",
           "bingroup": "y",
           "histfunc": "sum",
           "hovertemplate": "Location=%{y}<br>Period Label=S2-2019<br>sum of Median time in port (days)=%{x}<extra></extra>",
           "legendgroup": "Netherlands",
           "marker": {
            "color": "#ab63fa",
            "pattern": {
             "shape": ""
            }
           },
           "name": "Netherlands",
           "offsetgroup": "Netherlands",
           "orientation": "h",
           "showlegend": true,
           "type": "histogram",
           "x": [
            0.5799,
            null,
            0.5188,
            0.8118,
            0.4271,
            0.6205,
            null,
            0.9063,
            1.0667
           ],
           "xaxis": "x",
           "y": [
            "Netherlands",
            "Netherlands",
            "Netherlands",
            "Netherlands",
            "Netherlands",
            "Netherlands",
            "Netherlands",
            "Netherlands",
            "Netherlands"
           ],
           "yaxis": "y"
          },
          {
           "alignmentgroup": "True",
           "bingroup": "y",
           "histfunc": "sum",
           "hovertemplate": "Location=%{y}<br>Period Label=S2-2019<br>sum of Median time in port (days)=%{x}<extra></extra>",
           "legendgroup": "Norway",
           "marker": {
            "color": "#FFA15A",
            "pattern": {
             "shape": ""
            }
           },
           "name": "Norway",
           "offsetgroup": "Norway",
           "orientation": "h",
           "showlegend": true,
           "type": "histogram",
           "x": [
            0.4285,
            null,
            0.6014,
            0.3441,
            0.3389,
            0.7979,
            null,
            0.7358,
            0.3014
           ],
           "xaxis": "x",
           "y": [
            "Norway",
            "Norway",
            "Norway",
            "Norway",
            "Norway",
            "Norway",
            "Norway",
            "Norway",
            "Norway"
           ],
           "yaxis": "y"
          },
          {
           "alignmentgroup": "True",
           "bingroup": "y",
           "histfunc": "sum",
           "hovertemplate": "Location=%{y}<br>Period Label=S2-2019<br>sum of Median time in port (days)=%{x}<extra></extra>",
           "legendgroup": "Russian Federation",
           "marker": {
            "color": "#19d3f3",
            "pattern": {
             "shape": ""
            }
           },
           "name": "Russian Federation",
           "offsetgroup": "Russian Federation",
           "orientation": "h",
           "showlegend": true,
           "type": "histogram",
           "x": [
            1.2667,
            null,
            0.9861,
            1.2927,
            1.5243,
            2.4194,
            null,
            1.2292,
            1.0431
           ],
           "xaxis": "x",
           "y": [
            "Russian Federation",
            "Russian Federation",
            "Russian Federation",
            "Russian Federation",
            "Russian Federation",
            "Russian Federation",
            "Russian Federation",
            "Russian Federation",
            "Russian Federation"
           ],
           "yaxis": "y"
          },
          {
           "alignmentgroup": "True",
           "bingroup": "y",
           "histfunc": "sum",
           "hovertemplate": "Location=%{y}<br>Period Label=S2-2019<br>sum of Median time in port (days)=%{x}<extra></extra>",
           "legendgroup": "Spain",
           "marker": {
            "color": "#FF6692",
            "pattern": {
             "shape": ""
            }
           },
           "name": "Spain",
           "offsetgroup": "Spain",
           "orientation": "h",
           "showlegend": true,
           "type": "histogram",
           "x": [
            0.8875,
            null,
            0.8944,
            0.6493,
            1.2111,
            2.0184,
            null,
            0.9792,
            1.0458
           ],
           "xaxis": "x",
           "y": [
            "Spain",
            "Spain",
            "Spain",
            "Spain",
            "Spain",
            "Spain",
            "Spain",
            "Spain",
            "Spain"
           ],
           "yaxis": "y"
          },
          {
           "alignmentgroup": "True",
           "bingroup": "y",
           "histfunc": "sum",
           "hovertemplate": "Location=%{y}<br>Period Label=S2-2019<br>sum of Median time in port (days)=%{x}<extra></extra>",
           "legendgroup": "Sweden",
           "marker": {
            "color": "#B6E880",
            "pattern": {
             "shape": ""
            }
           },
           "name": "Sweden",
           "offsetgroup": "Sweden",
           "orientation": "h",
           "showlegend": true,
           "type": "histogram",
           "x": [
            0.8035,
            null,
            0.6844,
            0.6465,
            1.0524,
            0.4885,
            null,
            0.8549
           ],
           "xaxis": "x",
           "y": [
            "Sweden",
            "Sweden",
            "Sweden",
            "Sweden",
            "Sweden",
            "Sweden",
            "Sweden",
            "Sweden"
           ],
           "yaxis": "y"
          },
          {
           "alignmentgroup": "True",
           "bingroup": "y",
           "histfunc": "sum",
           "hovertemplate": "Location=%{y}<br>Period Label=S2-2019<br>sum of Median time in port (days)=%{x}<extra></extra>",
           "legendgroup": "Türkiye",
           "marker": {
            "color": "#FF97FF",
            "pattern": {
             "shape": ""
            }
           },
           "name": "Türkiye",
           "offsetgroup": "Türkiye",
           "orientation": "h",
           "showlegend": true,
           "type": "histogram",
           "x": [
            1.1882,
            null,
            1.1854,
            0.6271,
            1.475,
            3.4215,
            null,
            1.3267,
            1.2451
           ],
           "xaxis": "x",
           "y": [
            "Türkiye",
            "Türkiye",
            "Türkiye",
            "Türkiye",
            "Türkiye",
            "Türkiye",
            "Türkiye",
            "Türkiye",
            "Türkiye"
           ],
           "yaxis": "y"
          },
          {
           "alignmentgroup": "True",
           "bingroup": "y",
           "histfunc": "sum",
           "hovertemplate": "Location=%{y}<br>Period Label=S2-2019<br>sum of Median time in port (days)=%{x}<extra></extra>",
           "legendgroup": "United States of America",
           "marker": {
            "color": "#FECB52",
            "pattern": {
             "shape": ""
            }
           },
           "name": "United States of America",
           "offsetgroup": "United States of America",
           "orientation": "h",
           "showlegend": true,
           "type": "histogram",
           "x": [
            1.3882,
            null,
            1.6222,
            1.0125,
            1.8753,
            1.5382,
            null,
            1.9799,
            1.2698
           ],
           "xaxis": "x",
           "y": [
            "United States of America",
            "United States of America",
            "United States of America",
            "United States of America",
            "United States of America",
            "United States of America",
            "United States of America",
            "United States of America",
            "United States of America"
           ],
           "yaxis": "y"
          },
          {
           "alignmentgroup": "True",
           "bingroup": "y",
           "histfunc": "sum",
           "hovertemplate": "Location=%{y}<br>Period Label=S2-2019<br>sum of Median time in port (days)=%{x}<extra></extra>",
           "legendgroup": "United Kingdom",
           "marker": {
            "color": "#636efa",
            "pattern": {
             "shape": ""
            }
           },
           "name": "United Kingdom",
           "offsetgroup": "United Kingdom",
           "orientation": "h",
           "showlegend": true,
           "type": "histogram",
           "x": [
            1.0764,
            null,
            1.0354,
            0.7142,
            1.4889,
            2.367,
            null,
            1.15,
            1.2198
           ],
           "xaxis": "x",
           "y": [
            "United Kingdom",
            "United Kingdom",
            "United Kingdom",
            "United Kingdom",
            "United Kingdom",
            "United Kingdom",
            "United Kingdom",
            "United Kingdom",
            "United Kingdom"
           ],
           "yaxis": "y"
          }
         ],
         "name": "S2-2019"
        },
        {
         "data": [
          {
           "alignmentgroup": "True",
           "bingroup": "y",
           "histfunc": "sum",
           "hovertemplate": "Location=%{y}<br>Period Label=S1-2020<br>sum of Median time in port (days)=%{x}<extra></extra>",
           "legendgroup": "World",
           "marker": {
            "color": "#636efa",
            "pattern": {
             "shape": ""
            }
           },
           "name": "World",
           "offsetgroup": "World",
           "orientation": "h",
           "showlegend": true,
           "type": "histogram",
           "x": [
            0.9944,
            null,
            0.9701,
            0.6861,
            1.1757,
            2.0868,
            null,
            1.0389,
            1.1111
           ],
           "xaxis": "x",
           "y": [
            "World",
            "World",
            "World",
            "World",
            "World",
            "World",
            "World",
            "World",
            "World"
           ],
           "yaxis": "y"
          },
          {
           "alignmentgroup": "True",
           "bingroup": "y",
           "histfunc": "sum",
           "hovertemplate": "Location=%{y}<br>Period Label=S1-2020<br>sum of Median time in port (days)=%{x}<extra></extra>",
           "legendgroup": "Australia",
           "marker": {
            "color": "#EF553B",
            "pattern": {
             "shape": ""
            }
           },
           "name": "Australia",
           "offsetgroup": "Australia",
           "orientation": "h",
           "showlegend": true,
           "type": "histogram",
           "x": [
            1.4889,
            null,
            1.2563,
            1.3083,
            2.226,
            1.6215,
            null,
            0.9323,
            1.1851
           ],
           "xaxis": "x",
           "y": [
            "Australia",
            "Australia",
            "Australia",
            "Australia",
            "Australia",
            "Australia",
            "Australia",
            "Australia",
            "Australia"
           ],
           "yaxis": "y"
          },
          {
           "alignmentgroup": "True",
           "bingroup": "y",
           "histfunc": "sum",
           "hovertemplate": "Location=%{y}<br>Period Label=S1-2020<br>sum of Median time in port (days)=%{x}<extra></extra>",
           "legendgroup": "Canada",
           "marker": {
            "color": "#00cc96",
            "pattern": {
             "shape": ""
            }
           },
           "name": "Canada",
           "offsetgroup": "Canada",
           "orientation": "h",
           "showlegend": true,
           "type": "histogram",
           "x": [
            0.9944,
            null,
            1.0917,
            1.6229,
            1.0125,
            0.5833,
            null,
            1.4882
           ],
           "xaxis": "x",
           "y": [
            "Canada",
            "Canada",
            "Canada",
            "Canada",
            "Canada",
            "Canada",
            "Canada",
            "Canada"
           ],
           "yaxis": "y"
          },
          {
           "alignmentgroup": "True",
           "bingroup": "y",
           "histfunc": "sum",
           "hovertemplate": "Location=%{y}<br>Period Label=S1-2020<br>sum of Median time in port (days)=%{x}<extra></extra>",
           "legendgroup": "China",
           "marker": {
            "color": "#ab63fa",
            "pattern": {
             "shape": ""
            }
           },
           "name": "China",
           "offsetgroup": "China",
           "orientation": "h",
           "showlegend": true,
           "type": "histogram",
           "x": [
            1.0556,
            null,
            1.1132,
            0.5951,
            1.2507,
            2.0215,
            null,
            1.0083,
            1.1778
           ],
           "xaxis": "x",
           "y": [
            "China",
            "China",
            "China",
            "China",
            "China",
            "China",
            "China",
            "China",
            "China"
           ],
           "yaxis": "y"
          },
          {
           "alignmentgroup": "True",
           "bingroup": "y",
           "histfunc": "sum",
           "hovertemplate": "Location=%{y}<br>Period Label=S1-2020<br>sum of Median time in port (days)=%{x}<extra></extra>",
           "legendgroup": "Croatia",
           "marker": {
            "color": "#FFA15A",
            "pattern": {
             "shape": ""
            }
           },
           "name": "Croatia",
           "offsetgroup": "Croatia",
           "orientation": "h",
           "showlegend": true,
           "type": "histogram",
           "x": [
            1.1111,
            null,
            0.9476,
            0.6507,
            2.1979,
            1.7819
           ],
           "xaxis": "x",
           "y": [
            "Croatia",
            "Croatia",
            "Croatia",
            "Croatia",
            "Croatia",
            "Croatia"
           ],
           "yaxis": "y"
          },
          {
           "alignmentgroup": "True",
           "bingroup": "y",
           "histfunc": "sum",
           "hovertemplate": "Location=%{y}<br>Period Label=S1-2020<br>sum of Median time in port (days)=%{x}<extra></extra>",
           "legendgroup": "Denmark",
           "marker": {
            "color": "#19d3f3",
            "pattern": {
             "shape": ""
            }
           },
           "name": "Denmark",
           "offsetgroup": "Denmark",
           "orientation": "h",
           "showlegend": true,
           "type": "histogram",
           "x": [
            0.7868,
            null,
            0.7076,
            0.4458,
            0.9441,
            0.858,
            null,
            1.0302
           ],
           "xaxis": "x",
           "y": [
            "Denmark",
            "Denmark",
            "Denmark",
            "Denmark",
            "Denmark",
            "Denmark",
            "Denmark",
            "Denmark"
           ],
           "yaxis": "y"
          },
          {
           "alignmentgroup": "True",
           "bingroup": "y",
           "histfunc": "sum",
           "hovertemplate": "Location=%{y}<br>Period Label=S1-2020<br>sum of Median time in port (days)=%{x}<extra></extra>",
           "legendgroup": "France",
           "marker": {
            "color": "#FF6692",
            "pattern": {
             "shape": ""
            }
           },
           "name": "France",
           "offsetgroup": "France",
           "orientation": "h",
           "showlegend": true,
           "type": "histogram",
           "x": [
            1.2042,
            null,
            1.0958,
            0.8062,
            1.7167,
            3.1076,
            null,
            1.1017,
            1.1625
           ],
           "xaxis": "x",
           "y": [
            "France",
            "France",
            "France",
            "France",
            "France",
            "France",
            "France",
            "France",
            "France"
           ],
           "yaxis": "y"
          },
          {
           "alignmentgroup": "True",
           "bingroup": "y",
           "histfunc": "sum",
           "hovertemplate": "Location=%{y}<br>Period Label=S1-2020<br>sum of Median time in port (days)=%{x}<extra></extra>",
           "legendgroup": "Germany",
           "marker": {
            "color": "#B6E880",
            "pattern": {
             "shape": ""
            }
           },
           "name": "Germany",
           "offsetgroup": "Germany",
           "orientation": "h",
           "showlegend": true,
           "type": "histogram",
           "x": [
            0.8205,
            null,
            0.5208,
            0.9667,
            1.0104,
            2.6139,
            null,
            0.8333
           ],
           "xaxis": "x",
           "y": [
            "Germany",
            "Germany",
            "Germany",
            "Germany",
            "Germany",
            "Germany",
            "Germany",
            "Germany"
           ],
           "yaxis": "y"
          },
          {
           "alignmentgroup": "True",
           "bingroup": "y",
           "histfunc": "sum",
           "hovertemplate": "Location=%{y}<br>Period Label=S1-2020<br>sum of Median time in port (days)=%{x}<extra></extra>",
           "legendgroup": "Greece",
           "marker": {
            "color": "#FF97FF",
            "pattern": {
             "shape": ""
            }
           },
           "name": "Greece",
           "offsetgroup": "Greece",
           "orientation": "h",
           "showlegend": true,
           "type": "histogram",
           "x": [
            0.849,
            null,
            0.6354,
            0.9861,
            1.2424,
            0.4056,
            null,
            0.9722,
            1.2007
           ],
           "xaxis": "x",
           "y": [
            "Greece",
            "Greece",
            "Greece",
            "Greece",
            "Greece",
            "Greece",
            "Greece",
            "Greece",
            "Greece"
           ],
           "yaxis": "y"
          },
          {
           "alignmentgroup": "True",
           "bingroup": "y",
           "histfunc": "sum",
           "hovertemplate": "Location=%{y}<br>Period Label=S1-2020<br>sum of Median time in port (days)=%{x}<extra></extra>",
           "legendgroup": "Indonesia",
           "marker": {
            "color": "#FECB52",
            "pattern": {
             "shape": ""
            }
           },
           "name": "Indonesia",
           "offsetgroup": "Indonesia",
           "orientation": "h",
           "showlegend": true,
           "type": "histogram",
           "x": [
            1.2271,
            null,
            1.1972,
            0.9799,
            1.2073,
            3.2125,
            null,
            1.0788,
            1.4003
           ],
           "xaxis": "x",
           "y": [
            "Indonesia",
            "Indonesia",
            "Indonesia",
            "Indonesia",
            "Indonesia",
            "Indonesia",
            "Indonesia",
            "Indonesia",
            "Indonesia"
           ],
           "yaxis": "y"
          },
          {
           "alignmentgroup": "True",
           "bingroup": "y",
           "histfunc": "sum",
           "hovertemplate": "Location=%{y}<br>Period Label=S1-2020<br>sum of Median time in port (days)=%{x}<extra></extra>",
           "legendgroup": "Italy",
           "marker": {
            "color": "#636efa",
            "pattern": {
             "shape": ""
            }
           },
           "name": "Italy",
           "offsetgroup": "Italy",
           "orientation": "h",
           "showlegend": true,
           "type": "histogram",
           "x": [
            1.3111,
            null,
            1.2986,
            0.916,
            2.0542,
            3.6125,
            null,
            1.5465
           ],
           "xaxis": "x",
           "y": [
            "Italy",
            "Italy",
            "Italy",
            "Italy",
            "Italy",
            "Italy",
            "Italy",
            "Italy"
           ],
           "yaxis": "y"
          },
          {
           "alignmentgroup": "True",
           "bingroup": "y",
           "histfunc": "sum",
           "hovertemplate": "Location=%{y}<br>Period Label=S1-2020<br>sum of Median time in port (days)=%{x}<extra></extra>",
           "legendgroup": "Japan",
           "marker": {
            "color": "#EF553B",
            "pattern": {
             "shape": ""
            }
           },
           "name": "Japan",
           "offsetgroup": "Japan",
           "orientation": "h",
           "showlegend": true,
           "type": "histogram",
           "x": [
            0.3993,
            null,
            0.3063,
            0.3354,
            1.1708,
            0.8396,
            null,
            0.3403,
            0.9958
           ],
           "xaxis": "x",
           "y": [
            "Japan",
            "Japan",
            "Japan",
            "Japan",
            "Japan",
            "Japan",
            "Japan",
            "Japan",
            "Japan"
           ],
           "yaxis": "y"
          },
          {
           "alignmentgroup": "True",
           "bingroup": "y",
           "histfunc": "sum",
           "hovertemplate": "Location=%{y}<br>Period Label=S1-2020<br>sum of Median time in port (days)=%{x}<extra></extra>",
           "legendgroup": "Korea, Republic of",
           "marker": {
            "color": "#00cc96",
            "pattern": {
             "shape": ""
            }
           },
           "name": "Korea, Republic of",
           "offsetgroup": "Korea, Republic of",
           "orientation": "h",
           "showlegend": true,
           "type": "histogram",
           "x": [
            0.8431,
            null,
            0.8056,
            0.6153,
            1.2375,
            2.0333,
            null,
            0.8674,
            1.025
           ],
           "xaxis": "x",
           "y": [
            "Korea, Republic of",
            "Korea, Republic of",
            "Korea, Republic of",
            "Korea, Republic of",
            "Korea, Republic of",
            "Korea, Republic of",
            "Korea, Republic of",
            "Korea, Republic of",
            "Korea, Republic of"
           ],
           "yaxis": "y"
          },
          {
           "alignmentgroup": "True",
           "bingroup": "y",
           "histfunc": "sum",
           "hovertemplate": "Location=%{y}<br>Period Label=S1-2020<br>sum of Median time in port (days)=%{x}<extra></extra>",
           "legendgroup": "Netherlands",
           "marker": {
            "color": "#ab63fa",
            "pattern": {
             "shape": ""
            }
           },
           "name": "Netherlands",
           "offsetgroup": "Netherlands",
           "orientation": "h",
           "showlegend": true,
           "type": "histogram",
           "x": [
            0.5889,
            null,
            0.5472,
            0.7917,
            0.4,
            0.2111,
            null,
            0.9757,
            1.0326
           ],
           "xaxis": "x",
           "y": [
            "Netherlands",
            "Netherlands",
            "Netherlands",
            "Netherlands",
            "Netherlands",
            "Netherlands",
            "Netherlands",
            "Netherlands",
            "Netherlands"
           ],
           "yaxis": "y"
          },
          {
           "alignmentgroup": "True",
           "bingroup": "y",
           "histfunc": "sum",
           "hovertemplate": "Location=%{y}<br>Period Label=S1-2020<br>sum of Median time in port (days)=%{x}<extra></extra>",
           "legendgroup": "Norway",
           "marker": {
            "color": "#FFA15A",
            "pattern": {
             "shape": ""
            }
           },
           "name": "Norway",
           "offsetgroup": "Norway",
           "orientation": "h",
           "showlegend": true,
           "type": "histogram",
           "x": [
            0.4028,
            null,
            0.6035,
            0.3295,
            0.3042,
            0.8472,
            null,
            0.7705,
            0.2576
           ],
           "xaxis": "x",
           "y": [
            "Norway",
            "Norway",
            "Norway",
            "Norway",
            "Norway",
            "Norway",
            "Norway",
            "Norway",
            "Norway"
           ],
           "yaxis": "y"
          },
          {
           "alignmentgroup": "True",
           "bingroup": "y",
           "histfunc": "sum",
           "hovertemplate": "Location=%{y}<br>Period Label=S1-2020<br>sum of Median time in port (days)=%{x}<extra></extra>",
           "legendgroup": "Russian Federation",
           "marker": {
            "color": "#19d3f3",
            "pattern": {
             "shape": ""
            }
           },
           "name": "Russian Federation",
           "offsetgroup": "Russian Federation",
           "orientation": "h",
           "showlegend": true,
           "type": "histogram",
           "x": [
            1.4424,
            null,
            1.1437,
            1.3253,
            1.7493,
            2.4722,
            null,
            1.3903,
            1.0688
           ],
           "xaxis": "x",
           "y": [
            "Russian Federation",
            "Russian Federation",
            "Russian Federation",
            "Russian Federation",
            "Russian Federation",
            "Russian Federation",
            "Russian Federation",
            "Russian Federation",
            "Russian Federation"
           ],
           "yaxis": "y"
          },
          {
           "alignmentgroup": "True",
           "bingroup": "y",
           "histfunc": "sum",
           "hovertemplate": "Location=%{y}<br>Period Label=S1-2020<br>sum of Median time in port (days)=%{x}<extra></extra>",
           "legendgroup": "Spain",
           "marker": {
            "color": "#FF6692",
            "pattern": {
             "shape": ""
            }
           },
           "name": "Spain",
           "offsetgroup": "Spain",
           "orientation": "h",
           "showlegend": true,
           "type": "histogram",
           "x": [
            0.9021,
            null,
            0.9007,
            0.6632,
            1.2389,
            1.8323,
            null,
            1.0097,
            1.0375
           ],
           "xaxis": "x",
           "y": [
            "Spain",
            "Spain",
            "Spain",
            "Spain",
            "Spain",
            "Spain",
            "Spain",
            "Spain",
            "Spain"
           ],
           "yaxis": "y"
          },
          {
           "alignmentgroup": "True",
           "bingroup": "y",
           "histfunc": "sum",
           "hovertemplate": "Location=%{y}<br>Period Label=S1-2020<br>sum of Median time in port (days)=%{x}<extra></extra>",
           "legendgroup": "Sweden",
           "marker": {
            "color": "#B6E880",
            "pattern": {
             "shape": ""
            }
           },
           "name": "Sweden",
           "offsetgroup": "Sweden",
           "orientation": "h",
           "showlegend": true,
           "type": "histogram",
           "x": [
            0.8087,
            null,
            0.6983,
            0.6361,
            1.0552,
            0.4979,
            null,
            0.849
           ],
           "xaxis": "x",
           "y": [
            "Sweden",
            "Sweden",
            "Sweden",
            "Sweden",
            "Sweden",
            "Sweden",
            "Sweden",
            "Sweden"
           ],
           "yaxis": "y"
          },
          {
           "alignmentgroup": "True",
           "bingroup": "y",
           "histfunc": "sum",
           "hovertemplate": "Location=%{y}<br>Period Label=S1-2020<br>sum of Median time in port (days)=%{x}<extra></extra>",
           "legendgroup": "Türkiye",
           "marker": {
            "color": "#FF97FF",
            "pattern": {
             "shape": ""
            }
           },
           "name": "Türkiye",
           "offsetgroup": "Türkiye",
           "orientation": "h",
           "showlegend": true,
           "type": "histogram",
           "x": [
            1.1858,
            null,
            1.1976,
            0.6056,
            1.5215,
            3.8139,
            null,
            1.2319,
            1.2951
           ],
           "xaxis": "x",
           "y": [
            "Türkiye",
            "Türkiye",
            "Türkiye",
            "Türkiye",
            "Türkiye",
            "Türkiye",
            "Türkiye",
            "Türkiye",
            "Türkiye"
           ],
           "yaxis": "y"
          },
          {
           "alignmentgroup": "True",
           "bingroup": "y",
           "histfunc": "sum",
           "hovertemplate": "Location=%{y}<br>Period Label=S1-2020<br>sum of Median time in port (days)=%{x}<extra></extra>",
           "legendgroup": "United States of America",
           "marker": {
            "color": "#FECB52",
            "pattern": {
             "shape": ""
            }
           },
           "name": "United States of America",
           "offsetgroup": "United States of America",
           "orientation": "h",
           "showlegend": true,
           "type": "histogram",
           "x": [
            1.4625,
            null,
            1.6444,
            1.0132,
            1.9313,
            2.1361,
            null,
            1.9736,
            1.2222
           ],
           "xaxis": "x",
           "y": [
            "United States of America",
            "United States of America",
            "United States of America",
            "United States of America",
            "United States of America",
            "United States of America",
            "United States of America",
            "United States of America",
            "United States of America"
           ],
           "yaxis": "y"
          },
          {
           "alignmentgroup": "True",
           "bingroup": "y",
           "histfunc": "sum",
           "hovertemplate": "Location=%{y}<br>Period Label=S1-2020<br>sum of Median time in port (days)=%{x}<extra></extra>",
           "legendgroup": "United Kingdom",
           "marker": {
            "color": "#636efa",
            "pattern": {
             "shape": ""
            }
           },
           "name": "United Kingdom",
           "offsetgroup": "United Kingdom",
           "orientation": "h",
           "showlegend": true,
           "type": "histogram",
           "x": [
            1.1014,
            null,
            1.0521,
            0.7083,
            1.5222,
            2.5,
            null,
            1.0698,
            1.3566
           ],
           "xaxis": "x",
           "y": [
            "United Kingdom",
            "United Kingdom",
            "United Kingdom",
            "United Kingdom",
            "United Kingdom",
            "United Kingdom",
            "United Kingdom",
            "United Kingdom",
            "United Kingdom"
           ],
           "yaxis": "y"
          }
         ],
         "name": "S1-2020"
        },
        {
         "data": [
          {
           "alignmentgroup": "True",
           "bingroup": "y",
           "histfunc": "sum",
           "hovertemplate": "Location=%{y}<br>Period Label=S2-2020<br>sum of Median time in port (days)=%{x}<extra></extra>",
           "legendgroup": "World",
           "marker": {
            "color": "#636efa",
            "pattern": {
             "shape": ""
            }
           },
           "name": "World",
           "offsetgroup": "World",
           "orientation": "h",
           "showlegend": true,
           "type": "histogram",
           "x": [
            1.0021,
            null,
            0.966,
            0.7257,
            1.1278,
            2.0465,
            null,
            1.0444,
            1.1281
           ],
           "xaxis": "x",
           "y": [
            "World",
            "World",
            "World",
            "World",
            "World",
            "World",
            "World",
            "World",
            "World"
           ],
           "yaxis": "y"
          },
          {
           "alignmentgroup": "True",
           "bingroup": "y",
           "histfunc": "sum",
           "hovertemplate": "Location=%{y}<br>Period Label=S2-2020<br>sum of Median time in port (days)=%{x}<extra></extra>",
           "legendgroup": "Australia",
           "marker": {
            "color": "#EF553B",
            "pattern": {
             "shape": ""
            }
           },
           "name": "Australia",
           "offsetgroup": "Australia",
           "orientation": "h",
           "showlegend": true,
           "type": "histogram",
           "x": [
            1.5229,
            null,
            1.2965,
            1.5545,
            1.8535,
            1.6028,
            null,
            0.8938,
            1.2038
           ],
           "xaxis": "x",
           "y": [
            "Australia",
            "Australia",
            "Australia",
            "Australia",
            "Australia",
            "Australia",
            "Australia",
            "Australia",
            "Australia"
           ],
           "yaxis": "y"
          },
          {
           "alignmentgroup": "True",
           "bingroup": "y",
           "histfunc": "sum",
           "hovertemplate": "Location=%{y}<br>Period Label=S2-2020<br>sum of Median time in port (days)=%{x}<extra></extra>",
           "legendgroup": "Canada",
           "marker": {
            "color": "#00cc96",
            "pattern": {
             "shape": ""
            }
           },
           "name": "Canada",
           "offsetgroup": "Canada",
           "orientation": "h",
           "showlegend": true,
           "type": "histogram",
           "x": [
            0.625,
            null,
            1.0806,
            1.8628,
            0.4313,
            0.2792,
            null,
            1.5288
           ],
           "xaxis": "x",
           "y": [
            "Canada",
            "Canada",
            "Canada",
            "Canada",
            "Canada",
            "Canada",
            "Canada",
            "Canada"
           ],
           "yaxis": "y"
          },
          {
           "alignmentgroup": "True",
           "bingroup": "y",
           "histfunc": "sum",
           "hovertemplate": "Location=%{y}<br>Period Label=S2-2020<br>sum of Median time in port (days)=%{x}<extra></extra>",
           "legendgroup": "China",
           "marker": {
            "color": "#ab63fa",
            "pattern": {
             "shape": ""
            }
           },
           "name": "China",
           "offsetgroup": "China",
           "orientation": "h",
           "showlegend": true,
           "type": "histogram",
           "x": [
            1.0958,
            null,
            1.1646,
            0.6479,
            1.2924,
            2.0146,
            null,
            1.0368,
            1.2007
           ],
           "xaxis": "x",
           "y": [
            "China",
            "China",
            "China",
            "China",
            "China",
            "China",
            "China",
            "China",
            "China"
           ],
           "yaxis": "y"
          },
          {
           "alignmentgroup": "True",
           "bingroup": "y",
           "histfunc": "sum",
           "hovertemplate": "Location=%{y}<br>Period Label=S2-2020<br>sum of Median time in port (days)=%{x}<extra></extra>",
           "legendgroup": "Croatia",
           "marker": {
            "color": "#FFA15A",
            "pattern": {
             "shape": ""
            }
           },
           "name": "Croatia",
           "offsetgroup": "Croatia",
           "orientation": "h",
           "showlegend": true,
           "type": "histogram",
           "x": [
            1.1118,
            null,
            0.8951,
            0.5719,
            2.3253,
            2.5951
           ],
           "xaxis": "x",
           "y": [
            "Croatia",
            "Croatia",
            "Croatia",
            "Croatia",
            "Croatia",
            "Croatia"
           ],
           "yaxis": "y"
          },
          {
           "alignmentgroup": "True",
           "bingroup": "y",
           "histfunc": "sum",
           "hovertemplate": "Location=%{y}<br>Period Label=S2-2020<br>sum of Median time in port (days)=%{x}<extra></extra>",
           "legendgroup": "Denmark",
           "marker": {
            "color": "#19d3f3",
            "pattern": {
             "shape": ""
            }
           },
           "name": "Denmark",
           "offsetgroup": "Denmark",
           "orientation": "h",
           "showlegend": true,
           "type": "histogram",
           "x": [
            0.7601,
            null,
            0.6837,
            0.4483,
            0.9118,
            0.8618,
            null,
            1.059
           ],
           "xaxis": "x",
           "y": [
            "Denmark",
            "Denmark",
            "Denmark",
            "Denmark",
            "Denmark",
            "Denmark",
            "Denmark",
            "Denmark"
           ],
           "yaxis": "y"
          },
          {
           "alignmentgroup": "True",
           "bingroup": "y",
           "histfunc": "sum",
           "hovertemplate": "Location=%{y}<br>Period Label=S2-2020<br>sum of Median time in port (days)=%{x}<extra></extra>",
           "legendgroup": "France",
           "marker": {
            "color": "#FF6692",
            "pattern": {
             "shape": ""
            }
           },
           "name": "France",
           "offsetgroup": "France",
           "orientation": "h",
           "showlegend": true,
           "type": "histogram",
           "x": [
            1.1035,
            null,
            1.0194,
            0.7615,
            1.5778,
            2.7743,
            null,
            1.1583,
            1.167
           ],
           "xaxis": "x",
           "y": [
            "France",
            "France",
            "France",
            "France",
            "France",
            "France",
            "France",
            "France",
            "France"
           ],
           "yaxis": "y"
          },
          {
           "alignmentgroup": "True",
           "bingroup": "y",
           "histfunc": "sum",
           "hovertemplate": "Location=%{y}<br>Period Label=S2-2020<br>sum of Median time in port (days)=%{x}<extra></extra>",
           "legendgroup": "Germany",
           "marker": {
            "color": "#B6E880",
            "pattern": {
             "shape": ""
            }
           },
           "name": "Germany",
           "offsetgroup": "Germany",
           "orientation": "h",
           "showlegend": true,
           "type": "histogram",
           "x": [
            0.7958,
            null,
            0.5049,
            1,
            0.9069,
            2.2295,
            null,
            0.8528
           ],
           "xaxis": "x",
           "y": [
            "Germany",
            "Germany",
            "Germany",
            "Germany",
            "Germany",
            "Germany",
            "Germany",
            "Germany"
           ],
           "yaxis": "y"
          },
          {
           "alignmentgroup": "True",
           "bingroup": "y",
           "histfunc": "sum",
           "hovertemplate": "Location=%{y}<br>Period Label=S2-2020<br>sum of Median time in port (days)=%{x}<extra></extra>",
           "legendgroup": "Greece",
           "marker": {
            "color": "#FF97FF",
            "pattern": {
             "shape": ""
            }
           },
           "name": "Greece",
           "offsetgroup": "Greece",
           "orientation": "h",
           "showlegend": true,
           "type": "histogram",
           "x": [
            0.7997,
            null,
            0.6007,
            0.9729,
            1.0951,
            0.4455,
            null,
            1.0007,
            1.2955
           ],
           "xaxis": "x",
           "y": [
            "Greece",
            "Greece",
            "Greece",
            "Greece",
            "Greece",
            "Greece",
            "Greece",
            "Greece",
            "Greece"
           ],
           "yaxis": "y"
          },
          {
           "alignmentgroup": "True",
           "bingroup": "y",
           "histfunc": "sum",
           "hovertemplate": "Location=%{y}<br>Period Label=S2-2020<br>sum of Median time in port (days)=%{x}<extra></extra>",
           "legendgroup": "Indonesia",
           "marker": {
            "color": "#FECB52",
            "pattern": {
             "shape": ""
            }
           },
           "name": "Indonesia",
           "offsetgroup": "Indonesia",
           "orientation": "h",
           "showlegend": true,
           "type": "histogram",
           "x": [
            1.2174,
            null,
            1.241,
            0.9958,
            1.0896,
            2.9785,
            null,
            1.1049,
            1.4076
           ],
           "xaxis": "x",
           "y": [
            "Indonesia",
            "Indonesia",
            "Indonesia",
            "Indonesia",
            "Indonesia",
            "Indonesia",
            "Indonesia",
            "Indonesia",
            "Indonesia"
           ],
           "yaxis": "y"
          },
          {
           "alignmentgroup": "True",
           "bingroup": "y",
           "histfunc": "sum",
           "hovertemplate": "Location=%{y}<br>Period Label=S2-2020<br>sum of Median time in port (days)=%{x}<extra></extra>",
           "legendgroup": "Italy",
           "marker": {
            "color": "#636efa",
            "pattern": {
             "shape": ""
            }
           },
           "name": "Italy",
           "offsetgroup": "Italy",
           "orientation": "h",
           "showlegend": true,
           "type": "histogram",
           "x": [
            1.3101,
            null,
            1.2729,
            0.9264,
            2.0264,
            3.4809,
            null,
            1.7056
           ],
           "xaxis": "x",
           "y": [
            "Italy",
            "Italy",
            "Italy",
            "Italy",
            "Italy",
            "Italy",
            "Italy",
            "Italy"
           ],
           "yaxis": "y"
          },
          {
           "alignmentgroup": "True",
           "bingroup": "y",
           "histfunc": "sum",
           "hovertemplate": "Location=%{y}<br>Period Label=S2-2020<br>sum of Median time in port (days)=%{x}<extra></extra>",
           "legendgroup": "Japan",
           "marker": {
            "color": "#EF553B",
            "pattern": {
             "shape": ""
            }
           },
           "name": "Japan",
           "offsetgroup": "Japan",
           "orientation": "h",
           "showlegend": true,
           "type": "histogram",
           "x": [
            0.3951,
            null,
            0.3118,
            0.3389,
            1.0986,
            0.8194,
            null,
            0.3319,
            1.0354
           ],
           "xaxis": "x",
           "y": [
            "Japan",
            "Japan",
            "Japan",
            "Japan",
            "Japan",
            "Japan",
            "Japan",
            "Japan",
            "Japan"
           ],
           "yaxis": "y"
          },
          {
           "alignmentgroup": "True",
           "bingroup": "y",
           "histfunc": "sum",
           "hovertemplate": "Location=%{y}<br>Period Label=S2-2020<br>sum of Median time in port (days)=%{x}<extra></extra>",
           "legendgroup": "Korea, Republic of",
           "marker": {
            "color": "#00cc96",
            "pattern": {
             "shape": ""
            }
           },
           "name": "Korea, Republic of",
           "offsetgroup": "Korea, Republic of",
           "orientation": "h",
           "showlegend": true,
           "type": "histogram",
           "x": [
            0.8722,
            null,
            0.7792,
            0.6667,
            1.1958,
            2.0135,
            null,
            0.841,
            1.0344
           ],
           "xaxis": "x",
           "y": [
            "Korea, Republic of",
            "Korea, Republic of",
            "Korea, Republic of",
            "Korea, Republic of",
            "Korea, Republic of",
            "Korea, Republic of",
            "Korea, Republic of",
            "Korea, Republic of",
            "Korea, Republic of"
           ],
           "yaxis": "y"
          },
          {
           "alignmentgroup": "True",
           "bingroup": "y",
           "histfunc": "sum",
           "hovertemplate": "Location=%{y}<br>Period Label=S2-2020<br>sum of Median time in port (days)=%{x}<extra></extra>",
           "legendgroup": "Netherlands",
           "marker": {
            "color": "#ab63fa",
            "pattern": {
             "shape": ""
            }
           },
           "name": "Netherlands",
           "offsetgroup": "Netherlands",
           "orientation": "h",
           "showlegend": true,
           "type": "histogram",
           "x": [
            0.5701,
            null,
            0.5042,
            0.8153,
            0.4097,
            1.0993,
            null,
            1.0347,
            1.0608
           ],
           "xaxis": "x",
           "y": [
            "Netherlands",
            "Netherlands",
            "Netherlands",
            "Netherlands",
            "Netherlands",
            "Netherlands",
            "Netherlands",
            "Netherlands",
            "Netherlands"
           ],
           "yaxis": "y"
          },
          {
           "alignmentgroup": "True",
           "bingroup": "y",
           "histfunc": "sum",
           "hovertemplate": "Location=%{y}<br>Period Label=S2-2020<br>sum of Median time in port (days)=%{x}<extra></extra>",
           "legendgroup": "Norway",
           "marker": {
            "color": "#FFA15A",
            "pattern": {
             "shape": ""
            }
           },
           "name": "Norway",
           "offsetgroup": "Norway",
           "orientation": "h",
           "showlegend": true,
           "type": "histogram",
           "x": [
            0.4028,
            null,
            0.6083,
            0.3319,
            0.3167,
            0.8017,
            null,
            0.7528,
            0.2892
           ],
           "xaxis": "x",
           "y": [
            "Norway",
            "Norway",
            "Norway",
            "Norway",
            "Norway",
            "Norway",
            "Norway",
            "Norway",
            "Norway"
           ],
           "yaxis": "y"
          },
          {
           "alignmentgroup": "True",
           "bingroup": "y",
           "histfunc": "sum",
           "hovertemplate": "Location=%{y}<br>Period Label=S2-2020<br>sum of Median time in port (days)=%{x}<extra></extra>",
           "legendgroup": "Russian Federation",
           "marker": {
            "color": "#19d3f3",
            "pattern": {
             "shape": ""
            }
           },
           "name": "Russian Federation",
           "offsetgroup": "Russian Federation",
           "orientation": "h",
           "showlegend": true,
           "type": "histogram",
           "x": [
            1.2806,
            null,
            0.9681,
            1.2924,
            1.4264,
            2.3566,
            null,
            1.3125,
            1.1437
           ],
           "xaxis": "x",
           "y": [
            "Russian Federation",
            "Russian Federation",
            "Russian Federation",
            "Russian Federation",
            "Russian Federation",
            "Russian Federation",
            "Russian Federation",
            "Russian Federation",
            "Russian Federation"
           ],
           "yaxis": "y"
          },
          {
           "alignmentgroup": "True",
           "bingroup": "y",
           "histfunc": "sum",
           "hovertemplate": "Location=%{y}<br>Period Label=S2-2020<br>sum of Median time in port (days)=%{x}<extra></extra>",
           "legendgroup": "Spain",
           "marker": {
            "color": "#FF6692",
            "pattern": {
             "shape": ""
            }
           },
           "name": "Spain",
           "offsetgroup": "Spain",
           "orientation": "h",
           "showlegend": true,
           "type": "histogram",
           "x": [
            0.9021,
            null,
            0.9118,
            0.6622,
            1.184,
            1.7528,
            null,
            1.0625,
            1.0604
           ],
           "xaxis": "x",
           "y": [
            "Spain",
            "Spain",
            "Spain",
            "Spain",
            "Spain",
            "Spain",
            "Spain",
            "Spain",
            "Spain"
           ],
           "yaxis": "y"
          },
          {
           "alignmentgroup": "True",
           "bingroup": "y",
           "histfunc": "sum",
           "hovertemplate": "Location=%{y}<br>Period Label=S2-2020<br>sum of Median time in port (days)=%{x}<extra></extra>",
           "legendgroup": "Sweden",
           "marker": {
            "color": "#B6E880",
            "pattern": {
             "shape": ""
            }
           },
           "name": "Sweden",
           "offsetgroup": "Sweden",
           "orientation": "h",
           "showlegend": true,
           "type": "histogram",
           "x": [
            0.7837,
            null,
            0.658,
            0.6056,
            1.0458,
            0.4743,
            null,
            0.8167,
            0.8219
           ],
           "xaxis": "x",
           "y": [
            "Sweden",
            "Sweden",
            "Sweden",
            "Sweden",
            "Sweden",
            "Sweden",
            "Sweden",
            "Sweden",
            "Sweden"
           ],
           "yaxis": "y"
          },
          {
           "alignmentgroup": "True",
           "bingroup": "y",
           "histfunc": "sum",
           "hovertemplate": "Location=%{y}<br>Period Label=S2-2020<br>sum of Median time in port (days)=%{x}<extra></extra>",
           "legendgroup": "Türkiye",
           "marker": {
            "color": "#FF97FF",
            "pattern": {
             "shape": ""
            }
           },
           "name": "Türkiye",
           "offsetgroup": "Türkiye",
           "orientation": "h",
           "showlegend": true,
           "type": "histogram",
           "x": [
            1.1965,
            null,
            1.2111,
            0.6215,
            1.5431,
            3.9743,
            null,
            1.4278,
            1.2729
           ],
           "xaxis": "x",
           "y": [
            "Türkiye",
            "Türkiye",
            "Türkiye",
            "Türkiye",
            "Türkiye",
            "Türkiye",
            "Türkiye",
            "Türkiye",
            "Türkiye"
           ],
           "yaxis": "y"
          },
          {
           "alignmentgroup": "True",
           "bingroup": "y",
           "histfunc": "sum",
           "hovertemplate": "Location=%{y}<br>Period Label=S2-2020<br>sum of Median time in port (days)=%{x}<extra></extra>",
           "legendgroup": "United States of America",
           "marker": {
            "color": "#FECB52",
            "pattern": {
             "shape": ""
            }
           },
           "name": "United States of America",
           "offsetgroup": "United States of America",
           "orientation": "h",
           "showlegend": true,
           "type": "histogram",
           "x": [
            1.4438,
            null,
            1.5872,
            1.0566,
            1.8792,
            1.8399,
            null,
            1.9694,
            1.2757
           ],
           "xaxis": "x",
           "y": [
            "United States of America",
            "United States of America",
            "United States of America",
            "United States of America",
            "United States of America",
            "United States of America",
            "United States of America",
            "United States of America",
            "United States of America"
           ],
           "yaxis": "y"
          },
          {
           "alignmentgroup": "True",
           "bingroup": "y",
           "histfunc": "sum",
           "hovertemplate": "Location=%{y}<br>Period Label=S2-2020<br>sum of Median time in port (days)=%{x}<extra></extra>",
           "legendgroup": "United Kingdom",
           "marker": {
            "color": "#636efa",
            "pattern": {
             "shape": ""
            }
           },
           "name": "United Kingdom",
           "offsetgroup": "United Kingdom",
           "orientation": "h",
           "showlegend": true,
           "type": "histogram",
           "x": [
            1.1125,
            null,
            1.034,
            0.7535,
            1.5378,
            3.0299,
            null,
            1.0535,
            1.2507
           ],
           "xaxis": "x",
           "y": [
            "United Kingdom",
            "United Kingdom",
            "United Kingdom",
            "United Kingdom",
            "United Kingdom",
            "United Kingdom",
            "United Kingdom",
            "United Kingdom",
            "United Kingdom"
           ],
           "yaxis": "y"
          }
         ],
         "name": "S2-2020"
        },
        {
         "data": [
          {
           "alignmentgroup": "True",
           "bingroup": "y",
           "histfunc": "sum",
           "hovertemplate": "Location=%{y}<br>Period Label=S1-2021<br>sum of Median time in port (days)=%{x}<extra></extra>",
           "legendgroup": "World",
           "marker": {
            "color": "#636efa",
            "pattern": {
             "shape": ""
            }
           },
           "name": "World",
           "offsetgroup": "World",
           "orientation": "h",
           "showlegend": true,
           "type": "histogram",
           "x": [
            1.041,
            null,
            0.984,
            0.775,
            1.1896,
            2.1299,
            null,
            1.0306,
            1.1285
           ],
           "xaxis": "x",
           "y": [
            "World",
            "World",
            "World",
            "World",
            "World",
            "World",
            "World",
            "World",
            "World"
           ],
           "yaxis": "y"
          },
          {
           "alignmentgroup": "True",
           "bingroup": "y",
           "histfunc": "sum",
           "hovertemplate": "Location=%{y}<br>Period Label=S1-2021<br>sum of Median time in port (days)=%{x}<extra></extra>",
           "legendgroup": "Australia",
           "marker": {
            "color": "#EF553B",
            "pattern": {
             "shape": ""
            }
           },
           "name": "Australia",
           "offsetgroup": "Australia",
           "orientation": "h",
           "showlegend": true,
           "type": "histogram",
           "x": [
            1.5736,
            null,
            1.2628,
            1.4583,
            1.9486,
            1.7198,
            null,
            0.9479,
            1.2465
           ],
           "xaxis": "x",
           "y": [
            "Australia",
            "Australia",
            "Australia",
            "Australia",
            "Australia",
            "Australia",
            "Australia",
            "Australia",
            "Australia"
           ],
           "yaxis": "y"
          },
          {
           "alignmentgroup": "True",
           "bingroup": "y",
           "histfunc": "sum",
           "hovertemplate": "Location=%{y}<br>Period Label=S1-2021<br>sum of Median time in port (days)=%{x}<extra></extra>",
           "legendgroup": "Canada",
           "marker": {
            "color": "#00cc96",
            "pattern": {
             "shape": ""
            }
           },
           "name": "Canada",
           "offsetgroup": "Canada",
           "orientation": "h",
           "showlegend": true,
           "type": "histogram",
           "x": [
            0.9726,
            null,
            1.1007,
            1.8233,
            0.8663,
            0.5514,
            null,
            1.5292
           ],
           "xaxis": "x",
           "y": [
            "Canada",
            "Canada",
            "Canada",
            "Canada",
            "Canada",
            "Canada",
            "Canada",
            "Canada"
           ],
           "yaxis": "y"
          },
          {
           "alignmentgroup": "True",
           "bingroup": "y",
           "histfunc": "sum",
           "hovertemplate": "Location=%{y}<br>Period Label=S1-2021<br>sum of Median time in port (days)=%{x}<extra></extra>",
           "legendgroup": "China",
           "marker": {
            "color": "#ab63fa",
            "pattern": {
             "shape": ""
            }
           },
           "name": "China",
           "offsetgroup": "China",
           "orientation": "h",
           "showlegend": true,
           "type": "histogram",
           "x": [
            1.134,
            null,
            1.1684,
            0.6806,
            1.4358,
            2.0292,
            null,
            1.0382,
            1.1854
           ],
           "xaxis": "x",
           "y": [
            "China",
            "China",
            "China",
            "China",
            "China",
            "China",
            "China",
            "China",
            "China"
           ],
           "yaxis": "y"
          },
          {
           "alignmentgroup": "True",
           "bingroup": "y",
           "histfunc": "sum",
           "hovertemplate": "Location=%{y}<br>Period Label=S1-2021<br>sum of Median time in port (days)=%{x}<extra></extra>",
           "legendgroup": "Croatia",
           "marker": {
            "color": "#FFA15A",
            "pattern": {
             "shape": ""
            }
           },
           "name": "Croatia",
           "offsetgroup": "Croatia",
           "orientation": "h",
           "showlegend": true,
           "type": "histogram",
           "x": [
            1.1587,
            null,
            0.8729,
            0.575,
            2.6444,
            2.3125
           ],
           "xaxis": "x",
           "y": [
            "Croatia",
            "Croatia",
            "Croatia",
            "Croatia",
            "Croatia",
            "Croatia"
           ],
           "yaxis": "y"
          },
          {
           "alignmentgroup": "True",
           "bingroup": "y",
           "histfunc": "sum",
           "hovertemplate": "Location=%{y}<br>Period Label=S1-2021<br>sum of Median time in port (days)=%{x}<extra></extra>",
           "legendgroup": "Denmark",
           "marker": {
            "color": "#19d3f3",
            "pattern": {
             "shape": ""
            }
           },
           "name": "Denmark",
           "offsetgroup": "Denmark",
           "orientation": "h",
           "showlegend": true,
           "type": "histogram",
           "x": [
            0.7653,
            null,
            0.7076,
            0.4576,
            0.8785,
            0.8618,
            null,
            1.0368
           ],
           "xaxis": "x",
           "y": [
            "Denmark",
            "Denmark",
            "Denmark",
            "Denmark",
            "Denmark",
            "Denmark",
            "Denmark",
            "Denmark"
           ],
           "yaxis": "y"
          },
          {
           "alignmentgroup": "True",
           "bingroup": "y",
           "histfunc": "sum",
           "hovertemplate": "Location=%{y}<br>Period Label=S1-2021<br>sum of Median time in port (days)=%{x}<extra></extra>",
           "legendgroup": "France",
           "marker": {
            "color": "#FF6692",
            "pattern": {
             "shape": ""
            }
           },
           "name": "France",
           "offsetgroup": "France",
           "orientation": "h",
           "showlegend": true,
           "type": "histogram",
           "x": [
            1.1799,
            null,
            1.0399,
            0.9333,
            1.6437,
            2.8882,
            null,
            1.0774,
            1.1083
           ],
           "xaxis": "x",
           "y": [
            "France",
            "France",
            "France",
            "France",
            "France",
            "France",
            "France",
            "France",
            "France"
           ],
           "yaxis": "y"
          },
          {
           "alignmentgroup": "True",
           "bingroup": "y",
           "histfunc": "sum",
           "hovertemplate": "Location=%{y}<br>Period Label=S1-2021<br>sum of Median time in port (days)=%{x}<extra></extra>",
           "legendgroup": "Germany",
           "marker": {
            "color": "#B6E880",
            "pattern": {
             "shape": ""
            }
           },
           "name": "Germany",
           "offsetgroup": "Germany",
           "orientation": "h",
           "showlegend": true,
           "type": "histogram",
           "x": [
            0.8444,
            null,
            0.5632,
            1.0833,
            0.8663,
            2.7833,
            null,
            0.8677
           ],
           "xaxis": "x",
           "y": [
            "Germany",
            "Germany",
            "Germany",
            "Germany",
            "Germany",
            "Germany",
            "Germany",
            "Germany"
           ],
           "yaxis": "y"
          },
          {
           "alignmentgroup": "True",
           "bingroup": "y",
           "histfunc": "sum",
           "hovertemplate": "Location=%{y}<br>Period Label=S1-2021<br>sum of Median time in port (days)=%{x}<extra></extra>",
           "legendgroup": "Greece",
           "marker": {
            "color": "#FF97FF",
            "pattern": {
             "shape": ""
            }
           },
           "name": "Greece",
           "offsetgroup": "Greece",
           "orientation": "h",
           "showlegend": true,
           "type": "histogram",
           "x": [
            0.8576,
            null,
            0.6194,
            1.0184,
            1.1469,
            0.6378,
            null,
            1,
            1.1715
           ],
           "xaxis": "x",
           "y": [
            "Greece",
            "Greece",
            "Greece",
            "Greece",
            "Greece",
            "Greece",
            "Greece",
            "Greece",
            "Greece"
           ],
           "yaxis": "y"
          },
          {
           "alignmentgroup": "True",
           "bingroup": "y",
           "histfunc": "sum",
           "hovertemplate": "Location=%{y}<br>Period Label=S1-2021<br>sum of Median time in port (days)=%{x}<extra></extra>",
           "legendgroup": "Indonesia",
           "marker": {
            "color": "#FECB52",
            "pattern": {
             "shape": ""
            }
           },
           "name": "Indonesia",
           "offsetgroup": "Indonesia",
           "orientation": "h",
           "showlegend": true,
           "type": "histogram",
           "x": [
            1.2931,
            null,
            1.3056,
            1.0451,
            1.2118,
            3.0396,
            null,
            1.0719,
            1.4285
           ],
           "xaxis": "x",
           "y": [
            "Indonesia",
            "Indonesia",
            "Indonesia",
            "Indonesia",
            "Indonesia",
            "Indonesia",
            "Indonesia",
            "Indonesia",
            "Indonesia"
           ],
           "yaxis": "y"
          },
          {
           "alignmentgroup": "True",
           "bingroup": "y",
           "histfunc": "sum",
           "hovertemplate": "Location=%{y}<br>Period Label=S1-2021<br>sum of Median time in port (days)=%{x}<extra></extra>",
           "legendgroup": "Italy",
           "marker": {
            "color": "#636efa",
            "pattern": {
             "shape": ""
            }
           },
           "name": "Italy",
           "offsetgroup": "Italy",
           "orientation": "h",
           "showlegend": true,
           "type": "histogram",
           "x": [
            1.3326,
            null,
            1.3257,
            0.9319,
            1.9222,
            3.325,
            null,
            1.549
           ],
           "xaxis": "x",
           "y": [
            "Italy",
            "Italy",
            "Italy",
            "Italy",
            "Italy",
            "Italy",
            "Italy",
            "Italy"
           ],
           "yaxis": "y"
          },
          {
           "alignmentgroup": "True",
           "bingroup": "y",
           "histfunc": "sum",
           "hovertemplate": "Location=%{y}<br>Period Label=S1-2021<br>sum of Median time in port (days)=%{x}<extra></extra>",
           "legendgroup": "Japan",
           "marker": {
            "color": "#EF553B",
            "pattern": {
             "shape": ""
            }
           },
           "name": "Japan",
           "offsetgroup": "Japan",
           "orientation": "h",
           "showlegend": true,
           "type": "histogram",
           "x": [
            0.4146,
            null,
            0.3111,
            0.3562,
            1.1951,
            0.9035,
            null,
            0.3153,
            1.0222
           ],
           "xaxis": "x",
           "y": [
            "Japan",
            "Japan",
            "Japan",
            "Japan",
            "Japan",
            "Japan",
            "Japan",
            "Japan",
            "Japan"
           ],
           "yaxis": "y"
          },
          {
           "alignmentgroup": "True",
           "bingroup": "y",
           "histfunc": "sum",
           "hovertemplate": "Location=%{y}<br>Period Label=S1-2021<br>sum of Median time in port (days)=%{x}<extra></extra>",
           "legendgroup": "Korea, Republic of",
           "marker": {
            "color": "#00cc96",
            "pattern": {
             "shape": ""
            }
           },
           "name": "Korea, Republic of",
           "offsetgroup": "Korea, Republic of",
           "orientation": "h",
           "showlegend": true,
           "type": "histogram",
           "x": [
            0.9,
            null,
            0.7667,
            0.6951,
            1.2167,
            2.0924,
            null,
            0.8424,
            1.0389
           ],
           "xaxis": "x",
           "y": [
            "Korea, Republic of",
            "Korea, Republic of",
            "Korea, Republic of",
            "Korea, Republic of",
            "Korea, Republic of",
            "Korea, Republic of",
            "Korea, Republic of",
            "Korea, Republic of",
            "Korea, Republic of"
           ],
           "yaxis": "y"
          },
          {
           "alignmentgroup": "True",
           "bingroup": "y",
           "histfunc": "sum",
           "hovertemplate": "Location=%{y}<br>Period Label=S1-2021<br>sum of Median time in port (days)=%{x}<extra></extra>",
           "legendgroup": "Netherlands",
           "marker": {
            "color": "#ab63fa",
            "pattern": {
             "shape": ""
            }
           },
           "name": "Netherlands",
           "offsetgroup": "Netherlands",
           "orientation": "h",
           "showlegend": true,
           "type": "histogram",
           "x": [
            0.6104,
            null,
            0.5326,
            0.8806,
            0.4812,
            1.0354,
            null,
            0.9132,
            1.0118
           ],
           "xaxis": "x",
           "y": [
            "Netherlands",
            "Netherlands",
            "Netherlands",
            "Netherlands",
            "Netherlands",
            "Netherlands",
            "Netherlands",
            "Netherlands",
            "Netherlands"
           ],
           "yaxis": "y"
          },
          {
           "alignmentgroup": "True",
           "bingroup": "y",
           "histfunc": "sum",
           "hovertemplate": "Location=%{y}<br>Period Label=S1-2021<br>sum of Median time in port (days)=%{x}<extra></extra>",
           "legendgroup": "Norway",
           "marker": {
            "color": "#FFA15A",
            "pattern": {
             "shape": ""
            }
           },
           "name": "Norway",
           "offsetgroup": "Norway",
           "orientation": "h",
           "showlegend": true,
           "type": "histogram",
           "x": [
            0.4111,
            null,
            0.6125,
            0.3493,
            0.3125,
            0.8847,
            null,
            0.8101,
            0.2931
           ],
           "xaxis": "x",
           "y": [
            "Norway",
            "Norway",
            "Norway",
            "Norway",
            "Norway",
            "Norway",
            "Norway",
            "Norway",
            "Norway"
           ],
           "yaxis": "y"
          },
          {
           "alignmentgroup": "True",
           "bingroup": "y",
           "histfunc": "sum",
           "hovertemplate": "Location=%{y}<br>Period Label=S1-2021<br>sum of Median time in port (days)=%{x}<extra></extra>",
           "legendgroup": "Russian Federation",
           "marker": {
            "color": "#19d3f3",
            "pattern": {
             "shape": ""
            }
           },
           "name": "Russian Federation",
           "offsetgroup": "Russian Federation",
           "orientation": "h",
           "showlegend": true,
           "type": "histogram",
           "x": [
            1.509,
            null,
            1.1493,
            1.4118,
            1.8573,
            2.5472,
            null,
            1.6014,
            1.1187
           ],
           "xaxis": "x",
           "y": [
            "Russian Federation",
            "Russian Federation",
            "Russian Federation",
            "Russian Federation",
            "Russian Federation",
            "Russian Federation",
            "Russian Federation",
            "Russian Federation",
            "Russian Federation"
           ],
           "yaxis": "y"
          },
          {
           "alignmentgroup": "True",
           "bingroup": "y",
           "histfunc": "sum",
           "hovertemplate": "Location=%{y}<br>Period Label=S1-2021<br>sum of Median time in port (days)=%{x}<extra></extra>",
           "legendgroup": "Spain",
           "marker": {
            "color": "#FF6692",
            "pattern": {
             "shape": ""
            }
           },
           "name": "Spain",
           "offsetgroup": "Spain",
           "orientation": "h",
           "showlegend": true,
           "type": "histogram",
           "x": [
            0.9021,
            null,
            0.9174,
            0.6451,
            1.1653,
            1.7694,
            null,
            1.0361,
            1.0184
           ],
           "xaxis": "x",
           "y": [
            "Spain",
            "Spain",
            "Spain",
            "Spain",
            "Spain",
            "Spain",
            "Spain",
            "Spain",
            "Spain"
           ],
           "yaxis": "y"
          },
          {
           "alignmentgroup": "True",
           "bingroup": "y",
           "histfunc": "sum",
           "hovertemplate": "Location=%{y}<br>Period Label=S1-2021<br>sum of Median time in port (days)=%{x}<extra></extra>",
           "legendgroup": "Sweden",
           "marker": {
            "color": "#B6E880",
            "pattern": {
             "shape": ""
            }
           },
           "name": "Sweden",
           "offsetgroup": "Sweden",
           "orientation": "h",
           "showlegend": true,
           "type": "histogram",
           "x": [
            0.7736,
            null,
            0.6528,
            0.6149,
            1.0222,
            0.4437,
            null,
            0.8076
           ],
           "xaxis": "x",
           "y": [
            "Sweden",
            "Sweden",
            "Sweden",
            "Sweden",
            "Sweden",
            "Sweden",
            "Sweden",
            "Sweden"
           ],
           "yaxis": "y"
          },
          {
           "alignmentgroup": "True",
           "bingroup": "y",
           "histfunc": "sum",
           "hovertemplate": "Location=%{y}<br>Period Label=S1-2021<br>sum of Median time in port (days)=%{x}<extra></extra>",
           "legendgroup": "Türkiye",
           "marker": {
            "color": "#FF97FF",
            "pattern": {
             "shape": ""
            }
           },
           "name": "Türkiye",
           "offsetgroup": "Türkiye",
           "orientation": "h",
           "showlegend": true,
           "type": "histogram",
           "x": [
            1.1958,
            null,
            1.192,
            0.6236,
            1.4931,
            3.7319,
            null,
            1.234,
            1.2569
           ],
           "xaxis": "x",
           "y": [
            "Türkiye",
            "Türkiye",
            "Türkiye",
            "Türkiye",
            "Türkiye",
            "Türkiye",
            "Türkiye",
            "Türkiye",
            "Türkiye"
           ],
           "yaxis": "y"
          },
          {
           "alignmentgroup": "True",
           "bingroup": "y",
           "histfunc": "sum",
           "hovertemplate": "Location=%{y}<br>Period Label=S1-2021<br>sum of Median time in port (days)=%{x}<extra></extra>",
           "legendgroup": "United States of America",
           "marker": {
            "color": "#FECB52",
            "pattern": {
             "shape": ""
            }
           },
           "name": "United States of America",
           "offsetgroup": "United States of America",
           "orientation": "h",
           "showlegend": true,
           "type": "histogram",
           "x": [
            1.5639,
            null,
            1.5684,
            1.2069,
            2.0076,
            2.3632,
            null,
            1.8507,
            1.2844
           ],
           "xaxis": "x",
           "y": [
            "United States of America",
            "United States of America",
            "United States of America",
            "United States of America",
            "United States of America",
            "United States of America",
            "United States of America",
            "United States of America",
            "United States of America"
           ],
           "yaxis": "y"
          },
          {
           "alignmentgroup": "True",
           "bingroup": "y",
           "histfunc": "sum",
           "hovertemplate": "Location=%{y}<br>Period Label=S1-2021<br>sum of Median time in port (days)=%{x}<extra></extra>",
           "legendgroup": "United Kingdom",
           "marker": {
            "color": "#636efa",
            "pattern": {
             "shape": ""
            }
           },
           "name": "United Kingdom",
           "offsetgroup": "United Kingdom",
           "orientation": "h",
           "showlegend": true,
           "type": "histogram",
           "x": [
            1.1625,
            null,
            1.0514,
            0.8035,
            1.525,
            2.9014,
            null,
            1.0556,
            1.2271
           ],
           "xaxis": "x",
           "y": [
            "United Kingdom",
            "United Kingdom",
            "United Kingdom",
            "United Kingdom",
            "United Kingdom",
            "United Kingdom",
            "United Kingdom",
            "United Kingdom",
            "United Kingdom"
           ],
           "yaxis": "y"
          }
         ],
         "name": "S1-2021"
        },
        {
         "data": [
          {
           "alignmentgroup": "True",
           "bingroup": "y",
           "histfunc": "sum",
           "hovertemplate": "Location=%{y}<br>Period Label=S2-2021<br>sum of Median time in port (days)=%{x}<extra></extra>",
           "legendgroup": "World",
           "marker": {
            "color": "#636efa",
            "pattern": {
             "shape": ""
            }
           },
           "name": "World",
           "offsetgroup": "World",
           "orientation": "h",
           "showlegend": true,
           "type": "histogram",
           "x": [
            1.0507,
            null,
            0.9771,
            0.8306,
            1.1583,
            2.0826,
            null,
            1.0229,
            1.1313
           ],
           "xaxis": "x",
           "y": [
            "World",
            "World",
            "World",
            "World",
            "World",
            "World",
            "World",
            "World",
            "World"
           ],
           "yaxis": "y"
          },
          {
           "alignmentgroup": "True",
           "bingroup": "y",
           "histfunc": "sum",
           "hovertemplate": "Location=%{y}<br>Period Label=S2-2021<br>sum of Median time in port (days)=%{x}<extra></extra>",
           "legendgroup": "Australia",
           "marker": {
            "color": "#EF553B",
            "pattern": {
             "shape": ""
            }
           },
           "name": "Australia",
           "offsetgroup": "Australia",
           "orientation": "h",
           "showlegend": true,
           "type": "histogram",
           "x": [
            1.5646,
            null,
            1.3135,
            1.6972,
            1.9854,
            1.6417,
            null,
            0.8778,
            1.2674
           ],
           "xaxis": "x",
           "y": [
            "Australia",
            "Australia",
            "Australia",
            "Australia",
            "Australia",
            "Australia",
            "Australia",
            "Australia",
            "Australia"
           ],
           "yaxis": "y"
          },
          {
           "alignmentgroup": "True",
           "bingroup": "y",
           "histfunc": "sum",
           "hovertemplate": "Location=%{y}<br>Period Label=S2-2021<br>sum of Median time in port (days)=%{x}<extra></extra>",
           "legendgroup": "Canada",
           "marker": {
            "color": "#00cc96",
            "pattern": {
             "shape": ""
            }
           },
           "name": "Canada",
           "offsetgroup": "Canada",
           "orientation": "h",
           "showlegend": true,
           "type": "histogram",
           "x": [
            0.5889,
            null,
            1.0264,
            1.7677,
            0.6667,
            0.1885,
            null,
            1.4889
           ],
           "xaxis": "x",
           "y": [
            "Canada",
            "Canada",
            "Canada",
            "Canada",
            "Canada",
            "Canada",
            "Canada",
            "Canada"
           ],
           "yaxis": "y"
          },
          {
           "alignmentgroup": "True",
           "bingroup": "y",
           "histfunc": "sum",
           "hovertemplate": "Location=%{y}<br>Period Label=S2-2021<br>sum of Median time in port (days)=%{x}<extra></extra>",
           "legendgroup": "China",
           "marker": {
            "color": "#ab63fa",
            "pattern": {
             "shape": ""
            }
           },
           "name": "China",
           "offsetgroup": "China",
           "orientation": "h",
           "showlegend": true,
           "type": "histogram",
           "x": [
            1.1681,
            null,
            1.1257,
            0.7799,
            1.5639,
            2.066,
            null,
            1.0472,
            1.1965
           ],
           "xaxis": "x",
           "y": [
            "China",
            "China",
            "China",
            "China",
            "China",
            "China",
            "China",
            "China",
            "China"
           ],
           "yaxis": "y"
          },
          {
           "alignmentgroup": "True",
           "bingroup": "y",
           "histfunc": "sum",
           "hovertemplate": "Location=%{y}<br>Period Label=S2-2021<br>sum of Median time in port (days)=%{x}<extra></extra>",
           "legendgroup": "Croatia",
           "marker": {
            "color": "#FFA15A",
            "pattern": {
             "shape": ""
            }
           },
           "name": "Croatia",
           "offsetgroup": "Croatia",
           "orientation": "h",
           "showlegend": true,
           "type": "histogram",
           "x": [
            1.1986,
            null,
            0.9427,
            0.6361,
            2.2302,
            2.5451,
            1.5611
           ],
           "xaxis": "x",
           "y": [
            "Croatia",
            "Croatia",
            "Croatia",
            "Croatia",
            "Croatia",
            "Croatia",
            "Croatia"
           ],
           "yaxis": "y"
          },
          {
           "alignmentgroup": "True",
           "bingroup": "y",
           "histfunc": "sum",
           "hovertemplate": "Location=%{y}<br>Period Label=S2-2021<br>sum of Median time in port (days)=%{x}<extra></extra>",
           "legendgroup": "Denmark",
           "marker": {
            "color": "#19d3f3",
            "pattern": {
             "shape": ""
            }
           },
           "name": "Denmark",
           "offsetgroup": "Denmark",
           "orientation": "h",
           "showlegend": true,
           "type": "histogram",
           "x": [
            0.7354,
            null,
            0.684,
            0.5358,
            0.8142,
            0.7601,
            null,
            1.1243
           ],
           "xaxis": "x",
           "y": [
            "Denmark",
            "Denmark",
            "Denmark",
            "Denmark",
            "Denmark",
            "Denmark",
            "Denmark",
            "Denmark"
           ],
           "yaxis": "y"
          },
          {
           "alignmentgroup": "True",
           "bingroup": "y",
           "histfunc": "sum",
           "hovertemplate": "Location=%{y}<br>Period Label=S2-2021<br>sum of Median time in port (days)=%{x}<extra></extra>",
           "legendgroup": "France",
           "marker": {
            "color": "#FF6692",
            "pattern": {
             "shape": ""
            }
           },
           "name": "France",
           "offsetgroup": "France",
           "orientation": "h",
           "showlegend": true,
           "type": "histogram",
           "x": [
            1.1521,
            null,
            1.0111,
            0.9913,
            1.5056,
            3.0708,
            null,
            1.0868,
            1.1413
           ],
           "xaxis": "x",
           "y": [
            "France",
            "France",
            "France",
            "France",
            "France",
            "France",
            "France",
            "France",
            "France"
           ],
           "yaxis": "y"
          },
          {
           "alignmentgroup": "True",
           "bingroup": "y",
           "histfunc": "sum",
           "hovertemplate": "Location=%{y}<br>Period Label=S2-2021<br>sum of Median time in port (days)=%{x}<extra></extra>",
           "legendgroup": "Germany",
           "marker": {
            "color": "#B6E880",
            "pattern": {
             "shape": ""
            }
           },
           "name": "Germany",
           "offsetgroup": "Germany",
           "orientation": "h",
           "showlegend": true,
           "type": "histogram",
           "x": [
            0.833,
            null,
            0.5462,
            1.1785,
            0.8354,
            2.2729,
            null,
            0.8875
           ],
           "xaxis": "x",
           "y": [
            "Germany",
            "Germany",
            "Germany",
            "Germany",
            "Germany",
            "Germany",
            "Germany",
            "Germany"
           ],
           "yaxis": "y"
          },
          {
           "alignmentgroup": "True",
           "bingroup": "y",
           "histfunc": "sum",
           "hovertemplate": "Location=%{y}<br>Period Label=S2-2021<br>sum of Median time in port (days)=%{x}<extra></extra>",
           "legendgroup": "Greece",
           "marker": {
            "color": "#FF97FF",
            "pattern": {
             "shape": ""
            }
           },
           "name": "Greece",
           "offsetgroup": "Greece",
           "orientation": "h",
           "showlegend": true,
           "type": "histogram",
           "x": [
            0.8368,
            null,
            0.6125,
            1.0719,
            1.1465,
            0.6417,
            null,
            0.9847,
            1.2674
           ],
           "xaxis": "x",
           "y": [
            "Greece",
            "Greece",
            "Greece",
            "Greece",
            "Greece",
            "Greece",
            "Greece",
            "Greece",
            "Greece"
           ],
           "yaxis": "y"
          },
          {
           "alignmentgroup": "True",
           "bingroup": "y",
           "histfunc": "sum",
           "hovertemplate": "Location=%{y}<br>Period Label=S2-2021<br>sum of Median time in port (days)=%{x}<extra></extra>",
           "legendgroup": "Indonesia",
           "marker": {
            "color": "#FECB52",
            "pattern": {
             "shape": ""
            }
           },
           "name": "Indonesia",
           "offsetgroup": "Indonesia",
           "orientation": "h",
           "showlegend": true,
           "type": "histogram",
           "x": [
            1.2854,
            null,
            1.3021,
            1.0819,
            1.1538,
            2.5524,
            null,
            1.0833,
            1.4222
           ],
           "xaxis": "x",
           "y": [
            "Indonesia",
            "Indonesia",
            "Indonesia",
            "Indonesia",
            "Indonesia",
            "Indonesia",
            "Indonesia",
            "Indonesia",
            "Indonesia"
           ],
           "yaxis": "y"
          },
          {
           "alignmentgroup": "True",
           "bingroup": "y",
           "histfunc": "sum",
           "hovertemplate": "Location=%{y}<br>Period Label=S2-2021<br>sum of Median time in port (days)=%{x}<extra></extra>",
           "legendgroup": "Italy",
           "marker": {
            "color": "#636efa",
            "pattern": {
             "shape": ""
            }
           },
           "name": "Italy",
           "offsetgroup": "Italy",
           "orientation": "h",
           "showlegend": true,
           "type": "histogram",
           "x": [
            1.3576,
            null,
            1.2493,
            0.9965,
            2.0097,
            3.666,
            null,
            1.7306
           ],
           "xaxis": "x",
           "y": [
            "Italy",
            "Italy",
            "Italy",
            "Italy",
            "Italy",
            "Italy",
            "Italy",
            "Italy"
           ],
           "yaxis": "y"
          },
          {
           "alignmentgroup": "True",
           "bingroup": "y",
           "histfunc": "sum",
           "hovertemplate": "Location=%{y}<br>Period Label=S2-2021<br>sum of Median time in port (days)=%{x}<extra></extra>",
           "legendgroup": "Japan",
           "marker": {
            "color": "#EF553B",
            "pattern": {
             "shape": ""
            }
           },
           "name": "Japan",
           "offsetgroup": "Japan",
           "orientation": "h",
           "showlegend": true,
           "type": "histogram",
           "x": [
            0.4174,
            null,
            0.3104,
            0.3708,
            1.1913,
            0.7552,
            null,
            0.3222,
            1.0347
           ],
           "xaxis": "x",
           "y": [
            "Japan",
            "Japan",
            "Japan",
            "Japan",
            "Japan",
            "Japan",
            "Japan",
            "Japan",
            "Japan"
           ],
           "yaxis": "y"
          },
          {
           "alignmentgroup": "True",
           "bingroup": "y",
           "histfunc": "sum",
           "hovertemplate": "Location=%{y}<br>Period Label=S2-2021<br>sum of Median time in port (days)=%{x}<extra></extra>",
           "legendgroup": "Korea, Republic of",
           "marker": {
            "color": "#00cc96",
            "pattern": {
             "shape": ""
            }
           },
           "name": "Korea, Republic of",
           "offsetgroup": "Korea, Republic of",
           "orientation": "h",
           "showlegend": true,
           "type": "histogram",
           "x": [
            0.8889,
            null,
            0.7382,
            0.7354,
            1.1583,
            2.184,
            null,
            0.8,
            1.05
           ],
           "xaxis": "x",
           "y": [
            "Korea, Republic of",
            "Korea, Republic of",
            "Korea, Republic of",
            "Korea, Republic of",
            "Korea, Republic of",
            "Korea, Republic of",
            "Korea, Republic of",
            "Korea, Republic of",
            "Korea, Republic of"
           ],
           "yaxis": "y"
          },
          {
           "alignmentgroup": "True",
           "bingroup": "y",
           "histfunc": "sum",
           "hovertemplate": "Location=%{y}<br>Period Label=S2-2021<br>sum of Median time in port (days)=%{x}<extra></extra>",
           "legendgroup": "Netherlands",
           "marker": {
            "color": "#ab63fa",
            "pattern": {
             "shape": ""
            }
           },
           "name": "Netherlands",
           "offsetgroup": "Netherlands",
           "orientation": "h",
           "showlegend": true,
           "type": "histogram",
           "x": [
            0.6257,
            null,
            0.6083,
            0.8944,
            0.3896,
            1.3604,
            null,
            0.9896,
            1.0299
           ],
           "xaxis": "x",
           "y": [
            "Netherlands",
            "Netherlands",
            "Netherlands",
            "Netherlands",
            "Netherlands",
            "Netherlands",
            "Netherlands",
            "Netherlands",
            "Netherlands"
           ],
           "yaxis": "y"
          },
          {
           "alignmentgroup": "True",
           "bingroup": "y",
           "histfunc": "sum",
           "hovertemplate": "Location=%{y}<br>Period Label=S2-2021<br>sum of Median time in port (days)=%{x}<extra></extra>",
           "legendgroup": "Norway",
           "marker": {
            "color": "#FFA15A",
            "pattern": {
             "shape": ""
            }
           },
           "name": "Norway",
           "offsetgroup": "Norway",
           "orientation": "h",
           "showlegend": true,
           "type": "histogram",
           "x": [
            0.4215,
            null,
            0.5833,
            0.3521,
            0.3368,
            0.7549,
            null,
            0.8951,
            0.2889
           ],
           "xaxis": "x",
           "y": [
            "Norway",
            "Norway",
            "Norway",
            "Norway",
            "Norway",
            "Norway",
            "Norway",
            "Norway",
            "Norway"
           ],
           "yaxis": "y"
          },
          {
           "alignmentgroup": "True",
           "bingroup": "y",
           "histfunc": "sum",
           "hovertemplate": "Location=%{y}<br>Period Label=S2-2021<br>sum of Median time in port (days)=%{x}<extra></extra>",
           "legendgroup": "Russian Federation",
           "marker": {
            "color": "#19d3f3",
            "pattern": {
             "shape": ""
            }
           },
           "name": "Russian Federation",
           "offsetgroup": "Russian Federation",
           "orientation": "h",
           "showlegend": true,
           "type": "histogram",
           "x": [
            1.4285,
            null,
            1.0597,
            1.7104,
            1.7194,
            2.4868,
            null,
            1.4708,
            1.15
           ],
           "xaxis": "x",
           "y": [
            "Russian Federation",
            "Russian Federation",
            "Russian Federation",
            "Russian Federation",
            "Russian Federation",
            "Russian Federation",
            "Russian Federation",
            "Russian Federation",
            "Russian Federation"
           ],
           "yaxis": "y"
          },
          {
           "alignmentgroup": "True",
           "bingroup": "y",
           "histfunc": "sum",
           "hovertemplate": "Location=%{y}<br>Period Label=S2-2021<br>sum of Median time in port (days)=%{x}<extra></extra>",
           "legendgroup": "Spain",
           "marker": {
            "color": "#FF6692",
            "pattern": {
             "shape": ""
            }
           },
           "name": "Spain",
           "offsetgroup": "Spain",
           "orientation": "h",
           "showlegend": true,
           "type": "histogram",
           "x": [
            0.9007,
            null,
            0.8868,
            0.6563,
            1.2007,
            1.7875,
            null,
            1.0035,
            1.0812
           ],
           "xaxis": "x",
           "y": [
            "Spain",
            "Spain",
            "Spain",
            "Spain",
            "Spain",
            "Spain",
            "Spain",
            "Spain",
            "Spain"
           ],
           "yaxis": "y"
          },
          {
           "alignmentgroup": "True",
           "bingroup": "y",
           "histfunc": "sum",
           "hovertemplate": "Location=%{y}<br>Period Label=S2-2021<br>sum of Median time in port (days)=%{x}<extra></extra>",
           "legendgroup": "Sweden",
           "marker": {
            "color": "#B6E880",
            "pattern": {
             "shape": ""
            }
           },
           "name": "Sweden",
           "offsetgroup": "Sweden",
           "orientation": "h",
           "showlegend": true,
           "type": "histogram",
           "x": [
            0.7694,
            null,
            0.6667,
            0.7024,
            0.9854,
            0.467,
            null,
            0.8069,
            0.7069
           ],
           "xaxis": "x",
           "y": [
            "Sweden",
            "Sweden",
            "Sweden",
            "Sweden",
            "Sweden",
            "Sweden",
            "Sweden",
            "Sweden",
            "Sweden"
           ],
           "yaxis": "y"
          },
          {
           "alignmentgroup": "True",
           "bingroup": "y",
           "histfunc": "sum",
           "hovertemplate": "Location=%{y}<br>Period Label=S2-2021<br>sum of Median time in port (days)=%{x}<extra></extra>",
           "legendgroup": "Türkiye",
           "marker": {
            "color": "#FF97FF",
            "pattern": {
             "shape": ""
            }
           },
           "name": "Türkiye",
           "offsetgroup": "Türkiye",
           "orientation": "h",
           "showlegend": true,
           "type": "histogram",
           "x": [
            1.2347,
            null,
            1.1521,
            0.6382,
            1.5764,
            4.0833,
            null,
            1.1903,
            1.1563
           ],
           "xaxis": "x",
           "y": [
            "Türkiye",
            "Türkiye",
            "Türkiye",
            "Türkiye",
            "Türkiye",
            "Türkiye",
            "Türkiye",
            "Türkiye",
            "Türkiye"
           ],
           "yaxis": "y"
          },
          {
           "alignmentgroup": "True",
           "bingroup": "y",
           "histfunc": "sum",
           "hovertemplate": "Location=%{y}<br>Period Label=S2-2021<br>sum of Median time in port (days)=%{x}<extra></extra>",
           "legendgroup": "United States of America",
           "marker": {
            "color": "#FECB52",
            "pattern": {
             "shape": ""
            }
           },
           "name": "United States of America",
           "offsetgroup": "United States of America",
           "orientation": "h",
           "showlegend": true,
           "type": "histogram",
           "x": [
            1.5861,
            null,
            1.6201,
            1.2958,
            2.0563,
            2.0778,
            null,
            1.8135,
            1.2521
           ],
           "xaxis": "x",
           "y": [
            "United States of America",
            "United States of America",
            "United States of America",
            "United States of America",
            "United States of America",
            "United States of America",
            "United States of America",
            "United States of America",
            "United States of America"
           ],
           "yaxis": "y"
          },
          {
           "alignmentgroup": "True",
           "bingroup": "y",
           "histfunc": "sum",
           "hovertemplate": "Location=%{y}<br>Period Label=S2-2021<br>sum of Median time in port (days)=%{x}<extra></extra>",
           "legendgroup": "United Kingdom",
           "marker": {
            "color": "#636efa",
            "pattern": {
             "shape": ""
            }
           },
           "name": "United Kingdom",
           "offsetgroup": "United Kingdom",
           "orientation": "h",
           "showlegend": true,
           "type": "histogram",
           "x": [
            1.1639,
            null,
            1.0438,
            0.8503,
            1.5236,
            3.049,
            null,
            1.0486,
            1.234
           ],
           "xaxis": "x",
           "y": [
            "United Kingdom",
            "United Kingdom",
            "United Kingdom",
            "United Kingdom",
            "United Kingdom",
            "United Kingdom",
            "United Kingdom",
            "United Kingdom",
            "United Kingdom"
           ],
           "yaxis": "y"
          }
         ],
         "name": "S2-2021"
        },
        {
         "data": [
          {
           "alignmentgroup": "True",
           "bingroup": "y",
           "histfunc": "sum",
           "hovertemplate": "Location=%{y}<br>Period Label=S1-2022<br>sum of Median time in port (days)=%{x}<extra></extra>",
           "legendgroup": "World",
           "marker": {
            "color": "#636efa",
            "pattern": {
             "shape": ""
            }
           },
           "name": "World",
           "offsetgroup": "World",
           "orientation": "h",
           "showlegend": true,
           "type": "histogram",
           "x": [
            1.0694,
            null,
            0.9958,
            0.8382,
            1.1938,
            2.2306,
            null,
            1.0292,
            1.1174
           ],
           "xaxis": "x",
           "y": [
            "World",
            "World",
            "World",
            "World",
            "World",
            "World",
            "World",
            "World",
            "World"
           ],
           "yaxis": "y"
          },
          {
           "alignmentgroup": "True",
           "bingroup": "y",
           "histfunc": "sum",
           "hovertemplate": "Location=%{y}<br>Period Label=S1-2022<br>sum of Median time in port (days)=%{x}<extra></extra>",
           "legendgroup": "Australia",
           "marker": {
            "color": "#EF553B",
            "pattern": {
             "shape": ""
            }
           },
           "name": "Australia",
           "offsetgroup": "Australia",
           "orientation": "h",
           "showlegend": true,
           "type": "histogram",
           "x": [
            1.6104,
            null,
            1.3184,
            1.7191,
            2.2292,
            1.6868,
            null,
            0.908,
            1.2465
           ],
           "xaxis": "x",
           "y": [
            "Australia",
            "Australia",
            "Australia",
            "Australia",
            "Australia",
            "Australia",
            "Australia",
            "Australia",
            "Australia"
           ],
           "yaxis": "y"
          },
          {
           "alignmentgroup": "True",
           "bingroup": "y",
           "histfunc": "sum",
           "hovertemplate": "Location=%{y}<br>Period Label=S1-2022<br>sum of Median time in port (days)=%{x}<extra></extra>",
           "legendgroup": "Canada",
           "marker": {
            "color": "#00cc96",
            "pattern": {
             "shape": ""
            }
           },
           "name": "Canada",
           "offsetgroup": "Canada",
           "orientation": "h",
           "showlegend": true,
           "type": "histogram",
           "x": [
            0.9667,
            null,
            1.0906,
            1.9771,
            0.7035,
            0.5597,
            null,
            1.4694
           ],
           "xaxis": "x",
           "y": [
            "Canada",
            "Canada",
            "Canada",
            "Canada",
            "Canada",
            "Canada",
            "Canada",
            "Canada"
           ],
           "yaxis": "y"
          },
          {
           "alignmentgroup": "True",
           "bingroup": "y",
           "histfunc": "sum",
           "hovertemplate": "Location=%{y}<br>Period Label=S1-2022<br>sum of Median time in port (days)=%{x}<extra></extra>",
           "legendgroup": "China",
           "marker": {
            "color": "#ab63fa",
            "pattern": {
             "shape": ""
            }
           },
           "name": "China",
           "offsetgroup": "China",
           "orientation": "h",
           "showlegend": true,
           "type": "histogram",
           "x": [
            1.1563,
            null,
            1.1451,
            0.7743,
            1.6292,
            2.066,
            null,
            1.0392,
            1.2313
           ],
           "xaxis": "x",
           "y": [
            "China",
            "China",
            "China",
            "China",
            "China",
            "China",
            "China",
            "China",
            "China"
           ],
           "yaxis": "y"
          },
          {
           "alignmentgroup": "True",
           "bingroup": "y",
           "histfunc": "sum",
           "hovertemplate": "Location=%{y}<br>Period Label=S1-2022<br>sum of Median time in port (days)=%{x}<extra></extra>",
           "legendgroup": "Croatia",
           "marker": {
            "color": "#FFA15A",
            "pattern": {
             "shape": ""
            }
           },
           "name": "Croatia",
           "offsetgroup": "Croatia",
           "orientation": "h",
           "showlegend": true,
           "type": "histogram",
           "x": [
            1.3281,
            null,
            0.9795,
            0.7684,
            2.2104,
            3.0299,
            2.2035
           ],
           "xaxis": "x",
           "y": [
            "Croatia",
            "Croatia",
            "Croatia",
            "Croatia",
            "Croatia",
            "Croatia",
            "Croatia"
           ],
           "yaxis": "y"
          },
          {
           "alignmentgroup": "True",
           "bingroup": "y",
           "histfunc": "sum",
           "hovertemplate": "Location=%{y}<br>Period Label=S1-2022<br>sum of Median time in port (days)=%{x}<extra></extra>",
           "legendgroup": "Denmark",
           "marker": {
            "color": "#19d3f3",
            "pattern": {
             "shape": ""
            }
           },
           "name": "Denmark",
           "offsetgroup": "Denmark",
           "orientation": "h",
           "showlegend": true,
           "type": "histogram",
           "x": [
            0.7469,
            null,
            0.6646,
            0.559,
            0.8319,
            0.8313,
            null,
            1.158
           ],
           "xaxis": "x",
           "y": [
            "Denmark",
            "Denmark",
            "Denmark",
            "Denmark",
            "Denmark",
            "Denmark",
            "Denmark",
            "Denmark"
           ],
           "yaxis": "y"
          },
          {
           "alignmentgroup": "True",
           "bingroup": "y",
           "histfunc": "sum",
           "hovertemplate": "Location=%{y}<br>Period Label=S1-2022<br>sum of Median time in port (days)=%{x}<extra></extra>",
           "legendgroup": "France",
           "marker": {
            "color": "#FF6692",
            "pattern": {
             "shape": ""
            }
           },
           "name": "France",
           "offsetgroup": "France",
           "orientation": "h",
           "showlegend": true,
           "type": "histogram",
           "x": [
            1.2125,
            null,
            1.0278,
            1.1208,
            1.5729,
            3.1,
            null,
            1.1142,
            1.1187
           ],
           "xaxis": "x",
           "y": [
            "France",
            "France",
            "France",
            "France",
            "France",
            "France",
            "France",
            "France",
            "France"
           ],
           "yaxis": "y"
          },
          {
           "alignmentgroup": "True",
           "bingroup": "y",
           "histfunc": "sum",
           "hovertemplate": "Location=%{y}<br>Period Label=S1-2022<br>sum of Median time in port (days)=%{x}<extra></extra>",
           "legendgroup": "Germany",
           "marker": {
            "color": "#B6E880",
            "pattern": {
             "shape": ""
            }
           },
           "name": "Germany",
           "offsetgroup": "Germany",
           "orientation": "h",
           "showlegend": true,
           "type": "histogram",
           "x": [
            0.834,
            null,
            0.534,
            1.2715,
            0.7951,
            2.8139,
            null,
            0.8389
           ],
           "xaxis": "x",
           "y": [
            "Germany",
            "Germany",
            "Germany",
            "Germany",
            "Germany",
            "Germany",
            "Germany",
            "Germany"
           ],
           "yaxis": "y"
          },
          {
           "alignmentgroup": "True",
           "bingroup": "y",
           "histfunc": "sum",
           "hovertemplate": "Location=%{y}<br>Period Label=S1-2022<br>sum of Median time in port (days)=%{x}<extra></extra>",
           "legendgroup": "Greece",
           "marker": {
            "color": "#FF97FF",
            "pattern": {
             "shape": ""
            }
           },
           "name": "Greece",
           "offsetgroup": "Greece",
           "orientation": "h",
           "showlegend": true,
           "type": "histogram",
           "x": [
            0.8656,
            null,
            0.5979,
            1.1865,
            1.1944,
            0.7625,
            null,
            0.8656,
            1.0097
           ],
           "xaxis": "x",
           "y": [
            "Greece",
            "Greece",
            "Greece",
            "Greece",
            "Greece",
            "Greece",
            "Greece",
            "Greece",
            "Greece"
           ],
           "yaxis": "y"
          },
          {
           "alignmentgroup": "True",
           "bingroup": "y",
           "histfunc": "sum",
           "hovertemplate": "Location=%{y}<br>Period Label=S1-2022<br>sum of Median time in port (days)=%{x}<extra></extra>",
           "legendgroup": "Indonesia",
           "marker": {
            "color": "#FECB52",
            "pattern": {
             "shape": ""
            }
           },
           "name": "Indonesia",
           "offsetgroup": "Indonesia",
           "orientation": "h",
           "showlegend": true,
           "type": "histogram",
           "x": [
            1.2813,
            null,
            1.3049,
            1.0375,
            1.2313,
            2.9497,
            null,
            1.0875,
            1.4208
           ],
           "xaxis": "x",
           "y": [
            "Indonesia",
            "Indonesia",
            "Indonesia",
            "Indonesia",
            "Indonesia",
            "Indonesia",
            "Indonesia",
            "Indonesia",
            "Indonesia"
           ],
           "yaxis": "y"
          },
          {
           "alignmentgroup": "True",
           "bingroup": "y",
           "histfunc": "sum",
           "hovertemplate": "Location=%{y}<br>Period Label=S1-2022<br>sum of Median time in port (days)=%{x}<extra></extra>",
           "legendgroup": "Italy",
           "marker": {
            "color": "#636efa",
            "pattern": {
             "shape": ""
            }
           },
           "name": "Italy",
           "offsetgroup": "Italy",
           "orientation": "h",
           "showlegend": true,
           "type": "histogram",
           "x": [
            1.3819,
            null,
            1.2799,
            1.0417,
            1.8854,
            4.0778,
            null,
            1.5167,
            2.4014
           ],
           "xaxis": "x",
           "y": [
            "Italy",
            "Italy",
            "Italy",
            "Italy",
            "Italy",
            "Italy",
            "Italy",
            "Italy",
            "Italy"
           ],
           "yaxis": "y"
          },
          {
           "alignmentgroup": "True",
           "bingroup": "y",
           "histfunc": "sum",
           "hovertemplate": "Location=%{y}<br>Period Label=S1-2022<br>sum of Median time in port (days)=%{x}<extra></extra>",
           "legendgroup": "Japan",
           "marker": {
            "color": "#EF553B",
            "pattern": {
             "shape": ""
            }
           },
           "name": "Japan",
           "offsetgroup": "Japan",
           "orientation": "h",
           "showlegend": true,
           "type": "histogram",
           "x": [
            0.4201,
            null,
            0.3076,
            0.3792,
            1.216,
            0.7993,
            null,
            0.3354,
            1.0125
           ],
           "xaxis": "x",
           "y": [
            "Japan",
            "Japan",
            "Japan",
            "Japan",
            "Japan",
            "Japan",
            "Japan",
            "Japan",
            "Japan"
           ],
           "yaxis": "y"
          },
          {
           "alignmentgroup": "True",
           "bingroup": "y",
           "histfunc": "sum",
           "hovertemplate": "Location=%{y}<br>Period Label=S1-2022<br>sum of Median time in port (days)=%{x}<extra></extra>",
           "legendgroup": "Korea, Republic of",
           "marker": {
            "color": "#00cc96",
            "pattern": {
             "shape": ""
            }
           },
           "name": "Korea, Republic of",
           "offsetgroup": "Korea, Republic of",
           "orientation": "h",
           "showlegend": true,
           "type": "histogram",
           "x": [
            0.8833,
            null,
            0.7361,
            0.7312,
            1.1688,
            2.5,
            null,
            0.7972,
            1.0479
           ],
           "xaxis": "x",
           "y": [
            "Korea, Republic of",
            "Korea, Republic of",
            "Korea, Republic of",
            "Korea, Republic of",
            "Korea, Republic of",
            "Korea, Republic of",
            "Korea, Republic of",
            "Korea, Republic of",
            "Korea, Republic of"
           ],
           "yaxis": "y"
          },
          {
           "alignmentgroup": "True",
           "bingroup": "y",
           "histfunc": "sum",
           "hovertemplate": "Location=%{y}<br>Period Label=S1-2022<br>sum of Median time in port (days)=%{x}<extra></extra>",
           "legendgroup": "Netherlands",
           "marker": {
            "color": "#ab63fa",
            "pattern": {
             "shape": ""
            }
           },
           "name": "Netherlands",
           "offsetgroup": "Netherlands",
           "orientation": "h",
           "showlegend": true,
           "type": "histogram",
           "x": [
            0.641,
            null,
            0.6146,
            0.891,
            0.4326,
            1.1507,
            null,
            0.9753,
            1.0431
           ],
           "xaxis": "x",
           "y": [
            "Netherlands",
            "Netherlands",
            "Netherlands",
            "Netherlands",
            "Netherlands",
            "Netherlands",
            "Netherlands",
            "Netherlands",
            "Netherlands"
           ],
           "yaxis": "y"
          },
          {
           "alignmentgroup": "True",
           "bingroup": "y",
           "histfunc": "sum",
           "hovertemplate": "Location=%{y}<br>Period Label=S1-2022<br>sum of Median time in port (days)=%{x}<extra></extra>",
           "legendgroup": "Norway",
           "marker": {
            "color": "#FFA15A",
            "pattern": {
             "shape": ""
            }
           },
           "name": "Norway",
           "offsetgroup": "Norway",
           "orientation": "h",
           "showlegend": true,
           "type": "histogram",
           "x": [
            0.4153,
            null,
            0.6111,
            0.3462,
            0.3295,
            0.8108,
            null,
            0.7882,
            0.3146
           ],
           "xaxis": "x",
           "y": [
            "Norway",
            "Norway",
            "Norway",
            "Norway",
            "Norway",
            "Norway",
            "Norway",
            "Norway",
            "Norway"
           ],
           "yaxis": "y"
          },
          {
           "alignmentgroup": "True",
           "bingroup": "y",
           "histfunc": "sum",
           "hovertemplate": "Location=%{y}<br>Period Label=S1-2022<br>sum of Median time in port (days)=%{x}<extra></extra>",
           "legendgroup": "Russian Federation",
           "marker": {
            "color": "#19d3f3",
            "pattern": {
             "shape": ""
            }
           },
           "name": "Russian Federation",
           "offsetgroup": "Russian Federation",
           "orientation": "h",
           "showlegend": true,
           "type": "histogram",
           "x": [
            1.6819,
            null,
            1.2375,
            1.701,
            2.1653,
            2.6174,
            null,
            2.0167,
            1.0747
           ],
           "xaxis": "x",
           "y": [
            "Russian Federation",
            "Russian Federation",
            "Russian Federation",
            "Russian Federation",
            "Russian Federation",
            "Russian Federation",
            "Russian Federation",
            "Russian Federation",
            "Russian Federation"
           ],
           "yaxis": "y"
          },
          {
           "alignmentgroup": "True",
           "bingroup": "y",
           "histfunc": "sum",
           "hovertemplate": "Location=%{y}<br>Period Label=S1-2022<br>sum of Median time in port (days)=%{x}<extra></extra>",
           "legendgroup": "Spain",
           "marker": {
            "color": "#FF6692",
            "pattern": {
             "shape": ""
            }
           },
           "name": "Spain",
           "offsetgroup": "Spain",
           "orientation": "h",
           "showlegend": true,
           "type": "histogram",
           "x": [
            0.9264,
            null,
            0.8924,
            0.699,
            1.1882,
            1.8729,
            null,
            1.0146,
            1.0562
           ],
           "xaxis": "x",
           "y": [
            "Spain",
            "Spain",
            "Spain",
            "Spain",
            "Spain",
            "Spain",
            "Spain",
            "Spain",
            "Spain"
           ],
           "yaxis": "y"
          },
          {
           "alignmentgroup": "True",
           "bingroup": "y",
           "histfunc": "sum",
           "hovertemplate": "Location=%{y}<br>Period Label=S1-2022<br>sum of Median time in port (days)=%{x}<extra></extra>",
           "legendgroup": "Sweden",
           "marker": {
            "color": "#B6E880",
            "pattern": {
             "shape": ""
            }
           },
           "name": "Sweden",
           "offsetgroup": "Sweden",
           "orientation": "h",
           "showlegend": true,
           "type": "histogram",
           "x": [
            0.816,
            null,
            0.6764,
            0.7764,
            1.0226,
            0.5066,
            null,
            0.9583,
            0.7875
           ],
           "xaxis": "x",
           "y": [
            "Sweden",
            "Sweden",
            "Sweden",
            "Sweden",
            "Sweden",
            "Sweden",
            "Sweden",
            "Sweden",
            "Sweden"
           ],
           "yaxis": "y"
          },
          {
           "alignmentgroup": "True",
           "bingroup": "y",
           "histfunc": "sum",
           "hovertemplate": "Location=%{y}<br>Period Label=S1-2022<br>sum of Median time in port (days)=%{x}<extra></extra>",
           "legendgroup": "Türkiye",
           "marker": {
            "color": "#FF97FF",
            "pattern": {
             "shape": ""
            }
           },
           "name": "Türkiye",
           "offsetgroup": "Türkiye",
           "orientation": "h",
           "showlegend": true,
           "type": "histogram",
           "x": [
            1.2806,
            null,
            1.2003,
            0.7306,
            1.4861,
            4.0531,
            null,
            1.167,
            1.2076
           ],
           "xaxis": "x",
           "y": [
            "Türkiye",
            "Türkiye",
            "Türkiye",
            "Türkiye",
            "Türkiye",
            "Türkiye",
            "Türkiye",
            "Türkiye",
            "Türkiye"
           ],
           "yaxis": "y"
          },
          {
           "alignmentgroup": "True",
           "bingroup": "y",
           "histfunc": "sum",
           "hovertemplate": "Location=%{y}<br>Period Label=S1-2022<br>sum of Median time in port (days)=%{x}<extra></extra>",
           "legendgroup": "United States of America",
           "marker": {
            "color": "#FECB52",
            "pattern": {
             "shape": ""
            }
           },
           "name": "United States of America",
           "offsetgroup": "United States of America",
           "orientation": "h",
           "showlegend": true,
           "type": "histogram",
           "x": [
            1.7007,
            null,
            1.634,
            1.4326,
            2.0444,
            2.7035,
            null,
            1.8056,
            1.3271
           ],
           "xaxis": "x",
           "y": [
            "United States of America",
            "United States of America",
            "United States of America",
            "United States of America",
            "United States of America",
            "United States of America",
            "United States of America",
            "United States of America",
            "United States of America"
           ],
           "yaxis": "y"
          },
          {
           "alignmentgroup": "True",
           "bingroup": "y",
           "histfunc": "sum",
           "hovertemplate": "Location=%{y}<br>Period Label=S1-2022<br>sum of Median time in port (days)=%{x}<extra></extra>",
           "legendgroup": "United Kingdom",
           "marker": {
            "color": "#636efa",
            "pattern": {
             "shape": ""
            }
           },
           "name": "United Kingdom",
           "offsetgroup": "United Kingdom",
           "orientation": "h",
           "showlegend": true,
           "type": "histogram",
           "x": [
            1.2132,
            null,
            1.0674,
            0.8938,
            1.5444,
            2.875,
            null,
            1.1049,
            1.2215
           ],
           "xaxis": "x",
           "y": [
            "United Kingdom",
            "United Kingdom",
            "United Kingdom",
            "United Kingdom",
            "United Kingdom",
            "United Kingdom",
            "United Kingdom",
            "United Kingdom",
            "United Kingdom"
           ],
           "yaxis": "y"
          }
         ],
         "name": "S1-2022"
        }
       ],
       "layout": {
        "barmode": "relative",
        "legend": {
         "title": {
          "text": "Location"
         },
         "tracegroupgap": 0
        },
        "margin": {
         "t": 60
        },
        "sliders": [
         {
          "active": 0,
          "currentvalue": {
           "prefix": "Period Label="
          },
          "len": 0.9,
          "pad": {
           "b": 10,
           "t": 60
          },
          "steps": [
           {
            "args": [
             [
              "S1-2018"
             ],
             {
              "frame": {
               "duration": 0,
               "redraw": true
              },
              "fromcurrent": true,
              "mode": "immediate",
              "transition": {
               "duration": 0,
               "easing": "linear"
              }
             }
            ],
            "label": "S1-2018",
            "method": "animate"
           },
           {
            "args": [
             [
              "S2-2018"
             ],
             {
              "frame": {
               "duration": 0,
               "redraw": true
              },
              "fromcurrent": true,
              "mode": "immediate",
              "transition": {
               "duration": 0,
               "easing": "linear"
              }
             }
            ],
            "label": "S2-2018",
            "method": "animate"
           },
           {
            "args": [
             [
              "S1-2019"
             ],
             {
              "frame": {
               "duration": 0,
               "redraw": true
              },
              "fromcurrent": true,
              "mode": "immediate",
              "transition": {
               "duration": 0,
               "easing": "linear"
              }
             }
            ],
            "label": "S1-2019",
            "method": "animate"
           },
           {
            "args": [
             [
              "S2-2019"
             ],
             {
              "frame": {
               "duration": 0,
               "redraw": true
              },
              "fromcurrent": true,
              "mode": "immediate",
              "transition": {
               "duration": 0,
               "easing": "linear"
              }
             }
            ],
            "label": "S2-2019",
            "method": "animate"
           },
           {
            "args": [
             [
              "S1-2020"
             ],
             {
              "frame": {
               "duration": 0,
               "redraw": true
              },
              "fromcurrent": true,
              "mode": "immediate",
              "transition": {
               "duration": 0,
               "easing": "linear"
              }
             }
            ],
            "label": "S1-2020",
            "method": "animate"
           },
           {
            "args": [
             [
              "S2-2020"
             ],
             {
              "frame": {
               "duration": 0,
               "redraw": true
              },
              "fromcurrent": true,
              "mode": "immediate",
              "transition": {
               "duration": 0,
               "easing": "linear"
              }
             }
            ],
            "label": "S2-2020",
            "method": "animate"
           },
           {
            "args": [
             [
              "S1-2021"
             ],
             {
              "frame": {
               "duration": 0,
               "redraw": true
              },
              "fromcurrent": true,
              "mode": "immediate",
              "transition": {
               "duration": 0,
               "easing": "linear"
              }
             }
            ],
            "label": "S1-2021",
            "method": "animate"
           },
           {
            "args": [
             [
              "S2-2021"
             ],
             {
              "frame": {
               "duration": 0,
               "redraw": true
              },
              "fromcurrent": true,
              "mode": "immediate",
              "transition": {
               "duration": 0,
               "easing": "linear"
              }
             }
            ],
            "label": "S2-2021",
            "method": "animate"
           },
           {
            "args": [
             [
              "S1-2022"
             ],
             {
              "frame": {
               "duration": 0,
               "redraw": true
              },
              "fromcurrent": true,
              "mode": "immediate",
              "transition": {
               "duration": 0,
               "easing": "linear"
              }
             }
            ],
            "label": "S1-2022",
            "method": "animate"
           }
          ],
          "x": 0.1,
          "xanchor": "left",
          "y": 0,
          "yanchor": "top"
         }
        ],
        "template": {
         "data": {
          "bar": [
           {
            "error_x": {
             "color": "#2a3f5f"
            },
            "error_y": {
             "color": "#2a3f5f"
            },
            "marker": {
             "line": {
              "color": "#E5ECF6",
              "width": 0.5
             },
             "pattern": {
              "fillmode": "overlay",
              "size": 10,
              "solidity": 0.2
             }
            },
            "type": "bar"
           }
          ],
          "barpolar": [
           {
            "marker": {
             "line": {
              "color": "#E5ECF6",
              "width": 0.5
             },
             "pattern": {
              "fillmode": "overlay",
              "size": 10,
              "solidity": 0.2
             }
            },
            "type": "barpolar"
           }
          ],
          "carpet": [
           {
            "aaxis": {
             "endlinecolor": "#2a3f5f",
             "gridcolor": "white",
             "linecolor": "white",
             "minorgridcolor": "white",
             "startlinecolor": "#2a3f5f"
            },
            "baxis": {
             "endlinecolor": "#2a3f5f",
             "gridcolor": "white",
             "linecolor": "white",
             "minorgridcolor": "white",
             "startlinecolor": "#2a3f5f"
            },
            "type": "carpet"
           }
          ],
          "choropleth": [
           {
            "colorbar": {
             "outlinewidth": 0,
             "ticks": ""
            },
            "type": "choropleth"
           }
          ],
          "contour": [
           {
            "colorbar": {
             "outlinewidth": 0,
             "ticks": ""
            },
            "colorscale": [
             [
              0,
              "#0d0887"
             ],
             [
              0.1111111111111111,
              "#46039f"
             ],
             [
              0.2222222222222222,
              "#7201a8"
             ],
             [
              0.3333333333333333,
              "#9c179e"
             ],
             [
              0.4444444444444444,
              "#bd3786"
             ],
             [
              0.5555555555555556,
              "#d8576b"
             ],
             [
              0.6666666666666666,
              "#ed7953"
             ],
             [
              0.7777777777777778,
              "#fb9f3a"
             ],
             [
              0.8888888888888888,
              "#fdca26"
             ],
             [
              1,
              "#f0f921"
             ]
            ],
            "type": "contour"
           }
          ],
          "contourcarpet": [
           {
            "colorbar": {
             "outlinewidth": 0,
             "ticks": ""
            },
            "type": "contourcarpet"
           }
          ],
          "heatmap": [
           {
            "colorbar": {
             "outlinewidth": 0,
             "ticks": ""
            },
            "colorscale": [
             [
              0,
              "#0d0887"
             ],
             [
              0.1111111111111111,
              "#46039f"
             ],
             [
              0.2222222222222222,
              "#7201a8"
             ],
             [
              0.3333333333333333,
              "#9c179e"
             ],
             [
              0.4444444444444444,
              "#bd3786"
             ],
             [
              0.5555555555555556,
              "#d8576b"
             ],
             [
              0.6666666666666666,
              "#ed7953"
             ],
             [
              0.7777777777777778,
              "#fb9f3a"
             ],
             [
              0.8888888888888888,
              "#fdca26"
             ],
             [
              1,
              "#f0f921"
             ]
            ],
            "type": "heatmap"
           }
          ],
          "heatmapgl": [
           {
            "colorbar": {
             "outlinewidth": 0,
             "ticks": ""
            },
            "colorscale": [
             [
              0,
              "#0d0887"
             ],
             [
              0.1111111111111111,
              "#46039f"
             ],
             [
              0.2222222222222222,
              "#7201a8"
             ],
             [
              0.3333333333333333,
              "#9c179e"
             ],
             [
              0.4444444444444444,
              "#bd3786"
             ],
             [
              0.5555555555555556,
              "#d8576b"
             ],
             [
              0.6666666666666666,
              "#ed7953"
             ],
             [
              0.7777777777777778,
              "#fb9f3a"
             ],
             [
              0.8888888888888888,
              "#fdca26"
             ],
             [
              1,
              "#f0f921"
             ]
            ],
            "type": "heatmapgl"
           }
          ],
          "histogram": [
           {
            "marker": {
             "pattern": {
              "fillmode": "overlay",
              "size": 10,
              "solidity": 0.2
             }
            },
            "type": "histogram"
           }
          ],
          "histogram2d": [
           {
            "colorbar": {
             "outlinewidth": 0,
             "ticks": ""
            },
            "colorscale": [
             [
              0,
              "#0d0887"
             ],
             [
              0.1111111111111111,
              "#46039f"
             ],
             [
              0.2222222222222222,
              "#7201a8"
             ],
             [
              0.3333333333333333,
              "#9c179e"
             ],
             [
              0.4444444444444444,
              "#bd3786"
             ],
             [
              0.5555555555555556,
              "#d8576b"
             ],
             [
              0.6666666666666666,
              "#ed7953"
             ],
             [
              0.7777777777777778,
              "#fb9f3a"
             ],
             [
              0.8888888888888888,
              "#fdca26"
             ],
             [
              1,
              "#f0f921"
             ]
            ],
            "type": "histogram2d"
           }
          ],
          "histogram2dcontour": [
           {
            "colorbar": {
             "outlinewidth": 0,
             "ticks": ""
            },
            "colorscale": [
             [
              0,
              "#0d0887"
             ],
             [
              0.1111111111111111,
              "#46039f"
             ],
             [
              0.2222222222222222,
              "#7201a8"
             ],
             [
              0.3333333333333333,
              "#9c179e"
             ],
             [
              0.4444444444444444,
              "#bd3786"
             ],
             [
              0.5555555555555556,
              "#d8576b"
             ],
             [
              0.6666666666666666,
              "#ed7953"
             ],
             [
              0.7777777777777778,
              "#fb9f3a"
             ],
             [
              0.8888888888888888,
              "#fdca26"
             ],
             [
              1,
              "#f0f921"
             ]
            ],
            "type": "histogram2dcontour"
           }
          ],
          "mesh3d": [
           {
            "colorbar": {
             "outlinewidth": 0,
             "ticks": ""
            },
            "type": "mesh3d"
           }
          ],
          "parcoords": [
           {
            "line": {
             "colorbar": {
              "outlinewidth": 0,
              "ticks": ""
             }
            },
            "type": "parcoords"
           }
          ],
          "pie": [
           {
            "automargin": true,
            "type": "pie"
           }
          ],
          "scatter": [
           {
            "fillpattern": {
             "fillmode": "overlay",
             "size": 10,
             "solidity": 0.2
            },
            "type": "scatter"
           }
          ],
          "scatter3d": [
           {
            "line": {
             "colorbar": {
              "outlinewidth": 0,
              "ticks": ""
             }
            },
            "marker": {
             "colorbar": {
              "outlinewidth": 0,
              "ticks": ""
             }
            },
            "type": "scatter3d"
           }
          ],
          "scattercarpet": [
           {
            "marker": {
             "colorbar": {
              "outlinewidth": 0,
              "ticks": ""
             }
            },
            "type": "scattercarpet"
           }
          ],
          "scattergeo": [
           {
            "marker": {
             "colorbar": {
              "outlinewidth": 0,
              "ticks": ""
             }
            },
            "type": "scattergeo"
           }
          ],
          "scattergl": [
           {
            "marker": {
             "colorbar": {
              "outlinewidth": 0,
              "ticks": ""
             }
            },
            "type": "scattergl"
           }
          ],
          "scattermapbox": [
           {
            "marker": {
             "colorbar": {
              "outlinewidth": 0,
              "ticks": ""
             }
            },
            "type": "scattermapbox"
           }
          ],
          "scatterpolar": [
           {
            "marker": {
             "colorbar": {
              "outlinewidth": 0,
              "ticks": ""
             }
            },
            "type": "scatterpolar"
           }
          ],
          "scatterpolargl": [
           {
            "marker": {
             "colorbar": {
              "outlinewidth": 0,
              "ticks": ""
             }
            },
            "type": "scatterpolargl"
           }
          ],
          "scatterternary": [
           {
            "marker": {
             "colorbar": {
              "outlinewidth": 0,
              "ticks": ""
             }
            },
            "type": "scatterternary"
           }
          ],
          "surface": [
           {
            "colorbar": {
             "outlinewidth": 0,
             "ticks": ""
            },
            "colorscale": [
             [
              0,
              "#0d0887"
             ],
             [
              0.1111111111111111,
              "#46039f"
             ],
             [
              0.2222222222222222,
              "#7201a8"
             ],
             [
              0.3333333333333333,
              "#9c179e"
             ],
             [
              0.4444444444444444,
              "#bd3786"
             ],
             [
              0.5555555555555556,
              "#d8576b"
             ],
             [
              0.6666666666666666,
              "#ed7953"
             ],
             [
              0.7777777777777778,
              "#fb9f3a"
             ],
             [
              0.8888888888888888,
              "#fdca26"
             ],
             [
              1,
              "#f0f921"
             ]
            ],
            "type": "surface"
           }
          ],
          "table": [
           {
            "cells": {
             "fill": {
              "color": "#EBF0F8"
             },
             "line": {
              "color": "white"
             }
            },
            "header": {
             "fill": {
              "color": "#C8D4E3"
             },
             "line": {
              "color": "white"
             }
            },
            "type": "table"
           }
          ]
         },
         "layout": {
          "annotationdefaults": {
           "arrowcolor": "#2a3f5f",
           "arrowhead": 0,
           "arrowwidth": 1
          },
          "autotypenumbers": "strict",
          "coloraxis": {
           "colorbar": {
            "outlinewidth": 0,
            "ticks": ""
           }
          },
          "colorscale": {
           "diverging": [
            [
             0,
             "#8e0152"
            ],
            [
             0.1,
             "#c51b7d"
            ],
            [
             0.2,
             "#de77ae"
            ],
            [
             0.3,
             "#f1b6da"
            ],
            [
             0.4,
             "#fde0ef"
            ],
            [
             0.5,
             "#f7f7f7"
            ],
            [
             0.6,
             "#e6f5d0"
            ],
            [
             0.7,
             "#b8e186"
            ],
            [
             0.8,
             "#7fbc41"
            ],
            [
             0.9,
             "#4d9221"
            ],
            [
             1,
             "#276419"
            ]
           ],
           "sequential": [
            [
             0,
             "#0d0887"
            ],
            [
             0.1111111111111111,
             "#46039f"
            ],
            [
             0.2222222222222222,
             "#7201a8"
            ],
            [
             0.3333333333333333,
             "#9c179e"
            ],
            [
             0.4444444444444444,
             "#bd3786"
            ],
            [
             0.5555555555555556,
             "#d8576b"
            ],
            [
             0.6666666666666666,
             "#ed7953"
            ],
            [
             0.7777777777777778,
             "#fb9f3a"
            ],
            [
             0.8888888888888888,
             "#fdca26"
            ],
            [
             1,
             "#f0f921"
            ]
           ],
           "sequentialminus": [
            [
             0,
             "#0d0887"
            ],
            [
             0.1111111111111111,
             "#46039f"
            ],
            [
             0.2222222222222222,
             "#7201a8"
            ],
            [
             0.3333333333333333,
             "#9c179e"
            ],
            [
             0.4444444444444444,
             "#bd3786"
            ],
            [
             0.5555555555555556,
             "#d8576b"
            ],
            [
             0.6666666666666666,
             "#ed7953"
            ],
            [
             0.7777777777777778,
             "#fb9f3a"
            ],
            [
             0.8888888888888888,
             "#fdca26"
            ],
            [
             1,
             "#f0f921"
            ]
           ]
          },
          "colorway": [
           "#636efa",
           "#EF553B",
           "#00cc96",
           "#ab63fa",
           "#FFA15A",
           "#19d3f3",
           "#FF6692",
           "#B6E880",
           "#FF97FF",
           "#FECB52"
          ],
          "font": {
           "color": "#2a3f5f"
          },
          "geo": {
           "bgcolor": "white",
           "lakecolor": "white",
           "landcolor": "#E5ECF6",
           "showlakes": true,
           "showland": true,
           "subunitcolor": "white"
          },
          "hoverlabel": {
           "align": "left"
          },
          "hovermode": "closest",
          "mapbox": {
           "style": "light"
          },
          "paper_bgcolor": "white",
          "plot_bgcolor": "#E5ECF6",
          "polar": {
           "angularaxis": {
            "gridcolor": "white",
            "linecolor": "white",
            "ticks": ""
           },
           "bgcolor": "#E5ECF6",
           "radialaxis": {
            "gridcolor": "white",
            "linecolor": "white",
            "ticks": ""
           }
          },
          "scene": {
           "xaxis": {
            "backgroundcolor": "#E5ECF6",
            "gridcolor": "white",
            "gridwidth": 2,
            "linecolor": "white",
            "showbackground": true,
            "ticks": "",
            "zerolinecolor": "white"
           },
           "yaxis": {
            "backgroundcolor": "#E5ECF6",
            "gridcolor": "white",
            "gridwidth": 2,
            "linecolor": "white",
            "showbackground": true,
            "ticks": "",
            "zerolinecolor": "white"
           },
           "zaxis": {
            "backgroundcolor": "#E5ECF6",
            "gridcolor": "white",
            "gridwidth": 2,
            "linecolor": "white",
            "showbackground": true,
            "ticks": "",
            "zerolinecolor": "white"
           }
          },
          "shapedefaults": {
           "line": {
            "color": "#2a3f5f"
           }
          },
          "ternary": {
           "aaxis": {
            "gridcolor": "white",
            "linecolor": "white",
            "ticks": ""
           },
           "baxis": {
            "gridcolor": "white",
            "linecolor": "white",
            "ticks": ""
           },
           "bgcolor": "#E5ECF6",
           "caxis": {
            "gridcolor": "white",
            "linecolor": "white",
            "ticks": ""
           }
          },
          "title": {
           "x": 0.05
          },
          "xaxis": {
           "automargin": true,
           "gridcolor": "white",
           "linecolor": "white",
           "ticks": "",
           "title": {
            "standoff": 15
           },
           "zerolinecolor": "white",
           "zerolinewidth": 2
          },
          "yaxis": {
           "automargin": true,
           "gridcolor": "white",
           "linecolor": "white",
           "ticks": "",
           "title": {
            "standoff": 15
           },
           "zerolinecolor": "white",
           "zerolinewidth": 2
          }
         }
        },
        "updatemenus": [
         {
          "buttons": [
           {
            "args": [
             null,
             {
              "frame": {
               "duration": 500,
               "redraw": true
              },
              "fromcurrent": true,
              "mode": "immediate",
              "transition": {
               "duration": 500,
               "easing": "linear"
              }
             }
            ],
            "label": "&#9654;",
            "method": "animate"
           },
           {
            "args": [
             [
              null
             ],
             {
              "frame": {
               "duration": 0,
               "redraw": true
              },
              "fromcurrent": true,
              "mode": "immediate",
              "transition": {
               "duration": 0,
               "easing": "linear"
              }
             }
            ],
            "label": "&#9724;",
            "method": "animate"
           }
          ],
          "direction": "left",
          "pad": {
           "r": 10,
           "t": 70
          },
          "showactive": false,
          "type": "buttons",
          "x": 0.1,
          "xanchor": "right",
          "y": 0,
          "yanchor": "top"
         }
        ],
        "xaxis": {
         "anchor": "y",
         "domain": [
          0,
          1
         ],
         "title": {
          "text": "sum of Median time in port (days)"
         }
        },
        "yaxis": {
         "anchor": "x",
         "categoryarray": [
          "United Kingdom",
          "United States of America",
          "Türkiye",
          "Sweden",
          "Spain",
          "Russian Federation",
          "Norway",
          "Netherlands",
          "Korea, Republic of",
          "Japan",
          "Italy",
          "Indonesia",
          "Greece",
          "Germany",
          "France",
          "Denmark",
          "Croatia",
          "China",
          "Canada",
          "Australia",
          "World"
         ],
         "categoryorder": "sum ascending",
         "domain": [
          0,
          1
         ],
         "title": {
          "text": "Location"
         }
        }
       }
      },
      "text/html": [
       "<div>                            <div id=\"a7be971a-3839-4f62-8643-c4817b6107e1\" class=\"plotly-graph-div\" style=\"height:525px; width:100%;\"></div>            <script type=\"text/javascript\">                require([\"plotly\"], function(Plotly) {                    window.PLOTLYENV=window.PLOTLYENV || {};                                    if (document.getElementById(\"a7be971a-3839-4f62-8643-c4817b6107e1\")) {                    Plotly.newPlot(                        \"a7be971a-3839-4f62-8643-c4817b6107e1\",                        [{\"alignmentgroup\":\"True\",\"bingroup\":\"y\",\"histfunc\":\"sum\",\"hovertemplate\":\"Location=%{y}<br>Period Label=S1-2018<br>sum of Median time in port (days)=%{x}<extra></extra>\",\"legendgroup\":\"World\",\"marker\":{\"color\":\"#636efa\",\"pattern\":{\"shape\":\"\"}},\"name\":\"World\",\"offsetgroup\":\"World\",\"orientation\":\"h\",\"showlegend\":true,\"x\":[0.97,null,0.94,0.69,1.12,2.1,null,1.0,1.11],\"xaxis\":\"x\",\"y\":[\"World\",\"World\",\"World\",\"World\",\"World\",\"World\",\"World\",\"World\",\"World\"],\"yaxis\":\"y\",\"type\":\"histogram\"},{\"alignmentgroup\":\"True\",\"bingroup\":\"y\",\"histfunc\":\"sum\",\"hovertemplate\":\"Location=%{y}<br>Period Label=S1-2018<br>sum of Median time in port (days)=%{x}<extra></extra>\",\"legendgroup\":\"Australia\",\"marker\":{\"color\":\"#EF553B\",\"pattern\":{\"shape\":\"\"}},\"name\":\"Australia\",\"offsetgroup\":\"Australia\",\"orientation\":\"h\",\"showlegend\":true,\"x\":[1.49,null,1.34,1.19,1.69,1.68,null,0.87,1.23],\"xaxis\":\"x\",\"y\":[\"Australia\",\"Australia\",\"Australia\",\"Australia\",\"Australia\",\"Australia\",\"Australia\",\"Australia\",\"Australia\"],\"yaxis\":\"y\",\"type\":\"histogram\"},{\"alignmentgroup\":\"True\",\"bingroup\":\"y\",\"histfunc\":\"sum\",\"hovertemplate\":\"Location=%{y}<br>Period Label=S1-2018<br>sum of Median time in port (days)=%{x}<extra></extra>\",\"legendgroup\":\"Canada\",\"marker\":{\"color\":\"#00cc96\",\"pattern\":{\"shape\":\"\"}},\"name\":\"Canada\",\"offsetgroup\":\"Canada\",\"orientation\":\"h\",\"showlegend\":true,\"x\":[0.84,null,1.18,1.48,0.28,0.55,null],\"xaxis\":\"x\",\"y\":[\"Canada\",\"Canada\",\"Canada\",\"Canada\",\"Canada\",\"Canada\",\"Canada\"],\"yaxis\":\"y\",\"type\":\"histogram\"},{\"alignmentgroup\":\"True\",\"bingroup\":\"y\",\"histfunc\":\"sum\",\"hovertemplate\":\"Location=%{y}<br>Period Label=S1-2018<br>sum of Median time in port (days)=%{x}<extra></extra>\",\"legendgroup\":\"China\",\"marker\":{\"color\":\"#ab63fa\",\"pattern\":{\"shape\":\"\"}},\"name\":\"China\",\"offsetgroup\":\"China\",\"orientation\":\"h\",\"showlegend\":true,\"x\":[1.01,null,1.09,0.6,1.15,1.99,null,0.98,1.26],\"xaxis\":\"x\",\"y\":[\"China\",\"China\",\"China\",\"China\",\"China\",\"China\",\"China\",\"China\",\"China\"],\"yaxis\":\"y\",\"type\":\"histogram\"},{\"alignmentgroup\":\"True\",\"bingroup\":\"y\",\"histfunc\":\"sum\",\"hovertemplate\":\"Location=%{y}<br>Period Label=S1-2018<br>sum of Median time in port (days)=%{x}<extra></extra>\",\"legendgroup\":\"Croatia\",\"marker\":{\"color\":\"#FFA15A\",\"pattern\":{\"shape\":\"\"}},\"name\":\"Croatia\",\"offsetgroup\":\"Croatia\",\"orientation\":\"h\",\"showlegend\":true,\"x\":[1.18,null,1.02,0.55,2.87,2.09],\"xaxis\":\"x\",\"y\":[\"Croatia\",\"Croatia\",\"Croatia\",\"Croatia\",\"Croatia\",\"Croatia\"],\"yaxis\":\"y\",\"type\":\"histogram\"},{\"alignmentgroup\":\"True\",\"bingroup\":\"y\",\"histfunc\":\"sum\",\"hovertemplate\":\"Location=%{y}<br>Period Label=S1-2018<br>sum of Median time in port (days)=%{x}<extra></extra>\",\"legendgroup\":\"Denmark\",\"marker\":{\"color\":\"#19d3f3\",\"pattern\":{\"shape\":\"\"}},\"name\":\"Denmark\",\"offsetgroup\":\"Denmark\",\"orientation\":\"h\",\"showlegend\":true,\"x\":[0.74,null,0.64,0.48,0.85,0.84,null,1.08],\"xaxis\":\"x\",\"y\":[\"Denmark\",\"Denmark\",\"Denmark\",\"Denmark\",\"Denmark\",\"Denmark\",\"Denmark\",\"Denmark\"],\"yaxis\":\"y\",\"type\":\"histogram\"},{\"alignmentgroup\":\"True\",\"bingroup\":\"y\",\"histfunc\":\"sum\",\"hovertemplate\":\"Location=%{y}<br>Period Label=S1-2018<br>sum of Median time in port (days)=%{x}<extra></extra>\",\"legendgroup\":\"France\",\"marker\":{\"color\":\"#FF6692\",\"pattern\":{\"shape\":\"\"}},\"name\":\"France\",\"offsetgroup\":\"France\",\"orientation\":\"h\",\"showlegend\":true,\"x\":[1.11,null,1.06,0.76,1.44,3.22,null,1.08,1.21],\"xaxis\":\"x\",\"y\":[\"France\",\"France\",\"France\",\"France\",\"France\",\"France\",\"France\",\"France\",\"France\"],\"yaxis\":\"y\",\"type\":\"histogram\"},{\"alignmentgroup\":\"True\",\"bingroup\":\"y\",\"histfunc\":\"sum\",\"hovertemplate\":\"Location=%{y}<br>Period Label=S1-2018<br>sum of Median time in port (days)=%{x}<extra></extra>\",\"legendgroup\":\"Germany\",\"marker\":{\"color\":\"#B6E880\",\"pattern\":{\"shape\":\"\"}},\"name\":\"Germany\",\"offsetgroup\":\"Germany\",\"orientation\":\"h\",\"showlegend\":true,\"x\":[0.58,null,0.36,0.79,0.54,2.43,null,0.73],\"xaxis\":\"x\",\"y\":[\"Germany\",\"Germany\",\"Germany\",\"Germany\",\"Germany\",\"Germany\",\"Germany\",\"Germany\"],\"yaxis\":\"y\",\"type\":\"histogram\"},{\"alignmentgroup\":\"True\",\"bingroup\":\"y\",\"histfunc\":\"sum\",\"hovertemplate\":\"Location=%{y}<br>Period Label=S1-2018<br>sum of Median time in port (days)=%{x}<extra></extra>\",\"legendgroup\":\"Greece\",\"marker\":{\"color\":\"#FF97FF\",\"pattern\":{\"shape\":\"\"}},\"name\":\"Greece\",\"offsetgroup\":\"Greece\",\"orientation\":\"h\",\"showlegend\":true,\"x\":[0.72,null,0.55,0.92,1.07,0.36,null,0.92],\"xaxis\":\"x\",\"y\":[\"Greece\",\"Greece\",\"Greece\",\"Greece\",\"Greece\",\"Greece\",\"Greece\",\"Greece\"],\"yaxis\":\"y\",\"type\":\"histogram\"},{\"alignmentgroup\":\"True\",\"bingroup\":\"y\",\"histfunc\":\"sum\",\"hovertemplate\":\"Location=%{y}<br>Period Label=S1-2018<br>sum of Median time in port (days)=%{x}<extra></extra>\",\"legendgroup\":\"Indonesia\",\"marker\":{\"color\":\"#FECB52\",\"pattern\":{\"shape\":\"\"}},\"name\":\"Indonesia\",\"offsetgroup\":\"Indonesia\",\"orientation\":\"h\",\"showlegend\":true,\"x\":[1.33,null,1.32,1.06,1.21,3.67,null,1.12,1.24],\"xaxis\":\"x\",\"y\":[\"Indonesia\",\"Indonesia\",\"Indonesia\",\"Indonesia\",\"Indonesia\",\"Indonesia\",\"Indonesia\",\"Indonesia\",\"Indonesia\"],\"yaxis\":\"y\",\"type\":\"histogram\"},{\"alignmentgroup\":\"True\",\"bingroup\":\"y\",\"histfunc\":\"sum\",\"hovertemplate\":\"Location=%{y}<br>Period Label=S1-2018<br>sum of Median time in port (days)=%{x}<extra></extra>\",\"legendgroup\":\"Italy\",\"marker\":{\"color\":\"#636efa\",\"pattern\":{\"shape\":\"\"}},\"name\":\"Italy\",\"offsetgroup\":\"Italy\",\"orientation\":\"h\",\"showlegend\":true,\"x\":[1.25,null,1.31,0.82,1.96,3.49,null,1.39],\"xaxis\":\"x\",\"y\":[\"Italy\",\"Italy\",\"Italy\",\"Italy\",\"Italy\",\"Italy\",\"Italy\",\"Italy\"],\"yaxis\":\"y\",\"type\":\"histogram\"},{\"alignmentgroup\":\"True\",\"bingroup\":\"y\",\"histfunc\":\"sum\",\"hovertemplate\":\"Location=%{y}<br>Period Label=S1-2018<br>sum of Median time in port (days)=%{x}<extra></extra>\",\"legendgroup\":\"Japan\",\"marker\":{\"color\":\"#EF553B\",\"pattern\":{\"shape\":\"\"}},\"name\":\"Japan\",\"offsetgroup\":\"Japan\",\"orientation\":\"h\",\"showlegend\":true,\"x\":[0.41,null,0.31,0.35,1.15,0.93,null,0.31,0.99],\"xaxis\":\"x\",\"y\":[\"Japan\",\"Japan\",\"Japan\",\"Japan\",\"Japan\",\"Japan\",\"Japan\",\"Japan\",\"Japan\"],\"yaxis\":\"y\",\"type\":\"histogram\"},{\"alignmentgroup\":\"True\",\"bingroup\":\"y\",\"histfunc\":\"sum\",\"hovertemplate\":\"Location=%{y}<br>Period Label=S1-2018<br>sum of Median time in port (days)=%{x}<extra></extra>\",\"legendgroup\":\"Korea, Republic of\",\"marker\":{\"color\":\"#00cc96\",\"pattern\":{\"shape\":\"\"}},\"name\":\"Korea, Republic of\",\"offsetgroup\":\"Korea, Republic of\",\"orientation\":\"h\",\"showlegend\":true,\"x\":[0.77,null,0.78,0.57,1.27,2.23,null,0.71,1.03],\"xaxis\":\"x\",\"y\":[\"Korea, Republic of\",\"Korea, Republic of\",\"Korea, Republic of\",\"Korea, Republic of\",\"Korea, Republic of\",\"Korea, Republic of\",\"Korea, Republic of\",\"Korea, Republic of\",\"Korea, Republic of\"],\"yaxis\":\"y\",\"type\":\"histogram\"},{\"alignmentgroup\":\"True\",\"bingroup\":\"y\",\"histfunc\":\"sum\",\"hovertemplate\":\"Location=%{y}<br>Period Label=S1-2018<br>sum of Median time in port (days)=%{x}<extra></extra>\",\"legendgroup\":\"Netherlands\",\"marker\":{\"color\":\"#ab63fa\",\"pattern\":{\"shape\":\"\"}},\"name\":\"Netherlands\",\"offsetgroup\":\"Netherlands\",\"orientation\":\"h\",\"showlegend\":true,\"x\":[0.56,null,0.51,0.8,0.35,0.66,null,0.93,1.4],\"xaxis\":\"x\",\"y\":[\"Netherlands\",\"Netherlands\",\"Netherlands\",\"Netherlands\",\"Netherlands\",\"Netherlands\",\"Netherlands\",\"Netherlands\",\"Netherlands\"],\"yaxis\":\"y\",\"type\":\"histogram\"},{\"alignmentgroup\":\"True\",\"bingroup\":\"y\",\"histfunc\":\"sum\",\"hovertemplate\":\"Location=%{y}<br>Period Label=S1-2018<br>sum of Median time in port (days)=%{x}<extra></extra>\",\"legendgroup\":\"Norway\",\"marker\":{\"color\":\"#FFA15A\",\"pattern\":{\"shape\":\"\"}},\"name\":\"Norway\",\"offsetgroup\":\"Norway\",\"orientation\":\"h\",\"showlegend\":true,\"x\":[0.43,null,0.61,0.32,0.34,0.89,null,0.75,0.31],\"xaxis\":\"x\",\"y\":[\"Norway\",\"Norway\",\"Norway\",\"Norway\",\"Norway\",\"Norway\",\"Norway\",\"Norway\",\"Norway\"],\"yaxis\":\"y\",\"type\":\"histogram\"},{\"alignmentgroup\":\"True\",\"bingroup\":\"y\",\"histfunc\":\"sum\",\"hovertemplate\":\"Location=%{y}<br>Period Label=S1-2018<br>sum of Median time in port (days)=%{x}<extra></extra>\",\"legendgroup\":\"Russian Federation\",\"marker\":{\"color\":\"#19d3f3\",\"pattern\":{\"shape\":\"\"}},\"name\":\"Russian Federation\",\"offsetgroup\":\"Russian Federation\",\"orientation\":\"h\",\"showlegend\":true,\"x\":[1.42,null,1.09,1.37,1.75,2.49,null,1.39,1.15],\"xaxis\":\"x\",\"y\":[\"Russian Federation\",\"Russian Federation\",\"Russian Federation\",\"Russian Federation\",\"Russian Federation\",\"Russian Federation\",\"Russian Federation\",\"Russian Federation\",\"Russian Federation\"],\"yaxis\":\"y\",\"type\":\"histogram\"},{\"alignmentgroup\":\"True\",\"bingroup\":\"y\",\"histfunc\":\"sum\",\"hovertemplate\":\"Location=%{y}<br>Period Label=S1-2018<br>sum of Median time in port (days)=%{x}<extra></extra>\",\"legendgroup\":\"Spain\",\"marker\":{\"color\":\"#FF6692\",\"pattern\":{\"shape\":\"\"}},\"name\":\"Spain\",\"offsetgroup\":\"Spain\",\"orientation\":\"h\",\"showlegend\":true,\"x\":[0.85,null,0.84,0.66,1.14,2.25,null,0.95,1.04],\"xaxis\":\"x\",\"y\":[\"Spain\",\"Spain\",\"Spain\",\"Spain\",\"Spain\",\"Spain\",\"Spain\",\"Spain\",\"Spain\"],\"yaxis\":\"y\",\"type\":\"histogram\"},{\"alignmentgroup\":\"True\",\"bingroup\":\"y\",\"histfunc\":\"sum\",\"hovertemplate\":\"Location=%{y}<br>Period Label=S1-2018<br>sum of Median time in port (days)=%{x}<extra></extra>\",\"legendgroup\":\"Sweden\",\"marker\":{\"color\":\"#B6E880\",\"pattern\":{\"shape\":\"\"}},\"name\":\"Sweden\",\"offsetgroup\":\"Sweden\",\"orientation\":\"h\",\"showlegend\":true,\"x\":[0.79,null,0.67,0.67,1.04,0.53,null,0.81,0.58],\"xaxis\":\"x\",\"y\":[\"Sweden\",\"Sweden\",\"Sweden\",\"Sweden\",\"Sweden\",\"Sweden\",\"Sweden\",\"Sweden\",\"Sweden\"],\"yaxis\":\"y\",\"type\":\"histogram\"},{\"alignmentgroup\":\"True\",\"bingroup\":\"y\",\"histfunc\":\"sum\",\"hovertemplate\":\"Location=%{y}<br>Period Label=S1-2018<br>sum of Median time in port (days)=%{x}<extra></extra>\",\"legendgroup\":\"T\\u00fcrkiye\",\"marker\":{\"color\":\"#FF97FF\",\"pattern\":{\"shape\":\"\"}},\"name\":\"T\\u00fcrkiye\",\"offsetgroup\":\"T\\u00fcrkiye\",\"orientation\":\"h\",\"showlegend\":true,\"x\":[1.23,null,1.1,0.63,1.55,4.13,null,1.38,1.3],\"xaxis\":\"x\",\"y\":[\"T\\u00fcrkiye\",\"T\\u00fcrkiye\",\"T\\u00fcrkiye\",\"T\\u00fcrkiye\",\"T\\u00fcrkiye\",\"T\\u00fcrkiye\",\"T\\u00fcrkiye\",\"T\\u00fcrkiye\",\"T\\u00fcrkiye\"],\"yaxis\":\"y\",\"type\":\"histogram\"},{\"alignmentgroup\":\"True\",\"bingroup\":\"y\",\"histfunc\":\"sum\",\"hovertemplate\":\"Location=%{y}<br>Period Label=S1-2018<br>sum of Median time in port (days)=%{x}<extra></extra>\",\"legendgroup\":\"United States of America\",\"marker\":{\"color\":\"#FECB52\",\"pattern\":{\"shape\":\"\"}},\"name\":\"United States of America\",\"offsetgroup\":\"United States of America\",\"orientation\":\"h\",\"showlegend\":true,\"x\":[1.45,null,1.64,0.98,1.77,2.3,null,2.0,1.37],\"xaxis\":\"x\",\"y\":[\"United States of America\",\"United States of America\",\"United States of America\",\"United States of America\",\"United States of America\",\"United States of America\",\"United States of America\",\"United States of America\",\"United States of America\"],\"yaxis\":\"y\",\"type\":\"histogram\"},{\"alignmentgroup\":\"True\",\"bingroup\":\"y\",\"histfunc\":\"sum\",\"hovertemplate\":\"Location=%{y}<br>Period Label=S1-2018<br>sum of Median time in port (days)=%{x}<extra></extra>\",\"legendgroup\":\"United Kingdom\",\"marker\":{\"color\":\"#636efa\",\"pattern\":{\"shape\":\"\"}},\"name\":\"United Kingdom\",\"offsetgroup\":\"United Kingdom\",\"orientation\":\"h\",\"showlegend\":true,\"x\":[1.09,null,1.05,0.73,1.45,2.59,null,1.07,1.44],\"xaxis\":\"x\",\"y\":[\"United Kingdom\",\"United Kingdom\",\"United Kingdom\",\"United Kingdom\",\"United Kingdom\",\"United Kingdom\",\"United Kingdom\",\"United Kingdom\",\"United Kingdom\"],\"yaxis\":\"y\",\"type\":\"histogram\"}],                        {\"template\":{\"data\":{\"histogram2dcontour\":[{\"type\":\"histogram2dcontour\",\"colorbar\":{\"outlinewidth\":0,\"ticks\":\"\"},\"colorscale\":[[0.0,\"#0d0887\"],[0.1111111111111111,\"#46039f\"],[0.2222222222222222,\"#7201a8\"],[0.3333333333333333,\"#9c179e\"],[0.4444444444444444,\"#bd3786\"],[0.5555555555555556,\"#d8576b\"],[0.6666666666666666,\"#ed7953\"],[0.7777777777777778,\"#fb9f3a\"],[0.8888888888888888,\"#fdca26\"],[1.0,\"#f0f921\"]]}],\"choropleth\":[{\"type\":\"choropleth\",\"colorbar\":{\"outlinewidth\":0,\"ticks\":\"\"}}],\"histogram2d\":[{\"type\":\"histogram2d\",\"colorbar\":{\"outlinewidth\":0,\"ticks\":\"\"},\"colorscale\":[[0.0,\"#0d0887\"],[0.1111111111111111,\"#46039f\"],[0.2222222222222222,\"#7201a8\"],[0.3333333333333333,\"#9c179e\"],[0.4444444444444444,\"#bd3786\"],[0.5555555555555556,\"#d8576b\"],[0.6666666666666666,\"#ed7953\"],[0.7777777777777778,\"#fb9f3a\"],[0.8888888888888888,\"#fdca26\"],[1.0,\"#f0f921\"]]}],\"heatmap\":[{\"type\":\"heatmap\",\"colorbar\":{\"outlinewidth\":0,\"ticks\":\"\"},\"colorscale\":[[0.0,\"#0d0887\"],[0.1111111111111111,\"#46039f\"],[0.2222222222222222,\"#7201a8\"],[0.3333333333333333,\"#9c179e\"],[0.4444444444444444,\"#bd3786\"],[0.5555555555555556,\"#d8576b\"],[0.6666666666666666,\"#ed7953\"],[0.7777777777777778,\"#fb9f3a\"],[0.8888888888888888,\"#fdca26\"],[1.0,\"#f0f921\"]]}],\"heatmapgl\":[{\"type\":\"heatmapgl\",\"colorbar\":{\"outlinewidth\":0,\"ticks\":\"\"},\"colorscale\":[[0.0,\"#0d0887\"],[0.1111111111111111,\"#46039f\"],[0.2222222222222222,\"#7201a8\"],[0.3333333333333333,\"#9c179e\"],[0.4444444444444444,\"#bd3786\"],[0.5555555555555556,\"#d8576b\"],[0.6666666666666666,\"#ed7953\"],[0.7777777777777778,\"#fb9f3a\"],[0.8888888888888888,\"#fdca26\"],[1.0,\"#f0f921\"]]}],\"contourcarpet\":[{\"type\":\"contourcarpet\",\"colorbar\":{\"outlinewidth\":0,\"ticks\":\"\"}}],\"contour\":[{\"type\":\"contour\",\"colorbar\":{\"outlinewidth\":0,\"ticks\":\"\"},\"colorscale\":[[0.0,\"#0d0887\"],[0.1111111111111111,\"#46039f\"],[0.2222222222222222,\"#7201a8\"],[0.3333333333333333,\"#9c179e\"],[0.4444444444444444,\"#bd3786\"],[0.5555555555555556,\"#d8576b\"],[0.6666666666666666,\"#ed7953\"],[0.7777777777777778,\"#fb9f3a\"],[0.8888888888888888,\"#fdca26\"],[1.0,\"#f0f921\"]]}],\"surface\":[{\"type\":\"surface\",\"colorbar\":{\"outlinewidth\":0,\"ticks\":\"\"},\"colorscale\":[[0.0,\"#0d0887\"],[0.1111111111111111,\"#46039f\"],[0.2222222222222222,\"#7201a8\"],[0.3333333333333333,\"#9c179e\"],[0.4444444444444444,\"#bd3786\"],[0.5555555555555556,\"#d8576b\"],[0.6666666666666666,\"#ed7953\"],[0.7777777777777778,\"#fb9f3a\"],[0.8888888888888888,\"#fdca26\"],[1.0,\"#f0f921\"]]}],\"mesh3d\":[{\"type\":\"mesh3d\",\"colorbar\":{\"outlinewidth\":0,\"ticks\":\"\"}}],\"scatter\":[{\"fillpattern\":{\"fillmode\":\"overlay\",\"size\":10,\"solidity\":0.2},\"type\":\"scatter\"}],\"parcoords\":[{\"type\":\"parcoords\",\"line\":{\"colorbar\":{\"outlinewidth\":0,\"ticks\":\"\"}}}],\"scatterpolargl\":[{\"type\":\"scatterpolargl\",\"marker\":{\"colorbar\":{\"outlinewidth\":0,\"ticks\":\"\"}}}],\"bar\":[{\"error_x\":{\"color\":\"#2a3f5f\"},\"error_y\":{\"color\":\"#2a3f5f\"},\"marker\":{\"line\":{\"color\":\"#E5ECF6\",\"width\":0.5},\"pattern\":{\"fillmode\":\"overlay\",\"size\":10,\"solidity\":0.2}},\"type\":\"bar\"}],\"scattergeo\":[{\"type\":\"scattergeo\",\"marker\":{\"colorbar\":{\"outlinewidth\":0,\"ticks\":\"\"}}}],\"scatterpolar\":[{\"type\":\"scatterpolar\",\"marker\":{\"colorbar\":{\"outlinewidth\":0,\"ticks\":\"\"}}}],\"histogram\":[{\"marker\":{\"pattern\":{\"fillmode\":\"overlay\",\"size\":10,\"solidity\":0.2}},\"type\":\"histogram\"}],\"scattergl\":[{\"type\":\"scattergl\",\"marker\":{\"colorbar\":{\"outlinewidth\":0,\"ticks\":\"\"}}}],\"scatter3d\":[{\"type\":\"scatter3d\",\"line\":{\"colorbar\":{\"outlinewidth\":0,\"ticks\":\"\"}},\"marker\":{\"colorbar\":{\"outlinewidth\":0,\"ticks\":\"\"}}}],\"scattermapbox\":[{\"type\":\"scattermapbox\",\"marker\":{\"colorbar\":{\"outlinewidth\":0,\"ticks\":\"\"}}}],\"scatterternary\":[{\"type\":\"scatterternary\",\"marker\":{\"colorbar\":{\"outlinewidth\":0,\"ticks\":\"\"}}}],\"scattercarpet\":[{\"type\":\"scattercarpet\",\"marker\":{\"colorbar\":{\"outlinewidth\":0,\"ticks\":\"\"}}}],\"carpet\":[{\"aaxis\":{\"endlinecolor\":\"#2a3f5f\",\"gridcolor\":\"white\",\"linecolor\":\"white\",\"minorgridcolor\":\"white\",\"startlinecolor\":\"#2a3f5f\"},\"baxis\":{\"endlinecolor\":\"#2a3f5f\",\"gridcolor\":\"white\",\"linecolor\":\"white\",\"minorgridcolor\":\"white\",\"startlinecolor\":\"#2a3f5f\"},\"type\":\"carpet\"}],\"table\":[{\"cells\":{\"fill\":{\"color\":\"#EBF0F8\"},\"line\":{\"color\":\"white\"}},\"header\":{\"fill\":{\"color\":\"#C8D4E3\"},\"line\":{\"color\":\"white\"}},\"type\":\"table\"}],\"barpolar\":[{\"marker\":{\"line\":{\"color\":\"#E5ECF6\",\"width\":0.5},\"pattern\":{\"fillmode\":\"overlay\",\"size\":10,\"solidity\":0.2}},\"type\":\"barpolar\"}],\"pie\":[{\"automargin\":true,\"type\":\"pie\"}]},\"layout\":{\"autotypenumbers\":\"strict\",\"colorway\":[\"#636efa\",\"#EF553B\",\"#00cc96\",\"#ab63fa\",\"#FFA15A\",\"#19d3f3\",\"#FF6692\",\"#B6E880\",\"#FF97FF\",\"#FECB52\"],\"font\":{\"color\":\"#2a3f5f\"},\"hovermode\":\"closest\",\"hoverlabel\":{\"align\":\"left\"},\"paper_bgcolor\":\"white\",\"plot_bgcolor\":\"#E5ECF6\",\"polar\":{\"bgcolor\":\"#E5ECF6\",\"angularaxis\":{\"gridcolor\":\"white\",\"linecolor\":\"white\",\"ticks\":\"\"},\"radialaxis\":{\"gridcolor\":\"white\",\"linecolor\":\"white\",\"ticks\":\"\"}},\"ternary\":{\"bgcolor\":\"#E5ECF6\",\"aaxis\":{\"gridcolor\":\"white\",\"linecolor\":\"white\",\"ticks\":\"\"},\"baxis\":{\"gridcolor\":\"white\",\"linecolor\":\"white\",\"ticks\":\"\"},\"caxis\":{\"gridcolor\":\"white\",\"linecolor\":\"white\",\"ticks\":\"\"}},\"coloraxis\":{\"colorbar\":{\"outlinewidth\":0,\"ticks\":\"\"}},\"colorscale\":{\"sequential\":[[0.0,\"#0d0887\"],[0.1111111111111111,\"#46039f\"],[0.2222222222222222,\"#7201a8\"],[0.3333333333333333,\"#9c179e\"],[0.4444444444444444,\"#bd3786\"],[0.5555555555555556,\"#d8576b\"],[0.6666666666666666,\"#ed7953\"],[0.7777777777777778,\"#fb9f3a\"],[0.8888888888888888,\"#fdca26\"],[1.0,\"#f0f921\"]],\"sequentialminus\":[[0.0,\"#0d0887\"],[0.1111111111111111,\"#46039f\"],[0.2222222222222222,\"#7201a8\"],[0.3333333333333333,\"#9c179e\"],[0.4444444444444444,\"#bd3786\"],[0.5555555555555556,\"#d8576b\"],[0.6666666666666666,\"#ed7953\"],[0.7777777777777778,\"#fb9f3a\"],[0.8888888888888888,\"#fdca26\"],[1.0,\"#f0f921\"]],\"diverging\":[[0,\"#8e0152\"],[0.1,\"#c51b7d\"],[0.2,\"#de77ae\"],[0.3,\"#f1b6da\"],[0.4,\"#fde0ef\"],[0.5,\"#f7f7f7\"],[0.6,\"#e6f5d0\"],[0.7,\"#b8e186\"],[0.8,\"#7fbc41\"],[0.9,\"#4d9221\"],[1,\"#276419\"]]},\"xaxis\":{\"gridcolor\":\"white\",\"linecolor\":\"white\",\"ticks\":\"\",\"title\":{\"standoff\":15},\"zerolinecolor\":\"white\",\"automargin\":true,\"zerolinewidth\":2},\"yaxis\":{\"gridcolor\":\"white\",\"linecolor\":\"white\",\"ticks\":\"\",\"title\":{\"standoff\":15},\"zerolinecolor\":\"white\",\"automargin\":true,\"zerolinewidth\":2},\"scene\":{\"xaxis\":{\"backgroundcolor\":\"#E5ECF6\",\"gridcolor\":\"white\",\"linecolor\":\"white\",\"showbackground\":true,\"ticks\":\"\",\"zerolinecolor\":\"white\",\"gridwidth\":2},\"yaxis\":{\"backgroundcolor\":\"#E5ECF6\",\"gridcolor\":\"white\",\"linecolor\":\"white\",\"showbackground\":true,\"ticks\":\"\",\"zerolinecolor\":\"white\",\"gridwidth\":2},\"zaxis\":{\"backgroundcolor\":\"#E5ECF6\",\"gridcolor\":\"white\",\"linecolor\":\"white\",\"showbackground\":true,\"ticks\":\"\",\"zerolinecolor\":\"white\",\"gridwidth\":2}},\"shapedefaults\":{\"line\":{\"color\":\"#2a3f5f\"}},\"annotationdefaults\":{\"arrowcolor\":\"#2a3f5f\",\"arrowhead\":0,\"arrowwidth\":1},\"geo\":{\"bgcolor\":\"white\",\"landcolor\":\"#E5ECF6\",\"subunitcolor\":\"white\",\"showland\":true,\"showlakes\":true,\"lakecolor\":\"white\"},\"title\":{\"x\":0.05},\"mapbox\":{\"style\":\"light\"}}},\"xaxis\":{\"anchor\":\"y\",\"domain\":[0.0,1.0],\"title\":{\"text\":\"sum of Median time in port (days)\"}},\"yaxis\":{\"anchor\":\"x\",\"domain\":[0.0,1.0],\"title\":{\"text\":\"Location\"},\"categoryorder\":\"sum ascending\",\"categoryarray\":[\"United Kingdom\",\"United States of America\",\"T\\u00fcrkiye\",\"Sweden\",\"Spain\",\"Russian Federation\",\"Norway\",\"Netherlands\",\"Korea, Republic of\",\"Japan\",\"Italy\",\"Indonesia\",\"Greece\",\"Germany\",\"France\",\"Denmark\",\"Croatia\",\"China\",\"Canada\",\"Australia\",\"World\"]},\"legend\":{\"title\":{\"text\":\"Location\"},\"tracegroupgap\":0},\"margin\":{\"t\":60},\"barmode\":\"relative\",\"updatemenus\":[{\"buttons\":[{\"args\":[null,{\"frame\":{\"duration\":500,\"redraw\":true},\"mode\":\"immediate\",\"fromcurrent\":true,\"transition\":{\"duration\":500,\"easing\":\"linear\"}}],\"label\":\"&#9654;\",\"method\":\"animate\"},{\"args\":[[null],{\"frame\":{\"duration\":0,\"redraw\":true},\"mode\":\"immediate\",\"fromcurrent\":true,\"transition\":{\"duration\":0,\"easing\":\"linear\"}}],\"label\":\"&#9724;\",\"method\":\"animate\"}],\"direction\":\"left\",\"pad\":{\"r\":10,\"t\":70},\"showactive\":false,\"type\":\"buttons\",\"x\":0.1,\"xanchor\":\"right\",\"y\":0,\"yanchor\":\"top\"}],\"sliders\":[{\"active\":0,\"currentvalue\":{\"prefix\":\"Period Label=\"},\"len\":0.9,\"pad\":{\"b\":10,\"t\":60},\"steps\":[{\"args\":[[\"S1-2018\"],{\"frame\":{\"duration\":0,\"redraw\":true},\"mode\":\"immediate\",\"fromcurrent\":true,\"transition\":{\"duration\":0,\"easing\":\"linear\"}}],\"label\":\"S1-2018\",\"method\":\"animate\"},{\"args\":[[\"S2-2018\"],{\"frame\":{\"duration\":0,\"redraw\":true},\"mode\":\"immediate\",\"fromcurrent\":true,\"transition\":{\"duration\":0,\"easing\":\"linear\"}}],\"label\":\"S2-2018\",\"method\":\"animate\"},{\"args\":[[\"S1-2019\"],{\"frame\":{\"duration\":0,\"redraw\":true},\"mode\":\"immediate\",\"fromcurrent\":true,\"transition\":{\"duration\":0,\"easing\":\"linear\"}}],\"label\":\"S1-2019\",\"method\":\"animate\"},{\"args\":[[\"S2-2019\"],{\"frame\":{\"duration\":0,\"redraw\":true},\"mode\":\"immediate\",\"fromcurrent\":true,\"transition\":{\"duration\":0,\"easing\":\"linear\"}}],\"label\":\"S2-2019\",\"method\":\"animate\"},{\"args\":[[\"S1-2020\"],{\"frame\":{\"duration\":0,\"redraw\":true},\"mode\":\"immediate\",\"fromcurrent\":true,\"transition\":{\"duration\":0,\"easing\":\"linear\"}}],\"label\":\"S1-2020\",\"method\":\"animate\"},{\"args\":[[\"S2-2020\"],{\"frame\":{\"duration\":0,\"redraw\":true},\"mode\":\"immediate\",\"fromcurrent\":true,\"transition\":{\"duration\":0,\"easing\":\"linear\"}}],\"label\":\"S2-2020\",\"method\":\"animate\"},{\"args\":[[\"S1-2021\"],{\"frame\":{\"duration\":0,\"redraw\":true},\"mode\":\"immediate\",\"fromcurrent\":true,\"transition\":{\"duration\":0,\"easing\":\"linear\"}}],\"label\":\"S1-2021\",\"method\":\"animate\"},{\"args\":[[\"S2-2021\"],{\"frame\":{\"duration\":0,\"redraw\":true},\"mode\":\"immediate\",\"fromcurrent\":true,\"transition\":{\"duration\":0,\"easing\":\"linear\"}}],\"label\":\"S2-2021\",\"method\":\"animate\"},{\"args\":[[\"S1-2022\"],{\"frame\":{\"duration\":0,\"redraw\":true},\"mode\":\"immediate\",\"fromcurrent\":true,\"transition\":{\"duration\":0,\"easing\":\"linear\"}}],\"label\":\"S1-2022\",\"method\":\"animate\"}],\"x\":0.1,\"xanchor\":\"left\",\"y\":0,\"yanchor\":\"top\"}]},                        {\"responsive\": true}                    ).then(function(){\n",
       "                            Plotly.addFrames('a7be971a-3839-4f62-8643-c4817b6107e1', [{\"data\":[{\"alignmentgroup\":\"True\",\"bingroup\":\"y\",\"histfunc\":\"sum\",\"hovertemplate\":\"Location=%{y}<br>Period Label=S1-2018<br>sum of Median time in port (days)=%{x}<extra></extra>\",\"legendgroup\":\"World\",\"marker\":{\"color\":\"#636efa\",\"pattern\":{\"shape\":\"\"}},\"name\":\"World\",\"offsetgroup\":\"World\",\"orientation\":\"h\",\"showlegend\":true,\"x\":[0.97,null,0.94,0.69,1.12,2.1,null,1.0,1.11],\"xaxis\":\"x\",\"y\":[\"World\",\"World\",\"World\",\"World\",\"World\",\"World\",\"World\",\"World\",\"World\"],\"yaxis\":\"y\",\"type\":\"histogram\"},{\"alignmentgroup\":\"True\",\"bingroup\":\"y\",\"histfunc\":\"sum\",\"hovertemplate\":\"Location=%{y}<br>Period Label=S1-2018<br>sum of Median time in port (days)=%{x}<extra></extra>\",\"legendgroup\":\"Australia\",\"marker\":{\"color\":\"#EF553B\",\"pattern\":{\"shape\":\"\"}},\"name\":\"Australia\",\"offsetgroup\":\"Australia\",\"orientation\":\"h\",\"showlegend\":true,\"x\":[1.49,null,1.34,1.19,1.69,1.68,null,0.87,1.23],\"xaxis\":\"x\",\"y\":[\"Australia\",\"Australia\",\"Australia\",\"Australia\",\"Australia\",\"Australia\",\"Australia\",\"Australia\",\"Australia\"],\"yaxis\":\"y\",\"type\":\"histogram\"},{\"alignmentgroup\":\"True\",\"bingroup\":\"y\",\"histfunc\":\"sum\",\"hovertemplate\":\"Location=%{y}<br>Period Label=S1-2018<br>sum of Median time in port (days)=%{x}<extra></extra>\",\"legendgroup\":\"Canada\",\"marker\":{\"color\":\"#00cc96\",\"pattern\":{\"shape\":\"\"}},\"name\":\"Canada\",\"offsetgroup\":\"Canada\",\"orientation\":\"h\",\"showlegend\":true,\"x\":[0.84,null,1.18,1.48,0.28,0.55,null],\"xaxis\":\"x\",\"y\":[\"Canada\",\"Canada\",\"Canada\",\"Canada\",\"Canada\",\"Canada\",\"Canada\"],\"yaxis\":\"y\",\"type\":\"histogram\"},{\"alignmentgroup\":\"True\",\"bingroup\":\"y\",\"histfunc\":\"sum\",\"hovertemplate\":\"Location=%{y}<br>Period Label=S1-2018<br>sum of Median time in port (days)=%{x}<extra></extra>\",\"legendgroup\":\"China\",\"marker\":{\"color\":\"#ab63fa\",\"pattern\":{\"shape\":\"\"}},\"name\":\"China\",\"offsetgroup\":\"China\",\"orientation\":\"h\",\"showlegend\":true,\"x\":[1.01,null,1.09,0.6,1.15,1.99,null,0.98,1.26],\"xaxis\":\"x\",\"y\":[\"China\",\"China\",\"China\",\"China\",\"China\",\"China\",\"China\",\"China\",\"China\"],\"yaxis\":\"y\",\"type\":\"histogram\"},{\"alignmentgroup\":\"True\",\"bingroup\":\"y\",\"histfunc\":\"sum\",\"hovertemplate\":\"Location=%{y}<br>Period Label=S1-2018<br>sum of Median time in port (days)=%{x}<extra></extra>\",\"legendgroup\":\"Croatia\",\"marker\":{\"color\":\"#FFA15A\",\"pattern\":{\"shape\":\"\"}},\"name\":\"Croatia\",\"offsetgroup\":\"Croatia\",\"orientation\":\"h\",\"showlegend\":true,\"x\":[1.18,null,1.02,0.55,2.87,2.09],\"xaxis\":\"x\",\"y\":[\"Croatia\",\"Croatia\",\"Croatia\",\"Croatia\",\"Croatia\",\"Croatia\"],\"yaxis\":\"y\",\"type\":\"histogram\"},{\"alignmentgroup\":\"True\",\"bingroup\":\"y\",\"histfunc\":\"sum\",\"hovertemplate\":\"Location=%{y}<br>Period Label=S1-2018<br>sum of Median time in port (days)=%{x}<extra></extra>\",\"legendgroup\":\"Denmark\",\"marker\":{\"color\":\"#19d3f3\",\"pattern\":{\"shape\":\"\"}},\"name\":\"Denmark\",\"offsetgroup\":\"Denmark\",\"orientation\":\"h\",\"showlegend\":true,\"x\":[0.74,null,0.64,0.48,0.85,0.84,null,1.08],\"xaxis\":\"x\",\"y\":[\"Denmark\",\"Denmark\",\"Denmark\",\"Denmark\",\"Denmark\",\"Denmark\",\"Denmark\",\"Denmark\"],\"yaxis\":\"y\",\"type\":\"histogram\"},{\"alignmentgroup\":\"True\",\"bingroup\":\"y\",\"histfunc\":\"sum\",\"hovertemplate\":\"Location=%{y}<br>Period Label=S1-2018<br>sum of Median time in port (days)=%{x}<extra></extra>\",\"legendgroup\":\"France\",\"marker\":{\"color\":\"#FF6692\",\"pattern\":{\"shape\":\"\"}},\"name\":\"France\",\"offsetgroup\":\"France\",\"orientation\":\"h\",\"showlegend\":true,\"x\":[1.11,null,1.06,0.76,1.44,3.22,null,1.08,1.21],\"xaxis\":\"x\",\"y\":[\"France\",\"France\",\"France\",\"France\",\"France\",\"France\",\"France\",\"France\",\"France\"],\"yaxis\":\"y\",\"type\":\"histogram\"},{\"alignmentgroup\":\"True\",\"bingroup\":\"y\",\"histfunc\":\"sum\",\"hovertemplate\":\"Location=%{y}<br>Period Label=S1-2018<br>sum of Median time in port (days)=%{x}<extra></extra>\",\"legendgroup\":\"Germany\",\"marker\":{\"color\":\"#B6E880\",\"pattern\":{\"shape\":\"\"}},\"name\":\"Germany\",\"offsetgroup\":\"Germany\",\"orientation\":\"h\",\"showlegend\":true,\"x\":[0.58,null,0.36,0.79,0.54,2.43,null,0.73],\"xaxis\":\"x\",\"y\":[\"Germany\",\"Germany\",\"Germany\",\"Germany\",\"Germany\",\"Germany\",\"Germany\",\"Germany\"],\"yaxis\":\"y\",\"type\":\"histogram\"},{\"alignmentgroup\":\"True\",\"bingroup\":\"y\",\"histfunc\":\"sum\",\"hovertemplate\":\"Location=%{y}<br>Period Label=S1-2018<br>sum of Median time in port (days)=%{x}<extra></extra>\",\"legendgroup\":\"Greece\",\"marker\":{\"color\":\"#FF97FF\",\"pattern\":{\"shape\":\"\"}},\"name\":\"Greece\",\"offsetgroup\":\"Greece\",\"orientation\":\"h\",\"showlegend\":true,\"x\":[0.72,null,0.55,0.92,1.07,0.36,null,0.92],\"xaxis\":\"x\",\"y\":[\"Greece\",\"Greece\",\"Greece\",\"Greece\",\"Greece\",\"Greece\",\"Greece\",\"Greece\"],\"yaxis\":\"y\",\"type\":\"histogram\"},{\"alignmentgroup\":\"True\",\"bingroup\":\"y\",\"histfunc\":\"sum\",\"hovertemplate\":\"Location=%{y}<br>Period Label=S1-2018<br>sum of Median time in port (days)=%{x}<extra></extra>\",\"legendgroup\":\"Indonesia\",\"marker\":{\"color\":\"#FECB52\",\"pattern\":{\"shape\":\"\"}},\"name\":\"Indonesia\",\"offsetgroup\":\"Indonesia\",\"orientation\":\"h\",\"showlegend\":true,\"x\":[1.33,null,1.32,1.06,1.21,3.67,null,1.12,1.24],\"xaxis\":\"x\",\"y\":[\"Indonesia\",\"Indonesia\",\"Indonesia\",\"Indonesia\",\"Indonesia\",\"Indonesia\",\"Indonesia\",\"Indonesia\",\"Indonesia\"],\"yaxis\":\"y\",\"type\":\"histogram\"},{\"alignmentgroup\":\"True\",\"bingroup\":\"y\",\"histfunc\":\"sum\",\"hovertemplate\":\"Location=%{y}<br>Period Label=S1-2018<br>sum of Median time in port (days)=%{x}<extra></extra>\",\"legendgroup\":\"Italy\",\"marker\":{\"color\":\"#636efa\",\"pattern\":{\"shape\":\"\"}},\"name\":\"Italy\",\"offsetgroup\":\"Italy\",\"orientation\":\"h\",\"showlegend\":true,\"x\":[1.25,null,1.31,0.82,1.96,3.49,null,1.39],\"xaxis\":\"x\",\"y\":[\"Italy\",\"Italy\",\"Italy\",\"Italy\",\"Italy\",\"Italy\",\"Italy\",\"Italy\"],\"yaxis\":\"y\",\"type\":\"histogram\"},{\"alignmentgroup\":\"True\",\"bingroup\":\"y\",\"histfunc\":\"sum\",\"hovertemplate\":\"Location=%{y}<br>Period Label=S1-2018<br>sum of Median time in port (days)=%{x}<extra></extra>\",\"legendgroup\":\"Japan\",\"marker\":{\"color\":\"#EF553B\",\"pattern\":{\"shape\":\"\"}},\"name\":\"Japan\",\"offsetgroup\":\"Japan\",\"orientation\":\"h\",\"showlegend\":true,\"x\":[0.41,null,0.31,0.35,1.15,0.93,null,0.31,0.99],\"xaxis\":\"x\",\"y\":[\"Japan\",\"Japan\",\"Japan\",\"Japan\",\"Japan\",\"Japan\",\"Japan\",\"Japan\",\"Japan\"],\"yaxis\":\"y\",\"type\":\"histogram\"},{\"alignmentgroup\":\"True\",\"bingroup\":\"y\",\"histfunc\":\"sum\",\"hovertemplate\":\"Location=%{y}<br>Period Label=S1-2018<br>sum of Median time in port (days)=%{x}<extra></extra>\",\"legendgroup\":\"Korea, Republic of\",\"marker\":{\"color\":\"#00cc96\",\"pattern\":{\"shape\":\"\"}},\"name\":\"Korea, Republic of\",\"offsetgroup\":\"Korea, Republic of\",\"orientation\":\"h\",\"showlegend\":true,\"x\":[0.77,null,0.78,0.57,1.27,2.23,null,0.71,1.03],\"xaxis\":\"x\",\"y\":[\"Korea, Republic of\",\"Korea, Republic of\",\"Korea, Republic of\",\"Korea, Republic of\",\"Korea, Republic of\",\"Korea, Republic of\",\"Korea, Republic of\",\"Korea, Republic of\",\"Korea, Republic of\"],\"yaxis\":\"y\",\"type\":\"histogram\"},{\"alignmentgroup\":\"True\",\"bingroup\":\"y\",\"histfunc\":\"sum\",\"hovertemplate\":\"Location=%{y}<br>Period Label=S1-2018<br>sum of Median time in port (days)=%{x}<extra></extra>\",\"legendgroup\":\"Netherlands\",\"marker\":{\"color\":\"#ab63fa\",\"pattern\":{\"shape\":\"\"}},\"name\":\"Netherlands\",\"offsetgroup\":\"Netherlands\",\"orientation\":\"h\",\"showlegend\":true,\"x\":[0.56,null,0.51,0.8,0.35,0.66,null,0.93,1.4],\"xaxis\":\"x\",\"y\":[\"Netherlands\",\"Netherlands\",\"Netherlands\",\"Netherlands\",\"Netherlands\",\"Netherlands\",\"Netherlands\",\"Netherlands\",\"Netherlands\"],\"yaxis\":\"y\",\"type\":\"histogram\"},{\"alignmentgroup\":\"True\",\"bingroup\":\"y\",\"histfunc\":\"sum\",\"hovertemplate\":\"Location=%{y}<br>Period Label=S1-2018<br>sum of Median time in port (days)=%{x}<extra></extra>\",\"legendgroup\":\"Norway\",\"marker\":{\"color\":\"#FFA15A\",\"pattern\":{\"shape\":\"\"}},\"name\":\"Norway\",\"offsetgroup\":\"Norway\",\"orientation\":\"h\",\"showlegend\":true,\"x\":[0.43,null,0.61,0.32,0.34,0.89,null,0.75,0.31],\"xaxis\":\"x\",\"y\":[\"Norway\",\"Norway\",\"Norway\",\"Norway\",\"Norway\",\"Norway\",\"Norway\",\"Norway\",\"Norway\"],\"yaxis\":\"y\",\"type\":\"histogram\"},{\"alignmentgroup\":\"True\",\"bingroup\":\"y\",\"histfunc\":\"sum\",\"hovertemplate\":\"Location=%{y}<br>Period Label=S1-2018<br>sum of Median time in port (days)=%{x}<extra></extra>\",\"legendgroup\":\"Russian Federation\",\"marker\":{\"color\":\"#19d3f3\",\"pattern\":{\"shape\":\"\"}},\"name\":\"Russian Federation\",\"offsetgroup\":\"Russian Federation\",\"orientation\":\"h\",\"showlegend\":true,\"x\":[1.42,null,1.09,1.37,1.75,2.49,null,1.39,1.15],\"xaxis\":\"x\",\"y\":[\"Russian Federation\",\"Russian Federation\",\"Russian Federation\",\"Russian Federation\",\"Russian Federation\",\"Russian Federation\",\"Russian Federation\",\"Russian Federation\",\"Russian Federation\"],\"yaxis\":\"y\",\"type\":\"histogram\"},{\"alignmentgroup\":\"True\",\"bingroup\":\"y\",\"histfunc\":\"sum\",\"hovertemplate\":\"Location=%{y}<br>Period Label=S1-2018<br>sum of Median time in port (days)=%{x}<extra></extra>\",\"legendgroup\":\"Spain\",\"marker\":{\"color\":\"#FF6692\",\"pattern\":{\"shape\":\"\"}},\"name\":\"Spain\",\"offsetgroup\":\"Spain\",\"orientation\":\"h\",\"showlegend\":true,\"x\":[0.85,null,0.84,0.66,1.14,2.25,null,0.95,1.04],\"xaxis\":\"x\",\"y\":[\"Spain\",\"Spain\",\"Spain\",\"Spain\",\"Spain\",\"Spain\",\"Spain\",\"Spain\",\"Spain\"],\"yaxis\":\"y\",\"type\":\"histogram\"},{\"alignmentgroup\":\"True\",\"bingroup\":\"y\",\"histfunc\":\"sum\",\"hovertemplate\":\"Location=%{y}<br>Period Label=S1-2018<br>sum of Median time in port (days)=%{x}<extra></extra>\",\"legendgroup\":\"Sweden\",\"marker\":{\"color\":\"#B6E880\",\"pattern\":{\"shape\":\"\"}},\"name\":\"Sweden\",\"offsetgroup\":\"Sweden\",\"orientation\":\"h\",\"showlegend\":true,\"x\":[0.79,null,0.67,0.67,1.04,0.53,null,0.81,0.58],\"xaxis\":\"x\",\"y\":[\"Sweden\",\"Sweden\",\"Sweden\",\"Sweden\",\"Sweden\",\"Sweden\",\"Sweden\",\"Sweden\",\"Sweden\"],\"yaxis\":\"y\",\"type\":\"histogram\"},{\"alignmentgroup\":\"True\",\"bingroup\":\"y\",\"histfunc\":\"sum\",\"hovertemplate\":\"Location=%{y}<br>Period Label=S1-2018<br>sum of Median time in port (days)=%{x}<extra></extra>\",\"legendgroup\":\"T\\u00fcrkiye\",\"marker\":{\"color\":\"#FF97FF\",\"pattern\":{\"shape\":\"\"}},\"name\":\"T\\u00fcrkiye\",\"offsetgroup\":\"T\\u00fcrkiye\",\"orientation\":\"h\",\"showlegend\":true,\"x\":[1.23,null,1.1,0.63,1.55,4.13,null,1.38,1.3],\"xaxis\":\"x\",\"y\":[\"T\\u00fcrkiye\",\"T\\u00fcrkiye\",\"T\\u00fcrkiye\",\"T\\u00fcrkiye\",\"T\\u00fcrkiye\",\"T\\u00fcrkiye\",\"T\\u00fcrkiye\",\"T\\u00fcrkiye\",\"T\\u00fcrkiye\"],\"yaxis\":\"y\",\"type\":\"histogram\"},{\"alignmentgroup\":\"True\",\"bingroup\":\"y\",\"histfunc\":\"sum\",\"hovertemplate\":\"Location=%{y}<br>Period Label=S1-2018<br>sum of Median time in port (days)=%{x}<extra></extra>\",\"legendgroup\":\"United States of America\",\"marker\":{\"color\":\"#FECB52\",\"pattern\":{\"shape\":\"\"}},\"name\":\"United States of America\",\"offsetgroup\":\"United States of America\",\"orientation\":\"h\",\"showlegend\":true,\"x\":[1.45,null,1.64,0.98,1.77,2.3,null,2.0,1.37],\"xaxis\":\"x\",\"y\":[\"United States of America\",\"United States of America\",\"United States of America\",\"United States of America\",\"United States of America\",\"United States of America\",\"United States of America\",\"United States of America\",\"United States of America\"],\"yaxis\":\"y\",\"type\":\"histogram\"},{\"alignmentgroup\":\"True\",\"bingroup\":\"y\",\"histfunc\":\"sum\",\"hovertemplate\":\"Location=%{y}<br>Period Label=S1-2018<br>sum of Median time in port (days)=%{x}<extra></extra>\",\"legendgroup\":\"United Kingdom\",\"marker\":{\"color\":\"#636efa\",\"pattern\":{\"shape\":\"\"}},\"name\":\"United Kingdom\",\"offsetgroup\":\"United Kingdom\",\"orientation\":\"h\",\"showlegend\":true,\"x\":[1.09,null,1.05,0.73,1.45,2.59,null,1.07,1.44],\"xaxis\":\"x\",\"y\":[\"United Kingdom\",\"United Kingdom\",\"United Kingdom\",\"United Kingdom\",\"United Kingdom\",\"United Kingdom\",\"United Kingdom\",\"United Kingdom\",\"United Kingdom\"],\"yaxis\":\"y\",\"type\":\"histogram\"}],\"name\":\"S1-2018\"},{\"data\":[{\"alignmentgroup\":\"True\",\"bingroup\":\"y\",\"histfunc\":\"sum\",\"hovertemplate\":\"Location=%{y}<br>Period Label=S2-2018<br>sum of Median time in port (days)=%{x}<extra></extra>\",\"legendgroup\":\"World\",\"marker\":{\"color\":\"#636efa\",\"pattern\":{\"shape\":\"\"}},\"name\":\"World\",\"offsetgroup\":\"World\",\"orientation\":\"h\",\"showlegend\":true,\"x\":[0.97,null,0.94,0.71,1.1,2.0,null,1.03,1.12],\"xaxis\":\"x\",\"y\":[\"World\",\"World\",\"World\",\"World\",\"World\",\"World\",\"World\",\"World\",\"World\"],\"yaxis\":\"y\",\"type\":\"histogram\"},{\"alignmentgroup\":\"True\",\"bingroup\":\"y\",\"histfunc\":\"sum\",\"hovertemplate\":\"Location=%{y}<br>Period Label=S2-2018<br>sum of Median time in port (days)=%{x}<extra></extra>\",\"legendgroup\":\"Australia\",\"marker\":{\"color\":\"#EF553B\",\"pattern\":{\"shape\":\"\"}},\"name\":\"Australia\",\"offsetgroup\":\"Australia\",\"orientation\":\"h\",\"showlegend\":true,\"x\":[1.46,null,1.35,1.2,1.9,1.62,null,0.92,1.19],\"xaxis\":\"x\",\"y\":[\"Australia\",\"Australia\",\"Australia\",\"Australia\",\"Australia\",\"Australia\",\"Australia\",\"Australia\",\"Australia\"],\"yaxis\":\"y\",\"type\":\"histogram\"},{\"alignmentgroup\":\"True\",\"bingroup\":\"y\",\"histfunc\":\"sum\",\"hovertemplate\":\"Location=%{y}<br>Period Label=S2-2018<br>sum of Median time in port (days)=%{x}<extra></extra>\",\"legendgroup\":\"Canada\",\"marker\":{\"color\":\"#00cc96\",\"pattern\":{\"shape\":\"\"}},\"name\":\"Canada\",\"offsetgroup\":\"Canada\",\"orientation\":\"h\",\"showlegend\":true,\"x\":[0.54,null,1.09,1.51,0.28,0.2,null],\"xaxis\":\"x\",\"y\":[\"Canada\",\"Canada\",\"Canada\",\"Canada\",\"Canada\",\"Canada\",\"Canada\"],\"yaxis\":\"y\",\"type\":\"histogram\"},{\"alignmentgroup\":\"True\",\"bingroup\":\"y\",\"histfunc\":\"sum\",\"hovertemplate\":\"Location=%{y}<br>Period Label=S2-2018<br>sum of Median time in port (days)=%{x}<extra></extra>\",\"legendgroup\":\"China\",\"marker\":{\"color\":\"#ab63fa\",\"pattern\":{\"shape\":\"\"}},\"name\":\"China\",\"offsetgroup\":\"China\",\"orientation\":\"h\",\"showlegend\":true,\"x\":[1.04,null,1.11,0.63,1.19,2.0,null,1.01,1.19],\"xaxis\":\"x\",\"y\":[\"China\",\"China\",\"China\",\"China\",\"China\",\"China\",\"China\",\"China\",\"China\"],\"yaxis\":\"y\",\"type\":\"histogram\"},{\"alignmentgroup\":\"True\",\"bingroup\":\"y\",\"histfunc\":\"sum\",\"hovertemplate\":\"Location=%{y}<br>Period Label=S2-2018<br>sum of Median time in port (days)=%{x}<extra></extra>\",\"legendgroup\":\"Croatia\",\"marker\":{\"color\":\"#FFA15A\",\"pattern\":{\"shape\":\"\"}},\"name\":\"Croatia\",\"offsetgroup\":\"Croatia\",\"orientation\":\"h\",\"showlegend\":true,\"x\":[1.21,null,1.05,0.62,2.49,1.67],\"xaxis\":\"x\",\"y\":[\"Croatia\",\"Croatia\",\"Croatia\",\"Croatia\",\"Croatia\",\"Croatia\"],\"yaxis\":\"y\",\"type\":\"histogram\"},{\"alignmentgroup\":\"True\",\"bingroup\":\"y\",\"histfunc\":\"sum\",\"hovertemplate\":\"Location=%{y}<br>Period Label=S2-2018<br>sum of Median time in port (days)=%{x}<extra></extra>\",\"legendgroup\":\"Denmark\",\"marker\":{\"color\":\"#19d3f3\",\"pattern\":{\"shape\":\"\"}},\"name\":\"Denmark\",\"offsetgroup\":\"Denmark\",\"orientation\":\"h\",\"showlegend\":true,\"x\":[0.74,null,0.66,0.5,0.84,0.9,null,1.01],\"xaxis\":\"x\",\"y\":[\"Denmark\",\"Denmark\",\"Denmark\",\"Denmark\",\"Denmark\",\"Denmark\",\"Denmark\",\"Denmark\"],\"yaxis\":\"y\",\"type\":\"histogram\"},{\"alignmentgroup\":\"True\",\"bingroup\":\"y\",\"histfunc\":\"sum\",\"hovertemplate\":\"Location=%{y}<br>Period Label=S2-2018<br>sum of Median time in port (days)=%{x}<extra></extra>\",\"legendgroup\":\"France\",\"marker\":{\"color\":\"#FF6692\",\"pattern\":{\"shape\":\"\"}},\"name\":\"France\",\"offsetgroup\":\"France\",\"orientation\":\"h\",\"showlegend\":true,\"x\":[1.12,null,1.06,0.73,1.54,3.02,null,1.06,1.18],\"xaxis\":\"x\",\"y\":[\"France\",\"France\",\"France\",\"France\",\"France\",\"France\",\"France\",\"France\",\"France\"],\"yaxis\":\"y\",\"type\":\"histogram\"},{\"alignmentgroup\":\"True\",\"bingroup\":\"y\",\"histfunc\":\"sum\",\"hovertemplate\":\"Location=%{y}<br>Period Label=S2-2018<br>sum of Median time in port (days)=%{x}<extra></extra>\",\"legendgroup\":\"Germany\",\"marker\":{\"color\":\"#B6E880\",\"pattern\":{\"shape\":\"\"}},\"name\":\"Germany\",\"offsetgroup\":\"Germany\",\"orientation\":\"h\",\"showlegend\":true,\"x\":[0.54,null,0.36,0.78,0.46,2.49,null,0.76],\"xaxis\":\"x\",\"y\":[\"Germany\",\"Germany\",\"Germany\",\"Germany\",\"Germany\",\"Germany\",\"Germany\",\"Germany\"],\"yaxis\":\"y\",\"type\":\"histogram\"},{\"alignmentgroup\":\"True\",\"bingroup\":\"y\",\"histfunc\":\"sum\",\"hovertemplate\":\"Location=%{y}<br>Period Label=S2-2018<br>sum of Median time in port (days)=%{x}<extra></extra>\",\"legendgroup\":\"Greece\",\"marker\":{\"color\":\"#FF97FF\",\"pattern\":{\"shape\":\"\"}},\"name\":\"Greece\",\"offsetgroup\":\"Greece\",\"orientation\":\"h\",\"showlegend\":true,\"x\":[0.69,null,0.53,0.99,1.07,0.35,null,0.84,0.99],\"xaxis\":\"x\",\"y\":[\"Greece\",\"Greece\",\"Greece\",\"Greece\",\"Greece\",\"Greece\",\"Greece\",\"Greece\",\"Greece\"],\"yaxis\":\"y\",\"type\":\"histogram\"},{\"alignmentgroup\":\"True\",\"bingroup\":\"y\",\"histfunc\":\"sum\",\"hovertemplate\":\"Location=%{y}<br>Period Label=S2-2018<br>sum of Median time in port (days)=%{x}<extra></extra>\",\"legendgroup\":\"Indonesia\",\"marker\":{\"color\":\"#FECB52\",\"pattern\":{\"shape\":\"\"}},\"name\":\"Indonesia\",\"offsetgroup\":\"Indonesia\",\"orientation\":\"h\",\"showlegend\":true,\"x\":[1.35,null,1.23,1.11,1.31,3.46,null,1.15,1.41],\"xaxis\":\"x\",\"y\":[\"Indonesia\",\"Indonesia\",\"Indonesia\",\"Indonesia\",\"Indonesia\",\"Indonesia\",\"Indonesia\",\"Indonesia\",\"Indonesia\"],\"yaxis\":\"y\",\"type\":\"histogram\"},{\"alignmentgroup\":\"True\",\"bingroup\":\"y\",\"histfunc\":\"sum\",\"hovertemplate\":\"Location=%{y}<br>Period Label=S2-2018<br>sum of Median time in port (days)=%{x}<extra></extra>\",\"legendgroup\":\"Italy\",\"marker\":{\"color\":\"#636efa\",\"pattern\":{\"shape\":\"\"}},\"name\":\"Italy\",\"offsetgroup\":\"Italy\",\"orientation\":\"h\",\"showlegend\":true,\"x\":[1.25,null,1.28,0.83,1.88,3.66,null,1.57],\"xaxis\":\"x\",\"y\":[\"Italy\",\"Italy\",\"Italy\",\"Italy\",\"Italy\",\"Italy\",\"Italy\",\"Italy\"],\"yaxis\":\"y\",\"type\":\"histogram\"},{\"alignmentgroup\":\"True\",\"bingroup\":\"y\",\"histfunc\":\"sum\",\"hovertemplate\":\"Location=%{y}<br>Period Label=S2-2018<br>sum of Median time in port (days)=%{x}<extra></extra>\",\"legendgroup\":\"Japan\",\"marker\":{\"color\":\"#EF553B\",\"pattern\":{\"shape\":\"\"}},\"name\":\"Japan\",\"offsetgroup\":\"Japan\",\"orientation\":\"h\",\"showlegend\":true,\"x\":[0.41,null,0.31,0.35,1.1,0.86,null,0.32,1.0],\"xaxis\":\"x\",\"y\":[\"Japan\",\"Japan\",\"Japan\",\"Japan\",\"Japan\",\"Japan\",\"Japan\",\"Japan\",\"Japan\"],\"yaxis\":\"y\",\"type\":\"histogram\"},{\"alignmentgroup\":\"True\",\"bingroup\":\"y\",\"histfunc\":\"sum\",\"hovertemplate\":\"Location=%{y}<br>Period Label=S2-2018<br>sum of Median time in port (days)=%{x}<extra></extra>\",\"legendgroup\":\"Korea, Republic of\",\"marker\":{\"color\":\"#00cc96\",\"pattern\":{\"shape\":\"\"}},\"name\":\"Korea, Republic of\",\"offsetgroup\":\"Korea, Republic of\",\"orientation\":\"h\",\"showlegend\":true,\"x\":[0.81,null,0.8,0.62,1.3,2.42,null,0.74,1.04],\"xaxis\":\"x\",\"y\":[\"Korea, Republic of\",\"Korea, Republic of\",\"Korea, Republic of\",\"Korea, Republic of\",\"Korea, Republic of\",\"Korea, Republic of\",\"Korea, Republic of\",\"Korea, Republic of\",\"Korea, Republic of\"],\"yaxis\":\"y\",\"type\":\"histogram\"},{\"alignmentgroup\":\"True\",\"bingroup\":\"y\",\"histfunc\":\"sum\",\"hovertemplate\":\"Location=%{y}<br>Period Label=S2-2018<br>sum of Median time in port (days)=%{x}<extra></extra>\",\"legendgroup\":\"Netherlands\",\"marker\":{\"color\":\"#ab63fa\",\"pattern\":{\"shape\":\"\"}},\"name\":\"Netherlands\",\"offsetgroup\":\"Netherlands\",\"orientation\":\"h\",\"showlegend\":true,\"x\":[0.57,null,0.48,0.76,0.45,0.93,null,0.96,1.19],\"xaxis\":\"x\",\"y\":[\"Netherlands\",\"Netherlands\",\"Netherlands\",\"Netherlands\",\"Netherlands\",\"Netherlands\",\"Netherlands\",\"Netherlands\",\"Netherlands\"],\"yaxis\":\"y\",\"type\":\"histogram\"},{\"alignmentgroup\":\"True\",\"bingroup\":\"y\",\"histfunc\":\"sum\",\"hovertemplate\":\"Location=%{y}<br>Period Label=S2-2018<br>sum of Median time in port (days)=%{x}<extra></extra>\",\"legendgroup\":\"Norway\",\"marker\":{\"color\":\"#FFA15A\",\"pattern\":{\"shape\":\"\"}},\"name\":\"Norway\",\"offsetgroup\":\"Norway\",\"orientation\":\"h\",\"showlegend\":true,\"x\":[0.43,null,0.6,0.34,0.34,0.86,null,0.75,0.37],\"xaxis\":\"x\",\"y\":[\"Norway\",\"Norway\",\"Norway\",\"Norway\",\"Norway\",\"Norway\",\"Norway\",\"Norway\",\"Norway\"],\"yaxis\":\"y\",\"type\":\"histogram\"},{\"alignmentgroup\":\"True\",\"bingroup\":\"y\",\"histfunc\":\"sum\",\"hovertemplate\":\"Location=%{y}<br>Period Label=S2-2018<br>sum of Median time in port (days)=%{x}<extra></extra>\",\"legendgroup\":\"Russian Federation\",\"marker\":{\"color\":\"#19d3f3\",\"pattern\":{\"shape\":\"\"}},\"name\":\"Russian Federation\",\"offsetgroup\":\"Russian Federation\",\"orientation\":\"h\",\"showlegend\":true,\"x\":[1.26,null,0.98,1.45,1.39,2.5,null,1.32,1.07],\"xaxis\":\"x\",\"y\":[\"Russian Federation\",\"Russian Federation\",\"Russian Federation\",\"Russian Federation\",\"Russian Federation\",\"Russian Federation\",\"Russian Federation\",\"Russian Federation\",\"Russian Federation\"],\"yaxis\":\"y\",\"type\":\"histogram\"},{\"alignmentgroup\":\"True\",\"bingroup\":\"y\",\"histfunc\":\"sum\",\"hovertemplate\":\"Location=%{y}<br>Period Label=S2-2018<br>sum of Median time in port (days)=%{x}<extra></extra>\",\"legendgroup\":\"Spain\",\"marker\":{\"color\":\"#FF6692\",\"pattern\":{\"shape\":\"\"}},\"name\":\"Spain\",\"offsetgroup\":\"Spain\",\"orientation\":\"h\",\"showlegend\":true,\"x\":[0.87,null,0.84,0.67,1.14,2.28,null,0.97,1.06],\"xaxis\":\"x\",\"y\":[\"Spain\",\"Spain\",\"Spain\",\"Spain\",\"Spain\",\"Spain\",\"Spain\",\"Spain\",\"Spain\"],\"yaxis\":\"y\",\"type\":\"histogram\"},{\"alignmentgroup\":\"True\",\"bingroup\":\"y\",\"histfunc\":\"sum\",\"hovertemplate\":\"Location=%{y}<br>Period Label=S2-2018<br>sum of Median time in port (days)=%{x}<extra></extra>\",\"legendgroup\":\"Sweden\",\"marker\":{\"color\":\"#B6E880\",\"pattern\":{\"shape\":\"\"}},\"name\":\"Sweden\",\"offsetgroup\":\"Sweden\",\"orientation\":\"h\",\"showlegend\":true,\"x\":[0.8,null,0.69,0.61,1.05,0.49,null,0.84,0.62],\"xaxis\":\"x\",\"y\":[\"Sweden\",\"Sweden\",\"Sweden\",\"Sweden\",\"Sweden\",\"Sweden\",\"Sweden\",\"Sweden\",\"Sweden\"],\"yaxis\":\"y\",\"type\":\"histogram\"},{\"alignmentgroup\":\"True\",\"bingroup\":\"y\",\"histfunc\":\"sum\",\"hovertemplate\":\"Location=%{y}<br>Period Label=S2-2018<br>sum of Median time in port (days)=%{x}<extra></extra>\",\"legendgroup\":\"T\\u00fcrkiye\",\"marker\":{\"color\":\"#FF97FF\",\"pattern\":{\"shape\":\"\"}},\"name\":\"T\\u00fcrkiye\",\"offsetgroup\":\"T\\u00fcrkiye\",\"orientation\":\"h\",\"showlegend\":true,\"x\":[1.15,null,1.12,0.63,1.48,3.82,null,1.35,1.34],\"xaxis\":\"x\",\"y\":[\"T\\u00fcrkiye\",\"T\\u00fcrkiye\",\"T\\u00fcrkiye\",\"T\\u00fcrkiye\",\"T\\u00fcrkiye\",\"T\\u00fcrkiye\",\"T\\u00fcrkiye\",\"T\\u00fcrkiye\",\"T\\u00fcrkiye\"],\"yaxis\":\"y\",\"type\":\"histogram\"},{\"alignmentgroup\":\"True\",\"bingroup\":\"y\",\"histfunc\":\"sum\",\"hovertemplate\":\"Location=%{y}<br>Period Label=S2-2018<br>sum of Median time in port (days)=%{x}<extra></extra>\",\"legendgroup\":\"United States of America\",\"marker\":{\"color\":\"#FECB52\",\"pattern\":{\"shape\":\"\"}},\"name\":\"United States of America\",\"offsetgroup\":\"United States of America\",\"orientation\":\"h\",\"showlegend\":true,\"x\":[1.37,null,1.64,1.01,1.81,1.41,null,2.05,1.25],\"xaxis\":\"x\",\"y\":[\"United States of America\",\"United States of America\",\"United States of America\",\"United States of America\",\"United States of America\",\"United States of America\",\"United States of America\",\"United States of America\",\"United States of America\"],\"yaxis\":\"y\",\"type\":\"histogram\"},{\"alignmentgroup\":\"True\",\"bingroup\":\"y\",\"histfunc\":\"sum\",\"hovertemplate\":\"Location=%{y}<br>Period Label=S2-2018<br>sum of Median time in port (days)=%{x}<extra></extra>\",\"legendgroup\":\"United Kingdom\",\"marker\":{\"color\":\"#636efa\",\"pattern\":{\"shape\":\"\"}},\"name\":\"United Kingdom\",\"offsetgroup\":\"United Kingdom\",\"orientation\":\"h\",\"showlegend\":true,\"x\":[1.1,null,1.06,0.73,1.46,2.97,null,1.08,1.39],\"xaxis\":\"x\",\"y\":[\"United Kingdom\",\"United Kingdom\",\"United Kingdom\",\"United Kingdom\",\"United Kingdom\",\"United Kingdom\",\"United Kingdom\",\"United Kingdom\",\"United Kingdom\"],\"yaxis\":\"y\",\"type\":\"histogram\"}],\"name\":\"S2-2018\"},{\"data\":[{\"alignmentgroup\":\"True\",\"bingroup\":\"y\",\"histfunc\":\"sum\",\"hovertemplate\":\"Location=%{y}<br>Period Label=S1-2019<br>sum of Median time in port (days)=%{x}<extra></extra>\",\"legendgroup\":\"World\",\"marker\":{\"color\":\"#636efa\",\"pattern\":{\"shape\":\"\"}},\"name\":\"World\",\"offsetgroup\":\"World\",\"orientation\":\"h\",\"showlegend\":true,\"x\":[0.9646,null,0.9306,0.6931,1.1028,2.0104,null,1.0229,1.1069],\"xaxis\":\"x\",\"y\":[\"World\",\"World\",\"World\",\"World\",\"World\",\"World\",\"World\",\"World\",\"World\"],\"yaxis\":\"y\",\"type\":\"histogram\"},{\"alignmentgroup\":\"True\",\"bingroup\":\"y\",\"histfunc\":\"sum\",\"hovertemplate\":\"Location=%{y}<br>Period Label=S1-2019<br>sum of Median time in port (days)=%{x}<extra></extra>\",\"legendgroup\":\"Australia\",\"marker\":{\"color\":\"#EF553B\",\"pattern\":{\"shape\":\"\"}},\"name\":\"Australia\",\"offsetgroup\":\"Australia\",\"orientation\":\"h\",\"showlegend\":true,\"x\":[1.4014,null,1.249,1.1222,1.7181,1.5569,null,0.9104,1.2205],\"xaxis\":\"x\",\"y\":[\"Australia\",\"Australia\",\"Australia\",\"Australia\",\"Australia\",\"Australia\",\"Australia\",\"Australia\",\"Australia\"],\"yaxis\":\"y\",\"type\":\"histogram\"},{\"alignmentgroup\":\"True\",\"bingroup\":\"y\",\"histfunc\":\"sum\",\"hovertemplate\":\"Location=%{y}<br>Period Label=S1-2019<br>sum of Median time in port (days)=%{x}<extra></extra>\",\"legendgroup\":\"Canada\",\"marker\":{\"color\":\"#00cc96\",\"pattern\":{\"shape\":\"\"}},\"name\":\"Canada\",\"offsetgroup\":\"Canada\",\"orientation\":\"h\",\"showlegend\":true,\"x\":[0.9125,null,1.2264,1.5965,0.2833,0.5431,null],\"xaxis\":\"x\",\"y\":[\"Canada\",\"Canada\",\"Canada\",\"Canada\",\"Canada\",\"Canada\",\"Canada\"],\"yaxis\":\"y\",\"type\":\"histogram\"},{\"alignmentgroup\":\"True\",\"bingroup\":\"y\",\"histfunc\":\"sum\",\"hovertemplate\":\"Location=%{y}<br>Period Label=S1-2019<br>sum of Median time in port (days)=%{x}<extra></extra>\",\"legendgroup\":\"China\",\"marker\":{\"color\":\"#ab63fa\",\"pattern\":{\"shape\":\"\"}},\"name\":\"China\",\"offsetgroup\":\"China\",\"orientation\":\"h\",\"showlegend\":true,\"x\":[1.0458,null,1.1069,0.6062,1.2014,1.9813,null,1.0021,1.2083],\"xaxis\":\"x\",\"y\":[\"China\",\"China\",\"China\",\"China\",\"China\",\"China\",\"China\",\"China\",\"China\"],\"yaxis\":\"y\",\"type\":\"histogram\"},{\"alignmentgroup\":\"True\",\"bingroup\":\"y\",\"histfunc\":\"sum\",\"hovertemplate\":\"Location=%{y}<br>Period Label=S1-2019<br>sum of Median time in port (days)=%{x}<extra></extra>\",\"legendgroup\":\"Croatia\",\"marker\":{\"color\":\"#FFA15A\",\"pattern\":{\"shape\":\"\"}},\"name\":\"Croatia\",\"offsetgroup\":\"Croatia\",\"orientation\":\"h\",\"showlegend\":true,\"x\":[1.275,null,1.0444,0.7135,2.6493,2.5187],\"xaxis\":\"x\",\"y\":[\"Croatia\",\"Croatia\",\"Croatia\",\"Croatia\",\"Croatia\",\"Croatia\"],\"yaxis\":\"y\",\"type\":\"histogram\"},{\"alignmentgroup\":\"True\",\"bingroup\":\"y\",\"histfunc\":\"sum\",\"hovertemplate\":\"Location=%{y}<br>Period Label=S1-2019<br>sum of Median time in port (days)=%{x}<extra></extra>\",\"legendgroup\":\"Denmark\",\"marker\":{\"color\":\"#19d3f3\",\"pattern\":{\"shape\":\"\"}},\"name\":\"Denmark\",\"offsetgroup\":\"Denmark\",\"orientation\":\"h\",\"showlegend\":true,\"x\":[0.7583,null,0.6847,0.4403,0.9233,0.8167,null,1.0347],\"xaxis\":\"x\",\"y\":[\"Denmark\",\"Denmark\",\"Denmark\",\"Denmark\",\"Denmark\",\"Denmark\",\"Denmark\",\"Denmark\"],\"yaxis\":\"y\",\"type\":\"histogram\"},{\"alignmentgroup\":\"True\",\"bingroup\":\"y\",\"histfunc\":\"sum\",\"hovertemplate\":\"Location=%{y}<br>Period Label=S1-2019<br>sum of Median time in port (days)=%{x}<extra></extra>\",\"legendgroup\":\"France\",\"marker\":{\"color\":\"#FF6692\",\"pattern\":{\"shape\":\"\"}},\"name\":\"France\",\"offsetgroup\":\"France\",\"orientation\":\"h\",\"showlegend\":true,\"x\":[1.1031,null,1.0181,0.7549,1.5701,2.8486,null,1.1118,1.1354],\"xaxis\":\"x\",\"y\":[\"France\",\"France\",\"France\",\"France\",\"France\",\"France\",\"France\",\"France\",\"France\"],\"yaxis\":\"y\",\"type\":\"histogram\"},{\"alignmentgroup\":\"True\",\"bingroup\":\"y\",\"histfunc\":\"sum\",\"hovertemplate\":\"Location=%{y}<br>Period Label=S1-2019<br>sum of Median time in port (days)=%{x}<extra></extra>\",\"legendgroup\":\"Germany\",\"marker\":{\"color\":\"#B6E880\",\"pattern\":{\"shape\":\"\"}},\"name\":\"Germany\",\"offsetgroup\":\"Germany\",\"orientation\":\"h\",\"showlegend\":true,\"x\":[0.5007,null,0.3424,0.759,0.3792,2.6309,null,0.7437],\"xaxis\":\"x\",\"y\":[\"Germany\",\"Germany\",\"Germany\",\"Germany\",\"Germany\",\"Germany\",\"Germany\",\"Germany\"],\"yaxis\":\"y\",\"type\":\"histogram\"},{\"alignmentgroup\":\"True\",\"bingroup\":\"y\",\"histfunc\":\"sum\",\"hovertemplate\":\"Location=%{y}<br>Period Label=S1-2019<br>sum of Median time in port (days)=%{x}<extra></extra>\",\"legendgroup\":\"Greece\",\"marker\":{\"color\":\"#FF97FF\",\"pattern\":{\"shape\":\"\"}},\"name\":\"Greece\",\"offsetgroup\":\"Greece\",\"orientation\":\"h\",\"showlegend\":true,\"x\":[0.7566,null,0.5424,1.0882,1.1146,0.3708,null,0.9035,1.0993],\"xaxis\":\"x\",\"y\":[\"Greece\",\"Greece\",\"Greece\",\"Greece\",\"Greece\",\"Greece\",\"Greece\",\"Greece\",\"Greece\"],\"yaxis\":\"y\",\"type\":\"histogram\"},{\"alignmentgroup\":\"True\",\"bingroup\":\"y\",\"histfunc\":\"sum\",\"hovertemplate\":\"Location=%{y}<br>Period Label=S1-2019<br>sum of Median time in port (days)=%{x}<extra></extra>\",\"legendgroup\":\"Indonesia\",\"marker\":{\"color\":\"#FECB52\",\"pattern\":{\"shape\":\"\"}},\"name\":\"Indonesia\",\"offsetgroup\":\"Indonesia\",\"orientation\":\"h\",\"showlegend\":true,\"x\":[1.3056,null,1.1493,1.0597,1.3472,3.9201,null,1.151,1.3778],\"xaxis\":\"x\",\"y\":[\"Indonesia\",\"Indonesia\",\"Indonesia\",\"Indonesia\",\"Indonesia\",\"Indonesia\",\"Indonesia\",\"Indonesia\",\"Indonesia\"],\"yaxis\":\"y\",\"type\":\"histogram\"},{\"alignmentgroup\":\"True\",\"bingroup\":\"y\",\"histfunc\":\"sum\",\"hovertemplate\":\"Location=%{y}<br>Period Label=S1-2019<br>sum of Median time in port (days)=%{x}<extra></extra>\",\"legendgroup\":\"Italy\",\"marker\":{\"color\":\"#636efa\",\"pattern\":{\"shape\":\"\"}},\"name\":\"Italy\",\"offsetgroup\":\"Italy\",\"orientation\":\"h\",\"showlegend\":true,\"x\":[1.2667,null,1.2646,0.8847,1.8844,3.4535,null,1.3729],\"xaxis\":\"x\",\"y\":[\"Italy\",\"Italy\",\"Italy\",\"Italy\",\"Italy\",\"Italy\",\"Italy\",\"Italy\"],\"yaxis\":\"y\",\"type\":\"histogram\"},{\"alignmentgroup\":\"True\",\"bingroup\":\"y\",\"histfunc\":\"sum\",\"hovertemplate\":\"Location=%{y}<br>Period Label=S1-2019<br>sum of Median time in port (days)=%{x}<extra></extra>\",\"legendgroup\":\"Japan\",\"marker\":{\"color\":\"#EF553B\",\"pattern\":{\"shape\":\"\"}},\"name\":\"Japan\",\"offsetgroup\":\"Japan\",\"orientation\":\"h\",\"showlegend\":true,\"x\":[0.4125,null,0.3083,0.35,1.1819,0.9111,null,0.3424,0.9854],\"xaxis\":\"x\",\"y\":[\"Japan\",\"Japan\",\"Japan\",\"Japan\",\"Japan\",\"Japan\",\"Japan\",\"Japan\",\"Japan\"],\"yaxis\":\"y\",\"type\":\"histogram\"},{\"alignmentgroup\":\"True\",\"bingroup\":\"y\",\"histfunc\":\"sum\",\"hovertemplate\":\"Location=%{y}<br>Period Label=S1-2019<br>sum of Median time in port (days)=%{x}<extra></extra>\",\"legendgroup\":\"Korea, Republic of\",\"marker\":{\"color\":\"#00cc96\",\"pattern\":{\"shape\":\"\"}},\"name\":\"Korea, Republic of\",\"offsetgroup\":\"Korea, Republic of\",\"orientation\":\"h\",\"showlegend\":true,\"x\":[0.7813,null,0.7465,0.5722,1.1812,1.9823,null,0.7632,1.0319],\"xaxis\":\"x\",\"y\":[\"Korea, Republic of\",\"Korea, Republic of\",\"Korea, Republic of\",\"Korea, Republic of\",\"Korea, Republic of\",\"Korea, Republic of\",\"Korea, Republic of\",\"Korea, Republic of\",\"Korea, Republic of\"],\"yaxis\":\"y\",\"type\":\"histogram\"},{\"alignmentgroup\":\"True\",\"bingroup\":\"y\",\"histfunc\":\"sum\",\"hovertemplate\":\"Location=%{y}<br>Period Label=S1-2019<br>sum of Median time in port (days)=%{x}<extra></extra>\",\"legendgroup\":\"Netherlands\",\"marker\":{\"color\":\"#ab63fa\",\"pattern\":{\"shape\":\"\"}},\"name\":\"Netherlands\",\"offsetgroup\":\"Netherlands\",\"orientation\":\"h\",\"showlegend\":true,\"x\":[0.566,null,0.4972,0.7882,0.3979,0.6694,null,0.9747,1.0868],\"xaxis\":\"x\",\"y\":[\"Netherlands\",\"Netherlands\",\"Netherlands\",\"Netherlands\",\"Netherlands\",\"Netherlands\",\"Netherlands\",\"Netherlands\",\"Netherlands\"],\"yaxis\":\"y\",\"type\":\"histogram\"},{\"alignmentgroup\":\"True\",\"bingroup\":\"y\",\"histfunc\":\"sum\",\"hovertemplate\":\"Location=%{y}<br>Period Label=S1-2019<br>sum of Median time in port (days)=%{x}<extra></extra>\",\"legendgroup\":\"Norway\",\"marker\":{\"color\":\"#FFA15A\",\"pattern\":{\"shape\":\"\"}},\"name\":\"Norway\",\"offsetgroup\":\"Norway\",\"orientation\":\"h\",\"showlegend\":true,\"x\":[0.4063,null,0.6049,0.3042,0.3146,0.8528,null,0.7646,0.4479],\"xaxis\":\"x\",\"y\":[\"Norway\",\"Norway\",\"Norway\",\"Norway\",\"Norway\",\"Norway\",\"Norway\",\"Norway\",\"Norway\"],\"yaxis\":\"y\",\"type\":\"histogram\"},{\"alignmentgroup\":\"True\",\"bingroup\":\"y\",\"histfunc\":\"sum\",\"hovertemplate\":\"Location=%{y}<br>Period Label=S1-2019<br>sum of Median time in port (days)=%{x}<extra></extra>\",\"legendgroup\":\"Russian Federation\",\"marker\":{\"color\":\"#19d3f3\",\"pattern\":{\"shape\":\"\"}},\"name\":\"Russian Federation\",\"offsetgroup\":\"Russian Federation\",\"orientation\":\"h\",\"showlegend\":true,\"x\":[1.3271,null,1.0701,1.3132,1.7222,1.9764,null,1.2375,1.1139],\"xaxis\":\"x\",\"y\":[\"Russian Federation\",\"Russian Federation\",\"Russian Federation\",\"Russian Federation\",\"Russian Federation\",\"Russian Federation\",\"Russian Federation\",\"Russian Federation\",\"Russian Federation\"],\"yaxis\":\"y\",\"type\":\"histogram\"},{\"alignmentgroup\":\"True\",\"bingroup\":\"y\",\"histfunc\":\"sum\",\"hovertemplate\":\"Location=%{y}<br>Period Label=S1-2019<br>sum of Median time in port (days)=%{x}<extra></extra>\",\"legendgroup\":\"Spain\",\"marker\":{\"color\":\"#FF6692\",\"pattern\":{\"shape\":\"\"}},\"name\":\"Spain\",\"offsetgroup\":\"Spain\",\"orientation\":\"h\",\"showlegend\":true,\"x\":[0.8701,null,0.9,0.6552,1.1292,1.8226,null,0.9281,1.0215],\"xaxis\":\"x\",\"y\":[\"Spain\",\"Spain\",\"Spain\",\"Spain\",\"Spain\",\"Spain\",\"Spain\",\"Spain\",\"Spain\"],\"yaxis\":\"y\",\"type\":\"histogram\"},{\"alignmentgroup\":\"True\",\"bingroup\":\"y\",\"histfunc\":\"sum\",\"hovertemplate\":\"Location=%{y}<br>Period Label=S1-2019<br>sum of Median time in port (days)=%{x}<extra></extra>\",\"legendgroup\":\"Sweden\",\"marker\":{\"color\":\"#B6E880\",\"pattern\":{\"shape\":\"\"}},\"name\":\"Sweden\",\"offsetgroup\":\"Sweden\",\"orientation\":\"h\",\"showlegend\":true,\"x\":[0.7958,null,0.6799,0.6181,1.0681,0.3465,null,0.8531],\"xaxis\":\"x\",\"y\":[\"Sweden\",\"Sweden\",\"Sweden\",\"Sweden\",\"Sweden\",\"Sweden\",\"Sweden\",\"Sweden\"],\"yaxis\":\"y\",\"type\":\"histogram\"},{\"alignmentgroup\":\"True\",\"bingroup\":\"y\",\"histfunc\":\"sum\",\"hovertemplate\":\"Location=%{y}<br>Period Label=S1-2019<br>sum of Median time in port (days)=%{x}<extra></extra>\",\"legendgroup\":\"T\\u00fcrkiye\",\"marker\":{\"color\":\"#FF97FF\",\"pattern\":{\"shape\":\"\"}},\"name\":\"T\\u00fcrkiye\",\"offsetgroup\":\"T\\u00fcrkiye\",\"orientation\":\"h\",\"showlegend\":true,\"x\":[1.1681,null,1.1299,0.6382,1.475,3.7306,null,1.2736,1.2792],\"xaxis\":\"x\",\"y\":[\"T\\u00fcrkiye\",\"T\\u00fcrkiye\",\"T\\u00fcrkiye\",\"T\\u00fcrkiye\",\"T\\u00fcrkiye\",\"T\\u00fcrkiye\",\"T\\u00fcrkiye\",\"T\\u00fcrkiye\",\"T\\u00fcrkiye\"],\"yaxis\":\"y\",\"type\":\"histogram\"},{\"alignmentgroup\":\"True\",\"bingroup\":\"y\",\"histfunc\":\"sum\",\"hovertemplate\":\"Location=%{y}<br>Period Label=S1-2019<br>sum of Median time in port (days)=%{x}<extra></extra>\",\"legendgroup\":\"United States of America\",\"marker\":{\"color\":\"#FECB52\",\"pattern\":{\"shape\":\"\"}},\"name\":\"United States of America\",\"offsetgroup\":\"United States of America\",\"orientation\":\"h\",\"showlegend\":true,\"x\":[1.4826,null,1.6799,1.0358,1.7927,2.1833,null,1.9358,1.3208],\"xaxis\":\"x\",\"y\":[\"United States of America\",\"United States of America\",\"United States of America\",\"United States of America\",\"United States of America\",\"United States of America\",\"United States of America\",\"United States of America\",\"United States of America\"],\"yaxis\":\"y\",\"type\":\"histogram\"},{\"alignmentgroup\":\"True\",\"bingroup\":\"y\",\"histfunc\":\"sum\",\"hovertemplate\":\"Location=%{y}<br>Period Label=S1-2019<br>sum of Median time in port (days)=%{x}<extra></extra>\",\"legendgroup\":\"United Kingdom\",\"marker\":{\"color\":\"#636efa\",\"pattern\":{\"shape\":\"\"}},\"name\":\"United Kingdom\",\"offsetgroup\":\"United Kingdom\",\"orientation\":\"h\",\"showlegend\":true,\"x\":[1.0799,null,1.0476,0.7396,1.4858,1.9139,null,1.0951,1.3556],\"xaxis\":\"x\",\"y\":[\"United Kingdom\",\"United Kingdom\",\"United Kingdom\",\"United Kingdom\",\"United Kingdom\",\"United Kingdom\",\"United Kingdom\",\"United Kingdom\",\"United Kingdom\"],\"yaxis\":\"y\",\"type\":\"histogram\"}],\"name\":\"S1-2019\"},{\"data\":[{\"alignmentgroup\":\"True\",\"bingroup\":\"y\",\"histfunc\":\"sum\",\"hovertemplate\":\"Location=%{y}<br>Period Label=S2-2019<br>sum of Median time in port (days)=%{x}<extra></extra>\",\"legendgroup\":\"World\",\"marker\":{\"color\":\"#636efa\",\"pattern\":{\"shape\":\"\"}},\"name\":\"World\",\"offsetgroup\":\"World\",\"orientation\":\"h\",\"showlegend\":true,\"x\":[0.9667,null,0.9389,0.691,1.1014,2.0014,null,1.0063,1.109],\"xaxis\":\"x\",\"y\":[\"World\",\"World\",\"World\",\"World\",\"World\",\"World\",\"World\",\"World\",\"World\"],\"yaxis\":\"y\",\"type\":\"histogram\"},{\"alignmentgroup\":\"True\",\"bingroup\":\"y\",\"histfunc\":\"sum\",\"hovertemplate\":\"Location=%{y}<br>Period Label=S2-2019<br>sum of Median time in port (days)=%{x}<extra></extra>\",\"legendgroup\":\"Australia\",\"marker\":{\"color\":\"#EF553B\",\"pattern\":{\"shape\":\"\"}},\"name\":\"Australia\",\"offsetgroup\":\"Australia\",\"orientation\":\"h\",\"showlegend\":true,\"x\":[1.4583,null,1.3465,1.2389,1.65,1.6021,null,0.9344,1.2337],\"xaxis\":\"x\",\"y\":[\"Australia\",\"Australia\",\"Australia\",\"Australia\",\"Australia\",\"Australia\",\"Australia\",\"Australia\",\"Australia\"],\"yaxis\":\"y\",\"type\":\"histogram\"},{\"alignmentgroup\":\"True\",\"bingroup\":\"y\",\"histfunc\":\"sum\",\"hovertemplate\":\"Location=%{y}<br>Period Label=S2-2019<br>sum of Median time in port (days)=%{x}<extra></extra>\",\"legendgroup\":\"Canada\",\"marker\":{\"color\":\"#00cc96\",\"pattern\":{\"shape\":\"\"}},\"name\":\"Canada\",\"offsetgroup\":\"Canada\",\"orientation\":\"h\",\"showlegend\":true,\"x\":[0.6528,null,1.0434,1.467,0.7288,0.2201,null,1.5903],\"xaxis\":\"x\",\"y\":[\"Canada\",\"Canada\",\"Canada\",\"Canada\",\"Canada\",\"Canada\",\"Canada\",\"Canada\"],\"yaxis\":\"y\",\"type\":\"histogram\"},{\"alignmentgroup\":\"True\",\"bingroup\":\"y\",\"histfunc\":\"sum\",\"hovertemplate\":\"Location=%{y}<br>Period Label=S2-2019<br>sum of Median time in port (days)=%{x}<extra></extra>\",\"legendgroup\":\"China\",\"marker\":{\"color\":\"#ab63fa\",\"pattern\":{\"shape\":\"\"}},\"name\":\"China\",\"offsetgroup\":\"China\",\"orientation\":\"h\",\"showlegend\":true,\"x\":[1.0313,null,1.0646,0.5958,1.1667,2.0319,null,0.975,1.1844],\"xaxis\":\"x\",\"y\":[\"China\",\"China\",\"China\",\"China\",\"China\",\"China\",\"China\",\"China\",\"China\"],\"yaxis\":\"y\",\"type\":\"histogram\"},{\"alignmentgroup\":\"True\",\"bingroup\":\"y\",\"histfunc\":\"sum\",\"hovertemplate\":\"Location=%{y}<br>Period Label=S2-2019<br>sum of Median time in port (days)=%{x}<extra></extra>\",\"legendgroup\":\"Croatia\",\"marker\":{\"color\":\"#FFA15A\",\"pattern\":{\"shape\":\"\"}},\"name\":\"Croatia\",\"offsetgroup\":\"Croatia\",\"orientation\":\"h\",\"showlegend\":true,\"x\":[1.2347,null,1.0708,0.6313,2.8438,2.3465],\"xaxis\":\"x\",\"y\":[\"Croatia\",\"Croatia\",\"Croatia\",\"Croatia\",\"Croatia\",\"Croatia\"],\"yaxis\":\"y\",\"type\":\"histogram\"},{\"alignmentgroup\":\"True\",\"bingroup\":\"y\",\"histfunc\":\"sum\",\"hovertemplate\":\"Location=%{y}<br>Period Label=S2-2019<br>sum of Median time in port (days)=%{x}<extra></extra>\",\"legendgroup\":\"Denmark\",\"marker\":{\"color\":\"#19d3f3\",\"pattern\":{\"shape\":\"\"}},\"name\":\"Denmark\",\"offsetgroup\":\"Denmark\",\"orientation\":\"h\",\"showlegend\":true,\"x\":[0.7434,null,0.6896,0.491,0.8688,0.8604,null,1.0653],\"xaxis\":\"x\",\"y\":[\"Denmark\",\"Denmark\",\"Denmark\",\"Denmark\",\"Denmark\",\"Denmark\",\"Denmark\",\"Denmark\"],\"yaxis\":\"y\",\"type\":\"histogram\"},{\"alignmentgroup\":\"True\",\"bingroup\":\"y\",\"histfunc\":\"sum\",\"hovertemplate\":\"Location=%{y}<br>Period Label=S2-2019<br>sum of Median time in port (days)=%{x}<extra></extra>\",\"legendgroup\":\"France\",\"marker\":{\"color\":\"#FF6692\",\"pattern\":{\"shape\":\"\"}},\"name\":\"France\",\"offsetgroup\":\"France\",\"orientation\":\"h\",\"showlegend\":true,\"x\":[1.1243,null,1.0403,0.7347,1.5962,3.2503,null,1.1288,1.1736],\"xaxis\":\"x\",\"y\":[\"France\",\"France\",\"France\",\"France\",\"France\",\"France\",\"France\",\"France\",\"France\"],\"yaxis\":\"y\",\"type\":\"histogram\"},{\"alignmentgroup\":\"True\",\"bingroup\":\"y\",\"histfunc\":\"sum\",\"hovertemplate\":\"Location=%{y}<br>Period Label=S2-2019<br>sum of Median time in port (days)=%{x}<extra></extra>\",\"legendgroup\":\"Germany\",\"marker\":{\"color\":\"#B6E880\",\"pattern\":{\"shape\":\"\"}},\"name\":\"Germany\",\"offsetgroup\":\"Germany\",\"orientation\":\"h\",\"showlegend\":true,\"x\":[0.475,null,0.3625,0.7285,0.3271,2.0396,null,0.6528],\"xaxis\":\"x\",\"y\":[\"Germany\",\"Germany\",\"Germany\",\"Germany\",\"Germany\",\"Germany\",\"Germany\",\"Germany\"],\"yaxis\":\"y\",\"type\":\"histogram\"},{\"alignmentgroup\":\"True\",\"bingroup\":\"y\",\"histfunc\":\"sum\",\"hovertemplate\":\"Location=%{y}<br>Period Label=S2-2019<br>sum of Median time in port (days)=%{x}<extra></extra>\",\"legendgroup\":\"Greece\",\"marker\":{\"color\":\"#FF97FF\",\"pattern\":{\"shape\":\"\"}},\"name\":\"Greece\",\"offsetgroup\":\"Greece\",\"orientation\":\"h\",\"showlegend\":true,\"x\":[0.7288,null,0.5201,1.0229,1.1365,0.2771,null,0.9361,1.0875],\"xaxis\":\"x\",\"y\":[\"Greece\",\"Greece\",\"Greece\",\"Greece\",\"Greece\",\"Greece\",\"Greece\",\"Greece\",\"Greece\"],\"yaxis\":\"y\",\"type\":\"histogram\"},{\"alignmentgroup\":\"True\",\"bingroup\":\"y\",\"histfunc\":\"sum\",\"hovertemplate\":\"Location=%{y}<br>Period Label=S2-2019<br>sum of Median time in port (days)=%{x}<extra></extra>\",\"legendgroup\":\"Indonesia\",\"marker\":{\"color\":\"#FECB52\",\"pattern\":{\"shape\":\"\"}},\"name\":\"Indonesia\",\"offsetgroup\":\"Indonesia\",\"orientation\":\"h\",\"showlegend\":true,\"x\":[1.2653,null,1.1993,1.0368,1.2844,2.849,null,1.1278,1.3785],\"xaxis\":\"x\",\"y\":[\"Indonesia\",\"Indonesia\",\"Indonesia\",\"Indonesia\",\"Indonesia\",\"Indonesia\",\"Indonesia\",\"Indonesia\",\"Indonesia\"],\"yaxis\":\"y\",\"type\":\"histogram\"},{\"alignmentgroup\":\"True\",\"bingroup\":\"y\",\"histfunc\":\"sum\",\"hovertemplate\":\"Location=%{y}<br>Period Label=S2-2019<br>sum of Median time in port (days)=%{x}<extra></extra>\",\"legendgroup\":\"Italy\",\"marker\":{\"color\":\"#636efa\",\"pattern\":{\"shape\":\"\"}},\"name\":\"Italy\",\"offsetgroup\":\"Italy\",\"orientation\":\"h\",\"showlegend\":true,\"x\":[1.2875,null,1.2389,0.924,2.0882,3.5903,null,1.5319],\"xaxis\":\"x\",\"y\":[\"Italy\",\"Italy\",\"Italy\",\"Italy\",\"Italy\",\"Italy\",\"Italy\",\"Italy\"],\"yaxis\":\"y\",\"type\":\"histogram\"},{\"alignmentgroup\":\"True\",\"bingroup\":\"y\",\"histfunc\":\"sum\",\"hovertemplate\":\"Location=%{y}<br>Period Label=S2-2019<br>sum of Median time in port (days)=%{x}<extra></extra>\",\"legendgroup\":\"Japan\",\"marker\":{\"color\":\"#EF553B\",\"pattern\":{\"shape\":\"\"}},\"name\":\"Japan\",\"offsetgroup\":\"Japan\",\"orientation\":\"h\",\"showlegend\":true,\"x\":[0.4049,null,0.3083,0.3444,1.1229,0.7931,null,0.3333,0.9986],\"xaxis\":\"x\",\"y\":[\"Japan\",\"Japan\",\"Japan\",\"Japan\",\"Japan\",\"Japan\",\"Japan\",\"Japan\",\"Japan\"],\"yaxis\":\"y\",\"type\":\"histogram\"},{\"alignmentgroup\":\"True\",\"bingroup\":\"y\",\"histfunc\":\"sum\",\"hovertemplate\":\"Location=%{y}<br>Period Label=S2-2019<br>sum of Median time in port (days)=%{x}<extra></extra>\",\"legendgroup\":\"Korea, Republic of\",\"marker\":{\"color\":\"#00cc96\",\"pattern\":{\"shape\":\"\"}},\"name\":\"Korea, Republic of\",\"offsetgroup\":\"Korea, Republic of\",\"orientation\":\"h\",\"showlegend\":true,\"x\":[0.8042,null,0.7528,0.5903,1.159,2.1132,null,0.7708,1.0333],\"xaxis\":\"x\",\"y\":[\"Korea, Republic of\",\"Korea, Republic of\",\"Korea, Republic of\",\"Korea, Republic of\",\"Korea, Republic of\",\"Korea, Republic of\",\"Korea, Republic of\",\"Korea, Republic of\",\"Korea, Republic of\"],\"yaxis\":\"y\",\"type\":\"histogram\"},{\"alignmentgroup\":\"True\",\"bingroup\":\"y\",\"histfunc\":\"sum\",\"hovertemplate\":\"Location=%{y}<br>Period Label=S2-2019<br>sum of Median time in port (days)=%{x}<extra></extra>\",\"legendgroup\":\"Netherlands\",\"marker\":{\"color\":\"#ab63fa\",\"pattern\":{\"shape\":\"\"}},\"name\":\"Netherlands\",\"offsetgroup\":\"Netherlands\",\"orientation\":\"h\",\"showlegend\":true,\"x\":[0.5799,null,0.5188,0.8118,0.4271,0.6205,null,0.9063,1.0667],\"xaxis\":\"x\",\"y\":[\"Netherlands\",\"Netherlands\",\"Netherlands\",\"Netherlands\",\"Netherlands\",\"Netherlands\",\"Netherlands\",\"Netherlands\",\"Netherlands\"],\"yaxis\":\"y\",\"type\":\"histogram\"},{\"alignmentgroup\":\"True\",\"bingroup\":\"y\",\"histfunc\":\"sum\",\"hovertemplate\":\"Location=%{y}<br>Period Label=S2-2019<br>sum of Median time in port (days)=%{x}<extra></extra>\",\"legendgroup\":\"Norway\",\"marker\":{\"color\":\"#FFA15A\",\"pattern\":{\"shape\":\"\"}},\"name\":\"Norway\",\"offsetgroup\":\"Norway\",\"orientation\":\"h\",\"showlegend\":true,\"x\":[0.4285,null,0.6014,0.3441,0.3389,0.7979,null,0.7358,0.3014],\"xaxis\":\"x\",\"y\":[\"Norway\",\"Norway\",\"Norway\",\"Norway\",\"Norway\",\"Norway\",\"Norway\",\"Norway\",\"Norway\"],\"yaxis\":\"y\",\"type\":\"histogram\"},{\"alignmentgroup\":\"True\",\"bingroup\":\"y\",\"histfunc\":\"sum\",\"hovertemplate\":\"Location=%{y}<br>Period Label=S2-2019<br>sum of Median time in port (days)=%{x}<extra></extra>\",\"legendgroup\":\"Russian Federation\",\"marker\":{\"color\":\"#19d3f3\",\"pattern\":{\"shape\":\"\"}},\"name\":\"Russian Federation\",\"offsetgroup\":\"Russian Federation\",\"orientation\":\"h\",\"showlegend\":true,\"x\":[1.2667,null,0.9861,1.2927,1.5243,2.4194,null,1.2292,1.0431],\"xaxis\":\"x\",\"y\":[\"Russian Federation\",\"Russian Federation\",\"Russian Federation\",\"Russian Federation\",\"Russian Federation\",\"Russian Federation\",\"Russian Federation\",\"Russian Federation\",\"Russian Federation\"],\"yaxis\":\"y\",\"type\":\"histogram\"},{\"alignmentgroup\":\"True\",\"bingroup\":\"y\",\"histfunc\":\"sum\",\"hovertemplate\":\"Location=%{y}<br>Period Label=S2-2019<br>sum of Median time in port (days)=%{x}<extra></extra>\",\"legendgroup\":\"Spain\",\"marker\":{\"color\":\"#FF6692\",\"pattern\":{\"shape\":\"\"}},\"name\":\"Spain\",\"offsetgroup\":\"Spain\",\"orientation\":\"h\",\"showlegend\":true,\"x\":[0.8875,null,0.8944,0.6493,1.2111,2.0184,null,0.9792,1.0458],\"xaxis\":\"x\",\"y\":[\"Spain\",\"Spain\",\"Spain\",\"Spain\",\"Spain\",\"Spain\",\"Spain\",\"Spain\",\"Spain\"],\"yaxis\":\"y\",\"type\":\"histogram\"},{\"alignmentgroup\":\"True\",\"bingroup\":\"y\",\"histfunc\":\"sum\",\"hovertemplate\":\"Location=%{y}<br>Period Label=S2-2019<br>sum of Median time in port (days)=%{x}<extra></extra>\",\"legendgroup\":\"Sweden\",\"marker\":{\"color\":\"#B6E880\",\"pattern\":{\"shape\":\"\"}},\"name\":\"Sweden\",\"offsetgroup\":\"Sweden\",\"orientation\":\"h\",\"showlegend\":true,\"x\":[0.8035,null,0.6844,0.6465,1.0524,0.4885,null,0.8549],\"xaxis\":\"x\",\"y\":[\"Sweden\",\"Sweden\",\"Sweden\",\"Sweden\",\"Sweden\",\"Sweden\",\"Sweden\",\"Sweden\"],\"yaxis\":\"y\",\"type\":\"histogram\"},{\"alignmentgroup\":\"True\",\"bingroup\":\"y\",\"histfunc\":\"sum\",\"hovertemplate\":\"Location=%{y}<br>Period Label=S2-2019<br>sum of Median time in port (days)=%{x}<extra></extra>\",\"legendgroup\":\"T\\u00fcrkiye\",\"marker\":{\"color\":\"#FF97FF\",\"pattern\":{\"shape\":\"\"}},\"name\":\"T\\u00fcrkiye\",\"offsetgroup\":\"T\\u00fcrkiye\",\"orientation\":\"h\",\"showlegend\":true,\"x\":[1.1882,null,1.1854,0.6271,1.475,3.4215,null,1.3267,1.2451],\"xaxis\":\"x\",\"y\":[\"T\\u00fcrkiye\",\"T\\u00fcrkiye\",\"T\\u00fcrkiye\",\"T\\u00fcrkiye\",\"T\\u00fcrkiye\",\"T\\u00fcrkiye\",\"T\\u00fcrkiye\",\"T\\u00fcrkiye\",\"T\\u00fcrkiye\"],\"yaxis\":\"y\",\"type\":\"histogram\"},{\"alignmentgroup\":\"True\",\"bingroup\":\"y\",\"histfunc\":\"sum\",\"hovertemplate\":\"Location=%{y}<br>Period Label=S2-2019<br>sum of Median time in port (days)=%{x}<extra></extra>\",\"legendgroup\":\"United States of America\",\"marker\":{\"color\":\"#FECB52\",\"pattern\":{\"shape\":\"\"}},\"name\":\"United States of America\",\"offsetgroup\":\"United States of America\",\"orientation\":\"h\",\"showlegend\":true,\"x\":[1.3882,null,1.6222,1.0125,1.8753,1.5382,null,1.9799,1.2698],\"xaxis\":\"x\",\"y\":[\"United States of America\",\"United States of America\",\"United States of America\",\"United States of America\",\"United States of America\",\"United States of America\",\"United States of America\",\"United States of America\",\"United States of America\"],\"yaxis\":\"y\",\"type\":\"histogram\"},{\"alignmentgroup\":\"True\",\"bingroup\":\"y\",\"histfunc\":\"sum\",\"hovertemplate\":\"Location=%{y}<br>Period Label=S2-2019<br>sum of Median time in port (days)=%{x}<extra></extra>\",\"legendgroup\":\"United Kingdom\",\"marker\":{\"color\":\"#636efa\",\"pattern\":{\"shape\":\"\"}},\"name\":\"United Kingdom\",\"offsetgroup\":\"United Kingdom\",\"orientation\":\"h\",\"showlegend\":true,\"x\":[1.0764,null,1.0354,0.7142,1.4889,2.367,null,1.15,1.2198],\"xaxis\":\"x\",\"y\":[\"United Kingdom\",\"United Kingdom\",\"United Kingdom\",\"United Kingdom\",\"United Kingdom\",\"United Kingdom\",\"United Kingdom\",\"United Kingdom\",\"United Kingdom\"],\"yaxis\":\"y\",\"type\":\"histogram\"}],\"name\":\"S2-2019\"},{\"data\":[{\"alignmentgroup\":\"True\",\"bingroup\":\"y\",\"histfunc\":\"sum\",\"hovertemplate\":\"Location=%{y}<br>Period Label=S1-2020<br>sum of Median time in port (days)=%{x}<extra></extra>\",\"legendgroup\":\"World\",\"marker\":{\"color\":\"#636efa\",\"pattern\":{\"shape\":\"\"}},\"name\":\"World\",\"offsetgroup\":\"World\",\"orientation\":\"h\",\"showlegend\":true,\"x\":[0.9944,null,0.9701,0.6861,1.1757,2.0868,null,1.0389,1.1111],\"xaxis\":\"x\",\"y\":[\"World\",\"World\",\"World\",\"World\",\"World\",\"World\",\"World\",\"World\",\"World\"],\"yaxis\":\"y\",\"type\":\"histogram\"},{\"alignmentgroup\":\"True\",\"bingroup\":\"y\",\"histfunc\":\"sum\",\"hovertemplate\":\"Location=%{y}<br>Period Label=S1-2020<br>sum of Median time in port (days)=%{x}<extra></extra>\",\"legendgroup\":\"Australia\",\"marker\":{\"color\":\"#EF553B\",\"pattern\":{\"shape\":\"\"}},\"name\":\"Australia\",\"offsetgroup\":\"Australia\",\"orientation\":\"h\",\"showlegend\":true,\"x\":[1.4889,null,1.2563,1.3083,2.226,1.6215,null,0.9323,1.1851],\"xaxis\":\"x\",\"y\":[\"Australia\",\"Australia\",\"Australia\",\"Australia\",\"Australia\",\"Australia\",\"Australia\",\"Australia\",\"Australia\"],\"yaxis\":\"y\",\"type\":\"histogram\"},{\"alignmentgroup\":\"True\",\"bingroup\":\"y\",\"histfunc\":\"sum\",\"hovertemplate\":\"Location=%{y}<br>Period Label=S1-2020<br>sum of Median time in port (days)=%{x}<extra></extra>\",\"legendgroup\":\"Canada\",\"marker\":{\"color\":\"#00cc96\",\"pattern\":{\"shape\":\"\"}},\"name\":\"Canada\",\"offsetgroup\":\"Canada\",\"orientation\":\"h\",\"showlegend\":true,\"x\":[0.9944,null,1.0917,1.6229,1.0125,0.5833,null,1.4882],\"xaxis\":\"x\",\"y\":[\"Canada\",\"Canada\",\"Canada\",\"Canada\",\"Canada\",\"Canada\",\"Canada\",\"Canada\"],\"yaxis\":\"y\",\"type\":\"histogram\"},{\"alignmentgroup\":\"True\",\"bingroup\":\"y\",\"histfunc\":\"sum\",\"hovertemplate\":\"Location=%{y}<br>Period Label=S1-2020<br>sum of Median time in port (days)=%{x}<extra></extra>\",\"legendgroup\":\"China\",\"marker\":{\"color\":\"#ab63fa\",\"pattern\":{\"shape\":\"\"}},\"name\":\"China\",\"offsetgroup\":\"China\",\"orientation\":\"h\",\"showlegend\":true,\"x\":[1.0556,null,1.1132,0.5951,1.2507,2.0215,null,1.0083,1.1778],\"xaxis\":\"x\",\"y\":[\"China\",\"China\",\"China\",\"China\",\"China\",\"China\",\"China\",\"China\",\"China\"],\"yaxis\":\"y\",\"type\":\"histogram\"},{\"alignmentgroup\":\"True\",\"bingroup\":\"y\",\"histfunc\":\"sum\",\"hovertemplate\":\"Location=%{y}<br>Period Label=S1-2020<br>sum of Median time in port (days)=%{x}<extra></extra>\",\"legendgroup\":\"Croatia\",\"marker\":{\"color\":\"#FFA15A\",\"pattern\":{\"shape\":\"\"}},\"name\":\"Croatia\",\"offsetgroup\":\"Croatia\",\"orientation\":\"h\",\"showlegend\":true,\"x\":[1.1111,null,0.9476,0.6507,2.1979,1.7819],\"xaxis\":\"x\",\"y\":[\"Croatia\",\"Croatia\",\"Croatia\",\"Croatia\",\"Croatia\",\"Croatia\"],\"yaxis\":\"y\",\"type\":\"histogram\"},{\"alignmentgroup\":\"True\",\"bingroup\":\"y\",\"histfunc\":\"sum\",\"hovertemplate\":\"Location=%{y}<br>Period Label=S1-2020<br>sum of Median time in port (days)=%{x}<extra></extra>\",\"legendgroup\":\"Denmark\",\"marker\":{\"color\":\"#19d3f3\",\"pattern\":{\"shape\":\"\"}},\"name\":\"Denmark\",\"offsetgroup\":\"Denmark\",\"orientation\":\"h\",\"showlegend\":true,\"x\":[0.7868,null,0.7076,0.4458,0.9441,0.858,null,1.0302],\"xaxis\":\"x\",\"y\":[\"Denmark\",\"Denmark\",\"Denmark\",\"Denmark\",\"Denmark\",\"Denmark\",\"Denmark\",\"Denmark\"],\"yaxis\":\"y\",\"type\":\"histogram\"},{\"alignmentgroup\":\"True\",\"bingroup\":\"y\",\"histfunc\":\"sum\",\"hovertemplate\":\"Location=%{y}<br>Period Label=S1-2020<br>sum of Median time in port (days)=%{x}<extra></extra>\",\"legendgroup\":\"France\",\"marker\":{\"color\":\"#FF6692\",\"pattern\":{\"shape\":\"\"}},\"name\":\"France\",\"offsetgroup\":\"France\",\"orientation\":\"h\",\"showlegend\":true,\"x\":[1.2042,null,1.0958,0.8062,1.7167,3.1076,null,1.1017,1.1625],\"xaxis\":\"x\",\"y\":[\"France\",\"France\",\"France\",\"France\",\"France\",\"France\",\"France\",\"France\",\"France\"],\"yaxis\":\"y\",\"type\":\"histogram\"},{\"alignmentgroup\":\"True\",\"bingroup\":\"y\",\"histfunc\":\"sum\",\"hovertemplate\":\"Location=%{y}<br>Period Label=S1-2020<br>sum of Median time in port (days)=%{x}<extra></extra>\",\"legendgroup\":\"Germany\",\"marker\":{\"color\":\"#B6E880\",\"pattern\":{\"shape\":\"\"}},\"name\":\"Germany\",\"offsetgroup\":\"Germany\",\"orientation\":\"h\",\"showlegend\":true,\"x\":[0.8205,null,0.5208,0.9667,1.0104,2.6139,null,0.8333],\"xaxis\":\"x\",\"y\":[\"Germany\",\"Germany\",\"Germany\",\"Germany\",\"Germany\",\"Germany\",\"Germany\",\"Germany\"],\"yaxis\":\"y\",\"type\":\"histogram\"},{\"alignmentgroup\":\"True\",\"bingroup\":\"y\",\"histfunc\":\"sum\",\"hovertemplate\":\"Location=%{y}<br>Period Label=S1-2020<br>sum of Median time in port (days)=%{x}<extra></extra>\",\"legendgroup\":\"Greece\",\"marker\":{\"color\":\"#FF97FF\",\"pattern\":{\"shape\":\"\"}},\"name\":\"Greece\",\"offsetgroup\":\"Greece\",\"orientation\":\"h\",\"showlegend\":true,\"x\":[0.849,null,0.6354,0.9861,1.2424,0.4056,null,0.9722,1.2007],\"xaxis\":\"x\",\"y\":[\"Greece\",\"Greece\",\"Greece\",\"Greece\",\"Greece\",\"Greece\",\"Greece\",\"Greece\",\"Greece\"],\"yaxis\":\"y\",\"type\":\"histogram\"},{\"alignmentgroup\":\"True\",\"bingroup\":\"y\",\"histfunc\":\"sum\",\"hovertemplate\":\"Location=%{y}<br>Period Label=S1-2020<br>sum of Median time in port (days)=%{x}<extra></extra>\",\"legendgroup\":\"Indonesia\",\"marker\":{\"color\":\"#FECB52\",\"pattern\":{\"shape\":\"\"}},\"name\":\"Indonesia\",\"offsetgroup\":\"Indonesia\",\"orientation\":\"h\",\"showlegend\":true,\"x\":[1.2271,null,1.1972,0.9799,1.2073,3.2125,null,1.0788,1.4003],\"xaxis\":\"x\",\"y\":[\"Indonesia\",\"Indonesia\",\"Indonesia\",\"Indonesia\",\"Indonesia\",\"Indonesia\",\"Indonesia\",\"Indonesia\",\"Indonesia\"],\"yaxis\":\"y\",\"type\":\"histogram\"},{\"alignmentgroup\":\"True\",\"bingroup\":\"y\",\"histfunc\":\"sum\",\"hovertemplate\":\"Location=%{y}<br>Period Label=S1-2020<br>sum of Median time in port (days)=%{x}<extra></extra>\",\"legendgroup\":\"Italy\",\"marker\":{\"color\":\"#636efa\",\"pattern\":{\"shape\":\"\"}},\"name\":\"Italy\",\"offsetgroup\":\"Italy\",\"orientation\":\"h\",\"showlegend\":true,\"x\":[1.3111,null,1.2986,0.916,2.0542,3.6125,null,1.5465],\"xaxis\":\"x\",\"y\":[\"Italy\",\"Italy\",\"Italy\",\"Italy\",\"Italy\",\"Italy\",\"Italy\",\"Italy\"],\"yaxis\":\"y\",\"type\":\"histogram\"},{\"alignmentgroup\":\"True\",\"bingroup\":\"y\",\"histfunc\":\"sum\",\"hovertemplate\":\"Location=%{y}<br>Period Label=S1-2020<br>sum of Median time in port (days)=%{x}<extra></extra>\",\"legendgroup\":\"Japan\",\"marker\":{\"color\":\"#EF553B\",\"pattern\":{\"shape\":\"\"}},\"name\":\"Japan\",\"offsetgroup\":\"Japan\",\"orientation\":\"h\",\"showlegend\":true,\"x\":[0.3993,null,0.3063,0.3354,1.1708,0.8396,null,0.3403,0.9958],\"xaxis\":\"x\",\"y\":[\"Japan\",\"Japan\",\"Japan\",\"Japan\",\"Japan\",\"Japan\",\"Japan\",\"Japan\",\"Japan\"],\"yaxis\":\"y\",\"type\":\"histogram\"},{\"alignmentgroup\":\"True\",\"bingroup\":\"y\",\"histfunc\":\"sum\",\"hovertemplate\":\"Location=%{y}<br>Period Label=S1-2020<br>sum of Median time in port (days)=%{x}<extra></extra>\",\"legendgroup\":\"Korea, Republic of\",\"marker\":{\"color\":\"#00cc96\",\"pattern\":{\"shape\":\"\"}},\"name\":\"Korea, Republic of\",\"offsetgroup\":\"Korea, Republic of\",\"orientation\":\"h\",\"showlegend\":true,\"x\":[0.8431,null,0.8056,0.6153,1.2375,2.0333,null,0.8674,1.025],\"xaxis\":\"x\",\"y\":[\"Korea, Republic of\",\"Korea, Republic of\",\"Korea, Republic of\",\"Korea, Republic of\",\"Korea, Republic of\",\"Korea, Republic of\",\"Korea, Republic of\",\"Korea, Republic of\",\"Korea, Republic of\"],\"yaxis\":\"y\",\"type\":\"histogram\"},{\"alignmentgroup\":\"True\",\"bingroup\":\"y\",\"histfunc\":\"sum\",\"hovertemplate\":\"Location=%{y}<br>Period Label=S1-2020<br>sum of Median time in port (days)=%{x}<extra></extra>\",\"legendgroup\":\"Netherlands\",\"marker\":{\"color\":\"#ab63fa\",\"pattern\":{\"shape\":\"\"}},\"name\":\"Netherlands\",\"offsetgroup\":\"Netherlands\",\"orientation\":\"h\",\"showlegend\":true,\"x\":[0.5889,null,0.5472,0.7917,0.4,0.2111,null,0.9757,1.0326],\"xaxis\":\"x\",\"y\":[\"Netherlands\",\"Netherlands\",\"Netherlands\",\"Netherlands\",\"Netherlands\",\"Netherlands\",\"Netherlands\",\"Netherlands\",\"Netherlands\"],\"yaxis\":\"y\",\"type\":\"histogram\"},{\"alignmentgroup\":\"True\",\"bingroup\":\"y\",\"histfunc\":\"sum\",\"hovertemplate\":\"Location=%{y}<br>Period Label=S1-2020<br>sum of Median time in port (days)=%{x}<extra></extra>\",\"legendgroup\":\"Norway\",\"marker\":{\"color\":\"#FFA15A\",\"pattern\":{\"shape\":\"\"}},\"name\":\"Norway\",\"offsetgroup\":\"Norway\",\"orientation\":\"h\",\"showlegend\":true,\"x\":[0.4028,null,0.6035,0.3295,0.3042,0.8472,null,0.7705,0.2576],\"xaxis\":\"x\",\"y\":[\"Norway\",\"Norway\",\"Norway\",\"Norway\",\"Norway\",\"Norway\",\"Norway\",\"Norway\",\"Norway\"],\"yaxis\":\"y\",\"type\":\"histogram\"},{\"alignmentgroup\":\"True\",\"bingroup\":\"y\",\"histfunc\":\"sum\",\"hovertemplate\":\"Location=%{y}<br>Period Label=S1-2020<br>sum of Median time in port (days)=%{x}<extra></extra>\",\"legendgroup\":\"Russian Federation\",\"marker\":{\"color\":\"#19d3f3\",\"pattern\":{\"shape\":\"\"}},\"name\":\"Russian Federation\",\"offsetgroup\":\"Russian Federation\",\"orientation\":\"h\",\"showlegend\":true,\"x\":[1.4424,null,1.1437,1.3253,1.7493,2.4722,null,1.3903,1.0688],\"xaxis\":\"x\",\"y\":[\"Russian Federation\",\"Russian Federation\",\"Russian Federation\",\"Russian Federation\",\"Russian Federation\",\"Russian Federation\",\"Russian Federation\",\"Russian Federation\",\"Russian Federation\"],\"yaxis\":\"y\",\"type\":\"histogram\"},{\"alignmentgroup\":\"True\",\"bingroup\":\"y\",\"histfunc\":\"sum\",\"hovertemplate\":\"Location=%{y}<br>Period Label=S1-2020<br>sum of Median time in port (days)=%{x}<extra></extra>\",\"legendgroup\":\"Spain\",\"marker\":{\"color\":\"#FF6692\",\"pattern\":{\"shape\":\"\"}},\"name\":\"Spain\",\"offsetgroup\":\"Spain\",\"orientation\":\"h\",\"showlegend\":true,\"x\":[0.9021,null,0.9007,0.6632,1.2389,1.8323,null,1.0097,1.0375],\"xaxis\":\"x\",\"y\":[\"Spain\",\"Spain\",\"Spain\",\"Spain\",\"Spain\",\"Spain\",\"Spain\",\"Spain\",\"Spain\"],\"yaxis\":\"y\",\"type\":\"histogram\"},{\"alignmentgroup\":\"True\",\"bingroup\":\"y\",\"histfunc\":\"sum\",\"hovertemplate\":\"Location=%{y}<br>Period Label=S1-2020<br>sum of Median time in port (days)=%{x}<extra></extra>\",\"legendgroup\":\"Sweden\",\"marker\":{\"color\":\"#B6E880\",\"pattern\":{\"shape\":\"\"}},\"name\":\"Sweden\",\"offsetgroup\":\"Sweden\",\"orientation\":\"h\",\"showlegend\":true,\"x\":[0.8087,null,0.6983,0.6361,1.0552,0.4979,null,0.849],\"xaxis\":\"x\",\"y\":[\"Sweden\",\"Sweden\",\"Sweden\",\"Sweden\",\"Sweden\",\"Sweden\",\"Sweden\",\"Sweden\"],\"yaxis\":\"y\",\"type\":\"histogram\"},{\"alignmentgroup\":\"True\",\"bingroup\":\"y\",\"histfunc\":\"sum\",\"hovertemplate\":\"Location=%{y}<br>Period Label=S1-2020<br>sum of Median time in port (days)=%{x}<extra></extra>\",\"legendgroup\":\"T\\u00fcrkiye\",\"marker\":{\"color\":\"#FF97FF\",\"pattern\":{\"shape\":\"\"}},\"name\":\"T\\u00fcrkiye\",\"offsetgroup\":\"T\\u00fcrkiye\",\"orientation\":\"h\",\"showlegend\":true,\"x\":[1.1858,null,1.1976,0.6056,1.5215,3.8139,null,1.2319,1.2951],\"xaxis\":\"x\",\"y\":[\"T\\u00fcrkiye\",\"T\\u00fcrkiye\",\"T\\u00fcrkiye\",\"T\\u00fcrkiye\",\"T\\u00fcrkiye\",\"T\\u00fcrkiye\",\"T\\u00fcrkiye\",\"T\\u00fcrkiye\",\"T\\u00fcrkiye\"],\"yaxis\":\"y\",\"type\":\"histogram\"},{\"alignmentgroup\":\"True\",\"bingroup\":\"y\",\"histfunc\":\"sum\",\"hovertemplate\":\"Location=%{y}<br>Period Label=S1-2020<br>sum of Median time in port (days)=%{x}<extra></extra>\",\"legendgroup\":\"United States of America\",\"marker\":{\"color\":\"#FECB52\",\"pattern\":{\"shape\":\"\"}},\"name\":\"United States of America\",\"offsetgroup\":\"United States of America\",\"orientation\":\"h\",\"showlegend\":true,\"x\":[1.4625,null,1.6444,1.0132,1.9313,2.1361,null,1.9736,1.2222],\"xaxis\":\"x\",\"y\":[\"United States of America\",\"United States of America\",\"United States of America\",\"United States of America\",\"United States of America\",\"United States of America\",\"United States of America\",\"United States of America\",\"United States of America\"],\"yaxis\":\"y\",\"type\":\"histogram\"},{\"alignmentgroup\":\"True\",\"bingroup\":\"y\",\"histfunc\":\"sum\",\"hovertemplate\":\"Location=%{y}<br>Period Label=S1-2020<br>sum of Median time in port (days)=%{x}<extra></extra>\",\"legendgroup\":\"United Kingdom\",\"marker\":{\"color\":\"#636efa\",\"pattern\":{\"shape\":\"\"}},\"name\":\"United Kingdom\",\"offsetgroup\":\"United Kingdom\",\"orientation\":\"h\",\"showlegend\":true,\"x\":[1.1014,null,1.0521,0.7083,1.5222,2.5,null,1.0698,1.3566],\"xaxis\":\"x\",\"y\":[\"United Kingdom\",\"United Kingdom\",\"United Kingdom\",\"United Kingdom\",\"United Kingdom\",\"United Kingdom\",\"United Kingdom\",\"United Kingdom\",\"United Kingdom\"],\"yaxis\":\"y\",\"type\":\"histogram\"}],\"name\":\"S1-2020\"},{\"data\":[{\"alignmentgroup\":\"True\",\"bingroup\":\"y\",\"histfunc\":\"sum\",\"hovertemplate\":\"Location=%{y}<br>Period Label=S2-2020<br>sum of Median time in port (days)=%{x}<extra></extra>\",\"legendgroup\":\"World\",\"marker\":{\"color\":\"#636efa\",\"pattern\":{\"shape\":\"\"}},\"name\":\"World\",\"offsetgroup\":\"World\",\"orientation\":\"h\",\"showlegend\":true,\"x\":[1.0021,null,0.966,0.7257,1.1278,2.0465,null,1.0444,1.1281],\"xaxis\":\"x\",\"y\":[\"World\",\"World\",\"World\",\"World\",\"World\",\"World\",\"World\",\"World\",\"World\"],\"yaxis\":\"y\",\"type\":\"histogram\"},{\"alignmentgroup\":\"True\",\"bingroup\":\"y\",\"histfunc\":\"sum\",\"hovertemplate\":\"Location=%{y}<br>Period Label=S2-2020<br>sum of Median time in port (days)=%{x}<extra></extra>\",\"legendgroup\":\"Australia\",\"marker\":{\"color\":\"#EF553B\",\"pattern\":{\"shape\":\"\"}},\"name\":\"Australia\",\"offsetgroup\":\"Australia\",\"orientation\":\"h\",\"showlegend\":true,\"x\":[1.5229,null,1.2965,1.5545,1.8535,1.6028,null,0.8938,1.2038],\"xaxis\":\"x\",\"y\":[\"Australia\",\"Australia\",\"Australia\",\"Australia\",\"Australia\",\"Australia\",\"Australia\",\"Australia\",\"Australia\"],\"yaxis\":\"y\",\"type\":\"histogram\"},{\"alignmentgroup\":\"True\",\"bingroup\":\"y\",\"histfunc\":\"sum\",\"hovertemplate\":\"Location=%{y}<br>Period Label=S2-2020<br>sum of Median time in port (days)=%{x}<extra></extra>\",\"legendgroup\":\"Canada\",\"marker\":{\"color\":\"#00cc96\",\"pattern\":{\"shape\":\"\"}},\"name\":\"Canada\",\"offsetgroup\":\"Canada\",\"orientation\":\"h\",\"showlegend\":true,\"x\":[0.625,null,1.0806,1.8628,0.4313,0.2792,null,1.5288],\"xaxis\":\"x\",\"y\":[\"Canada\",\"Canada\",\"Canada\",\"Canada\",\"Canada\",\"Canada\",\"Canada\",\"Canada\"],\"yaxis\":\"y\",\"type\":\"histogram\"},{\"alignmentgroup\":\"True\",\"bingroup\":\"y\",\"histfunc\":\"sum\",\"hovertemplate\":\"Location=%{y}<br>Period Label=S2-2020<br>sum of Median time in port (days)=%{x}<extra></extra>\",\"legendgroup\":\"China\",\"marker\":{\"color\":\"#ab63fa\",\"pattern\":{\"shape\":\"\"}},\"name\":\"China\",\"offsetgroup\":\"China\",\"orientation\":\"h\",\"showlegend\":true,\"x\":[1.0958,null,1.1646,0.6479,1.2924,2.0146,null,1.0368,1.2007],\"xaxis\":\"x\",\"y\":[\"China\",\"China\",\"China\",\"China\",\"China\",\"China\",\"China\",\"China\",\"China\"],\"yaxis\":\"y\",\"type\":\"histogram\"},{\"alignmentgroup\":\"True\",\"bingroup\":\"y\",\"histfunc\":\"sum\",\"hovertemplate\":\"Location=%{y}<br>Period Label=S2-2020<br>sum of Median time in port (days)=%{x}<extra></extra>\",\"legendgroup\":\"Croatia\",\"marker\":{\"color\":\"#FFA15A\",\"pattern\":{\"shape\":\"\"}},\"name\":\"Croatia\",\"offsetgroup\":\"Croatia\",\"orientation\":\"h\",\"showlegend\":true,\"x\":[1.1118,null,0.8951,0.5719,2.3253,2.5951],\"xaxis\":\"x\",\"y\":[\"Croatia\",\"Croatia\",\"Croatia\",\"Croatia\",\"Croatia\",\"Croatia\"],\"yaxis\":\"y\",\"type\":\"histogram\"},{\"alignmentgroup\":\"True\",\"bingroup\":\"y\",\"histfunc\":\"sum\",\"hovertemplate\":\"Location=%{y}<br>Period Label=S2-2020<br>sum of Median time in port (days)=%{x}<extra></extra>\",\"legendgroup\":\"Denmark\",\"marker\":{\"color\":\"#19d3f3\",\"pattern\":{\"shape\":\"\"}},\"name\":\"Denmark\",\"offsetgroup\":\"Denmark\",\"orientation\":\"h\",\"showlegend\":true,\"x\":[0.7601,null,0.6837,0.4483,0.9118,0.8618,null,1.059],\"xaxis\":\"x\",\"y\":[\"Denmark\",\"Denmark\",\"Denmark\",\"Denmark\",\"Denmark\",\"Denmark\",\"Denmark\",\"Denmark\"],\"yaxis\":\"y\",\"type\":\"histogram\"},{\"alignmentgroup\":\"True\",\"bingroup\":\"y\",\"histfunc\":\"sum\",\"hovertemplate\":\"Location=%{y}<br>Period Label=S2-2020<br>sum of Median time in port (days)=%{x}<extra></extra>\",\"legendgroup\":\"France\",\"marker\":{\"color\":\"#FF6692\",\"pattern\":{\"shape\":\"\"}},\"name\":\"France\",\"offsetgroup\":\"France\",\"orientation\":\"h\",\"showlegend\":true,\"x\":[1.1035,null,1.0194,0.7615,1.5778,2.7743,null,1.1583,1.167],\"xaxis\":\"x\",\"y\":[\"France\",\"France\",\"France\",\"France\",\"France\",\"France\",\"France\",\"France\",\"France\"],\"yaxis\":\"y\",\"type\":\"histogram\"},{\"alignmentgroup\":\"True\",\"bingroup\":\"y\",\"histfunc\":\"sum\",\"hovertemplate\":\"Location=%{y}<br>Period Label=S2-2020<br>sum of Median time in port (days)=%{x}<extra></extra>\",\"legendgroup\":\"Germany\",\"marker\":{\"color\":\"#B6E880\",\"pattern\":{\"shape\":\"\"}},\"name\":\"Germany\",\"offsetgroup\":\"Germany\",\"orientation\":\"h\",\"showlegend\":true,\"x\":[0.7958,null,0.5049,1.0,0.9069,2.2295,null,0.8528],\"xaxis\":\"x\",\"y\":[\"Germany\",\"Germany\",\"Germany\",\"Germany\",\"Germany\",\"Germany\",\"Germany\",\"Germany\"],\"yaxis\":\"y\",\"type\":\"histogram\"},{\"alignmentgroup\":\"True\",\"bingroup\":\"y\",\"histfunc\":\"sum\",\"hovertemplate\":\"Location=%{y}<br>Period Label=S2-2020<br>sum of Median time in port (days)=%{x}<extra></extra>\",\"legendgroup\":\"Greece\",\"marker\":{\"color\":\"#FF97FF\",\"pattern\":{\"shape\":\"\"}},\"name\":\"Greece\",\"offsetgroup\":\"Greece\",\"orientation\":\"h\",\"showlegend\":true,\"x\":[0.7997,null,0.6007,0.9729,1.0951,0.4455,null,1.0007,1.2955],\"xaxis\":\"x\",\"y\":[\"Greece\",\"Greece\",\"Greece\",\"Greece\",\"Greece\",\"Greece\",\"Greece\",\"Greece\",\"Greece\"],\"yaxis\":\"y\",\"type\":\"histogram\"},{\"alignmentgroup\":\"True\",\"bingroup\":\"y\",\"histfunc\":\"sum\",\"hovertemplate\":\"Location=%{y}<br>Period Label=S2-2020<br>sum of Median time in port (days)=%{x}<extra></extra>\",\"legendgroup\":\"Indonesia\",\"marker\":{\"color\":\"#FECB52\",\"pattern\":{\"shape\":\"\"}},\"name\":\"Indonesia\",\"offsetgroup\":\"Indonesia\",\"orientation\":\"h\",\"showlegend\":true,\"x\":[1.2174,null,1.241,0.9958,1.0896,2.9785,null,1.1049,1.4076],\"xaxis\":\"x\",\"y\":[\"Indonesia\",\"Indonesia\",\"Indonesia\",\"Indonesia\",\"Indonesia\",\"Indonesia\",\"Indonesia\",\"Indonesia\",\"Indonesia\"],\"yaxis\":\"y\",\"type\":\"histogram\"},{\"alignmentgroup\":\"True\",\"bingroup\":\"y\",\"histfunc\":\"sum\",\"hovertemplate\":\"Location=%{y}<br>Period Label=S2-2020<br>sum of Median time in port (days)=%{x}<extra></extra>\",\"legendgroup\":\"Italy\",\"marker\":{\"color\":\"#636efa\",\"pattern\":{\"shape\":\"\"}},\"name\":\"Italy\",\"offsetgroup\":\"Italy\",\"orientation\":\"h\",\"showlegend\":true,\"x\":[1.3101,null,1.2729,0.9264,2.0264,3.4809,null,1.7056],\"xaxis\":\"x\",\"y\":[\"Italy\",\"Italy\",\"Italy\",\"Italy\",\"Italy\",\"Italy\",\"Italy\",\"Italy\"],\"yaxis\":\"y\",\"type\":\"histogram\"},{\"alignmentgroup\":\"True\",\"bingroup\":\"y\",\"histfunc\":\"sum\",\"hovertemplate\":\"Location=%{y}<br>Period Label=S2-2020<br>sum of Median time in port (days)=%{x}<extra></extra>\",\"legendgroup\":\"Japan\",\"marker\":{\"color\":\"#EF553B\",\"pattern\":{\"shape\":\"\"}},\"name\":\"Japan\",\"offsetgroup\":\"Japan\",\"orientation\":\"h\",\"showlegend\":true,\"x\":[0.3951,null,0.3118,0.3389,1.0986,0.8194,null,0.3319,1.0354],\"xaxis\":\"x\",\"y\":[\"Japan\",\"Japan\",\"Japan\",\"Japan\",\"Japan\",\"Japan\",\"Japan\",\"Japan\",\"Japan\"],\"yaxis\":\"y\",\"type\":\"histogram\"},{\"alignmentgroup\":\"True\",\"bingroup\":\"y\",\"histfunc\":\"sum\",\"hovertemplate\":\"Location=%{y}<br>Period Label=S2-2020<br>sum of Median time in port (days)=%{x}<extra></extra>\",\"legendgroup\":\"Korea, Republic of\",\"marker\":{\"color\":\"#00cc96\",\"pattern\":{\"shape\":\"\"}},\"name\":\"Korea, Republic of\",\"offsetgroup\":\"Korea, Republic of\",\"orientation\":\"h\",\"showlegend\":true,\"x\":[0.8722,null,0.7792,0.6667,1.1958,2.0135,null,0.841,1.0344],\"xaxis\":\"x\",\"y\":[\"Korea, Republic of\",\"Korea, Republic of\",\"Korea, Republic of\",\"Korea, Republic of\",\"Korea, Republic of\",\"Korea, Republic of\",\"Korea, Republic of\",\"Korea, Republic of\",\"Korea, Republic of\"],\"yaxis\":\"y\",\"type\":\"histogram\"},{\"alignmentgroup\":\"True\",\"bingroup\":\"y\",\"histfunc\":\"sum\",\"hovertemplate\":\"Location=%{y}<br>Period Label=S2-2020<br>sum of Median time in port (days)=%{x}<extra></extra>\",\"legendgroup\":\"Netherlands\",\"marker\":{\"color\":\"#ab63fa\",\"pattern\":{\"shape\":\"\"}},\"name\":\"Netherlands\",\"offsetgroup\":\"Netherlands\",\"orientation\":\"h\",\"showlegend\":true,\"x\":[0.5701,null,0.5042,0.8153,0.4097,1.0993,null,1.0347,1.0608],\"xaxis\":\"x\",\"y\":[\"Netherlands\",\"Netherlands\",\"Netherlands\",\"Netherlands\",\"Netherlands\",\"Netherlands\",\"Netherlands\",\"Netherlands\",\"Netherlands\"],\"yaxis\":\"y\",\"type\":\"histogram\"},{\"alignmentgroup\":\"True\",\"bingroup\":\"y\",\"histfunc\":\"sum\",\"hovertemplate\":\"Location=%{y}<br>Period Label=S2-2020<br>sum of Median time in port (days)=%{x}<extra></extra>\",\"legendgroup\":\"Norway\",\"marker\":{\"color\":\"#FFA15A\",\"pattern\":{\"shape\":\"\"}},\"name\":\"Norway\",\"offsetgroup\":\"Norway\",\"orientation\":\"h\",\"showlegend\":true,\"x\":[0.4028,null,0.6083,0.3319,0.3167,0.8017,null,0.7528,0.2892],\"xaxis\":\"x\",\"y\":[\"Norway\",\"Norway\",\"Norway\",\"Norway\",\"Norway\",\"Norway\",\"Norway\",\"Norway\",\"Norway\"],\"yaxis\":\"y\",\"type\":\"histogram\"},{\"alignmentgroup\":\"True\",\"bingroup\":\"y\",\"histfunc\":\"sum\",\"hovertemplate\":\"Location=%{y}<br>Period Label=S2-2020<br>sum of Median time in port (days)=%{x}<extra></extra>\",\"legendgroup\":\"Russian Federation\",\"marker\":{\"color\":\"#19d3f3\",\"pattern\":{\"shape\":\"\"}},\"name\":\"Russian Federation\",\"offsetgroup\":\"Russian Federation\",\"orientation\":\"h\",\"showlegend\":true,\"x\":[1.2806,null,0.9681,1.2924,1.4264,2.3566,null,1.3125,1.1437],\"xaxis\":\"x\",\"y\":[\"Russian Federation\",\"Russian Federation\",\"Russian Federation\",\"Russian Federation\",\"Russian Federation\",\"Russian Federation\",\"Russian Federation\",\"Russian Federation\",\"Russian Federation\"],\"yaxis\":\"y\",\"type\":\"histogram\"},{\"alignmentgroup\":\"True\",\"bingroup\":\"y\",\"histfunc\":\"sum\",\"hovertemplate\":\"Location=%{y}<br>Period Label=S2-2020<br>sum of Median time in port (days)=%{x}<extra></extra>\",\"legendgroup\":\"Spain\",\"marker\":{\"color\":\"#FF6692\",\"pattern\":{\"shape\":\"\"}},\"name\":\"Spain\",\"offsetgroup\":\"Spain\",\"orientation\":\"h\",\"showlegend\":true,\"x\":[0.9021,null,0.9118,0.6622,1.184,1.7528,null,1.0625,1.0604],\"xaxis\":\"x\",\"y\":[\"Spain\",\"Spain\",\"Spain\",\"Spain\",\"Spain\",\"Spain\",\"Spain\",\"Spain\",\"Spain\"],\"yaxis\":\"y\",\"type\":\"histogram\"},{\"alignmentgroup\":\"True\",\"bingroup\":\"y\",\"histfunc\":\"sum\",\"hovertemplate\":\"Location=%{y}<br>Period Label=S2-2020<br>sum of Median time in port (days)=%{x}<extra></extra>\",\"legendgroup\":\"Sweden\",\"marker\":{\"color\":\"#B6E880\",\"pattern\":{\"shape\":\"\"}},\"name\":\"Sweden\",\"offsetgroup\":\"Sweden\",\"orientation\":\"h\",\"showlegend\":true,\"x\":[0.7837,null,0.658,0.6056,1.0458,0.4743,null,0.8167,0.8219],\"xaxis\":\"x\",\"y\":[\"Sweden\",\"Sweden\",\"Sweden\",\"Sweden\",\"Sweden\",\"Sweden\",\"Sweden\",\"Sweden\",\"Sweden\"],\"yaxis\":\"y\",\"type\":\"histogram\"},{\"alignmentgroup\":\"True\",\"bingroup\":\"y\",\"histfunc\":\"sum\",\"hovertemplate\":\"Location=%{y}<br>Period Label=S2-2020<br>sum of Median time in port (days)=%{x}<extra></extra>\",\"legendgroup\":\"T\\u00fcrkiye\",\"marker\":{\"color\":\"#FF97FF\",\"pattern\":{\"shape\":\"\"}},\"name\":\"T\\u00fcrkiye\",\"offsetgroup\":\"T\\u00fcrkiye\",\"orientation\":\"h\",\"showlegend\":true,\"x\":[1.1965,null,1.2111,0.6215,1.5431,3.9743,null,1.4278,1.2729],\"xaxis\":\"x\",\"y\":[\"T\\u00fcrkiye\",\"T\\u00fcrkiye\",\"T\\u00fcrkiye\",\"T\\u00fcrkiye\",\"T\\u00fcrkiye\",\"T\\u00fcrkiye\",\"T\\u00fcrkiye\",\"T\\u00fcrkiye\",\"T\\u00fcrkiye\"],\"yaxis\":\"y\",\"type\":\"histogram\"},{\"alignmentgroup\":\"True\",\"bingroup\":\"y\",\"histfunc\":\"sum\",\"hovertemplate\":\"Location=%{y}<br>Period Label=S2-2020<br>sum of Median time in port (days)=%{x}<extra></extra>\",\"legendgroup\":\"United States of America\",\"marker\":{\"color\":\"#FECB52\",\"pattern\":{\"shape\":\"\"}},\"name\":\"United States of America\",\"offsetgroup\":\"United States of America\",\"orientation\":\"h\",\"showlegend\":true,\"x\":[1.4438,null,1.5872,1.0566,1.8792,1.8399,null,1.9694,1.2757],\"xaxis\":\"x\",\"y\":[\"United States of America\",\"United States of America\",\"United States of America\",\"United States of America\",\"United States of America\",\"United States of America\",\"United States of America\",\"United States of America\",\"United States of America\"],\"yaxis\":\"y\",\"type\":\"histogram\"},{\"alignmentgroup\":\"True\",\"bingroup\":\"y\",\"histfunc\":\"sum\",\"hovertemplate\":\"Location=%{y}<br>Period Label=S2-2020<br>sum of Median time in port (days)=%{x}<extra></extra>\",\"legendgroup\":\"United Kingdom\",\"marker\":{\"color\":\"#636efa\",\"pattern\":{\"shape\":\"\"}},\"name\":\"United Kingdom\",\"offsetgroup\":\"United Kingdom\",\"orientation\":\"h\",\"showlegend\":true,\"x\":[1.1125,null,1.034,0.7535,1.5378,3.0299,null,1.0535,1.2507],\"xaxis\":\"x\",\"y\":[\"United Kingdom\",\"United Kingdom\",\"United Kingdom\",\"United Kingdom\",\"United Kingdom\",\"United Kingdom\",\"United Kingdom\",\"United Kingdom\",\"United Kingdom\"],\"yaxis\":\"y\",\"type\":\"histogram\"}],\"name\":\"S2-2020\"},{\"data\":[{\"alignmentgroup\":\"True\",\"bingroup\":\"y\",\"histfunc\":\"sum\",\"hovertemplate\":\"Location=%{y}<br>Period Label=S1-2021<br>sum of Median time in port (days)=%{x}<extra></extra>\",\"legendgroup\":\"World\",\"marker\":{\"color\":\"#636efa\",\"pattern\":{\"shape\":\"\"}},\"name\":\"World\",\"offsetgroup\":\"World\",\"orientation\":\"h\",\"showlegend\":true,\"x\":[1.041,null,0.984,0.775,1.1896,2.1299,null,1.0306,1.1285],\"xaxis\":\"x\",\"y\":[\"World\",\"World\",\"World\",\"World\",\"World\",\"World\",\"World\",\"World\",\"World\"],\"yaxis\":\"y\",\"type\":\"histogram\"},{\"alignmentgroup\":\"True\",\"bingroup\":\"y\",\"histfunc\":\"sum\",\"hovertemplate\":\"Location=%{y}<br>Period Label=S1-2021<br>sum of Median time in port (days)=%{x}<extra></extra>\",\"legendgroup\":\"Australia\",\"marker\":{\"color\":\"#EF553B\",\"pattern\":{\"shape\":\"\"}},\"name\":\"Australia\",\"offsetgroup\":\"Australia\",\"orientation\":\"h\",\"showlegend\":true,\"x\":[1.5736,null,1.2628,1.4583,1.9486,1.7198,null,0.9479,1.2465],\"xaxis\":\"x\",\"y\":[\"Australia\",\"Australia\",\"Australia\",\"Australia\",\"Australia\",\"Australia\",\"Australia\",\"Australia\",\"Australia\"],\"yaxis\":\"y\",\"type\":\"histogram\"},{\"alignmentgroup\":\"True\",\"bingroup\":\"y\",\"histfunc\":\"sum\",\"hovertemplate\":\"Location=%{y}<br>Period Label=S1-2021<br>sum of Median time in port (days)=%{x}<extra></extra>\",\"legendgroup\":\"Canada\",\"marker\":{\"color\":\"#00cc96\",\"pattern\":{\"shape\":\"\"}},\"name\":\"Canada\",\"offsetgroup\":\"Canada\",\"orientation\":\"h\",\"showlegend\":true,\"x\":[0.9726,null,1.1007,1.8233,0.8663,0.5514,null,1.5292],\"xaxis\":\"x\",\"y\":[\"Canada\",\"Canada\",\"Canada\",\"Canada\",\"Canada\",\"Canada\",\"Canada\",\"Canada\"],\"yaxis\":\"y\",\"type\":\"histogram\"},{\"alignmentgroup\":\"True\",\"bingroup\":\"y\",\"histfunc\":\"sum\",\"hovertemplate\":\"Location=%{y}<br>Period Label=S1-2021<br>sum of Median time in port (days)=%{x}<extra></extra>\",\"legendgroup\":\"China\",\"marker\":{\"color\":\"#ab63fa\",\"pattern\":{\"shape\":\"\"}},\"name\":\"China\",\"offsetgroup\":\"China\",\"orientation\":\"h\",\"showlegend\":true,\"x\":[1.134,null,1.1684,0.6806,1.4358,2.0292,null,1.0382,1.1854],\"xaxis\":\"x\",\"y\":[\"China\",\"China\",\"China\",\"China\",\"China\",\"China\",\"China\",\"China\",\"China\"],\"yaxis\":\"y\",\"type\":\"histogram\"},{\"alignmentgroup\":\"True\",\"bingroup\":\"y\",\"histfunc\":\"sum\",\"hovertemplate\":\"Location=%{y}<br>Period Label=S1-2021<br>sum of Median time in port (days)=%{x}<extra></extra>\",\"legendgroup\":\"Croatia\",\"marker\":{\"color\":\"#FFA15A\",\"pattern\":{\"shape\":\"\"}},\"name\":\"Croatia\",\"offsetgroup\":\"Croatia\",\"orientation\":\"h\",\"showlegend\":true,\"x\":[1.1587,null,0.8729,0.575,2.6444,2.3125],\"xaxis\":\"x\",\"y\":[\"Croatia\",\"Croatia\",\"Croatia\",\"Croatia\",\"Croatia\",\"Croatia\"],\"yaxis\":\"y\",\"type\":\"histogram\"},{\"alignmentgroup\":\"True\",\"bingroup\":\"y\",\"histfunc\":\"sum\",\"hovertemplate\":\"Location=%{y}<br>Period Label=S1-2021<br>sum of Median time in port (days)=%{x}<extra></extra>\",\"legendgroup\":\"Denmark\",\"marker\":{\"color\":\"#19d3f3\",\"pattern\":{\"shape\":\"\"}},\"name\":\"Denmark\",\"offsetgroup\":\"Denmark\",\"orientation\":\"h\",\"showlegend\":true,\"x\":[0.7653,null,0.7076,0.4576,0.8785,0.8618,null,1.0368],\"xaxis\":\"x\",\"y\":[\"Denmark\",\"Denmark\",\"Denmark\",\"Denmark\",\"Denmark\",\"Denmark\",\"Denmark\",\"Denmark\"],\"yaxis\":\"y\",\"type\":\"histogram\"},{\"alignmentgroup\":\"True\",\"bingroup\":\"y\",\"histfunc\":\"sum\",\"hovertemplate\":\"Location=%{y}<br>Period Label=S1-2021<br>sum of Median time in port (days)=%{x}<extra></extra>\",\"legendgroup\":\"France\",\"marker\":{\"color\":\"#FF6692\",\"pattern\":{\"shape\":\"\"}},\"name\":\"France\",\"offsetgroup\":\"France\",\"orientation\":\"h\",\"showlegend\":true,\"x\":[1.1799,null,1.0399,0.9333,1.6437,2.8882,null,1.0774,1.1083],\"xaxis\":\"x\",\"y\":[\"France\",\"France\",\"France\",\"France\",\"France\",\"France\",\"France\",\"France\",\"France\"],\"yaxis\":\"y\",\"type\":\"histogram\"},{\"alignmentgroup\":\"True\",\"bingroup\":\"y\",\"histfunc\":\"sum\",\"hovertemplate\":\"Location=%{y}<br>Period Label=S1-2021<br>sum of Median time in port (days)=%{x}<extra></extra>\",\"legendgroup\":\"Germany\",\"marker\":{\"color\":\"#B6E880\",\"pattern\":{\"shape\":\"\"}},\"name\":\"Germany\",\"offsetgroup\":\"Germany\",\"orientation\":\"h\",\"showlegend\":true,\"x\":[0.8444,null,0.5632,1.0833,0.8663,2.7833,null,0.8677],\"xaxis\":\"x\",\"y\":[\"Germany\",\"Germany\",\"Germany\",\"Germany\",\"Germany\",\"Germany\",\"Germany\",\"Germany\"],\"yaxis\":\"y\",\"type\":\"histogram\"},{\"alignmentgroup\":\"True\",\"bingroup\":\"y\",\"histfunc\":\"sum\",\"hovertemplate\":\"Location=%{y}<br>Period Label=S1-2021<br>sum of Median time in port (days)=%{x}<extra></extra>\",\"legendgroup\":\"Greece\",\"marker\":{\"color\":\"#FF97FF\",\"pattern\":{\"shape\":\"\"}},\"name\":\"Greece\",\"offsetgroup\":\"Greece\",\"orientation\":\"h\",\"showlegend\":true,\"x\":[0.8576,null,0.6194,1.0184,1.1469,0.6378,null,1.0,1.1715],\"xaxis\":\"x\",\"y\":[\"Greece\",\"Greece\",\"Greece\",\"Greece\",\"Greece\",\"Greece\",\"Greece\",\"Greece\",\"Greece\"],\"yaxis\":\"y\",\"type\":\"histogram\"},{\"alignmentgroup\":\"True\",\"bingroup\":\"y\",\"histfunc\":\"sum\",\"hovertemplate\":\"Location=%{y}<br>Period Label=S1-2021<br>sum of Median time in port (days)=%{x}<extra></extra>\",\"legendgroup\":\"Indonesia\",\"marker\":{\"color\":\"#FECB52\",\"pattern\":{\"shape\":\"\"}},\"name\":\"Indonesia\",\"offsetgroup\":\"Indonesia\",\"orientation\":\"h\",\"showlegend\":true,\"x\":[1.2931,null,1.3056,1.0451,1.2118,3.0396,null,1.0719,1.4285],\"xaxis\":\"x\",\"y\":[\"Indonesia\",\"Indonesia\",\"Indonesia\",\"Indonesia\",\"Indonesia\",\"Indonesia\",\"Indonesia\",\"Indonesia\",\"Indonesia\"],\"yaxis\":\"y\",\"type\":\"histogram\"},{\"alignmentgroup\":\"True\",\"bingroup\":\"y\",\"histfunc\":\"sum\",\"hovertemplate\":\"Location=%{y}<br>Period Label=S1-2021<br>sum of Median time in port (days)=%{x}<extra></extra>\",\"legendgroup\":\"Italy\",\"marker\":{\"color\":\"#636efa\",\"pattern\":{\"shape\":\"\"}},\"name\":\"Italy\",\"offsetgroup\":\"Italy\",\"orientation\":\"h\",\"showlegend\":true,\"x\":[1.3326,null,1.3257,0.9319,1.9222,3.325,null,1.549],\"xaxis\":\"x\",\"y\":[\"Italy\",\"Italy\",\"Italy\",\"Italy\",\"Italy\",\"Italy\",\"Italy\",\"Italy\"],\"yaxis\":\"y\",\"type\":\"histogram\"},{\"alignmentgroup\":\"True\",\"bingroup\":\"y\",\"histfunc\":\"sum\",\"hovertemplate\":\"Location=%{y}<br>Period Label=S1-2021<br>sum of Median time in port (days)=%{x}<extra></extra>\",\"legendgroup\":\"Japan\",\"marker\":{\"color\":\"#EF553B\",\"pattern\":{\"shape\":\"\"}},\"name\":\"Japan\",\"offsetgroup\":\"Japan\",\"orientation\":\"h\",\"showlegend\":true,\"x\":[0.4146,null,0.3111,0.3562,1.1951,0.9035,null,0.3153,1.0222],\"xaxis\":\"x\",\"y\":[\"Japan\",\"Japan\",\"Japan\",\"Japan\",\"Japan\",\"Japan\",\"Japan\",\"Japan\",\"Japan\"],\"yaxis\":\"y\",\"type\":\"histogram\"},{\"alignmentgroup\":\"True\",\"bingroup\":\"y\",\"histfunc\":\"sum\",\"hovertemplate\":\"Location=%{y}<br>Period Label=S1-2021<br>sum of Median time in port (days)=%{x}<extra></extra>\",\"legendgroup\":\"Korea, Republic of\",\"marker\":{\"color\":\"#00cc96\",\"pattern\":{\"shape\":\"\"}},\"name\":\"Korea, Republic of\",\"offsetgroup\":\"Korea, Republic of\",\"orientation\":\"h\",\"showlegend\":true,\"x\":[0.9,null,0.7667,0.6951,1.2167,2.0924,null,0.8424,1.0389],\"xaxis\":\"x\",\"y\":[\"Korea, Republic of\",\"Korea, Republic of\",\"Korea, Republic of\",\"Korea, Republic of\",\"Korea, Republic of\",\"Korea, Republic of\",\"Korea, Republic of\",\"Korea, Republic of\",\"Korea, Republic of\"],\"yaxis\":\"y\",\"type\":\"histogram\"},{\"alignmentgroup\":\"True\",\"bingroup\":\"y\",\"histfunc\":\"sum\",\"hovertemplate\":\"Location=%{y}<br>Period Label=S1-2021<br>sum of Median time in port (days)=%{x}<extra></extra>\",\"legendgroup\":\"Netherlands\",\"marker\":{\"color\":\"#ab63fa\",\"pattern\":{\"shape\":\"\"}},\"name\":\"Netherlands\",\"offsetgroup\":\"Netherlands\",\"orientation\":\"h\",\"showlegend\":true,\"x\":[0.6104,null,0.5326,0.8806,0.4812,1.0354,null,0.9132,1.0118],\"xaxis\":\"x\",\"y\":[\"Netherlands\",\"Netherlands\",\"Netherlands\",\"Netherlands\",\"Netherlands\",\"Netherlands\",\"Netherlands\",\"Netherlands\",\"Netherlands\"],\"yaxis\":\"y\",\"type\":\"histogram\"},{\"alignmentgroup\":\"True\",\"bingroup\":\"y\",\"histfunc\":\"sum\",\"hovertemplate\":\"Location=%{y}<br>Period Label=S1-2021<br>sum of Median time in port (days)=%{x}<extra></extra>\",\"legendgroup\":\"Norway\",\"marker\":{\"color\":\"#FFA15A\",\"pattern\":{\"shape\":\"\"}},\"name\":\"Norway\",\"offsetgroup\":\"Norway\",\"orientation\":\"h\",\"showlegend\":true,\"x\":[0.4111,null,0.6125,0.3493,0.3125,0.8847,null,0.8101,0.2931],\"xaxis\":\"x\",\"y\":[\"Norway\",\"Norway\",\"Norway\",\"Norway\",\"Norway\",\"Norway\",\"Norway\",\"Norway\",\"Norway\"],\"yaxis\":\"y\",\"type\":\"histogram\"},{\"alignmentgroup\":\"True\",\"bingroup\":\"y\",\"histfunc\":\"sum\",\"hovertemplate\":\"Location=%{y}<br>Period Label=S1-2021<br>sum of Median time in port (days)=%{x}<extra></extra>\",\"legendgroup\":\"Russian Federation\",\"marker\":{\"color\":\"#19d3f3\",\"pattern\":{\"shape\":\"\"}},\"name\":\"Russian Federation\",\"offsetgroup\":\"Russian Federation\",\"orientation\":\"h\",\"showlegend\":true,\"x\":[1.509,null,1.1493,1.4118,1.8573,2.5472,null,1.6014,1.1187],\"xaxis\":\"x\",\"y\":[\"Russian Federation\",\"Russian Federation\",\"Russian Federation\",\"Russian Federation\",\"Russian Federation\",\"Russian Federation\",\"Russian Federation\",\"Russian Federation\",\"Russian Federation\"],\"yaxis\":\"y\",\"type\":\"histogram\"},{\"alignmentgroup\":\"True\",\"bingroup\":\"y\",\"histfunc\":\"sum\",\"hovertemplate\":\"Location=%{y}<br>Period Label=S1-2021<br>sum of Median time in port (days)=%{x}<extra></extra>\",\"legendgroup\":\"Spain\",\"marker\":{\"color\":\"#FF6692\",\"pattern\":{\"shape\":\"\"}},\"name\":\"Spain\",\"offsetgroup\":\"Spain\",\"orientation\":\"h\",\"showlegend\":true,\"x\":[0.9021,null,0.9174,0.6451,1.1653,1.7694,null,1.0361,1.0184],\"xaxis\":\"x\",\"y\":[\"Spain\",\"Spain\",\"Spain\",\"Spain\",\"Spain\",\"Spain\",\"Spain\",\"Spain\",\"Spain\"],\"yaxis\":\"y\",\"type\":\"histogram\"},{\"alignmentgroup\":\"True\",\"bingroup\":\"y\",\"histfunc\":\"sum\",\"hovertemplate\":\"Location=%{y}<br>Period Label=S1-2021<br>sum of Median time in port (days)=%{x}<extra></extra>\",\"legendgroup\":\"Sweden\",\"marker\":{\"color\":\"#B6E880\",\"pattern\":{\"shape\":\"\"}},\"name\":\"Sweden\",\"offsetgroup\":\"Sweden\",\"orientation\":\"h\",\"showlegend\":true,\"x\":[0.7736,null,0.6528,0.6149,1.0222,0.4437,null,0.8076],\"xaxis\":\"x\",\"y\":[\"Sweden\",\"Sweden\",\"Sweden\",\"Sweden\",\"Sweden\",\"Sweden\",\"Sweden\",\"Sweden\"],\"yaxis\":\"y\",\"type\":\"histogram\"},{\"alignmentgroup\":\"True\",\"bingroup\":\"y\",\"histfunc\":\"sum\",\"hovertemplate\":\"Location=%{y}<br>Period Label=S1-2021<br>sum of Median time in port (days)=%{x}<extra></extra>\",\"legendgroup\":\"T\\u00fcrkiye\",\"marker\":{\"color\":\"#FF97FF\",\"pattern\":{\"shape\":\"\"}},\"name\":\"T\\u00fcrkiye\",\"offsetgroup\":\"T\\u00fcrkiye\",\"orientation\":\"h\",\"showlegend\":true,\"x\":[1.1958,null,1.192,0.6236,1.4931,3.7319,null,1.234,1.2569],\"xaxis\":\"x\",\"y\":[\"T\\u00fcrkiye\",\"T\\u00fcrkiye\",\"T\\u00fcrkiye\",\"T\\u00fcrkiye\",\"T\\u00fcrkiye\",\"T\\u00fcrkiye\",\"T\\u00fcrkiye\",\"T\\u00fcrkiye\",\"T\\u00fcrkiye\"],\"yaxis\":\"y\",\"type\":\"histogram\"},{\"alignmentgroup\":\"True\",\"bingroup\":\"y\",\"histfunc\":\"sum\",\"hovertemplate\":\"Location=%{y}<br>Period Label=S1-2021<br>sum of Median time in port (days)=%{x}<extra></extra>\",\"legendgroup\":\"United States of America\",\"marker\":{\"color\":\"#FECB52\",\"pattern\":{\"shape\":\"\"}},\"name\":\"United States of America\",\"offsetgroup\":\"United States of America\",\"orientation\":\"h\",\"showlegend\":true,\"x\":[1.5639,null,1.5684,1.2069,2.0076,2.3632,null,1.8507,1.2844],\"xaxis\":\"x\",\"y\":[\"United States of America\",\"United States of America\",\"United States of America\",\"United States of America\",\"United States of America\",\"United States of America\",\"United States of America\",\"United States of America\",\"United States of America\"],\"yaxis\":\"y\",\"type\":\"histogram\"},{\"alignmentgroup\":\"True\",\"bingroup\":\"y\",\"histfunc\":\"sum\",\"hovertemplate\":\"Location=%{y}<br>Period Label=S1-2021<br>sum of Median time in port (days)=%{x}<extra></extra>\",\"legendgroup\":\"United Kingdom\",\"marker\":{\"color\":\"#636efa\",\"pattern\":{\"shape\":\"\"}},\"name\":\"United Kingdom\",\"offsetgroup\":\"United Kingdom\",\"orientation\":\"h\",\"showlegend\":true,\"x\":[1.1625,null,1.0514,0.8035,1.525,2.9014,null,1.0556,1.2271],\"xaxis\":\"x\",\"y\":[\"United Kingdom\",\"United Kingdom\",\"United Kingdom\",\"United Kingdom\",\"United Kingdom\",\"United Kingdom\",\"United Kingdom\",\"United Kingdom\",\"United Kingdom\"],\"yaxis\":\"y\",\"type\":\"histogram\"}],\"name\":\"S1-2021\"},{\"data\":[{\"alignmentgroup\":\"True\",\"bingroup\":\"y\",\"histfunc\":\"sum\",\"hovertemplate\":\"Location=%{y}<br>Period Label=S2-2021<br>sum of Median time in port (days)=%{x}<extra></extra>\",\"legendgroup\":\"World\",\"marker\":{\"color\":\"#636efa\",\"pattern\":{\"shape\":\"\"}},\"name\":\"World\",\"offsetgroup\":\"World\",\"orientation\":\"h\",\"showlegend\":true,\"x\":[1.0507,null,0.9771,0.8306,1.1583,2.0826,null,1.0229,1.1313],\"xaxis\":\"x\",\"y\":[\"World\",\"World\",\"World\",\"World\",\"World\",\"World\",\"World\",\"World\",\"World\"],\"yaxis\":\"y\",\"type\":\"histogram\"},{\"alignmentgroup\":\"True\",\"bingroup\":\"y\",\"histfunc\":\"sum\",\"hovertemplate\":\"Location=%{y}<br>Period Label=S2-2021<br>sum of Median time in port (days)=%{x}<extra></extra>\",\"legendgroup\":\"Australia\",\"marker\":{\"color\":\"#EF553B\",\"pattern\":{\"shape\":\"\"}},\"name\":\"Australia\",\"offsetgroup\":\"Australia\",\"orientation\":\"h\",\"showlegend\":true,\"x\":[1.5646,null,1.3135,1.6972,1.9854,1.6417,null,0.8778,1.2674],\"xaxis\":\"x\",\"y\":[\"Australia\",\"Australia\",\"Australia\",\"Australia\",\"Australia\",\"Australia\",\"Australia\",\"Australia\",\"Australia\"],\"yaxis\":\"y\",\"type\":\"histogram\"},{\"alignmentgroup\":\"True\",\"bingroup\":\"y\",\"histfunc\":\"sum\",\"hovertemplate\":\"Location=%{y}<br>Period Label=S2-2021<br>sum of Median time in port (days)=%{x}<extra></extra>\",\"legendgroup\":\"Canada\",\"marker\":{\"color\":\"#00cc96\",\"pattern\":{\"shape\":\"\"}},\"name\":\"Canada\",\"offsetgroup\":\"Canada\",\"orientation\":\"h\",\"showlegend\":true,\"x\":[0.5889,null,1.0264,1.7677,0.6667,0.1885,null,1.4889],\"xaxis\":\"x\",\"y\":[\"Canada\",\"Canada\",\"Canada\",\"Canada\",\"Canada\",\"Canada\",\"Canada\",\"Canada\"],\"yaxis\":\"y\",\"type\":\"histogram\"},{\"alignmentgroup\":\"True\",\"bingroup\":\"y\",\"histfunc\":\"sum\",\"hovertemplate\":\"Location=%{y}<br>Period Label=S2-2021<br>sum of Median time in port (days)=%{x}<extra></extra>\",\"legendgroup\":\"China\",\"marker\":{\"color\":\"#ab63fa\",\"pattern\":{\"shape\":\"\"}},\"name\":\"China\",\"offsetgroup\":\"China\",\"orientation\":\"h\",\"showlegend\":true,\"x\":[1.1681,null,1.1257,0.7799,1.5639,2.066,null,1.0472,1.1965],\"xaxis\":\"x\",\"y\":[\"China\",\"China\",\"China\",\"China\",\"China\",\"China\",\"China\",\"China\",\"China\"],\"yaxis\":\"y\",\"type\":\"histogram\"},{\"alignmentgroup\":\"True\",\"bingroup\":\"y\",\"histfunc\":\"sum\",\"hovertemplate\":\"Location=%{y}<br>Period Label=S2-2021<br>sum of Median time in port (days)=%{x}<extra></extra>\",\"legendgroup\":\"Croatia\",\"marker\":{\"color\":\"#FFA15A\",\"pattern\":{\"shape\":\"\"}},\"name\":\"Croatia\",\"offsetgroup\":\"Croatia\",\"orientation\":\"h\",\"showlegend\":true,\"x\":[1.1986,null,0.9427,0.6361,2.2302,2.5451,1.5611],\"xaxis\":\"x\",\"y\":[\"Croatia\",\"Croatia\",\"Croatia\",\"Croatia\",\"Croatia\",\"Croatia\",\"Croatia\"],\"yaxis\":\"y\",\"type\":\"histogram\"},{\"alignmentgroup\":\"True\",\"bingroup\":\"y\",\"histfunc\":\"sum\",\"hovertemplate\":\"Location=%{y}<br>Period Label=S2-2021<br>sum of Median time in port (days)=%{x}<extra></extra>\",\"legendgroup\":\"Denmark\",\"marker\":{\"color\":\"#19d3f3\",\"pattern\":{\"shape\":\"\"}},\"name\":\"Denmark\",\"offsetgroup\":\"Denmark\",\"orientation\":\"h\",\"showlegend\":true,\"x\":[0.7354,null,0.684,0.5358,0.8142,0.7601,null,1.1243],\"xaxis\":\"x\",\"y\":[\"Denmark\",\"Denmark\",\"Denmark\",\"Denmark\",\"Denmark\",\"Denmark\",\"Denmark\",\"Denmark\"],\"yaxis\":\"y\",\"type\":\"histogram\"},{\"alignmentgroup\":\"True\",\"bingroup\":\"y\",\"histfunc\":\"sum\",\"hovertemplate\":\"Location=%{y}<br>Period Label=S2-2021<br>sum of Median time in port (days)=%{x}<extra></extra>\",\"legendgroup\":\"France\",\"marker\":{\"color\":\"#FF6692\",\"pattern\":{\"shape\":\"\"}},\"name\":\"France\",\"offsetgroup\":\"France\",\"orientation\":\"h\",\"showlegend\":true,\"x\":[1.1521,null,1.0111,0.9913,1.5056,3.0708,null,1.0868,1.1413],\"xaxis\":\"x\",\"y\":[\"France\",\"France\",\"France\",\"France\",\"France\",\"France\",\"France\",\"France\",\"France\"],\"yaxis\":\"y\",\"type\":\"histogram\"},{\"alignmentgroup\":\"True\",\"bingroup\":\"y\",\"histfunc\":\"sum\",\"hovertemplate\":\"Location=%{y}<br>Period Label=S2-2021<br>sum of Median time in port (days)=%{x}<extra></extra>\",\"legendgroup\":\"Germany\",\"marker\":{\"color\":\"#B6E880\",\"pattern\":{\"shape\":\"\"}},\"name\":\"Germany\",\"offsetgroup\":\"Germany\",\"orientation\":\"h\",\"showlegend\":true,\"x\":[0.833,null,0.5462,1.1785,0.8354,2.2729,null,0.8875],\"xaxis\":\"x\",\"y\":[\"Germany\",\"Germany\",\"Germany\",\"Germany\",\"Germany\",\"Germany\",\"Germany\",\"Germany\"],\"yaxis\":\"y\",\"type\":\"histogram\"},{\"alignmentgroup\":\"True\",\"bingroup\":\"y\",\"histfunc\":\"sum\",\"hovertemplate\":\"Location=%{y}<br>Period Label=S2-2021<br>sum of Median time in port (days)=%{x}<extra></extra>\",\"legendgroup\":\"Greece\",\"marker\":{\"color\":\"#FF97FF\",\"pattern\":{\"shape\":\"\"}},\"name\":\"Greece\",\"offsetgroup\":\"Greece\",\"orientation\":\"h\",\"showlegend\":true,\"x\":[0.8368,null,0.6125,1.0719,1.1465,0.6417,null,0.9847,1.2674],\"xaxis\":\"x\",\"y\":[\"Greece\",\"Greece\",\"Greece\",\"Greece\",\"Greece\",\"Greece\",\"Greece\",\"Greece\",\"Greece\"],\"yaxis\":\"y\",\"type\":\"histogram\"},{\"alignmentgroup\":\"True\",\"bingroup\":\"y\",\"histfunc\":\"sum\",\"hovertemplate\":\"Location=%{y}<br>Period Label=S2-2021<br>sum of Median time in port (days)=%{x}<extra></extra>\",\"legendgroup\":\"Indonesia\",\"marker\":{\"color\":\"#FECB52\",\"pattern\":{\"shape\":\"\"}},\"name\":\"Indonesia\",\"offsetgroup\":\"Indonesia\",\"orientation\":\"h\",\"showlegend\":true,\"x\":[1.2854,null,1.3021,1.0819,1.1538,2.5524,null,1.0833,1.4222],\"xaxis\":\"x\",\"y\":[\"Indonesia\",\"Indonesia\",\"Indonesia\",\"Indonesia\",\"Indonesia\",\"Indonesia\",\"Indonesia\",\"Indonesia\",\"Indonesia\"],\"yaxis\":\"y\",\"type\":\"histogram\"},{\"alignmentgroup\":\"True\",\"bingroup\":\"y\",\"histfunc\":\"sum\",\"hovertemplate\":\"Location=%{y}<br>Period Label=S2-2021<br>sum of Median time in port (days)=%{x}<extra></extra>\",\"legendgroup\":\"Italy\",\"marker\":{\"color\":\"#636efa\",\"pattern\":{\"shape\":\"\"}},\"name\":\"Italy\",\"offsetgroup\":\"Italy\",\"orientation\":\"h\",\"showlegend\":true,\"x\":[1.3576,null,1.2493,0.9965,2.0097,3.666,null,1.7306],\"xaxis\":\"x\",\"y\":[\"Italy\",\"Italy\",\"Italy\",\"Italy\",\"Italy\",\"Italy\",\"Italy\",\"Italy\"],\"yaxis\":\"y\",\"type\":\"histogram\"},{\"alignmentgroup\":\"True\",\"bingroup\":\"y\",\"histfunc\":\"sum\",\"hovertemplate\":\"Location=%{y}<br>Period Label=S2-2021<br>sum of Median time in port (days)=%{x}<extra></extra>\",\"legendgroup\":\"Japan\",\"marker\":{\"color\":\"#EF553B\",\"pattern\":{\"shape\":\"\"}},\"name\":\"Japan\",\"offsetgroup\":\"Japan\",\"orientation\":\"h\",\"showlegend\":true,\"x\":[0.4174,null,0.3104,0.3708,1.1913,0.7552,null,0.3222,1.0347],\"xaxis\":\"x\",\"y\":[\"Japan\",\"Japan\",\"Japan\",\"Japan\",\"Japan\",\"Japan\",\"Japan\",\"Japan\",\"Japan\"],\"yaxis\":\"y\",\"type\":\"histogram\"},{\"alignmentgroup\":\"True\",\"bingroup\":\"y\",\"histfunc\":\"sum\",\"hovertemplate\":\"Location=%{y}<br>Period Label=S2-2021<br>sum of Median time in port (days)=%{x}<extra></extra>\",\"legendgroup\":\"Korea, Republic of\",\"marker\":{\"color\":\"#00cc96\",\"pattern\":{\"shape\":\"\"}},\"name\":\"Korea, Republic of\",\"offsetgroup\":\"Korea, Republic of\",\"orientation\":\"h\",\"showlegend\":true,\"x\":[0.8889,null,0.7382,0.7354,1.1583,2.184,null,0.8,1.05],\"xaxis\":\"x\",\"y\":[\"Korea, Republic of\",\"Korea, Republic of\",\"Korea, Republic of\",\"Korea, Republic of\",\"Korea, Republic of\",\"Korea, Republic of\",\"Korea, Republic of\",\"Korea, Republic of\",\"Korea, Republic of\"],\"yaxis\":\"y\",\"type\":\"histogram\"},{\"alignmentgroup\":\"True\",\"bingroup\":\"y\",\"histfunc\":\"sum\",\"hovertemplate\":\"Location=%{y}<br>Period Label=S2-2021<br>sum of Median time in port (days)=%{x}<extra></extra>\",\"legendgroup\":\"Netherlands\",\"marker\":{\"color\":\"#ab63fa\",\"pattern\":{\"shape\":\"\"}},\"name\":\"Netherlands\",\"offsetgroup\":\"Netherlands\",\"orientation\":\"h\",\"showlegend\":true,\"x\":[0.6257,null,0.6083,0.8944,0.3896,1.3604,null,0.9896,1.0299],\"xaxis\":\"x\",\"y\":[\"Netherlands\",\"Netherlands\",\"Netherlands\",\"Netherlands\",\"Netherlands\",\"Netherlands\",\"Netherlands\",\"Netherlands\",\"Netherlands\"],\"yaxis\":\"y\",\"type\":\"histogram\"},{\"alignmentgroup\":\"True\",\"bingroup\":\"y\",\"histfunc\":\"sum\",\"hovertemplate\":\"Location=%{y}<br>Period Label=S2-2021<br>sum of Median time in port (days)=%{x}<extra></extra>\",\"legendgroup\":\"Norway\",\"marker\":{\"color\":\"#FFA15A\",\"pattern\":{\"shape\":\"\"}},\"name\":\"Norway\",\"offsetgroup\":\"Norway\",\"orientation\":\"h\",\"showlegend\":true,\"x\":[0.4215,null,0.5833,0.3521,0.3368,0.7549,null,0.8951,0.2889],\"xaxis\":\"x\",\"y\":[\"Norway\",\"Norway\",\"Norway\",\"Norway\",\"Norway\",\"Norway\",\"Norway\",\"Norway\",\"Norway\"],\"yaxis\":\"y\",\"type\":\"histogram\"},{\"alignmentgroup\":\"True\",\"bingroup\":\"y\",\"histfunc\":\"sum\",\"hovertemplate\":\"Location=%{y}<br>Period Label=S2-2021<br>sum of Median time in port (days)=%{x}<extra></extra>\",\"legendgroup\":\"Russian Federation\",\"marker\":{\"color\":\"#19d3f3\",\"pattern\":{\"shape\":\"\"}},\"name\":\"Russian Federation\",\"offsetgroup\":\"Russian Federation\",\"orientation\":\"h\",\"showlegend\":true,\"x\":[1.4285,null,1.0597,1.7104,1.7194,2.4868,null,1.4708,1.15],\"xaxis\":\"x\",\"y\":[\"Russian Federation\",\"Russian Federation\",\"Russian Federation\",\"Russian Federation\",\"Russian Federation\",\"Russian Federation\",\"Russian Federation\",\"Russian Federation\",\"Russian Federation\"],\"yaxis\":\"y\",\"type\":\"histogram\"},{\"alignmentgroup\":\"True\",\"bingroup\":\"y\",\"histfunc\":\"sum\",\"hovertemplate\":\"Location=%{y}<br>Period Label=S2-2021<br>sum of Median time in port (days)=%{x}<extra></extra>\",\"legendgroup\":\"Spain\",\"marker\":{\"color\":\"#FF6692\",\"pattern\":{\"shape\":\"\"}},\"name\":\"Spain\",\"offsetgroup\":\"Spain\",\"orientation\":\"h\",\"showlegend\":true,\"x\":[0.9007,null,0.8868,0.6563,1.2007,1.7875,null,1.0035,1.0812],\"xaxis\":\"x\",\"y\":[\"Spain\",\"Spain\",\"Spain\",\"Spain\",\"Spain\",\"Spain\",\"Spain\",\"Spain\",\"Spain\"],\"yaxis\":\"y\",\"type\":\"histogram\"},{\"alignmentgroup\":\"True\",\"bingroup\":\"y\",\"histfunc\":\"sum\",\"hovertemplate\":\"Location=%{y}<br>Period Label=S2-2021<br>sum of Median time in port (days)=%{x}<extra></extra>\",\"legendgroup\":\"Sweden\",\"marker\":{\"color\":\"#B6E880\",\"pattern\":{\"shape\":\"\"}},\"name\":\"Sweden\",\"offsetgroup\":\"Sweden\",\"orientation\":\"h\",\"showlegend\":true,\"x\":[0.7694,null,0.6667,0.7024,0.9854,0.467,null,0.8069,0.7069],\"xaxis\":\"x\",\"y\":[\"Sweden\",\"Sweden\",\"Sweden\",\"Sweden\",\"Sweden\",\"Sweden\",\"Sweden\",\"Sweden\",\"Sweden\"],\"yaxis\":\"y\",\"type\":\"histogram\"},{\"alignmentgroup\":\"True\",\"bingroup\":\"y\",\"histfunc\":\"sum\",\"hovertemplate\":\"Location=%{y}<br>Period Label=S2-2021<br>sum of Median time in port (days)=%{x}<extra></extra>\",\"legendgroup\":\"T\\u00fcrkiye\",\"marker\":{\"color\":\"#FF97FF\",\"pattern\":{\"shape\":\"\"}},\"name\":\"T\\u00fcrkiye\",\"offsetgroup\":\"T\\u00fcrkiye\",\"orientation\":\"h\",\"showlegend\":true,\"x\":[1.2347,null,1.1521,0.6382,1.5764,4.0833,null,1.1903,1.1563],\"xaxis\":\"x\",\"y\":[\"T\\u00fcrkiye\",\"T\\u00fcrkiye\",\"T\\u00fcrkiye\",\"T\\u00fcrkiye\",\"T\\u00fcrkiye\",\"T\\u00fcrkiye\",\"T\\u00fcrkiye\",\"T\\u00fcrkiye\",\"T\\u00fcrkiye\"],\"yaxis\":\"y\",\"type\":\"histogram\"},{\"alignmentgroup\":\"True\",\"bingroup\":\"y\",\"histfunc\":\"sum\",\"hovertemplate\":\"Location=%{y}<br>Period Label=S2-2021<br>sum of Median time in port (days)=%{x}<extra></extra>\",\"legendgroup\":\"United States of America\",\"marker\":{\"color\":\"#FECB52\",\"pattern\":{\"shape\":\"\"}},\"name\":\"United States of America\",\"offsetgroup\":\"United States of America\",\"orientation\":\"h\",\"showlegend\":true,\"x\":[1.5861,null,1.6201,1.2958,2.0563,2.0778,null,1.8135,1.2521],\"xaxis\":\"x\",\"y\":[\"United States of America\",\"United States of America\",\"United States of America\",\"United States of America\",\"United States of America\",\"United States of America\",\"United States of America\",\"United States of America\",\"United States of America\"],\"yaxis\":\"y\",\"type\":\"histogram\"},{\"alignmentgroup\":\"True\",\"bingroup\":\"y\",\"histfunc\":\"sum\",\"hovertemplate\":\"Location=%{y}<br>Period Label=S2-2021<br>sum of Median time in port (days)=%{x}<extra></extra>\",\"legendgroup\":\"United Kingdom\",\"marker\":{\"color\":\"#636efa\",\"pattern\":{\"shape\":\"\"}},\"name\":\"United Kingdom\",\"offsetgroup\":\"United Kingdom\",\"orientation\":\"h\",\"showlegend\":true,\"x\":[1.1639,null,1.0438,0.8503,1.5236,3.049,null,1.0486,1.234],\"xaxis\":\"x\",\"y\":[\"United Kingdom\",\"United Kingdom\",\"United Kingdom\",\"United Kingdom\",\"United Kingdom\",\"United Kingdom\",\"United Kingdom\",\"United Kingdom\",\"United Kingdom\"],\"yaxis\":\"y\",\"type\":\"histogram\"}],\"name\":\"S2-2021\"},{\"data\":[{\"alignmentgroup\":\"True\",\"bingroup\":\"y\",\"histfunc\":\"sum\",\"hovertemplate\":\"Location=%{y}<br>Period Label=S1-2022<br>sum of Median time in port (days)=%{x}<extra></extra>\",\"legendgroup\":\"World\",\"marker\":{\"color\":\"#636efa\",\"pattern\":{\"shape\":\"\"}},\"name\":\"World\",\"offsetgroup\":\"World\",\"orientation\":\"h\",\"showlegend\":true,\"x\":[1.0694,null,0.9958,0.8382,1.1938,2.2306,null,1.0292,1.1174],\"xaxis\":\"x\",\"y\":[\"World\",\"World\",\"World\",\"World\",\"World\",\"World\",\"World\",\"World\",\"World\"],\"yaxis\":\"y\",\"type\":\"histogram\"},{\"alignmentgroup\":\"True\",\"bingroup\":\"y\",\"histfunc\":\"sum\",\"hovertemplate\":\"Location=%{y}<br>Period Label=S1-2022<br>sum of Median time in port (days)=%{x}<extra></extra>\",\"legendgroup\":\"Australia\",\"marker\":{\"color\":\"#EF553B\",\"pattern\":{\"shape\":\"\"}},\"name\":\"Australia\",\"offsetgroup\":\"Australia\",\"orientation\":\"h\",\"showlegend\":true,\"x\":[1.6104,null,1.3184,1.7191,2.2292,1.6868,null,0.908,1.2465],\"xaxis\":\"x\",\"y\":[\"Australia\",\"Australia\",\"Australia\",\"Australia\",\"Australia\",\"Australia\",\"Australia\",\"Australia\",\"Australia\"],\"yaxis\":\"y\",\"type\":\"histogram\"},{\"alignmentgroup\":\"True\",\"bingroup\":\"y\",\"histfunc\":\"sum\",\"hovertemplate\":\"Location=%{y}<br>Period Label=S1-2022<br>sum of Median time in port (days)=%{x}<extra></extra>\",\"legendgroup\":\"Canada\",\"marker\":{\"color\":\"#00cc96\",\"pattern\":{\"shape\":\"\"}},\"name\":\"Canada\",\"offsetgroup\":\"Canada\",\"orientation\":\"h\",\"showlegend\":true,\"x\":[0.9667,null,1.0906,1.9771,0.7035,0.5597,null,1.4694],\"xaxis\":\"x\",\"y\":[\"Canada\",\"Canada\",\"Canada\",\"Canada\",\"Canada\",\"Canada\",\"Canada\",\"Canada\"],\"yaxis\":\"y\",\"type\":\"histogram\"},{\"alignmentgroup\":\"True\",\"bingroup\":\"y\",\"histfunc\":\"sum\",\"hovertemplate\":\"Location=%{y}<br>Period Label=S1-2022<br>sum of Median time in port (days)=%{x}<extra></extra>\",\"legendgroup\":\"China\",\"marker\":{\"color\":\"#ab63fa\",\"pattern\":{\"shape\":\"\"}},\"name\":\"China\",\"offsetgroup\":\"China\",\"orientation\":\"h\",\"showlegend\":true,\"x\":[1.1563,null,1.1451,0.7743,1.6292,2.066,null,1.0392,1.2313],\"xaxis\":\"x\",\"y\":[\"China\",\"China\",\"China\",\"China\",\"China\",\"China\",\"China\",\"China\",\"China\"],\"yaxis\":\"y\",\"type\":\"histogram\"},{\"alignmentgroup\":\"True\",\"bingroup\":\"y\",\"histfunc\":\"sum\",\"hovertemplate\":\"Location=%{y}<br>Period Label=S1-2022<br>sum of Median time in port (days)=%{x}<extra></extra>\",\"legendgroup\":\"Croatia\",\"marker\":{\"color\":\"#FFA15A\",\"pattern\":{\"shape\":\"\"}},\"name\":\"Croatia\",\"offsetgroup\":\"Croatia\",\"orientation\":\"h\",\"showlegend\":true,\"x\":[1.3281,null,0.9795,0.7684,2.2104,3.0299,2.2035],\"xaxis\":\"x\",\"y\":[\"Croatia\",\"Croatia\",\"Croatia\",\"Croatia\",\"Croatia\",\"Croatia\",\"Croatia\"],\"yaxis\":\"y\",\"type\":\"histogram\"},{\"alignmentgroup\":\"True\",\"bingroup\":\"y\",\"histfunc\":\"sum\",\"hovertemplate\":\"Location=%{y}<br>Period Label=S1-2022<br>sum of Median time in port (days)=%{x}<extra></extra>\",\"legendgroup\":\"Denmark\",\"marker\":{\"color\":\"#19d3f3\",\"pattern\":{\"shape\":\"\"}},\"name\":\"Denmark\",\"offsetgroup\":\"Denmark\",\"orientation\":\"h\",\"showlegend\":true,\"x\":[0.7469,null,0.6646,0.559,0.8319,0.8313,null,1.158],\"xaxis\":\"x\",\"y\":[\"Denmark\",\"Denmark\",\"Denmark\",\"Denmark\",\"Denmark\",\"Denmark\",\"Denmark\",\"Denmark\"],\"yaxis\":\"y\",\"type\":\"histogram\"},{\"alignmentgroup\":\"True\",\"bingroup\":\"y\",\"histfunc\":\"sum\",\"hovertemplate\":\"Location=%{y}<br>Period Label=S1-2022<br>sum of Median time in port (days)=%{x}<extra></extra>\",\"legendgroup\":\"France\",\"marker\":{\"color\":\"#FF6692\",\"pattern\":{\"shape\":\"\"}},\"name\":\"France\",\"offsetgroup\":\"France\",\"orientation\":\"h\",\"showlegend\":true,\"x\":[1.2125,null,1.0278,1.1208,1.5729,3.1,null,1.1142,1.1187],\"xaxis\":\"x\",\"y\":[\"France\",\"France\",\"France\",\"France\",\"France\",\"France\",\"France\",\"France\",\"France\"],\"yaxis\":\"y\",\"type\":\"histogram\"},{\"alignmentgroup\":\"True\",\"bingroup\":\"y\",\"histfunc\":\"sum\",\"hovertemplate\":\"Location=%{y}<br>Period Label=S1-2022<br>sum of Median time in port (days)=%{x}<extra></extra>\",\"legendgroup\":\"Germany\",\"marker\":{\"color\":\"#B6E880\",\"pattern\":{\"shape\":\"\"}},\"name\":\"Germany\",\"offsetgroup\":\"Germany\",\"orientation\":\"h\",\"showlegend\":true,\"x\":[0.834,null,0.534,1.2715,0.7951,2.8139,null,0.8389],\"xaxis\":\"x\",\"y\":[\"Germany\",\"Germany\",\"Germany\",\"Germany\",\"Germany\",\"Germany\",\"Germany\",\"Germany\"],\"yaxis\":\"y\",\"type\":\"histogram\"},{\"alignmentgroup\":\"True\",\"bingroup\":\"y\",\"histfunc\":\"sum\",\"hovertemplate\":\"Location=%{y}<br>Period Label=S1-2022<br>sum of Median time in port (days)=%{x}<extra></extra>\",\"legendgroup\":\"Greece\",\"marker\":{\"color\":\"#FF97FF\",\"pattern\":{\"shape\":\"\"}},\"name\":\"Greece\",\"offsetgroup\":\"Greece\",\"orientation\":\"h\",\"showlegend\":true,\"x\":[0.8656,null,0.5979,1.1865,1.1944,0.7625,null,0.8656,1.0097],\"xaxis\":\"x\",\"y\":[\"Greece\",\"Greece\",\"Greece\",\"Greece\",\"Greece\",\"Greece\",\"Greece\",\"Greece\",\"Greece\"],\"yaxis\":\"y\",\"type\":\"histogram\"},{\"alignmentgroup\":\"True\",\"bingroup\":\"y\",\"histfunc\":\"sum\",\"hovertemplate\":\"Location=%{y}<br>Period Label=S1-2022<br>sum of Median time in port (days)=%{x}<extra></extra>\",\"legendgroup\":\"Indonesia\",\"marker\":{\"color\":\"#FECB52\",\"pattern\":{\"shape\":\"\"}},\"name\":\"Indonesia\",\"offsetgroup\":\"Indonesia\",\"orientation\":\"h\",\"showlegend\":true,\"x\":[1.2813,null,1.3049,1.0375,1.2313,2.9497,null,1.0875,1.4208],\"xaxis\":\"x\",\"y\":[\"Indonesia\",\"Indonesia\",\"Indonesia\",\"Indonesia\",\"Indonesia\",\"Indonesia\",\"Indonesia\",\"Indonesia\",\"Indonesia\"],\"yaxis\":\"y\",\"type\":\"histogram\"},{\"alignmentgroup\":\"True\",\"bingroup\":\"y\",\"histfunc\":\"sum\",\"hovertemplate\":\"Location=%{y}<br>Period Label=S1-2022<br>sum of Median time in port (days)=%{x}<extra></extra>\",\"legendgroup\":\"Italy\",\"marker\":{\"color\":\"#636efa\",\"pattern\":{\"shape\":\"\"}},\"name\":\"Italy\",\"offsetgroup\":\"Italy\",\"orientation\":\"h\",\"showlegend\":true,\"x\":[1.3819,null,1.2799,1.0417,1.8854,4.0778,null,1.5167,2.4014],\"xaxis\":\"x\",\"y\":[\"Italy\",\"Italy\",\"Italy\",\"Italy\",\"Italy\",\"Italy\",\"Italy\",\"Italy\",\"Italy\"],\"yaxis\":\"y\",\"type\":\"histogram\"},{\"alignmentgroup\":\"True\",\"bingroup\":\"y\",\"histfunc\":\"sum\",\"hovertemplate\":\"Location=%{y}<br>Period Label=S1-2022<br>sum of Median time in port (days)=%{x}<extra></extra>\",\"legendgroup\":\"Japan\",\"marker\":{\"color\":\"#EF553B\",\"pattern\":{\"shape\":\"\"}},\"name\":\"Japan\",\"offsetgroup\":\"Japan\",\"orientation\":\"h\",\"showlegend\":true,\"x\":[0.4201,null,0.3076,0.3792,1.216,0.7993,null,0.3354,1.0125],\"xaxis\":\"x\",\"y\":[\"Japan\",\"Japan\",\"Japan\",\"Japan\",\"Japan\",\"Japan\",\"Japan\",\"Japan\",\"Japan\"],\"yaxis\":\"y\",\"type\":\"histogram\"},{\"alignmentgroup\":\"True\",\"bingroup\":\"y\",\"histfunc\":\"sum\",\"hovertemplate\":\"Location=%{y}<br>Period Label=S1-2022<br>sum of Median time in port (days)=%{x}<extra></extra>\",\"legendgroup\":\"Korea, Republic of\",\"marker\":{\"color\":\"#00cc96\",\"pattern\":{\"shape\":\"\"}},\"name\":\"Korea, Republic of\",\"offsetgroup\":\"Korea, Republic of\",\"orientation\":\"h\",\"showlegend\":true,\"x\":[0.8833,null,0.7361,0.7312,1.1688,2.5,null,0.7972,1.0479],\"xaxis\":\"x\",\"y\":[\"Korea, Republic of\",\"Korea, Republic of\",\"Korea, Republic of\",\"Korea, Republic of\",\"Korea, Republic of\",\"Korea, Republic of\",\"Korea, Republic of\",\"Korea, Republic of\",\"Korea, Republic of\"],\"yaxis\":\"y\",\"type\":\"histogram\"},{\"alignmentgroup\":\"True\",\"bingroup\":\"y\",\"histfunc\":\"sum\",\"hovertemplate\":\"Location=%{y}<br>Period Label=S1-2022<br>sum of Median time in port (days)=%{x}<extra></extra>\",\"legendgroup\":\"Netherlands\",\"marker\":{\"color\":\"#ab63fa\",\"pattern\":{\"shape\":\"\"}},\"name\":\"Netherlands\",\"offsetgroup\":\"Netherlands\",\"orientation\":\"h\",\"showlegend\":true,\"x\":[0.641,null,0.6146,0.891,0.4326,1.1507,null,0.9753,1.0431],\"xaxis\":\"x\",\"y\":[\"Netherlands\",\"Netherlands\",\"Netherlands\",\"Netherlands\",\"Netherlands\",\"Netherlands\",\"Netherlands\",\"Netherlands\",\"Netherlands\"],\"yaxis\":\"y\",\"type\":\"histogram\"},{\"alignmentgroup\":\"True\",\"bingroup\":\"y\",\"histfunc\":\"sum\",\"hovertemplate\":\"Location=%{y}<br>Period Label=S1-2022<br>sum of Median time in port (days)=%{x}<extra></extra>\",\"legendgroup\":\"Norway\",\"marker\":{\"color\":\"#FFA15A\",\"pattern\":{\"shape\":\"\"}},\"name\":\"Norway\",\"offsetgroup\":\"Norway\",\"orientation\":\"h\",\"showlegend\":true,\"x\":[0.4153,null,0.6111,0.3462,0.3295,0.8108,null,0.7882,0.3146],\"xaxis\":\"x\",\"y\":[\"Norway\",\"Norway\",\"Norway\",\"Norway\",\"Norway\",\"Norway\",\"Norway\",\"Norway\",\"Norway\"],\"yaxis\":\"y\",\"type\":\"histogram\"},{\"alignmentgroup\":\"True\",\"bingroup\":\"y\",\"histfunc\":\"sum\",\"hovertemplate\":\"Location=%{y}<br>Period Label=S1-2022<br>sum of Median time in port (days)=%{x}<extra></extra>\",\"legendgroup\":\"Russian Federation\",\"marker\":{\"color\":\"#19d3f3\",\"pattern\":{\"shape\":\"\"}},\"name\":\"Russian Federation\",\"offsetgroup\":\"Russian Federation\",\"orientation\":\"h\",\"showlegend\":true,\"x\":[1.6819,null,1.2375,1.701,2.1653,2.6174,null,2.0167,1.0747],\"xaxis\":\"x\",\"y\":[\"Russian Federation\",\"Russian Federation\",\"Russian Federation\",\"Russian Federation\",\"Russian Federation\",\"Russian Federation\",\"Russian Federation\",\"Russian Federation\",\"Russian Federation\"],\"yaxis\":\"y\",\"type\":\"histogram\"},{\"alignmentgroup\":\"True\",\"bingroup\":\"y\",\"histfunc\":\"sum\",\"hovertemplate\":\"Location=%{y}<br>Period Label=S1-2022<br>sum of Median time in port (days)=%{x}<extra></extra>\",\"legendgroup\":\"Spain\",\"marker\":{\"color\":\"#FF6692\",\"pattern\":{\"shape\":\"\"}},\"name\":\"Spain\",\"offsetgroup\":\"Spain\",\"orientation\":\"h\",\"showlegend\":true,\"x\":[0.9264,null,0.8924,0.699,1.1882,1.8729,null,1.0146,1.0562],\"xaxis\":\"x\",\"y\":[\"Spain\",\"Spain\",\"Spain\",\"Spain\",\"Spain\",\"Spain\",\"Spain\",\"Spain\",\"Spain\"],\"yaxis\":\"y\",\"type\":\"histogram\"},{\"alignmentgroup\":\"True\",\"bingroup\":\"y\",\"histfunc\":\"sum\",\"hovertemplate\":\"Location=%{y}<br>Period Label=S1-2022<br>sum of Median time in port (days)=%{x}<extra></extra>\",\"legendgroup\":\"Sweden\",\"marker\":{\"color\":\"#B6E880\",\"pattern\":{\"shape\":\"\"}},\"name\":\"Sweden\",\"offsetgroup\":\"Sweden\",\"orientation\":\"h\",\"showlegend\":true,\"x\":[0.816,null,0.6764,0.7764,1.0226,0.5066,null,0.9583,0.7875],\"xaxis\":\"x\",\"y\":[\"Sweden\",\"Sweden\",\"Sweden\",\"Sweden\",\"Sweden\",\"Sweden\",\"Sweden\",\"Sweden\",\"Sweden\"],\"yaxis\":\"y\",\"type\":\"histogram\"},{\"alignmentgroup\":\"True\",\"bingroup\":\"y\",\"histfunc\":\"sum\",\"hovertemplate\":\"Location=%{y}<br>Period Label=S1-2022<br>sum of Median time in port (days)=%{x}<extra></extra>\",\"legendgroup\":\"T\\u00fcrkiye\",\"marker\":{\"color\":\"#FF97FF\",\"pattern\":{\"shape\":\"\"}},\"name\":\"T\\u00fcrkiye\",\"offsetgroup\":\"T\\u00fcrkiye\",\"orientation\":\"h\",\"showlegend\":true,\"x\":[1.2806,null,1.2003,0.7306,1.4861,4.0531,null,1.167,1.2076],\"xaxis\":\"x\",\"y\":[\"T\\u00fcrkiye\",\"T\\u00fcrkiye\",\"T\\u00fcrkiye\",\"T\\u00fcrkiye\",\"T\\u00fcrkiye\",\"T\\u00fcrkiye\",\"T\\u00fcrkiye\",\"T\\u00fcrkiye\",\"T\\u00fcrkiye\"],\"yaxis\":\"y\",\"type\":\"histogram\"},{\"alignmentgroup\":\"True\",\"bingroup\":\"y\",\"histfunc\":\"sum\",\"hovertemplate\":\"Location=%{y}<br>Period Label=S1-2022<br>sum of Median time in port (days)=%{x}<extra></extra>\",\"legendgroup\":\"United States of America\",\"marker\":{\"color\":\"#FECB52\",\"pattern\":{\"shape\":\"\"}},\"name\":\"United States of America\",\"offsetgroup\":\"United States of America\",\"orientation\":\"h\",\"showlegend\":true,\"x\":[1.7007,null,1.634,1.4326,2.0444,2.7035,null,1.8056,1.3271],\"xaxis\":\"x\",\"y\":[\"United States of America\",\"United States of America\",\"United States of America\",\"United States of America\",\"United States of America\",\"United States of America\",\"United States of America\",\"United States of America\",\"United States of America\"],\"yaxis\":\"y\",\"type\":\"histogram\"},{\"alignmentgroup\":\"True\",\"bingroup\":\"y\",\"histfunc\":\"sum\",\"hovertemplate\":\"Location=%{y}<br>Period Label=S1-2022<br>sum of Median time in port (days)=%{x}<extra></extra>\",\"legendgroup\":\"United Kingdom\",\"marker\":{\"color\":\"#636efa\",\"pattern\":{\"shape\":\"\"}},\"name\":\"United Kingdom\",\"offsetgroup\":\"United Kingdom\",\"orientation\":\"h\",\"showlegend\":true,\"x\":[1.2132,null,1.0674,0.8938,1.5444,2.875,null,1.1049,1.2215],\"xaxis\":\"x\",\"y\":[\"United Kingdom\",\"United Kingdom\",\"United Kingdom\",\"United Kingdom\",\"United Kingdom\",\"United Kingdom\",\"United Kingdom\",\"United Kingdom\",\"United Kingdom\"],\"yaxis\":\"y\",\"type\":\"histogram\"}],\"name\":\"S1-2022\"}]);\n",
       "                        }).then(function(){\n",
       "                            \n",
       "var gd = document.getElementById('a7be971a-3839-4f62-8643-c4817b6107e1');\n",
       "var x = new MutationObserver(function (mutations, observer) {{\n",
       "        var display = window.getComputedStyle(gd).display;\n",
       "        if (!display || display === 'none') {{\n",
       "            console.log([gd, 'removed!']);\n",
       "            Plotly.purge(gd);\n",
       "            observer.disconnect();\n",
       "        }}\n",
       "}});\n",
       "\n",
       "// Listen for the removal of the full notebook cells\n",
       "var notebookContainer = gd.closest('#notebook-container');\n",
       "if (notebookContainer) {{\n",
       "    x.observe(notebookContainer, {childList: true});\n",
       "}}\n",
       "\n",
       "// Listen for the clearing of the current output cell\n",
       "var outputEl = gd.closest('.output');\n",
       "if (outputEl) {{\n",
       "    x.observe(outputEl, {childList: true});\n",
       "}}\n",
       "\n",
       "                        })                };                });            </script>        </div>"
      ]
     },
     "metadata": {},
     "output_type": "display_data"
    }
   ],
   "source": [
    " fig = px.histogram(df_ports, y=\"Location\", x=\"Median time in port (days)\", orientation= \"h\",\n",
    "             animation_frame=\"Period Label\", \n",
    "             #range_x=[0,4000000000], \n",
    "                color=\"Location\",)\n",
    "fig.update_yaxes(categoryorder='sum ascending')\n",
    "\n",
    "fig.show()"
   ]
  },
  {
   "cell_type": "code",
   "execution_count": null,
   "metadata": {},
   "outputs": [],
   "source": [
    "# create figure\n",
    "fig = go.Figure()\n",
    "\n",
    "# Add surface trace\n",
    "fig.add_trace(go.Surface(z=.values.tolist(), colorscale=\"Viridis\"))\n",
    "\n",
    "# Update plot sizing\n",
    "fig.update_layout(\n",
    "    width=800,\n",
    "    height=900,\n",
    "    autosize=False,\n",
    "    margin=dict(t=0, b=0, l=0, r=0),\n",
    "    template=\"plotly_white\",\n",
    ")\n",
    "\n",
    "# Add dropdown\n",
    "fig.update_layout(\n",
    "    updatemenus=[\n",
    "        dict(\n",
    "            buttons=list([\n",
    "                dict(\n",
    "                    args=[\"type\", \"surface\"],\n",
    "                    label=\"Asia\",\n",
    "                    method=\"restyle\"\n",
    "                ),\n",
    "                dict(\n",
    "                    args=[\"type\", \"heatmap\"],\n",
    "                    label=\"America\",\n",
    "                    method=\"restyle\"\n",
    "                ),\n",
    "                dict(\n",
    "                    args=[\"type\", \"heatmap\"],\n",
    "                    label=\"Africa\",\n",
    "                    method=\"restyle\"\n",
    "                )\n",
    "            ]),\n",
    "            direction=\"down\",\n",
    "            pad={\"r\": 10, \"t\": 10},\n",
    "            showactive=True,\n",
    "            x=0.1,\n",
    "            xanchor=\"left\",\n",
    "            y=1.1,\n",
    "            yanchor=\"top\"\n",
    "        ),\n",
    "    ]\n",
    ")\n",
    "\n",
    "# Add annotation\n",
    "fig.update_layout(\n",
    "    annotations=[\n",
    "        dict(text=\"Countries:\", showarrow=False,\n",
    "        x=0, y=1.085, yref=\"paper\", align=\"left\")\n",
    "    ]\n",
    ")\n",
    "\n",
    "fig.show()"
   ]
  },
  {
   "cell_type": "code",
   "execution_count": null,
   "metadata": {},
   "outputs": [],
   "source": []
  },
  {
   "cell_type": "code",
   "execution_count": null,
   "metadata": {},
   "outputs": [],
   "source": [
    "pie = px.pie(df_new, values=\"occurance\", names=\"Sectors\", title=\"sector wise composition\")\n",
    "pie.show()\n",
    "#https://www.youtube.com/watch?v=s_iEvTBSBfA\n",
    "sunburst=px.sunburst(df_path=['Sectors', 'regions'],values='volume transported')\n",
    "sunburst.show()"
   ]
  }
 ],
 "metadata": {
  "kernelspec": {
   "display_name": "Python 3 (ipykernel)",
   "language": "python",
   "name": "python3"
  },
  "language_info": {
   "codemirror_mode": {
    "name": "ipython",
    "version": 3
   },
   "file_extension": ".py",
   "mimetype": "text/x-python",
   "name": "python",
   "nbconvert_exporter": "python",
   "pygments_lexer": "ipython3",
   "version": "3.9.13"
  },
  "vscode": {
   "interpreter": {
    "hash": "31f2aee4e71d21fbe5cf8b01ff0e069b9275f58929596ceb00d14d90e3e16cd6"
   }
  }
 },
 "nbformat": 4,
 "nbformat_minor": 2
}
