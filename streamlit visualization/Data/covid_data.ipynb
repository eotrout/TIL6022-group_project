{
 "cells": [
  {
   "cell_type": "code",
   "execution_count": 32,
   "metadata": {},
   "outputs": [
    {
     "name": "stdout",
     "output_type": "stream",
     "text": [
      "                                                country       date  new_cases  \\\n",
      "0                                           Afghanistan 2020-01-31          0   \n",
      "1                                           Afghanistan 2020-07-31       1241   \n",
      "2                                           Afghanistan 2021-01-31        377   \n",
      "3                                           Afghanistan 2021-07-31       3243   \n",
      "4                                           Afghanistan 2022-01-31        608   \n",
      "...                                                 ...        ...        ...   \n",
      "1654  occupied Palestinian territory, including east... 2021-01-31       2738   \n",
      "1655  occupied Palestinian territory, including east... 2021-07-31       2884   \n",
      "1656  occupied Palestinian territory, including east... 2022-01-31       8657   \n",
      "1657  occupied Palestinian territory, including east... 2022-07-31      11016   \n",
      "1658  occupied Palestinian territory, including east... 2023-01-31       8969   \n",
      "\n",
      "      cumulative_cases  \n",
      "0                    0  \n",
      "1                36628  \n",
      "2                55023  \n",
      "3               147154  \n",
      "4               162140  \n",
      "...                ...  \n",
      "1654            178516  \n",
      "1655            345578  \n",
      "1656            524716  \n",
      "1657            682096  \n",
      "1658            702804  \n",
      "\n",
      "[1659 rows x 4 columns]\n"
     ]
    },
    {
     "data": {
      "application/vnd.plotly.v1+json": {
       "config": {
        "plotlyServerURL": "https://plot.ly"
       },
       "data": [
        {
         "hovertemplate": "country=Afghanistan<br>date=%{x}<br>cumulative_cases=%{y}<extra></extra>",
         "legendgroup": "Afghanistan",
         "line": {
          "color": "#636efa",
          "dash": "solid"
         },
         "marker": {
          "symbol": "circle"
         },
         "mode": "lines+markers",
         "name": "Afghanistan",
         "showlegend": true,
         "type": "scattergl",
         "x": [
          "2020-01-31T00:00:00",
          "2020-07-31T00:00:00",
          "2021-01-31T00:00:00",
          "2021-07-31T00:00:00",
          "2022-01-31T00:00:00",
          "2022-07-31T00:00:00",
          "2023-01-31T00:00:00"
         ],
         "xaxis": "x",
         "y": [
          0,
          36628,
          55023,
          147154,
          162140,
          185580,
          199882
         ],
         "yaxis": "y"
        },
        {
         "hovertemplate": "country=Albania<br>date=%{x}<br>cumulative_cases=%{y}<extra></extra>",
         "legendgroup": "Albania",
         "line": {
          "color": "#EF553B",
          "dash": "solid"
         },
         "marker": {
          "symbol": "circle"
         },
         "mode": "lines+markers",
         "name": "Albania",
         "showlegend": true,
         "type": "scattergl",
         "x": [
          "2020-01-31T00:00:00",
          "2020-07-31T00:00:00",
          "2021-01-31T00:00:00",
          "2021-07-31T00:00:00",
          "2022-01-31T00:00:00",
          "2022-07-31T00:00:00",
          "2023-01-31T00:00:00"
         ],
         "xaxis": "x",
         "y": [
          0,
          5197,
          77251,
          133036,
          258021,
          310362,
          331264
         ],
         "yaxis": "y"
        },
        {
         "hovertemplate": "country=Algeria<br>date=%{x}<br>cumulative_cases=%{y}<extra></extra>",
         "legendgroup": "Algeria",
         "line": {
          "color": "#00cc96",
          "dash": "solid"
         },
         "marker": {
          "symbol": "circle"
         },
         "mode": "lines+markers",
         "name": "Algeria",
         "showlegend": true,
         "type": "scattergl",
         "x": [
          "2020-01-31T00:00:00",
          "2020-07-31T00:00:00",
          "2021-01-31T00:00:00",
          "2021-07-31T00:00:00",
          "2022-01-31T00:00:00",
          "2022-07-31T00:00:00",
          "2023-01-31T00:00:00"
         ],
         "xaxis": "x",
         "y": [
          0,
          29831,
          107122,
          170189,
          250774,
          267374,
          270685
         ],
         "yaxis": "y"
        },
        {
         "hovertemplate": "country=American Samoa<br>date=%{x}<br>cumulative_cases=%{y}<extra></extra>",
         "legendgroup": "American Samoa",
         "line": {
          "color": "#ab63fa",
          "dash": "solid"
         },
         "marker": {
          "symbol": "circle"
         },
         "mode": "lines+markers",
         "name": "American Samoa",
         "showlegend": true,
         "type": "scattergl",
         "x": [
          "2020-01-31T00:00:00",
          "2020-07-31T00:00:00",
          "2021-01-31T00:00:00",
          "2021-07-31T00:00:00",
          "2022-01-31T00:00:00",
          "2022-07-31T00:00:00",
          "2023-01-31T00:00:00"
         ],
         "xaxis": "x",
         "y": [
          0,
          0,
          0,
          0,
          18,
          7766,
          8250
         ],
         "yaxis": "y"
        },
        {
         "hovertemplate": "country=Andorra<br>date=%{x}<br>cumulative_cases=%{y}<extra></extra>",
         "legendgroup": "Andorra",
         "line": {
          "color": "#FFA15A",
          "dash": "solid"
         },
         "marker": {
          "symbol": "circle"
         },
         "mode": "lines+markers",
         "name": "Andorra",
         "showlegend": true,
         "type": "scattergl",
         "x": [
          "2020-01-31T00:00:00",
          "2020-07-31T00:00:00",
          "2021-01-31T00:00:00",
          "2021-07-31T00:00:00",
          "2022-01-31T00:00:00",
          "2022-07-31T00:00:00",
          "2023-01-31T00:00:00"
         ],
         "xaxis": "x",
         "y": [
          0,
          922,
          9885,
          14678,
          35556,
          45508,
          46275
         ],
         "yaxis": "y"
        },
        {
         "hovertemplate": "country=Angola<br>date=%{x}<br>cumulative_cases=%{y}<extra></extra>",
         "legendgroup": "Angola",
         "line": {
          "color": "#19d3f3",
          "dash": "solid"
         },
         "marker": {
          "symbol": "circle"
         },
         "mode": "lines+markers",
         "name": "Angola",
         "showlegend": true,
         "type": "scattergl",
         "x": [
          "2020-01-31T00:00:00",
          "2020-07-31T00:00:00",
          "2021-01-31T00:00:00",
          "2021-07-31T00:00:00",
          "2022-01-31T00:00:00",
          "2022-07-31T00:00:00",
          "2023-01-31T00:00:00"
         ],
         "xaxis": "x",
         "y": [
          0,
          1109,
          19782,
          42646,
          98076,
          102475,
          103131
         ],
         "yaxis": "y"
        },
        {
         "hovertemplate": "country=Anguilla<br>date=%{x}<br>cumulative_cases=%{y}<extra></extra>",
         "legendgroup": "Anguilla",
         "line": {
          "color": "#FF6692",
          "dash": "solid"
         },
         "marker": {
          "symbol": "circle"
         },
         "mode": "lines+markers",
         "name": "Anguilla",
         "showlegend": true,
         "type": "scattergl",
         "x": [
          "2020-01-31T00:00:00",
          "2020-07-31T00:00:00",
          "2021-01-31T00:00:00",
          "2021-07-31T00:00:00",
          "2022-01-31T00:00:00",
          "2022-07-31T00:00:00",
          "2023-01-31T00:00:00"
         ],
         "xaxis": "x",
         "y": [
          0,
          3,
          17,
          114,
          2324,
          3580,
          3866
         ],
         "yaxis": "y"
        },
        {
         "hovertemplate": "country=Antigua and Barbuda<br>date=%{x}<br>cumulative_cases=%{y}<extra></extra>",
         "legendgroup": "Antigua and Barbuda",
         "line": {
          "color": "#B6E880",
          "dash": "solid"
         },
         "marker": {
          "symbol": "circle"
         },
         "mode": "lines+markers",
         "name": "Antigua and Barbuda",
         "showlegend": true,
         "type": "scattergl",
         "x": [
          "2020-01-31T00:00:00",
          "2020-07-31T00:00:00",
          "2021-01-31T00:00:00",
          "2021-07-31T00:00:00",
          "2022-01-31T00:00:00",
          "2022-07-31T00:00:00",
          "2023-01-31T00:00:00"
         ],
         "xaxis": "x",
         "y": [
          0,
          91,
          218,
          1303,
          6558,
          8773,
          9098
         ],
         "yaxis": "y"
        },
        {
         "hovertemplate": "country=Argentina<br>date=%{x}<br>cumulative_cases=%{y}<extra></extra>",
         "legendgroup": "Argentina",
         "line": {
          "color": "#FF97FF",
          "dash": "solid"
         },
         "marker": {
          "symbol": "circle"
         },
         "mode": "lines+markers",
         "name": "Argentina",
         "showlegend": true,
         "type": "scattergl",
         "x": [
          "2020-01-31T00:00:00",
          "2020-07-31T00:00:00",
          "2021-01-31T00:00:00",
          "2021-07-31T00:00:00",
          "2022-01-31T00:00:00",
          "2022-07-31T00:00:00",
          "2023-01-31T00:00:00"
         ],
         "xaxis": "x",
         "y": [
          0,
          222178,
          1993552,
          5011245,
          8452960,
          9560307,
          9711355
         ],
         "yaxis": "y"
        },
        {
         "hovertemplate": "country=Armenia<br>date=%{x}<br>cumulative_cases=%{y}<extra></extra>",
         "legendgroup": "Armenia",
         "line": {
          "color": "#FECB52",
          "dash": "solid"
         },
         "marker": {
          "symbol": "circle"
         },
         "mode": "lines+markers",
         "name": "Armenia",
         "showlegend": true,
         "type": "scattergl",
         "x": [
          "2020-01-31T00:00:00",
          "2020-07-31T00:00:00",
          "2021-01-31T00:00:00",
          "2021-07-31T00:00:00",
          "2022-01-31T00:00:00",
          "2022-07-31T00:00:00",
          "2023-01-31T00:00:00"
         ],
         "xaxis": "x",
         "y": [
          0,
          38550,
          167026,
          230110,
          367795,
          425365,
          443785
         ],
         "yaxis": "y"
        },
        {
         "hovertemplate": "country=Aruba<br>date=%{x}<br>cumulative_cases=%{y}<extra></extra>",
         "legendgroup": "Aruba",
         "line": {
          "color": "#636efa",
          "dash": "solid"
         },
         "marker": {
          "symbol": "circle"
         },
         "mode": "lines+markers",
         "name": "Aruba",
         "showlegend": true,
         "type": "scattergl",
         "x": [
          "2020-01-31T00:00:00",
          "2020-07-31T00:00:00",
          "2021-01-31T00:00:00",
          "2021-07-31T00:00:00",
          "2022-01-31T00:00:00",
          "2022-07-31T00:00:00",
          "2023-01-31T00:00:00"
         ],
         "xaxis": "x",
         "y": [
          0,
          119,
          6858,
          11584,
          32718,
          42080,
          44145
         ],
         "yaxis": "y"
        },
        {
         "hovertemplate": "country=Australia<br>date=%{x}<br>cumulative_cases=%{y}<extra></extra>",
         "legendgroup": "Australia",
         "line": {
          "color": "#EF553B",
          "dash": "solid"
         },
         "marker": {
          "symbol": "circle"
         },
         "mode": "lines+markers",
         "name": "Australia",
         "showlegend": true,
         "type": "scattergl",
         "x": [
          "2020-01-31T00:00:00",
          "2020-07-31T00:00:00",
          "2021-01-31T00:00:00",
          "2021-07-31T00:00:00",
          "2022-01-31T00:00:00",
          "2022-07-31T00:00:00",
          "2023-01-31T00:00:00"
         ],
         "xaxis": "x",
         "y": [
          9,
          16303,
          28806,
          33909,
          2152171,
          9326644,
          10191312
         ],
         "yaxis": "y"
        },
        {
         "hovertemplate": "country=Austria<br>date=%{x}<br>cumulative_cases=%{y}<extra></extra>",
         "legendgroup": "Austria",
         "line": {
          "color": "#00cc96",
          "dash": "solid"
         },
         "marker": {
          "symbol": "circle"
         },
         "mode": "lines+markers",
         "name": "Austria",
         "showlegend": true,
         "type": "scattergl",
         "x": [
          "2020-01-31T00:00:00",
          "2020-07-31T00:00:00",
          "2021-01-31T00:00:00",
          "2021-07-31T00:00:00",
          "2022-01-31T00:00:00",
          "2022-07-31T00:00:00",
          "2023-01-31T00:00:00"
         ],
         "xaxis": "x",
         "y": [
          0,
          20873,
          408856,
          652437,
          1832378,
          4770039,
          5210285
         ],
         "yaxis": "y"
        },
        {
         "hovertemplate": "country=Azerbaijan<br>date=%{x}<br>cumulative_cases=%{y}<extra></extra>",
         "legendgroup": "Azerbaijan",
         "line": {
          "color": "#ab63fa",
          "dash": "solid"
         },
         "marker": {
          "symbol": "circle"
         },
         "mode": "lines+markers",
         "name": "Azerbaijan",
         "showlegend": true,
         "type": "scattergl",
         "x": [
          "2020-01-31T00:00:00",
          "2020-07-31T00:00:00",
          "2021-01-31T00:00:00",
          "2021-07-31T00:00:00",
          "2022-01-31T00:00:00",
          "2022-07-31T00:00:00",
          "2023-01-31T00:00:00"
         ],
         "xaxis": "x",
         "y": [
          0,
          31221,
          229935,
          343216,
          656284,
          798404,
          821937
         ],
         "yaxis": "y"
        },
        {
         "hovertemplate": "country=Bahamas<br>date=%{x}<br>cumulative_cases=%{y}<extra></extra>",
         "legendgroup": "Bahamas",
         "line": {
          "color": "#FFA15A",
          "dash": "solid"
         },
         "marker": {
          "symbol": "circle"
         },
         "mode": "lines+markers",
         "name": "Bahamas",
         "showlegend": true,
         "type": "scattergl",
         "x": [
          "2020-01-31T00:00:00",
          "2020-07-31T00:00:00",
          "2021-01-31T00:00:00",
          "2021-07-31T00:00:00",
          "2022-01-31T00:00:00",
          "2022-07-31T00:00:00",
          "2023-01-31T00:00:00"
         ],
         "xaxis": "x",
         "y": [
          0,
          484,
          8183,
          14677,
          32512,
          36716,
          37309
         ],
         "yaxis": "y"
        },
        {
         "hovertemplate": "country=Bahrain<br>date=%{x}<br>cumulative_cases=%{y}<extra></extra>",
         "legendgroup": "Bahrain",
         "line": {
          "color": "#19d3f3",
          "dash": "solid"
         },
         "marker": {
          "symbol": "circle"
         },
         "mode": "lines+markers",
         "name": "Bahrain",
         "showlegend": true,
         "type": "scattergl",
         "x": [
          "2020-01-31T00:00:00",
          "2020-07-31T00:00:00",
          "2021-01-31T00:00:00",
          "2021-07-31T00:00:00",
          "2022-01-31T00:00:00",
          "2022-07-31T00:00:00",
          "2023-01-31T00:00:00"
         ],
         "xaxis": "x",
         "y": [
          0,
          40755,
          102626,
          269080,
          368767,
          659224,
          682470
         ],
         "yaxis": "y"
        },
        {
         "hovertemplate": "country=Bangladesh<br>date=%{x}<br>cumulative_cases=%{y}<extra></extra>",
         "legendgroup": "Bangladesh",
         "line": {
          "color": "#FF6692",
          "dash": "solid"
         },
         "marker": {
          "symbol": "circle"
         },
         "mode": "lines+markers",
         "name": "Bangladesh",
         "showlegend": true,
         "type": "scattergl",
         "x": [
          "2020-01-31T00:00:00",
          "2020-07-31T00:00:00",
          "2021-01-31T00:00:00",
          "2021-07-31T00:00:00",
          "2022-01-31T00:00:00",
          "2022-07-31T00:00:00",
          "2023-01-31T00:00:00"
         ],
         "xaxis": "x",
         "y": [
          0,
          237661,
          535139,
          1249484,
          1798833,
          2005257,
          2029015
         ],
         "yaxis": "y"
        },
        {
         "hovertemplate": "country=Barbados<br>date=%{x}<br>cumulative_cases=%{y}<extra></extra>",
         "legendgroup": "Barbados",
         "line": {
          "color": "#B6E880",
          "dash": "solid"
         },
         "marker": {
          "symbol": "circle"
         },
         "mode": "lines+markers",
         "name": "Barbados",
         "showlegend": true,
         "type": "scattergl",
         "x": [
          "2020-01-31T00:00:00",
          "2020-07-31T00:00:00",
          "2021-01-31T00:00:00",
          "2021-07-31T00:00:00",
          "2022-01-31T00:00:00",
          "2022-07-31T00:00:00",
          "2023-01-31T00:00:00"
         ],
         "xaxis": "x",
         "y": [
          0,
          110,
          1498,
          4365,
          43481,
          91593,
          102580
         ],
         "yaxis": "y"
        },
        {
         "hovertemplate": "country=Belarus<br>date=%{x}<br>cumulative_cases=%{y}<extra></extra>",
         "legendgroup": "Belarus",
         "line": {
          "color": "#FF97FF",
          "dash": "solid"
         },
         "marker": {
          "symbol": "circle"
         },
         "mode": "lines+markers",
         "name": "Belarus",
         "showlegend": true,
         "type": "scattergl",
         "x": [
          "2020-01-31T00:00:00",
          "2020-07-31T00:00:00",
          "2021-01-31T00:00:00",
          "2021-07-31T00:00:00",
          "2022-01-31T00:00:00",
          "2022-07-31T00:00:00",
          "2023-01-31T00:00:00"
         ],
         "xaxis": "x",
         "y": [
          0,
          67808,
          246570,
          445048,
          740988,
          994037,
          994037
         ],
         "yaxis": "y"
        },
        {
         "hovertemplate": "country=Belgium<br>date=%{x}<br>cumulative_cases=%{y}<extra></extra>",
         "legendgroup": "Belgium",
         "line": {
          "color": "#FECB52",
          "dash": "solid"
         },
         "marker": {
          "symbol": "circle"
         },
         "mode": "lines+markers",
         "name": "Belgium",
         "showlegend": true,
         "type": "scattergl",
         "x": [
          "2020-01-31T00:00:00",
          "2020-07-31T00:00:00",
          "2021-01-31T00:00:00",
          "2021-07-31T00:00:00",
          "2022-01-31T00:00:00",
          "2022-07-31T00:00:00",
          "2023-01-31T00:00:00"
         ],
         "xaxis": "x",
         "y": [
          0,
          69590,
          709255,
          1119304,
          3164249,
          4424832,
          4566207
         ],
         "yaxis": "y"
        },
        {
         "hovertemplate": "country=Belize<br>date=%{x}<br>cumulative_cases=%{y}<extra></extra>",
         "legendgroup": "Belize",
         "line": {
          "color": "#636efa",
          "dash": "solid"
         },
         "marker": {
          "symbol": "circle"
         },
         "mode": "lines+markers",
         "name": "Belize",
         "showlegend": true,
         "type": "scattergl",
         "x": [
          "2020-01-31T00:00:00",
          "2020-07-31T00:00:00",
          "2021-01-31T00:00:00",
          "2021-07-31T00:00:00",
          "2022-01-31T00:00:00",
          "2022-07-31T00:00:00",
          "2023-01-31T00:00:00"
         ],
         "xaxis": "x",
         "y": [
          0,
          48,
          11877,
          14114,
          50487,
          67111,
          68884
         ],
         "yaxis": "y"
        },
        {
         "hovertemplate": "country=Benin<br>date=%{x}<br>cumulative_cases=%{y}<extra></extra>",
         "legendgroup": "Benin",
         "line": {
          "color": "#EF553B",
          "dash": "solid"
         },
         "marker": {
          "symbol": "circle"
         },
         "mode": "lines+markers",
         "name": "Benin",
         "showlegend": true,
         "type": "scattergl",
         "x": [
          "2020-01-31T00:00:00",
          "2020-07-31T00:00:00",
          "2021-01-31T00:00:00",
          "2021-07-31T00:00:00",
          "2022-01-31T00:00:00",
          "2022-07-31T00:00:00",
          "2023-01-31T00:00:00"
         ],
         "xaxis": "x",
         "y": [
          0,
          1805,
          3786,
          8394,
          26498,
          27316,
          27782
         ],
         "yaxis": "y"
        },
        {
         "hovertemplate": "country=Bermuda<br>date=%{x}<br>cumulative_cases=%{y}<extra></extra>",
         "legendgroup": "Bermuda",
         "line": {
          "color": "#00cc96",
          "dash": "solid"
         },
         "marker": {
          "symbol": "circle"
         },
         "mode": "lines+markers",
         "name": "Bermuda",
         "showlegend": true,
         "type": "scattergl",
         "x": [
          "2020-01-31T00:00:00",
          "2020-07-31T00:00:00",
          "2021-01-31T00:00:00",
          "2021-07-31T00:00:00",
          "2022-01-31T00:00:00",
          "2022-07-31T00:00:00",
          "2023-01-31T00:00:00"
         ],
         "xaxis": "x",
         "y": [
          0,
          156,
          691,
          2553,
          10552,
          17193,
          18220
         ],
         "yaxis": "y"
        },
        {
         "hovertemplate": "country=Bhutan<br>date=%{x}<br>cumulative_cases=%{y}<extra></extra>",
         "legendgroup": "Bhutan",
         "line": {
          "color": "#ab63fa",
          "dash": "solid"
         },
         "marker": {
          "symbol": "circle"
         },
         "mode": "lines+markers",
         "name": "Bhutan",
         "showlegend": true,
         "type": "scattergl",
         "x": [
          "2020-01-31T00:00:00",
          "2020-07-31T00:00:00",
          "2021-01-31T00:00:00",
          "2021-07-31T00:00:00",
          "2022-01-31T00:00:00",
          "2022-07-31T00:00:00",
          "2023-01-31T00:00:00"
         ],
         "xaxis": "x",
         "y": [
          0,
          102,
          859,
          2515,
          4891,
          60530,
          62095
         ],
         "yaxis": "y"
        },
        {
         "hovertemplate": "country=Bolivia (Plurinational State of)<br>date=%{x}<br>cumulative_cases=%{y}<extra></extra>",
         "legendgroup": "Bolivia (Plurinational State of)",
         "line": {
          "color": "#FFA15A",
          "dash": "solid"
         },
         "marker": {
          "symbol": "circle"
         },
         "mode": "lines+markers",
         "name": "Bolivia (Plurinational State of)",
         "showlegend": true,
         "type": "scattergl",
         "x": [
          "2020-01-31T00:00:00",
          "2020-07-31T00:00:00",
          "2021-01-31T00:00:00",
          "2021-07-31T00:00:00",
          "2022-01-31T00:00:00",
          "2022-07-31T00:00:00",
          "2023-01-31T00:00:00"
         ],
         "xaxis": "x",
         "y": [
          0,
          73534,
          213392,
          471958,
          850197,
          1032023,
          1108527
         ],
         "yaxis": "y"
        },
        {
         "hovertemplate": "country=Bonaire<br>date=%{x}<br>cumulative_cases=%{y}<extra></extra>",
         "legendgroup": "Bonaire",
         "line": {
          "color": "#19d3f3",
          "dash": "solid"
         },
         "marker": {
          "symbol": "circle"
         },
         "mode": "lines+markers",
         "name": "Bonaire",
         "showlegend": true,
         "type": "scattergl",
         "x": [
          "2020-01-31T00:00:00",
          "2020-07-31T00:00:00",
          "2021-01-31T00:00:00",
          "2021-07-31T00:00:00",
          "2022-01-31T00:00:00",
          "2022-07-31T00:00:00",
          "2023-01-31T00:00:00"
         ],
         "xaxis": "x",
         "y": [
          0,
          5,
          362,
          1678,
          6326,
          9068,
          9440
         ],
         "yaxis": "y"
        },
        {
         "hovertemplate": "country=Bosnia and Herzegovina<br>date=%{x}<br>cumulative_cases=%{y}<extra></extra>",
         "legendgroup": "Bosnia and Herzegovina",
         "line": {
          "color": "#FF6692",
          "dash": "solid"
         },
         "marker": {
          "symbol": "circle"
         },
         "mode": "lines+markers",
         "name": "Bosnia and Herzegovina",
         "showlegend": true,
         "type": "scattergl",
         "x": [
          "2020-01-31T00:00:00",
          "2020-07-31T00:00:00",
          "2021-01-31T00:00:00",
          "2021-07-31T00:00:00",
          "2022-01-31T00:00:00",
          "2022-07-31T00:00:00",
          "2023-01-31T00:00:00"
         ],
         "xaxis": "x",
         "y": [
          0,
          11444,
          121891,
          205655,
          346651,
          385742,
          398796
         ],
         "yaxis": "y"
        },
        {
         "hovertemplate": "country=Botswana<br>date=%{x}<br>cumulative_cases=%{y}<extra></extra>",
         "legendgroup": "Botswana",
         "line": {
          "color": "#B6E880",
          "dash": "solid"
         },
         "marker": {
          "symbol": "circle"
         },
         "mode": "lines+markers",
         "name": "Botswana",
         "showlegend": true,
         "type": "scattergl",
         "x": [
          "2020-01-31T00:00:00",
          "2020-07-31T00:00:00",
          "2021-01-31T00:00:00",
          "2021-07-31T00:00:00",
          "2022-01-31T00:00:00",
          "2022-07-31T00:00:00",
          "2023-01-31T00:00:00"
         ],
         "xaxis": "x",
         "y": [
          0,
          804,
          21623,
          115220,
          253036,
          325724,
          326309
         ],
         "yaxis": "y"
        },
        {
         "hovertemplate": "country=Brazil<br>date=%{x}<br>cumulative_cases=%{y}<extra></extra>",
         "legendgroup": "Brazil",
         "line": {
          "color": "#FF97FF",
          "dash": "solid"
         },
         "marker": {
          "symbol": "circle"
         },
         "mode": "lines+markers",
         "name": "Brazil",
         "showlegend": true,
         "type": "scattergl",
         "x": [
          "2020-01-31T00:00:00",
          "2020-07-31T00:00:00",
          "2021-01-31T00:00:00",
          "2021-07-31T00:00:00",
          "2022-01-31T00:00:00",
          "2022-07-31T00:00:00",
          "2023-01-31T00:00:00"
         ],
         "xaxis": "x",
         "y": [
          0,
          2552265,
          9118513,
          19839369,
          25214622,
          33790698,
          34699017
         ],
         "yaxis": "y"
        },
        {
         "hovertemplate": "country=British Virgin Islands<br>date=%{x}<br>cumulative_cases=%{y}<extra></extra>",
         "legendgroup": "British Virgin Islands",
         "line": {
          "color": "#FECB52",
          "dash": "solid"
         },
         "marker": {
          "symbol": "circle"
         },
         "mode": "lines+markers",
         "name": "British Virgin Islands",
         "showlegend": true,
         "type": "scattergl",
         "x": [
          "2020-01-31T00:00:00",
          "2020-07-31T00:00:00",
          "2021-01-31T00:00:00",
          "2021-07-31T00:00:00",
          "2022-01-31T00:00:00",
          "2022-07-31T00:00:00",
          "2023-01-31T00:00:00"
         ],
         "xaxis": "x",
         "y": [
          0,
          8,
          141,
          2500,
          5875,
          7131,
          7305
         ],
         "yaxis": "y"
        },
        {
         "hovertemplate": "country=Brunei Darussalam<br>date=%{x}<br>cumulative_cases=%{y}<extra></extra>",
         "legendgroup": "Brunei Darussalam",
         "line": {
          "color": "#636efa",
          "dash": "solid"
         },
         "marker": {
          "symbol": "circle"
         },
         "mode": "lines+markers",
         "name": "Brunei Darussalam",
         "showlegend": true,
         "type": "scattergl",
         "x": [
          "2020-01-31T00:00:00",
          "2020-07-31T00:00:00",
          "2021-01-31T00:00:00",
          "2021-07-31T00:00:00",
          "2022-01-31T00:00:00",
          "2022-07-31T00:00:00",
          "2023-01-31T00:00:00"
         ],
         "xaxis": "x",
         "y": [
          0,
          141,
          180,
          336,
          16413,
          206160,
          229665
         ],
         "yaxis": "y"
        },
        {
         "hovertemplate": "country=Bulgaria<br>date=%{x}<br>cumulative_cases=%{y}<extra></extra>",
         "legendgroup": "Bulgaria",
         "line": {
          "color": "#EF553B",
          "dash": "solid"
         },
         "marker": {
          "symbol": "circle"
         },
         "mode": "lines+markers",
         "name": "Bulgaria",
         "showlegend": true,
         "type": "scattergl",
         "x": [
          "2020-01-31T00:00:00",
          "2020-07-31T00:00:00",
          "2021-01-31T00:00:00",
          "2021-07-31T00:00:00",
          "2022-01-31T00:00:00",
          "2022-07-31T00:00:00",
          "2023-01-31T00:00:00"
         ],
         "xaxis": "x",
         "y": [
          0,
          11420,
          218618,
          424872,
          941814,
          1206688,
          1263630
         ],
         "yaxis": "y"
        },
        {
         "hovertemplate": "country=Burkina Faso<br>date=%{x}<br>cumulative_cases=%{y}<extra></extra>",
         "legendgroup": "Burkina Faso",
         "line": {
          "color": "#00cc96",
          "dash": "solid"
         },
         "marker": {
          "symbol": "circle"
         },
         "mode": "lines+markers",
         "name": "Burkina Faso",
         "showlegend": true,
         "type": "scattergl",
         "x": [
          "2020-01-31T00:00:00",
          "2020-07-31T00:00:00",
          "2021-01-31T00:00:00",
          "2021-07-31T00:00:00",
          "2022-01-31T00:00:00",
          "2022-07-31T00:00:00",
          "2023-01-31T00:00:00"
         ],
         "xaxis": "x",
         "y": [
          0,
          1143,
          10682,
          13580,
          20649,
          21128,
          21631
         ],
         "yaxis": "y"
        },
        {
         "hovertemplate": "country=Burundi<br>date=%{x}<br>cumulative_cases=%{y}<extra></extra>",
         "legendgroup": "Burundi",
         "line": {
          "color": "#ab63fa",
          "dash": "solid"
         },
         "marker": {
          "symbol": "circle"
         },
         "mode": "lines+markers",
         "name": "Burundi",
         "showlegend": true,
         "type": "scattergl",
         "x": [
          "2020-01-31T00:00:00",
          "2020-07-31T00:00:00",
          "2021-01-31T00:00:00",
          "2021-07-31T00:00:00",
          "2022-01-31T00:00:00",
          "2022-07-31T00:00:00",
          "2023-01-31T00:00:00"
         ],
         "xaxis": "x",
         "y": [
          0,
          387,
          1635,
          7372,
          37432,
          46151,
          50225
         ],
         "yaxis": "y"
        },
        {
         "hovertemplate": "country=Cabo Verde<br>date=%{x}<br>cumulative_cases=%{y}<extra></extra>",
         "legendgroup": "Cabo Verde",
         "line": {
          "color": "#FFA15A",
          "dash": "solid"
         },
         "marker": {
          "symbol": "circle"
         },
         "mode": "lines+markers",
         "name": "Cabo Verde",
         "showlegend": true,
         "type": "scattergl",
         "x": [
          "2020-01-31T00:00:00",
          "2020-07-31T00:00:00",
          "2021-01-31T00:00:00",
          "2021-07-31T00:00:00",
          "2022-01-31T00:00:00",
          "2022-07-31T00:00:00",
          "2023-01-31T00:00:00"
         ],
         "xaxis": "x",
         "y": [
          0,
          2419,
          13981,
          33763,
          55677,
          62159,
          62384
         ],
         "yaxis": "y"
        },
        {
         "hovertemplate": "country=Cambodia<br>date=%{x}<br>cumulative_cases=%{y}<extra></extra>",
         "legendgroup": "Cambodia",
         "line": {
          "color": "#19d3f3",
          "dash": "solid"
         },
         "marker": {
          "symbol": "circle"
         },
         "mode": "lines+markers",
         "name": "Cambodia",
         "showlegend": true,
         "type": "scattergl",
         "x": [
          "2020-01-31T00:00:00",
          "2020-07-31T00:00:00",
          "2021-01-31T00:00:00",
          "2021-07-31T00:00:00",
          "2022-01-31T00:00:00",
          "2022-07-31T00:00:00",
          "2023-01-31T00:00:00"
         ],
         "xaxis": "x",
         "y": [
          1,
          234,
          465,
          76585,
          121299,
          136753,
          137906
         ],
         "yaxis": "y"
        },
        {
         "hovertemplate": "country=Cameroon<br>date=%{x}<br>cumulative_cases=%{y}<extra></extra>",
         "legendgroup": "Cameroon",
         "line": {
          "color": "#FF6692",
          "dash": "solid"
         },
         "marker": {
          "symbol": "circle"
         },
         "mode": "lines+markers",
         "name": "Cameroon",
         "showlegend": true,
         "type": "scattergl",
         "x": [
          "2020-01-31T00:00:00",
          "2020-07-31T00:00:00",
          "2021-01-31T00:00:00",
          "2021-07-31T00:00:00",
          "2022-01-31T00:00:00",
          "2022-07-31T00:00:00",
          "2023-01-31T00:00:00"
         ],
         "xaxis": "x",
         "y": [
          0,
          17255,
          30313,
          82064,
          117676,
          120524,
          121652
         ],
         "yaxis": "y"
        },
        {
         "hovertemplate": "country=Canada<br>date=%{x}<br>cumulative_cases=%{y}<extra></extra>",
         "legendgroup": "Canada",
         "line": {
          "color": "#B6E880",
          "dash": "solid"
         },
         "marker": {
          "symbol": "circle"
         },
         "mode": "lines+markers",
         "name": "Canada",
         "showlegend": true,
         "type": "scattergl",
         "x": [
          "2020-01-31T00:00:00",
          "2020-07-31T00:00:00",
          "2021-01-31T00:00:00",
          "2021-07-31T00:00:00",
          "2022-01-31T00:00:00",
          "2022-07-31T00:00:00",
          "2023-01-31T00:00:00"
         ],
         "xaxis": "x",
         "y": [
          3,
          115392,
          770793,
          1429576,
          3031544,
          4056035,
          4251611
         ],
         "yaxis": "y"
        },
        {
         "hovertemplate": "country=Cayman Islands<br>date=%{x}<br>cumulative_cases=%{y}<extra></extra>",
         "legendgroup": "Cayman Islands",
         "line": {
          "color": "#FF97FF",
          "dash": "solid"
         },
         "marker": {
          "symbol": "circle"
         },
         "mode": "lines+markers",
         "name": "Cayman Islands",
         "showlegend": true,
         "type": "scattergl",
         "x": [
          "2020-01-31T00:00:00",
          "2020-07-31T00:00:00",
          "2021-01-31T00:00:00",
          "2021-07-31T00:00:00",
          "2022-01-31T00:00:00",
          "2022-07-31T00:00:00",
          "2023-01-31T00:00:00"
         ],
         "xaxis": "x",
         "y": [
          0,
          203,
          390,
          642,
          13788,
          29109,
          30809
         ],
         "yaxis": "y"
        },
        {
         "hovertemplate": "country=Central African Republic<br>date=%{x}<br>cumulative_cases=%{y}<extra></extra>",
         "legendgroup": "Central African Republic",
         "line": {
          "color": "#FECB52",
          "dash": "solid"
         },
         "marker": {
          "symbol": "circle"
         },
         "mode": "lines+markers",
         "name": "Central African Republic",
         "showlegend": true,
         "type": "scattergl",
         "x": [
          "2020-01-31T00:00:00",
          "2020-07-31T00:00:00",
          "2021-01-31T00:00:00",
          "2021-07-31T00:00:00",
          "2022-01-31T00:00:00",
          "2022-07-31T00:00:00",
          "2023-01-31T00:00:00"
         ],
         "xaxis": "x",
         "y": [
          0,
          5374,
          5864,
          11169,
          14110,
          14781,
          14956
         ],
         "yaxis": "y"
        },
        {
         "hovertemplate": "country=Chad<br>date=%{x}<br>cumulative_cases=%{y}<extra></extra>",
         "legendgroup": "Chad",
         "line": {
          "color": "#636efa",
          "dash": "solid"
         },
         "marker": {
          "symbol": "circle"
         },
         "mode": "lines+markers",
         "name": "Chad",
         "showlegend": true,
         "type": "scattergl",
         "x": [
          "2020-01-31T00:00:00",
          "2020-07-31T00:00:00",
          "2021-01-31T00:00:00",
          "2021-07-31T00:00:00",
          "2022-01-31T00:00:00",
          "2022-07-31T00:00:00",
          "2023-01-31T00:00:00"
         ],
         "xaxis": "x",
         "y": [
          0,
          935,
          3347,
          4973,
          7155,
          7432,
          7581
         ],
         "yaxis": "y"
        },
        {
         "hovertemplate": "country=Chile<br>date=%{x}<br>cumulative_cases=%{y}<extra></extra>",
         "legendgroup": "Chile",
         "line": {
          "color": "#EF553B",
          "dash": "solid"
         },
         "marker": {
          "symbol": "circle"
         },
         "mode": "lines+markers",
         "name": "Chile",
         "showlegend": true,
         "type": "scattergl",
         "x": [
          "2020-01-31T00:00:00",
          "2020-07-31T00:00:00",
          "2021-01-31T00:00:00",
          "2021-07-31T00:00:00",
          "2022-01-31T00:00:00",
          "2022-07-31T00:00:00",
          "2023-01-31T00:00:00"
         ],
         "xaxis": "x",
         "y": [
          0,
          353536,
          722900,
          1614629,
          2137743,
          4233549,
          4642033
         ],
         "yaxis": "y"
        },
        {
         "hovertemplate": "country=China<br>date=%{x}<br>cumulative_cases=%{y}<extra></extra>",
         "legendgroup": "China",
         "line": {
          "color": "#00cc96",
          "dash": "solid"
         },
         "marker": {
          "symbol": "circle"
         },
         "mode": "lines+markers",
         "name": "China",
         "showlegend": true,
         "type": "scattergl",
         "x": [
          "2020-01-31T00:00:00",
          "2020-07-31T00:00:00",
          "2021-01-31T00:00:00",
          "2021-07-31T00:00:00",
          "2022-01-31T00:00:00",
          "2022-07-31T00:00:00",
          "2023-01-31T00:00:00"
         ],
         "xaxis": "x",
         "y": [
          9720,
          87956,
          100877,
          120635,
          138992,
          5616120,
          7942654
         ],
         "yaxis": "y"
        },
        {
         "hovertemplate": "country=Colombia<br>date=%{x}<br>cumulative_cases=%{y}<extra></extra>",
         "legendgroup": "Colombia",
         "line": {
          "color": "#ab63fa",
          "dash": "solid"
         },
         "marker": {
          "symbol": "circle"
         },
         "mode": "lines+markers",
         "name": "Colombia",
         "showlegend": true,
         "type": "scattergl",
         "x": [
          "2020-01-31T00:00:00",
          "2020-07-31T00:00:00",
          "2021-01-31T00:00:00",
          "2021-07-31T00:00:00",
          "2022-01-31T00:00:00",
          "2022-07-31T00:00:00",
          "2023-01-31T00:00:00"
         ],
         "xaxis": "x",
         "y": [
          0,
          276055,
          2077633,
          4766829,
          5855858,
          6265798,
          6307372
         ],
         "yaxis": "y"
        },
        {
         "hovertemplate": "country=Comoros<br>date=%{x}<br>cumulative_cases=%{y}<extra></extra>",
         "legendgroup": "Comoros",
         "line": {
          "color": "#FFA15A",
          "dash": "solid"
         },
         "marker": {
          "symbol": "circle"
         },
         "mode": "lines+markers",
         "name": "Comoros",
         "showlegend": true,
         "type": "scattergl",
         "x": [
          "2020-01-31T00:00:00",
          "2020-07-31T00:00:00",
          "2021-01-31T00:00:00",
          "2021-07-31T00:00:00",
          "2022-01-31T00:00:00",
          "2022-07-31T00:00:00",
          "2023-01-31T00:00:00"
         ],
         "xaxis": "x",
         "y": [
          0,
          312,
          2648,
          4028,
          7832,
          8329,
          8471
         ],
         "yaxis": "y"
        },
        {
         "hovertemplate": "country=Congo<br>date=%{x}<br>cumulative_cases=%{y}<extra></extra>",
         "legendgroup": "Congo",
         "line": {
          "color": "#19d3f3",
          "dash": "solid"
         },
         "marker": {
          "symbol": "circle"
         },
         "mode": "lines+markers",
         "name": "Congo",
         "showlegend": true,
         "type": "scattergl",
         "x": [
          "2020-01-31T00:00:00",
          "2020-07-31T00:00:00",
          "2021-01-31T00:00:00",
          "2021-07-31T00:00:00",
          "2022-01-31T00:00:00",
          "2022-07-31T00:00:00",
          "2023-01-31T00:00:00"
         ],
         "xaxis": "x",
         "y": [
          0,
          3387,
          8060,
          13216,
          23792,
          24775,
          24775
         ],
         "yaxis": "y"
        },
        {
         "hovertemplate": "country=Cook Islands<br>date=%{x}<br>cumulative_cases=%{y}<extra></extra>",
         "legendgroup": "Cook Islands",
         "line": {
          "color": "#FF6692",
          "dash": "solid"
         },
         "marker": {
          "symbol": "circle"
         },
         "mode": "lines+markers",
         "name": "Cook Islands",
         "showlegend": true,
         "type": "scattergl",
         "x": [
          "2020-01-31T00:00:00",
          "2020-07-31T00:00:00",
          "2021-01-31T00:00:00",
          "2021-07-31T00:00:00",
          "2022-01-31T00:00:00",
          "2022-07-31T00:00:00",
          "2023-01-31T00:00:00"
         ],
         "xaxis": "x",
         "y": [
          0,
          0,
          0,
          0,
          0,
          6042,
          6389
         ],
         "yaxis": "y"
        },
        {
         "hovertemplate": "country=Costa Rica<br>date=%{x}<br>cumulative_cases=%{y}<extra></extra>",
         "legendgroup": "Costa Rica",
         "line": {
          "color": "#B6E880",
          "dash": "solid"
         },
         "marker": {
          "symbol": "circle"
         },
         "mode": "lines+markers",
         "name": "Costa Rica",
         "showlegend": true,
         "type": "scattergl",
         "x": [
          "2020-01-31T00:00:00",
          "2020-07-31T00:00:00",
          "2021-01-31T00:00:00",
          "2021-07-31T00:00:00",
          "2022-01-31T00:00:00",
          "2022-07-31T00:00:00",
          "2023-01-31T00:00:00"
         ],
         "xaxis": "x",
         "y": [
          0,
          16800,
          193276,
          405206,
          688501,
          1044385,
          1123001
         ],
         "yaxis": "y"
        },
        {
         "hovertemplate": "country=Croatia<br>date=%{x}<br>cumulative_cases=%{y}<extra></extra>",
         "legendgroup": "Croatia",
         "line": {
          "color": "#FF97FF",
          "dash": "solid"
         },
         "marker": {
          "symbol": "circle"
         },
         "mode": "lines+markers",
         "name": "Croatia",
         "showlegend": true,
         "type": "scattergl",
         "x": [
          "2020-01-31T00:00:00",
          "2020-07-31T00:00:00",
          "2021-01-31T00:00:00",
          "2021-07-31T00:00:00",
          "2022-01-31T00:00:00",
          "2022-07-31T00:00:00",
          "2023-01-31T00:00:00"
         ],
         "xaxis": "x",
         "y": [
          0,
          5071,
          232090,
          363397,
          935722,
          1185799,
          1236319
         ],
         "yaxis": "y"
        },
        {
         "hovertemplate": "country=Cuba<br>date=%{x}<br>cumulative_cases=%{y}<extra></extra>",
         "legendgroup": "Cuba",
         "line": {
          "color": "#FECB52",
          "dash": "solid"
         },
         "marker": {
          "symbol": "circle"
         },
         "mode": "lines+markers",
         "name": "Cuba",
         "showlegend": true,
         "type": "scattergl",
         "x": [
          "2020-01-31T00:00:00",
          "2020-07-31T00:00:00",
          "2021-01-31T00:00:00",
          "2021-07-31T00:00:00",
          "2022-01-31T00:00:00",
          "2022-07-31T00:00:00",
          "2023-01-31T00:00:00"
         ],
         "xaxis": "x",
         "y": [
          0,
          2597,
          25674,
          375721,
          1039842,
          1107985,
          1111224
         ],
         "yaxis": "y"
        },
        {
         "hovertemplate": "country=Curaçao<br>date=%{x}<br>cumulative_cases=%{y}<extra></extra>",
         "legendgroup": "Curaçao",
         "line": {
          "color": "#636efa",
          "dash": "solid"
         },
         "marker": {
          "symbol": "circle"
         },
         "mode": "lines+markers",
         "name": "Curaçao",
         "showlegend": true,
         "type": "scattergl",
         "x": [
          "2020-01-31T00:00:00",
          "2020-07-31T00:00:00",
          "2021-01-31T00:00:00",
          "2021-07-31T00:00:00",
          "2022-01-31T00:00:00",
          "2022-07-31T00:00:00",
          "2023-01-31T00:00:00"
         ],
         "xaxis": "x",
         "y": [
          0,
          29,
          4574,
          13493,
          36722,
          45063,
          45390
         ],
         "yaxis": "y"
        },
        {
         "hovertemplate": "country=Cyprus<br>date=%{x}<br>cumulative_cases=%{y}<extra></extra>",
         "legendgroup": "Cyprus",
         "line": {
          "color": "#EF553B",
          "dash": "solid"
         },
         "marker": {
          "symbol": "circle"
         },
         "mode": "lines+markers",
         "name": "Cyprus",
         "showlegend": true,
         "type": "scattergl",
         "x": [
          "2020-01-31T00:00:00",
          "2020-07-31T00:00:00",
          "2021-01-31T00:00:00",
          "2021-07-31T00:00:00",
          "2022-01-31T00:00:00",
          "2022-07-31T00:00:00",
          "2023-01-31T00:00:00"
         ],
         "xaxis": "x",
         "y": [
          0,
          1084,
          31228,
          102927,
          250587,
          562911,
          590783
         ],
         "yaxis": "y"
        },
        {
         "hovertemplate": "country=Czechia<br>date=%{x}<br>cumulative_cases=%{y}<extra></extra>",
         "legendgroup": "Czechia",
         "line": {
          "color": "#00cc96",
          "dash": "solid"
         },
         "marker": {
          "symbol": "circle"
         },
         "mode": "lines+markers",
         "name": "Czechia",
         "showlegend": true,
         "type": "scattergl",
         "x": [
          "2020-01-31T00:00:00",
          "2020-07-31T00:00:00",
          "2021-01-31T00:00:00",
          "2021-07-31T00:00:00",
          "2022-01-31T00:00:00",
          "2022-07-31T00:00:00",
          "2023-01-31T00:00:00"
         ],
         "xaxis": "x",
         "y": [
          0,
          16393,
          987506,
          1678916,
          3016971,
          3985412,
          4123477
         ],
         "yaxis": "y"
        },
        {
         "hovertemplate": "country=Côte d’Ivoire<br>date=%{x}<br>cumulative_cases=%{y}<extra></extra>",
         "legendgroup": "Côte d’Ivoire",
         "line": {
          "color": "#ab63fa",
          "dash": "solid"
         },
         "marker": {
          "symbol": "circle"
         },
         "mode": "lines+markers",
         "name": "Côte d’Ivoire",
         "showlegend": true,
         "type": "scattergl",
         "x": [
          "2020-01-31T00:00:00",
          "2020-07-31T00:00:00",
          "2021-01-31T00:00:00",
          "2021-07-31T00:00:00",
          "2022-01-31T00:00:00",
          "2022-07-31T00:00:00",
          "2023-01-31T00:00:00"
         ],
         "xaxis": "x",
         "y": [
          0,
          15978,
          28178,
          50004,
          80695,
          85306,
          87316
         ],
         "yaxis": "y"
        },
        {
         "hovertemplate": "country=Democratic People's Republic of Korea<br>date=%{x}<br>cumulative_cases=%{y}<extra></extra>",
         "legendgroup": "Democratic People's Republic of Korea",
         "line": {
          "color": "#FFA15A",
          "dash": "solid"
         },
         "marker": {
          "symbol": "circle"
         },
         "mode": "lines+markers",
         "name": "Democratic People's Republic of Korea",
         "showlegend": true,
         "type": "scattergl",
         "x": [
          "2020-01-31T00:00:00",
          "2020-07-31T00:00:00",
          "2021-01-31T00:00:00",
          "2021-07-31T00:00:00",
          "2022-01-31T00:00:00",
          "2022-07-31T00:00:00",
          "2023-01-31T00:00:00"
         ],
         "xaxis": "x",
         "y": [
          0,
          0,
          0,
          0,
          0,
          0,
          0
         ],
         "yaxis": "y"
        },
        {
         "hovertemplate": "country=Democratic Republic of the Congo<br>date=%{x}<br>cumulative_cases=%{y}<extra></extra>",
         "legendgroup": "Democratic Republic of the Congo",
         "line": {
          "color": "#19d3f3",
          "dash": "solid"
         },
         "marker": {
          "symbol": "circle"
         },
         "mode": "lines+markers",
         "name": "Democratic Republic of the Congo",
         "showlegend": true,
         "type": "scattergl",
         "x": [
          "2020-01-31T00:00:00",
          "2020-07-31T00:00:00",
          "2021-01-31T00:00:00",
          "2021-07-31T00:00:00",
          "2022-01-31T00:00:00",
          "2022-07-31T00:00:00",
          "2023-01-31T00:00:00"
         ],
         "xaxis": "x",
         "y": [
          0,
          9069,
          22770,
          49916,
          85528,
          92430,
          92892
         ],
         "yaxis": "y"
        },
        {
         "hovertemplate": "country=Denmark<br>date=%{x}<br>cumulative_cases=%{y}<extra></extra>",
         "legendgroup": "Denmark",
         "line": {
          "color": "#FF6692",
          "dash": "solid"
         },
         "marker": {
          "symbol": "circle"
         },
         "mode": "lines+markers",
         "name": "Denmark",
         "showlegend": true,
         "type": "scattergl",
         "x": [
          "2020-01-31T00:00:00",
          "2020-07-31T00:00:00",
          "2021-01-31T00:00:00",
          "2021-07-31T00:00:00",
          "2022-01-31T00:00:00",
          "2022-07-31T00:00:00",
          "2023-01-31T00:00:00"
         ],
         "xaxis": "x",
         "y": [
          0,
          13661,
          198246,
          315571,
          1713485,
          3229666,
          3307186
         ],
         "yaxis": "y"
        },
        {
         "hovertemplate": "country=Djibouti<br>date=%{x}<br>cumulative_cases=%{y}<extra></extra>",
         "legendgroup": "Djibouti",
         "line": {
          "color": "#B6E880",
          "dash": "solid"
         },
         "marker": {
          "symbol": "circle"
         },
         "mode": "lines+markers",
         "name": "Djibouti",
         "showlegend": true,
         "type": "scattergl",
         "x": [
          "2020-01-31T00:00:00",
          "2020-07-31T00:00:00",
          "2021-01-31T00:00:00",
          "2021-07-31T00:00:00",
          "2022-01-31T00:00:00",
          "2022-07-31T00:00:00",
          "2023-01-31T00:00:00"
         ],
         "xaxis": "x",
         "y": [
          0,
          5081,
          5931,
          11651,
          15451,
          15690,
          15690
         ],
         "yaxis": "y"
        },
        {
         "hovertemplate": "country=Dominica<br>date=%{x}<br>cumulative_cases=%{y}<extra></extra>",
         "legendgroup": "Dominica",
         "line": {
          "color": "#FF97FF",
          "dash": "solid"
         },
         "marker": {
          "symbol": "circle"
         },
         "mode": "lines+markers",
         "name": "Dominica",
         "showlegend": true,
         "type": "scattergl",
         "x": [
          "2020-01-31T00:00:00",
          "2020-07-31T00:00:00",
          "2021-01-31T00:00:00",
          "2021-07-31T00:00:00",
          "2022-01-31T00:00:00",
          "2022-07-31T00:00:00",
          "2023-01-31T00:00:00"
         ],
         "xaxis": "x",
         "y": [
          0,
          18,
          117,
          210,
          9032,
          14852,
          15760
         ],
         "yaxis": "y"
        },
        {
         "hovertemplate": "country=Dominican Republic<br>date=%{x}<br>cumulative_cases=%{y}<extra></extra>",
         "legendgroup": "Dominican Republic",
         "line": {
          "color": "#FECB52",
          "dash": "solid"
         },
         "marker": {
          "symbol": "circle"
         },
         "mode": "lines+markers",
         "name": "Dominican Republic",
         "showlegend": true,
         "type": "scattergl",
         "x": [
          "2020-01-31T00:00:00",
          "2020-07-31T00:00:00",
          "2021-01-31T00:00:00",
          "2021-07-31T00:00:00",
          "2022-01-31T00:00:00",
          "2022-07-31T00:00:00",
          "2023-01-31T00:00:00"
         ],
         "xaxis": "x",
         "y": [
          0,
          67915,
          212553,
          341510,
          554052,
          628725,
          646209
         ],
         "yaxis": "y"
        },
        {
         "hovertemplate": "country=Ecuador<br>date=%{x}<br>cumulative_cases=%{y}<extra></extra>",
         "legendgroup": "Ecuador",
         "line": {
          "color": "#636efa",
          "dash": "solid"
         },
         "marker": {
          "symbol": "circle"
         },
         "mode": "lines+markers",
         "name": "Ecuador",
         "showlegend": true,
         "type": "scattergl",
         "x": [
          "2020-01-31T00:00:00",
          "2020-07-31T00:00:00",
          "2021-01-31T00:00:00",
          "2021-07-31T00:00:00",
          "2022-01-31T00:00:00",
          "2022-07-31T00:00:00",
          "2023-01-31T00:00:00"
         ],
         "xaxis": "x",
         "y": [
          0,
          84370,
          249779,
          486544,
          725936,
          963668,
          1005877
         ],
         "yaxis": "y"
        },
        {
         "hovertemplate": "country=Egypt<br>date=%{x}<br>cumulative_cases=%{y}<extra></extra>",
         "legendgroup": "Egypt",
         "line": {
          "color": "#EF553B",
          "dash": "solid"
         },
         "marker": {
          "symbol": "circle"
         },
         "mode": "lines+markers",
         "name": "Egypt",
         "showlegend": true,
         "type": "scattergl",
         "x": [
          "2020-01-31T00:00:00",
          "2020-07-31T00:00:00",
          "2021-01-31T00:00:00",
          "2021-07-31T00:00:00",
          "2022-01-31T00:00:00",
          "2022-07-31T00:00:00",
          "2023-01-31T00:00:00"
         ],
         "xaxis": "x",
         "y": [
          0,
          93757,
          165418,
          284215,
          423688,
          514659,
          515381
         ],
         "yaxis": "y"
        },
        {
         "hovertemplate": "country=El Salvador<br>date=%{x}<br>cumulative_cases=%{y}<extra></extra>",
         "legendgroup": "El Salvador",
         "line": {
          "color": "#00cc96",
          "dash": "solid"
         },
         "marker": {
          "symbol": "circle"
         },
         "mode": "lines+markers",
         "name": "El Salvador",
         "showlegend": true,
         "type": "scattergl",
         "x": [
          "2020-01-31T00:00:00",
          "2020-07-31T00:00:00",
          "2021-01-31T00:00:00",
          "2021-07-31T00:00:00",
          "2022-01-31T00:00:00",
          "2022-07-31T00:00:00",
          "2023-01-31T00:00:00"
         ],
         "xaxis": "x",
         "y": [
          0,
          16230,
          53989,
          86620,
          134155,
          190818,
          201785
         ],
         "yaxis": "y"
        },
        {
         "hovertemplate": "country=Equatorial Guinea<br>date=%{x}<br>cumulative_cases=%{y}<extra></extra>",
         "legendgroup": "Equatorial Guinea",
         "line": {
          "color": "#ab63fa",
          "dash": "solid"
         },
         "marker": {
          "symbol": "circle"
         },
         "mode": "lines+markers",
         "name": "Equatorial Guinea",
         "showlegend": true,
         "type": "scattergl",
         "x": [
          "2020-01-31T00:00:00",
          "2020-07-31T00:00:00",
          "2021-01-31T00:00:00",
          "2021-07-31T00:00:00",
          "2022-01-31T00:00:00",
          "2022-07-31T00:00:00",
          "2023-01-31T00:00:00"
         ],
         "xaxis": "x",
         "y": [
          0,
          4821,
          5534,
          8911,
          15802,
          16741,
          16928
         ],
         "yaxis": "y"
        },
        {
         "hovertemplate": "country=Eritrea<br>date=%{x}<br>cumulative_cases=%{y}<extra></extra>",
         "legendgroup": "Eritrea",
         "line": {
          "color": "#FFA15A",
          "dash": "solid"
         },
         "marker": {
          "symbol": "circle"
         },
         "mode": "lines+markers",
         "name": "Eritrea",
         "showlegend": true,
         "type": "scattergl",
         "x": [
          "2020-01-31T00:00:00",
          "2020-07-31T00:00:00",
          "2021-01-31T00:00:00",
          "2021-07-31T00:00:00",
          "2022-01-31T00:00:00",
          "2022-07-31T00:00:00",
          "2023-01-31T00:00:00"
         ],
         "xaxis": "x",
         "y": [
          0,
          279,
          2135,
          6545,
          9525,
          10032,
          10170
         ],
         "yaxis": "y"
        },
        {
         "hovertemplate": "country=Estonia<br>date=%{x}<br>cumulative_cases=%{y}<extra></extra>",
         "legendgroup": "Estonia",
         "line": {
          "color": "#19d3f3",
          "dash": "solid"
         },
         "marker": {
          "symbol": "circle"
         },
         "mode": "lines+markers",
         "name": "Estonia",
         "showlegend": true,
         "type": "scattergl",
         "x": [
          "2020-01-31T00:00:00",
          "2020-07-31T00:00:00",
          "2021-01-31T00:00:00",
          "2021-07-31T00:00:00",
          "2022-01-31T00:00:00",
          "2022-07-31T00:00:00",
          "2023-01-31T00:00:00"
         ],
         "xaxis": "x",
         "y": [
          0,
          2070,
          44265,
          133749,
          338676,
          590911,
          603347
         ],
         "yaxis": "y"
        },
        {
         "hovertemplate": "country=Eswatini<br>date=%{x}<br>cumulative_cases=%{y}<extra></extra>",
         "legendgroup": "Eswatini",
         "line": {
          "color": "#FF6692",
          "dash": "solid"
         },
         "marker": {
          "symbol": "circle"
         },
         "mode": "lines+markers",
         "name": "Eswatini",
         "showlegend": true,
         "type": "scattergl",
         "x": [
          "2020-01-31T00:00:00",
          "2020-07-31T00:00:00",
          "2021-01-31T00:00:00",
          "2021-07-31T00:00:00",
          "2022-01-31T00:00:00",
          "2022-07-31T00:00:00",
          "2023-01-31T00:00:00"
         ],
         "xaxis": "x",
         "y": [
          0,
          2577,
          15666,
          25515,
          68342,
          73279,
          73410
         ],
         "yaxis": "y"
        },
        {
         "hovertemplate": "country=Ethiopia<br>date=%{x}<br>cumulative_cases=%{y}<extra></extra>",
         "legendgroup": "Ethiopia",
         "line": {
          "color": "#B6E880",
          "dash": "solid"
         },
         "marker": {
          "symbol": "circle"
         },
         "mode": "lines+markers",
         "name": "Ethiopia",
         "showlegend": true,
         "type": "scattergl",
         "x": [
          "2020-01-31T00:00:00",
          "2020-07-31T00:00:00",
          "2021-01-31T00:00:00",
          "2021-07-31T00:00:00",
          "2022-01-31T00:00:00",
          "2022-07-31T00:00:00",
          "2023-01-31T00:00:00"
         ],
         "xaxis": "x",
         "y": [
          0,
          16615,
          137021,
          280024,
          464930,
          492194,
          493588
         ],
         "yaxis": "y"
        },
        {
         "hovertemplate": "country=Falkland Islands (Malvinas)<br>date=%{x}<br>cumulative_cases=%{y}<extra></extra>",
         "legendgroup": "Falkland Islands (Malvinas)",
         "line": {
          "color": "#FF97FF",
          "dash": "solid"
         },
         "marker": {
          "symbol": "circle"
         },
         "mode": "lines+markers",
         "name": "Falkland Islands (Malvinas)",
         "showlegend": true,
         "type": "scattergl",
         "x": [
          "2020-01-31T00:00:00",
          "2020-07-31T00:00:00",
          "2021-01-31T00:00:00",
          "2021-07-31T00:00:00",
          "2022-01-31T00:00:00",
          "2022-07-31T00:00:00",
          "2023-01-31T00:00:00"
         ],
         "xaxis": "x",
         "y": [
          0,
          13,
          40,
          60,
          89,
          1839,
          1930
         ],
         "yaxis": "y"
        },
        {
         "hovertemplate": "country=Faroe Islands<br>date=%{x}<br>cumulative_cases=%{y}<extra></extra>",
         "legendgroup": "Faroe Islands",
         "line": {
          "color": "#FECB52",
          "dash": "solid"
         },
         "marker": {
          "symbol": "circle"
         },
         "mode": "lines+markers",
         "name": "Faroe Islands",
         "showlegend": true,
         "type": "scattergl",
         "x": [
          "2020-01-31T00:00:00",
          "2020-07-31T00:00:00",
          "2021-01-31T00:00:00",
          "2021-07-31T00:00:00",
          "2022-01-31T00:00:00",
          "2022-07-31T00:00:00",
          "2023-01-31T00:00:00"
         ],
         "xaxis": "x",
         "y": [
          0,
          225,
          657,
          985,
          19108,
          34658,
          34658
         ],
         "yaxis": "y"
        },
        {
         "hovertemplate": "country=Fiji<br>date=%{x}<br>cumulative_cases=%{y}<extra></extra>",
         "legendgroup": "Fiji",
         "line": {
          "color": "#636efa",
          "dash": "solid"
         },
         "marker": {
          "symbol": "circle"
         },
         "mode": "lines+markers",
         "name": "Fiji",
         "showlegend": true,
         "type": "scattergl",
         "x": [
          "2020-01-31T00:00:00",
          "2020-07-31T00:00:00",
          "2021-01-31T00:00:00",
          "2021-07-31T00:00:00",
          "2022-01-31T00:00:00",
          "2022-07-31T00:00:00",
          "2023-01-31T00:00:00"
         ],
         "xaxis": "x",
         "y": [
          0,
          27,
          55,
          28660,
          62395,
          67549,
          68245
         ],
         "yaxis": "y"
        },
        {
         "hovertemplate": "country=Finland<br>date=%{x}<br>cumulative_cases=%{y}<extra></extra>",
         "legendgroup": "Finland",
         "line": {
          "color": "#EF553B",
          "dash": "solid"
         },
         "marker": {
          "symbol": "circle"
         },
         "mode": "lines+markers",
         "name": "Finland",
         "showlegend": true,
         "type": "scattergl",
         "x": [
          "2020-01-31T00:00:00",
          "2020-07-31T00:00:00",
          "2021-01-31T00:00:00",
          "2021-07-31T00:00:00",
          "2022-01-31T00:00:00",
          "2022-07-31T00:00:00",
          "2023-01-31T00:00:00"
         ],
         "xaxis": "x",
         "y": [
          3,
          7470,
          45785,
          107703,
          509910,
          1219826,
          1312634
         ],
         "yaxis": "y"
        },
        {
         "hovertemplate": "country=France<br>date=%{x}<br>cumulative_cases=%{y}<extra></extra>",
         "legendgroup": "France",
         "line": {
          "color": "#00cc96",
          "dash": "solid"
         },
         "marker": {
          "symbol": "circle"
         },
         "mode": "lines+markers",
         "name": "France",
         "showlegend": true,
         "type": "scattergl",
         "x": [
          "2020-01-31T00:00:00",
          "2020-07-31T00:00:00",
          "2021-01-31T00:00:00",
          "2021-07-31T00:00:00",
          "2022-01-31T00:00:00",
          "2022-07-31T00:00:00",
          "2023-01-31T00:00:00"
         ],
         "xaxis": "x",
         "y": [
          6,
          179994,
          3114542,
          5971496,
          18551940,
          32845406,
          34665044
         ],
         "yaxis": "y"
        },
        {
         "hovertemplate": "country=French Guiana<br>date=%{x}<br>cumulative_cases=%{y}<extra></extra>",
         "legendgroup": "French Guiana",
         "line": {
          "color": "#ab63fa",
          "dash": "solid"
         },
         "marker": {
          "symbol": "circle"
         },
         "mode": "lines+markers",
         "name": "French Guiana",
         "showlegend": true,
         "type": "scattergl",
         "x": [
          "2020-01-31T00:00:00",
          "2020-07-31T00:00:00",
          "2021-01-31T00:00:00",
          "2021-07-31T00:00:00",
          "2022-01-31T00:00:00",
          "2022-07-31T00:00:00",
          "2023-01-31T00:00:00"
         ],
         "xaxis": "x",
         "y": [
          0,
          7728,
          16083,
          30164,
          75242,
          92575,
          93974
         ],
         "yaxis": "y"
        },
        {
         "hovertemplate": "country=French Polynesia<br>date=%{x}<br>cumulative_cases=%{y}<extra></extra>",
         "legendgroup": "French Polynesia",
         "line": {
          "color": "#FFA15A",
          "dash": "solid"
         },
         "marker": {
          "symbol": "circle"
         },
         "mode": "lines+markers",
         "name": "French Polynesia",
         "showlegend": true,
         "type": "scattergl",
         "x": [
          "2020-01-31T00:00:00",
          "2020-07-31T00:00:00",
          "2021-01-31T00:00:00",
          "2021-07-31T00:00:00",
          "2022-01-31T00:00:00",
          "2022-07-31T00:00:00",
          "2023-01-31T00:00:00"
         ],
         "xaxis": "x",
         "y": [
          0,
          62,
          18060,
          20048,
          48266,
          75440,
          76703
         ],
         "yaxis": "y"
        },
        {
         "hovertemplate": "country=Gabon<br>date=%{x}<br>cumulative_cases=%{y}<extra></extra>",
         "legendgroup": "Gabon",
         "line": {
          "color": "#19d3f3",
          "dash": "solid"
         },
         "marker": {
          "symbol": "circle"
         },
         "mode": "lines+markers",
         "name": "Gabon",
         "showlegend": true,
         "type": "scattergl",
         "x": [
          "2020-01-31T00:00:00",
          "2020-07-31T00:00:00",
          "2021-01-31T00:00:00",
          "2021-07-31T00:00:00",
          "2022-01-31T00:00:00",
          "2022-07-31T00:00:00",
          "2023-01-31T00:00:00"
         ],
         "xaxis": "x",
         "y": [
          0,
          7352,
          10748,
          25384,
          46722,
          48511,
          48713
         ],
         "yaxis": "y"
        },
        {
         "hovertemplate": "country=Gambia<br>date=%{x}<br>cumulative_cases=%{y}<extra></extra>",
         "legendgroup": "Gambia",
         "line": {
          "color": "#FF6692",
          "dash": "solid"
         },
         "marker": {
          "symbol": "circle"
         },
         "mode": "lines+markers",
         "name": "Gambia",
         "showlegend": true,
         "type": "scattergl",
         "x": [
          "2020-01-31T00:00:00",
          "2020-07-31T00:00:00",
          "2021-01-31T00:00:00",
          "2021-07-31T00:00:00",
          "2022-01-31T00:00:00",
          "2022-07-31T00:00:00",
          "2023-01-31T00:00:00"
         ],
         "xaxis": "x",
         "y": [
          0,
          484,
          4090,
          7962,
          11863,
          12149,
          12442
         ],
         "yaxis": "y"
        },
        {
         "hovertemplate": "country=Georgia<br>date=%{x}<br>cumulative_cases=%{y}<extra></extra>",
         "legendgroup": "Georgia",
         "line": {
          "color": "#B6E880",
          "dash": "solid"
         },
         "marker": {
          "symbol": "circle"
         },
         "mode": "lines+markers",
         "name": "Georgia",
         "showlegend": true,
         "type": "scattergl",
         "x": [
          "2020-01-31T00:00:00",
          "2020-07-31T00:00:00",
          "2021-01-31T00:00:00",
          "2021-07-31T00:00:00",
          "2022-01-31T00:00:00",
          "2022-07-31T00:00:00",
          "2023-01-31T00:00:00"
         ],
         "xaxis": "x",
         "y": [
          0,
          1168,
          258111,
          419534,
          1175923,
          1686218,
          1780691
         ],
         "yaxis": "y"
        },
        {
         "hovertemplate": "country=Germany<br>date=%{x}<br>cumulative_cases=%{y}<extra></extra>",
         "legendgroup": "Germany",
         "line": {
          "color": "#FF97FF",
          "dash": "solid"
         },
         "marker": {
          "symbol": "circle"
         },
         "mode": "lines+markers",
         "name": "Germany",
         "showlegend": true,
         "type": "scattergl",
         "x": [
          "2020-01-31T00:00:00",
          "2020-07-31T00:00:00",
          "2021-01-31T00:00:00",
          "2021-07-31T00:00:00",
          "2022-01-31T00:00:00",
          "2022-07-31T00:00:00",
          "2023-01-31T00:00:00"
         ],
         "xaxis": "x",
         "y": [
          6,
          209239,
          2217400,
          3770346,
          9957356,
          30914366,
          33826367
         ],
         "yaxis": "y"
        },
        {
         "hovertemplate": "country=Ghana<br>date=%{x}<br>cumulative_cases=%{y}<extra></extra>",
         "legendgroup": "Ghana",
         "line": {
          "color": "#FECB52",
          "dash": "solid"
         },
         "marker": {
          "symbol": "circle"
         },
         "mode": "lines+markers",
         "name": "Ghana",
         "showlegend": true,
         "type": "scattergl",
         "x": [
          "2020-01-31T00:00:00",
          "2020-07-31T00:00:00",
          "2021-01-31T00:00:00",
          "2021-07-31T00:00:00",
          "2022-01-31T00:00:00",
          "2022-07-31T00:00:00",
          "2023-01-31T00:00:00"
         ],
         "xaxis": "x",
         "y": [
          0,
          37014,
          67782,
          103019,
          157220,
          168127,
          169685
         ],
         "yaxis": "y"
        },
        {
         "hovertemplate": "country=Gibraltar<br>date=%{x}<br>cumulative_cases=%{y}<extra></extra>",
         "legendgroup": "Gibraltar",
         "line": {
          "color": "#636efa",
          "dash": "solid"
         },
         "marker": {
          "symbol": "circle"
         },
         "mode": "lines+markers",
         "name": "Gibraltar",
         "showlegend": true,
         "type": "scattergl",
         "x": [
          "2020-01-31T00:00:00",
          "2020-07-31T00:00:00",
          "2021-01-31T00:00:00",
          "2021-07-31T00:00:00",
          "2022-01-31T00:00:00",
          "2022-07-31T00:00:00",
          "2023-01-31T00:00:00"
         ],
         "xaxis": "x",
         "y": [
          0,
          178,
          4088,
          4922,
          12848,
          19902,
          20095
         ],
         "yaxis": "y"
        },
        {
         "hovertemplate": "country=Greece<br>date=%{x}<br>cumulative_cases=%{y}<extra></extra>",
         "legendgroup": "Greece",
         "line": {
          "color": "#EF553B",
          "dash": "solid"
         },
         "marker": {
          "symbol": "circle"
         },
         "mode": "lines+markers",
         "name": "Greece",
         "showlegend": true,
         "type": "scattergl",
         "x": [
          "2020-01-31T00:00:00",
          "2020-07-31T00:00:00",
          "2021-01-31T00:00:00",
          "2021-07-31T00:00:00",
          "2022-01-31T00:00:00",
          "2022-07-31T00:00:00",
          "2023-01-31T00:00:00"
         ],
         "xaxis": "x",
         "y": [
          0,
          4401,
          156473,
          490552,
          1935007,
          4355024,
          4975067
         ],
         "yaxis": "y"
        },
        {
         "hovertemplate": "country=Greenland<br>date=%{x}<br>cumulative_cases=%{y}<extra></extra>",
         "legendgroup": "Greenland",
         "line": {
          "color": "#00cc96",
          "dash": "solid"
         },
         "marker": {
          "symbol": "circle"
         },
         "mode": "lines+markers",
         "name": "Greenland",
         "showlegend": true,
         "type": "scattergl",
         "x": [
          "2020-01-31T00:00:00",
          "2020-07-31T00:00:00",
          "2021-01-31T00:00:00",
          "2021-07-31T00:00:00",
          "2022-01-31T00:00:00",
          "2022-07-31T00:00:00",
          "2023-01-31T00:00:00"
         ],
         "xaxis": "x",
         "y": [
          0,
          14,
          30,
          118,
          10662,
          11971,
          11971
         ],
         "yaxis": "y"
        },
        {
         "hovertemplate": "country=Grenada<br>date=%{x}<br>cumulative_cases=%{y}<extra></extra>",
         "legendgroup": "Grenada",
         "line": {
          "color": "#ab63fa",
          "dash": "solid"
         },
         "marker": {
          "symbol": "circle"
         },
         "mode": "lines+markers",
         "name": "Grenada",
         "showlegend": true,
         "type": "scattergl",
         "x": [
          "2020-01-31T00:00:00",
          "2020-07-31T00:00:00",
          "2021-01-31T00:00:00",
          "2021-07-31T00:00:00",
          "2022-01-31T00:00:00",
          "2022-07-31T00:00:00",
          "2023-01-31T00:00:00"
         ],
         "xaxis": "x",
         "y": [
          0,
          24,
          148,
          168,
          12311,
          18786,
          19536
         ],
         "yaxis": "y"
        },
        {
         "hovertemplate": "country=Guadeloupe<br>date=%{x}<br>cumulative_cases=%{y}<extra></extra>",
         "legendgroup": "Guadeloupe",
         "line": {
          "color": "#FFA15A",
          "dash": "solid"
         },
         "marker": {
          "symbol": "circle"
         },
         "mode": "lines+markers",
         "name": "Guadeloupe",
         "showlegend": true,
         "type": "scattergl",
         "x": [
          "2020-01-31T00:00:00",
          "2020-07-31T00:00:00",
          "2021-01-31T00:00:00",
          "2021-07-31T00:00:00",
          "2022-01-31T00:00:00",
          "2022-07-31T00:00:00",
          "2023-01-31T00:00:00"
         ],
         "xaxis": "x",
         "y": [
          0,
          244,
          9156,
          19406,
          112668,
          186380,
          192801
         ],
         "yaxis": "y"
        },
        {
         "hovertemplate": "country=Guam<br>date=%{x}<br>cumulative_cases=%{y}<extra></extra>",
         "legendgroup": "Guam",
         "line": {
          "color": "#19d3f3",
          "dash": "solid"
         },
         "marker": {
          "symbol": "circle"
         },
         "mode": "lines+markers",
         "name": "Guam",
         "showlegend": true,
         "type": "scattergl",
         "x": [
          "2020-01-31T00:00:00",
          "2020-07-31T00:00:00",
          "2021-01-31T00:00:00",
          "2021-07-31T00:00:00",
          "2022-01-31T00:00:00",
          "2022-07-31T00:00:00",
          "2023-01-31T00:00:00"
         ],
         "xaxis": "x",
         "y": [
          0,
          348,
          7379,
          8271,
          25617,
          46181,
          48915
         ],
         "yaxis": "y"
        },
        {
         "hovertemplate": "country=Guatemala<br>date=%{x}<br>cumulative_cases=%{y}<extra></extra>",
         "legendgroup": "Guatemala",
         "line": {
          "color": "#FF6692",
          "dash": "solid"
         },
         "marker": {
          "symbol": "circle"
         },
         "mode": "lines+markers",
         "name": "Guatemala",
         "showlegend": true,
         "type": "scattergl",
         "x": [
          "2020-01-31T00:00:00",
          "2020-07-31T00:00:00",
          "2021-01-31T00:00:00",
          "2021-07-31T00:00:00",
          "2022-01-31T00:00:00",
          "2022-07-31T00:00:00",
          "2023-01-31T00:00:00"
         ],
         "xaxis": "x",
         "y": [
          0,
          48826,
          159118,
          362134,
          688326,
          1037751,
          1127942
         ],
         "yaxis": "y"
        },
        {
         "hovertemplate": "country=Guernsey<br>date=%{x}<br>cumulative_cases=%{y}<extra></extra>",
         "legendgroup": "Guernsey",
         "line": {
          "color": "#B6E880",
          "dash": "solid"
         },
         "marker": {
          "symbol": "circle"
         },
         "mode": "lines+markers",
         "name": "Guernsey",
         "showlegend": true,
         "type": "scattergl",
         "x": [
          "2020-01-31T00:00:00",
          "2020-07-31T00:00:00",
          "2021-01-31T00:00:00",
          "2021-07-31T00:00:00",
          "2022-01-31T00:00:00",
          "2022-07-31T00:00:00",
          "2023-01-31T00:00:00"
         ],
         "xaxis": "x",
         "y": [
          0,
          252,
          493,
          948,
          11193,
          29924,
          31545
         ],
         "yaxis": "y"
        },
        {
         "hovertemplate": "country=Guinea<br>date=%{x}<br>cumulative_cases=%{y}<extra></extra>",
         "legendgroup": "Guinea",
         "line": {
          "color": "#FF97FF",
          "dash": "solid"
         },
         "marker": {
          "symbol": "circle"
         },
         "mode": "lines+markers",
         "name": "Guinea",
         "showlegend": true,
         "type": "scattergl",
         "x": [
          "2020-01-31T00:00:00",
          "2020-07-31T00:00:00",
          "2021-01-31T00:00:00",
          "2021-07-31T00:00:00",
          "2022-01-31T00:00:00",
          "2022-07-31T00:00:00",
          "2023-01-31T00:00:00"
         ],
         "xaxis": "x",
         "y": [
          0,
          7242,
          14532,
          25801,
          36013,
          37429,
          37950
         ],
         "yaxis": "y"
        },
        {
         "hovertemplate": "country=Guinea-Bissau<br>date=%{x}<br>cumulative_cases=%{y}<extra></extra>",
         "legendgroup": "Guinea-Bissau",
         "line": {
          "color": "#FECB52",
          "dash": "solid"
         },
         "marker": {
          "symbol": "circle"
         },
         "mode": "lines+markers",
         "name": "Guinea-Bissau",
         "showlegend": true,
         "type": "scattergl",
         "x": [
          "2020-01-31T00:00:00",
          "2020-07-31T00:00:00",
          "2021-01-31T00:00:00",
          "2021-07-31T00:00:00",
          "2022-01-31T00:00:00",
          "2022-07-31T00:00:00",
          "2023-01-31T00:00:00"
         ],
         "xaxis": "x",
         "y": [
          0,
          1981,
          2635,
          4479,
          7586,
          8440,
          8796
         ],
         "yaxis": "y"
        },
        {
         "hovertemplate": "country=Guyana<br>date=%{x}<br>cumulative_cases=%{y}<extra></extra>",
         "legendgroup": "Guyana",
         "line": {
          "color": "#636efa",
          "dash": "solid"
         },
         "marker": {
          "symbol": "circle"
         },
         "mode": "lines+markers",
         "name": "Guyana",
         "showlegend": true,
         "type": "scattergl",
         "x": [
          "2020-01-31T00:00:00",
          "2020-07-31T00:00:00",
          "2021-01-31T00:00:00",
          "2021-07-31T00:00:00",
          "2022-01-31T00:00:00",
          "2022-07-31T00:00:00",
          "2023-01-31T00:00:00"
         ],
         "xaxis": "x",
         "y": [
          0,
          398,
          7528,
          22372,
          59450,
          69745,
          71356
         ],
         "yaxis": "y"
        },
        {
         "hovertemplate": "country=Haiti<br>date=%{x}<br>cumulative_cases=%{y}<extra></extra>",
         "legendgroup": "Haiti",
         "line": {
          "color": "#EF553B",
          "dash": "solid"
         },
         "marker": {
          "symbol": "circle"
         },
         "mode": "lines+markers",
         "name": "Haiti",
         "showlegend": true,
         "type": "scattergl",
         "x": [
          "2020-01-31T00:00:00",
          "2020-07-31T00:00:00",
          "2021-01-31T00:00:00",
          "2021-07-31T00:00:00",
          "2022-01-31T00:00:00",
          "2022-07-31T00:00:00",
          "2023-01-31T00:00:00"
         ],
         "xaxis": "x",
         "y": [
          0,
          7378,
          11672,
          20326,
          29477,
          32405,
          33702
         ],
         "yaxis": "y"
        },
        {
         "hovertemplate": "country=Holy See<br>date=%{x}<br>cumulative_cases=%{y}<extra></extra>",
         "legendgroup": "Holy See",
         "line": {
          "color": "#00cc96",
          "dash": "solid"
         },
         "marker": {
          "symbol": "circle"
         },
         "mode": "lines+markers",
         "name": "Holy See",
         "showlegend": true,
         "type": "scattergl",
         "x": [
          "2020-01-31T00:00:00",
          "2020-07-31T00:00:00",
          "2021-01-31T00:00:00",
          "2021-07-31T00:00:00",
          "2022-01-31T00:00:00",
          "2022-07-31T00:00:00",
          "2023-01-31T00:00:00"
         ],
         "xaxis": "x",
         "y": [
          0,
          12,
          26,
          26,
          26,
          26,
          26
         ],
         "yaxis": "y"
        },
        {
         "hovertemplate": "country=Honduras<br>date=%{x}<br>cumulative_cases=%{y}<extra></extra>",
         "legendgroup": "Honduras",
         "line": {
          "color": "#ab63fa",
          "dash": "solid"
         },
         "marker": {
          "symbol": "circle"
         },
         "mode": "lines+markers",
         "name": "Honduras",
         "showlegend": true,
         "type": "scattergl",
         "x": [
          "2020-01-31T00:00:00",
          "2020-07-31T00:00:00",
          "2021-01-31T00:00:00",
          "2021-07-31T00:00:00",
          "2022-01-31T00:00:00",
          "2022-07-31T00:00:00",
          "2023-01-31T00:00:00"
         ],
         "xaxis": "x",
         "y": [
          0,
          40944,
          146110,
          294561,
          391874,
          439901,
          456664
         ],
         "yaxis": "y"
        },
        {
         "hovertemplate": "country=Hungary<br>date=%{x}<br>cumulative_cases=%{y}<extra></extra>",
         "legendgroup": "Hungary",
         "line": {
          "color": "#FFA15A",
          "dash": "solid"
         },
         "marker": {
          "symbol": "circle"
         },
         "mode": "lines+markers",
         "name": "Hungary",
         "showlegend": true,
         "type": "scattergl",
         "x": [
          "2020-01-31T00:00:00",
          "2020-07-31T00:00:00",
          "2021-01-31T00:00:00",
          "2021-07-31T00:00:00",
          "2022-01-31T00:00:00",
          "2022-07-31T00:00:00",
          "2023-01-31T00:00:00"
         ],
         "xaxis": "x",
         "y": [
          0,
          4505,
          367586,
          809491,
          1553405,
          1965481,
          2107907
         ],
         "yaxis": "y"
        },
        {
         "hovertemplate": "country=Iceland<br>date=%{x}<br>cumulative_cases=%{y}<extra></extra>",
         "legendgroup": "Iceland",
         "line": {
          "color": "#19d3f3",
          "dash": "solid"
         },
         "marker": {
          "symbol": "circle"
         },
         "mode": "lines+markers",
         "name": "Iceland",
         "showlegend": true,
         "type": "scattergl",
         "x": [
          "2020-01-31T00:00:00",
          "2020-07-31T00:00:00",
          "2021-01-31T00:00:00",
          "2021-07-31T00:00:00",
          "2022-01-31T00:00:00",
          "2022-07-31T00:00:00",
          "2023-01-31T00:00:00"
         ],
         "xaxis": "x",
         "y": [
          0,
          1875,
          6014,
          7823,
          66576,
          202215,
          205823
         ],
         "yaxis": "y"
        },
        {
         "hovertemplate": "country=India<br>date=%{x}<br>cumulative_cases=%{y}<extra></extra>",
         "legendgroup": "India",
         "line": {
          "color": "#FF6692",
          "dash": "solid"
         },
         "marker": {
          "symbol": "circle"
         },
         "mode": "lines+markers",
         "name": "India",
         "showlegend": true,
         "type": "scattergl",
         "x": [
          "2020-01-31T00:00:00",
          "2020-07-31T00:00:00",
          "2021-01-31T00:00:00",
          "2021-07-31T00:00:00",
          "2022-01-31T00:00:00",
          "2022-07-31T00:00:00",
          "2023-01-31T00:00:00"
         ],
         "xaxis": "x",
         "y": [
          5,
          1638870,
          10746183,
          31613993,
          41302440,
          44019811,
          44606460
         ],
         "yaxis": "y"
        },
        {
         "hovertemplate": "country=Indonesia<br>date=%{x}<br>cumulative_cases=%{y}<extra></extra>",
         "legendgroup": "Indonesia",
         "line": {
          "color": "#B6E880",
          "dash": "solid"
         },
         "marker": {
          "symbol": "circle"
         },
         "mode": "lines+markers",
         "name": "Indonesia",
         "showlegend": true,
         "type": "scattergl",
         "x": [
          "2020-01-31T00:00:00",
          "2020-07-31T00:00:00",
          "2021-01-31T00:00:00",
          "2021-07-31T00:00:00",
          "2022-01-31T00:00:00",
          "2022-07-31T00:00:00",
          "2023-01-31T00:00:00"
         ],
         "xaxis": "x",
         "y": [
          0,
          108376,
          1078314,
          3409658,
          4353370,
          6207098,
          6442624
         ],
         "yaxis": "y"
        },
        {
         "hovertemplate": "country=Iran (Islamic Republic of)<br>date=%{x}<br>cumulative_cases=%{y}<extra></extra>",
         "legendgroup": "Iran (Islamic Republic of)",
         "line": {
          "color": "#FF97FF",
          "dash": "solid"
         },
         "marker": {
          "symbol": "circle"
         },
         "mode": "lines+markers",
         "name": "Iran (Islamic Republic of)",
         "showlegend": true,
         "type": "scattergl",
         "x": [
          "2020-01-31T00:00:00",
          "2020-07-31T00:00:00",
          "2021-01-31T00:00:00",
          "2021-07-31T00:00:00",
          "2022-01-31T00:00:00",
          "2022-07-31T00:00:00",
          "2023-01-31T00:00:00"
         ],
         "xaxis": "x",
         "y": [
          0,
          301530,
          1411731,
          3851162,
          6344179,
          7381299,
          7550691
         ],
         "yaxis": "y"
        },
        {
         "hovertemplate": "country=Iraq<br>date=%{x}<br>cumulative_cases=%{y}<extra></extra>",
         "legendgroup": "Iraq",
         "line": {
          "color": "#FECB52",
          "dash": "solid"
         },
         "marker": {
          "symbol": "circle"
         },
         "mode": "lines+markers",
         "name": "Iraq",
         "showlegend": true,
         "type": "scattergl",
         "x": [
          "2020-01-31T00:00:00",
          "2020-07-31T00:00:00",
          "2021-01-31T00:00:00",
          "2021-07-31T00:00:00",
          "2022-01-31T00:00:00",
          "2022-07-31T00:00:00",
          "2023-01-31T00:00:00"
         ],
         "xaxis": "x",
         "y": [
          0,
          121263,
          618922,
          1616384,
          2203365,
          2443772,
          2460670
         ],
         "yaxis": "y"
        },
        {
         "hovertemplate": "country=Ireland<br>date=%{x}<br>cumulative_cases=%{y}<extra></extra>",
         "legendgroup": "Ireland",
         "line": {
          "color": "#636efa",
          "dash": "solid"
         },
         "marker": {
          "symbol": "circle"
         },
         "mode": "lines+markers",
         "name": "Ireland",
         "showlegend": true,
         "type": "scattergl",
         "x": [
          "2020-01-31T00:00:00",
          "2020-07-31T00:00:00",
          "2021-01-31T00:00:00",
          "2021-07-31T00:00:00",
          "2022-01-31T00:00:00",
          "2022-07-31T00:00:00",
          "2023-01-31T00:00:00"
         ],
         "xaxis": "x",
         "y": [
          0,
          26027,
          196381,
          300627,
          1183672,
          1646365,
          1666048
         ],
         "yaxis": "y"
        },
        {
         "hovertemplate": "country=Isle of Man<br>date=%{x}<br>cumulative_cases=%{y}<extra></extra>",
         "legendgroup": "Isle of Man",
         "line": {
          "color": "#EF553B",
          "dash": "solid"
         },
         "marker": {
          "symbol": "circle"
         },
         "mode": "lines+markers",
         "name": "Isle of Man",
         "showlegend": true,
         "type": "scattergl",
         "x": [
          "2020-01-31T00:00:00",
          "2020-07-31T00:00:00",
          "2021-01-31T00:00:00",
          "2021-07-31T00:00:00",
          "2022-01-31T00:00:00",
          "2022-07-31T00:00:00",
          "2023-01-31T00:00:00"
         ],
         "xaxis": "x",
         "y": [
          0,
          338,
          434,
          4632,
          21396,
          37696,
          38008
         ],
         "yaxis": "y"
        },
        {
         "hovertemplate": "country=Israel<br>date=%{x}<br>cumulative_cases=%{y}<extra></extra>",
         "legendgroup": "Israel",
         "line": {
          "color": "#00cc96",
          "dash": "solid"
         },
         "marker": {
          "symbol": "circle"
         },
         "mode": "lines+markers",
         "name": "Israel",
         "showlegend": true,
         "type": "scattergl",
         "x": [
          "2020-01-31T00:00:00",
          "2020-07-31T00:00:00",
          "2021-01-31T00:00:00",
          "2021-07-31T00:00:00",
          "2022-01-31T00:00:00",
          "2022-07-31T00:00:00",
          "2023-01-31T00:00:00"
         ],
         "xaxis": "x",
         "y": [
          0,
          70282,
          640458,
          873402,
          2857140,
          4579658,
          4667079
         ],
         "yaxis": "y"
        },
        {
         "hovertemplate": "country=Italy<br>date=%{x}<br>cumulative_cases=%{y}<extra></extra>",
         "legendgroup": "Italy",
         "line": {
          "color": "#ab63fa",
          "dash": "solid"
         },
         "marker": {
          "symbol": "circle"
         },
         "mode": "lines+markers",
         "name": "Italy",
         "showlegend": true,
         "type": "scattergl",
         "x": [
          "2020-01-31T00:00:00",
          "2020-07-31T00:00:00",
          "2021-01-31T00:00:00",
          "2021-07-31T00:00:00",
          "2022-01-31T00:00:00",
          "2022-07-31T00:00:00",
          "2023-01-31T00:00:00"
         ],
         "xaxis": "x",
         "y": [
          3,
          247158,
          2541783,
          4343519,
          10925485,
          21002773,
          22692912
         ],
         "yaxis": "y"
        },
        {
         "hovertemplate": "country=Jamaica<br>date=%{x}<br>cumulative_cases=%{y}<extra></extra>",
         "legendgroup": "Jamaica",
         "line": {
          "color": "#FFA15A",
          "dash": "solid"
         },
         "marker": {
          "symbol": "circle"
         },
         "mode": "lines+markers",
         "name": "Jamaica",
         "showlegend": true,
         "type": "scattergl",
         "x": [
          "2020-01-31T00:00:00",
          "2020-07-31T00:00:00",
          "2021-01-31T00:00:00",
          "2021-07-31T00:00:00",
          "2022-01-31T00:00:00",
          "2022-07-31T00:00:00",
          "2023-01-31T00:00:00"
         ],
         "xaxis": "x",
         "y": [
          0,
          856,
          15527,
          52684,
          124102,
          146241,
          151931
         ],
         "yaxis": "y"
        },
        {
         "hovertemplate": "country=Japan<br>date=%{x}<br>cumulative_cases=%{y}<extra></extra>",
         "legendgroup": "Japan",
         "line": {
          "color": "#19d3f3",
          "dash": "solid"
         },
         "marker": {
          "symbol": "circle"
         },
         "mode": "lines+markers",
         "name": "Japan",
         "showlegend": true,
         "type": "scattergl",
         "x": [
          "2020-01-31T00:00:00",
          "2020-07-31T00:00:00",
          "2021-01-31T00:00:00",
          "2021-07-31T00:00:00",
          "2022-01-31T00:00:00",
          "2022-07-31T00:00:00",
          "2023-01-31T00:00:00"
         ],
         "xaxis": "x",
         "y": [
          12,
          34372,
          386742,
          913755,
          2669638,
          12553010,
          21460295
         ],
         "yaxis": "y"
        },
        {
         "hovertemplate": "country=Jersey<br>date=%{x}<br>cumulative_cases=%{y}<extra></extra>",
         "legendgroup": "Jersey",
         "line": {
          "color": "#FF6692",
          "dash": "solid"
         },
         "marker": {
          "symbol": "circle"
         },
         "mode": "lines+markers",
         "name": "Jersey",
         "showlegend": true,
         "type": "scattergl",
         "x": [
          "2020-01-31T00:00:00",
          "2020-07-31T00:00:00",
          "2021-01-31T00:00:00",
          "2021-07-31T00:00:00",
          "2022-01-31T00:00:00",
          "2022-07-31T00:00:00",
          "2023-01-31T00:00:00"
         ],
         "xaxis": "x",
         "y": [
          0,
          319,
          3138,
          8297,
          30777,
          58121,
          60646
         ],
         "yaxis": "y"
        },
        {
         "hovertemplate": "country=Jordan<br>date=%{x}<br>cumulative_cases=%{y}<extra></extra>",
         "legendgroup": "Jordan",
         "line": {
          "color": "#B6E880",
          "dash": "solid"
         },
         "marker": {
          "symbol": "circle"
         },
         "mode": "lines+markers",
         "name": "Jordan",
         "showlegend": true,
         "type": "scattergl",
         "x": [
          "2020-01-31T00:00:00",
          "2020-07-31T00:00:00",
          "2021-01-31T00:00:00",
          "2021-07-31T00:00:00",
          "2022-01-31T00:00:00",
          "2022-07-31T00:00:00",
          "2023-01-31T00:00:00"
         ],
         "xaxis": "x",
         "y": [
          0,
          1259,
          325674,
          770150,
          1209083,
          1709879,
          1746997
         ],
         "yaxis": "y"
        },
        {
         "hovertemplate": "country=Kazakhstan<br>date=%{x}<br>cumulative_cases=%{y}<extra></extra>",
         "legendgroup": "Kazakhstan",
         "line": {
          "color": "#FF97FF",
          "dash": "solid"
         },
         "marker": {
          "symbol": "circle"
         },
         "mode": "lines+markers",
         "name": "Kazakhstan",
         "showlegend": true,
         "type": "scattergl",
         "x": [
          "2020-01-31T00:00:00",
          "2020-07-31T00:00:00",
          "2021-01-31T00:00:00",
          "2021-07-31T00:00:00",
          "2022-01-31T00:00:00",
          "2022-07-31T00:00:00",
          "2023-01-31T00:00:00"
         ],
         "xaxis": "x",
         "y": [
          0,
          89078,
          234569,
          633469,
          1319814,
          1439724,
          1483973
         ],
         "yaxis": "y"
        },
        {
         "hovertemplate": "country=Kenya<br>date=%{x}<br>cumulative_cases=%{y}<extra></extra>",
         "legendgroup": "Kenya",
         "line": {
          "color": "#FECB52",
          "dash": "solid"
         },
         "marker": {
          "symbol": "circle"
         },
         "mode": "lines+markers",
         "name": "Kenya",
         "showlegend": true,
         "type": "scattergl",
         "x": [
          "2020-01-31T00:00:00",
          "2020-07-31T00:00:00",
          "2021-01-31T00:00:00",
          "2021-07-31T00:00:00",
          "2022-01-31T00:00:00",
          "2022-07-31T00:00:00",
          "2023-01-31T00:00:00"
         ],
         "xaxis": "x",
         "y": [
          0,
          19913,
          100675,
          201954,
          321335,
          337599,
          338463
         ],
         "yaxis": "y"
        },
        {
         "hovertemplate": "country=Kiribati<br>date=%{x}<br>cumulative_cases=%{y}<extra></extra>",
         "legendgroup": "Kiribati",
         "line": {
          "color": "#636efa",
          "dash": "solid"
         },
         "marker": {
          "symbol": "circle"
         },
         "mode": "lines+markers",
         "name": "Kiribati",
         "showlegend": true,
         "type": "scattergl",
         "x": [
          "2020-01-31T00:00:00",
          "2020-07-31T00:00:00",
          "2021-01-31T00:00:00",
          "2021-07-31T00:00:00",
          "2022-01-31T00:00:00",
          "2022-07-31T00:00:00",
          "2023-01-31T00:00:00"
         ],
         "xaxis": "x",
         "y": [
          0,
          0,
          0,
          0,
          364,
          3430,
          3430
         ],
         "yaxis": "y"
        },
        {
         "hovertemplate": "country=Kosovo[1]<br>date=%{x}<br>cumulative_cases=%{y}<extra></extra>",
         "legendgroup": "Kosovo[1]",
         "line": {
          "color": "#EF553B",
          "dash": "solid"
         },
         "marker": {
          "symbol": "circle"
         },
         "mode": "lines+markers",
         "name": "Kosovo[1]",
         "showlegend": true,
         "type": "scattergl",
         "x": [
          "2020-01-31T00:00:00",
          "2020-07-31T00:00:00",
          "2021-01-31T00:00:00",
          "2021-07-31T00:00:00",
          "2022-01-31T00:00:00",
          "2022-07-31T00:00:00",
          "2023-01-31T00:00:00"
         ],
         "xaxis": "x",
         "y": [
          0,
          8061,
          59891,
          108230,
          204302,
          253269,
          272043
         ],
         "yaxis": "y"
        },
        {
         "hovertemplate": "country=Kuwait<br>date=%{x}<br>cumulative_cases=%{y}<extra></extra>",
         "legendgroup": "Kuwait",
         "line": {
          "color": "#00cc96",
          "dash": "solid"
         },
         "marker": {
          "symbol": "circle"
         },
         "mode": "lines+markers",
         "name": "Kuwait",
         "showlegend": true,
         "type": "scattergl",
         "x": [
          "2020-01-31T00:00:00",
          "2020-07-31T00:00:00",
          "2021-01-31T00:00:00",
          "2021-07-31T00:00:00",
          "2022-01-31T00:00:00",
          "2022-07-31T00:00:00",
          "2023-01-31T00:00:00"
         ],
         "xaxis": "x",
         "y": [
          0,
          66529,
          164622,
          397098,
          539654,
          654671,
          658520
         ],
         "yaxis": "y"
        },
        {
         "hovertemplate": "country=Kyrgyzstan<br>date=%{x}<br>cumulative_cases=%{y}<extra></extra>",
         "legendgroup": "Kyrgyzstan",
         "line": {
          "color": "#ab63fa",
          "dash": "solid"
         },
         "marker": {
          "symbol": "circle"
         },
         "mode": "lines+markers",
         "name": "Kyrgyzstan",
         "showlegend": true,
         "type": "scattergl",
         "x": [
          "2020-01-31T00:00:00",
          "2020-07-31T00:00:00",
          "2021-01-31T00:00:00",
          "2021-07-31T00:00:00",
          "2022-01-31T00:00:00",
          "2022-07-31T00:00:00",
          "2023-01-31T00:00:00"
         ],
         "xaxis": "x",
         "y": [
          0,
          35805,
          84529,
          162892,
          198316,
          202685,
          206160
         ],
         "yaxis": "y"
        },
        {
         "hovertemplate": "country=Lao People's Democratic Republic<br>date=%{x}<br>cumulative_cases=%{y}<extra></extra>",
         "legendgroup": "Lao People's Democratic Republic",
         "line": {
          "color": "#FFA15A",
          "dash": "solid"
         },
         "marker": {
          "symbol": "circle"
         },
         "mode": "lines+markers",
         "name": "Lao People's Democratic Republic",
         "showlegend": true,
         "type": "scattergl",
         "x": [
          "2020-01-31T00:00:00",
          "2020-07-31T00:00:00",
          "2021-01-31T00:00:00",
          "2021-07-31T00:00:00",
          "2022-01-31T00:00:00",
          "2022-07-31T00:00:00",
          "2023-01-31T00:00:00"
         ],
         "xaxis": "x",
         "y": [
          0,
          20,
          44,
          5919,
          133524,
          211192,
          215952
         ],
         "yaxis": "y"
        },
        {
         "hovertemplate": "country=Latvia<br>date=%{x}<br>cumulative_cases=%{y}<extra></extra>",
         "legendgroup": "Latvia",
         "line": {
          "color": "#19d3f3",
          "dash": "solid"
         },
         "marker": {
          "symbol": "circle"
         },
         "mode": "lines+markers",
         "name": "Latvia",
         "showlegend": true,
         "type": "scattergl",
         "x": [
          "2020-01-31T00:00:00",
          "2020-07-31T00:00:00",
          "2021-01-31T00:00:00",
          "2021-07-31T00:00:00",
          "2022-01-31T00:00:00",
          "2022-07-31T00:00:00",
          "2023-01-31T00:00:00"
         ],
         "xaxis": "x",
         "y": [
          0,
          1231,
          66241,
          138863,
          392764,
          864051,
          937162
         ],
         "yaxis": "y"
        },
        {
         "hovertemplate": "country=Lebanon<br>date=%{x}<br>cumulative_cases=%{y}<extra></extra>",
         "legendgroup": "Lebanon",
         "line": {
          "color": "#FF6692",
          "dash": "solid"
         },
         "marker": {
          "symbol": "circle"
         },
         "mode": "lines+markers",
         "name": "Lebanon",
         "showlegend": true,
         "type": "scattergl",
         "x": [
          "2020-01-31T00:00:00",
          "2020-07-31T00:00:00",
          "2021-01-31T00:00:00",
          "2021-07-31T00:00:00",
          "2022-01-31T00:00:00",
          "2022-07-31T00:00:00",
          "2023-01-31T00:00:00"
         ],
         "xaxis": "x",
         "y": [
          0,
          4334,
          298913,
          560396,
          914929,
          1172269,
          1216381
         ],
         "yaxis": "y"
        },
        {
         "hovertemplate": "country=Lesotho<br>date=%{x}<br>cumulative_cases=%{y}<extra></extra>",
         "legendgroup": "Lesotho",
         "line": {
          "color": "#B6E880",
          "dash": "solid"
         },
         "marker": {
          "symbol": "circle"
         },
         "mode": "lines+markers",
         "name": "Lesotho",
         "showlegend": true,
         "type": "scattergl",
         "x": [
          "2020-01-31T00:00:00",
          "2020-07-31T00:00:00",
          "2021-01-31T00:00:00",
          "2021-07-31T00:00:00",
          "2022-01-31T00:00:00",
          "2022-07-31T00:00:00",
          "2023-01-31T00:00:00"
         ],
         "xaxis": "x",
         "y": [
          0,
          604,
          8649,
          12908,
          32250,
          34234,
          34490
         ],
         "yaxis": "y"
        },
        {
         "hovertemplate": "country=Liberia<br>date=%{x}<br>cumulative_cases=%{y}<extra></extra>",
         "legendgroup": "Liberia",
         "line": {
          "color": "#FF97FF",
          "dash": "solid"
         },
         "marker": {
          "symbol": "circle"
         },
         "mode": "lines+markers",
         "name": "Liberia",
         "showlegend": true,
         "type": "scattergl",
         "x": [
          "2020-01-31T00:00:00",
          "2020-07-31T00:00:00",
          "2021-01-31T00:00:00",
          "2021-07-31T00:00:00",
          "2022-01-31T00:00:00",
          "2022-07-31T00:00:00",
          "2023-01-31T00:00:00"
         ],
         "xaxis": "x",
         "y": [
          0,
          1183,
          1954,
          5558,
          7273,
          7548,
          7974
         ],
         "yaxis": "y"
        },
        {
         "hovertemplate": "country=Libya<br>date=%{x}<br>cumulative_cases=%{y}<extra></extra>",
         "legendgroup": "Libya",
         "line": {
          "color": "#FECB52",
          "dash": "solid"
         },
         "marker": {
          "symbol": "circle"
         },
         "mode": "lines+markers",
         "name": "Libya",
         "showlegend": true,
         "type": "scattergl",
         "x": [
          "2020-01-31T00:00:00",
          "2020-07-31T00:00:00",
          "2021-01-31T00:00:00",
          "2021-07-31T00:00:00",
          "2022-01-31T00:00:00",
          "2022-07-31T00:00:00",
          "2023-01-31T00:00:00"
         ],
         "xaxis": "x",
         "y": [
          0,
          3438,
          117650,
          249114,
          425237,
          504749,
          507009
         ],
         "yaxis": "y"
        },
        {
         "hovertemplate": "country=Liechtenstein<br>date=%{x}<br>cumulative_cases=%{y}<extra></extra>",
         "legendgroup": "Liechtenstein",
         "line": {
          "color": "#636efa",
          "dash": "solid"
         },
         "marker": {
          "symbol": "circle"
         },
         "mode": "lines+markers",
         "name": "Liechtenstein",
         "showlegend": true,
         "type": "scattergl",
         "x": [
          "2020-01-31T00:00:00",
          "2020-07-31T00:00:00",
          "2021-01-31T00:00:00",
          "2021-07-31T00:00:00",
          "2022-01-31T00:00:00",
          "2022-07-31T00:00:00",
          "2023-01-31T00:00:00"
         ],
         "xaxis": "x",
         "y": [
          0,
          89,
          2567,
          3189,
          9137,
          18704,
          19932
         ],
         "yaxis": "y"
        },
        {
         "hovertemplate": "country=Lithuania<br>date=%{x}<br>cumulative_cases=%{y}<extra></extra>",
         "legendgroup": "Lithuania",
         "line": {
          "color": "#EF553B",
          "dash": "solid"
         },
         "marker": {
          "symbol": "circle"
         },
         "mode": "lines+markers",
         "name": "Lithuania",
         "showlegend": true,
         "type": "scattergl",
         "x": [
          "2020-01-31T00:00:00",
          "2020-07-31T00:00:00",
          "2021-01-31T00:00:00",
          "2021-07-31T00:00:00",
          "2022-01-31T00:00:00",
          "2022-07-31T00:00:00",
          "2023-01-31T00:00:00"
         ],
         "xaxis": "x",
         "y": [
          0,
          2015,
          184447,
          283197,
          705157,
          1183600,
          1256003
         ],
         "yaxis": "y"
        },
        {
         "hovertemplate": "country=Luxembourg<br>date=%{x}<br>cumulative_cases=%{y}<extra></extra>",
         "legendgroup": "Luxembourg",
         "line": {
          "color": "#00cc96",
          "dash": "solid"
         },
         "marker": {
          "symbol": "circle"
         },
         "mode": "lines+markers",
         "name": "Luxembourg",
         "showlegend": true,
         "type": "scattergl",
         "x": [
          "2020-01-31T00:00:00",
          "2020-07-31T00:00:00",
          "2021-01-31T00:00:00",
          "2021-07-31T00:00:00",
          "2022-01-31T00:00:00",
          "2022-07-31T00:00:00",
          "2023-01-31T00:00:00"
         ],
         "xaxis": "x",
         "y": [
          0,
          5410,
          50446,
          73870,
          157852,
          282770,
          294408
         ],
         "yaxis": "y"
        },
        {
         "hovertemplate": "country=Madagascar<br>date=%{x}<br>cumulative_cases=%{y}<extra></extra>",
         "legendgroup": "Madagascar",
         "line": {
          "color": "#ab63fa",
          "dash": "solid"
         },
         "marker": {
          "symbol": "circle"
         },
         "mode": "lines+markers",
         "name": "Madagascar",
         "showlegend": true,
         "type": "scattergl",
         "x": [
          "2020-01-31T00:00:00",
          "2020-07-31T00:00:00",
          "2021-01-31T00:00:00",
          "2021-07-31T00:00:00",
          "2022-01-31T00:00:00",
          "2022-07-31T00:00:00",
          "2023-01-31T00:00:00"
         ],
         "xaxis": "x",
         "y": [
          0,
          10748,
          19065,
          42733,
          59319,
          66491,
          66684
         ],
         "yaxis": "y"
        },
        {
         "hovertemplate": "country=Malawi<br>date=%{x}<br>cumulative_cases=%{y}<extra></extra>",
         "legendgroup": "Malawi",
         "line": {
          "color": "#FFA15A",
          "dash": "solid"
         },
         "marker": {
          "symbol": "circle"
         },
         "mode": "lines+markers",
         "name": "Malawi",
         "showlegend": true,
         "type": "scattergl",
         "x": [
          "2020-01-31T00:00:00",
          "2020-07-31T00:00:00",
          "2021-01-31T00:00:00",
          "2021-07-31T00:00:00",
          "2022-01-31T00:00:00",
          "2022-07-31T00:00:00",
          "2023-01-31T00:00:00"
         ],
         "xaxis": "x",
         "y": [
          0,
          3981,
          23497,
          51809,
          84420,
          87365,
          88030
         ],
         "yaxis": "y"
        },
        {
         "hovertemplate": "country=Malaysia<br>date=%{x}<br>cumulative_cases=%{y}<extra></extra>",
         "legendgroup": "Malaysia",
         "line": {
          "color": "#19d3f3",
          "dash": "solid"
         },
         "marker": {
          "symbol": "circle"
         },
         "mode": "lines+markers",
         "name": "Malaysia",
         "showlegend": true,
         "type": "scattergl",
         "x": [
          "2020-01-31T00:00:00",
          "2020-07-31T00:00:00",
          "2021-01-31T00:00:00",
          "2021-07-31T00:00:00",
          "2022-01-31T00:00:00",
          "2022-07-31T00:00:00",
          "2023-01-31T00:00:00"
         ],
         "xaxis": "x",
         "y": [
          8,
          8964,
          209661,
          1095486,
          2865984,
          4677270,
          4850108
         ],
         "yaxis": "y"
        },
        {
         "hovertemplate": "country=Maldives<br>date=%{x}<br>cumulative_cases=%{y}<extra></extra>",
         "legendgroup": "Maldives",
         "line": {
          "color": "#FF6692",
          "dash": "solid"
         },
         "marker": {
          "symbol": "circle"
         },
         "mode": "lines+markers",
         "name": "Maldives",
         "showlegend": true,
         "type": "scattergl",
         "x": [
          "2020-01-31T00:00:00",
          "2020-07-31T00:00:00",
          "2021-01-31T00:00:00",
          "2021-07-31T00:00:00",
          "2022-01-31T00:00:00",
          "2022-07-31T00:00:00",
          "2023-01-31T00:00:00"
         ],
         "xaxis": "x",
         "y": [
          0,
          3793,
          15841,
          77432,
          138880,
          184485,
          185082
         ],
         "yaxis": "y"
        },
        {
         "hovertemplate": "country=Mali<br>date=%{x}<br>cumulative_cases=%{y}<extra></extra>",
         "legendgroup": "Mali",
         "line": {
          "color": "#B6E880",
          "dash": "solid"
         },
         "marker": {
          "symbol": "circle"
         },
         "mode": "lines+markers",
         "name": "Mali",
         "showlegend": true,
         "type": "scattergl",
         "x": [
          "2020-01-31T00:00:00",
          "2020-07-31T00:00:00",
          "2021-01-31T00:00:00",
          "2021-07-31T00:00:00",
          "2022-01-31T00:00:00",
          "2022-07-31T00:00:00",
          "2023-01-31T00:00:00"
         ],
         "xaxis": "x",
         "y": [
          0,
          2407,
          8069,
          14574,
          30045,
          31222,
          32689
         ],
         "yaxis": "y"
        },
        {
         "hovertemplate": "country=Malta<br>date=%{x}<br>cumulative_cases=%{y}<extra></extra>",
         "legendgroup": "Malta",
         "line": {
          "color": "#FF97FF",
          "dash": "solid"
         },
         "marker": {
          "symbol": "circle"
         },
         "mode": "lines+markers",
         "name": "Malta",
         "showlegend": true,
         "type": "scattergl",
         "x": [
          "2020-01-31T00:00:00",
          "2020-07-31T00:00:00",
          "2021-01-31T00:00:00",
          "2021-07-31T00:00:00",
          "2022-01-31T00:00:00",
          "2022-07-31T00:00:00",
          "2023-01-31T00:00:00"
         ],
         "xaxis": "x",
         "y": [
          0,
          824,
          18008,
          34400,
          67714,
          112828,
          114822
         ],
         "yaxis": "y"
        },
        {
         "hovertemplate": "country=Marshall Islands<br>date=%{x}<br>cumulative_cases=%{y}<extra></extra>",
         "legendgroup": "Marshall Islands",
         "line": {
          "color": "#FECB52",
          "dash": "solid"
         },
         "marker": {
          "symbol": "circle"
         },
         "mode": "lines+markers",
         "name": "Marshall Islands",
         "showlegend": true,
         "type": "scattergl",
         "x": [
          "2020-01-31T00:00:00",
          "2020-07-31T00:00:00",
          "2021-01-31T00:00:00",
          "2021-07-31T00:00:00",
          "2022-01-31T00:00:00",
          "2022-07-31T00:00:00",
          "2023-01-31T00:00:00"
         ],
         "xaxis": "x",
         "y": [
          0,
          0,
          4,
          4,
          7,
          64,
          15305
         ],
         "yaxis": "y"
        },
        {
         "hovertemplate": "country=Martinique<br>date=%{x}<br>cumulative_cases=%{y}<extra></extra>",
         "legendgroup": "Martinique",
         "line": {
          "color": "#636efa",
          "dash": "solid"
         },
         "marker": {
          "symbol": "circle"
         },
         "mode": "lines+markers",
         "name": "Martinique",
         "showlegend": true,
         "type": "scattergl",
         "x": [
          "2020-01-31T00:00:00",
          "2020-07-31T00:00:00",
          "2021-01-31T00:00:00",
          "2021-07-31T00:00:00",
          "2022-01-31T00:00:00",
          "2022-07-31T00:00:00",
          "2023-01-31T00:00:00"
         ],
         "xaxis": "x",
         "y": [
          0,
          269,
          6370,
          21753,
          87634,
          211572,
          221618
         ],
         "yaxis": "y"
        },
        {
         "hovertemplate": "country=Mauritania<br>date=%{x}<br>cumulative_cases=%{y}<extra></extra>",
         "legendgroup": "Mauritania",
         "line": {
          "color": "#EF553B",
          "dash": "solid"
         },
         "marker": {
          "symbol": "circle"
         },
         "mode": "lines+markers",
         "name": "Mauritania",
         "showlegend": true,
         "type": "scattergl",
         "x": [
          "2020-01-31T00:00:00",
          "2020-07-31T00:00:00",
          "2021-01-31T00:00:00",
          "2021-07-31T00:00:00",
          "2022-01-31T00:00:00",
          "2022-07-31T00:00:00",
          "2023-01-31T00:00:00"
         ],
         "xaxis": "x",
         "y": [
          0,
          6295,
          16608,
          25423,
          58198,
          62540,
          62826
         ],
         "yaxis": "y"
        },
        {
         "hovertemplate": "country=Mauritius<br>date=%{x}<br>cumulative_cases=%{y}<extra></extra>",
         "legendgroup": "Mauritius",
         "line": {
          "color": "#00cc96",
          "dash": "solid"
         },
         "marker": {
          "symbol": "circle"
         },
         "mode": "lines+markers",
         "name": "Mauritius",
         "showlegend": true,
         "type": "scattergl",
         "x": [
          "2020-01-31T00:00:00",
          "2020-07-31T00:00:00",
          "2021-01-31T00:00:00",
          "2021-07-31T00:00:00",
          "2022-01-31T00:00:00",
          "2022-07-31T00:00:00",
          "2023-01-31T00:00:00"
         ],
         "xaxis": "x",
         "y": [
          0,
          344,
          568,
          4214,
          105935,
          248327,
          262648
         ],
         "yaxis": "y"
        },
        {
         "hovertemplate": "country=Mayotte<br>date=%{x}<br>cumulative_cases=%{y}<extra></extra>",
         "legendgroup": "Mayotte",
         "line": {
          "color": "#ab63fa",
          "dash": "solid"
         },
         "marker": {
          "symbol": "circle"
         },
         "mode": "lines+markers",
         "name": "Mayotte",
         "showlegend": true,
         "type": "scattergl",
         "x": [
          "2020-01-31T00:00:00",
          "2020-07-31T00:00:00",
          "2021-01-31T00:00:00",
          "2021-07-31T00:00:00",
          "2022-01-31T00:00:00",
          "2022-07-31T00:00:00",
          "2023-01-31T00:00:00"
         ],
         "xaxis": "x",
         "y": [
          0,
          2962,
          8231,
          20176,
          36282,
          38959,
          40277
         ],
         "yaxis": "y"
        },
        {
         "hovertemplate": "country=Mexico<br>date=%{x}<br>cumulative_cases=%{y}<extra></extra>",
         "legendgroup": "Mexico",
         "line": {
          "color": "#FFA15A",
          "dash": "solid"
         },
         "marker": {
          "symbol": "circle"
         },
         "mode": "lines+markers",
         "name": "Mexico",
         "showlegend": true,
         "type": "scattergl",
         "x": [
          "2020-01-31T00:00:00",
          "2020-07-31T00:00:00",
          "2021-01-31T00:00:00",
          "2021-07-31T00:00:00",
          "2022-01-31T00:00:00",
          "2022-07-31T00:00:00",
          "2023-01-31T00:00:00"
         ],
         "xaxis": "x",
         "y": [
          0,
          482095,
          1936751,
          2904512,
          5362958,
          6860193,
          7090965
         ],
         "yaxis": "y"
        },
        {
         "hovertemplate": "country=Micronesia (Federated States of)<br>date=%{x}<br>cumulative_cases=%{y}<extra></extra>",
         "legendgroup": "Micronesia (Federated States of)",
         "line": {
          "color": "#19d3f3",
          "dash": "solid"
         },
         "marker": {
          "symbol": "circle"
         },
         "mode": "lines+markers",
         "name": "Micronesia (Federated States of)",
         "showlegend": true,
         "type": "scattergl",
         "x": [
          "2020-01-31T00:00:00",
          "2020-07-31T00:00:00",
          "2021-01-31T00:00:00",
          "2021-07-31T00:00:00",
          "2022-01-31T00:00:00",
          "2022-07-31T00:00:00",
          "2023-01-31T00:00:00"
         ],
         "xaxis": "x",
         "y": [
          0,
          0,
          0,
          0,
          0,
          5258,
          20833
         ],
         "yaxis": "y"
        },
        {
         "hovertemplate": "country=Monaco<br>date=%{x}<br>cumulative_cases=%{y}<extra></extra>",
         "legendgroup": "Monaco",
         "line": {
          "color": "#FF6692",
          "dash": "solid"
         },
         "marker": {
          "symbol": "circle"
         },
         "mode": "lines+markers",
         "name": "Monaco",
         "showlegend": true,
         "type": "scattergl",
         "x": [
          "2020-01-31T00:00:00",
          "2020-07-31T00:00:00",
          "2021-01-31T00:00:00",
          "2021-07-31T00:00:00",
          "2022-01-31T00:00:00",
          "2022-07-31T00:00:00",
          "2023-01-31T00:00:00"
         ],
         "xaxis": "x",
         "y": [
          0,
          84,
          1475,
          2873,
          8308,
          14106,
          14708
         ],
         "yaxis": "y"
        },
        {
         "hovertemplate": "country=Mongolia<br>date=%{x}<br>cumulative_cases=%{y}<extra></extra>",
         "legendgroup": "Mongolia",
         "line": {
          "color": "#B6E880",
          "dash": "solid"
         },
         "marker": {
          "symbol": "circle"
         },
         "mode": "lines+markers",
         "name": "Mongolia",
         "showlegend": true,
         "type": "scattergl",
         "x": [
          "2020-01-31T00:00:00",
          "2020-07-31T00:00:00",
          "2021-01-31T00:00:00",
          "2021-07-31T00:00:00",
          "2022-01-31T00:00:00",
          "2022-07-31T00:00:00",
          "2023-01-31T00:00:00"
         ],
         "xaxis": "x",
         "y": [
          0,
          291,
          1779,
          165147,
          841848,
          947022,
          983515
         ],
         "yaxis": "y"
        },
        {
         "hovertemplate": "country=Montenegro<br>date=%{x}<br>cumulative_cases=%{y}<extra></extra>",
         "legendgroup": "Montenegro",
         "line": {
          "color": "#FF97FF",
          "dash": "solid"
         },
         "marker": {
          "symbol": "circle"
         },
         "mode": "lines+markers",
         "name": "Montenegro",
         "showlegend": true,
         "type": "scattergl",
         "x": [
          "2020-01-31T00:00:00",
          "2020-07-31T00:00:00",
          "2021-01-31T00:00:00",
          "2021-07-31T00:00:00",
          "2022-01-31T00:00:00",
          "2022-07-31T00:00:00",
          "2023-01-31T00:00:00"
         ],
         "xaxis": "x",
         "y": [
          0,
          3061,
          61183,
          101786,
          219366,
          258554,
          280905
         ],
         "yaxis": "y"
        },
        {
         "hovertemplate": "country=Montserrat<br>date=%{x}<br>cumulative_cases=%{y}<extra></extra>",
         "legendgroup": "Montserrat",
         "line": {
          "color": "#FECB52",
          "dash": "solid"
         },
         "marker": {
          "symbol": "circle"
         },
         "mode": "lines+markers",
         "name": "Montserrat",
         "showlegend": true,
         "type": "scattergl",
         "x": [
          "2020-01-31T00:00:00",
          "2020-07-31T00:00:00",
          "2021-01-31T00:00:00",
          "2021-07-31T00:00:00",
          "2022-01-31T00:00:00",
          "2022-07-31T00:00:00",
          "2023-01-31T00:00:00"
         ],
         "xaxis": "x",
         "y": [
          0,
          13,
          13,
          21,
          163,
          1054,
          1403
         ],
         "yaxis": "y"
        },
        {
         "hovertemplate": "country=Morocco<br>date=%{x}<br>cumulative_cases=%{y}<extra></extra>",
         "legendgroup": "Morocco",
         "line": {
          "color": "#636efa",
          "dash": "solid"
         },
         "marker": {
          "symbol": "circle"
         },
         "mode": "lines+markers",
         "name": "Morocco",
         "showlegend": true,
         "type": "scattergl",
         "x": [
          "2020-01-31T00:00:00",
          "2020-07-31T00:00:00",
          "2021-01-31T00:00:00",
          "2021-07-31T00:00:00",
          "2022-01-31T00:00:00",
          "2022-07-31T00:00:00",
          "2023-01-31T00:00:00"
         ],
         "xaxis": "x",
         "y": [
          0,
          23259,
          470691,
          615999,
          1131395,
          1260759,
          1265032
         ],
         "yaxis": "y"
        },
        {
         "hovertemplate": "country=Mozambique<br>date=%{x}<br>cumulative_cases=%{y}<extra></extra>",
         "legendgroup": "Mozambique",
         "line": {
          "color": "#EF553B",
          "dash": "solid"
         },
         "marker": {
          "symbol": "circle"
         },
         "mode": "lines+markers",
         "name": "Mozambique",
         "showlegend": true,
         "type": "scattergl",
         "x": [
          "2020-01-31T00:00:00",
          "2020-07-31T00:00:00",
          "2021-01-31T00:00:00",
          "2021-07-31T00:00:00",
          "2022-01-31T00:00:00",
          "2022-07-31T00:00:00",
          "2023-01-31T00:00:00"
         ],
         "xaxis": "x",
         "y": [
          0,
          1808,
          37705,
          119950,
          223811,
          229564,
          230312
         ],
         "yaxis": "y"
        },
        {
         "hovertemplate": "country=Myanmar<br>date=%{x}<br>cumulative_cases=%{y}<extra></extra>",
         "legendgroup": "Myanmar",
         "line": {
          "color": "#00cc96",
          "dash": "solid"
         },
         "marker": {
          "symbol": "circle"
         },
         "mode": "lines+markers",
         "name": "Myanmar",
         "showlegend": true,
         "type": "scattergl",
         "x": [
          "2020-01-31T00:00:00",
          "2020-07-31T00:00:00",
          "2021-01-31T00:00:00",
          "2021-07-31T00:00:00",
          "2022-01-31T00:00:00",
          "2022-07-31T00:00:00",
          "2023-01-31T00:00:00"
         ],
         "xaxis": "x",
         "y": [
          0,
          353,
          140145,
          299185,
          535532,
          614092,
          625497
         ],
         "yaxis": "y"
        },
        {
         "hovertemplate": "country=Namibia<br>date=%{x}<br>cumulative_cases=%{y}<extra></extra>",
         "legendgroup": "Namibia",
         "line": {
          "color": "#ab63fa",
          "dash": "solid"
         },
         "marker": {
          "symbol": "circle"
         },
         "mode": "lines+markers",
         "name": "Namibia",
         "showlegend": true,
         "type": "scattergl",
         "x": [
          "2020-01-31T00:00:00",
          "2020-07-31T00:00:00",
          "2021-01-31T00:00:00",
          "2021-07-31T00:00:00",
          "2022-01-31T00:00:00",
          "2022-07-31T00:00:00",
          "2023-01-31T00:00:00"
         ],
         "xaxis": "x",
         "y": [
          0,
          2129,
          33940,
          119285,
          155899,
          166504,
          166774
         ],
         "yaxis": "y"
        },
        {
         "hovertemplate": "country=Nauru<br>date=%{x}<br>cumulative_cases=%{y}<extra></extra>",
         "legendgroup": "Nauru",
         "line": {
          "color": "#FFA15A",
          "dash": "solid"
         },
         "marker": {
          "symbol": "circle"
         },
         "mode": "lines+markers",
         "name": "Nauru",
         "showlegend": true,
         "type": "scattergl",
         "x": [
          "2020-01-31T00:00:00",
          "2020-07-31T00:00:00",
          "2021-01-31T00:00:00",
          "2021-07-31T00:00:00",
          "2022-01-31T00:00:00",
          "2022-07-31T00:00:00",
          "2023-01-31T00:00:00"
         ],
         "xaxis": "x",
         "y": [
          0,
          0,
          0,
          0,
          0,
          4407,
          4610
         ],
         "yaxis": "y"
        },
        {
         "hovertemplate": "country=Nepal<br>date=%{x}<br>cumulative_cases=%{y}<extra></extra>",
         "legendgroup": "Nepal",
         "line": {
          "color": "#19d3f3",
          "dash": "solid"
         },
         "marker": {
          "symbol": "circle"
         },
         "mode": "lines+markers",
         "name": "Nepal",
         "showlegend": true,
         "type": "scattergl",
         "x": [
          "2020-01-31T00:00:00",
          "2020-07-31T00:00:00",
          "2021-01-31T00:00:00",
          "2021-07-31T00:00:00",
          "2022-01-31T00:00:00",
          "2022-07-31T00:00:00",
          "2023-01-31T00:00:00"
         ],
         "xaxis": "x",
         "y": [
          5,
          19771,
          270959,
          695389,
          953913,
          986596,
          999860
         ],
         "yaxis": "y"
        },
        {
         "hovertemplate": "country=Netherlands<br>date=%{x}<br>cumulative_cases=%{y}<extra></extra>",
         "legendgroup": "Netherlands",
         "line": {
          "color": "#FF6692",
          "dash": "solid"
         },
         "marker": {
          "symbol": "circle"
         },
         "mode": "lines+markers",
         "name": "Netherlands",
         "showlegend": true,
         "type": "scattergl",
         "x": [
          "2020-01-31T00:00:00",
          "2020-07-31T00:00:00",
          "2021-01-31T00:00:00",
          "2021-07-31T00:00:00",
          "2022-01-31T00:00:00",
          "2022-07-31T00:00:00",
          "2023-01-31T00:00:00"
         ],
         "xaxis": "x",
         "y": [
          0,
          53890,
          973895,
          1862008,
          4309926,
          8334180,
          8441351
         ],
         "yaxis": "y"
        },
        {
         "hovertemplate": "country=New Caledonia<br>date=%{x}<br>cumulative_cases=%{y}<extra></extra>",
         "legendgroup": "New Caledonia",
         "line": {
          "color": "#B6E880",
          "dash": "solid"
         },
         "marker": {
          "symbol": "circle"
         },
         "mode": "lines+markers",
         "name": "New Caledonia",
         "showlegend": true,
         "type": "scattergl",
         "x": [
          "2020-01-31T00:00:00",
          "2020-07-31T00:00:00",
          "2021-01-31T00:00:00",
          "2021-07-31T00:00:00",
          "2022-01-31T00:00:00",
          "2022-07-31T00:00:00",
          "2023-01-31T00:00:00"
         ],
         "xaxis": "x",
         "y": [
          0,
          22,
          47,
          134,
          18779,
          69796,
          74315
         ],
         "yaxis": "y"
        },
        {
         "hovertemplate": "country=New Zealand<br>date=%{x}<br>cumulative_cases=%{y}<extra></extra>",
         "legendgroup": "New Zealand",
         "line": {
          "color": "#FF97FF",
          "dash": "solid"
         },
         "marker": {
          "symbol": "circle"
         },
         "mode": "lines+markers",
         "name": "New Zealand",
         "showlegend": true,
         "type": "scattergl",
         "x": [
          "2020-01-31T00:00:00",
          "2020-07-31T00:00:00",
          "2021-01-31T00:00:00",
          "2021-07-31T00:00:00",
          "2022-01-31T00:00:00",
          "2022-07-31T00:00:00",
          "2023-01-31T00:00:00"
         ],
         "xaxis": "x",
         "y": [
          0,
          1210,
          1948,
          2514,
          16040,
          1603378,
          1772016
         ],
         "yaxis": "y"
        },
        {
         "hovertemplate": "country=Nicaragua<br>date=%{x}<br>cumulative_cases=%{y}<extra></extra>",
         "legendgroup": "Nicaragua",
         "line": {
          "color": "#FECB52",
          "dash": "solid"
         },
         "marker": {
          "symbol": "circle"
         },
         "mode": "lines+markers",
         "name": "Nicaragua",
         "showlegend": true,
         "type": "scattergl",
         "x": [
          "2020-01-31T00:00:00",
          "2020-07-31T00:00:00",
          "2021-01-31T00:00:00",
          "2021-07-31T00:00:00",
          "2022-01-31T00:00:00",
          "2022-07-31T00:00:00",
          "2023-01-31T00:00:00"
         ],
         "xaxis": "x",
         "y": [
          0,
          3080,
          4992,
          7592,
          13681,
          14807,
          15092
         ],
         "yaxis": "y"
        },
        {
         "hovertemplate": "country=Niger<br>date=%{x}<br>cumulative_cases=%{y}<extra></extra>",
         "legendgroup": "Niger",
         "line": {
          "color": "#636efa",
          "dash": "solid"
         },
         "marker": {
          "symbol": "circle"
         },
         "mode": "lines+markers",
         "name": "Niger",
         "showlegend": true,
         "type": "scattergl",
         "x": [
          "2020-01-31T00:00:00",
          "2020-07-31T00:00:00",
          "2021-01-31T00:00:00",
          "2021-07-31T00:00:00",
          "2022-01-31T00:00:00",
          "2022-07-31T00:00:00",
          "2023-01-31T00:00:00"
         ],
         "xaxis": "x",
         "y": [
          0,
          1134,
          4516,
          5616,
          8649,
          9114,
          9412
         ],
         "yaxis": "y"
        },
        {
         "hovertemplate": "country=Nigeria<br>date=%{x}<br>cumulative_cases=%{y}<extra></extra>",
         "legendgroup": "Nigeria",
         "line": {
          "color": "#EF553B",
          "dash": "solid"
         },
         "marker": {
          "symbol": "circle"
         },
         "mode": "lines+markers",
         "name": "Nigeria",
         "showlegend": true,
         "type": "scattergl",
         "x": [
          "2020-01-31T00:00:00",
          "2020-07-31T00:00:00",
          "2021-01-31T00:00:00",
          "2021-07-31T00:00:00",
          "2022-01-31T00:00:00",
          "2022-07-31T00:00:00",
          "2023-01-31T00:00:00"
         ],
         "xaxis": "x",
         "y": [
          0,
          42689,
          130557,
          173411,
          253023,
          260977,
          265505
         ],
         "yaxis": "y"
        },
        {
         "hovertemplate": "country=Niue<br>date=%{x}<br>cumulative_cases=%{y}<extra></extra>",
         "legendgroup": "Niue",
         "line": {
          "color": "#00cc96",
          "dash": "solid"
         },
         "marker": {
          "symbol": "circle"
         },
         "mode": "lines+markers",
         "name": "Niue",
         "showlegend": true,
         "type": "scattergl",
         "x": [
          "2020-01-31T00:00:00",
          "2020-07-31T00:00:00",
          "2021-01-31T00:00:00",
          "2021-07-31T00:00:00",
          "2022-01-31T00:00:00",
          "2022-07-31T00:00:00",
          "2023-01-31T00:00:00"
         ],
         "xaxis": "x",
         "y": [
          0,
          0,
          0,
          0,
          0,
          47,
          81
         ],
         "yaxis": "y"
        },
        {
         "hovertemplate": "country=North Macedonia<br>date=%{x}<br>cumulative_cases=%{y}<extra></extra>",
         "legendgroup": "North Macedonia",
         "line": {
          "color": "#ab63fa",
          "dash": "solid"
         },
         "marker": {
          "symbol": "circle"
         },
         "mode": "lines+markers",
         "name": "North Macedonia",
         "showlegend": true,
         "type": "scattergl",
         "x": [
          "2020-01-31T00:00:00",
          "2020-07-31T00:00:00",
          "2021-01-31T00:00:00",
          "2021-07-31T00:00:00",
          "2022-01-31T00:00:00",
          "2022-07-31T00:00:00",
          "2023-01-31T00:00:00"
         ],
         "xaxis": "x",
         "y": [
          0,
          10617,
          92518,
          156299,
          268179,
          327009,
          343263
         ],
         "yaxis": "y"
        },
        {
         "hovertemplate": "country=Northern Mariana Islands (Commonwealth of the)<br>date=%{x}<br>cumulative_cases=%{y}<extra></extra>",
         "legendgroup": "Northern Mariana Islands (Commonwealth of the)",
         "line": {
          "color": "#FFA15A",
          "dash": "solid"
         },
         "marker": {
          "symbol": "circle"
         },
         "mode": "lines+markers",
         "name": "Northern Mariana Islands (Commonwealth of the)",
         "showlegend": true,
         "type": "scattergl",
         "x": [
          "2020-01-31T00:00:00",
          "2020-07-31T00:00:00",
          "2021-01-31T00:00:00",
          "2021-07-31T00:00:00",
          "2022-01-31T00:00:00",
          "2022-07-31T00:00:00",
          "2023-01-31T00:00:00"
         ],
         "xaxis": "x",
         "y": [
          0,
          42,
          132,
          190,
          4864,
          12732,
          13171
         ],
         "yaxis": "y"
        },
        {
         "hovertemplate": "country=Norway<br>date=%{x}<br>cumulative_cases=%{y}<extra></extra>",
         "legendgroup": "Norway",
         "line": {
          "color": "#19d3f3",
          "dash": "solid"
         },
         "marker": {
          "symbol": "circle"
         },
         "mode": "lines+markers",
         "name": "Norway",
         "showlegend": true,
         "type": "scattergl",
         "x": [
          "2020-01-31T00:00:00",
          "2020-07-31T00:00:00",
          "2021-01-31T00:00:00",
          "2021-07-31T00:00:00",
          "2022-01-31T00:00:00",
          "2022-07-31T00:00:00",
          "2023-01-31T00:00:00"
         ],
         "xaxis": "x",
         "y": [
          0,
          9214,
          63036,
          137578,
          767041,
          1455837,
          1462731
         ],
         "yaxis": "y"
        },
        {
         "hovertemplate": "country=Oman<br>date=%{x}<br>cumulative_cases=%{y}<extra></extra>",
         "legendgroup": "Oman",
         "line": {
          "color": "#FF6692",
          "dash": "solid"
         },
         "marker": {
          "symbol": "circle"
         },
         "mode": "lines+markers",
         "name": "Oman",
         "showlegend": true,
         "type": "scattergl",
         "x": [
          "2020-01-31T00:00:00",
          "2020-07-31T00:00:00",
          "2021-01-31T00:00:00",
          "2021-07-31T00:00:00",
          "2022-01-31T00:00:00",
          "2022-07-31T00:00:00",
          "2023-01-31T00:00:00"
         ],
         "xaxis": "x",
         "y": [
          0,
          79159,
          133728,
          296249,
          336460,
          395737,
          398424
         ],
         "yaxis": "y"
        },
        {
         "hovertemplate": "country=Other<br>date=%{x}<br>cumulative_cases=%{y}<extra></extra>",
         "legendgroup": "Other",
         "line": {
          "color": "#B6E880",
          "dash": "solid"
         },
         "marker": {
          "symbol": "circle"
         },
         "mode": "lines+markers",
         "name": "Other",
         "showlegend": true,
         "type": "scattergl",
         "x": [
          "2020-01-31T00:00:00",
          "2020-07-31T00:00:00",
          "2021-01-31T00:00:00",
          "2021-07-31T00:00:00",
          "2022-01-31T00:00:00",
          "2022-07-31T00:00:00",
          "2023-01-31T00:00:00"
         ],
         "xaxis": "x",
         "y": [
          0,
          741,
          745,
          764,
          764,
          764,
          764
         ],
         "yaxis": "y"
        },
        {
         "hovertemplate": "country=Pakistan<br>date=%{x}<br>cumulative_cases=%{y}<extra></extra>",
         "legendgroup": "Pakistan",
         "line": {
          "color": "#FF97FF",
          "dash": "solid"
         },
         "marker": {
          "symbol": "circle"
         },
         "mode": "lines+markers",
         "name": "Pakistan",
         "showlegend": true,
         "type": "scattergl",
         "x": [
          "2020-01-31T00:00:00",
          "2020-07-31T00:00:00",
          "2021-01-31T00:00:00",
          "2021-07-31T00:00:00",
          "2022-01-31T00:00:00",
          "2022-07-31T00:00:00",
          "2023-01-31T00:00:00"
         ],
         "xaxis": "x",
         "y": [
          0,
          278305,
          543214,
          1024861,
          1417991,
          1553930,
          1572778
         ],
         "yaxis": "y"
        },
        {
         "hovertemplate": "country=Palau<br>date=%{x}<br>cumulative_cases=%{y}<extra></extra>",
         "legendgroup": "Palau",
         "line": {
          "color": "#FECB52",
          "dash": "solid"
         },
         "marker": {
          "symbol": "circle"
         },
         "mode": "lines+markers",
         "name": "Palau",
         "showlegend": true,
         "type": "scattergl",
         "x": [
          "2020-01-31T00:00:00",
          "2020-07-31T00:00:00",
          "2021-01-31T00:00:00",
          "2021-07-31T00:00:00",
          "2022-01-31T00:00:00",
          "2022-07-31T00:00:00",
          "2023-01-31T00:00:00"
         ],
         "xaxis": "x",
         "y": [
          0,
          0,
          0,
          0,
          1527,
          5232,
          5460
         ],
         "yaxis": "y"
        },
        {
         "hovertemplate": "country=Panama<br>date=%{x}<br>cumulative_cases=%{y}<extra></extra>",
         "legendgroup": "Panama",
         "line": {
          "color": "#636efa",
          "dash": "solid"
         },
         "marker": {
          "symbol": "circle"
         },
         "mode": "lines+markers",
         "name": "Panama",
         "showlegend": true,
         "type": "scattergl",
         "x": [
          "2020-01-31T00:00:00",
          "2020-07-31T00:00:00",
          "2021-01-31T00:00:00",
          "2021-07-31T00:00:00",
          "2022-01-31T00:00:00",
          "2022-07-31T00:00:00",
          "2023-01-31T00:00:00"
         ],
         "xaxis": "x",
         "y": [
          0,
          63269,
          318253,
          433545,
          692634,
          954369,
          987613
         ],
         "yaxis": "y"
        },
        {
         "hovertemplate": "country=Papua New Guinea<br>date=%{x}<br>cumulative_cases=%{y}<extra></extra>",
         "legendgroup": "Papua New Guinea",
         "line": {
          "color": "#EF553B",
          "dash": "solid"
         },
         "marker": {
          "symbol": "circle"
         },
         "mode": "lines+markers",
         "name": "Papua New Guinea",
         "showlegend": true,
         "type": "scattergl",
         "x": [
          "2020-01-31T00:00:00",
          "2020-07-31T00:00:00",
          "2021-01-31T00:00:00",
          "2021-07-31T00:00:00",
          "2022-01-31T00:00:00",
          "2022-07-31T00:00:00",
          "2023-01-31T00:00:00"
         ],
         "xaxis": "x",
         "y": [
          0,
          63,
          851,
          17774,
          37145,
          44789,
          45091
         ],
         "yaxis": "y"
        },
        {
         "hovertemplate": "country=Paraguay<br>date=%{x}<br>cumulative_cases=%{y}<extra></extra>",
         "legendgroup": "Paraguay",
         "line": {
          "color": "#00cc96",
          "dash": "solid"
         },
         "marker": {
          "symbol": "circle"
         },
         "mode": "lines+markers",
         "name": "Paraguay",
         "showlegend": true,
         "type": "scattergl",
         "x": [
          "2020-01-31T00:00:00",
          "2020-07-31T00:00:00",
          "2021-01-31T00:00:00",
          "2021-07-31T00:00:00",
          "2022-01-31T00:00:00",
          "2022-07-31T00:00:00",
          "2023-01-31T00:00:00"
         ],
         "xaxis": "x",
         "y": [
          0,
          4866,
          131886,
          451695,
          570469,
          707109,
          716543
         ],
         "yaxis": "y"
        },
        {
         "hovertemplate": "country=Peru<br>date=%{x}<br>cumulative_cases=%{y}<extra></extra>",
         "legendgroup": "Peru",
         "line": {
          "color": "#ab63fa",
          "dash": "solid"
         },
         "marker": {
          "symbol": "circle"
         },
         "mode": "lines+markers",
         "name": "Peru",
         "showlegend": true,
         "type": "scattergl",
         "x": [
          "2020-01-31T00:00:00",
          "2020-07-31T00:00:00",
          "2021-01-31T00:00:00",
          "2021-07-31T00:00:00",
          "2022-01-31T00:00:00",
          "2022-07-31T00:00:00",
          "2023-01-31T00:00:00"
         ],
         "xaxis": "x",
         "y": [
          0,
          400683,
          1125875,
          2108595,
          3196488,
          3895496,
          4146858
         ],
         "yaxis": "y"
        },
        {
         "hovertemplate": "country=Philippines<br>date=%{x}<br>cumulative_cases=%{y}<extra></extra>",
         "legendgroup": "Philippines",
         "line": {
          "color": "#FFA15A",
          "dash": "solid"
         },
         "marker": {
          "symbol": "circle"
         },
         "mode": "lines+markers",
         "name": "Philippines",
         "showlegend": true,
         "type": "scattergl",
         "x": [
          "2020-01-31T00:00:00",
          "2020-07-31T00:00:00",
          "2021-01-31T00:00:00",
          "2021-07-31T00:00:00",
          "2022-01-31T00:00:00",
          "2022-07-31T00:00:00",
          "2023-01-31T00:00:00"
         ],
         "xaxis": "x",
         "y": [
          1,
          89291,
          523515,
          1580818,
          3545656,
          3772468,
          3961349
         ],
         "yaxis": "y"
        },
        {
         "hovertemplate": "country=Pitcairn Islands<br>date=%{x}<br>cumulative_cases=%{y}<extra></extra>",
         "legendgroup": "Pitcairn Islands",
         "line": {
          "color": "#19d3f3",
          "dash": "solid"
         },
         "marker": {
          "symbol": "circle"
         },
         "mode": "lines+markers",
         "name": "Pitcairn Islands",
         "showlegend": true,
         "type": "scattergl",
         "x": [
          "2020-01-31T00:00:00",
          "2020-07-31T00:00:00",
          "2021-01-31T00:00:00",
          "2021-07-31T00:00:00",
          "2022-01-31T00:00:00",
          "2022-07-31T00:00:00",
          "2023-01-31T00:00:00"
         ],
         "xaxis": "x",
         "y": [
          0,
          0,
          0,
          0,
          0,
          4,
          4
         ],
         "yaxis": "y"
        },
        {
         "hovertemplate": "country=Poland<br>date=%{x}<br>cumulative_cases=%{y}<extra></extra>",
         "legendgroup": "Poland",
         "line": {
          "color": "#FF6692",
          "dash": "solid"
         },
         "marker": {
          "symbol": "circle"
         },
         "mode": "lines+markers",
         "name": "Poland",
         "showlegend": true,
         "type": "scattergl",
         "x": [
          "2020-01-31T00:00:00",
          "2020-07-31T00:00:00",
          "2021-01-31T00:00:00",
          "2021-07-31T00:00:00",
          "2022-01-31T00:00:00",
          "2022-07-31T00:00:00",
          "2023-01-31T00:00:00"
         ],
         "xaxis": "x",
         "y": [
          0,
          45031,
          1516168,
          2884881,
          4887666,
          6069665,
          6310973
         ],
         "yaxis": "y"
        },
        {
         "hovertemplate": "country=Portugal<br>date=%{x}<br>cumulative_cases=%{y}<extra></extra>",
         "legendgroup": "Portugal",
         "line": {
          "color": "#B6E880",
          "dash": "solid"
         },
         "marker": {
          "symbol": "circle"
         },
         "mode": "lines+markers",
         "name": "Portugal",
         "showlegend": true,
         "type": "scattergl",
         "x": [
          "2020-01-31T00:00:00",
          "2020-07-31T00:00:00",
          "2021-01-31T00:00:00",
          "2021-07-31T00:00:00",
          "2022-01-31T00:00:00",
          "2022-07-31T00:00:00",
          "2023-01-31T00:00:00"
         ],
         "xaxis": "x",
         "y": [
          0,
          51710,
          674543,
          962753,
          2680223,
          5334888,
          5493540
         ],
         "yaxis": "y"
        },
        {
         "hovertemplate": "country=Puerto Rico<br>date=%{x}<br>cumulative_cases=%{y}<extra></extra>",
         "legendgroup": "Puerto Rico",
         "line": {
          "color": "#FF97FF",
          "dash": "solid"
         },
         "marker": {
          "symbol": "circle"
         },
         "mode": "lines+markers",
         "name": "Puerto Rico",
         "showlegend": true,
         "type": "scattergl",
         "x": [
          "2020-01-31T00:00:00",
          "2020-07-31T00:00:00",
          "2021-01-31T00:00:00",
          "2021-07-31T00:00:00",
          "2022-01-31T00:00:00",
          "2022-07-31T00:00:00",
          "2023-01-31T00:00:00"
         ],
         "xaxis": "x",
         "y": [
          0,
          16572,
          93406,
          145487,
          456623,
          850593,
          960724
         ],
         "yaxis": "y"
        },
        {
         "hovertemplate": "country=Qatar<br>date=%{x}<br>cumulative_cases=%{y}<extra></extra>",
         "legendgroup": "Qatar",
         "line": {
          "color": "#FECB52",
          "dash": "solid"
         },
         "marker": {
          "symbol": "circle"
         },
         "mode": "lines+markers",
         "name": "Qatar",
         "showlegend": true,
         "type": "scattergl",
         "x": [
          "2020-01-31T00:00:00",
          "2020-07-31T00:00:00",
          "2021-01-31T00:00:00",
          "2021-07-31T00:00:00",
          "2022-01-31T00:00:00",
          "2022-07-31T00:00:00",
          "2023-01-31T00:00:00"
         ],
         "xaxis": "x",
         "y": [
          0,
          110460,
          150984,
          226077,
          337638,
          407749,
          455021
         ],
         "yaxis": "y"
        },
        {
         "hovertemplate": "country=Republic of Korea<br>date=%{x}<br>cumulative_cases=%{y}<extra></extra>",
         "legendgroup": "Republic of Korea",
         "line": {
          "color": "#636efa",
          "dash": "solid"
         },
         "marker": {
          "symbol": "circle"
         },
         "mode": "lines+markers",
         "name": "Republic of Korea",
         "showlegend": true,
         "type": "scattergl",
         "x": [
          "2020-01-31T00:00:00",
          "2020-07-31T00:00:00",
          "2021-01-31T00:00:00",
          "2021-07-31T00:00:00",
          "2022-01-31T00:00:00",
          "2022-07-31T00:00:00",
          "2023-01-31T00:00:00"
         ],
         "xaxis": "x",
         "y": [
          11,
          14305,
          78198,
          198345,
          845699,
          19776050,
          24933756
         ],
         "yaxis": "y"
        },
        {
         "hovertemplate": "country=Republic of Moldova<br>date=%{x}<br>cumulative_cases=%{y}<extra></extra>",
         "legendgroup": "Republic of Moldova",
         "line": {
          "color": "#EF553B",
          "dash": "solid"
         },
         "marker": {
          "symbol": "circle"
         },
         "mode": "lines+markers",
         "name": "Republic of Moldova",
         "showlegend": true,
         "type": "scattergl",
         "x": [
          "2020-01-31T00:00:00",
          "2020-07-31T00:00:00",
          "2021-01-31T00:00:00",
          "2021-07-31T00:00:00",
          "2022-01-31T00:00:00",
          "2022-07-31T00:00:00",
          "2023-01-31T00:00:00"
         ],
         "xaxis": "x",
         "y": [
          0,
          24343,
          159513,
          259356,
          440698,
          532187,
          590811
         ],
         "yaxis": "y"
        },
        {
         "hovertemplate": "country=Romania<br>date=%{x}<br>cumulative_cases=%{y}<extra></extra>",
         "legendgroup": "Romania",
         "line": {
          "color": "#00cc96",
          "dash": "solid"
         },
         "marker": {
          "symbol": "circle"
         },
         "mode": "lines+markers",
         "name": "Romania",
         "showlegend": true,
         "type": "scattergl",
         "x": [
          "2020-01-31T00:00:00",
          "2020-07-31T00:00:00",
          "2021-01-31T00:00:00",
          "2021-07-31T00:00:00",
          "2022-01-31T00:00:00",
          "2022-07-31T00:00:00",
          "2023-01-31T00:00:00"
         ],
         "xaxis": "x",
         "y": [
          0,
          49591,
          726918,
          1083033,
          2196394,
          3059568,
          3273914
         ],
         "yaxis": "y"
        },
        {
         "hovertemplate": "country=Russian Federation<br>date=%{x}<br>cumulative_cases=%{y}<extra></extra>",
         "legendgroup": "Russian Federation",
         "line": {
          "color": "#ab63fa",
          "dash": "solid"
         },
         "marker": {
          "symbol": "circle"
         },
         "mode": "lines+markers",
         "name": "Russian Federation",
         "showlegend": true,
         "type": "scattergl",
         "x": [
          "2020-01-31T00:00:00",
          "2020-07-31T00:00:00",
          "2021-01-31T00:00:00",
          "2021-07-31T00:00:00",
          "2022-01-31T00:00:00",
          "2022-07-31T00:00:00",
          "2023-01-31T00:00:00"
         ],
         "xaxis": "x",
         "y": [
          2,
          839981,
          3850439,
          6265873,
          11861077,
          18601719,
          21163942
         ],
         "yaxis": "y"
        },
        {
         "hovertemplate": "country=Rwanda<br>date=%{x}<br>cumulative_cases=%{y}<extra></extra>",
         "legendgroup": "Rwanda",
         "line": {
          "color": "#FFA15A",
          "dash": "solid"
         },
         "marker": {
          "symbol": "circle"
         },
         "mode": "lines+markers",
         "name": "Rwanda",
         "showlegend": true,
         "type": "scattergl",
         "x": [
          "2020-01-31T00:00:00",
          "2020-07-31T00:00:00",
          "2021-01-31T00:00:00",
          "2021-07-31T00:00:00",
          "2022-01-31T00:00:00",
          "2022-07-31T00:00:00",
          "2023-01-31T00:00:00"
         ],
         "xaxis": "x",
         "y": [
          0,
          1994,
          15118,
          69838,
          128841,
          132267,
          132508
         ],
         "yaxis": "y"
        },
        {
         "hovertemplate": "country=Réunion<br>date=%{x}<br>cumulative_cases=%{y}<extra></extra>",
         "legendgroup": "Réunion",
         "line": {
          "color": "#19d3f3",
          "dash": "solid"
         },
         "marker": {
          "symbol": "circle"
         },
         "mode": "lines+markers",
         "name": "Réunion",
         "showlegend": true,
         "type": "scattergl",
         "x": [
          "2020-01-31T00:00:00",
          "2020-07-31T00:00:00",
          "2021-01-31T00:00:00",
          "2021-07-31T00:00:00",
          "2022-01-31T00:00:00",
          "2022-07-31T00:00:00",
          "2023-01-31T00:00:00"
         ],
         "xaxis": "x",
         "y": [
          0,
          657,
          9996,
          37231,
          180531,
          439159,
          476927
         ],
         "yaxis": "y"
        },
        {
         "hovertemplate": "country=Saba<br>date=%{x}<br>cumulative_cases=%{y}<extra></extra>",
         "legendgroup": "Saba",
         "line": {
          "color": "#FF6692",
          "dash": "solid"
         },
         "marker": {
          "symbol": "circle"
         },
         "mode": "lines+markers",
         "name": "Saba",
         "showlegend": true,
         "type": "scattergl",
         "x": [
          "2020-01-31T00:00:00",
          "2020-07-31T00:00:00",
          "2021-01-31T00:00:00",
          "2021-07-31T00:00:00",
          "2022-01-31T00:00:00",
          "2022-07-31T00:00:00",
          "2023-01-31T00:00:00"
         ],
         "xaxis": "x",
         "y": [
          0,
          3,
          19,
          7,
          199,
          652,
          730
         ],
         "yaxis": "y"
        },
        {
         "hovertemplate": "country=Saint Barthélemy<br>date=%{x}<br>cumulative_cases=%{y}<extra></extra>",
         "legendgroup": "Saint Barthélemy",
         "line": {
          "color": "#B6E880",
          "dash": "solid"
         },
         "marker": {
          "symbol": "circle"
         },
         "mode": "lines+markers",
         "name": "Saint Barthélemy",
         "showlegend": true,
         "type": "scattergl",
         "x": [
          "2020-01-31T00:00:00",
          "2020-07-31T00:00:00",
          "2021-01-31T00:00:00",
          "2021-07-31T00:00:00",
          "2022-01-31T00:00:00",
          "2022-07-31T00:00:00",
          "2023-01-31T00:00:00"
         ],
         "xaxis": "x",
         "y": [
          0,
          8,
          379,
          1335,
          3542,
          5138,
          5285
         ],
         "yaxis": "y"
        },
        {
         "hovertemplate": "country=Saint Helena<br>date=%{x}<br>cumulative_cases=%{y}<extra></extra>",
         "legendgroup": "Saint Helena",
         "line": {
          "color": "#FF97FF",
          "dash": "solid"
         },
         "marker": {
          "symbol": "circle"
         },
         "mode": "lines+markers",
         "name": "Saint Helena",
         "showlegend": true,
         "type": "scattergl",
         "x": [
          "2020-01-31T00:00:00",
          "2020-07-31T00:00:00",
          "2021-01-31T00:00:00",
          "2021-07-31T00:00:00",
          "2022-01-31T00:00:00",
          "2022-07-31T00:00:00",
          "2023-01-31T00:00:00"
         ],
         "xaxis": "x",
         "y": [
          0,
          0,
          0,
          0,
          0,
          0,
          1826
         ],
         "yaxis": "y"
        },
        {
         "hovertemplate": "country=Saint Kitts and Nevis<br>date=%{x}<br>cumulative_cases=%{y}<extra></extra>",
         "legendgroup": "Saint Kitts and Nevis",
         "line": {
          "color": "#FECB52",
          "dash": "solid"
         },
         "marker": {
          "symbol": "circle"
         },
         "mode": "lines+markers",
         "name": "Saint Kitts and Nevis",
         "showlegend": true,
         "type": "scattergl",
         "x": [
          "2020-01-31T00:00:00",
          "2020-07-31T00:00:00",
          "2021-01-31T00:00:00",
          "2021-07-31T00:00:00",
          "2022-01-31T00:00:00",
          "2022-07-31T00:00:00",
          "2023-01-31T00:00:00"
         ],
         "xaxis": "x",
         "y": [
          0,
          17,
          37,
          589,
          5419,
          6456,
          6545
         ],
         "yaxis": "y"
        },
        {
         "hovertemplate": "country=Saint Lucia<br>date=%{x}<br>cumulative_cases=%{y}<extra></extra>",
         "legendgroup": "Saint Lucia",
         "line": {
          "color": "#636efa",
          "dash": "solid"
         },
         "marker": {
          "symbol": "circle"
         },
         "mode": "lines+markers",
         "name": "Saint Lucia",
         "showlegend": true,
         "type": "scattergl",
         "x": [
          "2020-01-31T00:00:00",
          "2020-07-31T00:00:00",
          "2021-01-31T00:00:00",
          "2021-07-31T00:00:00",
          "2022-01-31T00:00:00",
          "2022-07-31T00:00:00",
          "2023-01-31T00:00:00"
         ],
         "xaxis": "x",
         "y": [
          0,
          25,
          1195,
          5567,
          20798,
          27966,
          29517
         ],
         "yaxis": "y"
        },
        {
         "hovertemplate": "country=Saint Martin<br>date=%{x}<br>cumulative_cases=%{y}<extra></extra>",
         "legendgroup": "Saint Martin",
         "line": {
          "color": "#EF553B",
          "dash": "solid"
         },
         "marker": {
          "symbol": "circle"
         },
         "mode": "lines+markers",
         "name": "Saint Martin",
         "showlegend": true,
         "type": "scattergl",
         "x": [
          "2020-01-31T00:00:00",
          "2020-07-31T00:00:00",
          "2021-01-31T00:00:00",
          "2021-07-31T00:00:00",
          "2022-01-31T00:00:00",
          "2022-07-31T00:00:00",
          "2023-01-31T00:00:00"
         ],
         "xaxis": "x",
         "y": [
          0,
          53,
          1289,
          2641,
          9606,
          11667,
          11978
         ],
         "yaxis": "y"
        },
        {
         "hovertemplate": "country=Saint Pierre and Miquelon<br>date=%{x}<br>cumulative_cases=%{y}<extra></extra>",
         "legendgroup": "Saint Pierre and Miquelon",
         "line": {
          "color": "#00cc96",
          "dash": "solid"
         },
         "marker": {
          "symbol": "circle"
         },
         "mode": "lines+markers",
         "name": "Saint Pierre and Miquelon",
         "showlegend": true,
         "type": "scattergl",
         "x": [
          "2020-01-31T00:00:00",
          "2020-07-31T00:00:00",
          "2021-01-31T00:00:00",
          "2021-07-31T00:00:00",
          "2022-01-31T00:00:00",
          "2022-07-31T00:00:00",
          "2023-01-31T00:00:00"
         ],
         "xaxis": "x",
         "y": [
          0,
          4,
          24,
          28,
          628,
          3083,
          3231
         ],
         "yaxis": "y"
        },
        {
         "hovertemplate": "country=Saint Vincent and the Grenadines<br>date=%{x}<br>cumulative_cases=%{y}<extra></extra>",
         "legendgroup": "Saint Vincent and the Grenadines",
         "line": {
          "color": "#ab63fa",
          "dash": "solid"
         },
         "marker": {
          "symbol": "circle"
         },
         "mode": "lines+markers",
         "name": "Saint Vincent and the Grenadines",
         "showlegend": true,
         "type": "scattergl",
         "x": [
          "2020-01-31T00:00:00",
          "2020-07-31T00:00:00",
          "2021-01-31T00:00:00",
          "2021-07-31T00:00:00",
          "2022-01-31T00:00:00",
          "2022-07-31T00:00:00",
          "2023-01-31T00:00:00"
         ],
         "xaxis": "x",
         "y": [
          0,
          52,
          896,
          2291,
          7903,
          9363,
          9448
         ],
         "yaxis": "y"
        },
        {
         "hovertemplate": "country=Samoa<br>date=%{x}<br>cumulative_cases=%{y}<extra></extra>",
         "legendgroup": "Samoa",
         "line": {
          "color": "#FFA15A",
          "dash": "solid"
         },
         "marker": {
          "symbol": "circle"
         },
         "mode": "lines+markers",
         "name": "Samoa",
         "showlegend": true,
         "type": "scattergl",
         "x": [
          "2020-01-31T00:00:00",
          "2020-07-31T00:00:00",
          "2021-01-31T00:00:00",
          "2021-07-31T00:00:00",
          "2022-01-31T00:00:00",
          "2022-07-31T00:00:00",
          "2023-01-31T00:00:00"
         ],
         "xaxis": "x",
         "y": [
          0,
          0,
          1,
          1,
          32,
          15405,
          15942
         ],
         "yaxis": "y"
        },
        {
         "hovertemplate": "country=San Marino<br>date=%{x}<br>cumulative_cases=%{y}<extra></extra>",
         "legendgroup": "San Marino",
         "line": {
          "color": "#19d3f3",
          "dash": "solid"
         },
         "marker": {
          "symbol": "circle"
         },
         "mode": "lines+markers",
         "name": "San Marino",
         "showlegend": true,
         "type": "scattergl",
         "x": [
          "2020-01-31T00:00:00",
          "2020-07-31T00:00:00",
          "2021-01-31T00:00:00",
          "2021-07-31T00:00:00",
          "2022-01-31T00:00:00",
          "2022-07-31T00:00:00",
          "2023-01-31T00:00:00"
         ],
         "xaxis": "x",
         "y": [
          0,
          718,
          3083,
          5191,
          12994,
          19901,
          21002
         ],
         "yaxis": "y"
        },
        {
         "hovertemplate": "country=Sao Tome and Principe<br>date=%{x}<br>cumulative_cases=%{y}<extra></extra>",
         "legendgroup": "Sao Tome and Principe",
         "line": {
          "color": "#FF6692",
          "dash": "solid"
         },
         "marker": {
          "symbol": "circle"
         },
         "mode": "lines+markers",
         "name": "Sao Tome and Principe",
         "showlegend": true,
         "type": "scattergl",
         "x": [
          "2020-01-31T00:00:00",
          "2020-07-31T00:00:00",
          "2021-01-31T00:00:00",
          "2021-07-31T00:00:00",
          "2022-01-31T00:00:00",
          "2022-07-31T00:00:00",
          "2023-01-31T00:00:00"
         ],
         "xaxis": "x",
         "y": [
          0,
          870,
          1256,
          2446,
          5885,
          6100,
          6236
         ],
         "yaxis": "y"
        },
        {
         "hovertemplate": "country=Saudi Arabia<br>date=%{x}<br>cumulative_cases=%{y}<extra></extra>",
         "legendgroup": "Saudi Arabia",
         "line": {
          "color": "#B6E880",
          "dash": "solid"
         },
         "marker": {
          "symbol": "circle"
         },
         "mode": "lines+markers",
         "name": "Saudi Arabia",
         "showlegend": true,
         "type": "scattergl",
         "x": [
          "2020-01-31T00:00:00",
          "2020-07-31T00:00:00",
          "2021-01-31T00:00:00",
          "2021-07-31T00:00:00",
          "2022-01-31T00:00:00",
          "2022-07-31T00:00:00",
          "2023-01-31T00:00:00"
         ],
         "xaxis": "x",
         "y": [
          0,
          274219,
          367813,
          524584,
          683053,
          809449,
          817127
         ],
         "yaxis": "y"
        },
        {
         "hovertemplate": "country=Senegal<br>date=%{x}<br>cumulative_cases=%{y}<extra></extra>",
         "legendgroup": "Senegal",
         "line": {
          "color": "#FF97FF",
          "dash": "solid"
         },
         "marker": {
          "symbol": "circle"
         },
         "mode": "lines+markers",
         "name": "Senegal",
         "showlegend": true,
         "type": "scattergl",
         "x": [
          "2020-01-31T00:00:00",
          "2020-07-31T00:00:00",
          "2021-01-31T00:00:00",
          "2021-07-31T00:00:00",
          "2022-01-31T00:00:00",
          "2022-07-31T00:00:00",
          "2023-01-31T00:00:00"
         ],
         "xaxis": "x",
         "y": [
          0,
          10106,
          26213,
          61245,
          84936,
          87342,
          88477
         ],
         "yaxis": "y"
        },
        {
         "hovertemplate": "country=Serbia<br>date=%{x}<br>cumulative_cases=%{y}<extra></extra>",
         "legendgroup": "Serbia",
         "line": {
          "color": "#FECB52",
          "dash": "solid"
         },
         "marker": {
          "symbol": "circle"
         },
         "mode": "lines+markers",
         "name": "Serbia",
         "showlegend": true,
         "type": "scattergl",
         "x": [
          "2020-01-31T00:00:00",
          "2020-07-31T00:00:00",
          "2021-01-31T00:00:00",
          "2021-07-31T00:00:00",
          "2022-01-31T00:00:00",
          "2022-07-31T00:00:00",
          "2023-01-31T00:00:00"
         ],
         "xaxis": "x",
         "y": [
          0,
          25213,
          393897,
          721620,
          1662446,
          2118673,
          2373346
         ],
         "yaxis": "y"
        },
        {
         "hovertemplate": "country=Seychelles<br>date=%{x}<br>cumulative_cases=%{y}<extra></extra>",
         "legendgroup": "Seychelles",
         "line": {
          "color": "#636efa",
          "dash": "solid"
         },
         "marker": {
          "symbol": "circle"
         },
         "mode": "lines+markers",
         "name": "Seychelles",
         "showlegend": true,
         "type": "scattergl",
         "x": [
          "2020-01-31T00:00:00",
          "2020-07-31T00:00:00",
          "2021-01-31T00:00:00",
          "2021-07-31T00:00:00",
          "2022-01-31T00:00:00",
          "2022-07-31T00:00:00",
          "2023-01-31T00:00:00"
         ],
         "xaxis": "x",
         "y": [
          0,
          126,
          1224,
          18328,
          37122,
          45429,
          47141
         ],
         "yaxis": "y"
        },
        {
         "hovertemplate": "country=Sierra Leone<br>date=%{x}<br>cumulative_cases=%{y}<extra></extra>",
         "legendgroup": "Sierra Leone",
         "line": {
          "color": "#EF553B",
          "dash": "solid"
         },
         "marker": {
          "symbol": "circle"
         },
         "mode": "lines+markers",
         "name": "Sierra Leone",
         "showlegend": true,
         "type": "scattergl",
         "x": [
          "2020-01-31T00:00:00",
          "2020-07-31T00:00:00",
          "2021-01-31T00:00:00",
          "2021-07-31T00:00:00",
          "2022-01-31T00:00:00",
          "2022-07-31T00:00:00",
          "2023-01-31T00:00:00"
         ],
         "xaxis": "x",
         "y": [
          0,
          1818,
          3528,
          6279,
          7622,
          7733,
          7751
         ],
         "yaxis": "y"
        },
        {
         "hovertemplate": "country=Singapore<br>date=%{x}<br>cumulative_cases=%{y}<extra></extra>",
         "legendgroup": "Singapore",
         "line": {
          "color": "#00cc96",
          "dash": "solid"
         },
         "marker": {
          "symbol": "circle"
         },
         "mode": "lines+markers",
         "name": "Singapore",
         "showlegend": true,
         "type": "scattergl",
         "x": [
          "2020-01-31T00:00:00",
          "2020-07-31T00:00:00",
          "2021-01-31T00:00:00",
          "2021-07-31T00:00:00",
          "2022-01-31T00:00:00",
          "2022-07-31T00:00:00",
          "2023-01-31T00:00:00"
         ],
         "xaxis": "x",
         "y": [
          13,
          51809,
          59507,
          64861,
          348330,
          1708950,
          1936270
         ],
         "yaxis": "y"
        },
        {
         "hovertemplate": "country=Sint Eustatius<br>date=%{x}<br>cumulative_cases=%{y}<extra></extra>",
         "legendgroup": "Sint Eustatius",
         "line": {
          "color": "#ab63fa",
          "dash": "solid"
         },
         "marker": {
          "symbol": "circle"
         },
         "mode": "lines+markers",
         "name": "Sint Eustatius",
         "showlegend": true,
         "type": "scattergl",
         "x": [
          "2020-01-31T00:00:00",
          "2020-07-31T00:00:00",
          "2021-01-31T00:00:00",
          "2021-07-31T00:00:00",
          "2022-01-31T00:00:00",
          "2022-07-31T00:00:00",
          "2023-01-31T00:00:00"
         ],
         "xaxis": "x",
         "y": [
          0,
          3,
          20,
          20,
          325,
          1114,
          1196
         ],
         "yaxis": "y"
        },
        {
         "hovertemplate": "country=Sint Maarten<br>date=%{x}<br>cumulative_cases=%{y}<extra></extra>",
         "legendgroup": "Sint Maarten",
         "line": {
          "color": "#FFA15A",
          "dash": "solid"
         },
         "marker": {
          "symbol": "circle"
         },
         "mode": "lines+markers",
         "name": "Sint Maarten",
         "showlegend": true,
         "type": "scattergl",
         "x": [
          "2020-01-31T00:00:00",
          "2020-07-31T00:00:00",
          "2021-01-31T00:00:00",
          "2021-07-31T00:00:00",
          "2022-01-31T00:00:00",
          "2022-07-31T00:00:00",
          "2023-01-31T00:00:00"
         ],
         "xaxis": "x",
         "y": [
          0,
          126,
          1822,
          2760,
          9229,
          10741,
          10865
         ],
         "yaxis": "y"
        },
        {
         "hovertemplate": "country=Slovakia<br>date=%{x}<br>cumulative_cases=%{y}<extra></extra>",
         "legendgroup": "Slovakia",
         "line": {
          "color": "#19d3f3",
          "dash": "solid"
         },
         "marker": {
          "symbol": "circle"
         },
         "mode": "lines+markers",
         "name": "Slovakia",
         "showlegend": true,
         "type": "scattergl",
         "x": [
          "2020-01-31T00:00:00",
          "2020-07-31T00:00:00",
          "2021-01-31T00:00:00",
          "2021-07-31T00:00:00",
          "2022-01-31T00:00:00",
          "2022-07-31T00:00:00",
          "2023-01-31T00:00:00"
         ],
         "xaxis": "x",
         "y": [
          0,
          2292,
          249913,
          392647,
          1008141,
          1817779,
          1846529
         ],
         "yaxis": "y"
        },
        {
         "hovertemplate": "country=Slovenia<br>date=%{x}<br>cumulative_cases=%{y}<extra></extra>",
         "legendgroup": "Slovenia",
         "line": {
          "color": "#FF6692",
          "dash": "solid"
         },
         "marker": {
          "symbol": "circle"
         },
         "mode": "lines+markers",
         "name": "Slovenia",
         "showlegend": true,
         "type": "scattergl",
         "x": [
          "2020-01-31T00:00:00",
          "2020-07-31T00:00:00",
          "2021-01-31T00:00:00",
          "2021-07-31T00:00:00",
          "2022-01-31T00:00:00",
          "2022-07-31T00:00:00",
          "2023-01-31T00:00:00"
         ],
         "xaxis": "x",
         "y": [
          0,
          2140,
          165986,
          259161,
          702457,
          1082930,
          1197191
         ],
         "yaxis": "y"
        },
        {
         "hovertemplate": "country=Solomon Islands<br>date=%{x}<br>cumulative_cases=%{y}<extra></extra>",
         "legendgroup": "Solomon Islands",
         "line": {
          "color": "#B6E880",
          "dash": "solid"
         },
         "marker": {
          "symbol": "circle"
         },
         "mode": "lines+markers",
         "name": "Solomon Islands",
         "showlegend": true,
         "type": "scattergl",
         "x": [
          "2020-01-31T00:00:00",
          "2020-07-31T00:00:00",
          "2021-01-31T00:00:00",
          "2021-07-31T00:00:00",
          "2022-01-31T00:00:00",
          "2022-07-31T00:00:00",
          "2023-01-31T00:00:00"
         ],
         "xaxis": "x",
         "y": [
          0,
          0,
          17,
          20,
          1183,
          21544,
          21544
         ],
         "yaxis": "y"
        },
        {
         "hovertemplate": "country=Somalia<br>date=%{x}<br>cumulative_cases=%{y}<extra></extra>",
         "legendgroup": "Somalia",
         "line": {
          "color": "#FF97FF",
          "dash": "solid"
         },
         "marker": {
          "symbol": "circle"
         },
         "mode": "lines+markers",
         "name": "Somalia",
         "showlegend": true,
         "type": "scattergl",
         "x": [
          "2020-01-31T00:00:00",
          "2020-07-31T00:00:00",
          "2021-01-31T00:00:00",
          "2021-07-31T00:00:00",
          "2022-01-31T00:00:00",
          "2022-07-31T00:00:00",
          "2023-01-31T00:00:00"
         ],
         "xaxis": "x",
         "y": [
          0,
          3212,
          4784,
          15358,
          25388,
          26957,
          27216
         ],
         "yaxis": "y"
        },
        {
         "hovertemplate": "country=South Africa<br>date=%{x}<br>cumulative_cases=%{y}<extra></extra>",
         "legendgroup": "South Africa",
         "line": {
          "color": "#FECB52",
          "dash": "solid"
         },
         "marker": {
          "symbol": "circle"
         },
         "mode": "lines+markers",
         "name": "South Africa",
         "showlegend": true,
         "type": "scattergl",
         "x": [
          "2020-01-31T00:00:00",
          "2020-07-31T00:00:00",
          "2021-01-31T00:00:00",
          "2021-07-31T00:00:00",
          "2022-01-31T00:00:00",
          "2022-07-31T00:00:00",
          "2023-01-31T00:00:00"
         ],
         "xaxis": "x",
         "y": [
          0,
          482169,
          1449236,
          2435036,
          3603856,
          4005124,
          4020142
         ],
         "yaxis": "y"
        },
        {
         "hovertemplate": "country=South Sudan<br>date=%{x}<br>cumulative_cases=%{y}<extra></extra>",
         "legendgroup": "South Sudan",
         "line": {
          "color": "#636efa",
          "dash": "solid"
         },
         "marker": {
          "symbol": "circle"
         },
         "mode": "lines+markers",
         "name": "South Sudan",
         "showlegend": true,
         "type": "scattergl",
         "x": [
          "2020-01-31T00:00:00",
          "2020-07-31T00:00:00",
          "2021-01-31T00:00:00",
          "2021-07-31T00:00:00",
          "2022-01-31T00:00:00",
          "2022-07-31T00:00:00",
          "2023-01-31T00:00:00"
         ],
         "xaxis": "x",
         "y": [
          0,
          2381,
          4037,
          11056,
          16794,
          17780,
          17780
         ],
         "yaxis": "y"
        },
        {
         "hovertemplate": "country=Spain<br>date=%{x}<br>cumulative_cases=%{y}<extra></extra>",
         "legendgroup": "Spain",
         "line": {
          "color": "#EF553B",
          "dash": "solid"
         },
         "marker": {
          "symbol": "circle"
         },
         "mode": "lines+markers",
         "name": "Spain",
         "showlegend": true,
         "type": "scattergl",
         "x": [
          "2020-01-31T00:00:00",
          "2020-07-31T00:00:00",
          "2021-01-31T00:00:00",
          "2021-07-31T00:00:00",
          "2022-01-31T00:00:00",
          "2022-07-31T00:00:00",
          "2023-01-31T00:00:00"
         ],
         "xaxis": "x",
         "y": [
          5,
          297476,
          2831712,
          4503743,
          10166269,
          13226599,
          13431098
         ],
         "yaxis": "y"
        },
        {
         "hovertemplate": "country=Sri Lanka<br>date=%{x}<br>cumulative_cases=%{y}<extra></extra>",
         "legendgroup": "Sri Lanka",
         "line": {
          "color": "#00cc96",
          "dash": "solid"
         },
         "marker": {
          "symbol": "circle"
         },
         "mode": "lines+markers",
         "name": "Sri Lanka",
         "showlegend": true,
         "type": "scattergl",
         "x": [
          "2020-01-31T00:00:00",
          "2020-07-31T00:00:00",
          "2021-01-31T00:00:00",
          "2021-07-31T00:00:00",
          "2022-01-31T00:00:00",
          "2022-07-31T00:00:00",
          "2023-01-31T00:00:00"
         ],
         "xaxis": "x",
         "y": [
          5,
          2815,
          64157,
          308812,
          611185,
          665739,
          670838
         ],
         "yaxis": "y"
        },
        {
         "hovertemplate": "country=Sudan<br>date=%{x}<br>cumulative_cases=%{y}<extra></extra>",
         "legendgroup": "Sudan",
         "line": {
          "color": "#ab63fa",
          "dash": "solid"
         },
         "marker": {
          "symbol": "circle"
         },
         "mode": "lines+markers",
         "name": "Sudan",
         "showlegend": true,
         "type": "scattergl",
         "x": [
          "2020-01-31T00:00:00",
          "2020-07-31T00:00:00",
          "2021-01-31T00:00:00",
          "2021-07-31T00:00:00",
          "2022-01-31T00:00:00",
          "2022-07-31T00:00:00",
          "2023-01-31T00:00:00"
         ],
         "xaxis": "x",
         "y": [
          0,
          11579,
          29450,
          37491,
          58208,
          63074,
          63339
         ],
         "yaxis": "y"
        },
        {
         "hovertemplate": "country=Suriname<br>date=%{x}<br>cumulative_cases=%{y}<extra></extra>",
         "legendgroup": "Suriname",
         "line": {
          "color": "#FFA15A",
          "dash": "solid"
         },
         "marker": {
          "symbol": "circle"
         },
         "mode": "lines+markers",
         "name": "Suriname",
         "showlegend": true,
         "type": "scattergl",
         "x": [
          "2020-01-31T00:00:00",
          "2020-07-31T00:00:00",
          "2021-01-31T00:00:00",
          "2021-07-31T00:00:00",
          "2022-01-31T00:00:00",
          "2022-07-31T00:00:00",
          "2023-01-31T00:00:00"
         ],
         "xaxis": "x",
         "y": [
          0,
          1607,
          8364,
          25218,
          73162,
          80966,
          81114
         ],
         "yaxis": "y"
        },
        {
         "hovertemplate": "country=Sweden<br>date=%{x}<br>cumulative_cases=%{y}<extra></extra>",
         "legendgroup": "Sweden",
         "line": {
          "color": "#19d3f3",
          "dash": "solid"
         },
         "marker": {
          "symbol": "circle"
         },
         "mode": "lines+markers",
         "name": "Sweden",
         "showlegend": true,
         "type": "scattergl",
         "x": [
          "2020-01-31T00:00:00",
          "2020-07-31T00:00:00",
          "2021-01-31T00:00:00",
          "2021-07-31T00:00:00",
          "2022-01-31T00:00:00",
          "2022-07-31T00:00:00",
          "2023-01-31T00:00:00"
         ],
         "xaxis": "x",
         "y": [
          1,
          76384,
          571058,
          1099953,
          2143862,
          2541779,
          2601153
         ],
         "yaxis": "y"
        },
        {
         "hovertemplate": "country=Switzerland<br>date=%{x}<br>cumulative_cases=%{y}<extra></extra>",
         "legendgroup": "Switzerland",
         "line": {
          "color": "#FF6692",
          "dash": "solid"
         },
         "marker": {
          "symbol": "circle"
         },
         "mode": "lines+markers",
         "name": "Switzerland",
         "showlegend": true,
         "type": "scattergl",
         "x": [
          "2020-01-31T00:00:00",
          "2020-07-31T00:00:00",
          "2021-01-31T00:00:00",
          "2021-07-31T00:00:00",
          "2022-01-31T00:00:00",
          "2022-07-31T00:00:00",
          "2023-01-31T00:00:00"
         ],
         "xaxis": "x",
         "y": [
          0,
          35281,
          522330,
          715739,
          2225300,
          3951633,
          4109164
         ],
         "yaxis": "y"
        },
        {
         "hovertemplate": "country=Syrian Arab Republic<br>date=%{x}<br>cumulative_cases=%{y}<extra></extra>",
         "legendgroup": "Syrian Arab Republic",
         "line": {
          "color": "#B6E880",
          "dash": "solid"
         },
         "marker": {
          "symbol": "circle"
         },
         "mode": "lines+markers",
         "name": "Syrian Arab Republic",
         "showlegend": true,
         "type": "scattergl",
         "x": [
          "2020-01-31T00:00:00",
          "2020-07-31T00:00:00",
          "2021-01-31T00:00:00",
          "2021-07-31T00:00:00",
          "2022-01-31T00:00:00",
          "2022-07-31T00:00:00",
          "2023-01-31T00:00:00"
         ],
         "xaxis": "x",
         "y": [
          0,
          738,
          13998,
          25954,
          51341,
          56279,
          57319
         ],
         "yaxis": "y"
        },
        {
         "hovertemplate": "country=Tajikistan<br>date=%{x}<br>cumulative_cases=%{y}<extra></extra>",
         "legendgroup": "Tajikistan",
         "line": {
          "color": "#FF97FF",
          "dash": "solid"
         },
         "marker": {
          "symbol": "circle"
         },
         "mode": "lines+markers",
         "name": "Tajikistan",
         "showlegend": true,
         "type": "scattergl",
         "x": [
          "2020-01-31T00:00:00",
          "2020-07-31T00:00:00",
          "2021-01-31T00:00:00",
          "2021-07-31T00:00:00",
          "2022-01-31T00:00:00",
          "2022-07-31T00:00:00",
          "2023-01-31T00:00:00"
         ],
         "xaxis": "x",
         "y": [
          0,
          7366,
          13714,
          15482,
          17706,
          17786,
          17786
         ],
         "yaxis": "y"
        },
        {
         "hovertemplate": "country=Thailand<br>date=%{x}<br>cumulative_cases=%{y}<extra></extra>",
         "legendgroup": "Thailand",
         "line": {
          "color": "#FECB52",
          "dash": "solid"
         },
         "marker": {
          "symbol": "circle"
         },
         "mode": "lines+markers",
         "name": "Thailand",
         "showlegend": true,
         "type": "scattergl",
         "x": [
          "2020-01-31T00:00:00",
          "2020-07-31T00:00:00",
          "2021-01-31T00:00:00",
          "2021-07-31T00:00:00",
          "2022-01-31T00:00:00",
          "2022-07-31T00:00:00",
          "2023-01-31T00:00:00"
         ],
         "xaxis": "x",
         "y": [
          23,
          3310,
          18782,
          597287,
          2440542,
          4590176,
          4682132
         ],
         "yaxis": "y"
        },
        {
         "hovertemplate": "country=The United Kingdom<br>date=%{x}<br>cumulative_cases=%{y}<extra></extra>",
         "legendgroup": "The United Kingdom",
         "line": {
          "color": "#636efa",
          "dash": "solid"
         },
         "marker": {
          "symbol": "circle"
         },
         "mode": "lines+markers",
         "name": "The United Kingdom",
         "showlegend": true,
         "type": "scattergl",
         "x": [
          "2020-01-31T00:00:00",
          "2020-07-31T00:00:00",
          "2021-01-31T00:00:00",
          "2021-07-31T00:00:00",
          "2022-01-31T00:00:00",
          "2022-07-31T00:00:00",
          "2023-01-31T00:00:00"
         ],
         "xaxis": "x",
         "y": [
          0,
          304064,
          3880729,
          5974008,
          17427831,
          23342234,
          23735277
         ],
         "yaxis": "y"
        },
        {
         "hovertemplate": "country=Timor-Leste<br>date=%{x}<br>cumulative_cases=%{y}<extra></extra>",
         "legendgroup": "Timor-Leste",
         "line": {
          "color": "#EF553B",
          "dash": "solid"
         },
         "marker": {
          "symbol": "circle"
         },
         "mode": "lines+markers",
         "name": "Timor-Leste",
         "showlegend": true,
         "type": "scattergl",
         "x": [
          "2020-01-31T00:00:00",
          "2020-07-31T00:00:00",
          "2021-01-31T00:00:00",
          "2021-07-31T00:00:00",
          "2022-01-31T00:00:00",
          "2022-07-31T00:00:00",
          "2023-01-31T00:00:00"
         ],
         "xaxis": "x",
         "y": [
          0,
          24,
          70,
          10898,
          19946,
          23004,
          23268
         ],
         "yaxis": "y"
        },
        {
         "hovertemplate": "country=Togo<br>date=%{x}<br>cumulative_cases=%{y}<extra></extra>",
         "legendgroup": "Togo",
         "line": {
          "color": "#00cc96",
          "dash": "solid"
         },
         "marker": {
          "symbol": "circle"
         },
         "mode": "lines+markers",
         "name": "Togo",
         "showlegend": true,
         "type": "scattergl",
         "x": [
          "2020-01-31T00:00:00",
          "2020-07-31T00:00:00",
          "2021-01-31T00:00:00",
          "2021-07-31T00:00:00",
          "2022-01-31T00:00:00",
          "2022-07-31T00:00:00",
          "2023-01-31T00:00:00"
         ],
         "xaxis": "x",
         "y": [
          0,
          927,
          5041,
          15624,
          36491,
          38084,
          39159
         ],
         "yaxis": "y"
        },
        {
         "hovertemplate": "country=Tokelau<br>date=%{x}<br>cumulative_cases=%{y}<extra></extra>",
         "legendgroup": "Tokelau",
         "line": {
          "color": "#ab63fa",
          "dash": "solid"
         },
         "marker": {
          "symbol": "circle"
         },
         "mode": "lines+markers",
         "name": "Tokelau",
         "showlegend": true,
         "type": "scattergl",
         "x": [
          "2020-01-31T00:00:00",
          "2020-07-31T00:00:00",
          "2021-01-31T00:00:00",
          "2021-07-31T00:00:00",
          "2022-01-31T00:00:00",
          "2022-07-31T00:00:00",
          "2023-01-31T00:00:00"
         ],
         "xaxis": "x",
         "y": [
          0,
          0,
          0,
          0,
          0,
          0,
          0
         ],
         "yaxis": "y"
        },
        {
         "hovertemplate": "country=Tonga<br>date=%{x}<br>cumulative_cases=%{y}<extra></extra>",
         "legendgroup": "Tonga",
         "line": {
          "color": "#FFA15A",
          "dash": "solid"
         },
         "marker": {
          "symbol": "circle"
         },
         "mode": "lines+markers",
         "name": "Tonga",
         "showlegend": true,
         "type": "scattergl",
         "x": [
          "2020-01-31T00:00:00",
          "2020-07-31T00:00:00",
          "2021-01-31T00:00:00",
          "2021-07-31T00:00:00",
          "2022-01-31T00:00:00",
          "2022-07-31T00:00:00",
          "2023-01-31T00:00:00"
         ],
         "xaxis": "x",
         "y": [
          0,
          0,
          0,
          0,
          1,
          12554,
          16182
         ],
         "yaxis": "y"
        },
        {
         "hovertemplate": "country=Trinidad and Tobago<br>date=%{x}<br>cumulative_cases=%{y}<extra></extra>",
         "legendgroup": "Trinidad and Tobago",
         "line": {
          "color": "#19d3f3",
          "dash": "solid"
         },
         "marker": {
          "symbol": "circle"
         },
         "mode": "lines+markers",
         "name": "Trinidad and Tobago",
         "showlegend": true,
         "type": "scattergl",
         "x": [
          "2020-01-31T00:00:00",
          "2020-07-31T00:00:00",
          "2021-01-31T00:00:00",
          "2021-07-31T00:00:00",
          "2022-01-31T00:00:00",
          "2022-07-31T00:00:00",
          "2023-01-31T00:00:00"
         ],
         "xaxis": "x",
         "y": [
          0,
          157,
          7533,
          38247,
          111190,
          171172,
          183824
         ],
         "yaxis": "y"
        },
        {
         "hovertemplate": "country=Tunisia<br>date=%{x}<br>cumulative_cases=%{y}<extra></extra>",
         "legendgroup": "Tunisia",
         "line": {
          "color": "#FF6692",
          "dash": "solid"
         },
         "marker": {
          "symbol": "circle"
         },
         "mode": "lines+markers",
         "name": "Tunisia",
         "showlegend": true,
         "type": "scattergl",
         "x": [
          "2020-01-31T00:00:00",
          "2020-07-31T00:00:00",
          "2021-01-31T00:00:00",
          "2021-07-31T00:00:00",
          "2022-01-31T00:00:00",
          "2022-07-31T00:00:00",
          "2023-01-31T00:00:00"
         ],
         "xaxis": "x",
         "y": [
          0,
          1535,
          207468,
          589565,
          907239,
          1128693,
          1145829
         ],
         "yaxis": "y"
        },
        {
         "hovertemplate": "country=Turkmenistan<br>date=%{x}<br>cumulative_cases=%{y}<extra></extra>",
         "legendgroup": "Turkmenistan",
         "line": {
          "color": "#B6E880",
          "dash": "solid"
         },
         "marker": {
          "symbol": "circle"
         },
         "mode": "lines+markers",
         "name": "Turkmenistan",
         "showlegend": true,
         "type": "scattergl",
         "x": [
          "2020-01-31T00:00:00",
          "2020-07-31T00:00:00",
          "2021-01-31T00:00:00",
          "2021-07-31T00:00:00",
          "2022-01-31T00:00:00",
          "2022-07-31T00:00:00",
          "2023-01-31T00:00:00"
         ],
         "xaxis": "x",
         "y": [
          0,
          0,
          0,
          0,
          0,
          0,
          0
         ],
         "yaxis": "y"
        },
        {
         "hovertemplate": "country=Turks and Caicos Islands<br>date=%{x}<br>cumulative_cases=%{y}<extra></extra>",
         "legendgroup": "Turks and Caicos Islands",
         "line": {
          "color": "#FF97FF",
          "dash": "solid"
         },
         "marker": {
          "symbol": "circle"
         },
         "mode": "lines+markers",
         "name": "Turks and Caicos Islands",
         "showlegend": true,
         "type": "scattergl",
         "x": [
          "2020-01-31T00:00:00",
          "2020-07-31T00:00:00",
          "2021-01-31T00:00:00",
          "2021-07-31T00:00:00",
          "2022-01-31T00:00:00",
          "2022-07-31T00:00:00",
          "2023-01-31T00:00:00"
         ],
         "xaxis": "x",
         "y": [
          0,
          104,
          1459,
          2481,
          5727,
          6303,
          6380
         ],
         "yaxis": "y"
        },
        {
         "hovertemplate": "country=Tuvalu<br>date=%{x}<br>cumulative_cases=%{y}<extra></extra>",
         "legendgroup": "Tuvalu",
         "line": {
          "color": "#FECB52",
          "dash": "solid"
         },
         "marker": {
          "symbol": "circle"
         },
         "mode": "lines+markers",
         "name": "Tuvalu",
         "showlegend": true,
         "type": "scattergl",
         "x": [
          "2020-01-31T00:00:00",
          "2020-07-31T00:00:00",
          "2021-01-31T00:00:00",
          "2021-07-31T00:00:00",
          "2022-01-31T00:00:00",
          "2022-07-31T00:00:00",
          "2023-01-31T00:00:00"
         ],
         "xaxis": "x",
         "y": [
          0,
          0,
          0,
          0,
          0,
          8,
          20
         ],
         "yaxis": "y"
        },
        {
         "hovertemplate": "country=Türkiye<br>date=%{x}<br>cumulative_cases=%{y}<extra></extra>",
         "legendgroup": "Türkiye",
         "line": {
          "color": "#636efa",
          "dash": "solid"
         },
         "marker": {
          "symbol": "circle"
         },
         "mode": "lines+markers",
         "name": "Türkiye",
         "showlegend": true,
         "type": "scattergl",
         "x": [
          "2020-01-31T00:00:00",
          "2020-07-31T00:00:00",
          "2021-01-31T00:00:00",
          "2021-07-31T00:00:00",
          "2022-01-31T00:00:00",
          "2022-07-31T00:00:00",
          "2023-01-31T00:00:00"
         ],
         "xaxis": "x",
         "y": [
          0,
          250081,
          2470901,
          5704713,
          11526621,
          15889495,
          16873793
         ],
         "yaxis": "y"
        },
        {
         "hovertemplate": "country=Uganda<br>date=%{x}<br>cumulative_cases=%{y}<extra></extra>",
         "legendgroup": "Uganda",
         "line": {
          "color": "#EF553B",
          "dash": "solid"
         },
         "marker": {
          "symbol": "circle"
         },
         "mode": "lines+markers",
         "name": "Uganda",
         "showlegend": true,
         "type": "scattergl",
         "x": [
          "2020-01-31T00:00:00",
          "2020-07-31T00:00:00",
          "2021-01-31T00:00:00",
          "2021-07-31T00:00:00",
          "2022-01-31T00:00:00",
          "2022-07-31T00:00:00",
          "2023-01-31T00:00:00"
         ],
         "xaxis": "x",
         "y": [
          0,
          1154,
          39579,
          94195,
          161929,
          168338,
          169120
         ],
         "yaxis": "y"
        },
        {
         "hovertemplate": "country=Ukraine<br>date=%{x}<br>cumulative_cases=%{y}<extra></extra>",
         "legendgroup": "Ukraine",
         "line": {
          "color": "#00cc96",
          "dash": "solid"
         },
         "marker": {
          "symbol": "circle"
         },
         "mode": "lines+markers",
         "name": "Ukraine",
         "showlegend": true,
         "type": "scattergl",
         "x": [
          "2020-01-31T00:00:00",
          "2020-07-31T00:00:00",
          "2021-01-31T00:00:00",
          "2021-07-31T00:00:00",
          "2022-01-31T00:00:00",
          "2022-07-31T00:00:00",
          "2023-01-31T00:00:00"
         ],
         "xaxis": "x",
         "y": [
          0,
          69884,
          1219455,
          2252785,
          4064495,
          5023710,
          5177217
         ],
         "yaxis": "y"
        },
        {
         "hovertemplate": "country=United Arab Emirates<br>date=%{x}<br>cumulative_cases=%{y}<extra></extra>",
         "legendgroup": "United Arab Emirates",
         "line": {
          "color": "#ab63fa",
          "dash": "solid"
         },
         "marker": {
          "symbol": "circle"
         },
         "mode": "lines+markers",
         "name": "United Arab Emirates",
         "showlegend": true,
         "type": "scattergl",
         "x": [
          "2020-01-31T00:00:00",
          "2020-07-31T00:00:00",
          "2021-01-31T00:00:00",
          "2021-07-31T00:00:00",
          "2022-01-31T00:00:00",
          "2022-07-31T00:00:00",
          "2023-01-31T00:00:00"
         ],
         "xaxis": "x",
         "y": [
          8,
          60223,
          300661,
          679321,
          843030,
          990400,
          1029426
         ],
         "yaxis": "y"
        },
        {
         "hovertemplate": "country=United Republic of Tanzania<br>date=%{x}<br>cumulative_cases=%{y}<extra></extra>",
         "legendgroup": "United Republic of Tanzania",
         "line": {
          "color": "#FFA15A",
          "dash": "solid"
         },
         "marker": {
          "symbol": "circle"
         },
         "mode": "lines+markers",
         "name": "United Republic of Tanzania",
         "showlegend": true,
         "type": "scattergl",
         "x": [
          "2020-01-31T00:00:00",
          "2020-07-31T00:00:00",
          "2021-01-31T00:00:00",
          "2021-07-31T00:00:00",
          "2022-01-31T00:00:00",
          "2022-07-31T00:00:00",
          "2023-01-31T00:00:00"
         ],
         "xaxis": "x",
         "y": [
          0,
          509,
          509,
          1367,
          33230,
          37865,
          39513
         ],
         "yaxis": "y"
        },
        {
         "hovertemplate": "country=United States Virgin Islands<br>date=%{x}<br>cumulative_cases=%{y}<extra></extra>",
         "legendgroup": "United States Virgin Islands",
         "line": {
          "color": "#19d3f3",
          "dash": "solid"
         },
         "marker": {
          "symbol": "circle"
         },
         "mode": "lines+markers",
         "name": "United States Virgin Islands",
         "showlegend": true,
         "type": "scattergl",
         "x": [
          "2020-01-31T00:00:00",
          "2020-07-31T00:00:00",
          "2021-01-31T00:00:00",
          "2021-07-31T00:00:00",
          "2022-01-31T00:00:00",
          "2022-07-31T00:00:00",
          "2023-01-31T00:00:00"
         ],
         "xaxis": "x",
         "y": [
          0,
          398,
          2398,
          4514,
          14846,
          21775,
          23198
         ],
         "yaxis": "y"
        },
        {
         "hovertemplate": "country=United States of America<br>date=%{x}<br>cumulative_cases=%{y}<extra></extra>",
         "legendgroup": "United States of America",
         "line": {
          "color": "#FF6692",
          "dash": "solid"
         },
         "marker": {
          "symbol": "circle"
         },
         "mode": "lines+markers",
         "name": "United States of America",
         "showlegend": true,
         "type": "scattergl",
         "x": [
          "2020-01-31T00:00:00",
          "2020-07-31T00:00:00",
          "2021-01-31T00:00:00",
          "2021-07-31T00:00:00",
          "2022-01-31T00:00:00",
          "2022-07-31T00:00:00",
          "2023-01-31T00:00:00"
         ],
         "xaxis": "x",
         "y": [
          8,
          4490812,
          25863082,
          34679723,
          73979376,
          90232853,
          95260865
         ],
         "yaxis": "y"
        },
        {
         "hovertemplate": "country=Uruguay<br>date=%{x}<br>cumulative_cases=%{y}<extra></extra>",
         "legendgroup": "Uruguay",
         "line": {
          "color": "#B6E880",
          "dash": "solid"
         },
         "marker": {
          "symbol": "circle"
         },
         "mode": "lines+markers",
         "name": "Uruguay",
         "showlegend": true,
         "type": "scattergl",
         "x": [
          "2020-01-31T00:00:00",
          "2020-07-31T00:00:00",
          "2021-01-31T00:00:00",
          "2021-07-31T00:00:00",
          "2022-01-31T00:00:00",
          "2022-07-31T00:00:00",
          "2023-01-31T00:00:00"
         ],
         "xaxis": "x",
         "y": [
          0,
          1237,
          40529,
          381187,
          653853,
          971728,
          986446
         ],
         "yaxis": "y"
        },
        {
         "hovertemplate": "country=Uzbekistan<br>date=%{x}<br>cumulative_cases=%{y}<extra></extra>",
         "legendgroup": "Uzbekistan",
         "line": {
          "color": "#FF97FF",
          "dash": "solid"
         },
         "marker": {
          "symbol": "circle"
         },
         "mode": "lines+markers",
         "name": "Uzbekistan",
         "showlegend": true,
         "type": "scattergl",
         "x": [
          "2020-01-31T00:00:00",
          "2020-07-31T00:00:00",
          "2021-01-31T00:00:00",
          "2021-07-31T00:00:00",
          "2022-01-31T00:00:00",
          "2022-07-31T00:00:00",
          "2023-01-31T00:00:00"
         ],
         "xaxis": "x",
         "y": [
          0,
          23558,
          78711,
          129327,
          223008,
          243093,
          244296
         ],
         "yaxis": "y"
        },
        {
         "hovertemplate": "country=Vanuatu<br>date=%{x}<br>cumulative_cases=%{y}<extra></extra>",
         "legendgroup": "Vanuatu",
         "line": {
          "color": "#FECB52",
          "dash": "solid"
         },
         "marker": {
          "symbol": "circle"
         },
         "mode": "lines+markers",
         "name": "Vanuatu",
         "showlegend": true,
         "type": "scattergl",
         "x": [
          "2020-01-31T00:00:00",
          "2020-07-31T00:00:00",
          "2021-01-31T00:00:00",
          "2021-07-31T00:00:00",
          "2022-01-31T00:00:00",
          "2022-07-31T00:00:00",
          "2023-01-31T00:00:00"
         ],
         "xaxis": "x",
         "y": [
          0,
          0,
          1,
          3,
          7,
          11725,
          11974
         ],
         "yaxis": "y"
        },
        {
         "hovertemplate": "country=Venezuela (Bolivarian Republic of)<br>date=%{x}<br>cumulative_cases=%{y}<extra></extra>",
         "legendgroup": "Venezuela (Bolivarian Republic of)",
         "line": {
          "color": "#636efa",
          "dash": "solid"
         },
         "marker": {
          "symbol": "circle"
         },
         "mode": "lines+markers",
         "name": "Venezuela (Bolivarian Republic of)",
         "showlegend": true,
         "type": "scattergl",
         "x": [
          "2020-01-31T00:00:00",
          "2020-07-31T00:00:00",
          "2021-01-31T00:00:00",
          "2021-07-31T00:00:00",
          "2022-01-31T00:00:00",
          "2022-07-31T00:00:00",
          "2023-01-31T00:00:00"
         ],
         "xaxis": "x",
         "y": [
          0,
          17159,
          125776,
          303797,
          481375,
          534906,
          544907
         ],
         "yaxis": "y"
        },
        {
         "hovertemplate": "country=Viet Nam<br>date=%{x}<br>cumulative_cases=%{y}<extra></extra>",
         "legendgroup": "Viet Nam",
         "line": {
          "color": "#EF553B",
          "dash": "solid"
         },
         "marker": {
          "symbol": "circle"
         },
         "mode": "lines+markers",
         "name": "Viet Nam",
         "showlegend": true,
         "type": "scattergl",
         "x": [
          "2020-01-31T00:00:00",
          "2020-07-31T00:00:00",
          "2021-01-31T00:00:00",
          "2021-07-31T00:00:00",
          "2022-01-31T00:00:00",
          "2022-07-31T00:00:00",
          "2023-01-31T00:00:00"
         ],
         "xaxis": "x",
         "y": [
          2,
          509,
          1781,
          141122,
          2263053,
          10774679,
          11483529
         ],
         "yaxis": "y"
        },
        {
         "hovertemplate": "country=Wallis and Futuna<br>date=%{x}<br>cumulative_cases=%{y}<extra></extra>",
         "legendgroup": "Wallis and Futuna",
         "line": {
          "color": "#00cc96",
          "dash": "solid"
         },
         "marker": {
          "symbol": "circle"
         },
         "mode": "lines+markers",
         "name": "Wallis and Futuna",
         "showlegend": true,
         "type": "scattergl",
         "x": [
          "2020-01-31T00:00:00",
          "2020-07-31T00:00:00",
          "2021-01-31T00:00:00",
          "2021-07-31T00:00:00",
          "2022-01-31T00:00:00",
          "2022-07-31T00:00:00",
          "2023-01-31T00:00:00"
         ],
         "xaxis": "x",
         "y": [
          0,
          0,
          5,
          453,
          453,
          761,
          761
         ],
         "yaxis": "y"
        },
        {
         "hovertemplate": "country=Yemen<br>date=%{x}<br>cumulative_cases=%{y}<extra></extra>",
         "legendgroup": "Yemen",
         "line": {
          "color": "#ab63fa",
          "dash": "solid"
         },
         "marker": {
          "symbol": "circle"
         },
         "mode": "lines+markers",
         "name": "Yemen",
         "showlegend": true,
         "type": "scattergl",
         "x": [
          "2020-01-31T00:00:00",
          "2020-07-31T00:00:00",
          "2021-01-31T00:00:00",
          "2021-07-31T00:00:00",
          "2022-01-31T00:00:00",
          "2022-07-31T00:00:00",
          "2023-01-31T00:00:00"
         ],
         "xaxis": "x",
         "y": [
          0,
          1730,
          2124,
          7058,
          11019,
          11877,
          11939
         ],
         "yaxis": "y"
        },
        {
         "hovertemplate": "country=Zambia<br>date=%{x}<br>cumulative_cases=%{y}<extra></extra>",
         "legendgroup": "Zambia",
         "line": {
          "color": "#FFA15A",
          "dash": "solid"
         },
         "marker": {
          "symbol": "circle"
         },
         "mode": "lines+markers",
         "name": "Zambia",
         "showlegend": true,
         "type": "scattergl",
         "x": [
          "2020-01-31T00:00:00",
          "2020-07-31T00:00:00",
          "2021-01-31T00:00:00",
          "2021-07-31T00:00:00",
          "2022-01-31T00:00:00",
          "2022-07-31T00:00:00",
          "2023-01-31T00:00:00"
         ],
         "xaxis": "x",
         "y": [
          0,
          5555,
          53352,
          195096,
          304922,
          329483,
          333555
         ],
         "yaxis": "y"
        },
        {
         "hovertemplate": "country=Zimbabwe<br>date=%{x}<br>cumulative_cases=%{y}<extra></extra>",
         "legendgroup": "Zimbabwe",
         "line": {
          "color": "#19d3f3",
          "dash": "solid"
         },
         "marker": {
          "symbol": "circle"
         },
         "mode": "lines+markers",
         "name": "Zimbabwe",
         "showlegend": true,
         "type": "scattergl",
         "x": [
          "2020-01-31T00:00:00",
          "2020-07-31T00:00:00",
          "2021-01-31T00:00:00",
          "2021-07-31T00:00:00",
          "2022-01-31T00:00:00",
          "2022-07-31T00:00:00",
          "2023-01-31T00:00:00"
         ],
         "xaxis": "x",
         "y": [
          0,
          3092,
          33271,
          107490,
          229460,
          256378,
          257517
         ],
         "yaxis": "y"
        },
        {
         "hovertemplate": "country=occupied Palestinian territory, including east Jerusalem<br>date=%{x}<br>cumulative_cases=%{y}<extra></extra>",
         "legendgroup": "occupied Palestinian territory, including east Jerusalem",
         "line": {
          "color": "#FF6692",
          "dash": "solid"
         },
         "marker": {
          "symbol": "circle"
         },
         "mode": "lines+markers",
         "name": "occupied Palestinian territory, including east Jerusalem",
         "showlegend": true,
         "type": "scattergl",
         "x": [
          "2020-01-31T00:00:00",
          "2020-07-31T00:00:00",
          "2021-01-31T00:00:00",
          "2021-07-31T00:00:00",
          "2022-01-31T00:00:00",
          "2022-07-31T00:00:00",
          "2023-01-31T00:00:00"
         ],
         "xaxis": "x",
         "y": [
          0,
          14838,
          178516,
          345578,
          524716,
          682096,
          702804
         ],
         "yaxis": "y"
        }
       ],
       "layout": {
        "legend": {
         "title": {
          "text": "country"
         },
         "tracegroupgap": 0
        },
        "margin": {
         "t": 60
        },
        "template": {
         "data": {
          "bar": [
           {
            "error_x": {
             "color": "#2a3f5f"
            },
            "error_y": {
             "color": "#2a3f5f"
            },
            "marker": {
             "line": {
              "color": "#E5ECF6",
              "width": 0.5
             },
             "pattern": {
              "fillmode": "overlay",
              "size": 10,
              "solidity": 0.2
             }
            },
            "type": "bar"
           }
          ],
          "barpolar": [
           {
            "marker": {
             "line": {
              "color": "#E5ECF6",
              "width": 0.5
             },
             "pattern": {
              "fillmode": "overlay",
              "size": 10,
              "solidity": 0.2
             }
            },
            "type": "barpolar"
           }
          ],
          "carpet": [
           {
            "aaxis": {
             "endlinecolor": "#2a3f5f",
             "gridcolor": "white",
             "linecolor": "white",
             "minorgridcolor": "white",
             "startlinecolor": "#2a3f5f"
            },
            "baxis": {
             "endlinecolor": "#2a3f5f",
             "gridcolor": "white",
             "linecolor": "white",
             "minorgridcolor": "white",
             "startlinecolor": "#2a3f5f"
            },
            "type": "carpet"
           }
          ],
          "choropleth": [
           {
            "colorbar": {
             "outlinewidth": 0,
             "ticks": ""
            },
            "type": "choropleth"
           }
          ],
          "contour": [
           {
            "colorbar": {
             "outlinewidth": 0,
             "ticks": ""
            },
            "colorscale": [
             [
              0,
              "#0d0887"
             ],
             [
              0.1111111111111111,
              "#46039f"
             ],
             [
              0.2222222222222222,
              "#7201a8"
             ],
             [
              0.3333333333333333,
              "#9c179e"
             ],
             [
              0.4444444444444444,
              "#bd3786"
             ],
             [
              0.5555555555555556,
              "#d8576b"
             ],
             [
              0.6666666666666666,
              "#ed7953"
             ],
             [
              0.7777777777777778,
              "#fb9f3a"
             ],
             [
              0.8888888888888888,
              "#fdca26"
             ],
             [
              1,
              "#f0f921"
             ]
            ],
            "type": "contour"
           }
          ],
          "contourcarpet": [
           {
            "colorbar": {
             "outlinewidth": 0,
             "ticks": ""
            },
            "type": "contourcarpet"
           }
          ],
          "heatmap": [
           {
            "colorbar": {
             "outlinewidth": 0,
             "ticks": ""
            },
            "colorscale": [
             [
              0,
              "#0d0887"
             ],
             [
              0.1111111111111111,
              "#46039f"
             ],
             [
              0.2222222222222222,
              "#7201a8"
             ],
             [
              0.3333333333333333,
              "#9c179e"
             ],
             [
              0.4444444444444444,
              "#bd3786"
             ],
             [
              0.5555555555555556,
              "#d8576b"
             ],
             [
              0.6666666666666666,
              "#ed7953"
             ],
             [
              0.7777777777777778,
              "#fb9f3a"
             ],
             [
              0.8888888888888888,
              "#fdca26"
             ],
             [
              1,
              "#f0f921"
             ]
            ],
            "type": "heatmap"
           }
          ],
          "heatmapgl": [
           {
            "colorbar": {
             "outlinewidth": 0,
             "ticks": ""
            },
            "colorscale": [
             [
              0,
              "#0d0887"
             ],
             [
              0.1111111111111111,
              "#46039f"
             ],
             [
              0.2222222222222222,
              "#7201a8"
             ],
             [
              0.3333333333333333,
              "#9c179e"
             ],
             [
              0.4444444444444444,
              "#bd3786"
             ],
             [
              0.5555555555555556,
              "#d8576b"
             ],
             [
              0.6666666666666666,
              "#ed7953"
             ],
             [
              0.7777777777777778,
              "#fb9f3a"
             ],
             [
              0.8888888888888888,
              "#fdca26"
             ],
             [
              1,
              "#f0f921"
             ]
            ],
            "type": "heatmapgl"
           }
          ],
          "histogram": [
           {
            "marker": {
             "pattern": {
              "fillmode": "overlay",
              "size": 10,
              "solidity": 0.2
             }
            },
            "type": "histogram"
           }
          ],
          "histogram2d": [
           {
            "colorbar": {
             "outlinewidth": 0,
             "ticks": ""
            },
            "colorscale": [
             [
              0,
              "#0d0887"
             ],
             [
              0.1111111111111111,
              "#46039f"
             ],
             [
              0.2222222222222222,
              "#7201a8"
             ],
             [
              0.3333333333333333,
              "#9c179e"
             ],
             [
              0.4444444444444444,
              "#bd3786"
             ],
             [
              0.5555555555555556,
              "#d8576b"
             ],
             [
              0.6666666666666666,
              "#ed7953"
             ],
             [
              0.7777777777777778,
              "#fb9f3a"
             ],
             [
              0.8888888888888888,
              "#fdca26"
             ],
             [
              1,
              "#f0f921"
             ]
            ],
            "type": "histogram2d"
           }
          ],
          "histogram2dcontour": [
           {
            "colorbar": {
             "outlinewidth": 0,
             "ticks": ""
            },
            "colorscale": [
             [
              0,
              "#0d0887"
             ],
             [
              0.1111111111111111,
              "#46039f"
             ],
             [
              0.2222222222222222,
              "#7201a8"
             ],
             [
              0.3333333333333333,
              "#9c179e"
             ],
             [
              0.4444444444444444,
              "#bd3786"
             ],
             [
              0.5555555555555556,
              "#d8576b"
             ],
             [
              0.6666666666666666,
              "#ed7953"
             ],
             [
              0.7777777777777778,
              "#fb9f3a"
             ],
             [
              0.8888888888888888,
              "#fdca26"
             ],
             [
              1,
              "#f0f921"
             ]
            ],
            "type": "histogram2dcontour"
           }
          ],
          "mesh3d": [
           {
            "colorbar": {
             "outlinewidth": 0,
             "ticks": ""
            },
            "type": "mesh3d"
           }
          ],
          "parcoords": [
           {
            "line": {
             "colorbar": {
              "outlinewidth": 0,
              "ticks": ""
             }
            },
            "type": "parcoords"
           }
          ],
          "pie": [
           {
            "automargin": true,
            "type": "pie"
           }
          ],
          "scatter": [
           {
            "fillpattern": {
             "fillmode": "overlay",
             "size": 10,
             "solidity": 0.2
            },
            "type": "scatter"
           }
          ],
          "scatter3d": [
           {
            "line": {
             "colorbar": {
              "outlinewidth": 0,
              "ticks": ""
             }
            },
            "marker": {
             "colorbar": {
              "outlinewidth": 0,
              "ticks": ""
             }
            },
            "type": "scatter3d"
           }
          ],
          "scattercarpet": [
           {
            "marker": {
             "colorbar": {
              "outlinewidth": 0,
              "ticks": ""
             }
            },
            "type": "scattercarpet"
           }
          ],
          "scattergeo": [
           {
            "marker": {
             "colorbar": {
              "outlinewidth": 0,
              "ticks": ""
             }
            },
            "type": "scattergeo"
           }
          ],
          "scattergl": [
           {
            "marker": {
             "colorbar": {
              "outlinewidth": 0,
              "ticks": ""
             }
            },
            "type": "scattergl"
           }
          ],
          "scattermapbox": [
           {
            "marker": {
             "colorbar": {
              "outlinewidth": 0,
              "ticks": ""
             }
            },
            "type": "scattermapbox"
           }
          ],
          "scatterpolar": [
           {
            "marker": {
             "colorbar": {
              "outlinewidth": 0,
              "ticks": ""
             }
            },
            "type": "scatterpolar"
           }
          ],
          "scatterpolargl": [
           {
            "marker": {
             "colorbar": {
              "outlinewidth": 0,
              "ticks": ""
             }
            },
            "type": "scatterpolargl"
           }
          ],
          "scatterternary": [
           {
            "marker": {
             "colorbar": {
              "outlinewidth": 0,
              "ticks": ""
             }
            },
            "type": "scatterternary"
           }
          ],
          "surface": [
           {
            "colorbar": {
             "outlinewidth": 0,
             "ticks": ""
            },
            "colorscale": [
             [
              0,
              "#0d0887"
             ],
             [
              0.1111111111111111,
              "#46039f"
             ],
             [
              0.2222222222222222,
              "#7201a8"
             ],
             [
              0.3333333333333333,
              "#9c179e"
             ],
             [
              0.4444444444444444,
              "#bd3786"
             ],
             [
              0.5555555555555556,
              "#d8576b"
             ],
             [
              0.6666666666666666,
              "#ed7953"
             ],
             [
              0.7777777777777778,
              "#fb9f3a"
             ],
             [
              0.8888888888888888,
              "#fdca26"
             ],
             [
              1,
              "#f0f921"
             ]
            ],
            "type": "surface"
           }
          ],
          "table": [
           {
            "cells": {
             "fill": {
              "color": "#EBF0F8"
             },
             "line": {
              "color": "white"
             }
            },
            "header": {
             "fill": {
              "color": "#C8D4E3"
             },
             "line": {
              "color": "white"
             }
            },
            "type": "table"
           }
          ]
         },
         "layout": {
          "annotationdefaults": {
           "arrowcolor": "#2a3f5f",
           "arrowhead": 0,
           "arrowwidth": 1
          },
          "autotypenumbers": "strict",
          "coloraxis": {
           "colorbar": {
            "outlinewidth": 0,
            "ticks": ""
           }
          },
          "colorscale": {
           "diverging": [
            [
             0,
             "#8e0152"
            ],
            [
             0.1,
             "#c51b7d"
            ],
            [
             0.2,
             "#de77ae"
            ],
            [
             0.3,
             "#f1b6da"
            ],
            [
             0.4,
             "#fde0ef"
            ],
            [
             0.5,
             "#f7f7f7"
            ],
            [
             0.6,
             "#e6f5d0"
            ],
            [
             0.7,
             "#b8e186"
            ],
            [
             0.8,
             "#7fbc41"
            ],
            [
             0.9,
             "#4d9221"
            ],
            [
             1,
             "#276419"
            ]
           ],
           "sequential": [
            [
             0,
             "#0d0887"
            ],
            [
             0.1111111111111111,
             "#46039f"
            ],
            [
             0.2222222222222222,
             "#7201a8"
            ],
            [
             0.3333333333333333,
             "#9c179e"
            ],
            [
             0.4444444444444444,
             "#bd3786"
            ],
            [
             0.5555555555555556,
             "#d8576b"
            ],
            [
             0.6666666666666666,
             "#ed7953"
            ],
            [
             0.7777777777777778,
             "#fb9f3a"
            ],
            [
             0.8888888888888888,
             "#fdca26"
            ],
            [
             1,
             "#f0f921"
            ]
           ],
           "sequentialminus": [
            [
             0,
             "#0d0887"
            ],
            [
             0.1111111111111111,
             "#46039f"
            ],
            [
             0.2222222222222222,
             "#7201a8"
            ],
            [
             0.3333333333333333,
             "#9c179e"
            ],
            [
             0.4444444444444444,
             "#bd3786"
            ],
            [
             0.5555555555555556,
             "#d8576b"
            ],
            [
             0.6666666666666666,
             "#ed7953"
            ],
            [
             0.7777777777777778,
             "#fb9f3a"
            ],
            [
             0.8888888888888888,
             "#fdca26"
            ],
            [
             1,
             "#f0f921"
            ]
           ]
          },
          "colorway": [
           "#636efa",
           "#EF553B",
           "#00cc96",
           "#ab63fa",
           "#FFA15A",
           "#19d3f3",
           "#FF6692",
           "#B6E880",
           "#FF97FF",
           "#FECB52"
          ],
          "font": {
           "color": "#2a3f5f"
          },
          "geo": {
           "bgcolor": "white",
           "lakecolor": "white",
           "landcolor": "#E5ECF6",
           "showlakes": true,
           "showland": true,
           "subunitcolor": "white"
          },
          "hoverlabel": {
           "align": "left"
          },
          "hovermode": "closest",
          "mapbox": {
           "style": "light"
          },
          "paper_bgcolor": "white",
          "plot_bgcolor": "#E5ECF6",
          "polar": {
           "angularaxis": {
            "gridcolor": "white",
            "linecolor": "white",
            "ticks": ""
           },
           "bgcolor": "#E5ECF6",
           "radialaxis": {
            "gridcolor": "white",
            "linecolor": "white",
            "ticks": ""
           }
          },
          "scene": {
           "xaxis": {
            "backgroundcolor": "#E5ECF6",
            "gridcolor": "white",
            "gridwidth": 2,
            "linecolor": "white",
            "showbackground": true,
            "ticks": "",
            "zerolinecolor": "white"
           },
           "yaxis": {
            "backgroundcolor": "#E5ECF6",
            "gridcolor": "white",
            "gridwidth": 2,
            "linecolor": "white",
            "showbackground": true,
            "ticks": "",
            "zerolinecolor": "white"
           },
           "zaxis": {
            "backgroundcolor": "#E5ECF6",
            "gridcolor": "white",
            "gridwidth": 2,
            "linecolor": "white",
            "showbackground": true,
            "ticks": "",
            "zerolinecolor": "white"
           }
          },
          "shapedefaults": {
           "line": {
            "color": "#2a3f5f"
           }
          },
          "ternary": {
           "aaxis": {
            "gridcolor": "white",
            "linecolor": "white",
            "ticks": ""
           },
           "baxis": {
            "gridcolor": "white",
            "linecolor": "white",
            "ticks": ""
           },
           "bgcolor": "#E5ECF6",
           "caxis": {
            "gridcolor": "white",
            "linecolor": "white",
            "ticks": ""
           }
          },
          "title": {
           "x": 0.05
          },
          "xaxis": {
           "automargin": true,
           "gridcolor": "white",
           "linecolor": "white",
           "ticks": "",
           "title": {
            "standoff": 15
           },
           "zerolinecolor": "white",
           "zerolinewidth": 2
          },
          "yaxis": {
           "automargin": true,
           "gridcolor": "white",
           "linecolor": "white",
           "ticks": "",
           "title": {
            "standoff": 15
           },
           "zerolinecolor": "white",
           "zerolinewidth": 2
          }
         }
        },
        "xaxis": {
         "anchor": "y",
         "domain": [
          0,
          1
         ],
         "title": {
          "text": "date"
         }
        },
        "yaxis": {
         "anchor": "x",
         "domain": [
          0,
          1
         ],
         "title": {
          "text": "cumulative_cases"
         }
        }
       }
      }
     },
     "metadata": {},
     "output_type": "display_data"
    }
   ],
   "source": [
    "import pandas as pd\n",
    "import seaborn as sns\n",
    "import plotly.express as px\n",
    "\n",
    "from datetime import datetime\n",
    "import matplotlib.pyplot as plt\n",
    "\n",
    "\n",
    "file_path = 'C:/Users/john_/Desktop/TIL PROGRAMMING/TIL6022 - PROJECT FILES/JOHN_FILES/covid_data.csv'\n",
    "df = pd.read_csv(file_path)\n",
    "df = df.rename({\n",
    "    'Date_reported': 'date',\n",
    "    'Country': 'country',\n",
    "    'New_cases': 'new_cases',\n",
    "    'Cumulative_cases': 'cumulative_cases'\n",
    "}, axis=1) \n",
    "df = df.drop(labels=[\n",
    "    'New_deaths', \n",
    "    'Cumulative_deaths', \n",
    "    'Country_code', \n",
    "    'WHO_region'\n",
    "], axis=1)\n",
    "\n",
    "for i in range(len(df)):\n",
    "    k=df.iloc[i,0].split('-')\n",
    "    df.iloc[i,0]=datetime(int(k[0]),int(k[1]),int(k[2]))\n",
    "\n",
    "df_new = (df.groupby(['country', pd.Grouper(key='date', freq='6M')])\n",
    "        .max()\n",
    "        .reset_index())\n",
    "\n",
    "fig = px.line(df_new, x='date', y='cumulative_cases', markers='True', color=\"country\")\n",
    "fig.show()\n"
   ]
  },
  {
   "cell_type": "code",
   "execution_count": null,
   "metadata": {},
   "outputs": [],
   "source": []
  }
 ],
 "metadata": {
  "kernelspec": {
   "display_name": "Python 3 (ipykernel)",
   "language": "python",
   "name": "python3"
  },
  "language_info": {
   "codemirror_mode": {
    "name": "ipython",
    "version": 3
   },
   "file_extension": ".py",
   "mimetype": "text/x-python",
   "name": "python",
   "nbconvert_exporter": "python",
   "pygments_lexer": "ipython3",
   "version": "3.9.13"
  },
  "vscode": {
   "interpreter": {
    "hash": "7dacee54fe26c2f59b3b3689fc2ecbfee387b3b7508fedb8276441f70053673d"
   }
  }
 },
 "nbformat": 4,
 "nbformat_minor": 2
}
